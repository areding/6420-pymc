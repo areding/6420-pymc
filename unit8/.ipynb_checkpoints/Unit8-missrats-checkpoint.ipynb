{
 "cells": [
  {
   "cell_type": "code",
   "execution_count": 1,
   "id": "a63309b2",
   "metadata": {},
   "outputs": [],
   "source": [
    "import arviz as az\n",
    "import numpy as np\n",
    "import pymc as pm\n",
    "from pymc.math import dot, stack, concatenate, exp, invlogit"
   ]
  },
  {
   "cell_type": "markdown",
   "id": "ccfa33d9",
   "metadata": {},
   "source": [
    "# Rats Example with Missing Data*\n",
    "\n",
    "This example goes further into dealing with missing data in PyMC, including in the predictor variables.\n",
    "\n",
    "Adapted from [Unit 8: ratsignorable1.odc](https://raw.githubusercontent.com/areding/6420-pymc/main/original_examples/Codes4Unit8/ratsignorable1.odc), [ratsignorable2.odc](https://raw.githubusercontent.com/areding/6420-pymc/main/original_examples/Codes4Unit8/ratsignorable2.odc), and [ratsinformative.odc](https://raw.githubusercontent.com/areding/6420-pymc/main/original_examples/Codes4Unit8/ratsinformative.odc).\n",
    "\n",
    "Data can be found [here](https://raw.githubusercontent.com/areding/6420-pymc/main/data/rats.txt)."
   ]
  },
  {
   "cell_type": "markdown",
   "id": "99a80d0a",
   "metadata": {},
   "source": [
    "## Problem statement\n",
    "\n",
    "We had a previous example about [dugongs](https://areding.github.io/6420-pymc/Unit6-dugongs.html) that dealt with missing data in the observed data (y values). This example shows how to deal with missing data in the input data (x). It's still pretty easy. You could look at it like creating another likelihood in the model, a very simple one where the observed data is x, and you use a single distribution to fill in the missing values (see ```x_imputed``` in the model below).\n",
    "\n",
    "Original paper [here.](https://www.jstor.org/stable/pdf/2289594.pdf)\n",
    "\n",
    "Gelfand et al 1990 consider the problem of missing data, and delete the last observation of cases 6-10, the last two from 11-20, the last 3 from 21-25 and the last 4 from 26-30.  The appropriate data file is obtained by simply replacing data values by NA (see below). The model specification is unchanged, since the distinction between observed and unobserved quantities is made in the data file and not the model specification."
   ]
  },
  {
   "cell_type": "code",
   "execution_count": 2,
   "id": "4bff621e",
   "metadata": {},
   "outputs": [],
   "source": [
    "x = np.array([8.0, 15.0, 22.0, 29.0, 36.0])"
   ]
  },
  {
   "cell_type": "code",
   "execution_count": 3,
   "id": "91d405a7",
   "metadata": {},
   "outputs": [],
   "source": [
    "# import y data and create mask (missing data is represented as nan in the file)\n",
    "y = np.loadtxt(\"../data/rats.txt\")\n",
    "y = np.nan_to_num(y, nan=-1)  # nan to -1\n",
    "y = np.ma.masked_values(y, value=-1)  # create mask"
   ]
  },
  {
   "cell_type": "markdown",
   "id": "97cf67ff-c761-4106-ba98-20d755cf5631",
   "metadata": {},
   "source": [
    "## Model 1\n",
    "\n",
    "This first model we only have missing data in our response variable (y). Notice that I made the shapes of alpha and beta (30, 1) instead of just 30. This is so that they broadcast correctly when combined (```mu = alpha + beta * x```). The NumPy docs have a helpful [page about broadcasting](https://numpy.org/doc/stable/user/basics.broadcasting.html).\n"
   ]
  },
  {
   "cell_type": "code",
   "execution_count": null,
   "id": "ddac632e",
   "metadata": {
    "tags": [
     "hide-output"
    ]
   },
   "outputs": [
    {
     "name": "stderr",
     "output_type": "stream",
     "text": [
      "/Users/aaron/mambaforge/envs/pymc/lib/python3.11/site-packages/pymc/model/core.py:1317: ImputationWarning: Data in likelihood contains missing values and will be automatically imputed from the sampling distribution.\n",
      "  warnings.warn(impute_message, ImputationWarning)\n",
      "Auto-assigning NUTS sampler...\n",
      "Initializing NUTS using jitter+adapt_diag_grad...\n",
      "Multiprocess sampling (4 chains in 4 jobs)\n",
      "NUTS: [alpha_c, alpha_tau, beta_c, beta_tau, alpha, beta, lik_tau, likelihood_unobserved]\n"
     ]
    },
    {
     "data": {
      "text/html": [
       "\n",
       "<style>\n",
       "    /* Turns off some styling */\n",
       "    progress {\n",
       "        /* gets rid of default border in Firefox and Opera. */\n",
       "        border: none;\n",
       "        /* Needs to be in here for Safari polyfill so background images work as expected. */\n",
       "        background-size: auto;\n",
       "    }\n",
       "    progress:not([value]), progress:not([value])::-webkit-progress-bar {\n",
       "        background: repeating-linear-gradient(45deg, #7e7e7e, #7e7e7e 10px, #5c5c5c 10px, #5c5c5c 20px);\n",
       "    }\n",
       "    .progress-bar-interrupted, .progress-bar-interrupted::-webkit-progress-bar {\n",
       "        background: #F44336;\n",
       "    }\n",
       "</style>\n"
      ],
      "text/plain": [
       "<IPython.core.display.HTML object>"
      ]
     },
     "metadata": {},
     "output_type": "display_data"
    },
    {
     "data": {
      "text/html": [
       "\n",
       "    <div>\n",
       "      <progress value='545' class='' max='36000' style='width:300px; height:20px; vertical-align: middle;'></progress>\n",
       "      1.51% [545/36000 00:02&lt;02:17 Sampling 4 chains, 0 divergences]\n",
       "    </div>\n",
       "    "
      ],
      "text/plain": [
       "<IPython.core.display.HTML object>"
      ]
     },
     "metadata": {},
     "output_type": "display_data"
    }
   ],
   "source": [
    "prior_tau = 1e-4\n",
    "\n",
    "with pm.Model() as m:\n",
    "    # these are hyperpriors, not related to missing data! don't copy this for HW6!!\n",
    "    alpha_c = pm.Normal(\"alpha_c\", 0, tau=prior_tau)\n",
    "    alpha_tau = pm.Gamma(\"alpha_tau\", 0.001, 0.001)\n",
    "    beta_c = pm.Normal(\"beta_c\", 0, tau=prior_tau)\n",
    "    beta_tau = pm.Gamma(\"beta_tau\", 0.001, 0.001)\n",
    "\n",
    "    alpha = pm.Normal(\n",
    "        \"alpha\", alpha_c, tau=alpha_tau, shape=(30, 1)\n",
    "    )  # (30, 1) for broadcasting\n",
    "    beta = pm.Normal(\"beta\", beta_c, tau=beta_tau, shape=(30, 1))\n",
    "    lik_tau = pm.Gamma(\"lik_tau\", 0.001, 0.001)\n",
    "    sigma = pm.Deterministic(\"sigma\", 1 / lik_tau**0.5)\n",
    "\n",
    "    mu = alpha + beta * x\n",
    "\n",
    "    pm.Normal(\"likelihood\", mu, tau=lik_tau, observed=y)\n",
    "\n",
    "    trace = pm.sample(\n",
    "        5000, tune=4000, init=\"jitter+adapt_diag_grad\", target_accept=0.95\n",
    "    )"
   ]
  },
  {
   "cell_type": "code",
   "execution_count": null,
   "id": "c215f8bc",
   "metadata": {
    "tags": []
   },
   "outputs": [],
   "source": [
    "az.summary(\n",
    "    trace,\n",
    "    hdi_prob=0.95,\n",
    "    var_names=[\"alpha_c\", \"alpha_tau\", \"beta_c\", \"beta_tau\", \"sigma\"],\n",
    "    kind=\"stats\",\n",
    ")"
   ]
  },
  {
   "cell_type": "markdown",
   "id": "a5beaab3",
   "metadata": {
    "tags": []
   },
   "source": [
    "## Model 2: Imputing missing predictor variable data\n",
    "\n",
    "This is the same model, except we now have missing x data."
   ]
  },
  {
   "cell_type": "code",
   "execution_count": null,
   "id": "fc7494b1",
   "metadata": {},
   "outputs": [],
   "source": [
    "x_miss = np.array([8.0, 15.0, 22.0, -1, 36.0])\n",
    "x_miss = np.ma.masked_values(x_miss, value=-1)"
   ]
  },
  {
   "cell_type": "code",
   "execution_count": null,
   "id": "f00743b4",
   "metadata": {},
   "outputs": [],
   "source": [
    "x_miss"
   ]
  },
  {
   "cell_type": "code",
   "execution_count": null,
   "id": "3c4be27a",
   "metadata": {
    "tags": [
     "hide-output"
    ]
   },
   "outputs": [],
   "source": [
    "prior_tau = 1e-4\n",
    "\n",
    "with pm.Model() as m:\n",
    "    # these are hyperpriors, not related to missing data! don't copy this for HW6!!\n",
    "    alpha_c = pm.Normal(\"alpha_c\", 0, tau=prior_tau)\n",
    "    alpha_tau = pm.Gamma(\"alpha_tau\", 0.001, 0.001)\n",
    "    beta_c = pm.Normal(\"beta_c\", 0, tau=prior_tau)\n",
    "    beta_tau = pm.Gamma(\"beta_tau\", 0.001, 0.001)\n",
    "\n",
    "    alpha = pm.Normal(\"alpha\", alpha_c, tau=alpha_tau, shape=(30, 1))\n",
    "    beta = pm.Normal(\"beta\", beta_c, tau=beta_tau, shape=(30, 1))\n",
    "    lik_tau = pm.Gamma(\"lik_tau\", 0.001, 0.001)\n",
    "    sigma = pm.Deterministic(\"sigma\", 1 / lik_tau**0.5)\n",
    "\n",
    "    x_imputed = pm.Normal(\"x_imputed\", mu=20, sigma=5, observed=x_miss)\n",
    "\n",
    "    mu = alpha + beta * x_imputed\n",
    "\n",
    "    pm.Normal(\"likelihood\", mu, tau=lik_tau, observed=y)\n",
    "\n",
    "    trace_2 = pm.sample(\n",
    "        5000, tune=4000, init=\"jitter+adapt_diag_grad\", target_accept=0.87\n",
    "    )"
   ]
  },
  {
   "cell_type": "code",
   "execution_count": null,
   "id": "928b4518",
   "metadata": {
    "tags": []
   },
   "outputs": [],
   "source": [
    "az.summary(\n",
    "    trace_2,\n",
    "    hdi_prob=0.95,\n",
    "    var_names=[\"alpha_c\", \"beta_c\", \"alpha_tau\", \"beta_tau\", \"lik_tau\"],\n",
    "    kind=\"stats\",\n",
    ")"
   ]
  },
  {
   "cell_type": "markdown",
   "id": "1b679604",
   "metadata": {},
   "source": [
    "## Model 3: Non-ignorable missingness\n",
    "\n",
    "Probability of missingness increases approx. at a rate of 1% with increasing the weight."
   ]
  },
  {
   "cell_type": "code",
   "execution_count": null,
   "id": "06e3cc6b",
   "metadata": {},
   "outputs": [],
   "source": [
    "y = np.atleast_2d(np.array([177.0, 236.0, 285.0, 350.0, -1]))  # original value was 320\n",
    "y = np.ma.masked_values(y, value=-1)  # create masked array\n",
    "# y.mask is equivalent to the \"miss\" array from the professor's example\n",
    "miss = y.mask\n",
    "x = np.array([8.0, 15.0, 22.0, 29.0, 36.0])"
   ]
  },
  {
   "cell_type": "code",
   "execution_count": null,
   "id": "e747223d",
   "metadata": {
    "tags": [
     "hide-output"
    ]
   },
   "outputs": [],
   "source": [
    "t = 0.1\n",
    "s = 1 / t  # convert BUGS dlogis tau to s for pymc\n",
    "b = np.log(1.01)\n",
    "\n",
    "with pm.Model() as m:\n",
    "    a = pm.Logistic(\"a\", mu=0, s=s)\n",
    "    alpha = pm.Flat(\"alpha\")\n",
    "    beta = pm.Flat(\"beta\")\n",
    "    log_sigma = pm.Flat(\"log_sigma\")\n",
    "    sigma2 = pm.Deterministic(\"sigma2\", exp(2 * log_sigma))\n",
    "    tau = pm.Deterministic(\"tau\", 1 / sigma2)\n",
    "\n",
    "    mu = pm.Deterministic(\"mu\", alpha + beta * x)\n",
    "    y_imputed = pm.Normal(\"likelihood\", mu, tau=tau, observed=y)\n",
    "\n",
    "    p = pm.Deterministic(\"p\", invlogit(a + b * y_imputed))\n",
    "    pm.Bernoulli(\"missing\", p=p, observed=miss)\n",
    "\n",
    "    trace_3 = pm.sample(\n",
    "        5000, tune=4000, init=\"jitter+adapt_diag_grad\", target_accept=0.95\n",
    "    )"
   ]
  },
  {
   "cell_type": "code",
   "execution_count": null,
   "id": "c3e39419",
   "metadata": {},
   "outputs": [],
   "source": [
    "az.summary(trace_3, hdi_prob=0.95, kind=\"stats\")"
   ]
  },
  {
   "cell_type": "code",
   "execution_count": null,
   "id": "ee233ebe",
   "metadata": {},
   "outputs": [],
   "source": [
    "%load_ext watermark\n",
    "%watermark -n -u -v -iv -p pytensor"
   ]
  },
  {
   "cell_type": "code",
   "execution_count": null,
   "id": "66049290",
   "metadata": {},
   "outputs": [],
   "source": []
  }
 ],
 "metadata": {
  "kernelspec": {
   "display_name": "Python 3 (ipykernel)",
   "language": "python",
   "name": "python3"
  },
  "language_info": {
   "codemirror_mode": {
    "name": "ipython",
    "version": 3
   },
   "file_extension": ".py",
   "mimetype": "text/x-python",
   "name": "python",
   "nbconvert_exporter": "python",
   "pygments_lexer": "ipython3",
   "version": "3.11.8"
  }
 },
 "nbformat": 4,
 "nbformat_minor": 5
}
