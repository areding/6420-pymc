{
 "cells": [
  {
   "cell_type": "markdown",
   "id": "a63c1772",
   "metadata": {},
   "source": [
    "# Supplementary Exercises\n",
    "\n",
    "```{warning}\n",
    "This page contains solutions! We recommend attempting each problem before peeking.\n",
    "```"
   ]
  },
  {
   "cell_type": "markdown",
   "id": "7a299dde",
   "metadata": {},
   "source": [
    "## 1. Dukes’ C Colorectal Cancer and Diet Treatment\n",
    "\n",
    "Colorectal cancer is a common cause of death. In the advanced stage of disease, when the disease is first diagnosed in many patients, surgery is the only treatment. Cytotoxic drugs, when given as an adjunct to surgery, do not prevent relapse and do not increase the survival in patients with advanced disease. Interest has been shown, at least by patients, in a nutritional approach to treatment, where diet plays a critical role in the disease management program. In a controlled clinical trial, McIllmurray and Turkie (1987) evaluated the diet treatment in patients with Dukes’ C colorectal cancer. Because the residual tumor mass is small after operation, the relapse rate is high, and no other effective treatment is available. The diet treatment consisted of linolenic acid, an oil extract of the seed from the evening primrose plant *Onagraceae Oenothera biennis* and vitamin E. The data for the treatment and control patients are given below:\n",
    "\n",
    "$$\n",
    "\\begin{array}{|c|c|c|}\n",
    "\\hline\n",
    "\\text{Group} & \\text{Sample Size} & \\text{Survival Time (months)} \\\\\n",
    "\\hline\n",
    "\\text{Treatment (Linoleic acid)} & n_1 = 25 & 1+, 5+, 6, 6, 9+, 10, 10, 10+, 12, 12, 12, 12, 12+, 13+, 15+, 16+, 20+, 24, 24+, 27+, 32, 34+, 36+, 36+, 44+ \\\\\n",
    "\\hline\n",
    "\\text{Control} & n_2 = 24 & 3+, 6, 6, 6, 6, 8, 8, 12, 12, 12+, 15+, 16+, 18+, 18+, 20, 22+, 24, 28+, 28+, 28+, 30, 30+, 33+, 42 \\\\\n",
    "\\hline\n",
    "\\end{array}\n",
    "$$\n",
    "\n",
    "Fit the data with Weibull distribution, taking the treatment/control (1/0) as a covariate. Place noninformative priors on all parameters. Is the linoleic acid treatment beneficial? Comment.\n",
    "\n",
    "```{admonition} Solution\n",
    ":class: tip, dropdown\n",
    "\n",
    "```"
   ]
  },
  {
   "cell_type": "code",
   "execution_count": null,
   "id": "a6d402b7",
   "metadata": {
    "tags": [
     "hide-cell"
    ]
   },
   "outputs": [],
   "source": []
  },
  {
   "cell_type": "markdown",
   "id": "cdff3c9e",
   "metadata": {},
   "source": [
    "\n",
    "## 2. Censored Rayleigh\n",
    "\n",
    "The lifetime (in hours) of a certain sensor has Rayleigh distribution, with survival function\n",
    "\n",
    "$$ \n",
    "S(t) = \\exp\\left(-\\frac{t^2}{2\\lambda}\\right), \\lambda > 0 \n",
    "$$\n",
    "\n",
    "Twelve sensors are placed under test for 100 hours, and the following failure times are recorded: 23, 40, 41, 67, 69, 72, 84, 84, 88, 100+, 100+. Here + denotes a censored time.\n",
    "\n",
    "1. If failure times $ t_1, \\ldots, t_r $ are observed, and $ t_{r+1}, \\ldots, t_n $ are censored, find the Bayes estimator of $ \\lambda $. Use a noninformative gamma prior on $ \\lambda $.\n",
    "2. Evaluate $ S(t) $ for $ t = 60 $ and find 95% Credible Set.\n",
    "\n",
    "The MLE for $ \\lambda $ is\n",
    "\n",
    "$$\n",
    "\\hat{\\lambda} = \\frac{\\sum_{i=1}^{r} t_i^2 + \\sum_{i=r+1}^{n} t_i^2}{2r}\n",
    "$$\n",
    "\n",
    "3. Evaluate the MLE for the given data and comment on closeness to the Bayes estimator in (a).\n",
    "\n",
    "The Rayleigh distribution is not implemented in PyMC. You can try the zero-trick or create a custom distribution.\n",
    "\n",
    "```{admonition} Solution\n",
    ":class: tip, dropdown\n",
    "\n",
    "Solution to be added. Feel free to share yours on Ed Discussion!\n",
    "\n",
    "```\n",
    "\n",
    "\n",
    "\n"
   ]
  },
  {
   "cell_type": "code",
   "execution_count": null,
   "id": "019cb623",
   "metadata": {
    "tags": [
     "hide-cell"
    ]
   },
   "outputs": [],
   "source": []
  },
  {
   "cell_type": "markdown",
   "id": "57368b09",
   "metadata": {},
   "source": [
    "## 3. Stagnant Water with MAR Data\n",
    "\n",
    "Carlin et al (1992) analyzed data on the stagnation of water by piecing together linear parametric forms.\n",
    "\n",
    "- $ y_i $ is the log flow rate down the channel.\n",
    "- $ x_i $ is the log height of stagnant surface levels for different surfactants $ i $.\n",
    "\n",
    "The proposed model is:\n",
    "\n",
    "\\begin{align*}\n",
    "y_i &\\sim N(\\mu_i, \\sigma^2) \\\\\n",
    "\\mu_i &= \\alpha + \\beta_1 \\cdot x_i + \\beta_2 \\cdot (x_i - \\theta)_{+}\n",
    "\\end{align*}\n",
    "\n",
    "Here, $ (a)_{+} $ is $ a $ if $ a \\geq 0 $ and 0 if $ a < 0 $.\n",
    "\n",
    "According to this model, the regression slope is $ \\beta_1 $ for $ x < \\theta $ and $ \\beta_1 + \\beta_2 $ for $ x \\geq \\theta $. The original exercise is modified to have two $ y $'s and two $ x $'s missing at random.\n",
    "\n",
    "#### Reference\n",
    "1. Carlin, B. P., Gelfand, A. E., & Smith, A. F. M. (1992). Hierarchical Bayesian Analysis of Changepoint Problems. *Journal of the Royal Statistical Society. Series C (Applied Statistics)*, 41(2), 389-405.\n",
    "```{admonition} Solution\n",
    ":class: tip, dropdown\n",
    "\n",
    "Solution to be added. Feel free to share yours on Ed Discussion!\n",
    "\n",
    "```"
   ]
  },
  {
   "cell_type": "code",
   "execution_count": null,
   "id": "95c9385d",
   "metadata": {
    "tags": [
     "hide-cell"
    ]
   },
   "outputs": [],
   "source": []
  }
 ],
 "metadata": {
  "jupytext": {
   "cell_metadata_filter": "-all",
   "formats": "ipynb,py,md"
  },
  "kernelspec": {
   "display_name": "Python 3 (ipykernel)",
   "language": "python",
   "name": "python3"
  },
  "language_info": {
   "codemirror_mode": {
    "name": "ipython",
    "version": 3
   },
   "file_extension": ".py",
   "mimetype": "text/x-python",
   "name": "python",
   "nbconvert_exporter": "python",
   "pygments_lexer": "ipython3",
   "version": "3.11.8"
  }
 },
 "nbformat": 4,
 "nbformat_minor": 5
}
