{
 "cells": [
  {
   "cell_type": "code",
   "execution_count": 16,
   "id": "4cb945e4",
   "metadata": {},
   "outputs": [],
   "source": [
    "import pymc as pm\n",
    "import numpy as np\n",
    "import arviz as az\n",
    "import pandas as pd\n",
    "from pytensor.tensor.subtensor import set_subtensor\n",
    "import pytensor.tensor as pt\n",
    "import matplotlib.pyplot as plt"
   ]
  },
  {
   "cell_type": "markdown",
   "id": "c34c58ba",
   "metadata": {},
   "source": [
    "# Prediction of Time Series*\n",
    "\n",
    "Adapted from [Unit 10: sunspots.odc](https://raw.githubusercontent.com/areding/6420-pymc/main/original_examples/Codes4Unit10/sunspots.odc).\n",
    "\n",
    "Data can be found [here](https://raw.githubusercontent.com/areding/6420-pymc/main/data/sunspots.txt)."
   ]
  },
  {
   "cell_type": "markdown",
   "id": "9dab879e",
   "metadata": {},
   "source": [
    "## Problem statement\n",
    "\n",
    "Sunspot numbers observed each year from 1770 to 1869. \n",
    "\n",
    "BUGS Book Page 258."
   ]
  },
  {
   "cell_type": "code",
   "execution_count": 17,
   "id": "5e771bb4",
   "metadata": {},
   "outputs": [],
   "source": [
    "y = np.loadtxt(\"../data/sunspots.txt\")"
   ]
  },
  {
   "cell_type": "code",
   "execution_count": 18,
   "id": "904ac83b",
   "metadata": {},
   "outputs": [
    {
     "data": {
      "text/plain": [
       "array([100.8,  81.6,  66.5,  34.8,  30.6,   7. ,  19.8,  92.5, 154.4,\n",
       "       125.9,  84.8,  68.1,  38.5,  22.8,  10.2,  24.1,  82.9, 132. ,\n",
       "       130.9, 118.1,  89.9,  66.6,  60. ,  46.9,  41. ,  21.3,  16. ,\n",
       "         6.4,   4.1,   6.8,  14.5,  34. ,  45. ,  43.1,  47.5,  42.2,\n",
       "        28.1,  10.1,   8.1,   2.5,   0. ,   1.4,   5. ,  12.2,  13.9,\n",
       "        35.4,  45.8,  41.1,  30.4,  23.9,  15.7,   6.6,   4. ,   1.8,\n",
       "         8.5,  16.6,  36.3,  49.7,  62.5,  67. ,  71. ,  47.8,  27.5,\n",
       "         8.5,  13.2,  56.9, 121.5, 138.3, 103.2,  85.8,  63.2,  36.8,\n",
       "        24.2,  10.7,  15. ,  40.1,  61.5,  98.5, 124.3,  95.9,  66.5,\n",
       "        64.5,  54.2,  39. ,  20.6,   6.7,   4.3,  22.8,  54.8,  93.8,\n",
       "        95.7,  77.2,  59.1,  44. ,  47. ,  30.5,  16.3,   7.3,  37.3,\n",
       "        73.9])"
      ]
     },
     "execution_count": 18,
     "metadata": {},
     "output_type": "execute_result"
    }
   ],
   "source": [
    "y"
   ]
  },
  {
   "cell_type": "code",
   "execution_count": 19,
   "id": "e1124f98",
   "metadata": {},
   "outputs": [],
   "source": [
    "t = np.array(range(100))\n",
    "yr = t + 1770"
   ]
  },
  {
   "cell_type": "markdown",
   "id": "18f10795",
   "metadata": {},
   "source": [
    "## Model 1"
   ]
  },
  {
   "cell_type": "code",
   "execution_count": 20,
   "id": "40a0bd3c",
   "metadata": {
    "tags": [
     "hide-output"
    ]
   },
   "outputs": [
    {
     "name": "stderr",
     "output_type": "stream",
     "text": [
      "Auto-assigning NUTS sampler...\n",
      "Initializing NUTS using jitter+adapt_diag...\n",
      "Multiprocess sampling (4 chains in 4 jobs)\n",
      "NUTS: [eps_0, theta, c, sigma]\n",
      "/Users/aaron/mambaforge/envs/pymc/lib/python3.11/multiprocessing/popen_fork.py:66: RuntimeWarning: os.fork() was called. os.fork() is incompatible with multithreaded code, and JAX is multithreaded, so this will likely lead to a deadlock.\n",
      "  self.pid = os.fork()\n"
     ]
    },
    {
     "data": {
      "application/vnd.jupyter.widget-view+json": {
       "model_id": "caa4700afdd5489e9d37c305e9da62a3",
       "version_major": 2,
       "version_minor": 0
      },
      "text/plain": [
       "Output()"
      ]
     },
     "metadata": {},
     "output_type": "display_data"
    },
    {
     "name": "stderr",
     "output_type": "stream",
     "text": [
      "/Users/aaron/mambaforge/envs/pymc/lib/python3.11/multiprocessing/popen_fork.py:66: RuntimeWarning: os.fork() was called. os.fork() is incompatible with multithreaded code, and JAX is multithreaded, so this will likely lead to a deadlock.\n",
      "  self.pid = os.fork()\n"
     ]
    },
    {
     "data": {
      "text/html": [
       "<pre style=\"white-space:pre;overflow-x:auto;line-height:normal;font-family:Menlo,'DejaVu Sans Mono',consolas,'Courier New',monospace\"></pre>\n"
      ],
      "text/plain": []
     },
     "metadata": {},
     "output_type": "display_data"
    },
    {
     "name": "stderr",
     "output_type": "stream",
     "text": [
      "Sampling 4 chains for 1_000 tune and 3_000 draw iterations (4_000 + 12_000 draws total) took 3 seconds.\n"
     ]
    }
   ],
   "source": [
    "with pm.Model() as m1:\n",
    "\n",
    "    eps_0 = pm.Normal(\"eps_0\", 0, tau=0.0001)\n",
    "\n",
    "    theta = pm.Normal(\"theta\", 0, tau=0.0001)\n",
    "    c = pm.Normal(\"c\", 0, tau=0.0001)\n",
    "    sigma = pm.Uniform(\"sigma\", 0, 100)\n",
    "    tau = 1 / (sigma**2)\n",
    "\n",
    "    _m = c + theta * pt.roll(y, shift=-1)[:-1]\n",
    "    m = set_subtensor(_m[0], y[0] - eps_0)\n",
    "\n",
    "    _eps = y - m\n",
    "    eps = set_subtensor(_eps[0], eps_0)\n",
    "\n",
    "    pm.Normal(\"likelihood\", mu=m, tau=tau, observed=y[:-1])\n",
    "\n",
    "    trace = pm.sample(3000)"
   ]
  },
  {
   "cell_type": "code",
   "execution_count": 21,
   "id": "415de766",
   "metadata": {},
   "outputs": [
    {
     "data": {
      "text/html": [
       "<div>\n",
       "<style scoped>\n",
       "    .dataframe tbody tr th:only-of-type {\n",
       "        vertical-align: middle;\n",
       "    }\n",
       "\n",
       "    .dataframe tbody tr th {\n",
       "        vertical-align: top;\n",
       "    }\n",
       "\n",
       "    .dataframe thead th {\n",
       "        text-align: right;\n",
       "    }\n",
       "</style>\n",
       "<table border=\"1\" class=\"dataframe\">\n",
       "  <thead>\n",
       "    <tr style=\"text-align: right;\">\n",
       "      <th></th>\n",
       "      <th>mean</th>\n",
       "      <th>sd</th>\n",
       "      <th>hdi_3%</th>\n",
       "      <th>hdi_97%</th>\n",
       "      <th>mcse_mean</th>\n",
       "      <th>mcse_sd</th>\n",
       "      <th>ess_bulk</th>\n",
       "      <th>ess_tail</th>\n",
       "      <th>r_hat</th>\n",
       "    </tr>\n",
       "  </thead>\n",
       "  <tbody>\n",
       "    <tr>\n",
       "      <th>eps_0</th>\n",
       "      <td>-0.014</td>\n",
       "      <td>21.310</td>\n",
       "      <td>-40.006</td>\n",
       "      <td>39.924</td>\n",
       "      <td>0.209</td>\n",
       "      <td>0.201</td>\n",
       "      <td>10412.0</td>\n",
       "      <td>7932.0</td>\n",
       "      <td>1.0</td>\n",
       "    </tr>\n",
       "    <tr>\n",
       "      <th>theta</th>\n",
       "      <td>0.817</td>\n",
       "      <td>0.060</td>\n",
       "      <td>0.710</td>\n",
       "      <td>0.937</td>\n",
       "      <td>0.001</td>\n",
       "      <td>0.000</td>\n",
       "      <td>8147.0</td>\n",
       "      <td>7845.0</td>\n",
       "      <td>1.0</td>\n",
       "    </tr>\n",
       "    <tr>\n",
       "      <th>c</th>\n",
       "      <td>8.501</td>\n",
       "      <td>3.579</td>\n",
       "      <td>1.758</td>\n",
       "      <td>15.201</td>\n",
       "      <td>0.040</td>\n",
       "      <td>0.029</td>\n",
       "      <td>8081.0</td>\n",
       "      <td>7731.0</td>\n",
       "      <td>1.0</td>\n",
       "    </tr>\n",
       "    <tr>\n",
       "      <th>sigma</th>\n",
       "      <td>21.953</td>\n",
       "      <td>1.595</td>\n",
       "      <td>19.064</td>\n",
       "      <td>24.962</td>\n",
       "      <td>0.015</td>\n",
       "      <td>0.011</td>\n",
       "      <td>10940.0</td>\n",
       "      <td>8973.0</td>\n",
       "      <td>1.0</td>\n",
       "    </tr>\n",
       "  </tbody>\n",
       "</table>\n",
       "</div>"
      ],
      "text/plain": [
       "         mean      sd  hdi_3%  hdi_97%  mcse_mean  mcse_sd  ess_bulk  \\\n",
       "eps_0  -0.014  21.310 -40.006   39.924      0.209    0.201   10412.0   \n",
       "theta   0.817   0.060   0.710    0.937      0.001    0.000    8147.0   \n",
       "c       8.501   3.579   1.758   15.201      0.040    0.029    8081.0   \n",
       "sigma  21.953   1.595  19.064   24.962      0.015    0.011   10940.0   \n",
       "\n",
       "       ess_tail  r_hat  \n",
       "eps_0    7932.0    1.0  \n",
       "theta    7845.0    1.0  \n",
       "c        7731.0    1.0  \n",
       "sigma    8973.0    1.0  "
      ]
     },
     "execution_count": 21,
     "metadata": {},
     "output_type": "execute_result"
    }
   ],
   "source": [
    "az.summary(trace)"
   ]
  },
  {
   "cell_type": "markdown",
   "id": "91fa9c17",
   "metadata": {},
   "source": [
    "## Model 1 using built in AR(1)\n"
   ]
  },
  {
   "cell_type": "code",
   "execution_count": 22,
   "id": "fea5852a",
   "metadata": {
    "tags": [
     "hide-output"
    ]
   },
   "outputs": [
    {
     "name": "stderr",
     "output_type": "stream",
     "text": [
      "/Users/aaron/mambaforge/envs/pymc/lib/python3.11/site-packages/pymc/distributions/timeseries.py:621: UserWarning: Initial distribution not specified, defaulting to `Normal.dist(0, 100, shape=...)`. You can specify an init_dist manually to suppress this warning.\n",
      "  warnings.warn(\n",
      "Auto-assigning NUTS sampler...\n",
      "Initializing NUTS using jitter+adapt_diag...\n",
      "Multiprocess sampling (4 chains in 4 jobs)\n",
      "NUTS: [rho, sigma]\n",
      "/Users/aaron/mambaforge/envs/pymc/lib/python3.11/multiprocessing/popen_fork.py:66: RuntimeWarning: os.fork() was called. os.fork() is incompatible with multithreaded code, and JAX is multithreaded, so this will likely lead to a deadlock.\n",
      "  self.pid = os.fork()\n"
     ]
    },
    {
     "data": {
      "application/vnd.jupyter.widget-view+json": {
       "model_id": "e641317c5003444fa3ebcf8c8c8abac9",
       "version_major": 2,
       "version_minor": 0
      },
      "text/plain": [
       "Output()"
      ]
     },
     "metadata": {},
     "output_type": "display_data"
    },
    {
     "name": "stderr",
     "output_type": "stream",
     "text": [
      "/Users/aaron/mambaforge/envs/pymc/lib/python3.11/multiprocessing/popen_fork.py:66: RuntimeWarning: os.fork() was called. os.fork() is incompatible with multithreaded code, and JAX is multithreaded, so this will likely lead to a deadlock.\n",
      "  self.pid = os.fork()\n"
     ]
    },
    {
     "data": {
      "text/html": [
       "<pre style=\"white-space:pre;overflow-x:auto;line-height:normal;font-family:Menlo,'DejaVu Sans Mono',consolas,'Courier New',monospace\"></pre>\n"
      ],
      "text/plain": []
     },
     "metadata": {},
     "output_type": "display_data"
    },
    {
     "name": "stderr",
     "output_type": "stream",
     "text": [
      "Sampling 4 chains for 1_000 tune and 3_000 draw iterations (4_000 + 12_000 draws total) took 2 seconds.\n"
     ]
    }
   ],
   "source": [
    "with pm.Model() as m1_ar:\n",
    "\n",
    "    rho = pm.Normal(\n",
    "        \"rho\", 0, tau=0.0001, shape=2\n",
    "    )  # shape of rho determines AR order\n",
    "    sigma = pm.Uniform(\"sigma\", 0, 100)\n",
    "\n",
    "    # constant=True means rho[0] is the constant term (c from BUGS model)\n",
    "    pm.AR(\"likelihood\", rho=rho, sigma=sigma, constant=True, observed=y)\n",
    "\n",
    "    trace = pm.sample(3000)"
   ]
  },
  {
   "cell_type": "code",
   "execution_count": 23,
   "id": "856e9aa9",
   "metadata": {},
   "outputs": [
    {
     "data": {
      "text/html": [
       "<div>\n",
       "<style scoped>\n",
       "    .dataframe tbody tr th:only-of-type {\n",
       "        vertical-align: middle;\n",
       "    }\n",
       "\n",
       "    .dataframe tbody tr th {\n",
       "        vertical-align: top;\n",
       "    }\n",
       "\n",
       "    .dataframe thead th {\n",
       "        text-align: right;\n",
       "    }\n",
       "</style>\n",
       "<table border=\"1\" class=\"dataframe\">\n",
       "  <thead>\n",
       "    <tr style=\"text-align: right;\">\n",
       "      <th></th>\n",
       "      <th>mean</th>\n",
       "      <th>sd</th>\n",
       "      <th>hdi_3%</th>\n",
       "      <th>hdi_97%</th>\n",
       "      <th>mcse_mean</th>\n",
       "      <th>mcse_sd</th>\n",
       "      <th>ess_bulk</th>\n",
       "      <th>ess_tail</th>\n",
       "      <th>r_hat</th>\n",
       "    </tr>\n",
       "  </thead>\n",
       "  <tbody>\n",
       "    <tr>\n",
       "      <th>rho[0]</th>\n",
       "      <td>8.721</td>\n",
       "      <td>3.572</td>\n",
       "      <td>2.070</td>\n",
       "      <td>15.458</td>\n",
       "      <td>0.049</td>\n",
       "      <td>0.036</td>\n",
       "      <td>5346.0</td>\n",
       "      <td>5707.0</td>\n",
       "      <td>1.0</td>\n",
       "    </tr>\n",
       "    <tr>\n",
       "      <th>rho[1]</th>\n",
       "      <td>0.808</td>\n",
       "      <td>0.060</td>\n",
       "      <td>0.694</td>\n",
       "      <td>0.920</td>\n",
       "      <td>0.001</td>\n",
       "      <td>0.001</td>\n",
       "      <td>5248.0</td>\n",
       "      <td>5349.0</td>\n",
       "      <td>1.0</td>\n",
       "    </tr>\n",
       "    <tr>\n",
       "      <th>sigma</th>\n",
       "      <td>21.814</td>\n",
       "      <td>1.601</td>\n",
       "      <td>18.806</td>\n",
       "      <td>24.781</td>\n",
       "      <td>0.019</td>\n",
       "      <td>0.013</td>\n",
       "      <td>7213.0</td>\n",
       "      <td>7306.0</td>\n",
       "      <td>1.0</td>\n",
       "    </tr>\n",
       "  </tbody>\n",
       "</table>\n",
       "</div>"
      ],
      "text/plain": [
       "          mean     sd  hdi_3%  hdi_97%  mcse_mean  mcse_sd  ess_bulk  \\\n",
       "rho[0]   8.721  3.572   2.070   15.458      0.049    0.036    5346.0   \n",
       "rho[1]   0.808  0.060   0.694    0.920      0.001    0.001    5248.0   \n",
       "sigma   21.814  1.601  18.806   24.781      0.019    0.013    7213.0   \n",
       "\n",
       "        ess_tail  r_hat  \n",
       "rho[0]    5707.0    1.0  \n",
       "rho[1]    5349.0    1.0  \n",
       "sigma     7306.0    1.0  "
      ]
     },
     "execution_count": 23,
     "metadata": {},
     "output_type": "execute_result"
    }
   ],
   "source": [
    "az.summary(trace)"
   ]
  },
  {
   "cell_type": "markdown",
   "id": "2b625d70",
   "metadata": {},
   "source": [
    "## Prediction Step\n",
    "\n",
    "We have our model, now we forecast the next 10 years:\n"
   ]
  },
  {
   "cell_type": "code",
   "execution_count": 24,
   "id": "a3eb3049",
   "metadata": {},
   "outputs": [],
   "source": [
    "# Forecast 10 years ahead\n",
    "n_fcast = 10\n",
    "y_fcast = np.zeros(n_fcast + 2)\n",
    "y_fcast[:2] = y[-2:]\n",
    "\n",
    "# Extract the mean of the posterior for rho (AR(1) model)\n",
    "rho_mean = trace.posterior[\"rho\"].mean(axis=(0, 1)).values\n",
    "\n",
    "# Forecast based on the last observed point for AR(1)\n",
    "for i in range(1, n_fcast + 2):\n",
    "    y_fcast[i] = rho_mean[0] + rho_mean[1] * y_fcast[i - 1]\n",
    "\n",
    "y_forecast = y_fcast[2:]\n",
    "\n",
    "# Extend the year array for the forecast period\n",
    "t_fcast = np.arange(yr[-1] + 1, yr[-1] + 1 + n_fcast)"
   ]
  },
  {
   "cell_type": "code",
   "execution_count": 25,
   "id": "be5f9879",
   "metadata": {},
   "outputs": [
    {
     "data": {
      "image/png": "[encoded data removed]",
      "text/plain": [
       "<Figure size 1000x600 with 1 Axes>"
      ]
     },
     "metadata": {},
     "output_type": "display_data"
    }
   ],
   "source": [
    "# Plot the original time series with the forecast\n",
    "\n",
    "plt.figure(figsize=(10, 6))\n",
    "plt.plot(yr, y, label=\"Original Sunspot Data\", color=\"blue\")\n",
    "plt.plot(t_fcast, y_forecast, label=\"Forecasted Data\", color=\"red\")\n",
    "plt.xlabel(\"Year\")\n",
    "plt.ylabel(\"Number of Sunspots\")\n",
    "plt.legend()\n",
    "plt.title(\"Sunspot Time Series Forecast\")\n",
    "plt.show()"
   ]
  },
  {
   "cell_type": "markdown",
   "id": "0fc3c4b4",
   "metadata": {},
   "source": [
    "## Model 2: ARMA(2,1)\n",
    "\n",
    "Because the forecast only utilizes the last value to forecast, we will enhance the model by adding another AR term, as well as a Moving Average (MA) term.\n",
    "\n",
    "We use pymc_experimental.BayesianSARIMA to achieve this. As of 9/16/2024, this functionality is still in the experimentation repo, however it allows for a greatly reduced codebase. Coding an ARMA(2,1) method from scratch is lengthy. See [here](https://www.pymc.io/projects/experimental/en/latest/_modules/pymc_experimental/statespace/models/SARIMAX.html#BayesianSARIMA.__init__) for documentation."
   ]
  },
  {
   "cell_type": "code",
   "execution_count": 26,
   "id": "05ff5307",
   "metadata": {
    "tags": [
     "hide-output"
    ]
   },
   "outputs": [
    {
     "name": "stderr",
     "output_type": "stream",
     "text": [
      "The following parameters should be assigned priors inside a PyMC model block: \n",
      "\tar_params -- shape: (2,), constraints: None, dims: ('ar_lag',)\n",
      "\tma_params -- shape: (1,), constraints: None, dims: ('ma_lag',)\n",
      "\tsigma_state -- shape: None, constraints: Positive, dims: ()\n",
      "/Users/aaron/mambaforge/envs/pymc/lib/python3.11/site-packages/pymc_experimental/statespace/utils/data_tools.py:74: UserWarning: No time index found on the supplied data. A simple range index will be automatically generated.\n",
      "  warnings.warn(NO_TIME_INDEX_WARNING)\n"
     ]
    },
    {
     "data": {
      "application/vnd.jupyter.widget-view+json": {
       "model_id": "9f4c20567d3a4454a94b5c1ec37ae354",
       "version_major": 2,
       "version_minor": 0
      },
      "text/plain": [
       "  0%|          | 0/2000 [00:00<?, ?it/s]"
      ]
     },
     "metadata": {},
     "output_type": "display_data"
    },
    {
     "data": {
      "application/vnd.jupyter.widget-view+json": {
       "model_id": "f5ed3a1f4e2f434cb8d44f863fe173ba",
       "version_major": 2,
       "version_minor": 0
      },
      "text/plain": [
       "  0%|          | 0/2000 [00:00<?, ?it/s]"
      ]
     },
     "metadata": {},
     "output_type": "display_data"
    },
    {
     "data": {
      "application/vnd.jupyter.widget-view+json": {
       "model_id": "3d69f80dff1c4ec4b0ce08c08706a890",
       "version_major": 2,
       "version_minor": 0
      },
      "text/plain": [
       "  0%|          | 0/2000 [00:00<?, ?it/s]"
      ]
     },
     "metadata": {},
     "output_type": "display_data"
    },
    {
     "data": {
      "application/vnd.jupyter.widget-view+json": {
       "model_id": "4c7aaf02dbc3482a994f1ef8bfe71268",
       "version_major": 2,
       "version_minor": 0
      },
      "text/plain": [
       "  0%|          | 0/2000 [00:00<?, ?it/s]"
      ]
     },
     "metadata": {},
     "output_type": "display_data"
    }
   ],
   "source": [
    "import pymc_experimental.statespace as pmss\n",
    "import pymc as pm\n",
    "import pymc.sampling_jax as pjax\n",
    "\n",
    "# As BayesianSARIMA does not include an intercept term,\n",
    "# we can force it by centering the data\n",
    "\n",
    "y_mean = y.mean()\n",
    "y_centered = y - y_mean\n",
    "y2 = y_centered.reshape(-1, 1)\n",
    "\n",
    "# ARMA(2,1) model\n",
    "ss_mod = pmss.BayesianSARIMA(order=(2, 0, 1), verbose=True)\n",
    "\n",
    "with pm.Model(coords=ss_mod.coords) as arma_model:\n",
    "\n",
    "    # Priors\n",
    "    state_sigmas = pm.Uniform(\n",
    "        \"sigma_state\", 0, 100, dims=ss_mod.param_dims[\"sigma_state\"]\n",
    "    )\n",
    "    ar_params = pm.Normal(\n",
    "        \"ar_params\", 0, tau=0.0001, dims=ss_mod.param_dims[\"ar_params\"]\n",
    "    )\n",
    "    ma_params = pm.Normal(\n",
    "        \"ma_params\", 0, tau=0.0001, dims=ss_mod.param_dims[\"ma_params\"]\n",
    "    )\n",
    "\n",
    "    # Build Statespace Model\n",
    "    ss_mod.build_statespace_graph(y2, mode=\"JAX\")\n",
    "\n",
    "    # Inference Data\n",
    "    trace = pm.sample(nuts_sampler=\"numpyro\", target_accept=0.9)"
   ]
  },
  {
   "cell_type": "code",
   "execution_count": 27,
   "id": "82f94668",
   "metadata": {},
   "outputs": [
    {
     "data": {
      "text/html": [
       "<div>\n",
       "<style scoped>\n",
       "    .dataframe tbody tr th:only-of-type {\n",
       "        vertical-align: middle;\n",
       "    }\n",
       "\n",
       "    .dataframe tbody tr th {\n",
       "        vertical-align: top;\n",
       "    }\n",
       "\n",
       "    .dataframe thead th {\n",
       "        text-align: right;\n",
       "    }\n",
       "</style>\n",
       "<table border=\"1\" class=\"dataframe\">\n",
       "  <thead>\n",
       "    <tr style=\"text-align: right;\">\n",
       "      <th></th>\n",
       "      <th>mean</th>\n",
       "      <th>sd</th>\n",
       "      <th>hdi_3%</th>\n",
       "      <th>hdi_97%</th>\n",
       "      <th>mcse_mean</th>\n",
       "      <th>mcse_sd</th>\n",
       "      <th>ess_bulk</th>\n",
       "      <th>ess_tail</th>\n",
       "      <th>r_hat</th>\n",
       "    </tr>\n",
       "  </thead>\n",
       "  <tbody>\n",
       "    <tr>\n",
       "      <th>ar_params[1]</th>\n",
       "      <td>1.217</td>\n",
       "      <td>0.118</td>\n",
       "      <td>0.987</td>\n",
       "      <td>1.430</td>\n",
       "      <td>0.003</td>\n",
       "      <td>0.002</td>\n",
       "      <td>1364.0</td>\n",
       "      <td>1179.0</td>\n",
       "      <td>1.0</td>\n",
       "    </tr>\n",
       "    <tr>\n",
       "      <th>ar_params[2]</th>\n",
       "      <td>-0.551</td>\n",
       "      <td>0.112</td>\n",
       "      <td>-0.761</td>\n",
       "      <td>-0.341</td>\n",
       "      <td>0.003</td>\n",
       "      <td>0.002</td>\n",
       "      <td>1373.0</td>\n",
       "      <td>1128.0</td>\n",
       "      <td>1.0</td>\n",
       "    </tr>\n",
       "    <tr>\n",
       "      <th>ma_params[1]</th>\n",
       "      <td>0.378</td>\n",
       "      <td>0.139</td>\n",
       "      <td>0.108</td>\n",
       "      <td>0.627</td>\n",
       "      <td>0.003</td>\n",
       "      <td>0.003</td>\n",
       "      <td>1557.0</td>\n",
       "      <td>1720.0</td>\n",
       "      <td>1.0</td>\n",
       "    </tr>\n",
       "    <tr>\n",
       "      <th>sigma_state</th>\n",
       "      <td>15.056</td>\n",
       "      <td>1.090</td>\n",
       "      <td>13.067</td>\n",
       "      <td>17.173</td>\n",
       "      <td>0.024</td>\n",
       "      <td>0.017</td>\n",
       "      <td>2182.0</td>\n",
       "      <td>1677.0</td>\n",
       "      <td>1.0</td>\n",
       "    </tr>\n",
       "  </tbody>\n",
       "</table>\n",
       "</div>"
      ],
      "text/plain": [
       "                mean     sd  hdi_3%  hdi_97%  mcse_mean  mcse_sd  ess_bulk  \\\n",
       "ar_params[1]   1.217  0.118   0.987    1.430      0.003    0.002    1364.0   \n",
       "ar_params[2]  -0.551  0.112  -0.761   -0.341      0.003    0.002    1373.0   \n",
       "ma_params[1]   0.378  0.139   0.108    0.627      0.003    0.003    1557.0   \n",
       "sigma_state   15.056  1.090  13.067   17.173      0.024    0.017    2182.0   \n",
       "\n",
       "              ess_tail  r_hat  \n",
       "ar_params[1]    1179.0    1.0  \n",
       "ar_params[2]    1128.0    1.0  \n",
       "ma_params[1]    1720.0    1.0  \n",
       "sigma_state     1677.0    1.0  "
      ]
     },
     "execution_count": 27,
     "metadata": {},
     "output_type": "execute_result"
    }
   ],
   "source": [
    "az.summary(trace)"
   ]
  },
  {
   "cell_type": "code",
   "execution_count": 28,
   "id": "03ed468a",
   "metadata": {},
   "outputs": [
    {
     "data": {
      "image/png": "[encoded data removed]",
      "text/plain": [
       "<Figure size 1000x600 with 1 Axes>"
      ]
     },
     "metadata": {},
     "output_type": "display_data"
    }
   ],
   "source": [
    "# Means of AR, MA, and Sigma\n",
    "ar_mean = trace.posterior[\"ar_params\"].mean(dim=(\"chain\", \"draw\")).values\n",
    "ma_mean = trace.posterior[\"ma_params\"].mean(dim=(\"chain\", \"draw\")).values\n",
    "sigma_mean = trace.posterior[\"sigma_state\"].mean(dim=(\"chain\", \"draw\")).values\n",
    "\n",
    "# Residuals\n",
    "epsilon_fcast = np.zeros(n_fcast + 2)\n",
    "epsilon_fcast[:2] = 0\n",
    "\n",
    "# Forecast 10 periods ahead\n",
    "n_fcast = 10\n",
    "y_fcast = np.zeros(n_fcast + 2)\n",
    "y_fcast[:2] = y_centered[-2:]\n",
    "\n",
    "for i in range(2, n_fcast + 2):\n",
    "\n",
    "    # Future error term\n",
    "    epsilon_t = 0\n",
    "    y_fcast[i] = (\n",
    "        ar_mean[0] * y_fcast[i - 1]\n",
    "        + ar_mean[1] * y_fcast[i - 2]\n",
    "        + ma_mean[0] * epsilon_fcast[i - 1]\n",
    "        + epsilon_t\n",
    "    )\n",
    "\n",
    "    # Update the error term\n",
    "    epsilon_fcast[i] = epsilon_t\n",
    "\n",
    "y_forecast = y_fcast[2:] + y_mean  # Add the mean back\n",
    "t_fcast = np.arange(yr[-1] + 1, yr[-1] + 1 + n_fcast)\n",
    "\n",
    "# Plotting\n",
    "plt.figure(figsize=(10, 6))\n",
    "plt.plot(yr, y, label=\"Original Sunspot Data\", color=\"blue\")\n",
    "plt.plot(\n",
    "    t_fcast, y_forecast, label=\"Forecasted Data with ARMA(2,1)\", color=\"red\"\n",
    ")\n",
    "plt.xlabel(\"Year\")\n",
    "plt.ylabel(\"Number of Sunspots\")\n",
    "plt.legend()\n",
    "plt.title(\"Sunspot Time Series Forecast\")\n",
    "plt.show()"
   ]
  },
  {
   "cell_type": "markdown",
   "id": "633c2c7d",
   "metadata": {},
   "source": [
    "Written by Taylor Bosier and Aaron Reding."
   ]
  },
  {
   "cell_type": "code",
   "execution_count": 29,
   "id": "a59b071b",
   "metadata": {},
   "outputs": [
    {
     "name": "stdout",
     "output_type": "stream",
     "text": [
      "The watermark extension is already loaded. To reload it, use:\n",
      "  %reload_ext watermark\n",
      "Last updated: Wed Sep 18 2024\n",
      "\n",
      "Python implementation: CPython\n",
      "Python version       : 3.11.8\n",
      "IPython version      : 8.22.2\n",
      "\n",
      "pytensor: 2.25.4\n",
      "\n",
      "matplotlib       : 3.8.3\n",
      "pytensor         : 2.25.4\n",
      "pandas           : 2.2.1\n",
      "arviz            : 0.17.1\n",
      "pymc_experimental: 0.1.2\n",
      "pymc             : 5.16.2\n",
      "numpy            : 1.26.4\n",
      "\n"
     ]
    }
   ],
   "source": [
    "%load_ext watermark\n",
    "%watermark -n -u -v -iv -p pytensor"
   ]
  },
  {
   "cell_type": "code",
   "execution_count": null,
   "id": "ad44fdb4-37fa-4905-b809-491507064d07",
   "metadata": {},
   "outputs": [],
   "source": []
  }
 ],
 "metadata": {
  "kernelspec": {
   "display_name": "Python 3 (ipykernel)",
   "language": "python",
   "name": "python3"
  },
  "language_info": {
   "codemirror_mode": {
    "name": "ipython",
    "version": 3
   },
   "file_extension": ".py",
   "mimetype": "text/x-python",
   "name": "python",
   "nbconvert_exporter": "python",
   "pygments_lexer": "ipython3",
   "version": "3.11.8"
  }
 },
 "nbformat": 4,
 "nbformat_minor": 5
}
