{
 "cells": [
  {
   "cell_type": "code",
   "execution_count": 1,
   "id": "4cb945e4",
   "metadata": {},
   "outputs": [],
   "source": [
    "import pymc as pm\n",
    "import numpy as np\n",
    "import arviz as az\n",
    "import pandas as pd\n",
    "from pytensor.tensor.subtensor import set_subtensor\n",
    "import pytensor.tensor as pt\n",
    "import matplotlib.pyplot as plt"
   ]
  },
  {
   "cell_type": "markdown",
   "id": "c34c58ba",
   "metadata": {},
   "source": [
    "# Prediction of Time Series*\n",
    "\n",
    "Adapted from [Unit 10: sunspots.odc](https://raw.githubusercontent.com/areding/6420-pymc/main/original_examples/Codes4Unit10/sunspots.odc).\n",
    "\n",
    "Data can be found [here](https://raw.githubusercontent.com/areding/6420-pymc/main/data/sunspots.txt)."
   ]
  },
  {
   "cell_type": "markdown",
   "id": "9dab879e",
   "metadata": {},
   "source": [
    "## Problem statement\n",
    "\n",
    "Sunspot numbers observed each year from 1770 to 1869. \n",
    "\n",
    "BUGS Book Page 258."
   ]
  },
  {
   "cell_type": "code",
   "execution_count": 2,
   "id": "5e771bb4",
   "metadata": {},
   "outputs": [],
   "source": [
    "y = np.loadtxt(\"../data/sunspots.txt\")"
   ]
  },
  {
   "cell_type": "code",
   "execution_count": 3,
   "id": "904ac83b",
   "metadata": {},
   "outputs": [
    {
     "data": {
      "text/plain": [
       "array([100.8,  81.6,  66.5,  34.8,  30.6,   7. ,  19.8,  92.5, 154.4,\n",
       "       125.9,  84.8,  68.1,  38.5,  22.8,  10.2,  24.1,  82.9, 132. ,\n",
       "       130.9, 118.1,  89.9,  66.6,  60. ,  46.9,  41. ,  21.3,  16. ,\n",
       "         6.4,   4.1,   6.8,  14.5,  34. ,  45. ,  43.1,  47.5,  42.2,\n",
       "        28.1,  10.1,   8.1,   2.5,   0. ,   1.4,   5. ,  12.2,  13.9,\n",
       "        35.4,  45.8,  41.1,  30.4,  23.9,  15.7,   6.6,   4. ,   1.8,\n",
       "         8.5,  16.6,  36.3,  49.7,  62.5,  67. ,  71. ,  47.8,  27.5,\n",
       "         8.5,  13.2,  56.9, 121.5, 138.3, 103.2,  85.8,  63.2,  36.8,\n",
       "        24.2,  10.7,  15. ,  40.1,  61.5,  98.5, 124.3,  95.9,  66.5,\n",
       "        64.5,  54.2,  39. ,  20.6,   6.7,   4.3,  22.8,  54.8,  93.8,\n",
       "        95.7,  77.2,  59.1,  44. ,  47. ,  30.5,  16.3,   7.3,  37.3,\n",
       "        73.9])"
      ]
     },
     "execution_count": 3,
     "metadata": {},
     "output_type": "execute_result"
    }
   ],
   "source": [
    "y"
   ]
  },
  {
   "cell_type": "code",
   "execution_count": 4,
   "id": "e1124f98",
   "metadata": {},
   "outputs": [],
   "source": [
    "t = np.array(range(100))\n",
    "yr = t + 1770"
   ]
  },
  {
   "cell_type": "markdown",
   "id": "18f10795",
   "metadata": {},
   "source": [
    "## Model 1"
   ]
  },
  {
   "cell_type": "code",
   "execution_count": 5,
   "id": "40a0bd3c",
   "metadata": {
    "tags": [
     "hide-output"
    ]
   },
   "outputs": [
    {
     "name": "stderr",
     "output_type": "stream",
     "text": [
      "Auto-assigning NUTS sampler...\n",
      "Initializing NUTS using jitter+adapt_diag...\n",
      "Multiprocess sampling (4 chains in 4 jobs)\n",
      "NUTS: [eps_0, theta, c, sigma]\n"
     ]
    },
    {
     "data": {
      "application/vnd.jupyter.widget-view+json": {
       "model_id": "2a033555e70a4724aafe4cae6908d026",
       "version_major": 2,
       "version_minor": 0
      },
      "text/plain": [
       "Output()"
      ]
     },
     "metadata": {},
     "output_type": "display_data"
    },
    {
     "data": {
      "text/html": [
       "<pre style=\"white-space:pre;overflow-x:auto;line-height:normal;font-family:Menlo,'DejaVu Sans Mono',consolas,'Courier New',monospace\"></pre>\n"
      ],
      "text/plain": []
     },
     "metadata": {},
     "output_type": "display_data"
    },
    {
     "name": "stderr",
     "output_type": "stream",
     "text": [
      "Sampling 4 chains for 1_000 tune and 3_000 draw iterations (4_000 + 12_000 draws total) took 2 seconds.\n"
     ]
    }
   ],
   "source": [
    "with pm.Model() as m1:\n",
    "\n",
    "    eps_0 = pm.Normal(\"eps_0\", 0, tau=0.0001)\n",
    "\n",
    "    theta = pm.Normal(\"theta\", 0, tau=0.0001)\n",
    "    c = pm.Normal(\"c\", 0, tau=0.0001)\n",
    "    sigma = pm.Uniform(\"sigma\", 0, 100)\n",
    "    tau = 1 / (sigma**2)\n",
    "\n",
    "    _m = c + theta * pt.roll(y, shift=-1)[:-1]\n",
    "    m = set_subtensor(_m[0], y[0] - eps_0)\n",
    "\n",
    "    _eps = y - m\n",
    "    eps = set_subtensor(_eps[0], eps_0)\n",
    "\n",
    "    pm.Normal(\"likelihood\", mu=m, tau=tau, observed=y[:-1])\n",
    "\n",
    "    trace = pm.sample(3000)"
   ]
  },
  {
   "cell_type": "code",
   "execution_count": 6,
   "id": "415de766",
   "metadata": {},
   "outputs": [
    {
     "data": {
      "text/html": [
       "<div>\n",
       "<style scoped>\n",
       "    .dataframe tbody tr th:only-of-type {\n",
       "        vertical-align: middle;\n",
       "    }\n",
       "\n",
       "    .dataframe tbody tr th {\n",
       "        vertical-align: top;\n",
       "    }\n",
       "\n",
       "    .dataframe thead th {\n",
       "        text-align: right;\n",
       "    }\n",
       "</style>\n",
       "<table border=\"1\" class=\"dataframe\">\n",
       "  <thead>\n",
       "    <tr style=\"text-align: right;\">\n",
       "      <th></th>\n",
       "      <th>mean</th>\n",
       "      <th>sd</th>\n",
       "      <th>hdi_3%</th>\n",
       "      <th>hdi_97%</th>\n",
       "      <th>mcse_mean</th>\n",
       "      <th>mcse_sd</th>\n",
       "      <th>ess_bulk</th>\n",
       "      <th>ess_tail</th>\n",
       "      <th>r_hat</th>\n",
       "    </tr>\n",
       "  </thead>\n",
       "  <tbody>\n",
       "    <tr>\n",
       "      <th>eps_0</th>\n",
       "      <td>-0.254</td>\n",
       "      <td>21.703</td>\n",
       "      <td>-39.919</td>\n",
       "      <td>42.077</td>\n",
       "      <td>0.215</td>\n",
       "      <td>0.214</td>\n",
       "      <td>10244.0</td>\n",
       "      <td>7664.0</td>\n",
       "      <td>1.0</td>\n",
       "    </tr>\n",
       "    <tr>\n",
       "      <th>theta</th>\n",
       "      <td>0.817</td>\n",
       "      <td>0.061</td>\n",
       "      <td>0.698</td>\n",
       "      <td>0.928</td>\n",
       "      <td>0.001</td>\n",
       "      <td>0.000</td>\n",
       "      <td>8682.0</td>\n",
       "      <td>8069.0</td>\n",
       "      <td>1.0</td>\n",
       "    </tr>\n",
       "    <tr>\n",
       "      <th>c</th>\n",
       "      <td>8.534</td>\n",
       "      <td>3.629</td>\n",
       "      <td>1.898</td>\n",
       "      <td>15.562</td>\n",
       "      <td>0.038</td>\n",
       "      <td>0.028</td>\n",
       "      <td>9019.0</td>\n",
       "      <td>7915.0</td>\n",
       "      <td>1.0</td>\n",
       "    </tr>\n",
       "    <tr>\n",
       "      <th>sigma</th>\n",
       "      <td>21.956</td>\n",
       "      <td>1.609</td>\n",
       "      <td>18.994</td>\n",
       "      <td>24.894</td>\n",
       "      <td>0.016</td>\n",
       "      <td>0.011</td>\n",
       "      <td>10324.0</td>\n",
       "      <td>8065.0</td>\n",
       "      <td>1.0</td>\n",
       "    </tr>\n",
       "  </tbody>\n",
       "</table>\n",
       "</div>"
      ],
      "text/plain": [
       "         mean      sd  hdi_3%  hdi_97%  mcse_mean  mcse_sd  ess_bulk  \\\n",
       "eps_0  -0.254  21.703 -39.919   42.077      0.215    0.214   10244.0   \n",
       "theta   0.817   0.061   0.698    0.928      0.001    0.000    8682.0   \n",
       "c       8.534   3.629   1.898   15.562      0.038    0.028    9019.0   \n",
       "sigma  21.956   1.609  18.994   24.894      0.016    0.011   10324.0   \n",
       "\n",
       "       ess_tail  r_hat  \n",
       "eps_0    7664.0    1.0  \n",
       "theta    8069.0    1.0  \n",
       "c        7915.0    1.0  \n",
       "sigma    8065.0    1.0  "
      ]
     },
     "execution_count": 6,
     "metadata": {},
     "output_type": "execute_result"
    }
   ],
   "source": [
    "az.summary(trace)"
   ]
  },
  {
   "cell_type": "markdown",
   "id": "91fa9c17",
   "metadata": {},
   "source": [
    "## Model 1 using built in AR(1)\n"
   ]
  },
  {
   "cell_type": "code",
   "execution_count": 7,
   "id": "fea5852a",
   "metadata": {
    "tags": [
     "hide-output"
    ]
   },
   "outputs": [
    {
     "name": "stderr",
     "output_type": "stream",
     "text": [
      "/Users/aaron/mambaforge/envs/pymc/lib/python3.11/site-packages/pymc/distributions/timeseries.py:621: UserWarning: Initial distribution not specified, defaulting to `Normal.dist(0, 100, shape=...)`. You can specify an init_dist manually to suppress this warning.\n",
      "  warnings.warn(\n",
      "Auto-assigning NUTS sampler...\n",
      "Initializing NUTS using jitter+adapt_diag...\n",
      "Multiprocess sampling (4 chains in 4 jobs)\n",
      "NUTS: [rho, sigma]\n"
     ]
    },
    {
     "data": {
      "application/vnd.jupyter.widget-view+json": {
       "model_id": "5fa0c7559519454c87ad79366f147dd9",
       "version_major": 2,
       "version_minor": 0
      },
      "text/plain": [
       "Output()"
      ]
     },
     "metadata": {},
     "output_type": "display_data"
    },
    {
     "data": {
      "text/html": [
       "<pre style=\"white-space:pre;overflow-x:auto;line-height:normal;font-family:Menlo,'DejaVu Sans Mono',consolas,'Courier New',monospace\"></pre>\n"
      ],
      "text/plain": []
     },
     "metadata": {},
     "output_type": "display_data"
    },
    {
     "name": "stderr",
     "output_type": "stream",
     "text": [
      "Sampling 4 chains for 1_000 tune and 3_000 draw iterations (4_000 + 12_000 draws total) took 2 seconds.\n"
     ]
    }
   ],
   "source": [
    "with pm.Model() as m1_ar:\n",
    "\n",
    "    rho = pm.Normal(\n",
    "        \"rho\", 0, tau=0.0001, shape=2\n",
    "    )  # shape of rho determines AR order\n",
    "    sigma = pm.Uniform(\"sigma\", 0, 100)\n",
    "\n",
    "    # constant=True means rho[0] is the constant term (c from BUGS model)\n",
    "    pm.AR(\"likelihood\", rho=rho, sigma=sigma, constant=True, observed=y)\n",
    "\n",
    "    trace = pm.sample(3000)"
   ]
  },
  {
   "cell_type": "code",
   "execution_count": 8,
   "id": "856e9aa9",
   "metadata": {},
   "outputs": [
    {
     "data": {
      "text/html": [
       "<div>\n",
       "<style scoped>\n",
       "    .dataframe tbody tr th:only-of-type {\n",
       "        vertical-align: middle;\n",
       "    }\n",
       "\n",
       "    .dataframe tbody tr th {\n",
       "        vertical-align: top;\n",
       "    }\n",
       "\n",
       "    .dataframe thead th {\n",
       "        text-align: right;\n",
       "    }\n",
       "</style>\n",
       "<table border=\"1\" class=\"dataframe\">\n",
       "  <thead>\n",
       "    <tr style=\"text-align: right;\">\n",
       "      <th></th>\n",
       "      <th>mean</th>\n",
       "      <th>sd</th>\n",
       "      <th>hdi_3%</th>\n",
       "      <th>hdi_97%</th>\n",
       "      <th>mcse_mean</th>\n",
       "      <th>mcse_sd</th>\n",
       "      <th>ess_bulk</th>\n",
       "      <th>ess_tail</th>\n",
       "      <th>r_hat</th>\n",
       "    </tr>\n",
       "  </thead>\n",
       "  <tbody>\n",
       "    <tr>\n",
       "      <th>rho[0]</th>\n",
       "      <td>8.561</td>\n",
       "      <td>3.545</td>\n",
       "      <td>2.110</td>\n",
       "      <td>15.617</td>\n",
       "      <td>0.045</td>\n",
       "      <td>0.032</td>\n",
       "      <td>6115.0</td>\n",
       "      <td>6956.0</td>\n",
       "      <td>1.0</td>\n",
       "    </tr>\n",
       "    <tr>\n",
       "      <th>rho[1]</th>\n",
       "      <td>0.811</td>\n",
       "      <td>0.059</td>\n",
       "      <td>0.703</td>\n",
       "      <td>0.924</td>\n",
       "      <td>0.001</td>\n",
       "      <td>0.001</td>\n",
       "      <td>5992.0</td>\n",
       "      <td>6598.0</td>\n",
       "      <td>1.0</td>\n",
       "    </tr>\n",
       "    <tr>\n",
       "      <th>sigma</th>\n",
       "      <td>21.812</td>\n",
       "      <td>1.604</td>\n",
       "      <td>18.972</td>\n",
       "      <td>24.979</td>\n",
       "      <td>0.019</td>\n",
       "      <td>0.013</td>\n",
       "      <td>7468.0</td>\n",
       "      <td>6749.0</td>\n",
       "      <td>1.0</td>\n",
       "    </tr>\n",
       "  </tbody>\n",
       "</table>\n",
       "</div>"
      ],
      "text/plain": [
       "          mean     sd  hdi_3%  hdi_97%  mcse_mean  mcse_sd  ess_bulk  \\\n",
       "rho[0]   8.561  3.545   2.110   15.617      0.045    0.032    6115.0   \n",
       "rho[1]   0.811  0.059   0.703    0.924      0.001    0.001    5992.0   \n",
       "sigma   21.812  1.604  18.972   24.979      0.019    0.013    7468.0   \n",
       "\n",
       "        ess_tail  r_hat  \n",
       "rho[0]    6956.0    1.0  \n",
       "rho[1]    6598.0    1.0  \n",
       "sigma     6749.0    1.0  "
      ]
     },
     "execution_count": 8,
     "metadata": {},
     "output_type": "execute_result"
    }
   ],
   "source": [
    "az.summary(trace)"
   ]
  },
  {
   "cell_type": "markdown",
   "id": "2b625d70",
   "metadata": {},
   "source": [
    "## Prediction Step\n",
    "\n",
    "We have our model, now we forecast the next 10 years\n"
   ]
  },
  {
   "cell_type": "code",
   "execution_count": 9,
   "id": "a3eb3049",
   "metadata": {},
   "outputs": [],
   "source": [
    "# Forecast 10 years ahead\n",
    "n_fcast = 10\n",
    "y_fcast = np.zeros(n_fcast + 2)\n",
    "y_fcast[:2] = y[-2:]\n",
    "\n",
    "# Extract the mean of the posterior for rho (AR(1) model)\n",
    "rho_mean = trace.posterior[\"rho\"].mean(axis=(0, 1)).values\n",
    "\n",
    "# Forecast based on the last observed point for AR(1)\n",
    "for i in range(1, n_fcast + 2):\n",
    "    y_fcast[i] = rho_mean[0] + rho_mean[1] * y_fcast[i - 1]\n",
    "\n",
    "y_forecast = y_fcast[2:]\n",
    "\n",
    "# Extend the year array for the forecast period\n",
    "t_fcast = np.arange(yr[-1] + 1, yr[-1] + 1 + n_fcast)"
   ]
  },
  {
   "cell_type": "code",
   "execution_count": 10,
   "id": "be5f9879",
   "metadata": {},
   "outputs": [
    {
     "data": {
      "image/png": "[encoded data removed]",
      "text/plain": [
       "<Figure size 1000x600 with 1 Axes>"
      ]
     },
     "metadata": {},
     "output_type": "display_data"
    }
   ],
   "source": [
    "# Plot the original time series with the forecast\n",
    "\n",
    "plt.figure(figsize=(10, 6))\n",
    "plt.plot(yr, y, label=\"Original Sunspot Data\", color=\"blue\")\n",
    "plt.plot(t_fcast, y_forecast, label=\"Forecasted Data\", color=\"red\")\n",
    "plt.xlabel(\"Year\")\n",
    "plt.ylabel(\"Number of Sunspots\")\n",
    "plt.legend()\n",
    "plt.title(\"Sunspot Time Series Forecast\")\n",
    "plt.show()"
   ]
  },
  {
   "cell_type": "markdown",
   "id": "0fc3c4b4",
   "metadata": {},
   "source": [
    "## Model 2: ARMA(2,1)\n",
    "\n",
    "Because the forecast only utilizes the last value to forecast, we will enhance the model by adding another AR term, as well as a Moving Average (MA) term.\n",
    "\n",
    "We use pymc_experimental.BayesianSARIMA to achieve this. As of 9/16/2024, this functionality is still in the experimentation repo, however it allows for a greatly reduced codebase. Coding an ARMA(2,1) method from scratch is lengthy. See here for documentation: https://www.pymc.io/projects/experimental/en/latest/_modules/pymc_experimental/statespace/models/SARIMAX.html#BayesianSARIMA.__init__"
   ]
  },
  {
   "cell_type": "code",
   "execution_count": 11,
   "id": "05ff5307",
   "metadata": {
    "tags": [
     "hide-output"
    ]
   },
   "outputs": [
    {
     "name": "stderr",
     "output_type": "stream",
     "text": [
      "The following parameters should be assigned priors inside a PyMC model block: \n",
      "\tar_params -- shape: (2,), constraints: None, dims: ('ar_lag',)\n",
      "\tma_params -- shape: (1,), constraints: None, dims: ('ma_lag',)\n",
      "\tsigma_state -- shape: None, constraints: Positive, dims: ()\n",
      "/Users/aaron/mambaforge/envs/pymc/lib/python3.11/site-packages/pymc_experimental/statespace/utils/data_tools.py:74: UserWarning: No time index found on the supplied data. A simple range index will be automatically generated.\n",
      "  warnings.warn(NO_TIME_INDEX_WARNING)\n"
     ]
    },
    {
     "data": {
      "application/vnd.jupyter.widget-view+json": {
       "model_id": "3babc46cf47b4d9a9a6bc885649d6ce5",
       "version_major": 2,
       "version_minor": 0
      },
      "text/plain": [
       "  0%|          | 0/2000 [00:00<?, ?it/s]"
      ]
     },
     "metadata": {},
     "output_type": "display_data"
    },
    {
     "data": {
      "application/vnd.jupyter.widget-view+json": {
       "model_id": "2d66b5b45f6e4e0fa049756c5fe7f987",
       "version_major": 2,
       "version_minor": 0
      },
      "text/plain": [
       "  0%|          | 0/2000 [00:00<?, ?it/s]"
      ]
     },
     "metadata": {},
     "output_type": "display_data"
    },
    {
     "data": {
      "application/vnd.jupyter.widget-view+json": {
       "model_id": "b706f37fd0c649329f29d9a0aae9cf35",
       "version_major": 2,
       "version_minor": 0
      },
      "text/plain": [
       "  0%|          | 0/2000 [00:00<?, ?it/s]"
      ]
     },
     "metadata": {},
     "output_type": "display_data"
    },
    {
     "data": {
      "application/vnd.jupyter.widget-view+json": {
       "model_id": "81171724bd6746f9ba7ee277d28fe570",
       "version_major": 2,
       "version_minor": 0
      },
      "text/plain": [
       "  0%|          | 0/2000 [00:00<?, ?it/s]"
      ]
     },
     "metadata": {},
     "output_type": "display_data"
    },
    {
     "name": "stderr",
     "output_type": "stream",
     "text": [
      "There were 117 divergences after tuning. Increase `target_accept` or reparameterize.\n",
      "The rhat statistic is larger than 1.01 for some parameters. This indicates problems during sampling. See https://arxiv.org/abs/1903.08008 for details\n",
      "The effective sample size per chain is smaller than 100 for some parameters.  A higher number is needed for reliable rhat and ess computation. See https://arxiv.org/abs/1903.08008 for details\n"
     ]
    }
   ],
   "source": [
    "import pymc_experimental.statespace as pmss\n",
    "import pymc as pm\n",
    "import pymc.sampling_jax as pjax\n",
    "\n",
    "# As BayesianSARIMA does not include an intercept term,\n",
    "# we can force it by centering the data\n",
    "\n",
    "y_mean = y.mean()\n",
    "y_centered = y - y_mean\n",
    "y2 = y_centered.reshape(-1, 1)\n",
    "\n",
    "# ARMA(2,1) model\n",
    "ss_mod = pmss.BayesianSARIMA(order=(2, 0, 1), verbose=True)\n",
    "\n",
    "with pm.Model(coords=ss_mod.coords) as arma_model:\n",
    "\n",
    "    # Priors\n",
    "    state_sigmas = pm.Uniform(\n",
    "        \"sigma_state\", 0, 100, dims=ss_mod.param_dims[\"sigma_state\"]\n",
    "    )\n",
    "    ar_params = pm.Normal(\n",
    "        \"ar_params\", 0, tau=0.0001, dims=ss_mod.param_dims[\"ar_params\"]\n",
    "    )\n",
    "    ma_params = pm.Normal(\n",
    "        \"ma_params\", 0, tau=0.0001, dims=ss_mod.param_dims[\"ma_params\"]\n",
    "    )\n",
    "\n",
    "    # Build Statespace Model\n",
    "    ss_mod.build_statespace_graph(y2, mode=\"JAX\")\n",
    "\n",
    "    # Inference Data\n",
    "    trace = pm.sample(nuts_sampler=\"numpyro\")"
   ]
  },
  {
   "cell_type": "code",
   "execution_count": 12,
   "id": "82f94668",
   "metadata": {},
   "outputs": [
    {
     "data": {
      "text/html": [
       "<div>\n",
       "<style scoped>\n",
       "    .dataframe tbody tr th:only-of-type {\n",
       "        vertical-align: middle;\n",
       "    }\n",
       "\n",
       "    .dataframe tbody tr th {\n",
       "        vertical-align: top;\n",
       "    }\n",
       "\n",
       "    .dataframe thead th {\n",
       "        text-align: right;\n",
       "    }\n",
       "</style>\n",
       "<table border=\"1\" class=\"dataframe\">\n",
       "  <thead>\n",
       "    <tr style=\"text-align: right;\">\n",
       "      <th></th>\n",
       "      <th>mean</th>\n",
       "      <th>sd</th>\n",
       "      <th>hdi_3%</th>\n",
       "      <th>hdi_97%</th>\n",
       "      <th>mcse_mean</th>\n",
       "      <th>mcse_sd</th>\n",
       "      <th>ess_bulk</th>\n",
       "      <th>ess_tail</th>\n",
       "      <th>r_hat</th>\n",
       "    </tr>\n",
       "  </thead>\n",
       "  <tbody>\n",
       "    <tr>\n",
       "      <th>ar_params[1]</th>\n",
       "      <td>1.238</td>\n",
       "      <td>0.118</td>\n",
       "      <td>1.032</td>\n",
       "      <td>1.468</td>\n",
       "      <td>0.013</td>\n",
       "      <td>0.009</td>\n",
       "      <td>87.0</td>\n",
       "      <td>824.0</td>\n",
       "      <td>1.05</td>\n",
       "    </tr>\n",
       "    <tr>\n",
       "      <th>ar_params[2]</th>\n",
       "      <td>-0.572</td>\n",
       "      <td>0.111</td>\n",
       "      <td>-0.781</td>\n",
       "      <td>-0.370</td>\n",
       "      <td>0.014</td>\n",
       "      <td>0.010</td>\n",
       "      <td>60.0</td>\n",
       "      <td>853.0</td>\n",
       "      <td>1.06</td>\n",
       "    </tr>\n",
       "    <tr>\n",
       "      <th>ma_params[1]</th>\n",
       "      <td>1.734</td>\n",
       "      <td>4.164</td>\n",
       "      <td>-0.092</td>\n",
       "      <td>5.855</td>\n",
       "      <td>1.150</td>\n",
       "      <td>0.832</td>\n",
       "      <td>7.0</td>\n",
       "      <td>48.0</td>\n",
       "      <td>1.53</td>\n",
       "    </tr>\n",
       "    <tr>\n",
       "      <th>sigma_state</th>\n",
       "      <td>12.313</td>\n",
       "      <td>4.965</td>\n",
       "      <td>2.197</td>\n",
       "      <td>17.426</td>\n",
       "      <td>2.395</td>\n",
       "      <td>1.824</td>\n",
       "      <td>7.0</td>\n",
       "      <td>39.0</td>\n",
       "      <td>1.53</td>\n",
       "    </tr>\n",
       "  </tbody>\n",
       "</table>\n",
       "</div>"
      ],
      "text/plain": [
       "                mean     sd  hdi_3%  hdi_97%  mcse_mean  mcse_sd  ess_bulk  \\\n",
       "ar_params[1]   1.238  0.118   1.032    1.468      0.013    0.009      87.0   \n",
       "ar_params[2]  -0.572  0.111  -0.781   -0.370      0.014    0.010      60.0   \n",
       "ma_params[1]   1.734  4.164  -0.092    5.855      1.150    0.832       7.0   \n",
       "sigma_state   12.313  4.965   2.197   17.426      2.395    1.824       7.0   \n",
       "\n",
       "              ess_tail  r_hat  \n",
       "ar_params[1]     824.0   1.05  \n",
       "ar_params[2]     853.0   1.06  \n",
       "ma_params[1]      48.0   1.53  \n",
       "sigma_state       39.0   1.53  "
      ]
     },
     "execution_count": 12,
     "metadata": {},
     "output_type": "execute_result"
    }
   ],
   "source": [
    "az.summary(trace)"
   ]
  },
  {
   "cell_type": "code",
   "execution_count": 13,
   "id": "03ed468a",
   "metadata": {},
   "outputs": [
    {
     "data": {
      "image/png": "[encoded data removed]",
      "text/plain": [
       "<Figure size 1000x600 with 1 Axes>"
      ]
     },
     "metadata": {},
     "output_type": "display_data"
    }
   ],
   "source": [
    "# Means of AR, MA, and Sigma\n",
    "ar_mean = trace.posterior[\"ar_params\"].mean(dim=(\"chain\", \"draw\")).values\n",
    "ma_mean = trace.posterior[\"ma_params\"].mean(dim=(\"chain\", \"draw\")).values\n",
    "sigma_mean = trace.posterior[\"sigma_state\"].mean(dim=(\"chain\", \"draw\")).values\n",
    "\n",
    "# Residuals\n",
    "epsilon_fcast = np.zeros(n_fcast + 2)\n",
    "epsilon_fcast[:2] = 0\n",
    "\n",
    "# Forecast 10 periods ahead\n",
    "n_fcast = 10\n",
    "y_fcast = np.zeros(n_fcast + 2)\n",
    "y_fcast[:2] = y_centered[-2:]\n",
    "\n",
    "for i in range(2, n_fcast + 2):\n",
    "\n",
    "    # Future error term\n",
    "    epsilon_t = 0\n",
    "    y_fcast[i] = (\n",
    "        ar_mean[0] * y_fcast[i - 1]\n",
    "        + ar_mean[1] * y_fcast[i - 2]\n",
    "        + ma_mean[0] * epsilon_fcast[i - 1]\n",
    "        + epsilon_t\n",
    "    )\n",
    "\n",
    "    # Update the error term\n",
    "    epsilon_fcast[i] = epsilon_t\n",
    "\n",
    "y_forecast = y_fcast[2:] + y_mean  # Add the mean back\n",
    "t_fcast = np.arange(yr[-1] + 1, yr[-1] + 1 + n_fcast)\n",
    "\n",
    "# Plotting\n",
    "plt.figure(figsize=(10, 6))\n",
    "plt.plot(yr, y, label=\"Original Sunspot Data\", color=\"blue\")\n",
    "plt.plot(\n",
    "    t_fcast, y_forecast, label=\"Forecasted Data with ARMA(2,1)\", color=\"red\"\n",
    ")\n",
    "plt.xlabel(\"Year\")\n",
    "plt.ylabel(\"Number of Sunspots\")\n",
    "plt.legend()\n",
    "plt.title(\"Sunspot Time Series Forecast\")\n",
    "plt.show()"
   ]
  },
  {
   "cell_type": "markdown",
   "id": "633c2c7d",
   "metadata": {},
   "source": [
    "Written by Taylor Bosier and Aaron Reding."
   ]
  },
  {
   "cell_type": "code",
   "execution_count": 14,
   "id": "a59b071b",
   "metadata": {},
   "outputs": [
    {
     "name": "stdout",
     "output_type": "stream",
     "text": [
      "Last updated: Wed Sep 18 2024\n",
      "\n",
      "Python implementation: CPython\n",
      "Python version       : 3.11.8\n",
      "IPython version      : 8.22.2\n",
      "\n",
      "pytensor: 2.25.4\n",
      "\n",
      "matplotlib       : 3.8.3\n",
      "pytensor         : 2.25.4\n",
      "pandas           : 2.2.1\n",
      "arviz            : 0.17.1\n",
      "pymc_experimental: 0.1.2\n",
      "pymc             : 5.16.2\n",
      "numpy            : 1.26.4\n",
      "\n"
     ]
    }
   ],
   "source": [
    "%load_ext watermark\n",
    "%watermark -n -u -v -iv -p pytensor"
   ]
  },
  {
   "cell_type": "code",
   "execution_count": null,
   "id": "ad44fdb4-37fa-4905-b809-491507064d07",
   "metadata": {},
   "outputs": [],
   "source": []
  }
 ],
 "metadata": {
  "kernelspec": {
   "display_name": "Python 3 (ipykernel)",
   "language": "python",
   "name": "python3"
  },
  "language_info": {
   "codemirror_mode": {
    "name": "ipython",
    "version": 3
   },
   "file_extension": ".py",
   "mimetype": "text/x-python",
   "name": "python",
   "nbconvert_exporter": "python",
   "pygments_lexer": "ipython3",
   "version": "3.11.8"
  }
 },
 "nbformat": 4,
 "nbformat_minor": 5
}
