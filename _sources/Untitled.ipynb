{
 "cells": [
  {
   "cell_type": "code",
   "execution_count": 1,
   "id": "873e5d3e-cd0e-4752-b723-392aca0154e9",
   "metadata": {},
   "outputs": [],
   "source": [
    "import arviz as az\n",
    "import numpy as np\n",
    "import pandas as pd\n",
    "import pymc as pm\n",
    "\n",
    "%load_ext watermark\n",
    "%watermark --iversions"
   ]
  },
  {
   "cell_type": "markdown",
   "id": "def3c8b8-047d-4b5e-861f-115e4e848215",
   "metadata": {},
   "source": [
    "# ANOVA Coagulation\n",
    "\n",
    "Adapted from [Codes for Unit 7: anovacoagulation.odc](https://www2.isye.gatech.edu/isye6420/supporting.html).\n",
    "\n",
    "Associated lecture video: [Unit 7 Lesson 7](https://www.youtube.com/watch?v=C1PGMZ147wA&list=PLv0FeK5oXK4l-RdT6DWJj0_upJOG2WKNO&index=69).\n",
    "\n",
    "Here 24 animals (Box, Hunter, Hunter; Statistics for Experimenters, p. 166) are randomly allocated to 4 different diets,  but the numbers allocated to different diets  are not the same. The coagulation time for blood\\ is measured for each animal. Are the diet-based differences significant?\n"
   ]
  },
  {
   "cell_type": "code",
   "execution_count": 9,
   "id": "bc2194ca-771b-43f4-919d-792b07612634",
   "metadata": {},
   "outputs": [
    {
     "data": {
      "text/plain": [
       "{1: [62, 60, 63, 59],\n",
       " 2: [63, 67, 71, 64, 65, 66],\n",
       " 3: [68, 66, 71, 67, 68, 68],\n",
       " 4: [56, 62, 60, 61, 63, 64, 63, 59]}"
      ]
     },
     "execution_count": 9,
     "metadata": {},
     "output_type": "execute_result"
    }
   ],
   "source": [
    "# fmt: off\n",
    "times = (62, 60, 63, 59, 63, 67, 71, 64, 65, 66, 68, 66, 71, 67, 68, 68, 56, 62, 60, 61, 63, 64, 63, 59)\n",
    "diets = (1, 1, 1, 1, 2, 2, 2, 2, 2, 2, 3, 3, 3, 3, 3, 3, 4, 4, 4, 4, 4, 4, 4, 4)\n",
    "# fmt: on\n",
    "\n",
    "times_by_diet = {}\n",
    "for diet_code in set(diets):\n",
    "    time_sep = [time for time, diet in zip(times, diets) if diet == diet_code]\n",
    "    times_by_diet[diet_code] = time_sep\n",
    "\n",
    "times_by_diet"
   ]
  },
  {
   "cell_type": "code",
   "execution_count": null,
   "id": "edfc8018-db7b-4bf1-865b-34b77acdf31d",
   "metadata": {},
   "outputs": [],
   "source": [
    "model{\n",
    "for (i in 1:ntotal){\n",
    "times[i] ~ dnorm( mu[i], tau )\n",
    "mu[i] <-  mu0 + alpha[diets[i]] \n",
    "}\n",
    "#alpha[1] <- 0.0;     #CR constraints \n",
    "alpha[1] <- -sum( alpha[2:a] ); #STZ Constraint\n",
    "\n",
    "mu0 ~ dnorm(0, 0.0001)\n",
    "alpha[2] ~ dnorm(0, 0.0001)\n",
    "alpha[3] ~ dnorm(0, 0.0001)\n",
    "alpha[4] ~ dnorm(0, 0.0001)\n",
    "tau ~ dgamma(0.001, 0.001)\n",
    "sigma <- sqrt(1/tau)\n",
    "#pairwise\n",
    "  for(i in 1:3){\n",
    "    for(j in i+1:4){\n",
    "    adiff[i,j] <- alpha[i]-alpha[j]\n",
    "    }\n",
    "  }\n",
    "}"
   ]
  },
  {
   "cell_type": "code",
   "execution_count": 15,
   "id": "bb4d6b63-e47d-4b56-854c-77dd116c1800",
   "metadata": {},
   "outputs": [
    {
     "ename": "ValueError",
     "evalue": "Not enough dimensions on alphas to reduce on axis 1",
     "output_type": "error",
     "traceback": [
      "\u001b[0;31m---------------------------------------------------------------------------\u001b[0m",
      "\u001b[0;31mValueError\u001b[0m                                Traceback (most recent call last)",
      "Input \u001b[0;32mIn [15]\u001b[0m, in \u001b[0;36m<cell line: 1>\u001b[0;34m()\u001b[0m\n\u001b[1;32m      3\u001b[0m τ \u001b[38;5;241m=\u001b[39m pm\u001b[38;5;241m.\u001b[39mGamma(\u001b[38;5;124m\"\u001b[39m\u001b[38;5;124mτ\u001b[39m\u001b[38;5;124m\"\u001b[39m, \u001b[38;5;241m.001\u001b[39m, \u001b[38;5;241m.001\u001b[39m)\n\u001b[1;32m      5\u001b[0m alphas \u001b[38;5;241m=\u001b[39m pm\u001b[38;5;241m.\u001b[39mNormal(\u001b[38;5;124m\"\u001b[39m\u001b[38;5;124malphas\u001b[39m\u001b[38;5;124m\"\u001b[39m, \u001b[38;5;241m0\u001b[39m, tau\u001b[38;5;241m=\u001b[39m\u001b[38;5;241m.0001\u001b[39m, shape\u001b[38;5;241m=\u001b[39m\u001b[38;5;241m3\u001b[39m)\n\u001b[0;32m----> 6\u001b[0m stz \u001b[38;5;241m=\u001b[39m \u001b[38;5;241m-\u001b[39m\u001b[43mpm\u001b[49m\u001b[38;5;241;43m.\u001b[39;49m\u001b[43mmath\u001b[49m\u001b[38;5;241;43m.\u001b[39;49m\u001b[43msum\u001b[49m\u001b[43m(\u001b[49m\u001b[43malphas\u001b[49m\u001b[43m,\u001b[49m\u001b[43m \u001b[49m\u001b[43maxis\u001b[49m\u001b[38;5;241;43m=\u001b[39;49m\u001b[38;5;241;43m1\u001b[39;49m\u001b[43m)\u001b[49m\n\u001b[1;32m      8\u001b[0m α \u001b[38;5;241m=\u001b[39m pm\u001b[38;5;241m.\u001b[39mmath\u001b[38;5;241m.\u001b[39mconcatenate([stz, alphas])\n\u001b[1;32m     10\u001b[0m μ \u001b[38;5;241m=\u001b[39m μ0 \u001b[38;5;241m+\u001b[39m α\n",
      "File \u001b[0;32m~/mambaforge/envs/pymc-dev-py39/lib/python3.9/site-packages/aesara/tensor/math.py:2495\u001b[0m, in \u001b[0;36msum\u001b[0;34m(input, axis, dtype, keepdims, acc_dtype)\u001b[0m\n\u001b[1;32m   2475\u001b[0m \u001b[38;5;28;01mdef\u001b[39;00m \u001b[38;5;21msum\u001b[39m(\u001b[38;5;28minput\u001b[39m, axis\u001b[38;5;241m=\u001b[39m\u001b[38;5;28;01mNone\u001b[39;00m, dtype\u001b[38;5;241m=\u001b[39m\u001b[38;5;28;01mNone\u001b[39;00m, keepdims\u001b[38;5;241m=\u001b[39m\u001b[38;5;28;01mFalse\u001b[39;00m, acc_dtype\u001b[38;5;241m=\u001b[39m\u001b[38;5;28;01mNone\u001b[39;00m):\n\u001b[1;32m   2476\u001b[0m     \u001b[38;5;124;03m\"\"\"\u001b[39;00m\n\u001b[1;32m   2477\u001b[0m \u001b[38;5;124;03m    Computes the sum along the given axis(es) of a tensor `input`.\u001b[39;00m\n\u001b[1;32m   2478\u001b[0m \n\u001b[0;32m   (...)\u001b[0m\n\u001b[1;32m   2492\u001b[0m \n\u001b[1;32m   2493\u001b[0m \u001b[38;5;124;03m    \"\"\"\u001b[39;00m\n\u001b[0;32m-> 2495\u001b[0m     out \u001b[38;5;241m=\u001b[39m \u001b[43mSum\u001b[49m\u001b[43m(\u001b[49m\u001b[43maxis\u001b[49m\u001b[38;5;241;43m=\u001b[39;49m\u001b[43maxis\u001b[49m\u001b[43m,\u001b[49m\u001b[43m \u001b[49m\u001b[43mdtype\u001b[49m\u001b[38;5;241;43m=\u001b[39;49m\u001b[43mdtype\u001b[49m\u001b[43m,\u001b[49m\u001b[43m \u001b[49m\u001b[43macc_dtype\u001b[49m\u001b[38;5;241;43m=\u001b[39;49m\u001b[43macc_dtype\u001b[49m\u001b[43m)\u001b[49m\u001b[43m(\u001b[49m\u001b[38;5;28;43minput\u001b[39;49m\u001b[43m)\u001b[49m\n\u001b[1;32m   2497\u001b[0m     \u001b[38;5;28;01mif\u001b[39;00m keepdims:\n\u001b[1;32m   2498\u001b[0m         out \u001b[38;5;241m=\u001b[39m makeKeepDims(\u001b[38;5;28minput\u001b[39m, out, axis)\n",
      "File \u001b[0;32m~/mambaforge/envs/pymc-dev-py39/lib/python3.9/site-packages/aesara/graph/op.py:294\u001b[0m, in \u001b[0;36mOp.__call__\u001b[0;34m(self, *inputs, **kwargs)\u001b[0m\n\u001b[1;32m    252\u001b[0m \u001b[38;5;124mr\u001b[39m\u001b[38;5;124;03m\"\"\"Construct an `Apply` node using :meth:`Op.make_node` and return its outputs.\u001b[39;00m\n\u001b[1;32m    253\u001b[0m \n\u001b[1;32m    254\u001b[0m \u001b[38;5;124;03mThis method is just a wrapper around :meth:`Op.make_node`.\u001b[39;00m\n\u001b[0;32m   (...)\u001b[0m\n\u001b[1;32m    291\u001b[0m \n\u001b[1;32m    292\u001b[0m \u001b[38;5;124;03m\"\"\"\u001b[39;00m\n\u001b[1;32m    293\u001b[0m return_list \u001b[38;5;241m=\u001b[39m kwargs\u001b[38;5;241m.\u001b[39mpop(\u001b[38;5;124m\"\u001b[39m\u001b[38;5;124mreturn_list\u001b[39m\u001b[38;5;124m\"\u001b[39m, \u001b[38;5;28;01mFalse\u001b[39;00m)\n\u001b[0;32m--> 294\u001b[0m node \u001b[38;5;241m=\u001b[39m \u001b[38;5;28;43mself\u001b[39;49m\u001b[38;5;241;43m.\u001b[39;49m\u001b[43mmake_node\u001b[49m\u001b[43m(\u001b[49m\u001b[38;5;241;43m*\u001b[39;49m\u001b[43minputs\u001b[49m\u001b[43m,\u001b[49m\u001b[43m \u001b[49m\u001b[38;5;241;43m*\u001b[39;49m\u001b[38;5;241;43m*\u001b[39;49m\u001b[43mkwargs\u001b[49m\u001b[43m)\u001b[49m\n\u001b[1;32m    296\u001b[0m \u001b[38;5;28;01mif\u001b[39;00m config\u001b[38;5;241m.\u001b[39mcompute_test_value \u001b[38;5;241m!=\u001b[39m \u001b[38;5;124m\"\u001b[39m\u001b[38;5;124moff\u001b[39m\u001b[38;5;124m\"\u001b[39m:\n\u001b[1;32m    297\u001b[0m     compute_test_value(node)\n",
      "File \u001b[0;32m~/mambaforge/envs/pymc-dev-py39/lib/python3.9/site-packages/aesara/tensor/elemwise.py:1750\u001b[0m, in \u001b[0;36mCAReduceDtype.make_node\u001b[0;34m(self, input)\u001b[0m\n\u001b[1;32m   1746\u001b[0m \u001b[38;5;28;01massert\u001b[39;00m op\u001b[38;5;241m.\u001b[39macc_dtype \u001b[38;5;129;01mis\u001b[39;00m \u001b[38;5;129;01mnot\u001b[39;00m \u001b[38;5;28;01mNone\u001b[39;00m\n\u001b[1;32m   1748\u001b[0m \u001b[38;5;66;03m# TODO: Why doesn't `make_node` just take these\u001b[39;00m\n\u001b[1;32m   1749\u001b[0m \u001b[38;5;66;03m# automatically-determined values as arguments?\u001b[39;00m\n\u001b[0;32m-> 1750\u001b[0m \u001b[38;5;28;01mreturn\u001b[39;00m \u001b[38;5;28;43msuper\u001b[39;49m\u001b[43m(\u001b[49m\u001b[43mCAReduceDtype\u001b[49m\u001b[43m,\u001b[49m\u001b[43m \u001b[49m\u001b[43mop\u001b[49m\u001b[43m)\u001b[49m\u001b[38;5;241;43m.\u001b[39;49m\u001b[43mmake_node\u001b[49m\u001b[43m(\u001b[49m\u001b[38;5;28;43minput\u001b[39;49m\u001b[43m)\u001b[49m\n",
      "File \u001b[0;32m~/mambaforge/envs/pymc-dev-py39/lib/python3.9/site-packages/aesara/tensor/elemwise.py:1310\u001b[0m, in \u001b[0;36mCAReduce.make_node\u001b[0;34m(self, input)\u001b[0m\n\u001b[1;32m   1308\u001b[0m \u001b[38;5;28;01mfor\u001b[39;00m i, a \u001b[38;5;129;01min\u001b[39;00m \u001b[38;5;28menumerate\u001b[39m(axis):\n\u001b[1;32m   1309\u001b[0m     \u001b[38;5;28;01mif\u001b[39;00m a \u001b[38;5;241m>\u001b[39m\u001b[38;5;241m=\u001b[39m inp_dims \u001b[38;5;129;01mor\u001b[39;00m a \u001b[38;5;241m<\u001b[39m \u001b[38;5;241m-\u001b[39minp_dims:\n\u001b[0;32m-> 1310\u001b[0m         \u001b[38;5;28;01mraise\u001b[39;00m \u001b[38;5;167;01mValueError\u001b[39;00m(\n\u001b[1;32m   1311\u001b[0m             \u001b[38;5;124mf\u001b[39m\u001b[38;5;124m\"\u001b[39m\u001b[38;5;124mNot enough dimensions on \u001b[39m\u001b[38;5;132;01m{\u001b[39;00m\u001b[38;5;28minput\u001b[39m\u001b[38;5;132;01m}\u001b[39;00m\u001b[38;5;124m to reduce on axis \u001b[39m\u001b[38;5;132;01m{\u001b[39;00ma\u001b[38;5;132;01m}\u001b[39;00m\u001b[38;5;124m\"\u001b[39m\n\u001b[1;32m   1312\u001b[0m         )\n\u001b[1;32m   1313\u001b[0m     \u001b[38;5;28;01mif\u001b[39;00m a \u001b[38;5;241m<\u001b[39m \u001b[38;5;241m0\u001b[39m:\n\u001b[1;32m   1314\u001b[0m         copy_op \u001b[38;5;241m=\u001b[39m \u001b[38;5;28;01mTrue\u001b[39;00m\n",
      "\u001b[0;31mValueError\u001b[0m: Not enough dimensions on alphas to reduce on axis 1"
     ]
    }
   ],
   "source": [
    "with pm.Model() as m:\n",
    "    μ0 = pm.Normal(\"μ0\", 0, tau=.0001)\n",
    "    τ = pm.Gamma(\"τ\", .001, .001)\n",
    "    \n",
    "    alphas = pm.Normal(\"alphas\", 0, tau=.0001, shape=3)\n",
    "    stz = -pm.math.sum(alphas, axis=1)\n",
    "    \n",
    "    α = pm.math.concatenate([stz, alphas])\n",
    "    \n",
    "    μ = μ0 + α\n",
    "    \n",
    "    likelihood = pm.Normal(\"likelihood\", μ, tau=τ, observed=times)\n",
    "    \n",
    "    pairwise_diff = pm.Deterministic(\"pairwise_diff\", α.flatten().reshape((-1, 1)) - α.flatten())\n",
    "    \n",
    "    trace = pm.sample(\n",
    "        5000,\n",
    "        chains=4,\n",
    "        tune=2000,\n",
    "        cores=4,\n",
    "        init=\"jitter+adapt_diag\",\n",
    "        random_seed=1,\n",
    "        return_inferencedata=True,\n",
    "    )"
   ]
  },
  {
   "cell_type": "code",
   "execution_count": null,
   "id": "2632971a-ca61-4fad-939d-a0d4c9bce6d0",
   "metadata": {},
   "outputs": [],
   "source": []
  }
 ],
 "metadata": {
  "kernelspec": {
   "display_name": "Python 3 (ipykernel)",
   "language": "python",
   "name": "python3"
  },
  "language_info": {
   "codemirror_mode": {
    "name": "ipython",
    "version": 3
   },
   "file_extension": ".py",
   "mimetype": "text/x-python",
   "name": "python",
   "nbconvert_exporter": "python",
   "pygments_lexer": "ipython3",
   "version": "3.9.10"
  }
 },
 "nbformat": 4,
 "nbformat_minor": 5
}
