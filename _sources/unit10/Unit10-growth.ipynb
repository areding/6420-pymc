{
 "cells": [
  {
   "cell_type": "code",
   "execution_count": 1,
   "id": "245c22d1",
   "metadata": {},
   "outputs": [],
   "source": [
    "import pymc as pm\n",
    "import numpy as np\n",
    "import arviz as az\n",
    "from pymc.math import matrix_inverse, extract_diag, sqrt\n",
    "import aesara.tensor as at\n",
    "\n",
    "%load_ext lab_black\n",
    "%load_ext watermark"
   ]
  },
  {
   "cell_type": "markdown",
   "id": "c5eba1ba",
   "metadata": {},
   "source": [
    "# Dental Development\n",
    "\n",
    "\n",
    "Adapted from [unit 10: growth.odc](https://raw.githubusercontent.com/areding/6420-pymc/main/original_examples/Codes4Unit10/growth.odc).\n",
    "\n",
    "Data for the y array can be found [here](https://raw.githubusercontent.com/areding/6420-pymc/main/data/growthy.txt).\n",
    "\n",
    "Associated lecture video: Unit 10 Lesson 2"
   ]
  },
  {
   "cell_type": "markdown",
   "id": "91a2804a",
   "metadata": {},
   "source": [
    "## Problem statement\n",
    "\n",
    "\n",
    "Data set on dental development was first provided by Potthof and Roy in their 1964 paper. It consists of longitudinal observations on 11 girls (gender=1) and 16 boys (gender=2). \n",
    "\n",
    "There are 4 observations on each subject centered at times -3,-1, 1, 3, where the units were years.\n",
    "\n",
    "The measurement on each subject is the distance (in mm) from the center of the pituitary to the pteryomaxillary fisure.\n",
    "\n",
    "Potthoff and Roy (1964). \"A Generalized Multivariate Analysis of Variance Model Useful Especially for Growth Curve Problems,\" Biometrika, 51, 313-326.\n",
    "\n",
    "MVN with Gender Specific Means but Common Precision Matrix"
   ]
  },
  {
   "cell_type": "markdown",
   "id": "36d48ad6",
   "metadata": {},
   "source": [
    "notes:\n",
    "- definitely talk about Wishart. Pymc docs say it's unusable??? why tf do they have it?\n",
    "- https://github.com/pymc-devs/pymc/issues/538 super interesting discussion here\n",
    "- this is all new to me, need to think about it more."
   ]
  },
  {
   "cell_type": "code",
   "execution_count": 3,
   "id": "f3de4a08",
   "metadata": {},
   "outputs": [],
   "source": [
    "t = np.array((-3, -1, 1, 3))\n",
    "gender = np.array(\n",
    "    (1, 1, 1, 1, 1, 1, 1, 1, 1, 1, 1, 2, 2, 2, 2, 2, 2, 2, 2, 2, 2, 2, 2, 2, 2, 2)\n",
    ")\n",
    "y = np.loadtxt(\"../data/growthy.txt\")"
   ]
  },
  {
   "cell_type": "code",
   "execution_count": 4,
   "id": "408657d1",
   "metadata": {},
   "outputs": [
    {
     "data": {
      "text/plain": [
       "array([[1., 0., 0., 0.],\n",
       "       [0., 1., 0., 0.],\n",
       "       [0., 0., 1., 0.],\n",
       "       [0., 0., 0., 1.]])"
      ]
     },
     "execution_count": 4,
     "metadata": {},
     "output_type": "execute_result"
    }
   ],
   "source": [
    "C = np.eye(4)\n",
    "C"
   ]
  },
  {
   "cell_type": "code",
   "execution_count": 5,
   "id": "24e3dba9",
   "metadata": {},
   "outputs": [],
   "source": [
    "coords = {\"t\": t, \"gender\": np.array([1, 2]), \"id\": np.array(range(26))}"
   ]
  },
  {
   "cell_type": "code",
   "execution_count": 6,
   "id": "55c8d1d9",
   "metadata": {},
   "outputs": [
    {
     "data": {
      "text/plain": [
       "{'t': array([-3, -1,  1,  3]),\n",
       " 'gender': array([1, 2]),\n",
       " 'id': array([ 0,  1,  2,  3,  4,  5,  6,  7,  8,  9, 10, 11, 12, 13, 14, 15, 16,\n",
       "        17, 18, 19, 20, 21, 22, 23, 24, 25])}"
      ]
     },
     "execution_count": 6,
     "metadata": {},
     "output_type": "execute_result"
    }
   ],
   "source": [
    "coords"
   ]
  },
  {
   "cell_type": "code",
   "execution_count": 7,
   "id": "47000665",
   "metadata": {},
   "outputs": [
    {
     "name": "stderr",
     "output_type": "stream",
     "text": [
      "/Users/aaron/mambaforge/envs/pymc_env/lib/python3.10/site-packages/pymc/distributions/multivariate.py:936: UserWarning: The Wishart distribution can currently not be used for MCMC sampling. The probability of sampling a symmetric matrix is basically zero. Instead, please use LKJCholeskyCov or LKJCorr. For more information on the issues surrounding the Wishart see here: https://github.com/pymc-devs/pymc/issues/538.\n",
      "  warnings.warn(\n"
     ]
    },
    {
     "data": {
      "text/plain": [
       "array([[ 0.72360432,  1.12109233, -0.94095466,  0.01946187],\n",
       "       [ 1.12109233,  3.36487782, -0.51769377,  1.38565438],\n",
       "       [-0.94095466, -0.51769377,  2.56146861, -0.50116026],\n",
       "       [ 0.01946187,  1.38565438, -0.50116026,  3.82395345]])"
      ]
     },
     "execution_count": 7,
     "metadata": {},
     "output_type": "execute_result"
    }
   ],
   "source": [
    "pm.Wishart.dist(nu=4, V=C).eval()"
   ]
  },
  {
   "cell_type": "code",
   "execution_count": 8,
   "id": "fe90b579",
   "metadata": {},
   "outputs": [
    {
     "data": {
      "text/plain": [
       "array([-0.20555731, -0.02524332, -0.53060013,  0.94640356,  0.52935778,\n",
       "        0.62563837])"
      ]
     },
     "execution_count": 8,
     "metadata": {},
     "output_type": "execute_result"
    }
   ],
   "source": [
    "pm.LKJCorr.dist(n=4, eta=0.4).eval()"
   ]
  },
  {
   "cell_type": "code",
   "execution_count": 9,
   "id": "8ad10442",
   "metadata": {},
   "outputs": [
    {
     "ename": "TypeError",
     "evalue": "WishartBartlett() missing 1 required positional argument: 'name'",
     "output_type": "error",
     "traceback": [
      "\u001b[0;31m---------------------------------------------------------------------------\u001b[0m",
      "\u001b[0;31mTypeError\u001b[0m                                 Traceback (most recent call last)",
      "Input \u001b[0;32mIn [9]\u001b[0m, in \u001b[0;36m<cell line: 1>\u001b[0;34m()\u001b[0m\n\u001b[0;32m----> 1\u001b[0m \u001b[43mpm\u001b[49m\u001b[38;5;241;43m.\u001b[39;49m\u001b[43mWishartBartlett\u001b[49m\u001b[43m(\u001b[49m\u001b[43mnu\u001b[49m\u001b[38;5;241;43m=\u001b[39;49m\u001b[38;5;241;43m4\u001b[39;49m\u001b[43m,\u001b[49m\u001b[43m \u001b[49m\u001b[43mS\u001b[49m\u001b[38;5;241;43m=\u001b[39;49m\u001b[43mC\u001b[49m\u001b[43m)\u001b[49m\u001b[38;5;241m.\u001b[39meval()\n",
      "\u001b[0;31mTypeError\u001b[0m: WishartBartlett() missing 1 required positional argument: 'name'"
     ]
    }
   ],
   "source": [
    "pm.WishartBartlett(nu=4, S=C).eval()"
   ]
  },
  {
   "cell_type": "code",
   "execution_count": null,
   "id": "345fdb89",
   "metadata": {},
   "outputs": [],
   "source": [
    "with pm.Model(coords=coords) as m:\n",
    "    beta1 = pm.Normal(\"beta1\", 20, tau=.001, dims=\"gender\")\n",
    "    beta2 = pm.Normal(\"beta2\", 1, tau=.001, dims=\"gender\")\n",
    "    g = pm.Data(\"gender_idx\", gender, dims=\"id\", mutable=False)\n",
    "\n",
    "    # T = pm.Wishart(\"T\", nu=4, V=C) # might need to switch to LKJ\n",
    "    T, corr, stds = pm.LKJCholeskyCov(\"T\", n=4, eta=1, sd_dist=pm.Normal.dist(0, 1), compute_corr=True)\n",
    "\n",
    "    mu = pm.Deterministic(\"mu\", beta1[g] + beta2[g] * t, dims=(\"gender\", \"t\")) # mu should be shape (2, 4)? but mvnormal mu should be a vector...\n",
    "    pm.MvNormal(\"likelihood\", mu, chol=T, observed=y) # (26, 4)\n",
    "\n",
    "    pm.Deterministic(\"corr\", corr)\n",
    "    #V = matrix_inverse(T)\n",
    "    #diag_sqrt = sqrt(extract_diag(V))\n",
    "    #V = V/diag_sqrt[:, None]\n",
    "    #corr = pm.Deterministic(\"corr\", V/diag_sqrt[None, :])\n",
    "\n",
    "    trace = pm.sample(2000)"
   ]
  },
  {
   "cell_type": "code",
   "execution_count": null,
   "id": "7b8bd9a9",
   "metadata": {},
   "outputs": [],
   "source": []
  }
 ],
 "metadata": {
  "kernelspec": {
   "display_name": "Python 3 (ipykernel)",
   "language": "python",
   "name": "python3"
  },
  "language_info": {
   "codemirror_mode": {
    "name": "ipython",
    "version": 3
   },
   "file_extension": ".py",
   "mimetype": "text/x-python",
   "name": "python",
   "nbconvert_exporter": "python",
   "pygments_lexer": "ipython3",
   "version": "3.10.4"
  }
 },
 "nbformat": 4,
 "nbformat_minor": 5
}
