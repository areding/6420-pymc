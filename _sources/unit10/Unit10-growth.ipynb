{
 "cells": [
  {
   "cell_type": "code",
   "execution_count": 1,
   "id": "146e366f",
   "metadata": {},
   "outputs": [],
   "source": [
    "import pymc as pm\n",
    "import numpy as np\n",
    "import arviz as az\n",
    "import pandas as pd\n",
    "\n",
    "%load_ext lab_black\n",
    "%load_ext watermark"
   ]
  },
  {
   "cell_type": "markdown",
   "id": "0a5147d5",
   "metadata": {},
   "source": [
    "# Dental Development\n",
    "\n",
    "This example demonstrates ...\n",
    "\n",
    "Adapted from [unit 10: growth.odc](https://raw.githubusercontent.com/areding/6420-pymc/main/original_examples/Codes4Unit10/growth.odc).\n",
    "\n",
    "Data can be found [here](https://raw.githubusercontent.com/areding/6420-pymc/main/data/r.txt).\n",
    "\n",
    "## Associated lecture video: Unit 10 Lesson 2"
   ]
  },
  {
   "cell_type": "code",
   "execution_count": 1,
   "id": "0a0869d7",
   "metadata": {},
   "outputs": [
    {
     "data": {
      "text/html": [
       "<iframe width=\"560\" height=\"315\" src=\"https://www.youtube.com/embed?v=xomK4tcePmc&list=PLv0FeK5oXK4l-RdT6DWJj0_upJOG2WKNO&index=99\" frameborder=\"0\" allow=\"autoplay; encrypted-media\" allowfullscreen></iframe>\n"
      ],
      "text/plain": [
       "<IPython.core.display.HTML object>"
      ]
     },
     "metadata": {},
     "output_type": "display_data"
    }
   ],
   "source": [
    "%%html\n",
    "<iframe width=\"560\" height=\"315\" src=\"https://www.youtube.com/embed?v=xomK4tcePmc&list=PLv0FeK5oXK4l-RdT6DWJj0_upJOG2WKNO&index=99\" frameborder=\"0\" allow=\"autoplay; encrypted-media\" allowfullscreen></iframe>"
   ]
  },
  {
   "cell_type": "markdown",
   "id": "91be6701",
   "metadata": {},
   "source": [
    "## Problem statement\n",
    "\n",
    "\n",
    "Data set on dental development was first provided by Potthof and Roy in their 1964 paper. It consists of longitudinal observations on 11 girls (gender=1) and 16 boys (gender=2). \n",
    "\n",
    "There are 4 observations on each subject centered at times -3,-1, 1, 3, where the units were years.\n",
    "\n",
    "The measurement on each subject is the distance (in mm) from the center of the pituitary to the pteryomaxillary fisure.\n",
    "\n",
    "Potthoff and Roy (1964). \"A Generalized Multivariate Analysis of Variance Model Useful Especially for Growth Curve Problems,\" Biometrika, 51, 313-326.\n",
    "\n",
    "MVN with Gender Specific Means but Common Precision Matrix"
   ]
  },
  {
   "cell_type": "code",
   "execution_count": null,
   "id": "37b78fd0",
   "metadata": {},
   "outputs": [],
   "source": []
  }
 ],
 "metadata": {
  "kernelspec": {
   "display_name": "Python 3 (ipykernel)",
   "language": "python",
   "name": "python3"
  },
  "language_info": {
   "codemirror_mode": {
    "name": "ipython",
    "version": 3
   },
   "file_extension": ".py",
   "mimetype": "text/x-python",
   "name": "python",
   "nbconvert_exporter": "python",
   "pygments_lexer": "ipython3",
   "version": "3.10.1"
  }
 },
 "nbformat": 4,
 "nbformat_minor": 5
}
