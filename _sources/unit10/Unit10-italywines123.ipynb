{
 "cells": [
  {
   "cell_type": "code",
   "execution_count": 1,
   "id": "dfa5a426",
   "metadata": {},
   "outputs": [],
   "source": [
    "import pymc as pm\n",
    "import numpy as np\n",
    "import arviz as az\n",
    "import pandas as pd\n",
    "from aesara.tensor.subtensor import set_subtensor\n",
    "\n",
    "%load_ext lab_black\n",
    "%load_ext watermark"
   ]
  },
  {
   "cell_type": "markdown",
   "id": "9fa24ef9",
   "metadata": {},
   "source": [
    "# Wine classification\n",
    "\n",
    "This example demonstrates ...\n",
    "\n",
    "Adapted from [unit 10: italywines123.odc](https://raw.githubusercontent.com/areding/6420-pymc/main/original_examples/Codes4Unit10/italywines123.odc).\n",
    "\n",
    "Data can be found [here](https://archive.ics.uci.edu/ml/datasets/wine).\n",
    "\n",
    "Associated lecture video: Unit 10 Lesson 5"
   ]
  },
  {
   "cell_type": "markdown",
   "id": "354302d2",
   "metadata": {},
   "source": [
    "## Problem statement\n",
    "\n",
    "This popular data set was provided by Forina et al (1988). \n",
    "The data below consist of results of a chemical analysis of wines grown in the same region in Italy but derived from three different cultivars. The analysis determined the quantities of 13 constituents found in each of the three types of wines. \n",
    "\n",
    "  The variables are\n",
    "  \n",
    "   Column   Variable   Description  \n",
    "   \n",
    "  ==========================\n",
    "  \n",
    "     1      Y     Type (Response, 1,2,3)  \n",
    "                      1 == 1 0 0;    2 == 0 1 0;   3 == 0 0 1\n",
    "                      \n",
    "     2      X1    Alcohol \n",
    "      \n",
    " \t 3      X2    Malic acid \n",
    "     \n",
    " \t 4      X3    Ash \n",
    "     \n",
    "\t 5      X4    Alcalinity of ash \n",
    "      \n",
    "  \t 6      X5    Magnesium \n",
    "    \n",
    "\t 7      X6    Total phenols \n",
    "      \n",
    " \t 8      X7    Flavanoids \n",
    "     \n",
    "     9      X8    Nonflavanoid phenols \n",
    "      \n",
    "     10     X9    Proanthocyanins \n",
    "     \n",
    "     11     X10  Color intensity \n",
    "     \n",
    "     12     X11  Hue \n",
    "     \n",
    "     13     X12 OD280/OD315 of diluted wines \n",
    "     \n",
    "     14     X13  Proline \n",
    " \n",
    "\n",
    "\n",
    "\n",
    "(a) Fit the multinomial regression\n",
    "that predicts the type of wine Y from predictors  X1 - X13.\n",
    "What are estimated coefficients? What is the deviance?\n",
    "\n",
    "(b) What is your prediction for  pp=P(Ynew=1)  if a new case has attributes  \n",
    " XX1 = 12.9, XX2 = 2,  XX3 = 2.4, XX4 = 17,\n",
    " XX5 = 100,  XX6 = 2.8, XX7 = 2.1, XX8 =  0.35,  XX9 = 1.6, XX10 = 5, \n",
    "XX11 = 1.05,  XX12 = 3, and XX13 = 750?\n",
    "How would you classify this wine type, as 1, 2, or 3?\n",
    "\n",
    " \n",
    " Forina, M.,   Leardi, R.,   Armanino, C., and  Lanteri, S. (1988).\n",
    " PARVUS: An extendable package of programs for data exploration, classification and correlation,  Elsevier, Amsterdam,   ISBN 0-444-43012-1;\n",
    " also, Report at Institute of Pharmaceutical and Food Analysis and Technologies, Via Brigata Salerno,\n",
    "  16147 Genoa, Italy."
   ]
  },
  {
   "cell_type": "code",
   "execution_count": 3,
   "id": "2cbb8921",
   "metadata": {},
   "outputs": [],
   "source": [
    "data = pd.read_csv(\"../data/wine.data\", header=None)\n",
    "Y = pd.get_dummies(data[0]).to_numpy()\n",
    "X = data.drop(0, axis=1).to_numpy()\n",
    "X_aug = np.concatenate((np.ones((X.shape[0], 1)), X), axis=1)"
   ]
  },
  {
   "cell_type": "code",
   "execution_count": 4,
   "id": "59ff614f",
   "metadata": {},
   "outputs": [
    {
     "name": "stderr",
     "output_type": "stream",
     "text": [
      "Auto-assigning NUTS sampler...\n",
      "Initializing NUTS using jitter+adapt_diag...\n"
     ]
    },
    {
     "ename": "ValueError",
     "evalue": "Input dimension mismatch. One other input has shape[1] = 3, but input[1].shape[1] = 178.\nApply node that caused the error: Elemwise{TrueDiv}[(0, 0)](Dot22.0, InplaceDimShuffle{x,0}.0)\nToposort index: 6\nInputs types: [TensorType(float64, (None, None)), TensorType(float64, (1, None))]\nInputs shapes: [(178, 3), (1, 178)]\nInputs strides: [(24, 8), (1424, 8)]\nInputs values: ['not shown', 'not shown']\nOutputs clients: [[Elemwise{exp,no_inplace}(Elemwise{TrueDiv}[(0, 0)].0), Elemwise{Composite{Switch(EQ(i0, i1), i2, (i3 * i4))}}[(0, 0)](Elemwise{exp,no_inplace}.0, TensorConstant{(1, 1) of 0}, TensorConstant{[[-inf   0.. 0. -inf]]}, TensorConstant{[[1. 0. 0...0. 0. 1.]]}, Elemwise{TrueDiv}[(0, 0)].0)]]\n\nHINT: Re-running with most Aesara optimizations disabled could provide a back-trace showing when this node was created. This can be done by setting the Aesara flag 'optimizer=fast_compile'. If that does not work, Aesara optimizations can be disabled with 'optimizer=None'.\nHINT: Use the Aesara flag `exception_verbosity=high` for a debug print-out and storage map footprint of this Apply node.",
     "output_type": "error",
     "traceback": [
      "\u001b[0;31m---------------------------------------------------------------------------\u001b[0m",
      "\u001b[0;31mValueError\u001b[0m                                Traceback (most recent call last)",
      "File \u001b[0;32m~/mambaforge/envs/pymc_env/lib/python3.10/site-packages/aesara/compile/function/types.py:962\u001b[0m, in \u001b[0;36mFunction.__call__\u001b[0;34m(self, *args, **kwargs)\u001b[0m\n\u001b[1;32m    960\u001b[0m \u001b[38;5;28;01mtry\u001b[39;00m:\n\u001b[1;32m    961\u001b[0m     outputs \u001b[38;5;241m=\u001b[39m (\n\u001b[0;32m--> 962\u001b[0m         \u001b[38;5;28;43mself\u001b[39;49m\u001b[38;5;241;43m.\u001b[39;49m\u001b[43mfn\u001b[49m\u001b[43m(\u001b[49m\u001b[43m)\u001b[49m\n\u001b[1;32m    963\u001b[0m         \u001b[38;5;28;01mif\u001b[39;00m output_subset \u001b[38;5;129;01mis\u001b[39;00m \u001b[38;5;28;01mNone\u001b[39;00m\n\u001b[1;32m    964\u001b[0m         \u001b[38;5;28;01melse\u001b[39;00m \u001b[38;5;28mself\u001b[39m\u001b[38;5;241m.\u001b[39mfn(output_subset\u001b[38;5;241m=\u001b[39moutput_subset)\n\u001b[1;32m    965\u001b[0m     )\n\u001b[1;32m    966\u001b[0m \u001b[38;5;28;01mexcept\u001b[39;00m \u001b[38;5;167;01mException\u001b[39;00m:\n",
      "\u001b[0;31mValueError\u001b[0m: Input dimension mismatch. One other input has shape[1] = 3, but input[1].shape[1] = 178.",
      "\nDuring handling of the above exception, another exception occurred:\n",
      "\u001b[0;31mValueError\u001b[0m                                Traceback (most recent call last)",
      "Input \u001b[0;32mIn [4]\u001b[0m, in \u001b[0;36m<cell line: 1>\u001b[0;34m()\u001b[0m\n\u001b[1;32m      5\u001b[0m P \u001b[38;5;241m=\u001b[39m pm\u001b[38;5;241m.\u001b[39mmath\u001b[38;5;241m.\u001b[39mexp(phi \u001b[38;5;241m/\u001b[39m pm\u001b[38;5;241m.\u001b[39mmath\u001b[38;5;241m.\u001b[39msum(phi, axis\u001b[38;5;241m=\u001b[39m\u001b[38;5;241m1\u001b[39m))\n\u001b[1;32m      7\u001b[0m pm\u001b[38;5;241m.\u001b[39mMultinomial(\u001b[38;5;124m\"\u001b[39m\u001b[38;5;124mlikelihood\u001b[39m\u001b[38;5;124m\"\u001b[39m, n\u001b[38;5;241m=\u001b[39m\u001b[38;5;241m1\u001b[39m, p\u001b[38;5;241m=\u001b[39mP, observed\u001b[38;5;241m=\u001b[39mY)\n\u001b[0;32m----> 9\u001b[0m trace \u001b[38;5;241m=\u001b[39m \u001b[43mpm\u001b[49m\u001b[38;5;241;43m.\u001b[39;49m\u001b[43msample\u001b[49m\u001b[43m(\u001b[49m\u001b[38;5;241;43m2000\u001b[39;49m\u001b[43m)\u001b[49m\n",
      "File \u001b[0;32m~/mambaforge/envs/pymc_env/lib/python3.10/site-packages/pymc/sampling.py:533\u001b[0m, in \u001b[0;36msample\u001b[0;34m(draws, step, init, n_init, initvals, trace, chain_idx, chains, cores, tune, progressbar, model, random_seed, discard_tuned_samples, compute_convergence_checks, callback, jitter_max_retries, return_inferencedata, idata_kwargs, mp_ctx, **kwargs)\u001b[0m\n\u001b[1;32m    531\u001b[0m         [kwargs\u001b[38;5;241m.\u001b[39msetdefault(k, v) \u001b[38;5;28;01mfor\u001b[39;00m k, v \u001b[38;5;129;01min\u001b[39;00m nuts_kwargs\u001b[38;5;241m.\u001b[39mitems()]\n\u001b[1;32m    532\u001b[0m     _log\u001b[38;5;241m.\u001b[39minfo(\u001b[38;5;124m\"\u001b[39m\u001b[38;5;124mAuto-assigning NUTS sampler...\u001b[39m\u001b[38;5;124m\"\u001b[39m)\n\u001b[0;32m--> 533\u001b[0m     initial_points, step \u001b[38;5;241m=\u001b[39m \u001b[43minit_nuts\u001b[49m\u001b[43m(\u001b[49m\n\u001b[1;32m    534\u001b[0m \u001b[43m        \u001b[49m\u001b[43minit\u001b[49m\u001b[38;5;241;43m=\u001b[39;49m\u001b[43minit\u001b[49m\u001b[43m,\u001b[49m\n\u001b[1;32m    535\u001b[0m \u001b[43m        \u001b[49m\u001b[43mchains\u001b[49m\u001b[38;5;241;43m=\u001b[39;49m\u001b[43mchains\u001b[49m\u001b[43m,\u001b[49m\n\u001b[1;32m    536\u001b[0m \u001b[43m        \u001b[49m\u001b[43mn_init\u001b[49m\u001b[38;5;241;43m=\u001b[39;49m\u001b[43mn_init\u001b[49m\u001b[43m,\u001b[49m\n\u001b[1;32m    537\u001b[0m \u001b[43m        \u001b[49m\u001b[43mmodel\u001b[49m\u001b[38;5;241;43m=\u001b[39;49m\u001b[43mmodel\u001b[49m\u001b[43m,\u001b[49m\n\u001b[1;32m    538\u001b[0m \u001b[43m        \u001b[49m\u001b[43mrandom_seed\u001b[49m\u001b[38;5;241;43m=\u001b[39;49m\u001b[43mrandom_seed_list\u001b[49m\u001b[43m,\u001b[49m\n\u001b[1;32m    539\u001b[0m \u001b[43m        \u001b[49m\u001b[43mprogressbar\u001b[49m\u001b[38;5;241;43m=\u001b[39;49m\u001b[43mprogressbar\u001b[49m\u001b[43m,\u001b[49m\n\u001b[1;32m    540\u001b[0m \u001b[43m        \u001b[49m\u001b[43mjitter_max_retries\u001b[49m\u001b[38;5;241;43m=\u001b[39;49m\u001b[43mjitter_max_retries\u001b[49m\u001b[43m,\u001b[49m\n\u001b[1;32m    541\u001b[0m \u001b[43m        \u001b[49m\u001b[43mtune\u001b[49m\u001b[38;5;241;43m=\u001b[39;49m\u001b[43mtune\u001b[49m\u001b[43m,\u001b[49m\n\u001b[1;32m    542\u001b[0m \u001b[43m        \u001b[49m\u001b[43minitvals\u001b[49m\u001b[38;5;241;43m=\u001b[39;49m\u001b[43minitvals\u001b[49m\u001b[43m,\u001b[49m\n\u001b[1;32m    543\u001b[0m \u001b[43m        \u001b[49m\u001b[38;5;241;43m*\u001b[39;49m\u001b[38;5;241;43m*\u001b[39;49m\u001b[43mkwargs\u001b[49m\u001b[43m,\u001b[49m\n\u001b[1;32m    544\u001b[0m \u001b[43m    \u001b[49m\u001b[43m)\u001b[49m\n\u001b[1;32m    546\u001b[0m \u001b[38;5;28;01mif\u001b[39;00m initial_points \u001b[38;5;129;01mis\u001b[39;00m \u001b[38;5;28;01mNone\u001b[39;00m:\n\u001b[1;32m    547\u001b[0m     \u001b[38;5;66;03m# Time to draw/evaluate numeric start points for each chain.\u001b[39;00m\n\u001b[1;32m    548\u001b[0m     ipfns \u001b[38;5;241m=\u001b[39m make_initial_point_fns_per_chain(\n\u001b[1;32m    549\u001b[0m         model\u001b[38;5;241m=\u001b[39mmodel,\n\u001b[1;32m    550\u001b[0m         overrides\u001b[38;5;241m=\u001b[39minitvals,\n\u001b[1;32m    551\u001b[0m         jitter_rvs\u001b[38;5;241m=\u001b[39mfilter_rvs_to_jitter(step),\n\u001b[1;32m    552\u001b[0m         chains\u001b[38;5;241m=\u001b[39mchains,\n\u001b[1;32m    553\u001b[0m     )\n",
      "File \u001b[0;32m~/mambaforge/envs/pymc_env/lib/python3.10/site-packages/pymc/sampling.py:2487\u001b[0m, in \u001b[0;36minit_nuts\u001b[0;34m(init, chains, n_init, model, random_seed, progressbar, jitter_max_retries, tune, initvals, **kwargs)\u001b[0m\n\u001b[1;32m   2480\u001b[0m _log\u001b[38;5;241m.\u001b[39minfo(\u001b[38;5;124mf\u001b[39m\u001b[38;5;124m\"\u001b[39m\u001b[38;5;124mInitializing NUTS using \u001b[39m\u001b[38;5;132;01m{\u001b[39;00minit\u001b[38;5;132;01m}\u001b[39;00m\u001b[38;5;124m...\u001b[39m\u001b[38;5;124m\"\u001b[39m)\n\u001b[1;32m   2482\u001b[0m cb \u001b[38;5;241m=\u001b[39m [\n\u001b[1;32m   2483\u001b[0m     pm\u001b[38;5;241m.\u001b[39mcallbacks\u001b[38;5;241m.\u001b[39mCheckParametersConvergence(tolerance\u001b[38;5;241m=\u001b[39m\u001b[38;5;241m1e-2\u001b[39m, diff\u001b[38;5;241m=\u001b[39m\u001b[38;5;124m\"\u001b[39m\u001b[38;5;124mabsolute\u001b[39m\u001b[38;5;124m\"\u001b[39m),\n\u001b[1;32m   2484\u001b[0m     pm\u001b[38;5;241m.\u001b[39mcallbacks\u001b[38;5;241m.\u001b[39mCheckParametersConvergence(tolerance\u001b[38;5;241m=\u001b[39m\u001b[38;5;241m1e-2\u001b[39m, diff\u001b[38;5;241m=\u001b[39m\u001b[38;5;124m\"\u001b[39m\u001b[38;5;124mrelative\u001b[39m\u001b[38;5;124m\"\u001b[39m),\n\u001b[1;32m   2485\u001b[0m ]\n\u001b[0;32m-> 2487\u001b[0m initial_points \u001b[38;5;241m=\u001b[39m \u001b[43m_init_jitter\u001b[49m\u001b[43m(\u001b[49m\n\u001b[1;32m   2488\u001b[0m \u001b[43m    \u001b[49m\u001b[43mmodel\u001b[49m\u001b[43m,\u001b[49m\n\u001b[1;32m   2489\u001b[0m \u001b[43m    \u001b[49m\u001b[43minitvals\u001b[49m\u001b[43m,\u001b[49m\n\u001b[1;32m   2490\u001b[0m \u001b[43m    \u001b[49m\u001b[43mseeds\u001b[49m\u001b[38;5;241;43m=\u001b[39;49m\u001b[43mrandom_seed_list\u001b[49m\u001b[43m,\u001b[49m\n\u001b[1;32m   2491\u001b[0m \u001b[43m    \u001b[49m\u001b[43mjitter\u001b[49m\u001b[38;5;241;43m=\u001b[39;49m\u001b[38;5;124;43m\"\u001b[39;49m\u001b[38;5;124;43mjitter\u001b[39;49m\u001b[38;5;124;43m\"\u001b[39;49m\u001b[43m \u001b[49m\u001b[38;5;129;43;01min\u001b[39;49;00m\u001b[43m \u001b[49m\u001b[43minit\u001b[49m\u001b[43m,\u001b[49m\n\u001b[1;32m   2492\u001b[0m \u001b[43m    \u001b[49m\u001b[43mjitter_max_retries\u001b[49m\u001b[38;5;241;43m=\u001b[39;49m\u001b[43mjitter_max_retries\u001b[49m\u001b[43m,\u001b[49m\n\u001b[1;32m   2493\u001b[0m \u001b[43m\u001b[49m\u001b[43m)\u001b[49m\n\u001b[1;32m   2495\u001b[0m apoints \u001b[38;5;241m=\u001b[39m [DictToArrayBijection\u001b[38;5;241m.\u001b[39mmap(point) \u001b[38;5;28;01mfor\u001b[39;00m point \u001b[38;5;129;01min\u001b[39;00m initial_points]\n\u001b[1;32m   2496\u001b[0m apoints_data \u001b[38;5;241m=\u001b[39m [apoint\u001b[38;5;241m.\u001b[39mdata \u001b[38;5;28;01mfor\u001b[39;00m apoint \u001b[38;5;129;01min\u001b[39;00m apoints]\n",
      "File \u001b[0;32m~/mambaforge/envs/pymc_env/lib/python3.10/site-packages/pymc/sampling.py:2381\u001b[0m, in \u001b[0;36m_init_jitter\u001b[0;34m(model, initvals, seeds, jitter, jitter_max_retries)\u001b[0m\n\u001b[1;32m   2379\u001b[0m \u001b[38;5;28;01mif\u001b[39;00m i \u001b[38;5;241m<\u001b[39m jitter_max_retries:\n\u001b[1;32m   2380\u001b[0m     \u001b[38;5;28;01mtry\u001b[39;00m:\n\u001b[0;32m-> 2381\u001b[0m         \u001b[43mmodel\u001b[49m\u001b[38;5;241;43m.\u001b[39;49m\u001b[43mcheck_start_vals\u001b[49m\u001b[43m(\u001b[49m\u001b[43mpoint\u001b[49m\u001b[43m)\u001b[49m\n\u001b[1;32m   2382\u001b[0m     \u001b[38;5;28;01mexcept\u001b[39;00m SamplingError:\n\u001b[1;32m   2383\u001b[0m         \u001b[38;5;66;03m# Retry with a new seed\u001b[39;00m\n\u001b[1;32m   2384\u001b[0m         seed \u001b[38;5;241m=\u001b[39m rng\u001b[38;5;241m.\u001b[39mrandint(\u001b[38;5;241m2\u001b[39m\u001b[38;5;241m*\u001b[39m\u001b[38;5;241m*\u001b[39m\u001b[38;5;241m30\u001b[39m, dtype\u001b[38;5;241m=\u001b[39mnp\u001b[38;5;241m.\u001b[39mint64)\n",
      "File \u001b[0;32m~/mambaforge/envs/pymc_env/lib/python3.10/site-packages/pymc/model.py:1722\u001b[0m, in \u001b[0;36mModel.check_start_vals\u001b[0;34m(self, start)\u001b[0m\n\u001b[1;32m   1716\u001b[0m     valid_keys \u001b[38;5;241m=\u001b[39m \u001b[38;5;124m\"\u001b[39m\u001b[38;5;124m, \u001b[39m\u001b[38;5;124m\"\u001b[39m\u001b[38;5;241m.\u001b[39mjoin(\u001b[38;5;28mself\u001b[39m\u001b[38;5;241m.\u001b[39mnamed_vars\u001b[38;5;241m.\u001b[39mkeys())\n\u001b[1;32m   1717\u001b[0m     \u001b[38;5;28;01mraise\u001b[39;00m \u001b[38;5;167;01mKeyError\u001b[39;00m(\n\u001b[1;32m   1718\u001b[0m         \u001b[38;5;124m\"\u001b[39m\u001b[38;5;124mSome start parameters do not appear in the model!\u001b[39m\u001b[38;5;130;01m\\n\u001b[39;00m\u001b[38;5;124m\"\u001b[39m\n\u001b[1;32m   1719\u001b[0m         \u001b[38;5;124mf\u001b[39m\u001b[38;5;124m\"\u001b[39m\u001b[38;5;124mValid keys are: \u001b[39m\u001b[38;5;132;01m{\u001b[39;00mvalid_keys\u001b[38;5;132;01m}\u001b[39;00m\u001b[38;5;124m, but \u001b[39m\u001b[38;5;132;01m{\u001b[39;00mextra_keys\u001b[38;5;132;01m}\u001b[39;00m\u001b[38;5;124m was supplied\u001b[39m\u001b[38;5;124m\"\u001b[39m\n\u001b[1;32m   1720\u001b[0m     )\n\u001b[0;32m-> 1722\u001b[0m initial_eval \u001b[38;5;241m=\u001b[39m \u001b[38;5;28;43mself\u001b[39;49m\u001b[38;5;241;43m.\u001b[39;49m\u001b[43mpoint_logps\u001b[49m\u001b[43m(\u001b[49m\u001b[43mpoint\u001b[49m\u001b[38;5;241;43m=\u001b[39;49m\u001b[43melem\u001b[49m\u001b[43m)\u001b[49m\n\u001b[1;32m   1724\u001b[0m \u001b[38;5;28;01mif\u001b[39;00m \u001b[38;5;129;01mnot\u001b[39;00m \u001b[38;5;28mall\u001b[39m(np\u001b[38;5;241m.\u001b[39misfinite(v) \u001b[38;5;28;01mfor\u001b[39;00m v \u001b[38;5;129;01min\u001b[39;00m initial_eval\u001b[38;5;241m.\u001b[39mvalues()):\n\u001b[1;32m   1725\u001b[0m     \u001b[38;5;28;01mraise\u001b[39;00m SamplingError(\n\u001b[1;32m   1726\u001b[0m         \u001b[38;5;124m\"\u001b[39m\u001b[38;5;124mInitial evaluation of model at starting point failed!\u001b[39m\u001b[38;5;130;01m\\n\u001b[39;00m\u001b[38;5;124m\"\u001b[39m\n\u001b[1;32m   1727\u001b[0m         \u001b[38;5;124mf\u001b[39m\u001b[38;5;124m\"\u001b[39m\u001b[38;5;124mStarting values:\u001b[39m\u001b[38;5;130;01m\\n\u001b[39;00m\u001b[38;5;132;01m{\u001b[39;00melem\u001b[38;5;132;01m}\u001b[39;00m\u001b[38;5;130;01m\\n\u001b[39;00m\u001b[38;5;130;01m\\n\u001b[39;00m\u001b[38;5;124m\"\u001b[39m\n\u001b[1;32m   1728\u001b[0m         \u001b[38;5;124mf\u001b[39m\u001b[38;5;124m\"\u001b[39m\u001b[38;5;124mInitial evaluation results:\u001b[39m\u001b[38;5;130;01m\\n\u001b[39;00m\u001b[38;5;132;01m{\u001b[39;00minitial_eval\u001b[38;5;132;01m}\u001b[39;00m\u001b[38;5;124m\"\u001b[39m\n\u001b[1;32m   1729\u001b[0m     )\n",
      "File \u001b[0;32m~/mambaforge/envs/pymc_env/lib/python3.10/site-packages/pymc/model.py:1763\u001b[0m, in \u001b[0;36mModel.point_logps\u001b[0;34m(self, point, round_vals)\u001b[0m\n\u001b[1;32m   1757\u001b[0m factors \u001b[38;5;241m=\u001b[39m \u001b[38;5;28mself\u001b[39m\u001b[38;5;241m.\u001b[39mbasic_RVs \u001b[38;5;241m+\u001b[39m \u001b[38;5;28mself\u001b[39m\u001b[38;5;241m.\u001b[39mpotentials\n\u001b[1;32m   1758\u001b[0m factor_logps_fn \u001b[38;5;241m=\u001b[39m [at\u001b[38;5;241m.\u001b[39msum(factor) \u001b[38;5;28;01mfor\u001b[39;00m factor \u001b[38;5;129;01min\u001b[39;00m \u001b[38;5;28mself\u001b[39m\u001b[38;5;241m.\u001b[39mlogpt(factors, \u001b[38;5;28msum\u001b[39m\u001b[38;5;241m=\u001b[39m\u001b[38;5;28;01mFalse\u001b[39;00m)]\n\u001b[1;32m   1759\u001b[0m \u001b[38;5;28;01mreturn\u001b[39;00m {\n\u001b[1;32m   1760\u001b[0m     factor\u001b[38;5;241m.\u001b[39mname: np\u001b[38;5;241m.\u001b[39mround(np\u001b[38;5;241m.\u001b[39masarray(factor_logp), round_vals)\n\u001b[1;32m   1761\u001b[0m     \u001b[38;5;28;01mfor\u001b[39;00m factor, factor_logp \u001b[38;5;129;01min\u001b[39;00m \u001b[38;5;28mzip\u001b[39m(\n\u001b[1;32m   1762\u001b[0m         factors,\n\u001b[0;32m-> 1763\u001b[0m         \u001b[38;5;28;43mself\u001b[39;49m\u001b[38;5;241;43m.\u001b[39;49m\u001b[43mcompile_fn\u001b[49m\u001b[43m(\u001b[49m\u001b[43mfactor_logps_fn\u001b[49m\u001b[43m)\u001b[49m\u001b[43m(\u001b[49m\u001b[43mpoint\u001b[49m\u001b[43m)\u001b[49m,\n\u001b[1;32m   1764\u001b[0m     )\n\u001b[1;32m   1765\u001b[0m }\n",
      "File \u001b[0;32m~/mambaforge/envs/pymc_env/lib/python3.10/site-packages/pymc/model.py:1862\u001b[0m, in \u001b[0;36mPointFunc.__call__\u001b[0;34m(self, state)\u001b[0m\n\u001b[1;32m   1861\u001b[0m \u001b[38;5;28;01mdef\u001b[39;00m \u001b[38;5;21m__call__\u001b[39m(\u001b[38;5;28mself\u001b[39m, state):\n\u001b[0;32m-> 1862\u001b[0m     \u001b[38;5;28;01mreturn\u001b[39;00m \u001b[38;5;28;43mself\u001b[39;49m\u001b[38;5;241;43m.\u001b[39;49m\u001b[43mf\u001b[49m\u001b[43m(\u001b[49m\u001b[38;5;241;43m*\u001b[39;49m\u001b[38;5;241;43m*\u001b[39;49m\u001b[43mstate\u001b[49m\u001b[43m)\u001b[49m\n",
      "File \u001b[0;32m~/mambaforge/envs/pymc_env/lib/python3.10/site-packages/aesara/compile/function/types.py:975\u001b[0m, in \u001b[0;36mFunction.__call__\u001b[0;34m(self, *args, **kwargs)\u001b[0m\n\u001b[1;32m    973\u001b[0m     \u001b[38;5;28;01mif\u001b[39;00m \u001b[38;5;28mhasattr\u001b[39m(\u001b[38;5;28mself\u001b[39m\u001b[38;5;241m.\u001b[39mfn, \u001b[38;5;124m\"\u001b[39m\u001b[38;5;124mthunks\u001b[39m\u001b[38;5;124m\"\u001b[39m):\n\u001b[1;32m    974\u001b[0m         thunk \u001b[38;5;241m=\u001b[39m \u001b[38;5;28mself\u001b[39m\u001b[38;5;241m.\u001b[39mfn\u001b[38;5;241m.\u001b[39mthunks[\u001b[38;5;28mself\u001b[39m\u001b[38;5;241m.\u001b[39mfn\u001b[38;5;241m.\u001b[39mposition_of_error]\n\u001b[0;32m--> 975\u001b[0m     \u001b[43mraise_with_op\u001b[49m\u001b[43m(\u001b[49m\n\u001b[1;32m    976\u001b[0m \u001b[43m        \u001b[49m\u001b[38;5;28;43mself\u001b[39;49m\u001b[38;5;241;43m.\u001b[39;49m\u001b[43mmaker\u001b[49m\u001b[38;5;241;43m.\u001b[39;49m\u001b[43mfgraph\u001b[49m\u001b[43m,\u001b[49m\n\u001b[1;32m    977\u001b[0m \u001b[43m        \u001b[49m\u001b[43mnode\u001b[49m\u001b[38;5;241;43m=\u001b[39;49m\u001b[38;5;28;43mself\u001b[39;49m\u001b[38;5;241;43m.\u001b[39;49m\u001b[43mfn\u001b[49m\u001b[38;5;241;43m.\u001b[39;49m\u001b[43mnodes\u001b[49m\u001b[43m[\u001b[49m\u001b[38;5;28;43mself\u001b[39;49m\u001b[38;5;241;43m.\u001b[39;49m\u001b[43mfn\u001b[49m\u001b[38;5;241;43m.\u001b[39;49m\u001b[43mposition_of_error\u001b[49m\u001b[43m]\u001b[49m\u001b[43m,\u001b[49m\n\u001b[1;32m    978\u001b[0m \u001b[43m        \u001b[49m\u001b[43mthunk\u001b[49m\u001b[38;5;241;43m=\u001b[39;49m\u001b[43mthunk\u001b[49m\u001b[43m,\u001b[49m\n\u001b[1;32m    979\u001b[0m \u001b[43m        \u001b[49m\u001b[43mstorage_map\u001b[49m\u001b[38;5;241;43m=\u001b[39;49m\u001b[38;5;28;43mgetattr\u001b[39;49m\u001b[43m(\u001b[49m\u001b[38;5;28;43mself\u001b[39;49m\u001b[38;5;241;43m.\u001b[39;49m\u001b[43mfn\u001b[49m\u001b[43m,\u001b[49m\u001b[43m \u001b[49m\u001b[38;5;124;43m\"\u001b[39;49m\u001b[38;5;124;43mstorage_map\u001b[39;49m\u001b[38;5;124;43m\"\u001b[39;49m\u001b[43m,\u001b[49m\u001b[43m \u001b[49m\u001b[38;5;28;43;01mNone\u001b[39;49;00m\u001b[43m)\u001b[49m\u001b[43m,\u001b[49m\n\u001b[1;32m    980\u001b[0m \u001b[43m    \u001b[49m\u001b[43m)\u001b[49m\n\u001b[1;32m    981\u001b[0m \u001b[38;5;28;01melse\u001b[39;00m:\n\u001b[1;32m    982\u001b[0m     \u001b[38;5;66;03m# old-style linkers raise their own exceptions\u001b[39;00m\n\u001b[1;32m    983\u001b[0m     \u001b[38;5;28;01mraise\u001b[39;00m\n",
      "File \u001b[0;32m~/mambaforge/envs/pymc_env/lib/python3.10/site-packages/aesara/link/utils.py:538\u001b[0m, in \u001b[0;36mraise_with_op\u001b[0;34m(fgraph, node, thunk, exc_info, storage_map)\u001b[0m\n\u001b[1;32m    533\u001b[0m     warnings\u001b[38;5;241m.\u001b[39mwarn(\n\u001b[1;32m    534\u001b[0m         \u001b[38;5;124mf\u001b[39m\u001b[38;5;124m\"\u001b[39m\u001b[38;5;132;01m{\u001b[39;00mexc_type\u001b[38;5;132;01m}\u001b[39;00m\u001b[38;5;124m error does not allow us to add an extra error message\u001b[39m\u001b[38;5;124m\"\u001b[39m\n\u001b[1;32m    535\u001b[0m     )\n\u001b[1;32m    536\u001b[0m     \u001b[38;5;66;03m# Some exception need extra parameter in inputs. So forget the\u001b[39;00m\n\u001b[1;32m    537\u001b[0m     \u001b[38;5;66;03m# extra long error message in that case.\u001b[39;00m\n\u001b[0;32m--> 538\u001b[0m \u001b[38;5;28;01mraise\u001b[39;00m exc_value\u001b[38;5;241m.\u001b[39mwith_traceback(exc_trace)\n",
      "File \u001b[0;32m~/mambaforge/envs/pymc_env/lib/python3.10/site-packages/aesara/compile/function/types.py:962\u001b[0m, in \u001b[0;36mFunction.__call__\u001b[0;34m(self, *args, **kwargs)\u001b[0m\n\u001b[1;32m    959\u001b[0m t0_fn \u001b[38;5;241m=\u001b[39m time\u001b[38;5;241m.\u001b[39mtime()\n\u001b[1;32m    960\u001b[0m \u001b[38;5;28;01mtry\u001b[39;00m:\n\u001b[1;32m    961\u001b[0m     outputs \u001b[38;5;241m=\u001b[39m (\n\u001b[0;32m--> 962\u001b[0m         \u001b[38;5;28;43mself\u001b[39;49m\u001b[38;5;241;43m.\u001b[39;49m\u001b[43mfn\u001b[49m\u001b[43m(\u001b[49m\u001b[43m)\u001b[49m\n\u001b[1;32m    963\u001b[0m         \u001b[38;5;28;01mif\u001b[39;00m output_subset \u001b[38;5;129;01mis\u001b[39;00m \u001b[38;5;28;01mNone\u001b[39;00m\n\u001b[1;32m    964\u001b[0m         \u001b[38;5;28;01melse\u001b[39;00m \u001b[38;5;28mself\u001b[39m\u001b[38;5;241m.\u001b[39mfn(output_subset\u001b[38;5;241m=\u001b[39moutput_subset)\n\u001b[1;32m    965\u001b[0m     )\n\u001b[1;32m    966\u001b[0m \u001b[38;5;28;01mexcept\u001b[39;00m \u001b[38;5;167;01mException\u001b[39;00m:\n\u001b[1;32m    967\u001b[0m     restore_defaults()\n",
      "\u001b[0;31mValueError\u001b[0m: Input dimension mismatch. One other input has shape[1] = 3, but input[1].shape[1] = 178.\nApply node that caused the error: Elemwise{TrueDiv}[(0, 0)](Dot22.0, InplaceDimShuffle{x,0}.0)\nToposort index: 6\nInputs types: [TensorType(float64, (None, None)), TensorType(float64, (1, None))]\nInputs shapes: [(178, 3), (1, 178)]\nInputs strides: [(24, 8), (1424, 8)]\nInputs values: ['not shown', 'not shown']\nOutputs clients: [[Elemwise{exp,no_inplace}(Elemwise{TrueDiv}[(0, 0)].0), Elemwise{Composite{Switch(EQ(i0, i1), i2, (i3 * i4))}}[(0, 0)](Elemwise{exp,no_inplace}.0, TensorConstant{(1, 1) of 0}, TensorConstant{[[-inf   0.. 0. -inf]]}, TensorConstant{[[1. 0. 0...0. 0. 1.]]}, Elemwise{TrueDiv}[(0, 0)].0)]]\n\nHINT: Re-running with most Aesara optimizations disabled could provide a back-trace showing when this node was created. This can be done by setting the Aesara flag 'optimizer=fast_compile'. If that does not work, Aesara optimizations can be disabled with 'optimizer=None'.\nHINT: Use the Aesara flag `exception_verbosity=high` for a debug print-out and storage map footprint of this Apply node."
     ]
    }
   ],
   "source": [
    "with pm.Model() as m:\n",
    "    _b = pm.Normal(\"_b\", 0, tau=0.05, shape=(14, 3))\n",
    "    b = pm.Deterministic(\"b\", set_subtensor(_b[:, 0], 0))\n",
    "    phi = pm.math.dot(X_aug, b)\n",
    "    P = pm.math.exp(phi / pm.math.sum(phi, axis=1))\n",
    "\n",
    "    pm.Multinomial(\"likelihood\", n=1, p=P, observed=Y)\n",
    "    \n",
    "    trace = pm.sample(2000)"
   ]
  },
  {
   "cell_type": "code",
   "execution_count": null,
   "id": "de15dffc",
   "metadata": {},
   "outputs": [],
   "source": [
    "az.summary(trace)"
   ]
  },
  {
   "cell_type": "code",
   "execution_count": null,
   "id": "f4046a64",
   "metadata": {},
   "outputs": [],
   "source": []
  }
 ],
 "metadata": {
  "kernelspec": {
   "display_name": "Python 3 (ipykernel)",
   "language": "python",
   "name": "python3"
  },
  "language_info": {
   "codemirror_mode": {
    "name": "ipython",
    "version": 3
   },
   "file_extension": ".py",
   "mimetype": "text/x-python",
   "name": "python",
   "nbconvert_exporter": "python",
   "pygments_lexer": "ipython3",
   "version": "3.10.4"
  }
 },
 "nbformat": 4,
 "nbformat_minor": 5
}
