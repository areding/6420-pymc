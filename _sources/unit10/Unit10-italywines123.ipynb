{
 "cells": [
  {
   "cell_type": "code",
   "execution_count": 1,
   "id": "26b0b614",
   "metadata": {},
   "outputs": [],
   "source": [
    "import pymc as pm\n",
    "import numpy as np\n",
    "import arviz as az\n",
    "import pandas as pd\n",
    "\n",
    "%load_ext lab_black\n",
    "%load_ext watermark"
   ]
  },
  {
   "cell_type": "markdown",
   "id": "c0c5be94",
   "metadata": {},
   "source": [
    "# Wine classification\n",
    "\n",
    "This example demonstrates ...\n",
    "\n",
    "Adapted from [unit 10: italywines123.odc](https://raw.githubusercontent.com/areding/6420-pymc/main/original_examples/Codes4Unit10/italywines123.odc).\n",
    "\n",
    "Data can be found [here](https://raw.githubusercontent.com/areding/6420-pymc/main/data/r.txt).\n",
    "\n",
    "## Associated lecture video: Unit 10 Lesson 5"
   ]
  },
  {
   "cell_type": "code",
   "execution_count": 1,
   "id": "38bf6b03",
   "metadata": {},
   "outputs": [
    {
     "data": {
      "text/html": [
       "<iframe width=\"560\" height=\"315\" src=\"https://www.youtube.com/embed?v=xomK4tcePmc&list=PLv0FeK5oXK4l-RdT6DWJj0_upJOG2WKNO&index=102\" frameborder=\"0\" allow=\"autoplay; encrypted-media\" allowfullscreen></iframe>\n"
      ],
      "text/plain": [
       "<IPython.core.display.HTML object>"
      ]
     },
     "metadata": {},
     "output_type": "display_data"
    }
   ],
   "source": [
    "%%html\n",
    "<iframe width=\"560\" height=\"315\" src=\"https://www.youtube.com/embed?v=xomK4tcePmc&list=PLv0FeK5oXK4l-RdT6DWJj0_upJOG2WKNO&index=102\" frameborder=\"0\" allow=\"autoplay; encrypted-media\" allowfullscreen></iframe>"
   ]
  },
  {
   "cell_type": "markdown",
   "id": "2138e1f7",
   "metadata": {},
   "source": [
    "## Problem statement\n",
    "\n",
    "This popular data set was provided by Forina et al (1988). \n",
    "The data below consist of results of a chemical analysis of wines grown in the same region in Italy but derived from three different cultivars. The analysis determined the quantities of 13 constituents found in each of the three types of wines. \n",
    "\n",
    "  The variables are\n",
    "   Column   Variable   Description  \n",
    "  ==========================\n",
    "      1       Y     Type (Response, 1,2,3)  \n",
    "                      1 == 1 0 0;    2 == 0 1 0;   3 == 0 0 1\n",
    "      2      X1    Alcohol \n",
    " \t 3      X2    Malic acid \n",
    " \t 4      X3    Ash \n",
    "\t  5      X4    Alcalinity of ash \n",
    "  \t6      X5    Magnesium \n",
    "\t  7      X6    Total phenols \n",
    " \t 8      X7    Flavanoids \n",
    "      9      X8    Nonflavanoid phenols \n",
    "     10     X9    Proanthocyanins \n",
    "     11     X10  Color intensity \n",
    "     12     X11  Hue \n",
    "     13     X12 OD280/OD315 of diluted wines \n",
    "     14     X13  Proline \n",
    " \n",
    "\n",
    "\n",
    "\n",
    "(a) Fit the multinomial regression\n",
    "that predicts the type of wine Y from predictors  X1 - X13.\n",
    "What are estimated coefficients? What is the deviance?\n",
    "\n",
    "(b) What is your prediction for  pp=P(Ynew=1)  if a new case has attributes  \n",
    " XX1 = 12.9, XX2 = 2,  XX3 = 2.4, XX4 = 17,\n",
    " XX5 = 100,  XX6 = 2.8, XX7 = 2.1, XX8 =  0.35,  XX9 = 1.6, XX10 = 5, \n",
    "XX11 = 1.05,  XX12 = 3, and XX13 = 750?\n",
    "How would you classify this wine type, as 1, 2, or 3?\n",
    "\n",
    " \n",
    " Forina, M.,   Leardi, R.,   Armanino, C., and  Lanteri, S. (1988).\n",
    " PARVUS: An extendable package of programs for data exploration, classification and correlation,  Elsevier, Amsterdam,   ISBN 0-444-43012-1;\n",
    " also, Report at Institute of Pharmaceutical and Food Analysis and Technologies, Via Brigata Salerno,\n",
    "  16147 Genoa, Italy."
   ]
  }
 ],
 "metadata": {
  "kernelspec": {
   "display_name": "Python 3 (ipykernel)",
   "language": "python",
   "name": "python3"
  },
  "language_info": {
   "codemirror_mode": {
    "name": "ipython",
    "version": 3
   },
   "file_extension": ".py",
   "mimetype": "text/x-python",
   "name": "python",
   "nbconvert_exporter": "python",
   "pygments_lexer": "ipython3",
   "version": "3.10.1"
  }
 },
 "nbformat": 4,
 "nbformat_minor": 5
}
