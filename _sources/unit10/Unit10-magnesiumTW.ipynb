{
 "cells": [
  {
   "cell_type": "code",
   "execution_count": 1,
   "id": "72c08d5f",
   "metadata": {},
   "outputs": [],
   "source": [
    "import pymc as pm\n",
    "import numpy as np\n",
    "import arviz as az\n",
    "import pandas as pd\n",
    "\n",
    "%load_ext lab_black\n",
    "%load_ext watermark"
   ]
  },
  {
   "cell_type": "markdown",
   "id": "8375a9e5",
   "metadata": {},
   "source": [
    "# Magnesium for myocardial infarction\n",
    "\n",
    "This example demonstrates ...\n",
    "\n",
    "Adapted from [unit 10: magnesiumTW.odc](https://raw.githubusercontent.com/areding/6420-pymc/main/original_examples/Codes4Unit10/magnesiumTW.odc).\n",
    "\n",
    "Data can be found [here](https://raw.githubusercontent.com/areding/6420-pymc/main/data/r.txt).\n",
    "\n",
    "No associated lecture video?"
   ]
  },
  {
   "cell_type": "markdown",
   "id": "660056d5",
   "metadata": {},
   "source": [
    "## Problem statement\n",
    "\n",
    "The randomized controlled trials of magnesium treatment in the prevention of death following myocardial infarction are a well known example where publication bias, demonstrated by an asymmetrical funnel plot, has been suggested\n",
    "as an explanation for the discrepancy\n",
    "between meta-analyses which showed a clear beneficial\n",
    "effect of magnesium therapy on mortality (Teo et al, 1991; Horner 1992) and a\n",
    "subsequent large trial which showed no effect (ISIS-4).\n",
    "\n",
    " \n",
    "Results from 16 trials of intravenous magnesium in acute\n",
    "myocardial infarction  \n",
    "\n",
    "                            Magnesium   Control \n",
    "Study                    Deaths Total  Deaths Total\n",
    "===============================\n",
    "Morton  1984            1   40         2    36 \n",
    "Rasmussen  1986     9  135       23   135\n",
    "Smith  1986              2  200        7  200\n",
    "Abraham  1987         1   48         1  46\n",
    "Feldstedt  1988       10  150        8   148 \n",
    "Schechter  1989       1   59         9   56\n",
    "Ceremuzynski  1989  1  25         3  23\n",
    "Bertschat  1989          0  22       1  21\n",
    "Singh  &1990 & 6 &76 &11 &75\\\\\n",
    "Pereira &1990 &1 &27 &7 &27\\\\\n",
    "Schechter \\& Hod 1 &1991 &2 &89 &12 &80\\\\\n",
    "Golf &1991 &5 &23 &13 &33\\\\\n",
    "Thogersen  1991     4  130    8  122 \n",
    "LIMIT-2 &1992 &90 &1159& 118 &1157\\\\\n",
    "Schechter 1995    4  107  17 &108 \n",
    "ISIS-4  1995  2216 29011  2103  29039 \n",
    "\\hline\n",
    "\\end{tabular}\n",
    "\\end{table}\n",
    "\n",
    "\n",
    "(a) Using a Bayesian model, WinBUGS, and log odds ratio  as a study effect,\n",
    "conduct a Bayesian meta-analysis. Discuss your findings.\n",
    "\n",
    "\n",
    "(b) Read about publication bias and funnel plots.\n",
    "Plot the posterior means for log odds ratios against  posterior\n",
    "standard deviations. (A Bayesian version of funnel plot)\n",
    "Discuss your findings.\n",
    "\n",
    "\\vspace*{0.1in}\n",
    "\n",
    "{\\footnotesize\n",
    " Teo, K. K., Yusuf, S., Collins, R., Held, P. H., and Peto, R. (1991).\n",
    "  Effects of intravenous\n",
    "magnesium in suspected acute myocardial infarction: overview of\n",
    "randomised trials. {\\it Br. Med. J.}, {\\bf 303}, 1499--1503.\n",
    "\n",
    "  Horner S. M. (1992). Efficacy of intravenous magnesium in acute myocardial\n",
    "infarction in reducing arrhythmias and mortality: Meta-analysis of magnesium\n",
    "in acute myocardial infarction. {\\it Circulation}, {\\bf 86},  774--779.\n",
    "\n",
    " ISIS-4 Collaborative Group. (1995). ISIS-4: A randomised factorial trial assessing\n",
    "early oral captopril, oral mononitrate, and intravenous magnesium\n",
    "sulphate in 58,050 patients with suspected acute myocardial infarction.\n",
    "{\\it Lancet}, {\\bf 345}, 669--687.\n",
    "}"
   ]
  },
  {
   "cell_type": "code",
   "execution_count": null,
   "id": "35de4172",
   "metadata": {},
   "outputs": [],
   "source": []
  }
 ],
 "metadata": {
  "kernelspec": {
   "display_name": "Python 3 (ipykernel)",
   "language": "python",
   "name": "python3"
  },
  "language_info": {
   "codemirror_mode": {
    "name": "ipython",
    "version": 3
   },
   "file_extension": ".py",
   "mimetype": "text/x-python",
   "name": "python",
   "nbconvert_exporter": "python",
   "pygments_lexer": "ipython3",
   "version": "3.10.1"
  }
 },
 "nbformat": 4,
 "nbformat_minor": 5
}
