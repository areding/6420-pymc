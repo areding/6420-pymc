{
 "cells": [
  {
   "cell_type": "code",
   "execution_count": 1,
   "id": "da0d5a8c",
   "metadata": {},
   "outputs": [],
   "source": [
    "import pymc as pm\n",
    "import numpy as np\n",
    "import arviz as az\n",
    "import pandas as pd\n",
    "\n",
    "%load_ext lab_black\n",
    "%load_ext watermark"
   ]
  },
  {
   "cell_type": "markdown",
   "id": "95629fad",
   "metadata": {},
   "source": [
    "# Prediction of time series\n",
    "\n",
    "This example demonstrates ...\n",
    "\n",
    "Adapted from [unit 10: sunspots.odc](https://raw.githubusercontent.com/areding/6420-pymc/main/original_examples/Codes4Unit10/sunspots.odc).\n",
    "\n",
    "Data can be found [here](https://raw.githubusercontent.com/areding/6420-pymc/main/data/sunspots.txt).\n",
    "\n",
    "## Associated lecture video: Unit 10 Lesson 7"
   ]
  },
  {
   "cell_type": "code",
   "execution_count": 2,
   "id": "2849ff1e",
   "metadata": {},
   "outputs": [
    {
     "data": {
      "text/html": [
       "<iframe width=\"560\" height=\"315\" src=\"https://www.youtube.com/embed?v=xomK4tcePmc&list=PLv0FeK5oXK4l-RdT6DWJj0_upJOG2WKNO&index=104\" frameborder=\"0\" allow=\"autoplay; encrypted-media\" allowfullscreen></iframe>\n"
      ],
      "text/plain": [
       "<IPython.core.display.HTML object>"
      ]
     },
     "metadata": {},
     "output_type": "display_data"
    }
   ],
   "source": [
    "%%html\n",
    "<iframe width=\"560\" height=\"315\" src=\"https://www.youtube.com/embed?v=xomK4tcePmc&list=PLv0FeK5oXK4l-RdT6DWJj0_upJOG2WKNO&index=104\" frameborder=\"0\" allow=\"autoplay; encrypted-media\" allowfullscreen></iframe>"
   ]
  },
  {
   "cell_type": "markdown",
   "id": "4ddc5b2c",
   "metadata": {},
   "source": [
    "## Problem statement\n",
    "\n",
    "Sunspot numbers observed each year from 1770 to 1869. \n",
    "\n",
    "BUGS Book Page 258."
   ]
  },
  {
   "cell_type": "code",
   "execution_count": 3,
   "id": "f9a8a093",
   "metadata": {},
   "outputs": [],
   "source": [
    "y = np.loadtxt(\"../data/sunspots.txt\")"
   ]
  },
  {
   "cell_type": "code",
   "execution_count": 4,
   "id": "6ba29547",
   "metadata": {},
   "outputs": [
    {
     "ename": "TypeError",
     "evalue": "'TensorVariable' object does not support item assignment",
     "output_type": "error",
     "traceback": [
      "\u001b[0;31m---------------------------------------------------------------------------\u001b[0m",
      "\u001b[0;31mTypeError\u001b[0m                                 Traceback (most recent call last)",
      "Input \u001b[0;32mIn [4]\u001b[0m, in \u001b[0;36m<cell line: 1>\u001b[0;34m()\u001b[0m\n\u001b[1;32m      8\u001b[0m mu \u001b[38;5;241m=\u001b[39m c \u001b[38;5;241m+\u001b[39m theta \u001b[38;5;241m*\u001b[39m y\n\u001b[1;32m      9\u001b[0m eps \u001b[38;5;241m=\u001b[39m y \u001b[38;5;241m-\u001b[39m mu\n\u001b[0;32m---> 11\u001b[0m mu[\u001b[38;5;241m1\u001b[39m] \u001b[38;5;241m=\u001b[39m y[\u001b[38;5;241m1\u001b[39m] \u001b[38;5;241m-\u001b[39m eps[\u001b[38;5;241m1\u001b[39m]\n\u001b[1;32m     12\u001b[0m eps[\u001b[38;5;241m1\u001b[39m] \u001b[38;5;241m=\u001b[39m eps_1\n\u001b[1;32m     15\u001b[0m pm\u001b[38;5;241m.\u001b[39mNormal(\u001b[38;5;124m\"\u001b[39m\u001b[38;5;124mlikelihood\u001b[39m\u001b[38;5;124m\"\u001b[39m, mu\u001b[38;5;241m=\u001b[39mmu, tau\u001b[38;5;241m=\u001b[39mtau)\n",
      "\u001b[0;31mTypeError\u001b[0m: 'TensorVariable' object does not support item assignment"
     ]
    }
   ],
   "source": [
    "with pm.Model() as m:\n",
    "    eps_1 = pm.Normal(\"eps_1\", 0, tau=.0001)\n",
    "    theta = pm.Normal(\"theta\", 0, tau=.0001)\n",
    "    c = pm.Normal(\"c\", 0, tau=.0001)\n",
    "    sigma = pm.Uniform(\"sigma\", 0, 100)\n",
    "    tau = 1/(sigma**2)\n",
    "    \n",
    "    mu = c + theta * y\n",
    "    eps = y - mu\n",
    "\n",
    "    mu[1] = y[1] - eps[1]\n",
    "    eps[1] = eps_1\n",
    "    \n",
    "\n",
    "    pm.Normal(\"likelihood\", mu=mu, tau=tau)\n",
    "    "
   ]
  },
  {
   "cell_type": "markdown",
   "id": "ec6f41da",
   "metadata": {},
   "source": [
    "notes:\n",
    "\n",
    "- try above way first, but also just found pm.AR under timeseries, so check that out."
   ]
  }
 ],
 "metadata": {
  "kernelspec": {
   "display_name": "Python 3 (ipykernel)",
   "language": "python",
   "name": "python3"
  },
  "language_info": {
   "codemirror_mode": {
    "name": "ipython",
    "version": 3
   },
   "file_extension": ".py",
   "mimetype": "text/x-python",
   "name": "python",
   "nbconvert_exporter": "python",
   "pygments_lexer": "ipython3",
   "version": "3.10.4"
  }
 },
 "nbformat": 4,
 "nbformat_minor": 5
}
