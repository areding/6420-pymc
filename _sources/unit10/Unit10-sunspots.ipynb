{
 "cells": [
  {
   "cell_type": "code",
   "execution_count": 16,
   "id": "53cc8b70",
   "metadata": {},
   "outputs": [
    {
     "name": "stdout",
     "output_type": "stream",
     "text": [
      "The lab_black extension is already loaded. To reload it, use:\n",
      "  %reload_ext lab_black\n",
      "The watermark extension is already loaded. To reload it, use:\n",
      "  %reload_ext watermark\n"
     ]
    }
   ],
   "source": [
    "import pymc as pm\n",
    "import numpy as np\n",
    "import arviz as az\n",
    "import pandas as pd\n",
    "import aesara.tensor.subtensor as st\n",
    "import aesara.tensor as at\n",
    "\n",
    "%load_ext lab_black\n",
    "%load_ext watermark"
   ]
  },
  {
   "cell_type": "markdown",
   "id": "3be83bca",
   "metadata": {},
   "source": [
    "# Prediction of time series\n",
    "\n",
    "This example demonstrates ...\n",
    "\n",
    "Adapted from [unit 10: sunspots.odc](https://raw.githubusercontent.com/areding/6420-pymc/main/original_examples/Codes4Unit10/sunspots.odc).\n",
    "\n",
    "Data can be found [here](https://raw.githubusercontent.com/areding/6420-pymc/main/data/sunspots.txt).\n",
    "\n",
    "Associated lecture video: Unit 10 Lesson 7"
   ]
  },
  {
   "cell_type": "markdown",
   "id": "c2a90275",
   "metadata": {},
   "source": [
    "## Problem statement\n",
    "\n",
    "Sunspot numbers observed each year from 1770 to 1869. \n",
    "\n",
    "BUGS Book Page 258."
   ]
  },
  {
   "cell_type": "code",
   "execution_count": 3,
   "id": "12a17d2a",
   "metadata": {},
   "outputs": [],
   "source": [
    "y = np.loadtxt(\"../data/sunspots.txt\")"
   ]
  },
  {
   "cell_type": "code",
   "execution_count": 13,
   "id": "2dc81b21",
   "metadata": {},
   "outputs": [
    {
     "data": {
      "text/plain": [
       "array([100.8,  81.6,  66.5,  34.8,  30.6,   7. ,  19.8,  92.5, 154.4,\n",
       "       125.9,  84.8,  68.1,  38.5,  22.8,  10.2,  24.1,  82.9, 132. ,\n",
       "       130.9, 118.1,  89.9,  66.6,  60. ,  46.9,  41. ,  21.3,  16. ,\n",
       "         6.4,   4.1,   6.8,  14.5,  34. ,  45. ,  43.1,  47.5,  42.2,\n",
       "        28.1,  10.1,   8.1,   2.5,   0. ,   1.4,   5. ,  12.2,  13.9,\n",
       "        35.4,  45.8,  41.1,  30.4,  23.9,  15.7,   6.6,   4. ,   1.8,\n",
       "         8.5,  16.6,  36.3,  49.7,  62.5,  67. ,  71. ,  47.8,  27.5,\n",
       "         8.5,  13.2,  56.9, 121.5, 138.3, 103.2,  85.8,  63.2,  36.8,\n",
       "        24.2,  10.7,  15. ,  40.1,  61.5,  98.5, 124.3,  95.9,  66.5,\n",
       "        64.5,  54.2,  39. ,  20.6,   6.7,   4.3,  22.8,  54.8,  93.8,\n",
       "        95.7,  77.2,  59.1,  44. ,  47. ,  30.5,  16.3,   7.3,  37.3,\n",
       "        73.9])"
      ]
     },
     "execution_count": 13,
     "metadata": {},
     "output_type": "execute_result"
    }
   ],
   "source": [
    "y"
   ]
  },
  {
   "cell_type": "code",
   "execution_count": 14,
   "id": "21d3d325",
   "metadata": {},
   "outputs": [
    {
     "data": {
      "text/plain": [
       "(100,)"
      ]
     },
     "execution_count": 14,
     "metadata": {},
     "output_type": "execute_result"
    }
   ],
   "source": [
    "y.shape"
   ]
  },
  {
   "cell_type": "code",
   "execution_count": 11,
   "id": "bb539821",
   "metadata": {},
   "outputs": [],
   "source": [
    "t = np.array(range(100))\n",
    "yr = t + 1770"
   ]
  },
  {
   "cell_type": "code",
   "execution_count": 15,
   "id": "0285100b",
   "metadata": {},
   "outputs": [],
   "source": [
    "coords = {\"t\": t, \"y\": y}"
   ]
  },
  {
   "cell_type": "code",
   "execution_count": 4,
   "id": "38c17261",
   "metadata": {},
   "outputs": [
    {
     "ename": "TypeError",
     "evalue": "'TensorVariable' object does not support item assignment",
     "output_type": "error",
     "traceback": [
      "\u001b[0;31m---------------------------------------------------------------------------\u001b[0m",
      "\u001b[0;31mTypeError\u001b[0m                                 Traceback (most recent call last)",
      "Input \u001b[0;32mIn [4]\u001b[0m, in \u001b[0;36m<cell line: 1>\u001b[0;34m()\u001b[0m\n\u001b[1;32m      8\u001b[0m mu \u001b[38;5;241m=\u001b[39m c \u001b[38;5;241m+\u001b[39m theta \u001b[38;5;241m*\u001b[39m y\n\u001b[1;32m      9\u001b[0m eps \u001b[38;5;241m=\u001b[39m y \u001b[38;5;241m-\u001b[39m mu\n\u001b[0;32m---> 11\u001b[0m mu[\u001b[38;5;241m1\u001b[39m] \u001b[38;5;241m=\u001b[39m y[\u001b[38;5;241m1\u001b[39m] \u001b[38;5;241m-\u001b[39m eps[\u001b[38;5;241m1\u001b[39m]\n\u001b[1;32m     12\u001b[0m eps[\u001b[38;5;241m1\u001b[39m] \u001b[38;5;241m=\u001b[39m eps_1\n\u001b[1;32m     15\u001b[0m pm\u001b[38;5;241m.\u001b[39mNormal(\u001b[38;5;124m\"\u001b[39m\u001b[38;5;124mlikelihood\u001b[39m\u001b[38;5;124m\"\u001b[39m, mu\u001b[38;5;241m=\u001b[39mmu, tau\u001b[38;5;241m=\u001b[39mtau)\n",
      "\u001b[0;31mTypeError\u001b[0m: 'TensorVariable' object does not support item assignment"
     ]
    }
   ],
   "source": [
    "with pm.Model(coords=coords) as m:\n",
    "    m = \n",
    "    \n",
    "    \n",
    "    eps_1 = pm.Normal(\"eps_1\", 0, tau=.0001)\n",
    "    m[1] = y[1] - eps[1]\n",
    "\n",
    "    theta = pm.Normal(\"theta\", 0, tau=.0001)\n",
    "    c = pm.Normal(\"c\", 0, tau=.0001)\n",
    "    sigma = pm.Uniform(\"sigma\", 0, 100)\n",
    "    tau = 1/(sigma**2)\n",
    "    \n",
    "    m = c + theta * y\n",
    "    eps = y - m\n",
    "\n",
    "    eps[1] = eps_1\n",
    "    yr = t + 1769\n",
    "    \n",
    "    pm.Normal(\"likelihood\", mu=m, tau=tau)\n",
    "    \n",
    "    trace = pm.sample(3000)"
   ]
  },
  {
   "cell_type": "code",
   "execution_count": null,
   "id": "95f82155",
   "metadata": {},
   "outputs": [],
   "source": []
  },
  {
   "cell_type": "markdown",
   "id": "4fb42287",
   "metadata": {},
   "source": [
    "notes:\n",
    "\n",
    "- try above way first, but also just found pm.AR under timeseries, so check that out."
   ]
  }
 ],
 "metadata": {
  "kernelspec": {
   "display_name": "Python 3 (ipykernel)",
   "language": "python",
   "name": "python3"
  },
  "language_info": {
   "codemirror_mode": {
    "name": "ipython",
    "version": 3
   },
   "file_extension": ".py",
   "mimetype": "text/x-python",
   "name": "python",
   "nbconvert_exporter": "python",
   "pygments_lexer": "ipython3",
   "version": "3.10.4"
  }
 },
 "nbformat": 4,
 "nbformat_minor": 5
}
