{
 "cells": [
  {
   "cell_type": "code",
   "execution_count": 1,
   "id": "f86755aa",
   "metadata": {},
   "outputs": [],
   "source": [
    "import pymc as pm\n",
    "import numpy as np\n",
    "import arviz as az\n",
    "import pandas as pd\n",
    "\n",
    "%load_ext lab_black\n",
    "%load_ext watermark"
   ]
  },
  {
   "cell_type": "markdown",
   "id": "910ab09e",
   "metadata": {},
   "source": [
    "# Revisiting UK coal mining disasters\n",
    "\n",
    "This example demonstrates ...\n",
    "\n",
    "Adapted from [unit 10: disasters.odc](https://raw.githubusercontent.com/areding/6420-pymc/main/original_examples/Codes4Unit10/disasters.odc).\n",
    "\n",
    "Data can be found [here](https://raw.githubusercontent.com/areding/6420-pymc/main/data/r.txt).\n",
    "\n",
    "## Associated lecture video: Unit 10 Lesson 3"
   ]
  },
  {
   "cell_type": "code",
   "execution_count": 2,
   "id": "bb73e2e0",
   "metadata": {},
   "outputs": [
    {
     "data": {
      "text/html": [
       "<iframe width=\"560\" height=\"315\" src=\"https://www.youtube.com/embed?v=xomK4tcePmc&list=PLv0FeK5oXK4l-RdT6DWJj0_upJOG2WKNO&index=100\" frameborder=\"0\" allow=\"autoplay; encrypted-media\" allowfullscreen></iframe>\n"
      ],
      "text/plain": [
       "<IPython.core.display.HTML object>"
      ]
     },
     "metadata": {},
     "output_type": "display_data"
    }
   ],
   "source": [
    "%%html\n",
    "<iframe width=\"560\" height=\"315\" src=\"https://www.youtube.com/embed?v=xomK4tcePmc&list=PLv0FeK5oXK4l-RdT6DWJj0_upJOG2WKNO&index=100\" frameborder=\"0\" allow=\"autoplay; encrypted-media\" allowfullscreen></iframe>"
   ]
  },
  {
   "cell_type": "markdown",
   "id": "6f806454",
   "metadata": {},
   "source": [
    "## Problem statement\n",
    "\n",
    "Change Point Analysis, discussed in Unit 5 (Gibbs Sampler).\n",
    "\n",
    "British coal mine disaster data by year (1851-1962)  \n",
    "\n",
    "The 112 data points represent the numbers of coal-mining disasters involving 10 or more men killed per year between  1851 and 1962. \n",
    " \n",
    "Based on the observation that the there was a significant decrease around 1900, it is suitable to apply a change-point model to divide the whole dataset into two periods; each period with its own distribution of number of disasters.\n",
    " \n",
    "The data set was compiled by Maguire, Pearson and Wynn in 1952 and \n",
    "updated by Jarrett (1978). This data have been used by a number of authors to illustrate various techniques that can be applied to point processes\n",
    "\n",
    "\n",
    " Maguire, B. A., Pearson, E. S. and Wynn, A. H. A. (1952). The time intervals between industrial accidents.   Biometrika, 39, 168\u0013†180.\n",
    "\n",
    " Jarrett, R.G. (1979). A note on the intervals between coal-mining disasters. Biometrika, 66, 191-193. \n",
    "\n",
    " Carlin, Gelfand, and Smith (1992) Heirarchical Bayesian Analysis of Changepoint Problems. Applied Statistics, 41, 389-405.\n"
   ]
  },
  {
   "cell_type": "code",
   "execution_count": null,
   "id": "37311a26",
   "metadata": {},
   "outputs": [],
   "source": []
  }
 ],
 "metadata": {
  "kernelspec": {
   "display_name": "Python 3 (ipykernel)",
   "language": "python",
   "name": "python3"
  },
  "language_info": {
   "codemirror_mode": {
    "name": "ipython",
    "version": 3
   },
   "file_extension": ".py",
   "mimetype": "text/x-python",
   "name": "python",
   "nbconvert_exporter": "python",
   "pygments_lexer": "ipython3",
   "version": "3.10.1"
  }
 },
 "nbformat": 4,
 "nbformat_minor": 5
}
