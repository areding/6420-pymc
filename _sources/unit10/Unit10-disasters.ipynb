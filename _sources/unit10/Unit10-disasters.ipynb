{
 "cells": [
  {
   "cell_type": "code",
   "execution_count": 1,
   "id": "81c27040",
   "metadata": {},
   "outputs": [],
   "source": [
    "import pymc as pm\n",
    "import numpy as np\n",
    "import arviz as az\n",
    "from pymc.math import switch, ge, exp\n",
    "\n",
    "%load_ext lab_black\n",
    "%load_ext watermark"
   ]
  },
  {
   "cell_type": "markdown",
   "id": "37138bca",
   "metadata": {},
   "source": [
    "# Revisiting UK coal mining disasters\n",
    "\n",
    "Adapted from [Unit 10: disasters.odc](https://raw.githubusercontent.com/areding/6420-pymc/main/original_examples/Codes4Unit10/disasters.odc).\n",
    "\n",
    "Data can be found [here](https://raw.githubusercontent.com/areding/6420-pymc/main/data/r.txt).\n",
    "\n",
    "Associated lecture video: Unit 10 lesson 3"
   ]
  },
  {
   "cell_type": "markdown",
   "id": "e79c8243",
   "metadata": {},
   "source": [
    "## Problem statement\n",
    "\n",
    "Change Point Analysis, discussed in Unit 5 (Gibbs Sampler).\n",
    "\n",
    "British coal mine disaster data by year (1851-1962)  \n",
    "\n",
    "The 112 data points represent the numbers of coal-mining disasters involving 10 or more men killed per year between  1851 and 1962. \n",
    " \n",
    "Based on the observation that the there was a significant decrease around 1900, it is suitable to apply a change-point model to divide the whole dataset into two periods; each period with its own distribution of number of disasters.\n",
    " \n",
    "The data set was compiled by Maguire, Pearson and Wynn in 1952 and \n",
    "updated by Jarrett (1978). This data have been used by a number of authors to illustrate various techniques that can be applied to point processes\n",
    "\n",
    "\n",
    " Maguire, B. A., Pearson, E. S. and Wynn, A. H. A. (1952). The time intervals between industrial accidents.   Biometrika, 39, 168\u0013†180.\n",
    "\n",
    " Jarrett, R.G. (1979). A note on the intervals between coal-mining disasters. Biometrika, 66, 191-193. \n",
    "\n",
    " Carlin, Gelfand, and Smith (1992) Heirarchical Bayesian Analysis of Changepoint Problems. Applied Statistics, 41, 389-405.\n"
   ]
  },
  {
   "cell_type": "code",
   "execution_count": 2,
   "id": "45e6f391",
   "metadata": {},
   "outputs": [],
   "source": [
    "# X is the number of coal mine disasters per year\n",
    "# fmt: off\n",
    "X = np.array([4, 5, 4, 1, 0, 4, 3, 4, 0, 6, 3, 3, 4, 0, 2, 6, 3, 3, 5, 4, 5, 3, 1,\n",
    "     4, 4, 1, 5, 5, 3, 4, 2, 5, 2, 2, 3, 4, 2, 1, 3, 2, 2, 1, 1, 1, 1, 3,\n",
    "     0, 0, 1, 0, 1, 1, 0, 0, 3, 1, 0, 3, 2, 2, 0, 1, 1, 1, 0, 1, 0, 1, 0,\n",
    "     0, 0, 2, 1, 0, 0, 0, 1, 1, 0, 2, 3, 3, 1, 1, 2, 1, 1, 1, 1, 2, 4, 2,\n",
    "     0, 0, 0, 1, 4, 0, 0, 0, 1, 0, 0, 0, 0, 0, 1, 0, 0, 1, 0, 1])\n",
    "# fmt: on\n",
    "\n",
    "y = np.array([y for y in range(1851, 1963)])"
   ]
  },
  {
   "cell_type": "markdown",
   "id": "527ddd88",
   "metadata": {},
   "source": [
    "## Model 1"
   ]
  },
  {
   "cell_type": "code",
   "execution_count": 3,
   "id": "482d95b6",
   "metadata": {},
   "outputs": [
    {
     "name": "stderr",
     "output_type": "stream",
     "text": [
      "/Users/aaron/mambaforge/envs/pymc_env2/lib/python3.11/site-packages/multipledispatch/dispatcher.py:27: AmbiguityWarning: \n",
      "Ambiguities exist in dispatched function _unify\n",
      "\n",
      "The following signatures may result in ambiguous behavior:\n",
      "\t[object, ConstrainedVar, Mapping], [ConstrainedVar, object, Mapping]\n",
      "\t[object, ConstrainedVar, Mapping], [ConstrainedVar, object, Mapping]\n",
      "\t[object, ConstrainedVar, Mapping], [ConstrainedVar, Var, Mapping]\n",
      "\t[ConstrainedVar, Var, Mapping], [object, ConstrainedVar, Mapping]\n",
      "\n",
      "\n",
      "Consider making the following additions:\n",
      "\n",
      "@dispatch(ConstrainedVar, ConstrainedVar, Mapping)\n",
      "def _unify(...)\n",
      "\n",
      "@dispatch(ConstrainedVar, ConstrainedVar, Mapping)\n",
      "def _unify(...)\n",
      "\n",
      "@dispatch(ConstrainedVar, ConstrainedVar, Mapping)\n",
      "def _unify(...)\n",
      "\n",
      "@dispatch(ConstrainedVar, ConstrainedVar, Mapping)\n",
      "def _unify(...)\n",
      "  warn(warning_text(dispatcher.name, ambiguities), AmbiguityWarning)\n",
      "Auto-assigning NUTS sampler...\n",
      "Initializing NUTS using jitter+adapt_diag...\n",
      "Multiprocess sampling (4 chains in 4 jobs)\n",
      "NUTS: [year, λ, μ]\n"
     ]
    },
    {
     "data": {
      "text/html": [
       "\n",
       "<style>\n",
       "    /* Turns off some styling */\n",
       "    progress {\n",
       "        /* gets rid of default border in Firefox and Opera. */\n",
       "        border: none;\n",
       "        /* Needs to be in here for Safari polyfill so background images work as expected. */\n",
       "        background-size: auto;\n",
       "    }\n",
       "    progress:not([value]), progress:not([value])::-webkit-progress-bar {\n",
       "        background: repeating-linear-gradient(45deg, #7e7e7e, #7e7e7e 10px, #5c5c5c 10px, #5c5c5c 20px);\n",
       "    }\n",
       "    .progress-bar-interrupted, .progress-bar-interrupted::-webkit-progress-bar {\n",
       "        background: #F44336;\n",
       "    }\n",
       "</style>\n"
      ],
      "text/plain": [
       "<IPython.core.display.HTML object>"
      ]
     },
     "metadata": {},
     "output_type": "display_data"
    },
    {
     "data": {
      "text/html": [
       "\n",
       "    <div>\n",
       "      <progress value='12000' class='' max='12000' style='width:300px; height:20px; vertical-align: middle;'></progress>\n",
       "      100.00% [12000/12000 05:17&lt;00:00 Sampling 4 chains, 0 divergences]\n",
       "    </div>\n",
       "    "
      ],
      "text/plain": [
       "<IPython.core.display.HTML object>"
      ]
     },
     "metadata": {},
     "output_type": "display_data"
    },
    {
     "name": "stderr",
     "output_type": "stream",
     "text": [
      "Sampling 4 chains for 1_000 tune and 2_000 draw iterations (4_000 + 8_000 draws total) took 318 seconds.\n"
     ]
    }
   ],
   "source": [
    "α = 4\n",
    "β = 1\n",
    "γ = 0.5\n",
    "δ = 1\n",
    "\n",
    "with pm.Model() as m:\n",
    "    year = pm.Uniform(\"year\", 1851, 1963)\n",
    "    λ = pm.Gamma(\"λ\", α, β)\n",
    "    μ = pm.Gamma(\"μ\", γ, δ)\n",
    "\n",
    "    diff = pm.Deterministic(\"diff\", μ - λ)\n",
    "\n",
    "    rate = λ + switch(ge(y - year, 0), 1, 0) * diff\n",
    "    pm.Poisson(\"lik\", mu=rate, observed=X)\n",
    "\n",
    "    trace = pm.sample(2000)"
   ]
  },
  {
   "cell_type": "code",
   "execution_count": 4,
   "id": "9bd529a2",
   "metadata": {},
   "outputs": [
    {
     "data": {
      "text/html": [
       "<div>\n",
       "<style scoped>\n",
       "    .dataframe tbody tr th:only-of-type {\n",
       "        vertical-align: middle;\n",
       "    }\n",
       "\n",
       "    .dataframe tbody tr th {\n",
       "        vertical-align: top;\n",
       "    }\n",
       "\n",
       "    .dataframe thead th {\n",
       "        text-align: right;\n",
       "    }\n",
       "</style>\n",
       "<table border=\"1\" class=\"dataframe\">\n",
       "  <thead>\n",
       "    <tr style=\"text-align: right;\">\n",
       "      <th></th>\n",
       "      <th>mean</th>\n",
       "      <th>sd</th>\n",
       "      <th>hdi_3%</th>\n",
       "      <th>hdi_97%</th>\n",
       "      <th>mcse_mean</th>\n",
       "      <th>mcse_sd</th>\n",
       "      <th>ess_bulk</th>\n",
       "      <th>ess_tail</th>\n",
       "      <th>r_hat</th>\n",
       "    </tr>\n",
       "  </thead>\n",
       "  <tbody>\n",
       "    <tr>\n",
       "      <th>year</th>\n",
       "      <td>1890.476</td>\n",
       "      <td>2.391</td>\n",
       "      <td>1886.000</td>\n",
       "      <td>1894.676</td>\n",
       "      <td>0.114</td>\n",
       "      <td>0.081</td>\n",
       "      <td>473.0</td>\n",
       "      <td>384.0</td>\n",
       "      <td>1.01</td>\n",
       "    </tr>\n",
       "    <tr>\n",
       "      <th>λ</th>\n",
       "      <td>3.155</td>\n",
       "      <td>0.277</td>\n",
       "      <td>2.617</td>\n",
       "      <td>3.646</td>\n",
       "      <td>0.013</td>\n",
       "      <td>0.009</td>\n",
       "      <td>477.0</td>\n",
       "      <td>963.0</td>\n",
       "      <td>1.00</td>\n",
       "    </tr>\n",
       "    <tr>\n",
       "      <th>μ</th>\n",
       "      <td>0.917</td>\n",
       "      <td>0.116</td>\n",
       "      <td>0.701</td>\n",
       "      <td>1.128</td>\n",
       "      <td>0.006</td>\n",
       "      <td>0.005</td>\n",
       "      <td>348.0</td>\n",
       "      <td>802.0</td>\n",
       "      <td>1.01</td>\n",
       "    </tr>\n",
       "    <tr>\n",
       "      <th>diff</th>\n",
       "      <td>-2.238</td>\n",
       "      <td>0.294</td>\n",
       "      <td>-2.769</td>\n",
       "      <td>-1.681</td>\n",
       "      <td>0.013</td>\n",
       "      <td>0.009</td>\n",
       "      <td>507.0</td>\n",
       "      <td>870.0</td>\n",
       "      <td>1.01</td>\n",
       "    </tr>\n",
       "  </tbody>\n",
       "</table>\n",
       "</div>"
      ],
      "text/plain": [
       "          mean     sd    hdi_3%   hdi_97%  mcse_mean  mcse_sd  ess_bulk  \\\n",
       "year  1890.476  2.391  1886.000  1894.676      0.114    0.081     473.0   \n",
       "λ        3.155  0.277     2.617     3.646      0.013    0.009     477.0   \n",
       "μ        0.917  0.116     0.701     1.128      0.006    0.005     348.0   \n",
       "diff    -2.238  0.294    -2.769    -1.681      0.013    0.009     507.0   \n",
       "\n",
       "      ess_tail  r_hat  \n",
       "year     384.0   1.01  \n",
       "λ        963.0   1.00  \n",
       "μ        802.0   1.01  \n",
       "diff     870.0   1.01  "
      ]
     },
     "execution_count": 4,
     "metadata": {},
     "output_type": "execute_result"
    }
   ],
   "source": [
    "az.summary(trace)"
   ]
  },
  {
   "cell_type": "markdown",
   "id": "168fe0b2",
   "metadata": {},
   "source": [
    "## Model 2"
   ]
  },
  {
   "cell_type": "code",
   "execution_count": 5,
   "id": "00853354",
   "metadata": {},
   "outputs": [
    {
     "name": "stderr",
     "output_type": "stream",
     "text": [
      "Auto-assigning NUTS sampler...\n",
      "Initializing NUTS using jitter+adapt_diag...\n",
      "Multiprocess sampling (4 chains in 4 jobs)\n",
      "NUTS: [year, z0, z1]\n"
     ]
    },
    {
     "data": {
      "text/html": [
       "\n",
       "<style>\n",
       "    /* Turns off some styling */\n",
       "    progress {\n",
       "        /* gets rid of default border in Firefox and Opera. */\n",
       "        border: none;\n",
       "        /* Needs to be in here for Safari polyfill so background images work as expected. */\n",
       "        background-size: auto;\n",
       "    }\n",
       "    progress:not([value]), progress:not([value])::-webkit-progress-bar {\n",
       "        background: repeating-linear-gradient(45deg, #7e7e7e, #7e7e7e 10px, #5c5c5c 10px, #5c5c5c 20px);\n",
       "    }\n",
       "    .progress-bar-interrupted, .progress-bar-interrupted::-webkit-progress-bar {\n",
       "        background: #F44336;\n",
       "    }\n",
       "</style>\n"
      ],
      "text/plain": [
       "<IPython.core.display.HTML object>"
      ]
     },
     "metadata": {},
     "output_type": "display_data"
    },
    {
     "data": {
      "text/html": [
       "\n",
       "    <div>\n",
       "      <progress value='12000' class='' max='12000' style='width:300px; height:20px; vertical-align: middle;'></progress>\n",
       "      100.00% [12000/12000 03:11&lt;00:00 Sampling 4 chains, 0 divergences]\n",
       "    </div>\n",
       "    "
      ],
      "text/plain": [
       "<IPython.core.display.HTML object>"
      ]
     },
     "metadata": {},
     "output_type": "display_data"
    },
    {
     "name": "stderr",
     "output_type": "stream",
     "text": [
      "Sampling 4 chains for 1_000 tune and 2_000 draw iterations (4_000 + 8_000 draws total) took 193 seconds.\n"
     ]
    }
   ],
   "source": [
    "with pm.Model() as m:\n",
    "    year = pm.Uniform(\"year\", 1851, 1963)\n",
    "    z0 = pm.Normal(\"z0\", 0, tau=0.00001)\n",
    "    z1 = pm.Normal(\"z1\", 0, tau=0.00001)\n",
    "\n",
    "    λ = pm.Deterministic(\"λ\", exp(z0))\n",
    "    μ = pm.Deterministic(\"μ\", exp(z0 + z1))\n",
    "\n",
    "    diff = pm.Deterministic(\"diff\", μ - λ)\n",
    "\n",
    "    rate = pm.math.exp(z0 + switch(ge(y - year, 0), 1, 0) * z1)\n",
    "    pm.Poisson(\"lik\", mu=rate, observed=X)\n",
    "\n",
    "    trace = pm.sample(2000)"
   ]
  },
  {
   "cell_type": "code",
   "execution_count": 6,
   "id": "c81e6b10",
   "metadata": {},
   "outputs": [
    {
     "data": {
      "text/html": [
       "<div>\n",
       "<style scoped>\n",
       "    .dataframe tbody tr th:only-of-type {\n",
       "        vertical-align: middle;\n",
       "    }\n",
       "\n",
       "    .dataframe tbody tr th {\n",
       "        vertical-align: top;\n",
       "    }\n",
       "\n",
       "    .dataframe thead th {\n",
       "        text-align: right;\n",
       "    }\n",
       "</style>\n",
       "<table border=\"1\" class=\"dataframe\">\n",
       "  <thead>\n",
       "    <tr style=\"text-align: right;\">\n",
       "      <th></th>\n",
       "      <th>mean</th>\n",
       "      <th>sd</th>\n",
       "      <th>hdi_3%</th>\n",
       "      <th>hdi_97%</th>\n",
       "      <th>mcse_mean</th>\n",
       "      <th>mcse_sd</th>\n",
       "      <th>ess_bulk</th>\n",
       "      <th>ess_tail</th>\n",
       "      <th>r_hat</th>\n",
       "    </tr>\n",
       "  </thead>\n",
       "  <tbody>\n",
       "    <tr>\n",
       "      <th>z0</th>\n",
       "      <td>1.122</td>\n",
       "      <td>0.091</td>\n",
       "      <td>0.955</td>\n",
       "      <td>1.295</td>\n",
       "      <td>0.008</td>\n",
       "      <td>0.006</td>\n",
       "      <td>136.0</td>\n",
       "      <td>370.0</td>\n",
       "      <td>1.04</td>\n",
       "    </tr>\n",
       "    <tr>\n",
       "      <th>z1</th>\n",
       "      <td>-1.209</td>\n",
       "      <td>0.153</td>\n",
       "      <td>-1.473</td>\n",
       "      <td>-0.910</td>\n",
       "      <td>0.012</td>\n",
       "      <td>0.008</td>\n",
       "      <td>171.0</td>\n",
       "      <td>376.0</td>\n",
       "      <td>1.02</td>\n",
       "    </tr>\n",
       "    <tr>\n",
       "      <th>year</th>\n",
       "      <td>1890.870</td>\n",
       "      <td>2.416</td>\n",
       "      <td>1886.017</td>\n",
       "      <td>1896.056</td>\n",
       "      <td>0.360</td>\n",
       "      <td>0.256</td>\n",
       "      <td>65.0</td>\n",
       "      <td>83.0</td>\n",
       "      <td>1.06</td>\n",
       "    </tr>\n",
       "    <tr>\n",
       "      <th>λ</th>\n",
       "      <td>3.085</td>\n",
       "      <td>0.282</td>\n",
       "      <td>2.598</td>\n",
       "      <td>3.650</td>\n",
       "      <td>0.024</td>\n",
       "      <td>0.017</td>\n",
       "      <td>136.0</td>\n",
       "      <td>370.0</td>\n",
       "      <td>1.04</td>\n",
       "    </tr>\n",
       "    <tr>\n",
       "      <th>μ</th>\n",
       "      <td>0.925</td>\n",
       "      <td>0.119</td>\n",
       "      <td>0.705</td>\n",
       "      <td>1.155</td>\n",
       "      <td>0.007</td>\n",
       "      <td>0.005</td>\n",
       "      <td>323.0</td>\n",
       "      <td>637.0</td>\n",
       "      <td>1.00</td>\n",
       "    </tr>\n",
       "    <tr>\n",
       "      <th>diff</th>\n",
       "      <td>-2.160</td>\n",
       "      <td>0.299</td>\n",
       "      <td>-2.751</td>\n",
       "      <td>-1.620</td>\n",
       "      <td>0.026</td>\n",
       "      <td>0.018</td>\n",
       "      <td>135.0</td>\n",
       "      <td>234.0</td>\n",
       "      <td>1.04</td>\n",
       "    </tr>\n",
       "  </tbody>\n",
       "</table>\n",
       "</div>"
      ],
      "text/plain": [
       "          mean     sd    hdi_3%   hdi_97%  mcse_mean  mcse_sd  ess_bulk  \\\n",
       "z0       1.122  0.091     0.955     1.295      0.008    0.006     136.0   \n",
       "z1      -1.209  0.153    -1.473    -0.910      0.012    0.008     171.0   \n",
       "year  1890.870  2.416  1886.017  1896.056      0.360    0.256      65.0   \n",
       "λ        3.085  0.282     2.598     3.650      0.024    0.017     136.0   \n",
       "μ        0.925  0.119     0.705     1.155      0.007    0.005     323.0   \n",
       "diff    -2.160  0.299    -2.751    -1.620      0.026    0.018     135.0   \n",
       "\n",
       "      ess_tail  r_hat  \n",
       "z0       370.0   1.04  \n",
       "z1       376.0   1.02  \n",
       "year      83.0   1.06  \n",
       "λ        370.0   1.04  \n",
       "μ        637.0   1.00  \n",
       "diff     234.0   1.04  "
      ]
     },
     "execution_count": 6,
     "metadata": {},
     "output_type": "execute_result"
    }
   ],
   "source": [
    "az.summary(trace)"
   ]
  },
  {
   "cell_type": "code",
   "execution_count": 7,
   "id": "7d36b9b1",
   "metadata": {},
   "outputs": [
    {
     "name": "stdout",
     "output_type": "stream",
     "text": [
      "Last updated: Fri Feb 03 2023\n",
      "\n",
      "Python implementation: CPython\n",
      "Python version       : 3.11.0\n",
      "IPython version      : 8.9.0\n",
      "\n",
      "aesara: 2.8.10\n",
      "aeppl : 0.1.1\n",
      "\n",
      "pymc : 5.0.1\n",
      "arviz: 0.14.0\n",
      "numpy: 1.24.1\n",
      "\n"
     ]
    }
   ],
   "source": [
    "%watermark -n -u -v -iv -p aesara,aeppl"
   ]
  },
  {
   "cell_type": "code",
   "execution_count": null,
   "id": "bb38c890",
   "metadata": {},
   "outputs": [],
   "source": []
  }
 ],
 "metadata": {
  "kernelspec": {
   "display_name": "Python 3 (ipykernel)",
   "language": "python",
   "name": "python3"
  },
  "language_info": {
   "codemirror_mode": {
    "name": "ipython",
    "version": 3
   },
   "file_extension": ".py",
   "mimetype": "text/x-python",
   "name": "python",
   "nbconvert_exporter": "python",
   "pygments_lexer": "ipython3",
   "version": "3.11.0"
  }
 },
 "nbformat": 4,
 "nbformat_minor": 5
}
