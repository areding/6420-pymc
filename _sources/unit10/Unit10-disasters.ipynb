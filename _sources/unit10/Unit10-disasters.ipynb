{
 "cells": [
  {
   "cell_type": "code",
   "execution_count": 1,
   "id": "c2b94959",
   "metadata": {},
   "outputs": [],
   "source": [
    "import pymc as pm\n",
    "import numpy as np\n",
    "import arviz as az\n",
    "from pymc.math import switch, ge, exp\n",
    "\n",
    "%load_ext lab_black\n",
    "%load_ext watermark"
   ]
  },
  {
   "cell_type": "markdown",
   "id": "492cc184",
   "metadata": {},
   "source": [
    "# Revisiting UK coal mining disasters\n",
    "\n",
    "This example demonstrates ...\n",
    "\n",
    "Adapted from [unit 10: disasters.odc](https://raw.githubusercontent.com/areding/6420-pymc/main/original_examples/Codes4Unit10/disasters.odc).\n",
    "\n",
    "Data can be found [here](https://raw.githubusercontent.com/areding/6420-pymc/main/data/r.txt).\n",
    "\n",
    "Associated lecture video: Unit 10 Lesson 3"
   ]
  },
  {
   "cell_type": "markdown",
   "id": "4c839fe6",
   "metadata": {},
   "source": [
    "## Problem statement\n",
    "\n",
    "Change Point Analysis, discussed in Unit 5 (Gibbs Sampler).\n",
    "\n",
    "British coal mine disaster data by year (1851-1962)  \n",
    "\n",
    "The 112 data points represent the numbers of coal-mining disasters involving 10 or more men killed per year between  1851 and 1962. \n",
    " \n",
    "Based on the observation that the there was a significant decrease around 1900, it is suitable to apply a change-point model to divide the whole dataset into two periods; each period with its own distribution of number of disasters.\n",
    " \n",
    "The data set was compiled by Maguire, Pearson and Wynn in 1952 and \n",
    "updated by Jarrett (1978). This data have been used by a number of authors to illustrate various techniques that can be applied to point processes\n",
    "\n",
    "\n",
    " Maguire, B. A., Pearson, E. S. and Wynn, A. H. A. (1952). The time intervals between industrial accidents.   Biometrika, 39, 168\u0013†180.\n",
    "\n",
    " Jarrett, R.G. (1979). A note on the intervals between coal-mining disasters. Biometrika, 66, 191-193. \n",
    "\n",
    " Carlin, Gelfand, and Smith (1992) Heirarchical Bayesian Analysis of Changepoint Problems. Applied Statistics, 41, 389-405.\n"
   ]
  },
  {
   "cell_type": "code",
   "execution_count": 3,
   "id": "08fe4acf",
   "metadata": {},
   "outputs": [],
   "source": [
    "# X is the number of coal mine disasters per year\n",
    "# fmt: off\n",
    "X = np.array([4, 5, 4, 1, 0, 4, 3, 4, 0, 6, 3, 3, 4, 0, 2, 6, 3, 3, 5, 4, 5, 3, 1,\n",
    "     4, 4, 1, 5, 5, 3, 4, 2, 5, 2, 2, 3, 4, 2, 1, 3, 2, 2, 1, 1, 1, 1, 3,\n",
    "     0, 0, 1, 0, 1, 1, 0, 0, 3, 1, 0, 3, 2, 2, 0, 1, 1, 1, 0, 1, 0, 1, 0,\n",
    "     0, 0, 2, 1, 0, 0, 0, 1, 1, 0, 2, 3, 3, 1, 1, 2, 1, 1, 1, 1, 2, 4, 2,\n",
    "     0, 0, 0, 1, 4, 0, 0, 0, 1, 0, 0, 0, 0, 0, 1, 0, 0, 1, 0, 1])\n",
    "# fmt: on\n",
    "\n",
    "y = np.array([y for y in range(1851, 1963)])"
   ]
  },
  {
   "cell_type": "markdown",
   "id": "429ae53a",
   "metadata": {},
   "source": [
    "## Model 1"
   ]
  },
  {
   "cell_type": "code",
   "execution_count": 4,
   "id": "aa3d60ed",
   "metadata": {},
   "outputs": [
    {
     "name": "stderr",
     "output_type": "stream",
     "text": [
      "Auto-assigning NUTS sampler...\n",
      "Initializing NUTS using jitter+adapt_diag...\n",
      "Multiprocess sampling (4 chains in 4 jobs)\n",
      "NUTS: [year, λ, μ]\n"
     ]
    },
    {
     "data": {
      "text/html": [
       "\n",
       "<style>\n",
       "    /* Turns off some styling */\n",
       "    progress {\n",
       "        /* gets rid of default border in Firefox and Opera. */\n",
       "        border: none;\n",
       "        /* Needs to be in here for Safari polyfill so background images work as expected. */\n",
       "        background-size: auto;\n",
       "    }\n",
       "    .progress-bar-interrupted, .progress-bar-interrupted::-webkit-progress-bar {\n",
       "        background: #F44336;\n",
       "    }\n",
       "</style>\n"
      ],
      "text/plain": [
       "<IPython.core.display.HTML object>"
      ]
     },
     "metadata": {},
     "output_type": "display_data"
    },
    {
     "data": {
      "text/html": [
       "\n",
       "    <div>\n",
       "      <progress value='12000' class='' max='12000' style='width:300px; height:20px; vertical-align: middle;'></progress>\n",
       "      100.00% [12000/12000 00:15<00:00 Sampling 4 chains, 0 divergences]\n",
       "    </div>\n",
       "    "
      ],
      "text/plain": [
       "<IPython.core.display.HTML object>"
      ]
     },
     "metadata": {},
     "output_type": "display_data"
    },
    {
     "name": "stderr",
     "output_type": "stream",
     "text": [
      "Sampling 4 chains for 1_000 tune and 2_000 draw iterations (4_000 + 8_000 draws total) took 24 seconds.\n"
     ]
    }
   ],
   "source": [
    "α = 4\n",
    "β = 1\n",
    "γ = 0.5\n",
    "δ = 1\n",
    "\n",
    "with pm.Model() as m:\n",
    "    year = pm.Uniform(\"year\", 1851, 1963)\n",
    "    λ = pm.Gamma(\"λ\", α, β)\n",
    "    μ = pm.Gamma(\"μ\", γ, δ)\n",
    "\n",
    "    diff = pm.Deterministic(\"diff\", μ - λ)\n",
    "\n",
    "    rate = λ + switch(ge(y - year, 0), 1, 0) * diff\n",
    "    pm.Poisson(\"lik\", mu=rate, observed=X)\n",
    "\n",
    "    trace = pm.sample(2000)"
   ]
  },
  {
   "cell_type": "code",
   "execution_count": 5,
   "id": "d48ab705",
   "metadata": {},
   "outputs": [
    {
     "data": {
      "text/html": [
       "<div>\n",
       "<style scoped>\n",
       "    .dataframe tbody tr th:only-of-type {\n",
       "        vertical-align: middle;\n",
       "    }\n",
       "\n",
       "    .dataframe tbody tr th {\n",
       "        vertical-align: top;\n",
       "    }\n",
       "\n",
       "    .dataframe thead th {\n",
       "        text-align: right;\n",
       "    }\n",
       "</style>\n",
       "<table border=\"1\" class=\"dataframe\">\n",
       "  <thead>\n",
       "    <tr style=\"text-align: right;\">\n",
       "      <th></th>\n",
       "      <th>mean</th>\n",
       "      <th>sd</th>\n",
       "      <th>hdi_3%</th>\n",
       "      <th>hdi_97%</th>\n",
       "      <th>mcse_mean</th>\n",
       "      <th>mcse_sd</th>\n",
       "      <th>ess_bulk</th>\n",
       "      <th>ess_tail</th>\n",
       "      <th>r_hat</th>\n",
       "    </tr>\n",
       "  </thead>\n",
       "  <tbody>\n",
       "    <tr>\n",
       "      <th>year</th>\n",
       "      <td>1890.402</td>\n",
       "      <td>2.458</td>\n",
       "      <td>1886.003</td>\n",
       "      <td>1894.696</td>\n",
       "      <td>0.047</td>\n",
       "      <td>0.033</td>\n",
       "      <td>2820.0</td>\n",
       "      <td>2965.0</td>\n",
       "      <td>1.0</td>\n",
       "    </tr>\n",
       "    <tr>\n",
       "      <th>λ</th>\n",
       "      <td>3.146</td>\n",
       "      <td>0.291</td>\n",
       "      <td>2.591</td>\n",
       "      <td>3.691</td>\n",
       "      <td>0.005</td>\n",
       "      <td>0.004</td>\n",
       "      <td>2848.0</td>\n",
       "      <td>3453.0</td>\n",
       "      <td>1.0</td>\n",
       "    </tr>\n",
       "    <tr>\n",
       "      <th>μ</th>\n",
       "      <td>0.920</td>\n",
       "      <td>0.114</td>\n",
       "      <td>0.708</td>\n",
       "      <td>1.138</td>\n",
       "      <td>0.002</td>\n",
       "      <td>0.002</td>\n",
       "      <td>2717.0</td>\n",
       "      <td>2660.0</td>\n",
       "      <td>1.0</td>\n",
       "    </tr>\n",
       "    <tr>\n",
       "      <th>diff</th>\n",
       "      <td>-2.226</td>\n",
       "      <td>0.306</td>\n",
       "      <td>-2.835</td>\n",
       "      <td>-1.670</td>\n",
       "      <td>0.006</td>\n",
       "      <td>0.004</td>\n",
       "      <td>3046.0</td>\n",
       "      <td>3290.0</td>\n",
       "      <td>1.0</td>\n",
       "    </tr>\n",
       "  </tbody>\n",
       "</table>\n",
       "</div>"
      ],
      "text/plain": [
       "          mean     sd    hdi_3%   hdi_97%  mcse_mean  mcse_sd  ess_bulk  \\\n",
       "year  1890.402  2.458  1886.003  1894.696      0.047    0.033    2820.0   \n",
       "λ        3.146  0.291     2.591     3.691      0.005    0.004    2848.0   \n",
       "μ        0.920  0.114     0.708     1.138      0.002    0.002    2717.0   \n",
       "diff    -2.226  0.306    -2.835    -1.670      0.006    0.004    3046.0   \n",
       "\n",
       "      ess_tail  r_hat  \n",
       "year    2965.0    1.0  \n",
       "λ       3453.0    1.0  \n",
       "μ       2660.0    1.0  \n",
       "diff    3290.0    1.0  "
      ]
     },
     "execution_count": 5,
     "metadata": {},
     "output_type": "execute_result"
    }
   ],
   "source": [
    "az.summary(trace)"
   ]
  },
  {
   "cell_type": "markdown",
   "id": "233e5407",
   "metadata": {},
   "source": [
    "## Model 2"
   ]
  },
  {
   "cell_type": "code",
   "execution_count": 6,
   "id": "39043139",
   "metadata": {},
   "outputs": [
    {
     "name": "stderr",
     "output_type": "stream",
     "text": [
      "Auto-assigning NUTS sampler...\n",
      "Initializing NUTS using jitter+adapt_diag...\n",
      "Multiprocess sampling (4 chains in 4 jobs)\n",
      "NUTS: [year, z0, z1]\n"
     ]
    },
    {
     "data": {
      "text/html": [
       "\n",
       "<style>\n",
       "    /* Turns off some styling */\n",
       "    progress {\n",
       "        /* gets rid of default border in Firefox and Opera. */\n",
       "        border: none;\n",
       "        /* Needs to be in here for Safari polyfill so background images work as expected. */\n",
       "        background-size: auto;\n",
       "    }\n",
       "    .progress-bar-interrupted, .progress-bar-interrupted::-webkit-progress-bar {\n",
       "        background: #F44336;\n",
       "    }\n",
       "</style>\n"
      ],
      "text/plain": [
       "<IPython.core.display.HTML object>"
      ]
     },
     "metadata": {},
     "output_type": "display_data"
    },
    {
     "data": {
      "text/html": [
       "\n",
       "    <div>\n",
       "      <progress value='12000' class='' max='12000' style='width:300px; height:20px; vertical-align: middle;'></progress>\n",
       "      100.00% [12000/12000 00:22<00:00 Sampling 4 chains, 1 divergences]\n",
       "    </div>\n",
       "    "
      ],
      "text/plain": [
       "<IPython.core.display.HTML object>"
      ]
     },
     "metadata": {},
     "output_type": "display_data"
    },
    {
     "name": "stderr",
     "output_type": "stream",
     "text": [
      "Sampling 4 chains for 1_000 tune and 2_000 draw iterations (4_000 + 8_000 draws total) took 30 seconds.\n",
      "There was 1 divergence after tuning. Increase `target_accept` or reparameterize.\n"
     ]
    }
   ],
   "source": [
    "with pm.Model() as m:\n",
    "    year = pm.Uniform(\"year\", 1851, 1963)\n",
    "    z0 = pm.Normal(\"z0\", 0, tau=0.00001)\n",
    "    z1 = pm.Normal(\"z1\", 0, tau=0.00001)\n",
    "\n",
    "    λ = pm.Deterministic(\"λ\", exp(z0))\n",
    "    μ = pm.Deterministic(\"μ\", exp(z0 + z1))\n",
    "\n",
    "    diff = pm.Deterministic(\"diff\", μ - λ)\n",
    "\n",
    "    rate = pm.math.exp(z0 + switch(ge(y - year, 0), 1, 0) * z1)\n",
    "    pm.Poisson(\"lik\", mu=rate, observed=X)\n",
    "\n",
    "    trace = pm.sample(2000)"
   ]
  },
  {
   "cell_type": "code",
   "execution_count": 7,
   "id": "8ef432fd",
   "metadata": {},
   "outputs": [
    {
     "data": {
      "text/html": [
       "<div>\n",
       "<style scoped>\n",
       "    .dataframe tbody tr th:only-of-type {\n",
       "        vertical-align: middle;\n",
       "    }\n",
       "\n",
       "    .dataframe tbody tr th {\n",
       "        vertical-align: top;\n",
       "    }\n",
       "\n",
       "    .dataframe thead th {\n",
       "        text-align: right;\n",
       "    }\n",
       "</style>\n",
       "<table border=\"1\" class=\"dataframe\">\n",
       "  <thead>\n",
       "    <tr style=\"text-align: right;\">\n",
       "      <th></th>\n",
       "      <th>mean</th>\n",
       "      <th>sd</th>\n",
       "      <th>hdi_3%</th>\n",
       "      <th>hdi_97%</th>\n",
       "      <th>mcse_mean</th>\n",
       "      <th>mcse_sd</th>\n",
       "      <th>ess_bulk</th>\n",
       "      <th>ess_tail</th>\n",
       "      <th>r_hat</th>\n",
       "    </tr>\n",
       "  </thead>\n",
       "  <tbody>\n",
       "    <tr>\n",
       "      <th>z0</th>\n",
       "      <td>1.134</td>\n",
       "      <td>0.093</td>\n",
       "      <td>0.961</td>\n",
       "      <td>1.310</td>\n",
       "      <td>0.002</td>\n",
       "      <td>0.001</td>\n",
       "      <td>2093.0</td>\n",
       "      <td>2977.0</td>\n",
       "      <td>1.0</td>\n",
       "    </tr>\n",
       "    <tr>\n",
       "      <th>z1</th>\n",
       "      <td>-1.225</td>\n",
       "      <td>0.152</td>\n",
       "      <td>-1.511</td>\n",
       "      <td>-0.942</td>\n",
       "      <td>0.003</td>\n",
       "      <td>0.002</td>\n",
       "      <td>2202.0</td>\n",
       "      <td>2866.0</td>\n",
       "      <td>1.0</td>\n",
       "    </tr>\n",
       "    <tr>\n",
       "      <th>year</th>\n",
       "      <td>1890.477</td>\n",
       "      <td>2.464</td>\n",
       "      <td>1885.999</td>\n",
       "      <td>1894.862</td>\n",
       "      <td>0.047</td>\n",
       "      <td>0.033</td>\n",
       "      <td>2779.0</td>\n",
       "      <td>2891.0</td>\n",
       "      <td>1.0</td>\n",
       "    </tr>\n",
       "    <tr>\n",
       "      <th>λ</th>\n",
       "      <td>3.123</td>\n",
       "      <td>0.292</td>\n",
       "      <td>2.598</td>\n",
       "      <td>3.682</td>\n",
       "      <td>0.006</td>\n",
       "      <td>0.005</td>\n",
       "      <td>2093.0</td>\n",
       "      <td>2977.0</td>\n",
       "      <td>1.0</td>\n",
       "    </tr>\n",
       "    <tr>\n",
       "      <th>μ</th>\n",
       "      <td>0.920</td>\n",
       "      <td>0.118</td>\n",
       "      <td>0.706</td>\n",
       "      <td>1.142</td>\n",
       "      <td>0.002</td>\n",
       "      <td>0.001</td>\n",
       "      <td>3484.0</td>\n",
       "      <td>3758.0</td>\n",
       "      <td>1.0</td>\n",
       "    </tr>\n",
       "    <tr>\n",
       "      <th>diff</th>\n",
       "      <td>-2.202</td>\n",
       "      <td>0.304</td>\n",
       "      <td>-2.769</td>\n",
       "      <td>-1.643</td>\n",
       "      <td>0.007</td>\n",
       "      <td>0.005</td>\n",
       "      <td>1900.0</td>\n",
       "      <td>2628.0</td>\n",
       "      <td>1.0</td>\n",
       "    </tr>\n",
       "  </tbody>\n",
       "</table>\n",
       "</div>"
      ],
      "text/plain": [
       "          mean     sd    hdi_3%   hdi_97%  mcse_mean  mcse_sd  ess_bulk  \\\n",
       "z0       1.134  0.093     0.961     1.310      0.002    0.001    2093.0   \n",
       "z1      -1.225  0.152    -1.511    -0.942      0.003    0.002    2202.0   \n",
       "year  1890.477  2.464  1885.999  1894.862      0.047    0.033    2779.0   \n",
       "λ        3.123  0.292     2.598     3.682      0.006    0.005    2093.0   \n",
       "μ        0.920  0.118     0.706     1.142      0.002    0.001    3484.0   \n",
       "diff    -2.202  0.304    -2.769    -1.643      0.007    0.005    1900.0   \n",
       "\n",
       "      ess_tail  r_hat  \n",
       "z0      2977.0    1.0  \n",
       "z1      2866.0    1.0  \n",
       "year    2891.0    1.0  \n",
       "λ       2977.0    1.0  \n",
       "μ       3758.0    1.0  \n",
       "diff    2628.0    1.0  "
      ]
     },
     "execution_count": 7,
     "metadata": {},
     "output_type": "execute_result"
    }
   ],
   "source": [
    "az.summary(trace)"
   ]
  },
  {
   "cell_type": "code",
   "execution_count": 8,
   "id": "7e612592",
   "metadata": {},
   "outputs": [
    {
     "name": "stdout",
     "output_type": "stream",
     "text": [
      "Python implementation: CPython\n",
      "Python version       : 3.10.4\n",
      "IPython version      : 8.4.0\n",
      "\n",
      "numpy: 1.22.4\n",
      "arviz: 0.12.1\n",
      "pymc : 4.0.0\n",
      "\n"
     ]
    }
   ],
   "source": [
    "%watermark --iversions -v"
   ]
  },
  {
   "cell_type": "code",
   "execution_count": null,
   "id": "fa99034b",
   "metadata": {},
   "outputs": [],
   "source": []
  }
 ],
 "metadata": {
  "kernelspec": {
   "display_name": "Python 3 (ipykernel)",
   "language": "python",
   "name": "python3"
  },
  "language_info": {
   "codemirror_mode": {
    "name": "ipython",
    "version": 3
   },
   "file_extension": ".py",
   "mimetype": "text/x-python",
   "name": "python",
   "nbconvert_exporter": "python",
   "pygments_lexer": "ipython3",
   "version": "3.10.4"
  }
 },
 "nbformat": 4,
 "nbformat_minor": 5
}
