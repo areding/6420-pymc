{
 "cells": [
  {
   "cell_type": "code",
   "execution_count": 4,
   "id": "a09c6ff4",
   "metadata": {},
   "outputs": [],
   "source": [
    "import pymc as pm\n",
    "import numpy as np\n",
    "import arviz as az\n",
    "from pymc.math import invlogit"
   ]
  },
  {
   "cell_type": "markdown",
   "id": "99617a8f",
   "metadata": {},
   "source": [
    "# Lister*\n",
    "\n",
    "Adapted from [Unit 10: lister.odc](https://raw.githubusercontent.com/areding/6420-pymc/main/original_examples/Codes4Unit10/lister.odc)."
   ]
  },
  {
   "cell_type": "markdown",
   "id": "9de7e2c2",
   "metadata": {},
   "source": [
    "## Problem Statement\n",
    "\n",
    "Sir Joseph Lister (1827--1912), Professor of Surgery at Glasgow University, was influenced by Pasteur's ideas. He discovered that wounds wrapped in bandages treated with Carbolic acid (phenol) often did not become infected.\n",
    "\n",
    "Here are Lister's data on treating open fractures and amputations:\n",
    "\n",
    "| Period      | Carbolic Acid Used | Results                                      |\n",
    "|-------------|--------------------|----------------------------------------------|\n",
    "| 1864--1866  | No                 | Treated 34 patients: 15 died, 19 recovered   |\n",
    "| 1867--1870  | Yes                | Treated 40 patients: 6 died, 34 recovered    |\n",
    "\n",
    "Estimate and interpret the risk difference, risk ratio, and odds ratio."
   ]
  },
  {
   "cell_type": "markdown",
   "id": "537fefe9",
   "metadata": {},
   "source": [
    "## Notes\n",
    "\n",
    "The results are a bit different than BUGS. I'm not sure if that's from the slightly different prior (WishartBartlett vs Wishart), or something else I've missed. The "
   ]
  },
  {
   "cell_type": "code",
   "execution_count": 65,
   "id": "38ddc778",
   "metadata": {
    "tags": [
     "hide-output"
    ]
   },
   "outputs": [
    {
     "name": "stderr",
     "output_type": "stream",
     "text": [
      "Added new variable tau_c to model diagonal of Wishart.\n",
      "Added new variable tau_z to model off-diagonals of Wishart.\n",
      "Auto-assigning NUTS sampler...\n",
      "Initializing NUTS using jitter+adapt_diag...\n",
      "Multiprocess sampling (4 chains in 4 jobs)\n",
      "NUTS: [tau_c, tau_z, mu]\n"
     ]
    },
    {
     "data": {
      "text/html": [
       "\n",
       "<style>\n",
       "    /* Turns off some styling */\n",
       "    progress {\n",
       "        /* gets rid of default border in Firefox and Opera. */\n",
       "        border: none;\n",
       "        /* Needs to be in here for Safari polyfill so background images work as expected. */\n",
       "        background-size: auto;\n",
       "    }\n",
       "    progress:not([value]), progress:not([value])::-webkit-progress-bar {\n",
       "        background: repeating-linear-gradient(45deg, #7e7e7e, #7e7e7e 10px, #5c5c5c 10px, #5c5c5c 20px);\n",
       "    }\n",
       "    .progress-bar-interrupted, .progress-bar-interrupted::-webkit-progress-bar {\n",
       "        background: #F44336;\n",
       "    }\n",
       "</style>\n"
      ],
      "text/plain": [
       "<IPython.core.display.HTML object>"
      ]
     },
     "metadata": {},
     "output_type": "display_data"
    },
    {
     "data": {
      "text/html": [
       "\n",
       "    <div>\n",
       "      <progress value='16000' class='' max='16000' style='width:300px; height:20px; vertical-align: middle;'></progress>\n",
       "      100.00% [16000/16000 00:07&lt;00:00 Sampling 4 chains, 0 divergences]\n",
       "    </div>\n",
       "    "
      ],
      "text/plain": [
       "<IPython.core.display.HTML object>"
      ]
     },
     "metadata": {},
     "output_type": "display_data"
    },
    {
     "name": "stderr",
     "output_type": "stream",
     "text": [
      "Sampling 4 chains for 1_000 tune and 3_000 draw iterations (4_000 + 12_000 draws total) took 8 seconds.\n"
     ]
    }
   ],
   "source": [
    "cepn_untreated = 34\n",
    "n_untreated_fail = 15\n",
    "n_treated = 40\n",
    "n_treated_fail = 6\n",
    "mu0 = np.array([-0.5, -1.5])\n",
    "S = np.array([[0.1, 0], [0, 0.1]])\n",
    "S_init = np.array([[1, 0], [0, 1]])\n",
    "\n",
    "with pm.Model() as m:\n",
    "    tau = pm.WishartBartlett(\"tau\", S=S, nu=4, initval=S_init)\n",
    "    sigma = pm.Deterministic(\"sigma\", pm.math.matrix_inverse(tau))\n",
    "    mu = pm.MvNormal(\"mu\", mu=mu0, tau=tau, shape=2)\n",
    "\n",
    "    p1 = invlogit(mu[0])\n",
    "    p2 = invlogit(mu[1])\n",
    "\n",
    "    pm.Binomial(\"y_untreated\", p=p1, n=n_untreated, observed=n_untreated_fail)\n",
    "    pm.Binomial(\"y_treated\", p=p2, n=n_treated, observed=n_treated_fail)\n",
    "\n",
    "    pm.Deterministic(\"rd\", p1 - p2)\n",
    "    pm.Deterministic(\"rr\", p1 / p2)\n",
    "    pm.Deterministic(\"or\", (p1 / (1 - p1)) / (p2 / (1 - p2)))\n",
    "\n",
    "    trace = pm.sample(3000, target_accept=0.95)"
   ]
  },
  {
   "cell_type": "code",
   "execution_count": 66,
   "id": "0c2dd2d8",
   "metadata": {},
   "outputs": [
    {
     "data": {
      "text/html": [
       "<div>\n",
       "<style scoped>\n",
       "    .dataframe tbody tr th:only-of-type {\n",
       "        vertical-align: middle;\n",
       "    }\n",
       "\n",
       "    .dataframe tbody tr th {\n",
       "        vertical-align: top;\n",
       "    }\n",
       "\n",
       "    .dataframe thead th {\n",
       "        text-align: right;\n",
       "    }\n",
       "</style>\n",
       "<table border=\"1\" class=\"dataframe\">\n",
       "  <thead>\n",
       "    <tr style=\"text-align: right;\">\n",
       "      <th></th>\n",
       "      <th>mean</th>\n",
       "      <th>sd</th>\n",
       "      <th>hdi_3%</th>\n",
       "      <th>hdi_97%</th>\n",
       "      <th>mcse_mean</th>\n",
       "      <th>mcse_sd</th>\n",
       "      <th>ess_bulk</th>\n",
       "      <th>ess_tail</th>\n",
       "      <th>r_hat</th>\n",
       "    </tr>\n",
       "  </thead>\n",
       "  <tbody>\n",
       "    <tr>\n",
       "      <th>mu[0]</th>\n",
       "      <td>-0.253</td>\n",
       "      <td>0.349</td>\n",
       "      <td>-0.896</td>\n",
       "      <td>0.408</td>\n",
       "      <td>0.003</td>\n",
       "      <td>0.003</td>\n",
       "      <td>14065.0</td>\n",
       "      <td>9108.0</td>\n",
       "      <td>1.0</td>\n",
       "    </tr>\n",
       "    <tr>\n",
       "      <th>mu[1]</th>\n",
       "      <td>-1.788</td>\n",
       "      <td>0.443</td>\n",
       "      <td>-2.639</td>\n",
       "      <td>-0.983</td>\n",
       "      <td>0.004</td>\n",
       "      <td>0.003</td>\n",
       "      <td>11314.0</td>\n",
       "      <td>7297.0</td>\n",
       "      <td>1.0</td>\n",
       "    </tr>\n",
       "    <tr>\n",
       "      <th>sigma[0, 0]</th>\n",
       "      <td>43.124</td>\n",
       "      <td>837.373</td>\n",
       "      <td>0.576</td>\n",
       "      <td>86.710</td>\n",
       "      <td>8.108</td>\n",
       "      <td>5.733</td>\n",
       "      <td>8565.0</td>\n",
       "      <td>6194.0</td>\n",
       "      <td>1.0</td>\n",
       "    </tr>\n",
       "    <tr>\n",
       "      <th>sigma[0, 1]</th>\n",
       "      <td>6.524</td>\n",
       "      <td>489.723</td>\n",
       "      <td>-47.465</td>\n",
       "      <td>51.318</td>\n",
       "      <td>5.054</td>\n",
       "      <td>3.574</td>\n",
       "      <td>11237.0</td>\n",
       "      <td>7516.0</td>\n",
       "      <td>1.0</td>\n",
       "    </tr>\n",
       "    <tr>\n",
       "      <th>sigma[1, 0]</th>\n",
       "      <td>6.524</td>\n",
       "      <td>489.723</td>\n",
       "      <td>-47.465</td>\n",
       "      <td>51.318</td>\n",
       "      <td>5.054</td>\n",
       "      <td>3.574</td>\n",
       "      <td>11237.0</td>\n",
       "      <td>7516.0</td>\n",
       "      <td>1.0</td>\n",
       "    </tr>\n",
       "    <tr>\n",
       "      <th>sigma[1, 1]</th>\n",
       "      <td>40.100</td>\n",
       "      <td>491.767</td>\n",
       "      <td>0.521</td>\n",
       "      <td>81.160</td>\n",
       "      <td>6.329</td>\n",
       "      <td>4.475</td>\n",
       "      <td>9202.0</td>\n",
       "      <td>4896.0</td>\n",
       "      <td>1.0</td>\n",
       "    </tr>\n",
       "    <tr>\n",
       "      <th>rd</th>\n",
       "      <td>0.287</td>\n",
       "      <td>0.100</td>\n",
       "      <td>0.101</td>\n",
       "      <td>0.470</td>\n",
       "      <td>0.001</td>\n",
       "      <td>0.001</td>\n",
       "      <td>13492.0</td>\n",
       "      <td>8897.0</td>\n",
       "      <td>1.0</td>\n",
       "    </tr>\n",
       "    <tr>\n",
       "      <th>rr</th>\n",
       "      <td>3.348</td>\n",
       "      <td>1.643</td>\n",
       "      <td>1.106</td>\n",
       "      <td>6.191</td>\n",
       "      <td>0.018</td>\n",
       "      <td>0.014</td>\n",
       "      <td>11531.0</td>\n",
       "      <td>7110.0</td>\n",
       "      <td>1.0</td>\n",
       "    </tr>\n",
       "    <tr>\n",
       "      <th>or</th>\n",
       "      <td>5.469</td>\n",
       "      <td>3.534</td>\n",
       "      <td>1.105</td>\n",
       "      <td>11.696</td>\n",
       "      <td>0.037</td>\n",
       "      <td>0.028</td>\n",
       "      <td>12107.0</td>\n",
       "      <td>8051.0</td>\n",
       "      <td>1.0</td>\n",
       "    </tr>\n",
       "  </tbody>\n",
       "</table>\n",
       "</div>"
      ],
      "text/plain": [
       "               mean       sd  hdi_3%  hdi_97%  mcse_mean  mcse_sd  ess_bulk  \\\n",
       "mu[0]        -0.253    0.349  -0.896    0.408      0.003    0.003   14065.0   \n",
       "mu[1]        -1.788    0.443  -2.639   -0.983      0.004    0.003   11314.0   \n",
       "sigma[0, 0]  43.124  837.373   0.576   86.710      8.108    5.733    8565.0   \n",
       "sigma[0, 1]   6.524  489.723 -47.465   51.318      5.054    3.574   11237.0   \n",
       "sigma[1, 0]   6.524  489.723 -47.465   51.318      5.054    3.574   11237.0   \n",
       "sigma[1, 1]  40.100  491.767   0.521   81.160      6.329    4.475    9202.0   \n",
       "rd            0.287    0.100   0.101    0.470      0.001    0.001   13492.0   \n",
       "rr            3.348    1.643   1.106    6.191      0.018    0.014   11531.0   \n",
       "or            5.469    3.534   1.105   11.696      0.037    0.028   12107.0   \n",
       "\n",
       "             ess_tail  r_hat  \n",
       "mu[0]          9108.0    1.0  \n",
       "mu[1]          7297.0    1.0  \n",
       "sigma[0, 0]    6194.0    1.0  \n",
       "sigma[0, 1]    7516.0    1.0  \n",
       "sigma[1, 0]    7516.0    1.0  \n",
       "sigma[1, 1]    4896.0    1.0  \n",
       "rd             8897.0    1.0  \n",
       "rr             7110.0    1.0  \n",
       "or             8051.0    1.0  "
      ]
     },
     "execution_count": 66,
     "metadata": {},
     "output_type": "execute_result"
    }
   ],
   "source": [
    "az.summary(trace, var_names=[\"~tau\"], filter_vars=\"like\")"
   ]
  },
  {
   "cell_type": "code",
   "execution_count": 67,
   "id": "5f743411",
   "metadata": {},
   "outputs": [
    {
     "name": "stdout",
     "output_type": "stream",
     "text": [
      "Last updated: Mon Nov 13 2023\n",
      "\n",
      "Python implementation: CPython\n",
      "Python version       : 3.11.5\n",
      "IPython version      : 8.15.0\n",
      "\n",
      "pytensor: 2.17.1\n",
      "\n",
      "numpy: 1.25.2\n",
      "pymc : 5.9.0\n",
      "arviz: 0.16.1\n",
      "\n"
     ]
    }
   ],
   "source": [
    "%load_ext watermark\n",
    "%watermark -n -u -v -iv -p pytensor"
   ]
  },
  {
   "cell_type": "code",
   "execution_count": null,
   "id": "5ffeef2b-f26d-4aef-800b-2e0597e27431",
   "metadata": {},
   "outputs": [],
   "source": []
  }
 ],
 "metadata": {
  "kernelspec": {
   "display_name": "Python 3 (ipykernel)",
   "language": "python",
   "name": "python3"
  },
  "language_info": {
   "codemirror_mode": {
    "name": "ipython",
    "version": 3
   },
   "file_extension": ".py",
   "mimetype": "text/x-python",
   "name": "python",
   "nbconvert_exporter": "python",
   "pygments_lexer": "ipython3",
   "version": "3.11.5"
  }
 },
 "nbformat": 4,
 "nbformat_minor": 5
}
