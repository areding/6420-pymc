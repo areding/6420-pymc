{
 "cells": [
  {
   "cell_type": "code",
   "execution_count": 1,
   "id": "b8051b2d",
   "metadata": {},
   "outputs": [],
   "source": [
    "import pymc as pm\n",
    "import numpy as np\n",
    "import arviz as az\n",
    "import pandas as pd\n",
    "\n",
    "%load_ext lab_black\n",
    "%load_ext watermark"
   ]
  },
  {
   "cell_type": "markdown",
   "id": "ea9efb0d",
   "metadata": {},
   "source": [
    "# Predicting using censored data\n",
    "\n",
    "This example demonstrates ...\n",
    "\n",
    "Adapted from [Unit 10: katla.odc](https://raw.githubusercontent.com/areding/6420-pymc/main/original_examples/Codes4Unit10/katla.odc).\n",
    "\n",
    "Data can be found [here](https://raw.githubusercontent.com/areding/6420-pymc/main/data/r.txt).\n",
    "\n",
    "Associated lecture video: Unit 10 lesson 6"
   ]
  },
  {
   "cell_type": "markdown",
   "id": "7e9007bd",
   "metadata": {},
   "source": [
    "## Problem statement\n",
    "\n",
    "In 2010 Icelandic volcano Eyjafjallajökull erupted. Nearby volcano Katla erupts more frequently.\n",
    "\n",
    "Prediction for next Katla erruption (BUGS Book p254)\n",
    "\n",
    "\n",
    "\n",
    "notes:\n",
    "\n",
    "Having problems with Weibull and pm.Censored again! What is the deal here? Imputed censoring works fine."
   ]
  },
  {
   "cell_type": "code",
   "execution_count": 2,
   "id": "456933fb",
   "metadata": {},
   "outputs": [],
   "source": [
    "# fmt: off\n",
    "D = np.array(\n",
    "    (1177, 1262, 1311, 1357, 1416, 1440, 1450, 1500, \n",
    "     1550, 1580, 1612, 1625, 1660, 1721, 1755, 1823, \n",
    "     1860, 1918, 1000000)\n",
    ")\n",
    "# fmt: on\n",
    "\n",
    "# probabilities\n",
    "ps = [1, 5, 10, 50]\n",
    "\n",
    "# time between eruptions\n",
    "t = np.diff(D)"
   ]
  },
  {
   "cell_type": "code",
   "execution_count": null,
   "id": "81c33012",
   "metadata": {
    "tags": [
     "hide_output"
    ]
   },
   "outputs": [],
   "source": [
    "with pm.Model() as m:\n",
    "    α = pm.Exponential(\"α\", 0.05)  # v in BUGS model\n",
    "\n",
    "    σ = pm.Gamma(\"σ\", 0.01, 0.01)\n",
    "    λ = 1 / σ**α\n",
    "    β = λ ** (-1 / α)\n",
    "\n",
    "    _t = pm.Weibull.dist(α, β)\n",
    "    pm.Censored(\"likelihood\", _t, lower=None, upper=100, observed=t)\n",
    "\n",
    "    median = pm.Deterministic(\"median tte\", σ * np.log(2) ** (1 / α))\n",
    "\n",
    "    for p in ps:\n",
    "        pm.Deterministic(\n",
    "            f\"p_erupt_{p}\", 1 - pm.math.exp((100 / σ) ** α - ((100 + p) / σ) ** α)\n",
    "        )\n",
    "\n",
    "    trace = pm.sample(3000)"
   ]
  },
  {
   "cell_type": "markdown",
   "id": "1f3e4af0",
   "metadata": {},
   "source": [
    "This worked fine in PyMC 4, but since the update to 5 it doesn't work. Imputed censoring method (below) works fine for now, but will need to update it to the new, non-deprecated method."
   ]
  },
  {
   "cell_type": "code",
   "execution_count": null,
   "id": "18e87fe7-453d-4425-89ef-6cd4fbee68a5",
   "metadata": {},
   "outputs": [],
   "source": [
    "az.summary(trace)"
   ]
  },
  {
   "cell_type": "code",
   "execution_count": 3,
   "id": "ac9a84d3",
   "metadata": {},
   "outputs": [],
   "source": [
    "t_uncens = t[:-1]"
   ]
  },
  {
   "cell_type": "code",
   "execution_count": 4,
   "id": "ba902271",
   "metadata": {
    "tags": [
     "hide_output"
    ]
   },
   "outputs": [
    {
     "name": "stderr",
     "output_type": "stream",
     "text": [
      "/Users/aaron/mambaforge/envs/pymc_env2/lib/python3.11/site-packages/pymc/distributions/bound.py:186: FutureWarning: Bound has been deprecated in favor of Truncated, and will be removed in a future release. If Truncated is not an option, Bound can be implemented byadding an IntervalTransform between lower and upper to a continuous variable. A Potential that returns negative infinity for values outside of the bounds can be used for discrete variables.\n",
      "  warnings.warn(\n",
      "Auto-assigning NUTS sampler...\n",
      "Initializing NUTS using jitter+adapt_diag...\n",
      "Multiprocess sampling (4 chains in 4 jobs)\n",
      "NUTS: [α, σ, impute_censored]\n"
     ]
    },
    {
     "data": {
      "text/html": [
       "\n",
       "<style>\n",
       "    /* Turns off some styling */\n",
       "    progress {\n",
       "        /* gets rid of default border in Firefox and Opera. */\n",
       "        border: none;\n",
       "        /* Needs to be in here for Safari polyfill so background images work as expected. */\n",
       "        background-size: auto;\n",
       "    }\n",
       "    progress:not([value]), progress:not([value])::-webkit-progress-bar {\n",
       "        background: repeating-linear-gradient(45deg, #7e7e7e, #7e7e7e 10px, #5c5c5c 10px, #5c5c5c 20px);\n",
       "    }\n",
       "    .progress-bar-interrupted, .progress-bar-interrupted::-webkit-progress-bar {\n",
       "        background: #F44336;\n",
       "    }\n",
       "</style>\n"
      ],
      "text/plain": [
       "<IPython.core.display.HTML object>"
      ]
     },
     "metadata": {},
     "output_type": "display_data"
    },
    {
     "data": {
      "text/html": [
       "\n",
       "    <div>\n",
       "      <progress value='16000' class='' max='16000' style='width:300px; height:20px; vertical-align: middle;'></progress>\n",
       "      100.00% [16000/16000 00:02&lt;00:00 Sampling 4 chains, 18 divergences]\n",
       "    </div>\n",
       "    "
      ],
      "text/plain": [
       "<IPython.core.display.HTML object>"
      ]
     },
     "metadata": {},
     "output_type": "display_data"
    },
    {
     "name": "stderr",
     "output_type": "stream",
     "text": [
      "Sampling 4 chains for 1_000 tune and 3_000 draw iterations (4_000 + 12_000 draws total) took 2 seconds.\n"
     ]
    }
   ],
   "source": [
    "with pm.Model() as m:\n",
    "    # α = pm.Uniform(\"α\", 0, 10) # getting divide by 0 errors\n",
    "    α = pm.TruncatedNormal(\"α\", mu=0, sigma=5, lower=0)  # v in BUGS model\n",
    "\n",
    "    σ = pm.Gamma(\"σ\", 0.001, 0.001)\n",
    "    λ = (1 / σ) ** α\n",
    "    β = λ ** (-1 / α)\n",
    "\n",
    "    impute_censored = pm.Bound(\"impute_censored\", pm.Weibull.dist(α, β), lower=100)\n",
    "\n",
    "    pm.Weibull(\"uncensored\", α, β, observed=t_uncens)\n",
    "\n",
    "    median = pm.Deterministic(\"median tte\", σ * np.log(2) ** (1 / α))\n",
    "\n",
    "    for p in ps:\n",
    "        pm.Deterministic(\n",
    "            f\"p_erupt_{p}\", 1 - pm.math.exp((100 / σ) ** α - ((100 + p) / σ) ** α)\n",
    "        )\n",
    "\n",
    "    trace = pm.sample(3000)"
   ]
  },
  {
   "cell_type": "code",
   "execution_count": 5,
   "id": "4c19f8a7",
   "metadata": {},
   "outputs": [
    {
     "data": {
      "text/html": [
       "<div>\n",
       "<style scoped>\n",
       "    .dataframe tbody tr th:only-of-type {\n",
       "        vertical-align: middle;\n",
       "    }\n",
       "\n",
       "    .dataframe tbody tr th {\n",
       "        vertical-align: top;\n",
       "    }\n",
       "\n",
       "    .dataframe thead th {\n",
       "        text-align: right;\n",
       "    }\n",
       "</style>\n",
       "<table border=\"1\" class=\"dataframe\">\n",
       "  <thead>\n",
       "    <tr style=\"text-align: right;\">\n",
       "      <th></th>\n",
       "      <th>mean</th>\n",
       "      <th>sd</th>\n",
       "      <th>hdi_3%</th>\n",
       "      <th>hdi_97%</th>\n",
       "      <th>mcse_mean</th>\n",
       "      <th>mcse_sd</th>\n",
       "      <th>ess_bulk</th>\n",
       "      <th>ess_tail</th>\n",
       "      <th>r_hat</th>\n",
       "    </tr>\n",
       "  </thead>\n",
       "  <tbody>\n",
       "    <tr>\n",
       "      <th>α</th>\n",
       "      <td>2.004</td>\n",
       "      <td>0.386</td>\n",
       "      <td>1.300</td>\n",
       "      <td>2.732</td>\n",
       "      <td>0.005</td>\n",
       "      <td>0.004</td>\n",
       "      <td>5272.0</td>\n",
       "      <td>5525.0</td>\n",
       "      <td>1.0</td>\n",
       "    </tr>\n",
       "    <tr>\n",
       "      <th>σ</th>\n",
       "      <td>54.822</td>\n",
       "      <td>7.319</td>\n",
       "      <td>41.374</td>\n",
       "      <td>68.458</td>\n",
       "      <td>0.097</td>\n",
       "      <td>0.070</td>\n",
       "      <td>5780.0</td>\n",
       "      <td>6345.0</td>\n",
       "      <td>1.0</td>\n",
       "    </tr>\n",
       "    <tr>\n",
       "      <th>impute_censored</th>\n",
       "      <td>114.861</td>\n",
       "      <td>16.912</td>\n",
       "      <td>100.007</td>\n",
       "      <td>143.935</td>\n",
       "      <td>0.210</td>\n",
       "      <td>0.149</td>\n",
       "      <td>5125.0</td>\n",
       "      <td>3793.0</td>\n",
       "      <td>1.0</td>\n",
       "    </tr>\n",
       "    <tr>\n",
       "      <th>median tte</th>\n",
       "      <td>45.401</td>\n",
       "      <td>6.490</td>\n",
       "      <td>33.055</td>\n",
       "      <td>57.436</td>\n",
       "      <td>0.087</td>\n",
       "      <td>0.061</td>\n",
       "      <td>5627.0</td>\n",
       "      <td>5917.0</td>\n",
       "      <td>1.0</td>\n",
       "    </tr>\n",
       "    <tr>\n",
       "      <th>p_erupt_1</th>\n",
       "      <td>0.070</td>\n",
       "      <td>0.031</td>\n",
       "      <td>0.021</td>\n",
       "      <td>0.127</td>\n",
       "      <td>0.000</td>\n",
       "      <td>0.000</td>\n",
       "      <td>5858.0</td>\n",
       "      <td>5451.0</td>\n",
       "      <td>1.0</td>\n",
       "    </tr>\n",
       "    <tr>\n",
       "      <th>p_erupt_5</th>\n",
       "      <td>0.303</td>\n",
       "      <td>0.111</td>\n",
       "      <td>0.116</td>\n",
       "      <td>0.514</td>\n",
       "      <td>0.001</td>\n",
       "      <td>0.001</td>\n",
       "      <td>5844.0</td>\n",
       "      <td>5431.0</td>\n",
       "      <td>1.0</td>\n",
       "    </tr>\n",
       "    <tr>\n",
       "      <th>p_erupt_10</th>\n",
       "      <td>0.510</td>\n",
       "      <td>0.152</td>\n",
       "      <td>0.233</td>\n",
       "      <td>0.787</td>\n",
       "      <td>0.002</td>\n",
       "      <td>0.001</td>\n",
       "      <td>5827.0</td>\n",
       "      <td>5461.0</td>\n",
       "      <td>1.0</td>\n",
       "    </tr>\n",
       "    <tr>\n",
       "      <th>p_erupt_50</th>\n",
       "      <td>0.957</td>\n",
       "      <td>0.065</td>\n",
       "      <td>0.830</td>\n",
       "      <td>1.000</td>\n",
       "      <td>0.001</td>\n",
       "      <td>0.001</td>\n",
       "      <td>5724.0</td>\n",
       "      <td>5667.0</td>\n",
       "      <td>1.0</td>\n",
       "    </tr>\n",
       "  </tbody>\n",
       "</table>\n",
       "</div>"
      ],
      "text/plain": [
       "                    mean      sd   hdi_3%  hdi_97%  mcse_mean  mcse_sd  \\\n",
       "α                  2.004   0.386    1.300    2.732      0.005    0.004   \n",
       "σ                 54.822   7.319   41.374   68.458      0.097    0.070   \n",
       "impute_censored  114.861  16.912  100.007  143.935      0.210    0.149   \n",
       "median tte        45.401   6.490   33.055   57.436      0.087    0.061   \n",
       "p_erupt_1          0.070   0.031    0.021    0.127      0.000    0.000   \n",
       "p_erupt_5          0.303   0.111    0.116    0.514      0.001    0.001   \n",
       "p_erupt_10         0.510   0.152    0.233    0.787      0.002    0.001   \n",
       "p_erupt_50         0.957   0.065    0.830    1.000      0.001    0.001   \n",
       "\n",
       "                 ess_bulk  ess_tail  r_hat  \n",
       "α                  5272.0    5525.0    1.0  \n",
       "σ                  5780.0    6345.0    1.0  \n",
       "impute_censored    5125.0    3793.0    1.0  \n",
       "median tte         5627.0    5917.0    1.0  \n",
       "p_erupt_1          5858.0    5451.0    1.0  \n",
       "p_erupt_5          5844.0    5431.0    1.0  \n",
       "p_erupt_10         5827.0    5461.0    1.0  \n",
       "p_erupt_50         5724.0    5667.0    1.0  "
      ]
     },
     "execution_count": 5,
     "metadata": {},
     "output_type": "execute_result"
    }
   ],
   "source": [
    "az.summary(trace)"
   ]
  },
  {
   "cell_type": "code",
   "execution_count": 6,
   "id": "633613a1",
   "metadata": {},
   "outputs": [
    {
     "name": "stdout",
     "output_type": "stream",
     "text": [
      "Last updated: Fri Feb 03 2023\n",
      "\n",
      "Python implementation: CPython\n",
      "Python version       : 3.11.0\n",
      "IPython version      : 8.9.0\n",
      "\n",
      "aesara: 2.8.10\n",
      "aeppl : 0.1.1\n",
      "\n",
      "pandas: 1.5.3\n",
      "pymc  : 5.0.1\n",
      "arviz : 0.14.0\n",
      "numpy : 1.24.1\n",
      "\n"
     ]
    }
   ],
   "source": [
    "%watermark -n -u -v -iv -p aesara,aeppl"
   ]
  }
 ],
 "metadata": {
  "kernelspec": {
   "display_name": "Python 3 (ipykernel)",
   "language": "python",
   "name": "python3"
  },
  "language_info": {
   "codemirror_mode": {
    "name": "ipython",
    "version": 3
   },
   "file_extension": ".py",
   "mimetype": "text/x-python",
   "name": "python",
   "nbconvert_exporter": "python",
   "pygments_lexer": "ipython3",
   "version": "3.11.0"
  }
 },
 "nbformat": 4,
 "nbformat_minor": 5
}
