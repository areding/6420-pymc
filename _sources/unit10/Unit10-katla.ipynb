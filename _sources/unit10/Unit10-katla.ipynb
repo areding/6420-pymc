{
 "cells": [
  {
   "cell_type": "code",
   "execution_count": 1,
   "id": "b8051b2d",
   "metadata": {},
   "outputs": [],
   "source": [
    "import pymc as pm\n",
    "import numpy as np\n",
    "import arviz as az\n",
    "import pandas as pd"
   ]
  },
  {
   "cell_type": "markdown",
   "id": "ea9efb0d",
   "metadata": {},
   "source": [
    "# Predicting Using Censored Data*"
   ]
  },
  {
   "cell_type": "markdown",
   "id": "7e9007bd",
   "metadata": {},
   "source": [
    "## Icelandic volcano eruptions\n",
    "\n",
    "Adapted from [Unit 10: katla.odc](https://raw.githubusercontent.com/areding/6420-pymc/main/original_examples/Codes4Unit10/katla.odc).\n",
    "\n",
    "Data can be found [here](https://raw.githubusercontent.com/areding/6420-pymc/main/data/r.txt).\n",
    "\n",
    "```{epigraph}\n",
    "In April 2010, the volcano Eyjafjallajökull in Iceland erupted. The resulting ash cloud was blown towards Western Europe and caused severe disruption to air travel for the following few weeks. A report into the eruption and its impact ({cite:t}`UCLIcelandVolcano`) reviewed how well the risk had been managed. One question was whether potentially more devastating eruptions from the larger neighbouring volcano Katla can be predicted from a recent eruption of Eyjafjallajökull. The report provides the dates of all 18 eruptions of Katla since the year 1177, with a corresponding indicator of whether Eyjafjallajökull had also erupted within the previous year.\n",
    "\n",
    "-- {cite:t}`Lunn2012BugsBook` p. 254\n",
    "```"
   ]
  },
  {
   "cell_type": "code",
   "execution_count": 2,
   "id": "456933fb",
   "metadata": {},
   "outputs": [],
   "source": [
    "# fmt: off\n",
    "D = np.array(\n",
    "    (1177, 1262, 1311, 1357, 1416, 1440, 1450, 1500, \n",
    "     1550, 1580, 1612, 1625, 1660, 1721, 1755, 1823, \n",
    "     1860, 1918, np.inf) # \n",
    ")\n",
    "# fmt: on\n",
    "\n",
    "# probabilities\n",
    "ps = [1, 5, 10, 50]\n",
    "\n",
    "# time between eruptions\n",
    "t = np.diff(D)\n",
    "t[t > 100] = 100"
   ]
  },
  {
   "cell_type": "code",
   "execution_count": 3,
   "id": "81c33012",
   "metadata": {
    "tags": [
     "hide-output"
    ]
   },
   "outputs": [
    {
     "name": "stderr",
     "output_type": "stream",
     "text": [
      "Initializing NUTS using jitter+adapt_diag_grad...\n",
      "Multiprocess sampling (4 chains in 4 jobs)\n",
      "NUTS: [α, σ]\n"
     ]
    },
    {
     "data": {
      "application/vnd.jupyter.widget-view+json": {
       "model_id": "f8bfbcda7398411eb983071471da9a26",
       "version_major": 2,
       "version_minor": 0
      },
      "text/plain": [
       "Output()"
      ]
     },
     "metadata": {},
     "output_type": "display_data"
    },
    {
     "data": {
      "text/html": [
       "<pre style=\"white-space:pre;overflow-x:auto;line-height:normal;font-family:Menlo,'DejaVu Sans Mono',consolas,'Courier New',monospace\"></pre>\n"
      ],
      "text/plain": []
     },
     "metadata": {},
     "output_type": "display_data"
    },
    {
     "name": "stderr",
     "output_type": "stream",
     "text": [
      "Sampling 4 chains for 1_000 tune and 3_000 draw iterations (4_000 + 12_000 draws total) took 1 seconds.\n"
     ]
    }
   ],
   "source": [
    "with pm.Model() as m:\n",
    "    α = pm.TruncatedNormal(\"α\", mu=0, sigma=5, lower=0)  # v in BUGS model\n",
    "\n",
    "    σ = pm.Gamma(\"σ\", 0.1, 0.1)\n",
    "    λ = 1 / σ**α\n",
    "    β = λ ** (-1 / α)\n",
    "\n",
    "    _t = pm.Weibull.dist(α, β)\n",
    "    pm.Censored(\"likelihood\", _t, lower=None, upper=100, observed=t)\n",
    "\n",
    "    median = pm.Deterministic(\"median tte\", σ * np.log(2) ** (1 / α))\n",
    "\n",
    "    for p in ps:\n",
    "        pm.Deterministic(\n",
    "            f\"p_erupt_{p}\", 1 - pm.math.exp((100 / σ) ** α - ((100 + p) / σ) ** α)\n",
    "        )\n",
    "\n",
    "    trace = pm.sample(3000, init=\"jitter+adapt_diag_grad\", target_accept=0.95)"
   ]
  },
  {
   "cell_type": "code",
   "execution_count": 4,
   "id": "18e87fe7-453d-4425-89ef-6cd4fbee68a5",
   "metadata": {},
   "outputs": [
    {
     "data": {
      "text/html": [
       "<div>\n",
       "<style scoped>\n",
       "    .dataframe tbody tr th:only-of-type {\n",
       "        vertical-align: middle;\n",
       "    }\n",
       "\n",
       "    .dataframe tbody tr th {\n",
       "        vertical-align: top;\n",
       "    }\n",
       "\n",
       "    .dataframe thead th {\n",
       "        text-align: right;\n",
       "    }\n",
       "</style>\n",
       "<table border=\"1\" class=\"dataframe\">\n",
       "  <thead>\n",
       "    <tr style=\"text-align: right;\">\n",
       "      <th></th>\n",
       "      <th>mean</th>\n",
       "      <th>sd</th>\n",
       "      <th>hdi_3%</th>\n",
       "      <th>hdi_97%</th>\n",
       "      <th>mcse_mean</th>\n",
       "      <th>mcse_sd</th>\n",
       "      <th>ess_bulk</th>\n",
       "      <th>ess_tail</th>\n",
       "      <th>r_hat</th>\n",
       "    </tr>\n",
       "  </thead>\n",
       "  <tbody>\n",
       "    <tr>\n",
       "      <th>α</th>\n",
       "      <td>1.930</td>\n",
       "      <td>0.387</td>\n",
       "      <td>1.217</td>\n",
       "      <td>2.659</td>\n",
       "      <td>0.005</td>\n",
       "      <td>0.004</td>\n",
       "      <td>5405.0</td>\n",
       "      <td>5983.0</td>\n",
       "      <td>1.0</td>\n",
       "    </tr>\n",
       "    <tr>\n",
       "      <th>σ</th>\n",
       "      <td>50.213</td>\n",
       "      <td>6.729</td>\n",
       "      <td>36.975</td>\n",
       "      <td>62.083</td>\n",
       "      <td>0.095</td>\n",
       "      <td>0.067</td>\n",
       "      <td>4955.0</td>\n",
       "      <td>4686.0</td>\n",
       "      <td>1.0</td>\n",
       "    </tr>\n",
       "    <tr>\n",
       "      <th>median tte</th>\n",
       "      <td>41.318</td>\n",
       "      <td>6.316</td>\n",
       "      <td>29.582</td>\n",
       "      <td>53.020</td>\n",
       "      <td>0.091</td>\n",
       "      <td>0.064</td>\n",
       "      <td>4823.0</td>\n",
       "      <td>4579.0</td>\n",
       "      <td>1.0</td>\n",
       "    </tr>\n",
       "    <tr>\n",
       "      <th>p_erupt_1</th>\n",
       "      <td>0.075</td>\n",
       "      <td>0.031</td>\n",
       "      <td>0.024</td>\n",
       "      <td>0.133</td>\n",
       "      <td>0.000</td>\n",
       "      <td>0.000</td>\n",
       "      <td>6487.0</td>\n",
       "      <td>6132.0</td>\n",
       "      <td>1.0</td>\n",
       "    </tr>\n",
       "    <tr>\n",
       "      <th>p_erupt_5</th>\n",
       "      <td>0.320</td>\n",
       "      <td>0.111</td>\n",
       "      <td>0.135</td>\n",
       "      <td>0.539</td>\n",
       "      <td>0.001</td>\n",
       "      <td>0.001</td>\n",
       "      <td>6468.0</td>\n",
       "      <td>6115.0</td>\n",
       "      <td>1.0</td>\n",
       "    </tr>\n",
       "    <tr>\n",
       "      <th>p_erupt_10</th>\n",
       "      <td>0.533</td>\n",
       "      <td>0.148</td>\n",
       "      <td>0.253</td>\n",
       "      <td>0.799</td>\n",
       "      <td>0.002</td>\n",
       "      <td>0.001</td>\n",
       "      <td>6443.0</td>\n",
       "      <td>6136.0</td>\n",
       "      <td>1.0</td>\n",
       "    </tr>\n",
       "    <tr>\n",
       "      <th>p_erupt_50</th>\n",
       "      <td>0.965</td>\n",
       "      <td>0.056</td>\n",
       "      <td>0.861</td>\n",
       "      <td>1.000</td>\n",
       "      <td>0.001</td>\n",
       "      <td>0.001</td>\n",
       "      <td>6296.0</td>\n",
       "      <td>6208.0</td>\n",
       "      <td>1.0</td>\n",
       "    </tr>\n",
       "  </tbody>\n",
       "</table>\n",
       "</div>"
      ],
      "text/plain": [
       "              mean     sd  hdi_3%  hdi_97%  mcse_mean  mcse_sd  ess_bulk  \\\n",
       "α            1.930  0.387   1.217    2.659      0.005    0.004    5405.0   \n",
       "σ           50.213  6.729  36.975   62.083      0.095    0.067    4955.0   \n",
       "median tte  41.318  6.316  29.582   53.020      0.091    0.064    4823.0   \n",
       "p_erupt_1    0.075  0.031   0.024    0.133      0.000    0.000    6487.0   \n",
       "p_erupt_5    0.320  0.111   0.135    0.539      0.001    0.001    6468.0   \n",
       "p_erupt_10   0.533  0.148   0.253    0.799      0.002    0.001    6443.0   \n",
       "p_erupt_50   0.965  0.056   0.861    1.000      0.001    0.001    6296.0   \n",
       "\n",
       "            ess_tail  r_hat  \n",
       "α             5983.0    1.0  \n",
       "σ             4686.0    1.0  \n",
       "median tte    4579.0    1.0  \n",
       "p_erupt_1     6132.0    1.0  \n",
       "p_erupt_5     6115.0    1.0  \n",
       "p_erupt_10    6136.0    1.0  \n",
       "p_erupt_50    6208.0    1.0  "
      ]
     },
     "execution_count": 4,
     "metadata": {},
     "output_type": "execute_result"
    }
   ],
   "source": [
    "az.summary(trace)"
   ]
  },
  {
   "cell_type": "markdown",
   "id": "afd398fd",
   "metadata": {},
   "source": [
    "## Authors\n",
    "\n",
    "Aaron Reding and Jason Naramore"
   ]
  },
  {
   "cell_type": "code",
   "execution_count": 5,
   "id": "633613a1",
   "metadata": {},
   "outputs": [
    {
     "name": "stdout",
     "output_type": "stream",
     "text": [
      "Last updated: Mon Nov 27 2023\n",
      "\n",
      "Python implementation: CPython\n",
      "Python version       : 3.11.5\n",
      "IPython version      : 8.15.0\n",
      "\n",
      "pytensor: 2.17.1\n",
      "\n",
      "pandas: 2.1.0\n",
      "arviz : 0.16.1\n",
      "pymc  : 5.9.2\n",
      "numpy : 1.25.2\n",
      "\n"
     ]
    }
   ],
   "source": [
    "%load_ext watermark\n",
    "%watermark -n -u -v -iv -p pytensor"
   ]
  }
 ],
 "metadata": {
  "kernelspec": {
   "display_name": "pymc_macos15",
   "language": "python",
   "name": "python3"
  },
  "language_info": {
   "codemirror_mode": {
    "name": "ipython",
    "version": 3
   },
   "file_extension": ".py",
   "mimetype": "text/x-python",
   "name": "python",
   "nbconvert_exporter": "python",
   "pygments_lexer": "ipython3",
   "version": "3.12.7"
  }
 },
 "nbformat": 4,
 "nbformat_minor": 5
}
