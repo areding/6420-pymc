{
 "cells": [
  {
   "cell_type": "code",
   "execution_count": 1,
   "id": "dd0a1176",
   "metadata": {},
   "outputs": [],
   "source": [
    "import pymc as pm\n",
    "import numpy as np\n",
    "import arviz as az\n",
    "import pandas as pd\n",
    "\n",
    "%load_ext lab_black\n",
    "%load_ext watermark"
   ]
  },
  {
   "cell_type": "markdown",
   "id": "0b5f1c22",
   "metadata": {},
   "source": [
    "# Predicting using censored data\n",
    "\n",
    "This example demonstrates ...\n",
    "\n",
    "Adapted from [unit 10: katla.odc](https://raw.githubusercontent.com/areding/6420-pymc/main/original_examples/Codes4Unit10/katla.odc).\n",
    "\n",
    "Data can be found [here](https://raw.githubusercontent.com/areding/6420-pymc/main/data/r.txt).\n",
    "\n",
    "## Associated lecture video: Unit 10 Lesson 6"
   ]
  },
  {
   "cell_type": "code",
   "execution_count": 2,
   "id": "e4ed6c94",
   "metadata": {},
   "outputs": [
    {
     "data": {
      "text/html": [
       "<iframe width=\"560\" height=\"315\" src=\"https://www.youtube.com/embed?v=xomK4tcePmc&list=PLv0FeK5oXK4l-RdT6DWJj0_upJOG2WKNO&index=103\" frameborder=\"0\" allow=\"autoplay; encrypted-media\" allowfullscreen></iframe>\n"
      ],
      "text/plain": [
       "<IPython.core.display.HTML object>"
      ]
     },
     "metadata": {},
     "output_type": "display_data"
    }
   ],
   "source": [
    "%%html\n",
    "<iframe width=\"560\" height=\"315\" src=\"https://www.youtube.com/embed?v=xomK4tcePmc&list=PLv0FeK5oXK4l-RdT6DWJj0_upJOG2WKNO&index=103\" frameborder=\"0\" allow=\"autoplay; encrypted-media\" allowfullscreen></iframe>"
   ]
  },
  {
   "cell_type": "markdown",
   "id": "4c88d771",
   "metadata": {},
   "source": [
    "## Problem statement\n",
    "\n",
    "In 2010 Icelandic volcano Eyjafjallajökull erupted. Nearby volcano Katla erupts more frequently.\n",
    "\n",
    "Prediction for next Katla erruption (BUGS Book p254)\n",
    "\n",
    "\n",
    "\n",
    "notes:\n",
    "\n",
    "Having problems with Weibull and pm.Censored again! What is the deal here? Imputed censoring works fine."
   ]
  },
  {
   "cell_type": "code",
   "execution_count": 3,
   "id": "1625d1c7",
   "metadata": {},
   "outputs": [
    {
     "data": {
      "text/plain": [
       "array([ 85,  49,  46,  59,  24,  10,  50,  50,  30,  32,  13,  35,  61,\n",
       "        34,  68,  37,  58, 182])"
      ]
     },
     "execution_count": 3,
     "metadata": {},
     "output_type": "execute_result"
    }
   ],
   "source": [
    "# fmt: off\n",
    "D = np.array(\n",
    "    (1177, 1262, 1311, 1357, 1416, 1440, 1450, 1500, 1550, \n",
    "     1580, 1612, 1625, 1660, 1721, 1755, 1823, 1860, 1918, 2100)\n",
    ")\n",
    "# fmt: on\n",
    "\n",
    "ps = [1, 5, 10, 50]\n",
    "\n",
    "# time between eruptions\n",
    "t = np.diff(D)\n",
    "t"
   ]
  },
  {
   "cell_type": "code",
   "execution_count": 4,
   "id": "bdcfee5d",
   "metadata": {},
   "outputs": [
    {
     "name": "stderr",
     "output_type": "stream",
     "text": [
      "Auto-assigning NUTS sampler...\n",
      "Initializing NUTS using jitter+adapt_diag...\n"
     ]
    },
    {
     "ename": "SamplingError",
     "evalue": "Initial evaluation of model at starting point failed!\nStarting values:\n{'α_interval__': array(-0.75002609), 'σ_log__': array(-0.55321869)}\n\nInitial evaluation results:\n{'α': -2.59, 'σ': -6.92, 'likelihood': -inf}",
     "output_type": "error",
     "traceback": [
      "\u001b[0;31m---------------------------------------------------------------------------\u001b[0m",
      "\u001b[0;31mSamplingError\u001b[0m                             Traceback (most recent call last)",
      "Input \u001b[0;32mIn [4]\u001b[0m, in \u001b[0;36m<cell line: 1>\u001b[0;34m()\u001b[0m\n\u001b[1;32m     13\u001b[0m \u001b[38;5;28;01mfor\u001b[39;00m p \u001b[38;5;129;01min\u001b[39;00m ps:\n\u001b[1;32m     14\u001b[0m     pm\u001b[38;5;241m.\u001b[39mDeterministic(\n\u001b[1;32m     15\u001b[0m         \u001b[38;5;124mf\u001b[39m\u001b[38;5;124m\"\u001b[39m\u001b[38;5;124mp_erupt_\u001b[39m\u001b[38;5;132;01m{\u001b[39;00mp\u001b[38;5;132;01m}\u001b[39;00m\u001b[38;5;124m\"\u001b[39m, \u001b[38;5;241m1\u001b[39m \u001b[38;5;241m-\u001b[39m pm\u001b[38;5;241m.\u001b[39mmath\u001b[38;5;241m.\u001b[39mexp((\u001b[38;5;241m100\u001b[39m \u001b[38;5;241m/\u001b[39m σ) \u001b[38;5;241m*\u001b[39m\u001b[38;5;241m*\u001b[39m α \u001b[38;5;241m-\u001b[39m ((\u001b[38;5;241m100\u001b[39m \u001b[38;5;241m+\u001b[39m p) \u001b[38;5;241m/\u001b[39m σ) \u001b[38;5;241m*\u001b[39m\u001b[38;5;241m*\u001b[39m α)\n\u001b[1;32m     16\u001b[0m     )\n\u001b[0;32m---> 18\u001b[0m trace\u001b[38;5;241m=\u001b[39m\u001b[43mpm\u001b[49m\u001b[38;5;241;43m.\u001b[39;49m\u001b[43msample\u001b[49m\u001b[43m(\u001b[49m\u001b[38;5;241;43m3000\u001b[39;49m\u001b[43m)\u001b[49m\n",
      "File \u001b[0;32m~/mambaforge/envs/pymc_env/lib/python3.10/site-packages/pymc/sampling.py:558\u001b[0m, in \u001b[0;36msample\u001b[0;34m(draws, step, init, n_init, initvals, trace, chain_idx, chains, cores, tune, progressbar, model, random_seed, discard_tuned_samples, compute_convergence_checks, callback, jitter_max_retries, return_inferencedata, idata_kwargs, mp_ctx, **kwargs)\u001b[0m\n\u001b[1;32m    556\u001b[0m \u001b[38;5;66;03m# One final check that shapes and logps at the starting points are okay.\u001b[39;00m\n\u001b[1;32m    557\u001b[0m \u001b[38;5;28;01mfor\u001b[39;00m ip \u001b[38;5;129;01min\u001b[39;00m initial_points:\n\u001b[0;32m--> 558\u001b[0m     \u001b[43mmodel\u001b[49m\u001b[38;5;241;43m.\u001b[39;49m\u001b[43mcheck_start_vals\u001b[49m\u001b[43m(\u001b[49m\u001b[43mip\u001b[49m\u001b[43m)\u001b[49m\n\u001b[1;32m    559\u001b[0m     _check_start_shape(model, ip)\n\u001b[1;32m    561\u001b[0m sample_args \u001b[38;5;241m=\u001b[39m {\n\u001b[1;32m    562\u001b[0m     \u001b[38;5;124m\"\u001b[39m\u001b[38;5;124mdraws\u001b[39m\u001b[38;5;124m\"\u001b[39m: draws,\n\u001b[1;32m    563\u001b[0m     \u001b[38;5;124m\"\u001b[39m\u001b[38;5;124mstep\u001b[39m\u001b[38;5;124m\"\u001b[39m: step,\n\u001b[0;32m   (...)\u001b[0m\n\u001b[1;32m    573\u001b[0m     \u001b[38;5;124m\"\u001b[39m\u001b[38;5;124mdiscard_tuned_samples\u001b[39m\u001b[38;5;124m\"\u001b[39m: discard_tuned_samples,\n\u001b[1;32m    574\u001b[0m }\n",
      "File \u001b[0;32m~/mambaforge/envs/pymc_env/lib/python3.10/site-packages/pymc/model.py:1725\u001b[0m, in \u001b[0;36mModel.check_start_vals\u001b[0;34m(self, start)\u001b[0m\n\u001b[1;32m   1722\u001b[0m initial_eval \u001b[38;5;241m=\u001b[39m \u001b[38;5;28mself\u001b[39m\u001b[38;5;241m.\u001b[39mpoint_logps(point\u001b[38;5;241m=\u001b[39melem)\n\u001b[1;32m   1724\u001b[0m \u001b[38;5;28;01mif\u001b[39;00m \u001b[38;5;129;01mnot\u001b[39;00m \u001b[38;5;28mall\u001b[39m(np\u001b[38;5;241m.\u001b[39misfinite(v) \u001b[38;5;28;01mfor\u001b[39;00m v \u001b[38;5;129;01min\u001b[39;00m initial_eval\u001b[38;5;241m.\u001b[39mvalues()):\n\u001b[0;32m-> 1725\u001b[0m     \u001b[38;5;28;01mraise\u001b[39;00m SamplingError(\n\u001b[1;32m   1726\u001b[0m         \u001b[38;5;124m\"\u001b[39m\u001b[38;5;124mInitial evaluation of model at starting point failed!\u001b[39m\u001b[38;5;130;01m\\n\u001b[39;00m\u001b[38;5;124m\"\u001b[39m\n\u001b[1;32m   1727\u001b[0m         \u001b[38;5;124mf\u001b[39m\u001b[38;5;124m\"\u001b[39m\u001b[38;5;124mStarting values:\u001b[39m\u001b[38;5;130;01m\\n\u001b[39;00m\u001b[38;5;132;01m{\u001b[39;00melem\u001b[38;5;132;01m}\u001b[39;00m\u001b[38;5;130;01m\\n\u001b[39;00m\u001b[38;5;130;01m\\n\u001b[39;00m\u001b[38;5;124m\"\u001b[39m\n\u001b[1;32m   1728\u001b[0m         \u001b[38;5;124mf\u001b[39m\u001b[38;5;124m\"\u001b[39m\u001b[38;5;124mInitial evaluation results:\u001b[39m\u001b[38;5;130;01m\\n\u001b[39;00m\u001b[38;5;132;01m{\u001b[39;00minitial_eval\u001b[38;5;132;01m}\u001b[39;00m\u001b[38;5;124m\"\u001b[39m\n\u001b[1;32m   1729\u001b[0m     )\n",
      "\u001b[0;31mSamplingError\u001b[0m: Initial evaluation of model at starting point failed!\nStarting values:\n{'α_interval__': array(-0.75002609), 'σ_log__': array(-0.55321869)}\n\nInitial evaluation results:\n{'α': -2.59, 'σ': -6.92, 'likelihood': -inf}"
     ]
    }
   ],
   "source": [
    "with pm.Model() as m:\n",
    "    α = pm.TruncatedNormal(\"α\", mu=0, sigma=5, lower=0)  # v in BUGS model\n",
    "\n",
    "    σ = pm.Gamma(\"σ\", 0.001, 0.001)\n",
    "    λ = (1 / σ)**α\n",
    "    β = λ ** (-1 / α)\n",
    "    \n",
    "    _t = pm.Weibull.dist(α, β)\n",
    "    pm.Censored(\"likelihood\", _t, lower=None, upper=100, observed=t)\n",
    "    \n",
    "    median = pm.Deterministic(\"median tte\", σ*np.log(2)**(1/α))\n",
    "    \n",
    "    for p in ps:\n",
    "        pm.Deterministic(\n",
    "            f\"p_erupt_{p}\", 1 - pm.math.exp((100 / σ) ** α - ((100 + p) / σ) ** α)\n",
    "        )\n",
    "\n",
    "    trace=pm.sample(3000)"
   ]
  },
  {
   "cell_type": "code",
   "execution_count": null,
   "id": "13f820b6",
   "metadata": {},
   "outputs": [],
   "source": [
    "az.summary(trace)"
   ]
  },
  {
   "cell_type": "code",
   "execution_count": null,
   "id": "593d9c1b",
   "metadata": {},
   "outputs": [],
   "source": [
    "with pm.Model() as m:\n",
    "    # α = pm.Uniform(\"α\", 0, 10) # getting divide by 0 errors\n",
    "    α = pm.TruncatedNormal(\"α\", mu=0, sigma=5, lower=0)  # v in BUGS model\n",
    "\n",
    "    σ = pm.Gamma(\"σ\", 0.001, 0.001)\n",
    "    λ = (1 / σ) ** α\n",
    "    β = λ ** (-1 / α)\n",
    "\n",
    "    impute_censored = pm.Bound(\"impute_censored\", pm.Weibull.dist(α, β), lower=100)\n",
    "\n",
    "    pm.Weibull(\"likelihood\", α, β, observed=t_uncens)\n",
    "\n",
    "    median = pm.Deterministic(\"median tte\", σ * np.log(2) ** (1 / α))\n",
    "\n",
    "    for p in ps:\n",
    "        pm.Deterministic(\n",
    "            f\"p_erupt_{p}\", 1 - pm.math.exp((100 / σ) ** α - ((100 + p) / σ) ** α)\n",
    "        )\n",
    "\n",
    "    trace = pm.sample(3000)"
   ]
  },
  {
   "cell_type": "code",
   "execution_count": null,
   "id": "aa9c5d43",
   "metadata": {},
   "outputs": [],
   "source": [
    "az.summary(trace)"
   ]
  },
  {
   "cell_type": "code",
   "execution_count": null,
   "id": "02129475",
   "metadata": {},
   "outputs": [],
   "source": []
  }
 ],
 "metadata": {
  "kernelspec": {
   "display_name": "Python 3 (ipykernel)",
   "language": "python",
   "name": "python3"
  },
  "language_info": {
   "codemirror_mode": {
    "name": "ipython",
    "version": 3
   },
   "file_extension": ".py",
   "mimetype": "text/x-python",
   "name": "python",
   "nbconvert_exporter": "python",
   "pygments_lexer": "ipython3",
   "version": "3.10.4"
  }
 },
 "nbformat": 4,
 "nbformat_minor": 5
}
