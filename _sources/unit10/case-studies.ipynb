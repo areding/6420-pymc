{
 "cells": [
  {
   "cell_type": "markdown",
   "id": "9c63bdd9-fc37-4138-a171-bf450b946a3e",
   "metadata": {},
   "source": [
    "# Case studies\n",
    "\n",
    "placeholder\n",
    "\n",
    "From lectures, link to papers and recreate, maybe link to student projects if they allow it"
   ]
  },
  {
   "cell_type": "code",
   "execution_count": null,
   "id": "285b14c5-b62c-4726-b789-ccda794071e6",
   "metadata": {},
   "outputs": [],
   "source": []
  }
 ],
 "metadata": {
  "kernelspec": {
   "display_name": "Python 3 (ipykernel)",
   "language": "python",
   "name": "python3"
  },
  "language_info": {
   "codemirror_mode": {
    "name": "ipython",
    "version": 3
   },
   "file_extension": ".py",
   "mimetype": "text/x-python",
   "name": "python",
   "nbconvert_exporter": "python",
   "pygments_lexer": "ipython3",
   "version": "3.9.10"
  }
 },
 "nbformat": 4,
 "nbformat_minor": 5
}
