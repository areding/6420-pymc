{
 "cells": [
  {
   "cell_type": "code",
   "execution_count": null,
   "id": "b880457d-f3c1-41c4-8a8e-789b7808b171",
   "metadata": {
    "tags": [
     "hide_cell"
    ]
   },
   "outputs": [],
   "source": [
    "# for colab\n",
    "%pip install pgmpy"
   ]
  },
  {
   "cell_type": "code",
   "execution_count": 1,
   "id": "dde85d70-e6bd-43f8-971c-91477e276baa",
   "metadata": {},
   "outputs": [],
   "source": [
    "import matplotlib.pyplot as plt\n",
    "import networkx as nx\n",
    "from pgmpy.factors.discrete import TabularCPD\n",
    "from pgmpy.inference import CausalInference\n",
    "from pgmpy.models import BayesianNetwork"
   ]
  },
  {
   "cell_type": "markdown",
   "id": "c76d9338-385e-4942-a970-955d65e112d9",
   "metadata": {},
   "source": [
    "# Alarm\n",
    "From [Codes for Unit 3](https://www2.isye.gatech.edu/isye6420/supporting.html).\n",
    "\n",
    "Associated lecture videos: Unit 3 [Lesson 7](https://www.youtube.com/watch?v=IbHOo6ifJYE&list=PLv0FeK5oXK4l-RdT6DWJj0_upJOG2WKNO&index=16) and [Lesson 8](https://www.youtube.com/watch?v=iVFycPG26OQ&list=PLv0FeK5oXK4l-RdT6DWJj0_upJOG2WKNO&index=17).\n",
    "\n",
    "*Your house has an alarm system against burglary. The house is located in the seismically active area and the alarm system can get occasionally set off by an earthquake. You have two neighbors, Mary and John, who do not know each other. If they hear the alarm they call you, but this is not guaranteed. They also call you from time to time just to chat. The BUGS code provides an approximate solution for conditional  distributions of nodes given the evidence.*\n",
    "\n",
    "*1. Find the probability John calls given an earthquake.*\n",
    "\n",
    "*2. Find the probability that there was an earthquake given John has called.*\n",
    "\n",
    "*3. Find the probability of an earthquake given John has not called and Mary has called.*\n",
    "\n",
    "*Practice: Find the probability that there was a burglary given an alarm has gone off and Mary has not called.*\n",
    "\n",
    "Based on the example at https://pgmpy.org/examples/Earthquake.html, which is almost the exact same problem."
   ]
  },
  {
   "cell_type": "code",
   "execution_count": 2,
   "id": "c40e0fb7-96f8-4686-bfb5-cf21248be8fa",
   "metadata": {},
   "outputs": [
    {
     "name": "stdout",
     "output_type": "stream",
     "text": [
      "Nodes: ['Burglary', 'Alarm', 'Earthquake', 'JohnCalls', 'MaryCalls']\n",
      "Edges: [('Burglary', 'Alarm'), ('Alarm', 'JohnCalls'), ('Alarm', 'MaryCalls'), ('Earthquake', 'Alarm')]\n"
     ]
    }
   ],
   "source": [
    "# Defining network structure\n",
    "alarm_model = BayesianNetwork(\n",
    "    [\n",
    "        (\"Burglary\", \"Alarm\"),\n",
    "        (\"Earthquake\", \"Alarm\"),\n",
    "        (\"Alarm\", \"JohnCalls\"),\n",
    "        (\"Alarm\", \"MaryCalls\"),\n",
    "    ]\n",
    ")\n",
    "\n",
    "# Defining the parameters\n",
    "cpd_burglary = TabularCPD(\n",
    "    variable=\"Burglary\", variable_card=2, values=[[0.999], [0.001]]\n",
    ")\n",
    "\n",
    "cpd_earthquake = TabularCPD(\n",
    "    variable=\"Earthquake\", variable_card=2, values=[[0.998], [0.002]]\n",
    ")\n",
    "\n",
    "cpd_alarm = TabularCPD(\n",
    "    variable=\"Alarm\",\n",
    "    variable_card=2,\n",
    "    values=[[0.999, 0.71, 0.06, 0.05], [0.001, 0.29, 0.94, 0.95]],\n",
    "    evidence=[\"Burglary\", \"Earthquake\"],\n",
    "    evidence_card=[2, 2],\n",
    ")\n",
    "\n",
    "cpd_marycalls = TabularCPD(\n",
    "    variable=\"MaryCalls\",\n",
    "    variable_card=2,\n",
    "    values=[[0.99, 0.30], [0.01, 0.70]],\n",
    "    evidence=[\"Alarm\"],\n",
    "    evidence_card=[2],\n",
    ")\n",
    "\n",
    "cpd_johncalls = TabularCPD(\n",
    "    variable=\"JohnCalls\",\n",
    "    variable_card=2,\n",
    "    values=[[0.95, 0.1], [0.05, 0.9]],\n",
    "    evidence=[\"Alarm\"],\n",
    "    evidence_card=[2],\n",
    ")\n",
    "\n",
    "# Associating the parameters with the model structure\n",
    "alarm_model.add_cpds(\n",
    "    cpd_burglary, cpd_earthquake, cpd_alarm, cpd_johncalls, cpd_marycalls\n",
    ")\n",
    "\n",
    "alarm_model.check_model()\n",
    "\n",
    "print(f\"Nodes: {alarm_model.nodes()}\")\n",
    "print(f\"Edges: {alarm_model.edges()}\")"
   ]
  },
  {
   "cell_type": "code",
   "execution_count": 3,
   "id": "c9048752-dfc4-4bb0-ac15-9e1d366a8394",
   "metadata": {},
   "outputs": [
    {
     "data": {
      "image/png": "[encoded data removed]",
      "text/plain": [
       "<Figure size 432x288 with 1 Axes>"
      ]
     },
     "metadata": {},
     "output_type": "display_data"
    }
   ],
   "source": [
    "# plot the network\n",
    "\n",
    "options = {\n",
    "    \"arrowsize\": 40,\n",
    "    \"font_size\": 8,\n",
    "    \"font_weight\": \"bold\",\n",
    "    \"node_size\": 4000,\n",
    "    \"node_color\": \"white\",\n",
    "    \"edgecolors\": \"black\",\n",
    "    \"linewidths\": 2,\n",
    "    \"width\": 5,\n",
    "    \"alpha\": 0.9,\n",
    "}\n",
    "\n",
    "nx.draw(alarm_model, with_labels=True, **options)\n",
    "\n",
    "# Set margins for the axes so that nodes aren't clipped\n",
    "ax = plt.gca()\n",
    "ax.margins(0.20)\n",
    "plt.axis(\"off\")\n",
    "plt.show()"
   ]
  },
  {
   "cell_type": "code",
   "execution_count": 4,
   "id": "46b1429b-a190-4fd7-98cb-43e61fcac9e5",
   "metadata": {},
   "outputs": [
    {
     "name": "stdout",
     "output_type": "stream",
     "text": [
      "P(J|E):\n",
      "+--------------+------------------+\n",
      "| JohnCalls    |   phi(JohnCalls) |\n",
      "+==============+==================+\n",
      "| JohnCalls(0) |           0.7029 |\n",
      "+--------------+------------------+\n",
      "| JohnCalls(1) |           0.2971 |\n",
      "+--------------+------------------+\n",
      "P(E|J):\n",
      "+---------------+-------------------+\n",
      "| Earthquake    |   phi(Earthquake) |\n",
      "+===============+===================+\n",
      "| Earthquake(0) |            0.9886 |\n",
      "+---------------+-------------------+\n",
      "| Earthquake(1) |            0.0114 |\n",
      "+---------------+-------------------+\n",
      "P(E|J^c, M):\n",
      "+---------------+-------------------+\n",
      "| Earthquake    |   phi(Earthquake) |\n",
      "+===============+===================+\n",
      "| Earthquake(0) |            0.9944 |\n",
      "+---------------+-------------------+\n",
      "| Earthquake(1) |            0.0056 |\n",
      "+---------------+-------------------+\n",
      "P(B|A, M^c):\n",
      "+-------------+-----------------+\n",
      "| Burglary    |   phi(Burglary) |\n",
      "+=============+=================+\n",
      "| Burglary(0) |          0.6264 |\n",
      "+-------------+-----------------+\n",
      "| Burglary(1) |          0.3736 |\n",
      "+-------------+-----------------+\n"
     ]
    }
   ],
   "source": [
    "alarm_infer = CausalInference(alarm_model)\n",
    "\n",
    "# probability John calls given an earthquake.\n",
    "q = alarm_infer.query(variables=[\"JohnCalls\"], evidence={\"Earthquake\": True})\n",
    "print(\"P(J|E):\")\n",
    "print(q)\n",
    "\n",
    "# probability that there was an earthquake given John has called.\n",
    "q = alarm_infer.query(variables=[\"Earthquake\"], evidence={\"JohnCalls\": True})\n",
    "print(\"P(E|J):\")\n",
    "print(q)\n",
    "\n",
    "# probability of an earthquake given John has not called and Mary has called.\n",
    "q = alarm_infer.query(\n",
    "    variables=[\"Earthquake\"], evidence={\"JohnCalls\": False, \"MaryCalls\": True}\n",
    ")\n",
    "print(\"P(E|J^c, M):\")\n",
    "print(q)\n",
    "\n",
    "# probability of a burglary given an alarm and that Mary has not called.\n",
    "q = alarm_infer.query(\n",
    "    variables=[\"Burglary\"], evidence={\"Alarm\": True, \"MaryCalls\": False}\n",
    ")\n",
    "print(\"P(B|A, M^c):\")\n",
    "print(q)"
   ]
  },
  {
   "cell_type": "markdown",
   "id": "e8166d74-dabd-4caf-976a-7a6c16c44add",
   "metadata": {},
   "source": [
    "## Practice Midterm, Question 1\n",
    "\n",
    "From [this practice midterm](https://www2.isye.gatech.edu/isye6420/Bank/MidtermFall2019.pdf).\n",
    "\n",
    "**Emily, Car, Stock Market, Sweepstakes, Vacation and Bayes.** \n",
    "\n",
    "*Emily is taking Bayesian Analysis course. She believes she will get an A with probability 0.6, a B with probability 0.3, and a C or less with probability 0.1. At the end of semester she will get a car as a present form her (very) rich uncle depending on her class performance. For getting an A in the course Emily will get a car with probability 0.8, for B with probability 0.5, and for anything less than B, she will get a car with probability of 0.2. These are the probabilities if the market is bullish. If the market is bearish, the uncle is less likely to make expensive presents, and the above probabilities are 0.5, 0.3, and 0.1, respectively. The probabilities of bullish and bearish market are equal, 0.5 each. If Emily gets a car, she would travel to Redington Shores with probability 0.7, or stay on campus with probability 0.3. If she does not get a car, these two probabilities are 0.2 and 0.8, respectively. Independently, Emily may be a lucky winner of a sweepstake lottery for a free air ticket and vacation in hotel Sol at Redington Shores. The chance to win the sweepstake is 0.001, but if Emily wins, she will go to vacation with probability of 0.99, irrespective of what happened with the car.*\n",
    "\n",
    "*After the semester was over you learned that Emily is at Redington Shores.*\n",
    "\n",
    "*(a) What is the probability that she got a car?*\n",
    "\n",
    "*(b) What is the probability that she won the sweepstakes?*\n",
    "\n",
    "*(c) What is the probability that she got a B in the course?*\n",
    "\n",
    "*(d) What is the probability that the market was bearish?*\n",
    "\n",
    "*Hint: You can solve this problem by any of the 3 ways: (i) use of WinBUGS or OpenBUGS, (ii) direct simulation using Octave/MATLAB, R, or Python, and (iii) exact calculation. Use just one of the three ways to solve it. WinBUGS/OpenBUGS or direct simulation are recommended. The exact solution, although straightforward, may be quite messy.*\n",
    "\n",
    "----------------\n",
    "\n",
    "This is a bit more complicated than the alarm example, but still pretty easy with pgmpy. The only tricky part is making sure you've entered everything in the correct order.\n"
   ]
  },
  {
   "cell_type": "markdown",
   "id": "f958937a-78f1-474b-ac11-b14e86948a96",
   "metadata": {},
   "source": [
    "When defining variables in pgmpy, the columns are evidence, the rows are the states of the variable. The order you enter evidence matters. See the comments above the ```cpd_car``` and ```cpd_vacation``` variables. I'm going to use the ```state_names``` parameter of ```TabularCPD()``` to help keep track of what's going on here. "
   ]
  },
  {
   "cell_type": "code",
   "execution_count": 2,
   "id": "d511d0dc-b4e3-457b-9879-c5e3e247a09f",
   "metadata": {},
   "outputs": [
    {
     "name": "stdout",
     "output_type": "stream",
     "text": [
      "Nodes: ['Grade', 'Car', 'Vacation', 'Sweepstakes', 'Market']\n",
      "Edges: [('Grade', 'Car'), ('Car', 'Vacation'), ('Sweepstakes', 'Vacation'), ('Market', 'Car')]\n"
     ]
    }
   ],
   "source": [
    "# Defining network structure\n",
    "emily_model = BayesianNetwork(\n",
    "    [\n",
    "        (\"Grade\", \"Car\"),\n",
    "        (\"Car\", \"Vacation\"),\n",
    "        (\"Sweepstakes\", \"Vacation\"),\n",
    "        (\"Market\", \"Car\"),\n",
    "    ]\n",
    ")\n",
    "\n",
    "# Defining the variables\n",
    "cpd_market = TabularCPD(\n",
    "    variable=\"Market\",\n",
    "    variable_card=2,\n",
    "    values=[[0.5], [0.5]],\n",
    "    state_names={\"Market\": [\"Bull\", \"Bear\"]},\n",
    ")\n",
    "\n",
    "cpd_grade = TabularCPD(\n",
    "    variable=\"Grade\",\n",
    "    variable_card=3,\n",
    "    values=[[0.6], [0.3], [0.1]],\n",
    "    state_names={\"Grade\": [\"A\", \"B\", \"C\"]},\n",
    ")\n",
    "\n",
    "#    Car variable\n",
    "#    +---------+---------+---------+---------+---------+---------+---------+\n",
    "#    | Market  | Bull    | Bull    | Bull    | Bear    | Bear    | Bear    |\n",
    "#    +---------+---------+---------+---------+---------+---------+---------+\n",
    "#    | Grade   | A       | B       | C       | A       | B       | C       |\n",
    "#    +---------+---------+---------+---------+---------+---------+---------+\n",
    "#    | Car     | 0.8     | 0.5     | 0.2     | 0.5     | 0.3     | 0.1     |\n",
    "#    +---------+---------+---------+---------+---------+---------+---------+\n",
    "#    | No car  | 0.2     | 0.5     | 0.8     | 0.5     | 0.7     | 0.9     |\n",
    "#    +---------+---------+---------+---------+---------+---------+---------+\n",
    "\n",
    "cpd_car = TabularCPD(\n",
    "    variable=\"Car\",\n",
    "    variable_card=2,  # there are two possible outcomes, car or no car\n",
    "    values=[\n",
    "        [0.8, 0.5, 0.2, 0.5, 0.3, 0.1],  # car\n",
    "        [0.2, 0.5, 0.8, 0.5, 0.7, 0.9],  # no car\n",
    "    ],\n",
    "    evidence=[\"Market\", \"Grade\"],\n",
    "    evidence_card=[2, 3],  # 2 possible states for the market, 3 for grade\n",
    "    state_names={\n",
    "        \"Market\": [\"Bull\", \"Bear\"],\n",
    "        \"Grade\": [\"A\", \"B\", \"C\"],\n",
    "        \"Car\": [\"Yes\", \"No\"],\n",
    "    },\n",
    ")\n",
    "\n",
    "cpd_sweepstakes = TabularCPD(\n",
    "    variable=\"Sweepstakes\",\n",
    "    variable_card=2,\n",
    "    values=[[0.001], [0.999]],\n",
    "    state_names={\"Sweepstakes\": [\"Win\", \"Lose\"]},\n",
    ")\n",
    "\n",
    "#    +----------------+---------+---------+---------+---------+\n",
    "#    | Sweepstakes    | Win     | Win     | Lose    | Lose    |\n",
    "#    +----------------+---------+---------+---------+---------+\n",
    "#    | Car            | Yes     | No      | Yes     | No      |\n",
    "#    +----------------+---------+---------+---------+---------+\n",
    "#    | Vacation (yes) | 0.99    | 0.99    | 0.7     | 0.2     |\n",
    "#    +----------------+---------+---------+---------+---------+\n",
    "#    | Vacation (no)  | 0.01    | 0.01    | 0.3     | 0.8     |\n",
    "#    +----------------+---------+---------+---------+---------+\n",
    "\n",
    "cpd_vacation = TabularCPD(\n",
    "    variable=\"Vacation\",\n",
    "    variable_card=2,\n",
    "    values=[\n",
    "        [0.99, 0.99, 0.7, 0.2],  # vacation\n",
    "        [0.01, 0.01, 0.3, 0.8],  # no vacation\n",
    "    ],\n",
    "    evidence=[\"Sweepstakes\", \"Car\"],\n",
    "    evidence_card=[2, 2],\n",
    "    state_names={\n",
    "        \"Sweepstakes\": [\"Win\", \"Lose\"],\n",
    "        \"Car\": [\"Yes\", \"No\"],\n",
    "        \"Vacation\": [\"Yes\", \"No\"],\n",
    "    },\n",
    ")\n",
    "\n",
    "# Associating the parameters with the model structure\n",
    "emily_model.add_cpds(cpd_market, cpd_grade, cpd_car, cpd_sweepstakes, cpd_vacation)\n",
    "\n",
    "emily_model.check_model()\n",
    "\n",
    "print(f\"Nodes: {emily_model.nodes()}\")\n",
    "print(f\"Edges: {emily_model.edges()}\")"
   ]
  },
  {
   "cell_type": "code",
   "execution_count": 3,
   "id": "ab8a89e6-e0d2-41e1-8432-1f50cb649c3a",
   "metadata": {},
   "outputs": [
    {
     "data": {
      "image/png": "[encoded data removed]",
      "text/plain": [
       "<Figure size 432x288 with 1 Axes>"
      ]
     },
     "metadata": {},
     "output_type": "display_data"
    }
   ],
   "source": [
    "# plot the network\n",
    "\n",
    "options = {\n",
    "    \"arrowsize\": 40,\n",
    "    \"font_size\": 8,\n",
    "    \"font_weight\": \"bold\",\n",
    "    \"node_size\": 4000,\n",
    "    \"node_color\": \"white\",\n",
    "    \"edgecolors\": \"black\",\n",
    "    \"linewidths\": 2,\n",
    "    \"width\": 5,\n",
    "    \"alpha\": 0.9,\n",
    "}\n",
    "\n",
    "nx.draw(emily_model, with_labels=True, **options)\n",
    "\n",
    "# Set margins for the axes so that nodes aren't clipped\n",
    "ax = plt.gca()\n",
    "ax.margins(0.20)\n",
    "plt.axis(\"off\")\n",
    "plt.show()"
   ]
  },
  {
   "cell_type": "markdown",
   "id": "1a712f35-4dc4-4f8e-bccf-68e79f3a49e1",
   "metadata": {},
   "source": [
    "If the above network makes sense, we're good to go! Remember, we know Emily did go to Redington Shores for her vacation, so everything is conditional on that."
   ]
  },
  {
   "cell_type": "code",
   "execution_count": 4,
   "id": "9a506ce5-34d1-43a7-ab5d-ca4da90c9a19",
   "metadata": {},
   "outputs": [
    {
     "name": "stdout",
     "output_type": "stream",
     "text": [
      "P(C|V):\n",
      "+----------+------------+\n",
      "| Car      |   phi(Car) |\n",
      "+==========+============+\n",
      "| Car(Yes) |     0.7940 |\n",
      "+----------+------------+\n",
      "| Car(No)  |     0.2060 |\n",
      "+----------+------------+\n",
      "P(SS|V):\n",
      "+-------------------+--------------------+\n",
      "| Sweepstakes       |   phi(Sweepstakes) |\n",
      "+===================+====================+\n",
      "| Sweepstakes(Win)  |             0.0021 |\n",
      "+-------------------+--------------------+\n",
      "| Sweepstakes(Lose) |             0.9979 |\n",
      "+-------------------+--------------------+\n",
      "P(G|V):\n",
      "+----------+--------------+\n",
      "| Grade    |   phi(Grade) |\n",
      "+==========+==============+\n",
      "| Grade(A) |       0.6809 |\n",
      "+----------+--------------+\n",
      "| Grade(B) |       0.2595 |\n",
      "+----------+--------------+\n",
      "| Grade(C) |       0.0595 |\n",
      "+----------+--------------+\n",
      "P(SM|V):\n",
      "+--------------+---------------+\n",
      "| Market       |   phi(Market) |\n",
      "+==============+===============+\n",
      "| Market(Bull) |        0.5674 |\n",
      "+--------------+---------------+\n",
      "| Market(Bear) |        0.4326 |\n",
      "+--------------+---------------+\n"
     ]
    }
   ],
   "source": [
    "emily_infer = CausalInference(emily_model)\n",
    "\n",
    "evidence = {\"Vacation\": \"Yes\"}\n",
    "\n",
    "# a: probability Emily got a car.\n",
    "q = emily_infer.query(variables=[\"Car\"], evidence=evidence)\n",
    "print(\"P(C|V):\")\n",
    "print(q)\n",
    "\n",
    "# b: probability she won the sweepstakes.\n",
    "q = emily_infer.query(variables=[\"Sweepstakes\"], evidence=evidence)\n",
    "print(\"P(SS|V):\")\n",
    "print(q)\n",
    "\n",
    "# c: probability she got a B.\n",
    "q = emily_infer.query(variables=[\"Grade\"], evidence=evidence)\n",
    "print(\"P(G|V):\")\n",
    "print(q)\n",
    "\n",
    "# d: probability the stock market was bearish\n",
    "q = emily_infer.query(variables=[\"Market\"], evidence=evidence)\n",
    "print(\"P(SM|V):\")\n",
    "print(q)"
   ]
  },
  {
   "cell_type": "code",
   "execution_count": 11,
   "id": "331f53c5-b97f-45b3-9303-e805973dff2e",
   "metadata": {},
   "outputs": [
    {
     "name": "stdout",
     "output_type": "stream",
     "text": [
      "P(C|V):\n",
      "+---------------+-----------------+\n",
      "| Vacation      |   phi(Vacation) |\n",
      "+===============+=================+\n",
      "| Vacation(Yes) |          0.7000 |\n",
      "+---------------+-----------------+\n",
      "| Vacation(No)  |          0.3000 |\n",
      "+---------------+-----------------+\n"
     ]
    }
   ],
   "source": [
    "evidence = {\"Car\": \"Yes\", \"Sweepstakes\": \"Lose\"}\n",
    "\n",
    "\n",
    "q = emily_infer.query(variables=[\"Vacation\"], evidence=evidence)\n",
    "print(\"P(C|V):\")\n",
    "print(q)"
   ]
  },
  {
   "cell_type": "code",
   "execution_count": null,
   "id": "bc480e05-1df7-4acc-bbd6-eb15849c3de4",
   "metadata": {},
   "outputs": [],
   "source": []
  }
 ],
 "metadata": {
  "kernelspec": {
   "display_name": "Python 3 (ipykernel)",
   "language": "python",
   "name": "python3"
  },
  "language_info": {
   "codemirror_mode": {
    "name": "ipython",
    "version": 3
   },
   "file_extension": ".py",
   "mimetype": "text/x-python",
   "name": "python",
   "nbconvert_exporter": "python",
   "pygments_lexer": "ipython3",
   "version": "3.9.10"
  }
 },
 "nbformat": 4,
 "nbformat_minor": 5
}
