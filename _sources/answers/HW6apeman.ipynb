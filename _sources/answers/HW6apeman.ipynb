{
 "cells": [
  {
   "cell_type": "code",
   "execution_count": 1,
   "id": "bc4c2e3d-66dc-43e5-9406-3cde907169e4",
   "metadata": {},
   "outputs": [],
   "source": [
    "import arviz as az\n",
    "import numpy as np\n",
    "import pymc as pm\n",
    "from pymc.math import dot, stack, concatenate\n",
    "import pandas as pd"
   ]
  },
  {
   "cell_type": "code",
   "execution_count": 18,
   "id": "4c584b6b-87ca-4689-bccf-bd913620c374",
   "metadata": {},
   "outputs": [
    {
     "data": {
      "text/plain": [
       "'1.22.3'"
      ]
     },
     "execution_count": 18,
     "metadata": {},
     "output_type": "execute_result"
    }
   ],
   "source": [
    "np.version.version"
   ]
  },
  {
   "cell_type": "code",
   "execution_count": 2,
   "id": "ca3ad459-47cd-47aa-b42c-0f924f0ff893",
   "metadata": {},
   "outputs": [],
   "source": [
    "time=np.array([24,32,48,56,np.nan,70,72,75,80,96])\n",
    "temp=np.array([102.8,104.5,106.5,107.0,107.1,105.1,103.9,np.nan,103.2,102.1])"
   ]
  },
  {
   "cell_type": "code",
   "execution_count": 4,
   "id": "ab963af3-e413-463e-a450-64429dce44de",
   "metadata": {},
   "outputs": [],
   "source": [
    "temp = temp.copy()\n",
    "temp = np.nan_to_num(temp, nan=-1)\n",
    "temp = np.ma.masked_values(temp, value=-1)\n",
    "\n",
    "time = time.copy()\n",
    "time = np.nan_to_num(time, nan=-1)\n",
    "time = np.ma.masked_values(time, value=-1)\n",
    "time.shape, temp.shape\n",
    "n, p = 10, 2"
   ]
  },
  {
   "cell_type": "code",
   "execution_count": 6,
   "id": "c40f2ed8-bb9c-4d95-ae51-a15ddb06149e",
   "metadata": {},
   "outputs": [
    {
     "data": {
      "text/plain": [
       "masked_array(data=[24.0, 32.0, 48.0, 56.0, --, 70.0, 72.0, 75.0, 80.0,\n",
       "                   96.0],\n",
       "             mask=[False, False, False, False,  True, False, False, False,\n",
       "                   False, False],\n",
       "       fill_value=-1.0)"
      ]
     },
     "execution_count": 6,
     "metadata": {},
     "output_type": "execute_result"
    }
   ],
   "source": [
    "time"
   ]
  },
  {
   "cell_type": "code",
   "execution_count": 8,
   "id": "2c2f72a9-3c3c-4edd-9f88-b51eb6027772",
   "metadata": {},
   "outputs": [
    {
     "name": "stderr",
     "output_type": "stream",
     "text": [
      "/Users/aaron/mambaforge/envs/pymc-dev-py39/lib/python3.9/site-packages/pymc/model.py:1322: ImputationWarning: Data in x_imputed contains missing values and will be automatically imputed from the sampling distribution.\n",
      "  warnings.warn(impute_message, ImputationWarning)\n",
      "/Users/aaron/mambaforge/envs/pymc-dev-py39/lib/python3.9/site-packages/pymc/model.py:1322: ImputationWarning: Data in likelihood contains missing values and will be automatically imputed from the sampling distribution.\n",
      "  warnings.warn(impute_message, ImputationWarning)\n",
      "Multiprocess sampling (4 chains in 4 jobs)\n",
      "NUTS: [tau, beta0, beta1, x_imputed_missing, likelihood_missing]\n"
     ]
    },
    {
     "data": {
      "text/html": [
       "\n",
       "<style>\n",
       "    /* Turns off some styling */\n",
       "    progress {\n",
       "        /* gets rid of default border in Firefox and Opera. */\n",
       "        border: none;\n",
       "        /* Needs to be in here for Safari polyfill so background images work as expected. */\n",
       "        background-size: auto;\n",
       "    }\n",
       "    .progress-bar-interrupted, .progress-bar-interrupted::-webkit-progress-bar {\n",
       "        background: #F44336;\n",
       "    }\n",
       "</style>\n"
      ],
      "text/plain": [
       "<IPython.core.display.HTML object>"
      ]
     },
     "metadata": {},
     "output_type": "display_data"
    },
    {
     "data": {
      "text/html": [
       "\n",
       "    <div>\n",
       "      <progress value='36000' class='' max='36000' style='width:300px; height:20px; vertical-align: middle;'></progress>\n",
       "      100.00% [36000/36000 00:18<00:00 Sampling 4 chains, 136 divergences]\n",
       "    </div>\n",
       "    "
      ],
      "text/plain": [
       "<IPython.core.display.HTML object>"
      ]
     },
     "metadata": {},
     "output_type": "display_data"
    },
    {
     "name": "stderr",
     "output_type": "stream",
     "text": [
      "/Users/aaron/mambaforge/envs/pymc-dev-py39/lib/python3.9/site-packages/scipy/stats/_continuous_distns.py:624: RuntimeWarning: overflow encountered in _beta_ppf\n",
      "  return _boost._beta_ppf(q, a, b)\n",
      "/Users/aaron/mambaforge/envs/pymc-dev-py39/lib/python3.9/site-packages/scipy/stats/_continuous_distns.py:624: RuntimeWarning: overflow encountered in _beta_ppf\n",
      "  return _boost._beta_ppf(q, a, b)\n",
      "/Users/aaron/mambaforge/envs/pymc-dev-py39/lib/python3.9/site-packages/scipy/stats/_continuous_distns.py:624: RuntimeWarning: overflow encountered in _beta_ppf\n",
      "  return _boost._beta_ppf(q, a, b)\n",
      "/Users/aaron/mambaforge/envs/pymc-dev-py39/lib/python3.9/site-packages/scipy/stats/_continuous_distns.py:624: RuntimeWarning: overflow encountered in _beta_ppf\n",
      "  return _boost._beta_ppf(q, a, b)\n",
      "Sampling 4 chains for 1_000 tune and 8_000 draw iterations (4_000 + 32_000 draws total) took 27 seconds.\n",
      "There were 57 divergences after tuning. Increase `target_accept` or reparameterize.\n",
      "There were 70 divergences after tuning. Increase `target_accept` or reparameterize.\n",
      "There were 8 divergences after tuning. Increase `target_accept` or reparameterize.\n",
      "There was 1 divergence after tuning. Increase `target_accept` or reparameterize.\n"
     ]
    },
    {
     "data": {
      "text/html": [
       "\n",
       "<style>\n",
       "    /* Turns off some styling */\n",
       "    progress {\n",
       "        /* gets rid of default border in Firefox and Opera. */\n",
       "        border: none;\n",
       "        /* Needs to be in here for Safari polyfill so background images work as expected. */\n",
       "        background-size: auto;\n",
       "    }\n",
       "    .progress-bar-interrupted, .progress-bar-interrupted::-webkit-progress-bar {\n",
       "        background: #F44336;\n",
       "    }\n",
       "</style>\n"
      ],
      "text/plain": [
       "<IPython.core.display.HTML object>"
      ]
     },
     "metadata": {},
     "output_type": "display_data"
    },
    {
     "data": {
      "text/html": [
       "\n",
       "    <div>\n",
       "      <progress value='32000' class='' max='32000' style='width:300px; height:20px; vertical-align: middle;'></progress>\n",
       "      100.00% [32000/32000 00:03<00:00]\n",
       "    </div>\n",
       "    "
      ],
      "text/plain": [
       "<IPython.core.display.HTML object>"
      ]
     },
     "metadata": {},
     "output_type": "display_data"
    }
   ],
   "source": [
    "with pm.Model() as m:\n",
    "    tau = pm.Gamma(\"tau\", .001, .001)\n",
    "    beta0 = pm.Normal(\"beta0\", 0, tau=.001)\n",
    "    beta1 = pm.Normal(\"beta1\", 0, tau=.001)\n",
    "    variance = pm.Deterministic(\"variance\", 1/tau)\n",
    "    \n",
    "    x_imputed = pm.TruncatedNormal(\"x_imputed\", mu=50, sigma=10, lower=0, observed=time)\n",
    "    \n",
    "    mu = beta0 + beta1 * x_imputed\n",
    "    likelihood = pm.Normal(\"likelihood\", mu=mu, tau=tau, observed=temp)\n",
    "    \n",
    "    # Bayesian R2 from fat1.odc\n",
    "    sse = (n - p) * variance\n",
    "    cy = temp - temp.mean()\n",
    "    sst = pm.math.dot(cy, cy)\n",
    "    br2 = pm.Deterministic(\"br2\", 1 - sse/sst)\n",
    "    \n",
    "    trace = pm.sample(8000)\n",
    "    ppc = pm.sample_posterior_predictive(trace)"
   ]
  },
  {
   "cell_type": "code",
   "execution_count": 9,
   "id": "80c1f102-5a60-4a8e-b8d5-e64360bc2d91",
   "metadata": {},
   "outputs": [
    {
     "data": {
      "text/html": [
       "<div>\n",
       "<style scoped>\n",
       "    .dataframe tbody tr th:only-of-type {\n",
       "        vertical-align: middle;\n",
       "    }\n",
       "\n",
       "    .dataframe tbody tr th {\n",
       "        vertical-align: top;\n",
       "    }\n",
       "\n",
       "    .dataframe thead th {\n",
       "        text-align: right;\n",
       "    }\n",
       "</style>\n",
       "<table border=\"1\" class=\"dataframe\">\n",
       "  <thead>\n",
       "    <tr style=\"text-align: right;\">\n",
       "      <th></th>\n",
       "      <th>mean</th>\n",
       "      <th>sd</th>\n",
       "      <th>hdi_2.5%</th>\n",
       "      <th>hdi_97.5%</th>\n",
       "      <th>mcse_mean</th>\n",
       "      <th>mcse_sd</th>\n",
       "      <th>ess_bulk</th>\n",
       "      <th>ess_tail</th>\n",
       "      <th>r_hat</th>\n",
       "    </tr>\n",
       "  </thead>\n",
       "  <tbody>\n",
       "    <tr>\n",
       "      <th>beta0</th>\n",
       "      <td>105.683</td>\n",
       "      <td>2.197</td>\n",
       "      <td>101.343</td>\n",
       "      <td>109.921</td>\n",
       "      <td>0.022</td>\n",
       "      <td>0.016</td>\n",
       "      <td>10714.0</td>\n",
       "      <td>10881.0</td>\n",
       "      <td>1.0</td>\n",
       "    </tr>\n",
       "    <tr>\n",
       "      <th>beta1</th>\n",
       "      <td>-0.018</td>\n",
       "      <td>0.035</td>\n",
       "      <td>-0.087</td>\n",
       "      <td>0.049</td>\n",
       "      <td>0.000</td>\n",
       "      <td>0.000</td>\n",
       "      <td>10572.0</td>\n",
       "      <td>10488.0</td>\n",
       "      <td>1.0</td>\n",
       "    </tr>\n",
       "    <tr>\n",
       "      <th>likelihood_missing[0]</th>\n",
       "      <td>104.360</td>\n",
       "      <td>2.416</td>\n",
       "      <td>99.440</td>\n",
       "      <td>108.987</td>\n",
       "      <td>0.019</td>\n",
       "      <td>0.013</td>\n",
       "      <td>17274.0</td>\n",
       "      <td>14525.0</td>\n",
       "      <td>1.0</td>\n",
       "    </tr>\n",
       "    <tr>\n",
       "      <th>tau</th>\n",
       "      <td>0.282</td>\n",
       "      <td>0.153</td>\n",
       "      <td>0.032</td>\n",
       "      <td>0.579</td>\n",
       "      <td>0.002</td>\n",
       "      <td>0.002</td>\n",
       "      <td>5949.0</td>\n",
       "      <td>4064.0</td>\n",
       "      <td>1.0</td>\n",
       "    </tr>\n",
       "    <tr>\n",
       "      <th>x_imputed_missing[0]</th>\n",
       "      <td>49.226</td>\n",
       "      <td>10.020</td>\n",
       "      <td>29.515</td>\n",
       "      <td>68.525</td>\n",
       "      <td>0.087</td>\n",
       "      <td>0.062</td>\n",
       "      <td>13079.0</td>\n",
       "      <td>10193.0</td>\n",
       "      <td>1.0</td>\n",
       "    </tr>\n",
       "    <tr>\n",
       "      <th>variance</th>\n",
       "      <td>5.036</td>\n",
       "      <td>4.659</td>\n",
       "      <td>1.110</td>\n",
       "      <td>11.736</td>\n",
       "      <td>0.051</td>\n",
       "      <td>0.036</td>\n",
       "      <td>5949.0</td>\n",
       "      <td>4064.0</td>\n",
       "      <td>1.0</td>\n",
       "    </tr>\n",
       "    <tr>\n",
       "      <th>br2</th>\n",
       "      <td>-0.401</td>\n",
       "      <td>1.297</td>\n",
       "      <td>-2.266</td>\n",
       "      <td>0.691</td>\n",
       "      <td>0.014</td>\n",
       "      <td>0.010</td>\n",
       "      <td>5949.0</td>\n",
       "      <td>4064.0</td>\n",
       "      <td>1.0</td>\n",
       "    </tr>\n",
       "  </tbody>\n",
       "</table>\n",
       "</div>"
      ],
      "text/plain": [
       "                          mean      sd  hdi_2.5%  hdi_97.5%  mcse_mean  \\\n",
       "beta0                  105.683   2.197   101.343    109.921      0.022   \n",
       "beta1                   -0.018   0.035    -0.087      0.049      0.000   \n",
       "likelihood_missing[0]  104.360   2.416    99.440    108.987      0.019   \n",
       "tau                      0.282   0.153     0.032      0.579      0.002   \n",
       "x_imputed_missing[0]    49.226  10.020    29.515     68.525      0.087   \n",
       "variance                 5.036   4.659     1.110     11.736      0.051   \n",
       "br2                     -0.401   1.297    -2.266      0.691      0.014   \n",
       "\n",
       "                       mcse_sd  ess_bulk  ess_tail  r_hat  \n",
       "beta0                    0.016   10714.0   10881.0    1.0  \n",
       "beta1                    0.000   10572.0   10488.0    1.0  \n",
       "likelihood_missing[0]    0.013   17274.0   14525.0    1.0  \n",
       "tau                      0.002    5949.0    4064.0    1.0  \n",
       "x_imputed_missing[0]     0.062   13079.0   10193.0    1.0  \n",
       "variance                 0.036    5949.0    4064.0    1.0  \n",
       "br2                      0.010    5949.0    4064.0    1.0  "
      ]
     },
     "execution_count": 9,
     "metadata": {},
     "output_type": "execute_result"
    }
   ],
   "source": [
    "az.summary(trace, hdi_prob=.95)"
   ]
  },
  {
   "cell_type": "code",
   "execution_count": 10,
   "id": "e2258208-9194-486b-8d50-d532fba2fe80",
   "metadata": {},
   "outputs": [
    {
     "data": {
      "text/plain": [
       "masked_array(data=[576.0, 1024.0, 2304.0, 3136.0, --, 4900.0, 5184.0,\n",
       "                   5625.0, 6400.0, 9216.0],\n",
       "             mask=[False, False, False, False,  True, False, False, False,\n",
       "                   False, False],\n",
       "       fill_value=-1.0)"
      ]
     },
     "execution_count": 10,
     "metadata": {},
     "output_type": "execute_result"
    }
   ],
   "source": [
    "time2=time*time\n",
    "time2"
   ]
  },
  {
   "cell_type": "code",
   "execution_count": 11,
   "id": "5788364b-328d-4513-b4d8-08d17951dcef",
   "metadata": {},
   "outputs": [
    {
     "name": "stderr",
     "output_type": "stream",
     "text": [
      "/Users/aaron/mambaforge/envs/pymc-dev-py39/lib/python3.9/site-packages/pymc/model.py:1322: ImputationWarning: Data in x_imputed contains missing values and will be automatically imputed from the sampling distribution.\n",
      "  warnings.warn(impute_message, ImputationWarning)\n",
      "/Users/aaron/mambaforge/envs/pymc-dev-py39/lib/python3.9/site-packages/pymc/model.py:1322: ImputationWarning: Data in x2_imputed contains missing values and will be automatically imputed from the sampling distribution.\n",
      "  warnings.warn(impute_message, ImputationWarning)\n",
      "/Users/aaron/mambaforge/envs/pymc-dev-py39/lib/python3.9/site-packages/pymc/model.py:1322: ImputationWarning: Data in likelihood contains missing values and will be automatically imputed from the sampling distribution.\n",
      "  warnings.warn(impute_message, ImputationWarning)\n",
      "Multiprocess sampling (4 chains in 4 jobs)\n",
      "NUTS: [tau, beta0, beta1, beta2, x_imputed_missing, x2_imputed_missing, likelihood_missing]\n"
     ]
    },
    {
     "data": {
      "text/html": [
       "\n",
       "<style>\n",
       "    /* Turns off some styling */\n",
       "    progress {\n",
       "        /* gets rid of default border in Firefox and Opera. */\n",
       "        border: none;\n",
       "        /* Needs to be in here for Safari polyfill so background images work as expected. */\n",
       "        background-size: auto;\n",
       "    }\n",
       "    .progress-bar-interrupted, .progress-bar-interrupted::-webkit-progress-bar {\n",
       "        background: #F44336;\n",
       "    }\n",
       "</style>\n"
      ],
      "text/plain": [
       "<IPython.core.display.HTML object>"
      ]
     },
     "metadata": {},
     "output_type": "display_data"
    },
    {
     "data": {
      "text/html": [
       "\n",
       "    <div>\n",
       "      <progress value='36000' class='' max='36000' style='width:300px; height:20px; vertical-align: middle;'></progress>\n",
       "      100.00% [36000/36000 01:14<00:00 Sampling 4 chains, 8,189 divergences]\n",
       "    </div>\n",
       "    "
      ],
      "text/plain": [
       "<IPython.core.display.HTML object>"
      ]
     },
     "metadata": {},
     "output_type": "display_data"
    },
    {
     "name": "stderr",
     "output_type": "stream",
     "text": [
      "/Users/aaron/mambaforge/envs/pymc-dev-py39/lib/python3.9/site-packages/scipy/stats/_continuous_distns.py:624: RuntimeWarning: overflow encountered in _beta_ppf\n",
      "  return _boost._beta_ppf(q, a, b)\n",
      "/Users/aaron/mambaforge/envs/pymc-dev-py39/lib/python3.9/site-packages/scipy/stats/_continuous_distns.py:624: RuntimeWarning: overflow encountered in _beta_ppf\n",
      "  return _boost._beta_ppf(q, a, b)\n",
      "/Users/aaron/mambaforge/envs/pymc-dev-py39/lib/python3.9/site-packages/scipy/stats/_continuous_distns.py:624: RuntimeWarning: overflow encountered in _beta_ppf\n",
      "  return _boost._beta_ppf(q, a, b)\n",
      "/Users/aaron/mambaforge/envs/pymc-dev-py39/lib/python3.9/site-packages/scipy/stats/_continuous_distns.py:624: RuntimeWarning: overflow encountered in _beta_ppf\n",
      "  return _boost._beta_ppf(q, a, b)\n",
      "Sampling 4 chains for 1_000 tune and 8_000 draw iterations (4_000 + 32_000 draws total) took 84 seconds.\n",
      "There were 4519 divergences after tuning. Increase `target_accept` or reparameterize.\n",
      "The acceptance probability does not match the target. It is 0.254, but should be close to 0.8. Try to increase the number of tuning steps.\n",
      "There were 898 divergences after tuning. Increase `target_accept` or reparameterize.\n",
      "There were 96 divergences after tuning. Increase `target_accept` or reparameterize.\n",
      "The acceptance probability does not match the target. It is 0.8992, but should be close to 0.8. Try to increase the number of tuning steps.\n",
      "There were 2676 divergences after tuning. Increase `target_accept` or reparameterize.\n",
      "The acceptance probability does not match the target. It is 0.5471, but should be close to 0.8. Try to increase the number of tuning steps.\n",
      "The rhat statistic is larger than 1.01 for some parameters. This indicates problems during sampling. See https://arxiv.org/abs/1903.08008 for details\n",
      "The effective sample size per chain is smaller than 100 for some parameters.  A higher number is needed for reliable rhat and ess computation. See https://arxiv.org/abs/1903.08008 for details\n"
     ]
    },
    {
     "data": {
      "text/html": [
       "\n",
       "<style>\n",
       "    /* Turns off some styling */\n",
       "    progress {\n",
       "        /* gets rid of default border in Firefox and Opera. */\n",
       "        border: none;\n",
       "        /* Needs to be in here for Safari polyfill so background images work as expected. */\n",
       "        background-size: auto;\n",
       "    }\n",
       "    .progress-bar-interrupted, .progress-bar-interrupted::-webkit-progress-bar {\n",
       "        background: #F44336;\n",
       "    }\n",
       "</style>\n"
      ],
      "text/plain": [
       "<IPython.core.display.HTML object>"
      ]
     },
     "metadata": {},
     "output_type": "display_data"
    },
    {
     "data": {
      "text/html": [
       "\n",
       "    <div>\n",
       "      <progress value='32000' class='' max='32000' style='width:300px; height:20px; vertical-align: middle;'></progress>\n",
       "      100.00% [32000/32000 00:04<00:00]\n",
       "    </div>\n",
       "    "
      ],
      "text/plain": [
       "<IPython.core.display.HTML object>"
      ]
     },
     "metadata": {},
     "output_type": "display_data"
    }
   ],
   "source": [
    "with pm.Model() as m:\n",
    "    tau = pm.Gamma(\"tau\", .001, .001)\n",
    "    beta0 = pm.Normal(\"beta0\", 0, tau=.001)\n",
    "    beta1 = pm.Normal(\"beta1\", 0, tau=.001)\n",
    "    beta2 = pm.Normal(\"beta2\", 0, tau=.001)\n",
    "    variance = pm.Deterministic(\"variance\", 1/tau)\n",
    "    \n",
    "    x_imputed = pm.TruncatedNormal(\"x_imputed\", mu=20, sigma=10, lower=0, observed=time)\n",
    "    x2_imputed = pm.TruncatedNormal(\"x2_imputed\", mu=20, sigma=10, lower=0, observed=time2)\n",
    "    \n",
    "    mu = beta0 + beta1 * x_imputed +beta2*x2_imputed\n",
    "    likelihood = pm.Normal(\"likelihood\", mu=mu, tau=tau, observed=temp)\n",
    "    \n",
    "    # Bayesian R2 from fat1.odc\n",
    "    sse = (n - p) * variance\n",
    "    cy = temp - sum([102.8,104.5,106.5,107.0,107.1,105.1,103.9,103.2,102.1])/9\n",
    "    sst = pm.math.dot(cy, cy)\n",
    "    br2 = pm.Deterministic(\"br2\", 1 - sse/sst)\n",
    "    \n",
    "    trace = pm.sample(8000)\n",
    "    ppc = pm.sample_posterior_predictive(trace)\n",
    "    "
   ]
  },
  {
   "cell_type": "code",
   "execution_count": 42,
   "id": "9a44bbd6-fb74-4873-a2f5-37a4093c1540",
   "metadata": {},
   "outputs": [
    {
     "name": "stderr",
     "output_type": "stream",
     "text": [
      "Got error No model on context stack. trying to find log_likelihood in translation.\n",
      "/opt/conda/lib/python3.7/site-packages/arviz/data/io_pymc3_3x.py:102: FutureWarning: Using `from_pymc3` without the model will be deprecated in a future release. Not using the model will return less accurate and less useful results. Make sure you use the model argument or call from_pymc3 within a model context.\n",
      "  FutureWarning,\n",
      "arviz - WARNING - Array contains NaN-value.\n"
     ]
    },
    {
     "data": {
      "text/html": [
       "<div>\n",
       "<style scoped>\n",
       "    .dataframe tbody tr th:only-of-type {\n",
       "        vertical-align: middle;\n",
       "    }\n",
       "\n",
       "    .dataframe tbody tr th {\n",
       "        vertical-align: top;\n",
       "    }\n",
       "\n",
       "    .dataframe thead th {\n",
       "        text-align: right;\n",
       "    }\n",
       "</style>\n",
       "<table border=\"1\" class=\"dataframe\">\n",
       "  <thead>\n",
       "    <tr style=\"text-align: right;\">\n",
       "      <th></th>\n",
       "      <th>mean</th>\n",
       "      <th>sd</th>\n",
       "      <th>hdi_2.5%</th>\n",
       "      <th>hdi_97.5%</th>\n",
       "      <th>mcse_mean</th>\n",
       "      <th>mcse_sd</th>\n",
       "      <th>ess_bulk</th>\n",
       "      <th>ess_tail</th>\n",
       "      <th>r_hat</th>\n",
       "    </tr>\n",
       "  </thead>\n",
       "  <tbody>\n",
       "    <tr>\n",
       "      <th>beta0</th>\n",
       "      <td>97.673</td>\n",
       "      <td>2.955</td>\n",
       "      <td>91.662</td>\n",
       "      <td>103.385</td>\n",
       "      <td>0.116</td>\n",
       "      <td>0.082</td>\n",
       "      <td>541.0</td>\n",
       "      <td>2897.0</td>\n",
       "      <td>1.02</td>\n",
       "    </tr>\n",
       "    <tr>\n",
       "      <th>beta1</th>\n",
       "      <td>0.305</td>\n",
       "      <td>0.107</td>\n",
       "      <td>0.110</td>\n",
       "      <td>0.539</td>\n",
       "      <td>0.004</td>\n",
       "      <td>0.003</td>\n",
       "      <td>466.0</td>\n",
       "      <td>2309.0</td>\n",
       "      <td>1.02</td>\n",
       "    </tr>\n",
       "    <tr>\n",
       "      <th>beta2</th>\n",
       "      <td>-0.003</td>\n",
       "      <td>0.001</td>\n",
       "      <td>-0.005</td>\n",
       "      <td>-0.001</td>\n",
       "      <td>0.000</td>\n",
       "      <td>0.000</td>\n",
       "      <td>452.0</td>\n",
       "      <td>2618.0</td>\n",
       "      <td>1.02</td>\n",
       "    </tr>\n",
       "    <tr>\n",
       "      <th>x_imputed_missing[0]</th>\n",
       "      <td>29.455</td>\n",
       "      <td>4.978</td>\n",
       "      <td>19.040</td>\n",
       "      <td>39.195</td>\n",
       "      <td>0.249</td>\n",
       "      <td>0.187</td>\n",
       "      <td>332.0</td>\n",
       "      <td>363.0</td>\n",
       "      <td>1.00</td>\n",
       "    </tr>\n",
       "    <tr>\n",
       "      <th>x2_imputed_missing[0]</th>\n",
       "      <td>20.388</td>\n",
       "      <td>9.393</td>\n",
       "      <td>3.325</td>\n",
       "      <td>38.192</td>\n",
       "      <td>0.942</td>\n",
       "      <td>0.719</td>\n",
       "      <td>155.0</td>\n",
       "      <td>456.0</td>\n",
       "      <td>1.02</td>\n",
       "    </tr>\n",
       "    <tr>\n",
       "      <th>likelihood_missing[0]</th>\n",
       "      <td>104.738</td>\n",
       "      <td>1.420</td>\n",
       "      <td>101.921</td>\n",
       "      <td>107.624</td>\n",
       "      <td>0.035</td>\n",
       "      <td>0.025</td>\n",
       "      <td>1220.0</td>\n",
       "      <td>4003.0</td>\n",
       "      <td>1.01</td>\n",
       "    </tr>\n",
       "    <tr>\n",
       "      <th>tau</th>\n",
       "      <td>0.920</td>\n",
       "      <td>0.511</td>\n",
       "      <td>0.117</td>\n",
       "      <td>1.939</td>\n",
       "      <td>0.106</td>\n",
       "      <td>0.085</td>\n",
       "      <td>30.0</td>\n",
       "      <td>53.0</td>\n",
       "      <td>1.07</td>\n",
       "    </tr>\n",
       "    <tr>\n",
       "      <th>variance</th>\n",
       "      <td>1.672</td>\n",
       "      <td>1.785</td>\n",
       "      <td>0.384</td>\n",
       "      <td>4.291</td>\n",
       "      <td>0.080</td>\n",
       "      <td>0.056</td>\n",
       "      <td>30.0</td>\n",
       "      <td>53.0</td>\n",
       "      <td>1.07</td>\n",
       "    </tr>\n",
       "    <tr>\n",
       "      <th>br2</th>\n",
       "      <td>NaN</td>\n",
       "      <td>NaN</td>\n",
       "      <td>NaN</td>\n",
       "      <td>NaN</td>\n",
       "      <td>NaN</td>\n",
       "      <td>NaN</td>\n",
       "      <td>NaN</td>\n",
       "      <td>NaN</td>\n",
       "      <td>NaN</td>\n",
       "    </tr>\n",
       "  </tbody>\n",
       "</table>\n",
       "</div>"
      ],
      "text/plain": [
       "                          mean     sd  hdi_2.5%  hdi_97.5%  mcse_mean  \\\n",
       "beta0                   97.673  2.955    91.662    103.385      0.116   \n",
       "beta1                    0.305  0.107     0.110      0.539      0.004   \n",
       "beta2                   -0.003  0.001    -0.005     -0.001      0.000   \n",
       "x_imputed_missing[0]    29.455  4.978    19.040     39.195      0.249   \n",
       "x2_imputed_missing[0]   20.388  9.393     3.325     38.192      0.942   \n",
       "likelihood_missing[0]  104.738  1.420   101.921    107.624      0.035   \n",
       "tau                      0.920  0.511     0.117      1.939      0.106   \n",
       "variance                 1.672  1.785     0.384      4.291      0.080   \n",
       "br2                        NaN    NaN       NaN        NaN        NaN   \n",
       "\n",
       "                       mcse_sd  ess_bulk  ess_tail  r_hat  \n",
       "beta0                    0.082     541.0    2897.0   1.02  \n",
       "beta1                    0.003     466.0    2309.0   1.02  \n",
       "beta2                    0.000     452.0    2618.0   1.02  \n",
       "x_imputed_missing[0]     0.187     332.0     363.0   1.00  \n",
       "x2_imputed_missing[0]    0.719     155.0     456.0   1.02  \n",
       "likelihood_missing[0]    0.025    1220.0    4003.0   1.01  \n",
       "tau                      0.085      30.0      53.0   1.07  \n",
       "variance                 0.056      30.0      53.0   1.07  \n",
       "br2                        NaN       NaN       NaN    NaN  "
      ]
     },
     "execution_count": 42,
     "metadata": {},
     "output_type": "execute_result"
    }
   ],
   "source": [
    "az.summary(trace, hdi_prob=.95)"
   ]
  },
  {
   "cell_type": "code",
   "execution_count": 12,
   "id": "7b384a96-0c08-4f8e-9f6c-4795a52664b6",
   "metadata": {},
   "outputs": [],
   "source": [
    "#data=pd.read_csv(\"bladderc.csv\")\n",
    "data = pd.read_csv(\"bladderc.csv\")\n",
    "data[\"censored\"] = 0\n",
    "data.loc[data[\"observed\"] == 0, \"censored\"] = data[\"time\"]\n",
    "\n",
    "y = data[\"time\"].to_numpy(copy=True)\n",
    "x = data[\"group\"].to_numpy(copy=True)\n",
    "observed = data[\"observed\"].to_numpy(copy=True).astype(bool)\n",
    "censored = data[\"censored\"].to_numpy(copy=True)\n",
    "\n",
    "np.sum(observed), y.shape, x.shape, observed.shape, censored.shape\n",
    "\n",
    "x_uncensored = x[observed]\n",
    "x_censored = x[~observed]\n",
    "y_uncensored = y[observed]\n",
    "censored = censored[~observed]"
   ]
  },
  {
   "cell_type": "markdown",
   "id": "c1f12644-209e-41a2-8866-5e24c67a5ac7",
   "metadata": {},
   "source": [
    "Question 2 starts here"
   ]
  },
  {
   "cell_type": "code",
   "execution_count": 191,
   "id": "77c60c64-df92-4dbc-b925-20521c497c52",
   "metadata": {},
   "outputs": [],
   "source": [
    "data=[[0,0,0],[1,0,0],[4,0,0],[7,0,0],[10,0,0],[6,1,0],[14,0,0],[18,0,0],[5,1,0],[12,1,0],[23,0,0],[10,1,0],[3,1,0],[3,1,0],[7,1,0],[3,1,0],[26,0,0],[1,1,0],[2,1,0],[25,1,0],[29,0,0],[29,0,0],[29,0,0],[28,1,0],[2,1,0],[3,1,0],[12,1,0],[32,0,0],[34,0,0],[36,0,0],[29,1,0],[37,0,0],[9,1,0],[16,1,0],[41,0,0],[3,1,0],[6,1,0],[3,1,0],[9,1,0],[18,1,0],[49,0,0],[35,1,0],[17,1,0],[3,1,0],[59,0,0],[2,1,0],[5,1,0],[2,1,0],[1,0,1],[1,0,1],[5,1,1],[9,0,1],[10,0,1],[13,0,1],[3,1,1],[1,1,1],[18,0,1],[17,1,1],[2,1,1],[17,1,1],[22,0,1],[25,0,1],[25,0,1],[25,0,1],[6,1,1],[6,1,1],[2,1,1],[26,1,1],[38,0,1],[22,1,1],[4,1,1],[24,1,1],[41,0,1],[41,0,1],[1,1,1],[44,0,1],[2,1,1],[45,0,1],[2,1,1],[46,0,1],[49,0,1],[50,0,1],[4,1,1],[54,0,1],[38,1,1],[59,0,1]]\n",
    "data=np.array(data)\n",
    "#data"
   ]
  },
  {
   "cell_type": "code",
   "execution_count": 168,
   "id": "010b411a-bbd5-46c9-89eb-645fa020af0b",
   "metadata": {},
   "outputs": [],
   "source": [
    "x = data[:, 2].copy()\n",
    "censored_vals = data[:, 1].copy()\n",
    "y = data[:, 0].copy()\n",
    "#censored_vals[censored_vals == 0] = 0\n",
    "censored_vals[censored_vals == 1] = y[censored_vals == 1]\n",
    "\n",
    "\n",
    "# we need to separate the observed values and the censored values\n",
    "observed_mask = censored_vals == 0\n",
    "\n",
    "censored = censored_vals[~observed_mask]\n",
    "y_uncensored = y[observed_mask]\n",
    "x_censored = x[~observed_mask]\n",
    "x_uncensored = x[observed_mask]\n",
    "\n",
    "#censored=list(censored)\n",
    "#y_uncensored=list(y_uncensored)\n",
    "#x_censored=list(x_censored)\n",
    "#x_uncensored=list(x_uncensored)"
   ]
  },
  {
   "cell_type": "code",
   "execution_count": 17,
   "id": "d66f98cd-2edf-4f9c-ac46-4f0a815874ce",
   "metadata": {},
   "outputs": [
    {
     "name": "stderr",
     "output_type": "stream",
     "text": [
      "/Users/aaron/mambaforge/envs/pymc-dev-py39/lib/python3.9/site-packages/pymc/sampling.py:635: UserWarning: Unable to validate shapes: Cannot sample from a bounded variable\n",
      "Apply node that caused the error: bound_rv{0, (0, 0, 0), floatX, False}(RandomStateSharedVariable(<RandomState(MT19937) at 0x17846A640>), TensorConstant{(1,) of 39}, TensorConstant{11}, exponential_rv{0, (0,), floatX, False}.out, TensorConstant{[ 0.  1.  ... 54. 59.]}, TensorConstant{inf})\n",
      "Toposort index: 13\n",
      "Inputs types: [RandomStateType, TensorType(int64, (1,)), TensorType(int64, ()), TensorType(float64, (None,)), TensorType(float64, (39,)), TensorType(float64, ())]\n",
      "Inputs shapes: ['No shapes', (1,), (), (39,), (39,), ()]\n",
      "Inputs strides: ['No strides', (8,), (), (8,), (8,), ()]\n",
      "Inputs values: [RandomState(MT19937) at 0x17846A640, array([39]), array(11), 'not shown', 'not shown', array(inf)]\n",
      "Outputs clients: [['output'], []]\n",
      "\n",
      "Backtrace when the node is created (use Aesara flag traceback__limit=N to make it longer):\n",
      "  File \"/Users/aaron/mambaforge/envs/pymc-dev-py39/lib/python3.9/site-packages/IPython/core/interactiveshell.py\", line 3301, in run_ast_nodes\n",
      "    if await self.run_code(code, result, async_=asy):\n",
      "  File \"/Users/aaron/mambaforge/envs/pymc-dev-py39/lib/python3.9/site-packages/IPython/core/interactiveshell.py\", line 3361, in run_code\n",
      "    exec(code_obj, self.user_global_ns, self.user_ns)\n",
      "  File \"/var/folders/pm/9z29qnf508bc1v6q8fksblm40000gn/T/ipykernel_17848/3768943002.py\", line 14, in <cell line: 3>\n",
      "    impute_censored = pm.Bound(\n",
      "  File \"/Users/aaron/mambaforge/envs/pymc-dev-py39/lib/python3.9/site-packages/pymc/distributions/bound.py\", line 193, in __new__\n",
      "    res = _ContinuousBounded(\n",
      "  File \"/Users/aaron/mambaforge/envs/pymc-dev-py39/lib/python3.9/site-packages/pymc/distributions/continuous.py\", line 167, in __new__\n",
      "    return super().__new__(cls, *args, **kwargs)\n",
      "  File \"/Users/aaron/mambaforge/envs/pymc-dev-py39/lib/python3.9/site-packages/pymc/distributions/distribution.py\", line 267, in __new__\n",
      "    rv_out, dims, observed, resize_shape = _make_rv_and_resize_shape(\n",
      "  File \"/Users/aaron/mambaforge/envs/pymc-dev-py39/lib/python3.9/site-packages/pymc/distributions/distribution.py\", line 166, in _make_rv_and_resize_shape\n",
      "    rv_out = cls.dist(*args, **kwargs)\n",
      "  File \"/Users/aaron/mambaforge/envs/pymc-dev-py39/lib/python3.9/site-packages/pymc/distributions/distribution.py\", line 354, in dist\n",
      "    rv_out = cls.rv_op(*dist_params, size=create_size, **kwargs)\n",
      "\n",
      "HINT: Use the Aesara flag `exception_verbosity=high` for a debug print-out and storage map footprint of this Apply node.\n",
      "  warnings.warn(f\"Unable to validate shapes: {ex.args[0]}\", UserWarning)\n",
      "Multiprocess sampling (4 chains in 4 jobs)\n",
      "NUTS: [beta0, beta1, impute_censored]\n"
     ]
    },
    {
     "data": {
      "text/html": [
       "\n",
       "<style>\n",
       "    /* Turns off some styling */\n",
       "    progress {\n",
       "        /* gets rid of default border in Firefox and Opera. */\n",
       "        border: none;\n",
       "        /* Needs to be in here for Safari polyfill so background images work as expected. */\n",
       "        background-size: auto;\n",
       "    }\n",
       "    .progress-bar-interrupted, .progress-bar-interrupted::-webkit-progress-bar {\n",
       "        background: #F44336;\n",
       "    }\n",
       "</style>\n"
      ],
      "text/plain": [
       "<IPython.core.display.HTML object>"
      ]
     },
     "metadata": {},
     "output_type": "display_data"
    },
    {
     "data": {
      "text/html": [
       "\n",
       "    <div>\n",
       "      <progress value='48000' class='' max='48000' style='width:300px; height:20px; vertical-align: middle;'></progress>\n",
       "      100.00% [48000/48000 00:12<00:00 Sampling 4 chains, 0 divergences]\n",
       "    </div>\n",
       "    "
      ],
      "text/plain": [
       "<IPython.core.display.HTML object>"
      ]
     },
     "metadata": {},
     "output_type": "display_data"
    },
    {
     "name": "stderr",
     "output_type": "stream",
     "text": [
      "/Users/aaron/mambaforge/envs/pymc-dev-py39/lib/python3.9/site-packages/scipy/stats/_continuous_distns.py:624: RuntimeWarning: overflow encountered in _beta_ppf\n",
      "  return _boost._beta_ppf(q, a, b)\n",
      "/Users/aaron/mambaforge/envs/pymc-dev-py39/lib/python3.9/site-packages/scipy/stats/_continuous_distns.py:624: RuntimeWarning: overflow encountered in _beta_ppf\n",
      "  return _boost._beta_ppf(q, a, b)\n",
      "/Users/aaron/mambaforge/envs/pymc-dev-py39/lib/python3.9/site-packages/scipy/stats/_continuous_distns.py:624: RuntimeWarning: overflow encountered in _beta_ppf\n",
      "  return _boost._beta_ppf(q, a, b)\n",
      "/Users/aaron/mambaforge/envs/pymc-dev-py39/lib/python3.9/site-packages/scipy/stats/_continuous_distns.py:624: RuntimeWarning: overflow encountered in _beta_ppf\n",
      "  return _boost._beta_ppf(q, a, b)\n",
      "Sampling 4 chains for 2_000 tune and 10_000 draw iterations (8_000 + 40_000 draws total) took 22 seconds.\n"
     ]
    }
   ],
   "source": [
    "log2 = np.log(2)\n",
    "\n",
    "with pm.Model() as m:\n",
    "    beta0 = pm.Normal(\"beta0\", 0, tau=0.001)\n",
    "    beta1 = pm.Normal(\"beta1\", 0, tau=0.001)\n",
    "    #α = pm4.Exponential(\"α\", 3)\n",
    "\n",
    "    λ_censored = pm.math.exp(beta0 + beta1 * x_censored)\n",
    "    #β_censored = λ_censored ** (-1 / α)\n",
    "\n",
    "    λ_uncensored = pm.math.exp(beta0 + beta1 * x_uncensored)\n",
    "    #β_uncensored = λ_uncensored ** (-1 / α)\n",
    "\n",
    "    impute_censored = pm.Bound(\n",
    "        \"impute_censored\",\n",
    "        pm.Exponential.dist(lam=λ_censored),\n",
    "        lower=censored,\n",
    "        shape=λ_censored.shape[0],\n",
    "    )\n",
    "\n",
    "    likelihood = pm.Exponential(\n",
    "        \"likelihood\",\n",
    "        lam=λ_uncensored, #what is here\n",
    "        observed=y_uncensored,\n",
    "        shape=y_uncensored.shape,\n",
    "    )\n",
    "\n",
    "    #differ = pm.Deterministic(\"difference\", (pm.math.exp(-beta0 - beta1))-(pm.math.exp(-beta0)))\n",
    "\n",
    "    trace = pm.sample(\n",
    "        10000, tune=2000, cores=4, init=\"auto\", step=[pm.NUTS(target_accept=0.95)]\n",
    "    )"
   ]
  },
  {
   "cell_type": "code",
   "execution_count": 66,
   "id": "aa0de0fe-df81-48ff-b804-613cfc6d5daa",
   "metadata": {},
   "outputs": [],
   "source": [
    "x = data.iloc[:, 2].copy()\n",
    "censored = data.iloc[:, 1].copy()\n",
    "y = data.iloc[:, 0].copy()\n",
    "# for pymc, right-censored values must be greater than or equal to than the \"upper\" value\n",
    "#y[np.isnan(y)] = censored[np.isnan(y)]\n",
    "censored[censored == 0] = np.inf\n",
    "censored[censored == 1] = y[censored == 1]\n",
    "x=list(x)\n",
    "censored=list(censored)\n",
    "y=list(y)"
   ]
  }
 ],
 "metadata": {
  "environment": {
   "kernel": "python3",
   "name": "common-cpu.m91",
   "type": "gcloud",
   "uri": "gcr.io/deeplearning-platform-release/base-cpu:m91"
  },
  "kernelspec": {
   "display_name": "Python 3 (ipykernel)",
   "language": "python",
   "name": "python3"
  },
  "language_info": {
   "codemirror_mode": {
    "name": "ipython",
    "version": 3
   },
   "file_extension": ".py",
   "mimetype": "text/x-python",
   "name": "python",
   "nbconvert_exporter": "python",
   "pygments_lexer": "ipython3",
   "version": "3.9.10"
  }
 },
 "nbformat": 4,
 "nbformat_minor": 5
}
