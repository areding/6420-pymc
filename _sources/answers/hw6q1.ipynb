{
 "cells": [
  {
   "cell_type": "code",
   "execution_count": 7,
   "id": "9a9d2127-65cd-402a-8492-927a67b65f6c",
   "metadata": {},
   "outputs": [],
   "source": [
    "import arviz as az\n",
    "import numpy as np\n",
    "import pandas as pd\n",
    "import pymc as pm\n",
    "from pymc.math import dot, sqr"
   ]
  },
  {
   "cell_type": "code",
   "execution_count": 8,
   "id": "26c7156d-197d-46ed-ba38-b092d1fd08b0",
   "metadata": {},
   "outputs": [
    {
     "data": {
      "text/html": [
       "<div>\n",
       "<style scoped>\n",
       "    .dataframe tbody tr th:only-of-type {\n",
       "        vertical-align: middle;\n",
       "    }\n",
       "\n",
       "    .dataframe tbody tr th {\n",
       "        vertical-align: top;\n",
       "    }\n",
       "\n",
       "    .dataframe thead th {\n",
       "        text-align: right;\n",
       "    }\n",
       "</style>\n",
       "<table border=\"1\" class=\"dataframe\">\n",
       "  <thead>\n",
       "    <tr style=\"text-align: right;\">\n",
       "      <th></th>\n",
       "      <th>time</th>\n",
       "      <th>temp</th>\n",
       "    </tr>\n",
       "  </thead>\n",
       "  <tbody>\n",
       "    <tr>\n",
       "      <th>0</th>\n",
       "      <td>24.0</td>\n",
       "      <td>102.8</td>\n",
       "    </tr>\n",
       "    <tr>\n",
       "      <th>1</th>\n",
       "      <td>32.0</td>\n",
       "      <td>104.5</td>\n",
       "    </tr>\n",
       "    <tr>\n",
       "      <th>2</th>\n",
       "      <td>48.0</td>\n",
       "      <td>106.5</td>\n",
       "    </tr>\n",
       "    <tr>\n",
       "      <th>3</th>\n",
       "      <td>56.0</td>\n",
       "      <td>107.0</td>\n",
       "    </tr>\n",
       "    <tr>\n",
       "      <th>4</th>\n",
       "      <td>NaN</td>\n",
       "      <td>107.1</td>\n",
       "    </tr>\n",
       "    <tr>\n",
       "      <th>5</th>\n",
       "      <td>70.0</td>\n",
       "      <td>105.1</td>\n",
       "    </tr>\n",
       "    <tr>\n",
       "      <th>6</th>\n",
       "      <td>72.0</td>\n",
       "      <td>103.9</td>\n",
       "    </tr>\n",
       "    <tr>\n",
       "      <th>7</th>\n",
       "      <td>75.0</td>\n",
       "      <td>NaN</td>\n",
       "    </tr>\n",
       "    <tr>\n",
       "      <th>8</th>\n",
       "      <td>80.0</td>\n",
       "      <td>103.2</td>\n",
       "    </tr>\n",
       "    <tr>\n",
       "      <th>9</th>\n",
       "      <td>96.0</td>\n",
       "      <td>102.1</td>\n",
       "    </tr>\n",
       "  </tbody>\n",
       "</table>\n",
       "</div>"
      ],
      "text/plain": [
       "   time   temp\n",
       "0  24.0  102.8\n",
       "1  32.0  104.5\n",
       "2  48.0  106.5\n",
       "3  56.0  107.0\n",
       "4   NaN  107.1\n",
       "5  70.0  105.1\n",
       "6  72.0  103.9\n",
       "7  75.0    NaN\n",
       "8  80.0  103.2\n",
       "9  96.0  102.1"
      ]
     },
     "execution_count": 8,
     "metadata": {},
     "output_type": "execute_result"
    }
   ],
   "source": [
    "data = pd.read_csv(\"rabbits.csv\")\n",
    "data"
   ]
  },
  {
   "cell_type": "code",
   "execution_count": 9,
   "id": "5e9ec825-af7d-4b72-ac70-c4f3b2cd4f0f",
   "metadata": {},
   "outputs": [
    {
     "data": {
      "text/plain": [
       "(time     61.444444\n",
       " temp    104.688889\n",
       " dtype: float64,\n",
       " time    23.415332\n",
       " temp     1.862421\n",
       " dtype: float64)"
      ]
     },
     "execution_count": 9,
     "metadata": {},
     "output_type": "execute_result"
    }
   ],
   "source": [
    "data.mean(), data.std()"
   ]
  },
  {
   "cell_type": "code",
   "execution_count": 10,
   "id": "6f41018c-8fb2-404f-ace1-71c4ccee5814",
   "metadata": {
    "tags": []
   },
   "outputs": [],
   "source": [
    "y = data[\"temp\"].to_numpy(copy=True)\n",
    "y = np.nan_to_num(y, nan=-1)\n",
    "y = np.ma.masked_values(y, value=-1)\n",
    "\n",
    "x = data[\"time\"].to_numpy(copy=True)\n",
    "x = np.nan_to_num(x, nan=-1)\n",
    "x = np.ma.masked_values(x, value=-1)"
   ]
  },
  {
   "cell_type": "code",
   "execution_count": 11,
   "id": "c31af271-13e9-4be5-be14-20e27a0b7e94",
   "metadata": {},
   "outputs": [
    {
     "data": {
      "text/plain": [
       "masked_array(data=[24.0, 32.0, 48.0, 56.0, --, 70.0, 72.0, 75.0, 80.0,\n",
       "                   96.0],\n",
       "             mask=[False, False, False, False,  True, False, False, False,\n",
       "                   False, False],\n",
       "       fill_value=-1.0)"
      ]
     },
     "execution_count": 11,
     "metadata": {},
     "output_type": "execute_result"
    }
   ],
   "source": [
    "x"
   ]
  },
  {
   "cell_type": "code",
   "execution_count": 15,
   "id": "62d0e829-2f28-483f-944b-cb756c2f7c47",
   "metadata": {},
   "outputs": [
    {
     "data": {
      "text/plain": [
       "(10,)"
      ]
     },
     "execution_count": 15,
     "metadata": {},
     "output_type": "execute_result"
    }
   ],
   "source": [
    "x.shape"
   ]
  },
  {
   "cell_type": "markdown",
   "id": "db0861f6-6a6b-4dcf-8185-243fad3fc403",
   "metadata": {},
   "source": [
    "Unlike dugongs, the missing values are also in the x data. Need to impute those values from a specified distribution, rather than from the likelihood like y values."
   ]
  },
  {
   "cell_type": "code",
   "execution_count": null,
   "id": "cd9d232a-2a10-4003-97f7-be4aa18e20da",
   "metadata": {},
   "outputs": [
    {
     "ename": "SyntaxError",
     "evalue": "invalid syntax (166689567.py, line 10)",
     "output_type": "error",
     "traceback": [
      "\u001b[0;36m  Input \u001b[0;32mIn [12]\u001b[0;36m\u001b[0m\n\u001b[0;31m    sst =\u001b[0m\n\u001b[0m          ^\u001b[0m\n\u001b[0;31mSyntaxError\u001b[0m\u001b[0;31m:\u001b[0m invalid syntax\n"
     ]
    }
   ],
   "source": [
    "# q1a\n",
    "with pm.Model() as m:\n",
    "    # priors\n",
    "    beta0 = pm.Normal(\"beta0\", mu=0, tau=0.0001)\n",
    "    beta1 = pm.Normal(\"beta1\", mu=0, tau=0.0001)\n",
    "    beta2 = pm.Normal(\"beta2\", mu=0, tau=.0001)\n",
    "    tau = pm.Gamma(\"tau\", 0.001, 0.001)\n",
    "    sigma2 = 1/tau\n",
    "    sse = 7 * sigma2\n",
    "    sst = \n",
    "    \n",
    "    \n",
    "    # x_imputed = pm.TruncatedNormal(\"x_imputed\", mu=60, sigma=30, lower=1, upper=120, observed=x)\n",
    "    x_imputed = pm.Uniform(\"x_imputed\", 20, 100, observed=x)\n",
    "\n",
    "    mu = beta0 + beta1 * x_imputed + beta1 * sqr(x_imputed)\n",
    "\n",
    "    likelihood = pm.Normal(\"likelihood\", mu=mu, tau=tau, observed=y)\n",
    "    \n",
    "\n",
    "\n",
    "    # start sampling\n",
    "    trace = pm.sample(\n",
    "        2000,\n",
    "        chains=4,\n",
    "        tune=500,\n",
    "        cores=4,\n",
    "        init=\"adapt_diag\",\n",
    "        random_seed=1,\n",
    "        return_inferencedata=True,\n",
    "    )"
   ]
  },
  {
   "cell_type": "code",
   "execution_count": 42,
   "id": "14cac791-b420-449e-8d73-e44721251192",
   "metadata": {},
   "outputs": [
    {
     "data": {
      "text/html": [
       "<div>\n",
       "<style scoped>\n",
       "    .dataframe tbody tr th:only-of-type {\n",
       "        vertical-align: middle;\n",
       "    }\n",
       "\n",
       "    .dataframe tbody tr th {\n",
       "        vertical-align: top;\n",
       "    }\n",
       "\n",
       "    .dataframe thead th {\n",
       "        text-align: right;\n",
       "    }\n",
       "</style>\n",
       "<table border=\"1\" class=\"dataframe\">\n",
       "  <thead>\n",
       "    <tr style=\"text-align: right;\">\n",
       "      <th></th>\n",
       "      <th>mean</th>\n",
       "      <th>sd</th>\n",
       "      <th>hdi_2.5%</th>\n",
       "      <th>hdi_97.5%</th>\n",
       "      <th>mcse_mean</th>\n",
       "      <th>mcse_sd</th>\n",
       "      <th>ess_bulk</th>\n",
       "      <th>ess_tail</th>\n",
       "      <th>r_hat</th>\n",
       "    </tr>\n",
       "  </thead>\n",
       "  <tbody>\n",
       "    <tr>\n",
       "      <th>beta0</th>\n",
       "      <td>105.922</td>\n",
       "      <td>2.127</td>\n",
       "      <td>101.639</td>\n",
       "      <td>110.093</td>\n",
       "      <td>0.041</td>\n",
       "      <td>0.029</td>\n",
       "      <td>2752.0</td>\n",
       "      <td>2978.0</td>\n",
       "      <td>1.0</td>\n",
       "    </tr>\n",
       "    <tr>\n",
       "      <th>beta1</th>\n",
       "      <td>-0.021</td>\n",
       "      <td>0.034</td>\n",
       "      <td>-0.087</td>\n",
       "      <td>0.046</td>\n",
       "      <td>0.001</td>\n",
       "      <td>0.000</td>\n",
       "      <td>2721.0</td>\n",
       "      <td>2882.0</td>\n",
       "      <td>1.0</td>\n",
       "    </tr>\n",
       "    <tr>\n",
       "      <th>likelihood_missing[0]</th>\n",
       "      <td>104.328</td>\n",
       "      <td>2.448</td>\n",
       "      <td>99.436</td>\n",
       "      <td>109.280</td>\n",
       "      <td>0.037</td>\n",
       "      <td>0.026</td>\n",
       "      <td>4584.0</td>\n",
       "      <td>3359.0</td>\n",
       "      <td>1.0</td>\n",
       "    </tr>\n",
       "    <tr>\n",
       "      <th>tau</th>\n",
       "      <td>0.286</td>\n",
       "      <td>0.156</td>\n",
       "      <td>0.034</td>\n",
       "      <td>0.584</td>\n",
       "      <td>0.003</td>\n",
       "      <td>0.002</td>\n",
       "      <td>2767.0</td>\n",
       "      <td>3030.0</td>\n",
       "      <td>1.0</td>\n",
       "    </tr>\n",
       "    <tr>\n",
       "      <th>x_imputed_missing[0]</th>\n",
       "      <td>53.112</td>\n",
       "      <td>22.815</td>\n",
       "      <td>20.035</td>\n",
       "      <td>93.832</td>\n",
       "      <td>0.359</td>\n",
       "      <td>0.256</td>\n",
       "      <td>3747.0</td>\n",
       "      <td>3299.0</td>\n",
       "      <td>1.0</td>\n",
       "    </tr>\n",
       "  </tbody>\n",
       "</table>\n",
       "</div>"
      ],
      "text/plain": [
       "                          mean      sd  hdi_2.5%  hdi_97.5%  mcse_mean  \\\n",
       "beta0                  105.922   2.127   101.639    110.093      0.041   \n",
       "beta1                   -0.021   0.034    -0.087      0.046      0.001   \n",
       "likelihood_missing[0]  104.328   2.448    99.436    109.280      0.037   \n",
       "tau                      0.286   0.156     0.034      0.584      0.003   \n",
       "x_imputed_missing[0]    53.112  22.815    20.035     93.832      0.359   \n",
       "\n",
       "                       mcse_sd  ess_bulk  ess_tail  r_hat  \n",
       "beta0                    0.029    2752.0    2978.0    1.0  \n",
       "beta1                    0.000    2721.0    2882.0    1.0  \n",
       "likelihood_missing[0]    0.026    4584.0    3359.0    1.0  \n",
       "tau                      0.002    2767.0    3030.0    1.0  \n",
       "x_imputed_missing[0]     0.256    3747.0    3299.0    1.0  "
      ]
     },
     "execution_count": 42,
     "metadata": {},
     "output_type": "execute_result"
    }
   ],
   "source": [
    "az.summary(trace, hdi_prob=0.95)"
   ]
  },
  {
   "cell_type": "code",
   "execution_count": 44,
   "id": "65d64d2b-2a26-4e37-b625-bafd4def8adb",
   "metadata": {},
   "outputs": [
    {
     "data": {
      "text/html": [
       "\n",
       "<style>\n",
       "    /* Turns off some styling */\n",
       "    progress {\n",
       "        /* gets rid of default border in Firefox and Opera. */\n",
       "        border: none;\n",
       "        /* Needs to be in here for Safari polyfill so background images work as expected. */\n",
       "        background-size: auto;\n",
       "    }\n",
       "    .progress-bar-interrupted, .progress-bar-interrupted::-webkit-progress-bar {\n",
       "        background: #F44336;\n",
       "    }\n",
       "</style>\n"
      ],
      "text/plain": [
       "<IPython.core.display.HTML object>"
      ]
     },
     "metadata": {},
     "output_type": "display_data"
    },
    {
     "data": {
      "text/html": [
       "\n",
       "    <div>\n",
       "      <progress value='8000' class='' max='8000' style='width:300px; height:20px; vertical-align: middle;'></progress>\n",
       "      100.00% [8000/8000 00:00<00:00]\n",
       "    </div>\n",
       "    "
      ],
      "text/plain": [
       "<IPython.core.display.HTML object>"
      ]
     },
     "metadata": {},
     "output_type": "display_data"
    },
    {
     "ename": "AttributeError",
     "evalue": "'InferenceData' object has no attribute 'ndim'",
     "output_type": "error",
     "traceback": [
      "\u001b[0;31m---------------------------------------------------------------------------\u001b[0m",
      "\u001b[0;31mAttributeError\u001b[0m                            Traceback (most recent call last)",
      "Input \u001b[0;32mIn [44]\u001b[0m, in \u001b[0;36m<cell line: 2>\u001b[0;34m()\u001b[0m\n\u001b[1;32m      1\u001b[0m y_pred \u001b[38;5;241m=\u001b[39m pm\u001b[38;5;241m.\u001b[39msample_posterior_predictive(trace, model\u001b[38;5;241m=\u001b[39mm)\n\u001b[0;32m----> 2\u001b[0m \u001b[43maz\u001b[49m\u001b[38;5;241;43m.\u001b[39;49m\u001b[43mr2_score\u001b[49m\u001b[43m(\u001b[49m\u001b[43my\u001b[49m\u001b[43m,\u001b[49m\u001b[43m \u001b[49m\u001b[43my_pred\u001b[49m\u001b[43m)\u001b[49m\n",
      "File \u001b[0;32m~/mambaforge/envs/pymc-dev-py39/lib/python3.9/site-packages/arviz/stats/stats.py:1005\u001b[0m, in \u001b[0;36mr2_score\u001b[0;34m(y_true, y_pred)\u001b[0m\n\u001b[1;32m    976\u001b[0m \u001b[38;5;124;03m\"\"\"R² for Bayesian regression models. Only valid for linear models.\u001b[39;00m\n\u001b[1;32m    977\u001b[0m \n\u001b[1;32m    978\u001b[0m \u001b[38;5;124;03mParameters\u001b[39;00m\n\u001b[0;32m   (...)\u001b[0m\n\u001b[1;32m   1002\u001b[0m \n\u001b[1;32m   1003\u001b[0m \u001b[38;5;124;03m\"\"\"\u001b[39;00m\n\u001b[1;32m   1004\u001b[0m _numba_flag \u001b[38;5;241m=\u001b[39m Numba\u001b[38;5;241m.\u001b[39mnumba_flag\n\u001b[0;32m-> 1005\u001b[0m \u001b[38;5;28;01mif\u001b[39;00m \u001b[43my_pred\u001b[49m\u001b[38;5;241;43m.\u001b[39;49m\u001b[43mndim\u001b[49m \u001b[38;5;241m==\u001b[39m \u001b[38;5;241m1\u001b[39m:\n\u001b[1;32m   1006\u001b[0m     var_y_est \u001b[38;5;241m=\u001b[39m _numba_var(svar, np\u001b[38;5;241m.\u001b[39mvar, y_pred)\n\u001b[1;32m   1007\u001b[0m     var_e \u001b[38;5;241m=\u001b[39m _numba_var(svar, np\u001b[38;5;241m.\u001b[39mvar, (y_true \u001b[38;5;241m-\u001b[39m y_pred))\n",
      "\u001b[0;31mAttributeError\u001b[0m: 'InferenceData' object has no attribute 'ndim'"
     ]
    }
   ],
   "source": [
    "y_pred = pm.sample_posterior_predictive(trace, model=m)\n"
   ]
  },
  {
   "cell_type": "code",
   "execution_count": 59,
   "id": "fcf57a95-cf56-4ddd-8303-4f8cac83504e",
   "metadata": {},
   "outputs": [
    {
     "data": {
      "text/plain": [
       "masked_array(data=[102.8, 104.5, 106.5, 107.0, 107.1, 105.1, 103.9, --,\n",
       "                   103.2, 102.1],\n",
       "             mask=[False, False, False, False, False, False, False,  True,\n",
       "                   False, False],\n",
       "       fill_value=-1.0)"
      ]
     },
     "execution_count": 59,
     "metadata": {},
     "output_type": "execute_result"
    }
   ],
   "source": [
    "y"
   ]
  },
  {
   "cell_type": "code",
   "execution_count": 67,
   "id": "cfc01afa-fcee-41f0-a541-d950e732b519",
   "metadata": {},
   "outputs": [
    {
     "data": {
      "text/plain": [
       "array([104.64830959, 104.64516156, 104.63935882, 104.61351096,\n",
       "       105.04866812, 104.6080446 , 104.61697807, 104.32846277,\n",
       "       104.61273773, 104.68254815])"
      ]
     },
     "execution_count": 67,
     "metadata": {},
     "output_type": "execute_result"
    }
   ],
   "source": [
    "y_pred.values.mean(axis=0)"
   ]
  },
  {
   "cell_type": "code",
   "execution_count": 66,
   "id": "9c746031-62a8-409c-b3b2-0fd7b56b900a",
   "metadata": {},
   "outputs": [
    {
     "data": {
      "text/plain": [
       "r2        0.00914\n",
       "r2_std    0.00000\n",
       "dtype: float64"
      ]
     },
     "execution_count": 66,
     "metadata": {},
     "output_type": "execute_result"
    }
   ],
   "source": [
    "az.r2_score(y,y_pred.values.mean(axis=0))"
   ]
  },
  {
   "cell_type": "code",
   "execution_count": 17,
   "id": "8129401d-06b2-4f5e-87b5-beb4b2fc227a",
   "metadata": {},
   "outputs": [
    {
     "name": "stderr",
     "output_type": "stream",
     "text": [
      "Multiprocess sampling (4 chains in 4 jobs)\n",
      "NUTS: [beta0, beta1, beta2, tau, x_imputed_missing, likelihood_missing]\n"
     ]
    },
    {
     "data": {
      "text/html": [
       "\n",
       "<style>\n",
       "    /* Turns off some styling */\n",
       "    progress {\n",
       "        /* gets rid of default border in Firefox and Opera. */\n",
       "        border: none;\n",
       "        /* Needs to be in here for Safari polyfill so background images work as expected. */\n",
       "        background-size: auto;\n",
       "    }\n",
       "    .progress-bar-interrupted, .progress-bar-interrupted::-webkit-progress-bar {\n",
       "        background: #F44336;\n",
       "    }\n",
       "</style>\n"
      ],
      "text/plain": [
       "<IPython.core.display.HTML object>"
      ]
     },
     "metadata": {},
     "output_type": "display_data"
    },
    {
     "data": {
      "text/html": [
       "\n",
       "    <div>\n",
       "      <progress value='42000' class='' max='42000' style='width:300px; height:20px; vertical-align: middle;'></progress>\n",
       "      100.00% [42000/42000 01:36<00:00 Sampling 4 chains, 1,516 divergences]\n",
       "    </div>\n",
       "    "
      ],
      "text/plain": [
       "<IPython.core.display.HTML object>"
      ]
     },
     "metadata": {},
     "output_type": "display_data"
    },
    {
     "name": "stderr",
     "output_type": "stream",
     "text": [
      "/Users/aaron/mambaforge/envs/pymc-dev-py39/lib/python3.9/site-packages/scipy/stats/_continuous_distns.py:624: RuntimeWarning: overflow encountered in _beta_ppf\n",
      "  return _boost._beta_ppf(q, a, b)\n",
      "/Users/aaron/mambaforge/envs/pymc-dev-py39/lib/python3.9/site-packages/scipy/stats/_continuous_distns.py:624: RuntimeWarning: overflow encountered in _beta_ppf\n",
      "  return _boost._beta_ppf(q, a, b)\n",
      "/Users/aaron/mambaforge/envs/pymc-dev-py39/lib/python3.9/site-packages/scipy/stats/_continuous_distns.py:624: RuntimeWarning: overflow encountered in _beta_ppf\n",
      "  return _boost._beta_ppf(q, a, b)\n",
      "/Users/aaron/mambaforge/envs/pymc-dev-py39/lib/python3.9/site-packages/scipy/stats/_continuous_distns.py:624: RuntimeWarning: overflow encountered in _beta_ppf\n",
      "  return _boost._beta_ppf(q, a, b)\n",
      "Sampling 4 chains for 500 tune and 10_000 draw iterations (2_000 + 40_000 draws total) took 106 seconds.\n",
      "There were 210 divergences after tuning. Increase `target_accept` or reparameterize.\n",
      "There were 676 divergences after tuning. Increase `target_accept` or reparameterize.\n",
      "There were 36 divergences after tuning. Increase `target_accept` or reparameterize.\n",
      "The acceptance probability does not match the target. It is 0.9152, but should be close to 0.8. Try to increase the number of tuning steps.\n",
      "There were 594 divergences after tuning. Increase `target_accept` or reparameterize.\n"
     ]
    },
    {
     "data": {
      "text/html": [
       "\n",
       "<style>\n",
       "    /* Turns off some styling */\n",
       "    progress {\n",
       "        /* gets rid of default border in Firefox and Opera. */\n",
       "        border: none;\n",
       "        /* Needs to be in here for Safari polyfill so background images work as expected. */\n",
       "        background-size: auto;\n",
       "    }\n",
       "    .progress-bar-interrupted, .progress-bar-interrupted::-webkit-progress-bar {\n",
       "        background: #F44336;\n",
       "    }\n",
       "</style>\n"
      ],
      "text/plain": [
       "<IPython.core.display.HTML object>"
      ]
     },
     "metadata": {},
     "output_type": "display_data"
    },
    {
     "data": {
      "text/html": [
       "\n",
       "    <div>\n",
       "      <progress value='40000' class='' max='40000' style='width:300px; height:20px; vertical-align: middle;'></progress>\n",
       "      100.00% [40000/40000 00:03<00:00]\n",
       "    </div>\n",
       "    "
      ],
      "text/plain": [
       "<IPython.core.display.HTML object>"
      ]
     },
     "metadata": {},
     "output_type": "display_data"
    }
   ],
   "source": [
    "# q1b\n",
    "with pm.Model() as m:\n",
    "    # priors\n",
    "    beta0 = pm.Normal(\"beta0\", mu=0, tau=0.00001)\n",
    "    beta1 = pm.Normal(\"beta1\", mu=0, tau=0.00001)\n",
    "    beta2 = pm.Normal(\"beta2\", mu=0, tau=0.00001)\n",
    "    tau = pm.Gamma(\"tau\", alpha=0.001, beta=0.001)\n",
    "    variance = 1/tau\n",
    "    x_imputed = pm.Uniform(\"x_imputed\", 20, 100, observed=x)\n",
    "\n",
    "    mu = beta0 + beta1 * x_imputed + beta2 * sqr(x_imputed)\n",
    "\n",
    "    likelihood = pm.Normal(\"likelihood\", mu=mu, tau=tau, observed=y)\n",
    "        \n",
    "    # Bayesian R2 from fat1.odc (U\n",
    "    sse = (10 - 3) * variance\n",
    "    cy = y - y.mean()\n",
    "    sst = pm.math.dot(cy, cy)\n",
    "    br2 = pm.Deterministic(\"br2\", 1 - sse/sst)\n",
    "    \n",
    "\n",
    "    # start sampling\n",
    "    trace = pm.sample(\n",
    "        10000,  # samples\n",
    "        chains=4,\n",
    "        tune=500,\n",
    "        cores=4,\n",
    "        init=\"jitter+adapt_diag\",\n",
    "        random_seed=1,\n",
    "        return_inferencedata=True,\n",
    "    )\n",
    "    \n",
    "    ppc = pm.sample_posterior_predictive(trace)"
   ]
  },
  {
   "cell_type": "code",
   "execution_count": 6,
   "id": "0da72a03-2352-444c-94c0-1f138cf4f0f8",
   "metadata": {},
   "outputs": [
    {
     "data": {
      "text/html": [
       "<div>\n",
       "<style scoped>\n",
       "    .dataframe tbody tr th:only-of-type {\n",
       "        vertical-align: middle;\n",
       "    }\n",
       "\n",
       "    .dataframe tbody tr th {\n",
       "        vertical-align: top;\n",
       "    }\n",
       "\n",
       "    .dataframe thead th {\n",
       "        text-align: right;\n",
       "    }\n",
       "</style>\n",
       "<table border=\"1\" class=\"dataframe\">\n",
       "  <thead>\n",
       "    <tr style=\"text-align: right;\">\n",
       "      <th></th>\n",
       "      <th>mean</th>\n",
       "      <th>sd</th>\n",
       "      <th>hdi_2.5%</th>\n",
       "      <th>hdi_97.5%</th>\n",
       "      <th>mcse_mean</th>\n",
       "      <th>mcse_sd</th>\n",
       "      <th>ess_bulk</th>\n",
       "      <th>ess_tail</th>\n",
       "      <th>r_hat</th>\n",
       "    </tr>\n",
       "  </thead>\n",
       "  <tbody>\n",
       "    <tr>\n",
       "      <th>beta0</th>\n",
       "      <td>97.486</td>\n",
       "      <td>3.276</td>\n",
       "      <td>91.010</td>\n",
       "      <td>104.109</td>\n",
       "      <td>0.036</td>\n",
       "      <td>0.025</td>\n",
       "      <td>7963.0</td>\n",
       "      <td>11464.0</td>\n",
       "      <td>1.0</td>\n",
       "    </tr>\n",
       "    <tr>\n",
       "      <th>beta1</th>\n",
       "      <td>0.316</td>\n",
       "      <td>0.119</td>\n",
       "      <td>0.082</td>\n",
       "      <td>0.560</td>\n",
       "      <td>0.001</td>\n",
       "      <td>0.001</td>\n",
       "      <td>7860.0</td>\n",
       "      <td>10856.0</td>\n",
       "      <td>1.0</td>\n",
       "    </tr>\n",
       "    <tr>\n",
       "      <th>beta2</th>\n",
       "      <td>-0.003</td>\n",
       "      <td>0.001</td>\n",
       "      <td>-0.005</td>\n",
       "      <td>-0.001</td>\n",
       "      <td>0.000</td>\n",
       "      <td>0.000</td>\n",
       "      <td>8295.0</td>\n",
       "      <td>11085.0</td>\n",
       "      <td>1.0</td>\n",
       "    </tr>\n",
       "    <tr>\n",
       "      <th>likelihood_missing[0]</th>\n",
       "      <td>104.954</td>\n",
       "      <td>1.566</td>\n",
       "      <td>101.702</td>\n",
       "      <td>107.963</td>\n",
       "      <td>0.012</td>\n",
       "      <td>0.009</td>\n",
       "      <td>14995.0</td>\n",
       "      <td>14846.0</td>\n",
       "      <td>1.0</td>\n",
       "    </tr>\n",
       "    <tr>\n",
       "      <th>tau</th>\n",
       "      <td>0.804</td>\n",
       "      <td>0.472</td>\n",
       "      <td>0.059</td>\n",
       "      <td>1.733</td>\n",
       "      <td>0.018</td>\n",
       "      <td>0.016</td>\n",
       "      <td>1035.0</td>\n",
       "      <td>330.0</td>\n",
       "      <td>1.0</td>\n",
       "    </tr>\n",
       "    <tr>\n",
       "      <th>x_imputed_missing[0]</th>\n",
       "      <td>54.684</td>\n",
       "      <td>13.027</td>\n",
       "      <td>27.920</td>\n",
       "      <td>79.164</td>\n",
       "      <td>0.116</td>\n",
       "      <td>0.082</td>\n",
       "      <td>12283.0</td>\n",
       "      <td>12655.0</td>\n",
       "      <td>1.0</td>\n",
       "    </tr>\n",
       "  </tbody>\n",
       "</table>\n",
       "</div>"
      ],
      "text/plain": [
       "                          mean      sd  hdi_2.5%  hdi_97.5%  mcse_mean  \\\n",
       "beta0                   97.486   3.276    91.010    104.109      0.036   \n",
       "beta1                    0.316   0.119     0.082      0.560      0.001   \n",
       "beta2                   -0.003   0.001    -0.005     -0.001      0.000   \n",
       "likelihood_missing[0]  104.954   1.566   101.702    107.963      0.012   \n",
       "tau                      0.804   0.472     0.059      1.733      0.018   \n",
       "x_imputed_missing[0]    54.684  13.027    27.920     79.164      0.116   \n",
       "\n",
       "                       mcse_sd  ess_bulk  ess_tail  r_hat  \n",
       "beta0                    0.025    7963.0   11464.0    1.0  \n",
       "beta1                    0.001    7860.0   10856.0    1.0  \n",
       "beta2                    0.000    8295.0   11085.0    1.0  \n",
       "likelihood_missing[0]    0.009   14995.0   14846.0    1.0  \n",
       "tau                      0.016    1035.0     330.0    1.0  \n",
       "x_imputed_missing[0]     0.082   12283.0   12655.0    1.0  "
      ]
     },
     "execution_count": 6,
     "metadata": {},
     "output_type": "execute_result"
    }
   ],
   "source": [
    "az.summary(trace, hdi_prob=0.95)"
   ]
  },
  {
   "cell_type": "code",
   "execution_count": 34,
   "id": "297f7f16-8197-4ba9-8e2e-d998c407f42e",
   "metadata": {},
   "outputs": [
    {
     "data": {
      "text/plain": [
       "masked_array(data=[1.0, 24.0, 32.0, 48.0, 56.0, --, 70.0, 72.0, 75.0,\n",
       "                   80.0, 96.0],\n",
       "             mask=[False, False, False, False, False,  True, False, False,\n",
       "                   False, False, False],\n",
       "       fill_value=-1.0)"
      ]
     },
     "execution_count": 34,
     "metadata": {},
     "output_type": "execute_result"
    }
   ],
   "source": [
    "y = data[\"temp\"].to_numpy()\n",
    "y = np.nan_to_num(y, nan=-1)\n",
    "y = np.ma.masked_values(y, value=-1)\n",
    "\n",
    "x = data[\"time\"].to_numpy(copy=True)\n",
    "x = np.insert(x, 0, 1)\n",
    "x = np.nan_to_num(x, nan=-1)\n",
    "x = np.ma.masked_values(x, value=-1)\n",
    "x"
   ]
  },
  {
   "cell_type": "code",
   "execution_count": 35,
   "id": "09fe9e91-fe9f-4516-ada6-a3ed22ea33cd",
   "metadata": {},
   "outputs": [
    {
     "data": {
      "text/plain": [
       "masked_array(data=[102.8, 104.5, 106.5, 107.0, 107.1, 105.1, 103.9, --,\n",
       "                   103.2, 102.1],\n",
       "             mask=[False, False, False, False, False, False, False,  True,\n",
       "                   False, False],\n",
       "       fill_value=-1.0)"
      ]
     },
     "execution_count": 35,
     "metadata": {},
     "output_type": "execute_result"
    }
   ],
   "source": [
    "y"
   ]
  },
  {
   "cell_type": "code",
   "execution_count": 37,
   "id": "e51e691e-e003-4c55-b5f5-59b1f293ed3e",
   "metadata": {},
   "outputs": [
    {
     "name": "stderr",
     "output_type": "stream",
     "text": [
      "/Users/aaron/mambaforge/envs/pymc-dev-py39/lib/python3.9/site-packages/pymc/model.py:1322: ImputationWarning: Data in x_imputed contains missing values and will be automatically imputed from the sampling distribution.\n",
      "  warnings.warn(impute_message, ImputationWarning)\n",
      "/Users/aaron/mambaforge/envs/pymc-dev-py39/lib/python3.9/site-packages/pymc/model.py:1322: ImputationWarning: Data in likelihood contains missing values and will be automatically imputed from the sampling distribution.\n",
      "  warnings.warn(impute_message, ImputationWarning)\n",
      "ERROR (aesara.graph.opt): Optimization failure due to: constant_folding\n",
      "ERROR (aesara.graph.opt): node: Assert{msg=Aesara Assert failed!}(TensorConstant{0.0}, TensorConstant{False})\n",
      "ERROR (aesara.graph.opt): TRACEBACK:\n",
      "ERROR (aesara.graph.opt): Traceback (most recent call last):\n",
      "  File \"/Users/aaron/mambaforge/envs/pymc-dev-py39/lib/python3.9/site-packages/aesara/graph/opt.py\", line 1850, in process_node\n",
      "    replacements = lopt.transform(fgraph, node)\n",
      "  File \"/Users/aaron/mambaforge/envs/pymc-dev-py39/lib/python3.9/site-packages/aesara/graph/opt.py\", line 1055, in transform\n",
      "    return self.fn(fgraph, node)\n",
      "  File \"/Users/aaron/mambaforge/envs/pymc-dev-py39/lib/python3.9/site-packages/aesara/tensor/basic_opt.py\", line 2945, in constant_folding\n",
      "    required = thunk()\n",
      "  File \"/Users/aaron/mambaforge/envs/pymc-dev-py39/lib/python3.9/site-packages/aesara/link/c/op.py\", line 103, in rval\n",
      "    thunk()\n",
      "  File \"/Users/aaron/mambaforge/envs/pymc-dev-py39/lib/python3.9/site-packages/aesara/link/c/basic.py\", line 1766, in __call__\n",
      "    raise exc_value.with_traceback(exc_trace)\n",
      "AssertionError: Aesara Assert failed!\n",
      "\n"
     ]
    },
    {
     "ename": "AssertionError",
     "evalue": "Aesara Assert failed!",
     "output_type": "error",
     "traceback": [
      "\u001b[0;31m---------------------------------------------------------------------------\u001b[0m",
      "\u001b[0;31mAssertionError\u001b[0m                            Traceback (most recent call last)",
      "Input \u001b[0;32mIn [37]\u001b[0m, in \u001b[0;36m<cell line: 2>\u001b[0;34m()\u001b[0m\n\u001b[1;32m     12\u001b[0m likelihood \u001b[38;5;241m=\u001b[39m pm\u001b[38;5;241m.\u001b[39mNormal(\u001b[38;5;124m\"\u001b[39m\u001b[38;5;124mlikelihood\u001b[39m\u001b[38;5;124m\"\u001b[39m, mu\u001b[38;5;241m=\u001b[39mmu, tau\u001b[38;5;241m=\u001b[39mtau, observed\u001b[38;5;241m=\u001b[39my)\n\u001b[1;32m     14\u001b[0m \u001b[38;5;66;03m# start sampling\u001b[39;00m\n\u001b[0;32m---> 15\u001b[0m trace \u001b[38;5;241m=\u001b[39m \u001b[43mpm\u001b[49m\u001b[38;5;241;43m.\u001b[39;49m\u001b[43msample\u001b[49m\u001b[43m(\u001b[49m\n\u001b[1;32m     16\u001b[0m \u001b[43m    \u001b[49m\u001b[38;5;241;43m2000\u001b[39;49m\u001b[43m,\u001b[49m\n\u001b[1;32m     17\u001b[0m \u001b[43m    \u001b[49m\u001b[43mchains\u001b[49m\u001b[38;5;241;43m=\u001b[39;49m\u001b[38;5;241;43m4\u001b[39;49m\u001b[43m,\u001b[49m\n\u001b[1;32m     18\u001b[0m \u001b[43m    \u001b[49m\u001b[43mtune\u001b[49m\u001b[38;5;241;43m=\u001b[39;49m\u001b[38;5;241;43m500\u001b[39;49m\u001b[43m,\u001b[49m\n\u001b[1;32m     19\u001b[0m \u001b[43m    \u001b[49m\u001b[43mcores\u001b[49m\u001b[38;5;241;43m=\u001b[39;49m\u001b[38;5;241;43m4\u001b[39;49m\u001b[43m,\u001b[49m\n\u001b[1;32m     20\u001b[0m \u001b[43m    \u001b[49m\u001b[43minit\u001b[49m\u001b[38;5;241;43m=\u001b[39;49m\u001b[38;5;124;43m\"\u001b[39;49m\u001b[38;5;124;43madapt_diag\u001b[39;49m\u001b[38;5;124;43m\"\u001b[39;49m\u001b[43m,\u001b[49m\n\u001b[1;32m     21\u001b[0m \u001b[43m    \u001b[49m\u001b[43mrandom_seed\u001b[49m\u001b[38;5;241;43m=\u001b[39;49m\u001b[38;5;241;43m1\u001b[39;49m\u001b[43m,\u001b[49m\n\u001b[1;32m     22\u001b[0m \u001b[43m    \u001b[49m\u001b[43mreturn_inferencedata\u001b[49m\u001b[38;5;241;43m=\u001b[39;49m\u001b[38;5;28;43;01mTrue\u001b[39;49;00m\u001b[43m,\u001b[49m\n\u001b[1;32m     23\u001b[0m \u001b[43m    \u001b[49m\u001b[43minitvals\u001b[49m\u001b[38;5;241;43m=\u001b[39;49m\u001b[43minits\u001b[49m\n\u001b[1;32m     24\u001b[0m \u001b[43m\u001b[49m\u001b[43m)\u001b[49m\n",
      "File \u001b[0;32m~/mambaforge/envs/pymc-dev-py39/lib/python3.9/site-packages/pymc/sampling.py:470\u001b[0m, in \u001b[0;36msample\u001b[0;34m(draws, step, init, n_init, initvals, trace, chain_idx, chains, cores, tune, progressbar, model, random_seed, discard_tuned_samples, compute_convergence_checks, callback, jitter_max_retries, return_inferencedata, idata_kwargs, mp_ctx, **kwargs)\u001b[0m\n\u001b[1;32m    467\u001b[0m draws \u001b[38;5;241m+\u001b[39m\u001b[38;5;241m=\u001b[39m tune\n\u001b[1;32m    469\u001b[0m initial_points \u001b[38;5;241m=\u001b[39m \u001b[38;5;28;01mNone\u001b[39;00m\n\u001b[0;32m--> 470\u001b[0m step \u001b[38;5;241m=\u001b[39m \u001b[43massign_step_methods\u001b[49m\u001b[43m(\u001b[49m\u001b[43mmodel\u001b[49m\u001b[43m,\u001b[49m\u001b[43m \u001b[49m\u001b[43mstep\u001b[49m\u001b[43m,\u001b[49m\u001b[43m \u001b[49m\u001b[43mmethods\u001b[49m\u001b[38;5;241;43m=\u001b[39;49m\u001b[43mpm\u001b[49m\u001b[38;5;241;43m.\u001b[39;49m\u001b[43mSTEP_METHODS\u001b[49m\u001b[43m,\u001b[49m\u001b[43m \u001b[49m\u001b[43mstep_kwargs\u001b[49m\u001b[38;5;241;43m=\u001b[39;49m\u001b[43mkwargs\u001b[49m\u001b[43m)\u001b[49m\n\u001b[1;32m    472\u001b[0m \u001b[38;5;28;01mif\u001b[39;00m \u001b[38;5;28misinstance\u001b[39m(step, \u001b[38;5;28mlist\u001b[39m):\n\u001b[1;32m    473\u001b[0m     step \u001b[38;5;241m=\u001b[39m CompoundStep(step)\n",
      "File \u001b[0;32m~/mambaforge/envs/pymc-dev-py39/lib/python3.9/site-packages/pymc/sampling.py:219\u001b[0m, in \u001b[0;36massign_step_methods\u001b[0;34m(model, step, methods, step_kwargs)\u001b[0m\n\u001b[1;32m    211\u001b[0m         selected \u001b[38;5;241m=\u001b[39m \u001b[38;5;28mmax\u001b[39m(\n\u001b[1;32m    212\u001b[0m             methods,\n\u001b[1;32m    213\u001b[0m             key\u001b[38;5;241m=\u001b[39m\u001b[38;5;28;01mlambda\u001b[39;00m method, var\u001b[38;5;241m=\u001b[39mrv_var, has_gradient\u001b[38;5;241m=\u001b[39mhas_gradient: method\u001b[38;5;241m.\u001b[39m_competence(\n\u001b[1;32m    214\u001b[0m                 var, has_gradient\n\u001b[1;32m    215\u001b[0m             ),\n\u001b[1;32m    216\u001b[0m         )\n\u001b[1;32m    217\u001b[0m         selected_steps[selected]\u001b[38;5;241m.\u001b[39mappend(var)\n\u001b[0;32m--> 219\u001b[0m \u001b[38;5;28;01mreturn\u001b[39;00m \u001b[43minstantiate_steppers\u001b[49m\u001b[43m(\u001b[49m\u001b[43mmodel\u001b[49m\u001b[43m,\u001b[49m\u001b[43m \u001b[49m\u001b[43msteps\u001b[49m\u001b[43m,\u001b[49m\u001b[43m \u001b[49m\u001b[43mselected_steps\u001b[49m\u001b[43m,\u001b[49m\u001b[43m \u001b[49m\u001b[43mstep_kwargs\u001b[49m\u001b[43m)\u001b[49m\n",
      "File \u001b[0;32m~/mambaforge/envs/pymc-dev-py39/lib/python3.9/site-packages/pymc/sampling.py:137\u001b[0m, in \u001b[0;36minstantiate_steppers\u001b[0;34m(model, steps, selected_steps, step_kwargs)\u001b[0m\n\u001b[1;32m    135\u001b[0m         args \u001b[38;5;241m=\u001b[39m step_kwargs\u001b[38;5;241m.\u001b[39mget(step_class\u001b[38;5;241m.\u001b[39mname, {})\n\u001b[1;32m    136\u001b[0m         used_keys\u001b[38;5;241m.\u001b[39madd(step_class\u001b[38;5;241m.\u001b[39mname)\n\u001b[0;32m--> 137\u001b[0m         step \u001b[38;5;241m=\u001b[39m \u001b[43mstep_class\u001b[49m\u001b[43m(\u001b[49m\u001b[38;5;28;43mvars\u001b[39;49m\u001b[38;5;241;43m=\u001b[39;49m\u001b[38;5;28;43mvars\u001b[39;49m\u001b[43m,\u001b[49m\u001b[43m \u001b[49m\u001b[43mmodel\u001b[49m\u001b[38;5;241;43m=\u001b[39;49m\u001b[43mmodel\u001b[49m\u001b[43m,\u001b[49m\u001b[43m \u001b[49m\u001b[38;5;241;43m*\u001b[39;49m\u001b[38;5;241;43m*\u001b[39;49m\u001b[43margs\u001b[49m\u001b[43m)\u001b[49m\n\u001b[1;32m    138\u001b[0m         steps\u001b[38;5;241m.\u001b[39mappend(step)\n\u001b[1;32m    140\u001b[0m unused_args \u001b[38;5;241m=\u001b[39m \u001b[38;5;28mset\u001b[39m(step_kwargs)\u001b[38;5;241m.\u001b[39mdifference(used_keys)\n",
      "File \u001b[0;32m~/mambaforge/envs/pymc-dev-py39/lib/python3.9/site-packages/pymc/step_methods/hmc/nuts.py:169\u001b[0m, in \u001b[0;36mNUTS.__init__\u001b[0;34m(self, vars, max_treedepth, early_max_treedepth, **kwargs)\u001b[0m\n\u001b[1;32m    111\u001b[0m \u001b[38;5;28;01mdef\u001b[39;00m \u001b[38;5;21m__init__\u001b[39m(\u001b[38;5;28mself\u001b[39m, \u001b[38;5;28mvars\u001b[39m\u001b[38;5;241m=\u001b[39m\u001b[38;5;28;01mNone\u001b[39;00m, max_treedepth\u001b[38;5;241m=\u001b[39m\u001b[38;5;241m10\u001b[39m, early_max_treedepth\u001b[38;5;241m=\u001b[39m\u001b[38;5;241m8\u001b[39m, \u001b[38;5;241m*\u001b[39m\u001b[38;5;241m*\u001b[39mkwargs):\n\u001b[1;32m    112\u001b[0m     \u001b[38;5;124mr\u001b[39m\u001b[38;5;124;03m\"\"\"Set up the No-U-Turn sampler.\u001b[39;00m\n\u001b[1;32m    113\u001b[0m \n\u001b[1;32m    114\u001b[0m \u001b[38;5;124;03m    Parameters\u001b[39;00m\n\u001b[0;32m   (...)\u001b[0m\n\u001b[1;32m    167\u001b[0m \u001b[38;5;124;03m    `pm.sample` to the desired number of tuning steps.\u001b[39;00m\n\u001b[1;32m    168\u001b[0m \u001b[38;5;124;03m    \"\"\"\u001b[39;00m\n\u001b[0;32m--> 169\u001b[0m     \u001b[38;5;28;43msuper\u001b[39;49m\u001b[43m(\u001b[49m\u001b[43m)\u001b[49m\u001b[38;5;241;43m.\u001b[39;49m\u001b[38;5;21;43m__init__\u001b[39;49m\u001b[43m(\u001b[49m\u001b[38;5;28;43mvars\u001b[39;49m\u001b[43m,\u001b[49m\u001b[43m \u001b[49m\u001b[38;5;241;43m*\u001b[39;49m\u001b[38;5;241;43m*\u001b[39;49m\u001b[43mkwargs\u001b[49m\u001b[43m)\u001b[49m\n\u001b[1;32m    171\u001b[0m     \u001b[38;5;28mself\u001b[39m\u001b[38;5;241m.\u001b[39mmax_treedepth \u001b[38;5;241m=\u001b[39m max_treedepth\n\u001b[1;32m    172\u001b[0m     \u001b[38;5;28mself\u001b[39m\u001b[38;5;241m.\u001b[39mearly_max_treedepth \u001b[38;5;241m=\u001b[39m early_max_treedepth\n",
      "File \u001b[0;32m~/mambaforge/envs/pymc-dev-py39/lib/python3.9/site-packages/pymc/step_methods/hmc/base_hmc.py:95\u001b[0m, in \u001b[0;36mBaseHMC.__init__\u001b[0;34m(self, vars, scaling, step_scale, is_cov, model, blocked, potential, dtype, Emax, target_accept, gamma, k, t0, adapt_step_size, step_rand, **aesara_kwargs)\u001b[0m\n\u001b[1;32m     92\u001b[0m \u001b[38;5;28;01melse\u001b[39;00m:\n\u001b[1;32m     93\u001b[0m     \u001b[38;5;28mvars\u001b[39m \u001b[38;5;241m=\u001b[39m [\u001b[38;5;28mself\u001b[39m\u001b[38;5;241m.\u001b[39m_model\u001b[38;5;241m.\u001b[39mrvs_to_values\u001b[38;5;241m.\u001b[39mget(var, var) \u001b[38;5;28;01mfor\u001b[39;00m var \u001b[38;5;129;01min\u001b[39;00m \u001b[38;5;28mvars\u001b[39m]\n\u001b[0;32m---> 95\u001b[0m \u001b[38;5;28;43msuper\u001b[39;49m\u001b[43m(\u001b[49m\u001b[43m)\u001b[49m\u001b[38;5;241;43m.\u001b[39;49m\u001b[38;5;21;43m__init__\u001b[39;49m\u001b[43m(\u001b[49m\u001b[38;5;28;43mvars\u001b[39;49m\u001b[43m,\u001b[49m\u001b[43m \u001b[49m\u001b[43mblocked\u001b[49m\u001b[38;5;241;43m=\u001b[39;49m\u001b[43mblocked\u001b[49m\u001b[43m,\u001b[49m\u001b[43m \u001b[49m\u001b[43mmodel\u001b[49m\u001b[38;5;241;43m=\u001b[39;49m\u001b[38;5;28;43mself\u001b[39;49m\u001b[38;5;241;43m.\u001b[39;49m\u001b[43m_model\u001b[49m\u001b[43m,\u001b[49m\u001b[43m \u001b[49m\u001b[43mdtype\u001b[49m\u001b[38;5;241;43m=\u001b[39;49m\u001b[43mdtype\u001b[49m\u001b[43m,\u001b[49m\u001b[43m \u001b[49m\u001b[38;5;241;43m*\u001b[39;49m\u001b[38;5;241;43m*\u001b[39;49m\u001b[43maesara_kwargs\u001b[49m\u001b[43m)\u001b[49m\n\u001b[1;32m     97\u001b[0m \u001b[38;5;28mself\u001b[39m\u001b[38;5;241m.\u001b[39madapt_step_size \u001b[38;5;241m=\u001b[39m adapt_step_size\n\u001b[1;32m     98\u001b[0m \u001b[38;5;28mself\u001b[39m\u001b[38;5;241m.\u001b[39mEmax \u001b[38;5;241m=\u001b[39m Emax\n",
      "File \u001b[0;32m~/mambaforge/envs/pymc-dev-py39/lib/python3.9/site-packages/pymc/step_methods/arraystep.py:276\u001b[0m, in \u001b[0;36mGradientSharedStep.__init__\u001b[0;34m(self, vars, model, blocked, dtype, logp_dlogp_func, **aesara_kwargs)\u001b[0m\n\u001b[1;32m    273\u001b[0m model \u001b[38;5;241m=\u001b[39m modelcontext(model)\n\u001b[1;32m    275\u001b[0m \u001b[38;5;28;01mif\u001b[39;00m logp_dlogp_func \u001b[38;5;129;01mis\u001b[39;00m \u001b[38;5;28;01mNone\u001b[39;00m:\n\u001b[0;32m--> 276\u001b[0m     func \u001b[38;5;241m=\u001b[39m \u001b[43mmodel\u001b[49m\u001b[38;5;241;43m.\u001b[39;49m\u001b[43mlogp_dlogp_function\u001b[49m\u001b[43m(\u001b[49m\u001b[38;5;28;43mvars\u001b[39;49m\u001b[43m,\u001b[49m\u001b[43m \u001b[49m\u001b[43mdtype\u001b[49m\u001b[38;5;241;43m=\u001b[39;49m\u001b[43mdtype\u001b[49m\u001b[43m,\u001b[49m\u001b[43m \u001b[49m\u001b[38;5;241;43m*\u001b[39;49m\u001b[38;5;241;43m*\u001b[39;49m\u001b[43maesara_kwargs\u001b[49m\u001b[43m)\u001b[49m\n\u001b[1;32m    277\u001b[0m \u001b[38;5;28;01melse\u001b[39;00m:\n\u001b[1;32m    278\u001b[0m     func \u001b[38;5;241m=\u001b[39m logp_dlogp_func\n",
      "File \u001b[0;32m~/mambaforge/envs/pymc-dev-py39/lib/python3.9/site-packages/pymc/model.py:641\u001b[0m, in \u001b[0;36mModel.logp_dlogp_function\u001b[0;34m(self, grad_vars, tempered, **kwargs)\u001b[0m\n\u001b[1;32m    639\u001b[0m input_vars \u001b[38;5;241m=\u001b[39m {i \u001b[38;5;28;01mfor\u001b[39;00m i \u001b[38;5;129;01min\u001b[39;00m graph_inputs(costs) \u001b[38;5;28;01mif\u001b[39;00m \u001b[38;5;129;01mnot\u001b[39;00m \u001b[38;5;28misinstance\u001b[39m(i, Constant)}\n\u001b[1;32m    640\u001b[0m extra_vars \u001b[38;5;241m=\u001b[39m [\u001b[38;5;28mself\u001b[39m\u001b[38;5;241m.\u001b[39mrvs_to_values\u001b[38;5;241m.\u001b[39mget(var, var) \u001b[38;5;28;01mfor\u001b[39;00m var \u001b[38;5;129;01min\u001b[39;00m \u001b[38;5;28mself\u001b[39m\u001b[38;5;241m.\u001b[39mfree_RVs]\n\u001b[0;32m--> 641\u001b[0m ip \u001b[38;5;241m=\u001b[39m \u001b[38;5;28;43mself\u001b[39;49m\u001b[38;5;241;43m.\u001b[39;49m\u001b[43mcompute_initial_point\u001b[49m\u001b[43m(\u001b[49m\u001b[38;5;241;43m0\u001b[39;49m\u001b[43m)\u001b[49m\n\u001b[1;32m    642\u001b[0m extra_vars_and_values \u001b[38;5;241m=\u001b[39m {\n\u001b[1;32m    643\u001b[0m     var: ip[var\u001b[38;5;241m.\u001b[39mname] \u001b[38;5;28;01mfor\u001b[39;00m var \u001b[38;5;129;01min\u001b[39;00m extra_vars \u001b[38;5;28;01mif\u001b[39;00m var \u001b[38;5;129;01min\u001b[39;00m input_vars \u001b[38;5;129;01mand\u001b[39;00m var \u001b[38;5;129;01mnot\u001b[39;00m \u001b[38;5;129;01min\u001b[39;00m grad_vars\n\u001b[1;32m    644\u001b[0m }\n\u001b[1;32m    645\u001b[0m \u001b[38;5;28;01mreturn\u001b[39;00m ValueGradFunction(costs, grad_vars, extra_vars_and_values, \u001b[38;5;241m*\u001b[39m\u001b[38;5;241m*\u001b[39mkwargs)\n",
      "File \u001b[0;32m~/mambaforge/envs/pymc-dev-py39/lib/python3.9/site-packages/pymc/model.py:1021\u001b[0m, in \u001b[0;36mModel.compute_initial_point\u001b[0;34m(self, seed)\u001b[0m\n\u001b[1;32m   1019\u001b[0m \u001b[38;5;28;01mif\u001b[39;00m seed \u001b[38;5;129;01mis\u001b[39;00m \u001b[38;5;28;01mNone\u001b[39;00m:\n\u001b[1;32m   1020\u001b[0m     seed \u001b[38;5;241m=\u001b[39m \u001b[38;5;28mself\u001b[39m\u001b[38;5;241m.\u001b[39mrng_seeder\u001b[38;5;241m.\u001b[39mrandint(\u001b[38;5;241m2\u001b[39m\u001b[38;5;241m*\u001b[39m\u001b[38;5;241m*\u001b[39m\u001b[38;5;241m30\u001b[39m, dtype\u001b[38;5;241m=\u001b[39mnp\u001b[38;5;241m.\u001b[39mint64)\n\u001b[0;32m-> 1021\u001b[0m fn \u001b[38;5;241m=\u001b[39m \u001b[43mmake_initial_point_fn\u001b[49m\u001b[43m(\u001b[49m\u001b[43mmodel\u001b[49m\u001b[38;5;241;43m=\u001b[39;49m\u001b[38;5;28;43mself\u001b[39;49m\u001b[43m,\u001b[49m\u001b[43m \u001b[49m\u001b[43mreturn_transformed\u001b[49m\u001b[38;5;241;43m=\u001b[39;49m\u001b[38;5;28;43;01mTrue\u001b[39;49;00m\u001b[43m)\u001b[49m\n\u001b[1;32m   1022\u001b[0m \u001b[38;5;28;01mreturn\u001b[39;00m Point(fn(seed), model\u001b[38;5;241m=\u001b[39m\u001b[38;5;28mself\u001b[39m)\n",
      "File \u001b[0;32m~/mambaforge/envs/pymc-dev-py39/lib/python3.9/site-packages/pymc/initial_point.py:194\u001b[0m, in \u001b[0;36mmake_initial_point_fn\u001b[0;34m(model, overrides, jitter_rvs, default_strategy, return_transformed)\u001b[0m\n\u001b[1;32m    192\u001b[0m     new_rng_nodes\u001b[38;5;241m.\u001b[39mappend(aesara\u001b[38;5;241m.\u001b[39mshared(rng_cls(np\u001b[38;5;241m.\u001b[39mrandom\u001b[38;5;241m.\u001b[39mPCG64())))\n\u001b[1;32m    193\u001b[0m graph\u001b[38;5;241m.\u001b[39mreplace_all(\u001b[38;5;28mzip\u001b[39m(rng_nodes, new_rng_nodes), import_missing\u001b[38;5;241m=\u001b[39m\u001b[38;5;28;01mTrue\u001b[39;00m)\n\u001b[0;32m--> 194\u001b[0m func \u001b[38;5;241m=\u001b[39m \u001b[43mcompile_pymc\u001b[49m\u001b[43m(\u001b[49m\u001b[43minputs\u001b[49m\u001b[38;5;241;43m=\u001b[39;49m\u001b[43m[\u001b[49m\u001b[43m]\u001b[49m\u001b[43m,\u001b[49m\u001b[43m \u001b[49m\u001b[43moutputs\u001b[49m\u001b[38;5;241;43m=\u001b[39;49m\u001b[43mgraph\u001b[49m\u001b[38;5;241;43m.\u001b[39;49m\u001b[43moutputs\u001b[49m\u001b[43m,\u001b[49m\u001b[43m \u001b[49m\u001b[43mmode\u001b[49m\u001b[38;5;241;43m=\u001b[39;49m\u001b[43maesara\u001b[49m\u001b[38;5;241;43m.\u001b[39;49m\u001b[43mcompile\u001b[49m\u001b[38;5;241;43m.\u001b[39;49m\u001b[43mmode\u001b[49m\u001b[38;5;241;43m.\u001b[39;49m\u001b[43mFAST_COMPILE\u001b[49m\u001b[43m)\u001b[49m\n\u001b[1;32m    196\u001b[0m varnames \u001b[38;5;241m=\u001b[39m []\n\u001b[1;32m    197\u001b[0m \u001b[38;5;28;01mfor\u001b[39;00m var \u001b[38;5;129;01min\u001b[39;00m model\u001b[38;5;241m.\u001b[39mfree_RVs:\n",
      "File \u001b[0;32m~/mambaforge/envs/pymc-dev-py39/lib/python3.9/site-packages/pymc/aesaraf.py:994\u001b[0m, in \u001b[0;36mcompile_pymc\u001b[0;34m(inputs, outputs, mode, **kwargs)\u001b[0m\n\u001b[1;32m    992\u001b[0m opt_qry \u001b[38;5;241m=\u001b[39m mode\u001b[38;5;241m.\u001b[39mprovided_optimizer\u001b[38;5;241m.\u001b[39mincluding(\u001b[38;5;124m\"\u001b[39m\u001b[38;5;124mrandom_make_inplace\u001b[39m\u001b[38;5;124m\"\u001b[39m, check_parameter_opt)\n\u001b[1;32m    993\u001b[0m mode \u001b[38;5;241m=\u001b[39m Mode(linker\u001b[38;5;241m=\u001b[39mmode\u001b[38;5;241m.\u001b[39mlinker, optimizer\u001b[38;5;241m=\u001b[39mopt_qry)\n\u001b[0;32m--> 994\u001b[0m aesara_function \u001b[38;5;241m=\u001b[39m \u001b[43maesara\u001b[49m\u001b[38;5;241;43m.\u001b[39;49m\u001b[43mfunction\u001b[49m\u001b[43m(\u001b[49m\u001b[43minputs\u001b[49m\u001b[43m,\u001b[49m\u001b[43m \u001b[49m\u001b[43moutputs\u001b[49m\u001b[43m,\u001b[49m\u001b[43m \u001b[49m\u001b[43mmode\u001b[49m\u001b[38;5;241;43m=\u001b[39;49m\u001b[43mmode\u001b[49m\u001b[43m,\u001b[49m\u001b[43m \u001b[49m\u001b[38;5;241;43m*\u001b[39;49m\u001b[38;5;241;43m*\u001b[39;49m\u001b[43mkwargs\u001b[49m\u001b[43m)\u001b[49m\n\u001b[1;32m    995\u001b[0m \u001b[38;5;28;01mreturn\u001b[39;00m aesara_function\n",
      "File \u001b[0;32m~/mambaforge/envs/pymc-dev-py39/lib/python3.9/site-packages/aesara/compile/function/__init__.py:337\u001b[0m, in \u001b[0;36mfunction\u001b[0;34m(inputs, outputs, mode, updates, givens, no_default_updates, accept_inplace, name, rebuild_strict, allow_input_downcast, profile, on_unused_input)\u001b[0m\n\u001b[1;32m    331\u001b[0m     fn \u001b[38;5;241m=\u001b[39m orig_function(\n\u001b[1;32m    332\u001b[0m         inputs, outputs, mode\u001b[38;5;241m=\u001b[39mmode, accept_inplace\u001b[38;5;241m=\u001b[39maccept_inplace, name\u001b[38;5;241m=\u001b[39mname\n\u001b[1;32m    333\u001b[0m     )\n\u001b[1;32m    334\u001b[0m \u001b[38;5;28;01melse\u001b[39;00m:\n\u001b[1;32m    335\u001b[0m     \u001b[38;5;66;03m# note: pfunc will also call orig_function -- orig_function is\u001b[39;00m\n\u001b[1;32m    336\u001b[0m     \u001b[38;5;66;03m#      a choke point that all compilation must pass through\u001b[39;00m\n\u001b[0;32m--> 337\u001b[0m     fn \u001b[38;5;241m=\u001b[39m \u001b[43mpfunc\u001b[49m\u001b[43m(\u001b[49m\n\u001b[1;32m    338\u001b[0m \u001b[43m        \u001b[49m\u001b[43mparams\u001b[49m\u001b[38;5;241;43m=\u001b[39;49m\u001b[43minputs\u001b[49m\u001b[43m,\u001b[49m\n\u001b[1;32m    339\u001b[0m \u001b[43m        \u001b[49m\u001b[43moutputs\u001b[49m\u001b[38;5;241;43m=\u001b[39;49m\u001b[43moutputs\u001b[49m\u001b[43m,\u001b[49m\n\u001b[1;32m    340\u001b[0m \u001b[43m        \u001b[49m\u001b[43mmode\u001b[49m\u001b[38;5;241;43m=\u001b[39;49m\u001b[43mmode\u001b[49m\u001b[43m,\u001b[49m\n\u001b[1;32m    341\u001b[0m \u001b[43m        \u001b[49m\u001b[43mupdates\u001b[49m\u001b[38;5;241;43m=\u001b[39;49m\u001b[43mupdates\u001b[49m\u001b[43m,\u001b[49m\n\u001b[1;32m    342\u001b[0m \u001b[43m        \u001b[49m\u001b[43mgivens\u001b[49m\u001b[38;5;241;43m=\u001b[39;49m\u001b[43mgivens\u001b[49m\u001b[43m,\u001b[49m\n\u001b[1;32m    343\u001b[0m \u001b[43m        \u001b[49m\u001b[43mno_default_updates\u001b[49m\u001b[38;5;241;43m=\u001b[39;49m\u001b[43mno_default_updates\u001b[49m\u001b[43m,\u001b[49m\n\u001b[1;32m    344\u001b[0m \u001b[43m        \u001b[49m\u001b[43maccept_inplace\u001b[49m\u001b[38;5;241;43m=\u001b[39;49m\u001b[43maccept_inplace\u001b[49m\u001b[43m,\u001b[49m\n\u001b[1;32m    345\u001b[0m \u001b[43m        \u001b[49m\u001b[43mname\u001b[49m\u001b[38;5;241;43m=\u001b[39;49m\u001b[43mname\u001b[49m\u001b[43m,\u001b[49m\n\u001b[1;32m    346\u001b[0m \u001b[43m        \u001b[49m\u001b[43mrebuild_strict\u001b[49m\u001b[38;5;241;43m=\u001b[39;49m\u001b[43mrebuild_strict\u001b[49m\u001b[43m,\u001b[49m\n\u001b[1;32m    347\u001b[0m \u001b[43m        \u001b[49m\u001b[43mallow_input_downcast\u001b[49m\u001b[38;5;241;43m=\u001b[39;49m\u001b[43mallow_input_downcast\u001b[49m\u001b[43m,\u001b[49m\n\u001b[1;32m    348\u001b[0m \u001b[43m        \u001b[49m\u001b[43mon_unused_input\u001b[49m\u001b[38;5;241;43m=\u001b[39;49m\u001b[43mon_unused_input\u001b[49m\u001b[43m,\u001b[49m\n\u001b[1;32m    349\u001b[0m \u001b[43m        \u001b[49m\u001b[43mprofile\u001b[49m\u001b[38;5;241;43m=\u001b[39;49m\u001b[43mprofile\u001b[49m\u001b[43m,\u001b[49m\n\u001b[1;32m    350\u001b[0m \u001b[43m        \u001b[49m\u001b[43moutput_keys\u001b[49m\u001b[38;5;241;43m=\u001b[39;49m\u001b[43moutput_keys\u001b[49m\u001b[43m,\u001b[49m\n\u001b[1;32m    351\u001b[0m \u001b[43m    \u001b[49m\u001b[43m)\u001b[49m\n\u001b[1;32m    352\u001b[0m \u001b[38;5;28;01mreturn\u001b[39;00m fn\n",
      "File \u001b[0;32m~/mambaforge/envs/pymc-dev-py39/lib/python3.9/site-packages/aesara/compile/function/pfunc.py:363\u001b[0m, in \u001b[0;36mpfunc\u001b[0;34m(params, outputs, mode, updates, givens, no_default_updates, accept_inplace, name, rebuild_strict, allow_input_downcast, profile, on_unused_input, output_keys)\u001b[0m\n\u001b[1;32m    350\u001b[0m     profile \u001b[38;5;241m=\u001b[39m ProfileStats(message\u001b[38;5;241m=\u001b[39mprofile)\n\u001b[1;32m    352\u001b[0m inputs, cloned_outputs \u001b[38;5;241m=\u001b[39m construct_pfunc_ins_and_outs(\n\u001b[1;32m    353\u001b[0m     params,\n\u001b[1;32m    354\u001b[0m     outputs,\n\u001b[0;32m   (...)\u001b[0m\n\u001b[1;32m    360\u001b[0m     allow_input_downcast,\n\u001b[1;32m    361\u001b[0m )\n\u001b[0;32m--> 363\u001b[0m \u001b[38;5;28;01mreturn\u001b[39;00m \u001b[43morig_function\u001b[49m\u001b[43m(\u001b[49m\n\u001b[1;32m    364\u001b[0m \u001b[43m    \u001b[49m\u001b[43minputs\u001b[49m\u001b[43m,\u001b[49m\n\u001b[1;32m    365\u001b[0m \u001b[43m    \u001b[49m\u001b[43mcloned_outputs\u001b[49m\u001b[43m,\u001b[49m\n\u001b[1;32m    366\u001b[0m \u001b[43m    \u001b[49m\u001b[43mmode\u001b[49m\u001b[43m,\u001b[49m\n\u001b[1;32m    367\u001b[0m \u001b[43m    \u001b[49m\u001b[43maccept_inplace\u001b[49m\u001b[38;5;241;43m=\u001b[39;49m\u001b[43maccept_inplace\u001b[49m\u001b[43m,\u001b[49m\n\u001b[1;32m    368\u001b[0m \u001b[43m    \u001b[49m\u001b[43mname\u001b[49m\u001b[38;5;241;43m=\u001b[39;49m\u001b[43mname\u001b[49m\u001b[43m,\u001b[49m\n\u001b[1;32m    369\u001b[0m \u001b[43m    \u001b[49m\u001b[43mprofile\u001b[49m\u001b[38;5;241;43m=\u001b[39;49m\u001b[43mprofile\u001b[49m\u001b[43m,\u001b[49m\n\u001b[1;32m    370\u001b[0m \u001b[43m    \u001b[49m\u001b[43mon_unused_input\u001b[49m\u001b[38;5;241;43m=\u001b[39;49m\u001b[43mon_unused_input\u001b[49m\u001b[43m,\u001b[49m\n\u001b[1;32m    371\u001b[0m \u001b[43m    \u001b[49m\u001b[43moutput_keys\u001b[49m\u001b[38;5;241;43m=\u001b[39;49m\u001b[43moutput_keys\u001b[49m\u001b[43m,\u001b[49m\n\u001b[1;32m    372\u001b[0m \u001b[43m\u001b[49m\u001b[43m)\u001b[49m\n",
      "File \u001b[0;32m~/mambaforge/envs/pymc-dev-py39/lib/python3.9/site-packages/aesara/compile/function/types.py:1732\u001b[0m, in \u001b[0;36morig_function\u001b[0;34m(inputs, outputs, mode, accept_inplace, name, profile, on_unused_input, output_keys)\u001b[0m\n\u001b[1;32m   1730\u001b[0m \u001b[38;5;28;01mtry\u001b[39;00m:\n\u001b[1;32m   1731\u001b[0m     Maker \u001b[38;5;241m=\u001b[39m \u001b[38;5;28mgetattr\u001b[39m(mode, \u001b[38;5;124m\"\u001b[39m\u001b[38;5;124mfunction_maker\u001b[39m\u001b[38;5;124m\"\u001b[39m, FunctionMaker)\n\u001b[0;32m-> 1732\u001b[0m     m \u001b[38;5;241m=\u001b[39m \u001b[43mMaker\u001b[49m\u001b[43m(\u001b[49m\n\u001b[1;32m   1733\u001b[0m \u001b[43m        \u001b[49m\u001b[43minputs\u001b[49m\u001b[43m,\u001b[49m\n\u001b[1;32m   1734\u001b[0m \u001b[43m        \u001b[49m\u001b[43moutputs\u001b[49m\u001b[43m,\u001b[49m\n\u001b[1;32m   1735\u001b[0m \u001b[43m        \u001b[49m\u001b[43mmode\u001b[49m\u001b[43m,\u001b[49m\n\u001b[1;32m   1736\u001b[0m \u001b[43m        \u001b[49m\u001b[43maccept_inplace\u001b[49m\u001b[38;5;241;43m=\u001b[39;49m\u001b[43maccept_inplace\u001b[49m\u001b[43m,\u001b[49m\n\u001b[1;32m   1737\u001b[0m \u001b[43m        \u001b[49m\u001b[43mprofile\u001b[49m\u001b[38;5;241;43m=\u001b[39;49m\u001b[43mprofile\u001b[49m\u001b[43m,\u001b[49m\n\u001b[1;32m   1738\u001b[0m \u001b[43m        \u001b[49m\u001b[43mon_unused_input\u001b[49m\u001b[38;5;241;43m=\u001b[39;49m\u001b[43mon_unused_input\u001b[49m\u001b[43m,\u001b[49m\n\u001b[1;32m   1739\u001b[0m \u001b[43m        \u001b[49m\u001b[43moutput_keys\u001b[49m\u001b[38;5;241;43m=\u001b[39;49m\u001b[43moutput_keys\u001b[49m\u001b[43m,\u001b[49m\n\u001b[1;32m   1740\u001b[0m \u001b[43m        \u001b[49m\u001b[43mname\u001b[49m\u001b[38;5;241;43m=\u001b[39;49m\u001b[43mname\u001b[49m\u001b[43m,\u001b[49m\n\u001b[1;32m   1741\u001b[0m \u001b[43m    \u001b[49m\u001b[43m)\u001b[49m\n\u001b[1;32m   1742\u001b[0m     \u001b[38;5;28;01mwith\u001b[39;00m config\u001b[38;5;241m.\u001b[39mchange_flags(compute_test_value\u001b[38;5;241m=\u001b[39m\u001b[38;5;124m\"\u001b[39m\u001b[38;5;124moff\u001b[39m\u001b[38;5;124m\"\u001b[39m):\n\u001b[1;32m   1743\u001b[0m         fn \u001b[38;5;241m=\u001b[39m m\u001b[38;5;241m.\u001b[39mcreate(defaults)\n",
      "File \u001b[0;32m~/mambaforge/envs/pymc-dev-py39/lib/python3.9/site-packages/aesara/compile/function/types.py:1471\u001b[0m, in \u001b[0;36mFunctionMaker.__init__\u001b[0;34m(self, inputs, outputs, mode, accept_inplace, function_builder, profile, on_unused_input, fgraph, output_keys, name)\u001b[0m\n\u001b[1;32m   1465\u001b[0m opt_time \u001b[38;5;241m=\u001b[39m \u001b[38;5;28;01mNone\u001b[39;00m\n\u001b[1;32m   1467\u001b[0m \u001b[38;5;28;01mwith\u001b[39;00m config\u001b[38;5;241m.\u001b[39mchange_flags(\n\u001b[1;32m   1468\u001b[0m     compute_test_value\u001b[38;5;241m=\u001b[39mconfig\u001b[38;5;241m.\u001b[39mcompute_test_value_opt,\n\u001b[1;32m   1469\u001b[0m     traceback__limit\u001b[38;5;241m=\u001b[39mconfig\u001b[38;5;241m.\u001b[39mtraceback__compile_limit,\n\u001b[1;32m   1470\u001b[0m ):\n\u001b[0;32m-> 1471\u001b[0m     optimizer_profile \u001b[38;5;241m=\u001b[39m \u001b[43moptimizer\u001b[49m\u001b[43m(\u001b[49m\u001b[43mfgraph\u001b[49m\u001b[43m)\u001b[49m\n\u001b[1;32m   1473\u001b[0m     end_optimizer \u001b[38;5;241m=\u001b[39m time\u001b[38;5;241m.\u001b[39mtime()\n\u001b[1;32m   1474\u001b[0m     opt_time \u001b[38;5;241m=\u001b[39m end_optimizer \u001b[38;5;241m-\u001b[39m start_optimizer\n",
      "File \u001b[0;32m~/mambaforge/envs/pymc-dev-py39/lib/python3.9/site-packages/aesara/graph/opt.py:112\u001b[0m, in \u001b[0;36mGlobalOptimizer.__call__\u001b[0;34m(self, fgraph)\u001b[0m\n\u001b[1;32m    106\u001b[0m \u001b[38;5;28;01mdef\u001b[39;00m \u001b[38;5;21m__call__\u001b[39m(\u001b[38;5;28mself\u001b[39m, fgraph):\n\u001b[1;32m    107\u001b[0m     \u001b[38;5;124;03m\"\"\"Optimize a `FunctionGraph`.\u001b[39;00m\n\u001b[1;32m    108\u001b[0m \n\u001b[1;32m    109\u001b[0m \u001b[38;5;124;03m    This is the same as ``self.optimize(fgraph)``.\u001b[39;00m\n\u001b[1;32m    110\u001b[0m \n\u001b[1;32m    111\u001b[0m \u001b[38;5;124;03m    \"\"\"\u001b[39;00m\n\u001b[0;32m--> 112\u001b[0m     \u001b[38;5;28;01mreturn\u001b[39;00m \u001b[38;5;28;43mself\u001b[39;49m\u001b[38;5;241;43m.\u001b[39;49m\u001b[43moptimize\u001b[49m\u001b[43m(\u001b[49m\u001b[43mfgraph\u001b[49m\u001b[43m)\u001b[49m\n",
      "File \u001b[0;32m~/mambaforge/envs/pymc-dev-py39/lib/python3.9/site-packages/aesara/graph/opt.py:103\u001b[0m, in \u001b[0;36mGlobalOptimizer.optimize\u001b[0;34m(self, fgraph, *args, **kwargs)\u001b[0m\n\u001b[1;32m     94\u001b[0m \u001b[38;5;124;03m\"\"\"\u001b[39;00m\n\u001b[1;32m     95\u001b[0m \n\u001b[1;32m     96\u001b[0m \u001b[38;5;124;03mThis is meant as a shortcut for the following::\u001b[39;00m\n\u001b[0;32m   (...)\u001b[0m\n\u001b[1;32m    100\u001b[0m \n\u001b[1;32m    101\u001b[0m \u001b[38;5;124;03m\"\"\"\u001b[39;00m\n\u001b[1;32m    102\u001b[0m \u001b[38;5;28mself\u001b[39m\u001b[38;5;241m.\u001b[39madd_requirements(fgraph)\n\u001b[0;32m--> 103\u001b[0m ret \u001b[38;5;241m=\u001b[39m \u001b[38;5;28;43mself\u001b[39;49m\u001b[38;5;241;43m.\u001b[39;49m\u001b[43mapply\u001b[49m\u001b[43m(\u001b[49m\u001b[43mfgraph\u001b[49m\u001b[43m,\u001b[49m\u001b[43m \u001b[49m\u001b[38;5;241;43m*\u001b[39;49m\u001b[43margs\u001b[49m\u001b[43m,\u001b[49m\u001b[43m \u001b[49m\u001b[38;5;241;43m*\u001b[39;49m\u001b[38;5;241;43m*\u001b[39;49m\u001b[43mkwargs\u001b[49m\u001b[43m)\u001b[49m\n\u001b[1;32m    104\u001b[0m \u001b[38;5;28;01mreturn\u001b[39;00m ret\n",
      "File \u001b[0;32m~/mambaforge/envs/pymc-dev-py39/lib/python3.9/site-packages/aesara/graph/opt.py:280\u001b[0m, in \u001b[0;36mSeqOptimizer.apply\u001b[0;34m(self, fgraph)\u001b[0m\n\u001b[1;32m    278\u001b[0m nb_nodes_before \u001b[38;5;241m=\u001b[39m \u001b[38;5;28mlen\u001b[39m(fgraph\u001b[38;5;241m.\u001b[39mapply_nodes)\n\u001b[1;32m    279\u001b[0m t0 \u001b[38;5;241m=\u001b[39m time\u001b[38;5;241m.\u001b[39mtime()\n\u001b[0;32m--> 280\u001b[0m sub_prof \u001b[38;5;241m=\u001b[39m \u001b[43moptimizer\u001b[49m\u001b[38;5;241;43m.\u001b[39;49m\u001b[43moptimize\u001b[49m\u001b[43m(\u001b[49m\u001b[43mfgraph\u001b[49m\u001b[43m)\u001b[49m\n\u001b[1;32m    281\u001b[0m l\u001b[38;5;241m.\u001b[39mappend(\u001b[38;5;28mfloat\u001b[39m(time\u001b[38;5;241m.\u001b[39mtime() \u001b[38;5;241m-\u001b[39m t0))\n\u001b[1;32m    282\u001b[0m sub_profs\u001b[38;5;241m.\u001b[39mappend(sub_prof)\n",
      "File \u001b[0;32m~/mambaforge/envs/pymc-dev-py39/lib/python3.9/site-packages/aesara/graph/opt.py:103\u001b[0m, in \u001b[0;36mGlobalOptimizer.optimize\u001b[0;34m(self, fgraph, *args, **kwargs)\u001b[0m\n\u001b[1;32m     94\u001b[0m \u001b[38;5;124;03m\"\"\"\u001b[39;00m\n\u001b[1;32m     95\u001b[0m \n\u001b[1;32m     96\u001b[0m \u001b[38;5;124;03mThis is meant as a shortcut for the following::\u001b[39;00m\n\u001b[0;32m   (...)\u001b[0m\n\u001b[1;32m    100\u001b[0m \n\u001b[1;32m    101\u001b[0m \u001b[38;5;124;03m\"\"\"\u001b[39;00m\n\u001b[1;32m    102\u001b[0m \u001b[38;5;28mself\u001b[39m\u001b[38;5;241m.\u001b[39madd_requirements(fgraph)\n\u001b[0;32m--> 103\u001b[0m ret \u001b[38;5;241m=\u001b[39m \u001b[38;5;28;43mself\u001b[39;49m\u001b[38;5;241;43m.\u001b[39;49m\u001b[43mapply\u001b[49m\u001b[43m(\u001b[49m\u001b[43mfgraph\u001b[49m\u001b[43m,\u001b[49m\u001b[43m \u001b[49m\u001b[38;5;241;43m*\u001b[39;49m\u001b[43margs\u001b[49m\u001b[43m,\u001b[49m\u001b[43m \u001b[49m\u001b[38;5;241;43m*\u001b[39;49m\u001b[38;5;241;43m*\u001b[39;49m\u001b[43mkwargs\u001b[49m\u001b[43m)\u001b[49m\n\u001b[1;32m    104\u001b[0m \u001b[38;5;28;01mreturn\u001b[39;00m ret\n",
      "File \u001b[0;32m~/mambaforge/envs/pymc-dev-py39/lib/python3.9/site-packages/aesara/graph/opt.py:2357\u001b[0m, in \u001b[0;36mEquilibriumOptimizer.apply\u001b[0;34m(self, fgraph, start_from)\u001b[0m\n\u001b[1;32m   2355\u001b[0m nb \u001b[38;5;241m=\u001b[39m change_tracker\u001b[38;5;241m.\u001b[39mnb_imported\n\u001b[1;32m   2356\u001b[0m t_opt \u001b[38;5;241m=\u001b[39m time\u001b[38;5;241m.\u001b[39mtime()\n\u001b[0;32m-> 2357\u001b[0m sub_prof \u001b[38;5;241m=\u001b[39m \u001b[43mgopt\u001b[49m\u001b[38;5;241;43m.\u001b[39;49m\u001b[43mapply\u001b[49m\u001b[43m(\u001b[49m\u001b[43mfgraph\u001b[49m\u001b[43m)\u001b[49m\n\u001b[1;32m   2358\u001b[0m time_opts[gopt] \u001b[38;5;241m+\u001b[39m\u001b[38;5;241m=\u001b[39m time\u001b[38;5;241m.\u001b[39mtime() \u001b[38;5;241m-\u001b[39m t_opt\n\u001b[1;32m   2359\u001b[0m sub_profs\u001b[38;5;241m.\u001b[39mappend(sub_prof)\n",
      "File \u001b[0;32m~/mambaforge/envs/pymc-dev-py39/lib/python3.9/site-packages/aesara/graph/opt.py:1960\u001b[0m, in \u001b[0;36mTopoOptimizer.apply\u001b[0;34m(self, fgraph, start_from)\u001b[0m\n\u001b[1;32m   1958\u001b[0m             \u001b[38;5;28;01mcontinue\u001b[39;00m\n\u001b[1;32m   1959\u001b[0m         current_node \u001b[38;5;241m=\u001b[39m node\n\u001b[0;32m-> 1960\u001b[0m         nb \u001b[38;5;241m+\u001b[39m\u001b[38;5;241m=\u001b[39m \u001b[38;5;28;43mself\u001b[39;49m\u001b[38;5;241;43m.\u001b[39;49m\u001b[43mprocess_node\u001b[49m\u001b[43m(\u001b[49m\u001b[43mfgraph\u001b[49m\u001b[43m,\u001b[49m\u001b[43m \u001b[49m\u001b[43mnode\u001b[49m\u001b[43m)\u001b[49m\n\u001b[1;32m   1961\u001b[0m     loop_t \u001b[38;5;241m=\u001b[39m time\u001b[38;5;241m.\u001b[39mtime() \u001b[38;5;241m-\u001b[39m t0\n\u001b[1;32m   1962\u001b[0m \u001b[38;5;28;01mfinally\u001b[39;00m:\n",
      "File \u001b[0;32m~/mambaforge/envs/pymc-dev-py39/lib/python3.9/site-packages/aesara/graph/opt.py:1853\u001b[0m, in \u001b[0;36mNavigatorOptimizer.process_node\u001b[0;34m(self, fgraph, node, lopt)\u001b[0m\n\u001b[1;32m   1851\u001b[0m \u001b[38;5;28;01mexcept\u001b[39;00m \u001b[38;5;167;01mException\u001b[39;00m \u001b[38;5;28;01mas\u001b[39;00m e:\n\u001b[1;32m   1852\u001b[0m     \u001b[38;5;28;01mif\u001b[39;00m \u001b[38;5;28mself\u001b[39m\u001b[38;5;241m.\u001b[39mfailure_callback \u001b[38;5;129;01mis\u001b[39;00m \u001b[38;5;129;01mnot\u001b[39;00m \u001b[38;5;28;01mNone\u001b[39;00m:\n\u001b[0;32m-> 1853\u001b[0m         \u001b[38;5;28;43mself\u001b[39;49m\u001b[38;5;241;43m.\u001b[39;49m\u001b[43mfailure_callback\u001b[49m\u001b[43m(\u001b[49m\n\u001b[1;32m   1854\u001b[0m \u001b[43m            \u001b[49m\u001b[43me\u001b[49m\u001b[43m,\u001b[49m\u001b[43m \u001b[49m\u001b[38;5;28;43mself\u001b[39;49m\u001b[43m,\u001b[49m\u001b[43m \u001b[49m\u001b[43m[\u001b[49m\u001b[43m(\u001b[49m\u001b[43mx\u001b[49m\u001b[43m,\u001b[49m\u001b[43m \u001b[49m\u001b[38;5;28;43;01mNone\u001b[39;49;00m\u001b[43m)\u001b[49m\u001b[43m \u001b[49m\u001b[38;5;28;43;01mfor\u001b[39;49;00m\u001b[43m \u001b[49m\u001b[43mx\u001b[49m\u001b[43m \u001b[49m\u001b[38;5;129;43;01min\u001b[39;49;00m\u001b[43m \u001b[49m\u001b[43mnode\u001b[49m\u001b[38;5;241;43m.\u001b[39;49m\u001b[43moutputs\u001b[49m\u001b[43m]\u001b[49m\u001b[43m,\u001b[49m\u001b[43m \u001b[49m\u001b[43mlopt\u001b[49m\u001b[43m,\u001b[49m\u001b[43m \u001b[49m\u001b[43mnode\u001b[49m\n\u001b[1;32m   1855\u001b[0m \u001b[43m        \u001b[49m\u001b[43m)\u001b[49m\n\u001b[1;32m   1856\u001b[0m         \u001b[38;5;28;01mreturn\u001b[39;00m \u001b[38;5;28;01mFalse\u001b[39;00m\n\u001b[1;32m   1857\u001b[0m     \u001b[38;5;28;01melse\u001b[39;00m:\n",
      "File \u001b[0;32m~/mambaforge/envs/pymc-dev-py39/lib/python3.9/site-packages/aesara/graph/opt.py:1756\u001b[0m, in \u001b[0;36mNavigatorOptimizer.warn_inplace\u001b[0;34m(exc, nav, repl_pairs, local_opt, node)\u001b[0m\n\u001b[1;32m   1754\u001b[0m \u001b[38;5;28;01mif\u001b[39;00m \u001b[38;5;28misinstance\u001b[39m(exc, InconsistencyError):\n\u001b[1;32m   1755\u001b[0m     \u001b[38;5;28;01mreturn\u001b[39;00m\n\u001b[0;32m-> 1756\u001b[0m \u001b[38;5;28;01mreturn\u001b[39;00m \u001b[43mNavigatorOptimizer\u001b[49m\u001b[38;5;241;43m.\u001b[39;49m\u001b[43mwarn\u001b[49m\u001b[43m(\u001b[49m\u001b[43mexc\u001b[49m\u001b[43m,\u001b[49m\u001b[43m \u001b[49m\u001b[43mnav\u001b[49m\u001b[43m,\u001b[49m\u001b[43m \u001b[49m\u001b[43mrepl_pairs\u001b[49m\u001b[43m,\u001b[49m\u001b[43m \u001b[49m\u001b[43mlocal_opt\u001b[49m\u001b[43m,\u001b[49m\u001b[43m \u001b[49m\u001b[43mnode\u001b[49m\u001b[43m)\u001b[49m\n",
      "File \u001b[0;32m~/mambaforge/envs/pymc-dev-py39/lib/python3.9/site-packages/aesara/graph/opt.py:1744\u001b[0m, in \u001b[0;36mNavigatorOptimizer.warn\u001b[0;34m(exc, nav, repl_pairs, local_opt, node)\u001b[0m\n\u001b[1;32m   1740\u001b[0m     pdb\u001b[38;5;241m.\u001b[39mpost_mortem(sys\u001b[38;5;241m.\u001b[39mexc_info()[\u001b[38;5;241m2\u001b[39m])\n\u001b[1;32m   1741\u001b[0m \u001b[38;5;28;01melif\u001b[39;00m \u001b[38;5;28misinstance\u001b[39m(exc, \u001b[38;5;167;01mAssertionError\u001b[39;00m) \u001b[38;5;129;01mor\u001b[39;00m config\u001b[38;5;241m.\u001b[39mon_opt_error \u001b[38;5;241m==\u001b[39m \u001b[38;5;124m\"\u001b[39m\u001b[38;5;124mraise\u001b[39m\u001b[38;5;124m\"\u001b[39m:\n\u001b[1;32m   1742\u001b[0m     \u001b[38;5;66;03m# We always crash on AssertionError because something may be\u001b[39;00m\n\u001b[1;32m   1743\u001b[0m     \u001b[38;5;66;03m# seriously wrong if such an exception is raised.\u001b[39;00m\n\u001b[0;32m-> 1744\u001b[0m     \u001b[38;5;28;01mraise\u001b[39;00m exc\n",
      "File \u001b[0;32m~/mambaforge/envs/pymc-dev-py39/lib/python3.9/site-packages/aesara/graph/opt.py:1850\u001b[0m, in \u001b[0;36mNavigatorOptimizer.process_node\u001b[0;34m(self, fgraph, node, lopt)\u001b[0m\n\u001b[1;32m   1848\u001b[0m lopt \u001b[38;5;241m=\u001b[39m lopt \u001b[38;5;129;01mor\u001b[39;00m \u001b[38;5;28mself\u001b[39m\u001b[38;5;241m.\u001b[39mlocal_opt\n\u001b[1;32m   1849\u001b[0m \u001b[38;5;28;01mtry\u001b[39;00m:\n\u001b[0;32m-> 1850\u001b[0m     replacements \u001b[38;5;241m=\u001b[39m \u001b[43mlopt\u001b[49m\u001b[38;5;241;43m.\u001b[39;49m\u001b[43mtransform\u001b[49m\u001b[43m(\u001b[49m\u001b[43mfgraph\u001b[49m\u001b[43m,\u001b[49m\u001b[43m \u001b[49m\u001b[43mnode\u001b[49m\u001b[43m)\u001b[49m\n\u001b[1;32m   1851\u001b[0m \u001b[38;5;28;01mexcept\u001b[39;00m \u001b[38;5;167;01mException\u001b[39;00m \u001b[38;5;28;01mas\u001b[39;00m e:\n\u001b[1;32m   1852\u001b[0m     \u001b[38;5;28;01mif\u001b[39;00m \u001b[38;5;28mself\u001b[39m\u001b[38;5;241m.\u001b[39mfailure_callback \u001b[38;5;129;01mis\u001b[39;00m \u001b[38;5;129;01mnot\u001b[39;00m \u001b[38;5;28;01mNone\u001b[39;00m:\n",
      "File \u001b[0;32m~/mambaforge/envs/pymc-dev-py39/lib/python3.9/site-packages/aesara/graph/opt.py:1055\u001b[0m, in \u001b[0;36mFromFunctionLocalOptimizer.transform\u001b[0;34m(self, fgraph, node)\u001b[0m\n\u001b[1;32m   1050\u001b[0m     \u001b[38;5;28;01mif\u001b[39;00m \u001b[38;5;129;01mnot\u001b[39;00m (\n\u001b[1;32m   1051\u001b[0m         node\u001b[38;5;241m.\u001b[39mop \u001b[38;5;129;01min\u001b[39;00m \u001b[38;5;28mself\u001b[39m\u001b[38;5;241m.\u001b[39m_tracks \u001b[38;5;129;01mor\u001b[39;00m \u001b[38;5;28misinstance\u001b[39m(node\u001b[38;5;241m.\u001b[39mop, \u001b[38;5;28mself\u001b[39m\u001b[38;5;241m.\u001b[39m_tracked_types)\n\u001b[1;32m   1052\u001b[0m     ):\n\u001b[1;32m   1053\u001b[0m         \u001b[38;5;28;01mreturn\u001b[39;00m \u001b[38;5;28;01mFalse\u001b[39;00m\n\u001b[0;32m-> 1055\u001b[0m \u001b[38;5;28;01mreturn\u001b[39;00m \u001b[38;5;28;43mself\u001b[39;49m\u001b[38;5;241;43m.\u001b[39;49m\u001b[43mfn\u001b[49m\u001b[43m(\u001b[49m\u001b[43mfgraph\u001b[49m\u001b[43m,\u001b[49m\u001b[43m \u001b[49m\u001b[43mnode\u001b[49m\u001b[43m)\u001b[49m\n",
      "File \u001b[0;32m~/mambaforge/envs/pymc-dev-py39/lib/python3.9/site-packages/aesara/tensor/basic_opt.py:2945\u001b[0m, in \u001b[0;36mconstant_folding\u001b[0;34m(fgraph, node)\u001b[0m\n\u001b[1;32m   2942\u001b[0m     compute_map[o] \u001b[38;5;241m=\u001b[39m [\u001b[38;5;28;01mFalse\u001b[39;00m]\n\u001b[1;32m   2944\u001b[0m thunk \u001b[38;5;241m=\u001b[39m node\u001b[38;5;241m.\u001b[39mop\u001b[38;5;241m.\u001b[39mmake_thunk(node, storage_map, compute_map, no_recycling\u001b[38;5;241m=\u001b[39m[])\n\u001b[0;32m-> 2945\u001b[0m required \u001b[38;5;241m=\u001b[39m \u001b[43mthunk\u001b[49m\u001b[43m(\u001b[49m\u001b[43m)\u001b[49m\n\u001b[1;32m   2947\u001b[0m \u001b[38;5;66;03m# A node whose inputs are all provided should always return successfully\u001b[39;00m\n\u001b[1;32m   2948\u001b[0m \u001b[38;5;28;01massert\u001b[39;00m \u001b[38;5;129;01mnot\u001b[39;00m required\n",
      "File \u001b[0;32m~/mambaforge/envs/pymc-dev-py39/lib/python3.9/site-packages/aesara/link/c/op.py:103\u001b[0m, in \u001b[0;36mCOp.make_c_thunk.<locals>.rval\u001b[0;34m()\u001b[0m\n\u001b[1;32m    101\u001b[0m \u001b[38;5;129m@is_cthunk_wrapper_type\u001b[39m\n\u001b[1;32m    102\u001b[0m \u001b[38;5;28;01mdef\u001b[39;00m \u001b[38;5;21mrval\u001b[39m():\n\u001b[0;32m--> 103\u001b[0m     \u001b[43mthunk\u001b[49m\u001b[43m(\u001b[49m\u001b[43m)\u001b[49m\n\u001b[1;32m    104\u001b[0m     \u001b[38;5;28;01mfor\u001b[39;00m o \u001b[38;5;129;01min\u001b[39;00m node\u001b[38;5;241m.\u001b[39moutputs:\n\u001b[1;32m    105\u001b[0m         compute_map[o][\u001b[38;5;241m0\u001b[39m] \u001b[38;5;241m=\u001b[39m \u001b[38;5;28;01mTrue\u001b[39;00m\n",
      "File \u001b[0;32m~/mambaforge/envs/pymc-dev-py39/lib/python3.9/site-packages/aesara/link/c/basic.py:1766\u001b[0m, in \u001b[0;36m_CThunk.__call__\u001b[0;34m(self)\u001b[0m\n\u001b[1;32m   1764\u001b[0m     \u001b[38;5;28mprint\u001b[39m(\u001b[38;5;28mself\u001b[39m\u001b[38;5;241m.\u001b[39merror_storage, file\u001b[38;5;241m=\u001b[39msys\u001b[38;5;241m.\u001b[39mstderr)\n\u001b[1;32m   1765\u001b[0m     \u001b[38;5;28;01mraise\u001b[39;00m\n\u001b[0;32m-> 1766\u001b[0m \u001b[38;5;28;01mraise\u001b[39;00m exc_value\u001b[38;5;241m.\u001b[39mwith_traceback(exc_trace)\n",
      "\u001b[0;31mAssertionError\u001b[0m: Aesara Assert failed!"
     ]
    }
   ],
   "source": [
    "# q1a using dot product\n",
    "with pm.Model() as m:\n",
    "    # priors\n",
    "    beta = pm.Normal(\"beta1\", mu=0, tau=0.0001, shape=2)\n",
    "    tau = pm.Gamma(\"tau\", 0.001, 0.001)\n",
    "\n",
    "    # x_imputed = pm.TruncatedNormal(\"x_imputed\", mu=60, sigma=30, lower=1, upper=120, observed=x)\n",
    "    x_imputed = pm.Uniform(\"x_imputed\", 20, 100, observed=x)\n",
    "\n",
    "    mu = dot(beta, x_imputed)\n",
    "\n",
    "    likelihood = pm.Normal(\"likelihood\", mu=mu, tau=tau, observed=y)\n",
    "\n",
    "    # start sampling\n",
    "    trace = pm.sample(\n",
    "        2000,\n",
    "        chains=4,\n",
    "        tune=500,\n",
    "        cores=4,\n",
    "        init=\"adapt_diag\",\n",
    "        random_seed=1,\n",
    "        return_inferencedata=True,\n",
    "        initvals=inits\n",
    "    )"
   ]
  },
  {
   "cell_type": "code",
   "execution_count": null,
   "id": "9923f736-226d-4984-9fd3-209206371900",
   "metadata": {},
   "outputs": [],
   "source": []
  }
 ],
 "metadata": {
  "kernelspec": {
   "display_name": "Python 3 (ipykernel)",
   "language": "python",
   "name": "python3"
  },
  "language_info": {
   "codemirror_mode": {
    "name": "ipython",
    "version": 3
   },
   "file_extension": ".py",
   "mimetype": "text/x-python",
   "name": "python",
   "nbconvert_exporter": "python",
   "pygments_lexer": "ipython3",
   "version": "3.9.10"
  }
 },
 "nbformat": 4,
 "nbformat_minor": 5
}
