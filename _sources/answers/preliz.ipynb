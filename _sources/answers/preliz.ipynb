{
 "cells": [
  {
   "cell_type": "code",
   "execution_count": 2,
   "id": "0595509a-6218-4ece-9858-7d73c9977260",
   "metadata": {},
   "outputs": [],
   "source": [
    "import preliz as pz\n",
    "import arviz as az\n",
    "import pymc as pm\n",
    "import matplotlib.pyplot as plt\n",
    "import numpy as np"
   ]
  },
  {
   "cell_type": "code",
   "execution_count": 3,
   "id": "39b6c2ff-8124-431f-8478-7abbec25de53",
   "metadata": {},
   "outputs": [
    {
     "ename": "AttributeError",
     "evalue": "module 'preliz' has no attribute 'InverseGamma'",
     "output_type": "error",
     "traceback": [
      "\u001b[0;31m---------------------------------------------------------------------------\u001b[0m",
      "\u001b[0;31mAttributeError\u001b[0m                            Traceback (most recent call last)",
      "Input \u001b[0;32mIn [3]\u001b[0m, in \u001b[0;36m<cell line: 1>\u001b[0;34m()\u001b[0m\n\u001b[0;32m----> 1\u001b[0m \u001b[43mpz\u001b[49m\u001b[38;5;241;43m.\u001b[39;49m\u001b[43mInverseGamma\u001b[49m(\u001b[38;5;241m.001\u001b[39m,\u001b[38;5;241m.001\u001b[39m)\u001b[38;5;241m.\u001b[39mplot_pdf(box\u001b[38;5;241m=\u001b[39m\u001b[38;5;28;01mTrue\u001b[39;00m)\n",
      "\u001b[0;31mAttributeError\u001b[0m: module 'preliz' has no attribute 'InverseGamma'"
     ]
    }
   ],
   "source": [
    "pz.Gamma(.001,.001).plot_pdf(box=True);\n"
   ]
  },
  {
   "cell_type": "code",
   "execution_count": 4,
   "id": "a1eb195c-008c-49a0-93d3-5feddeae7a17",
   "metadata": {},
   "outputs": [
    {
     "data": {
      "text/plain": [
       "<AxesSubplot:>"
      ]
     },
     "execution_count": 4,
     "metadata": {},
     "output_type": "execute_result"
    },
    {
     "data": {
      "image/png": "[encoded data removed]",
      "text/plain": [
       "<Figure size 432x288 with 1 Axes>"
      ]
     },
     "metadata": {
      "needs_background": "light"
     },
     "output_type": "display_data"
    }
   ],
   "source": [
    "pz.Gamma(.01, .01).plot_pdf(box=True)"
   ]
  },
  {
   "cell_type": "code",
   "execution_count": 13,
   "id": "71e58d36-c8ab-41a1-b4a6-7b455b05f092",
   "metadata": {},
   "outputs": [],
   "source": [
    "test = pm.draw(pm.Weibull.dist(3.5, 29.85), 100000)"
   ]
  },
  {
   "cell_type": "code",
   "execution_count": 14,
   "id": "a85ab9b5-418b-4c66-951a-13c95c970233",
   "metadata": {},
   "outputs": [
    {
     "data": {
      "text/plain": [
       "26.832860706215282"
      ]
     },
     "execution_count": 14,
     "metadata": {},
     "output_type": "execute_result"
    }
   ],
   "source": [
    "test.mean()"
   ]
  },
  {
   "cell_type": "code",
   "execution_count": null,
   "id": "5b729786-24bd-400d-bea8-7c69c94563ad",
   "metadata": {},
   "outputs": [],
   "source": []
  }
 ],
 "metadata": {
  "kernelspec": {
   "display_name": "Python 3 (ipykernel)",
   "language": "python",
   "name": "python3"
  },
  "language_info": {
   "codemirror_mode": {
    "name": "ipython",
    "version": 3
   },
   "file_extension": ".py",
   "mimetype": "text/x-python",
   "name": "python",
   "nbconvert_exporter": "python",
   "pygments_lexer": "ipython3",
   "version": "3.9.10"
  }
 },
 "nbformat": 4,
 "nbformat_minor": 5
}
