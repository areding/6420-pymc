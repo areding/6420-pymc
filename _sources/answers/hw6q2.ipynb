{
 "cells": [
  {
   "cell_type": "code",
   "execution_count": 36,
   "id": "1b666f80-b5ca-4bcc-a1e0-79222b533b74",
   "metadata": {},
   "outputs": [],
   "source": [
    "import arviz as az\n",
    "import numpy as np\n",
    "import pandas as pd\n",
    "import pymc as pm\n",
    "import aesara\n"
   ]
  },
  {
   "cell_type": "code",
   "execution_count": 37,
   "id": "2b6762c1-e14f-4fa8-ab41-1f700f5ad3ee",
   "metadata": {},
   "outputs": [
    {
     "data": {
      "text/plain": [
       "'/Users/aaron/mambaforge/envs/pymc-dev-py39/lib/python3.9/site-packages/aesara/__init__.py'"
      ]
     },
     "execution_count": 37,
     "metadata": {},
     "output_type": "execute_result"
    }
   ],
   "source": [
    "aesara.__file__"
   ]
  },
  {
   "cell_type": "code",
   "execution_count": 38,
   "id": "33978eec-08a1-41f4-963b-905b01c48373",
   "metadata": {},
   "outputs": [
    {
     "data": {
      "text/plain": [
       "'2.5.1'"
      ]
     },
     "execution_count": 38,
     "metadata": {},
     "output_type": "execute_result"
    }
   ],
   "source": [
    "aesara.__version__"
   ]
  },
  {
   "cell_type": "code",
   "execution_count": 52,
   "id": "5bcc7009-af44-4c1c-9e12-274090d18ae2",
   "metadata": {},
   "outputs": [
    {
     "name": "stdout",
     "output_type": "stream",
     "text": [
      "ERROR! Session/line number was not unique in database. History logging moved to new session 635\n"
     ]
    }
   ],
   "source": [
    "aesara.config.optimizer=\"None\""
   ]
  },
  {
   "cell_type": "code",
   "execution_count": 54,
   "id": "c14ffbe0-d3d3-4d33-8f02-d147e657f10d",
   "metadata": {},
   "outputs": [],
   "source": [
    "aesara.config.exception_verbosity=\"high\""
   ]
  },
  {
   "cell_type": "code",
   "execution_count": 53,
   "id": "b655e287-e379-4d02-ac79-d7f2af665656",
   "metadata": {},
   "outputs": [
    {
     "data": {
      "text/plain": [
       "'None'"
      ]
     },
     "execution_count": 53,
     "metadata": {},
     "output_type": "execute_result"
    },
    {
     "name": "stdout",
     "output_type": "stream",
     "text": [
      "ERROR! Session/line number was not unique in database. History logging moved to new session 636\n"
     ]
    }
   ],
   "source": [
    "aesara.config.optimizer"
   ]
  },
  {
   "cell_type": "code",
   "execution_count": 55,
   "id": "1b791e41-d7a1-4649-ac99-7fd83a051f6e",
   "metadata": {},
   "outputs": [
    {
     "data": {
      "text/plain": [
       "'high'"
      ]
     },
     "execution_count": 55,
     "metadata": {},
     "output_type": "execute_result"
    }
   ],
   "source": [
    "aesara.config.exception_verbosity"
   ]
  },
  {
   "cell_type": "code",
   "execution_count": 46,
   "id": "3f89aa0e-1a02-477d-8ff2-36e7ff74e54b",
   "metadata": {},
   "outputs": [
    {
     "data": {
      "text/plain": [
       "True"
      ]
     },
     "execution_count": 46,
     "metadata": {},
     "output_type": "execute_result"
    }
   ],
   "source": [
    "aesara.config.print_active_device"
   ]
  },
  {
   "cell_type": "code",
   "execution_count": 2,
   "id": "b2790dae-a4fd-4121-8967-b7454f89a76e",
   "metadata": {},
   "outputs": [],
   "source": [
    "data = pd.read_csv(\"bladderc.csv\")"
   ]
  },
  {
   "cell_type": "code",
   "execution_count": 3,
   "id": "a6d26a94-08a5-43e1-9c86-bfc020893840",
   "metadata": {},
   "outputs": [
    {
     "data": {
      "text/html": [
       "<div>\n",
       "<style scoped>\n",
       "    .dataframe tbody tr th:only-of-type {\n",
       "        vertical-align: middle;\n",
       "    }\n",
       "\n",
       "    .dataframe tbody tr th {\n",
       "        vertical-align: top;\n",
       "    }\n",
       "\n",
       "    .dataframe thead th {\n",
       "        text-align: right;\n",
       "    }\n",
       "</style>\n",
       "<table border=\"1\" class=\"dataframe\">\n",
       "  <thead>\n",
       "    <tr style=\"text-align: right;\">\n",
       "      <th></th>\n",
       "      <th>time</th>\n",
       "      <th>observed</th>\n",
       "      <th>group</th>\n",
       "    </tr>\n",
       "  </thead>\n",
       "  <tbody>\n",
       "    <tr>\n",
       "      <th>0</th>\n",
       "      <td>0</td>\n",
       "      <td>0</td>\n",
       "      <td>0</td>\n",
       "    </tr>\n",
       "    <tr>\n",
       "      <th>1</th>\n",
       "      <td>1</td>\n",
       "      <td>0</td>\n",
       "      <td>0</td>\n",
       "    </tr>\n",
       "    <tr>\n",
       "      <th>2</th>\n",
       "      <td>4</td>\n",
       "      <td>0</td>\n",
       "      <td>0</td>\n",
       "    </tr>\n",
       "    <tr>\n",
       "      <th>3</th>\n",
       "      <td>7</td>\n",
       "      <td>0</td>\n",
       "      <td>0</td>\n",
       "    </tr>\n",
       "    <tr>\n",
       "      <th>4</th>\n",
       "      <td>10</td>\n",
       "      <td>0</td>\n",
       "      <td>0</td>\n",
       "    </tr>\n",
       "    <tr>\n",
       "      <th>5</th>\n",
       "      <td>6</td>\n",
       "      <td>1</td>\n",
       "      <td>0</td>\n",
       "    </tr>\n",
       "    <tr>\n",
       "      <th>6</th>\n",
       "      <td>14</td>\n",
       "      <td>0</td>\n",
       "      <td>0</td>\n",
       "    </tr>\n",
       "    <tr>\n",
       "      <th>7</th>\n",
       "      <td>18</td>\n",
       "      <td>0</td>\n",
       "      <td>0</td>\n",
       "    </tr>\n",
       "    <tr>\n",
       "      <th>8</th>\n",
       "      <td>5</td>\n",
       "      <td>1</td>\n",
       "      <td>0</td>\n",
       "    </tr>\n",
       "    <tr>\n",
       "      <th>9</th>\n",
       "      <td>12</td>\n",
       "      <td>1</td>\n",
       "      <td>0</td>\n",
       "    </tr>\n",
       "    <tr>\n",
       "      <th>10</th>\n",
       "      <td>23</td>\n",
       "      <td>0</td>\n",
       "      <td>0</td>\n",
       "    </tr>\n",
       "    <tr>\n",
       "      <th>11</th>\n",
       "      <td>10</td>\n",
       "      <td>1</td>\n",
       "      <td>0</td>\n",
       "    </tr>\n",
       "    <tr>\n",
       "      <th>12</th>\n",
       "      <td>3</td>\n",
       "      <td>1</td>\n",
       "      <td>0</td>\n",
       "    </tr>\n",
       "    <tr>\n",
       "      <th>13</th>\n",
       "      <td>3</td>\n",
       "      <td>1</td>\n",
       "      <td>0</td>\n",
       "    </tr>\n",
       "    <tr>\n",
       "      <th>14</th>\n",
       "      <td>7</td>\n",
       "      <td>1</td>\n",
       "      <td>0</td>\n",
       "    </tr>\n",
       "    <tr>\n",
       "      <th>15</th>\n",
       "      <td>3</td>\n",
       "      <td>1</td>\n",
       "      <td>0</td>\n",
       "    </tr>\n",
       "    <tr>\n",
       "      <th>16</th>\n",
       "      <td>26</td>\n",
       "      <td>0</td>\n",
       "      <td>0</td>\n",
       "    </tr>\n",
       "    <tr>\n",
       "      <th>17</th>\n",
       "      <td>1</td>\n",
       "      <td>1</td>\n",
       "      <td>0</td>\n",
       "    </tr>\n",
       "    <tr>\n",
       "      <th>18</th>\n",
       "      <td>2</td>\n",
       "      <td>1</td>\n",
       "      <td>0</td>\n",
       "    </tr>\n",
       "    <tr>\n",
       "      <th>19</th>\n",
       "      <td>25</td>\n",
       "      <td>1</td>\n",
       "      <td>0</td>\n",
       "    </tr>\n",
       "  </tbody>\n",
       "</table>\n",
       "</div>"
      ],
      "text/plain": [
       "    time  observed  group\n",
       "0      0         0      0\n",
       "1      1         0      0\n",
       "2      4         0      0\n",
       "3      7         0      0\n",
       "4     10         0      0\n",
       "5      6         1      0\n",
       "6     14         0      0\n",
       "7     18         0      0\n",
       "8      5         1      0\n",
       "9     12         1      0\n",
       "10    23         0      0\n",
       "11    10         1      0\n",
       "12     3         1      0\n",
       "13     3         1      0\n",
       "14     7         1      0\n",
       "15     3         1      0\n",
       "16    26         0      0\n",
       "17     1         1      0\n",
       "18     2         1      0\n",
       "19    25         1      0"
      ]
     },
     "execution_count": 3,
     "metadata": {},
     "output_type": "execute_result"
    }
   ],
   "source": [
    "data.head(20)"
   ]
  },
  {
   "cell_type": "markdown",
   "id": "8910045d-0a19-45ba-a4cb-acccd5832c01",
   "metadata": {},
   "source": [
    "So if we oberved the tumor, we want to right-censor the data. If not, we don't."
   ]
  },
  {
   "cell_type": "code",
   "execution_count": 30,
   "id": "9de1a8d9-2f27-4456-b0a2-97cbc54631a0",
   "metadata": {
    "tags": []
   },
   "outputs": [],
   "source": [
    "data[\"censored\"] = 0.0\n",
    "data.loc[data[\"observed\"] == 0, \"censored\"] = data[\"time\"]\n",
    "data.loc[data[\"observed\"] == 1, \"censored\"] = np.inf\n",
    "\n",
    "y = data[\"time\"].to_numpy(copy=True)\n",
    "x = data[\"group\"].to_numpy(copy=True)\n",
    "censored = data[\"censored\"].to_numpy(copy=True)"
   ]
  },
  {
   "cell_type": "code",
   "execution_count": 49,
   "id": "2ab84e97-c475-4a31-ad50-00359ea66a35",
   "metadata": {},
   "outputs": [],
   "source": [
    "y = y.astype(float)"
   ]
  },
  {
   "cell_type": "code",
   "execution_count": 50,
   "id": "2af68481-c796-4cad-a0dc-e2e9747ec36d",
   "metadata": {},
   "outputs": [],
   "source": [
    "x = x.astype(float)"
   ]
  },
  {
   "cell_type": "code",
   "execution_count": 8,
   "id": "0b0d501c-cb19-4d26-bba3-0f080346dae3",
   "metadata": {},
   "outputs": [
    {
     "data": {
      "text/plain": [
       "array([ 0.,  1.,  4.,  7., 10.,  6., 14., 18.,  5., 12., 23., 10.,  3.,\n",
       "        3.,  7.,  3., 26.,  1.,  2., 25., 29., 29., 29., 28.,  2.,  3.,\n",
       "       12., 32., 34., 36., 29., 37.,  9., 16., 41.,  3.,  6.,  3.,  9.,\n",
       "       18., 49., 35., 17.,  3., 59.,  2.,  5.,  2.,  1.,  1.,  5.,  9.,\n",
       "       10., 13.,  3.,  1., 18., 17.,  2., 17., 22., 25., 25., 25.,  6.,\n",
       "        6.,  2., 26., 38., 22.,  4., 24., 41., 41.,  1., 44.,  2., 45.,\n",
       "        2., 46., 49., 50.,  4., 54., 38., 59.])"
      ]
     },
     "execution_count": 8,
     "metadata": {},
     "output_type": "execute_result"
    }
   ],
   "source": [
    "y"
   ]
  },
  {
   "cell_type": "code",
   "execution_count": 27,
   "id": "17e506dd-4f15-464f-abae-3e8cb2eb5134",
   "metadata": {},
   "outputs": [
    {
     "data": {
      "text/plain": [
       "array([ 0.,  1.,  4.,  7., 10., inf, 14., 18., inf, inf, 23., inf, inf,\n",
       "       inf, inf, inf, 26., inf, inf, inf, 29., 29., 29., inf, inf, inf,\n",
       "       inf, 32., 34., 36., inf, 37., inf, inf, 41., inf, inf, inf, inf,\n",
       "       inf, 49., inf, inf, inf, 59., inf, inf, inf,  1.,  1., inf,  9.,\n",
       "       10., 13., inf, inf, 18., inf, inf, inf, 22., 25., 25., 25., inf,\n",
       "       inf, inf, inf, 38., inf, inf, inf, 41., 41., inf, 44., inf, 45.,\n",
       "       inf, 46., 49., 50., inf, 54., inf, 59.])"
      ]
     },
     "execution_count": 27,
     "metadata": {},
     "output_type": "execute_result"
    },
    {
     "name": "stdout",
     "output_type": "stream",
     "text": [
      "ERROR! Session/line number was not unique in database. History logging moved to new session 634\n"
     ]
    }
   ],
   "source": [
    "censored"
   ]
  },
  {
   "cell_type": "code",
   "execution_count": 28,
   "id": "bdb2ce3d-515d-412e-a199-187b55de44ac",
   "metadata": {},
   "outputs": [
    {
     "data": {
      "text/plain": [
       "array([ True,  True,  True,  True,  True, False,  True,  True, False,\n",
       "       False,  True, False, False, False, False, False,  True, False,\n",
       "       False, False,  True,  True,  True, False, False, False, False,\n",
       "        True,  True,  True, False,  True, False, False,  True, False,\n",
       "       False, False, False, False,  True, False, False, False,  True,\n",
       "       False, False, False,  True,  True, False,  True,  True,  True,\n",
       "       False, False,  True, False, False, False,  True,  True,  True,\n",
       "        True, False, False, False, False,  True, False, False, False,\n",
       "        True,  True, False,  True, False,  True, False,  True,  True,\n",
       "        True, False,  True, False,  True])"
      ]
     },
     "execution_count": 28,
     "metadata": {},
     "output_type": "execute_result"
    }
   ],
   "source": [
    "censored == y"
   ]
  },
  {
   "cell_type": "code",
   "execution_count": 67,
   "id": "baf6d6f6-98ba-493b-96b5-7ea5cf1821c1",
   "metadata": {},
   "outputs": [
    {
     "data": {
      "text/plain": [
       "array([False, False, False, False, False,  True, False, False,  True,\n",
       "        True, False,  True,  True,  True,  True,  True, False,  True,\n",
       "        True,  True, False, False, False,  True,  True,  True,  True,\n",
       "       False, False, False,  True, False,  True,  True, False,  True,\n",
       "        True,  True,  True,  True, False,  True,  True,  True, False,\n",
       "        True,  True,  True, False, False,  True, False, False, False,\n",
       "        True,  True, False,  True,  True,  True, False, False, False,\n",
       "       False,  True,  True,  True,  True, False,  True,  True,  True,\n",
       "       False, False,  True, False,  True, False,  True, False, False,\n",
       "       False,  True, False,  True, False])"
      ]
     },
     "execution_count": 67,
     "metadata": {},
     "output_type": "execute_result"
    }
   ],
   "source": [
    "censored > y"
   ]
  },
  {
   "cell_type": "code",
   "execution_count": 68,
   "id": "8507fc39-359a-4336-b40f-8b5bd9ea11e0",
   "metadata": {},
   "outputs": [
    {
     "data": {
      "text/plain": [
       "array([False, False, False, False, False, False, False, False, False,\n",
       "       False, False, False, False, False, False, False, False, False,\n",
       "       False, False, False, False, False, False, False, False, False,\n",
       "       False, False, False, False, False, False, False, False, False,\n",
       "       False, False, False, False, False, False, False, False, False,\n",
       "       False, False, False, False, False, False, False, False, False,\n",
       "       False, False, False, False, False, False, False, False, False,\n",
       "       False, False, False, False, False, False, False, False, False,\n",
       "       False, False, False, False, False, False, False, False, False,\n",
       "       False, False, False, False, False])"
      ]
     },
     "execution_count": 68,
     "metadata": {},
     "output_type": "execute_result"
    }
   ],
   "source": [
    "censored < y"
   ]
  },
  {
   "cell_type": "code",
   "execution_count": 72,
   "id": "6aa3293c-0c97-45e3-b378-6bfea98bfe0c",
   "metadata": {},
   "outputs": [
    {
     "data": {
      "text/plain": [
       "86"
      ]
     },
     "execution_count": 72,
     "metadata": {},
     "output_type": "execute_result"
    }
   ],
   "source": [
    "len(x)"
   ]
  },
  {
   "cell_type": "code",
   "execution_count": 66,
   "id": "617bdeae-b840-4f48-b71e-7dd36f6345f4",
   "metadata": {},
   "outputs": [
    {
     "ename": "SamplingError",
     "evalue": "Initial evaluation of model at starting point failed!\nStarting values:\n{'beta0': array(-2.), 'beta1': array(-2.)}\n\nInitial evaluation results:\n{'beta0': -1.84, 'beta1': -1.84, 'likelihood': -inf}",
     "output_type": "error",
     "traceback": [
      "\u001b[0;31m---------------------------------------------------------------------------\u001b[0m",
      "\u001b[0;31mSamplingError\u001b[0m                             Traceback (most recent call last)",
      "Input \u001b[0;32mIn [66]\u001b[0m, in \u001b[0;36m<cell line: 4>\u001b[0;34m()\u001b[0m\n\u001b[1;32m     16\u001b[0m     likelihood \u001b[38;5;241m=\u001b[39m pm\u001b[38;5;241m.\u001b[39mCensored(\n\u001b[1;32m     17\u001b[0m         \u001b[38;5;124m\"\u001b[39m\u001b[38;5;124mlikelihood\u001b[39m\u001b[38;5;124m\"\u001b[39m, obs_latent, lower\u001b[38;5;241m=\u001b[39m\u001b[38;5;28;01mNone\u001b[39;00m, upper\u001b[38;5;241m=\u001b[39mcensored, observed\u001b[38;5;241m=\u001b[39my\n\u001b[1;32m     18\u001b[0m     )\n\u001b[1;32m     20\u001b[0m     \u001b[38;5;66;03m#mu0 = pm.Deterministic(\"mu0\", exp(-beta0))\u001b[39;00m\n\u001b[1;32m     21\u001b[0m     \u001b[38;5;66;03m#mu1 = pm.Deterministic(\"mu1\", exp(-beta0 - beta1))\u001b[39;00m\n\u001b[1;32m     22\u001b[0m \n\u001b[1;32m     23\u001b[0m     \u001b[38;5;66;03m#mu_diff = pm.Deterministic(\"mu_diff\", mu1 - mu0)\u001b[39;00m\n\u001b[1;32m     24\u001b[0m \n\u001b[1;32m     25\u001b[0m     \u001b[38;5;66;03m#H_prob = pm.Deterministic(\"H_prob\", switch(ge(mu_diff, 0), 1, 0))\u001b[39;00m\n\u001b[0;32m---> 27\u001b[0m     trace \u001b[38;5;241m=\u001b[39m \u001b[43mpm\u001b[49m\u001b[38;5;241;43m.\u001b[39;49m\u001b[43msample\u001b[49m\u001b[43m(\u001b[49m\n\u001b[1;32m     28\u001b[0m \u001b[43m        \u001b[49m\u001b[38;5;241;43m3000\u001b[39;49m\u001b[43m,\u001b[49m\n\u001b[1;32m     29\u001b[0m \u001b[43m        \u001b[49m\u001b[43mchains\u001b[49m\u001b[38;5;241;43m=\u001b[39;49m\u001b[38;5;241;43m4\u001b[39;49m\u001b[43m,\u001b[49m\n\u001b[1;32m     30\u001b[0m \u001b[43m        \u001b[49m\u001b[43mtune\u001b[49m\u001b[38;5;241;43m=\u001b[39;49m\u001b[38;5;241;43m1000\u001b[39;49m\u001b[43m,\u001b[49m\n\u001b[1;32m     31\u001b[0m \u001b[43m        \u001b[49m\u001b[43mcores\u001b[49m\u001b[38;5;241;43m=\u001b[39;49m\u001b[38;5;241;43m4\u001b[39;49m\u001b[43m,\u001b[49m\n\u001b[1;32m     32\u001b[0m \u001b[43m        \u001b[49m\u001b[43minit\u001b[49m\u001b[38;5;241;43m=\u001b[39;49m\u001b[38;5;124;43m\"\u001b[39;49m\u001b[38;5;124;43madapt_diag\u001b[39;49m\u001b[38;5;124;43m\"\u001b[39;49m\u001b[43m,\u001b[49m\n\u001b[1;32m     33\u001b[0m \u001b[43m        \u001b[49m\u001b[43mreturn_inferencedata\u001b[49m\u001b[38;5;241;43m=\u001b[39;49m\u001b[38;5;28;43;01mTrue\u001b[39;49;00m\u001b[43m,\u001b[49m\n\u001b[1;32m     34\u001b[0m \u001b[43m        \u001b[49m\u001b[43mstep\u001b[49m\u001b[38;5;241;43m=\u001b[39;49m\u001b[43m[\u001b[49m\u001b[43mpm\u001b[49m\u001b[38;5;241;43m.\u001b[39;49m\u001b[43mNUTS\u001b[49m\u001b[43m(\u001b[49m\u001b[43mtarget_accept\u001b[49m\u001b[38;5;241;43m=\u001b[39;49m\u001b[38;5;241;43m.9\u001b[39;49m\u001b[43m)\u001b[49m\u001b[43m]\u001b[49m\n\u001b[1;32m     35\u001b[0m \u001b[43m    \u001b[49m\u001b[43m)\u001b[49m\n\u001b[1;32m     37\u001b[0m az\u001b[38;5;241m.\u001b[39msummary(trace, hdi_prob\u001b[38;5;241m=\u001b[39m\u001b[38;5;241m0.9\u001b[39m)\n",
      "File \u001b[0;32m~/mambaforge/envs/pymc-dev-py39/lib/python3.9/site-packages/pymc/sampling.py:487\u001b[0m, in \u001b[0;36msample\u001b[0;34m(draws, step, init, n_init, initvals, trace, chain_idx, chains, cores, tune, progressbar, model, random_seed, discard_tuned_samples, compute_convergence_checks, callback, jitter_max_retries, return_inferencedata, idata_kwargs, mp_ctx, **kwargs)\u001b[0m\n\u001b[1;32m    485\u001b[0m \u001b[38;5;66;03m# One final check that shapes and logps at the starting points are okay.\u001b[39;00m\n\u001b[1;32m    486\u001b[0m \u001b[38;5;28;01mfor\u001b[39;00m ip \u001b[38;5;129;01min\u001b[39;00m initial_points:\n\u001b[0;32m--> 487\u001b[0m     \u001b[43mmodel\u001b[49m\u001b[38;5;241;43m.\u001b[39;49m\u001b[43mcheck_start_vals\u001b[49m\u001b[43m(\u001b[49m\u001b[43mip\u001b[49m\u001b[43m)\u001b[49m\n\u001b[1;32m    488\u001b[0m     _check_start_shape(model, ip)\n\u001b[1;32m    490\u001b[0m sample_args \u001b[38;5;241m=\u001b[39m {\n\u001b[1;32m    491\u001b[0m     \u001b[38;5;124m\"\u001b[39m\u001b[38;5;124mdraws\u001b[39m\u001b[38;5;124m\"\u001b[39m: draws,\n\u001b[1;32m    492\u001b[0m     \u001b[38;5;124m\"\u001b[39m\u001b[38;5;124mstep\u001b[39m\u001b[38;5;124m\"\u001b[39m: step,\n\u001b[0;32m   (...)\u001b[0m\n\u001b[1;32m    503\u001b[0m     \u001b[38;5;124m\"\u001b[39m\u001b[38;5;124mdiscard_tuned_samples\u001b[39m\u001b[38;5;124m\"\u001b[39m: discard_tuned_samples,\n\u001b[1;32m    504\u001b[0m }\n",
      "File \u001b[0;32m~/mambaforge/envs/pymc-dev-py39/lib/python3.9/site-packages/pymc/model.py:1683\u001b[0m, in \u001b[0;36mModel.check_start_vals\u001b[0;34m(self, start)\u001b[0m\n\u001b[1;32m   1680\u001b[0m initial_eval \u001b[38;5;241m=\u001b[39m \u001b[38;5;28mself\u001b[39m\u001b[38;5;241m.\u001b[39mpoint_logps(point\u001b[38;5;241m=\u001b[39melem)\n\u001b[1;32m   1682\u001b[0m \u001b[38;5;28;01mif\u001b[39;00m \u001b[38;5;129;01mnot\u001b[39;00m \u001b[38;5;28mall\u001b[39m(np\u001b[38;5;241m.\u001b[39misfinite(v) \u001b[38;5;28;01mfor\u001b[39;00m v \u001b[38;5;129;01min\u001b[39;00m initial_eval\u001b[38;5;241m.\u001b[39mvalues()):\n\u001b[0;32m-> 1683\u001b[0m     \u001b[38;5;28;01mraise\u001b[39;00m SamplingError(\n\u001b[1;32m   1684\u001b[0m         \u001b[38;5;124m\"\u001b[39m\u001b[38;5;124mInitial evaluation of model at starting point failed!\u001b[39m\u001b[38;5;130;01m\\n\u001b[39;00m\u001b[38;5;124m\"\u001b[39m\n\u001b[1;32m   1685\u001b[0m         \u001b[38;5;124mf\u001b[39m\u001b[38;5;124m\"\u001b[39m\u001b[38;5;124mStarting values:\u001b[39m\u001b[38;5;130;01m\\n\u001b[39;00m\u001b[38;5;132;01m{\u001b[39;00melem\u001b[38;5;132;01m}\u001b[39;00m\u001b[38;5;130;01m\\n\u001b[39;00m\u001b[38;5;130;01m\\n\u001b[39;00m\u001b[38;5;124m\"\u001b[39m\n\u001b[1;32m   1686\u001b[0m         \u001b[38;5;124mf\u001b[39m\u001b[38;5;124m\"\u001b[39m\u001b[38;5;124mInitial evaluation results:\u001b[39m\u001b[38;5;130;01m\\n\u001b[39;00m\u001b[38;5;132;01m{\u001b[39;00minitial_eval\u001b[38;5;132;01m}\u001b[39;00m\u001b[38;5;124m\"\u001b[39m\n\u001b[1;32m   1687\u001b[0m     )\n",
      "\u001b[0;31mSamplingError\u001b[0m: Initial evaluation of model at starting point failed!\nStarting values:\n{'beta0': array(-2.), 'beta1': array(-2.)}\n\nInitial evaluation results:\n{'beta0': -1.84, 'beta1': -1.84, 'likelihood': -inf}"
     ]
    }
   ],
   "source": [
    "# right-censored model\n",
    "# inits = {'beta0': np.array(.1), 'beta1': np.array(.1)}\n",
    "\n",
    "with pm.Model() as m:\n",
    "    beta0 = pm.Cauchy(\"beta0\", alpha=-2, beta=2)\n",
    "    beta1 = pm.Cauchy(\"beta1\", alpha=-2, beta=2)\n",
    "    \n",
    "    λ = aesara.tensor.exp(beta0 + beta1 * x)\n",
    "    \n",
    "    #λ_prop = exp(beta0 + beta1 * x)    \n",
    "    #λ = switch(le(λ_prop, 1), 1, λ_prop)\n",
    "    \n",
    "    #obs_latent = pm.Exponential(\"ol\", lam=λ, observed=y)\n",
    "    obs_latent = pm.Exponential.dist(lam=λ+1000)\n",
    "        \n",
    "    likelihood = pm.Censored(\n",
    "        \"likelihood\", obs_latent, lower=None, upper=censored, observed=y\n",
    "    )\n",
    "\n",
    "    #mu0 = pm.Deterministic(\"mu0\", exp(-beta0))\n",
    "    #mu1 = pm.Deterministic(\"mu1\", exp(-beta0 - beta1))\n",
    "\n",
    "    #mu_diff = pm.Deterministic(\"mu_diff\", mu1 - mu0)\n",
    "\n",
    "    #H_prob = pm.Deterministic(\"H_prob\", switch(ge(mu_diff, 0), 1, 0))\n",
    "\n",
    "    trace = pm.sample(\n",
    "        3000,\n",
    "        chains=4,\n",
    "        tune=1000,\n",
    "        cores=4,\n",
    "        init=\"adapt_diag\",\n",
    "        return_inferencedata=True,\n",
    "        step=[pm.NUTS(target_accept=.9)]\n",
    "    )\n",
    "\n",
    "az.summary(trace, hdi_prob=0.9)"
   ]
  },
  {
   "cell_type": "code",
   "execution_count": null,
   "id": "0f943498-d4ac-46f2-b62e-2254e9c29dff",
   "metadata": {},
   "outputs": [],
   "source": [
    "az.summary(trace, hdi_prob=0.9)"
   ]
  },
  {
   "cell_type": "code",
   "execution_count": null,
   "id": "08e26eae-44a2-4506-9380-7a1e99c06021",
   "metadata": {},
   "outputs": [],
   "source": [
    "    "
   ]
  }
 ],
 "metadata": {
  "kernelspec": {
   "display_name": "Python 3 (ipykernel)",
   "language": "python",
   "name": "python3"
  },
  "language_info": {
   "codemirror_mode": {
    "name": "ipython",
    "version": 3
   },
   "file_extension": ".py",
   "mimetype": "text/x-python",
   "name": "python",
   "nbconvert_exporter": "python",
   "pygments_lexer": "ipython3",
   "version": "3.9.10"
  }
 },
 "nbformat": 4,
 "nbformat_minor": 5
}
