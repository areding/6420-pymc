{
 "cells": [
  {
   "cell_type": "code",
   "execution_count": 1,
   "id": "1b666f80-b5ca-4bcc-a1e0-79222b533b74",
   "metadata": {},
   "outputs": [],
   "source": [
    "import arviz as az\n",
    "import numpy as np\n",
    "import pandas as pd\n",
    "import pymc as pm\n",
    "from pymc.math import exp, ge, switch"
   ]
  },
  {
   "cell_type": "code",
   "execution_count": 2,
   "id": "b2790dae-a4fd-4121-8967-b7454f89a76e",
   "metadata": {},
   "outputs": [],
   "source": [
    "data = pd.read_csv(\"bladderc.csv\")"
   ]
  },
  {
   "cell_type": "code",
   "execution_count": 3,
   "id": "a6d26a94-08a5-43e1-9c86-bfc020893840",
   "metadata": {},
   "outputs": [
    {
     "data": {
      "text/html": [
       "<div>\n",
       "<style scoped>\n",
       "    .dataframe tbody tr th:only-of-type {\n",
       "        vertical-align: middle;\n",
       "    }\n",
       "\n",
       "    .dataframe tbody tr th {\n",
       "        vertical-align: top;\n",
       "    }\n",
       "\n",
       "    .dataframe thead th {\n",
       "        text-align: right;\n",
       "    }\n",
       "</style>\n",
       "<table border=\"1\" class=\"dataframe\">\n",
       "  <thead>\n",
       "    <tr style=\"text-align: right;\">\n",
       "      <th></th>\n",
       "      <th>time</th>\n",
       "      <th>observed</th>\n",
       "      <th>group</th>\n",
       "    </tr>\n",
       "  </thead>\n",
       "  <tbody>\n",
       "    <tr>\n",
       "      <th>0</th>\n",
       "      <td>0</td>\n",
       "      <td>0</td>\n",
       "      <td>0</td>\n",
       "    </tr>\n",
       "    <tr>\n",
       "      <th>1</th>\n",
       "      <td>1</td>\n",
       "      <td>0</td>\n",
       "      <td>0</td>\n",
       "    </tr>\n",
       "    <tr>\n",
       "      <th>2</th>\n",
       "      <td>4</td>\n",
       "      <td>0</td>\n",
       "      <td>0</td>\n",
       "    </tr>\n",
       "    <tr>\n",
       "      <th>3</th>\n",
       "      <td>7</td>\n",
       "      <td>0</td>\n",
       "      <td>0</td>\n",
       "    </tr>\n",
       "    <tr>\n",
       "      <th>4</th>\n",
       "      <td>10</td>\n",
       "      <td>0</td>\n",
       "      <td>0</td>\n",
       "    </tr>\n",
       "    <tr>\n",
       "      <th>5</th>\n",
       "      <td>6</td>\n",
       "      <td>1</td>\n",
       "      <td>0</td>\n",
       "    </tr>\n",
       "    <tr>\n",
       "      <th>6</th>\n",
       "      <td>14</td>\n",
       "      <td>0</td>\n",
       "      <td>0</td>\n",
       "    </tr>\n",
       "    <tr>\n",
       "      <th>7</th>\n",
       "      <td>18</td>\n",
       "      <td>0</td>\n",
       "      <td>0</td>\n",
       "    </tr>\n",
       "    <tr>\n",
       "      <th>8</th>\n",
       "      <td>5</td>\n",
       "      <td>1</td>\n",
       "      <td>0</td>\n",
       "    </tr>\n",
       "    <tr>\n",
       "      <th>9</th>\n",
       "      <td>12</td>\n",
       "      <td>1</td>\n",
       "      <td>0</td>\n",
       "    </tr>\n",
       "    <tr>\n",
       "      <th>10</th>\n",
       "      <td>23</td>\n",
       "      <td>0</td>\n",
       "      <td>0</td>\n",
       "    </tr>\n",
       "    <tr>\n",
       "      <th>11</th>\n",
       "      <td>10</td>\n",
       "      <td>1</td>\n",
       "      <td>0</td>\n",
       "    </tr>\n",
       "    <tr>\n",
       "      <th>12</th>\n",
       "      <td>3</td>\n",
       "      <td>1</td>\n",
       "      <td>0</td>\n",
       "    </tr>\n",
       "    <tr>\n",
       "      <th>13</th>\n",
       "      <td>3</td>\n",
       "      <td>1</td>\n",
       "      <td>0</td>\n",
       "    </tr>\n",
       "    <tr>\n",
       "      <th>14</th>\n",
       "      <td>7</td>\n",
       "      <td>1</td>\n",
       "      <td>0</td>\n",
       "    </tr>\n",
       "    <tr>\n",
       "      <th>15</th>\n",
       "      <td>3</td>\n",
       "      <td>1</td>\n",
       "      <td>0</td>\n",
       "    </tr>\n",
       "    <tr>\n",
       "      <th>16</th>\n",
       "      <td>26</td>\n",
       "      <td>0</td>\n",
       "      <td>0</td>\n",
       "    </tr>\n",
       "    <tr>\n",
       "      <th>17</th>\n",
       "      <td>1</td>\n",
       "      <td>1</td>\n",
       "      <td>0</td>\n",
       "    </tr>\n",
       "    <tr>\n",
       "      <th>18</th>\n",
       "      <td>2</td>\n",
       "      <td>1</td>\n",
       "      <td>0</td>\n",
       "    </tr>\n",
       "    <tr>\n",
       "      <th>19</th>\n",
       "      <td>25</td>\n",
       "      <td>1</td>\n",
       "      <td>0</td>\n",
       "    </tr>\n",
       "  </tbody>\n",
       "</table>\n",
       "</div>"
      ],
      "text/plain": [
       "    time  observed  group\n",
       "0      0         0      0\n",
       "1      1         0      0\n",
       "2      4         0      0\n",
       "3      7         0      0\n",
       "4     10         0      0\n",
       "5      6         1      0\n",
       "6     14         0      0\n",
       "7     18         0      0\n",
       "8      5         1      0\n",
       "9     12         1      0\n",
       "10    23         0      0\n",
       "11    10         1      0\n",
       "12     3         1      0\n",
       "13     3         1      0\n",
       "14     7         1      0\n",
       "15     3         1      0\n",
       "16    26         0      0\n",
       "17     1         1      0\n",
       "18     2         1      0\n",
       "19    25         1      0"
      ]
     },
     "execution_count": 3,
     "metadata": {},
     "output_type": "execute_result"
    }
   ],
   "source": [
    "data.head(20)"
   ]
  },
  {
   "cell_type": "markdown",
   "id": "8910045d-0a19-45ba-a4cb-acccd5832c01",
   "metadata": {},
   "source": [
    "So if we oberved the tumor, we want to right-censor the data. If not, we don't."
   ]
  },
  {
   "cell_type": "code",
   "execution_count": 6,
   "id": "9de1a8d9-2f27-4456-b0a2-97cbc54631a0",
   "metadata": {
    "tags": []
   },
   "outputs": [],
   "source": [
    "data[\"censored\"] = 0.0\n",
    "data.loc[data[\"observed\"] == 0, \"censored\"] = data[\"time\"]\n",
    "data.loc[data[\"observed\"] == 1, \"censored\"] = data[\"time\"] + 1\n",
    "\n",
    "y = data[\"time\"].to_numpy(copy=True)\n",
    "x = data[\"group\"].to_numpy(copy=True)\n",
    "censored = data[\"censored\"].to_numpy(copy=True)"
   ]
  },
  {
   "cell_type": "code",
   "execution_count": 8,
   "id": "2ab84e97-c475-4a31-ad50-00359ea66a35",
   "metadata": {},
   "outputs": [
    {
     "data": {
      "text/plain": [
       "array([ 0,  1,  4,  7, 10,  6, 14, 18,  5, 12, 23, 10,  3,  3,  7,  3, 26,\n",
       "        1,  2, 25, 29, 29, 29, 28,  2,  3, 12, 32, 34, 36, 29, 37,  9, 16,\n",
       "       41,  3,  6,  3,  9, 18, 49, 35, 17,  3, 59,  2,  5,  2,  1,  1,  5,\n",
       "        9, 10, 13,  3,  1, 18, 17,  2, 17, 22, 25, 25, 25,  6,  6,  2, 26,\n",
       "       38, 22,  4, 24, 41, 41,  1, 44,  2, 45,  2, 46, 49, 50,  4, 54, 38,\n",
       "       59])"
      ]
     },
     "execution_count": 8,
     "metadata": {},
     "output_type": "execute_result"
    }
   ],
   "source": []
  },
  {
   "cell_type": "code",
   "execution_count": null,
   "id": "617bdeae-b840-4f48-b71e-7dd36f6345f4",
   "metadata": {},
   "outputs": [
    {
     "name": "stderr",
     "output_type": "stream",
     "text": [
      "Multiprocess sampling (4 chains in 4 jobs)\n",
      "NUTS: [beta0, beta1]\n"
     ]
    },
    {
     "data": {
      "text/html": [
       "\n",
       "<style>\n",
       "    /* Turns off some styling */\n",
       "    progress {\n",
       "        /* gets rid of default border in Firefox and Opera. */\n",
       "        border: none;\n",
       "        /* Needs to be in here for Safari polyfill so background images work as expected. */\n",
       "        background-size: auto;\n",
       "    }\n",
       "    .progress-bar-interrupted, .progress-bar-interrupted::-webkit-progress-bar {\n",
       "        background: #F44336;\n",
       "    }\n",
       "</style>\n"
      ],
      "text/plain": [
       "<IPython.core.display.HTML object>"
      ]
     },
     "metadata": {},
     "output_type": "display_data"
    },
    {
     "data": {
      "text/html": [
       "\n",
       "    <div>\n",
       "      <progress value='320' class='' max='10000' style='width:300px; height:20px; vertical-align: middle;'></progress>\n",
       "      3.20% [320/10000 00:00<00:08 Sampling 4 chains, 0 divergences]\n",
       "    </div>\n",
       "    "
      ],
      "text/plain": [
       "<IPython.core.display.HTML object>"
      ]
     },
     "metadata": {},
     "output_type": "display_data"
    },
    {
     "name": "stderr",
     "output_type": "stream",
     "text": [
      "/Users/aaron/mambaforge/envs/pymc-dev-py39/lib/python3.9/site-packages/pymc/step_methods/hmc/quadpotential.py:258: RuntimeWarning: divide by zero encountered in true_divide\n",
      "  np.divide(1, self._stds, out=self._inv_stds)\n",
      "/Users/aaron/mambaforge/envs/pymc-dev-py39/lib/python3.9/site-packages/pymc/step_methods/hmc/quadpotential.py:237: RuntimeWarning: invalid value encountered in multiply\n",
      "  return np.multiply(self._var, x, out=out)\n",
      "/Users/aaron/mambaforge/envs/pymc-dev-py39/lib/python3.9/site-packages/pymc/step_methods/hmc/quadpotential.py:258: RuntimeWarning: divide by zero encountered in true_divide\n",
      "  np.divide(1, self._stds, out=self._inv_stds)\n",
      "/Users/aaron/mambaforge/envs/pymc-dev-py39/lib/python3.9/site-packages/pymc/step_methods/hmc/quadpotential.py:237: RuntimeWarning: invalid value encountered in multiply\n",
      "  return np.multiply(self._var, x, out=out)\n",
      "/Users/aaron/mambaforge/envs/pymc-dev-py39/lib/python3.9/site-packages/pymc/step_methods/hmc/quadpotential.py:258: RuntimeWarning: divide by zero encountered in true_divide\n",
      "  np.divide(1, self._stds, out=self._inv_stds)\n",
      "/Users/aaron/mambaforge/envs/pymc-dev-py39/lib/python3.9/site-packages/pymc/step_methods/hmc/quadpotential.py:237: RuntimeWarning: invalid value encountered in multiply\n",
      "  return np.multiply(self._var, x, out=out)\n",
      "/Users/aaron/mambaforge/envs/pymc-dev-py39/lib/python3.9/site-packages/pymc/step_methods/hmc/quadpotential.py:258: RuntimeWarning: divide by zero encountered in true_divide\n",
      "  np.divide(1, self._stds, out=self._inv_stds)\n",
      "/Users/aaron/mambaforge/envs/pymc-dev-py39/lib/python3.9/site-packages/pymc/step_methods/hmc/quadpotential.py:237: RuntimeWarning: invalid value encountered in multiply\n",
      "  return np.multiply(self._var, x, out=out)\n"
     ]
    }
   ],
   "source": [
    "# right-censored model\n",
    "#inits = {'beta0': np.array(.1), 'beta1': np.array(.1)}\n",
    "\n",
    "with pm.Model() as m:\n",
    "    beta0 = pm.Normal(\"beta0\", 0, tau=0.0001)\n",
    "    beta1 = pm.Normal(\"beta1\", 0, tau=0.0001)\n",
    "    λ = exp(beta0 + beta1 * x)\n",
    "    obs_latent = pm.Exponential.dist(lam=λ)\n",
    "    likelihood = pm.Censored(\n",
    "        \"likelihood\", obs_latent, lower=None, upper=censored, observed=y\n",
    "    )\n",
    "\n",
    "    mu0 = pm.Deterministic(\"mu0\", exp(-beta0))\n",
    "    mu1 = pm.Deterministic(\"mu1\", exp(-beta0 - beta1))\n",
    "\n",
    "    mu_diff = pm.Deterministic(\"mu_diff\", mu1 - mu0)\n",
    "\n",
    "    H_prob = pm.Deterministic(\"H_prob\", switch(ge(mu_diff, 0), 1, 0))\n",
    "\n",
    "    trace = pm.sample(\n",
    "        2000,  # samples\n",
    "        chains=4,\n",
    "        tune=500,\n",
    "        cores=4,\n",
    "        init=\"jitter+adapt_diag\",\n",
    "        random_seed=1,\n",
    "        return_inferencedata=True,\n",
    "    )\n",
    "\n",
    "az.summary(trace, hdi_prob=0.9)"
   ]
  },
  {
   "cell_type": "code",
   "execution_count": null,
   "id": "2bc9b026-2559-468d-971b-f5c90e3dcf9a",
   "metadata": {},
   "outputs": [
    {
     "name": "stderr",
     "output_type": "stream",
     "text": [
      "Multiprocess sampling (4 chains in 4 jobs)\n",
      "NUTS: [beta0, beta1]\n"
     ]
    },
    {
     "data": {
      "text/html": [
       "\n",
       "<style>\n",
       "    /* Turns off some styling */\n",
       "    progress {\n",
       "        /* gets rid of default border in Firefox and Opera. */\n",
       "        border: none;\n",
       "        /* Needs to be in here for Safari polyfill so background images work as expected. */\n",
       "        background-size: auto;\n",
       "    }\n",
       "    .progress-bar-interrupted, .progress-bar-interrupted::-webkit-progress-bar {\n",
       "        background: #F44336;\n",
       "    }\n",
       "</style>\n"
      ],
      "text/plain": [
       "<IPython.core.display.HTML object>"
      ]
     },
     "metadata": {},
     "output_type": "display_data"
    },
    {
     "data": {
      "text/html": [
       "\n",
       "    <div>\n",
       "      <progress value='5' class='' max='10000' style='width:300px; height:20px; vertical-align: middle;'></progress>\n",
       "      0.05% [5/10000 00:00<00:05 Sampling 4 chains, 0 divergences]\n",
       "    </div>\n",
       "    "
      ],
      "text/plain": [
       "<IPython.core.display.HTML object>"
      ]
     },
     "metadata": {},
     "output_type": "display_data"
    },
    {
     "name": "stderr",
     "output_type": "stream",
     "text": [
      "/Users/aaron/mambaforge/envs/pymc-dev-py39/lib/python3.9/site-packages/pymc/step_methods/hmc/quadpotential.py:258: RuntimeWarning: divide by zero encountered in true_divide\n",
      "  np.divide(1, self._stds, out=self._inv_stds)\n",
      "/Users/aaron/mambaforge/envs/pymc-dev-py39/lib/python3.9/site-packages/pymc/step_methods/hmc/quadpotential.py:237: RuntimeWarning: invalid value encountered in multiply\n",
      "  return np.multiply(self._var, x, out=out)\n",
      "/Users/aaron/mambaforge/envs/pymc-dev-py39/lib/python3.9/site-packages/pymc/step_methods/hmc/quadpotential.py:258: RuntimeWarning: divide by zero encountered in true_divide\n",
      "  np.divide(1, self._stds, out=self._inv_stds)\n",
      "/Users/aaron/mambaforge/envs/pymc-dev-py39/lib/python3.9/site-packages/pymc/step_methods/hmc/quadpotential.py:237: RuntimeWarning: invalid value encountered in multiply\n",
      "  return np.multiply(self._var, x, out=out)\n",
      "/Users/aaron/mambaforge/envs/pymc-dev-py39/lib/python3.9/site-packages/pymc/step_methods/hmc/quadpotential.py:258: RuntimeWarning: divide by zero encountered in true_divide\n",
      "  np.divide(1, self._stds, out=self._inv_stds)\n",
      "/Users/aaron/mambaforge/envs/pymc-dev-py39/lib/python3.9/site-packages/pymc/step_methods/hmc/quadpotential.py:237: RuntimeWarning: invalid value encountered in multiply\n",
      "  return np.multiply(self._var, x, out=out)\n"
     ]
    }
   ],
   "source": [
    "# testing\n",
    "#inits = {'beta0': np.array(.1), 'beta1': np.array(.1)}\n",
    "\n",
    "data = pd.read_csv(\"bladderc.csv\")\n",
    "\n",
    "data[\"censored\"] = 0.0\n",
    "data.loc[data[\"observed\"] == 0, \"censored\"] = data[\"time\"]\n",
    "data.loc[data[\"observed\"] == 1, \"censored\"] = np.inf\n",
    "\n",
    "y = data[\"time\"].to_numpy(copy=True)\n",
    "x = data[\"group\"].to_numpy(copy=True)\n",
    "censored = data[\"censored\"].to_numpy(copy=True)\n",
    "\n",
    "\n",
    "with pm.Model() as m:\n",
    "    x_data = pm.Data(\"x_data\", x, mutable=True)\n",
    "    y_data = pm.Data(\"y_data\", y, mutable=False)\n",
    "    censored_data = pm.Data(\"censored_data\", censored, mutable=True)\n",
    "\n",
    "    beta0 = pm.Normal(\"beta0\", 0, sigma=10)\n",
    "    beta1 = pm.Normal(\"beta1\", 0, sigma=10)\n",
    "    λ = exp(beta0 + beta1 * x_data)\n",
    "    obs_latent = pm.Exponential.dist(lam=λ)\n",
    "    likelihood = pm.Censored(\n",
    "        \"likelihood\", obs_latent, lower=None, upper=censored, observed=y_data\n",
    "    )\n",
    "\n",
    "    mu0 = pm.Deterministic(\"mu0\", exp(-beta0))\n",
    "    mu1 = pm.Deterministic(\"mu1\", exp(-beta0 - beta1))\n",
    "\n",
    "    mu_diff = pm.Deterministic(\"mu_diff\", mu1 - mu0)\n",
    "\n",
    "    H_prob = pm.Deterministic(\"H_prob\", switch(ge(mu_diff, 0), 1, 0))\n",
    "\n",
    "    trace = pm.sample(\n",
    "        2000,  # samples\n",
    "        chains=4,\n",
    "        tune=500,\n",
    "        init=\"adapt_diag\",\n",
    "        random_seed=1,\n",
    "        return_inferencedata=True,\n",
    "    )\n",
    "\n",
    "az.summary(trace, hdi_prob=0.9)"
   ]
  },
  {
   "cell_type": "code",
   "execution_count": 7,
   "id": "0f943498-d4ac-46f2-b62e-2254e9c29dff",
   "metadata": {},
   "outputs": [
    {
     "ename": "NameError",
     "evalue": "name 'trace' is not defined",
     "output_type": "error",
     "traceback": [
      "\u001b[0;31m---------------------------------------------------------------------------\u001b[0m",
      "\u001b[0;31mNameError\u001b[0m                                 Traceback (most recent call last)",
      "Input \u001b[0;32mIn [7]\u001b[0m, in \u001b[0;36m<cell line: 1>\u001b[0;34m()\u001b[0m\n\u001b[0;32m----> 1\u001b[0m az\u001b[38;5;241m.\u001b[39msummary(\u001b[43mtrace\u001b[49m, hdi_prob\u001b[38;5;241m=\u001b[39m\u001b[38;5;241m0.9\u001b[39m)\n",
      "\u001b[0;31mNameError\u001b[0m: name 'trace' is not defined"
     ]
    },
    {
     "name": "stdout",
     "output_type": "stream",
     "text": [
      "ERROR! Session/line number was not unique in database. History logging moved to new session 566\n"
     ]
    }
   ],
   "source": [
    "az.summary(trace, hdi_prob=0.9)"
   ]
  },
  {
   "cell_type": "code",
   "execution_count": null,
   "id": "08e26eae-44a2-4506-9380-7a1e99c06021",
   "metadata": {},
   "outputs": [],
   "source": []
  }
 ],
 "metadata": {
  "kernelspec": {
   "display_name": "Python 3 (ipykernel)",
   "language": "python",
   "name": "python3"
  },
  "language_info": {
   "codemirror_mode": {
    "name": "ipython",
    "version": 3
   },
   "file_extension": ".py",
   "mimetype": "text/x-python",
   "name": "python",
   "nbconvert_exporter": "python",
   "pygments_lexer": "ipython3",
   "version": "3.9.10"
  }
 },
 "nbformat": 4,
 "nbformat_minor": 5
}
