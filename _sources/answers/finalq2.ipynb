{
 "cells": [
  {
   "cell_type": "code",
   "execution_count": 26,
   "id": "47dc7959-0276-411a-82bd-b62baea702ec",
   "metadata": {
    "tags": []
   },
   "outputs": [],
   "source": [
    "import arviz as az\n",
    "import numpy as np\n",
    "import pandas as pd\n",
    "\n",
    "import pymc as pm\n",
    "from pymc import invprobit, probit\n",
    "from pymc.math import exp, sqr"
   ]
  },
  {
   "cell_type": "code",
   "execution_count": 43,
   "id": "53347d0e-15b0-4f99-9e3c-8c043258de08",
   "metadata": {},
   "outputs": [],
   "source": [
    "x = np.array([0, 0, 2.5, 2.5, 5, 5, 7.5, 7.5, 10, 10, 12.5, 12.5, 20, 25, 25])\n",
    "y = np.array([123, 123, 46, 48, 8, 11, 8, 7, 7, 2, 5, 1, 2, 0, 0])"
   ]
  },
  {
   "cell_type": "code",
   "execution_count": 54,
   "id": "e35e66cc-bba6-4f28-a61a-a101b6eda779",
   "metadata": {},
   "outputs": [
    {
     "name": "stderr",
     "output_type": "stream",
     "text": [
      "Multiprocess sampling (4 chains in 4 jobs)\n",
      "NUTS: [θ_1_, θ_3_, θ_4_, θ_2]\n"
     ]
    },
    {
     "data": {
      "text/html": [
       "\n",
       "<style>\n",
       "    /* Turns off some styling */\n",
       "    progress {\n",
       "        /* gets rid of default border in Firefox and Opera. */\n",
       "        border: none;\n",
       "        /* Needs to be in here for Safari polyfill so background images work as expected. */\n",
       "        background-size: auto;\n",
       "    }\n",
       "    .progress-bar-interrupted, .progress-bar-interrupted::-webkit-progress-bar {\n",
       "        background: #F44336;\n",
       "    }\n",
       "</style>\n"
      ],
      "text/plain": [
       "<IPython.core.display.HTML object>"
      ]
     },
     "metadata": {},
     "output_type": "display_data"
    },
    {
     "data": {
      "text/html": [
       "\n",
       "    <div>\n",
       "      <progress value='44000' class='' max='44000' style='width:300px; height:20px; vertical-align: middle;'></progress>\n",
       "      100.00% [44000/44000 00:07<00:00 Sampling 4 chains, 5 divergences]\n",
       "    </div>\n",
       "    "
      ],
      "text/plain": [
       "<IPython.core.display.HTML object>"
      ]
     },
     "metadata": {},
     "output_type": "display_data"
    },
    {
     "name": "stderr",
     "output_type": "stream",
     "text": [
      "/Users/aaron/mambaforge/envs/pymc-dev-py39/lib/python3.9/site-packages/scipy/stats/_continuous_distns.py:624: RuntimeWarning: overflow encountered in _beta_ppf\n",
      "  return _boost._beta_ppf(q, a, b)\n",
      "/Users/aaron/mambaforge/envs/pymc-dev-py39/lib/python3.9/site-packages/scipy/stats/_continuous_distns.py:624: RuntimeWarning: overflow encountered in _beta_ppf\n",
      "  return _boost._beta_ppf(q, a, b)\n",
      "/Users/aaron/mambaforge/envs/pymc-dev-py39/lib/python3.9/site-packages/scipy/stats/_continuous_distns.py:624: RuntimeWarning: overflow encountered in _beta_ppf\n",
      "  return _boost._beta_ppf(q, a, b)\n",
      "/Users/aaron/mambaforge/envs/pymc-dev-py39/lib/python3.9/site-packages/scipy/stats/_continuous_distns.py:624: RuntimeWarning: overflow encountered in _beta_ppf\n",
      "  return _boost._beta_ppf(q, a, b)\n",
      "Sampling 4 chains for 1_000 tune and 10_000 draw iterations (4_000 + 40_000 draws total) took 15 seconds.\n",
      "The acceptance probability does not match the target. It is 0.8874, but should be close to 0.8. Try to increase the number of tuning steps.\n",
      "There were 5 divergences after tuning. Increase `target_accept` or reparameterize.\n"
     ]
    }
   ],
   "source": [
    "with pm.Model() as m:\n",
    "    x_data = pm.MutableData(\"x\", x)\n",
    "\n",
    "    θ_1_ = pm.Normal(\"θ_1_\", 0, tau=.1)\n",
    "    θ_3_ = pm.Normal(\"θ_3_\", 0, tau=.1)\n",
    "    θ_4_ = pm.Normal(\"θ_4_\", 0, tau=.1)\n",
    "    \n",
    "    θ_1 = pm.Deterministic(\"θ_1\", exp(θ_1_))\n",
    "    θ_2 = pm.Uniform(\"θ_2\", 0, 1)\n",
    "    θ_3 = pm.Deterministic(\"θ_3\", exp(θ_3_))\n",
    "    θ_4 = pm.Deterministic(\"θ_4\", exp(θ_4_))\n",
    "\n",
    "    μ = θ_1 * exp(-θ_2 * x_data**2) + θ_3 * (1 - exp(-θ_2 * x_data**2)) * invprobit(\n",
    "        -x_data / θ_4\n",
    "    )\n",
    "\n",
    "    lik = pm.Poisson(\"likelihood\", mu=μ, observed=y)\n",
    "\n",
    "    trace = pm.sample(10000)"
   ]
  },
  {
   "cell_type": "code",
   "execution_count": 55,
   "id": "3c1f3563-671c-4681-9151-14b8c20e64c7",
   "metadata": {},
   "outputs": [
    {
     "data": {
      "text/html": [
       "<div>\n",
       "<style scoped>\n",
       "    .dataframe tbody tr th:only-of-type {\n",
       "        vertical-align: middle;\n",
       "    }\n",
       "\n",
       "    .dataframe tbody tr th {\n",
       "        vertical-align: top;\n",
       "    }\n",
       "\n",
       "    .dataframe thead th {\n",
       "        text-align: right;\n",
       "    }\n",
       "</style>\n",
       "<table border=\"1\" class=\"dataframe\">\n",
       "  <thead>\n",
       "    <tr style=\"text-align: right;\">\n",
       "      <th></th>\n",
       "      <th>mean</th>\n",
       "      <th>sd</th>\n",
       "      <th>hdi_2.5%</th>\n",
       "      <th>hdi_97.5%</th>\n",
       "    </tr>\n",
       "  </thead>\n",
       "  <tbody>\n",
       "    <tr>\n",
       "      <th>θ_2</th>\n",
       "      <td>0.185</td>\n",
       "      <td>0.027</td>\n",
       "      <td>0.133</td>\n",
       "      <td>0.238</td>\n",
       "    </tr>\n",
       "    <tr>\n",
       "      <th>θ_1</th>\n",
       "      <td>122.893</td>\n",
       "      <td>7.872</td>\n",
       "      <td>107.915</td>\n",
       "      <td>138.567</td>\n",
       "    </tr>\n",
       "    <tr>\n",
       "      <th>θ_3</th>\n",
       "      <td>27.002</td>\n",
       "      <td>7.698</td>\n",
       "      <td>12.867</td>\n",
       "      <td>42.276</td>\n",
       "    </tr>\n",
       "    <tr>\n",
       "      <th>θ_4</th>\n",
       "      <td>11.839</td>\n",
       "      <td>13.050</td>\n",
       "      <td>7.353</td>\n",
       "      <td>16.689</td>\n",
       "    </tr>\n",
       "  </tbody>\n",
       "</table>\n",
       "</div>"
      ],
      "text/plain": [
       "        mean      sd  hdi_2.5%  hdi_97.5%\n",
       "θ_2    0.185   0.027     0.133      0.238\n",
       "θ_1  122.893   7.872   107.915    138.567\n",
       "θ_3   27.002   7.698    12.867     42.276\n",
       "θ_4   11.839  13.050     7.353     16.689"
      ]
     },
     "execution_count": 55,
     "metadata": {},
     "output_type": "execute_result"
    }
   ],
   "source": [
    "az.summary(trace, hdi_prob=0.95, var_names=[\"~θ_1_\", \"~θ_3_\", \"~θ_4_\"], kind=\"stats\")"
   ]
  },
  {
   "cell_type": "code",
   "execution_count": 65,
   "id": "28a3aeb9-47b8-4803-822f-5e4358b99bf7",
   "metadata": {},
   "outputs": [
    {
     "data": {
      "text/html": [
       "\n",
       "<style>\n",
       "    /* Turns off some styling */\n",
       "    progress {\n",
       "        /* gets rid of default border in Firefox and Opera. */\n",
       "        border: none;\n",
       "        /* Needs to be in here for Safari polyfill so background images work as expected. */\n",
       "        background-size: auto;\n",
       "    }\n",
       "    .progress-bar-interrupted, .progress-bar-interrupted::-webkit-progress-bar {\n",
       "        background: #F44336;\n",
       "    }\n",
       "</style>\n"
      ],
      "text/plain": [
       "<IPython.core.display.HTML object>"
      ]
     },
     "metadata": {},
     "output_type": "display_data"
    },
    {
     "data": {
      "text/html": [
       "\n",
       "    <div>\n",
       "      <progress value='40000' class='' max='40000' style='width:300px; height:20px; vertical-align: middle;'></progress>\n",
       "      100.00% [40000/40000 00:01<00:00]\n",
       "    </div>\n",
       "    "
      ],
      "text/plain": [
       "<IPython.core.display.HTML object>"
      ]
     },
     "metadata": {},
     "output_type": "display_data"
    },
    {
     "name": "stderr",
     "output_type": "stream",
     "text": [
      "/Users/aaron/mambaforge/envs/pymc-dev-py39/lib/python3.9/site-packages/arviz/stats/stats.py:1180: UserWarning: Selecting first found group: posterior_predictive\n",
      "  warnings.warn(f\"Selecting first found group: {data.groups()[0]}\")\n"
     ]
    },
    {
     "data": {
      "text/html": [
       "<div>\n",
       "<style scoped>\n",
       "    .dataframe tbody tr th:only-of-type {\n",
       "        vertical-align: middle;\n",
       "    }\n",
       "\n",
       "    .dataframe tbody tr th {\n",
       "        vertical-align: top;\n",
       "    }\n",
       "\n",
       "    .dataframe thead th {\n",
       "        text-align: right;\n",
       "    }\n",
       "</style>\n",
       "<table border=\"1\" class=\"dataframe\">\n",
       "  <thead>\n",
       "    <tr style=\"text-align: right;\">\n",
       "      <th></th>\n",
       "      <th>mean</th>\n",
       "      <th>sd</th>\n",
       "      <th>hdi_2.5%</th>\n",
       "      <th>hdi_97.5%</th>\n",
       "      <th>mcse_mean</th>\n",
       "      <th>mcse_sd</th>\n",
       "      <th>ess_bulk</th>\n",
       "      <th>ess_tail</th>\n",
       "      <th>r_hat</th>\n",
       "    </tr>\n",
       "  </thead>\n",
       "  <tbody>\n",
       "    <tr>\n",
       "      <th>likelihood[0]</th>\n",
       "      <td>64.937</td>\n",
       "      <td>9.322</td>\n",
       "      <td>46.0</td>\n",
       "      <td>82.0</td>\n",
       "      <td>0.048</td>\n",
       "      <td>0.034</td>\n",
       "      <td>38183.0</td>\n",
       "      <td>38290.0</td>\n",
       "      <td>1.0</td>\n",
       "    </tr>\n",
       "  </tbody>\n",
       "</table>\n",
       "</div>"
      ],
      "text/plain": [
       "                 mean     sd  hdi_2.5%  hdi_97.5%  mcse_mean  mcse_sd  \\\n",
       "likelihood[0]  64.937  9.322      46.0       82.0      0.048    0.034   \n",
       "\n",
       "               ess_bulk  ess_tail  r_hat  \n",
       "likelihood[0]   38183.0   38290.0    1.0  "
      ]
     },
     "execution_count": 65,
     "metadata": {},
     "output_type": "execute_result"
    }
   ],
   "source": [
    "new_obs = np.array([2.0])\n",
    "pm.set_data({\"x\": new_obs}, model=m)\n",
    "ppc = pm.sample_posterior_predictive(trace, model=m)\n",
    "az.summary(ppc, hdi_prob=.95)"
   ]
  },
  {
   "cell_type": "code",
   "execution_count": null,
   "id": "1bc50d59-bac3-48ea-bbd3-f6d705eafe7f",
   "metadata": {},
   "outputs": [],
   "source": []
  }
 ],
 "metadata": {
  "kernelspec": {
   "display_name": "Python 3 (ipykernel)",
   "language": "python",
   "name": "python3"
  },
  "language_info": {
   "codemirror_mode": {
    "name": "ipython",
    "version": 3
   },
   "file_extension": ".py",
   "mimetype": "text/x-python",
   "name": "python",
   "nbconvert_exporter": "python",
   "pygments_lexer": "ipython3",
   "version": "3.9.10"
  }
 },
 "nbformat": 4,
 "nbformat_minor": 5
}
