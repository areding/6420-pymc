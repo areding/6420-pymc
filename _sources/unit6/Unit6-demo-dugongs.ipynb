{
 "cells": [
  {
   "cell_type": "code",
   "execution_count": 1,
   "id": "47db427c",
   "metadata": {
    "tags": [
     "hide_output"
    ]
   },
   "outputs": [],
   "source": [
    "import arviz as az\n",
    "import numpy as np\n",
    "import pymc as pm\n",
    "\n",
    "%load_ext lab_black"
   ]
  },
  {
   "cell_type": "markdown",
   "id": "27fa8d0f",
   "metadata": {},
   "source": [
    "# Dugongs\n",
    "This example is the first example of dealing with missing data.\n",
    "\n",
    "It is adapted from [Unit 6: dugongsmissing.odc](https://raw.githubusercontent.com/areding/6420-pymc/main/original_examples/Codes4Unit6/dugongsmissing.odc)."
   ]
  },
  {
   "attachments": {},
   "cell_type": "markdown",
   "id": "ea8ff3c3",
   "metadata": {},
   "source": [
    "Associated lecture video: Unit 6, Lesson 6."
   ]
  },
  {
   "cell_type": "markdown",
   "id": "ff800ef8",
   "metadata": {
    "tags": []
   },
   "source": [
    "## Problem statement\n",
    "Carlin and Gelfand (1991) investigated the age (x) and length (y) of 27 captured dugongs (sea cows). Estimate parameters in a nonlinear growth model.\n",
    "\n",
    "### References\n",
    "\n",
    "Data provided by Ratkowsky (1983).\n",
    "\n",
    "Carlin, B. and Gelfand, B. (1991). An Iterative Monte Carlo Method for \n",
    "Nonconjugate Bayesian Analysis, Statistics and Computing, 1, (2), 119\u0013†128.\n",
    "\n",
    "Ratkowsky, D. (1983). Nonlinear regression modeling: A unified practical approach. M. Dekker, NY, viii, 276 p."
   ]
  },
  {
   "cell_type": "code",
   "execution_count": 2,
   "id": "d6594eef",
   "metadata": {},
   "outputs": [],
   "source": [
    "# fmt: off\n",
    "X = [1.0, 1.5, 1.5, 1.5, 2.5, 4.0, 5.0, 5.0, 7.0, 8.0, 8.5, 9.0, 9.5, \n",
    "     9.5, 10.0, 12.0, 12.0, 13.0, 13.0, 14.5, 15.5, 15.5, 16.5, 17.0,\n",
    "     22.5, 29.0, 31.5]\n",
    "y = [1.80, 1.85, 1.87, -1, 2.02, 2.27, 2.15, 2.26, 2.47, 2.19, 2.26,\n",
    "     2.40, 2.39, 2.41, 2.50, 2.32, 2.32, 2.43, 2.47, 2.56, 2.65, 2.47,\n",
    "     2.64, 2.56, 2.70, 2.72, -1]\n",
    "# fmt: on"
   ]
  },
  {
   "attachments": {},
   "cell_type": "markdown",
   "id": "8ae9e887",
   "metadata": {},
   "source": [
    "PyMC imputes missing data automatically, similar to BUGS, but it requires the missing data be input as a NumPy masked array. See the NumPy docs for [np.ma.masked_values()](https://numpy.org/doc/stable/reference/generated/numpy.ma.masked_values.html). For ```y```, above, you can enter whatever number at the missing data positions, then plug it into the ```value``` parameter below. Just make sure the number you're using isn't actually in the data. I chose -1 above.\n",
    "\n",
    "Note that this method only works for missing *observed* data. We'll learn about other types of missing data later."
   ]
  },
  {
   "cell_type": "code",
   "execution_count": 3,
   "id": "0b2df9cb",
   "metadata": {},
   "outputs": [
    {
     "data": {
      "text/plain": [
       "masked_array(data=[1.8, 1.85, 1.87, --, 2.02, 2.27, 2.15, 2.26, 2.47,\n",
       "                   2.19, 2.26, 2.4, 2.39, 2.41, 2.5, 2.32, 2.32, 2.43,\n",
       "                   2.47, 2.56, 2.65, 2.47, 2.64, 2.56, 2.7, 2.72, --],\n",
       "             mask=[False, False, False,  True, False, False, False, False,\n",
       "                   False, False, False, False, False, False, False, False,\n",
       "                   False, False, False, False, False, False, False, False,\n",
       "                   False, False,  True],\n",
       "       fill_value=-1.0)"
      ]
     },
     "execution_count": 3,
     "metadata": {},
     "output_type": "execute_result"
    }
   ],
   "source": [
    "y = np.ma.masked_values(y, value=-1)\n",
    "y"
   ]
  },
  {
   "cell_type": "markdown",
   "id": "0a734220",
   "metadata": {},
   "source": [
    "Check it out! The array now has a mask attribute."
   ]
  },
  {
   "cell_type": "code",
   "execution_count": 4,
   "id": "f18c8480",
   "metadata": {
    "tags": [
     "hide_output"
    ]
   },
   "outputs": [
    {
     "name": "stderr",
     "output_type": "stream",
     "text": [
      "/Users/aaron/mambaforge/envs/pymc_env2/lib/python3.11/site-packages/pymc/model.py:1402: ImputationWarning: Data in likelihood contains missing values and will be automatically imputed from the sampling distribution.\n",
      "  warnings.warn(impute_message, ImputationWarning)\n",
      "Auto-assigning NUTS sampler...\n",
      "Initializing NUTS using jitter+adapt_diag...\n",
      "Multiprocess sampling (4 chains in 4 jobs)\n",
      "NUTS: [alpha, beta, gamma, sigma, likelihood_missing]\n"
     ]
    },
    {
     "name": "stderr",
     "output_type": "stream",
     "text": [
      "Sampling 4 chains for 500 tune and 10_000 draw iterations (2_000 + 40_000 draws total) took 25 seconds.\n",
      "There were 28 divergences after tuning. Increase `target_accept` or reparameterize.\n",
      "Chain <xarray.DataArray 'chain' ()>\n",
      "array(0)\n",
      "Coordinates:\n",
      "    chain    int64 0 reached the maximum tree depth. Increase `max_treedepth`, increase `target_accept` or reparameterize.\n",
      "Chain <xarray.DataArray 'chain' ()>\n",
      "array(1)\n",
      "Coordinates:\n",
      "    chain    int64 1 reached the maximum tree depth. Increase `max_treedepth`, increase `target_accept` or reparameterize.\n",
      "Chain <xarray.DataArray 'chain' ()>\n",
      "array(2)\n",
      "Coordinates:\n",
      "    chain    int64 2 reached the maximum tree depth. Increase `max_treedepth`, increase `target_accept` or reparameterize.\n",
      "Chain <xarray.DataArray 'chain' ()>\n",
      "array(3)\n",
      "Coordinates:\n",
      "    chain    int64 3 reached the maximum tree depth. Increase `max_treedepth`, increase `target_accept` or reparameterize.\n"
     ]
    }
   ],
   "source": [
    "with pm.Model() as m:\n",
    "    # priors\n",
    "    alpha = pm.Uniform(\"alpha\", 0, 100)\n",
    "    beta = pm.Uniform(\"beta\", 0, 100)\n",
    "    gamma = pm.Uniform(\"gamma\", 0, 1)\n",
    "    sigma = pm.math.exp(pm.Uniform(\"sigma\", -10, 10))\n",
    "\n",
    "    mu = alpha - beta * gamma**X\n",
    "\n",
    "    likelihood = pm.Normal(\"likelihood\", mu=mu, sigma=sigma, observed=y)\n",
    "\n",
    "    # start sampling\n",
    "    trace = pm.sample(5000)"
   ]
  },
  {
   "cell_type": "code",
   "execution_count": 5,
   "id": "50549805",
   "metadata": {},
   "outputs": [
    {
     "data": {
      "text/html": [
       "<div>\n",
       "<style scoped>\n",
       "    .dataframe tbody tr th:only-of-type {\n",
       "        vertical-align: middle;\n",
       "    }\n",
       "\n",
       "    .dataframe tbody tr th {\n",
       "        vertical-align: top;\n",
       "    }\n",
       "\n",
       "    .dataframe thead th {\n",
       "        text-align: right;\n",
       "    }\n",
       "</style>\n",
       "<table border=\"1\" class=\"dataframe\">\n",
       "  <thead>\n",
       "    <tr style=\"text-align: right;\">\n",
       "      <th></th>\n",
       "      <th>mean</th>\n",
       "      <th>sd</th>\n",
       "      <th>hdi_2.5%</th>\n",
       "      <th>hdi_97.5%</th>\n",
       "      <th>mcse_mean</th>\n",
       "      <th>mcse_sd</th>\n",
       "      <th>ess_bulk</th>\n",
       "      <th>ess_tail</th>\n",
       "      <th>r_hat</th>\n",
       "    </tr>\n",
       "  </thead>\n",
       "  <tbody>\n",
       "    <tr>\n",
       "      <th>likelihood_missing[0]</th>\n",
       "      <td>1.907</td>\n",
       "      <td>0.110</td>\n",
       "      <td>1.691</td>\n",
       "      <td>2.125</td>\n",
       "      <td>0.001</td>\n",
       "      <td>0.001</td>\n",
       "      <td>22080.0</td>\n",
       "      <td>21790.0</td>\n",
       "      <td>1.0</td>\n",
       "    </tr>\n",
       "    <tr>\n",
       "      <th>likelihood_missing[1]</th>\n",
       "      <td>2.694</td>\n",
       "      <td>0.129</td>\n",
       "      <td>2.439</td>\n",
       "      <td>2.947</td>\n",
       "      <td>0.001</td>\n",
       "      <td>0.001</td>\n",
       "      <td>11806.0</td>\n",
       "      <td>12392.0</td>\n",
       "      <td>1.0</td>\n",
       "    </tr>\n",
       "    <tr>\n",
       "      <th>alpha</th>\n",
       "      <td>2.742</td>\n",
       "      <td>0.148</td>\n",
       "      <td>2.519</td>\n",
       "      <td>3.015</td>\n",
       "      <td>0.002</td>\n",
       "      <td>0.002</td>\n",
       "      <td>7872.0</td>\n",
       "      <td>5961.0</td>\n",
       "      <td>1.0</td>\n",
       "    </tr>\n",
       "    <tr>\n",
       "      <th>beta</th>\n",
       "      <td>0.994</td>\n",
       "      <td>0.122</td>\n",
       "      <td>0.790</td>\n",
       "      <td>1.217</td>\n",
       "      <td>0.002</td>\n",
       "      <td>0.001</td>\n",
       "      <td>10184.0</td>\n",
       "      <td>6771.0</td>\n",
       "      <td>1.0</td>\n",
       "    </tr>\n",
       "    <tr>\n",
       "      <th>gamma</th>\n",
       "      <td>0.889</td>\n",
       "      <td>0.035</td>\n",
       "      <td>0.816</td>\n",
       "      <td>0.953</td>\n",
       "      <td>0.000</td>\n",
       "      <td>0.000</td>\n",
       "      <td>8259.0</td>\n",
       "      <td>6797.0</td>\n",
       "      <td>1.0</td>\n",
       "    </tr>\n",
       "    <tr>\n",
       "      <th>sigma</th>\n",
       "      <td>-2.339</td>\n",
       "      <td>0.156</td>\n",
       "      <td>-2.641</td>\n",
       "      <td>-2.033</td>\n",
       "      <td>0.001</td>\n",
       "      <td>0.001</td>\n",
       "      <td>14593.0</td>\n",
       "      <td>17855.0</td>\n",
       "      <td>1.0</td>\n",
       "    </tr>\n",
       "  </tbody>\n",
       "</table>\n",
       "</div>"
      ],
      "text/plain": [
       "                        mean     sd  hdi_2.5%  hdi_97.5%  mcse_mean  mcse_sd  \\\n",
       "likelihood_missing[0]  1.907  0.110     1.691      2.125      0.001    0.001   \n",
       "likelihood_missing[1]  2.694  0.129     2.439      2.947      0.001    0.001   \n",
       "alpha                  2.742  0.148     2.519      3.015      0.002    0.002   \n",
       "beta                   0.994  0.122     0.790      1.217      0.002    0.001   \n",
       "gamma                  0.889  0.035     0.816      0.953      0.000    0.000   \n",
       "sigma                 -2.339  0.156    -2.641     -2.033      0.001    0.001   \n",
       "\n",
       "                       ess_bulk  ess_tail  r_hat  \n",
       "likelihood_missing[0]   22080.0   21790.0    1.0  \n",
       "likelihood_missing[1]   11806.0   12392.0    1.0  \n",
       "alpha                    7872.0    5961.0    1.0  \n",
       "beta                    10184.0    6771.0    1.0  \n",
       "gamma                    8259.0    6797.0    1.0  \n",
       "sigma                   14593.0   17855.0    1.0  "
      ]
     },
     "execution_count": 5,
     "metadata": {},
     "output_type": "execute_result"
    }
   ],
   "source": [
    "az.summary(trace, hdi_prob=0.95, var_names=\"~likelihood\")"
   ]
  },
  {
   "cell_type": "markdown",
   "id": "1a65dd1c",
   "metadata": {},
   "source": [
    "This output is very close to the BUGS results if you use the inits labeled Alternative (full) inits (initializing the missing values at 1):\n",
    "\n",
    "|           | mean    | sd      | MC_error | val2.5pc | median  | val97.5pc | start | sample |\n",
    "|-----------|---------|---------|----------|----------|---------|-----------|-------|--------|\n",
    "| alpha     | 2.731   | 0.1206  | 0.003167 | 2.551    | 2.711   | 3.025     | 1001  | 100000 |\n",
    "| beta      | 0.9846  | 0.1021  | 0.002008 | 0.8053   | 0.9773  | 1.212     | 1001  | 100000 |\n",
    "| gamma     | 0.8874  | 0.03381 | 7.64E-04 | 0.8124   | 0.8908  | 0.9427    | 1001  | 100000 |\n",
    "| log.sigma | -2.342  | 0.1543  | 7.83E-04 | -2.622   | -2.349  | -2.018    | 1001  | 100000 |\n",
    "| sigma     | 0.09733 | 0.0155  | 7.96E-05 | 0.07267  | 0.09547 | 0.1329    | 1001  | 100000 |\n",
    "| y[4]      | 1.906   | 0.1098  | 6.23E-04 | 1.689    | 1.906   | 2.123     | 1001  | 100000 |\n",
    "| y[27]     | 2.69    | 0.1255  | 0.001916 | 2.446    | 2.689   | 2.941     | 1001  | 100000 |\n",
    "\n",
    "\n",
    "If you use the first set of inits, as Professor Vidakovic did in the video, BUGS gives the y[4] mean as 2.047 and y[27] as 3.04. All the other variables are very different here, too. This is quite a mystery - as far as I can tell, the only difference is that the missing values use BUGS-generated inits for the following results. If someone figures out what's going on here, let me know!\n",
    "\n",
    "|       | mean   | sd       | MC_error | val2.5pc | median | val97.5pc | start | sample |\n",
    "|-------|--------|----------|----------|----------|--------|-----------|-------|--------|\n",
    "| alpha | 32.54  | 3.698    | 0.2076   | 23.51    | 32.69  | 40.31     | 1001  | 100000 |\n",
    "| beta  | 30.55  | 3.697    | 0.2076   | 21.52    | 30.69  | 38.31     | 1001  | 100000 |\n",
    "| gamma | 0.9989 | 2.08E-04 | 8.70E-06 | 0.9984   | 0.9989 | 0.9992    | 1001  | 100000 |\n",
    "| sigma | 0.1328 | 0.02071  | 8.17E-05 | 0.09964  | 0.1303 | 0.1805    | 1001  | 100000 |\n",
    "| y[4]  | 2.047  | 0.1424   | 5.18E-04 | 1.766    | 2.046  | 2.329     | 1001  | 100000 |\n",
    "| y[27] | 3.04   | 0.1606   | 7.42E-04 | 2.722    | 3.04   | 3.358     | 1001  | 100000 |"
   ]
  },
  {
   "cell_type": "code",
   "execution_count": 6,
   "id": "735609bd",
   "metadata": {},
   "outputs": [
    {
     "name": "stdout",
     "output_type": "stream",
     "text": [
      "Last updated: Sat Mar 18 2023\n",
      "\n",
      "Python implementation: CPython\n",
      "Python version       : 3.11.0\n",
      "IPython version      : 8.9.0\n",
      "\n",
      "pytensor: 2.10.1\n",
      "\n",
      "arviz     : 0.14.0\n",
      "numpy     : 1.24.2\n",
      "pymc      : 5.1.1\n",
      "matplotlib: 3.6.3\n",
      "\n"
     ]
    }
   ],
   "source": [
    "%load_ext watermark\n",
    "%watermark -n -u -v -iv -p pytensor"
   ]
  },
  {
   "cell_type": "code",
   "execution_count": null,
   "id": "a91911de",
   "metadata": {},
   "outputs": [],
   "source": []
  }
 ],
 "metadata": {
  "kernelspec": {
   "display_name": "Python 3 (ipykernel)",
   "language": "python",
   "name": "python3"
  },
  "language_info": {
   "codemirror_mode": {
    "name": "ipython",
    "version": 3
   },
   "file_extension": ".py",
   "mimetype": "text/x-python",
   "name": "python",
   "nbconvert_exporter": "python",
   "pygments_lexer": "ipython3",
   "version": "3.11.0"
  }
 },
 "nbformat": 4,
 "nbformat_minor": 5
}
