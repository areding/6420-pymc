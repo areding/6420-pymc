{
 "cells": [
  {
   "attachments": {},
   "cell_type": "markdown",
   "metadata": {},
   "source": [
    "# Probabilistic programming languages\n",
    "\n",
    "## Graphical Models\n",
    "\n",
    "The original lecture is about thinking of Bayesian models as [directed acyclic graphs](https://en.wikipedia.org/wiki/Directed_acyclic_graph) (DAGs). The professor talks a little bit about why they're a useful way to think about the relationships between random variables, the Markovian property, and independence of nodes. I will add some more details here in the future, but it's low-priority for now.\n",
    "\n",
    "He cites *Machine Learning: A Probabilistic Perspective*, which is the old version of [*Probabilistic Machine Learning: An Introduction*](https://probml.github.io/pml-book/) mentioned in the [other recommended resources](../unit1/Unit1-about-this-course.md#other-recommended-resources) section.\n",
    "\n",
    "Starting with this unit, we will be using [Probabilistic Programming Languages](../unit1/Unit1-software.md) (PPLs) to run our models.\n",
    "\n",
    "## PyMC\n",
    "This site is currently using [PyMC](https://www.pymc.io/) version 5. Please follow the instructions for your OS at the [PyMC developers' GitHub repository](https://github.com/pymc-devs/pymc#installation) when installing.\n",
    "\n",
    "I'm going to copy the practice of using the [watermark extension]\n",
    "(https://github.com/rasbt/watermark) as in the [PyMC Example Gallery](https://www.pymc.io/projects/examples/en/latest/gallery.html) to show the exact versions I'm using.\n",
    "\n",
    "## Links\n",
    "\n",
    "- [An overview of various PPLs](https://danmackinlay.name/notebook/probabilistic_programming.html), last updated February 2022.\n",
    "- [Wikipedia on PPLs](https://en.wikipedia.org/wiki/Probabilistic_programming).\n",
    "- [Chapter 10 of *Bayesian Modeling and Computation in Python*](https://bayesiancomputationbook.com/markdown/chp_10.html): A look at what goes into creating a PPL and the moving parts involved.\n",
    "\n",
    "## Missing example\n",
    "\n",
    "In the original unit 6 code archive, there's a file called ```DeMere.odc``` that doesn't seem to have anything to do with the rest of the unit. You can find a Python implementation [here](https://areding.github.io/6420-pymc/original_examples/stuff/Unit3-DeMere.ipynb) (right-click and Save Link As...).\n",
    "\n",
    "\n"
   ]
  },
  {
   "cell_type": "markdown",
   "metadata": {},
   "source": []
  }
 ],
 "metadata": {
  "language_info": {
   "name": "python"
  },
  "orig_nbformat": 4
 },
 "nbformat": 4,
 "nbformat_minor": 2
}
