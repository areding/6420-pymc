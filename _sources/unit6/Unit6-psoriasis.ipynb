{
 "cells": [
  {
   "cell_type": "code",
   "execution_count": 1,
   "id": "89d60ca3",
   "metadata": {
    "tags": [
     "hide_output"
    ]
   },
   "outputs": [],
   "source": [
    "import arviz as az\n",
    "import matplotlib.pyplot as plt\n",
    "import numpy as np\n",
    "import pymc as pm\n",
    "from pymc.math import switch\n",
    "\n",
    "%load_ext watermark\n",
    "%load_ext lab_black"
   ]
  },
  {
   "cell_type": "markdown",
   "id": "1bb211f0",
   "metadata": {
    "tags": []
   },
   "source": [
    "# Psoriasis: two-sample problem with paired data\n",
    "\n",
    "This is our first example of hypothesis testing.\n",
    "\n",
    "Adapted from [Unit 6: psoriasis.odc](https://raw.githubusercontent.com/areding/6420-pymc/main/original_examples/Codes4Unit6/psoriasis.odc).\n",
    "\n",
    "Associated lecture video: Unit 6 lesson 7"
   ]
  },
  {
   "cell_type": "markdown",
   "id": "423b0d14",
   "metadata": {},
   "source": [
    "## Problem statement\n",
    "Woo and McKenna (2003) investigated the effect of broadband ultraviolet B (UVB) therapy and topical calcipotriol cream used together on areas of psoriasis. One of the outcome variables is the Psoriasis Area and Severity Index (PASI), where a lower score is better.\n",
    "\n",
    "The PASI scores for 20 subjects are measured at baseline and after 8 treatments.  Do these data provide sufficient evidence to indicate that the combination therapy reduces PASI scores?\n",
    "\n",
    "Classical Analysis:\n",
    "```\n",
    "   d = baseline - after;\n",
    "   n = length(d);\n",
    "   dbar = mean(d);  dbar = 6.3550\n",
    "   sdd = sqrt(var(d));  sdd = 4.9309\n",
    "   tstat = dbar/(sdd/sqrt(n));  tstat = 5.7637\n",
    "\n",
    "   Reject H_0 at the level alpha=0.05 since the p_value = 0.00000744 < 0.05\n",
    "\n",
    "   95% CI is [4.0472, 8.6628]\n",
    "   ```\n"
   ]
  },
  {
   "cell_type": "markdown",
   "id": "3f9ac13e",
   "metadata": {},
   "source": [
    "---\n",
    "See [Unit 6: Stress, Diet and Plasma Acids](https://areding.github.io/6420-pymc/unit6/Unit6-stressacids.html) to find out more about recreating the BUGS step function."
   ]
  },
  {
   "cell_type": "code",
   "execution_count": 2,
   "id": "d25b6da3",
   "metadata": {},
   "outputs": [],
   "source": [
    "# fmt: off\n",
    "baseline = np.array((5.9, 7.6, 12.8, 16.5, 6.1, 14.4, 6.6, 5.4, 9.6, 11.6, \n",
    "                     11.1, 15.6, 9.6, 15.2, 21.0, 5.9, 10.0, 12.2, 20.2, \n",
    "                     6.2))\n",
    "\n",
    "after = np.array((5.2, 12.2, 4.6, 4.0, 0.4, 3.8, 1.2, 3.1, 3.5, 4.9, 11.1,\n",
    "                  8.4, 5.8, 5, 6.4, 0.0, 2.7, 5.1, 4.8, 4.2))\n",
    "# fmt: on"
   ]
  },
  {
   "cell_type": "code",
   "execution_count": 3,
   "id": "d9255f51",
   "metadata": {
    "tags": [
     "hide_output"
    ]
   },
   "outputs": [
    {
     "name": "stderr",
     "output_type": "stream",
     "text": [
      "Auto-assigning NUTS sampler...\n",
      "Initializing NUTS using jitter+adapt_diag...\n",
      "/Users/aaron/mambaforge/envs/pymc_env2/lib/python3.11/site-packages/multipledispatch/dispatcher.py:27: AmbiguityWarning: \n",
      "Ambiguities exist in dispatched function _unify\n",
      "\n",
      "The following signatures may result in ambiguous behavior:\n",
      "\t[object, ConstrainedVar, Mapping], [ConstrainedVar, object, Mapping]\n",
      "\t[object, ConstrainedVar, Mapping], [ConstrainedVar, Var, Mapping]\n",
      "\t[object, ConstrainedVar, Mapping], [ConstrainedVar, object, Mapping]\n",
      "\t[object, ConstrainedVar, Mapping], [ConstrainedVar, Var, Mapping]\n",
      "\n",
      "\n",
      "Consider making the following additions:\n",
      "\n",
      "@dispatch(ConstrainedVar, ConstrainedVar, Mapping)\n",
      "def _unify(...)\n",
      "\n",
      "@dispatch(ConstrainedVar, ConstrainedVar, Mapping)\n",
      "def _unify(...)\n",
      "\n",
      "@dispatch(ConstrainedVar, ConstrainedVar, Mapping)\n",
      "def _unify(...)\n",
      "\n",
      "@dispatch(ConstrainedVar, ConstrainedVar, Mapping)\n",
      "def _unify(...)\n",
      "  warn(warning_text(dispatcher.name, ambiguities), AmbiguityWarning)\n",
      "Multiprocess sampling (4 chains in 4 jobs)\n",
      "NUTS: [mu, prec]\n"
     ]
    },
    {
     "data": {
      "text/html": [
       "\n",
       "<style>\n",
       "    /* Turns off some styling */\n",
       "    progress {\n",
       "        /* gets rid of default border in Firefox and Opera. */\n",
       "        border: none;\n",
       "        /* Needs to be in here for Safari polyfill so background images work as expected. */\n",
       "        background-size: auto;\n",
       "    }\n",
       "    progress:not([value]), progress:not([value])::-webkit-progress-bar {\n",
       "        background: repeating-linear-gradient(45deg, #7e7e7e, #7e7e7e 10px, #5c5c5c 10px, #5c5c5c 20px);\n",
       "    }\n",
       "    .progress-bar-interrupted, .progress-bar-interrupted::-webkit-progress-bar {\n",
       "        background: #F44336;\n",
       "    }\n",
       "</style>\n"
      ],
      "text/plain": [
       "<IPython.core.display.HTML object>"
      ]
     },
     "metadata": {},
     "output_type": "display_data"
    },
    {
     "data": {
      "text/html": [
       "\n",
       "    <div>\n",
       "      <progress value='42000' class='' max='42000' style='width:300px; height:20px; vertical-align: middle;'></progress>\n",
       "      100.00% [42000/42000 00:06&lt;00:00 Sampling 4 chains, 0 divergences]\n",
       "    </div>\n",
       "    "
      ],
      "text/plain": [
       "<IPython.core.display.HTML object>"
      ]
     },
     "metadata": {},
     "output_type": "display_data"
    },
    {
     "name": "stderr",
     "output_type": "stream",
     "text": [
      "Sampling 4 chains for 500 tune and 10_000 draw iterations (2_000 + 40_000 draws total) took 7 seconds.\n"
     ]
    }
   ],
   "source": [
    "with pm.Model() as m:\n",
    "    # priors\n",
    "    mu = pm.Normal(\"mu\", mu=0, sigma=316)\n",
    "    prec = pm.Gamma(\"prec\", alpha=0.001, beta=0.001)\n",
    "    sigma = pm.Deterministic(\"sigma\", 1 / pm.math.sqrt(prec))\n",
    "\n",
    "    ph1 = pm.Deterministic(\"ph1\", switch(mu >= 0, 1, 0))\n",
    "\n",
    "    diff = pm.Normal(\"diff\", mu=mu, sigma=sigma, observed=baseline - after)\n",
    "\n",
    "    # start sampling\n",
    "    trace = pm.sample(\n",
    "        10000,\n",
    "        chains=4,\n",
    "        tune=500,\n",
    "        cores=4,\n",
    "        init=\"jitter+adapt_diag\",\n",
    "        random_seed=1,\n",
    "        return_inferencedata=True,\n",
    "    )"
   ]
  },
  {
   "cell_type": "code",
   "execution_count": 4,
   "id": "f2fc5b7b",
   "metadata": {
    "tags": []
   },
   "outputs": [
    {
     "name": "stderr",
     "output_type": "stream",
     "text": [
      "/Users/aaron/mambaforge/envs/pymc_env2/lib/python3.11/site-packages/arviz/stats/diagnostics.py:584: RuntimeWarning: invalid value encountered in scalar divide\n",
      "  (between_chain_variance / within_chain_variance + num_samples - 1) / (num_samples)\n"
     ]
    },
    {
     "data": {
      "text/html": [
       "<div>\n",
       "<style scoped>\n",
       "    .dataframe tbody tr th:only-of-type {\n",
       "        vertical-align: middle;\n",
       "    }\n",
       "\n",
       "    .dataframe tbody tr th {\n",
       "        vertical-align: top;\n",
       "    }\n",
       "\n",
       "    .dataframe thead th {\n",
       "        text-align: right;\n",
       "    }\n",
       "</style>\n",
       "<table border=\"1\" class=\"dataframe\">\n",
       "  <thead>\n",
       "    <tr style=\"text-align: right;\">\n",
       "      <th></th>\n",
       "      <th>mean</th>\n",
       "      <th>sd</th>\n",
       "      <th>hdi_2.5%</th>\n",
       "      <th>hdi_97.5%</th>\n",
       "      <th>mcse_mean</th>\n",
       "      <th>mcse_sd</th>\n",
       "      <th>ess_bulk</th>\n",
       "      <th>ess_tail</th>\n",
       "      <th>r_hat</th>\n",
       "    </tr>\n",
       "  </thead>\n",
       "  <tbody>\n",
       "    <tr>\n",
       "      <th>mu</th>\n",
       "      <td>6.348</td>\n",
       "      <td>1.155</td>\n",
       "      <td>4.073</td>\n",
       "      <td>8.654</td>\n",
       "      <td>0.007</td>\n",
       "      <td>0.005</td>\n",
       "      <td>30917.0</td>\n",
       "      <td>24883.0</td>\n",
       "      <td>1.0</td>\n",
       "    </tr>\n",
       "    <tr>\n",
       "      <th>sigma</th>\n",
       "      <td>5.138</td>\n",
       "      <td>0.882</td>\n",
       "      <td>3.612</td>\n",
       "      <td>6.908</td>\n",
       "      <td>0.005</td>\n",
       "      <td>0.004</td>\n",
       "      <td>30678.0</td>\n",
       "      <td>26152.0</td>\n",
       "      <td>1.0</td>\n",
       "    </tr>\n",
       "    <tr>\n",
       "      <th>ph1</th>\n",
       "      <td>1.000</td>\n",
       "      <td>0.000</td>\n",
       "      <td>1.000</td>\n",
       "      <td>1.000</td>\n",
       "      <td>0.000</td>\n",
       "      <td>0.000</td>\n",
       "      <td>40000.0</td>\n",
       "      <td>40000.0</td>\n",
       "      <td>NaN</td>\n",
       "    </tr>\n",
       "  </tbody>\n",
       "</table>\n",
       "</div>"
      ],
      "text/plain": [
       "        mean     sd  hdi_2.5%  hdi_97.5%  mcse_mean  mcse_sd  ess_bulk  \\\n",
       "mu     6.348  1.155     4.073      8.654      0.007    0.005   30917.0   \n",
       "sigma  5.138  0.882     3.612      6.908      0.005    0.004   30678.0   \n",
       "ph1    1.000  0.000     1.000      1.000      0.000    0.000   40000.0   \n",
       "\n",
       "       ess_tail  r_hat  \n",
       "mu      24883.0    1.0  \n",
       "sigma   26152.0    1.0  \n",
       "ph1     40000.0    NaN  "
      ]
     },
     "execution_count": 4,
     "metadata": {},
     "output_type": "execute_result"
    }
   ],
   "source": [
    "az.summary(trace, hdi_prob=0.95, var_names=[\"~prec\"])"
   ]
  },
  {
   "cell_type": "markdown",
   "id": "492a8e1d",
   "metadata": {},
   "source": [
    "Even though we're getting lots of warnings, our model agrees with the BUGS results:\n",
    "\n",
    "|          | mean     | sd      | MC_error | val2.5pc | median | val97.5pc | start | sample |\n",
    "|----------|----------|---------|----------|----------|--------|-----------|-------|--------|\n",
    "| pH1      | 1        | 0       | 3.16E-13 | 1        | 1      | 1         | 1001  | 100000 |\n",
    "| mu       | 6.352    | 1.169   | 0.003657 | 4.043    | 6.351  | 8.666     | 1001  | 100000 |\n",
    "| sigma    | 5.142    | 0.8912  | 0.003126 | 3.74     | 5.026  | 7.203     | 1001  | 100000 |\n",
    "| pval     | 4.20E-04 | 0.02049 | 6.04E-05 | 0        | 0      | 0         | 1001  | 100000 |"
   ]
  },
  {
   "cell_type": "code",
   "execution_count": 5,
   "id": "8aa3cde4",
   "metadata": {},
   "outputs": [
    {
     "name": "stdout",
     "output_type": "stream",
     "text": [
      "Last updated: Fri Feb 03 2023\n",
      "\n",
      "Python implementation: CPython\n",
      "Python version       : 3.11.0\n",
      "IPython version      : 8.9.0\n",
      "\n",
      "aesara: 2.8.10\n",
      "aeppl : 0.1.1\n",
      "\n",
      "pymc      : 5.0.1\n",
      "numpy     : 1.24.1\n",
      "arviz     : 0.14.0\n",
      "matplotlib: 3.6.3\n",
      "\n"
     ]
    }
   ],
   "source": [
    "%watermark -n -u -v -iv -p aesara,aeppl"
   ]
  },
  {
   "cell_type": "code",
   "execution_count": null,
   "id": "1ef6ea1f",
   "metadata": {},
   "outputs": [],
   "source": []
  }
 ],
 "metadata": {
  "kernelspec": {
   "display_name": "Python 3 (ipykernel)",
   "language": "python",
   "name": "python3"
  },
  "language_info": {
   "codemirror_mode": {
    "name": "ipython",
    "version": 3
   },
   "file_extension": ".py",
   "mimetype": "text/x-python",
   "name": "python",
   "nbconvert_exporter": "python",
   "pygments_lexer": "ipython3",
   "version": "3.11.0"
  }
 },
 "nbformat": 4,
 "nbformat_minor": 5
}
