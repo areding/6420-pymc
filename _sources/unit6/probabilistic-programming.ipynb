{
 "cells": [
  {
   "cell_type": "markdown",
   "id": "34789858",
   "metadata": {},
   "source": [
    "# Probabilistic programming languages\n",
    "\n",
    "Starting with this unit, we will be using Probabilistic Programming Languages (PPLs) to run our models.\n",
    "\n",
    "## PyMC\n",
    "This site will use [PyMC](https://www.pymc.io/) version 4. Please follow the instructions for your OS at the [PyMC developers' GitHub repository](https://github.com/pymc-devs/pymc) when installing.\n",
    "\n",
    "## Links\n",
    "\n",
    "- [An overview of various PPLs](https://danmackinlay.name/notebook/probabilistic_programming.html)\n",
    "- [Wikipedia on PPLs](https://en.wikipedia.org/wiki/Probabilistic_programming)\n",
    "\n",
    "## Missing example\n",
    "\n",
    "In the original code for unit 6, there's a file called ```DeMere.odc``` that doesn't seem to have anything to do with the rest of the unit. You can find the Python implementation [here](https://areding.github.io/6420-pymc/unit3/Unit3-DeMere.html)."
   ]
  },
  {
   "cell_type": "code",
   "execution_count": null,
   "id": "cf4d26ec",
   "metadata": {},
   "outputs": [],
   "source": []
  }
 ],
 "metadata": {
  "kernelspec": {
   "display_name": "Python 3 (ipykernel)",
   "language": "python",
   "name": "python3"
  },
  "language_info": {
   "codemirror_mode": {
    "name": "ipython",
    "version": 3
   },
   "file_extension": ".py",
   "mimetype": "text/x-python",
   "name": "python",
   "nbconvert_exporter": "python",
   "pygments_lexer": "ipython3",
   "version": "3.10.4"
  }
 },
 "nbformat": 4,
 "nbformat_minor": 5
}
