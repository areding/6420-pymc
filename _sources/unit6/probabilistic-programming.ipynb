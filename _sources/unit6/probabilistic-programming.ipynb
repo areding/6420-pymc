{
 "cells": [
  {
   "cell_type": "markdown",
   "id": "dad4215d-94ee-49cb-a74a-051958108968",
   "metadata": {},
   "source": [
    "# Probabilistic programming languages\n",
    "\n",
    "placeholder\n",
    "\n",
    "Overview of PPLs with example models. Examples in PyMC to start. Someday maybe more!"
   ]
  },
  {
   "cell_type": "code",
   "execution_count": null,
   "id": "610426bf-0359-4aa2-b3c4-a7e2cef91206",
   "metadata": {},
   "outputs": [],
   "source": []
  }
 ],
 "metadata": {
  "kernelspec": {
   "display_name": "Python 3 (ipykernel)",
   "language": "python",
   "name": "python3"
  },
  "language_info": {
   "codemirror_mode": {
    "name": "ipython",
    "version": 3
   },
   "file_extension": ".py",
   "mimetype": "text/x-python",
   "name": "python",
   "nbconvert_exporter": "python",
   "pygments_lexer": "ipython3",
   "version": "3.9.10"
  }
 },
 "nbformat": 4,
 "nbformat_minor": 5
}
