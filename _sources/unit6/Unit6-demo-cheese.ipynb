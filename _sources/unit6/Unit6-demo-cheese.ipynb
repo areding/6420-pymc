{
 "cells": [
  {
   "cell_type": "code",
   "execution_count": 5,
   "id": "5554edbc",
   "metadata": {
    "tags": [
     "hide-output"
    ]
   },
   "outputs": [
    {
     "name": "stdout",
     "output_type": "stream",
     "text": [
      "The lab_black extension is already loaded. To reload it, use:\n",
      "  %reload_ext lab_black\n"
     ]
    }
   ],
   "source": [
    "import arviz as az\n",
    "import numpy as np\n",
    "import pandas as pd\n",
    "import pymc as pm\n",
    "import matplotlib.pyplot as plt\n",
    "\n",
    "%load_ext lab_black"
   ]
  },
  {
   "cell_type": "markdown",
   "id": "4253075e",
   "metadata": {},
   "source": [
    "# Taste of Cheese*\n",
    "\n",
    "Adapted from [Unit 6: cheese.odc](https://raw.githubusercontent.com/areding/6420-pymc/main/original_examples/Codes4Unit6/cheese.odc).\n",
    "\n",
    "The link in the original .odc file is dead. I downloaded the data from [here](https://www3.nd.edu/~busiforc/handouts/Data%20and%20Stories/multicollinearity/Cheese%20Taste/Cheddar%20Cheese%20Data.html) and have a copy [here](https://raw.githubusercontent.com/areding/6420-pymc/main/data/cheese.csv)."
   ]
  },
  {
   "cell_type": "markdown",
   "id": "bef7810c",
   "metadata": {},
   "source": [
    "Associated lecture videos: Unit 6, Lessons 5 and 8."
   ]
  },
  {
   "cell_type": "markdown",
   "id": "6984bec3",
   "metadata": {},
   "source": [
    "## Problem statement\n",
    "\n",
    "As cheddar cheese matures, a variety of chemical processes take place. The taste of matured cheese is related to the concentration of several chemicals in the final product. In a study of cheddar cheese from the LaTrobe Valley of Victoria, Australia, samples of cheese were analyzed for their chemical composition and were subjected to taste tests. Overall taste scores were obtained by combining the scores from several tasters.\n",
    "\n",
    "Can the score be predicted well by the predictors: Acetic, H2S, and Lactic?"
   ]
  },
  {
   "cell_type": "code",
   "execution_count": 2,
   "id": "7dd94c95",
   "metadata": {},
   "outputs": [],
   "source": [
    "data = pd.read_csv(\"../data/cheese.csv\", index_col=0)\n",
    "X = data[[\"Acetic\", \"H2S\", \"Lactic\"]].to_numpy()\n",
    "# add intercept column to X\n",
    "X_aug = np.concatenate((np.ones((X.shape[0], 1)), X), axis=1)\n",
    "y = data[\"taste\"].to_numpy()"
   ]
  },
  {
   "cell_type": "code",
   "execution_count": 3,
   "id": "a72873fa-fea5-4bbe-b488-4f0c1ffd77be",
   "metadata": {},
   "outputs": [
    {
     "data": {
      "text/html": [
       "<div>\n",
       "<style scoped>\n",
       "    .dataframe tbody tr th:only-of-type {\n",
       "        vertical-align: middle;\n",
       "    }\n",
       "\n",
       "    .dataframe tbody tr th {\n",
       "        vertical-align: top;\n",
       "    }\n",
       "\n",
       "    .dataframe thead th {\n",
       "        text-align: right;\n",
       "    }\n",
       "</style>\n",
       "<table border=\"1\" class=\"dataframe\">\n",
       "  <thead>\n",
       "    <tr style=\"text-align: right;\">\n",
       "      <th></th>\n",
       "      <th>taste</th>\n",
       "      <th>Acetic</th>\n",
       "      <th>H2S</th>\n",
       "      <th>Lactic</th>\n",
       "    </tr>\n",
       "  </thead>\n",
       "  <tbody>\n",
       "    <tr>\n",
       "      <th>1</th>\n",
       "      <td>12.3</td>\n",
       "      <td>4.543</td>\n",
       "      <td>3.135</td>\n",
       "      <td>0.86</td>\n",
       "    </tr>\n",
       "    <tr>\n",
       "      <th>2</th>\n",
       "      <td>20.9</td>\n",
       "      <td>5.159</td>\n",
       "      <td>5.043</td>\n",
       "      <td>1.53</td>\n",
       "    </tr>\n",
       "    <tr>\n",
       "      <th>3</th>\n",
       "      <td>39.0</td>\n",
       "      <td>5.366</td>\n",
       "      <td>5.438</td>\n",
       "      <td>1.57</td>\n",
       "    </tr>\n",
       "    <tr>\n",
       "      <th>4</th>\n",
       "      <td>47.9</td>\n",
       "      <td>5.759</td>\n",
       "      <td>7.496</td>\n",
       "      <td>1.81</td>\n",
       "    </tr>\n",
       "    <tr>\n",
       "      <th>5</th>\n",
       "      <td>5.6</td>\n",
       "      <td>4.663</td>\n",
       "      <td>3.807</td>\n",
       "      <td>0.99</td>\n",
       "    </tr>\n",
       "    <tr>\n",
       "      <th>6</th>\n",
       "      <td>25.9</td>\n",
       "      <td>5.697</td>\n",
       "      <td>7.601</td>\n",
       "      <td>1.09</td>\n",
       "    </tr>\n",
       "    <tr>\n",
       "      <th>7</th>\n",
       "      <td>37.3</td>\n",
       "      <td>5.892</td>\n",
       "      <td>8.726</td>\n",
       "      <td>1.29</td>\n",
       "    </tr>\n",
       "    <tr>\n",
       "      <th>8</th>\n",
       "      <td>21.9</td>\n",
       "      <td>6.078</td>\n",
       "      <td>7.966</td>\n",
       "      <td>1.78</td>\n",
       "    </tr>\n",
       "    <tr>\n",
       "      <th>9</th>\n",
       "      <td>18.1</td>\n",
       "      <td>4.898</td>\n",
       "      <td>3.850</td>\n",
       "      <td>1.29</td>\n",
       "    </tr>\n",
       "    <tr>\n",
       "      <th>10</th>\n",
       "      <td>21.0</td>\n",
       "      <td>5.242</td>\n",
       "      <td>4.174</td>\n",
       "      <td>1.58</td>\n",
       "    </tr>\n",
       "    <tr>\n",
       "      <th>11</th>\n",
       "      <td>34.9</td>\n",
       "      <td>5.740</td>\n",
       "      <td>6.142</td>\n",
       "      <td>1.68</td>\n",
       "    </tr>\n",
       "    <tr>\n",
       "      <th>12</th>\n",
       "      <td>57.2</td>\n",
       "      <td>6.446</td>\n",
       "      <td>7.908</td>\n",
       "      <td>1.90</td>\n",
       "    </tr>\n",
       "    <tr>\n",
       "      <th>13</th>\n",
       "      <td>0.7</td>\n",
       "      <td>4.477</td>\n",
       "      <td>2.996</td>\n",
       "      <td>1.06</td>\n",
       "    </tr>\n",
       "    <tr>\n",
       "      <th>14</th>\n",
       "      <td>25.9</td>\n",
       "      <td>5.236</td>\n",
       "      <td>4.942</td>\n",
       "      <td>1.30</td>\n",
       "    </tr>\n",
       "    <tr>\n",
       "      <th>15</th>\n",
       "      <td>54.9</td>\n",
       "      <td>6.151</td>\n",
       "      <td>6.752</td>\n",
       "      <td>1.52</td>\n",
       "    </tr>\n",
       "    <tr>\n",
       "      <th>16</th>\n",
       "      <td>40.9</td>\n",
       "      <td>6.365</td>\n",
       "      <td>9.588</td>\n",
       "      <td>1.74</td>\n",
       "    </tr>\n",
       "    <tr>\n",
       "      <th>17</th>\n",
       "      <td>15.9</td>\n",
       "      <td>4.787</td>\n",
       "      <td>3.912</td>\n",
       "      <td>1.16</td>\n",
       "    </tr>\n",
       "    <tr>\n",
       "      <th>18</th>\n",
       "      <td>6.4</td>\n",
       "      <td>5.412</td>\n",
       "      <td>4.700</td>\n",
       "      <td>1.49</td>\n",
       "    </tr>\n",
       "    <tr>\n",
       "      <th>19</th>\n",
       "      <td>18.0</td>\n",
       "      <td>5.247</td>\n",
       "      <td>6.174</td>\n",
       "      <td>1.63</td>\n",
       "    </tr>\n",
       "    <tr>\n",
       "      <th>20</th>\n",
       "      <td>38.9</td>\n",
       "      <td>5.438</td>\n",
       "      <td>9.064</td>\n",
       "      <td>1.99</td>\n",
       "    </tr>\n",
       "    <tr>\n",
       "      <th>21</th>\n",
       "      <td>14.0</td>\n",
       "      <td>4.564</td>\n",
       "      <td>4.949</td>\n",
       "      <td>1.15</td>\n",
       "    </tr>\n",
       "    <tr>\n",
       "      <th>22</th>\n",
       "      <td>15.2</td>\n",
       "      <td>5.298</td>\n",
       "      <td>5.220</td>\n",
       "      <td>1.33</td>\n",
       "    </tr>\n",
       "    <tr>\n",
       "      <th>23</th>\n",
       "      <td>32.0</td>\n",
       "      <td>5.455</td>\n",
       "      <td>9.242</td>\n",
       "      <td>1.44</td>\n",
       "    </tr>\n",
       "    <tr>\n",
       "      <th>24</th>\n",
       "      <td>56.7</td>\n",
       "      <td>5.855</td>\n",
       "      <td>10.199</td>\n",
       "      <td>2.01</td>\n",
       "    </tr>\n",
       "    <tr>\n",
       "      <th>25</th>\n",
       "      <td>16.8</td>\n",
       "      <td>5.366</td>\n",
       "      <td>3.664</td>\n",
       "      <td>1.31</td>\n",
       "    </tr>\n",
       "    <tr>\n",
       "      <th>26</th>\n",
       "      <td>11.6</td>\n",
       "      <td>6.043</td>\n",
       "      <td>3.219</td>\n",
       "      <td>1.46</td>\n",
       "    </tr>\n",
       "    <tr>\n",
       "      <th>27</th>\n",
       "      <td>26.5</td>\n",
       "      <td>6.458</td>\n",
       "      <td>6.962</td>\n",
       "      <td>1.72</td>\n",
       "    </tr>\n",
       "    <tr>\n",
       "      <th>28</th>\n",
       "      <td>0.7</td>\n",
       "      <td>5.328</td>\n",
       "      <td>3.912</td>\n",
       "      <td>1.25</td>\n",
       "    </tr>\n",
       "    <tr>\n",
       "      <th>29</th>\n",
       "      <td>13.4</td>\n",
       "      <td>5.802</td>\n",
       "      <td>6.685</td>\n",
       "      <td>1.08</td>\n",
       "    </tr>\n",
       "    <tr>\n",
       "      <th>30</th>\n",
       "      <td>5.5</td>\n",
       "      <td>6.176</td>\n",
       "      <td>4.787</td>\n",
       "      <td>1.25</td>\n",
       "    </tr>\n",
       "  </tbody>\n",
       "</table>\n",
       "</div>"
      ],
      "text/plain": [
       "    taste  Acetic     H2S  Lactic\n",
       "1    12.3   4.543   3.135    0.86\n",
       "2    20.9   5.159   5.043    1.53\n",
       "3    39.0   5.366   5.438    1.57\n",
       "4    47.9   5.759   7.496    1.81\n",
       "5     5.6   4.663   3.807    0.99\n",
       "6    25.9   5.697   7.601    1.09\n",
       "7    37.3   5.892   8.726    1.29\n",
       "8    21.9   6.078   7.966    1.78\n",
       "9    18.1   4.898   3.850    1.29\n",
       "10   21.0   5.242   4.174    1.58\n",
       "11   34.9   5.740   6.142    1.68\n",
       "12   57.2   6.446   7.908    1.90\n",
       "13    0.7   4.477   2.996    1.06\n",
       "14   25.9   5.236   4.942    1.30\n",
       "15   54.9   6.151   6.752    1.52\n",
       "16   40.9   6.365   9.588    1.74\n",
       "17   15.9   4.787   3.912    1.16\n",
       "18    6.4   5.412   4.700    1.49\n",
       "19   18.0   5.247   6.174    1.63\n",
       "20   38.9   5.438   9.064    1.99\n",
       "21   14.0   4.564   4.949    1.15\n",
       "22   15.2   5.298   5.220    1.33\n",
       "23   32.0   5.455   9.242    1.44\n",
       "24   56.7   5.855  10.199    2.01\n",
       "25   16.8   5.366   3.664    1.31\n",
       "26   11.6   6.043   3.219    1.46\n",
       "27   26.5   6.458   6.962    1.72\n",
       "28    0.7   5.328   3.912    1.25\n",
       "29   13.4   5.802   6.685    1.08\n",
       "30    5.5   6.176   4.787    1.25"
      ]
     },
     "execution_count": 3,
     "metadata": {},
     "output_type": "execute_result"
    }
   ],
   "source": [
    "data"
   ]
  },
  {
   "cell_type": "code",
   "execution_count": 4,
   "id": "dd6f23ba-5e2d-4d65-9c83-82143e853e0e",
   "metadata": {},
   "outputs": [
    {
     "data": {
      "text/plain": [
       "array([[ 1.   ,  4.543,  3.135,  0.86 ],\n",
       "       [ 1.   ,  5.159,  5.043,  1.53 ],\n",
       "       [ 1.   ,  5.366,  5.438,  1.57 ],\n",
       "       [ 1.   ,  5.759,  7.496,  1.81 ],\n",
       "       [ 1.   ,  4.663,  3.807,  0.99 ],\n",
       "       [ 1.   ,  5.697,  7.601,  1.09 ],\n",
       "       [ 1.   ,  5.892,  8.726,  1.29 ],\n",
       "       [ 1.   ,  6.078,  7.966,  1.78 ],\n",
       "       [ 1.   ,  4.898,  3.85 ,  1.29 ],\n",
       "       [ 1.   ,  5.242,  4.174,  1.58 ],\n",
       "       [ 1.   ,  5.74 ,  6.142,  1.68 ],\n",
       "       [ 1.   ,  6.446,  7.908,  1.9  ],\n",
       "       [ 1.   ,  4.477,  2.996,  1.06 ],\n",
       "       [ 1.   ,  5.236,  4.942,  1.3  ],\n",
       "       [ 1.   ,  6.151,  6.752,  1.52 ],\n",
       "       [ 1.   ,  6.365,  9.588,  1.74 ],\n",
       "       [ 1.   ,  4.787,  3.912,  1.16 ],\n",
       "       [ 1.   ,  5.412,  4.7  ,  1.49 ],\n",
       "       [ 1.   ,  5.247,  6.174,  1.63 ],\n",
       "       [ 1.   ,  5.438,  9.064,  1.99 ],\n",
       "       [ 1.   ,  4.564,  4.949,  1.15 ],\n",
       "       [ 1.   ,  5.298,  5.22 ,  1.33 ],\n",
       "       [ 1.   ,  5.455,  9.242,  1.44 ],\n",
       "       [ 1.   ,  5.855, 10.199,  2.01 ],\n",
       "       [ 1.   ,  5.366,  3.664,  1.31 ],\n",
       "       [ 1.   ,  6.043,  3.219,  1.46 ],\n",
       "       [ 1.   ,  6.458,  6.962,  1.72 ],\n",
       "       [ 1.   ,  5.328,  3.912,  1.25 ],\n",
       "       [ 1.   ,  5.802,  6.685,  1.08 ],\n",
       "       [ 1.   ,  6.176,  4.787,  1.25 ]])"
      ]
     },
     "execution_count": 4,
     "metadata": {},
     "output_type": "execute_result"
    }
   ],
   "source": [
    "X_aug"
   ]
  },
  {
   "cell_type": "code",
   "execution_count": 10,
   "id": "957b2faf-6d43-4eaa-87ff-12b6c3b12c61",
   "metadata": {},
   "outputs": [
    {
     "data": {
      "text/plain": [
       "(array([5.30000e+01, 1.78100e+03, 2.43290e+04, 1.38606e+05, 3.31282e+05,\n",
       "        3.33324e+05, 1.43036e+05, 2.55610e+04, 1.96900e+03, 5.90000e+01]),\n",
       " array([-15.29248827, -12.2418099 ,  -9.19113153,  -6.14045315,\n",
       "         -3.08977478,  -0.03909641,   3.01158197,   6.06226034,\n",
       "          9.11293871,  12.16361709,  15.21429546]),\n",
       " <BarContainer object of 10 artists>)"
      ]
     },
     "execution_count": 10,
     "metadata": {},
     "output_type": "execute_result"
    },
    {
     "data": {
      "image/png": "[encoded data removed]",
      "text/plain": [
       "<Figure size 640x480 with 1 Axes>"
      ]
     },
     "metadata": {},
     "output_type": "display_data"
    }
   ],
   "source": [
    "vals = pm.draw(pm.Normal.dist(mu=0, tau=0.001), 1000000)\n",
    "\n",
    "plt.hist(vals)"
   ]
  },
  {
   "cell_type": "code",
   "execution_count": 20,
   "id": "c3467bf7",
   "metadata": {
    "tags": [
     "hide-output"
    ]
   },
   "outputs": [
    {
     "name": "stderr",
     "output_type": "stream",
     "text": [
      "Auto-assigning NUTS sampler...\n",
      "INFO:pymc:Auto-assigning NUTS sampler...\n",
      "Initializing NUTS using jitter+adapt_diag...\n",
      "INFO:pymc:Initializing NUTS using jitter+adapt_diag...\n",
      "Multiprocess sampling (4 chains in 4 jobs)\n",
      "INFO:pymc:Multiprocess sampling (4 chains in 4 jobs)\n",
      "NUTS: [beta, tau]\n",
      "INFO:pymc:NUTS: [beta, tau]\n"
     ]
    },
    {
     "data": {
      "text/html": [
       "\n",
       "<style>\n",
       "    /* Turns off some styling */\n",
       "    progress {\n",
       "        /* gets rid of default border in Firefox and Opera. */\n",
       "        border: none;\n",
       "        /* Needs to be in here for Safari polyfill so background images work as expected. */\n",
       "        background-size: auto;\n",
       "    }\n",
       "    progress:not([value]), progress:not([value])::-webkit-progress-bar {\n",
       "        background: repeating-linear-gradient(45deg, #7e7e7e, #7e7e7e 10px, #5c5c5c 10px, #5c5c5c 20px);\n",
       "    }\n",
       "    .progress-bar-interrupted, .progress-bar-interrupted::-webkit-progress-bar {\n",
       "        background: #F44336;\n",
       "    }\n",
       "</style>\n"
      ],
      "text/plain": [
       "<IPython.core.display.HTML object>"
      ]
     },
     "metadata": {},
     "output_type": "display_data"
    },
    {
     "data": {
      "text/html": [
       "\n",
       "    <div>\n",
       "      <progress value='24000' class='' max='24000' style='width:300px; height:20px; vertical-align: middle;'></progress>\n",
       "      100.00% [24000/24000 00:17&lt;00:00 Sampling 4 chains, 0 divergences]\n",
       "    </div>\n",
       "    "
      ],
      "text/plain": [
       "<IPython.core.display.HTML object>"
      ]
     },
     "metadata": {},
     "output_type": "display_data"
    },
    {
     "name": "stderr",
     "output_type": "stream",
     "text": [
      "Sampling 4 chains for 1_000 tune and 5_000 draw iterations (4_000 + 20_000 draws total) took 18 seconds.\n",
      "INFO:pymc:Sampling 4 chains for 1_000 tune and 5_000 draw iterations (4_000 + 20_000 draws total) took 18 seconds.\n",
      "Chain <xarray.DataArray 'chain' ()>\n",
      "array(0)\n",
      "Coordinates:\n",
      "    chain    int64 0 reached the maximum tree depth. Increase `max_treedepth`, increase `target_accept` or reparameterize.\n",
      "WARNING:pymc:Chain <xarray.DataArray 'chain' ()>\n",
      "array(0)\n",
      "Coordinates:\n",
      "    chain    int64 0 reached the maximum tree depth. Increase `max_treedepth`, increase `target_accept` or reparameterize.\n",
      "Chain <xarray.DataArray 'chain' ()>\n",
      "array(1)\n",
      "Coordinates:\n",
      "    chain    int64 1 reached the maximum tree depth. Increase `max_treedepth`, increase `target_accept` or reparameterize.\n",
      "WARNING:pymc:Chain <xarray.DataArray 'chain' ()>\n",
      "array(1)\n",
      "Coordinates:\n",
      "    chain    int64 1 reached the maximum tree depth. Increase `max_treedepth`, increase `target_accept` or reparameterize.\n",
      "Chain <xarray.DataArray 'chain' ()>\n",
      "array(2)\n",
      "Coordinates:\n",
      "    chain    int64 2 reached the maximum tree depth. Increase `max_treedepth`, increase `target_accept` or reparameterize.\n",
      "WARNING:pymc:Chain <xarray.DataArray 'chain' ()>\n",
      "array(2)\n",
      "Coordinates:\n",
      "    chain    int64 2 reached the maximum tree depth. Increase `max_treedepth`, increase `target_accept` or reparameterize.\n",
      "Chain <xarray.DataArray 'chain' ()>\n",
      "array(3)\n",
      "Coordinates:\n",
      "    chain    int64 3 reached the maximum tree depth. Increase `max_treedepth`, increase `target_accept` or reparameterize.\n",
      "WARNING:pymc:Chain <xarray.DataArray 'chain' ()>\n",
      "array(3)\n",
      "Coordinates:\n",
      "    chain    int64 3 reached the maximum tree depth. Increase `max_treedepth`, increase `target_accept` or reparameterize.\n",
      "Sampling: [taste_score]\n",
      "INFO:pymc:Sampling: [taste_score]\n"
     ]
    },
    {
     "data": {
      "text/html": [
       "\n",
       "<style>\n",
       "    /* Turns off some styling */\n",
       "    progress {\n",
       "        /* gets rid of default border in Firefox and Opera. */\n",
       "        border: none;\n",
       "        /* Needs to be in here for Safari polyfill so background images work as expected. */\n",
       "        background-size: auto;\n",
       "    }\n",
       "    progress:not([value]), progress:not([value])::-webkit-progress-bar {\n",
       "        background: repeating-linear-gradient(45deg, #7e7e7e, #7e7e7e 10px, #5c5c5c 10px, #5c5c5c 20px);\n",
       "    }\n",
       "    .progress-bar-interrupted, .progress-bar-interrupted::-webkit-progress-bar {\n",
       "        background: #F44336;\n",
       "    }\n",
       "</style>\n"
      ],
      "text/plain": [
       "<IPython.core.display.HTML object>"
      ]
     },
     "metadata": {},
     "output_type": "display_data"
    },
    {
     "data": {
      "text/html": [
       "\n",
       "    <div>\n",
       "      <progress value='20000' class='' max='20000' style='width:300px; height:20px; vertical-align: middle;'></progress>\n",
       "      100.00% [20000/20000 00:00&lt;00:00]\n",
       "    </div>\n",
       "    "
      ],
      "text/plain": [
       "<IPython.core.display.HTML object>"
      ]
     },
     "metadata": {},
     "output_type": "display_data"
    }
   ],
   "source": [
    "with pm.Model() as m:\n",
    "    # associate data with model (this makes prediction easier)\n",
    "    X_data = pm.Data(\"X\", X_aug, mutable=True)\n",
    "    y_data = pm.Data(\"y\", y, mutable=False)\n",
    "\n",
    "    # priors\n",
    "    beta = pm.Normal(\"beta\", mu=0, sigma=1000, shape=X.shape[1] + 1)\n",
    "    tau = pm.Gamma(\"tau\", alpha=0.001, beta=0.001)\n",
    "    sigma = pm.Deterministic(\"sigma\", 1 / pm.math.sqrt(tau))\n",
    "\n",
    "    mu = pm.math.dot(X_data, beta)\n",
    "\n",
    "    # likelihood\n",
    "    pm.Normal(\"taste_score\", mu=mu, sigma=sigma, observed=y_data)\n",
    "\n",
    "    # start sampling\n",
    "    trace = pm.sample(5000, target_accept=0.95)\n",
    "    pm.sample_posterior_predictive(trace, extend_inferencedata=True)"
   ]
  },
  {
   "cell_type": "code",
   "execution_count": 18,
   "id": "81f1b9dc",
   "metadata": {},
   "outputs": [
    {
     "data": {
      "text/html": [
       "<div>\n",
       "<style scoped>\n",
       "    .dataframe tbody tr th:only-of-type {\n",
       "        vertical-align: middle;\n",
       "    }\n",
       "\n",
       "    .dataframe tbody tr th {\n",
       "        vertical-align: top;\n",
       "    }\n",
       "\n",
       "    .dataframe thead th {\n",
       "        text-align: right;\n",
       "    }\n",
       "</style>\n",
       "<table border=\"1\" class=\"dataframe\">\n",
       "  <thead>\n",
       "    <tr style=\"text-align: right;\">\n",
       "      <th></th>\n",
       "      <th>mean</th>\n",
       "      <th>sd</th>\n",
       "      <th>hdi_2.5%</th>\n",
       "      <th>hdi_97.5%</th>\n",
       "      <th>mcse_mean</th>\n",
       "      <th>mcse_sd</th>\n",
       "      <th>ess_bulk</th>\n",
       "      <th>ess_tail</th>\n",
       "      <th>r_hat</th>\n",
       "    </tr>\n",
       "  </thead>\n",
       "  <tbody>\n",
       "    <tr>\n",
       "      <th>beta[0]</th>\n",
       "      <td>-28.975</td>\n",
       "      <td>20.013</td>\n",
       "      <td>-68.339</td>\n",
       "      <td>10.446</td>\n",
       "      <td>0.234</td>\n",
       "      <td>0.165</td>\n",
       "      <td>7342.0</td>\n",
       "      <td>9821.0</td>\n",
       "      <td>1.0</td>\n",
       "    </tr>\n",
       "    <tr>\n",
       "      <th>beta[1]</th>\n",
       "      <td>0.318</td>\n",
       "      <td>4.533</td>\n",
       "      <td>-8.505</td>\n",
       "      <td>9.357</td>\n",
       "      <td>0.054</td>\n",
       "      <td>0.039</td>\n",
       "      <td>7145.0</td>\n",
       "      <td>9300.0</td>\n",
       "      <td>1.0</td>\n",
       "    </tr>\n",
       "    <tr>\n",
       "      <th>beta[2]</th>\n",
       "      <td>3.910</td>\n",
       "      <td>1.271</td>\n",
       "      <td>1.398</td>\n",
       "      <td>6.378</td>\n",
       "      <td>0.012</td>\n",
       "      <td>0.009</td>\n",
       "      <td>10419.0</td>\n",
       "      <td>11096.0</td>\n",
       "      <td>1.0</td>\n",
       "    </tr>\n",
       "    <tr>\n",
       "      <th>beta[3]</th>\n",
       "      <td>19.772</td>\n",
       "      <td>8.872</td>\n",
       "      <td>2.376</td>\n",
       "      <td>37.434</td>\n",
       "      <td>0.088</td>\n",
       "      <td>0.064</td>\n",
       "      <td>10138.0</td>\n",
       "      <td>11036.0</td>\n",
       "      <td>1.0</td>\n",
       "    </tr>\n",
       "    <tr>\n",
       "      <th>tau</th>\n",
       "      <td>0.010</td>\n",
       "      <td>0.003</td>\n",
       "      <td>0.005</td>\n",
       "      <td>0.015</td>\n",
       "      <td>0.000</td>\n",
       "      <td>0.000</td>\n",
       "      <td>9946.0</td>\n",
       "      <td>10006.0</td>\n",
       "      <td>1.0</td>\n",
       "    </tr>\n",
       "    <tr>\n",
       "      <th>sigma</th>\n",
       "      <td>10.450</td>\n",
       "      <td>1.530</td>\n",
       "      <td>7.734</td>\n",
       "      <td>13.589</td>\n",
       "      <td>0.016</td>\n",
       "      <td>0.011</td>\n",
       "      <td>9946.0</td>\n",
       "      <td>10006.0</td>\n",
       "      <td>1.0</td>\n",
       "    </tr>\n",
       "  </tbody>\n",
       "</table>\n",
       "</div>"
      ],
      "text/plain": [
       "           mean      sd  hdi_2.5%  hdi_97.5%  mcse_mean  mcse_sd  ess_bulk  \\\n",
       "beta[0] -28.975  20.013   -68.339     10.446      0.234    0.165    7342.0   \n",
       "beta[1]   0.318   4.533    -8.505      9.357      0.054    0.039    7145.0   \n",
       "beta[2]   3.910   1.271     1.398      6.378      0.012    0.009   10419.0   \n",
       "beta[3]  19.772   8.872     2.376     37.434      0.088    0.064   10138.0   \n",
       "tau       0.010   0.003     0.005      0.015      0.000    0.000    9946.0   \n",
       "sigma    10.450   1.530     7.734     13.589      0.016    0.011    9946.0   \n",
       "\n",
       "         ess_tail  r_hat  \n",
       "beta[0]    9821.0    1.0  \n",
       "beta[1]    9300.0    1.0  \n",
       "beta[2]   11096.0    1.0  \n",
       "beta[3]   11036.0    1.0  \n",
       "tau       10006.0    1.0  \n",
       "sigma     10006.0    1.0  "
      ]
     },
     "execution_count": 18,
     "metadata": {},
     "output_type": "execute_result"
    }
   ],
   "source": [
    "az.summary(trace, hdi_prob=0.95)"
   ]
  },
  {
   "cell_type": "code",
   "execution_count": 19,
   "id": "a3e84c05-bb37-429f-8be5-90b811205304",
   "metadata": {},
   "outputs": [
    {
     "ename": "TypeError",
     "evalue": "r2_score() missing 1 required positional argument: 'y_pred'",
     "output_type": "error",
     "traceback": [
      "\u001b[0;31m---------------------------------------------------------------------------\u001b[0m",
      "\u001b[0;31mTypeError\u001b[0m                                 Traceback (most recent call last)",
      "Cell \u001b[0;32mIn[19], line 1\u001b[0m\n\u001b[0;32m----> 1\u001b[0m \u001b[43maz\u001b[49m\u001b[38;5;241;43m.\u001b[39;49m\u001b[43mr2_score\u001b[49m\u001b[43m(\u001b[49m\u001b[43mtrace\u001b[49m\u001b[43m)\u001b[49m\n",
      "\u001b[0;31mTypeError\u001b[0m: r2_score() missing 1 required positional argument: 'y_pred'"
     ]
    }
   ],
   "source": []
  },
  {
   "cell_type": "markdown",
   "id": "d6a5744e",
   "metadata": {},
   "source": [
    "Results are pretty close to OpenBUGS:\n",
    "\n",
    "|         mean |     sd   |        MC_error |   val2.5pc | median  |   val97.5pc | start   | sample |        |\n",
    "|--------------|----------|-----------------|------------|---------|-------------|---------|--------|--------|\n",
    "| beta0        | -29.75   | 20.24           | 0.7889     | -70.06  | -29.75      | 11.11   | 1000   | 100001 |\n",
    "| beta1        | 0.4576   | 4.6             | 0.189      | -8.716  | 0.4388      | 9.786   | 1000   | 100001 |\n",
    "| beta2        | 3.906    | 1.291           | 0.02725    | 1.345   | 3.912       | 6.47    | 1000   | 100001 |\n",
    "| beta3        | 19.79    | 8.893           | 0.2379     | 2.053   | 19.88       | 37.2    | 1000   | 100001 |\n",
    "| tau          | 0.009777 | 0.002706        | 2.29E-05   | 0.00522 | 0.009528    | 0.01575 | 1000   | 100001 |"
   ]
  },
  {
   "cell_type": "markdown",
   "id": "c5ffb987",
   "metadata": {},
   "source": [
    "PyMC gives some warnings about the model unless we increase the ```target_accept``` parameter of ```pm.sample```, while BUGS doesn't. This is because PyMC uses more diagnostics to check if there are any problems with its exploration of the parameter space. Divergences indicate bias in the results. BUGS will happily run this model without reporting any problems, but it doesn't mean that there aren't any.\n",
    "\n",
    "For further reading, check out [Diagnosing Biased Inference with Divergences](https://docs.pymc.io/en/v3/pymc-examples/examples/diagnostics_and_criticism/Diagnosing_biased_Inference_with_Divergences.html)."
   ]
  },
  {
   "cell_type": "markdown",
   "id": "5db0941c",
   "metadata": {},
   "source": [
    "It looks like there are multiple ways to get predictions on out-of-sample data in PyMC. The easiest way is to set up a shared variable using pm.Data in the original model, then using pm.set_data to change to the new observations before calling pm.sample_posterior_predictive."
   ]
  },
  {
   "cell_type": "code",
   "execution_count": 5,
   "id": "57e01d45",
   "metadata": {
    "tags": [
     "hide-output"
    ]
   },
   "outputs": [],
   "source": [
    "# single prediction on out-of-sample data\n",
    "new_obs = np.array([[1.0, 5.0, 7.1, 1.5]])\n",
    "pm.set_data({\"X\": new_obs}, model=m)\n",
    "ppc = pm.sample_posterior_predictive(trace, model=m, predictions=True)"
   ]
  },
  {
   "cell_type": "markdown",
   "id": "305f88ce-fdad-4e97-9aa3-4387b4e3b389",
   "metadata": {},
   "source": [
    "The default behavior now is to give one prediction per y-value. The professor often asks for a single prediction based on the new data; the equivalent here would be to take the mean of the predicted values."
   ]
  },
  {
   "cell_type": "code",
   "execution_count": 6,
   "id": "bf0b18eb-c91f-492b-b726-b293834fc9d7",
   "metadata": {},
   "outputs": [
    {
     "data": {
      "text/plain": [
       "mean            30.017800\n",
       "sd              11.217567\n",
       "hdi_2.5%         7.822233\n",
       "hdi_97.5%       52.016233\n",
       "mcse_mean        0.084767\n",
       "mcse_sd          0.060000\n",
       "ess_bulk     17495.633333\n",
       "ess_tail     18667.900000\n",
       "r_hat            1.000000\n",
       "dtype: float64"
      ]
     },
     "execution_count": 6,
     "metadata": {},
     "output_type": "execute_result"
    }
   ],
   "source": [
    "az.summary(ppc.predictions, hdi_prob=0.95).mean()"
   ]
  },
  {
   "cell_type": "code",
   "execution_count": 7,
   "id": "42361a9d",
   "metadata": {},
   "outputs": [
    {
     "name": "stdout",
     "output_type": "stream",
     "text": [
      "Last updated: Sat Mar 18 2023\n",
      "\n",
      "Python implementation: CPython\n",
      "Python version       : 3.11.0\n",
      "IPython version      : 8.9.0\n",
      "\n",
      "pytensor: 2.10.1\n",
      "\n",
      "numpy : 1.24.2\n",
      "pandas: 1.5.3\n",
      "arviz : 0.14.0\n",
      "pymc  : 5.1.1\n",
      "\n"
     ]
    }
   ],
   "source": [
    "%load_ext watermark\n",
    "%watermark -n -u -v -iv -p pytensor"
   ]
  },
  {
   "cell_type": "code",
   "execution_count": null,
   "id": "fbef9fb5",
   "metadata": {},
   "outputs": [],
   "source": []
  }
 ],
 "metadata": {
  "kernelspec": {
   "display_name": "Python 3 (ipykernel)",
   "language": "python",
   "name": "python3"
  },
  "language_info": {
   "codemirror_mode": {
    "name": "ipython",
    "version": 3
   },
   "file_extension": ".py",
   "mimetype": "text/x-python",
   "name": "python",
   "nbconvert_exporter": "python",
   "pygments_lexer": "ipython3",
   "version": "3.11.0"
  }
 },
 "nbformat": 4,
 "nbformat_minor": 5
}
