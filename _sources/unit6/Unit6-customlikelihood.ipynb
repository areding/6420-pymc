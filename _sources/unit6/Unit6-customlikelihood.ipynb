{
 "cells": [
  {
   "cell_type": "code",
   "execution_count": 1,
   "id": "f5199f38",
   "metadata": {
    "tags": [
     "hide-output"
    ]
   },
   "outputs": [],
   "source": [
    "import arviz as az\n",
    "import pymc as pm\n",
    "from pymc.math import log, sqr\n",
    "\n",
    "%load_ext lab_black"
   ]
  },
  {
   "cell_type": "markdown",
   "id": "a3dab390",
   "metadata": {},
   "source": [
    "# Zero-tricks and Custom Likelihoods*\n",
    "\n",
    "## Zero-trick Jeremy\n",
    "\n",
    "This introduces the \"zero trick\", which I'm still not sure if we'll ever need. Including for completeness' sake.\n",
    "\n",
    "Adapted from [Unit 6: zerotrickjeremy.odc](https://raw.githubusercontent.com/areding/6420-pymc/main/original_examples/Codes4Unit6/zerotrickjeremy.odc)."
   ]
  },
  {
   "cell_type": "markdown",
   "id": "c7a973df",
   "metadata": {},
   "source": [
    "There's a running example in the lectures about Jeremy testing his IQ. At some point I will track all those down and add links here, but for now I'm just going to port the code.\n",
    "\n",
    "I'm not sure what's going on when the professor sets ```z1``` as both a deterministic and random variable. I'll need to test some things out in BUGS once the Citrix virtual machines are back online. For now, here's a first pass at recreating the model, where I interpret the ```z <- 0``` as feeding an observation of zero to the variable.\n",
    "\n",
    "That said, I don't think we will ever need to use the zeros or ones tricks in the homeworks. If we do I will definitely expand this page."
   ]
  },
  {
   "cell_type": "code",
   "execution_count": 2,
   "id": "b99d7cd4",
   "metadata": {},
   "outputs": [],
   "source": [
    "y = 98\n",
    "μ = 110\n",
    "σ = 8.944272\n",
    "τ = 10.954451\n",
    "constant = 1000  # can't let lambda be lower than zero\n",
    "\n",
    "inits = {\"θ\": 100}"
   ]
  },
  {
   "cell_type": "code",
   "execution_count": 3,
   "id": "258031fa",
   "metadata": {
    "tags": [
     "hide-output"
    ]
   },
   "outputs": [
    {
     "name": "stderr",
     "output_type": "stream",
     "text": [
      "Auto-assigning NUTS sampler...\n",
      "Initializing NUTS using jitter+adapt_diag...\n",
      "Initializing NUTS using jitter+adapt_diag...\n",
      "Multiprocess sampling (4 chains in 4 jobs)\n",
      "NUTS: [θ]\n",
      "Sampling 4 chains for 1_000 tune and 10_000 draw iterations (4_000 + 40_000 draws total) took 9 seconds.\n",
      "Chain <xarray.DataArray 'chain' ()>\n",
      "array(0)\n",
      "Coordinates:\n",
      "    chain    int64 0 reached the maximum tree depth. Increase `max_treedepth`, increase `target_accept` or reparameterize.\n",
      "Chain <xarray.DataArray 'chain' ()>\n",
      "array(1)\n",
      "Coordinates:\n",
      "    chain    int64 1 reached the maximum tree depth. Increase `max_treedepth`, increase `target_accept` or reparameterize.\n",
      "Chain <xarray.DataArray 'chain' ()>\n",
      "array(2)\n",
      "Coordinates:\n",
      "    chain    int64 2 reached the maximum tree depth. Increase `max_treedepth`, increase `target_accept` or reparameterize.\n",
      "Chain <xarray.DataArray 'chain' ()>\n",
      "array(3)\n",
      "Coordinates:\n",
      "    chain    int64 3 reached the maximum tree depth. Increase `max_treedepth`, increase `target_accept` or reparameterize.\n"
     ]
    }
   ],
   "source": [
    "with pm.Model() as m:\n",
    "    θ = pm.Flat(\"θ\")\n",
    "\n",
    "    λ1 = pm.Deterministic(\"λ1\", log(σ) + 0.5 * sqr(((y - θ) / σ)) + constant)\n",
    "    λ2 = pm.Deterministic(\"λ2\", log(τ) + 0.5 * sqr(((θ - μ) / τ)) + constant)\n",
    "\n",
    "    z1 = pm.Poisson(\"z1\", λ1, observed=0)\n",
    "    z2 = pm.Poisson(\"z2\", λ2, observed=0)\n",
    "\n",
    "    trace = pm.sample(5000, tune=1000, initvals=inits, target_accept=0.88)"
   ]
  },
  {
   "cell_type": "code",
   "execution_count": 4,
   "id": "7dba6172",
   "metadata": {},
   "outputs": [
    {
     "data": {
      "text/html": [
       "<div>\n",
       "<style scoped>\n",
       "    .dataframe tbody tr th:only-of-type {\n",
       "        vertical-align: middle;\n",
       "    }\n",
       "\n",
       "    .dataframe tbody tr th {\n",
       "        vertical-align: top;\n",
       "    }\n",
       "\n",
       "    .dataframe thead th {\n",
       "        text-align: right;\n",
       "    }\n",
       "</style>\n",
       "<table border=\"1\" class=\"dataframe\">\n",
       "  <thead>\n",
       "    <tr style=\"text-align: right;\">\n",
       "      <th></th>\n",
       "      <th>mean</th>\n",
       "      <th>sd</th>\n",
       "      <th>hdi_2.5%</th>\n",
       "      <th>hdi_97.5%</th>\n",
       "      <th>mcse_mean</th>\n",
       "      <th>mcse_sd</th>\n",
       "      <th>ess_bulk</th>\n",
       "      <th>ess_tail</th>\n",
       "      <th>r_hat</th>\n",
       "    </tr>\n",
       "  </thead>\n",
       "  <tbody>\n",
       "    <tr>\n",
       "      <th>θ</th>\n",
       "      <td>102.781</td>\n",
       "      <td>6.932</td>\n",
       "      <td>89.442</td>\n",
       "      <td>116.391</td>\n",
       "      <td>0.057</td>\n",
       "      <td>0.040</td>\n",
       "      <td>14915.0</td>\n",
       "      <td>22114.0</td>\n",
       "      <td>1.0</td>\n",
       "    </tr>\n",
       "    <tr>\n",
       "      <th>λ1</th>\n",
       "      <td>1002.634</td>\n",
       "      <td>0.584</td>\n",
       "      <td>1002.191</td>\n",
       "      <td>1003.836</td>\n",
       "      <td>0.004</td>\n",
       "      <td>0.003</td>\n",
       "      <td>17998.0</td>\n",
       "      <td>22701.0</td>\n",
       "      <td>1.0</td>\n",
       "    </tr>\n",
       "    <tr>\n",
       "      <th>λ2</th>\n",
       "      <td>1002.811</td>\n",
       "      <td>0.505</td>\n",
       "      <td>1002.394</td>\n",
       "      <td>1003.846</td>\n",
       "      <td>0.004</td>\n",
       "      <td>0.003</td>\n",
       "      <td>16323.0</td>\n",
       "      <td>22175.0</td>\n",
       "      <td>1.0</td>\n",
       "    </tr>\n",
       "  </tbody>\n",
       "</table>\n",
       "</div>"
      ],
      "text/plain": [
       "        mean     sd  hdi_2.5%  hdi_97.5%  mcse_mean  mcse_sd  ess_bulk  \\\n",
       "θ    102.781  6.932    89.442    116.391      0.057    0.040   14915.0   \n",
       "λ1  1002.634  0.584  1002.191   1003.836      0.004    0.003   17998.0   \n",
       "λ2  1002.811  0.505  1002.394   1003.846      0.004    0.003   16323.0   \n",
       "\n",
       "    ess_tail  r_hat  \n",
       "θ    22114.0    1.0  \n",
       "λ1   22701.0    1.0  \n",
       "λ2   22175.0    1.0  "
      ]
     },
     "execution_count": 4,
     "metadata": {},
     "output_type": "execute_result"
    }
   ],
   "source": [
    "az.summary(trace, hdi_prob=0.95)"
   ]
  },
  {
   "cell_type": "markdown",
   "id": "a28f71b2",
   "metadata": {},
   "source": [
    "Again, it's not clear to me what BUGS is doing, but these PyMC results are almost exactly the same as the professor's results so this must be close. I have also tried passing vectors of zeros to each ```z```, putting more weight on the zero \"observations.\" This ended up reducing the credible interval and standard deviation of theta. \n",
    "\n",
    "I found [this page](http://www.medicine.mcgill.ca/epidemiology/Joseph/courses/common/Tricks.html) that briefly mentions the same trick. They note that \"... this method can be very inefficient and give a very high MC error.\"\n",
    "\n",
    "Statistical Rethinking 12.2 talks about zero-inflation, may need to give that a read.\n"
   ]
  },
  {
   "cell_type": "code",
   "execution_count": 5,
   "id": "bcdc0192",
   "metadata": {},
   "outputs": [
    {
     "name": "stdout",
     "output_type": "stream",
     "text": [
      "Last updated: Sat Mar 18 2023\n",
      "\n",
      "Python implementation: CPython\n",
      "Python version       : 3.11.0\n",
      "IPython version      : 8.9.0\n",
      "\n",
      "pytensor: 2.10.1\n",
      "\n",
      "arviz     : 0.14.0\n",
      "numpy     : 1.24.2\n",
      "matplotlib: 3.6.3\n",
      "pymc      : 5.1.1\n",
      "\n"
     ]
    }
   ],
   "source": [
    "%load_ext watermark\n",
    "%watermark -n -u -v -iv -p pytensor"
   ]
  },
  {
   "cell_type": "code",
   "execution_count": null,
   "id": "ac927526",
   "metadata": {},
   "outputs": [],
   "source": []
  }
 ],
 "metadata": {
  "kernelspec": {
   "display_name": "Python 3 (ipykernel)",
   "language": "python",
   "name": "python3"
  },
  "language_info": {
   "codemirror_mode": {
    "name": "ipython",
    "version": 3
   },
   "file_extension": ".py",
   "mimetype": "text/x-python",
   "name": "python",
   "nbconvert_exporter": "python",
   "pygments_lexer": "ipython3",
   "version": "3.11.0"
  }
 },
 "nbformat": 4,
 "nbformat_minor": 5
}
