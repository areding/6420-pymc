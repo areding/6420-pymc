{
 "cells": [
  {
   "cell_type": "code",
   "execution_count": 2,
   "id": "6bcac793",
   "metadata": {},
   "outputs": [],
   "source": [
    "import arviz as az\n",
    "import pymc as pm\n",
    "from pymc.math import switch, ge\n",
    "import pandas as pd\n",
    "import numpy as np"
   ]
  },
  {
   "cell_type": "markdown",
   "id": "f8d8156f",
   "metadata": {},
   "source": [
    "# Loading Data, Step Function, and Deterministic Variables*\n",
    "\n",
    "This example introduces data containers, tracking of deterministic variables, and shows how to recreate the BUGS step function in PyMC."
   ]
  },
  {
   "cell_type": "markdown",
   "id": "7d49e918-c409-4493-bf64-49a4f3aa5de1",
   "metadata": {},
   "source": [
    "## Taste of Cheese\n",
    "\n",
    "Adapted from [Unit 6: cheese.odc](https://raw.githubusercontent.com/areding/6420-pymc/main/original_examples/Codes4Unit6/cheese.odc).\n",
    "\n",
    "The link in the original .odc file is dead. I downloaded the data from [here](https://www3.nd.edu/~busiforc/handouts/Data%20and%20Stories/multicollinearity/Cheese%20Taste/Cheddar%20Cheese%20Data.html) and have a copy [here](https://raw.githubusercontent.com/areding/6420-pymc/main/data/cheese.csv)."
   ]
  },
  {
   "cell_type": "markdown",
   "id": "85140e7c-6ae9-4b4e-9c6d-8bcdd0b1dc27",
   "metadata": {},
   "source": [
    "As cheddar cheese matures, a variety of chemical processes take place. The taste of matured cheese is related to the concentration of several chemicals in the final product. In a study of cheddar cheese from the Latrobe Valley of Victoria, Australia, samples of cheese were analyzed for their chemical composition and were subjected to taste tests. Overall taste scores were obtained by combining the scores from several tasters.\n",
    "\n",
    "Can the score be predicted well by the predictors: Acetic, H2S, and Lactic?"
   ]
  },
  {
   "cell_type": "code",
   "execution_count": 3,
   "id": "4d1b6b90-c954-4550-b395-1b43b0eb3e68",
   "metadata": {},
   "outputs": [],
   "source": [
    "data = pd.read_csv(\"../data/cheese.csv\", index_col=0)"
   ]
  },
  {
   "cell_type": "code",
   "execution_count": 4,
   "id": "37b96507-8960-4de0-9749-9fbc0e10deca",
   "metadata": {},
   "outputs": [
    {
     "data": {
      "text/html": [
       "<div>\n",
       "<style scoped>\n",
       "    .dataframe tbody tr th:only-of-type {\n",
       "        vertical-align: middle;\n",
       "    }\n",
       "\n",
       "    .dataframe tbody tr th {\n",
       "        vertical-align: top;\n",
       "    }\n",
       "\n",
       "    .dataframe thead th {\n",
       "        text-align: right;\n",
       "    }\n",
       "</style>\n",
       "<table border=\"1\" class=\"dataframe\">\n",
       "  <thead>\n",
       "    <tr style=\"text-align: right;\">\n",
       "      <th></th>\n",
       "      <th>taste</th>\n",
       "      <th>Acetic</th>\n",
       "      <th>H2S</th>\n",
       "      <th>Lactic</th>\n",
       "    </tr>\n",
       "  </thead>\n",
       "  <tbody>\n",
       "    <tr>\n",
       "      <th>1</th>\n",
       "      <td>12.3</td>\n",
       "      <td>4.543</td>\n",
       "      <td>3.135</td>\n",
       "      <td>0.86</td>\n",
       "    </tr>\n",
       "    <tr>\n",
       "      <th>2</th>\n",
       "      <td>20.9</td>\n",
       "      <td>5.159</td>\n",
       "      <td>5.043</td>\n",
       "      <td>1.53</td>\n",
       "    </tr>\n",
       "    <tr>\n",
       "      <th>3</th>\n",
       "      <td>39.0</td>\n",
       "      <td>5.366</td>\n",
       "      <td>5.438</td>\n",
       "      <td>1.57</td>\n",
       "    </tr>\n",
       "    <tr>\n",
       "      <th>4</th>\n",
       "      <td>47.9</td>\n",
       "      <td>5.759</td>\n",
       "      <td>7.496</td>\n",
       "      <td>1.81</td>\n",
       "    </tr>\n",
       "    <tr>\n",
       "      <th>5</th>\n",
       "      <td>5.6</td>\n",
       "      <td>4.663</td>\n",
       "      <td>3.807</td>\n",
       "      <td>0.99</td>\n",
       "    </tr>\n",
       "  </tbody>\n",
       "</table>\n",
       "</div>"
      ],
      "text/plain": [
       "   taste  Acetic    H2S  Lactic\n",
       "1   12.3   4.543  3.135    0.86\n",
       "2   20.9   5.159  5.043    1.53\n",
       "3   39.0   5.366  5.438    1.57\n",
       "4   47.9   5.759  7.496    1.81\n",
       "5    5.6   4.663  3.807    0.99"
      ]
     },
     "execution_count": 4,
     "metadata": {},
     "output_type": "execute_result"
    }
   ],
   "source": [
    "data.head()"
   ]
  },
  {
   "cell_type": "markdown",
   "id": "d7682b4d",
   "metadata": {},
   "source": [
    "The main goal of this exercise is to practice loading the data and implementing a simple model.  Let's first specify the model structure, then write the code.  Since our goal is to model the relationship between chemical compounds and perceived taste, we can use a Bayesian linear regression model:\n",
    "\n",
    "$$\n",
    "\\begin{align*}\n",
    "\\texttt{taste}_{i} &\\sim \\mathcal{N}(\\mu_{i} , \\sigma^{2})\\\\\n",
    "\\mu_{i} &= \\beta_{0} + \\beta_{1}\\cdot\\texttt{Acetic}_{i} + \\beta_{2}\\cdot\\texttt{H2S}_{i} + \\beta_{3}\\cdot\\texttt{Lactic}_{i}\\\\\n",
    "\\boldsymbol{\\beta} &\\sim \\mathcal{N}(0,\\sigma^{2} = 100000)\\\\\n",
    "\\sigma &= \\frac{1}{\\sqrt{\\tau}}\\\\\n",
    "\\tau  &\\sim \\text{Gamma(0.001, 0.001)}\\\\ \n",
    "\\end{align*}\n",
    "$$\n",
    "\n",
    "This model assumes that the taste score for each observation follows a normal distribution with mean $\\mu_i$ and variance $\\sigma^2$, where $\\mu_i$ is a linear combination of the chemical predictors. We place vague normal priors on the regression coefficients and a weakly informative Gamma prior on the precision parameter $\\tau$ (inverse variance).\n",
    "\n",
    "It's often more practical to express the linear model in *matrix/vector form* rather than writing out each term separately:\n",
    "\n",
    "$$\n",
    "\\boldsymbol{\\eta} = \\mathbf{X}\\boldsymbol{\\beta}\n",
    "$$\n",
    "\n",
    "Here $\\boldsymbol{\\eta}$ is the linear predictor, without adding any random noise.  If you're not familiar with the matrix notation for multiple linear regression, $\\mathbf{X}$ and $\\boldsymbol{\\beta}$ are:\n",
    "\n",
    "$$\n",
    "\\mathbf{X} = \\begin{bmatrix}\n",
    "1 & \\texttt{Acetic}_1 & \\texttt{H2S}_1 & \\texttt{Lactic}_1 \\\\\n",
    "1 & \\texttt{Acetic}_2 & \\texttt{H2S}_2 & \\texttt{Lactic}_2 \\\\\n",
    "\\vdots & \\vdots & \\vdots & \\vdots \\\\\n",
    "1 & \\texttt{Acetic}_n & \\texttt{H2S}_n & \\texttt{Lactic}_n\n",
    "\\end{bmatrix}\n",
    "\\text{ and }\n",
    "\\beta = \n",
    "\\begin{bmatrix}\n",
    "\\text{Coefficient for Intercept}\\\\\n",
    "\\text{Coefficient for }\\texttt{Acetic}\\\\\n",
    "\\text{Coefficient for }\\texttt{H2S}\\\\\n",
    "\\text{Coefficient for }\\texttt{Lactic}\\\\\n",
    "\\end{bmatrix}\n",
    "$$\n",
    "\n",
    "$\\mathbf{X}$ is the design matrix: which contains all predictor columns along with a column of ones to account for the intercept $\\beta_{0}$.  To make this clear in our code, we'll call it `X_aug`."
   ]
  },
  {
   "cell_type": "code",
   "execution_count": null,
   "id": "016e8e85",
   "metadata": {},
   "outputs": [],
   "source": [
    "X = data[[\"Acetic\", \"H2S\", \"Lactic\"]].to_numpy()\n",
    "# add intercept column to X\n",
    "X_aug = np.concatenate((np.ones((X.shape[0], 1)), X), axis=1)\n",
    "y = data[\"taste\"].to_numpy()"
   ]
  },
  {
   "cell_type": "code",
   "execution_count": 6,
   "id": "2b298508",
   "metadata": {},
   "outputs": [
    {
     "name": "stderr",
     "output_type": "stream",
     "text": [
      "Initializing NUTS using jitter+adapt_diag...\n",
      "Multiprocess sampling (4 chains in 4 jobs)\n",
      "NUTS: [beta, tau]\n"
     ]
    },
    {
     "data": {
      "application/vnd.jupyter.widget-view+json": {
       "model_id": "e899ef41c07d453795da3dddaec5b74e",
       "version_major": 2,
       "version_minor": 0
      },
      "text/plain": [
       "Output()"
      ]
     },
     "metadata": {},
     "output_type": "display_data"
    },
    {
     "data": {
      "text/html": [
       "<pre style=\"white-space:pre;overflow-x:auto;line-height:normal;font-family:Menlo,'DejaVu Sans Mono',consolas,'Courier New',monospace\"></pre>\n"
      ],
      "text/plain": []
     },
     "metadata": {},
     "output_type": "display_data"
    },
    {
     "name": "stderr",
     "output_type": "stream",
     "text": [
      "Sampling 4 chains for 1_000 tune and 5_000 draw iterations (4_000 + 20_000 draws total) took 12 seconds.\n",
      "Sampling: [taste_score]\n"
     ]
    },
    {
     "data": {
      "application/vnd.jupyter.widget-view+json": {
       "model_id": "3bb45d508dc74fe0aaa005b7eb196bd7",
       "version_major": 2,
       "version_minor": 0
      },
      "text/plain": [
       "Output()"
      ]
     },
     "metadata": {},
     "output_type": "display_data"
    },
    {
     "data": {
      "text/html": [
       "<pre style=\"white-space:pre;overflow-x:auto;line-height:normal;font-family:Menlo,'DejaVu Sans Mono',consolas,'Courier New',monospace\"></pre>\n"
      ],
      "text/plain": []
     },
     "metadata": {},
     "output_type": "display_data"
    }
   ],
   "source": [
    "with pm.Model() as m:\n",
    "    # associate data with model (this makes prediction easier)\n",
    "    X_data = pm.Data(\"X\", X_aug)\n",
    "    y_data = pm.Data(\"y\", y)\n",
    "\n",
    "    # priors\n",
    "    beta = pm.Normal(\"beta\", mu=0, sigma=1000, shape=X.shape[1] + 1)\n",
    "    tau = pm.Gamma(\"tau\", alpha=0.001, beta=0.001)\n",
    "    sigma = pm.Deterministic(\"sigma\", 1 / pm.math.sqrt(tau))\n",
    "\n",
    "    mu = pm.math.dot(X_data, beta)\n",
    "\n",
    "    # likelihood\n",
    "    pm.Normal(\"taste_score\", mu=mu, sigma=sigma, observed=y_data, shape=X_data.shape[0])\n",
    "\n",
    "    trace = pm.sample(5000, target_accept=0.95)\n",
    "    pm.sample_posterior_predictive(trace, extend_inferencedata=True)"
   ]
  },
  {
   "cell_type": "code",
   "execution_count": 7,
   "id": "6bae98d7-3083-4351-91ee-35afcdd2fb48",
   "metadata": {},
   "outputs": [
    {
     "data": {
      "text/html": [
       "<div>\n",
       "<style scoped>\n",
       "    .dataframe tbody tr th:only-of-type {\n",
       "        vertical-align: middle;\n",
       "    }\n",
       "\n",
       "    .dataframe tbody tr th {\n",
       "        vertical-align: top;\n",
       "    }\n",
       "\n",
       "    .dataframe thead th {\n",
       "        text-align: right;\n",
       "    }\n",
       "</style>\n",
       "<table border=\"1\" class=\"dataframe\">\n",
       "  <thead>\n",
       "    <tr style=\"text-align: right;\">\n",
       "      <th></th>\n",
       "      <th>mean</th>\n",
       "      <th>sd</th>\n",
       "      <th>hdi_2.5%</th>\n",
       "      <th>hdi_97.5%</th>\n",
       "      <th>mcse_mean</th>\n",
       "      <th>mcse_sd</th>\n",
       "      <th>ess_bulk</th>\n",
       "      <th>ess_tail</th>\n",
       "      <th>r_hat</th>\n",
       "    </tr>\n",
       "  </thead>\n",
       "  <tbody>\n",
       "    <tr>\n",
       "      <th>beta[0]</th>\n",
       "      <td>-29.098</td>\n",
       "      <td>20.297</td>\n",
       "      <td>-67.733</td>\n",
       "      <td>12.394</td>\n",
       "      <td>0.235</td>\n",
       "      <td>0.166</td>\n",
       "      <td>7438.0</td>\n",
       "      <td>9329.0</td>\n",
       "      <td>1.0</td>\n",
       "    </tr>\n",
       "    <tr>\n",
       "      <th>beta[1]</th>\n",
       "      <td>0.367</td>\n",
       "      <td>4.605</td>\n",
       "      <td>-8.522</td>\n",
       "      <td>9.589</td>\n",
       "      <td>0.055</td>\n",
       "      <td>0.039</td>\n",
       "      <td>7017.0</td>\n",
       "      <td>8133.0</td>\n",
       "      <td>1.0</td>\n",
       "    </tr>\n",
       "    <tr>\n",
       "      <th>beta[2]</th>\n",
       "      <td>3.895</td>\n",
       "      <td>1.304</td>\n",
       "      <td>1.324</td>\n",
       "      <td>6.453</td>\n",
       "      <td>0.014</td>\n",
       "      <td>0.010</td>\n",
       "      <td>9139.0</td>\n",
       "      <td>10809.0</td>\n",
       "      <td>1.0</td>\n",
       "    </tr>\n",
       "    <tr>\n",
       "      <th>beta[3]</th>\n",
       "      <td>19.721</td>\n",
       "      <td>9.009</td>\n",
       "      <td>1.531</td>\n",
       "      <td>37.027</td>\n",
       "      <td>0.091</td>\n",
       "      <td>0.065</td>\n",
       "      <td>9940.0</td>\n",
       "      <td>11038.0</td>\n",
       "      <td>1.0</td>\n",
       "    </tr>\n",
       "    <tr>\n",
       "      <th>tau</th>\n",
       "      <td>0.010</td>\n",
       "      <td>0.003</td>\n",
       "      <td>0.005</td>\n",
       "      <td>0.015</td>\n",
       "      <td>0.000</td>\n",
       "      <td>0.000</td>\n",
       "      <td>10938.0</td>\n",
       "      <td>10771.0</td>\n",
       "      <td>1.0</td>\n",
       "    </tr>\n",
       "    <tr>\n",
       "      <th>sigma</th>\n",
       "      <td>10.437</td>\n",
       "      <td>1.512</td>\n",
       "      <td>7.800</td>\n",
       "      <td>13.503</td>\n",
       "      <td>0.015</td>\n",
       "      <td>0.011</td>\n",
       "      <td>10938.0</td>\n",
       "      <td>10771.0</td>\n",
       "      <td>1.0</td>\n",
       "    </tr>\n",
       "  </tbody>\n",
       "</table>\n",
       "</div>"
      ],
      "text/plain": [
       "           mean      sd  hdi_2.5%  hdi_97.5%  mcse_mean  mcse_sd  ess_bulk  \\\n",
       "beta[0] -29.098  20.297   -67.733     12.394      0.235    0.166    7438.0   \n",
       "beta[1]   0.367   4.605    -8.522      9.589      0.055    0.039    7017.0   \n",
       "beta[2]   3.895   1.304     1.324      6.453      0.014    0.010    9139.0   \n",
       "beta[3]  19.721   9.009     1.531     37.027      0.091    0.065    9940.0   \n",
       "tau       0.010   0.003     0.005      0.015      0.000    0.000   10938.0   \n",
       "sigma    10.437   1.512     7.800     13.503      0.015    0.011   10938.0   \n",
       "\n",
       "         ess_tail  r_hat  \n",
       "beta[0]    9329.0    1.0  \n",
       "beta[1]    8133.0    1.0  \n",
       "beta[2]   10809.0    1.0  \n",
       "beta[3]   11038.0    1.0  \n",
       "tau       10771.0    1.0  \n",
       "sigma     10771.0    1.0  "
      ]
     },
     "execution_count": 7,
     "metadata": {},
     "output_type": "execute_result"
    }
   ],
   "source": [
    "az.summary(trace, hdi_prob=0.95)"
   ]
  },
  {
   "cell_type": "code",
   "execution_count": 8,
   "id": "e1fbd660-9aaf-49c5-83f3-db9e7cf97f9c",
   "metadata": {},
   "outputs": [
    {
     "data": {
      "text/plain": [
       "r2        0.576221\n",
       "r2_std    0.076446\n",
       "dtype: float64"
      ]
     },
     "execution_count": 8,
     "metadata": {},
     "output_type": "execute_result"
    }
   ],
   "source": [
    "y_pred = trace.posterior_predictive.stack(sample=(\"chain\", \"draw\"))[\n",
    "    \"taste_score\"\n",
    "].values.T\n",
    "az.r2_score(y, y_pred)"
   ]
  },
  {
   "cell_type": "markdown",
   "id": "1cc69158-d9a4-4cab-9e65-78acc4c61bfc",
   "metadata": {},
   "source": [
    "Results are pretty close to OpenBUGS:\n",
    "\n",
    "|         mean |     sd   |        MC_error |   val2.5pc | median  |   val97.5pc | start   | sample |        |\n",
    "|--------------|----------|-----------------|------------|---------|-------------|---------|--------|--------|\n",
    "| beta0        | -29.75   | 20.24           | 0.7889     | -70.06  | -29.75      | 11.11   | 1000   | 100001 |\n",
    "| beta1        | 0.4576   | 4.6             | 0.189      | -8.716  | 0.4388      | 9.786   | 1000   | 100001 |\n",
    "| beta2        | 3.906    | 1.291           | 0.02725    | 1.345   | 3.912       | 6.47    | 1000   | 100001 |\n",
    "| beta3        | 19.79    | 8.893           | 0.2379     | 2.053   | 19.88       | 37.2    | 1000   | 100001 |\n",
    "| tau          | 0.009777 | 0.002706        | 2.29E-05   | 0.00522 | 0.009528    | 0.01575 | 1000   | 100001 |"
   ]
  },
  {
   "cell_type": "markdown",
   "id": "8547889b-0b27-4657-87ff-93efe9ad3532",
   "metadata": {},
   "source": [
    "PyMC gives some warnings about the model unless we increase the ```target_accept``` parameter of ```pm.sample```, while BUGS doesn't. This is because PyMC uses more diagnostics to check if there are any problems with its exploration of the parameter space. Divergences indicate bias in the results. BUGS will happily run this model without reporting any problems, but it doesn't mean that there aren't any.\n",
    "\n",
    "For further reading, check out [Diagnosing Biased Inference with Divergences](https://www.pymc.io/projects/examples/en/latest/diagnostics_and_criticism/Diagnosing_biased_Inference_with_Divergences.html)."
   ]
  },
  {
   "cell_type": "markdown",
   "id": "6925a83f",
   "metadata": {},
   "source": [
    "## Stress, Diet, and Acids\n",
    "\n",
    "Adapted from [Unit 6: stressacids.odc](https://raw.githubusercontent.com/areding/6420-pymc/main/original_examples/Codes4Unit6/stressacids.odc).\n",
    "\n",
    "In the study [Interrelationships Between Stress, Dietary Intake, and Plasma Ascorbic Acid During Pregnancy](https://vtechworks.lib.vt.edu/handle/10919/74486) conducted at the Virginia Polytechnic Institute and State University, the plasma ascorbic acid levels of pregnant women were compared for smokers versus non-smokers. Thirty-two women in the last three months of pregnancy, free of major health disorders, and ranging in age from 15 to 32 years were selected for the study. Prior to the collection of 20 ml of blood, the participants were told to avoid breakfast, forego their vitamin supplements, and avoid foods high in ascorbic acid content. From the blood samples, the plasma ascorbic acid values of each subject were determined in milligrams per 100 milliliters.\n",
    "\n",
    "---"
   ]
  },
  {
   "cell_type": "markdown",
   "id": "858157aa",
   "metadata": {},
   "source": [
    "The purpose of this example in lectures was mostly just to show different ways to load data in BUGS. I'm not going to go into that too much, since there are a million ways to prepare your data in Python. In the next cell, I start with the data pasted from ```stressacids.odc```, then use list comprehensions to create one list for smokers and one for nonsmokers."
   ]
  },
  {
   "cell_type": "code",
   "execution_count": 9,
   "id": "627f4609",
   "metadata": {},
   "outputs": [],
   "source": [
    "# fmt: off\n",
    "plasma = [0.97, 0.72, 1.00, 0.81, 0.62, 1.32, 1.24, 0.99, 0.90, 0.74,\n",
    "          0.88, 0.94, 1.06, 0.86, 0.85, 0.58, 0.57, 0.64, 0.98, 1.09,\n",
    "          0.92, 0.78, 1.24, 1.18, 0.48, 0.71, 0.98, 0.68, 1.18, 1.36,\n",
    "          0.78, 1.64]\n",
    "\n",
    "smo = [1, 1, 1, 1, 1, 1, 1, 1, 1, 1, 1, 1, 1, 1, 1, 1, 1, 1, 1, 1, 1, \n",
    "       1, 1, 1, 2, 2, 2, 2, 2, 2, 2, 2]\n",
    "# fmt: on\n",
    "\n",
    "nonsmokers = [x for x, y in zip(plasma, smo) if y == 1]\n",
    "smokers = [x for x, y in zip(plasma, smo) if y == 2]"
   ]
  },
  {
   "cell_type": "markdown",
   "id": "d12bf8fc",
   "metadata": {},
   "source": [
    "### BUGS step function\n",
    "\n",
    "I think this is the first time we've seen the BUGS step function.\n",
    "\n",
    "BUGS defines the step function like this:\n",
    "\n",
    "```step(e)``` is 1 if e >= 0; 0 otherwise.\n",
    "\n",
    "Keep in mind that in PyMC, step functions are how they refer to the algorithms used for sampling, as in NUTS or Metropolis. Just different terminology.\n",
    "\n",
    "We can recreate the BUGS step function with ```pm.math.switch()```:\n",
    "\n",
    "```\n",
    "pm.math.switch(e >= 0, 1, 0)\n",
    "\n",
    "```\n",
    "\n",
    "We should also probably use pm.math.ge for greater than or equal, as well, so:\n",
    "\n",
    "```\n",
    "pm.math.switch(ge(e,0), 1, 0)\n",
    "\n",
    "```"
   ]
  },
  {
   "cell_type": "markdown",
   "id": "b9751b38",
   "metadata": {},
   "source": [
    "### How do I track non-random variables in PyMC?\n",
    "\n",
    "One nice thing about BUGS is you can easily track both deterministic and non-deterministic variables while sampling. For PyMC, you can wrap these in [```pm.Deterministic()```](https://docs.pymc.io/en/v3/api/model.html). Just make sure to use [```pm.math```](https://docs.pymc.io/en/v3/api/math.html) functions where possible."
   ]
  },
  {
   "cell_type": "code",
   "execution_count": 10,
   "id": "87127e8d",
   "metadata": {
    "tags": [
     "hide-output"
    ]
   },
   "outputs": [
    {
     "name": "stderr",
     "output_type": "stream",
     "text": [
      "Initializing NUTS using jitter+adapt_diag...\n",
      "Multiprocess sampling (4 chains in 4 jobs)\n",
      "NUTS: [tau_nonsmokers, mu_nonsmokers, tau_smokers, mu_smokers]\n"
     ]
    },
    {
     "data": {
      "application/vnd.jupyter.widget-view+json": {
       "model_id": "7efa733331ea420192410c1a94835a28",
       "version_major": 2,
       "version_minor": 0
      },
      "text/plain": [
       "Output()"
      ]
     },
     "metadata": {},
     "output_type": "display_data"
    },
    {
     "data": {
      "text/html": [
       "<pre style=\"white-space:pre;overflow-x:auto;line-height:normal;font-family:Menlo,'DejaVu Sans Mono',consolas,'Courier New',monospace\"></pre>\n"
      ],
      "text/plain": []
     },
     "metadata": {},
     "output_type": "display_data"
    },
    {
     "name": "stderr",
     "output_type": "stream",
     "text": [
      "Sampling 4 chains for 1_000 tune and 5_000 draw iterations (4_000 + 20_000 draws total) took 2 seconds.\n"
     ]
    }
   ],
   "source": [
    "with pm.Model() as m:\n",
    "    # priors\n",
    "    tau_nonsmokers = pm.Gamma(\"tau_nonsmokers\", alpha=0.0001, beta=0.0001)\n",
    "    sigma_nonsmokers = 1 / pm.math.sqrt(tau_nonsmokers)\n",
    "    mu_nonsmokers = pm.Normal(\"mu_nonsmokers\", mu=0, sigma=100)\n",
    "\n",
    "    tau_smokers = pm.Gamma(\"tau_smokers\", alpha=0.0001, beta=0.0001)\n",
    "    sigma_smokers = 1 / pm.math.sqrt(tau_smokers)\n",
    "    mu_smokers = pm.Normal(\"mu_smokers\", mu=0, sigma=100)\n",
    "\n",
    "    # likelihood\n",
    "    pm.Normal(\n",
    "        \"nonsmokers_aa\",\n",
    "        mu=mu_nonsmokers,\n",
    "        sigma=sigma_nonsmokers,\n",
    "        observed=nonsmokers,\n",
    "    )\n",
    "    pm.Normal(\"smokers_aa\", mu=mu_smokers, sigma=sigma_smokers, observed=smokers)\n",
    "\n",
    "    testmu = pm.Deterministic(\"test_mu\", switch(ge(mu_smokers, mu_nonsmokers), 1, 0))\n",
    "    r = pm.Deterministic(\"prec_ratio\", tau_nonsmokers / tau_smokers)\n",
    "\n",
    "    trace = pm.sample(5000)"
   ]
  },
  {
   "cell_type": "code",
   "execution_count": 11,
   "id": "f7700966",
   "metadata": {},
   "outputs": [
    {
     "data": {
      "text/html": [
       "<div>\n",
       "<style scoped>\n",
       "    .dataframe tbody tr th:only-of-type {\n",
       "        vertical-align: middle;\n",
       "    }\n",
       "\n",
       "    .dataframe tbody tr th {\n",
       "        vertical-align: top;\n",
       "    }\n",
       "\n",
       "    .dataframe thead th {\n",
       "        text-align: right;\n",
       "    }\n",
       "</style>\n",
       "<table border=\"1\" class=\"dataframe\">\n",
       "  <thead>\n",
       "    <tr style=\"text-align: right;\">\n",
       "      <th></th>\n",
       "      <th>mean</th>\n",
       "      <th>sd</th>\n",
       "      <th>hdi_2.5%</th>\n",
       "      <th>hdi_97.5%</th>\n",
       "      <th>mcse_mean</th>\n",
       "      <th>mcse_sd</th>\n",
       "      <th>ess_bulk</th>\n",
       "      <th>ess_tail</th>\n",
       "      <th>r_hat</th>\n",
       "    </tr>\n",
       "  </thead>\n",
       "  <tbody>\n",
       "    <tr>\n",
       "      <th>mu_nonsmokers</th>\n",
       "      <td>0.912</td>\n",
       "      <td>0.045</td>\n",
       "      <td>0.820</td>\n",
       "      <td>1.000</td>\n",
       "      <td>0.000</td>\n",
       "      <td>0.000</td>\n",
       "      <td>15233.0</td>\n",
       "      <td>12039.0</td>\n",
       "      <td>1.0</td>\n",
       "    </tr>\n",
       "    <tr>\n",
       "      <th>mu_smokers</th>\n",
       "      <td>0.975</td>\n",
       "      <td>0.163</td>\n",
       "      <td>0.643</td>\n",
       "      <td>1.293</td>\n",
       "      <td>0.001</td>\n",
       "      <td>0.001</td>\n",
       "      <td>14256.0</td>\n",
       "      <td>10128.0</td>\n",
       "      <td>1.0</td>\n",
       "    </tr>\n",
       "    <tr>\n",
       "      <th>tau_nonsmokers</th>\n",
       "      <td>22.570</td>\n",
       "      <td>6.596</td>\n",
       "      <td>10.520</td>\n",
       "      <td>35.683</td>\n",
       "      <td>0.053</td>\n",
       "      <td>0.038</td>\n",
       "      <td>14810.0</td>\n",
       "      <td>12597.0</td>\n",
       "      <td>1.0</td>\n",
       "    </tr>\n",
       "    <tr>\n",
       "      <th>tau_smokers</th>\n",
       "      <td>6.521</td>\n",
       "      <td>3.530</td>\n",
       "      <td>0.761</td>\n",
       "      <td>13.378</td>\n",
       "      <td>0.029</td>\n",
       "      <td>0.021</td>\n",
       "      <td>13420.0</td>\n",
       "      <td>11155.0</td>\n",
       "      <td>1.0</td>\n",
       "    </tr>\n",
       "    <tr>\n",
       "      <th>test_mu</th>\n",
       "      <td>0.665</td>\n",
       "      <td>0.472</td>\n",
       "      <td>0.000</td>\n",
       "      <td>1.000</td>\n",
       "      <td>0.004</td>\n",
       "      <td>0.003</td>\n",
       "      <td>16922.0</td>\n",
       "      <td>16922.0</td>\n",
       "      <td>1.0</td>\n",
       "    </tr>\n",
       "    <tr>\n",
       "      <th>prec_ratio</th>\n",
       "      <td>4.896</td>\n",
       "      <td>4.343</td>\n",
       "      <td>0.652</td>\n",
       "      <td>12.053</td>\n",
       "      <td>0.043</td>\n",
       "      <td>0.031</td>\n",
       "      <td>13700.0</td>\n",
       "      <td>11313.0</td>\n",
       "      <td>1.0</td>\n",
       "    </tr>\n",
       "  </tbody>\n",
       "</table>\n",
       "</div>"
      ],
      "text/plain": [
       "                  mean     sd  hdi_2.5%  hdi_97.5%  mcse_mean  mcse_sd  \\\n",
       "mu_nonsmokers    0.912  0.045     0.820      1.000      0.000    0.000   \n",
       "mu_smokers       0.975  0.163     0.643      1.293      0.001    0.001   \n",
       "tau_nonsmokers  22.570  6.596    10.520     35.683      0.053    0.038   \n",
       "tau_smokers      6.521  3.530     0.761     13.378      0.029    0.021   \n",
       "test_mu          0.665  0.472     0.000      1.000      0.004    0.003   \n",
       "prec_ratio       4.896  4.343     0.652     12.053      0.043    0.031   \n",
       "\n",
       "                ess_bulk  ess_tail  r_hat  \n",
       "mu_nonsmokers    15233.0   12039.0    1.0  \n",
       "mu_smokers       14256.0   10128.0    1.0  \n",
       "tau_nonsmokers   14810.0   12597.0    1.0  \n",
       "tau_smokers      13420.0   11155.0    1.0  \n",
       "test_mu          16922.0   16922.0    1.0  \n",
       "prec_ratio       13700.0   11313.0    1.0  "
      ]
     },
     "execution_count": 11,
     "metadata": {},
     "output_type": "execute_result"
    }
   ],
   "source": [
    "az.summary(trace, hdi_prob=0.95)"
   ]
  },
  {
   "cell_type": "code",
   "execution_count": 12,
   "id": "65589dc9",
   "metadata": {},
   "outputs": [
    {
     "name": "stdout",
     "output_type": "stream",
     "text": [
      "Last updated: Sun Mar 09 2025\n",
      "\n",
      "Python implementation: CPython\n",
      "Python version       : 3.12.7\n",
      "IPython version      : 8.29.0\n",
      "\n",
      "pytensor: 2.26.4\n",
      "\n",
      "numpy : 1.26.4\n",
      "arviz : 0.20.0\n",
      "pymc  : 5.19.1\n",
      "pandas: 2.2.3\n",
      "\n"
     ]
    }
   ],
   "source": [
    "%load_ext watermark\n",
    "%watermark -n -u -v -iv -p pytensor"
   ]
  },
  {
   "cell_type": "code",
   "execution_count": null,
   "id": "0266f05f",
   "metadata": {},
   "outputs": [],
   "source": []
  }
 ],
 "metadata": {
  "kernelspec": {
   "display_name": "pymc_macos15",
   "language": "python",
   "name": "python3"
  },
  "language_info": {
   "codemirror_mode": {
    "name": "ipython",
    "version": 3
   },
   "file_extension": ".py",
   "mimetype": "text/x-python",
   "name": "python",
   "nbconvert_exporter": "python",
   "pygments_lexer": "ipython3",
   "version": "3.12.7"
  }
 },
 "nbformat": 4,
 "nbformat_minor": 5
}
