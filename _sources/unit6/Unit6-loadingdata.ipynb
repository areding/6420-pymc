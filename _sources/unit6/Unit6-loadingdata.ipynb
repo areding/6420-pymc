{
 "cells": [
  {
   "cell_type": "code",
   "execution_count": 1,
   "id": "6bcac793",
   "metadata": {},
   "outputs": [],
   "source": [
    "import arviz as az\n",
    "import pymc as pm\n",
    "from pymc.math import switch, ge\n",
    "import pandas as pd\n",
    "import numpy as np"
   ]
  },
  {
   "cell_type": "markdown",
   "id": "f8d8156f",
   "metadata": {},
   "source": [
    "# Loading Data, Step Function, and Deterministic Variables*\n",
    "\n",
    "This example introduces data containers, tracking of deterministic variables, and shows how to recreate the BUGS step function in PyMC."
   ]
  },
  {
   "cell_type": "markdown",
   "id": "7d49e918-c409-4493-bf64-49a4f3aa5de1",
   "metadata": {},
   "source": [
    "## Taste of Cheese\n",
    "\n",
    "Adapted from [Unit 6: cheese.odc](https://raw.githubusercontent.com/areding/6420-pymc/main/original_examples/Codes4Unit6/cheese.odc).\n",
    "\n",
    "The link in the original .odc file is dead. I downloaded the data from [here](https://www3.nd.edu/~busiforc/handouts/Data%20and%20Stories/multicollinearity/Cheese%20Taste/Cheddar%20Cheese%20Data.html) and have a copy [here](https://raw.githubusercontent.com/areding/6420-pymc/main/data/cheese.csv)."
   ]
  },
  {
   "cell_type": "markdown",
   "id": "85140e7c-6ae9-4b4e-9c6d-8bcdd0b1dc27",
   "metadata": {},
   "source": [
    "As cheddar cheese matures, a variety of chemical processes take place. The taste of matured cheese is related to the concentration of several chemicals in the final product. In a study of cheddar cheese from the LaTrobe Valley of Victoria, Australia, samples of cheese were analyzed for their chemical composition and were subjected to taste tests. Overall taste scores were obtained by combining the scores from several tasters.\n",
    "\n",
    "Can the score be predicted well by the predictors: Acetic, H2S, and Lactic?"
   ]
  },
  {
   "cell_type": "code",
   "execution_count": 2,
   "id": "4d1b6b90-c954-4550-b395-1b43b0eb3e68",
   "metadata": {},
   "outputs": [],
   "source": [
    "data = pd.read_csv(\"../data/cheese.csv\", index_col=0)\n",
    "X = data[[\"Acetic\", \"H2S\", \"Lactic\"]].to_numpy()\n",
    "# add intercept column to X\n",
    "X_aug = np.concatenate((np.ones((X.shape[0], 1)), X), axis=1)\n",
    "y = data[\"taste\"].to_numpy()"
   ]
  },
  {
   "cell_type": "code",
   "execution_count": 3,
   "id": "37b96507-8960-4de0-9749-9fbc0e10deca",
   "metadata": {},
   "outputs": [
    {
     "data": {
      "text/html": [
       "<div>\n",
       "<style scoped>\n",
       "    .dataframe tbody tr th:only-of-type {\n",
       "        vertical-align: middle;\n",
       "    }\n",
       "\n",
       "    .dataframe tbody tr th {\n",
       "        vertical-align: top;\n",
       "    }\n",
       "\n",
       "    .dataframe thead th {\n",
       "        text-align: right;\n",
       "    }\n",
       "</style>\n",
       "<table border=\"1\" class=\"dataframe\">\n",
       "  <thead>\n",
       "    <tr style=\"text-align: right;\">\n",
       "      <th></th>\n",
       "      <th>taste</th>\n",
       "      <th>Acetic</th>\n",
       "      <th>H2S</th>\n",
       "      <th>Lactic</th>\n",
       "    </tr>\n",
       "  </thead>\n",
       "  <tbody>\n",
       "    <tr>\n",
       "      <th>1</th>\n",
       "      <td>12.3</td>\n",
       "      <td>4.543</td>\n",
       "      <td>3.135</td>\n",
       "      <td>0.86</td>\n",
       "    </tr>\n",
       "    <tr>\n",
       "      <th>2</th>\n",
       "      <td>20.9</td>\n",
       "      <td>5.159</td>\n",
       "      <td>5.043</td>\n",
       "      <td>1.53</td>\n",
       "    </tr>\n",
       "    <tr>\n",
       "      <th>3</th>\n",
       "      <td>39.0</td>\n",
       "      <td>5.366</td>\n",
       "      <td>5.438</td>\n",
       "      <td>1.57</td>\n",
       "    </tr>\n",
       "    <tr>\n",
       "      <th>4</th>\n",
       "      <td>47.9</td>\n",
       "      <td>5.759</td>\n",
       "      <td>7.496</td>\n",
       "      <td>1.81</td>\n",
       "    </tr>\n",
       "    <tr>\n",
       "      <th>5</th>\n",
       "      <td>5.6</td>\n",
       "      <td>4.663</td>\n",
       "      <td>3.807</td>\n",
       "      <td>0.99</td>\n",
       "    </tr>\n",
       "  </tbody>\n",
       "</table>\n",
       "</div>"
      ],
      "text/plain": [
       "   taste  Acetic    H2S  Lactic\n",
       "1   12.3   4.543  3.135    0.86\n",
       "2   20.9   5.159  5.043    1.53\n",
       "3   39.0   5.366  5.438    1.57\n",
       "4   47.9   5.759  7.496    1.81\n",
       "5    5.6   4.663  3.807    0.99"
      ]
     },
     "execution_count": 3,
     "metadata": {},
     "output_type": "execute_result"
    }
   ],
   "source": [
    "data.head()"
   ]
  },
  {
   "cell_type": "code",
   "execution_count": 4,
   "id": "2b298508",
   "metadata": {},
   "outputs": [
    {
     "name": "stderr",
     "output_type": "stream",
     "text": [
      "Initializing NUTS using jitter+adapt_diag...\n",
      "Multiprocess sampling (4 chains in 4 jobs)\n",
      "NUTS: [beta, tau]\n"
     ]
    },
    {
     "data": {
      "application/vnd.jupyter.widget-view+json": {
       "model_id": "a314c116f5764b6ca035efc2825023e3",
       "version_major": 2,
       "version_minor": 0
      },
      "text/plain": [
       "Output()"
      ]
     },
     "metadata": {},
     "output_type": "display_data"
    },
    {
     "data": {
      "text/html": [
       "<pre style=\"white-space:pre;overflow-x:auto;line-height:normal;font-family:Menlo,'DejaVu Sans Mono',consolas,'Courier New',monospace\"></pre>\n"
      ],
      "text/plain": []
     },
     "metadata": {},
     "output_type": "display_data"
    },
    {
     "name": "stderr",
     "output_type": "stream",
     "text": [
      "Sampling 4 chains for 1_000 tune and 5_000 draw iterations (4_000 + 20_000 draws total) took 13 seconds.\n",
      "Sampling: [taste_score]\n"
     ]
    },
    {
     "data": {
      "application/vnd.jupyter.widget-view+json": {
       "model_id": "41b9c14a75054e88b36c9e99f6c6d473",
       "version_major": 2,
       "version_minor": 0
      },
      "text/plain": [
       "Output()"
      ]
     },
     "metadata": {},
     "output_type": "display_data"
    },
    {
     "data": {
      "text/html": [
       "<pre style=\"white-space:pre;overflow-x:auto;line-height:normal;font-family:Menlo,'DejaVu Sans Mono',consolas,'Courier New',monospace\"></pre>\n"
      ],
      "text/plain": []
     },
     "metadata": {},
     "output_type": "display_data"
    }
   ],
   "source": [
    "with pm.Model() as m:\n",
    "    # associate data with model (this makes prediction easier)\n",
    "    X_data = pm.Data(\"X\", X_aug)\n",
    "    y_data = pm.Data(\"y\", y)\n",
    "\n",
    "    # priors\n",
    "    beta = pm.Normal(\"beta\", mu=0, sigma=1000, shape=X.shape[1] + 1)\n",
    "    tau = pm.Gamma(\"tau\", alpha=0.001, beta=0.001)\n",
    "    sigma = pm.Deterministic(\"sigma\", 1 / pm.math.sqrt(tau))\n",
    "\n",
    "    mu = pm.math.dot(X_data, beta)\n",
    "\n",
    "    # likelihood\n",
    "    pm.Normal(\"taste_score\", mu=mu, sigma=sigma, observed=y_data)\n",
    "\n",
    "    # start sampling\n",
    "    trace = pm.sample(5000, target_accept=0.95)\n",
    "    pm.sample_posterior_predictive(trace, extend_inferencedata=True)"
   ]
  },
  {
   "cell_type": "code",
   "execution_count": 5,
   "id": "6bae98d7-3083-4351-91ee-35afcdd2fb48",
   "metadata": {},
   "outputs": [
    {
     "data": {
      "text/html": [
       "<div>\n",
       "<style scoped>\n",
       "    .dataframe tbody tr th:only-of-type {\n",
       "        vertical-align: middle;\n",
       "    }\n",
       "\n",
       "    .dataframe tbody tr th {\n",
       "        vertical-align: top;\n",
       "    }\n",
       "\n",
       "    .dataframe thead th {\n",
       "        text-align: right;\n",
       "    }\n",
       "</style>\n",
       "<table border=\"1\" class=\"dataframe\">\n",
       "  <thead>\n",
       "    <tr style=\"text-align: right;\">\n",
       "      <th></th>\n",
       "      <th>mean</th>\n",
       "      <th>sd</th>\n",
       "      <th>hdi_2.5%</th>\n",
       "      <th>hdi_97.5%</th>\n",
       "      <th>mcse_mean</th>\n",
       "      <th>mcse_sd</th>\n",
       "      <th>ess_bulk</th>\n",
       "      <th>ess_tail</th>\n",
       "      <th>r_hat</th>\n",
       "    </tr>\n",
       "  </thead>\n",
       "  <tbody>\n",
       "    <tr>\n",
       "      <th>beta[0]</th>\n",
       "      <td>-28.638</td>\n",
       "      <td>20.539</td>\n",
       "      <td>-68.486</td>\n",
       "      <td>12.885</td>\n",
       "      <td>0.242</td>\n",
       "      <td>0.171</td>\n",
       "      <td>7175.0</td>\n",
       "      <td>9410.0</td>\n",
       "      <td>1.0</td>\n",
       "    </tr>\n",
       "    <tr>\n",
       "      <th>beta[1]</th>\n",
       "      <td>0.264</td>\n",
       "      <td>4.655</td>\n",
       "      <td>-9.010</td>\n",
       "      <td>9.328</td>\n",
       "      <td>0.056</td>\n",
       "      <td>0.040</td>\n",
       "      <td>6861.0</td>\n",
       "      <td>8682.0</td>\n",
       "      <td>1.0</td>\n",
       "    </tr>\n",
       "    <tr>\n",
       "      <th>beta[2]</th>\n",
       "      <td>3.909</td>\n",
       "      <td>1.310</td>\n",
       "      <td>1.338</td>\n",
       "      <td>6.462</td>\n",
       "      <td>0.013</td>\n",
       "      <td>0.010</td>\n",
       "      <td>9502.0</td>\n",
       "      <td>11265.0</td>\n",
       "      <td>1.0</td>\n",
       "    </tr>\n",
       "    <tr>\n",
       "      <th>beta[3]</th>\n",
       "      <td>19.766</td>\n",
       "      <td>9.073</td>\n",
       "      <td>2.155</td>\n",
       "      <td>37.996</td>\n",
       "      <td>0.089</td>\n",
       "      <td>0.063</td>\n",
       "      <td>10451.0</td>\n",
       "      <td>10888.0</td>\n",
       "      <td>1.0</td>\n",
       "    </tr>\n",
       "    <tr>\n",
       "      <th>tau</th>\n",
       "      <td>0.010</td>\n",
       "      <td>0.003</td>\n",
       "      <td>0.005</td>\n",
       "      <td>0.015</td>\n",
       "      <td>0.000</td>\n",
       "      <td>0.000</td>\n",
       "      <td>10979.0</td>\n",
       "      <td>11690.0</td>\n",
       "      <td>1.0</td>\n",
       "    </tr>\n",
       "    <tr>\n",
       "      <th>sigma</th>\n",
       "      <td>10.436</td>\n",
       "      <td>1.496</td>\n",
       "      <td>7.828</td>\n",
       "      <td>13.531</td>\n",
       "      <td>0.014</td>\n",
       "      <td>0.010</td>\n",
       "      <td>10979.0</td>\n",
       "      <td>11690.0</td>\n",
       "      <td>1.0</td>\n",
       "    </tr>\n",
       "  </tbody>\n",
       "</table>\n",
       "</div>"
      ],
      "text/plain": [
       "           mean      sd  hdi_2.5%  hdi_97.5%  mcse_mean  mcse_sd  ess_bulk  \\\n",
       "beta[0] -28.638  20.539   -68.486     12.885      0.242    0.171    7175.0   \n",
       "beta[1]   0.264   4.655    -9.010      9.328      0.056    0.040    6861.0   \n",
       "beta[2]   3.909   1.310     1.338      6.462      0.013    0.010    9502.0   \n",
       "beta[3]  19.766   9.073     2.155     37.996      0.089    0.063   10451.0   \n",
       "tau       0.010   0.003     0.005      0.015      0.000    0.000   10979.0   \n",
       "sigma    10.436   1.496     7.828     13.531      0.014    0.010   10979.0   \n",
       "\n",
       "         ess_tail  r_hat  \n",
       "beta[0]    9410.0    1.0  \n",
       "beta[1]    8682.0    1.0  \n",
       "beta[2]   11265.0    1.0  \n",
       "beta[3]   10888.0    1.0  \n",
       "tau       11690.0    1.0  \n",
       "sigma     11690.0    1.0  "
      ]
     },
     "execution_count": 5,
     "metadata": {},
     "output_type": "execute_result"
    }
   ],
   "source": [
    "az.summary(trace, hdi_prob=0.95)"
   ]
  },
  {
   "cell_type": "code",
   "execution_count": 6,
   "id": "e1fbd660-9aaf-49c5-83f3-db9e7cf97f9c",
   "metadata": {},
   "outputs": [
    {
     "data": {
      "text/plain": [
       "r2        0.575912\n",
       "r2_std    0.076479\n",
       "dtype: float64"
      ]
     },
     "execution_count": 6,
     "metadata": {},
     "output_type": "execute_result"
    }
   ],
   "source": [
    "y_pred = trace.posterior_predictive.stack(sample=(\"chain\", \"draw\"))[\n",
    "    \"taste_score\"\n",
    "].values.T\n",
    "az.r2_score(y, y_pred)"
   ]
  },
  {
   "cell_type": "markdown",
   "id": "1cc69158-d9a4-4cab-9e65-78acc4c61bfc",
   "metadata": {},
   "source": [
    "Results are pretty close to OpenBUGS:\n",
    "\n",
    "|         mean |     sd   |        MC_error |   val2.5pc | median  |   val97.5pc | start   | sample |        |\n",
    "|--------------|----------|-----------------|------------|---------|-------------|---------|--------|--------|\n",
    "| beta0        | -29.75   | 20.24           | 0.7889     | -70.06  | -29.75      | 11.11   | 1000   | 100001 |\n",
    "| beta1        | 0.4576   | 4.6             | 0.189      | -8.716  | 0.4388      | 9.786   | 1000   | 100001 |\n",
    "| beta2        | 3.906    | 1.291           | 0.02725    | 1.345   | 3.912       | 6.47    | 1000   | 100001 |\n",
    "| beta3        | 19.79    | 8.893           | 0.2379     | 2.053   | 19.88       | 37.2    | 1000   | 100001 |\n",
    "| tau          | 0.009777 | 0.002706        | 2.29E-05   | 0.00522 | 0.009528    | 0.01575 | 1000   | 100001 |"
   ]
  },
  {
   "cell_type": "markdown",
   "id": "8547889b-0b27-4657-87ff-93efe9ad3532",
   "metadata": {},
   "source": [
    "PyMC gives some warnings about the model unless we increase the ```target_accept``` parameter of ```pm.sample```, while BUGS doesn't. This is because PyMC uses more diagnostics to check if there are any problems with its exploration of the parameter space. Divergences indicate bias in the results. BUGS will happily run this model without reporting any problems, but it doesn't mean that there aren't any.\n",
    "\n",
    "For further reading, check out [Diagnosing Biased Inference with Divergences](https://www.pymc.io/projects/examples/en/latest/diagnostics_and_criticism/Diagnosing_biased_Inference_with_Divergences.html)."
   ]
  },
  {
   "cell_type": "markdown",
   "id": "6925a83f",
   "metadata": {},
   "source": [
    "## Stress, Diet, and Acids\n",
    "\n",
    "Adapted from [Unit 6: stressacids.odc](https://raw.githubusercontent.com/areding/6420-pymc/main/original_examples/Codes4Unit6/stressacids.odc).\n",
    "\n",
    "In the study [Interrelationships Between Stress, Dietary Intake, and Plasma Ascorbic Acid During Pregnancy](https://vtechworks.lib.vt.edu/handle/10919/74486) conducted at the Virginia Polytechnic Institute and State University, the plasma ascorbic acid levels of pregnant women were compared for smokers versus non-smokers. Thirty-two women in the last three months of pregnancy, free of major health disorders, and ranging in age from 15 to 32 years were selected for the study. Prior to the collection of 20 ml of blood, the participants were told to avoid breakfast, forego their vitamin supplements, and avoid foods high in ascorbic acid content. From the blood samples, the plasma ascorbic acid values of each subject were determined in milligrams per 100 milliliters.\n",
    "\n",
    "---"
   ]
  },
  {
   "cell_type": "markdown",
   "id": "858157aa",
   "metadata": {},
   "source": [
    "The purpose of this example in lectures was mostly just to show different ways to load data in BUGS. I'm not going to go into that too much, since there are a million ways to prepare your data in Python. In the next cell, I start with the data pasted from ```stressacids.odc```, then use list comprehensions to create one list for smokers and one for nonsmokers."
   ]
  },
  {
   "cell_type": "code",
   "execution_count": 7,
   "id": "627f4609",
   "metadata": {},
   "outputs": [],
   "source": [
    "# fmt: off\n",
    "plasma = [0.97, 0.72, 1.00, 0.81, 0.62, 1.32, 1.24, 0.99, 0.90, 0.74,\n",
    "          0.88, 0.94, 1.06, 0.86, 0.85, 0.58, 0.57, 0.64, 0.98, 1.09,\n",
    "          0.92, 0.78, 1.24, 1.18, 0.48, 0.71, 0.98, 0.68, 1.18, 1.36,\n",
    "          0.78, 1.64]\n",
    "\n",
    "smo = [1, 1, 1, 1, 1, 1, 1, 1, 1, 1, 1, 1, 1, 1, 1, 1, 1, 1, 1, 1, 1, \n",
    "       1, 1, 1, 2, 2, 2, 2, 2, 2, 2, 2]\n",
    "# fmt: on\n",
    "\n",
    "nonsmokers = [x for x, y in zip(plasma, smo) if y == 1]\n",
    "smokers = [x for x, y in zip(plasma, smo) if y == 2]"
   ]
  },
  {
   "cell_type": "markdown",
   "id": "d12bf8fc",
   "metadata": {},
   "source": [
    "### BUGS step function\n",
    "\n",
    "I think this is the first time we've seen the BUGS step function.\n",
    "\n",
    "BUGS defines the step function like this:\n",
    "\n",
    "```step(e)``` is 1 if e >= 0; 0 otherwise.\n",
    "\n",
    "Keep in mind that in PyMC, step functions are how they refer to the algorithms used for sampling, as in NUTS or Metropolis. Just different terminology.\n",
    "\n",
    "We can recreate the BUGS step function with ```pm.math.switch()```:\n",
    "\n",
    "```\n",
    "pm.math.switch(e >= 0, 1, 0)\n",
    "\n",
    "```\n",
    "\n",
    "We should also probably use pm.math.ge for greater than or equal, as well, so:\n",
    "\n",
    "```\n",
    "pm.math.switch(ge(e,0), 1, 0)\n",
    "\n",
    "```"
   ]
  },
  {
   "cell_type": "markdown",
   "id": "b9751b38",
   "metadata": {},
   "source": [
    "### How do I track non-random variables in PyMC?\n",
    "\n",
    "One nice thing about BUGS is you can easily track both deterministic and non-deterministic variables while sampling. For PyMC, you can wrap these in [```pm.Deterministic()```](https://docs.pymc.io/en/v3/api/model.html). Just make sure to use [```pm.math```](https://docs.pymc.io/en/v3/api/math.html) functions where possible."
   ]
  },
  {
   "cell_type": "code",
   "execution_count": 8,
   "id": "87127e8d",
   "metadata": {
    "tags": [
     "hide-output"
    ]
   },
   "outputs": [
    {
     "name": "stderr",
     "output_type": "stream",
     "text": [
      "Initializing NUTS using jitter+adapt_diag...\n",
      "Multiprocess sampling (4 chains in 4 jobs)\n",
      "NUTS: [tau_nonsmokers, mu_nonsmokers, tau_smokers, mu_smokers]\n"
     ]
    },
    {
     "data": {
      "application/vnd.jupyter.widget-view+json": {
       "model_id": "c7c8c612e9054793b8c8d469afa67e2a",
       "version_major": 2,
       "version_minor": 0
      },
      "text/plain": [
       "Output()"
      ]
     },
     "metadata": {},
     "output_type": "display_data"
    },
    {
     "data": {
      "text/html": [
       "<pre style=\"white-space:pre;overflow-x:auto;line-height:normal;font-family:Menlo,'DejaVu Sans Mono',consolas,'Courier New',monospace\"></pre>\n"
      ],
      "text/plain": []
     },
     "metadata": {},
     "output_type": "display_data"
    },
    {
     "name": "stderr",
     "output_type": "stream",
     "text": [
      "Sampling 4 chains for 1_000 tune and 5_000 draw iterations (4_000 + 20_000 draws total) took 2 seconds.\n"
     ]
    }
   ],
   "source": [
    "with pm.Model() as m:\n",
    "    # priors\n",
    "    tau_nonsmokers = pm.Gamma(\"tau_nonsmokers\", alpha=0.0001, beta=0.0001)\n",
    "    sigma_nonsmokers = 1 / pm.math.sqrt(tau_nonsmokers)\n",
    "    mu_nonsmokers = pm.Normal(\"mu_nonsmokers\", mu=0, sigma=100)\n",
    "\n",
    "    tau_smokers = pm.Gamma(\"tau_smokers\", alpha=0.0001, beta=0.0001)\n",
    "    sigma_smokers = 1 / pm.math.sqrt(tau_smokers)\n",
    "    mu_smokers = pm.Normal(\"mu_smokers\", mu=0, sigma=100)\n",
    "\n",
    "    # likelihood\n",
    "    plasma_aa_ns = pm.Normal(\n",
    "        \"nonsmokers_aa\",\n",
    "        mu=mu_nonsmokers,\n",
    "        sigma=sigma_nonsmokers,\n",
    "        observed=nonsmokers,\n",
    "    )\n",
    "    plasma_aa_s = pm.Normal(\n",
    "        \"smokers_aa\", mu=mu_smokers, sigma=sigma_smokers, observed=smokers\n",
    "    )\n",
    "\n",
    "    testmu = pm.Deterministic(\"test_mu\", switch(ge(mu_smokers, mu_nonsmokers), 1, 0))\n",
    "    r = pm.Deterministic(\"prec_ratio\", tau_nonsmokers / tau_smokers)\n",
    "\n",
    "    trace = pm.sample(5000)"
   ]
  },
  {
   "cell_type": "code",
   "execution_count": 9,
   "id": "f7700966",
   "metadata": {},
   "outputs": [
    {
     "data": {
      "text/html": [
       "<div>\n",
       "<style scoped>\n",
       "    .dataframe tbody tr th:only-of-type {\n",
       "        vertical-align: middle;\n",
       "    }\n",
       "\n",
       "    .dataframe tbody tr th {\n",
       "        vertical-align: top;\n",
       "    }\n",
       "\n",
       "    .dataframe thead th {\n",
       "        text-align: right;\n",
       "    }\n",
       "</style>\n",
       "<table border=\"1\" class=\"dataframe\">\n",
       "  <thead>\n",
       "    <tr style=\"text-align: right;\">\n",
       "      <th></th>\n",
       "      <th>mean</th>\n",
       "      <th>sd</th>\n",
       "      <th>hdi_2.5%</th>\n",
       "      <th>hdi_97.5%</th>\n",
       "      <th>mcse_mean</th>\n",
       "      <th>mcse_sd</th>\n",
       "      <th>ess_bulk</th>\n",
       "      <th>ess_tail</th>\n",
       "      <th>r_hat</th>\n",
       "    </tr>\n",
       "  </thead>\n",
       "  <tbody>\n",
       "    <tr>\n",
       "      <th>mu_nonsmokers</th>\n",
       "      <td>0.912</td>\n",
       "      <td>0.045</td>\n",
       "      <td>0.821</td>\n",
       "      <td>1.000</td>\n",
       "      <td>0.000</td>\n",
       "      <td>0.000</td>\n",
       "      <td>16237.0</td>\n",
       "      <td>13013.0</td>\n",
       "      <td>1.0</td>\n",
       "    </tr>\n",
       "    <tr>\n",
       "      <th>mu_smokers</th>\n",
       "      <td>0.978</td>\n",
       "      <td>0.168</td>\n",
       "      <td>0.652</td>\n",
       "      <td>1.309</td>\n",
       "      <td>0.002</td>\n",
       "      <td>0.001</td>\n",
       "      <td>12335.0</td>\n",
       "      <td>9773.0</td>\n",
       "      <td>1.0</td>\n",
       "    </tr>\n",
       "    <tr>\n",
       "      <th>tau_nonsmokers</th>\n",
       "      <td>22.512</td>\n",
       "      <td>6.684</td>\n",
       "      <td>9.745</td>\n",
       "      <td>35.192</td>\n",
       "      <td>0.052</td>\n",
       "      <td>0.036</td>\n",
       "      <td>15912.0</td>\n",
       "      <td>12551.0</td>\n",
       "      <td>1.0</td>\n",
       "    </tr>\n",
       "    <tr>\n",
       "      <th>tau_smokers</th>\n",
       "      <td>6.505</td>\n",
       "      <td>3.503</td>\n",
       "      <td>0.822</td>\n",
       "      <td>13.343</td>\n",
       "      <td>0.029</td>\n",
       "      <td>0.020</td>\n",
       "      <td>12714.0</td>\n",
       "      <td>10604.0</td>\n",
       "      <td>1.0</td>\n",
       "    </tr>\n",
       "    <tr>\n",
       "      <th>test_mu</th>\n",
       "      <td>0.665</td>\n",
       "      <td>0.472</td>\n",
       "      <td>0.000</td>\n",
       "      <td>1.000</td>\n",
       "      <td>0.004</td>\n",
       "      <td>0.003</td>\n",
       "      <td>16551.0</td>\n",
       "      <td>16551.0</td>\n",
       "      <td>1.0</td>\n",
       "    </tr>\n",
       "    <tr>\n",
       "      <th>prec_ratio</th>\n",
       "      <td>4.916</td>\n",
       "      <td>4.870</td>\n",
       "      <td>0.676</td>\n",
       "      <td>12.361</td>\n",
       "      <td>0.062</td>\n",
       "      <td>0.044</td>\n",
       "      <td>12441.0</td>\n",
       "      <td>10530.0</td>\n",
       "      <td>1.0</td>\n",
       "    </tr>\n",
       "  </tbody>\n",
       "</table>\n",
       "</div>"
      ],
      "text/plain": [
       "                  mean     sd  hdi_2.5%  hdi_97.5%  mcse_mean  mcse_sd  \\\n",
       "mu_nonsmokers    0.912  0.045     0.821      1.000      0.000    0.000   \n",
       "mu_smokers       0.978  0.168     0.652      1.309      0.002    0.001   \n",
       "tau_nonsmokers  22.512  6.684     9.745     35.192      0.052    0.036   \n",
       "tau_smokers      6.505  3.503     0.822     13.343      0.029    0.020   \n",
       "test_mu          0.665  0.472     0.000      1.000      0.004    0.003   \n",
       "prec_ratio       4.916  4.870     0.676     12.361      0.062    0.044   \n",
       "\n",
       "                ess_bulk  ess_tail  r_hat  \n",
       "mu_nonsmokers    16237.0   13013.0    1.0  \n",
       "mu_smokers       12335.0    9773.0    1.0  \n",
       "tau_nonsmokers   15912.0   12551.0    1.0  \n",
       "tau_smokers      12714.0   10604.0    1.0  \n",
       "test_mu          16551.0   16551.0    1.0  \n",
       "prec_ratio       12441.0   10530.0    1.0  "
      ]
     },
     "execution_count": 9,
     "metadata": {},
     "output_type": "execute_result"
    }
   ],
   "source": [
    "az.summary(trace, hdi_prob=0.95)"
   ]
  },
  {
   "cell_type": "code",
   "execution_count": 10,
   "id": "65589dc9",
   "metadata": {},
   "outputs": [
    {
     "name": "stdout",
     "output_type": "stream",
     "text": [
      "Last updated: Tue Mar 04 2025\n",
      "\n",
      "Python implementation: CPython\n",
      "Python version       : 3.12.7\n",
      "IPython version      : 8.29.0\n",
      "\n",
      "pytensor: 2.26.4\n",
      "\n",
      "pandas: 2.2.3\n",
      "arviz : 0.20.0\n",
      "numpy : 1.26.4\n",
      "pymc  : 5.19.1\n",
      "\n"
     ]
    }
   ],
   "source": [
    "%load_ext watermark\n",
    "%watermark -n -u -v -iv -p pytensor"
   ]
  },
  {
   "cell_type": "code",
   "execution_count": null,
   "id": "0266f05f",
   "metadata": {},
   "outputs": [],
   "source": []
  }
 ],
 "metadata": {
  "kernelspec": {
   "display_name": "pymc_macos15",
   "language": "python",
   "name": "python3"
  },
  "language_info": {
   "codemirror_mode": {
    "name": "ipython",
    "version": 3
   },
   "file_extension": ".py",
   "mimetype": "text/x-python",
   "name": "python",
   "nbconvert_exporter": "python",
   "pygments_lexer": "ipython3",
   "version": "3.12.7"
  }
 },
 "nbformat": 4,
 "nbformat_minor": 5
}
