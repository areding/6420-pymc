{
 "cells": [
  {
   "cell_type": "code",
   "execution_count": 1,
   "id": "80b7c65c",
   "metadata": {
    "tags": [
     "hide_output"
    ]
   },
   "outputs": [],
   "source": [
    "import arviz as az\n",
    "import matplotlib.pyplot as plt\n",
    "import numpy as np\n",
    "import pymc as pm\n",
    "from pymc.math import switch, ge\n",
    "\n",
    "%load_ext watermark\n",
    "%load_ext lab_black"
   ]
  },
  {
   "cell_type": "markdown",
   "id": "d2b0b8df",
   "metadata": {},
   "source": [
    "# Stress, Diet and Plasma Acids\n",
    "\n",
    "This example introduces tracking of deterministic variables and shows how to recreate the BUGS step function in PyMC.\n",
    "\n",
    "Adapted from [Codes for Unit 6: stressacids.odc](https://raw.githubusercontent.com/areding/6420-pymc/main/original_examples/Codes4Unit6/stressacids.odc).\n",
    "\n",
    "Associated lecture video: Unit 6 Lesson 5"
   ]
  },
  {
   "cell_type": "markdown",
   "id": "74c8b363",
   "metadata": {},
   "source": [
    "## Problem statement\n",
    "\n",
    "In the study [Interrelationships Between Stress, Dietary Intake, and Plasma Ascorbic Acid During Pregnancy](https://vtechworks.lib.vt.edu/handle/10919/74486) conducted at the Virginia Polytechnic Institute and State University, the plasma ascorbic acid levels of pregnant women were compared for smokers versus non-smokers. Thirty-two women in the last three months of pregnancy, free of major health disorders, and ranging in age from 15 to 32 years were selected for the study. Prior to the collection of 20 ml of blood, the participants were told to avoid breakfast, forego their vitamin supplements, and avoid foods high in ascorbic acid content. From the blood samples, the plasma ascorbic acid values of each subject were determined in milligrams per 100 milliliters.\n",
    "\n",
    "---"
   ]
  },
  {
   "cell_type": "markdown",
   "id": "3a62a018",
   "metadata": {},
   "source": [
    "The purpose of this example in lectures was mostly just to show different ways to load data in BUGS. I'm not going to go into that too much, since there are a million ways to prepare your data in Python. In the next cell, I start with the data pasted from ```stressacids.odc```, then use list comprehensions to create one list for smokers and one for nonsmokers."
   ]
  },
  {
   "cell_type": "code",
   "execution_count": 3,
   "id": "5033692f",
   "metadata": {},
   "outputs": [],
   "source": [
    "# fmt: off\n",
    "plasma = [0.97, 0.72, 1.00, 0.81, 0.62, 1.32, 1.24, 0.99, 0.90, 0.74,\n",
    "          0.88, 0.94, 1.06, 0.86, 0.85, 0.58, 0.57, 0.64, 0.98, 1.09,\n",
    "          0.92, 0.78, 1.24, 1.18, 0.48, 0.71, 0.98, 0.68, 1.18, 1.36,\n",
    "          0.78, 1.64]\n",
    "\n",
    "smo = [1, 1, 1, 1, 1, 1, 1, 1, 1, 1, 1, 1, 1, 1, 1, 1, 1, 1, 1, 1, 1, \n",
    "       1, 1, 1, 2, 2, 2, 2, 2, 2, 2, 2]\n",
    "# fmt: on\n",
    "\n",
    "nonsmokers = [x for x, y in zip(plasma, smo) if y == 1]\n",
    "smokers = [x for x, y in zip(plasma, smo) if y == 2]"
   ]
  },
  {
   "cell_type": "markdown",
   "id": "a91e081f",
   "metadata": {},
   "source": [
    "## BUGS step function\n",
    "\n",
    "I think this is the first time we've seen the BUGS step function.\n",
    "\n",
    "BUGS defines the step function like this:\n",
    "\n",
    "```step(e)``` is 1 if e >= 0; 0 otherwise.\n",
    "\n",
    "Keep in mind that in PyMC, step functions are how they refer to the algorithms used for sampling, as in NUTS or Metropolis. Just different terminology.\n",
    "\n",
    "We can recreate the BUGS step function with ```pm.math.switch()```:\n",
    "\n",
    "```\n",
    "pm.math.switch(e >= 0, 1, 0)\n",
    "\n",
    "```\n",
    "\n",
    "We should also probably use pm.math.ge for greater than or equal, as well, so:\n",
    "\n",
    "```\n",
    "pm.math.switch(ge(e,0), 1, 0)\n",
    "\n",
    "```"
   ]
  },
  {
   "cell_type": "markdown",
   "id": "98f53afa",
   "metadata": {},
   "source": [
    "## How do I track non-random variables in PyMC?\n",
    "\n",
    "One nice thing about BUGS is you can easily track both deterministic and non-deterministic variables while sampling. For PyMC, you can wrap these in [```pm.Deterministic()```](https://docs.pymc.io/en/v3/api/model.html). Just make sure to use [```pm.math```](https://docs.pymc.io/en/v3/api/math.html) functions where possible."
   ]
  },
  {
   "cell_type": "code",
   "execution_count": 4,
   "id": "6188379e",
   "metadata": {
    "tags": [
     "hide_output"
    ]
   },
   "outputs": [
    {
     "name": "stderr",
     "output_type": "stream",
     "text": [
      "Auto-assigning NUTS sampler...\n",
      "Initializing NUTS using jitter+adapt_diag...\n",
      "Multiprocess sampling (4 chains in 4 jobs)\n",
      "NUTS: [tau_nonsmokers, mu_nonsmokers, tau_smokers, mu_smokers]\n"
     ]
    },
    {
     "data": {
      "text/html": [
       "\n",
       "<style>\n",
       "    /* Turns off some styling */\n",
       "    progress {\n",
       "        /* gets rid of default border in Firefox and Opera. */\n",
       "        border: none;\n",
       "        /* Needs to be in here for Safari polyfill so background images work as expected. */\n",
       "        background-size: auto;\n",
       "    }\n",
       "    .progress-bar-interrupted, .progress-bar-interrupted::-webkit-progress-bar {\n",
       "        background: #F44336;\n",
       "    }\n",
       "</style>\n"
      ],
      "text/plain": [
       "<IPython.core.display.HTML object>"
      ]
     },
     "metadata": {},
     "output_type": "display_data"
    },
    {
     "data": {
      "text/html": [
       "\n",
       "    <div>\n",
       "      <progress value='24000' class='' max='24000' style='width:300px; height:20px; vertical-align: middle;'></progress>\n",
       "      100.00% [24000/24000 00:19<00:00 Sampling 4 chains, 0 divergences]\n",
       "    </div>\n",
       "    "
      ],
      "text/plain": [
       "<IPython.core.display.HTML object>"
      ]
     },
     "metadata": {},
     "output_type": "display_data"
    },
    {
     "name": "stderr",
     "output_type": "stream",
     "text": [
      "Sampling 4 chains for 1_000 tune and 5_000 draw iterations (4_000 + 20_000 draws total) took 45 seconds.\n"
     ]
    }
   ],
   "source": [
    "with pm.Model() as m:\n",
    "    # priors\n",
    "    tau_nonsmokers = pm.Gamma(\"tau_nonsmokers\", alpha=0.0001, beta=0.0001)\n",
    "    sigma_nonsmokers = 1 / pm.math.sqrt(tau_nonsmokers)\n",
    "    mu_nonsmokers = pm.Normal(\"mu_nonsmokers\", mu=0, sigma=100)\n",
    "\n",
    "    tau_smokers = pm.Gamma(\"tau_smokers\", alpha=0.0001, beta=0.0001)\n",
    "    sigma_smokers = 1 / pm.math.sqrt(tau_smokers)\n",
    "    mu_smokers = pm.Normal(\"mu_smokers\", mu=0, sigma=100)\n",
    "\n",
    "    # likelihood\n",
    "    plasma_aa_ns = pm.Normal(\n",
    "        \"nonsmokers_aa\", mu=mu_nonsmokers, sigma=sigma_nonsmokers, observed=nonsmokers\n",
    "    )\n",
    "    plasma_aa_s = pm.Normal(\n",
    "        \"smokers_aa\", mu=mu_smokers, sigma=sigma_smokers, observed=smokers\n",
    "    )\n",
    "\n",
    "    testmu = pm.Deterministic(\"test_mu\", switch(ge(mu_smokers, mu_nonsmokers), 1, 0))\n",
    "    r = pm.Deterministic(\"prec_ratio\", tau_nonsmokers / tau_smokers)\n",
    "\n",
    "    # start sampling\n",
    "    trace = pm.sample(\n",
    "        5000,\n",
    "        chains=4,\n",
    "        tune=1000,\n",
    "        cores=4,\n",
    "        init=\"jitter+adapt_diag\",\n",
    "        random_seed=1,\n",
    "        return_inferencedata=True,\n",
    "    )"
   ]
  },
  {
   "cell_type": "code",
   "execution_count": 5,
   "id": "ab392c85",
   "metadata": {},
   "outputs": [
    {
     "data": {
      "text/html": [
       "<div>\n",
       "<style scoped>\n",
       "    .dataframe tbody tr th:only-of-type {\n",
       "        vertical-align: middle;\n",
       "    }\n",
       "\n",
       "    .dataframe tbody tr th {\n",
       "        vertical-align: top;\n",
       "    }\n",
       "\n",
       "    .dataframe thead th {\n",
       "        text-align: right;\n",
       "    }\n",
       "</style>\n",
       "<table border=\"1\" class=\"dataframe\">\n",
       "  <thead>\n",
       "    <tr style=\"text-align: right;\">\n",
       "      <th></th>\n",
       "      <th>mean</th>\n",
       "      <th>sd</th>\n",
       "      <th>hdi_2.5%</th>\n",
       "      <th>hdi_97.5%</th>\n",
       "      <th>mcse_mean</th>\n",
       "      <th>mcse_sd</th>\n",
       "      <th>ess_bulk</th>\n",
       "      <th>ess_tail</th>\n",
       "      <th>r_hat</th>\n",
       "    </tr>\n",
       "  </thead>\n",
       "  <tbody>\n",
       "    <tr>\n",
       "      <th>mu_nonsmokers</th>\n",
       "      <td>0.912</td>\n",
       "      <td>0.045</td>\n",
       "      <td>0.826</td>\n",
       "      <td>1.002</td>\n",
       "      <td>0.000</td>\n",
       "      <td>0.000</td>\n",
       "      <td>15002.0</td>\n",
       "      <td>12894.0</td>\n",
       "      <td>1.0</td>\n",
       "    </tr>\n",
       "    <tr>\n",
       "      <th>mu_smokers</th>\n",
       "      <td>0.973</td>\n",
       "      <td>0.164</td>\n",
       "      <td>0.645</td>\n",
       "      <td>1.297</td>\n",
       "      <td>0.002</td>\n",
       "      <td>0.001</td>\n",
       "      <td>12671.0</td>\n",
       "      <td>10681.0</td>\n",
       "      <td>1.0</td>\n",
       "    </tr>\n",
       "    <tr>\n",
       "      <th>tau_nonsmokers</th>\n",
       "      <td>22.606</td>\n",
       "      <td>6.701</td>\n",
       "      <td>10.369</td>\n",
       "      <td>35.864</td>\n",
       "      <td>0.050</td>\n",
       "      <td>0.036</td>\n",
       "      <td>17430.0</td>\n",
       "      <td>13742.0</td>\n",
       "      <td>1.0</td>\n",
       "    </tr>\n",
       "    <tr>\n",
       "      <th>tau_smokers</th>\n",
       "      <td>6.582</td>\n",
       "      <td>3.512</td>\n",
       "      <td>0.896</td>\n",
       "      <td>13.430</td>\n",
       "      <td>0.028</td>\n",
       "      <td>0.020</td>\n",
       "      <td>14142.0</td>\n",
       "      <td>10991.0</td>\n",
       "      <td>1.0</td>\n",
       "    </tr>\n",
       "    <tr>\n",
       "      <th>test_mu</th>\n",
       "      <td>0.661</td>\n",
       "      <td>0.474</td>\n",
       "      <td>0.000</td>\n",
       "      <td>1.000</td>\n",
       "      <td>0.004</td>\n",
       "      <td>0.003</td>\n",
       "      <td>15849.0</td>\n",
       "      <td>15849.0</td>\n",
       "      <td>1.0</td>\n",
       "    </tr>\n",
       "    <tr>\n",
       "      <th>prec_ratio</th>\n",
       "      <td>4.816</td>\n",
       "      <td>4.300</td>\n",
       "      <td>0.580</td>\n",
       "      <td>11.774</td>\n",
       "      <td>0.041</td>\n",
       "      <td>0.029</td>\n",
       "      <td>13889.0</td>\n",
       "      <td>12449.0</td>\n",
       "      <td>1.0</td>\n",
       "    </tr>\n",
       "  </tbody>\n",
       "</table>\n",
       "</div>"
      ],
      "text/plain": [
       "                  mean     sd  hdi_2.5%  hdi_97.5%  mcse_mean  mcse_sd  \\\n",
       "mu_nonsmokers    0.912  0.045     0.826      1.002      0.000    0.000   \n",
       "mu_smokers       0.973  0.164     0.645      1.297      0.002    0.001   \n",
       "tau_nonsmokers  22.606  6.701    10.369     35.864      0.050    0.036   \n",
       "tau_smokers      6.582  3.512     0.896     13.430      0.028    0.020   \n",
       "test_mu          0.661  0.474     0.000      1.000      0.004    0.003   \n",
       "prec_ratio       4.816  4.300     0.580     11.774      0.041    0.029   \n",
       "\n",
       "                ess_bulk  ess_tail  r_hat  \n",
       "mu_nonsmokers    15002.0   12894.0    1.0  \n",
       "mu_smokers       12671.0   10681.0    1.0  \n",
       "tau_nonsmokers   17430.0   13742.0    1.0  \n",
       "tau_smokers      14142.0   10991.0    1.0  \n",
       "test_mu          15849.0   15849.0    1.0  \n",
       "prec_ratio       13889.0   12449.0    1.0  "
      ]
     },
     "execution_count": 5,
     "metadata": {},
     "output_type": "execute_result"
    }
   ],
   "source": [
    "az.summary(trace, hdi_prob=0.95)"
   ]
  },
  {
   "cell_type": "code",
   "execution_count": 6,
   "id": "3cd44f98",
   "metadata": {},
   "outputs": [
    {
     "name": "stdout",
     "output_type": "stream",
     "text": [
      "Python implementation: CPython\n",
      "Python version       : 3.10.4\n",
      "IPython version      : 8.4.0\n",
      "\n",
      "pymc      : 4.0.0\n",
      "numpy     : 1.22.4\n",
      "arviz     : 0.12.1\n",
      "matplotlib: 3.5.2\n",
      "\n"
     ]
    }
   ],
   "source": [
    "%watermark --iversions -v"
   ]
  },
  {
   "cell_type": "code",
   "execution_count": null,
   "id": "d66480a6",
   "metadata": {},
   "outputs": [],
   "source": []
  }
 ],
 "metadata": {
  "kernelspec": {
   "display_name": "Python 3 (ipykernel)",
   "language": "python",
   "name": "python3"
  },
  "language_info": {
   "codemirror_mode": {
    "name": "ipython",
    "version": 3
   },
   "file_extension": ".py",
   "mimetype": "text/x-python",
   "name": "python",
   "nbconvert_exporter": "python",
   "pygments_lexer": "ipython3",
   "version": "3.10.4"
  }
 },
 "nbformat": 4,
 "nbformat_minor": 5
}
