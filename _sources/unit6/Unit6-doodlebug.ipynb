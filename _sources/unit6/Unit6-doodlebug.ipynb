{
 "cells": [
  {
   "cell_type": "markdown",
   "metadata": {},
   "source": [
    "# Creating a Graphical Model\n",
    "\n",
    "```{note}\n",
    "This page is a stub. It will be updated over summer 2023 with supplementary lecture notes.\n",
    "```\n",
    "\n",
    "The corresponding lecture here is called \"Creating a Doodle Running Doodleplot.\" I'm not going to talk about that. In fact, this lecture can safely be skipped unless you are, for some reason, determined to use DoodleBUGS in this class. I don't think I've ever seen anyone do that, but maybe you will!\n",
    "\n",
    "This page will instead be used to talk about how PyMC creates the underlying graphical model from your model specification."
   ]
  },
  {
   "cell_type": "markdown",
   "metadata": {},
   "source": [
    "Sources:\n",
    "\n",
    "- [PyMC, Aesara and AePPL: The New Kids on The Block (Ricardo Vieira)](https://www.youtube.com/watch?v=_APNiXTfYJw).\n",
    "- [Bayesian Computation Chapter 10](https://bayesiancomputationbook.com/markdown/chp_10.html).\n",
    "- ..."
   ]
  },
  {
   "cell_type": "markdown",
   "metadata": {},
   "source": []
  }
 ],
 "metadata": {
  "kernelspec": {
   "display_name": "Python 3 (ipykernel)",
   "language": "python",
   "name": "python3"
  },
  "language_info": {
   "codemirror_mode": {
    "name": "ipython",
    "version": 3
   },
   "file_extension": ".py",
   "mimetype": "text/x-python",
   "name": "python",
   "nbconvert_exporter": "python",
   "pygments_lexer": "ipython3",
   "version": "3.11.0"
  }
 },
 "nbformat": 4,
 "nbformat_minor": 4
}
