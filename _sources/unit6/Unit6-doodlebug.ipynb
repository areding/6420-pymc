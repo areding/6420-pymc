{
 "cells": [
  {
   "cell_type": "markdown",
   "metadata": {},
   "source": [
    "# Creating a Graphical Model\n",
    "\n",
    "The corresponding lecture here is called \"Creating a Doodle Running Doodleplot.\" I'm not going to talk about that. In fact, this lecture can safely be skipped unless you are, for some reason, determined to use DoodleBUGS in this class. I don't think I've ever seen anyone do that, but maybe you will!\n",
    "\n",
    "Instead, I will (eventually) use this page to talk about how PyMC and similar languages work under the hood. This is a placeholder for now as I do more reading and compile my notes on the subject! It's not critical for our class, it will just be nice background reading.\n",
    "\n",
    "I plan to start with the Python context manager [\"with\" statement](https://peps.python.org/pep-0343/) and how the model specification works.\n",
    "\n",
    "[Pytensor](https://github.com/pymc-devs/pytensor), a fork of [Aesara](https://github.com/aesara-devs/aesara), which was once [Theano](https://github.com/Theano/Theano), is used to represent the random variables as tensors.\n",
    "\n",
    "Then, PyMC v4 used Aeppl to turn your model specification into a graph representing the joint log-probability. But I'm not sure if they're still using it or if they've rolled a fork of it into PyMC itself with version 5. Will need to research further.\n",
    "\n",
    "Finally, will talk a bit about how the sampling algorithms themselves fit in."
   ]
  },
  {
   "cell_type": "markdown",
   "metadata": {},
   "source": [
    "Sources:\n",
    "\n",
    "- [PyMC, Aesara and AePPL: The New Kids on The Block (Ricardo Vieira)](https://www.youtube.com/watch?v=_APNiXTfYJw).\n",
    "- [Bayesian Computation Chapter 10](https://bayesiancomputationbook.com/markdown/chp_10.html).\n",
    "- ..."
   ]
  },
  {
   "cell_type": "markdown",
   "metadata": {},
   "source": []
  }
 ],
 "metadata": {
  "kernelspec": {
   "display_name": "Python 3 (ipykernel)",
   "language": "python",
   "name": "python3"
  },
  "language_info": {
   "codemirror_mode": {
    "name": "ipython",
    "version": 3
   },
   "file_extension": ".py",
   "mimetype": "text/x-python",
   "name": "python",
   "nbconvert_exporter": "python",
   "pygments_lexer": "ipython3",
   "version": "3.11.0"
  }
 },
 "nbformat": 4,
 "nbformat_minor": 4
}
