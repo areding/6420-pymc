{
 "cells": [
  {
   "cell_type": "code",
   "execution_count": 2,
   "id": "123e7160-3aec-4028-b49b-98454ce5d1e7",
   "metadata": {},
   "outputs": [],
   "source": [
    "import numpy as np"
   ]
  },
  {
   "cell_type": "markdown",
   "id": "1a1efde7-6996-47e0-9e1b-acc945f38271",
   "metadata": {},
   "source": [
    "# Demere\n",
    "\n",
    "Not sure what this is from! The professor doesn't mention it in lectures, but it was in the Codes4Unit6 archive so here you go!\n",
    "\n",
    "- What is more likely when rolling 3 fair dice: sum 11 or sum 12?\n",
    "- What is more likely when rolling 300 fair dice: sum 1111 or sum 1112?"
   ]
  },
  {
   "cell_type": "code",
   "execution_count": 3,
   "id": "3b80bc18-b438-4526-8bad-e3eb5f974148",
   "metadata": {},
   "outputs": [
    {
     "name": "stdout",
     "output_type": "stream",
     "text": [
      "Results with 3 dice\n",
      "Simulated probability of rolling 11: 0.124593\n",
      "Simulated probability of rolling 12: 0.115399\n",
      "\n",
      "Results with 300 dice\n",
      "Simulated probability of rolls summing to 1111: 0.001628\n",
      "Simulated probability of rolls summing to 1112: 0.001478\n"
     ]
    }
   ],
   "source": [
    "rng = np.random.default_rng(1)\n",
    "sims = 1000000\n",
    "\n",
    "\n",
    "def prob_sum(arr, s):\n",
    "    \"\"\"\n",
    "    return probability of sum s in (sims, dice)-shaped np array arr\n",
    "    \"\"\"\n",
    "    sims = arr.shape[0]\n",
    "    return (arr.sum(axis=1) == s).sum() / sims\n",
    "\n",
    "\n",
    "# simulate 3 dice rolls\n",
    "rolls_3 = rng.integers(1, 6, (sims, 3), endpoint=True)\n",
    "print(\"Results with 3 dice\")\n",
    "print(\"Simulated probability of rolling 11:\", prob_sum(rolls_3, 11))\n",
    "print(\"Simulated probability of rolling 12:\", prob_sum(rolls_3, 12))\n",
    "\n",
    "# simulate 300 dice rolls\n",
    "rolls_300 = rng.integers(1, 6, (sims, 300), endpoint=True)\n",
    "print(\"\\nResults with 300 dice\")\n",
    "print(\"Simulated probability of rolls summing to 1111:\", prob_sum(rolls_300, 1111))\n",
    "print(\"Simulated probability of rolls summing to 1112:\", prob_sum(rolls_300, 1112))"
   ]
  },
  {
   "cell_type": "code",
   "execution_count": null,
   "id": "3b9b4e6f-7009-42a0-ae95-df4843bee592",
   "metadata": {},
   "outputs": [],
   "source": []
  }
 ],
 "metadata": {
  "kernelspec": {
   "display_name": "Python 3 (ipykernel)",
   "language": "python",
   "name": "python3"
  },
  "language_info": {
   "codemirror_mode": {
    "name": "ipython",
    "version": 3
   },
   "file_extension": ".py",
   "mimetype": "text/x-python",
   "name": "python",
   "nbconvert_exporter": "python",
   "pygments_lexer": "ipython3",
   "version": "3.9.9"
  }
 },
 "nbformat": 4,
 "nbformat_minor": 5
}
