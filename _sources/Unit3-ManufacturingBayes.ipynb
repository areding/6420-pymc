{
 "cells": [
  {
   "cell_type": "code",
   "execution_count": 1,
   "id": "911b5602-681d-4a6d-868a-299cf30d1cd0",
   "metadata": {
    "tags": [
     "hide_cell"
    ]
   },
   "outputs": [
    {
     "name": "stdout",
     "output_type": "stream",
     "text": [
      "Requirement already satisfied: pgmpy in /Users/aaron/mambaforge/envs/pymc3_test/lib/python3.9/site-packages (0.1.17)\n",
      "Requirement already satisfied: statsmodels in /Users/aaron/mambaforge/envs/pymc3_test/lib/python3.9/site-packages (from pgmpy) (0.13.1)\n",
      "Requirement already satisfied: pyparsing in /Users/aaron/mambaforge/envs/pymc3_test/lib/python3.9/site-packages (from pgmpy) (3.0.6)\n",
      "Requirement already satisfied: numpy in /Users/aaron/mambaforge/envs/pymc3_test/lib/python3.9/site-packages (from pgmpy) (1.22.0)\n",
      "Requirement already satisfied: scipy in /Users/aaron/mambaforge/envs/pymc3_test/lib/python3.9/site-packages (from pgmpy) (1.7.3)\n",
      "Requirement already satisfied: tqdm in /Users/aaron/mambaforge/envs/pymc3_test/lib/python3.9/site-packages (from pgmpy) (4.62.3)\n",
      "Requirement already satisfied: joblib in /Users/aaron/mambaforge/envs/pymc3_test/lib/python3.9/site-packages (from pgmpy) (1.1.0)\n",
      "Requirement already satisfied: networkx in /Users/aaron/mambaforge/envs/pymc3_test/lib/python3.9/site-packages (from pgmpy) (2.6.3)\n",
      "Requirement already satisfied: torch in /Users/aaron/mambaforge/envs/pymc3_test/lib/python3.9/site-packages (from pgmpy) (1.10.1)\n",
      "Requirement already satisfied: pandas in /Users/aaron/mambaforge/envs/pymc3_test/lib/python3.9/site-packages (from pgmpy) (1.3.5)\n",
      "Requirement already satisfied: scikit-learn in /Users/aaron/mambaforge/envs/pymc3_test/lib/python3.9/site-packages (from pgmpy) (1.0.2)\n",
      "Requirement already satisfied: python-dateutil>=2.7.3 in /Users/aaron/mambaforge/envs/pymc3_test/lib/python3.9/site-packages (from pandas->pgmpy) (2.8.2)\n",
      "Requirement already satisfied: pytz>=2017.3 in /Users/aaron/mambaforge/envs/pymc3_test/lib/python3.9/site-packages (from pandas->pgmpy) (2021.3)\n",
      "Requirement already satisfied: threadpoolctl>=2.0.0 in /Users/aaron/mambaforge/envs/pymc3_test/lib/python3.9/site-packages (from scikit-learn->pgmpy) (3.0.0)\n",
      "Requirement already satisfied: patsy>=0.5.2 in /Users/aaron/mambaforge/envs/pymc3_test/lib/python3.9/site-packages (from statsmodels->pgmpy) (0.5.2)\n",
      "Requirement already satisfied: typing-extensions in /Users/aaron/mambaforge/envs/pymc3_test/lib/python3.9/site-packages (from torch->pgmpy) (4.0.1)\n",
      "Requirement already satisfied: six in /Users/aaron/mambaforge/envs/pymc3_test/lib/python3.9/site-packages (from patsy>=0.5.2->statsmodels->pgmpy) (1.16.0)\n",
      "Note: you may need to restart the kernel to use updated packages.\n"
     ]
    }
   ],
   "source": [
    "# for colab\n",
    "%pip install pgmpy"
   ]
  },
  {
   "cell_type": "code",
   "execution_count": 2,
   "id": "07b82309-32ca-4f81-8dff-554a8caf8245",
   "metadata": {},
   "outputs": [],
   "source": [
    "import matplotlib.pyplot as plt\n",
    "import networkx as nx\n",
    "from pgmpy.factors.discrete import TabularCPD\n",
    "from pgmpy.inference import CausalInference\n",
    "from pgmpy.models import BayesianNetwork"
   ]
  },
  {
   "cell_type": "markdown",
   "id": "233ad689-641f-4c80-9c57-24afa4a1216a",
   "metadata": {},
   "source": [
    "# Manufacturing Bayes\n",
    "From [Codes for Unit 3](https://www2.isye.gatech.edu/isye6420/supporting.html).\n",
    "\n",
    "Associated lecture video: [Unit 3 Lesson 5](https://www.youtube.com/watch?v=kpd-e-7K6vQ&list=PLv0FeK5oXK4l-RdT6DWJj0_upJOG2WKNO&index=13).\n",
    "\n",
    "Three types of machines produce items. The first type makes 30% of the items, the second 50%, and the third 20%.\n",
    "The probability of an item conforming to standards is 0.94 if it comes from a type-1 machine, 0.95 from a type-2 machine, and 0.97 from a type-3 machine.\n",
    "\n",
    "An item from the production is selected at random.\n",
    "\n",
    "1. What is the probability that it was conforming?\n",
    "\n",
    "2. If it was found that the item is conforming, what is the probability that it was produced on a type-1 machine?\n",
    "\n",
    "\n",
    "The code below uses pgmpy. Jacob Harris, a student in the Fall 2021 class, also managed to get this [working in PyMC3](https://github.gatech.edu/jharris373/isye6420_examples/blob/master/lecture/unit_3/manufacturing_bayes/PyMC3/simple%20bayes%20net%20example%20-%20manufacturing%20bayes.ipynb)."
   ]
  },
  {
   "cell_type": "code",
   "execution_count": 3,
   "id": "9b904478-5d99-4f78-96a3-b62ff5248bea",
   "metadata": {},
   "outputs": [
    {
     "name": "stdout",
     "output_type": "stream",
     "text": [
      "Nodes: ['Machine', 'Conforming']\n",
      "Edges: [('Machine', 'Conforming')]\n"
     ]
    }
   ],
   "source": [
    "# Defining network structure\n",
    "mb_model = BayesianNetwork([(\"Machine\", \"Conforming\")])\n",
    "\n",
    "# Defining the parameters\n",
    "cpd_machine = TabularCPD(\n",
    "    variable=\"Machine\", variable_card=3, values=[[0.3], [0.5], [0.2]]\n",
    ")\n",
    "\n",
    "cpd_conforming = TabularCPD(\n",
    "    variable=\"Conforming\",\n",
    "    variable_card=2,\n",
    "    values=[[0.06, 0.05, 0.03], [0.94, 0.95, 0.97]],\n",
    "    evidence=[\"Machine\"],\n",
    "    evidence_card=[3],\n",
    ")\n",
    "\n",
    "# Associating the parameters with the model structure\n",
    "mb_model.add_cpds(cpd_machine, cpd_conforming)\n",
    "\n",
    "assert mb_model.check_model(), \"Your model doesn't make sense to pgmpy.\"\n",
    "\n",
    "print(f\"Nodes: {mb_model.nodes()}\")\n",
    "print(f\"Edges: {mb_model.edges()}\")"
   ]
  },
  {
   "cell_type": "code",
   "execution_count": 4,
   "id": "779d0790-44fb-478b-b397-470686bb48f3",
   "metadata": {},
   "outputs": [
    {
     "data": {
      "image/png": "[encoded data removed]",
      "text/plain": [
       "<Figure size 432x288 with 1 Axes>"
      ]
     },
     "metadata": {},
     "output_type": "display_data"
    }
   ],
   "source": [
    "options = {\n",
    "    \"arrowsize\": 40,\n",
    "    \"font_size\": 8,\n",
    "    \"font_weight\": \"bold\",\n",
    "    \"node_size\": 4000,\n",
    "    \"node_color\": \"white\",\n",
    "    \"edgecolors\": \"black\",\n",
    "    \"linewidths\": 2,\n",
    "    \"width\": 5,\n",
    "    \"alpha\": 0.9,\n",
    "}\n",
    "\n",
    "# plot the network\n",
    "nx.draw(mb_model, with_labels=True, **options)\n",
    "\n",
    "# Set margins for the axes so that nodes aren't clipped\n",
    "ax = plt.gca()\n",
    "ax.margins(0.20)\n",
    "plt.axis(\"off\")\n",
    "plt.show()"
   ]
  },
  {
   "cell_type": "markdown",
   "id": "f08d39fe-0e09-417d-a779-c89c0528f92d",
   "metadata": {},
   "source": [
    "Make sure the above visualization makes sense!\n",
    "\n",
    "See [Networkx docs](https://networkx.org/documentation/latest/auto_examples/basic/plot_simple_graph.html#sphx-glr-auto-examples-basic-plot-simple-graph-py) for more details on plotting."
   ]
  },
  {
   "cell_type": "code",
   "execution_count": 5,
   "id": "9a9f95be-e258-4223-8f27-abadadda2587",
   "metadata": {},
   "outputs": [
    {
     "name": "stdout",
     "output_type": "stream",
     "text": [
      "P(C):\n",
      "+---------------+-------------------+\n",
      "| Conforming    |   phi(Conforming) |\n",
      "+===============+===================+\n",
      "| Conforming(0) |            0.0490 |\n",
      "+---------------+-------------------+\n",
      "| Conforming(1) |            0.9510 |\n",
      "+---------------+-------------------+\n",
      "P(M|C) (0-indexed, so Machine 1 is listed as Machine(0) and so on):\n",
      "+------------+----------------+\n",
      "| Machine    |   phi(Machine) |\n",
      "+============+================+\n",
      "| Machine(0) |         0.2965 |\n",
      "+------------+----------------+\n",
      "| Machine(1) |         0.4995 |\n",
      "+------------+----------------+\n",
      "| Machine(2) |         0.2040 |\n",
      "+------------+----------------+\n"
     ]
    }
   ],
   "source": [
    "mb_infer = CausalInference(mb_model)\n",
    "\n",
    "# probability a random item is conforming\n",
    "q = mb_infer.query(variables=[\"Conforming\"])\n",
    "print(\"P(C):\")\n",
    "print(q)\n",
    "\n",
    "# probability a conforming item came from the different machine types\n",
    "q = mb_infer.query(variables=[\"Machine\"], evidence={\"Conforming\": True})\n",
    "print(\"P(M|C) (0-indexed, so Machine 1 is listed as Machine(0) and so on):\")\n",
    "print(q)"
   ]
  },
  {
   "cell_type": "markdown",
   "id": "bb9b6488-2764-469d-bd8a-12ce0564bf74",
   "metadata": {},
   "source": [
    "Note that this doesn't exactly match the BUGS results in U3L5, because BUGS is sampling from random variables rather than performing exact calculations."
   ]
  }
 ],
 "metadata": {
  "kernelspec": {
   "display_name": "Python 3 (ipykernel)",
   "language": "python",
   "name": "python3"
  },
  "language_info": {
   "codemirror_mode": {
    "name": "ipython",
    "version": 3
   },
   "file_extension": ".py",
   "mimetype": "text/x-python",
   "name": "python",
   "nbconvert_exporter": "python",
   "pygments_lexer": "ipython3",
   "version": "3.9.9"
  }
 },
 "nbformat": 4,
 "nbformat_minor": 5
}
