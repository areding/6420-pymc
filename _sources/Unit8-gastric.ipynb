{
 "cells": [
  {
   "cell_type": "code",
   "execution_count": 1,
   "id": "7580191a-1715-4a40-93dc-5535ee041d53",
   "metadata": {},
   "outputs": [],
   "source": [
    "import arviz as az\n",
    "import numpy as np\n",
    "import pymc as pm\n",
    "from pymc.math import exp\n",
    "\n",
    "np.set_printoptions(suppress=True)"
   ]
  },
  {
   "cell_type": "markdown",
   "id": "0eef5567-0a05-4397-b6b7-8a97fb6218e8",
   "metadata": {
    "tags": []
   },
   "source": [
    "# Gastric cancer example\n",
    "\n",
    "Adapted from code for [unit 8: gastric.odc](https://raw.githubusercontent.com/areding/6420-pymc/main/original_examples/Codes4Unit8/gastric.odc).\n",
    "\n",
    "Data can be found [here](https://raw.githubusercontent.com/areding/6420-pymc/main/data/gastric.txt).\n",
    "\n",
    "## Associated lecture video: Unit 8, Lesson 6"
   ]
  },
  {
   "cell_type": "code",
   "execution_count": 2,
   "id": "62e971c5-25b1-4f5c-b275-f79d0e3390f7",
   "metadata": {
    "tags": [
     "hide-input"
    ]
   },
   "outputs": [
    {
     "data": {
      "text/html": [
       "<iframe width=\"560\" height=\"315\" src=\"https://www.youtube.com/embed?v=t4pHpZxtC0U&list=PLv0FeK5oXK4l-RdT6DWJj0_upJOG2WKNO&index=87\" frameborder=\"0\" allow=\"autoplay; encrypted-media\" allowfullscreen></iframe>\n"
      ],
      "text/plain": [
       "<IPython.core.display.HTML object>"
      ]
     },
     "metadata": {},
     "output_type": "display_data"
    }
   ],
   "source": [
    "%%html\n",
    "<iframe width=\"560\" height=\"315\" src=\"https://www.youtube.com/embed?v=t4pHpZxtC0U&list=PLv0FeK5oXK4l-RdT6DWJj0_upJOG2WKNO&index=87\" frameborder=\"0\" allow=\"autoplay; encrypted-media\" allowfullscreen></iframe>"
   ]
  },
  {
   "cell_type": "markdown",
   "id": "1e734066-b038-42fe-907a-9978976d7a5e",
   "metadata": {},
   "source": [
    "## Problem statement\n",
    "Stablein et al. (1981) provide data on 90 patients affected by locally advanced, nonresectable gastric carcinoma. The patients are randomized to two treatments: chemotherapy alone (coded as 0) and chemotherapy plus radiation (coded as 1). Survival time is reported in days. Recorded times are censored if the patient stopped participating in the study before it finished.\n",
    "\n",
    "Stablein, D. M., Carter, W. H., Novak, J. W. (1981). Analysis of survival data with nonproportional hazard functions. Control. Clin. Trials,  2 , 2, 149--159.\n",
    "\n",
    "### Data\n",
    "Columns are, from left to right:\n",
    "- type: Treatment type, chemotherapy (0) or chemotherapy + radiation (1)\n",
    "- censored: If censored, meaning the patient survived the observation period, the time in days appears here rather than in the times column. 0 if not censored.\n",
    "- times: Recorded days without cancer recurrence. NaN if censored.\n",
    "\n",
    "### Model changes\n",
    "I didn't implement S, f, or h from the original model. They should be simple enough, but I really just wanted to get another example of censoring up before HW6. I will add those later.\n",
    "\n",
    "PyMC really did not like the noninformative exponential prior on v (α in this model). To avoid the divide by zero errors, I just kept increasing lambda until the model ran all the way through. This is not ideal, but I haven't had time to look into it further. The results actually came out fairly close to the BUGS results.\n"
   ]
  },
  {
   "cell_type": "markdown",
   "id": "5e0917d3-efdc-42d8-ab35-2d2fb1f34083",
   "metadata": {},
   "source": [
    "## Method 1: ```pm.Censored```\n",
    "\n",
    "The way PyMC censoring works is described in some detail in [this notebook](https://docs.pymc.io/projects/examples/en/latest/generalized_linear_models/GLM-truncated-censored-regression.html#censored-regression-model) by [Dr. Benjamin T. Vincent](https://github.com/drbenvincent). This is accomplished in the source code [here](https://github.com/aesara-devs/aeppl/blob/751979802f1aef5478fdbf7cc1839df07df60825/aeppl/truncation.py#L79) if you want to take a look. For right-censoring, try this: ```pm.Censored(\"name\", dist, lower=None, upper=censored, observed=y)```. The censored values can be an array of the same shape as the y values. \n",
    "\n",
    "If the y value equals the right-censored value, [```pm.Censored```](https://docs.pymc.io/en/latest/api/distributions/generated/pymc.Censored.html#pymc.Censored) returns the complement to the CDF evaluated at the censored value. If the y value is greater than the censored value, it returns ```-np.inf```. Otherwise, the distribution you passed to the ```dist``` parameter works as normal. What I've been doing is setting the values in the censored array to ```np.inf``` if the corresponding y value is not censored, and equal to the y value if it should be censored.\n",
    "\n",
    "```{note}\n",
    "I've noticed that this method is unstable with some distributions. Try using the imputed censoring model (below) if this one isn't working.\n",
    "```"
   ]
  },
  {
   "cell_type": "code",
   "execution_count": 2,
   "id": "3d381b6f-01fc-4884-9cf5-329eb0214eeb",
   "metadata": {},
   "outputs": [
    {
     "data": {
      "text/plain": [
       "(90, 3)"
      ]
     },
     "execution_count": 2,
     "metadata": {},
     "output_type": "execute_result"
    }
   ],
   "source": [
    "data = np.loadtxt(\"./data/gastric.txt\")\n",
    "data.shape"
   ]
  },
  {
   "cell_type": "code",
   "execution_count": 3,
   "id": "d126fe52-c991-49cf-8814-c2126bb457a6",
   "metadata": {},
   "outputs": [],
   "source": [
    "x = data[:, 0].copy()\n",
    "censored = data[:, 1].copy()\n",
    "y = data[:, 2].copy()\n",
    "# for pymc, right-censored values must be greater than or equal to than the \"upper\" value\n",
    "y[np.isnan(y)] = censored[np.isnan(y)]\n",
    "censored[censored == 0] = np.inf"
   ]
  },
  {
   "cell_type": "code",
   "execution_count": 4,
   "id": "928aa3c4-d64a-4a2c-88b3-72e7a902773d",
   "metadata": {},
   "outputs": [
    {
     "data": {
      "text/plain": [
       "array([  17.,   42.,   44.,   48.,   60.,   72.,   74.,   95.,  103.,\n",
       "        108.,  122.,  144.,  167.,  170.,  183.,  185.,  193.,  195.,\n",
       "        197.,  208.,  234.,  235.,  254.,  307.,  315.,  401.,  445.,\n",
       "        464.,  484.,  528.,  542.,  567.,  577.,  580.,  795.,  855.,\n",
       "        882.,  892., 1031., 1033., 1306., 1335., 1366., 1452., 1472.,\n",
       "          1.,   63.,  105.,  129.,  182.,  216.,  250.,  262.,  301.,\n",
       "        301.,  342.,  354.,  356.,  358.,  380.,  381.,  383.,  383.,\n",
       "        388.,  394.,  408.,  460.,  489.,  499.,  524.,  529.,  535.,\n",
       "        562.,  675.,  676.,  748.,  748.,  778.,  786.,  797.,  945.,\n",
       "        955.,  968., 1180., 1245., 1271., 1277., 1397., 1512., 1519.])"
      ]
     },
     "execution_count": 4,
     "metadata": {},
     "output_type": "execute_result"
    }
   ],
   "source": [
    "y"
   ]
  },
  {
   "cell_type": "code",
   "execution_count": 5,
   "id": "76e56a7d-e3db-49bb-b358-ef52ce8318f2",
   "metadata": {},
   "outputs": [
    {
     "data": {
      "text/plain": [
       "array([  inf,   inf,   inf,   inf,   inf,   inf,   inf,   inf,   inf,\n",
       "         inf,   inf,   inf,   inf,   inf,   inf,   inf,   inf,   inf,\n",
       "         inf,   inf,   inf,   inf,   inf,   inf,   inf,   inf,   inf,\n",
       "         inf,   inf,   inf,   inf,   inf,   inf,   inf,   inf,   inf,\n",
       "        882.,  892., 1031., 1033., 1306., 1335.,   inf, 1452., 1472.,\n",
       "         inf,   inf,   inf,   inf,   inf,   inf,   inf,   inf,   inf,\n",
       "         inf,   inf,   inf,   inf,   inf,   inf,  381.,   inf,   inf,\n",
       "         inf,   inf,   inf,   inf,   inf,   inf,   inf,  529.,   inf,\n",
       "         inf,   inf,   inf,   inf,   inf,   inf,   inf,   inf,  945.,\n",
       "         inf,   inf, 1180.,   inf,   inf, 1277., 1397., 1512., 1519.])"
      ]
     },
     "execution_count": 5,
     "metadata": {},
     "output_type": "execute_result"
    }
   ],
   "source": [
    "censored"
   ]
  },
  {
   "cell_type": "markdown",
   "id": "7b3f9c76-d3e0-42e7-91c1-96bd78b376ab",
   "metadata": {},
   "source": [
    "```{warning}\n",
    "PyMC and BUGS do not specify the Weibull distribution in the same way!\n",
    "\n",
    "α = v\n",
    "\n",
    "β = λ ** (-1 / α)\n",
    "\n",
    "```"
   ]
  },
  {
   "cell_type": "code",
   "execution_count": 6,
   "id": "4cdb986d-03ff-49d7-bd9f-548dbb2c653a",
   "metadata": {
    "tags": [
     "hide-output"
    ]
   },
   "outputs": [
    {
     "name": "stderr",
     "output_type": "stream",
     "text": [
      "Multiprocess sampling (4 chains in 4 jobs)\n",
      "NUTS: [beta0, beta1, α]\n"
     ]
    },
    {
     "data": {
      "text/html": [
       "\n",
       "<style>\n",
       "    /* Turns off some styling */\n",
       "    progress {\n",
       "        /* gets rid of default border in Firefox and Opera. */\n",
       "        border: none;\n",
       "        /* Needs to be in here for Safari polyfill so background images work as expected. */\n",
       "        background-size: auto;\n",
       "    }\n",
       "    .progress-bar-interrupted, .progress-bar-interrupted::-webkit-progress-bar {\n",
       "        background: #F44336;\n",
       "    }\n",
       "</style>\n"
      ],
      "text/plain": [
       "<IPython.core.display.HTML object>"
      ]
     },
     "metadata": {},
     "output_type": "display_data"
    },
    {
     "data": {
      "text/html": [
       "\n",
       "    <div>\n",
       "      <progress value='48000' class='' max='48000' style='width:300px; height:20px; vertical-align: middle;'></progress>\n",
       "      100.00% [48000/48000 00:17<00:00 Sampling 4 chains, 0 divergences]\n",
       "    </div>\n",
       "    "
      ],
      "text/plain": [
       "<IPython.core.display.HTML object>"
      ]
     },
     "metadata": {},
     "output_type": "display_data"
    },
    {
     "name": "stderr",
     "output_type": "stream",
     "text": [
      "/Users/aaron/mambaforge/envs/pymc-dev-py39/lib/python3.9/site-packages/scipy/stats/_continuous_distns.py:624: RuntimeWarning: overflow encountered in _beta_ppf\n",
      "  return _boost._beta_ppf(q, a, b)\n",
      "/Users/aaron/mambaforge/envs/pymc-dev-py39/lib/python3.9/site-packages/scipy/stats/_continuous_distns.py:624: RuntimeWarning: overflow encountered in _beta_ppf\n",
      "  return _boost._beta_ppf(q, a, b)\n",
      "/Users/aaron/mambaforge/envs/pymc-dev-py39/lib/python3.9/site-packages/scipy/stats/_continuous_distns.py:624: RuntimeWarning: overflow encountered in _beta_ppf\n",
      "  return _boost._beta_ppf(q, a, b)\n",
      "/Users/aaron/mambaforge/envs/pymc-dev-py39/lib/python3.9/site-packages/scipy/stats/_continuous_distns.py:624: RuntimeWarning: overflow encountered in _beta_ppf\n",
      "  return _boost._beta_ppf(q, a, b)\n",
      "Sampling 4 chains for 2_000 tune and 10_000 draw iterations (8_000 + 40_000 draws total) took 27 seconds.\n"
     ]
    }
   ],
   "source": [
    "log2 = np.log(2)\n",
    "\n",
    "with pm.Model() as m:\n",
    "    beta0 = pm.Normal(\"beta0\", 0, tau=0.0001)\n",
    "    beta1 = pm.Normal(\"beta1\", 0, tau=0.0001)\n",
    "    α = pm.Exponential(\"α\", 3)\n",
    "\n",
    "    λ = exp(beta0 + beta1 * x)\n",
    "    β = λ ** (-1 / α)\n",
    "\n",
    "    obs_latent = pm.Weibull.dist(alpha=α, beta=β)\n",
    "    likelihood = pm.Censored(\n",
    "        \"likelihood\",\n",
    "        obs_latent,\n",
    "        lower=None,\n",
    "        upper=censored,\n",
    "        observed=y,\n",
    "    )\n",
    "\n",
    "    median0 = pm.Deterministic(\"median0\", (log2 * exp(-beta0)) ** (1 / α))\n",
    "    median1 = pm.Deterministic(\"median1\", (log2 * exp(-beta0 - beta1)) ** (1 / α))\n",
    "\n",
    "    trace = pm.sample(\n",
    "        10000, tune=2000, cores=4, init=\"auto\", step=[pm.NUTS(target_accept=0.9)]\n",
    "    )"
   ]
  },
  {
   "cell_type": "code",
   "execution_count": 7,
   "id": "ec53f408-cfc7-4f85-b934-f77fc737fb01",
   "metadata": {
    "tags": [
     "full-width"
    ]
   },
   "outputs": [
    {
     "data": {
      "text/html": [
       "<div>\n",
       "<style scoped>\n",
       "    .dataframe tbody tr th:only-of-type {\n",
       "        vertical-align: middle;\n",
       "    }\n",
       "\n",
       "    .dataframe tbody tr th {\n",
       "        vertical-align: top;\n",
       "    }\n",
       "\n",
       "    .dataframe thead th {\n",
       "        text-align: right;\n",
       "    }\n",
       "</style>\n",
       "<table border=\"1\" class=\"dataframe\">\n",
       "  <thead>\n",
       "    <tr style=\"text-align: right;\">\n",
       "      <th></th>\n",
       "      <th>mean</th>\n",
       "      <th>sd</th>\n",
       "      <th>hdi_5%</th>\n",
       "      <th>hdi_95%</th>\n",
       "      <th>mcse_mean</th>\n",
       "      <th>mcse_sd</th>\n",
       "      <th>ess_bulk</th>\n",
       "      <th>ess_tail</th>\n",
       "      <th>r_hat</th>\n",
       "    </tr>\n",
       "  </thead>\n",
       "  <tbody>\n",
       "    <tr>\n",
       "      <th>beta0</th>\n",
       "      <td>-6.621</td>\n",
       "      <td>0.657</td>\n",
       "      <td>-7.688</td>\n",
       "      <td>-5.550</td>\n",
       "      <td>0.006</td>\n",
       "      <td>0.004</td>\n",
       "      <td>12673.0</td>\n",
       "      <td>15509.0</td>\n",
       "      <td>1.0</td>\n",
       "    </tr>\n",
       "    <tr>\n",
       "      <th>beta1</th>\n",
       "      <td>0.262</td>\n",
       "      <td>0.237</td>\n",
       "      <td>-0.109</td>\n",
       "      <td>0.666</td>\n",
       "      <td>0.002</td>\n",
       "      <td>0.001</td>\n",
       "      <td>17389.0</td>\n",
       "      <td>15702.0</td>\n",
       "      <td>1.0</td>\n",
       "    </tr>\n",
       "    <tr>\n",
       "      <th>α</th>\n",
       "      <td>1.002</td>\n",
       "      <td>0.096</td>\n",
       "      <td>0.846</td>\n",
       "      <td>1.158</td>\n",
       "      <td>0.001</td>\n",
       "      <td>0.001</td>\n",
       "      <td>12802.0</td>\n",
       "      <td>14919.0</td>\n",
       "      <td>1.0</td>\n",
       "    </tr>\n",
       "    <tr>\n",
       "      <th>median0</th>\n",
       "      <td>519.814</td>\n",
       "      <td>90.723</td>\n",
       "      <td>376.416</td>\n",
       "      <td>665.831</td>\n",
       "      <td>0.622</td>\n",
       "      <td>0.442</td>\n",
       "      <td>21388.0</td>\n",
       "      <td>24772.0</td>\n",
       "      <td>1.0</td>\n",
       "    </tr>\n",
       "    <tr>\n",
       "      <th>median1</th>\n",
       "      <td>399.914</td>\n",
       "      <td>71.281</td>\n",
       "      <td>285.372</td>\n",
       "      <td>513.401</td>\n",
       "      <td>0.476</td>\n",
       "      <td>0.341</td>\n",
       "      <td>22777.0</td>\n",
       "      <td>24768.0</td>\n",
       "      <td>1.0</td>\n",
       "    </tr>\n",
       "  </tbody>\n",
       "</table>\n",
       "</div>"
      ],
      "text/plain": [
       "            mean      sd   hdi_5%  hdi_95%  mcse_mean  mcse_sd  ess_bulk  \\\n",
       "beta0     -6.621   0.657   -7.688   -5.550      0.006    0.004   12673.0   \n",
       "beta1      0.262   0.237   -0.109    0.666      0.002    0.001   17389.0   \n",
       "α          1.002   0.096    0.846    1.158      0.001    0.001   12802.0   \n",
       "median0  519.814  90.723  376.416  665.831      0.622    0.442   21388.0   \n",
       "median1  399.914  71.281  285.372  513.401      0.476    0.341   22777.0   \n",
       "\n",
       "         ess_tail  r_hat  \n",
       "beta0     15509.0    1.0  \n",
       "beta1     15702.0    1.0  \n",
       "α         14919.0    1.0  \n",
       "median0   24772.0    1.0  \n",
       "median1   24768.0    1.0  "
      ]
     },
     "execution_count": 7,
     "metadata": {},
     "output_type": "execute_result"
    }
   ],
   "source": [
    "az.summary(trace, hdi_prob=0.9)"
   ]
  },
  {
   "cell_type": "markdown",
   "id": "26441660-bd9f-4cc7-bb59-b8b5156883c5",
   "metadata": {},
   "source": [
    "## Method 2: Imputed Censoring\n",
    "\n",
    "This method is from [this notebook](https://docs.pymc.io/projects/examples/en/latest/survival_analysis/censored_data.html#censored-data-model1) by [Luis Mario Domenzain](https://github.com/domenzain), [George Ho](https://github.com/eigenfoo), and [Dr. Ben Vincent](https://github.com/drbenvincent). This method imputes the values using what is almost another likelihood (not sure if it actually meets the definition of one, so I'm calling the variable ```impute_censored```) in the model, with the right-censored values as lower bounds. Since the two likelihoods share the same priors, this ends up working nearly as well as the previous method. Better, in the case of homework 6 question 2, since the previous method doesn't seem to work for the required model at all. This method will work for the homework, albeit more slowly and with some extra warnings."
   ]
  },
  {
   "cell_type": "code",
   "execution_count": 8,
   "id": "881ce043-4980-4c18-b82e-a9f90f35fba2",
   "metadata": {},
   "outputs": [],
   "source": [
    "data = np.loadtxt(\"./data/gastric.txt\")\n",
    "x = data[:, 0].copy()\n",
    "censored_vals = data[:, 1].copy()\n",
    "y = data[:, 2].copy()\n",
    "\n",
    "# we need to separate the observed values and the censored values\n",
    "observed_mask = censored_vals == 0\n",
    "\n",
    "censored = censored_vals[~observed_mask]\n",
    "y_uncensored = y[observed_mask]\n",
    "x_censored = x[~observed_mask]\n",
    "x_uncensored = x[observed_mask]"
   ]
  },
  {
   "cell_type": "code",
   "execution_count": 9,
   "id": "d1324570-78b4-47d3-97c3-4335d05d7290",
   "metadata": {
    "tags": [
     "hide-output"
    ]
   },
   "outputs": [
    {
     "name": "stderr",
     "output_type": "stream",
     "text": [
      "/Users/aaron/mambaforge/envs/pymc-dev-py39/lib/python3.9/site-packages/pymc/sampling.py:635: UserWarning: Unable to validate shapes: Cannot sample from a bounded variable\n",
      "Apply node that caused the error: bound_rv{0, (0, 0, 0), floatX, False}(RandomStateSharedVariable(<RandomState(MT19937) at 0x14027C340>), TensorConstant{(1,) of 16}, TensorConstant{11}, weibull_rv{0, (0, 0), floatX, False}.out, TensorConstant{[ 882.  89..12. 1519.]}, TensorConstant{inf})\n",
      "Toposort index: 18\n",
      "Inputs types: [RandomStateType, TensorType(int64, (1,)), TensorType(int64, ()), TensorType(float64, (None,)), TensorType(float64, (16,)), TensorType(float64, ())]\n",
      "Inputs shapes: ['No shapes', (1,), (), (16,), (16,), ()]\n",
      "Inputs strides: ['No strides', (8,), (), (8,), (8,), ()]\n",
      "Inputs values: [RandomState(MT19937) at 0x14027C340, array([16]), array(11), 'not shown', 'not shown', array(inf)]\n",
      "Outputs clients: [['output'], []]\n",
      "\n",
      "Backtrace when the node is created (use Aesara flag traceback__limit=N to make it longer):\n",
      "  File \"/Users/aaron/mambaforge/envs/pymc-dev-py39/lib/python3.9/site-packages/IPython/core/interactiveshell.py\", line 3301, in run_ast_nodes\n",
      "    if await self.run_code(code, result, async_=asy):\n",
      "  File \"/Users/aaron/mambaforge/envs/pymc-dev-py39/lib/python3.9/site-packages/IPython/core/interactiveshell.py\", line 3361, in run_code\n",
      "    exec(code_obj, self.user_global_ns, self.user_ns)\n",
      "  File \"/var/folders/pm/9z29qnf508bc1v6q8fksblm40000gn/T/ipykernel_70488/882117803.py\", line 14, in <cell line: 3>\n",
      "    impute_censored = pm.Bound(\n",
      "  File \"/Users/aaron/mambaforge/envs/pymc-dev-py39/lib/python3.9/site-packages/pymc/distributions/bound.py\", line 193, in __new__\n",
      "    res = _ContinuousBounded(\n",
      "  File \"/Users/aaron/mambaforge/envs/pymc-dev-py39/lib/python3.9/site-packages/pymc/distributions/continuous.py\", line 167, in __new__\n",
      "    return super().__new__(cls, *args, **kwargs)\n",
      "  File \"/Users/aaron/mambaforge/envs/pymc-dev-py39/lib/python3.9/site-packages/pymc/distributions/distribution.py\", line 267, in __new__\n",
      "    rv_out, dims, observed, resize_shape = _make_rv_and_resize_shape(\n",
      "  File \"/Users/aaron/mambaforge/envs/pymc-dev-py39/lib/python3.9/site-packages/pymc/distributions/distribution.py\", line 166, in _make_rv_and_resize_shape\n",
      "    rv_out = cls.dist(*args, **kwargs)\n",
      "  File \"/Users/aaron/mambaforge/envs/pymc-dev-py39/lib/python3.9/site-packages/pymc/distributions/distribution.py\", line 354, in dist\n",
      "    rv_out = cls.rv_op(*dist_params, size=create_size, **kwargs)\n",
      "\n",
      "HINT: Use the Aesara flag `exception_verbosity=high` for a debug print-out and storage map footprint of this Apply node.\n",
      "  warnings.warn(f\"Unable to validate shapes: {ex.args[0]}\", UserWarning)\n",
      "Multiprocess sampling (4 chains in 4 jobs)\n",
      "NUTS: [beta0, beta1, α, impute_censored]\n"
     ]
    },
    {
     "data": {
      "text/html": [
       "\n",
       "<style>\n",
       "    /* Turns off some styling */\n",
       "    progress {\n",
       "        /* gets rid of default border in Firefox and Opera. */\n",
       "        border: none;\n",
       "        /* Needs to be in here for Safari polyfill so background images work as expected. */\n",
       "        background-size: auto;\n",
       "    }\n",
       "    .progress-bar-interrupted, .progress-bar-interrupted::-webkit-progress-bar {\n",
       "        background: #F44336;\n",
       "    }\n",
       "</style>\n"
      ],
      "text/plain": [
       "<IPython.core.display.HTML object>"
      ]
     },
     "metadata": {},
     "output_type": "display_data"
    },
    {
     "data": {
      "text/html": [
       "\n",
       "    <div>\n",
       "      <progress value='48000' class='' max='48000' style='width:300px; height:20px; vertical-align: middle;'></progress>\n",
       "      100.00% [48000/48000 00:43<00:00 Sampling 4 chains, 0 divergences]\n",
       "    </div>\n",
       "    "
      ],
      "text/plain": [
       "<IPython.core.display.HTML object>"
      ]
     },
     "metadata": {},
     "output_type": "display_data"
    },
    {
     "name": "stderr",
     "output_type": "stream",
     "text": [
      "/Users/aaron/mambaforge/envs/pymc-dev-py39/lib/python3.9/site-packages/scipy/stats/_continuous_distns.py:624: RuntimeWarning: overflow encountered in _beta_ppf\n",
      "  return _boost._beta_ppf(q, a, b)\n",
      "/Users/aaron/mambaforge/envs/pymc-dev-py39/lib/python3.9/site-packages/scipy/stats/_continuous_distns.py:624: RuntimeWarning: overflow encountered in _beta_ppf\n",
      "  return _boost._beta_ppf(q, a, b)\n",
      "/Users/aaron/mambaforge/envs/pymc-dev-py39/lib/python3.9/site-packages/scipy/stats/_continuous_distns.py:624: RuntimeWarning: overflow encountered in _beta_ppf\n",
      "  return _boost._beta_ppf(q, a, b)\n",
      "/Users/aaron/mambaforge/envs/pymc-dev-py39/lib/python3.9/site-packages/scipy/stats/_continuous_distns.py:624: RuntimeWarning: overflow encountered in _beta_ppf\n",
      "  return _boost._beta_ppf(q, a, b)\n",
      "Sampling 4 chains for 2_000 tune and 10_000 draw iterations (8_000 + 40_000 draws total) took 52 seconds.\n"
     ]
    }
   ],
   "source": [
    "log2 = np.log(2)\n",
    "\n",
    "with pm.Model() as m:\n",
    "    beta0 = pm.Normal(\"beta0\", 0, tau=0.0001)\n",
    "    beta1 = pm.Normal(\"beta1\", 0, tau=0.0001)\n",
    "    α = pm.Exponential(\"α\", 3)\n",
    "\n",
    "    λ_censored = exp(beta0 + beta1 * x_censored)\n",
    "    β_censored = λ_censored ** (-1 / α)\n",
    "\n",
    "    λ_uncensored = exp(beta0 + beta1 * x_uncensored)\n",
    "    β_uncensored = λ_uncensored ** (-1 / α)\n",
    "\n",
    "    impute_censored = pm.Bound(\n",
    "        \"impute_censored\",\n",
    "        pm.Weibull.dist(alpha=α, beta=β_censored),\n",
    "        lower=censored,\n",
    "        shape=censored.shape[0],\n",
    "    )\n",
    "\n",
    "    likelihood = pm.Weibull(\n",
    "        \"likelihood\",\n",
    "        alpha=α,\n",
    "        beta=β_uncensored,\n",
    "        observed=y_uncensored,\n",
    "        shape=y_uncensored.shape[0],\n",
    "    )\n",
    "\n",
    "    median0 = pm.Deterministic(\"median0\", (log2 * exp(-beta0)) ** (1 / α))\n",
    "    median1 = pm.Deterministic(\"median1\", (log2 * exp(-beta0 - beta1)) ** (1 / α))\n",
    "\n",
    "    trace = pm.sample(\n",
    "        10000, tune=2000, cores=4, init=\"auto\", step=[pm.NUTS(target_accept=0.95)]\n",
    "    )"
   ]
  },
  {
   "cell_type": "code",
   "execution_count": 10,
   "id": "26993004-36d9-461e-8e20-a0fb22ae288f",
   "metadata": {
    "tags": [
     "full-width"
    ]
   },
   "outputs": [
    {
     "data": {
      "text/html": [
       "<div>\n",
       "<style scoped>\n",
       "    .dataframe tbody tr th:only-of-type {\n",
       "        vertical-align: middle;\n",
       "    }\n",
       "\n",
       "    .dataframe tbody tr th {\n",
       "        vertical-align: top;\n",
       "    }\n",
       "\n",
       "    .dataframe thead th {\n",
       "        text-align: right;\n",
       "    }\n",
       "</style>\n",
       "<table border=\"1\" class=\"dataframe\">\n",
       "  <thead>\n",
       "    <tr style=\"text-align: right;\">\n",
       "      <th></th>\n",
       "      <th>mean</th>\n",
       "      <th>sd</th>\n",
       "      <th>hdi_5%</th>\n",
       "      <th>hdi_95%</th>\n",
       "      <th>mcse_mean</th>\n",
       "      <th>mcse_sd</th>\n",
       "      <th>ess_bulk</th>\n",
       "      <th>ess_tail</th>\n",
       "      <th>r_hat</th>\n",
       "    </tr>\n",
       "  </thead>\n",
       "  <tbody>\n",
       "    <tr>\n",
       "      <th>beta0</th>\n",
       "      <td>-6.609</td>\n",
       "      <td>0.656</td>\n",
       "      <td>-7.658</td>\n",
       "      <td>-5.503</td>\n",
       "      <td>0.005</td>\n",
       "      <td>0.003</td>\n",
       "      <td>19480.0</td>\n",
       "      <td>25298.0</td>\n",
       "      <td>1.0</td>\n",
       "    </tr>\n",
       "    <tr>\n",
       "      <th>beta1</th>\n",
       "      <td>0.261</td>\n",
       "      <td>0.234</td>\n",
       "      <td>-0.117</td>\n",
       "      <td>0.654</td>\n",
       "      <td>0.001</td>\n",
       "      <td>0.001</td>\n",
       "      <td>36898.0</td>\n",
       "      <td>30235.0</td>\n",
       "      <td>1.0</td>\n",
       "    </tr>\n",
       "    <tr>\n",
       "      <th>α</th>\n",
       "      <td>1.000</td>\n",
       "      <td>0.096</td>\n",
       "      <td>0.843</td>\n",
       "      <td>1.159</td>\n",
       "      <td>0.001</td>\n",
       "      <td>0.000</td>\n",
       "      <td>19009.0</td>\n",
       "      <td>24796.0</td>\n",
       "      <td>1.0</td>\n",
       "    </tr>\n",
       "    <tr>\n",
       "      <th>impute_censored[0]</th>\n",
       "      <td>1475.726</td>\n",
       "      <td>635.099</td>\n",
       "      <td>882.011</td>\n",
       "      <td>2265.299</td>\n",
       "      <td>2.881</td>\n",
       "      <td>2.218</td>\n",
       "      <td>34725.0</td>\n",
       "      <td>18448.0</td>\n",
       "      <td>1.0</td>\n",
       "    </tr>\n",
       "    <tr>\n",
       "      <th>impute_censored[1]</th>\n",
       "      <td>1484.463</td>\n",
       "      <td>639.192</td>\n",
       "      <td>892.043</td>\n",
       "      <td>2261.448</td>\n",
       "      <td>2.810</td>\n",
       "      <td>2.167</td>\n",
       "      <td>36833.0</td>\n",
       "      <td>19391.0</td>\n",
       "      <td>1.0</td>\n",
       "    </tr>\n",
       "    <tr>\n",
       "      <th>impute_censored[2]</th>\n",
       "      <td>1629.256</td>\n",
       "      <td>645.326</td>\n",
       "      <td>1031.043</td>\n",
       "      <td>2398.520</td>\n",
       "      <td>2.956</td>\n",
       "      <td>2.232</td>\n",
       "      <td>33942.0</td>\n",
       "      <td>19618.0</td>\n",
       "      <td>1.0</td>\n",
       "    </tr>\n",
       "    <tr>\n",
       "      <th>impute_censored[3]</th>\n",
       "      <td>1630.216</td>\n",
       "      <td>647.041</td>\n",
       "      <td>1033.016</td>\n",
       "      <td>2409.227</td>\n",
       "      <td>2.838</td>\n",
       "      <td>2.205</td>\n",
       "      <td>36396.0</td>\n",
       "      <td>19188.0</td>\n",
       "      <td>1.0</td>\n",
       "    </tr>\n",
       "    <tr>\n",
       "      <th>impute_censored[4]</th>\n",
       "      <td>1902.019</td>\n",
       "      <td>644.556</td>\n",
       "      <td>1306.005</td>\n",
       "      <td>2680.309</td>\n",
       "      <td>2.985</td>\n",
       "      <td>2.218</td>\n",
       "      <td>32290.0</td>\n",
       "      <td>18608.0</td>\n",
       "      <td>1.0</td>\n",
       "    </tr>\n",
       "    <tr>\n",
       "      <th>impute_censored[5]</th>\n",
       "      <td>1935.348</td>\n",
       "      <td>656.242</td>\n",
       "      <td>1335.022</td>\n",
       "      <td>2721.087</td>\n",
       "      <td>2.963</td>\n",
       "      <td>2.193</td>\n",
       "      <td>32197.0</td>\n",
       "      <td>17857.0</td>\n",
       "      <td>1.0</td>\n",
       "    </tr>\n",
       "    <tr>\n",
       "      <th>impute_censored[6]</th>\n",
       "      <td>2052.146</td>\n",
       "      <td>651.151</td>\n",
       "      <td>1452.010</td>\n",
       "      <td>2837.503</td>\n",
       "      <td>3.027</td>\n",
       "      <td>2.268</td>\n",
       "      <td>33399.0</td>\n",
       "      <td>18709.0</td>\n",
       "      <td>1.0</td>\n",
       "    </tr>\n",
       "    <tr>\n",
       "      <th>impute_censored[7]</th>\n",
       "      <td>2066.770</td>\n",
       "      <td>643.909</td>\n",
       "      <td>1472.015</td>\n",
       "      <td>2861.416</td>\n",
       "      <td>3.130</td>\n",
       "      <td>2.251</td>\n",
       "      <td>26487.0</td>\n",
       "      <td>16168.0</td>\n",
       "      <td>1.0</td>\n",
       "    </tr>\n",
       "    <tr>\n",
       "      <th>impute_censored[8]</th>\n",
       "      <td>1144.371</td>\n",
       "      <td>829.969</td>\n",
       "      <td>381.020</td>\n",
       "      <td>2155.169</td>\n",
       "      <td>3.864</td>\n",
       "      <td>3.006</td>\n",
       "      <td>28395.0</td>\n",
       "      <td>15674.0</td>\n",
       "      <td>1.0</td>\n",
       "    </tr>\n",
       "    <tr>\n",
       "      <th>impute_censored[9]</th>\n",
       "      <td>1294.927</td>\n",
       "      <td>826.368</td>\n",
       "      <td>529.010</td>\n",
       "      <td>2284.129</td>\n",
       "      <td>4.132</td>\n",
       "      <td>3.071</td>\n",
       "      <td>25458.0</td>\n",
       "      <td>15248.0</td>\n",
       "      <td>1.0</td>\n",
       "    </tr>\n",
       "    <tr>\n",
       "      <th>impute_censored[10]</th>\n",
       "      <td>1717.688</td>\n",
       "      <td>827.815</td>\n",
       "      <td>945.010</td>\n",
       "      <td>2719.337</td>\n",
       "      <td>4.112</td>\n",
       "      <td>3.000</td>\n",
       "      <td>24767.0</td>\n",
       "      <td>15907.0</td>\n",
       "      <td>1.0</td>\n",
       "    </tr>\n",
       "    <tr>\n",
       "      <th>impute_censored[11]</th>\n",
       "      <td>1951.842</td>\n",
       "      <td>828.344</td>\n",
       "      <td>1180.021</td>\n",
       "      <td>2961.577</td>\n",
       "      <td>3.706</td>\n",
       "      <td>2.850</td>\n",
       "      <td>35982.0</td>\n",
       "      <td>18984.0</td>\n",
       "      <td>1.0</td>\n",
       "    </tr>\n",
       "    <tr>\n",
       "      <th>impute_censored[12]</th>\n",
       "      <td>2062.470</td>\n",
       "      <td>860.885</td>\n",
       "      <td>1277.026</td>\n",
       "      <td>3075.704</td>\n",
       "      <td>4.050</td>\n",
       "      <td>3.079</td>\n",
       "      <td>30632.0</td>\n",
       "      <td>17070.0</td>\n",
       "      <td>1.0</td>\n",
       "    </tr>\n",
       "    <tr>\n",
       "      <th>impute_censored[13]</th>\n",
       "      <td>2171.657</td>\n",
       "      <td>847.226</td>\n",
       "      <td>1397.006</td>\n",
       "      <td>3184.004</td>\n",
       "      <td>3.836</td>\n",
       "      <td>2.917</td>\n",
       "      <td>32163.0</td>\n",
       "      <td>17639.0</td>\n",
       "      <td>1.0</td>\n",
       "    </tr>\n",
       "    <tr>\n",
       "      <th>impute_censored[14]</th>\n",
       "      <td>2290.005</td>\n",
       "      <td>838.325</td>\n",
       "      <td>1512.006</td>\n",
       "      <td>3306.691</td>\n",
       "      <td>3.642</td>\n",
       "      <td>2.889</td>\n",
       "      <td>35337.0</td>\n",
       "      <td>19057.0</td>\n",
       "      <td>1.0</td>\n",
       "    </tr>\n",
       "    <tr>\n",
       "      <th>impute_censored[15]</th>\n",
       "      <td>2295.061</td>\n",
       "      <td>842.727</td>\n",
       "      <td>1519.035</td>\n",
       "      <td>3305.438</td>\n",
       "      <td>3.798</td>\n",
       "      <td>2.864</td>\n",
       "      <td>33620.0</td>\n",
       "      <td>19920.0</td>\n",
       "      <td>1.0</td>\n",
       "    </tr>\n",
       "    <tr>\n",
       "      <th>median0</th>\n",
       "      <td>519.612</td>\n",
       "      <td>90.235</td>\n",
       "      <td>370.828</td>\n",
       "      <td>658.346</td>\n",
       "      <td>0.475</td>\n",
       "      <td>0.340</td>\n",
       "      <td>36377.0</td>\n",
       "      <td>31332.0</td>\n",
       "      <td>1.0</td>\n",
       "    </tr>\n",
       "    <tr>\n",
       "      <th>median1</th>\n",
       "      <td>399.754</td>\n",
       "      <td>70.817</td>\n",
       "      <td>283.279</td>\n",
       "      <td>510.271</td>\n",
       "      <td>0.342</td>\n",
       "      <td>0.246</td>\n",
       "      <td>43533.0</td>\n",
       "      <td>35611.0</td>\n",
       "      <td>1.0</td>\n",
       "    </tr>\n",
       "  </tbody>\n",
       "</table>\n",
       "</div>"
      ],
      "text/plain": [
       "                         mean       sd    hdi_5%   hdi_95%  mcse_mean  \\\n",
       "beta0                  -6.609    0.656    -7.658    -5.503      0.005   \n",
       "beta1                   0.261    0.234    -0.117     0.654      0.001   \n",
       "α                       1.000    0.096     0.843     1.159      0.001   \n",
       "impute_censored[0]   1475.726  635.099   882.011  2265.299      2.881   \n",
       "impute_censored[1]   1484.463  639.192   892.043  2261.448      2.810   \n",
       "impute_censored[2]   1629.256  645.326  1031.043  2398.520      2.956   \n",
       "impute_censored[3]   1630.216  647.041  1033.016  2409.227      2.838   \n",
       "impute_censored[4]   1902.019  644.556  1306.005  2680.309      2.985   \n",
       "impute_censored[5]   1935.348  656.242  1335.022  2721.087      2.963   \n",
       "impute_censored[6]   2052.146  651.151  1452.010  2837.503      3.027   \n",
       "impute_censored[7]   2066.770  643.909  1472.015  2861.416      3.130   \n",
       "impute_censored[8]   1144.371  829.969   381.020  2155.169      3.864   \n",
       "impute_censored[9]   1294.927  826.368   529.010  2284.129      4.132   \n",
       "impute_censored[10]  1717.688  827.815   945.010  2719.337      4.112   \n",
       "impute_censored[11]  1951.842  828.344  1180.021  2961.577      3.706   \n",
       "impute_censored[12]  2062.470  860.885  1277.026  3075.704      4.050   \n",
       "impute_censored[13]  2171.657  847.226  1397.006  3184.004      3.836   \n",
       "impute_censored[14]  2290.005  838.325  1512.006  3306.691      3.642   \n",
       "impute_censored[15]  2295.061  842.727  1519.035  3305.438      3.798   \n",
       "median0               519.612   90.235   370.828   658.346      0.475   \n",
       "median1               399.754   70.817   283.279   510.271      0.342   \n",
       "\n",
       "                     mcse_sd  ess_bulk  ess_tail  r_hat  \n",
       "beta0                  0.003   19480.0   25298.0    1.0  \n",
       "beta1                  0.001   36898.0   30235.0    1.0  \n",
       "α                      0.000   19009.0   24796.0    1.0  \n",
       "impute_censored[0]     2.218   34725.0   18448.0    1.0  \n",
       "impute_censored[1]     2.167   36833.0   19391.0    1.0  \n",
       "impute_censored[2]     2.232   33942.0   19618.0    1.0  \n",
       "impute_censored[3]     2.205   36396.0   19188.0    1.0  \n",
       "impute_censored[4]     2.218   32290.0   18608.0    1.0  \n",
       "impute_censored[5]     2.193   32197.0   17857.0    1.0  \n",
       "impute_censored[6]     2.268   33399.0   18709.0    1.0  \n",
       "impute_censored[7]     2.251   26487.0   16168.0    1.0  \n",
       "impute_censored[8]     3.006   28395.0   15674.0    1.0  \n",
       "impute_censored[9]     3.071   25458.0   15248.0    1.0  \n",
       "impute_censored[10]    3.000   24767.0   15907.0    1.0  \n",
       "impute_censored[11]    2.850   35982.0   18984.0    1.0  \n",
       "impute_censored[12]    3.079   30632.0   17070.0    1.0  \n",
       "impute_censored[13]    2.917   32163.0   17639.0    1.0  \n",
       "impute_censored[14]    2.889   35337.0   19057.0    1.0  \n",
       "impute_censored[15]    2.864   33620.0   19920.0    1.0  \n",
       "median0                0.340   36377.0   31332.0    1.0  \n",
       "median1                0.246   43533.0   35611.0    1.0  "
      ]
     },
     "execution_count": 10,
     "metadata": {},
     "output_type": "execute_result"
    }
   ],
   "source": [
    "az.summary(trace, hdi_prob=0.9)"
   ]
  },
  {
   "cell_type": "code",
   "execution_count": null,
   "id": "0eebef46-b8f6-415b-95ab-5cf29e09b3c7",
   "metadata": {},
   "outputs": [],
   "source": []
  }
 ],
 "metadata": {
  "kernelspec": {
   "display_name": "Python 3 (ipykernel)",
   "language": "python",
   "name": "python3"
  },
  "language_info": {
   "codemirror_mode": {
    "name": "ipython",
    "version": 3
   },
   "file_extension": ".py",
   "mimetype": "text/x-python",
   "name": "python",
   "nbconvert_exporter": "python",
   "pygments_lexer": "ipython3",
   "version": "3.9.10"
  }
 },
 "nbformat": 4,
 "nbformat_minor": 5
}
