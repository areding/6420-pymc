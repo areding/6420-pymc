{
 "cells": [
  {
   "cell_type": "code",
   "execution_count": 1,
   "id": "7580191a-1715-4a40-93dc-5535ee041d53",
   "metadata": {},
   "outputs": [],
   "source": [
    "import arviz as az\n",
    "import numpy as np\n",
    "import pymc as pm\n",
    "from pymc.math import exp\n",
    "\n",
    "np.set_printoptions(suppress=True)"
   ]
  },
  {
   "cell_type": "markdown",
   "id": "0eef5567-0a05-4397-b6b7-8a97fb6218e8",
   "metadata": {
    "tags": []
   },
   "source": [
    "# Gastric Cancer Data \n",
    "\n",
    "Adapted from [Codes for Unit 8: gastric.odc](https://www2.isye.gatech.edu/isye6420/supporting.html).\n",
    "\n",
    "Associated lecture video: [Unit 8 Lesson 6](https://www.youtube.com/watch?v=t4pHpZxtC0U&list=PLv0FeK5oXK4l-RdT6DWJj0_upJOG2WKNO&index=87).\n",
    "\n",
    "Data can be found [here](https://raw.githubusercontent.com/areding/6420-pymc/main/data/gastric.txt).\n",
    "\n",
    "Stablein et al. (1981) provide data on 90 patients affected by locally advanced, nonresectable gastric carcinoma. The patients are randomized to two treatments: chemotherapy alone (coded as 0) and chemotherapy plus radiation (coded as 1). Survival time is reported in days. Recorded times are censored if the patient stopped participating in the study before it finished.\n",
    "\n",
    "Stablein, D. M., Carter, W. H., Novak, J. W. (1981). Analysis of survival data with nonproportional hazard functions. Control. Clin. Trials,  2 , 2, 149--159.\n",
    "\n",
    "\n",
    "## Data\n",
    "Columns are, from left to right:\n",
    "- type: Treatment type, chemotherapy (0) or chemotherapy + radiation (1)\n",
    "- censored: If censored, meaning the patient survived the observation period, the time in days appears here rather than in the times column. 0 if not censored.\n",
    "- times: Recorded days without cancer recurrence. NaN if censored.\n",
    "\n",
    "## Censoring\n",
    "The way PyMC censoring works is described in some detail in [this notebook](https://docs.pymc.io/projects/examples/en/latest/generalized_linear_models/GLM-truncated-censored-regression.html#censored-regression-model). This is accomplished in the code [here](https://github.com/aesara-devs/aeppl/blob/751979802f1aef5478fdbf7cc1839df07df60825/aeppl/truncation.py#L79) if you want to take a look. For right-censoring, try this: ```pm.Censored(\"name\", dist, lower=None, upper=censored, observed=y)```. The censored values can be an array of the same shape as the y values. \n",
    "\n",
    "If the y value equals the right-censored value, [```pm.Censored```](https://docs.pymc.io/en/latest/api/distributions/generated/pymc.Censored.html#pymc.Censored) returns the complement to the CDF evaluated at the censored value. If the y value is greater than the censored value, it returns ```-np.inf```. Otherwise, the distribution you passed to the ```dist``` parameter works as normal. What I've been doing is setting the values in the censored array to ```np.inf``` if the corresponding y value is not censored, and equal to the y value if it should be censored.\n",
    "\n",
    "## Model changes\n",
    "I didn't implement S, f, or h from the original model. They should be simple enough, but I really just wanted to get another example of censoring up before HW6 is released. I will add those later.\n",
    "\n",
    "PyMC really did not like the noninformative exponential prior on v (α in this model). To avoid the divide by zero errors, I just kept increasing lambda until the model ran all the way through. This is not ideal, but I haven't had time to look into it further. The results actually came out fairly close to the BUGS results.\n",
    "\n",
    "## Tips\n",
    "If your model is not working, keep making it simpler and simpler until it runs. Then add pieces of it back one at a time until you identify where the problem is."
   ]
  },
  {
   "cell_type": "markdown",
   "id": "8c69a370-e6b5-407d-a7b4-cfd14f65a923",
   "metadata": {},
   "source": [
    "```{note}\n",
    "I haven't been able to get this method working on HW6 Q2. \n",
    "\n",
    "If someone gets it working please let me know!\n",
    "\n",
    "I'm currently working on a different method for the homework question, I hope to get it done in the next couple of days.\n",
    "\n",
    "```"
   ]
  },
  {
   "cell_type": "code",
   "execution_count": 2,
   "id": "3d381b6f-01fc-4884-9cf5-329eb0214eeb",
   "metadata": {},
   "outputs": [
    {
     "data": {
      "text/plain": [
       "(90, 3)"
      ]
     },
     "execution_count": 2,
     "metadata": {},
     "output_type": "execute_result"
    }
   ],
   "source": [
    "data = np.loadtxt(\"./data/gastric.txt\")\n",
    "data.shape"
   ]
  },
  {
   "cell_type": "code",
   "execution_count": 3,
   "id": "d126fe52-c991-49cf-8814-c2126bb457a6",
   "metadata": {},
   "outputs": [],
   "source": [
    "x = data[:, 0].copy()\n",
    "censored = data[:, 1].copy()\n",
    "y = data[:, 2].copy()\n",
    "# for pymc, right-censored values must be greater than or equal to than the \"upper\" value\n",
    "y[np.isnan(y)] = censored[np.isnan(y)]\n",
    "censored[censored == 0] = np.inf"
   ]
  },
  {
   "cell_type": "code",
   "execution_count": 4,
   "id": "928aa3c4-d64a-4a2c-88b3-72e7a902773d",
   "metadata": {},
   "outputs": [
    {
     "data": {
      "text/plain": [
       "array([  17.,   42.,   44.,   48.,   60.,   72.,   74.,   95.,  103.,\n",
       "        108.,  122.,  144.,  167.,  170.,  183.,  185.,  193.,  195.,\n",
       "        197.,  208.,  234.,  235.,  254.,  307.,  315.,  401.,  445.,\n",
       "        464.,  484.,  528.,  542.,  567.,  577.,  580.,  795.,  855.,\n",
       "        882.,  892., 1031., 1033., 1306., 1335., 1366., 1452., 1472.,\n",
       "          1.,   63.,  105.,  129.,  182.,  216.,  250.,  262.,  301.,\n",
       "        301.,  342.,  354.,  356.,  358.,  380.,  381.,  383.,  383.,\n",
       "        388.,  394.,  408.,  460.,  489.,  499.,  524.,  529.,  535.,\n",
       "        562.,  675.,  676.,  748.,  748.,  778.,  786.,  797.,  945.,\n",
       "        955.,  968., 1180., 1245., 1271., 1277., 1397., 1512., 1519.])"
      ]
     },
     "execution_count": 4,
     "metadata": {},
     "output_type": "execute_result"
    }
   ],
   "source": [
    "y"
   ]
  },
  {
   "cell_type": "code",
   "execution_count": 5,
   "id": "76e56a7d-e3db-49bb-b358-ef52ce8318f2",
   "metadata": {},
   "outputs": [
    {
     "data": {
      "text/plain": [
       "array([  inf,   inf,   inf,   inf,   inf,   inf,   inf,   inf,   inf,\n",
       "         inf,   inf,   inf,   inf,   inf,   inf,   inf,   inf,   inf,\n",
       "         inf,   inf,   inf,   inf,   inf,   inf,   inf,   inf,   inf,\n",
       "         inf,   inf,   inf,   inf,   inf,   inf,   inf,   inf,   inf,\n",
       "        882.,  892., 1031., 1033., 1306., 1335.,   inf, 1452., 1472.,\n",
       "         inf,   inf,   inf,   inf,   inf,   inf,   inf,   inf,   inf,\n",
       "         inf,   inf,   inf,   inf,   inf,   inf,  381.,   inf,   inf,\n",
       "         inf,   inf,   inf,   inf,   inf,   inf,   inf,  529.,   inf,\n",
       "         inf,   inf,   inf,   inf,   inf,   inf,   inf,   inf,  945.,\n",
       "         inf,   inf, 1180.,   inf,   inf, 1277., 1397., 1512., 1519.])"
      ]
     },
     "execution_count": 5,
     "metadata": {},
     "output_type": "execute_result"
    }
   ],
   "source": [
    "censored"
   ]
  },
  {
   "cell_type": "markdown",
   "id": "7b3f9c76-d3e0-42e7-91c1-96bd78b376ab",
   "metadata": {},
   "source": [
    "```{warning}\n",
    "PyMC and BUGS do not specify the Weibull distribution in the same way!\n",
    "\n",
    "α = v\n",
    "β = λ ** (-1 / α)\n",
    "\n",
    "```"
   ]
  },
  {
   "cell_type": "code",
   "execution_count": 6,
   "id": "4cdb986d-03ff-49d7-bd9f-548dbb2c653a",
   "metadata": {
    "tags": [
     "hide_output"
    ]
   },
   "outputs": [
    {
     "name": "stderr",
     "output_type": "stream",
     "text": [
      "Multiprocess sampling (4 chains in 4 jobs)\n",
      "NUTS: [beta0, beta1, α]\n"
     ]
    },
    {
     "data": {
      "text/html": [
       "\n",
       "<style>\n",
       "    /* Turns off some styling */\n",
       "    progress {\n",
       "        /* gets rid of default border in Firefox and Opera. */\n",
       "        border: none;\n",
       "        /* Needs to be in here for Safari polyfill so background images work as expected. */\n",
       "        background-size: auto;\n",
       "    }\n",
       "    .progress-bar-interrupted, .progress-bar-interrupted::-webkit-progress-bar {\n",
       "        background: #F44336;\n",
       "    }\n",
       "</style>\n"
      ],
      "text/plain": [
       "<IPython.core.display.HTML object>"
      ]
     },
     "metadata": {},
     "output_type": "display_data"
    },
    {
     "data": {
      "text/html": [
       "\n",
       "    <div>\n",
       "      <progress value='48000' class='' max='48000' style='width:300px; height:20px; vertical-align: middle;'></progress>\n",
       "      100.00% [48000/48000 00:17<00:00 Sampling 4 chains, 0 divergences]\n",
       "    </div>\n",
       "    "
      ],
      "text/plain": [
       "<IPython.core.display.HTML object>"
      ]
     },
     "metadata": {},
     "output_type": "display_data"
    },
    {
     "name": "stderr",
     "output_type": "stream",
     "text": [
      "/Users/aaron/mambaforge/envs/pymc-dev-py39/lib/python3.9/site-packages/scipy/stats/_continuous_distns.py:624: RuntimeWarning: overflow encountered in _beta_ppf\n",
      "  return _boost._beta_ppf(q, a, b)\n",
      "/Users/aaron/mambaforge/envs/pymc-dev-py39/lib/python3.9/site-packages/scipy/stats/_continuous_distns.py:624: RuntimeWarning: overflow encountered in _beta_ppf\n",
      "  return _boost._beta_ppf(q, a, b)\n",
      "/Users/aaron/mambaforge/envs/pymc-dev-py39/lib/python3.9/site-packages/scipy/stats/_continuous_distns.py:624: RuntimeWarning: overflow encountered in _beta_ppf\n",
      "  return _boost._beta_ppf(q, a, b)\n",
      "/Users/aaron/mambaforge/envs/pymc-dev-py39/lib/python3.9/site-packages/scipy/stats/_continuous_distns.py:624: RuntimeWarning: overflow encountered in _beta_ppf\n",
      "  return _boost._beta_ppf(q, a, b)\n",
      "Sampling 4 chains for 2_000 tune and 10_000 draw iterations (8_000 + 40_000 draws total) took 27 seconds.\n"
     ]
    }
   ],
   "source": [
    "with pm.Model() as m:\n",
    "    beta0 = pm.Normal(\"beta0\", 0, tau=0.0001)\n",
    "    beta1 = pm.Normal(\"beta1\", 0, tau=0.0001)\n",
    "    α = pm.Exponential(\"α\", 3)\n",
    "\n",
    "    λ = exp(beta0 + beta1 * x)\n",
    "    β = λ ** (-1 / α)\n",
    "\n",
    "    obs_latent = pm.Weibull.dist(alpha=α, beta=β)\n",
    "    likelihood = pm.Censored(\n",
    "        \"likelihood\",\n",
    "        obs_latent,\n",
    "        lower=None,\n",
    "        upper=censored,\n",
    "        observed=y,\n",
    "    )\n",
    "\n",
    "    median0 = pm.Deterministic(\"median0\", (np.log(2) * exp(-beta0)) ** (1 / α))\n",
    "    median1 = pm.Deterministic(\"median1\", (np.log(2) * exp(-beta0 - beta1)) ** (1 / α))\n",
    "\n",
    "    trace = pm.sample(\n",
    "        10000, tune=2000, cores=4, init=\"auto\", step=[pm.NUTS(target_accept=0.9)]\n",
    "    )"
   ]
  },
  {
   "cell_type": "code",
   "execution_count": 7,
   "id": "ec53f408-cfc7-4f85-b934-f77fc737fb01",
   "metadata": {},
   "outputs": [
    {
     "data": {
      "text/html": [
       "<div>\n",
       "<style scoped>\n",
       "    .dataframe tbody tr th:only-of-type {\n",
       "        vertical-align: middle;\n",
       "    }\n",
       "\n",
       "    .dataframe tbody tr th {\n",
       "        vertical-align: top;\n",
       "    }\n",
       "\n",
       "    .dataframe thead th {\n",
       "        text-align: right;\n",
       "    }\n",
       "</style>\n",
       "<table border=\"1\" class=\"dataframe\">\n",
       "  <thead>\n",
       "    <tr style=\"text-align: right;\">\n",
       "      <th></th>\n",
       "      <th>mean</th>\n",
       "      <th>sd</th>\n",
       "      <th>hdi_5%</th>\n",
       "      <th>hdi_95%</th>\n",
       "      <th>mcse_mean</th>\n",
       "      <th>mcse_sd</th>\n",
       "      <th>ess_bulk</th>\n",
       "      <th>ess_tail</th>\n",
       "      <th>r_hat</th>\n",
       "    </tr>\n",
       "  </thead>\n",
       "  <tbody>\n",
       "    <tr>\n",
       "      <th>beta0</th>\n",
       "      <td>-6.629</td>\n",
       "      <td>0.668</td>\n",
       "      <td>-7.688</td>\n",
       "      <td>-5.499</td>\n",
       "      <td>0.006</td>\n",
       "      <td>0.004</td>\n",
       "      <td>12248.0</td>\n",
       "      <td>13567.0</td>\n",
       "      <td>1.0</td>\n",
       "    </tr>\n",
       "    <tr>\n",
       "      <th>beta1</th>\n",
       "      <td>0.263</td>\n",
       "      <td>0.234</td>\n",
       "      <td>-0.118</td>\n",
       "      <td>0.652</td>\n",
       "      <td>0.002</td>\n",
       "      <td>0.001</td>\n",
       "      <td>17278.0</td>\n",
       "      <td>16915.0</td>\n",
       "      <td>1.0</td>\n",
       "    </tr>\n",
       "    <tr>\n",
       "      <th>α</th>\n",
       "      <td>1.003</td>\n",
       "      <td>0.098</td>\n",
       "      <td>0.843</td>\n",
       "      <td>1.163</td>\n",
       "      <td>0.001</td>\n",
       "      <td>0.001</td>\n",
       "      <td>12434.0</td>\n",
       "      <td>13362.0</td>\n",
       "      <td>1.0</td>\n",
       "    </tr>\n",
       "    <tr>\n",
       "      <th>median0</th>\n",
       "      <td>520.721</td>\n",
       "      <td>90.100</td>\n",
       "      <td>374.131</td>\n",
       "      <td>662.282</td>\n",
       "      <td>0.622</td>\n",
       "      <td>0.440</td>\n",
       "      <td>20964.0</td>\n",
       "      <td>24066.0</td>\n",
       "      <td>1.0</td>\n",
       "    </tr>\n",
       "    <tr>\n",
       "      <th>median1</th>\n",
       "      <td>400.311</td>\n",
       "      <td>70.611</td>\n",
       "      <td>285.317</td>\n",
       "      <td>512.527</td>\n",
       "      <td>0.465</td>\n",
       "      <td>0.330</td>\n",
       "      <td>23123.0</td>\n",
       "      <td>25433.0</td>\n",
       "      <td>1.0</td>\n",
       "    </tr>\n",
       "  </tbody>\n",
       "</table>\n",
       "</div>"
      ],
      "text/plain": [
       "            mean      sd   hdi_5%  hdi_95%  mcse_mean  mcse_sd  ess_bulk  \\\n",
       "beta0     -6.629   0.668   -7.688   -5.499      0.006    0.004   12248.0   \n",
       "beta1      0.263   0.234   -0.118    0.652      0.002    0.001   17278.0   \n",
       "α          1.003   0.098    0.843    1.163      0.001    0.001   12434.0   \n",
       "median0  520.721  90.100  374.131  662.282      0.622    0.440   20964.0   \n",
       "median1  400.311  70.611  285.317  512.527      0.465    0.330   23123.0   \n",
       "\n",
       "         ess_tail  r_hat  \n",
       "beta0     13567.0    1.0  \n",
       "beta1     16915.0    1.0  \n",
       "α         13362.0    1.0  \n",
       "median0   24066.0    1.0  \n",
       "median1   25433.0    1.0  "
      ]
     },
     "execution_count": 7,
     "metadata": {},
     "output_type": "execute_result"
    }
   ],
   "source": [
    "az.summary(trace, hdi_prob=0.9)"
   ]
  },
  {
   "cell_type": "code",
   "execution_count": null,
   "id": "807e8d48-0aec-46f8-82c9-98d848468e48",
   "metadata": {},
   "outputs": [],
   "source": []
  }
 ],
 "metadata": {
  "kernelspec": {
   "display_name": "Python 3 (ipykernel)",
   "language": "python",
   "name": "python3"
  },
  "language_info": {
   "codemirror_mode": {
    "name": "ipython",
    "version": 3
   },
   "file_extension": ".py",
   "mimetype": "text/x-python",
   "name": "python",
   "nbconvert_exporter": "python",
   "pygments_lexer": "ipython3",
   "version": "3.9.10"
  }
 },
 "nbformat": 4,
 "nbformat_minor": 5
}
