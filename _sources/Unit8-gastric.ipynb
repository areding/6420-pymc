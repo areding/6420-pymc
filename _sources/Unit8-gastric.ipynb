{
 "cells": [
  {
   "cell_type": "code",
   "execution_count": 180,
   "id": "7580191a-1715-4a40-93dc-5535ee041d53",
   "metadata": {},
   "outputs": [],
   "source": [
    "import arviz as az\n",
    "import matplotlib.pyplot as plt\n",
    "import numpy as np\n",
    "import pandas as pd\n",
    "import pymc as pm\n",
    "from pymc.math import exp"
   ]
  },
  {
   "cell_type": "markdown",
   "id": "0eef5567-0a05-4397-b6b7-8a97fb6218e8",
   "metadata": {},
   "source": [
    "# Gastric Cancer Data \n",
    "\n",
    "Adapted from [Codes for Unit 8: gastric.odc](https://www2.isye.gatech.edu/isye6420/supporting.html).\n",
    "\n",
    "Associated lecture video: [Unit 8 Lesson 6](https://www.youtube.com/watch?v=t4pHpZxtC0U&list=PLv0FeK5oXK4l-RdT6DWJj0_upJOG2WKNO&index=87).\n",
    "\n",
    "Data can be found [here](https://raw.githubusercontent.com/areding/6420-pymc/main/data/gastric.csv).\n",
    "\n",
    "Stablein et al. (1981) provide data on 90 patients affected by locally advanced, nonresectable gastric carcinoma. The patients are randomized to two treatments:\n",
    "chemotherapy alone (coded as 0) and chemotherapy plus radiation (coded as 1).\n",
    "Survival time is reported in days, with censoring indicator (1 = censored, 0 = observed).\n",
    "\n",
    "Stablein, D. M., Carter, W. H., Novak, J. W. (1981). Analysis of survival data with nonproportional hazard functions. Control. Clin. Trials,  2 , 2, 149--159. "
   ]
  },
  {
   "cell_type": "code",
   "execution_count": 14,
   "id": "ce262a3f-0f97-40b5-bc04-7c0b98d63e8c",
   "metadata": {},
   "outputs": [],
   "source": [
    "data = pd.read_csv(\"./data/gastric.csv\")"
   ]
  },
  {
   "cell_type": "code",
   "execution_count": 15,
   "id": "a4347f57-2a6b-4273-b88d-3c4f5c508837",
   "metadata": {},
   "outputs": [
    {
     "data": {
      "text/html": [
       "<div>\n",
       "<style scoped>\n",
       "    .dataframe tbody tr th:only-of-type {\n",
       "        vertical-align: middle;\n",
       "    }\n",
       "\n",
       "    .dataframe tbody tr th {\n",
       "        vertical-align: top;\n",
       "    }\n",
       "\n",
       "    .dataframe thead th {\n",
       "        text-align: right;\n",
       "    }\n",
       "</style>\n",
       "<table border=\"1\" class=\"dataframe\">\n",
       "  <thead>\n",
       "    <tr style=\"text-align: right;\">\n",
       "      <th></th>\n",
       "      <th>type</th>\n",
       "      <th>censor</th>\n",
       "      <th>times</th>\n",
       "    </tr>\n",
       "  </thead>\n",
       "  <tbody>\n",
       "    <tr>\n",
       "      <th>0</th>\n",
       "      <td>1</td>\n",
       "      <td>0</td>\n",
       "      <td>17.0</td>\n",
       "    </tr>\n",
       "    <tr>\n",
       "      <th>1</th>\n",
       "      <td>1</td>\n",
       "      <td>0</td>\n",
       "      <td>42.0</td>\n",
       "    </tr>\n",
       "    <tr>\n",
       "      <th>2</th>\n",
       "      <td>1</td>\n",
       "      <td>0</td>\n",
       "      <td>44.0</td>\n",
       "    </tr>\n",
       "    <tr>\n",
       "      <th>3</th>\n",
       "      <td>1</td>\n",
       "      <td>0</td>\n",
       "      <td>48.0</td>\n",
       "    </tr>\n",
       "    <tr>\n",
       "      <th>4</th>\n",
       "      <td>1</td>\n",
       "      <td>0</td>\n",
       "      <td>60.0</td>\n",
       "    </tr>\n",
       "    <tr>\n",
       "      <th>...</th>\n",
       "      <td>...</td>\n",
       "      <td>...</td>\n",
       "      <td>...</td>\n",
       "    </tr>\n",
       "    <tr>\n",
       "      <th>85</th>\n",
       "      <td>0</td>\n",
       "      <td>0</td>\n",
       "      <td>1271.0</td>\n",
       "    </tr>\n",
       "    <tr>\n",
       "      <th>86</th>\n",
       "      <td>0</td>\n",
       "      <td>1277</td>\n",
       "      <td>NaN</td>\n",
       "    </tr>\n",
       "    <tr>\n",
       "      <th>87</th>\n",
       "      <td>0</td>\n",
       "      <td>1397</td>\n",
       "      <td>NaN</td>\n",
       "    </tr>\n",
       "    <tr>\n",
       "      <th>88</th>\n",
       "      <td>0</td>\n",
       "      <td>1512</td>\n",
       "      <td>NaN</td>\n",
       "    </tr>\n",
       "    <tr>\n",
       "      <th>89</th>\n",
       "      <td>0</td>\n",
       "      <td>1519</td>\n",
       "      <td>NaN</td>\n",
       "    </tr>\n",
       "  </tbody>\n",
       "</table>\n",
       "<p>90 rows × 3 columns</p>\n",
       "</div>"
      ],
      "text/plain": [
       "    type  censor   times\n",
       "0      1       0    17.0\n",
       "1      1       0    42.0\n",
       "2      1       0    44.0\n",
       "3      1       0    48.0\n",
       "4      1       0    60.0\n",
       "..   ...     ...     ...\n",
       "85     0       0  1271.0\n",
       "86     0    1277     NaN\n",
       "87     0    1397     NaN\n",
       "88     0    1512     NaN\n",
       "89     0    1519     NaN\n",
       "\n",
       "[90 rows x 3 columns]"
      ]
     },
     "execution_count": 15,
     "metadata": {},
     "output_type": "execute_result"
    }
   ],
   "source": [
    "data"
   ]
  },
  {
   "cell_type": "code",
   "execution_count": 25,
   "id": "d126fe52-c991-49cf-8814-c2126bb457a6",
   "metadata": {},
   "outputs": [],
   "source": [
    "x = data[\"type\"].to_numpy(copy=True)\n",
    "censored = data[\"censor\"].to_numpy(copy=True)\n",
    "y = data[\"times\"].to_numpy(copy=True)\n",
    "y[np.isnan(y)] = censored[np.isnan(y)]"
   ]
  },
  {
   "cell_type": "code",
   "execution_count": 248,
   "id": "928aa3c4-d64a-4a2c-88b3-72e7a902773d",
   "metadata": {},
   "outputs": [
    {
     "data": {
      "text/plain": [
       "array([1, 1, 1, 1, 1, 1, 1, 1, 1, 1, 1, 1, 1, 1, 1, 1, 1, 1, 1, 1, 1, 1,\n",
       "       1, 1, 1, 1, 1, 1, 1, 1, 1, 1, 1, 1, 1, 1, 1, 1, 1, 1, 1, 1, 1, 1,\n",
       "       1, 0, 0, 0, 0, 0, 0, 0, 0, 0, 0, 0, 0, 0, 0, 0, 0, 0, 0, 0, 0, 0,\n",
       "       0, 0, 0, 0, 0, 0, 0, 0, 0, 0, 0, 0, 0, 0, 0, 0, 0, 0, 0, 0, 0, 0,\n",
       "       0, 0])"
      ]
     },
     "execution_count": 248,
     "metadata": {},
     "output_type": "execute_result"
    }
   ],
   "source": [
    "x"
   ]
  },
  {
   "cell_type": "code",
   "execution_count": 29,
   "id": "eed273a4-7e86-4543-8121-7b1e44a5acc0",
   "metadata": {},
   "outputs": [],
   "source": [
    "censored[censored == 0] = y[censored == 0] + 1"
   ]
  },
  {
   "cell_type": "code",
   "execution_count": 30,
   "id": "963c4c17-621b-4731-8785-75414b60019c",
   "metadata": {},
   "outputs": [
    {
     "data": {
      "text/plain": [
       "array([  18,   43,   45,   49,   61,   73,   75,   96,  104,  109,  123,\n",
       "        145,  168,  171,  184,  186,  194,  196,  198,  209,  235,  236,\n",
       "        255,  308,  316,  402,  446,  465,  485,  529,  543,  568,  578,\n",
       "        581,  796,  856,  882,  892, 1031, 1033, 1306, 1335, 1367, 1452,\n",
       "       1472,    2,   64,  106,  130,  183,  217,  251,  263,  302,  302,\n",
       "        343,  355,  357,  359,  381,  381,  384,  384,  389,  395,  409,\n",
       "        461,  490,  500,  525,  529,  536,  563,  676,  677,  749,  749,\n",
       "        779,  787,  798,  945,  956,  969, 1180, 1246, 1272, 1277, 1397,\n",
       "       1512, 1519])"
      ]
     },
     "execution_count": 30,
     "metadata": {},
     "output_type": "execute_result"
    }
   ],
   "source": [
    "censored"
   ]
  },
  {
   "cell_type": "code",
   "execution_count": 281,
   "id": "0d26545a-a67d-4ac3-bad2-48de32e2cbd8",
   "metadata": {},
   "outputs": [
    {
     "data": {
      "text/plain": [
       "array([  17,   42,   44,   48,   60,   72,   74,   95,  103,  108,  122,\n",
       "        144,  167,  170,  183,  185,  193,  195,  197,  208,  234,  235,\n",
       "        254,  307,  315,  401,  445,  464,  484,  528,  542,  567,  577,\n",
       "        580,  795,  855,  882,  892, 1031, 1033, 1306, 1335, 1366, 1452,\n",
       "       1472,    1,   63,  105,  129,  182,  216,  250,  262,  301,  301,\n",
       "        342,  354,  356,  358,  380,  381,  383,  383,  388,  394,  408,\n",
       "        460,  489,  499,  524,  529,  535,  562,  675,  676,  748,  748,\n",
       "        778,  786,  797,  945,  955,  968, 1180, 1245, 1271, 1277, 1397,\n",
       "       1512, 1519])"
      ]
     },
     "execution_count": 281,
     "metadata": {},
     "output_type": "execute_result"
    }
   ],
   "source": [
    "y.astype(int)"
   ]
  },
  {
   "cell_type": "code",
   "execution_count": 255,
   "id": "3ec1c75f-8f6c-42e5-b0bf-de666d314ea7",
   "metadata": {},
   "outputs": [
    {
     "data": {
      "text/plain": [
       "0.9998500112494375"
      ]
     },
     "execution_count": 255,
     "metadata": {},
     "output_type": "execute_result"
    }
   ],
   "source": [
    "np.exp(1.5)**(-1/100)"
   ]
  },
  {
   "cell_type": "markdown",
   "id": "7b3f9c76-d3e0-42e7-91c1-96bd78b376ab",
   "metadata": {},
   "source": [
    "```{warning}\n",
    "PyMC and BUGS do not specify the Weibull distribution in the same way!\n",
    "```"
   ]
  },
  {
   "cell_type": "code",
   "execution_count": 279,
   "id": "4cdb986d-03ff-49d7-bd9f-548dbb2c653a",
   "metadata": {},
   "outputs": [
    {
     "ename": "SamplingError",
     "evalue": "Initial evaluation of model at starting point failed!\nStarting values:\n{'beta0': array(0.), 'beta1': array(0.), 'α_log__': array(4.60517019)}\n\nInitial evaluation results:\n{'beta0': -3.22, 'beta1': -3.22, 'α': -1.0, 'test': -inf}",
     "output_type": "error",
     "traceback": [
      "\u001b[0;31m---------------------------------------------------------------------------\u001b[0m",
      "\u001b[0;31mSamplingError\u001b[0m                             Traceback (most recent call last)",
      "Input \u001b[0;32mIn [279]\u001b[0m, in \u001b[0;36m<cell line: 1>\u001b[0;34m()\u001b[0m\n\u001b[1;32m     12\u001b[0m     obs_latent \u001b[38;5;241m=\u001b[39m pm\u001b[38;5;241m.\u001b[39mWeibull(\u001b[38;5;124m\"\u001b[39m\u001b[38;5;124mtest\u001b[39m\u001b[38;5;124m\"\u001b[39m, alpha\u001b[38;5;241m=\u001b[39mα, beta\u001b[38;5;241m=\u001b[39mβ, observed\u001b[38;5;241m=\u001b[39my_data)\n\u001b[1;32m     13\u001b[0m     \u001b[38;5;66;03m# likelihood = pm.Censored(\u001b[39;00m\n\u001b[1;32m     14\u001b[0m     \u001b[38;5;66;03m#    \"likelihood\", obs_latent, lower=0, upper=censored, observed=y, shape=len(y)\u001b[39;00m\n\u001b[1;32m     15\u001b[0m     \u001b[38;5;66;03m# )\u001b[39;00m\n\u001b[0;32m---> 17\u001b[0m     trace \u001b[38;5;241m=\u001b[39m \u001b[43mpm\u001b[49m\u001b[38;5;241;43m.\u001b[39;49m\u001b[43msample\u001b[49m\u001b[43m(\u001b[49m\u001b[38;5;241;43m1000\u001b[39;49m\u001b[43m,\u001b[49m\u001b[43m \u001b[49m\u001b[43minit\u001b[49m\u001b[38;5;241;43m=\u001b[39;49m\u001b[38;5;124;43m\"\u001b[39;49m\u001b[38;5;124;43mauto\u001b[39;49m\u001b[38;5;124;43m\"\u001b[39;49m\u001b[43m)\u001b[49m\n\u001b[1;32m     19\u001b[0m az\u001b[38;5;241m.\u001b[39msummary(trace, hdi_prob\u001b[38;5;241m=\u001b[39m\u001b[38;5;241m0.9\u001b[39m)\n",
      "File \u001b[0;32m~/mambaforge/envs/pymc-dev-py39/lib/python3.9/site-packages/pymc/sampling.py:487\u001b[0m, in \u001b[0;36msample\u001b[0;34m(draws, step, init, n_init, initvals, trace, chain_idx, chains, cores, tune, progressbar, model, random_seed, discard_tuned_samples, compute_convergence_checks, callback, jitter_max_retries, return_inferencedata, idata_kwargs, mp_ctx, **kwargs)\u001b[0m\n\u001b[1;32m    485\u001b[0m \u001b[38;5;66;03m# One final check that shapes and logps at the starting points are okay.\u001b[39;00m\n\u001b[1;32m    486\u001b[0m \u001b[38;5;28;01mfor\u001b[39;00m ip \u001b[38;5;129;01min\u001b[39;00m initial_points:\n\u001b[0;32m--> 487\u001b[0m     \u001b[43mmodel\u001b[49m\u001b[38;5;241;43m.\u001b[39;49m\u001b[43mcheck_start_vals\u001b[49m\u001b[43m(\u001b[49m\u001b[43mip\u001b[49m\u001b[43m)\u001b[49m\n\u001b[1;32m    488\u001b[0m     _check_start_shape(model, ip)\n\u001b[1;32m    490\u001b[0m sample_args \u001b[38;5;241m=\u001b[39m {\n\u001b[1;32m    491\u001b[0m     \u001b[38;5;124m\"\u001b[39m\u001b[38;5;124mdraws\u001b[39m\u001b[38;5;124m\"\u001b[39m: draws,\n\u001b[1;32m    492\u001b[0m     \u001b[38;5;124m\"\u001b[39m\u001b[38;5;124mstep\u001b[39m\u001b[38;5;124m\"\u001b[39m: step,\n\u001b[0;32m   (...)\u001b[0m\n\u001b[1;32m    503\u001b[0m     \u001b[38;5;124m\"\u001b[39m\u001b[38;5;124mdiscard_tuned_samples\u001b[39m\u001b[38;5;124m\"\u001b[39m: discard_tuned_samples,\n\u001b[1;32m    504\u001b[0m }\n",
      "File \u001b[0;32m~/mambaforge/envs/pymc-dev-py39/lib/python3.9/site-packages/pymc/model.py:1683\u001b[0m, in \u001b[0;36mModel.check_start_vals\u001b[0;34m(self, start)\u001b[0m\n\u001b[1;32m   1680\u001b[0m initial_eval \u001b[38;5;241m=\u001b[39m \u001b[38;5;28mself\u001b[39m\u001b[38;5;241m.\u001b[39mpoint_logps(point\u001b[38;5;241m=\u001b[39melem)\n\u001b[1;32m   1682\u001b[0m \u001b[38;5;28;01mif\u001b[39;00m \u001b[38;5;129;01mnot\u001b[39;00m \u001b[38;5;28mall\u001b[39m(np\u001b[38;5;241m.\u001b[39misfinite(v) \u001b[38;5;28;01mfor\u001b[39;00m v \u001b[38;5;129;01min\u001b[39;00m initial_eval\u001b[38;5;241m.\u001b[39mvalues()):\n\u001b[0;32m-> 1683\u001b[0m     \u001b[38;5;28;01mraise\u001b[39;00m SamplingError(\n\u001b[1;32m   1684\u001b[0m         \u001b[38;5;124m\"\u001b[39m\u001b[38;5;124mInitial evaluation of model at starting point failed!\u001b[39m\u001b[38;5;130;01m\\n\u001b[39;00m\u001b[38;5;124m\"\u001b[39m\n\u001b[1;32m   1685\u001b[0m         \u001b[38;5;124mf\u001b[39m\u001b[38;5;124m\"\u001b[39m\u001b[38;5;124mStarting values:\u001b[39m\u001b[38;5;130;01m\\n\u001b[39;00m\u001b[38;5;132;01m{\u001b[39;00melem\u001b[38;5;132;01m}\u001b[39;00m\u001b[38;5;130;01m\\n\u001b[39;00m\u001b[38;5;130;01m\\n\u001b[39;00m\u001b[38;5;124m\"\u001b[39m\n\u001b[1;32m   1686\u001b[0m         \u001b[38;5;124mf\u001b[39m\u001b[38;5;124m\"\u001b[39m\u001b[38;5;124mInitial evaluation results:\u001b[39m\u001b[38;5;130;01m\\n\u001b[39;00m\u001b[38;5;132;01m{\u001b[39;00minitial_eval\u001b[38;5;132;01m}\u001b[39;00m\u001b[38;5;124m\"\u001b[39m\n\u001b[1;32m   1687\u001b[0m     )\n",
      "\u001b[0;31mSamplingError\u001b[0m: Initial evaluation of model at starting point failed!\nStarting values:\n{'beta0': array(0.), 'beta1': array(0.), 'α_log__': array(4.60517019)}\n\nInitial evaluation results:\n{'beta0': -3.22, 'beta1': -3.22, 'α': -1.0, 'test': -inf}"
     ]
    }
   ],
   "source": [
    "with pm.Model() as m:\n",
    "    x_data = pm.Data(\"x_data\", x, mutable=True)\n",
    "    y_data = pm.Data(\"y_data\", y, mutable=False)\n",
    "    \n",
    "    beta0 = pm.Normal(\"beta0\", 0, sigma=10)\n",
    "    beta1 = pm.Normal(\"beta1\", 0, sigma=10)\n",
    "    α = pm.Exponential(\"α\", 0.01)\n",
    "\n",
    "    λ = exp(beta0 + beta1 * x_data)\n",
    "    β = λ ** (-1 / α)\n",
    "\n",
    "    obs_latent = pm.Weibull(\"test\", alpha=α, beta=β, observed=y_data)\n",
    "    # likelihood = pm.Censored(\n",
    "    #    \"likelihood\", obs_latent, lower=0, upper=censored, observed=y, shape=len(y)\n",
    "    # )\n",
    "\n",
    "    trace = pm.sample(1000, init=\"auto\")\n",
    "\n",
    "az.summary(trace, hdi_prob=0.9)"
   ]
  },
  {
   "cell_type": "code",
   "execution_count": null,
   "id": "37171245-1afd-47fc-b583-c0e59c4a1d55",
   "metadata": {},
   "outputs": [],
   "source": []
  },
  {
   "cell_type": "code",
   "execution_count": 245,
   "id": "d4b9f694-3f10-422d-8aed-5d4cae2c55e4",
   "metadata": {},
   "outputs": [
    {
     "data": {
      "application/vnd.jupyter.widget-view+json": {
       "model_id": "afb5a14c98c0473898c74dc7732254dc",
       "version_major": 2,
       "version_minor": 0
      },
      "text/plain": [
       "  0%|          | 0/500 [00:00<?, ?it/s]"
      ]
     },
     "metadata": {},
     "output_type": "display_data"
    }
   ],
   "source": [
    "from tqdm.auto import tqdm\n",
    "\n",
    "values = []\n",
    "for _ in tqdm(range(500)):\n",
    "    beta0 = pm.draw(pm.Normal.dist(0, sigma=10))\n",
    "    beta1 = pm.draw(pm.Normal.dist(0, sigma=10))\n",
    "    v = pm.draw(pm.Exponential.dist(0.01))\n",
    "    x0 = np.random.choice(x)\n",
    "    λ = np.exp(beta0 + beta1 * x0)\n",
    "\n",
    "    likelihood = pm.draw(pm.Weibull.dist(v, λ ** -(1 / v)))\n",
    "    values.append(\n",
    "        (\n",
    "            round(float(beta0), 2),\n",
    "            round(float(beta1), 2),\n",
    "            round(float(v), 2),\n",
    "            round(x0, 2),\n",
    "            round(λ, 2),\n",
    "            round(float(likelihood), 10),\n",
    "        )\n",
    "    )\n",
    "\n",
    "vals = pd.DataFrame(values, columns=(\"beta0\", \"beta1\", \"v\", \"x0\", \"λ\", \"likelihood\"))"
   ]
  },
  {
   "cell_type": "code",
   "execution_count": 246,
   "id": "f33fed7c-48fd-4afb-b3b4-ec01a2d6494e",
   "metadata": {},
   "outputs": [
    {
     "data": {
      "text/html": [
       "<div>\n",
       "<style scoped>\n",
       "    .dataframe tbody tr th:only-of-type {\n",
       "        vertical-align: middle;\n",
       "    }\n",
       "\n",
       "    .dataframe tbody tr th {\n",
       "        vertical-align: top;\n",
       "    }\n",
       "\n",
       "    .dataframe thead th {\n",
       "        text-align: right;\n",
       "    }\n",
       "</style>\n",
       "<table border=\"1\" class=\"dataframe\">\n",
       "  <thead>\n",
       "    <tr style=\"text-align: right;\">\n",
       "      <th></th>\n",
       "      <th>beta0</th>\n",
       "      <th>beta1</th>\n",
       "      <th>v</th>\n",
       "      <th>x0</th>\n",
       "      <th>λ</th>\n",
       "      <th>likelihood</th>\n",
       "    </tr>\n",
       "  </thead>\n",
       "  <tbody>\n",
       "    <tr>\n",
       "      <th>count</th>\n",
       "      <td>500.000000</td>\n",
       "      <td>500.000000</td>\n",
       "      <td>500.000000</td>\n",
       "      <td>500.000000</td>\n",
       "      <td>5.000000e+02</td>\n",
       "      <td>5.000000e+02</td>\n",
       "    </tr>\n",
       "    <tr>\n",
       "      <th>mean</th>\n",
       "      <td>0.571260</td>\n",
       "      <td>-0.679380</td>\n",
       "      <td>107.754060</td>\n",
       "      <td>0.478000</td>\n",
       "      <td>1.030877e+16</td>\n",
       "      <td>1.170143e+04</td>\n",
       "    </tr>\n",
       "    <tr>\n",
       "      <th>std</th>\n",
       "      <td>9.873538</td>\n",
       "      <td>9.955019</td>\n",
       "      <td>102.741596</td>\n",
       "      <td>0.500016</td>\n",
       "      <td>2.033595e+17</td>\n",
       "      <td>2.616261e+05</td>\n",
       "    </tr>\n",
       "    <tr>\n",
       "      <th>min</th>\n",
       "      <td>-26.910000</td>\n",
       "      <td>-26.730000</td>\n",
       "      <td>0.340000</td>\n",
       "      <td>0.000000</td>\n",
       "      <td>0.000000e+00</td>\n",
       "      <td>0.000000e+00</td>\n",
       "    </tr>\n",
       "    <tr>\n",
       "      <th>25%</th>\n",
       "      <td>-6.532500</td>\n",
       "      <td>-7.567500</td>\n",
       "      <td>30.792500</td>\n",
       "      <td>0.000000</td>\n",
       "      <td>0.000000e+00</td>\n",
       "      <td>8.893228e-01</td>\n",
       "    </tr>\n",
       "    <tr>\n",
       "      <th>50%</th>\n",
       "      <td>0.895000</td>\n",
       "      <td>-0.765000</td>\n",
       "      <td>72.325000</td>\n",
       "      <td>0.000000</td>\n",
       "      <td>2.635000e+00</td>\n",
       "      <td>9.881558e-01</td>\n",
       "    </tr>\n",
       "    <tr>\n",
       "      <th>75%</th>\n",
       "      <td>7.582500</td>\n",
       "      <td>6.032500</td>\n",
       "      <td>155.542500</td>\n",
       "      <td>1.000000</td>\n",
       "      <td>4.745622e+03</td>\n",
       "      <td>1.091491e+00</td>\n",
       "    </tr>\n",
       "    <tr>\n",
       "      <th>max</th>\n",
       "      <td>32.920000</td>\n",
       "      <td>25.800000</td>\n",
       "      <td>554.340000</td>\n",
       "      <td>1.000000</td>\n",
       "      <td>4.501481e+18</td>\n",
       "      <td>5.850138e+06</td>\n",
       "    </tr>\n",
       "  </tbody>\n",
       "</table>\n",
       "</div>"
      ],
      "text/plain": [
       "            beta0       beta1           v          x0             λ  \\\n",
       "count  500.000000  500.000000  500.000000  500.000000  5.000000e+02   \n",
       "mean     0.571260   -0.679380  107.754060    0.478000  1.030877e+16   \n",
       "std      9.873538    9.955019  102.741596    0.500016  2.033595e+17   \n",
       "min    -26.910000  -26.730000    0.340000    0.000000  0.000000e+00   \n",
       "25%     -6.532500   -7.567500   30.792500    0.000000  0.000000e+00   \n",
       "50%      0.895000   -0.765000   72.325000    0.000000  2.635000e+00   \n",
       "75%      7.582500    6.032500  155.542500    1.000000  4.745622e+03   \n",
       "max     32.920000   25.800000  554.340000    1.000000  4.501481e+18   \n",
       "\n",
       "         likelihood  \n",
       "count  5.000000e+02  \n",
       "mean   1.170143e+04  \n",
       "std    2.616261e+05  \n",
       "min    0.000000e+00  \n",
       "25%    8.893228e-01  \n",
       "50%    9.881558e-01  \n",
       "75%    1.091491e+00  \n",
       "max    5.850138e+06  "
      ]
     },
     "execution_count": 246,
     "metadata": {},
     "output_type": "execute_result"
    }
   ],
   "source": [
    "vals.describe()"
   ]
  },
  {
   "cell_type": "code",
   "execution_count": 238,
   "id": "7b69aa37-e3fc-4027-9f69-f01ebdf842ce",
   "metadata": {},
   "outputs": [
    {
     "data": {
      "text/html": [
       "<div>\n",
       "<style scoped>\n",
       "    .dataframe tbody tr th:only-of-type {\n",
       "        vertical-align: middle;\n",
       "    }\n",
       "\n",
       "    .dataframe tbody tr th {\n",
       "        vertical-align: top;\n",
       "    }\n",
       "\n",
       "    .dataframe thead th {\n",
       "        text-align: right;\n",
       "    }\n",
       "</style>\n",
       "<table border=\"1\" class=\"dataframe\">\n",
       "  <thead>\n",
       "    <tr style=\"text-align: right;\">\n",
       "      <th></th>\n",
       "      <th>beta0</th>\n",
       "      <th>beta1</th>\n",
       "      <th>v</th>\n",
       "      <th>x0</th>\n",
       "      <th>λ</th>\n",
       "      <th>likelihood</th>\n",
       "    </tr>\n",
       "  </thead>\n",
       "  <tbody>\n",
       "    <tr>\n",
       "      <th>0</th>\n",
       "      <td>58.56</td>\n",
       "      <td>8.71</td>\n",
       "      <td>21.90</td>\n",
       "      <td>0</td>\n",
       "      <td>2.704999e+25</td>\n",
       "      <td>0.074630</td>\n",
       "    </tr>\n",
       "    <tr>\n",
       "      <th>1</th>\n",
       "      <td>4.29</td>\n",
       "      <td>3.32</td>\n",
       "      <td>18.94</td>\n",
       "      <td>1</td>\n",
       "      <td>2.017870e+03</td>\n",
       "      <td>0.670639</td>\n",
       "    </tr>\n",
       "    <tr>\n",
       "      <th>2</th>\n",
       "      <td>35.80</td>\n",
       "      <td>2.22</td>\n",
       "      <td>43.55</td>\n",
       "      <td>0</td>\n",
       "      <td>3.543164e+15</td>\n",
       "      <td>0.438529</td>\n",
       "    </tr>\n",
       "    <tr>\n",
       "      <th>3</th>\n",
       "      <td>-44.06</td>\n",
       "      <td>-44.39</td>\n",
       "      <td>32.10</td>\n",
       "      <td>1</td>\n",
       "      <td>0.000000e+00</td>\n",
       "      <td>14.985962</td>\n",
       "    </tr>\n",
       "    <tr>\n",
       "      <th>4</th>\n",
       "      <td>6.69</td>\n",
       "      <td>4.85</td>\n",
       "      <td>102.33</td>\n",
       "      <td>0</td>\n",
       "      <td>8.003400e+02</td>\n",
       "      <td>0.933407</td>\n",
       "    </tr>\n",
       "    <tr>\n",
       "      <th>...</th>\n",
       "      <td>...</td>\n",
       "      <td>...</td>\n",
       "      <td>...</td>\n",
       "      <td>...</td>\n",
       "      <td>...</td>\n",
       "      <td>...</td>\n",
       "    </tr>\n",
       "    <tr>\n",
       "      <th>995</th>\n",
       "      <td>-29.24</td>\n",
       "      <td>-28.54</td>\n",
       "      <td>21.22</td>\n",
       "      <td>1</td>\n",
       "      <td>0.000000e+00</td>\n",
       "      <td>15.219278</td>\n",
       "    </tr>\n",
       "    <tr>\n",
       "      <th>996</th>\n",
       "      <td>7.46</td>\n",
       "      <td>15.64</td>\n",
       "      <td>11.50</td>\n",
       "      <td>1</td>\n",
       "      <td>1.070468e+10</td>\n",
       "      <td>0.135769</td>\n",
       "    </tr>\n",
       "    <tr>\n",
       "      <th>997</th>\n",
       "      <td>24.07</td>\n",
       "      <td>-39.97</td>\n",
       "      <td>48.86</td>\n",
       "      <td>0</td>\n",
       "      <td>2.834368e+10</td>\n",
       "      <td>0.612771</td>\n",
       "    </tr>\n",
       "    <tr>\n",
       "      <th>998</th>\n",
       "      <td>-21.10</td>\n",
       "      <td>-10.80</td>\n",
       "      <td>6.96</td>\n",
       "      <td>1</td>\n",
       "      <td>0.000000e+00</td>\n",
       "      <td>87.772372</td>\n",
       "    </tr>\n",
       "    <tr>\n",
       "      <th>999</th>\n",
       "      <td>54.86</td>\n",
       "      <td>27.97</td>\n",
       "      <td>232.61</td>\n",
       "      <td>1</td>\n",
       "      <td>9.368866e+35</td>\n",
       "      <td>0.697366</td>\n",
       "    </tr>\n",
       "  </tbody>\n",
       "</table>\n",
       "<p>1000 rows × 6 columns</p>\n",
       "</div>"
      ],
      "text/plain": [
       "     beta0  beta1       v  x0             λ  likelihood\n",
       "0    58.56   8.71   21.90   0  2.704999e+25    0.074630\n",
       "1     4.29   3.32   18.94   1  2.017870e+03    0.670639\n",
       "2    35.80   2.22   43.55   0  3.543164e+15    0.438529\n",
       "3   -44.06 -44.39   32.10   1  0.000000e+00   14.985962\n",
       "4     6.69   4.85  102.33   0  8.003400e+02    0.933407\n",
       "..     ...    ...     ...  ..           ...         ...\n",
       "995 -29.24 -28.54   21.22   1  0.000000e+00   15.219278\n",
       "996   7.46  15.64   11.50   1  1.070468e+10    0.135769\n",
       "997  24.07 -39.97   48.86   0  2.834368e+10    0.612771\n",
       "998 -21.10 -10.80    6.96   1  0.000000e+00   87.772372\n",
       "999  54.86  27.97  232.61   1  9.368866e+35    0.697366\n",
       "\n",
       "[1000 rows x 6 columns]"
      ]
     },
     "execution_count": 238,
     "metadata": {},
     "output_type": "execute_result"
    }
   ],
   "source": [
    "vals"
   ]
  },
  {
   "cell_type": "code",
   "execution_count": 280,
   "id": "0dcf3eb9-1d85-4505-b366-ca6442edae73",
   "metadata": {},
   "outputs": [
    {
     "data": {
      "text/plain": [
       "[<matplotlib.lines.Line2D at 0x28030b220>]"
      ]
     },
     "execution_count": 280,
     "metadata": {},
     "output_type": "execute_result"
    },
    {
     "data": {
      "image/png": "[encoded data removed]",
      "text/plain": [
       "<Figure size 432x288 with 1 Axes>"
      ]
     },
     "metadata": {
      "needs_background": "light"
     },
     "output_type": "display_data"
    }
   ],
   "source": [
    "expo = pm.draw(pm.Exponential.dist(0.01), 10000)\n",
    "plt.plot(expo)"
   ]
  },
  {
   "cell_type": "code",
   "execution_count": null,
   "id": "ec53f408-cfc7-4f85-b934-f77fc737fb01",
   "metadata": {},
   "outputs": [],
   "source": []
  }
 ],
 "metadata": {
  "kernelspec": {
   "display_name": "Python 3 (ipykernel)",
   "language": "python",
   "name": "python3"
  },
  "language_info": {
   "codemirror_mode": {
    "name": "ipython",
    "version": 3
   },
   "file_extension": ".py",
   "mimetype": "text/x-python",
   "name": "python",
   "nbconvert_exporter": "python",
   "pygments_lexer": "ipython3",
   "version": "3.9.10"
  }
 },
 "nbformat": 4,
 "nbformat_minor": 5
}
