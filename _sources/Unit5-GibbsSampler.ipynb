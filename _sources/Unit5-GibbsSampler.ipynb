{
 "cells": [
  {
   "cell_type": "code",
   "execution_count": 1,
   "id": "49d3abcf-8b24-43b0-978a-1002b4870b82",
   "metadata": {},
   "outputs": [],
   "source": [
    "import numpy as np\n",
    "from numpy.random import default_rng\n",
    "import matplotlib.pyplot as plt\n",
    "from tqdm.auto import tqdm"
   ]
  },
  {
   "cell_type": "markdown",
   "id": "29f3d83e-9660-4cf4-b167-ea7abd523b85",
   "metadata": {},
   "source": [
    "# Gibbs Sampler Example 1\n",
    "\n",
    "Adapted from [Codes for Unit 5: norcaugibbs.m](https://www2.isye.gatech.edu/isye6420/supporting.html).\n",
    "\n",
    "Associated lecture video: [Unit 5 Lesson 11](https://www.youtube.com/watch?v=WXSZ8S_pZC0&list=PLv0FeK5oXK4l-RdT6DWJj0_upJOG2WKNO&index=47)."
   ]
  },
  {
   "cell_type": "code",
   "execution_count": null,
   "id": "b475fa73-0995-4e8f-8fff-f9064a1ec800",
   "metadata": {},
   "outputs": [],
   "source": []
  }
 ],
 "metadata": {
  "kernelspec": {
   "display_name": "Python 3 (ipykernel)",
   "language": "python",
   "name": "python3"
  },
  "language_info": {
   "codemirror_mode": {
    "name": "ipython",
    "version": 3
   },
   "file_extension": ".py",
   "mimetype": "text/x-python",
   "name": "python",
   "nbconvert_exporter": "python",
   "pygments_lexer": "ipython3",
   "version": "3.9.9"
  }
 },
 "nbformat": 4,
 "nbformat_minor": 5
}
