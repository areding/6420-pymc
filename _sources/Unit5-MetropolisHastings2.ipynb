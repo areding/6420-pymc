{
 "cells": [
  {
   "cell_type": "code",
   "execution_count": 1,
   "id": "f32a4f5a-1b7d-4f66-aa34-a8bd570585b8",
   "metadata": {},
   "outputs": [],
   "source": [
    "import matplotlib.pyplot as plt\n",
    "import numpy as np\n",
    "from tqdm.auto import tqdm"
   ]
  },
  {
   "cell_type": "markdown",
   "id": "95718c3e-726d-4405-85aa-1f52733f92c4",
   "metadata": {},
   "source": [
    "# Metropolis-Hastings Example 2\n",
    "\n",
    "Adapted from [Codes for Unit 5: metro2.m](https://www2.isye.gatech.edu/isye6420/supporting.html).\n",
    "\n",
    "Associated lecture video: [Unit 5 Lesson 9](https://www.youtube.com/watch?v=Zs3y-Hs76sM&list=PLv0FeK5oXK4l-RdT6DWJj0_upJOG2WKNO&index=45)."
   ]
  },
  {
   "cell_type": "code",
   "execution_count": 2,
   "id": "abc45f34-415a-49d7-9cec-d037a65f263e",
   "metadata": {},
   "outputs": [
    {
     "data": {
      "application/vnd.jupyter.widget-view+json": {
       "model_id": "8d8ade4f677c4beeb2798a0bdb5acb62",
       "version_major": 2,
       "version_minor": 0
      },
      "text/plain": [
       "  0%|          | 0/1000000 [00:00<?, ?it/s]"
      ]
     },
     "metadata": {},
     "output_type": "display_data"
    },
    {
     "name": "stdout",
     "output_type": "stream",
     "text": [
      "np.mean(alphas)=0.8946068730747929\n",
      "np.var(alphas)=0.1362387303239647\n",
      "np.mean(etas)=1.8368073523412645\n",
      "np.var(etas)=0.7482303084883631\n"
     ]
    },
    {
     "data": {
      "image/png": "[encoded data removed]",
      "text/plain": [
       "<Figure size 432x288 with 1 Axes>"
      ]
     },
     "metadata": {
      "needs_background": "light"
     },
     "output_type": "display_data"
    },
    {
     "data": {
      "image/png": "[encoded data removed]",
      "text/plain": [
       "<Figure size 432x288 with 1 Axes>"
      ]
     },
     "metadata": {
      "needs_background": "light"
     },
     "output_type": "display_data"
    }
   ],
   "source": [
    "rng = np.random.default_rng(1)\n",
    "\n",
    "obs = 1000000\n",
    "burn = 500\n",
    "data = np.array([0.2, 0.1, 0.25])  # observed\n",
    "data_prod = np.prod(data)  # prod1 in MATLAB code\n",
    "n = len(data)\n",
    "\n",
    "# inits\n",
    "alpha = 2\n",
    "eta = 2\n",
    "alphas = np.zeros(obs)\n",
    "etas = np.zeros(obs)\n",
    "\n",
    "beta = 2\n",
    "xi = 2\n",
    "\n",
    "# pre-generate 3 sets of uniform randoms\n",
    "unif = rng.uniform(size=obs)\n",
    "log_unif_alpha = np.log(rng.uniform(size=obs))\n",
    "log_unif_eta = np.log(rng.uniform(size=obs))\n",
    "\n",
    "for i in tqdm(range(obs)):\n",
    "    # proposals\n",
    "    alpha_prop = -alpha * log_unif_alpha[i]\n",
    "    eta_prop = -eta * log_unif_eta[i]\n",
    "\n",
    "    # prod2 in MATLAB code\n",
    "    prop_prod = np.prod(np.exp(eta * data ** alpha - eta_prop * data ** alpha_prop))\n",
    "\n",
    "    # acceptance ratio\n",
    "    rr = (\n",
    "        (eta_prop / eta) ** (beta - 1)\n",
    "        * np.exp(alpha - alpha_prop - xi * (eta_prop - eta))\n",
    "        * np.exp(-alpha / alpha_prop - eta / eta_prop + alpha_prop / alpha + eta_prop / eta)\n",
    "        * data_prod ** (alpha_prop - alpha)\n",
    "        * prop_prod\n",
    "        * ((alpha_prop * eta_prop) / (alpha * eta)) ** (n - 1)\n",
    "    )\n",
    "\n",
    "    rho = min(rr, 1)\n",
    "    if unif[i] < rho:\n",
    "        alpha = alpha_prop\n",
    "        eta = eta_prop\n",
    "\n",
    "    alphas[i] = alpha\n",
    "    etas[i] = eta\n",
    "\n",
    "alphas = alphas[burn:]\n",
    "etas = etas[burn:]\n",
    "\n",
    "print(f\"{np.mean(alphas)=}\")\n",
    "print(f\"{np.var(alphas)=}\")\n",
    "print(f\"{np.mean(etas)=}\")\n",
    "print(f\"{np.var(etas)=}\")\n",
    "\n",
    "plt.hist(alphas, 50)\n",
    "plt.xlabel(\"alpha\")\n",
    "plt.show()\n",
    "\n",
    "plt.hist(etas, 50)\n",
    "plt.xlabel(\"eta\")\n",
    "plt.show()"
   ]
  },
  {
   "cell_type": "code",
   "execution_count": null,
   "id": "0d4a9b15-4468-4e06-87c8-e49ffb77a757",
   "metadata": {},
   "outputs": [],
   "source": []
  }
 ],
 "metadata": {
  "kernelspec": {
   "display_name": "Python 3 (ipykernel)",
   "language": "python",
   "name": "python3"
  },
  "language_info": {
   "codemirror_mode": {
    "name": "ipython",
    "version": 3
   },
   "file_extension": ".py",
   "mimetype": "text/x-python",
   "name": "python",
   "nbconvert_exporter": "python",
   "pygments_lexer": "ipython3",
   "version": "3.9.9"
  }
 },
 "nbformat": 4,
 "nbformat_minor": 5
}
