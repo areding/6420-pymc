{
 "cells": [
  {
   "cell_type": "code",
   "execution_count": 1,
   "id": "f32a4f5a-1b7d-4f66-aa34-a8bd570585b8",
   "metadata": {},
   "outputs": [],
   "source": [
    "import numpy as np\n",
    "import matplotlib.pyplot as plt\n",
    "from tqdm.auto import tqdm"
   ]
  },
  {
   "cell_type": "markdown",
   "id": "95718c3e-726d-4405-85aa-1f52733f92c4",
   "metadata": {},
   "source": [
    "# Metropolis-Hastings Example 2\n",
    "\n",
    "Adapted from [Codes for Unit 5: metro2.m](https://www2.isye.gatech.edu/isye6420/supporting.html).\n",
    "\n",
    "Associated lecture video: [Unit 5 Lesson 9](https://www.youtube.com/watch?v=Zs3y-Hs76sM&list=PLv0FeK5oXK4l-RdT6DWJj0_upJOG2WKNO&index=45)."
   ]
  },
  {
   "cell_type": "code",
   "execution_count": null,
   "id": "abc45f34-415a-49d7-9cec-d037a65f263e",
   "metadata": {},
   "outputs": [],
   "source": [
    "rng = np.random.default_rng(1)\n",
    "\n",
    "burn = 500\n",
    "theta = 1 # init\n",
    "thetas = np.zeros(n)\n",
    "\n",
    "# inits\n",
    "alpha = 2\n",
    "eta = 2\n",
    "data = [.2, .1, .25] # observed\n",
    "n = len(data) # observations\n",
    "\n",
    "# generate proposals all at once for speed\n",
    "theta_prop = rng.standard_normal(n) + x\n",
    "\n",
    "for i in tqdm(range(n)):\n",
    "    r = (1 + theta**2)/(1 + theta_prop[i]**2)\n",
    "    rho = min(r, 1)\n",
    "    if rng.uniform() < rho:\n",
    "        theta = theta_prop[i]\n",
    "    \n",
    "    thetas[i] = theta\n",
    "\n",
    "thetas = thetas[burn:]\n",
    "\n",
    "print(f'{np.mean(thetas)=}')\n",
    "print(f'{np.var(thetas)=}')\n",
    "\n",
    "plt.hist(thetas, 50)\n",
    "plt.show()"
   ]
  }
 ],
 "metadata": {
  "kernelspec": {
   "display_name": "Python 3 (ipykernel)",
   "language": "python",
   "name": "python3"
  },
  "language_info": {
   "codemirror_mode": {
    "name": "ipython",
    "version": 3
   },
   "file_extension": ".py",
   "mimetype": "text/x-python",
   "name": "python",
   "nbconvert_exporter": "python",
   "pygments_lexer": "ipython3",
   "version": "3.9.9"
  }
 },
 "nbformat": 4,
 "nbformat_minor": 5
}
