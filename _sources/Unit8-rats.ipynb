{
 "cells": [
  {
   "cell_type": "code",
   "execution_count": 1,
   "id": "878001b4-b685-4ee1-a826-5fb1e924a218",
   "metadata": {},
   "outputs": [
    {
     "name": "stdout",
     "output_type": "stream",
     "text": [
      "arviz: 0.11.4\n",
      "numpy: 1.22.3\n",
      "pymc : 4.0.0b4\n",
      "\n"
     ]
    }
   ],
   "source": [
    "import arviz as az\n",
    "import numpy as np\n",
    "import pymc as pm\n",
    "from pymc.math import dot\n",
    "\n",
    "%load_ext watermark\n",
    "%watermark --iversions"
   ]
  },
  {
   "cell_type": "markdown",
   "id": "808f6b8e-7543-41a7-8c33-693039a17fbb",
   "metadata": {},
   "source": [
    "# Rats \n",
    "\n",
    "I'm just going to do ratsignorable2.odc for now since it is relevant for HW6. Eventually I'll add the other examples.\n",
    "\n",
    "Adapted from [Codes for Unit 8: ratsignorable2.odc](https://www2.isye.gatech.edu/isye6420/supporting.html).\n",
    "\n",
    "Associated lecture video: [Unit 8 Lesson 2](https://www.youtube.com/watch?v=T5vkLsIs3f8&list=PLv0FeK5oXK4l-RdT6DWJj0_upJOG2WKNO&index=83).\n",
    "\n",
    "Data can be found [here](https://raw.githubusercontent.com/areding/6420-pymc/main/data/rats.txt).\n",
    "\n",
    "We had a previous example about [Dugongs](https://areding.github.io/6420-pymc/Unit6-dugongs.html) that dealt with missing data in the observed data (y values). This example shows how to deal with missing data in the input data (x). It's still pretty easy. You could look at it like creating another likelihood in the model, a very simple one where the observed data is x, and you use a single distribution to fill in the missing values (see ```x_imputed``` in the model below).\n",
    "\n",
    "For now I'm leaving the variable names the same as the BUGS example. Might go back and make them more descriptive later.\n",
    "\n",
    "There are some differences with my version:\n",
    "\n",
    "1. My gamma priors on tau are more informative. This is because PyMC was having some computational issues with the Gamma(.001, .001) priors the professor used. I don't know if it's because of the sampling algorithm or if it's a problem with the new computational backend. I will look into it more later, for now I just want to get these examples up.\n",
    "\n",
    "2. I imputed the x values with a more informative prior for similar reasons. That Uniform(0, 500) prior seems kind of crazy to me, and I wanted to rule out more computational issues.\n",
    "\n",
    "3. I got rid of the separate definition of the intercept as alpha, it is now beta[0].\n",
    "\n",
    "The priors are besides the point anyways, I just wanted to show how to impute x values for HW6!"
   ]
  },
  {
   "cell_type": "code",
   "execution_count": 2,
   "id": "30f99046-7740-4783-809d-1078c71e6586",
   "metadata": {},
   "outputs": [
    {
     "data": {
      "text/plain": [
       "(30, 5)"
      ]
     },
     "execution_count": 2,
     "metadata": {},
     "output_type": "execute_result"
    }
   ],
   "source": [
    "# note that I added a 1 to the first value for x, this is for the intercept beta[0]\n",
    "x = [1.0, 8.0, 15.0, 22.0, np.nan, 36.0]\n",
    "y = np.loadtxt(\"./data/rats.txt\")\n",
    "y.shape"
   ]
  },
  {
   "cell_type": "code",
   "execution_count": 3,
   "id": "7fb9f7d1-9be5-483f-bb59-c5c7525a919a",
   "metadata": {},
   "outputs": [],
   "source": [
    "# create masked data\n",
    "y = y.copy()\n",
    "y = np.nan_to_num(y, nan=-1)\n",
    "y = np.ma.masked_values(y, value=-1)\n",
    "\n",
    "x = x.copy()\n",
    "x = np.nan_to_num(x, nan=-1)\n",
    "x = np.ma.masked_values(x, value=-1)"
   ]
  },
  {
   "cell_type": "code",
   "execution_count": 5,
   "id": "33a6d842-182f-43d1-aa71-c74881f24a2f",
   "metadata": {
    "tags": [
     "hide_output"
    ]
   },
   "outputs": [
    {
     "name": "stderr",
     "output_type": "stream",
     "text": [
      "Multiprocess sampling (4 chains in 4 jobs)\n",
      "NUTS: [tau.c, beta.c, beta.tau, beta]\n"
     ]
    },
    {
     "data": {
      "text/html": [
       "\n",
       "<style>\n",
       "    /* Turns off some styling */\n",
       "    progress {\n",
       "        /* gets rid of default border in Firefox and Opera. */\n",
       "        border: none;\n",
       "        /* Needs to be in here for Safari polyfill so background images work as expected. */\n",
       "        background-size: auto;\n",
       "    }\n",
       "    .progress-bar-interrupted, .progress-bar-interrupted::-webkit-progress-bar {\n",
       "        background: #F44336;\n",
       "    }\n",
       "</style>\n"
      ],
      "text/plain": [
       "<IPython.core.display.HTML object>"
      ]
     },
     "metadata": {},
     "output_type": "display_data"
    },
    {
     "data": {
      "text/html": [
       "\n",
       "    <div>\n",
       "      <progress value='12000' class='' max='12000' style='width:300px; height:20px; vertical-align: middle;'></progress>\n",
       "      100.00% [12000/12000 02:47<00:00 Sampling 4 chains, 0 divergences]\n",
       "    </div>\n",
       "    "
      ],
      "text/plain": [
       "<IPython.core.display.HTML object>"
      ]
     },
     "metadata": {},
     "output_type": "display_data"
    },
    {
     "name": "stderr",
     "output_type": "stream",
     "text": [
      "/Users/aaron/mambaforge/envs/pymc-dev-py39/lib/python3.9/site-packages/scipy/stats/_continuous_distns.py:624: RuntimeWarning: overflow encountered in _beta_ppf\n",
      "  return _boost._beta_ppf(q, a, b)\n",
      "/Users/aaron/mambaforge/envs/pymc-dev-py39/lib/python3.9/site-packages/scipy/stats/_continuous_distns.py:624: RuntimeWarning: overflow encountered in _beta_ppf\n",
      "  return _boost._beta_ppf(q, a, b)\n",
      "/Users/aaron/mambaforge/envs/pymc-dev-py39/lib/python3.9/site-packages/scipy/stats/_continuous_distns.py:624: RuntimeWarning: overflow encountered in _beta_ppf\n",
      "  return _boost._beta_ppf(q, a, b)\n",
      "/Users/aaron/mambaforge/envs/pymc-dev-py39/lib/python3.9/site-packages/scipy/stats/_continuous_distns.py:624: RuntimeWarning: overflow encountered in _beta_ppf\n",
      "  return _boost._beta_ppf(q, a, b)\n",
      "Sampling 4 chains for 1_000 tune and 2_000 draw iterations (4_000 + 8_000 draws total) took 175 seconds.\n"
     ]
    }
   ],
   "source": [
    "with pm.Model() as m:\n",
    "    x_data = pm.Data(\"x_data\", x, mutable=True)\n",
    "    y_data = pm.Data(\"y_data\", y, mutable=False)\n",
    "\n",
    "    tau_c = pm.Gamma(\"tau.c\", 3, 0.5)\n",
    "    beta_c = pm.Normal(\"beta.c\", 0, tau=1e-6)\n",
    "    beta_tau = pm.Gamma(\"beta.tau\", 3, 0.5)\n",
    "\n",
    "    beta = pm.Normal(\"beta\", beta_c, tau=0.01, shape=6)\n",
    "\n",
    "    x_imputed = pm.Normal(\"x_imputed\", mu=20, sigma=10, observed=x_data)\n",
    "\n",
    "    mu = dot(beta, x_imputed)\n",
    "    likelihood = pm.Normal(\"likelihood\", mu, tau=0.01, observed=y_data, shape=5)\n",
    "\n",
    "    trace = pm.sample(\n",
    "        2000,\n",
    "        cores=4,\n",
    "        init=\"jitter+adapt_diag\",\n",
    "    )"
   ]
  },
  {
   "cell_type": "code",
   "execution_count": 6,
   "id": "2a3315ee-731a-4658-85f6-b6bef743439d",
   "metadata": {},
   "outputs": [
    {
     "data": {
      "text/html": [
       "<div>\n",
       "<style scoped>\n",
       "    .dataframe tbody tr th:only-of-type {\n",
       "        vertical-align: middle;\n",
       "    }\n",
       "\n",
       "    .dataframe tbody tr th {\n",
       "        vertical-align: top;\n",
       "    }\n",
       "\n",
       "    .dataframe thead th {\n",
       "        text-align: right;\n",
       "    }\n",
       "</style>\n",
       "<table border=\"1\" class=\"dataframe\">\n",
       "  <thead>\n",
       "    <tr style=\"text-align: right;\">\n",
       "      <th></th>\n",
       "      <th>mean</th>\n",
       "      <th>sd</th>\n",
       "      <th>hdi_2.5%</th>\n",
       "      <th>hdi_97.5%</th>\n",
       "      <th>mcse_mean</th>\n",
       "      <th>mcse_sd</th>\n",
       "      <th>ess_bulk</th>\n",
       "      <th>ess_tail</th>\n",
       "      <th>r_hat</th>\n",
       "    </tr>\n",
       "  </thead>\n",
       "  <tbody>\n",
       "    <tr>\n",
       "      <th>beta.c</th>\n",
       "      <td>1.743</td>\n",
       "      <td>5.664</td>\n",
       "      <td>-9.253</td>\n",
       "      <td>12.811</td>\n",
       "      <td>0.081</td>\n",
       "      <td>0.060</td>\n",
       "      <td>4900.0</td>\n",
       "      <td>5289.0</td>\n",
       "      <td>1.0</td>\n",
       "    </tr>\n",
       "    <tr>\n",
       "      <th>beta[0]</th>\n",
       "      <td>1.768</td>\n",
       "      <td>11.393</td>\n",
       "      <td>-20.379</td>\n",
       "      <td>23.810</td>\n",
       "      <td>0.138</td>\n",
       "      <td>0.118</td>\n",
       "      <td>6833.0</td>\n",
       "      <td>5962.0</td>\n",
       "      <td>1.0</td>\n",
       "    </tr>\n",
       "    <tr>\n",
       "      <th>beta[1]</th>\n",
       "      <td>1.586</td>\n",
       "      <td>10.776</td>\n",
       "      <td>-19.371</td>\n",
       "      <td>22.694</td>\n",
       "      <td>0.133</td>\n",
       "      <td>0.118</td>\n",
       "      <td>6522.0</td>\n",
       "      <td>5729.0</td>\n",
       "      <td>1.0</td>\n",
       "    </tr>\n",
       "    <tr>\n",
       "      <th>beta[2]</th>\n",
       "      <td>1.739</td>\n",
       "      <td>9.781</td>\n",
       "      <td>-16.872</td>\n",
       "      <td>20.716</td>\n",
       "      <td>0.126</td>\n",
       "      <td>0.110</td>\n",
       "      <td>6003.0</td>\n",
       "      <td>5529.0</td>\n",
       "      <td>1.0</td>\n",
       "    </tr>\n",
       "    <tr>\n",
       "      <th>beta[3]</th>\n",
       "      <td>1.626</td>\n",
       "      <td>8.979</td>\n",
       "      <td>-15.908</td>\n",
       "      <td>19.329</td>\n",
       "      <td>0.118</td>\n",
       "      <td>0.104</td>\n",
       "      <td>5830.0</td>\n",
       "      <td>5234.0</td>\n",
       "      <td>1.0</td>\n",
       "    </tr>\n",
       "    <tr>\n",
       "      <th>beta[4]</th>\n",
       "      <td>1.832</td>\n",
       "      <td>11.710</td>\n",
       "      <td>-21.728</td>\n",
       "      <td>24.133</td>\n",
       "      <td>0.151</td>\n",
       "      <td>0.128</td>\n",
       "      <td>6056.0</td>\n",
       "      <td>5542.0</td>\n",
       "      <td>1.0</td>\n",
       "    </tr>\n",
       "    <tr>\n",
       "      <th>beta[5]</th>\n",
       "      <td>1.558</td>\n",
       "      <td>6.588</td>\n",
       "      <td>-10.809</td>\n",
       "      <td>14.511</td>\n",
       "      <td>0.100</td>\n",
       "      <td>0.075</td>\n",
       "      <td>4362.0</td>\n",
       "      <td>4721.0</td>\n",
       "      <td>1.0</td>\n",
       "    </tr>\n",
       "    <tr>\n",
       "      <th>tau.c</th>\n",
       "      <td>6.047</td>\n",
       "      <td>3.494</td>\n",
       "      <td>0.435</td>\n",
       "      <td>12.739</td>\n",
       "      <td>0.037</td>\n",
       "      <td>0.028</td>\n",
       "      <td>7618.0</td>\n",
       "      <td>4104.0</td>\n",
       "      <td>1.0</td>\n",
       "    </tr>\n",
       "    <tr>\n",
       "      <th>beta.tau</th>\n",
       "      <td>6.007</td>\n",
       "      <td>3.554</td>\n",
       "      <td>0.619</td>\n",
       "      <td>12.872</td>\n",
       "      <td>0.037</td>\n",
       "      <td>0.027</td>\n",
       "      <td>7243.0</td>\n",
       "      <td>3680.0</td>\n",
       "      <td>1.0</td>\n",
       "    </tr>\n",
       "  </tbody>\n",
       "</table>\n",
       "</div>"
      ],
      "text/plain": [
       "           mean      sd  hdi_2.5%  hdi_97.5%  mcse_mean  mcse_sd  ess_bulk  \\\n",
       "beta.c    1.743   5.664    -9.253     12.811      0.081    0.060    4900.0   \n",
       "beta[0]   1.768  11.393   -20.379     23.810      0.138    0.118    6833.0   \n",
       "beta[1]   1.586  10.776   -19.371     22.694      0.133    0.118    6522.0   \n",
       "beta[2]   1.739   9.781   -16.872     20.716      0.126    0.110    6003.0   \n",
       "beta[3]   1.626   8.979   -15.908     19.329      0.118    0.104    5830.0   \n",
       "beta[4]   1.832  11.710   -21.728     24.133      0.151    0.128    6056.0   \n",
       "beta[5]   1.558   6.588   -10.809     14.511      0.100    0.075    4362.0   \n",
       "tau.c     6.047   3.494     0.435     12.739      0.037    0.028    7618.0   \n",
       "beta.tau  6.007   3.554     0.619     12.872      0.037    0.027    7243.0   \n",
       "\n",
       "          ess_tail  r_hat  \n",
       "beta.c      5289.0    1.0  \n",
       "beta[0]     5962.0    1.0  \n",
       "beta[1]     5729.0    1.0  \n",
       "beta[2]     5529.0    1.0  \n",
       "beta[3]     5234.0    1.0  \n",
       "beta[4]     5542.0    1.0  \n",
       "beta[5]     4721.0    1.0  \n",
       "tau.c       4104.0    1.0  \n",
       "beta.tau    3680.0    1.0  "
      ]
     },
     "execution_count": 6,
     "metadata": {},
     "output_type": "execute_result"
    }
   ],
   "source": [
    "az.summary(trace, hdi_prob=0.95)"
   ]
  },
  {
   "cell_type": "code",
   "execution_count": null,
   "id": "17b1bc5a-9f9c-4694-a002-3919367291c3",
   "metadata": {},
   "outputs": [],
   "source": []
  }
 ],
 "metadata": {
  "kernelspec": {
   "display_name": "Python 3 (ipykernel)",
   "language": "python",
   "name": "python3"
  },
  "language_info": {
   "codemirror_mode": {
    "name": "ipython",
    "version": 3
   },
   "file_extension": ".py",
   "mimetype": "text/x-python",
   "name": "python",
   "nbconvert_exporter": "python",
   "pygments_lexer": "ipython3",
   "version": "3.9.10"
  }
 },
 "nbformat": 4,
 "nbformat_minor": 5
}
