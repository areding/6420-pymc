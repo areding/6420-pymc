{
 "cells": [
  {
   "cell_type": "code",
   "execution_count": 12,
   "id": "878001b4-b685-4ee1-a826-5fb1e924a218",
   "metadata": {},
   "outputs": [],
   "source": [
    "import arviz as az\n",
    "import matplotlib.pyplot as plt\n",
    "import numpy as np\n",
    "import pymc as pm"
   ]
  },
  {
   "cell_type": "markdown",
   "id": "808f6b8e-7543-41a7-8c33-693039a17fbb",
   "metadata": {},
   "source": [
    "# Rats \n",
    "\n",
    "I'm just going to do ratsignorable2.odc for now since it is relevant for HW6. Eventually I'll add the other examples.\n",
    "\n",
    "Adapted from [Codes for Unit 8: ratsignorable2.odc](https://www2.isye.gatech.edu/isye6420/supporting.html).\n",
    "\n",
    "Associated lecture video: [Unit 8 Lesson 2](https://www.youtube.com/watch?v=T5vkLsIs3f8&list=PLv0FeK5oXK4l-RdT6DWJj0_upJOG2WKNO&index=83).\n",
    "\n",
    "Data can be found [here](https://raw.githubusercontent.com/areding/6420-pymc/main/data/rats.txt).\n",
    "\n",
    "\n",
    "We had a previous example about [Dugongs](https://areding.github.io/6420-pymc/Unit6-dugongs.html) that dealt with missing data in the observed data (y values). This example shows how to deal with missing data in the input data (x).\n",
    "\n",
    "For now I'm leaving the variable names the same as the BUGS example. Might go back and make them more descriptive later."
   ]
  },
  {
   "cell_type": "code",
   "execution_count": 16,
   "id": "30f99046-7740-4783-809d-1078c71e6586",
   "metadata": {},
   "outputs": [
    {
     "data": {
      "text/plain": [
       "(30, 5)"
      ]
     },
     "execution_count": 16,
     "metadata": {},
     "output_type": "execute_result"
    }
   ],
   "source": [
    "T = 5\n",
    "x = [8.0, 15.0, 22.0, np.nan, 36.0]\n",
    "y = np.loadtxt(\"./data/rats.txt\")\n",
    "data.shape"
   ]
  },
  {
   "cell_type": "code",
   "execution_count": 17,
   "id": "7fb9f7d1-9be5-483f-bb59-c5c7525a919a",
   "metadata": {},
   "outputs": [],
   "source": [
    "# create masked data\n",
    "y = y.copy()\n",
    "y = np.nan_to_num(y, nan=-1)\n",
    "y = np.ma.masked_values(y, value=-1)\n",
    "\n",
    "x = x.copy()\n",
    "x = np.nan_to_num(x, nan=-1)\n",
    "x = np.ma.masked_values(x, value=-1)"
   ]
  },
  {
   "cell_type": "code",
   "execution_count": 14,
   "id": "5754e293-0831-4359-908a-4180b9947706",
   "metadata": {},
   "outputs": [
    {
     "ename": "SyntaxError",
     "evalue": "invalid syntax (648235093.py, line 6)",
     "output_type": "error",
     "traceback": [
      "\u001b[0;36m  Input \u001b[0;32mIn [14]\u001b[0;36m\u001b[0m\n\u001b[0;31m    alpha_c = pm.Normal(\"alpha.c\", 0, tau=1e-6)\u001b[0m\n\u001b[0m    ^\u001b[0m\n\u001b[0;31mSyntaxError\u001b[0m\u001b[0;31m:\u001b[0m invalid syntax\n"
     ]
    }
   ],
   "source": [
    "with pm.Model() as m:\n",
    "    x_data = pm.Data(\"x_data\", x, mutable=True)\n",
    "    y_data = pm.Data(\"y_data\", y, mutable=False)\n",
    "    \n",
    "    tau_c = pm.Gamma(\"tau.c\", 0.001, 0.001)\n",
    "    alpha_c = pm.Normal(\"alpha.c\", 0, tau=1e-6)\n",
    "    alpha_tau = pm.Gamma(\"alpha.tau\", 0.001, 0.001)\n",
    "    beta_c = pm.Normal(\"beta.c\", 0, tau=1e-6)\n",
    "    beta_tau = pm.Gamma(\"beta.tau\", .001, .001)\n",
    "    \n",
    "    alpha = pm.Normal(\"alpha\", alpha_c, tau=alpha_tau, shape=?)\n",
    "    beta = pm.Normal(\"beta\", beta_c, tau=beta_tau, shape or size or whatever)\n",
    "    \n",
    "    mu = alpha + beta * x_data\n",
    "    likelihood = pm.Normal(\"likelihood\", mu, tau=tau_c, observed=y_data)\n",
    "    \n",
    "    trace = pm.sample(\n",
    "        2000,\n",
    "        chains=4,\n",
    "        tune=500,\n",
    "        cores=4,\n",
    "        init=\"adapt_diag\",\n",
    "        random_seed=1,\n",
    "        return_inferencedata=True,\n",
    "        initvals=inits\n",
    "    )\n",
    "\n",
    "az.summary(trace, hdi_prob=.95)"
   ]
  },
  {
   "cell_type": "code",
   "execution_count": null,
   "id": "43d0bbbd-3518-4700-a0d9-fc6ab510a4df",
   "metadata": {},
   "outputs": [],
   "source": []
  }
 ],
 "metadata": {
  "kernelspec": {
   "display_name": "Python 3 (ipykernel)",
   "language": "python",
   "name": "python3"
  },
  "language_info": {
   "codemirror_mode": {
    "name": "ipython",
    "version": 3
   },
   "file_extension": ".py",
   "mimetype": "text/x-python",
   "name": "python",
   "nbconvert_exporter": "python",
   "pygments_lexer": "ipython3",
   "version": "3.9.10"
  }
 },
 "nbformat": 4,
 "nbformat_minor": 5
}
