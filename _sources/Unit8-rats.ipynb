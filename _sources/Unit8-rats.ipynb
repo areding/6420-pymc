{
 "cells": [
  {
   "cell_type": "code",
   "execution_count": 1,
   "id": "878001b4-b685-4ee1-a826-5fb1e924a218",
   "metadata": {},
   "outputs": [
    {
     "name": "stdout",
     "output_type": "stream",
     "text": [
      "arviz: 0.11.4\n",
      "numpy: 1.22.3\n",
      "pymc : 4.0.0b4\n",
      "\n"
     ]
    }
   ],
   "source": [
    "import arviz as az\n",
    "import numpy as np\n",
    "import pymc as pm\n",
    "from pymc.math import dot\n",
    "\n",
    "%load_ext watermark\n",
    "%watermark --iversions"
   ]
  },
  {
   "cell_type": "markdown",
   "id": "808f6b8e-7543-41a7-8c33-693039a17fbb",
   "metadata": {},
   "source": [
    "# Rats \n",
    "\n",
    "I'm just going to do ratsignorable2.odc for now since it is relevant for HW6. Eventually I'll add the other examples.\n",
    "\n",
    "Adapted from [Codes for Unit 8: ratsignorable2.odc](https://www2.isye.gatech.edu/isye6420/supporting.html).\n",
    "\n",
    "Associated lecture video: [Unit 8 Lesson 2](https://www.youtube.com/watch?v=T5vkLsIs3f8&list=PLv0FeK5oXK4l-RdT6DWJj0_upJOG2WKNO&index=83).\n",
    "\n",
    "Data can be found [here](https://raw.githubusercontent.com/areding/6420-pymc/main/data/rats.txt).\n",
    "\n",
    "We had a previous example about [Dugongs](https://areding.github.io/6420-pymc/Unit6-dugongs.html) that dealt with missing data in the observed data (y values). This example shows how to deal with missing data in the input data (x). It's still pretty easy. You could look at it like creating another likelihood in the model, a very simple one where the observed data is x, and you use a single distribution to fill in the missing values (see ```x_imputed``` in the model below).\n",
    "\n",
    "For now I'm leaving the variable names the same as the BUGS example. Might go back and make them more descriptive later.\n",
    "\n",
    "There are some differences with my version:\n",
    "\n",
    "1. My gamma priors on tau are more informative. This is because PyMC was having some computational issues with the Gamma(.001, .001) priors the professor used. I don't know if it's because of the sampling algorithm or if it's a problem with the new computational backend. I will look into it more later, for now I just want to get these examples up.\n",
    "\n",
    "2. I imputed the x values with a more informative prior for similar reasons. That Uniform(0, 500) prior seems kind of crazy to me, and I wanted to rule out more computational issues.\n",
    "\n",
    "3. I got rid of the separate definition of the intercept as alpha, it is now beta[0].\n",
    "\n",
    "I have not checked this model for any kind of correctness or compared the answers to the BUGS version. It may make no sense at all (considering the amount of divergences, it probably doesn't)! But I hope it gives you an idea for how to handle the missing data question on HW6, which I have confirmed works well in PyMC."
   ]
  },
  {
   "cell_type": "code",
   "execution_count": 32,
   "id": "30f99046-7740-4783-809d-1078c71e6586",
   "metadata": {},
   "outputs": [
    {
     "data": {
      "text/plain": [
       "(30, 5)"
      ]
     },
     "execution_count": 32,
     "metadata": {},
     "output_type": "execute_result"
    }
   ],
   "source": [
    "# note that I added a 1 to the first value for x, this is for the intercept beta[0]\n",
    "x = [1.0, 8.0, 15.0, 22.0, np.nan, 36.0]\n",
    "y = np.loadtxt(\"./data/rats.txt\")\n",
    "y.shape"
   ]
  },
  {
   "cell_type": "code",
   "execution_count": 44,
   "id": "7fb9f7d1-9be5-483f-bb59-c5c7525a919a",
   "metadata": {},
   "outputs": [],
   "source": [
    "# create masked data\n",
    "y = y.copy()\n",
    "y = np.nan_to_num(y, nan=-1)\n",
    "y = np.ma.masked_values(y, value=-1)\n",
    "\n",
    "x = x.copy()\n",
    "x = np.nan_to_num(x, nan=-1)\n",
    "x = np.ma.masked_values(x, value=-1)"
   ]
  },
  {
   "cell_type": "code",
   "execution_count": 45,
   "id": "33a6d842-182f-43d1-aa71-c74881f24a2f",
   "metadata": {
    "tags": [
     "hide_output"
    ]
   },
   "outputs": [
    {
     "name": "stderr",
     "output_type": "stream",
     "text": [
      "/Users/aaron/mambaforge/envs/pymc-dev-py39/lib/python3.9/site-packages/pymc/model.py:1322: ImputationWarning: Data in x_imputed contains missing values and will be automatically imputed from the sampling distribution.\n",
      "  warnings.warn(impute_message, ImputationWarning)\n",
      "/Users/aaron/mambaforge/envs/pymc-dev-py39/lib/python3.9/site-packages/pymc/model.py:1322: ImputationWarning: Data in likelihood contains missing values and will be automatically imputed from the sampling distribution.\n",
      "  warnings.warn(impute_message, ImputationWarning)\n",
      "Multiprocess sampling (4 chains in 4 jobs)\n",
      "NUTS: [tau.c, beta.c, beta.tau, beta, x_imputed_missing, likelihood_missing]\n"
     ]
    },
    {
     "data": {
      "text/html": [
       "\n",
       "<style>\n",
       "    /* Turns off some styling */\n",
       "    progress {\n",
       "        /* gets rid of default border in Firefox and Opera. */\n",
       "        border: none;\n",
       "        /* Needs to be in here for Safari polyfill so background images work as expected. */\n",
       "        background-size: auto;\n",
       "    }\n",
       "    .progress-bar-interrupted, .progress-bar-interrupted::-webkit-progress-bar {\n",
       "        background: #F44336;\n",
       "    }\n",
       "</style>\n"
      ],
      "text/plain": [
       "<IPython.core.display.HTML object>"
      ]
     },
     "metadata": {},
     "output_type": "display_data"
    },
    {
     "data": {
      "text/html": [
       "\n",
       "    <div>\n",
       "      <progress value='48000' class='' max='48000' style='width:300px; height:20px; vertical-align: middle;'></progress>\n",
       "      100.00% [48000/48000 00:39<00:00 Sampling 4 chains, 15,369 divergences]\n",
       "    </div>\n",
       "    "
      ],
      "text/plain": [
       "<IPython.core.display.HTML object>"
      ]
     },
     "metadata": {},
     "output_type": "display_data"
    },
    {
     "name": "stderr",
     "output_type": "stream",
     "text": [
      "/Users/aaron/mambaforge/envs/pymc-dev-py39/lib/python3.9/site-packages/scipy/stats/_continuous_distns.py:624: RuntimeWarning: overflow encountered in _beta_ppf\n",
      "  return _boost._beta_ppf(q, a, b)\n",
      "/Users/aaron/mambaforge/envs/pymc-dev-py39/lib/python3.9/site-packages/scipy/stats/_continuous_distns.py:624: RuntimeWarning: overflow encountered in _beta_ppf\n",
      "  return _boost._beta_ppf(q, a, b)\n",
      "/Users/aaron/mambaforge/envs/pymc-dev-py39/lib/python3.9/site-packages/scipy/stats/_continuous_distns.py:624: RuntimeWarning: overflow encountered in _beta_ppf\n",
      "  return _boost._beta_ppf(q, a, b)\n",
      "/Users/aaron/mambaforge/envs/pymc-dev-py39/lib/python3.9/site-packages/scipy/stats/_continuous_distns.py:624: RuntimeWarning: overflow encountered in _beta_ppf\n",
      "  return _boost._beta_ppf(q, a, b)\n",
      "Sampling 4 chains for 2_000 tune and 10_000 draw iterations (8_000 + 40_000 draws total) took 49 seconds.\n",
      "There were 1038 divergences after tuning. Increase `target_accept` or reparameterize.\n",
      "There were 5858 divergences after tuning. Increase `target_accept` or reparameterize.\n",
      "The acceptance probability does not match the target. It is 0.6115, but should be close to 0.8. Try to increase the number of tuning steps.\n",
      "There were 2123 divergences after tuning. Increase `target_accept` or reparameterize.\n",
      "There were 6350 divergences after tuning. Increase `target_accept` or reparameterize.\n",
      "The acceptance probability does not match the target. It is 0.5889, but should be close to 0.8. Try to increase the number of tuning steps.\n",
      "The rhat statistic is larger than 1.01 for some parameters. This indicates problems during sampling. See https://arxiv.org/abs/1903.08008 for details\n",
      "The effective sample size per chain is smaller than 100 for some parameters.  A higher number is needed for reliable rhat and ess computation. See https://arxiv.org/abs/1903.08008 for details\n"
     ]
    }
   ],
   "source": [
    "with pm.Model() as m:\n",
    "    tau_c = pm.Gamma(\"tau.c\", 1, 1)\n",
    "    beta_c = pm.Normal(\"beta.c\", 0, tau=1e-6)\n",
    "    beta_tau = pm.Gamma(\"beta.tau\", 1, 1)\n",
    "\n",
    "    beta = pm.Normal(\"beta\", beta_c, tau=beta_tau, shape=6)\n",
    "\n",
    "    x_imputed = pm.Normal(\"x_imputed\", mu=20, sigma=10, observed=x)\n",
    "\n",
    "    mu = dot(beta, x_imputed)\n",
    "    likelihood = pm.Normal(\"likelihood\", mu, tau=tau_c, observed=y)\n",
    "\n",
    "    trace = pm.sample(\n",
    "        10000,\n",
    "        tune=2000,\n",
    "        cores=4,\n",
    "        init=\"jitter+adapt_diag\",\n",
    "    )\n"
   ]
  },
  {
   "cell_type": "code",
   "execution_count": 46,
   "id": "2a3315ee-731a-4658-85f6-b6bef743439d",
   "metadata": {},
   "outputs": [
    {
     "data": {
      "text/html": [
       "<div>\n",
       "<style scoped>\n",
       "    .dataframe tbody tr th:only-of-type {\n",
       "        vertical-align: middle;\n",
       "    }\n",
       "\n",
       "    .dataframe tbody tr th {\n",
       "        vertical-align: top;\n",
       "    }\n",
       "\n",
       "    .dataframe thead th {\n",
       "        text-align: right;\n",
       "    }\n",
       "</style>\n",
       "<table border=\"1\" class=\"dataframe\">\n",
       "  <thead>\n",
       "    <tr style=\"text-align: right;\">\n",
       "      <th></th>\n",
       "      <th>mean</th>\n",
       "      <th>sd</th>\n",
       "      <th>hdi_2.5%</th>\n",
       "      <th>hdi_97.5%</th>\n",
       "      <th>mcse_mean</th>\n",
       "      <th>mcse_sd</th>\n",
       "      <th>ess_bulk</th>\n",
       "      <th>ess_tail</th>\n",
       "      <th>r_hat</th>\n",
       "    </tr>\n",
       "  </thead>\n",
       "  <tbody>\n",
       "    <tr>\n",
       "      <th>beta.c</th>\n",
       "      <td>2.087</td>\n",
       "      <td>1.349</td>\n",
       "      <td>0.254</td>\n",
       "      <td>3.792</td>\n",
       "      <td>0.063</td>\n",
       "      <td>0.050</td>\n",
       "      <td>616.0</td>\n",
       "      <td>691.0</td>\n",
       "      <td>1.01</td>\n",
       "    </tr>\n",
       "    <tr>\n",
       "      <th>beta[0]</th>\n",
       "      <td>2.057</td>\n",
       "      <td>2.241</td>\n",
       "      <td>-2.291</td>\n",
       "      <td>6.402</td>\n",
       "      <td>0.110</td>\n",
       "      <td>0.078</td>\n",
       "      <td>451.0</td>\n",
       "      <td>293.0</td>\n",
       "      <td>1.01</td>\n",
       "    </tr>\n",
       "    <tr>\n",
       "      <th>beta[1]</th>\n",
       "      <td>2.106</td>\n",
       "      <td>2.133</td>\n",
       "      <td>-1.931</td>\n",
       "      <td>6.110</td>\n",
       "      <td>0.089</td>\n",
       "      <td>0.063</td>\n",
       "      <td>565.0</td>\n",
       "      <td>503.0</td>\n",
       "      <td>1.01</td>\n",
       "    </tr>\n",
       "    <tr>\n",
       "      <th>beta[2]</th>\n",
       "      <td>2.033</td>\n",
       "      <td>1.972</td>\n",
       "      <td>-1.388</td>\n",
       "      <td>5.815</td>\n",
       "      <td>0.077</td>\n",
       "      <td>0.059</td>\n",
       "      <td>566.0</td>\n",
       "      <td>891.0</td>\n",
       "      <td>1.01</td>\n",
       "    </tr>\n",
       "    <tr>\n",
       "      <th>beta[3]</th>\n",
       "      <td>2.142</td>\n",
       "      <td>1.842</td>\n",
       "      <td>-1.536</td>\n",
       "      <td>5.838</td>\n",
       "      <td>0.103</td>\n",
       "      <td>0.073</td>\n",
       "      <td>365.0</td>\n",
       "      <td>197.0</td>\n",
       "      <td>1.01</td>\n",
       "    </tr>\n",
       "    <tr>\n",
       "      <th>...</th>\n",
       "      <td>...</td>\n",
       "      <td>...</td>\n",
       "      <td>...</td>\n",
       "      <td>...</td>\n",
       "      <td>...</td>\n",
       "      <td>...</td>\n",
       "      <td>...</td>\n",
       "      <td>...</td>\n",
       "      <td>...</td>\n",
       "    </tr>\n",
       "    <tr>\n",
       "      <th>likelihood_missing[55]</th>\n",
       "      <td>215.260</td>\n",
       "      <td>58.663</td>\n",
       "      <td>99.309</td>\n",
       "      <td>329.502</td>\n",
       "      <td>1.837</td>\n",
       "      <td>1.299</td>\n",
       "      <td>1020.0</td>\n",
       "      <td>1697.0</td>\n",
       "      <td>1.01</td>\n",
       "    </tr>\n",
       "    <tr>\n",
       "      <th>likelihood_missing[56]</th>\n",
       "      <td>214.769</td>\n",
       "      <td>56.703</td>\n",
       "      <td>104.572</td>\n",
       "      <td>323.976</td>\n",
       "      <td>1.639</td>\n",
       "      <td>1.159</td>\n",
       "      <td>1195.0</td>\n",
       "      <td>2565.0</td>\n",
       "      <td>1.00</td>\n",
       "    </tr>\n",
       "    <tr>\n",
       "      <th>likelihood_missing[57]</th>\n",
       "      <td>215.084</td>\n",
       "      <td>58.134</td>\n",
       "      <td>98.220</td>\n",
       "      <td>327.924</td>\n",
       "      <td>1.943</td>\n",
       "      <td>1.501</td>\n",
       "      <td>948.0</td>\n",
       "      <td>1183.0</td>\n",
       "      <td>1.00</td>\n",
       "    </tr>\n",
       "    <tr>\n",
       "      <th>tau.c</th>\n",
       "      <td>0.000</td>\n",
       "      <td>0.000</td>\n",
       "      <td>0.000</td>\n",
       "      <td>0.000</td>\n",
       "      <td>0.000</td>\n",
       "      <td>0.000</td>\n",
       "      <td>670.0</td>\n",
       "      <td>1007.0</td>\n",
       "      <td>1.01</td>\n",
       "    </tr>\n",
       "    <tr>\n",
       "      <th>beta.tau</th>\n",
       "      <td>1.027</td>\n",
       "      <td>1.010</td>\n",
       "      <td>0.001</td>\n",
       "      <td>3.023</td>\n",
       "      <td>0.033</td>\n",
       "      <td>0.023</td>\n",
       "      <td>528.0</td>\n",
       "      <td>683.0</td>\n",
       "      <td>1.01</td>\n",
       "    </tr>\n",
       "  </tbody>\n",
       "</table>\n",
       "<p>68 rows × 9 columns</p>\n",
       "</div>"
      ],
      "text/plain": [
       "                           mean      sd  hdi_2.5%  hdi_97.5%  mcse_mean  \\\n",
       "beta.c                    2.087   1.349     0.254      3.792      0.063   \n",
       "beta[0]                   2.057   2.241    -2.291      6.402      0.110   \n",
       "beta[1]                   2.106   2.133    -1.931      6.110      0.089   \n",
       "beta[2]                   2.033   1.972    -1.388      5.815      0.077   \n",
       "beta[3]                   2.142   1.842    -1.536      5.838      0.103   \n",
       "...                         ...     ...       ...        ...        ...   \n",
       "likelihood_missing[55]  215.260  58.663    99.309    329.502      1.837   \n",
       "likelihood_missing[56]  214.769  56.703   104.572    323.976      1.639   \n",
       "likelihood_missing[57]  215.084  58.134    98.220    327.924      1.943   \n",
       "tau.c                     0.000   0.000     0.000      0.000      0.000   \n",
       "beta.tau                  1.027   1.010     0.001      3.023      0.033   \n",
       "\n",
       "                        mcse_sd  ess_bulk  ess_tail  r_hat  \n",
       "beta.c                    0.050     616.0     691.0   1.01  \n",
       "beta[0]                   0.078     451.0     293.0   1.01  \n",
       "beta[1]                   0.063     565.0     503.0   1.01  \n",
       "beta[2]                   0.059     566.0     891.0   1.01  \n",
       "beta[3]                   0.073     365.0     197.0   1.01  \n",
       "...                         ...       ...       ...    ...  \n",
       "likelihood_missing[55]    1.299    1020.0    1697.0   1.01  \n",
       "likelihood_missing[56]    1.159    1195.0    2565.0   1.00  \n",
       "likelihood_missing[57]    1.501     948.0    1183.0   1.00  \n",
       "tau.c                     0.000     670.0    1007.0   1.01  \n",
       "beta.tau                  0.023     528.0     683.0   1.01  \n",
       "\n",
       "[68 rows x 9 columns]"
      ]
     },
     "execution_count": 46,
     "metadata": {},
     "output_type": "execute_result"
    }
   ],
   "source": [
    "az.summary(trace, hdi_prob=0.95)"
   ]
  },
  {
   "cell_type": "code",
   "execution_count": null,
   "id": "17b1bc5a-9f9c-4694-a002-3919367291c3",
   "metadata": {},
   "outputs": [],
   "source": []
  }
 ],
 "metadata": {
  "kernelspec": {
   "display_name": "Python 3 (ipykernel)",
   "language": "python",
   "name": "python3"
  },
  "language_info": {
   "codemirror_mode": {
    "name": "ipython",
    "version": 3
   },
   "file_extension": ".py",
   "mimetype": "text/x-python",
   "name": "python",
   "nbconvert_exporter": "python",
   "pygments_lexer": "ipython3",
   "version": "3.9.10"
  }
 },
 "nbformat": 4,
 "nbformat_minor": 5
}
