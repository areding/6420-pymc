{
 "cells": [
  {
   "cell_type": "markdown",
   "id": "3d18e189-b8cc-4902-a029-22f6ac9aeaf1",
   "metadata": {},
   "source": [
    "# About this course\n",
    "\n",
    "Placeholder\n",
    "\n",
    "Talk about structure of this site, how it relates to the class, overview of chapters."
   ]
  },
  {
   "cell_type": "code",
   "execution_count": null,
   "id": "c1e75f2f-a1c3-4dce-b0ab-8ce8c4dc0c54",
   "metadata": {},
   "outputs": [],
   "source": []
  }
 ],
 "metadata": {
  "kernelspec": {
   "display_name": "Python 3 (ipykernel)",
   "language": "python",
   "name": "python3"
  },
  "language_info": {
   "codemirror_mode": {
    "name": "ipython",
    "version": 3
   },
   "file_extension": ".py",
   "mimetype": "text/x-python",
   "name": "python",
   "nbconvert_exporter": "python",
   "pygments_lexer": "ipython3",
   "version": "3.9.10"
  }
 },
 "nbformat": 4,
 "nbformat_minor": 5
}
