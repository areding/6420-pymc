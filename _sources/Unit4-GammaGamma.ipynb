{
 "cells": [
  {
   "cell_type": "code",
   "execution_count": 1,
   "id": "fbe06c84-8585-4718-b006-61a8fd0ff094",
   "metadata": {
    "tags": [
     "hide_output"
    ]
   },
   "outputs": [],
   "source": [
    "import matplotlib.pyplot as plt\n",
    "import numpy as np\n",
    "from scipy.special import gamma as gamma_func\n",
    "from scipy.optimize import fsolve\n",
    "from scipy.stats import gamma\n",
    "from tqdm.auto import tqdm"
   ]
  },
  {
   "cell_type": "markdown",
   "id": "d98d7fec-0d71-497f-aa8d-d317393da017",
   "metadata": {},
   "source": [
    "# Gamma Gamma\n",
    "\n",
    "\n",
    "From [Codes for Unit 4: gammagamma.m](https://www2.isye.gatech.edu/isye6420/supporting.html).\n",
    "\n",
    "Associated lecture videos: [Unit 4 Lesson 10: Credible Sets](https://www.youtube.com/watch?v=AV7PtxWQYVw&list=PLv0FeK5oXK4l-RdT6DWJj0_upJOG2WKNO&index=27) and [Unit 4 Lesson 11](https://www.youtube.com/watch?v=kXRS22YMrSk&list=PLv0FeK5oXK4l-RdT6DWJj0_upJOG2WKNO&index=28).\n",
    "\n",
    "Professor Vidakovic usually calls them credible sets. If you search for more information online, you'll see a lot of terms thrown around: Bayesian credible intervals or just credible intervals, highest density regions, highest posterior density intervals (HDPI) or just highest density intervals (HDI), percentile intervals, and compatibility intervals. Not to be confused with confidence intervals!\n",
    "\n",
    "These terms don't all mean exactly the same thing. For our class, the main distinction the professor draws is between HPD-credible sets and equitailed credible sets. Sometimes the homework will ask for one or the other, or both, so make sure you understand the difference. If the homework doesn't specify, you can use either, but the equitailed credible set is easier to calculate.\n",
    "\n",
    "## Translation of MATLAB code (magic k)\n",
    "First, here's a direct translation from the MATLAB code. The professor didn't include how to find $k(\\alpha)$ in this version."
   ]
  },
  {
   "cell_type": "code",
   "execution_count": 2,
   "id": "3558c908-ef85-4a11-a3e6-1d0483b56da2",
   "metadata": {},
   "outputs": [],
   "source": [
    "def gamma_pdf(x, a, b):\n",
    "    \"\"\"\n",
    "    Gamma pdf\n",
    "\n",
    "    x: numpy array or float\n",
    "    a: int or float. shape (α)\n",
    "    b: int or float. rate (β)\n",
    "\n",
    "    returns a numpy array or float\n",
    "    \"\"\"\n",
    "    return 1 / gamma_func(a) * x ** (a - 1) * b**a * np.exp(-b * x)"
   ]
  },
  {
   "cell_type": "code",
   "execution_count": 3,
   "id": "ed0fbc9b-3f53-4e53-b891-54a2cbebf4ca",
   "metadata": {},
   "outputs": [
    {
     "data": {
      "image/png": "[encoded data removed]",
      "text/plain": [
       "<Figure size 432x288 with 1 Axes>"
      ]
     },
     "metadata": {
      "needs_background": "light"
     },
     "output_type": "display_data"
    }
   ],
   "source": [
    "# figure 1\n",
    "\n",
    "# unlike MATLAB i:j:k syntax, arange is not inclusive at the high end\n",
    "xx = np.arange(0.01, 0.601, 0.001)\n",
    "a = 4\n",
    "b = 29\n",
    "\n",
    "# curve\n",
    "plt.plot(xx, gamma_pdf(xx, a, b))\n",
    "\n",
    "# additional markings\n",
    "plt.plot(xx, np.full_like(xx, 0.857), \"r-\")\n",
    "plt.plot(0.0246, gamma_pdf(0.0246, a, b), \"o\")\n",
    "plt.plot(0.0246, 0, \"ro\")\n",
    "plt.plot(0.2741, gamma_pdf(0.2741, a, b), \"o\")\n",
    "plt.plot(0.2741, 0, \"ro\")\n",
    "plt.plot([0.0246, 0.2741], [0, 0], \"r-\", linewidth=4)\n",
    "plt.show()"
   ]
  },
  {
   "cell_type": "code",
   "execution_count": 4,
   "id": "8b6041ee-4bd5-4de3-a74a-c841fa5a5c89",
   "metadata": {},
   "outputs": [
    {
     "name": "stdout",
     "output_type": "stream",
     "text": [
      "HPD credible set: [0.024568994513107345 0.27407917790064784]\n",
      "Probability within hpd bounds: 0.9500000000000202\n",
      "length of hpd cs: 0.2495101833875405\n"
     ]
    }
   ],
   "source": [
    "# hpd credible set\n",
    "\n",
    "k = 0.857368863848\n",
    "\n",
    "lower_hpd = fsolve(lambda x: gamma_pdf(x, a, b) - k, 0.05)[0]\n",
    "upper_hpd = fsolve(lambda x: gamma_pdf(x, a, b) - k, 0.4)[0]\n",
    "print(f\"HPD credible set: [{lower_hpd} {upper_hpd}]\")\n",
    "\n",
    "prob_hpd = gamma.cdf(upper_hpd, a, scale=1 / b) - gamma.cdf(lower_hpd, a, scale=1 / b)\n",
    "print(f\"Probability within hpd bounds: {prob_hpd}\")\n",
    "print(f\"length of hpd cs: {upper_hpd - lower_hpd}\")\n"
   ]
  },
  {
   "cell_type": "code",
   "execution_count": 5,
   "id": "b5282ccf-dc57-4b8a-a819-e9c608fea45c",
   "metadata": {},
   "outputs": [
    {
     "name": "stdout",
     "output_type": "stream",
     "text": [
      "Equitailed credible set: [0.037581564607804305 0.3023197610255974]\n",
      "Probability within eqt bounds: 0.95\n",
      "length of eqt cs: 0.26473819641779306\n"
     ]
    }
   ],
   "source": [
    "# equi-tailed credible set\n",
    "\n",
    "# percent point function aka quantile aka inverse cdf\n",
    "lower_eqt = gamma.ppf(0.025, a, scale=1 / b)\n",
    "upper_eqt = gamma.ppf(0.975, a, scale=1 / b)\n",
    "print(f\"Equitailed credible set: [{lower_eqt} {upper_eqt}]\")\n",
    "\n",
    "prob_eqt = gamma.cdf(upper_eqt, a, scale=1 / b) - gamma.cdf(lower_eqt, a, scale=1 / b)\n",
    "print(f\"Probability within eqt bounds: {prob_eqt}\")\n",
    "print(f\"length of eqt cs: {upper_eqt - lower_eqt}\")\n"
   ]
  },
  {
   "cell_type": "code",
   "execution_count": 6,
   "id": "f52f9b89-de70-4a21-a87e-3840fdc25457",
   "metadata": {},
   "outputs": [
    {
     "data": {
      "image/png": "[encoded data removed]",
      "text/plain": [
       "<Figure size 432x288 with 1 Axes>"
      ]
     },
     "metadata": {
      "needs_background": "light"
     },
     "output_type": "display_data"
    }
   ],
   "source": [
    "# figure 2\n",
    "\n",
    "# curve\n",
    "plt.plot(xx, gamma_pdf(xx, a, b), \"k-\", linewidth=2)\n",
    "\n",
    "plt.plot(lower_eqt, gamma_pdf(lower_eqt, a, b), \"o\")\n",
    "plt.plot(lower_eqt, 0, \"ro\")\n",
    "plt.plot(upper_eqt, gamma_pdf(upper_eqt, a, b), \"o\")\n",
    "plt.plot(upper_eqt, 0, \"ro\")\n",
    "plt.plot([lower_eqt, upper_eqt], [0, 0], \"r-\", linewidth=4)\n",
    "plt.plot(\n",
    "    [lower_eqt, upper_eqt],\n",
    "    [gamma_pdf(lower_eqt, a, b), gamma_pdf(upper_eqt, a, b)],\n",
    "    \"k-\",\n",
    "    linewidth=1,\n",
    ")\n",
    "plt.show()"
   ]
  },
  {
   "cell_type": "markdown",
   "id": "c6cc2b28-6a0d-456d-9828-78e0cfa96659",
   "metadata": {},
   "source": [
    "Right now I want to get through these examples so Spring 2022 students can get some use out of them. Later on, I think this example could use a lot more explanation and expansion."
   ]
  },
  {
   "cell_type": "markdown",
   "id": "a5c86aeb-392a-437f-be91-7b11ec2e1922",
   "metadata": {},
   "source": [
    "## Find the HPD credible interval when you don't know k\n",
    "\n",
    "A student in the Spring 2022 class was wondering where the .05 and .4 values entered to ```fsolve()``` came from. They're just your guesses for the lower and upper bounds of the credible interval. They give the optimizer a starting point.\n",
    "\n",
    "That led to the bigger question of where $k$ came from. What you need to find is the output of $k(α)$, which is a horizontal line that intersects the posterior PDF at the lower and upper bounds of your HPD credible interval. The reason we want a horizontal line is that this ensures that you've got the shortest interval covering credibility $1 - α$ (we usually choose a credibility of .95 in this course, but that's arbitrary).\n",
    "\n",
    "I don't know how the professor did it originally, but here are two methods to estimate the HPD interval. Both assume that the posterior is unimodal, but could be extended to account for multimodal cases.\n",
    "\n",
    "### Optimization method\n",
    "First, an optimization method, pretty much just trying lots of values for $k$ (guessing Professor Vidakovic did it this way):\n",
    "\n",
    "1. Loop over a bunch of possible k values, each time using an equation like fzero() on the pdf of your posterior minus k. This will solve for the location that your pdf intersects with k. You need to feed the optimizer an initial guess, one lower, near the lower bound of the credible interval, and one higher, near the upper bound.\n",
    "\n",
    "2. Enter each bound into the posterior CDF, subtract the results to get the probability the posterior falls within those bounds. If it's close enough to 1 - α, you can stop the loop because you have your answer. If not, the loop continues."
   ]
  },
  {
   "cell_type": "code",
   "execution_count": 7,
   "id": "2549e7a7-b55d-4f95-97a9-ed58d930306a",
   "metadata": {},
   "outputs": [
    {
     "data": {
      "application/vnd.jupyter.widget-view+json": {
       "model_id": "a703f9c6e22d4a90badb72de3493c522",
       "version_major": 2,
       "version_minor": 0
      },
      "text/plain": [
       "  0%|          | 0/20000 [00:00<?, ?it/s]"
      ]
     },
     "metadata": {},
     "output_type": "display_data"
    },
    {
     "name": "stderr",
     "output_type": "stream",
     "text": [
      "/Users/aaron/mambaforge/envs/pymc3_test/lib/python3.9/site-packages/scipy/optimize/minpack.py:175: RuntimeWarning: The number of calls to function has reached maxfev = 400.\n",
      "  warnings.warn(msg, RuntimeWarning)\n"
     ]
    },
    {
     "name": "stdout",
     "output_type": "stream",
     "text": [
      "k=0.855942797139857\n",
      "HPD credible set: (0.02455112335043536, 0.2741713733854568)\n",
      "length = 0.24962025003502142\n",
      "probability within these bounds: 0.950094289217813\n"
     ]
    }
   ],
   "source": [
    "# Finding the HPD credible set\n",
    "\n",
    "# our pdf is Gamma(4, 1/29) where 29 is the rate.\n",
    "# looking at the plot, k must be between 0-2\n",
    "\n",
    "a = 4\n",
    "b = 29\n",
    "alpha = 0.05\n",
    "tolerance = 0.0001\n",
    "iterations = 20000\n",
    "\n",
    "# initial guesses\n",
    "guess_lwr = 0.05\n",
    "guess_upr = 0.4\n",
    "possible_k = np.linspace(0, 2, iterations)\n",
    "\n",
    "# if loop finishes without printing anthing, no solution within given tolerance\n",
    "# solution: adjust tolerance, initial guesses, range of possible_k\n",
    "for k in tqdm(possible_k):\n",
    "    lower = fsolve(lambda x: gamma.pdf(x, a, scale=1 / b) - k, guess_lwr)[0]\n",
    "    upper = fsolve(lambda x: gamma.pdf(x, a, scale=1 / b) - k, guess_upr)[0]\n",
    "    prob = gamma.cdf(upper, a, scale=1 / b) - gamma.cdf(lower, a, scale=1 / b)\n",
    "    if abs(prob - (1 - alpha)) <= tolerance:\n",
    "        print(f\"{k=}\")\n",
    "        print(f\"HPD credible set: {lower, upper}\")\n",
    "        print(f\"length = {upper - lower}\")\n",
    "        print(f\"probability within these bounds: {prob}\")\n",
    "        break\n"
   ]
  },
  {
   "cell_type": "markdown",
   "id": "a1025b57-8631-4d38-a44f-1661e53e6c2a",
   "metadata": {},
   "source": [
    "This method is really finicky, you might find yourself needing to adjust the tolerance and initial guesses quite a bit. It helps to base your guesses off visual inspection of a plot of the posterior.\n",
    "\n",
    "### Sampling method\n",
    "\n",
    "There's another way that I find simpler, which involves sampling lots of values from the posterior. This is also the way it's generally done in practice (see the source code for hpd or hdi functions in many Bayesian libraries like [Arviz](https://arviz-devs.github.io/arviz/_modules/arviz/stats/stats.html#hdi) or [MCMCChains.jl](https://github.com/TuringLang/MCMCChains.jl/blob/master/src/stats.jl)). This method is simplified - it won't work for as many different cases as the ones in those packages, but it's easier to understand.\n",
    "\n",
    "1. Draw some samples from your posterior.\n",
    "2. Sort them from smallest to largest.\n",
    "3. Compute the possible credible intervals \n",
    "\n",
    "See [Chen and Shao, 1999](https://www.jstor.org/stable/1390921) for the math."
   ]
  },
  {
   "cell_type": "code",
   "execution_count": 8,
   "id": "87ff1304-9a34-4eaf-bbee-49c480c327f4",
   "metadata": {},
   "outputs": [
    {
     "name": "stdout",
     "output_type": "stream",
     "text": [
      "HPD credible set: (0.02452192943787325, 0.27414937182449606)\n",
      "length = 0.24962744238662282\n",
      "probability within these bounds: 0.9501004077382441\n"
     ]
    }
   ],
   "source": [
    "def calc_hdi(samples: np.ndarray, alpha: float = 0.05) -> tuple:\n",
    "    \"\"\"\n",
    "    Calculate minimum-width credible interval (HPD credible set)\n",
    "\n",
    "    samples: samples from posterior\n",
    "    alpha: credibility of the interval = 1 - alpha\n",
    "\n",
    "    returns tuple of the lower and upper bounds of the interval\n",
    "    \"\"\"\n",
    "    n = len(samples)\n",
    "    x = np.sort(samples)\n",
    "\n",
    "    lower_idx = int(np.floor(alpha * n))\n",
    "    x_left = x[:lower_idx]\n",
    "    x_right = x[n - lower_idx:]\n",
    "\n",
    "    idx = np.argmin(x_right - x_left)\n",
    "\n",
    "    upper_bound = x_right[idx]\n",
    "    lower_bound = x_left[idx]\n",
    "\n",
    "    return lower_bound, upper_bound\n",
    "\n",
    "a = 4\n",
    "b = 29\n",
    "\n",
    "samples = gamma.rvs(a, scale=1 / b, size=1000000)\n",
    "lower, upper = calc_hdi(samples, alpha=0.05)\n",
    "# double-check credibility\n",
    "prob = gamma.cdf(upper, a, scale=1 / b) - gamma.cdf(lower, a, scale=1 / b)\n",
    "\n",
    "print(f\"HPD credible set: {lower, upper}\")\n",
    "print(f\"length = {upper - lower}\")\n",
    "print(f\"probability within these bounds: {prob}\")"
   ]
  }
 ],
 "metadata": {
  "kernelspec": {
   "display_name": "Python 3 (ipykernel)",
   "language": "python",
   "name": "python3"
  },
  "language_info": {
   "codemirror_mode": {
    "name": "ipython",
    "version": 3
   },
   "file_extension": ".py",
   "mimetype": "text/x-python",
   "name": "python",
   "nbconvert_exporter": "python",
   "pygments_lexer": "ipython3",
   "version": "3.9.9"
  }
 },
 "nbformat": 4,
 "nbformat_minor": 5
}
