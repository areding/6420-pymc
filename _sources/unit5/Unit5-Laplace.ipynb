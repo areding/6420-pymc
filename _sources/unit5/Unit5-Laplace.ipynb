{
 "cells": [
  {
   "cell_type": "markdown",
   "id": "2652fbd5-a218-41e0-ad70-d1b4fd972bb8",
   "metadata": {},
   "source": [
    "# 3. Laplace's Method"
   ]
  },
  {
   "cell_type": "code",
   "execution_count": null,
   "id": "4fafea4f-542a-4bc4-9137-9df5756b9992",
   "metadata": {},
   "outputs": [],
   "source": []
  }
 ],
 "metadata": {
  "kernelspec": {
   "display_name": "Python 3 (ipykernel)",
   "language": "python",
   "name": "python3"
  },
  "language_info": {
   "codemirror_mode": {
    "name": "ipython",
    "version": 3
   },
   "file_extension": ".py",
   "mimetype": "text/x-python",
   "name": "python",
   "nbconvert_exporter": "python",
   "pygments_lexer": "ipython3",
   "version": "3.11.0"
  }
 },
 "nbformat": 4,
 "nbformat_minor": 5
}
