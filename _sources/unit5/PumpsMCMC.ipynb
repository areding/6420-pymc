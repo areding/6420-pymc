{
 "cells": [
  {
   "cell_type": "code",
   "execution_count": 1,
   "id": "f032ce87",
   "metadata": {
    "tags": [
     "hide_output"
    ]
   },
   "outputs": [],
   "source": [
    "import matplotlib.pyplot as plt\n",
    "import numpy as np\n",
    "from rich.progress import track\n",
    "import pymc as pm\n",
    "import arviz as az\n",
    "\n",
    "%load_ext lab_black\n",
    "%load_ext watermark"
   ]
  },
  {
   "cell_type": "markdown",
   "id": "dee65651",
   "metadata": {},
   "source": [
    "# Gibbs Sampler Example 2: Pumps\n",
    "\n",
    "Adapted from [Codes for Unit 5: pumpsmc.m and pumpsbugs.odc](https://www2.isye.gatech.edu/isye6420/supporting.html).\n",
    "\n",
    "Associated lecture video: Unit 5 Lesson 13\n",
    "\n",
    "Based on [Conjugate Likelihood Distributions, George, Makov, and Smith, 1993](https://www.jstor.org/stable/4616270) and [Robust Empirical Bayes Analyses of Event Rates, Gaver and O'Muircheartaigh, 1987](https://www.jstor.org/stable/1269878)."
   ]
  },
  {
   "cell_type": "code",
   "execution_count": 2,
   "id": "65fa4efb",
   "metadata": {},
   "outputs": [
    {
     "data": {
      "text/html": [
       "<pre style=\"white-space:pre;overflow-x:auto;line-height:normal;font-family:Menlo,'DejaVu Sans Mono',consolas,'Courier New',monospace\">Working... <span style=\"color: #729c1f; text-decoration-color: #729c1f\">━━━━━━━━━━━━━━━━━━━━━━━━━━━━━━━━━━━━━━━━</span> <span style=\"color: #800080; text-decoration-color: #800080\">100%</span> <span style=\"color: #008080; text-decoration-color: #008080\">0:00:00</span>\n",
       "</pre>\n"
      ],
      "text/plain": [
       "Working... \u001b[38;2;114;156;31m━━━━━━━━━━━━━━━━━━━━━━━━━━━━━━━━━━━━━━━━\u001b[0m \u001b[35m100%\u001b[0m \u001b[36m0:00:00\u001b[0m\n"
      ]
     },
     "metadata": {},
     "output_type": "display_data"
    },
    {
     "data": {
      "text/html": [
       "<pre style=\"white-space:pre;overflow-x:auto;line-height:normal;font-family:Menlo,'DejaVu Sans Mono',consolas,'Courier New',monospace\"></pre>\n"
      ],
      "text/plain": []
     },
     "metadata": {},
     "output_type": "display_data"
    },
    {
     "data": {
      "text/html": [
       "<pre style=\"white-space:pre;overflow-x:auto;line-height:normal;font-family:Menlo,'DejaVu Sans Mono',consolas,'Courier New',monospace\">\n",
       "</pre>\n"
      ],
      "text/plain": [
       "\n"
      ]
     },
     "metadata": {},
     "output_type": "display_data"
    },
    {
     "name": "stdout",
     "output_type": "stream",
     "text": [
      "np.mean(thetas, axis=0)=array([0.06283613, 0.11838764, 0.0934282 , 0.11795504, 0.61044286,\n",
      "       0.61054294, 0.87096223, 0.87103813, 1.48272156, 1.94964544])\n",
      "np.std(thetas)=0.7294065045864947\n",
      "np.mean(betas)=1.3367177163632642\n",
      "np.std(betas)=0.4843747815427844\n"
     ]
    }
   ],
   "source": [
    "rng = np.random.default_rng(1)\n",
    "\n",
    "obs = 100000\n",
    "burn = 1000\n",
    "\n",
    "# data from Gaver and O'Muircheartaigh, 1987\n",
    "X = np.array([5, 1, 5, 14, 3, 19, 1, 1, 4, 22])\n",
    "t = np.array([94.32, 15.52, 62.88, 125.76, 5.24, 31.44, 1.048, 1.048, 2.096, 10.48])\n",
    "n = len(X)\n",
    "\n",
    "# params\n",
    "c = 0.1\n",
    "d = 1\n",
    "\n",
    "# inits\n",
    "theta = np.ones(n)\n",
    "beta = 1\n",
    "\n",
    "thetas = np.zeros((obs, 10))\n",
    "betas = np.zeros(obs)\n",
    "\n",
    "for i in track(range(obs)):\n",
    "    theta = rng.gamma(shape=X + 1, scale=1 / (beta + t), size=n)\n",
    "    sum_theta = np.sum(theta)\n",
    "\n",
    "    beta = rng.gamma(shape=n + c, scale=1 / (sum_theta + d))\n",
    "\n",
    "    thetas[i] = theta\n",
    "    betas[i] = beta\n",
    "\n",
    "thetas = thetas[burn:]\n",
    "betas = betas[burn:]\n",
    "\n",
    "print(f\"{np.mean(thetas, axis=0)=}\")\n",
    "print(f\"{np.std(thetas)=}\")\n",
    "print(f\"{np.mean(betas)=}\")\n",
    "print(f\"{np.std(betas)=}\")"
   ]
  },
  {
   "cell_type": "code",
   "execution_count": 3,
   "id": "5a200fb0",
   "metadata": {},
   "outputs": [
    {
     "data": {
      "text/plain": [
       "array([0.06283613, 0.11838764, 0.0934282 , 0.11795504, 0.61044286,\n",
       "       0.61054294, 0.87096223, 0.87103813, 1.48272156, 1.94964544])"
      ]
     },
     "execution_count": 3,
     "metadata": {},
     "output_type": "execute_result"
    }
   ],
   "source": [
    "np.mean(thetas, axis=0)"
   ]
  },
  {
   "cell_type": "markdown",
   "id": "05dde18a",
   "metadata": {},
   "source": [
    "Now for the PyMC model:"
   ]
  },
  {
   "cell_type": "code",
   "execution_count": 4,
   "id": "ac8b0e30",
   "metadata": {
    "tags": [
     "hide_output"
    ]
   },
   "outputs": [
    {
     "name": "stderr",
     "output_type": "stream",
     "text": [
      "/Users/aaron/mambaforge/envs/pymc_env/lib/python3.10/site-packages/pymc/data.py:667: FutureWarning: The `mutable` kwarg was not specified. Currently it defaults to `pm.Data(mutable=True)`, which is equivalent to using `pm.MutableData()`. In v4.1.0 the default will change to `pm.Data(mutable=False)`, equivalent to `pm.ConstantData`. Set `pm.Data(..., mutable=False/True)`, or use `pm.ConstantData`/`pm.MutableData`.\n",
      "  warnings.warn(\n",
      "Auto-assigning NUTS sampler...\n",
      "Initializing NUTS using jitter+adapt_diag...\n",
      "Multiprocess sampling (4 chains in 4 jobs)\n",
      "NUTS: [beta, theta]\n"
     ]
    },
    {
     "data": {
      "text/html": [
       "\n",
       "<style>\n",
       "    /* Turns off some styling */\n",
       "    progress {\n",
       "        /* gets rid of default border in Firefox and Opera. */\n",
       "        border: none;\n",
       "        /* Needs to be in here for Safari polyfill so background images work as expected. */\n",
       "        background-size: auto;\n",
       "    }\n",
       "    .progress-bar-interrupted, .progress-bar-interrupted::-webkit-progress-bar {\n",
       "        background: #F44336;\n",
       "    }\n",
       "</style>\n"
      ],
      "text/plain": [
       "<IPython.core.display.HTML object>"
      ]
     },
     "metadata": {},
     "output_type": "display_data"
    },
    {
     "data": {
      "text/html": [
       "\n",
       "    <div>\n",
       "      <progress value='22000' class='' max='22000' style='width:300px; height:20px; vertical-align: middle;'></progress>\n",
       "      100.00% [22000/22000 00:02<00:00 Sampling 4 chains, 0 divergences]\n",
       "    </div>\n",
       "    "
      ],
      "text/plain": [
       "<IPython.core.display.HTML object>"
      ]
     },
     "metadata": {},
     "output_type": "display_data"
    },
    {
     "name": "stderr",
     "output_type": "stream",
     "text": [
      "Sampling 4 chains for 500 tune and 5_000 draw iterations (2_000 + 20_000 draws total) took 14 seconds.\n"
     ]
    }
   ],
   "source": [
    "with pm.Model() as m:\n",
    "    times = pm.Data(\"times\", t)\n",
    "    data = pm.Data(\"data\", X)\n",
    "\n",
    "    beta = pm.Gamma(\"beta\", alpha=c, beta=d)\n",
    "    theta = pm.Gamma(\"theta\", alpha=d, beta=beta, shape=n)\n",
    "    rate = pm.Deterministic(\"rate\", theta * times)\n",
    "\n",
    "    likelihood = pm.Poisson(\"likelihood\", mu=rate, observed=data)\n",
    "\n",
    "    # start sampling\n",
    "    trace = pm.sample(\n",
    "        5000,\n",
    "        chains=4,\n",
    "        tune=500,\n",
    "        init=\"jitter+adapt_diag\",\n",
    "        random_seed=1,\n",
    "        cores=4,\n",
    "        return_inferencedata=True,\n",
    "    )"
   ]
  },
  {
   "cell_type": "code",
   "execution_count": 5,
   "id": "3fbca36f",
   "metadata": {},
   "outputs": [
    {
     "data": {
      "text/html": [
       "<div>\n",
       "<style scoped>\n",
       "    .dataframe tbody tr th:only-of-type {\n",
       "        vertical-align: middle;\n",
       "    }\n",
       "\n",
       "    .dataframe tbody tr th {\n",
       "        vertical-align: top;\n",
       "    }\n",
       "\n",
       "    .dataframe thead th {\n",
       "        text-align: right;\n",
       "    }\n",
       "</style>\n",
       "<table border=\"1\" class=\"dataframe\">\n",
       "  <thead>\n",
       "    <tr style=\"text-align: right;\">\n",
       "      <th></th>\n",
       "      <th>mean</th>\n",
       "      <th>sd</th>\n",
       "      <th>hdi_3%</th>\n",
       "      <th>hdi_97%</th>\n",
       "      <th>mcse_mean</th>\n",
       "      <th>mcse_sd</th>\n",
       "      <th>ess_bulk</th>\n",
       "      <th>ess_tail</th>\n",
       "      <th>r_hat</th>\n",
       "    </tr>\n",
       "  </thead>\n",
       "  <tbody>\n",
       "    <tr>\n",
       "      <th>beta</th>\n",
       "      <td>1.337</td>\n",
       "      <td>0.490</td>\n",
       "      <td>0.521</td>\n",
       "      <td>2.266</td>\n",
       "      <td>0.003</td>\n",
       "      <td>0.002</td>\n",
       "      <td>23569.0</td>\n",
       "      <td>15438.0</td>\n",
       "      <td>1.0</td>\n",
       "    </tr>\n",
       "    <tr>\n",
       "      <th>theta[0]</th>\n",
       "      <td>0.063</td>\n",
       "      <td>0.025</td>\n",
       "      <td>0.022</td>\n",
       "      <td>0.111</td>\n",
       "      <td>0.000</td>\n",
       "      <td>0.000</td>\n",
       "      <td>27787.0</td>\n",
       "      <td>14014.0</td>\n",
       "      <td>1.0</td>\n",
       "    </tr>\n",
       "    <tr>\n",
       "      <th>theta[1]</th>\n",
       "      <td>0.119</td>\n",
       "      <td>0.084</td>\n",
       "      <td>0.006</td>\n",
       "      <td>0.273</td>\n",
       "      <td>0.001</td>\n",
       "      <td>0.000</td>\n",
       "      <td>21786.0</td>\n",
       "      <td>11756.0</td>\n",
       "      <td>1.0</td>\n",
       "    </tr>\n",
       "    <tr>\n",
       "      <th>theta[2]</th>\n",
       "      <td>0.094</td>\n",
       "      <td>0.038</td>\n",
       "      <td>0.029</td>\n",
       "      <td>0.163</td>\n",
       "      <td>0.000</td>\n",
       "      <td>0.000</td>\n",
       "      <td>28022.0</td>\n",
       "      <td>14320.0</td>\n",
       "      <td>1.0</td>\n",
       "    </tr>\n",
       "    <tr>\n",
       "      <th>theta[3]</th>\n",
       "      <td>0.118</td>\n",
       "      <td>0.030</td>\n",
       "      <td>0.064</td>\n",
       "      <td>0.174</td>\n",
       "      <td>0.000</td>\n",
       "      <td>0.000</td>\n",
       "      <td>27760.0</td>\n",
       "      <td>14196.0</td>\n",
       "      <td>1.0</td>\n",
       "    </tr>\n",
       "    <tr>\n",
       "      <th>theta[4]</th>\n",
       "      <td>0.615</td>\n",
       "      <td>0.311</td>\n",
       "      <td>0.111</td>\n",
       "      <td>1.180</td>\n",
       "      <td>0.002</td>\n",
       "      <td>0.001</td>\n",
       "      <td>26527.0</td>\n",
       "      <td>12693.0</td>\n",
       "      <td>1.0</td>\n",
       "    </tr>\n",
       "    <tr>\n",
       "      <th>theta[5]</th>\n",
       "      <td>0.610</td>\n",
       "      <td>0.136</td>\n",
       "      <td>0.358</td>\n",
       "      <td>0.861</td>\n",
       "      <td>0.001</td>\n",
       "      <td>0.001</td>\n",
       "      <td>27570.0</td>\n",
       "      <td>13759.0</td>\n",
       "      <td>1.0</td>\n",
       "    </tr>\n",
       "    <tr>\n",
       "      <th>theta[6]</th>\n",
       "      <td>0.871</td>\n",
       "      <td>0.643</td>\n",
       "      <td>0.016</td>\n",
       "      <td>2.013</td>\n",
       "      <td>0.004</td>\n",
       "      <td>0.003</td>\n",
       "      <td>22155.0</td>\n",
       "      <td>12667.0</td>\n",
       "      <td>1.0</td>\n",
       "    </tr>\n",
       "    <tr>\n",
       "      <th>theta[7]</th>\n",
       "      <td>0.875</td>\n",
       "      <td>0.656</td>\n",
       "      <td>0.028</td>\n",
       "      <td>2.070</td>\n",
       "      <td>0.004</td>\n",
       "      <td>0.003</td>\n",
       "      <td>22724.0</td>\n",
       "      <td>13098.0</td>\n",
       "      <td>1.0</td>\n",
       "    </tr>\n",
       "    <tr>\n",
       "      <th>theta[8]</th>\n",
       "      <td>1.487</td>\n",
       "      <td>0.700</td>\n",
       "      <td>0.381</td>\n",
       "      <td>2.802</td>\n",
       "      <td>0.004</td>\n",
       "      <td>0.003</td>\n",
       "      <td>24901.0</td>\n",
       "      <td>14634.0</td>\n",
       "      <td>1.0</td>\n",
       "    </tr>\n",
       "    <tr>\n",
       "      <th>theta[9]</th>\n",
       "      <td>1.951</td>\n",
       "      <td>0.416</td>\n",
       "      <td>1.183</td>\n",
       "      <td>2.731</td>\n",
       "      <td>0.003</td>\n",
       "      <td>0.002</td>\n",
       "      <td>25762.0</td>\n",
       "      <td>13167.0</td>\n",
       "      <td>1.0</td>\n",
       "    </tr>\n",
       "  </tbody>\n",
       "</table>\n",
       "</div>"
      ],
      "text/plain": [
       "           mean     sd  hdi_3%  hdi_97%  mcse_mean  mcse_sd  ess_bulk  \\\n",
       "beta      1.337  0.490   0.521    2.266      0.003    0.002   23569.0   \n",
       "theta[0]  0.063  0.025   0.022    0.111      0.000    0.000   27787.0   \n",
       "theta[1]  0.119  0.084   0.006    0.273      0.001    0.000   21786.0   \n",
       "theta[2]  0.094  0.038   0.029    0.163      0.000    0.000   28022.0   \n",
       "theta[3]  0.118  0.030   0.064    0.174      0.000    0.000   27760.0   \n",
       "theta[4]  0.615  0.311   0.111    1.180      0.002    0.001   26527.0   \n",
       "theta[5]  0.610  0.136   0.358    0.861      0.001    0.001   27570.0   \n",
       "theta[6]  0.871  0.643   0.016    2.013      0.004    0.003   22155.0   \n",
       "theta[7]  0.875  0.656   0.028    2.070      0.004    0.003   22724.0   \n",
       "theta[8]  1.487  0.700   0.381    2.802      0.004    0.003   24901.0   \n",
       "theta[9]  1.951  0.416   1.183    2.731      0.003    0.002   25762.0   \n",
       "\n",
       "          ess_tail  r_hat  \n",
       "beta       15438.0    1.0  \n",
       "theta[0]   14014.0    1.0  \n",
       "theta[1]   11756.0    1.0  \n",
       "theta[2]   14320.0    1.0  \n",
       "theta[3]   14196.0    1.0  \n",
       "theta[4]   12693.0    1.0  \n",
       "theta[5]   13759.0    1.0  \n",
       "theta[6]   12667.0    1.0  \n",
       "theta[7]   13098.0    1.0  \n",
       "theta[8]   14634.0    1.0  \n",
       "theta[9]   13167.0    1.0  "
      ]
     },
     "execution_count": 5,
     "metadata": {},
     "output_type": "execute_result"
    }
   ],
   "source": [
    "az.summary(trace, var_names=[\"~rate\"])"
   ]
  },
  {
   "cell_type": "markdown",
   "id": "c4c85846",
   "metadata": {},
   "source": [
    "Compare to BUGS results:\n",
    "\n",
    "|           | mean    | sd      | MC_error | val2.5pc | median  | val97.5pc | start | sample |\n",
    "|-----------|---------|---------|----------|----------|---------|-----------|-------|--------|\n",
    "| beta      | 1.34    | 0.486   | 0.002973 | 0.5896   | 1.271   | 2.466     | 1001  | 50000  |\n",
    "| theta[1]  | 0.06261 | 0.02552 | 1.11E-04 | 0.02334  | 0.05914 | 0.1217    | 1001  | 50000  |\n",
    "| theta[2]  | 0.118   | 0.08349 | 3.69E-04 | 0.01431  | 0.09888 | 0.3296    | 1001  | 50000  |\n",
    "| theta[3]  | 0.09366 | 0.03829 | 1.71E-04 | 0.03439  | 0.08842 | 0.1828    | 1001  | 50000  |\n",
    "| theta[4]  | 0.1178  | 0.03048 | 1.47E-04 | 0.06595  | 0.115   | 0.1848    | 1001  | 50000  |\n",
    "| theta[5]  | 0.6116  | 0.3097  | 0.001409 | 0.1632   | 0.5589  | 1.361     | 1001  | 50000  |\n",
    "| theta[6]  | 0.6104  | 0.1366  | 6.45E-04 | 0.3705   | 0.6001  | 0.9058    | 1001  | 50000  |\n",
    "| theta[7]  | 0.8686  | 0.6494  | 0.003059 | 0.101    | 0.7124  | 2.537     | 1001  | 50000  |\n",
    "| theta[8]  | 0.8692  | 0.6481  | 0.003354 | 0.09784  | 0.7117  | 2.513     | 1001  | 50000  |\n",
    "| theta[9]  | 1.478   | 0.6897  | 0.00351  | 0.4705   | 1.367   | 3.128     | 1001  | 50000  |\n",
    "| theta[10] | 1.944   | 0.4133  | 0.002022 | 1.223    | 1.916   | 2.83      | 1001  | 50000  |"
   ]
  },
  {
   "cell_type": "code",
   "execution_count": 9,
   "id": "3eb5e70f",
   "metadata": {},
   "outputs": [
    {
     "name": "stdout",
     "output_type": "stream",
     "text": [
      "Last updated: Tue Jul 05 2022\n",
      "\n",
      "Python implementation: CPython\n",
      "Python version       : 3.10.5\n",
      "IPython version      : 8.4.0\n",
      "\n",
      "aesara: 2.7.3\n",
      "aeppl : 0.0.31\n",
      "\n",
      "arviz     : 0.12.1\n",
      "matplotlib: 3.5.2\n",
      "numpy     : 1.23.0\n",
      "pymc      : 4.0.1\n",
      "\n"
     ]
    }
   ],
   "source": [
    "%watermark -n -u -v -iv -p aesara,aeppl"
   ]
  },
  {
   "cell_type": "code",
   "execution_count": null,
   "id": "cdd80332",
   "metadata": {},
   "outputs": [],
   "source": []
  }
 ],
 "metadata": {
  "kernelspec": {
   "display_name": "Python 3 (ipykernel)",
   "language": "python",
   "name": "python3"
  },
  "language_info": {
   "codemirror_mode": {
    "name": "ipython",
    "version": 3
   },
   "file_extension": ".py",
   "mimetype": "text/x-python",
   "name": "python",
   "nbconvert_exporter": "python",
   "pygments_lexer": "ipython3",
   "version": "3.10.5"
  }
 },
 "nbformat": 4,
 "nbformat_minor": 5
}
