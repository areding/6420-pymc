{
 "cells": [
  {
   "cell_type": "code",
   "execution_count": 1,
   "id": "f032ce87",
   "metadata": {
    "tags": [
     "hide-output"
    ]
   },
   "outputs": [],
   "source": [
    "import matplotlib.pyplot as plt\n",
    "import numpy as np\n",
    "from tqdm.auto import tqdm\n",
    "import pymc as pm\n",
    "import arviz as az\n",
    "\n",
    "%load_ext lab_black"
   ]
  },
  {
   "cell_type": "markdown",
   "id": "dee65651",
   "metadata": {},
   "source": [
    "# Pumps\n",
    "\n",
    "Adapted from [Unit 5: pumpsmc.m](https://raw.githubusercontent.com/areding/6420-pymc/main/original_examples/Codes4Unit5/pumpsmc.m) and [pumpsbugs.odc](https://raw.githubusercontent.com/areding/6420-pymc/main/original_examples/Codes4Unit5/pumpsbugs.odc).\n",
    "\n",
    "Associated lecture video: Unit 5 lesson 13\n",
    "\n",
    "Based on [Conjugate Likelihood Distributions, George, Makov, and Smith, 1993](https://www.jstor.org/stable/4616270) and [Robust Empirical Bayes Analyses of Event Rates, Gaver and O'Muircheartaigh, 1987](https://www.jstor.org/stable/1269878)."
   ]
  },
  {
   "cell_type": "code",
   "execution_count": 2,
   "id": "65fa4efb",
   "metadata": {},
   "outputs": [
    {
     "data": {
      "application/vnd.jupyter.widget-view+json": {
       "model_id": "8fb998da8ea543bd82b72310d9724e34",
       "version_major": 2,
       "version_minor": 0
      },
      "text/plain": [
       "  0%|          | 0/100000 [00:00<?, ?it/s]"
      ]
     },
     "metadata": {},
     "output_type": "display_data"
    },
    {
     "name": "stdout",
     "output_type": "stream",
     "text": [
      "np.mean(thetas, axis=0)=array([0.06283613, 0.11838764, 0.0934282 , 0.11795504, 0.61044286,\n",
      "       0.61054294, 0.87096223, 0.87103813, 1.48272156, 1.94964544])\n",
      "np.std(thetas)=0.7294065045864946\n",
      "np.mean(betas)=1.3367177163632642\n",
      "np.std(betas)=0.4843747815427844\n"
     ]
    }
   ],
   "source": [
    "rng = np.random.default_rng(1)\n",
    "\n",
    "obs = 100000\n",
    "burn = 1000\n",
    "\n",
    "# data from Gaver and O'Muircheartaigh, 1987\n",
    "X = np.array([5, 1, 5, 14, 3, 19, 1, 1, 4, 22])\n",
    "t = np.array([94.32, 15.52, 62.88, 125.76, 5.24, 31.44, 1.048, 1.048, 2.096, 10.48])\n",
    "n = len(X)\n",
    "\n",
    "# params\n",
    "c = 0.1\n",
    "d = 1\n",
    "\n",
    "# inits\n",
    "theta = np.ones(n)\n",
    "beta = 1\n",
    "\n",
    "thetas = np.zeros((obs, 10))\n",
    "betas = np.zeros(obs)\n",
    "\n",
    "for i in tqdm(range(obs)):\n",
    "    theta = rng.gamma(shape=X + 1, scale=1 / (beta + t), size=n)\n",
    "    sum_theta = np.sum(theta)\n",
    "\n",
    "    beta = rng.gamma(shape=n + c, scale=1 / (sum_theta + d))\n",
    "\n",
    "    thetas[i] = theta\n",
    "    betas[i] = beta\n",
    "\n",
    "thetas = thetas[burn:]\n",
    "betas = betas[burn:]\n",
    "\n",
    "print(f\"{np.mean(thetas, axis=0)=}\")\n",
    "print(f\"{np.std(thetas)=}\")\n",
    "print(f\"{np.mean(betas)=}\")\n",
    "print(f\"{np.std(betas)=}\")"
   ]
  },
  {
   "cell_type": "code",
   "execution_count": 3,
   "id": "5a200fb0",
   "metadata": {},
   "outputs": [
    {
     "data": {
      "text/plain": [
       "array([0.06283613, 0.11838764, 0.0934282 , 0.11795504, 0.61044286,\n",
       "       0.61054294, 0.87096223, 0.87103813, 1.48272156, 1.94964544])"
      ]
     },
     "execution_count": 3,
     "metadata": {},
     "output_type": "execute_result"
    }
   ],
   "source": [
    "np.mean(thetas, axis=0)"
   ]
  },
  {
   "cell_type": "markdown",
   "id": "05dde18a",
   "metadata": {},
   "source": [
    "Now for the PyMC model:"
   ]
  },
  {
   "cell_type": "code",
   "execution_count": 4,
   "id": "ac8b0e30",
   "metadata": {
    "tags": [
     "hide-output"
    ]
   },
   "outputs": [
    {
     "name": "stderr",
     "output_type": "stream",
     "text": [
      "/Users/aaron/mambaforge/envs/pymc_env2/lib/python3.11/site-packages/pymc/data.py:427: UserWarning: The `mutable` kwarg was not specified. Before v4.1.0 it defaulted to `pm.Data(mutable=True)`, which is equivalent to using `pm.MutableData()`. In v4.1.0 the default changed to `pm.Data(mutable=False)`, equivalent to `pm.ConstantData`. Use `pm.ConstantData`/`pm.MutableData` or pass `pm.Data(..., mutable=False/True)` to avoid this warning.\n",
      "  warnings.warn(\n",
      "Auto-assigning NUTS sampler...\n",
      "Initializing NUTS using jitter+adapt_diag...\n",
      "Multiprocess sampling (4 chains in 4 jobs)\n",
      "NUTS: [beta, theta]\n"
     ]
    },
    {
     "name": "stderr",
     "output_type": "stream",
     "text": [
      "Sampling 4 chains for 1_000 tune and 5_000 draw iterations (4_000 + 20_000 draws total) took 3 seconds.\n",
      "Chain <xarray.DataArray 'chain' ()>\n",
      "array(0)\n",
      "Coordinates:\n",
      "    chain    int64 0 reached the maximum tree depth. Increase `max_treedepth`, increase `target_accept` or reparameterize.\n",
      "Chain <xarray.DataArray 'chain' ()>\n",
      "array(1)\n",
      "Coordinates:\n",
      "    chain    int64 1 reached the maximum tree depth. Increase `max_treedepth`, increase `target_accept` or reparameterize.\n",
      "Chain <xarray.DataArray 'chain' ()>\n",
      "array(2)\n",
      "Coordinates:\n",
      "    chain    int64 2 reached the maximum tree depth. Increase `max_treedepth`, increase `target_accept` or reparameterize.\n",
      "Chain <xarray.DataArray 'chain' ()>\n",
      "array(3)\n",
      "Coordinates:\n",
      "    chain    int64 3 reached the maximum tree depth. Increase `max_treedepth`, increase `target_accept` or reparameterize.\n"
     ]
    }
   ],
   "source": [
    "with pm.Model() as m:\n",
    "    times = pm.Data(\"times\", t)\n",
    "    data = pm.Data(\"data\", X)\n",
    "\n",
    "    beta = pm.Gamma(\"beta\", alpha=c, beta=d)\n",
    "    theta = pm.Gamma(\"theta\", alpha=d, beta=beta, shape=n)\n",
    "    rate = pm.Deterministic(\"rate\", theta * times)\n",
    "\n",
    "    likelihood = pm.Poisson(\"likelihood\", mu=rate, observed=data)\n",
    "\n",
    "    # start sampling\n",
    "    trace = pm.sample(5000)"
   ]
  },
  {
   "cell_type": "code",
   "execution_count": 5,
   "id": "3fbca36f",
   "metadata": {},
   "outputs": [
    {
     "data": {
      "text/html": [
       "<div>\n",
       "<style scoped>\n",
       "    .dataframe tbody tr th:only-of-type {\n",
       "        vertical-align: middle;\n",
       "    }\n",
       "\n",
       "    .dataframe tbody tr th {\n",
       "        vertical-align: top;\n",
       "    }\n",
       "\n",
       "    .dataframe thead th {\n",
       "        text-align: right;\n",
       "    }\n",
       "</style>\n",
       "<table border=\"1\" class=\"dataframe\">\n",
       "  <thead>\n",
       "    <tr style=\"text-align: right;\">\n",
       "      <th></th>\n",
       "      <th>mean</th>\n",
       "      <th>sd</th>\n",
       "      <th>hdi_3%</th>\n",
       "      <th>hdi_97%</th>\n",
       "      <th>mcse_mean</th>\n",
       "      <th>mcse_sd</th>\n",
       "      <th>ess_bulk</th>\n",
       "      <th>ess_tail</th>\n",
       "      <th>r_hat</th>\n",
       "    </tr>\n",
       "  </thead>\n",
       "  <tbody>\n",
       "    <tr>\n",
       "      <th>beta</th>\n",
       "      <td>1.337</td>\n",
       "      <td>0.487</td>\n",
       "      <td>0.511</td>\n",
       "      <td>2.235</td>\n",
       "      <td>0.003</td>\n",
       "      <td>0.002</td>\n",
       "      <td>27853.0</td>\n",
       "      <td>17343.0</td>\n",
       "      <td>1.0</td>\n",
       "    </tr>\n",
       "    <tr>\n",
       "      <th>theta[0]</th>\n",
       "      <td>0.063</td>\n",
       "      <td>0.026</td>\n",
       "      <td>0.019</td>\n",
       "      <td>0.111</td>\n",
       "      <td>0.000</td>\n",
       "      <td>0.000</td>\n",
       "      <td>29657.0</td>\n",
       "      <td>14437.0</td>\n",
       "      <td>1.0</td>\n",
       "    </tr>\n",
       "    <tr>\n",
       "      <th>theta[1]</th>\n",
       "      <td>0.118</td>\n",
       "      <td>0.083</td>\n",
       "      <td>0.004</td>\n",
       "      <td>0.269</td>\n",
       "      <td>0.000</td>\n",
       "      <td>0.000</td>\n",
       "      <td>25205.0</td>\n",
       "      <td>12218.0</td>\n",
       "      <td>1.0</td>\n",
       "    </tr>\n",
       "    <tr>\n",
       "      <th>theta[2]</th>\n",
       "      <td>0.094</td>\n",
       "      <td>0.038</td>\n",
       "      <td>0.030</td>\n",
       "      <td>0.164</td>\n",
       "      <td>0.000</td>\n",
       "      <td>0.000</td>\n",
       "      <td>28528.0</td>\n",
       "      <td>13043.0</td>\n",
       "      <td>1.0</td>\n",
       "    </tr>\n",
       "    <tr>\n",
       "      <th>theta[3]</th>\n",
       "      <td>0.118</td>\n",
       "      <td>0.031</td>\n",
       "      <td>0.062</td>\n",
       "      <td>0.175</td>\n",
       "      <td>0.000</td>\n",
       "      <td>0.000</td>\n",
       "      <td>31702.0</td>\n",
       "      <td>14191.0</td>\n",
       "      <td>1.0</td>\n",
       "    </tr>\n",
       "    <tr>\n",
       "      <th>theta[4]</th>\n",
       "      <td>0.609</td>\n",
       "      <td>0.309</td>\n",
       "      <td>0.109</td>\n",
       "      <td>1.173</td>\n",
       "      <td>0.002</td>\n",
       "      <td>0.001</td>\n",
       "      <td>26039.0</td>\n",
       "      <td>12618.0</td>\n",
       "      <td>1.0</td>\n",
       "    </tr>\n",
       "    <tr>\n",
       "      <th>theta[5]</th>\n",
       "      <td>0.611</td>\n",
       "      <td>0.136</td>\n",
       "      <td>0.363</td>\n",
       "      <td>0.870</td>\n",
       "      <td>0.001</td>\n",
       "      <td>0.001</td>\n",
       "      <td>31196.0</td>\n",
       "      <td>14567.0</td>\n",
       "      <td>1.0</td>\n",
       "    </tr>\n",
       "    <tr>\n",
       "      <th>theta[6]</th>\n",
       "      <td>0.871</td>\n",
       "      <td>0.653</td>\n",
       "      <td>0.017</td>\n",
       "      <td>2.031</td>\n",
       "      <td>0.004</td>\n",
       "      <td>0.003</td>\n",
       "      <td>24217.0</td>\n",
       "      <td>13140.0</td>\n",
       "      <td>1.0</td>\n",
       "    </tr>\n",
       "    <tr>\n",
       "      <th>theta[7]</th>\n",
       "      <td>0.869</td>\n",
       "      <td>0.652</td>\n",
       "      <td>0.021</td>\n",
       "      <td>2.058</td>\n",
       "      <td>0.004</td>\n",
       "      <td>0.003</td>\n",
       "      <td>25976.0</td>\n",
       "      <td>13618.0</td>\n",
       "      <td>1.0</td>\n",
       "    </tr>\n",
       "    <tr>\n",
       "      <th>theta[8]</th>\n",
       "      <td>1.482</td>\n",
       "      <td>0.704</td>\n",
       "      <td>0.341</td>\n",
       "      <td>2.770</td>\n",
       "      <td>0.004</td>\n",
       "      <td>0.003</td>\n",
       "      <td>29738.0</td>\n",
       "      <td>13518.0</td>\n",
       "      <td>1.0</td>\n",
       "    </tr>\n",
       "    <tr>\n",
       "      <th>theta[9]</th>\n",
       "      <td>1.951</td>\n",
       "      <td>0.417</td>\n",
       "      <td>1.196</td>\n",
       "      <td>2.722</td>\n",
       "      <td>0.002</td>\n",
       "      <td>0.002</td>\n",
       "      <td>32394.0</td>\n",
       "      <td>14667.0</td>\n",
       "      <td>1.0</td>\n",
       "    </tr>\n",
       "  </tbody>\n",
       "</table>\n",
       "</div>"
      ],
      "text/plain": [
       "           mean     sd  hdi_3%  hdi_97%  mcse_mean  mcse_sd  ess_bulk  \\\n",
       "beta      1.337  0.487   0.511    2.235      0.003    0.002   27853.0   \n",
       "theta[0]  0.063  0.026   0.019    0.111      0.000    0.000   29657.0   \n",
       "theta[1]  0.118  0.083   0.004    0.269      0.000    0.000   25205.0   \n",
       "theta[2]  0.094  0.038   0.030    0.164      0.000    0.000   28528.0   \n",
       "theta[3]  0.118  0.031   0.062    0.175      0.000    0.000   31702.0   \n",
       "theta[4]  0.609  0.309   0.109    1.173      0.002    0.001   26039.0   \n",
       "theta[5]  0.611  0.136   0.363    0.870      0.001    0.001   31196.0   \n",
       "theta[6]  0.871  0.653   0.017    2.031      0.004    0.003   24217.0   \n",
       "theta[7]  0.869  0.652   0.021    2.058      0.004    0.003   25976.0   \n",
       "theta[8]  1.482  0.704   0.341    2.770      0.004    0.003   29738.0   \n",
       "theta[9]  1.951  0.417   1.196    2.722      0.002    0.002   32394.0   \n",
       "\n",
       "          ess_tail  r_hat  \n",
       "beta       17343.0    1.0  \n",
       "theta[0]   14437.0    1.0  \n",
       "theta[1]   12218.0    1.0  \n",
       "theta[2]   13043.0    1.0  \n",
       "theta[3]   14191.0    1.0  \n",
       "theta[4]   12618.0    1.0  \n",
       "theta[5]   14567.0    1.0  \n",
       "theta[6]   13140.0    1.0  \n",
       "theta[7]   13618.0    1.0  \n",
       "theta[8]   13518.0    1.0  \n",
       "theta[9]   14667.0    1.0  "
      ]
     },
     "execution_count": 5,
     "metadata": {},
     "output_type": "execute_result"
    }
   ],
   "source": [
    "az.summary(trace, var_names=[\"~rate\"])"
   ]
  },
  {
   "cell_type": "markdown",
   "id": "c4c85846",
   "metadata": {},
   "source": [
    "Compare to BUGS results:\n",
    "\n",
    "|           | mean    | sd      | MC_error | val2.5pc | median  | val97.5pc | start | sample |\n",
    "|-----------|---------|---------|----------|----------|---------|-----------|-------|--------|\n",
    "| beta      | 1.34    | 0.486   | 0.002973 | 0.5896   | 1.271   | 2.466     | 1001  | 50000  |\n",
    "| theta[1]  | 0.06261 | 0.02552 | 1.11E-04 | 0.02334  | 0.05914 | 0.1217    | 1001  | 50000  |\n",
    "| theta[2]  | 0.118   | 0.08349 | 3.69E-04 | 0.01431  | 0.09888 | 0.3296    | 1001  | 50000  |\n",
    "| theta[3]  | 0.09366 | 0.03829 | 1.71E-04 | 0.03439  | 0.08842 | 0.1828    | 1001  | 50000  |\n",
    "| theta[4]  | 0.1178  | 0.03048 | 1.47E-04 | 0.06595  | 0.115   | 0.1848    | 1001  | 50000  |\n",
    "| theta[5]  | 0.6116  | 0.3097  | 0.001409 | 0.1632   | 0.5589  | 1.361     | 1001  | 50000  |\n",
    "| theta[6]  | 0.6104  | 0.1366  | 6.45E-04 | 0.3705   | 0.6001  | 0.9058    | 1001  | 50000  |\n",
    "| theta[7]  | 0.8686  | 0.6494  | 0.003059 | 0.101    | 0.7124  | 2.537     | 1001  | 50000  |\n",
    "| theta[8]  | 0.8692  | 0.6481  | 0.003354 | 0.09784  | 0.7117  | 2.513     | 1001  | 50000  |\n",
    "| theta[9]  | 1.478   | 0.6897  | 0.00351  | 0.4705   | 1.367   | 3.128     | 1001  | 50000  |\n",
    "| theta[10] | 1.944   | 0.4133  | 0.002022 | 1.223    | 1.916   | 2.83      | 1001  | 50000  |"
   ]
  },
  {
   "cell_type": "code",
   "execution_count": 6,
   "id": "3eb5e70f",
   "metadata": {},
   "outputs": [
    {
     "name": "stdout",
     "output_type": "stream",
     "text": [
      "Last updated: Sat Mar 18 2023\n",
      "\n",
      "Python implementation: CPython\n",
      "Python version       : 3.11.0\n",
      "IPython version      : 8.9.0\n",
      "\n",
      "pytensor: 2.10.1\n",
      "\n",
      "numpy     : 1.24.2\n",
      "matplotlib: 3.6.3\n",
      "arviz     : 0.14.0\n",
      "pymc      : 5.1.1\n",
      "\n"
     ]
    }
   ],
   "source": [
    "%load_ext watermark\n",
    "%watermark -n -u -v -iv -p pytensor"
   ]
  },
  {
   "cell_type": "code",
   "execution_count": null,
   "id": "cdd80332",
   "metadata": {},
   "outputs": [],
   "source": []
  }
 ],
 "metadata": {
  "kernelspec": {
   "display_name": "Python 3 (ipykernel)",
   "language": "python",
   "name": "python3"
  },
  "language_info": {
   "codemirror_mode": {
    "name": "ipython",
    "version": 3
   },
   "file_extension": ".py",
   "mimetype": "text/x-python",
   "name": "python",
   "nbconvert_exporter": "python",
   "pygments_lexer": "ipython3",
   "version": "3.11.0"
  }
 },
 "nbformat": 4,
 "nbformat_minor": 5
}
