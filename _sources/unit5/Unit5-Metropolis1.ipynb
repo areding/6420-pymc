{
 "cells": [
  {
   "cell_type": "code",
   "execution_count": 2,
   "id": "5b70821e",
   "metadata": {
    "editable": true,
    "slideshow": {
     "slide_type": ""
    },
    "tags": []
   },
   "outputs": [],
   "source": [
    "import matplotlib.pyplot as plt\n",
    "import numpy as np\n",
    "from tqdm.auto import tqdm\n",
    "\n",
    "%load_ext lab_black\n",
    "%load_ext watermark"
   ]
  },
  {
   "cell_type": "markdown",
   "id": "3bd20c74",
   "metadata": {},
   "source": [
    "# 7. Metropolis: Normal-Cauchy*\n",
    "\n",
    "Adapted from [Unit 5: norcaumet.m](https://raw.githubusercontent.com/areding/6420-pymc/main/original_examples/Codes4Unit5/norcaumet.m)."
   ]
  },
  {
   "cell_type": "markdown",
   "id": "d3d24410",
   "metadata": {},
   "source": [
    "For this example:\n",
    "\n",
    "$$\n",
    "\\begin{align}\n",
    "X \\mid \\theta &\\sim N(\\theta, 1) \\\\\n",
    "\\theta &\\sim \\text{{Cauchy}}(0, 1)\n",
    "\\end{align}\n",
    "$$"
   ]
  },
  {
   "cell_type": "markdown",
   "id": "0c506214-587b-4737-afff-74f86ae4dc2f",
   "metadata": {},
   "source": [
    "## Original method\n",
    "\n",
    "The professor chooses a N(x_j, 1) proposal. This is an independent proposal, plus it simplifies the acceptance ratio quite a bit. Here's how we get the ratio:\n",
    "\n",
    "$$\n",
    "\\begin{align}\n",
    "\\pi(\\theta\\mid X) &\\propto f(x|\\theta)\\pi(\\theta) \\\\\n",
    "&\\propto \\frac{e^{-\\frac{(x - \\theta)^2}{2}}}{1+\\theta^2}\n",
    "\\end{align}\n",
    "$$"
   ]
  },
  {
   "cell_type": "markdown",
   "id": "ee4b2d5b-7a6c-4c20-ab25-ad63446cf68d",
   "metadata": {},
   "source": [
    "$$\n",
    "\\begin{align}\n",
    "\\rho &= \\frac{\\pi(\\theta')q(\\theta\\mid\\theta')}{\\pi(\\theta)q(\\theta'\\mid\\theta)} \\\\\n",
    "&= \\frac{\\frac{e^{-\\frac{(x - \\theta')^2}{2}}}{1+{\\theta'}^2}e^{-\\frac{(\\theta - x)^2}{2}}}{\\frac{e^{-\\frac{(x - \\theta)^2}{2}}}{1+\\theta^2}e^{-\\frac{(\\theta' - x)^2}{2}}}\n",
    "&= \\frac{1 + \\theta^2}{1 + {\\theta'}^2}\n",
    "\\end{align}\n",
    "$$\n",
    "\n",
    "Skipping some intermediate steps for now, but if you'd like to see them let me know and I'll take some time to add them."
   ]
  },
  {
   "cell_type": "markdown",
   "id": "614f8da5-dd84-4be1-af84-a414352ea265",
   "metadata": {},
   "source": [
    "```{warning}\n",
    "I usually pre-generate arrays of random numbers (see ```theta_prop``` and ```unif``` variables in the below cell) because it's computationally faster. However, that only works when those numbers don't depend on the previous step in the sampling loop!\n",
    "```"
   ]
  },
  {
   "cell_type": "code",
   "execution_count": 9,
   "id": "c5362eba",
   "metadata": {
    "editable": true,
    "slideshow": {
     "slide_type": ""
    },
    "tags": []
   },
   "outputs": [
    {
     "data": {
      "application/vnd.jupyter.widget-view+json": {
       "model_id": "1f34f920bf814db78c0ac8d753764cdc",
       "version_major": 2,
       "version_minor": 0
      },
      "text/plain": [
       "  0%|          | 0/1000000 [00:00<?, ?it/s]"
      ]
     },
     "metadata": {},
     "output_type": "display_data"
    },
    {
     "name": "stdout",
     "output_type": "stream",
     "text": [
      "np.mean(thetas)=1.283\n",
      "np.var(thetas)=0.863\n",
      "np.sum(accepted)/n=0.588\n"
     ]
    },
    {
     "data": {
      "image/png": "[encoded data removed]",
      "text/plain": [
       "<Figure size 640x480 with 1 Axes>"
      ]
     },
     "metadata": {},
     "output_type": "display_data"
    }
   ],
   "source": [
    "rng = np.random.default_rng(1)\n",
    "\n",
    "n = 1000000  # observations\n",
    "burn = 500\n",
    "theta = 1  # init\n",
    "thetas = np.zeros(n)\n",
    "x = 2  # observed\n",
    "\n",
    "accepted = np.zeros(n)\n",
    "\n",
    "# generating necessary randoms as arrays is faster\n",
    "theta_prop = rng.standard_normal(n) + x\n",
    "unif = rng.uniform(size=n)\n",
    "\n",
    "for i in tqdm(range(n)):\n",
    "    r = (1 + theta**2) / (1 + theta_prop[i] ** 2)\n",
    "    rho = min(r, 1)\n",
    "    if unif[i] < rho:\n",
    "        theta = theta_prop[i]\n",
    "        accepted[i] = 1\n",
    "    thetas[i] = theta\n",
    "\n",
    "thetas = thetas[burn:]\n",
    "\n",
    "print(f\"{np.mean(thetas)=:.3f}\")\n",
    "print(f\"{np.var(thetas)=:.3f}\")\n",
    "print(f\"{np.sum(accepted)/n=:.3f}\")\n",
    "\n",
    "fig, ax = plt.subplots()\n",
    "ax.grid(True)\n",
    "plt.hist(thetas, color=\"lightblue\", density=True, bins=50)\n",
    "plt.show()"
   ]
  },
  {
   "cell_type": "markdown",
   "id": "43d928f4-d1ae-4e43-b7a2-620dc88a8f29",
   "metadata": {},
   "source": [
    "## Non-centered proposal\n",
    "\n",
    "Someone asked how we would do this without centering the proposal on the current x value. Here's what that looks like."
   ]
  },
  {
   "cell_type": "code",
   "execution_count": 13,
   "id": "5f1466f7-fd9c-4360-9f96-ebde148388d4",
   "metadata": {},
   "outputs": [
    {
     "data": {
      "application/vnd.jupyter.widget-view+json": {
       "model_id": "8ee3a61fdcc54a1ab7f02477ecf896da",
       "version_major": 2,
       "version_minor": 0
      },
      "text/plain": [
       "  0%|          | 0/1000000 [00:00<?, ?it/s]"
      ]
     },
     "metadata": {},
     "output_type": "display_data"
    },
    {
     "name": "stdout",
     "output_type": "stream",
     "text": [
      "np.mean(thetas)=1.277\n",
      "np.var(thetas)=0.859\n",
      "np.sum(accepted)/n=0.350\n"
     ]
    },
    {
     "data": {
      "image/png": "[encoded data removed]",
      "text/plain": [
       "<Figure size 640x480 with 1 Axes>"
      ]
     },
     "metadata": {},
     "output_type": "display_data"
    }
   ],
   "source": [
    "n = 1000000\n",
    "burn = 500\n",
    "theta = 1\n",
    "thetas = np.zeros(n)\n",
    "x = 2\n",
    "\n",
    "accepted = np.zeros(n)\n",
    "\n",
    "theta_prop = rng.standard_normal(n)\n",
    "unif = rng.uniform(size=n)\n",
    "\n",
    "\n",
    "def q(theta, x):\n",
    "    return np.exp(-0.5 * (x) ** 2)\n",
    "\n",
    "\n",
    "def f(x, theta):\n",
    "    return np.exp(-0.5 * (x - theta) ** 2) / (1 + theta**2)\n",
    "\n",
    "\n",
    "for i in tqdm(range(n)):\n",
    "    r = (f(x, theta_prop[i]) / f(x, theta)) * (q(x, theta)) / q(x, theta_prop[i])\n",
    "    rho = min(r, 1)\n",
    "    if unif[i] < rho:\n",
    "        theta = theta_prop[i]\n",
    "        accepted[i] = 1\n",
    "    thetas[i] = theta\n",
    "\n",
    "thetas = thetas[burn:]\n",
    "\n",
    "print(f\"{np.mean(thetas)=:.3f}\")\n",
    "print(f\"{np.var(thetas)=:.3f}\")\n",
    "print(f\"{np.sum(accepted)/n=:.3f}\")\n",
    "\n",
    "fig, ax = plt.subplots()\n",
    "ax.grid(True)\n",
    "plt.hist(thetas, color=\"lightblue\", density=True, bins=50)\n",
    "plt.show()"
   ]
  },
  {
   "cell_type": "markdown",
   "id": "d128f0a9-5c20-4867-a4e0-63cb946b8ae3",
   "metadata": {
    "editable": true,
    "slideshow": {
     "slide_type": ""
    },
    "tags": []
   },
   "source": [
    "The end results are very close. But the acceptance rate is much lower!"
   ]
  },
  {
   "cell_type": "code",
   "execution_count": 14,
   "id": "09971595",
   "metadata": {},
   "outputs": [
    {
     "name": "stdout",
     "output_type": "stream",
     "text": [
      "Last updated: Fri Aug 04 2023\n",
      "\n",
      "Python implementation: CPython\n",
      "Python version       : 3.11.0\n",
      "IPython version      : 8.9.0\n",
      "\n",
      "numpy     : 1.24.2\n",
      "matplotlib: 3.6.3\n",
      "\n"
     ]
    }
   ],
   "source": [
    "%watermark -n -u -v -iv"
   ]
  },
  {
   "cell_type": "code",
   "execution_count": null,
   "id": "1ecbb9e7-539d-4a48-a1fd-4c36d1a02699",
   "metadata": {
    "editable": true,
    "slideshow": {
     "slide_type": ""
    },
    "tags": []
   },
   "outputs": [],
   "source": []
  }
 ],
 "metadata": {
  "kernelspec": {
   "display_name": "Python 3 (ipykernel)",
   "language": "python",
   "name": "python3"
  },
  "language_info": {
   "codemirror_mode": {
    "name": "ipython",
    "version": 3
   },
   "file_extension": ".py",
   "mimetype": "text/x-python",
   "name": "python",
   "nbconvert_exporter": "python",
   "pygments_lexer": "ipython3",
   "version": "3.11.4"
  }
 },
 "nbformat": 4,
 "nbformat_minor": 5
}
