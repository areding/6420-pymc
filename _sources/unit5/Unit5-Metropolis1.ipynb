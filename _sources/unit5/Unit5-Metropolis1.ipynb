{
 "cells": [
  {
   "cell_type": "code",
   "execution_count": 1,
   "id": "5b70821e",
   "metadata": {},
   "outputs": [],
   "source": [
    "import matplotlib.pyplot as plt\n",
    "import numpy as np\n",
    "from tqdm.auto import tqdm\n",
    "\n",
    "%load_ext lab_black\n",
    "%load_ext watermark"
   ]
  },
  {
   "cell_type": "markdown",
   "id": "3bd20c74",
   "metadata": {},
   "source": [
    "# 7. Metropolis: Normal-Cauchy*\n",
    "\n",
    "Adapted from [Unit 5: norcaumet.m](https://raw.githubusercontent.com/areding/6420-pymc/main/original_examples/Codes4Unit5/norcaumet.m).\n",
    "\n",
    "```{prf:algorithm} Metropolis-Hastings\n",
    ":label: metropolis-hastings\n",
    "\n",
    "**Inputs** Let $f(x)$ be proportional to the target pdf. $x_j$ is the current value and $q(x|x_j)$ is a proposal distribution.\n",
    "\n",
    "**Output** An array of samples representing the target pdf.\n",
    "\n",
    "1. Sample $x_* ∼ q(x|x_j)$.\n",
    "2. Calculate the acceptance probability: \n",
    "$ρ(x_j, x_*) = min\\left\\{1, \\frac{f(x_*)}{f(x_j)}\\frac{q(x_j|x_*)}{q(x_*|x_j)}\\right\\}$\n",
    "3. Update $x_{j+1} = x_*$ with probability $ρ(x_j, x_*)$, otherwise $x_{j+1}$ remains equal to $x_j$.\n",
    "\n",
    "```"
   ]
  },
  {
   "cell_type": "markdown",
   "id": "d3d24410",
   "metadata": {},
   "source": [
    "For this example:\n",
    "\n",
    "$X|\\theta~\\sim{N}(\\theta, 1)$ and $\\theta~\\sim {\\rm Cauchy}(0, 1)$"
   ]
  },
  {
   "cell_type": "markdown",
   "id": "614f8da5-dd84-4be1-af84-a414352ea265",
   "metadata": {},
   "source": [
    "```{note}\n",
    "I often pre-generate arrays of random numbers (see ```theta_prop``` and ```unif``` variables in the below cell) because it's significantly faster. However, that only works when those numbers don't depend on the previous step in the sampling loop!\n",
    "```"
   ]
  },
  {
   "cell_type": "code",
   "execution_count": 2,
   "id": "c5362eba",
   "metadata": {},
   "outputs": [
    {
     "data": {
      "application/vnd.jupyter.widget-view+json": {
       "model_id": "eeca4e87231a48b99cedb0b41771e02c",
       "version_major": 2,
       "version_minor": 0
      },
      "text/plain": [
       "  0%|          | 0/1000000 [00:00<?, ?it/s]"
      ]
     },
     "metadata": {},
     "output_type": "display_data"
    },
    {
     "name": "stdout",
     "output_type": "stream",
     "text": [
      "np.mean(thetas)=1.2827787735229694\n",
      "np.var(thetas)=0.8633580312967621\n",
      "np.sum(accepted)/n=0.587795\n"
     ]
    },
    {
     "data": {
      "image/png": "[encoded data removed]",
      "text/plain": [
       "<Figure size 640x480 with 1 Axes>"
      ]
     },
     "metadata": {},
     "output_type": "display_data"
    }
   ],
   "source": [
    "rng = np.random.default_rng(1)\n",
    "\n",
    "n = 1000000  # observations\n",
    "burn = 500\n",
    "theta = 1  # init\n",
    "thetas = np.zeros(n)\n",
    "x = 2  # observed\n",
    "\n",
    "accepted = np.zeros(n)\n",
    "\n",
    "# generating necessary randoms as arrays is faster\n",
    "theta_prop = rng.standard_normal(n) + x\n",
    "unif = rng.uniform(size=n)\n",
    "\n",
    "for i in tqdm(range(n)):\n",
    "    r = (1 + theta**2) / (1 + theta_prop[i] ** 2)\n",
    "    rho = min(r, 1)\n",
    "    if unif[i] < rho:\n",
    "        theta = theta_prop[i]\n",
    "        accepted[i] = 1\n",
    "    thetas[i] = theta\n",
    "\n",
    "# thetas = thetas[burn:]\n",
    "\n",
    "print(f\"{np.mean(thetas)=}\")\n",
    "print(f\"{np.var(thetas)=}\")\n",
    "print(f\"{np.sum(accepted)/n=}\")\n",
    "\n",
    "plt.hist(thetas, 50)\n",
    "plt.show()"
   ]
  },
  {
   "cell_type": "code",
   "execution_count": 3,
   "id": "5f1466f7-fd9c-4360-9f96-ebde148388d4",
   "metadata": {},
   "outputs": [
    {
     "data": {
      "application/vnd.jupyter.widget-view+json": {
       "model_id": "88465213e4cb4981a98e96ea34a2b9bf",
       "version_major": 2,
       "version_minor": 0
      },
      "text/plain": [
       "  0%|          | 0/1000000 [00:00<?, ?it/s]"
      ]
     },
     "metadata": {},
     "output_type": "display_data"
    },
    {
     "name": "stdout",
     "output_type": "stream",
     "text": [
      "np.mean(thetas)=1.2710534988554747\n",
      "np.var(thetas)=0.8552308319161269\n",
      "np.sum(accepted)/n=0.350872\n"
     ]
    },
    {
     "data": {
      "image/png": "[encoded data removed]",
      "text/plain": [
       "<Figure size 640x480 with 1 Axes>"
      ]
     },
     "metadata": {},
     "output_type": "display_data"
    }
   ],
   "source": [
    "rng = np.random.default_rng(1)\n",
    "\n",
    "n = 1000000\n",
    "burn = 500\n",
    "theta = 1\n",
    "thetas = np.zeros(n)\n",
    "x = 2\n",
    "\n",
    "accepted = np.zeros(n)\n",
    "\n",
    "theta_prop = rng.standard_normal(n)\n",
    "unif = rng.uniform(size=n)\n",
    "\n",
    "\n",
    "def q(theta, x):\n",
    "    return np.exp(-0.5 * (x) ** 2)\n",
    "\n",
    "\n",
    "def f(x, theta):\n",
    "    return np.exp(-0.5 * (x - theta) ** 2) / (1 + theta**2)\n",
    "\n",
    "\n",
    "for i in tqdm(range(n)):\n",
    "    r = (f(x, theta_prop[i]) / f(x, theta)) * (q(x, theta)) / q(x, theta_prop[i])\n",
    "    rho = min(r, 1)\n",
    "    if unif[i] < rho:\n",
    "        theta = theta_prop[i]\n",
    "        accepted[i] = 1\n",
    "    thetas[i] = theta\n",
    "\n",
    "# thetas = thetas[burn:]\n",
    "\n",
    "print(f\"{np.mean(thetas)=}\")\n",
    "print(f\"{np.var(thetas)=}\")\n",
    "print(f\"{np.sum(accepted)/n=}\")\n",
    "\n",
    "plt.hist(thetas, 50)\n",
    "plt.show()"
   ]
  },
  {
   "cell_type": "code",
   "execution_count": 4,
   "id": "09971595",
   "metadata": {},
   "outputs": [
    {
     "name": "stdout",
     "output_type": "stream",
     "text": [
      "Last updated: Sat Mar 18 2023\n",
      "\n",
      "Python implementation: CPython\n",
      "Python version       : 3.11.0\n",
      "IPython version      : 8.9.0\n",
      "\n",
      "numpy     : 1.24.2\n",
      "matplotlib: 3.6.3\n",
      "\n"
     ]
    }
   ],
   "source": [
    "%watermark -n -u -v -iv"
   ]
  }
 ],
 "metadata": {
  "kernelspec": {
   "display_name": "Python 3 (ipykernel)",
   "language": "python",
   "name": "python3"
  },
  "language_info": {
   "codemirror_mode": {
    "name": "ipython",
    "version": 3
   },
   "file_extension": ".py",
   "mimetype": "text/x-python",
   "name": "python",
   "nbconvert_exporter": "python",
   "pygments_lexer": "ipython3",
   "version": "3.11.0"
  }
 },
 "nbformat": 4,
 "nbformat_minor": 5
}
