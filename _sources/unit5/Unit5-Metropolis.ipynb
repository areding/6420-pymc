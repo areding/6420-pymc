{
 "cells": [
  {
   "cell_type": "markdown",
   "id": "944c60d0-68ed-455b-b7e3-72408bbf6400",
   "metadata": {},
   "source": [
    "# 6. Metropolis\n",
    "\n",
    "```{note}\n",
    "This page is a stub. It will be updated over summer 2023 with supplementary lecture notes.\n",
    "```"
   ]
  },
  {
   "cell_type": "code",
   "execution_count": null,
   "id": "49a1d0b2-0a66-402d-ae23-f7a02439ff4b",
   "metadata": {},
   "outputs": [],
   "source": []
  }
 ],
 "metadata": {
  "kernelspec": {
   "display_name": "Python 3 (ipykernel)",
   "language": "python",
   "name": "python3"
  },
  "language_info": {
   "codemirror_mode": {
    "name": "ipython",
    "version": 3
   },
   "file_extension": ".py",
   "mimetype": "text/x-python",
   "name": "python",
   "nbconvert_exporter": "python",
   "pygments_lexer": "ipython3",
   "version": "3.11.0"
  }
 },
 "nbformat": 4,
 "nbformat_minor": 5
}
