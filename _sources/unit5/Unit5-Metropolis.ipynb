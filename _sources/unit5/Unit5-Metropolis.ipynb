{
 "cells": [
  {
   "cell_type": "markdown",
   "id": "944c60d0-68ed-455b-b7e3-72408bbf6400",
   "metadata": {},
   "source": [
    "# 6. Metropolis\n",
    "\n"
   ]
  },
  {
   "cell_type": "markdown",
   "id": "50b127ed-01fe-44a0-9c24-ea66bdf37d54",
   "metadata": {
    "editable": true,
    "slideshow": {
     "slide_type": ""
    },
    "tags": []
   },
   "source": [
    "## Notes\n",
    "\n",
    "Some students have been confused by the professor's notation for this lecture. Here he uses $\\pi$ to mean the target function, which in Bayesian inference, will be a posterior distribution. However, in the examples, he only uses the numerator of Bayes' theorem in the calculation. In other words, he's using something proportional to the target, but not the target itself. That's because the normalizing constant cancels out in the acceptance ratio, so there's no reason to add it.\n",
    "\n",
    "## Metropolis Algorithm\n",
    "Here's the algorithm ({cite:t}```metropolis1953```):\n",
    "\n",
    "```{prf:algorithm} Metropolis\n",
    ":label: metropolis\n",
    "\n",
    "**Inputs** Let $\\pi(x)$ be proportional to the target PDF. $x_j$ is the current value and $q(x|x_j)$ is a symmetric proposal distribution ($q(x|x_j) = q(x_j|x)$).\n",
    "\n",
    "**Output** An array of samples representing the target PDF.\n",
    "\n",
    "1. Choose an initial value $x_0$ from your sample space.\n",
    "2. Sample $x_* ∼ q(x|x_j)$.\n",
    "3. Calculate the acceptance probability: \n",
    "$\\rho(x_j, x_*) = min\\left\\{1, \\frac{\\pi(x_*)}{\\pi(x_j)}\\right\\}$.\n",
    "4. Update $x_{j+1} = x_*$ with probability $\\rho(x_j, x_*)$, otherwise $x_{j+1}$ remains equal to $x_j$.\n",
    "```\n",
    "\n",
    "This is also known as random-walk Metropolis. The proposal distribution is a perturbation of the current location of the chain. It must be symmetrical in this version of the algorithm, which can be considered a specific case of the more general Metropolis-Hastings algorithm. You can control the \"step size\" of the algorithm by reducing the variance of your proposal.\n",
    "\n",
    "The most important step is the acceptance probability. If the acceptance ratio comes out greater than 1, great! We definitely want that new proposed value because it is more likely than the previous value. That's why we take the minimum of 1 and $\\frac{\\pi(x_*)}{\\pi(x_j)}$.\n",
    "\n",
    "If the ratio is less than 1, then we might accept it. We want to accept it based on that probability, so if it's .8 then we will take it 80% of the time, if it's .1 then we'll accept it 10% of the time. This allows the sampler to get unlikely values as well, but keeps it within a representative area of the target distribution."
   ]
  },
  {
   "cell_type": "markdown",
   "id": "efc96255-4798-4a1d-8f4d-d9590da53910",
   "metadata": {
    "editable": true,
    "slideshow": {
     "slide_type": ""
    },
    "tags": []
   },
   "source": [
    "### Metropolis example\n",
    "\n",
    "Let our model be a Gamma-Gamma conjugate model, where:\n",
    "\n",
    "$$\n",
    "\\begin{align*}\n",
    "X_i | \\beta &\\sim \\text{Ga}(v, \\theta) \\\\\n",
    "\\theta &\\sim \\text{Ga}(\\alpha, \\beta)\n",
    "\\end{align*}\n",
    "$$\n",
    "\n",
    "We'll just have a single datapoint, $x=1$, for simplicity. So if we let $v=1$, $\\alpha=1$, $\\beta=1$, our true posterior (see [](content:conjugate_table)) will be $Ga(2, 2)$. We will use that to compare with our Metropolis results. \n",
    "\n",
    "For our target, we have:\n",
    "\n",
    "$$\\pi(\\theta|x) \\propto \\theta^{vn + \\alpha - 1} e^{-\\theta(\\beta + \\sum_{i=1}^{n}X_i)}$$\n",
    "\n",
    "We'll use a $N(0, (.4)^2)$ proposal. Don't worry about the code for now. We'll go over that on the next page."
   ]
  },
  {
   "cell_type": "code",
   "execution_count": 1,
   "id": "a84756b7-fa09-47a7-988a-8ce02622f422",
   "metadata": {
    "editable": true,
    "slideshow": {
     "slide_type": ""
    },
    "tags": [
     "hide-input"
    ]
   },
   "outputs": [
    {
     "data": {
      "text/html": [
       "\n",
       "<div class=\"video-container\">\n",
       "  <video id=\"video\" muted controls>\n",
       "    <source src=\"../_static/videos/MetropolisGamma1000.mp4\" type=\"video/mp4\">\n",
       "  </video>\n",
       "</div>\n",
       "<style>\n",
       "  .video-container {\n",
       "    text-align: center;\n",
       "    width: 100%;\n",
       "    max-width: fit-content;\n",
       "    margin: auto;\n",
       "  }\n",
       "</style>\n",
       "<script>\n",
       "  var video = document.getElementById('video');\n",
       "  video.playbackRate = 0.25;\n",
       "</script>\n"
      ],
      "text/plain": [
       "<IPython.core.display.HTML object>"
      ]
     },
     "metadata": {},
     "output_type": "display_data"
    }
   ],
   "source": [
    "from IPython.display import HTML\n",
    "from pathlib import Path\n",
    "\n",
    "video_path = Path(\"../_static/videos/MetropolisGamma1000.mp4\")\n",
    "\n",
    "html_code = f\"\"\"\n",
    "<div class=\"video-container\">\n",
    "  <video id=\"video\" muted controls>\n",
    "    <source src=\"{video_path}\" type=\"video/mp4\">\n",
    "  </video>\n",
    "</div>\n",
    "<style>\n",
    "  .video-container {{\n",
    "    text-align: center;\n",
    "    width: 100%;\n",
    "    max-width: fit-content;\n",
    "    margin: auto;\n",
    "  }}\n",
    "</style>\n",
    "<script>\n",
    "  var video = document.getElementById('video');\n",
    "  video.playbackRate = 0.25;\n",
    "</script>\n",
    "\"\"\"\n",
    "\n",
    "display(HTML(html_code))"
   ]
  },
  {
   "cell_type": "markdown",
   "id": "55d57711-f9f4-4fef-a7c8-dff5ab9d7861",
   "metadata": {
    "editable": true,
    "slideshow": {
     "slide_type": ""
    },
    "tags": []
   },
   "source": [
    "This visualization shows the first 1,000 draws of the Metropolis algorithm. You can modify and try it out yourself using the files in [this repository](https://github.com/areding/bayesvisualizations). If you generate the animation yourself you can step through it frame-by-frame. I'm working on a little web app to run it but it's not ready yet.\n",
    "\n",
    "The visualization was inspired by this excellent [video](https://www.youtube.com/watch?v=oX2wIGSn4jY) and [this notebook](https://colindcarroll.com/2018/11/24/animated-mcmc-with-matplotlib/) by Colin Carroll. \n",
    "\n",
    "## Metropolis-Hastings\n",
    "\n",
    "For Metropolis-Hastings {cite:t}```hastings1970```, the only change is in the acceptance ratio formula.\n",
    "\n",
    "```{prf:algorithm} Metropolis-Hastings\n",
    ":label: metropolis\n",
    "\n",
    "**Inputs** Let $\\pi(x)$ be proportional to the target PDF. $x_j$ is the current value and $q(x|x_j)$ is a symmetric proposal distribution ($q(x|x_j) = q(x_j|x)$).\n",
    "\n",
    "**Output** An array of samples representing the target PDF.\n",
    "\n",
    "1. Choose an initial value $x_0$ from your sample space.\n",
    "2. Sample $x_* ∼ q(x|x_j)$.\n",
    "3. Calculate the acceptance probability: \n",
    "$\\rho(x_j, x_*) = min\\left\\{1, \\frac{\\pi(x_*)}{\\pi(x_j)}\\frac{q(x_j|x_*)}{q(x_*|x_j)}\\right\\}$.\n",
    "4. Update $x_{j+1} = x_*$ with probability $\\rho(x_j, x_*)$, otherwise $x_{j+1}$ remains equal to $x_j$.\n",
    "```\n",
    "\n",
    "There's another simplified variant that the professor calls \"Independence Metropolis,\" where we select a proposal distribution that doesn't depend on the current state of x. In other words, step 2 becomes $x_* ∼ q(x)$ and $\\rho(x_j, x_*) = min\\left\\{1, \\frac{\\pi(x_*)}{\\pi(x_j)}\\frac{q(x_j)}{q(x_*)}\\right\\}$. We'll look at an example of this in the next lecture."
   ]
  },
  {
   "cell_type": "markdown",
   "id": "90ecac98-427d-4117-8b37-35a6ae6da626",
   "metadata": {
    "editable": true,
    "slideshow": {
     "slide_type": ""
    },
    "tags": []
   },
   "source": [
    "## Other resources\n",
    "\n",
    "- [Markov Chain Monte Carlo Basics](https://betanalpha.github.io/assets/case_studies/markov_chain_monte_carlo_basics.html) by Michael Betancourt.\n",
    "\n",
    "- Statistical Rethinking {cite:t}```mcelreath2020statistical``` Chapter 9 and the [corresponding video](https://www.youtube.com/watch?v=Qqz5AJjyugM&list=PLDcUM9US4XdMROZ57-OIRtIK0aOynbgZN&index=10&t=1s).\n",
    "\n",
    "- [Markov Chain Monte Carlo](https://www.youtube.com/watch?v=yApmR-c_hKU&list=PLvcbYUQ5t0UEkf2NUEo7XSsyVTyeEk3Gq&index=4) by ritvikmath."
   ]
  },
  {
   "cell_type": "code",
   "execution_count": null,
   "id": "03214aa3-f062-4518-a33c-c804da910fc2",
   "metadata": {
    "editable": true,
    "slideshow": {
     "slide_type": ""
    },
    "tags": []
   },
   "outputs": [],
   "source": []
  }
 ],
 "metadata": {
  "kernelspec": {
   "display_name": "Python 3 (ipykernel)",
   "language": "python",
   "name": "python3"
  },
  "language_info": {
   "codemirror_mode": {
    "name": "ipython",
    "version": 3
   },
   "file_extension": ".py",
   "mimetype": "text/x-python",
   "name": "python",
   "nbconvert_exporter": "python",
   "pygments_lexer": "ipython3",
   "version": "3.11.0"
  }
 },
 "nbformat": 4,
 "nbformat_minor": 5
}
