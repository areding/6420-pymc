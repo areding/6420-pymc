{
 "cells": [
  {
   "cell_type": "markdown",
   "id": "c8a5ba12-6f25-49ea-8d8f-d60bd2b21b67",
   "metadata": {
    "editable": true,
    "slideshow": {
     "slide_type": ""
    },
    "tags": []
   },
   "source": [
    "# 8. Metropolis–Hastings: Weibull-Exponential Example\n",
    "\n",
    "In this lecture, Professor Vidakovic goes over an example from {cite:t}```robert2007bayesian``` page 305.\n",
    "\n",
    "## Model\n",
    "\n",
    "$$\n",
    "\\begin{align*}\n",
    "T_i | \\alpha, \\eta &\\sim \\text{Weib}(\\alpha, \\eta) \\\\\n",
    "\\alpha &\\sim \\text{Exp}(1)  \\\\\n",
    "\\eta &\\sim \\text{Ga}(\\beta, \\xi)\n",
    "\\end{align*}\n",
    "$$\n",
    "\n"
   ]
  },
  {
   "cell_type": "markdown",
   "id": "e40fafbc-350c-4b30-addd-410a7544938e",
   "metadata": {},
   "source": [
    "We can write the joint posterior distribution as:\n",
    "\n",
    "$$\n",
    "\\pi(\\alpha, \\eta | T_1,\\ldots,T_n) \\propto \\left( \\prod_{i=1}^{n} \\alpha \\eta t_i^{\\alpha - 1} e^{-\\eta t_i^{\\alpha}} \\right) e^{-\\alpha} \\eta^{\\beta - 1} e^{-\\xi \\eta}\n",
    "$$\n",
    "\n",
    "## Proposal\n",
    "\n",
    "The proposal distribution is:\n",
    "\n",
    "$$q(\\alpha',\\eta'|\\alpha, \\eta) \\propto \\frac{1}{\\alpha \\eta} \\exp\\left({-\\frac{\\alpha'}{\\alpha}-\\frac{\\eta'}{\\eta}}\\right)$$\n",
    "\n",
    "But how is this the product of two exponentials with that first term? It's because they set lambda equal to the mean of alpha and eta (remember the mean of the exponential distribution is $1/\\lambda$).\n",
    "\n",
    "Exponential PDF:\n",
    "\n",
    "$\\lambda e^{-\\lambda x}$\n",
    "\n",
    "For alpha:\n",
    "\n",
    "$\\alpha = 1/\\lambda$\n",
    "\n",
    "$\\lambda = 1/\\alpha$\n",
    "\n",
    "$\\frac{1}{\\alpha} e^{-\\frac{1}{\\alpha} \\alpha'}$\n",
    "\n",
    "Likewise for eta:\n",
    "\n",
    "$\\frac{1}{\\eta} e^{-\\frac{1}{\\eta} \\eta'}$\n",
    "\n",
    "Multiply them to get the given proposal:\n",
    "\n",
    "$\\frac{1}{\\alpha}\\frac{1}{\\eta} e^{-\\frac{\\alpha'}{\\alpha}} e^{-\\frac{\\eta'}{\\eta} } = \\frac{1}{\\alpha \\eta} e^{-\\frac{\\alpha'}{\\alpha}-\\frac{\\eta'}{\\eta}}$\n",
    "\n",
    "## Acceptance criteria\n",
    "\n",
    "We will accept the proposal with probability rho:\n",
    "\n",
    "$$\n",
    "\\rho = \\min\\left(1, \\frac\n",
    "{ \\left[ \\prod_{i=1}^{n} \\alpha' \\eta' t_i^{\\alpha' - 1} e^{-\\eta' t_i^{\\alpha'}} \\right] e^{-\\alpha'} \\eta'^{\\beta - 1} e^{-\\xi \\eta'} \\cdot \\frac{1}{\\alpha'} \\frac{1}{\\eta'} e^{-\\frac{\\alpha}{\\alpha'}} e^{-\\frac{\\eta}{\\eta'}} }\n",
    "{ \\left[ \\prod_{i=1}^{n} \\alpha \\eta t_i^{\\alpha - 1} e^{-\\eta t_i^{\\alpha}} \\right] e^{-\\alpha} \\eta^{\\beta - 1} e^{-\\xi \\eta} \\cdot \\frac{1}{\\alpha} \\frac{1}{\\eta} e^{-\\frac{\\alpha'}{\\alpha}} e^{-\\frac{\\eta'}{\\eta}} }\\right)\n",
    "$$\n",
    "\n",
    "This is becoming unwieldy. Remember, $\\rho$ is a ratio: the likelihood times prior times proposal evaluated at the proposal values for that iteration, divided by the same evaluated at the last accepted value. This is why, on the next page, I divide the prior, likelihood, and proposal into separate functions. It's easy to make a mistake when your equations get this long, even if you want to go to the trouble of simplifying it.\n",
    "\n",
    "What is the purpose of the $\\min(1, r)$ line to get $\\rho$? Consider what would happen if $r$ is than 1: that would mean that the latest proposed values evaluate higher than the previous ones, so we will definitely accept. This pushes the sampler towards areas of the sample space that are more probable."
   ]
  },
  {
   "cell_type": "code",
   "execution_count": null,
   "id": "a5306a3b-d506-4bab-8d4a-d79e04af3d96",
   "metadata": {
    "editable": true,
    "slideshow": {
     "slide_type": ""
    },
    "tags": []
   },
   "outputs": [],
   "source": []
  }
 ],
 "metadata": {
  "kernelspec": {
   "display_name": "Python 3 (ipykernel)",
   "language": "python",
   "name": "python3"
  },
  "language_info": {
   "codemirror_mode": {
    "name": "ipython",
    "version": 3
   },
   "file_extension": ".py",
   "mimetype": "text/x-python",
   "name": "python",
   "nbconvert_exporter": "python",
   "pygments_lexer": "ipython3",
   "version": "3.11.0"
  }
 },
 "nbformat": 4,
 "nbformat_minor": 5
}
