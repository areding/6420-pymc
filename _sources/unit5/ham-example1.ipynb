{
 "cells": [
  {
   "cell_type": "code",
   "execution_count": 1,
   "id": "cc650998-8d7f-4cfe-92bd-3016893e6427",
   "metadata": {},
   "outputs": [],
   "source": [
    "import numpy as np\n",
    "from rich.progress import track\n",
    "\n",
    "%load_ext lab_black\n",
    "%load_ext watermark"
   ]
  },
  {
   "cell_type": "markdown",
   "id": "07902b1b-76eb-4965-ae86-64a0d4cf93e9",
   "metadata": {},
   "source": [
    "# Example 1\n",
    "\n",
    "Coming soon. Okay maybe not that soon."
   ]
  },
  {
   "cell_type": "code",
   "execution_count": null,
   "id": "492736d4-8a97-4d37-aa80-fc2a794d1b24",
   "metadata": {},
   "outputs": [],
   "source": []
  }
 ],
 "metadata": {
  "kernelspec": {
   "display_name": "Python 3 (ipykernel)",
   "language": "python",
   "name": "python3"
  },
  "language_info": {
   "codemirror_mode": {
    "name": "ipython",
    "version": 3
   },
   "file_extension": ".py",
   "mimetype": "text/x-python",
   "name": "python",
   "nbconvert_exporter": "python",
   "pygments_lexer": "ipython3",
   "version": "3.11.0"
  }
 },
 "nbformat": 4,
 "nbformat_minor": 5
}
