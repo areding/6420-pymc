{
 "cells": [
  {
   "cell_type": "markdown",
   "id": "2027125f-9695-4cf7-9be5-4c7af3e9f9d2",
   "metadata": {
    "editable": true,
    "slideshow": {
     "slide_type": ""
    },
    "tags": []
   },
   "source": [
    "# 12. Conjugate Gamma-Poisson Model"
   ]
  },
  {
   "cell_type": "markdown",
   "id": "b6cd903e-3525-4bb0-a4f5-14535cc43826",
   "metadata": {},
   "source": [
    "The professor cites {cite:t}`conjugatelikelihoods1993` as the source of this example."
   ]
  },
  {
   "cell_type": "markdown",
   "id": "c72c5c6e-01b1-491b-9994-6741d6f5c7be",
   "metadata": {
    "editable": true,
    "slideshow": {
     "slide_type": ""
    },
    "tags": []
   },
   "source": [
    "\n",
    "## Model\n",
    "We'll model the number of failures for each pump $i$ using a Poisson distribution, with the rate parameter $\\theta_i$ modified by a time factor $t_i$ to add a linear time dependency to the rate:\n",
    "\n",
    "$$x_i \\mid \\theta_i \\sim \\text{Pois}(\\theta_i t_i)$$\n",
    "\n",
    "So the likelihood is proportional to:\n",
    "\n",
    "$$f(x_i \\mid \\theta_i) \\propto \\prod_{i=1}^{n}\\theta_i^{x_i} e^{-\\theta_i t_i}$$\n",
    "\n",
    "We then place a Gamma prior on the rate of failure for each pump, but we're fixing the shape parameter $\\alpha$ at 1, so it reduces to an Exponential distribution:\n",
    "\n",
    "$$ \\theta_i \\mid \\beta \\sim \\text{Exp}(\\beta) \\propto \\beta e^{-\\beta \\theta_i}$$\n",
    "\n",
    "Our prior on $\\beta$ is another Gamma distribution:\n",
    "\n",
    "$$ \\beta \\sim \\text{Ga}(c, d) \\propto \\beta^{c-1}e^{-d\\beta}$$"
   ]
  },
  {
   "cell_type": "markdown",
   "id": "3e197675-39c6-4d10-861d-be37ad75a711",
   "metadata": {},
   "source": [
    "The joint distribution:\n",
    "\n",
    "$$ \\pi(x, \\theta, \\beta) \\propto \\prod_{i=1}^n \\theta_i^{x_i} e^{-\\theta_i t_i} \\cdot \\beta e^{-\\beta \\theta_i} \\cdot \\beta^{c-1} e^{-d\\beta} $$\n",
    "\n",
    "### Full Conditionals\n",
    "\n",
    "**For each $\\theta_i$:**\n",
    "\n",
    "   $$ \\pi(\\theta_i \\mid \\theta_{\\neq i}, \\beta, x) \\sim \\text{Gamma}(x_i + 1, \\beta + t_i) $$\n",
    "\n",
    "**For $\\beta$:**\n",
    "\n",
    "   $$ \\pi(\\beta \\mid \\theta, x) \\sim \\text{Gamma}(m + c, \\sum \\theta_i + d) $$\n"
   ]
  },
  {
   "cell_type": "markdown",
   "id": "055e4f77-a2e8-41bb-9a2f-f995f25014f7",
   "metadata": {},
   "source": [
    "Implementation is on the next page."
   ]
  },
  {
   "cell_type": "code",
   "execution_count": null,
   "id": "c4bff8a9-5126-4239-af91-06ee985c325c",
   "metadata": {},
   "outputs": [],
   "source": []
  }
 ],
 "metadata": {
  "kernelspec": {
   "display_name": "Python 3 (ipykernel)",
   "language": "python",
   "name": "python3"
  },
  "language_info": {
   "codemirror_mode": {
    "name": "ipython",
    "version": 3
   },
   "file_extension": ".py",
   "mimetype": "text/x-python",
   "name": "python",
   "nbconvert_exporter": "python",
   "pygments_lexer": "ipython3",
   "version": "3.11.4"
  }
 },
 "nbformat": 4,
 "nbformat_minor": 5
}
