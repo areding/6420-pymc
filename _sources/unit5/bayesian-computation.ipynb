{
 "cells": [
  {
   "cell_type": "markdown",
   "id": "df3f9b7c-63d6-49fc-8d52-4c24fb86a4fa",
   "metadata": {},
   "source": [
    "# Bayesian computation\n",
    "\n",
    "placeholder\n",
    "\n",
    "Laplace, MCMC, metropolis, metropolis hastings, gibbs, hamiltonian\n",
    "\n",
    "eventually would like to touch on variational inference, energy-based methods, svgd, nvgd"
   ]
  },
  {
   "cell_type": "code",
   "execution_count": null,
   "id": "b6d0c707-88f3-4ec3-af3c-ea2443e802e8",
   "metadata": {},
   "outputs": [],
   "source": []
  }
 ],
 "metadata": {
  "kernelspec": {
   "display_name": "Python 3 (ipykernel)",
   "language": "python",
   "name": "python3"
  },
  "language_info": {
   "codemirror_mode": {
    "name": "ipython",
    "version": 3
   },
   "file_extension": ".py",
   "mimetype": "text/x-python",
   "name": "python",
   "nbconvert_exporter": "python",
   "pygments_lexer": "ipython3",
   "version": "3.9.10"
  }
 },
 "nbformat": 4,
 "nbformat_minor": 5
}
