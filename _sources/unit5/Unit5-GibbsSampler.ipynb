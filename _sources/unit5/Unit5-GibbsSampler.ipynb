{
 "cells": [
  {
   "cell_type": "code",
   "execution_count": 1,
   "id": "fc5b18ed",
   "metadata": {},
   "outputs": [],
   "source": [
    "import matplotlib.pyplot as plt\n",
    "import numpy as np\n",
    "from tqdm.auto import tqdm\n",
    "%load_ext lab_black\n"
   ]
  },
  {
   "cell_type": "markdown",
   "id": "2531f15a",
   "metadata": {},
   "source": [
    "# 11. Normal-Cauchy Gibbs Sampler*\n",
    "\n",
    "Adapted from [Unit 5: norcaugibbs.m](https://raw.githubusercontent.com/areding/6420-pymc/main/original_examples/Codes4Unit5/norcaugibbs.m)."
   ]
  },
  {
   "cell_type": "code",
   "execution_count": 2,
   "id": "0a9f7e0f",
   "metadata": {},
   "outputs": [
    {
     "data": {
      "text/html": [
       "<pre style=\"white-space:pre;overflow-x:auto;line-height:normal;font-family:Menlo,'DejaVu Sans Mono',consolas,'Courier New',monospace\">Working... <span style=\"color: #729c1f; text-decoration-color: #729c1f\">━━━━━━━━━━━━━━━━━━━━━━━━━━━━━━━━━━━━━━━━</span> <span style=\"color: #800080; text-decoration-color: #800080\">100%</span> <span style=\"color: #008080; text-decoration-color: #008080\">0:00:00</span>\n",
       "</pre>\n"
      ],
      "text/plain": [
       "Working... \u001b[38;2;114;156;31m━━━━━━━━━━━━━━━━━━━━━━━━━━━━━━━━━━━━━━━━\u001b[0m \u001b[35m100%\u001b[0m \u001b[36m0:00:00\u001b[0m\n"
      ]
     },
     "metadata": {},
     "output_type": "display_data"
    },
    {
     "data": {
      "text/html": [
       "<pre style=\"white-space:pre;overflow-x:auto;line-height:normal;font-family:Menlo,'DejaVu Sans Mono',consolas,'Courier New',monospace\"></pre>\n"
      ],
      "text/plain": []
     },
     "metadata": {},
     "output_type": "display_data"
    },
    {
     "data": {
      "text/html": [
       "<pre style=\"white-space:pre;overflow-x:auto;line-height:normal;font-family:Menlo,'DejaVu Sans Mono',consolas,'Courier New',monospace\">\n",
       "</pre>\n"
      ],
      "text/plain": [
       "\n"
      ]
     },
     "metadata": {},
     "output_type": "display_data"
    },
    {
     "name": "stdout",
     "output_type": "stream",
     "text": [
      "np.mean(thetas)=1.2810728558916804\n",
      "np.var(thetas)=0.860464992070327\n",
      "np.mean(lambdas)=0.9408560283549908\n",
      "np.var(lambdas)=1.5703387617734375\n"
     ]
    },
    {
     "data": {
      "image/png": "[encoded data removed]",
      "text/plain": [
       "<Figure size 432x288 with 1 Axes>"
      ]
     },
     "metadata": {
      "needs_background": "light"
     },
     "output_type": "display_data"
    },
    {
     "data": {
      "image/png": "[encoded data removed]",
      "text/plain": [
       "<Figure size 432x288 with 1 Axes>"
      ]
     },
     "metadata": {
      "needs_background": "light"
     },
     "output_type": "display_data"
    }
   ],
   "source": [
    "rng = np.random.default_rng(1)\n",
    "\n",
    "obs = 100000\n",
    "burn = 1000\n",
    "\n",
    "# params\n",
    "x = 2\n",
    "sigma2 = 1\n",
    "tau2 = 1\n",
    "mu = 0\n",
    "\n",
    "# inits\n",
    "theta = 0\n",
    "lam = 1\n",
    "\n",
    "thetas = np.zeros(obs)\n",
    "lambdas = np.zeros(obs)\n",
    "\n",
    "# pre-generate randoms where possible\n",
    "randn = rng.standard_normal(obs)\n",
    "\n",
    "for i in tqdm(range(obs)):\n",
    "    d = tau2 + lam * sigma2\n",
    "    theta = (tau2 / d * x + lam * sigma2 / d * mu) + np.sqrt(tau2 * sigma2 / d) * randn[\n",
    "        i\n",
    "    ]\n",
    "    lam = rng.exponential(1 / ((tau2 + (theta - mu) ** 2) / (2 * tau2)))\n",
    "\n",
    "    thetas[i] = theta\n",
    "    lambdas[i] = lam\n",
    "\n",
    "thetas = thetas[burn:]\n",
    "lambdas = lambdas[burn:]\n",
    "\n",
    "print(f\"{np.mean(thetas)=}\")\n",
    "print(f\"{np.var(thetas)=}\")\n",
    "print(f\"{np.mean(lambdas)=}\")\n",
    "print(f\"{np.var(lambdas)=}\")\n",
    "\n",
    "plt.hist(thetas, 40)\n",
    "plt.xlabel(\"theta\")\n",
    "plt.show()\n",
    "\n",
    "plt.hist(lambdas, 40)\n",
    "plt.xlabel(\"lambda\")\n",
    "plt.show()"
   ]
  },
  {
   "cell_type": "code",
   "execution_count": 3,
   "id": "8f54d555",
   "metadata": {},
   "outputs": [
    {
     "name": "stdout",
     "output_type": "stream",
     "text": [
      "Python implementation: CPython\n",
      "Python version       : 3.10.4\n",
      "IPython version      : 8.4.0\n",
      "\n",
      "numpy     : 1.22.4\n",
      "matplotlib: 3.5.2\n",
      "\n"
     ]
    }
   ],
   "source": [
    "%load_ext watermark\n",
    "%watermark -n -u -v -iv"
   ]
  }
 ],
 "metadata": {
  "kernelspec": {
   "display_name": "Python 3 (ipykernel)",
   "language": "python",
   "name": "python3"
  },
  "language_info": {
   "codemirror_mode": {
    "name": "ipython",
    "version": 3
   },
   "file_extension": ".py",
   "mimetype": "text/x-python",
   "name": "python",
   "nbconvert_exporter": "python",
   "pygments_lexer": "ipython3",
   "version": "3.11.0"
  }
 },
 "nbformat": 4,
 "nbformat_minor": 5
}
