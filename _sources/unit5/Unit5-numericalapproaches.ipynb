{
 "cells": [
  {
   "cell_type": "markdown",
   "id": "56165b62-3cb4-4954-b5f5-bae2085aacd4",
   "metadata": {},
   "source": [
    "# 1. Numerical Approaches\n",
    "\n",
    "Once we move past conjugate cases, while we may have the posterior in analytical form as a result of Bayes' theorem, it won't be any recognizable distribution no matter how much we manipulate it. Many of the normalizing constants have no closed-form solution. As the professor shows in lessons 2 and 4 of this unit, we can try to approximate them numerically, but this may be imprecise or computationally intractable (with time complexity increasing exponentially with the number of parameters, as in the example from section 2.1 [of this paper](https://arxiv.org/pdf/1601.00670.pdf).\n",
    "\n",
    "Also see [this link from Michael Betancourt for an overview of probabilistic computation](https://betanalpha.github.io/assets/case_studies/probabilistic_computation.html).\n",
    "\n",
    "The second half of this course focuses more on modeling than on the specific method used to get at the posterior, but in order to do that, we need to choose a method for sampling from or approximating the posterior. There are a lot of ways out there (see [other methods](https://areding.github.io/6420-pymc/unit5/other-methods.html)), but we're going to focus on Markov Chain Monte Carlo (MCMC) methods. They have a lot of advantages, including a relatively easy algorithm to implement and understand."
   ]
  },
  {
   "cell_type": "code",
   "execution_count": null,
   "id": "6c01ec8b-c71a-4391-8ef3-d7ac31d9981a",
   "metadata": {},
   "outputs": [],
   "source": []
  }
 ],
 "metadata": {
  "kernelspec": {
   "display_name": "Python 3 (ipykernel)",
   "language": "python",
   "name": "python3"
  },
  "language_info": {
   "codemirror_mode": {
    "name": "ipython",
    "version": 3
   },
   "file_extension": ".py",
   "mimetype": "text/x-python",
   "name": "python",
   "nbconvert_exporter": "python",
   "pygments_lexer": "ipython3",
   "version": "3.11.0"
  }
 },
 "nbformat": 4,
 "nbformat_minor": 5
}
