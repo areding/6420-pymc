{
 "cells": [
  {
   "cell_type": "code",
   "execution_count": 1,
   "id": "3de3d1f6",
   "metadata": {},
   "outputs": [],
   "source": [
    "import matplotlib.pyplot as plt\n",
    "import numpy as np\n",
    "from rich.progress import track\n",
    "\n",
    "%load_ext lab_black\n",
    "%load_ext watermark"
   ]
  },
  {
   "cell_type": "markdown",
   "id": "5e02ab20",
   "metadata": {},
   "source": [
    "# Disasters\n",
    "\n",
    "Adapted from [Unit 5: disastersmc.m](https://raw.githubusercontent.com/areding/6420-pymc/main/original_examples/Codes4Unit5/disastersmc.m).\n",
    "\n",
    "Associated lecture video: Unit 5 lesson 15"
   ]
  },
  {
   "cell_type": "markdown",
   "id": "4bfa6923",
   "metadata": {},
   "source": [
    "The 112 data points represent the numbers of coal-mining disasters involving 10 or more men killed per year between 1851 and 1962. \n",
    " \n",
    "Based on the observation that the there was a significant decrease around 1900, it is suitable to apply a change-point model to divide the whole dataset into two periods; each period with its own distribution of number of disasters.\n",
    " \n",
    "The data set was compiled by Maguire, Pearson and Wynn in 1952 and updated by Jarrett (1978). This data have been used by a number of authors to illustrate various techniques that can be applied to point processes\n",
    "\n",
    "\n",
    "Maguire, B. A., Pearson, E. S. and Wynn, A. H. A. (1952). The time intervals between industrial accidents. Biometrika, 39, 168–180.\n",
    "\n",
    "Jarrett, R.G. (1979). A note on the intervals between coal-mining disasters. Biometrika, 66, 191-193. \n",
    "\n",
    "Carlin, Gelfand, and Smith (1992) Heirarchical Bayesian Analysis of Changepoint Problems. Applied Statistics, 41, 389-405."
   ]
  },
  {
   "cell_type": "code",
   "execution_count": 2,
   "id": "d8099fe5",
   "metadata": {},
   "outputs": [
    {
     "data": {
      "text/html": [
       "<pre style=\"white-space:pre;overflow-x:auto;line-height:normal;font-family:Menlo,'DejaVu Sans Mono',consolas,'Courier New',monospace\">Working... <span style=\"color: #729c1f; text-decoration-color: #729c1f\">━━━━━━━━━━━━━━━━━━━━━━━━━━━━━━━━━━━━━━━━</span> <span style=\"color: #800080; text-decoration-color: #800080\">100%</span> <span style=\"color: #008080; text-decoration-color: #008080\">0:00:00</span>\n",
       "</pre>\n"
      ],
      "text/plain": [
       "Working... \u001b[38;2;114;156;31m━━━━━━━━━━━━━━━━━━━━━━━━━━━━━━━━━━━━━━━━\u001b[0m \u001b[35m100%\u001b[0m \u001b[36m0:00:00\u001b[0m\n"
      ]
     },
     "metadata": {},
     "output_type": "display_data"
    },
    {
     "data": {
      "text/html": [
       "<pre style=\"white-space:pre;overflow-x:auto;line-height:normal;font-family:Menlo,'DejaVu Sans Mono',consolas,'Courier New',monospace\"></pre>\n"
      ],
      "text/plain": []
     },
     "metadata": {},
     "output_type": "display_data"
    },
    {
     "data": {
      "text/html": [
       "<pre style=\"white-space:pre;overflow-x:auto;line-height:normal;font-family:Menlo,'DejaVu Sans Mono',consolas,'Courier New',monospace\">\n",
       "</pre>\n"
      ],
      "text/plain": [
       "\n"
      ]
     },
     "metadata": {},
     "output_type": "display_data"
    },
    {
     "data": {
      "image/png": "[encoded data removed]",
      "text/plain": [
       "<Figure size 432x288 with 1 Axes>"
      ]
     },
     "metadata": {
      "needs_background": "light"
     },
     "output_type": "display_data"
    },
    {
     "data": {
      "image/png": "[encoded data removed]",
      "text/plain": [
       "<Figure size 432x288 with 1 Axes>"
      ]
     },
     "metadata": {
      "needs_background": "light"
     },
     "output_type": "display_data"
    },
    {
     "data": {
      "image/png": "[encoded data removed]",
      "text/plain": [
       "<Figure size 432x288 with 1 Axes>"
      ]
     },
     "metadata": {
      "needs_background": "light"
     },
     "output_type": "display_data"
    }
   ],
   "source": [
    "rng = np.random.default_rng(1)\n",
    "\n",
    "# x is the number of coal mine disasters per year\n",
    "# fmt: off\n",
    "x = [4, 5, 4, 1, 0, 4, 3, 4, 0, 6, 3, 3, 4, 0, 2, 6, 3, 3, 5, 4, 5, 3, 1,\n",
    "     4, 4, 1, 5, 5, 3, 4, 2, 5, 2, 2, 3, 4, 2, 1, 3, 2, 2, 1, 1, 1, 1, 3,\n",
    "     0, 0, 1, 0, 1, 1, 0, 0, 3, 1, 0, 3, 2, 2, 0, 1, 1, 1, 0, 1, 0, 1, 0,\n",
    "     0, 0, 2, 1, 0, 0, 0, 1, 1, 0, 2, 3, 3, 1, 1, 2, 1, 1, 1, 1, 2, 4, 2,\n",
    "     0, 0, 0, 1, 4, 0, 0, 0, 1, 0, 0, 0, 0, 0, 1, 0, 0, 1, 0, 1]\n",
    "# fmt: on\n",
    "\n",
    "year = [y for y in range(1851, 1963)]\n",
    "\n",
    "n = len(x)\n",
    "obs = 10000\n",
    "burn = 500\n",
    "\n",
    "lambdas = np.zeros(obs)\n",
    "mus = np.zeros(obs)\n",
    "ms = np.zeros(obs)\n",
    "posterior_m = np.zeros(n)\n",
    "\n",
    "# inits\n",
    "lambdas[0] = 4\n",
    "mus[0] = 0.5\n",
    "ms[0] = 10\n",
    "\n",
    "# hyperparameters\n",
    "alpha = 4\n",
    "beta = 1\n",
    "gamma = 0.5\n",
    "delta = 1\n",
    "\n",
    "# sampling\n",
    "for i in track(range(1, obs)):\n",
    "    # lambda\n",
    "    mm = int(ms[i - 1])\n",
    "    alpha1 = alpha + np.sum(x[: mm + 1])\n",
    "    beta1 = mm + beta\n",
    "\n",
    "    lambdas[i] = rng.gamma(alpha1, 1 / beta1)\n",
    "\n",
    "    # mu\n",
    "    gamma1 = gamma + np.sum(x) - np.sum(x[: mm + 1])\n",
    "    delta1 = n - mm + delta\n",
    "\n",
    "    mus[i] = rng.gamma(gamma1, 1 / delta1)\n",
    "\n",
    "    # posterior weights\n",
    "    for j in range(n):\n",
    "        posterior_m[j] = np.exp((mus[i] - lambdas[i]) * j) * (\n",
    "            lambdas[i] / mus[i]\n",
    "        ) ** np.sum(x[: j + 1])\n",
    "        # normalize to get probabilities\n",
    "        weights = posterior_m / np.sum(posterior_m)\n",
    "\n",
    "    ms[i] = rng.choice(range(n), replace=False, p=weights, shuffle=False)\n",
    "\n",
    "lambdas = lambdas[burn:]\n",
    "mus = mus[burn:]\n",
    "ms = ms[burn:]\n",
    "\n",
    "plt.hist(lambdas, 40)\n",
    "plt.xlabel(\"lambda\")\n",
    "plt.show()\n",
    "\n",
    "plt.hist(mus, 40)\n",
    "plt.xlabel(\"mu\")\n",
    "plt.show()\n",
    "\n",
    "plt.hist(ms + 1851, n)\n",
    "plt.xlabel(\"year\")\n",
    "plt.xticks(year[30:50], rotation=45)\n",
    "plt.minorticks_off()\n",
    "plt.show()"
   ]
  },
  {
   "cell_type": "code",
   "execution_count": 3,
   "id": "1c9147b0",
   "metadata": {},
   "outputs": [
    {
     "name": "stdout",
     "output_type": "stream",
     "text": [
      "Python implementation: CPython\n",
      "Python version       : 3.10.4\n",
      "IPython version      : 8.4.0\n",
      "\n",
      "numpy     : 1.22.4\n",
      "matplotlib: 3.5.2\n",
      "\n"
     ]
    }
   ],
   "source": [
    "%watermark -n -u -v -iv"
   ]
  }
 ],
 "metadata": {
  "kernelspec": {
   "display_name": "Python 3 (ipykernel)",
   "language": "python",
   "name": "python3"
  },
  "language_info": {
   "codemirror_mode": {
    "name": "ipython",
    "version": 3
   },
   "file_extension": ".py",
   "mimetype": "text/x-python",
   "name": "python",
   "nbconvert_exporter": "python",
   "pygments_lexer": "ipython3",
   "version": "3.11.0"
  }
 },
 "nbformat": 4,
 "nbformat_minor": 5
}
