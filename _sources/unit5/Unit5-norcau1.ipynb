{
 "cells": [
  {
   "cell_type": "markdown",
   "id": "53773b60-365c-49a9-a1db-1fd03800dc83",
   "metadata": {},
   "source": [
    "# 2. Normal–Cauchy Example"
   ]
  },
  {
   "cell_type": "markdown",
   "id": "6c7b865b-75be-43f3-b60c-a10f704ca29e",
   "metadata": {},
   "source": [
    "This already has a Python implementation called [norcau.py](https://raw.githubusercontent.com/areding/6420-pymc/main/original_examples/Codes4Unit5/norcau.py). I may update it at some point and add more explanation."
   ]
  },
  {
   "cell_type": "code",
   "execution_count": null,
   "id": "26f2ada3-5666-4490-bf2b-b0caf71abe63",
   "metadata": {},
   "outputs": [],
   "source": []
  }
 ],
 "metadata": {
  "kernelspec": {
   "display_name": "Python 3 (ipykernel)",
   "language": "python",
   "name": "python3"
  },
  "language_info": {
   "codemirror_mode": {
    "name": "ipython",
    "version": 3
   },
   "file_extension": ".py",
   "mimetype": "text/x-python",
   "name": "python",
   "nbconvert_exporter": "python",
   "pygments_lexer": "ipython3",
   "version": "3.11.0"
  }
 },
 "nbformat": 4,
 "nbformat_minor": 5
}
