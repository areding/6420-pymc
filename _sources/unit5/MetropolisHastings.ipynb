{
 "cells": [
  {
   "cell_type": "code",
   "execution_count": 2,
   "id": "5b70821e",
   "metadata": {},
   "outputs": [],
   "source": [
    "import matplotlib.pyplot as plt\n",
    "import numpy as np\n",
    "from rich.progress import track\n",
    "\n",
    "%load_ext lab_black\n",
    "%load_ext watermark"
   ]
  },
  {
   "cell_type": "markdown",
   "id": "3bd20c74",
   "metadata": {},
   "source": [
    "# Normal-Cauchy example\n",
    "\n",
    "Adapted from [Unit 5: norcaumet.m](https://raw.githubusercontent.com/areding/6420-pymc/main/original_examples/Codes4Unit5/norcaumet.m).\n",
    "\n",
    "Associated lecture video: Unit 5 lesson 7\n",
    "\n",
    "```{prf:algorithm} Metropolis-Hastings\n",
    ":label: metropolis-hastings\n",
    "\n",
    "**Inputs** Let $f(x)$ be proportional to the target pdf. $x_j$ is the current value and $q(x|x_j)$ is a proposal distribution.\n",
    "\n",
    "**Output** An array of samples representing the target pdf.\n",
    "\n",
    "1. Sample $x_* ∼ q(x|x_j)$.\n",
    "2. Calculate the acceptance probability: \n",
    "$ρ(x_j, x_*) = min\\left\\{1, \\frac{f(x_*)}{f(x_j)}\\frac{q(x_j|x_*)}{q(x_*|x_j)}\\right\\}$\n",
    "3. Update $x_{j+1} = x_*$ with probability $ρ(x_j, x_*)$, otherwise $x_{j+1}$ remains equal to $x_j$.\n",
    "\n",
    "```\n",
    "\n",
    "There are different variations on the algorithm. They differ when calculating $ρ$.\n",
    "- Random-walk Metropolis:\n",
    "  - If $q$ is symmetric, then you can simplify the acceptance probability to $ρ(x_j, x_*) = min\\left\\{1, \\frac{f(x_*)}{f(x_j)}\\right\\}$\n",
    "- Independent Metropolis-Hastings:\n",
    "  - If $q$ is independent, then the acceptance probability is $ρ(x_j, x_*) = min\\left\\{1, \\frac{f(x_*)}{f(x_j)}\\frac{q(x_j)}{q(x_*)}\\right\\}$"
   ]
  },
  {
   "cell_type": "markdown",
   "id": "d3d24410",
   "metadata": {},
   "source": [
    "For this example:\n",
    "\n",
    "$X|\\theta~\\sim{N}(\\theta, 1)$ and $\\theta~\\sim {\\rm Cauchy}(0, 1)$"
   ]
  },
  {
   "cell_type": "markdown",
   "id": "614f8da5-dd84-4be1-af84-a414352ea265",
   "metadata": {},
   "source": [
    "```{warning}\n",
    "I often pre-generate arrays of random numbers (see ```theta_prop``` and ```unif``` variables in the below cell) because it's significantly faster. However, that only works when those numbers don't depend on the previous step in the sampling loop!\n",
    "```"
   ]
  },
  {
   "cell_type": "code",
   "execution_count": 16,
   "id": "c5362eba",
   "metadata": {},
   "outputs": [
    {
     "data": {
      "application/vnd.jupyter.widget-view+json": {
       "model_id": "2808ee4a43f14a19b36b2e4de5b98e4f",
       "version_major": 2,
       "version_minor": 0
      },
      "text/plain": [
       "Output()"
      ]
     },
     "metadata": {},
     "output_type": "display_data"
    },
    {
     "data": {
      "text/html": [
       "<pre style=\"white-space:pre;overflow-x:auto;line-height:normal;font-family:Menlo,'DejaVu Sans Mono',consolas,'Courier New',monospace\"></pre>\n"
      ],
      "text/plain": []
     },
     "metadata": {},
     "output_type": "display_data"
    },
    {
     "data": {
      "text/html": [
       "<pre style=\"white-space:pre;overflow-x:auto;line-height:normal;font-family:Menlo,'DejaVu Sans Mono',consolas,'Courier New',monospace\">\n",
       "</pre>\n"
      ],
      "text/plain": [
       "\n"
      ]
     },
     "metadata": {},
     "output_type": "display_data"
    },
    {
     "name": "stdout",
     "output_type": "stream",
     "text": [
      "np.mean(thetas)=99.17866612620331\n",
      "np.var(thetas)=79.66386687183132\n",
      "np.sum(accepted)/n=0.980753\n"
     ]
    },
    {
     "data": {
      "image/png": "[encoded data removed]",
      "text/plain": [
       "<Figure size 432x288 with 1 Axes>"
      ]
     },
     "metadata": {
      "needs_background": "light"
     },
     "output_type": "display_data"
    }
   ],
   "source": [
    "rng = np.random.default_rng(1)\n",
    "\n",
    "n = 1000000  # observations\n",
    "burn = 500\n",
    "theta = 1  # init\n",
    "thetas = np.zeros(n)\n",
    "x = 100  # observed\n",
    "\n",
    "accepted = np.zeros(n)\n",
    "\n",
    "# generating necessary randoms as arrays is faster\n",
    "theta_prop = rng.standard_normal(n) + x\n",
    "unif = rng.uniform(size=n)\n",
    "\n",
    "for i in track(range(n)):\n",
    "    r = (1 + theta**2) / (1 + theta_prop[i] ** 2)\n",
    "    rho = min(r, 1)\n",
    "    if unif[i] < rho:\n",
    "        theta = theta_prop[i]\n",
    "        accepted[i] = 1\n",
    "    thetas[i] = theta\n",
    "\n",
    "# thetas = thetas[burn:]\n",
    "\n",
    "print(f\"{np.mean(thetas)=}\")\n",
    "print(f\"{np.var(thetas)=}\")\n",
    "print(f\"{np.sum(accepted)/n=}\")\n",
    "\n",
    "plt.hist(thetas, 50)\n",
    "plt.show()"
   ]
  },
  {
   "cell_type": "code",
   "execution_count": 6,
   "id": "f1b99f0a-7bd8-40e2-ac11-17136c2ae8e6",
   "metadata": {},
   "outputs": [
    {
     "data": {
      "text/plain": [
       "array([-0.32669526,  3.25697439])"
      ]
     },
     "execution_count": 6,
     "metadata": {},
     "output_type": "execute_result"
    }
   ],
   "source": [
    "np.quantile(thetas, [0.025, 0.975])"
   ]
  },
  {
   "cell_type": "code",
   "execution_count": 3,
   "id": "09971595",
   "metadata": {},
   "outputs": [
    {
     "name": "stdout",
     "output_type": "stream",
     "text": [
      "Python implementation: CPython\n",
      "Python version       : 3.10.4\n",
      "IPython version      : 8.4.0\n",
      "\n",
      "matplotlib: 3.5.2\n",
      "numpy     : 1.22.4\n",
      "\n"
     ]
    }
   ],
   "source": [
    "%watermark -n -u -v -iv"
   ]
  }
 ],
 "metadata": {
  "kernelspec": {
   "display_name": "Python 3 (ipykernel)",
   "language": "python",
   "name": "python3"
  },
  "language_info": {
   "codemirror_mode": {
    "name": "ipython",
    "version": 3
   },
   "file_extension": ".py",
   "mimetype": "text/x-python",
   "name": "python",
   "nbconvert_exporter": "python",
   "pygments_lexer": "ipython3",
   "version": "3.10.6"
  }
 },
 "nbformat": 4,
 "nbformat_minor": 5
}
