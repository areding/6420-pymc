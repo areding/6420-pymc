{
 "cells": [
  {
   "cell_type": "code",
   "execution_count": 1,
   "id": "cc650998-8d7f-4cfe-92bd-3016893e6427",
   "metadata": {},
   "outputs": [],
   "source": [
    "import jax.numpy as jnp\n",
    "\n",
    "%load_ext lab_black"
   ]
  },
  {
   "cell_type": "markdown",
   "id": "07902b1b-76eb-4965-ae86-64a0d4cf93e9",
   "metadata": {},
   "source": [
    "# 16. Hamiltonian Monte Carlo\n",
    "\n",
    "```{note}\n",
    "This page is not covered in the lectures. It will be updated eventually for those who are interested since PyMC and Stan use variants of this algorithm.\n",
    "```"
   ]
  },
  {
   "cell_type": "code",
   "execution_count": null,
   "id": "492736d4-8a97-4d37-aa80-fc2a794d1b24",
   "metadata": {},
   "outputs": [],
   "source": [
    "%load_ext watermark"
   ]
  }
 ],
 "metadata": {
  "kernelspec": {
   "display_name": "Python 3 (ipykernel)",
   "language": "python",
   "name": "python3"
  },
  "language_info": {
   "codemirror_mode": {
    "name": "ipython",
    "version": 3
   },
   "file_extension": ".py",
   "mimetype": "text/x-python",
   "name": "python",
   "nbconvert_exporter": "python",
   "pygments_lexer": "ipython3",
   "version": "3.11.0"
  }
 },
 "nbformat": 4,
 "nbformat_minor": 5
}
