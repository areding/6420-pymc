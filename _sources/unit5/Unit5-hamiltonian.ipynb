{
 "cells": [
  {
   "cell_type": "markdown",
   "id": "07902b1b-76eb-4965-ae86-64a0d4cf93e9",
   "metadata": {
    "editable": true,
    "slideshow": {
     "slide_type": ""
    },
    "tags": []
   },
   "source": [
    "# 16. Hamiltonian Monte Carlo\n",
    "\n",
    "```{note}\n",
    "This page is not covered in the lectures. I would like to add it eventually for those who are interested since PyMC and Stan use variants of this algorithm. In the meantime, please see [*A Conceptual Introduction to Hamiltonian Monte Carlo*](https://arxiv.org/abs/1701.02434) {cite:t}`betancourt2018conceptual`.\n",
    "```"
   ]
  },
  {
   "cell_type": "code",
   "execution_count": null,
   "id": "ddba0486-03ff-49fe-956a-88484d093f18",
   "metadata": {
    "editable": true,
    "slideshow": {
     "slide_type": ""
    },
    "tags": []
   },
   "outputs": [],
   "source": []
  }
 ],
 "metadata": {
  "kernelspec": {
   "display_name": "Python 3 (ipykernel)",
   "language": "python",
   "name": "python3"
  },
  "language_info": {
   "codemirror_mode": {
    "name": "ipython",
    "version": 3
   },
   "file_extension": ".py",
   "mimetype": "text/x-python",
   "name": "python",
   "nbconvert_exporter": "python",
   "pygments_lexer": "ipython3",
   "version": "3.11.4"
  }
 },
 "nbformat": 4,
 "nbformat_minor": 5
}
