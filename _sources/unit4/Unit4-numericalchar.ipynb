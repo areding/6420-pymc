{
 "cells": [
  {
   "cell_type": "markdown",
   "id": "5090586e-7473-4aad-b1d2-e3e3a147b8f9",
   "metadata": {
    "tags": []
   },
   "source": [
    "# 2. Numerical Characteristics of Random Variables\n",
    "\n",
    "## Expectation and moments\n",
    "\n",
    "The expectation (mean) is computed by taking a weighted average of the possible outcomes, with the weights being the probabilities of each outcome. For a discrete random variable $X$ with possible outcomes $x_1, x_2, ..., x_n$ and corresponding probabilities $p_1, p_2, ..., p_n$, the expectation is:\n",
    "\n",
    "$$E[X] = \\sum_{i=1}^{n}x_i p_i$$\n",
    "\n",
    "For a continuous random variable with probability density function $f(x)$, the expectation is:\n",
    "\n",
    "$$E[X] = \\int_{\\mathbb{R}}xf(x)dx$$\n",
    "\n",
    "The $k$-th moment of a random variable is the expected value of the variable raised to the power of $k$. The first moment is the expectation. The second is variance. Higher-order moments provide information about the skew and kurtosis of the distribution.\n",
    "\n",
    "For a discrete random variable $X$ with possible outcomes $x_1, x_2, ..., x_n$ and corresponding probabilities $p_1, p_2, ..., p_n$, the $k$-th moment is:\n",
    "\n",
    "$$E[X^k] = \\sum_{i=1}^{n}x_i^k p_i$$\n",
    "\n",
    "For a continuous random variable with probability density function $f(x)$, the $k$-th moment is:\n",
    "\n",
    "$$E[X^k] = \\int_{\\mathbb{R}}x^k f(x) dx$$\n",
    "\n",
    "A general function $\\phi(X)$ of a random variable $X$ also has an expectation, given by:\n",
    "\n",
    "$$E[\\phi(X)] = \\sum_{i=1}^{n}\\phi(x_i)p_i$$\n",
    "\n",
    "for discrete variables, and \n",
    "\n",
    "$$E[\\phi(X)] = \\int_{\\mathbb{R}}\\phi(x)f(x)dx$$\n",
    "\n",
    "for continuous variables.\n",
    "\n",
    "## Variance and standard deviation\n",
    "\n",
    "The variance of a random variable $X$ is defined as the second moment about the mean, which can be calculated as:\n",
    "\n",
    "$$Var(X) = E[(X - E[X])^2] = E[X^2] - (E[X])^2$$\n",
    "\n",
    "The standard deviation, denoted $\\sigma$, is the square root of the variance. \n",
    "\n",
    "$$\\sigma = \\sqrt{Var(X)}$$\n",
    "\n",
    "## Quantiles\n",
    "\n",
    "Quantiles are points taken at regular intervals from the cumulative distribution function (CDF) of a random variable. For instance, the $p$-th quantile of a distribution $F$ is the value $\\xi_p$ such that $F(\\xi_p) = p$. \n",
    "\n",
    "For discrete distributions, $\\xi_p = \\inf \\{ x | \\sum_{x_i \\leq x} p_i \\geq p \\}$.\n",
    "\n",
    "For continuous distributions, $\\xi_p$ satisfies $\\int_{0}^{\\xi_p} f(x) dx = p$ or $F^{-1} (p) = \\xi_p$.\n",
    "\n",
    "The median is the $0.5$ quantile.\n",
    "\n",
    "## Mode\n",
    "\n",
    "The mode of a distribution is the most probable value. For a discrete random variable, it is the value $x_i$ that maximizes the probability mass function, $P(X=x_i)$. For a continuous random variable, it is the value that maximizes the density function."
   ]
  },
  {
   "cell_type": "code",
   "execution_count": null,
   "id": "a10f0664-a46d-4754-82b6-1ce73b68c581",
   "metadata": {},
   "outputs": [],
   "source": []
  }
 ],
 "metadata": {
  "kernelspec": {
   "display_name": "Python 3 (ipykernel)",
   "language": "python",
   "name": "python3"
  },
  "language_info": {
   "codemirror_mode": {
    "name": "ipython",
    "version": 3
   },
   "file_extension": ".py",
   "mimetype": "text/x-python",
   "name": "python",
   "nbconvert_exporter": "python",
   "pygments_lexer": "ipython3",
   "version": "3.11.0"
  }
 },
 "nbformat": 4,
 "nbformat_minor": 5
}
