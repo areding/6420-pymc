{
 "cells": [
  {
   "cell_type": "markdown",
   "id": "5090586e-7473-4aad-b1d2-e3e3a147b8f9",
   "metadata": {},
   "source": [
    "# 2. Numerical Characteristics of Random Variables"
   ]
  },
  {
   "cell_type": "code",
   "execution_count": null,
   "id": "dff8d096-f189-4451-93b2-3cce4cb68287",
   "metadata": {},
   "outputs": [],
   "source": []
  }
 ],
 "metadata": {
  "kernelspec": {
   "display_name": "Python 3 (ipykernel)",
   "language": "python",
   "name": "python3"
  },
  "language_info": {
   "codemirror_mode": {
    "name": "ipython",
    "version": 3
   },
   "file_extension": ".py",
   "mimetype": "text/x-python",
   "name": "python",
   "nbconvert_exporter": "python",
   "pygments_lexer": "ipython3",
   "version": "3.11.0"
  }
 },
 "nbformat": 4,
 "nbformat_minor": 5
}
