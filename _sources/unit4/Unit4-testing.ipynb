{
 "cells": [
  {
   "cell_type": "markdown",
   "id": "b6a46bbf-b944-46bb-89df-11703fe86e1f",
   "metadata": {},
   "source": [
    "# 12. Bayesian Testing\n",
    "\n",
    "```{note}\n",
    "This page is a stub. It will be updated over summer 2023 with supplementary lecture notes.\n",
    "```\n",
    "\n",
    "TODO:\n",
    "- Bayes Factor, hypothesis testing.\n",
    "- precise null example.\n",
    "- Show derivations from OH last semester. (HW3)\n",
    "- Note some other guides besides the one Brani uses (Jeffreys)\n",
    "- "
   ]
  },
  {
   "cell_type": "code",
   "execution_count": null,
   "id": "23a0a0b8-abc9-43f5-a527-0c73d2227663",
   "metadata": {},
   "outputs": [],
   "source": []
  }
 ],
 "metadata": {
  "kernelspec": {
   "display_name": "Python 3 (ipykernel)",
   "language": "python",
   "name": "python3"
  },
  "language_info": {
   "codemirror_mode": {
    "name": "ipython",
    "version": 3
   },
   "file_extension": ".py",
   "mimetype": "text/x-python",
   "name": "python",
   "nbconvert_exporter": "python",
   "pygments_lexer": "ipython3",
   "version": "3.11.0"
  }
 },
 "nbformat": 4,
 "nbformat_minor": 5
}
