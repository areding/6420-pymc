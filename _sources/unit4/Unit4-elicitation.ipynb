{
 "cells": [
  {
   "cell_type": "markdown",
   "id": "e1a7daaa-050d-41ee-9dfd-8401c6dfd608",
   "metadata": {},
   "source": [
    "# 14. Prior Elicitation"
   ]
  },
  {
   "cell_type": "code",
   "execution_count": null,
   "id": "3bd9b6e8-b8c3-4f65-91ff-cef66b460604",
   "metadata": {},
   "outputs": [],
   "source": []
  }
 ],
 "metadata": {
  "kernelspec": {
   "display_name": "Python 3 (ipykernel)",
   "language": "python",
   "name": "python3"
  },
  "language_info": {
   "codemirror_mode": {
    "name": "ipython",
    "version": 3
   },
   "file_extension": ".py",
   "mimetype": "text/x-python",
   "name": "python",
   "nbconvert_exporter": "python",
   "pygments_lexer": "ipython3",
   "version": "3.11.0"
  }
 },
 "nbformat": 4,
 "nbformat_minor": 5
}
