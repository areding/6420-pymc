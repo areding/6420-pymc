{
 "cells": [
  {
   "cell_type": "markdown",
   "id": "e1a7daaa-050d-41ee-9dfd-8401c6dfd608",
   "metadata": {},
   "source": [
    "# 14. Prior Elicitation\n",
    "\n",
    "```{note}\n",
    "This page is a stub. It will be updated over summer 2023 with supplementary lecture notes.\n",
    "```"
   ]
  },
  {
   "cell_type": "markdown",
   "id": "ec201d31-25de-4f68-b09d-ee092687225b",
   "metadata": {},
   "source": [
    "Other reading:\n",
    "\n",
    "- Jaynes \n",
    "    - 6.13 choice of a prior p 178\n",
    "    - Ch 11 and 12 (entropy principle)\n",
    "- Stan Github prior discussion\n",
    "- Michael Betancourt priors article."
   ]
  }
 ],
 "metadata": {
  "kernelspec": {
   "display_name": "Python 3 (ipykernel)",
   "language": "python",
   "name": "python3"
  },
  "language_info": {
   "codemirror_mode": {
    "name": "ipython",
    "version": 3
   },
   "file_extension": ".py",
   "mimetype": "text/x-python",
   "name": "python",
   "nbconvert_exporter": "python",
   "pygments_lexer": "ipython3",
   "version": "3.11.0"
  }
 },
 "nbformat": 4,
 "nbformat_minor": 5
}
