{
 "cells": [
  {
   "cell_type": "markdown",
   "id": "e1a7daaa-050d-41ee-9dfd-8401c6dfd608",
   "metadata": {
    "tags": []
   },
   "source": [
    "# 14. Prior Elicitation\n",
    "\n",
    "Priors are one of the strengths of Bayesian inference. They're also a source of criticism. Critics say that prior choice is essentially subjective and can make the resulting models too easy to manipulate into supporting whatever the creator of the model wants to say. But those criticisms apply to classical statistics as well; arguably, the explicitly defined prior distributions of Bayesian models are more transparent than the hidden assumptions made in many frequentist models.\n",
    "\n",
    "Priors ideally would be based on expert beliefs about whatever parameter you're putting them on. In reality, we don't always have a strong belief about something, so we might use weak or non–informative priors (more on those in the next lesson).\n",
    "\n",
    "## Choosing parameters\n",
    "\n",
    "This lecture mostly discusses what to do if you already know which distribution you want to use for your prior. The professor gives exponential and beta prior examples in the lecture. \n",
    "\n",
    "### Exponential\n",
    "\n",
    "We know our parameter $\\theta$ is exponentially-distributed with an expected value of 2. The expected value of an exponential distribution {ref}`content:exponential_dist` is $1/\\lambda$ where $\\lambda$ is the rate parameter, so we know that our prior should be $Exp(1/2)$.\n",
    "\n",
    "### Beta\n",
    "\n",
    "The prior expected value of our beta-distributed parameter is $1/2$ and the variance $1/8$. By the known mean and variance {ref}`content:beta_dist`, we can figure out the shape parameters $\\alpha$ and $\\beta$ by solving the resulting system of equations:\n",
    "\n",
    "The mean is:\n",
    "\n",
    "$$\\frac{\\alpha}{\\alpha + \\beta} = 1/2$$\n",
    "\n",
    "and the variance is:\n",
    "\n",
    "$$\\frac{\\alpha \\beta}{\\left(\\alpha+\\beta\\right)^2\\left(\\alpha+\\beta+1\\right)} = 1/8$$\n",
    "\n",
    "And after some algebra, we find our prior is $Be(1/2, 1/2)$.\n",
    "\n",
    "(prior-elicitation)=\n",
    "## Principled prior choice\n",
    "\n",
    "But how do we choose the prior distribution? This might be students' single most-asked question in the course. The professor doesn't go in-depth on this topic in the lectures, so it feels like a blind spot for many. That's normal, so don't worry; this subject is big enough for a class on its own.\n",
    "\n",
    "There are also practical considerations–we may need to select priors that are conjugate or otherwise play nicely with our model or sampling algorithm. For example, later in the course, the professor uses the Wishart prior on the covariance matrix of a multivariate normal distribution for multiple regression. While this works in OpenBUGS, other probabilistic programming libraries that use different sampling algorithms can't easily use the Wishart distribution.\n",
    "\n",
    "There are lots of methods and philosophies behind prior choice. The professor references {cite:t}`elicitationgarthwaite` in the lecture; they present a detailed procedure for questioning experts and quantifying their opinions in the form of a conjugate prior. This is usually what people mean by prior *elicitation*; it's specifically the process of turning expert knowledge into a prior distribution. Some of the people involved with PyMC have an new [overview paper](https://arxiv.org/abs/2112.01380) on prior elicitation {cite:t}`mikkola2023prior`.\n",
    "\n",
    "Michael Betancourt has a great, more general, overview of prior modeling [here](https://betanalpha.github.io/assets/case_studies/prior_modeling.html).\n",
    "\n",
    "{cite:t}`jaynes2003` (Chapters 11 & 12) describes the [principle of maximum entropy](https://jbconsulting.substack.com/p/reading-jaynes-fear-not-the-unknown) for choosing priors. He describes these as \"ignorance priors\" because the idea is that by choosing the distribution of maximum entropy, we add the least information possible to our state of knowledge of the parameter in question.\n",
    "\n",
    "```{epigraph}\n",
    "... nothing in the mathematics requires that any random experiment be in fact performed or conceivable; and so we interpret the principle in the broadest sense which gives it the widest range of applicability, i.e. whether or not any random experiment is involved, the maximum entropy distribution still represents the most ‘honest’ description of our state of knowledge.\n",
    "\n",
    "-- {cite:t}`jaynes2003` Chapter 12.2\n",
    "```\n",
    "\n",
    "If you're sick of theory, the developers of Stan have more practical notes on prior choices [here](https://github.com/stan-dev/stan/wiki/Prior-Choice-Recommendations) based on their experience.\n",
    "\n",
    "These links are just scratching the surface of the subject. For now, just know that this stuff exists, because we'll be talking more about prior choice throughout the course."
   ]
  },
  {
   "cell_type": "markdown",
   "id": "ec201d31-25de-4f68-b09d-ee092687225b",
   "metadata": {},
   "source": []
  }
 ],
 "metadata": {
  "kernelspec": {
   "display_name": "Python 3 (ipykernel)",
   "language": "python",
   "name": "python3"
  },
  "language_info": {
   "codemirror_mode": {
    "name": "ipython",
    "version": 3
   },
   "file_extension": ".py",
   "mimetype": "text/x-python",
   "name": "python",
   "nbconvert_exporter": "python",
   "pygments_lexer": "ipython3",
   "version": "3.11.0"
  }
 },
 "nbformat": 4,
 "nbformat_minor": 5
}
