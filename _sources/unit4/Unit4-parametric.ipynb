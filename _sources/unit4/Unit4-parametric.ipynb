{
 "cells": [
  {
   "cell_type": "markdown",
   "id": "0e85f273-87d8-4617-8b8b-39b67f53bc48",
   "metadata": {},
   "source": [
    "# 18. Parametric\n",
    "\n",
    "## Lecture errata\n",
    "\n",
    "\n",
    "### Sample variance\n",
    "The sample variance for the Jeremy's IQ example here was calculated incorrectly. The variance of the sample $(98, 107, 89, 88, 108)$ is $S^2 = \\frac{(0+9^2+9^2+10^2+10^2)}{(5-1)} = 90.5$. The calculation may be updated as follows:\n",
    "\n",
    "$$\n",
    "\\hat{B} = \\frac{\\sigma^2}{\\sigma^2 + \\hat{\\tau}^2} = \\frac{80}{80 + (90.5 - 80)} = \\frac{80}{90.5}\n",
    "$$\n",
    "\n",
    "Then the estimated parameters are:\n",
    "\n",
    "$$\n",
    "\\hat{\\theta}_1 = \\frac{80}{90.5} \\cdot 98 + \\frac{10.5}{90.5} \\cdot 98 = 98\n",
    "$$\n",
    "\n",
    "$$\n",
    "\\hat{\\theta}_2 = \\frac{80}{90.5} \\cdot 98 + \\frac{10.5}{90.5} \\cdot 107 = 99.044, \\text{ etc.}\n",
    "$$\n",
    "\n",
    "### Incorrect conditional on slide 3\n",
    "\n",
    "The last line of slide 3 in the lecture is:\n",
    "\n",
    "$$\\prod_{i=1}^{n} m_i(x_i|\\theta_i)$$\n",
    "\n",
    "but it should be:\n",
    "\n",
    "$$\\prod_{i=1}^{n} m_i(x_i|\\xi)$$\n",
    "\n",
    "\n",
    "## Lecture summary\n",
    "\n",
    "Empirical Bayes can be categorized into parametric and non-parametric approaches, a taxonomy proposed by Carl Morris in his [1983 JASA paper](https://www.jstor.org/stable/2287098) cite{'morrisempirical'}. This lecture primarily focuses on the parametric approach, where the likelihood function and the parameter $\\theta_i$ vary across observations. The individual observations are independent but **not** identically distributed because of the variation in $\\theta_i$ and the likelihood functions $f_i$. The priors on $\\theta_i$ are considered to be IID, however.\n",
    "\n",
    "If the individual observations $x_i$ are all dependent on a common hyperparameter and share the same likelihood function $f_i$, then they are marginally IID. Then the hyperparameter, although unknown, can be estimated using the data through a Maximum Likelihood Estimation (MLE) approach.\n",
    "\n",
    "Empirical Bayes estimates borrow strength from all data points, using the mean and variance of all observations, not just the observation for each test. Hence, instead of analyzing each test separately, the empirical Bayes estimate takes into account all the data points."
   ]
  }
 ],
 "metadata": {
  "kernelspec": {
   "display_name": "Python 3 (ipykernel)",
   "language": "python",
   "name": "python3"
  },
  "language_info": {
   "codemirror_mode": {
    "name": "ipython",
    "version": 3
   },
   "file_extension": ".py",
   "mimetype": "text/x-python",
   "name": "python",
   "nbconvert_exporter": "python",
   "pygments_lexer": "ipython3",
   "version": "3.11.0"
  }
 },
 "nbformat": 4,
 "nbformat_minor": 5
}
