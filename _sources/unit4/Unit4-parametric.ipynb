{
 "cells": [
  {
   "cell_type": "markdown",
   "id": "0e85f273-87d8-4617-8b8b-39b67f53bc48",
   "metadata": {},
   "source": [
    "# 18. Parametric\n",
    "\n",
    "```{note}\n",
    "This page is a stub. It will be updated over summer 2023 with supplementary lecture notes.\n",
    "```\n",
    "\n",
    "- Check the Morris paper and link.\n",
    "- Add OH notes Spr 2023 example.\n",
    "- Errata: see PDF, there are several."
   ]
  },
  {
   "cell_type": "code",
   "execution_count": null,
   "id": "3dc742dd-10c6-4dc5-92b3-e31de5ca222e",
   "metadata": {},
   "outputs": [],
   "source": []
  }
 ],
 "metadata": {
  "kernelspec": {
   "display_name": "Python 3 (ipykernel)",
   "language": "python",
   "name": "python3"
  },
  "language_info": {
   "codemirror_mode": {
    "name": "ipython",
    "version": 3
   },
   "file_extension": ".py",
   "mimetype": "text/x-python",
   "name": "python",
   "nbconvert_exporter": "python",
   "pygments_lexer": "ipython3",
   "version": "3.11.0"
  }
 },
 "nbformat": 4,
 "nbformat_minor": 5
}
