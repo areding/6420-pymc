{
 "cells": [
  {
   "cell_type": "markdown",
   "id": "2c1a50b7-1800-4f92-83b0-a34e77ea19ee",
   "metadata": {},
   "source": [
    "# 13. Prediction"
   ]
  },
  {
   "cell_type": "code",
   "execution_count": null,
   "id": "7bd1ac5b-ea50-40fe-8ee1-e909ed1c83c2",
   "metadata": {},
   "outputs": [],
   "source": []
  }
 ],
 "metadata": {
  "kernelspec": {
   "display_name": "Python 3 (ipykernel)",
   "language": "python",
   "name": "python3"
  },
  "language_info": {
   "codemirror_mode": {
    "name": "ipython",
    "version": 3
   },
   "file_extension": ".py",
   "mimetype": "text/x-python",
   "name": "python",
   "nbconvert_exporter": "python",
   "pygments_lexer": "ipython3",
   "version": "3.11.0"
  }
 },
 "nbformat": 4,
 "nbformat_minor": 5
}
