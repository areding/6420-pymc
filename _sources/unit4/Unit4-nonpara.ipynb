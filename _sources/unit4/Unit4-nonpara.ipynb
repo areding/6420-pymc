{
 "cells": [
  {
   "cell_type": "markdown",
   "id": "a34ebdfc-beaa-4a42-8a10-053e7396e379",
   "metadata": {},
   "source": [
    "# 19. Non-parametric"
   ]
  },
  {
   "cell_type": "markdown",
   "id": "330c6358-094b-4e8c-a66e-eee2f76cb671",
   "metadata": {},
   "source": [
    "In parametric empirical Bayesian methods, as covered in the prior lecture, data is used to estimate the hyperparameters in the prior. This approach to inference assumes that the parameter of interest comes from a known family of distributions. In non-parametric empirical Bayes, however, there is no assumption about the family that the parameters come from. Instead, the marginal of the prior is estimated directly from the data. These parameters are still assumed to be identically and independently distributed, but the distribution family isn't specified.\n",
    "\n",
    "The non-parametric approach was pioneered by Herbert Robbins. The paper {cite:t}`robbinsempirical` is online [here](https://www.jstor.org/stable/2238017).\n",
    "\n",
    "Empirical Bayes can be practical in certain circumstances, but the professor concludes by hinting at the hierarchical models we'll learn in Unit 7. These models are some of the most interesting and widely useful in the course."
   ]
  },
  {
   "cell_type": "code",
   "execution_count": null,
   "id": "00f85a27-372a-40a0-82e8-62d1f959227e",
   "metadata": {},
   "outputs": [],
   "source": []
  }
 ],
 "metadata": {
  "kernelspec": {
   "display_name": "Python 3 (ipykernel)",
   "language": "python",
   "name": "python3"
  },
  "language_info": {
   "codemirror_mode": {
    "name": "ipython",
    "version": 3
   },
   "file_extension": ".py",
   "mimetype": "text/x-python",
   "name": "python",
   "nbconvert_exporter": "python",
   "pygments_lexer": "ipython3",
   "version": "3.11.0"
  }
 },
 "nbformat": 4,
 "nbformat_minor": 5
}
