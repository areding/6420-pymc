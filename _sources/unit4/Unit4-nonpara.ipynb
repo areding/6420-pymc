{
 "cells": [
  {
   "cell_type": "markdown",
   "id": "a34ebdfc-beaa-4a42-8a10-053e7396e379",
   "metadata": {},
   "source": [
    "# 19. Non-parametric\n",
    "\n",
    "```{note}\n",
    "This page is a stub. It will be updated over summer 2023 with supplementary lecture notes.\n",
    "```\n",
    "\n",
    "- Errata: see pdf, there are several.\n",
    "- Link to Robbins paper(s).\n",
    "- Recommend looking at hierarchical models instead of going down this road. There's a bit about it early in Jaynes and also in S.R.\n"
   ]
  },
  {
   "cell_type": "code",
   "execution_count": null,
   "id": "f8474f5e-b166-45de-b4dc-1b197fa3b7bd",
   "metadata": {},
   "outputs": [],
   "source": []
  }
 ],
 "metadata": {
  "kernelspec": {
   "display_name": "Python 3 (ipykernel)",
   "language": "python",
   "name": "python3"
  },
  "language_info": {
   "codemirror_mode": {
    "name": "ipython",
    "version": 3
   },
   "file_extension": ".py",
   "mimetype": "text/x-python",
   "name": "python",
   "nbconvert_exporter": "python",
   "pygments_lexer": "ipython3",
   "version": "3.11.0"
  }
 },
 "nbformat": 4,
 "nbformat_minor": 5
}
