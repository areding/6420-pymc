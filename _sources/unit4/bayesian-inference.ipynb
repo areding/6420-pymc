{
 "cells": [
  {
   "cell_type": "markdown",
   "id": "1c83653a-928c-4a69-af2b-d599a15c7cbe",
   "metadata": {},
   "source": [
    "# Bayesian inference\n",
    "\n",
    "Placeholder\n",
    "\n",
    "Talk about distributions, more applications of bayes' theorem, conjugate cases, prior elicitation, empirical bayes"
   ]
  },
  {
   "cell_type": "code",
   "execution_count": null,
   "id": "7dc7a504-ea2c-4fc5-bbfa-761d89c883d0",
   "metadata": {},
   "outputs": [],
   "source": []
  }
 ],
 "metadata": {
  "kernelspec": {
   "display_name": "Python 3 (ipykernel)",
   "language": "python",
   "name": "python3"
  },
  "language_info": {
   "codemirror_mode": {
    "name": "ipython",
    "version": 3
   },
   "file_extension": ".py",
   "mimetype": "text/x-python",
   "name": "python",
   "nbconvert_exporter": "python",
   "pygments_lexer": "ipython3",
   "version": "3.9.10"
  }
 },
 "nbformat": 4,
 "nbformat_minor": 5
}
