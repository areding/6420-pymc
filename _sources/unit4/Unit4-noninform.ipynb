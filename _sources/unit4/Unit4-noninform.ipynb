{
 "cells": [
  {
   "cell_type": "markdown",
   "id": "169c5ccf-7be0-4f4d-b3d3-dec6878fa17b",
   "metadata": {},
   "source": [
    "# 15. Non-informative Priors\n",
    "\n",
    "```{note}\n",
    "This page is a stub. It will be updated over summer 2023 with supplementary lecture notes.\n",
    "```\n",
    "\n",
    "TODO:\n",
    "- Objectivism, search for true non-informative priors.\n",
    "- Link a couple of the papers that argue theres no such thing.\n",
    "- Improper priors definition and uses.\n",
    "- Jeffreys' and the Fisher Information, table of common Jeffrey's.\n",
    "- Invariance principle. (Zellner)\n",
    "- Maximize KL divergence \"reference\" priors."
   ]
  },
  {
   "cell_type": "code",
   "execution_count": null,
   "id": "146445a7-5fa2-47be-bd1a-e088d86750dc",
   "metadata": {},
   "outputs": [],
   "source": []
  }
 ],
 "metadata": {
  "kernelspec": {
   "display_name": "Python 3 (ipykernel)",
   "language": "python",
   "name": "python3"
  },
  "language_info": {
   "codemirror_mode": {
    "name": "ipython",
    "version": 3
   },
   "file_extension": ".py",
   "mimetype": "text/x-python",
   "name": "python",
   "nbconvert_exporter": "python",
   "pygments_lexer": "ipython3",
   "version": "3.11.0"
  }
 },
 "nbformat": 4,
 "nbformat_minor": 5
}
