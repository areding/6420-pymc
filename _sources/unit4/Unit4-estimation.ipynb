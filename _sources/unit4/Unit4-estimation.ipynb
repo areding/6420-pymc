{
 "cells": [
  {
   "cell_type": "markdown",
   "id": "b344bc8f-dacd-4f6e-aea6-00095b450f92",
   "metadata": {},
   "source": [
    "# 9. Estimation\n",
    "\n",
    "We've seen some examples now of how to get the posterior distributions of our models. Now we're asking: what is the meaning of the posterior and what can we do with it? We need to be able to summarize it in useful ways and make decisions based on these summaries.\n",
    "\n",
    "Point estimates are the simplest summary of the posterior. We've already used the posterior mean in previous examples, but let's back up a bit first and think about a more general framework.\n",
    "\n",
    "## Bayesian decision theory\n",
    "\n",
    "The professor touches on the concepts of actions and risk from Bayesian decision theory. An action is a specific estimation or decision made based on the posterior distribution. These decisions can be evaluated by considering the loss or error associated with that decision. The Bayes action will be a point estimate that minimizes the chosen loss function.\n",
    "\n",
    "```{note}\n",
    "You'll often see Bayesian literature refer to the \"utility function,\" rather than the loss function. The utility function is the negated loss function; it measures something positive that we want to maximize rather than minimize. For more information on this and other topics in this lecture, see {cite:t}`robert2007bayesian` Chapter 2: Decision-Theoretic Foundations. The author also has hundreds of posts on Stack Exchange under the username [Xi'an](https://stats.stackexchange.com/users/7224/xian).\n",
    "```\n",
    "\n",
    "The lecture goes over some of the most common loss functions and their connections to the posterior median and mode. If you want to see the full derivations for these, [this Statistics Matt video](https://www.youtube.com/watch?v=rMUBrbRRTEA) has them. But in practice, we already know the equations that give means, medians, and modes for many distributions, unless they don't have a closed-form solution. Once we start using MCMC methods, our posteriors will be represented by arrays of samples, so finding an estimate of the mean can be as simple as ```np.mean(samples)```."
   ]
  },
  {
   "cell_type": "code",
   "execution_count": null,
   "id": "1d334f09-b67a-4b9e-b9af-befa1664139e",
   "metadata": {},
   "outputs": [],
   "source": []
  }
 ],
 "metadata": {
  "kernelspec": {
   "display_name": "Python 3 (ipykernel)",
   "language": "python",
   "name": "python3"
  },
  "language_info": {
   "codemirror_mode": {
    "name": "ipython",
    "version": 3
   },
   "file_extension": ".py",
   "mimetype": "text/x-python",
   "name": "python",
   "nbconvert_exporter": "python",
   "pygments_lexer": "ipython3",
   "version": "3.11.0"
  }
 },
 "nbformat": 4,
 "nbformat_minor": 5
}
