{
 "cells": [
  {
   "cell_type": "markdown",
   "id": "b344bc8f-dacd-4f6e-aea6-00095b450f92",
   "metadata": {},
   "source": [
    "# 9. Estimation\n",
    "\n",
    "We've seen some examples now of how to get posterior distributions from our models. This section is called Bayesian Inference in Conjugate Cases, but strictly speaking, the inference process is done after we've got our posterior. What is the meaning of the posterior, and what can we do with it? We need to be able to summarize it in useful ways and make decisions based on these summaries.\n",
    "\n",
    "Point estimates are the simplest piece of information describing the posterior. We've already used the posterior mean in previous examples, but let's back up a bit first and think about a more general framework.\n",
    "\n",
    "\n",
    "```{note}\n",
    "This page is a stub. It will be updated over summer 2023 with supplementary lecture notes.\n",
    "```"
   ]
  },
  {
   "cell_type": "markdown",
   "id": "99dd5451-fe8b-4637-ac43-98a2a3924bf3",
   "metadata": {},
   "source": [
    "\n",
    "    "
   ]
  },
  {
   "cell_type": "code",
   "execution_count": null,
   "id": "00f0851b-506f-40bf-9844-87ddc2346f4c",
   "metadata": {},
   "outputs": [],
   "source": []
  }
 ],
 "metadata": {
  "kernelspec": {
   "display_name": "Python 3 (ipykernel)",
   "language": "python",
   "name": "python3"
  },
  "language_info": {
   "codemirror_mode": {
    "name": "ipython",
    "version": 3
   },
   "file_extension": ".py",
   "mimetype": "text/x-python",
   "name": "python",
   "nbconvert_exporter": "python",
   "pygments_lexer": "ipython3",
   "version": "3.11.0"
  }
 },
 "nbformat": 4,
 "nbformat_minor": 5
}
