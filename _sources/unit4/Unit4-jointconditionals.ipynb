{
 "cells": [
  {
   "cell_type": "markdown",
   "id": "3df002b0-9436-4ca7-ae49-85b0d3380e0c",
   "metadata": {},
   "source": [
    "# 3. Joint and Conditional Distributions\n",
    "\n",
    "\n",
    "## Errata\n",
    "\n",
    "At 10:29 in the lecture, there's an extra $e$ in the denominator that shouldn't be there. It appears to be a typo as it didn't affect the final result.\n",
    "\n",
    "## Joint Distributions\n",
    "\n",
    "A joint distribution describes the behavior of two or more random variables simultaneously. If $X = (X_1, X_2, ..., X_n)$ is a vector of random variables, then the joint probability density function (PDF) $f(x_1, x_2, ..., x_n)$ gives the likelihood that $X_1$ takes the value $x_1$, $X_2$ takes the value $x_2$, and so on.\n",
    "\n",
    "The joint cumulative distribution function (CDF) $F(x_1, x_2, ..., x_n)$ gives the probability that each of $X_1, X_2, ..., X_n$ is less than or equal to $x_1, x_2, ..., x_n$ respectively.\n",
    "\n",
    "For two dimensions, i.e., when $X = (X_1, X_2)$, we write these as:\n",
    "\n",
    "- Joint PDF: $f(x_1, x_2)$\n",
    "- Joint CDF: $F(x_1, x_2)$\n",
    "\n",
    "## Conditional Distributions\n",
    "\n",
    "A conditional distribution describes the behavior of one or more random variables given the values of some other variables. If we want to know the distribution of $X_1$ given the value of $X_2$, written $f(x_1 | x_2)$, its defined as the ratio of the joint distribution to the marginal distribution of $X_2$. The marginal distribution, $f(x_2)$, is obtained by integrating the joint distribution over all values of $X_1$:\n",
    "\n",
    "$$f(x_1|x_2) = \\frac{f(x_1, x_2)}{f(x_2)}, \\quad \\text{where} \\quad f(x_2) = \\int_{-\\infty}^{\\infty} f(x_1, x_2) dx_1$$"
   ]
  }
 ],
 "metadata": {
  "kernelspec": {
   "display_name": "Python 3 (ipykernel)",
   "language": "python",
   "name": "python3"
  },
  "language_info": {
   "codemirror_mode": {
    "name": "ipython",
    "version": 3
   },
   "file_extension": ".py",
   "mimetype": "text/x-python",
   "name": "python",
   "nbconvert_exporter": "python",
   "pygments_lexer": "ipython3",
   "version": "3.11.0"
  }
 },
 "nbformat": 4,
 "nbformat_minor": 5
}
