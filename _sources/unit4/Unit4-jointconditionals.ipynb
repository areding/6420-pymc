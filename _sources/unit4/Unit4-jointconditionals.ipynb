{
 "cells": [
  {
   "cell_type": "markdown",
   "id": "3df002b0-9436-4ca7-ae49-85b0d3380e0c",
   "metadata": {},
   "source": [
    "# 3. Joint Conditionals"
   ]
  },
  {
   "cell_type": "code",
   "execution_count": null,
   "id": "d8a84f80-66d7-4b75-91ad-93f2ca42696c",
   "metadata": {},
   "outputs": [],
   "source": []
  }
 ],
 "metadata": {
  "kernelspec": {
   "display_name": "Python 3 (ipykernel)",
   "language": "python",
   "name": "python3"
  },
  "language_info": {
   "codemirror_mode": {
    "name": "ipython",
    "version": 3
   },
   "file_extension": ".py",
   "mimetype": "text/x-python",
   "name": "python",
   "nbconvert_exporter": "python",
   "pygments_lexer": "ipython3",
   "version": "3.11.0"
  }
 },
 "nbformat": 4,
 "nbformat_minor": 5
}
