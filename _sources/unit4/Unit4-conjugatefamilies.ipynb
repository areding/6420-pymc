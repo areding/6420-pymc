{
 "cells": [
  {
   "cell_type": "markdown",
   "id": "b028b87a-7166-452b-a37b-423f91e9590b",
   "metadata": {},
   "source": [
    "# 5. Conjugate Families"
   ]
  },
  {
   "cell_type": "code",
   "execution_count": null,
   "id": "0fd1ff67-290b-4190-99a1-b8ac1e2e2237",
   "metadata": {},
   "outputs": [],
   "source": []
  }
 ],
 "metadata": {
  "kernelspec": {
   "display_name": "Python 3 (ipykernel)",
   "language": "python",
   "name": "python3"
  },
  "language_info": {
   "codemirror_mode": {
    "name": "ipython",
    "version": 3
   },
   "file_extension": ".py",
   "mimetype": "text/x-python",
   "name": "python",
   "nbconvert_exporter": "python",
   "pygments_lexer": "ipython3",
   "version": "3.11.0"
  }
 },
 "nbformat": 4,
 "nbformat_minor": 5
}
