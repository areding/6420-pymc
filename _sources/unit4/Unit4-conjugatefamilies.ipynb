{
 "cells": [
  {
   "cell_type": "markdown",
   "id": "b028b87a-7166-452b-a37b-423f91e9590b",
   "metadata": {},
   "source": [
    "# 5. Conjugate Families\n",
    "\n",
    "One way to avoid needing to calculate the normalizing is to make use of conjugate pairs. These are likelihood-prior pairs where the posterior will be the same family as the prior.\n",
    "\n",
    "(content:conjugate_table)=\n",
    "## Conjugate table\n",
    "\n",
    "From {cite:t}`vidakovic2017engineering` p. 341. This is not an exhaustive list but it has some of the most common conjugate pairs."
   ]
  },
  {
   "cell_type": "markdown",
   "id": "4bac0e78-ec4e-4bd5-ad09-340118f187ca",
   "metadata": {},
   "source": [
    "| Likelihood | Prior                | Posterior                                                                                                                                                  |\n",
    "|:------------|:----------------------|:-----------------------------------------------------------------------------------------------------------------------------------------------------------|\n",
    "| $X_i \\mid  \\theta \\sim \\mathcal{N} (\\theta, \\sigma^2)$     | $\\theta \\sim\\mathcal{N}(\\mu, \\tau^2)$  | $\\theta\\mid X\\sim \\mathcal{N}\\left(\\frac{\\tau^2}{\\tau^2 +\\sigma^2/n}\\bar{X} + \\frac{\\sigma^2/n}{\\tau^2 + \\sigma^2/n}\\mu, \\frac{\\tau^2\\sigma^2/n}{\\tau^2+ \\sigma^2/n}\\right)$ |\n",
    "| $X_i\\mid \\theta \\sim Bin(m,\\theta)$    | $\\theta \\sim Be(\\alpha,\\beta)$     | $\\theta\\mid X \\sim Be\\left(\\alpha + \\sum_{i=1}^{n}X_i,\\beta + mn - \\sum_{i=1}^{n}X_i\\right)$                                                                |\n",
    "| $X_i\\mid \\theta \\sim Poi(\\theta)$    | $\\theta \\sim Ga(\\alpha,\\beta)$     | $\\theta\\mid X \\sim Ga\\left(\\alpha+\\sum_{i=1}^{n}X_i,\\beta+n\\right)$                                                                                         |\n",
    "| $X_i\\mid \\theta \\sim \\mathcal{NB}(m,\\theta)$    | $\\theta \\sim Be(\\alpha,\\beta)$     | $\\theta\\mid X \\sim Be\\left(\\alpha+mn,\\beta+\\sum_{i=1}^{n}X_i\\right)$                                                                                       |\n",
    "| $X_i\\mid \\theta \\sim Ga\\left(1/2,1/2\\theta\\right)$    | $\\theta \\sim IG(\\alpha, \\beta)$     | $\\theta \\mid  X \\sim IG\\left(\\alpha + n/2, \\beta + \\frac{1}{2}\\sum_{i=1}^{n}X_i\\right)$                                                                  |\n",
    "| $X_i\\mid \\theta \\sim U(0,\\theta)$    | $\\theta \\sim Pa(\\theta_0,\\alpha)$     | $\\theta\\mid X \\sim Pa\\left(\\max\\{\\theta_0,X_1,...,X_n\\},\\alpha+n\\right)$                                                                                    |\n",
    "| $X_i\\mid \\theta \\sim \\mathcal{N}(\\mu,\\theta)$    | $\\theta \\sim IG(\\alpha, \\beta)$     | $\\theta\\mid X \\sim IG\\left(\\alpha+n/2,\\beta+\\frac{1}{2}\\sum_{i=1}^{n}(X_i - \\mu)^2\\right)$                                                                 |\n",
    "| $X_i\\mid \\theta \\sim Ga(\\nu,\\theta)$    | $\\theta \\sim Ga(\\alpha,\\beta)$     | $\\theta \\mid  X \\sim Ga\\left(\\alpha +\\mathcal{N}\\nu, \\beta + \\sum_{i=1}^{n}X_i\\right)$                                                                    |\n",
    "| $X_i\\mid \\theta \\sim Pa(c,\\theta)$    | $\\theta \\sim Ga(\\alpha,\\beta)$     | $\\theta \\mid  X \\sim Ga\\left(\\alpha + n, \\beta + \\sum_{i=1}^{n}\\log\\left(X_i/c\\right)\\right)$                                                            |"
   ]
  },
  {
   "cell_type": "code",
   "execution_count": null,
   "id": "42dcc855-cae0-4a9b-83d5-d7afd715f556",
   "metadata": {},
   "outputs": [],
   "source": []
  }
 ],
 "metadata": {
  "kernelspec": {
   "display_name": "Python 3 (ipykernel)",
   "language": "python",
   "name": "python3"
  },
  "language_info": {
   "codemirror_mode": {
    "name": "ipython",
    "version": 3
   },
   "file_extension": ".py",
   "mimetype": "text/x-python",
   "name": "python",
   "nbconvert_exporter": "python",
   "pygments_lexer": "ipython3",
   "version": "3.11.0"
  }
 },
 "nbformat": 4,
 "nbformat_minor": 5
}
