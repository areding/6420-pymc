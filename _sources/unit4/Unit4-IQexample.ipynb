{
 "cells": [
  {
   "cell_type": "markdown",
   "id": "f96148e7-b436-4025-a704-4f43b373c12d",
   "metadata": {},
   "source": [
    "# 6. Example: Jeremy's IQ"
   ]
  },
  {
   "cell_type": "code",
   "execution_count": null,
   "id": "86485cd0-d109-409c-8805-4e0d6e8246f0",
   "metadata": {},
   "outputs": [],
   "source": []
  }
 ],
 "metadata": {
  "kernelspec": {
   "display_name": "Python 3 (ipykernel)",
   "language": "python",
   "name": "python3"
  },
  "language_info": {
   "codemirror_mode": {
    "name": "ipython",
    "version": 3
   },
   "file_extension": ".py",
   "mimetype": "text/x-python",
   "name": "python",
   "nbconvert_exporter": "python",
   "pygments_lexer": "ipython3",
   "version": "3.11.0"
  }
 },
 "nbformat": 4,
 "nbformat_minor": 5
}
