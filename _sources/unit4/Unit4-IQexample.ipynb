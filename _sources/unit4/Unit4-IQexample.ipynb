{
 "cells": [
  {
   "cell_type": "markdown",
   "id": "f96148e7-b436-4025-a704-4f43b373c12d",
   "metadata": {},
   "source": [
    "# 6. Example: Jeremy's IQ\n",
    "\n",
    "This example shows how to use the Normal-Normal conjugate pair.\n",
    "\n",
    "Jeremy, a Georgia Tech student, is modeling his IQ as $\\mathcal{N}(\\theta, 80)$. Our prior on a GT student's mean IQ, $\\theta$, is $\\mathcal{N}(110, 120)$. Jeremy takes an IQ test and scores 98.\n",
    "\n",
    "Here's our model:\n",
    "\n",
    "$$\n",
    "\\begin{align*}\n",
    "X | \\theta &\\sim \\mathcal{N}(\\theta, 80) \\\\\n",
    "\\theta &\\sim \\mathcal{N}(110, 120)\n",
    "\\end{align*}\n",
    "$$\n",
    "\n",
    "According to the [conjugate table](content:conjugate_table), we can use the Normal-Normal pair as follows:\n",
    "\n",
    "$$\\theta\\mid X\\sim \\mathcal{N}\\left(\\frac{\\tau^2}{\\tau^2 +\\sigma^2/n}\\bar{X} + \\frac{\\sigma^2/n}{\\tau^2 + \\sigma^2/n}\\mu, \\frac{\\tau^2\\sigma^2/n}{\\tau^2+ \\sigma^2/n}\\right)$$\n",
    "\n",
    "We know the following from the problem description:\n",
    "\n",
    "$\\mu = 110, \\tau^2 = 120, \\sigma^2 = 80, n = 1, \\bar{X} = 98$\n",
    "\n",
    "So:\n",
    "\n",
    "\n",
    "$$\n",
    "\\begin{align*}\n",
    "\\theta\\mid X &\\sim \\mathcal{N}\\left(\\frac{120}{120 + 80/1}(98) + \\frac{80/1}{120 + 80/1}(110), \\frac{(120)(80)/1}{120 + 80/1}\\right) \\\\\n",
    "&\\sim \\mathcal{N}(102.8, 48)\n",
    "\\end{align*}\n",
    "$$\n",
    "\n",
    "If we increase $n$ to 5 with the same mean, the posterior mean and variance both go down as the data starts to overwhelm the prior: $\\mathcal{N}(99.4, 14.1)$.\n"
   ]
  },
  {
   "cell_type": "code",
   "execution_count": null,
   "id": "889d92a4-83ca-48d4-b358-11842b58e18e",
   "metadata": {},
   "outputs": [],
   "source": []
  }
 ],
 "metadata": {
  "kernelspec": {
   "display_name": "Python 3 (ipykernel)",
   "language": "python",
   "name": "python3"
  },
  "language_info": {
   "codemirror_mode": {
    "name": "ipython",
    "version": 3
   },
   "file_extension": ".py",
   "mimetype": "text/x-python",
   "name": "python",
   "nbconvert_exporter": "python",
   "pygments_lexer": "ipython3",
   "version": "3.11.0"
  }
 },
 "nbformat": 4,
 "nbformat_minor": 5
}
