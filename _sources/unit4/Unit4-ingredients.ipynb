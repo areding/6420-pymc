{
 "cells": [
  {
   "cell_type": "markdown",
   "id": "25a1530a-d066-4c0d-9f96-a18fdf26507d",
   "metadata": {},
   "source": [
    "# 4. Ingredients for Bayesian Inference"
   ]
  },
  {
   "cell_type": "code",
   "execution_count": null,
   "id": "99eaed72-9825-4a3a-bf49-ba7eb737efe2",
   "metadata": {},
   "outputs": [],
   "source": []
  }
 ],
 "metadata": {
  "kernelspec": {
   "display_name": "Python 3 (ipykernel)",
   "language": "python",
   "name": "python3"
  },
  "language_info": {
   "codemirror_mode": {
    "name": "ipython",
    "version": 3
   },
   "file_extension": ".py",
   "mimetype": "text/x-python",
   "name": "python",
   "nbconvert_exporter": "python",
   "pygments_lexer": "ipython3",
   "version": "3.11.0"
  }
 },
 "nbformat": 4,
 "nbformat_minor": 5
}
