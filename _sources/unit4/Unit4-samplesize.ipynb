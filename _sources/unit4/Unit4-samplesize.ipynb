{
 "cells": [
  {
   "cell_type": "markdown",
   "id": "dc20ded5-9908-475e-98e4-3b685e92be0d",
   "metadata": {},
   "source": [
    "# 16. Prior Sample Size\n",
    "\n",
    "```{note}\n",
    "This page is a stub. It will be updated over summer 2023 with supplementary lecture notes.\n",
    "```\n",
    "\n",
    "TODO:\n",
    "- Explain this a bit more, show other ways to calibrate priors.\n",
    "- What does he mean by sample size here? (differentiate/connect with the usual use)\n",
    "- ESS (not the same as Pymc/Stan stat)\n",
    "- Expand on Spiegelhalter notes \"vague, skeptical, enthusiastic\" and compare to Stan dev notes.\n"
   ]
  },
  {
   "cell_type": "code",
   "execution_count": null,
   "id": "376e64fd-3197-4cb9-a0e3-80e512eaf414",
   "metadata": {},
   "outputs": [],
   "source": []
  }
 ],
 "metadata": {
  "kernelspec": {
   "display_name": "Python 3 (ipykernel)",
   "language": "python",
   "name": "python3"
  },
  "language_info": {
   "codemirror_mode": {
    "name": "ipython",
    "version": 3
   },
   "file_extension": ".py",
   "mimetype": "text/x-python",
   "name": "python",
   "nbconvert_exporter": "python",
   "pygments_lexer": "ipython3",
   "version": "3.11.0"
  }
 },
 "nbformat": 4,
 "nbformat_minor": 5
}
