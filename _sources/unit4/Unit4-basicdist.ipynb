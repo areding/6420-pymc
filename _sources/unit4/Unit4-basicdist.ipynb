{
 "cells": [
  {
   "cell_type": "markdown",
   "id": "8876ac97-5ce9-4a70-91e9-122728aa2254",
   "metadata": {},
   "source": [
    "# 1. Basic Distributions"
   ]
  },
  {
   "cell_type": "code",
   "execution_count": null,
   "id": "e1c8c496-2a42-4687-af30-11e8cf5ad08b",
   "metadata": {},
   "outputs": [],
   "source": []
  }
 ],
 "metadata": {
  "kernelspec": {
   "display_name": "Python 3 (ipykernel)",
   "language": "python",
   "name": "python3"
  },
  "language_info": {
   "codemirror_mode": {
    "name": "ipython",
    "version": 3
   },
   "file_extension": ".py",
   "mimetype": "text/x-python",
   "name": "python",
   "nbconvert_exporter": "python",
   "pygments_lexer": "ipython3",
   "version": "3.11.0"
  }
 },
 "nbformat": 4,
 "nbformat_minor": 5
}
