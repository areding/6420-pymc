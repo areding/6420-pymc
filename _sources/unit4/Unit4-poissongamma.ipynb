{
 "cells": [
  {
   "cell_type": "markdown",
   "id": "28b584ae-4792-4da3-ad65-b563aed0e826",
   "metadata": {},
   "source": [
    "# 8. Poisson–Gamma Model"
   ]
  },
  {
   "cell_type": "code",
   "execution_count": null,
   "id": "90b70e60-773f-4d3a-aca3-17f59579b5f5",
   "metadata": {},
   "outputs": [],
   "source": []
  }
 ],
 "metadata": {
  "kernelspec": {
   "display_name": "Python 3 (ipykernel)",
   "language": "python",
   "name": "python3"
  },
  "language_info": {
   "codemirror_mode": {
    "name": "ipython",
    "version": 3
   },
   "file_extension": ".py",
   "mimetype": "text/x-python",
   "name": "python",
   "nbconvert_exporter": "python",
   "pygments_lexer": "ipython3",
   "version": "3.11.0"
  }
 },
 "nbformat": 4,
 "nbformat_minor": 5
}
