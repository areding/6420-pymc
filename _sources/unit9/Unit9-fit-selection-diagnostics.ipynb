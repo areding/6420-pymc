{
 "cells": [
  {
   "cell_type": "markdown",
   "id": "8120168f",
   "metadata": {},
   "source": [
    "# Model Fit, Selection, and Diagnostics\n",
    "\n",
    "\n",
    "```{note}\n",
    "This page is a stub. It will be updated over summer 2023 with supplementary lecture notes.\n",
    "```"
   ]
  },
  {
   "cell_type": "markdown",
   "id": "dcbbec84-263e-433b-8b97-fd20e79f1197",
   "metadata": {},
   "source": [
    "Papers to check out:\n",
    "\n",
    "https://arxiv.org/abs/1307.5928\n",
    "\n",
    "https://arxiv.org/abs/1507.04544?context=stat"
   ]
  },
  {
   "cell_type": "code",
   "execution_count": null,
   "id": "a9567541-8ca6-4983-b7f5-03146f23551d",
   "metadata": {},
   "outputs": [],
   "source": []
  }
 ],
 "metadata": {
  "kernelspec": {
   "display_name": "Python 3 (ipykernel)",
   "language": "python",
   "name": "python3"
  },
  "language_info": {
   "codemirror_mode": {
    "name": "ipython",
    "version": 3
   },
   "file_extension": ".py",
   "mimetype": "text/x-python",
   "name": "python",
   "nbconvert_exporter": "python",
   "pygments_lexer": "ipython3",
   "version": "3.11.0"
  }
 },
 "nbformat": 4,
 "nbformat_minor": 5
}
