{
 "cells": [
  {
   "cell_type": "markdown",
   "id": "cc5d3ed0-8ab5-46b5-82f5-7b3768ee0ef9",
   "metadata": {},
   "source": [
    "# Cumulative "
   ]
  },
  {
   "cell_type": "code",
   "execution_count": null,
   "id": "882ff3ed-18c0-4635-a158-d386420c23e3",
   "metadata": {},
   "outputs": [],
   "source": []
  }
 ],
 "metadata": {
  "kernelspec": {
   "display_name": "Python 3 (ipykernel)",
   "language": "python",
   "name": "python3"
  },
  "language_info": {
   "codemirror_mode": {
    "name": "ipython",
    "version": 3
   },
   "file_extension": ".py",
   "mimetype": "text/x-python",
   "name": "python",
   "nbconvert_exporter": "python",
   "pygments_lexer": "ipython3",
   "version": "3.11.0"
  }
 },
 "nbformat": 4,
 "nbformat_minor": 5
}
