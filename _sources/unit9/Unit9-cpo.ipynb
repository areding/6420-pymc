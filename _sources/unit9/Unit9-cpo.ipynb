{
 "cells": [
  {
   "cell_type": "markdown",
   "id": "1a549b39-51d5-49ec-bdad-e7b8a4ff97de",
   "metadata": {},
   "source": [
    "# Conditional Predictive Ordinate"
   ]
  },
  {
   "cell_type": "code",
   "execution_count": null,
   "id": "5ecf65ea-0582-4d38-9c11-19410d1ac307",
   "metadata": {},
   "outputs": [],
   "source": []
  }
 ],
 "metadata": {
  "kernelspec": {
   "display_name": "Python 3 (ipykernel)",
   "language": "python",
   "name": "python3"
  },
  "language_info": {
   "codemirror_mode": {
    "name": "ipython",
    "version": 3
   },
   "file_extension": ".py",
   "mimetype": "text/x-python",
   "name": "python",
   "nbconvert_exporter": "python",
   "pygments_lexer": "ipython3",
   "version": "3.11.0"
  }
 },
 "nbformat": 4,
 "nbformat_minor": 5
}
