{
 "cells": [
  {
   "cell_type": "code",
   "execution_count": 1,
   "id": "65237656",
   "metadata": {},
   "outputs": [],
   "source": [
    "import pymc as pm\n",
    "import numpy as np\n",
    "import arviz as az\n",
    "import pandas as pd\n",
    "import aesara.tensor as at\n",
    "from pytensor.tensor.subtensor import set_subtensor as set_st\n",
    "from pymc.math import eq\n",
    "import seaborn as sns\n",
    "import matplotlib.pyplot as plt\n",
    "\n",
    "%load_ext lab_black"
   ]
  },
  {
   "cell_type": "markdown",
   "id": "94b75581",
   "metadata": {},
   "source": [
    "# Hald*\n",
    "\n",
    "Adapted from [Unit 9: Hald.odc](https://raw.githubusercontent.com/areding/6420-pymc/main/original_examples/Codes4Unit9/Hald.odc)."
   ]
  },
  {
   "cell_type": "markdown",
   "id": "3aa58721",
   "metadata": {},
   "source": [
    "A dataset on Portland cement originally due to Woods, Steinour and Starke (1932), and which has since then been widely analysed is now referred as Hald data cf. e.g., Hald (1952, pp. 635\u0013†652),\n",
    "\n",
    "These data come from an experimental investigation of the heat evolved during the setting and hardening of Portland cements of varied composition and the dependence of this heat  on the percentages of four compounds in the clinkers from which the cement was  produced.\n",
    "\n",
    "As observed by Woods, Steinour and Starke (1932, p. 1207): \n",
    ">This property is of interest in the construction of massive works such as dams, in which the great thicknesses severely hinder the outflow of the heat. The consequent rise in temperature while the cement is hardening may result in contractions and cracking when the eventual cooling to the surrounding temperature takes place. \n",
    "\n",
    "The four compounds considered by Woods, Steinour and Starke (1932) are tricalcium aluminate: 3CaO-Al2O3, tricalcium silicate: 3CaO-SiO2, tetracalcium aluminoferrite: 4CaO-Al2O3-Fe2O3, and beta-dicalcium silicate: 2CaO-SiO2, which we will denote by x1, x2, x3, and x4, respectively. The heat evolved after 180 days of curing, which we will denote by y, is measured in calories per gram of cement.\n",
    "\n",
    "REFS:\n",
    "Hald, Anders (1952). Statistical Theory with Engineering Applications. Wiley, New York.\n",
    "\n",
    "Woods, H., Steinour, H. H., and Starke, H. R. (1932). Effect of composition\n",
    "of Portland cement on heat evolved during hardening. Industrial and Engineering\n",
    "Chemistry, 24, 1207\u0013†1214.\n",
    "\n",
    "\n"
   ]
  },
  {
   "cell_type": "code",
   "execution_count": 2,
   "id": "90159bbf",
   "metadata": {},
   "outputs": [],
   "source": [
    "data = pd.read_csv(\"../data/hald_data.csv\")\n",
    "y = data[\"y\"].to_numpy()\n",
    "X = data.drop(\"y\", axis=1).to_numpy()"
   ]
  },
  {
   "cell_type": "code",
   "execution_count": 3,
   "id": "15537d74",
   "metadata": {},
   "outputs": [],
   "source": [
    "Y = y.repeat(7).reshape(13, 7)"
   ]
  },
  {
   "cell_type": "markdown",
   "id": "1cd61f7d",
   "metadata": {},
   "source": [
    "This was a pain to type out. Would be nice to find a cleaner method.\n",
    "\n",
    "Model 1 shows how to use the Laud-Ibrahim criterion ([Laud and Ibrahim, 1995](https://rss.onlinelibrary.wiley.com/doi/abs/10.1111/j.2517-6161.1995.tb02028.x)) to choose between models. The L metric is based on a comparison between the original target variable and the posterior predictive distribution. In the BUGS example, the ```Y.new``` contains the results of the Posterior Predictive Check (PPC). As the variable name indicates, it's just a set of new Y values generated from the posterior. The L metric is a measure of distance between the original y values and the PPC. The lower L is, the better.\n",
    "\n",
    "```{note}\n",
    "The BUGS example has 8 models, but I only have 7 here. That's because models 6 and 8 were identical, so I just dropped model 8.\n",
    "```"
   ]
  },
  {
   "cell_type": "code",
   "execution_count": 5,
   "id": "e2d16dbb",
   "metadata": {
    "tags": [
     "hide-output"
    ]
   },
   "outputs": [
    {
     "name": "stderr",
     "output_type": "stream",
     "text": [
      "Auto-assigning NUTS sampler...\n",
      "Initializing NUTS using jitter+adapt_diag...\n",
      "Multiprocess sampling (4 chains in 4 jobs)\n",
      "NUTS: [a, b, c, d, e, f, g, tau]\n"
     ]
    },
    {
     "data": {
      "text/html": [
       "\n",
       "<style>\n",
       "    /* Turns off some styling */\n",
       "    progress {\n",
       "        /* gets rid of default border in Firefox and Opera. */\n",
       "        border: none;\n",
       "        /* Needs to be in here for Safari polyfill so background images work as expected. */\n",
       "        background-size: auto;\n",
       "    }\n",
       "    progress:not([value]), progress:not([value])::-webkit-progress-bar {\n",
       "        background: repeating-linear-gradient(45deg, #7e7e7e, #7e7e7e 10px, #5c5c5c 10px, #5c5c5c 20px);\n",
       "    }\n",
       "    .progress-bar-interrupted, .progress-bar-interrupted::-webkit-progress-bar {\n",
       "        background: #F44336;\n",
       "    }\n",
       "</style>\n"
      ],
      "text/plain": [
       "<IPython.core.display.HTML object>"
      ]
     },
     "metadata": {},
     "output_type": "display_data"
    },
    {
     "data": {
      "text/html": [
       "\n",
       "    <div>\n",
       "      <progress value='24000' class='' max='24000' style='width:300px; height:20px; vertical-align: middle;'></progress>\n",
       "      100.00% [24000/24000 22:13&lt;00:00 Sampling 4 chains, 0 divergences]\n",
       "    </div>\n",
       "    "
      ],
      "text/plain": [
       "<IPython.core.display.HTML object>"
      ]
     },
     "metadata": {},
     "output_type": "display_data"
    },
    {
     "name": "stderr",
     "output_type": "stream",
     "text": [
      "Sampling 4 chains for 1_000 tune and 5_000 draw iterations (4_000 + 20_000 draws total) took 1333 seconds.\n",
      "Sampling: [likelihood]\n"
     ]
    },
    {
     "data": {
      "text/html": [
       "\n",
       "<style>\n",
       "    /* Turns off some styling */\n",
       "    progress {\n",
       "        /* gets rid of default border in Firefox and Opera. */\n",
       "        border: none;\n",
       "        /* Needs to be in here for Safari polyfill so background images work as expected. */\n",
       "        background-size: auto;\n",
       "    }\n",
       "    progress:not([value]), progress:not([value])::-webkit-progress-bar {\n",
       "        background: repeating-linear-gradient(45deg, #7e7e7e, #7e7e7e 10px, #5c5c5c 10px, #5c5c5c 20px);\n",
       "    }\n",
       "    .progress-bar-interrupted, .progress-bar-interrupted::-webkit-progress-bar {\n",
       "        background: #F44336;\n",
       "    }\n",
       "</style>\n"
      ],
      "text/plain": [
       "<IPython.core.display.HTML object>"
      ]
     },
     "metadata": {},
     "output_type": "display_data"
    },
    {
     "data": {
      "text/html": [
       "\n",
       "    <div>\n",
       "      <progress value='20000' class='' max='20000' style='width:300px; height:20px; vertical-align: middle;'></progress>\n",
       "      100.00% [20000/20000 00:01&lt;00:00]\n",
       "    </div>\n",
       "    "
      ],
      "text/plain": [
       "<IPython.core.display.HTML object>"
      ]
     },
     "metadata": {},
     "output_type": "display_data"
    }
   ],
   "source": [
    "with pm.Model() as m:\n",
    "    a = pm.Normal(\"a\", 0, tau=0.00001, shape=4)\n",
    "    b = pm.Normal(\"b\", 0, tau=0.00001, shape=4)\n",
    "    c = pm.Normal(\"c\", 0, tau=0.00001, shape=4)\n",
    "    d = pm.Normal(\"d\", 0, tau=0.00001, shape=5)\n",
    "    e = pm.Normal(\"e\", 0, tau=0.00001, shape=3)\n",
    "    f = pm.Normal(\"f\", 0, tau=0.00001, shape=3)\n",
    "    g = pm.Normal(\"g\", 0, tau=0.00001, shape=4)\n",
    "    tau = pm.Gamma(\"tau\", 12.5, 62.5, shape=7)\n",
    "    # fmt: off\n",
    "    _mu = [\n",
    "        a[0] + a[1] * X[:, 0] + a[2] * X[:, 1] + a[3] * X[:, 3],  # i013\n",
    "        b[0] + b[1] * X[:, 0] + b[2] * X[:, 1] + b[3] * X[:, 2],  # i012\n",
    "        c[0] + c[1] * X[:, 0] + c[2] * X[:, 2] + c[3] * X[:, 3],  # i023\n",
    "        d[0] + d[1] * X[:, 0] + d[2] * X[:, 1] + d[3] * X[:, 2] + d[4] * X[:, 3],  # i0123\n",
    "        e[0] + e[1] * X[:, 0] + e[2] * X[:, 1],  # i01\n",
    "        f[0] + f[1] * X[:, 0] + f[2] * X[:, 3],  # i03\n",
    "        g[0] + g[1] * X[:, 1] + g[2] * X[:, 2] + g[3] * X[:, 3],  # i123\n",
    "    ]\n",
    "    # fmt: on\n",
    "    mu = pm.math.stack(_mu)\n",
    "    pm.Normal(\"likelihood\", mu=mu.T, tau=tau, observed=Y)\n",
    "\n",
    "    trace = pm.sample(5000, target_accept=0.95)\n",
    "\n",
    "    pm.sample_posterior_predictive(trace, extend_inferencedata=True)"
   ]
  },
  {
   "cell_type": "code",
   "execution_count": 6,
   "id": "1731c33b",
   "metadata": {},
   "outputs": [],
   "source": [
    "Y_new = az.summary(trace.posterior_predictive)[\"mean\"].values.reshape(13, 7)\n",
    "D2 = (Y - Y_new) ** 2\n",
    "L = np.sqrt(np.sum(D2, axis=0) + np.std(Y_new, axis=0) ** 2)"
   ]
  },
  {
   "cell_type": "code",
   "execution_count": 7,
   "id": "8c1a1715",
   "metadata": {
    "tags": [
     "hide-input"
    ]
   },
   "outputs": [
    {
     "data": {
      "image/png": "[encoded data removed]",
      "text/plain": [
       "<Figure size 640x480 with 1 Axes>"
      ]
     },
     "metadata": {},
     "output_type": "display_data"
    }
   ],
   "source": [
    "colors = [\"grey\" if m > L.min() else \"green\" for m in L]\n",
    "bp = sns.barplot(x=list(range(1, 8)), y=L, palette=colors)\n",
    "bp.set(ylim=(15, 17), xlabel=\"model\", ylabel=\"L\")\n",
    "bp.bar_label(bp.containers[0])\n",
    "plt.show()"
   ]
  },
  {
   "cell_type": "markdown",
   "id": "e4332477",
   "metadata": {},
   "source": [
    "The results are not identical to BUGS, so I may need to come back and double-check this. I also haven't calculated the model-by-model comparisons."
   ]
  },
  {
   "cell_type": "code",
   "execution_count": 8,
   "id": "9f828d04",
   "metadata": {},
   "outputs": [
    {
     "name": "stdout",
     "output_type": "stream",
     "text": [
      "Last updated: Wed Mar 22 2023\n",
      "\n",
      "Python implementation: CPython\n",
      "Python version       : 3.11.0\n",
      "IPython version      : 8.9.0\n",
      "\n",
      "pytensor: 2.10.1\n",
      "\n",
      "arviz     : 0.15.1\n",
      "aesara    : 2.8.10\n",
      "matplotlib: 3.6.3\n",
      "seaborn   : 0.12.2\n",
      "pandas    : 1.5.3\n",
      "numpy     : 1.24.2\n",
      "pymc      : 5.1.2\n",
      "\n"
     ]
    }
   ],
   "source": [
    "%load_ext watermark\n",
    "%watermark -n -u -v -iv -p pytensor"
   ]
  },
  {
   "cell_type": "code",
   "execution_count": null,
   "id": "e56d587f-a00a-461a-bf32-3bb7fd7fd4cc",
   "metadata": {},
   "outputs": [],
   "source": []
  }
 ],
 "metadata": {
  "kernelspec": {
   "display_name": "Python 3 (ipykernel)",
   "language": "python",
   "name": "python3"
  },
  "language_info": {
   "codemirror_mode": {
    "name": "ipython",
    "version": 3
   },
   "file_extension": ".py",
   "mimetype": "text/x-python",
   "name": "python",
   "nbconvert_exporter": "python",
   "pygments_lexer": "ipython3",
   "version": "3.11.0"
  }
 },
 "nbformat": 4,
 "nbformat_minor": 5
}
