{
 "cells": [
  {
   "cell_type": "code",
   "execution_count": 1,
   "id": "b8d46e75",
   "metadata": {},
   "outputs": [],
   "source": [
    "import pymc as pm\n",
    "import numpy as np\n",
    "import arviz as az\n",
    "import pandas as pd\n",
    "import aesara.tensor as at\n",
    "from aesara.tensor.subtensor import set_subtensor as set_st\n",
    "\n",
    "%load_ext lab_black\n",
    "%load_ext watermark"
   ]
  },
  {
   "cell_type": "markdown",
   "id": "d6f653c5",
   "metadata": {},
   "source": [
    "# Hald\n",
    "\n",
    "This example demonstrates ...\n",
    "\n",
    "Adapted from [unit 9: Hald.odc](https://raw.githubusercontent.com/areding/6420-pymc/main/original_examples/Codes4Unit9/Hald.odc) and [unit 9: Haldssvs.odc](https://raw.githubusercontent.com/areding/6420-pymc/main/original_examples/Codes4Unit9/Haldssvs.odc)\n",
    "\n",
    "Associated lecture videos\n",
    "Unit 9 Lesson 4"
   ]
  },
  {
   "cell_type": "markdown",
   "id": "c934eca3",
   "metadata": {},
   "source": [
    "Unit 9 Lesson 10"
   ]
  },
  {
   "cell_type": "markdown",
   "id": "b188c87b",
   "metadata": {},
   "source": [
    "## Problem statement\n",
    "\n",
    "A dataset on Portland cement originally due to Woods, Steinour and Starke (1932), and which has since then been widely analysed is now referred as Hald data cf. e.g., Hald (1952, pp. 635\u0013†652),\n",
    "\n",
    "These data come from an experimental investigation of the heat evolved during the setting and hardening of Portland cements of varied composition and the dependence of this heat  on the percentages of four compounds in the clinkers from which the cement was  produced.\n",
    "\n",
    "As observed by Woods, Steinour and Starke (1932, p. 1207): \n",
    ">This property is of interest in the construction of massive works such as dams, in which the great thicknesses severely hinder the outflow of the heat. The consequent rise in temperature while the cement is hardening may result in contractions and cracking when the eventual cooling to the surrounding temperature takes place. \n",
    "\n",
    "The four compounds considered by Woods, Steinour and Starke (1932) are tricalcium aluminate: 3CaO-Al2O3, tricalcium silicate: 3CaO-SiO2, tetracalcium aluminoferrite: 4CaO-Al2O3-Fe2O3, and beta-dicalcium silicate: 2CaO-SiO2, which we will denote by x1, x2, x3, and x4, respectively. The heat evolved after 180 days of curing, which we will denote by y, is measured in calories per gram of cement.\n",
    "\n",
    "REFS:\n",
    "Hald, Anders (1952). Statistical Theory with Engineering Applications. Wiley, New York.\n",
    "\n",
    "Woods, H., Steinour, H. H., and Starke, H. R. (1932). Effect of composition\n",
    "of Portland cement on heat evolved during hardening. Industrial and Engineering\n",
    "Chemistry, 24, 1207\u0013†1214.\n",
    "\n",
    "\n"
   ]
  },
  {
   "cell_type": "code",
   "execution_count": 4,
   "id": "5f530b88",
   "metadata": {},
   "outputs": [],
   "source": [
    "data = pd.read_csv(\"../data/hald_data.csv\")\n",
    "y = data[\"y\"].to_numpy()\n",
    "X = data.drop(\"y\", axis=1).to_numpy()"
   ]
  },
  {
   "cell_type": "code",
   "execution_count": 5,
   "id": "2c9a7acd",
   "metadata": {},
   "outputs": [],
   "source": [
    "Y = y.repeat(8).reshape(13, 8)"
   ]
  },
  {
   "cell_type": "markdown",
   "id": "01d57e33",
   "metadata": {},
   "source": [
    "## Model 1"
   ]
  },
  {
   "cell_type": "markdown",
   "id": "f7604573",
   "metadata": {},
   "source": [
    "I don't understand why he is doing Y_new for comparison with Y. He's doing a PPC between y (observed) and Y_new, but why not just use Y? Guess I better watch the lecture... \n",
    "\n",
    "\n",
    "Coming back to this later"
   ]
  },
  {
   "cell_type": "code",
   "execution_count": 6,
   "id": "56191c6a",
   "metadata": {},
   "outputs": [
    {
     "name": "stderr",
     "output_type": "stream",
     "text": [
      "Auto-assigning NUTS sampler...\n",
      "Initializing NUTS using jitter+adapt_diag...\n",
      "Multiprocess sampling (4 chains in 4 jobs)\n",
      "NUTS: [a, b, c, d, e, f, g, h, tau]\n"
     ]
    },
    {
     "data": {
      "text/html": [
       "\n",
       "<style>\n",
       "    /* Turns off some styling */\n",
       "    progress {\n",
       "        /* gets rid of default border in Firefox and Opera. */\n",
       "        border: none;\n",
       "        /* Needs to be in here for Safari polyfill so background images work as expected. */\n",
       "        background-size: auto;\n",
       "    }\n",
       "    .progress-bar-interrupted, .progress-bar-interrupted::-webkit-progress-bar {\n",
       "        background: #F44336;\n",
       "    }\n",
       "</style>\n"
      ],
      "text/plain": [
       "<IPython.core.display.HTML object>"
      ]
     },
     "metadata": {},
     "output_type": "display_data"
    },
    {
     "data": {
      "text/html": [
       "\n",
       "    <div>\n",
       "      <progress value='12000' class='' max='12000' style='width:300px; height:20px; vertical-align: middle;'></progress>\n",
       "      100.00% [12000/12000 06:44<00:00 Sampling 4 chains, 1,549 divergences]\n",
       "    </div>\n",
       "    "
      ],
      "text/plain": [
       "<IPython.core.display.HTML object>"
      ]
     },
     "metadata": {},
     "output_type": "display_data"
    },
    {
     "name": "stderr",
     "output_type": "stream",
     "text": [
      "Sampling 4 chains for 1_000 tune and 2_000 draw iterations (4_000 + 8_000 draws total) took 431 seconds.\n",
      "There were 830 divergences after tuning. Increase `target_accept` or reparameterize.\n",
      "There were 74 divergences after tuning. Increase `target_accept` or reparameterize.\n",
      "There were 32 divergences after tuning. Increase `target_accept` or reparameterize.\n",
      "There were 613 divergences after tuning. Increase `target_accept` or reparameterize.\n"
     ]
    },
    {
     "data": {
      "text/html": [
       "\n",
       "<style>\n",
       "    /* Turns off some styling */\n",
       "    progress {\n",
       "        /* gets rid of default border in Firefox and Opera. */\n",
       "        border: none;\n",
       "        /* Needs to be in here for Safari polyfill so background images work as expected. */\n",
       "        background-size: auto;\n",
       "    }\n",
       "    .progress-bar-interrupted, .progress-bar-interrupted::-webkit-progress-bar {\n",
       "        background: #F44336;\n",
       "    }\n",
       "</style>\n"
      ],
      "text/plain": [
       "<IPython.core.display.HTML object>"
      ]
     },
     "metadata": {},
     "output_type": "display_data"
    },
    {
     "data": {
      "text/html": [
       "\n",
       "    <div>\n",
       "      <progress value='8000' class='' max='8000' style='width:300px; height:20px; vertical-align: middle;'></progress>\n",
       "      100.00% [8000/8000 00:00<00:00]\n",
       "    </div>\n",
       "    "
      ],
      "text/plain": [
       "<IPython.core.display.HTML object>"
      ]
     },
     "metadata": {},
     "output_type": "display_data"
    }
   ],
   "source": [
    "with pm.Model() as m:\n",
    "    a = pm.Normal(\"a\", 0, tau=0.00001, shape=4)\n",
    "    b = pm.Normal(\"b\", 0, tau=0.00001, shape=4)\n",
    "    c = pm.Normal(\"c\", 0, tau=0.00001, shape=4)\n",
    "    d = pm.Normal(\"d\", 0, tau=0.00001, shape=5)\n",
    "    e = pm.Normal(\"e\", 0, tau=0.00001, shape=3)\n",
    "    f = pm.Normal(\"f\", 0, tau=0.00001, shape=3)\n",
    "    g = pm.Normal(\"g\", 0, tau=0.00001, shape=4)\n",
    "    h = pm.Normal(\"h\", 0, tau=0.00001, shape=3)\n",
    "    tau = pm.Gamma(\"tau\", 12.5, 62.5, shape=8)\n",
    "    # fmt: off\n",
    "    _mu = [\n",
    "        a[0] + a[1] * X[:, 0] + a[2] * X[:, 1] + a[3] * X[:, 3],  # i013\n",
    "        b[0] + b[1] * X[:, 0] + b[2] * X[:, 1] + b[3] * X[:, 2],  # i012\n",
    "        c[0] + c[1] * X[:, 0] + c[2] * X[:, 2] + c[3] * X[:, 3],  # i023\n",
    "        d[0] + d[1] * X[:, 0] + d[2] * X[:, 1] + d[3] * X[:, 2] + d[4] * X[:, 3],  # i0123\n",
    "        e[0] + e[1] * X[:, 0] + e[2] * X[:, 1],  # i01\n",
    "        f[0] + f[1] * X[:, 0] + f[2] * X[:, 2],  # i02 (there were 2 i03 in orig)\n",
    "        g[0] + g[1] * X[:, 1] + g[2] * X[:, 2] + g[3] * X[:, 3],  # i123\n",
    "        h[0] + h[1] * X[:, 0] + h[2] * X[:, 3],  # i03\n",
    "    ]\n",
    "    # fmt: on\n",
    "    mu = pm.math.stack(_mu, name=\"mu\")\n",
    "    lik = pm.Normal(\"lik\", mu=mu.T, tau=tau, observed=Y)\n",
    "\n",
    "    trace = pm.sample(2000)\n",
    "\n",
    "    pm.sample_posterior_predictive(trace, extend_inferencedata=True)"
   ]
  },
  {
   "cell_type": "code",
   "execution_count": 7,
   "id": "389bf7e5",
   "metadata": {},
   "outputs": [],
   "source": [
    "ppc = az.summary(trace.posterior_predictive)[\"mean\"].values.reshape(13, 8)"
   ]
  },
  {
   "cell_type": "code",
   "execution_count": 8,
   "id": "ce16d88a",
   "metadata": {},
   "outputs": [
    {
     "data": {
      "text/plain": [
       "array([15.90341627, 15.84237464, 15.97925794, 15.8988387 , 16.18672951,\n",
       "       36.64429925, 16.61402571, 16.69703505])"
      ]
     },
     "execution_count": 8,
     "metadata": {},
     "output_type": "execute_result"
    }
   ],
   "source": [
    "D2 = (Y - ppc) ** 2\n",
    "L = np.sqrt(np.sum(D2, axis=0) + np.std(ppc, axis=0) ** 2)\n",
    "L"
   ]
  },
  {
   "cell_type": "markdown",
   "id": "245cf95e",
   "metadata": {},
   "source": [
    "## Model 2 (SSVS)"
   ]
  },
  {
   "cell_type": "code",
   "execution_count": null,
   "id": "3596e6af",
   "metadata": {},
   "outputs": [],
   "source": []
  },
  {
   "cell_type": "code",
   "execution_count": 9,
   "id": "3164194e",
   "metadata": {},
   "outputs": [
    {
     "name": "stdout",
     "output_type": "stream",
     "text": [
      "Python implementation: CPython\n",
      "Python version       : 3.10.4\n",
      "IPython version      : 8.4.0\n",
      "\n",
      "arviz : 0.12.1\n",
      "numpy : 1.22.4\n",
      "aesara: 2.6.6\n",
      "pymc  : 4.0.0\n",
      "pandas: 1.4.2\n",
      "\n"
     ]
    }
   ],
   "source": [
    "%watermark --iversions -v"
   ]
  }
 ],
 "metadata": {
  "kernelspec": {
   "display_name": "Python 3 (ipykernel)",
   "language": "python",
   "name": "python3"
  },
  "language_info": {
   "codemirror_mode": {
    "name": "ipython",
    "version": 3
   },
   "file_extension": ".py",
   "mimetype": "text/x-python",
   "name": "python",
   "nbconvert_exporter": "python",
   "pygments_lexer": "ipython3",
   "version": "3.10.4"
  }
 },
 "nbformat": 4,
 "nbformat_minor": 5
}
