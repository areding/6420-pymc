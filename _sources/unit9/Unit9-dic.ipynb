{
 "cells": [
  {
   "cell_type": "markdown",
   "id": "3e119ec7-1f50-4e26-8604-2e2db5d7a76c",
   "metadata": {
    "editable": true,
    "slideshow": {
     "slide_type": ""
    },
    "tags": []
   },
   "source": [
    "# 2. Deviance Information Criterion\n",
    "\n",
    "\n",
    "Deviance Information Criterion (DIC) is similar in spirit to Akaike Information Criteria (AIC)\n",
    "\n",
    "$$ \\text{AIC} = -2\\log f(y|\\hat{\\theta}) + 2p $$\n",
    "\n",
    "where $\\hat{\\theta}$ is the MLE of $\\theta$, and $p$ is the number of parameters. A model with lower AIC is favored.\n",
    "\n",
    "The Bayesian version of DIC was introduced by [Spiegelhalter, 2002](https://rss.onlinelibrary.wiley.com/doi/abs/10.1111/1467-9868.00353).\n",
    "\n",
    "$$\\begin{align*}\n",
    "\\bar{D} & = \\text{E}^{\\pi(\\cdot|y)}(-2\\log f(y|\\theta)) \\\\\n",
    "D(\\bar{\\theta}) & = -2 \\log f(y|\\bar{\\theta}), \\space \\bar{\\theta} \\text{ Bayes Estimator of } \\theta \\\\\n",
    "p_D & = \\bar{D} - D(\\bar{\\theta}) \\equiv \\text{ Effective number of parameters} \\\\\n",
    "DIC & = \\bar{D} + p_D = D(\\bar{\\theta}) + 2 p_D\n",
    "\\end{align*}$$\n",
    "\n",
    "## Widely Applicable Information Criteria (WAIC)\n",
    "\n",
    "The DIC described above was available as an automatic calculation in BUGS. In practice, we use a newer model fit metric called Widely Applicable Information Criteria (WAIC) available in Arviz. We won't go into it's formula, but you can read more about it at [arviz.waic](https://python.arviz.org/en/stable/api/generated/arviz.waic.html), with referenced papers.\n",
    "\n",
    "Let's see how it works with the same Weibull and exponential models. One extra thing we need to do is save the log-likehood in the trace object using the `idata_kwargs=dict(log_likelihood=True)` argument in `pm.sample`.\n",
    "\n",
    "By default, `az.waic` provides WAIC on a *log* score scale, where the prefered model is the higher value. Alternatively, we can specifiy the *deviance* scale, where a lower score is prefered, like the AIC and DIC defined above."
   ]
  },
  {
   "cell_type": "code",
   "execution_count": 1,
   "id": "18368931-9fcd-4ef6-afee-a42a53d94c78",
   "metadata": {},
   "outputs": [],
   "source": [
    "import pymc as pm\n",
    "import arviz as az\n",
    "import numpy as np\n",
    "\n",
    "y = np.array([1,1,2,2,3,4,4,5,5,8])"
   ]
  },
  {
   "cell_type": "code",
   "execution_count": 2,
   "id": "48696940",
   "metadata": {},
   "outputs": [
    {
     "name": "stderr",
     "output_type": "stream",
     "text": [
      "Initializing NUTS using jitter+adapt_diag...\n",
      "Multiprocess sampling (4 chains in 4 jobs)\n",
      "NUTS: [mu, gamma]\n"
     ]
    },
    {
     "data": {
      "application/vnd.jupyter.widget-view+json": {
       "model_id": "5d09a86290c145aeb35c2a5363e9f3ba",
       "version_major": 2,
       "version_minor": 0
      },
      "text/plain": [
       "Output()"
      ]
     },
     "metadata": {},
     "output_type": "display_data"
    },
    {
     "data": {
      "text/html": [
       "<pre style=\"white-space:pre;overflow-x:auto;line-height:normal;font-family:Menlo,'DejaVu Sans Mono',consolas,'Courier New',monospace\"></pre>\n"
      ],
      "text/plain": []
     },
     "metadata": {},
     "output_type": "display_data"
    },
    {
     "name": "stderr",
     "output_type": "stream",
     "text": [
      "Sampling 4 chains for 1_000 tune and 1_000 draw iterations (4_000 + 4_000 draws total) took 0 seconds.\n",
      "There were 13 divergences after tuning. Increase `target_accept` or reparameterize.\n",
      "Initializing NUTS using jitter+adapt_diag...\n",
      "Multiprocess sampling (4 chains in 4 jobs)\n",
      "NUTS: [lambda_]\n"
     ]
    },
    {
     "data": {
      "application/vnd.jupyter.widget-view+json": {
       "model_id": "8687567850974fe59c78f5461a01200e",
       "version_major": 2,
       "version_minor": 0
      },
      "text/plain": [
       "Output()"
      ]
     },
     "metadata": {},
     "output_type": "display_data"
    },
    {
     "data": {
      "text/html": [
       "<pre style=\"white-space:pre;overflow-x:auto;line-height:normal;font-family:Menlo,'DejaVu Sans Mono',consolas,'Courier New',monospace\"></pre>\n"
      ],
      "text/plain": []
     },
     "metadata": {},
     "output_type": "display_data"
    },
    {
     "name": "stderr",
     "output_type": "stream",
     "text": [
      "Sampling 4 chains for 1_000 tune and 1_000 draw iterations (4_000 + 4_000 draws total) took 0 seconds.\n"
     ]
    }
   ],
   "source": [
    "#Weibull Model\n",
    "with pm.Model() as m1:\n",
    "    #priors\n",
    "    mu = pm.Normal(\"mu\",0,tau=.001)\n",
    "    gamma = pm.Gamma(\"gamma\",0.001,0.001)\n",
    "\n",
    "    #convert Weibull parameterization\n",
    "    beta = gamma ** (-1 / mu)\n",
    "\n",
    "    #likelihood\n",
    "    like = pm.Weibull(\"like\",mu,beta,observed=y)\n",
    "    \n",
    "    trace1 = pm.sample(idata_kwargs=dict(log_likelihood=True))\n",
    "\n",
    "#Exponential Model\n",
    "with pm.Model() as m2:\n",
    "    #prior\n",
    "    lambda_ = pm.Gamma(\"lambda_\",0.001,0.001)\n",
    "\n",
    "    #likelihood\n",
    "    like = pm.Exponential(\"like\",lambda_,observed=y)\n",
    "\n",
    "    trace2 = pm.sample(idata_kwargs=dict(log_likelihood=True))"
   ]
  },
  {
   "cell_type": "code",
   "execution_count": 3,
   "id": "0dff982f",
   "metadata": {},
   "outputs": [
    {
     "name": "stderr",
     "output_type": "stream",
     "text": [
      "/opt/anaconda3/envs/pymc_env/lib/python3.13/site-packages/arviz/stats/stats.py:1655: UserWarning: For one or more samples the posterior variance of the log predictive densities exceeds 0.4. This could be indication of WAIC starting to fail. \n",
      "See http://arxiv.org/abs/1507.04544 for details\n",
      "  warnings.warn(\n"
     ]
    },
    {
     "data": {
      "text/plain": [
       "Computed from 4000 posterior samples and 10 observations log-likelihood matrix.\n",
       "\n",
       "              Estimate       SE\n",
       "deviance_waic    44.76     4.72\n",
       "p_waic            1.73        -\n",
       "\n",
       "There has been a warning during the calculation. Please check the results."
      ]
     },
     "execution_count": 3,
     "metadata": {},
     "output_type": "execute_result"
    }
   ],
   "source": [
    "az.waic(trace1,scale='deviance')"
   ]
  },
  {
   "cell_type": "code",
   "execution_count": 4,
   "id": "3fb19780",
   "metadata": {},
   "outputs": [
    {
     "data": {
      "text/plain": [
       "Computed from 4000 posterior samples and 10 observations log-likelihood matrix.\n",
       "\n",
       "              Estimate       SE\n",
       "deviance_waic    46.52     3.82\n",
       "p_waic            0.40        -"
      ]
     },
     "execution_count": 4,
     "metadata": {},
     "output_type": "execute_result"
    }
   ],
   "source": [
    "az.waic(trace2,scale='deviance')"
   ]
  },
  {
   "cell_type": "markdown",
   "id": "8d007c61",
   "metadata": {},
   "source": [
    "## `az.compare`\n",
    "\n",
    "We see a lower deviance_waic for the Weibull model, as expected. Another way to compare 2 models is with `az.compare`"
   ]
  },
  {
   "cell_type": "code",
   "execution_count": 5,
   "id": "fbdcc856",
   "metadata": {},
   "outputs": [
    {
     "name": "stderr",
     "output_type": "stream",
     "text": [
      "/opt/anaconda3/envs/pymc_env/lib/python3.13/site-packages/arviz/stats/stats.py:1655: UserWarning: For one or more samples the posterior variance of the log predictive densities exceeds 0.4. This could be indication of WAIC starting to fail. \n",
      "See http://arxiv.org/abs/1507.04544 for details\n",
      "  warnings.warn(\n"
     ]
    },
    {
     "data": {
      "text/html": [
       "<div>\n",
       "<style scoped>\n",
       "    .dataframe tbody tr th:only-of-type {\n",
       "        vertical-align: middle;\n",
       "    }\n",
       "\n",
       "    .dataframe tbody tr th {\n",
       "        vertical-align: top;\n",
       "    }\n",
       "\n",
       "    .dataframe thead th {\n",
       "        text-align: right;\n",
       "    }\n",
       "</style>\n",
       "<table border=\"1\" class=\"dataframe\">\n",
       "  <thead>\n",
       "    <tr style=\"text-align: right;\">\n",
       "      <th></th>\n",
       "      <th>rank</th>\n",
       "      <th>elpd_waic</th>\n",
       "      <th>p_waic</th>\n",
       "      <th>elpd_diff</th>\n",
       "      <th>weight</th>\n",
       "      <th>se</th>\n",
       "      <th>dse</th>\n",
       "      <th>warning</th>\n",
       "      <th>scale</th>\n",
       "    </tr>\n",
       "  </thead>\n",
       "  <tbody>\n",
       "    <tr>\n",
       "      <th>Weibull</th>\n",
       "      <td>0</td>\n",
       "      <td>44.759743</td>\n",
       "      <td>1.728281</td>\n",
       "      <td>0.000000</td>\n",
       "      <td>0.828696</td>\n",
       "      <td>4.715606</td>\n",
       "      <td>0.000000</td>\n",
       "      <td>True</td>\n",
       "      <td>deviance</td>\n",
       "    </tr>\n",
       "    <tr>\n",
       "      <th>Exponential</th>\n",
       "      <td>1</td>\n",
       "      <td>46.515467</td>\n",
       "      <td>0.401046</td>\n",
       "      <td>1.755724</td>\n",
       "      <td>0.171304</td>\n",
       "      <td>3.815093</td>\n",
       "      <td>3.252716</td>\n",
       "      <td>False</td>\n",
       "      <td>deviance</td>\n",
       "    </tr>\n",
       "  </tbody>\n",
       "</table>\n",
       "</div>"
      ],
      "text/plain": [
       "             rank  elpd_waic    p_waic  elpd_diff    weight        se  \\\n",
       "Weibull         0  44.759743  1.728281   0.000000  0.828696  4.715606   \n",
       "Exponential     1  46.515467  0.401046   1.755724  0.171304  3.815093   \n",
       "\n",
       "                  dse  warning     scale  \n",
       "Weibull      0.000000     True  deviance  \n",
       "Exponential  3.252716    False  deviance  "
      ]
     },
     "execution_count": 5,
     "metadata": {},
     "output_type": "execute_result"
    }
   ],
   "source": [
    "az.compare({\"Weibull\":trace1,\"Exponential\":trace2},\n",
    "           ic='waic',\n",
    "           scale='deviance')"
   ]
  },
  {
   "cell_type": "markdown",
   "id": "60dfaef4",
   "metadata": {},
   "source": []
  }
 ],
 "metadata": {
  "kernelspec": {
   "display_name": "pymc_env",
   "language": "python",
   "name": "python3"
  },
  "language_info": {
   "codemirror_mode": {
    "name": "ipython",
    "version": 3
   },
   "file_extension": ".py",
   "mimetype": "text/x-python",
   "name": "python",
   "nbconvert_exporter": "python",
   "pygments_lexer": "ipython3",
   "version": "3.13.3"
  }
 },
 "nbformat": 4,
 "nbformat_minor": 5
}
