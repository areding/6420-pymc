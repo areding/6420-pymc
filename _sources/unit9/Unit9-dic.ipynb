{
 "cells": [
  {
   "cell_type": "markdown",
   "id": "3e119ec7-1f50-4e26-8604-2e2db5d7a76c",
   "metadata": {},
   "source": [
    "# Deviance Information Criterion\n",
    "\n",
    "\n",
    "```{note}\n",
    "This page is a stub. It will be updated over summer 2023 with supplementary lecture notes.\n",
    "```"
   ]
  },
  {
   "cell_type": "code",
   "execution_count": null,
   "id": "18368931-9fcd-4ef6-afee-a42a53d94c78",
   "metadata": {},
   "outputs": [],
   "source": []
  }
 ],
 "metadata": {
  "kernelspec": {
   "display_name": "Python 3 (ipykernel)",
   "language": "python",
   "name": "python3"
  },
  "language_info": {
   "codemirror_mode": {
    "name": "ipython",
    "version": 3
   },
   "file_extension": ".py",
   "mimetype": "text/x-python",
   "name": "python",
   "nbconvert_exporter": "python",
   "pygments_lexer": "ipython3",
   "version": "3.11.0"
  }
 },
 "nbformat": 4,
 "nbformat_minor": 5
}
