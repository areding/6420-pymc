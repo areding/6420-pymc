{
 "cells": [
  {
   "cell_type": "code",
   "execution_count": 1,
   "id": "e3e7730e",
   "metadata": {},
   "outputs": [],
   "source": [
    "import pymc as pm\n",
    "import numpy as np\n",
    "import arviz as az\n",
    "from pymc.math import logit\n",
    "\n",
    "%load_ext lab_black\n",
    "%load_ext watermark"
   ]
  },
  {
   "cell_type": "markdown",
   "id": "7d2f510b",
   "metadata": {},
   "source": [
    "# Priors as hidden mixtures\n",
    "\n",
    "This example demonstrates ...\n",
    "\n",
    "Adapted from [unit 9: cumulative2.odc](https://raw.githubusercontent.com/areding/6420-pymc/main/original_examples/Codes4Unit9/cumulative2.odc).\n",
    "\n",
    "Associated lecture video: Unit 9 Lesson 8"
   ]
  },
  {
   "cell_type": "markdown",
   "id": "93b5d97e",
   "metadata": {},
   "source": [
    "Use of CUMULATIVE as a check for outliers\n",
    "\n",
    "How consistent are the data with the model? Check cumulative(y[i], y[i]).\n",
    "\n",
    "The first y[i] specifies the distribution of y[i]'s, the second is the argument/observation. The output is empirical cdf of y[i]s evaluated at y[i].\n",
    "\n",
    "Values close to 0 or 1 are potential outliers."
   ]
  },
  {
   "cell_type": "markdown",
   "id": "342187c6",
   "metadata": {},
   "source": [
    "What exactly does the cumulative function in BUGS do????"
   ]
  },
  {
   "cell_type": "code",
   "execution_count": 3,
   "id": "289d81c3",
   "metadata": {},
   "outputs": [],
   "source": [
    "# fmt: off\n",
    "y = np.array(\n",
    "    [0.0, 1.0, 2.0, -1.0, 0.4, -0.5, 0.7, -1.2, 0.1, -0.4, \n",
    "     0.2, -0.5, -1.4, 1.8, 0.2, 0.3, -0.6, 1.1, 5.1, -6.3]\n",
    ")\n",
    "# fmt: on"
   ]
  },
  {
   "cell_type": "code",
   "execution_count": 4,
   "id": "ac7cf23f",
   "metadata": {
    "tags": [
     "hide_output"
    ]
   },
   "outputs": [
    {
     "ename": "SyntaxError",
     "evalue": "invalid syntax (917032337.py, line 6)",
     "output_type": "error",
     "traceback": [
      "\u001b[0;36m  Input \u001b[0;32mIn [4]\u001b[0;36m\u001b[0m\n\u001b[0;31m    cuy = pm.Deterministic(\"cuy\", ???cumulative)\u001b[0m\n\u001b[0m                                  ^\u001b[0m\n\u001b[0;31mSyntaxError\u001b[0m\u001b[0;31m:\u001b[0m invalid syntax\n"
     ]
    },
    {
     "name": "stderr",
     "output_type": "stream",
     "text": [
      "ERROR:root:Cannot parse: 6:33:     cuy = pm.Deterministic(\"cuy\", ???cumulative)\n",
      "Traceback (most recent call last):\n",
      "  File \"/Users/aaron/mambaforge/envs/pymc_env/lib/python3.10/site-packages/lab_black.py\", line 218, in format_cell\n",
      "    formatted_code = _format_code(cell)\n",
      "  File \"/Users/aaron/mambaforge/envs/pymc_env/lib/python3.10/site-packages/lab_black.py\", line 29, in _format_code\n",
      "    return format_str(src_contents=code, mode=FileMode())\n",
      "  File \"/Users/aaron/mambaforge/envs/pymc_env/lib/python3.10/site-packages/black/__init__.py\", line 1154, in format_str\n",
      "    dst_contents = _format_str_once(src_contents, mode=mode)\n",
      "  File \"/Users/aaron/mambaforge/envs/pymc_env/lib/python3.10/site-packages/black/__init__.py\", line 1164, in _format_str_once\n",
      "    src_node = lib2to3_parse(src_contents.lstrip(), mode.target_versions)\n",
      "  File \"/Users/aaron/mambaforge/envs/pymc_env/lib/python3.10/site-packages/black/parsing.py\", line 128, in lib2to3_parse\n",
      "    raise exc from None\n",
      "black.parsing.InvalidInput: Cannot parse: 6:33:     cuy = pm.Deterministic(\"cuy\", ???cumulative)\n"
     ]
    }
   ],
   "source": [
    "with pm.Model() as m:\n",
    "    theta = pm.Flat(\"theta\")\n",
    "    log_sigma = pm.Flat(\"log_sigma\")\n",
    "    tau = pm.Deterministic(\"tau\", 1/exp(2*log_sigma))\n",
    "    \n",
    "    cuy = pm.Deterministic(\"cuy\", ???cumulative)\n",
    "    add = pm.Deterministic(\"add\", logit(cuy)**2)\n",
    "    a = pm.Deterministic(\"a\", pm.math.sum(add))\n",
    "    \n",
    "    pm.Normal(\"y\", mu=theta, tau=tau, observed=y)\n",
    "    \n",
    "    trace = pm.sample(2000)"
   ]
  },
  {
   "cell_type": "code",
   "execution_count": null,
   "id": "da5c29a1",
   "metadata": {},
   "outputs": [],
   "source": [
    "az.summary(trace)"
   ]
  },
  {
   "cell_type": "code",
   "execution_count": null,
   "id": "6ab7d9dd",
   "metadata": {},
   "outputs": [],
   "source": [
    "%watermark --iversions -v"
   ]
  },
  {
   "cell_type": "code",
   "execution_count": null,
   "id": "ca18bf33",
   "metadata": {},
   "outputs": [],
   "source": []
  }
 ],
 "metadata": {
  "kernelspec": {
   "display_name": "Python 3 (ipykernel)",
   "language": "python",
   "name": "python3"
  },
  "language_info": {
   "codemirror_mode": {
    "name": "ipython",
    "version": 3
   },
   "file_extension": ".py",
   "mimetype": "text/x-python",
   "name": "python",
   "nbconvert_exporter": "python",
   "pygments_lexer": "ipython3",
   "version": "3.10.4"
  }
 },
 "nbformat": 4,
 "nbformat_minor": 5
}
