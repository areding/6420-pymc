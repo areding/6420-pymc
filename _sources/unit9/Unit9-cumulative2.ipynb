{
 "cells": [
  {
   "cell_type": "code",
   "execution_count": 9,
   "id": "2a3d53d3",
   "metadata": {},
   "outputs": [
    {
     "name": "stdout",
     "output_type": "stream",
     "text": [
      "The lab_black extension is already loaded. To reload it, use:\n",
      "  %reload_ext lab_black\n",
      "The watermark extension is already loaded. To reload it, use:\n",
      "  %reload_ext watermark\n"
     ]
    }
   ],
   "source": [
    "import pymc as pm\n",
    "import numpy as np\n",
    "import arviz as az\n",
    "from pymc.math import logit\n",
    "\n",
    "%load_ext lab_black\n",
    "%load_ext watermark"
   ]
  },
  {
   "cell_type": "markdown",
   "id": "098b01a5",
   "metadata": {},
   "source": [
    "# Priors as hidden mixtures\n",
    "\n",
    "This example demonstrates ...\n",
    "\n",
    "Adapted from [unit 9: cumulative2.odc](https://raw.githubusercontent.com/areding/6420-pymc/main/original_examples/Codes4Unit9/cumulative2.odc).\n",
    "\n",
    "## Associated lecture video: Unit 9 Lesson 8"
   ]
  },
  {
   "cell_type": "code",
   "execution_count": 1,
   "id": "ac8e3bd0",
   "metadata": {},
   "outputs": [
    {
     "data": {
      "text/html": [
       "<iframe width=\"560\" height=\"315\" src=\"https://www.youtube.com/embed?v=xomK4tcePmc&list=PLv0FeK5oXK4l-RdT6DWJj0_upJOG2WKNO&index=95\" frameborder=\"0\" allow=\"autoplay; encrypted-media\" allowfullscreen></iframe>\n"
      ],
      "text/plain": [
       "<IPython.core.display.HTML object>"
      ]
     },
     "metadata": {},
     "output_type": "display_data"
    }
   ],
   "source": [
    "%%html\n",
    "<iframe width=\"560\" height=\"315\" src=\"https://www.youtube.com/embed?v=xomK4tcePmc&list=PLv0FeK5oXK4l-RdT6DWJj0_upJOG2WKNO&index=95\" frameborder=\"0\" allow=\"autoplay; encrypted-media\" allowfullscreen></iframe>"
   ]
  },
  {
   "cell_type": "markdown",
   "id": "d6999ec6",
   "metadata": {},
   "source": [
    "Use of CUMULATIVE as a check for outliers\n",
    "\n",
    "How consistent are the data with the model? Check cumulative(y[i], y[i]).\n",
    "\n",
    "The first y[i] specifies the distribution of y[i]'s, the second is the argument/observation. The output is empirical cdf of y[i]s evaluated at y[i].\n",
    "\n",
    "Values close to 0 or 1 are potential outliers."
   ]
  },
  {
   "cell_type": "markdown",
   "id": "b6d2c95d",
   "metadata": {},
   "source": [
    "What exactly does the cumulative function in BUGS do????"
   ]
  },
  {
   "cell_type": "code",
   "execution_count": 7,
   "id": "623ad9c6",
   "metadata": {},
   "outputs": [],
   "source": [
    "# fmt: off\n",
    "y = np.array(\n",
    "    [0.0, 1.0, 2.0, -1.0, 0.4, -0.5, 0.7, -1.2, 0.1, -0.4, \n",
    "     0.2, -0.5, -1.4, 1.8, 0.2, 0.3, -0.6, 1.1, 5.1, -6.3]\n",
    ")\n",
    "# fmt: on"
   ]
  },
  {
   "cell_type": "code",
   "execution_count": null,
   "id": "5df4037f",
   "metadata": {},
   "outputs": [],
   "source": [
    "with pm.Model() as m:\n",
    "    theta = pm.Flat(\"theta\")\n",
    "    log_sigma = pm.Flat(\"log_sigma\")\n",
    "    tau = pm.Deterministic(\"tau\", 1/exp(2*log_sigma))\n",
    "    \n",
    "    cuy = pm.Deterministic(\"cuy\", ???cumulative)\n",
    "    add = pm.Deterministic(\"add\", logit(cuy)**2)\n",
    "    a = pm.Deterministic(\"a\", pm.math.sum(add))\n",
    "    \n",
    "    pm.Normal(\"y\", mu=theta, tau=tau, observed=y)\n",
    "    \n",
    "    trace = pm.sample(2000)"
   ]
  },
  {
   "cell_type": "code",
   "execution_count": null,
   "id": "d7bea602",
   "metadata": {},
   "outputs": [],
   "source": [
    "az.summary(trace)"
   ]
  },
  {
   "cell_type": "code",
   "execution_count": 10,
   "id": "eb334113",
   "metadata": {},
   "outputs": [
    {
     "name": "stdout",
     "output_type": "stream",
     "text": [
      "Python implementation: CPython\n",
      "Python version       : 3.10.4\n",
      "IPython version      : 8.4.0\n",
      "\n",
      "arviz: 0.12.1\n",
      "numpy: 1.22.4\n",
      "pymc : 4.0.0\n",
      "\n"
     ]
    }
   ],
   "source": [
    "%watermark --iversions -v"
   ]
  },
  {
   "cell_type": "code",
   "execution_count": null,
   "id": "a5bb27c5",
   "metadata": {},
   "outputs": [],
   "source": []
  }
 ],
 "metadata": {
  "kernelspec": {
   "display_name": "Python 3 (ipykernel)",
   "language": "python",
   "name": "python3"
  },
  "language_info": {
   "codemirror_mode": {
    "name": "ipython",
    "version": 3
   },
   "file_extension": ".py",
   "mimetype": "text/x-python",
   "name": "python",
   "nbconvert_exporter": "python",
   "pygments_lexer": "ipython3",
   "version": "3.10.4"
  }
 },
 "nbformat": 4,
 "nbformat_minor": 5
}
