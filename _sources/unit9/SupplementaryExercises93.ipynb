{
 "cells": [
  {
   "cell_type": "markdown",
   "id": "a63c1772",
   "metadata": {},
   "source": [
    "# Supplementary Exercises\n",
    "\n",
    "```{warning}\n",
    "This page contains solutions! We recommend attempting each problem before peeking.\n",
    "```"
   ]
  },
  {
   "cell_type": "markdown",
   "id": "7a299dde",
   "metadata": {},
   "source": [
    "## 1. IHGA Models: Which is the Best?\n",
    "\n",
    "The following example is built on an experiment conducted in the 1980s ({cite:t}`hendriksen1984consequences`). In this study, 572 elderly people living in various villages in Denmark were randomized: 287 to a control group (who received standard care) and 285 to an experimental group (E) who received standard care plus IHGA—a kind of preventive assessment in which each person's medical and social needs were assessed and acted upon individually. The important outcome was the number of hospitalizations during the three-year life of the study.\n",
    "\n",
    "Data available as a csv [here](https://raw.githubusercontent.com/areding/6420-pymc/main/data/hospitalizations_data.csv).\n",
    "\n",
    "\n",
    "$$\n",
    "\\begin{array}{|l|r|r|r|r|r|r|r|r|ccc|}\n",
    "\\hline\n",
    "\\text{Hospitalizations} & 0 & 1 & 2 & 3 & 4 & 5 & 6 & 7 & \\text{n} & \\text{Mean} & \\text{Variance} \\\\\n",
    "\\hline\n",
    "\\text{Control} & 138 & 77 & 46 & 12 & 8 & 4 & 0 & 2 & 287 & 0.944 & 1.54 \\\\\n",
    "\\text{Treatment} & 147 & 83 & 37 & 13 & 3 & 1 & 1 & 0 & 285 & 0.768 & 1.02 \\\\\n",
    "\\hline\n",
    "\\end{array}\n",
    "$$\n",
    "\n",
    "\n",
    "We will propose several models to assess the IHGA treatment using deviance measures. Implement them and decide which one is the best.\n",
    "\n",
    "### Treatment Effect Additive, Model Normal\n",
    "\n",
    "\\begin{align*}\n",
    "y_i | \\mu_i, \\sigma_i^2 &\\sim \\text{Normal}(\\mu_i, \\sigma_i^2) \\\\\n",
    "\\mu_i &= \\beta_0 + \\beta_1 \\cdot \\text{Group}_i \\\\\n",
    "\\beta_0, \\beta_1 &\\sim \\mathcal{N}(0, \\sigma^2) \\\\\n",
    "\\sigma_i^2 &\\sim \\text{Inverse-Gamma}(\\alpha, \\beta)\n",
    "\\end{align*}\n",
    "\n",
    "```{admonition} Solution\n",
    ":class: tip, dropdown\n",
    "\n",
    "Solution to be added. Feel free to share yours on Ed Discussion!\n",
    "```"
   ]
  },
  {
   "cell_type": "code",
   "execution_count": null,
   "id": "a6d402b7",
   "metadata": {
    "tags": [
     "hide-cell"
    ]
   },
   "outputs": [],
   "source": []
  },
  {
   "cell_type": "markdown",
   "id": "9bdf7012",
   "metadata": {},
   "source": [
    "### Treatment Effect Additive; Model Poisson\n",
    "\n",
    "\n",
    "\\begin{align*}\n",
    "y_i | \\lambda_i &\\sim \\text{Poisson}(\\lambda_i) \\\\\n",
    "\\log(\\lambda_i) &= \\beta_0 + \\beta_1 \\cdot \\text{Group}_i \\\\\n",
    "\\beta_0, \\beta_1 &\\sim \\mathcal{N}(0, \\sigma^2)\n",
    "\\end{align*}\n",
    "\n",
    "\n",
    "```{admonition} Solution\n",
    ":class: tip, dropdown\n",
    "\n",
    "Solution to be added. Feel free to share yours on Ed Discussion!\n",
    "```\n"
   ]
  },
  {
   "cell_type": "code",
   "execution_count": null,
   "id": "0a2c5639",
   "metadata": {
    "tags": [
     "hide-cell"
    ]
   },
   "outputs": [],
   "source": []
  },
  {
   "cell_type": "markdown",
   "id": "634c6fef",
   "metadata": {},
   "source": [
    "### Treatment Effect Multiplicative; Model Poisson\n",
    "\n",
    "\n",
    "\\begin{align*}\n",
    "y_i | \\lambda_i &\\sim \\text{Poisson}(\\lambda_i) \\\\\n",
    "\\log(\\lambda_i) &= \\gamma_0 + \\gamma_1 \\cdot x_i \\\\\n",
    "\\gamma_0, \\gamma_1 &\\sim \\mathcal{N}(0, \\sigma^2)\n",
    "\\end{align*}\n",
    "\n",
    "\n",
    "```{admonition} Solution\n",
    ":class: tip, dropdown\n",
    "\n",
    "Solution to be added. Feel free to share yours on Ed Discussion!\n",
    "```"
   ]
  },
  {
   "cell_type": "code",
   "execution_count": null,
   "id": "a61cc391",
   "metadata": {
    "tags": [
     "hide-cell"
    ]
   },
   "outputs": [],
   "source": []
  },
  {
   "cell_type": "markdown",
   "id": "a1bd18b6",
   "metadata": {},
   "source": [
    "### Treatment Effect Multiplicative; Model Poisson with Random Effect\n",
    "\n",
    "\n",
    "\\begin{align*}\n",
    "y_i | \\lambda_i &\\sim \\text{Poisson}(\\lambda_i) \\\\\n",
    "\\log(\\lambda_i) &= \\gamma_0 + \\gamma_1 \\cdot x_i + \\epsilon_i \\\\\n",
    "\\epsilon_i &\\sim \\mathcal{N}(0, \\tau_\\epsilon) \\\\\n",
    "\\gamma_0, \\gamma_1 &\\sim \\mathcal{N}(0, \\sigma^2) \\\\\n",
    "\\tau_\\epsilon &\\sim \\text{Gamma}(\\alpha, \\beta)\n",
    "\\end{align*}\n",
    "\n",
    "\n",
    "```{admonition} Solution\n",
    ":class: tip, dropdown\n",
    "\n",
    "Solution to be added. Feel free to share yours on Ed Discussion!\n",
    "```"
   ]
  },
  {
   "cell_type": "code",
   "execution_count": null,
   "id": "8a15aa91",
   "metadata": {
    "tags": [
     "hide-cell"
    ]
   },
   "outputs": [],
   "source": []
  },
  {
   "cell_type": "markdown",
   "id": "f1b39f5f",
   "metadata": {},
   "source": [
    "### Treatment Effect Multiplicative; Model Zero-Inflated Poisson\n",
    "\n",
    "\n",
    "\\begin{align*}\n",
    "y_i | \\lambda_i, z_i &\\sim \\text{Poisson}(\\lambda_i) \\\\\n",
    "\\log(\\lambda_i) &= \\gamma_0 + \\gamma_1 \\cdot x_i \\\\\n",
    "z_i &\\sim \\text{Bernoulli}(\\pi_i) \\\\\n",
    "\\log\\left(\\frac{\\pi_i}{1 - \\pi_i}\\right) &= \\alpha_0 + \\alpha_1 \\cdot x_i \\\\\n",
    "\\gamma_0, \\gamma_1, \\alpha_0, \\alpha_1 &\\sim \\mathcal{N}(0, \\sigma^2)\n",
    "\\end{align*}\n",
    "\n",
    "\n",
    "```{admonition} Solution\n",
    ":class: tip, dropdown\n",
    "\n",
    "Solution to be added. Feel free to share yours on Ed Discussion!\n",
    "```"
   ]
  },
  {
   "cell_type": "code",
   "execution_count": null,
   "id": "35120a00",
   "metadata": {
    "tags": [
     "hide-cell"
    ]
   },
   "outputs": [],
   "source": []
  },
  {
   "cell_type": "markdown",
   "id": "edb3e1c5",
   "metadata": {},
   "source": [
    "### Treatment Effect Multiplicative; Model Zero-Inflated Negative Binomial with Random Effect\n",
    "\n",
    "\n",
    "\\begin{align*}\n",
    "y_i | \\lambda_i, \\theta_i, z_i &\\sim \\text{Negative Binomial}(\\lambda_i, \\theta_i) \\\\\n",
    "\\log(\\lambda_i) &= \\gamma_0 + \\gamma_1 \\cdot x_i + \\epsilon_i \\\\\n",
    "\\epsilon_i &\\sim \\mathcal{N}(0, \\tau_\\epsilon) \\\\\n",
    "\\log(\\theta_i) &= \\delta_0 + \\delta_1 \\cdot x_i \\\\\n",
    "z_i &\\sim \\text{Bernoulli}(\\pi_i) \\\\\n",
    "\\log\\left(\\frac{\\pi_i}{1 - \\pi_i}\\right) &= \\alpha_0 + \\alpha_1 \\cdot x_i \\\\\n",
    "\\gamma_0, \\gamma_1, \\delta_0, \\delta_1, \\alpha_0, \\alpha_1 &\\sim \\mathcal{N}(0, \\sigma^2) \\\\\n",
    "\\tau_\\epsilon &\\sim \\text{Gamma}(\\alpha, \\beta)\n",
    "\\end{align*}\n",
    "\n",
    "\n",
    "```{admonition} Solution\n",
    ":class: tip, dropdown\n",
    "\n",
    "Solution to be added. Feel free to share yours on Ed Discussion!\n",
    "```\n"
   ]
  },
  {
   "cell_type": "code",
   "execution_count": null,
   "id": "815e4979",
   "metadata": {
    "tags": [
     "hide-cell"
    ]
   },
   "outputs": [],
   "source": []
  },
  {
   "cell_type": "markdown",
   "id": "a010d001",
   "metadata": {},
   "source": [
    "### Zero-Truncated Poisson Regression\n",
    "Implement for zero-truncated Poisson regression for the number of visits for patients who checked in to the hospital at least once.\n",
    "\n",
    "Hint: Zero truncated Poisson has the same log-likelihood (up to additive constant) as the standard Poisson. In data, ignore 0’s and adjust for the sample size.\n",
    "\n",
    "```{admonition} Solution\n",
    ":class: tip, dropdown\n",
    "\n",
    "Solution to be added. Feel free to share yours on Ed Discussion!\n",
    "```"
   ]
  },
  {
   "cell_type": "code",
   "execution_count": null,
   "id": "2369ca33",
   "metadata": {
    "tags": [
     "hide-cell"
    ]
   },
   "outputs": [],
   "source": []
  },
  {
   "cell_type": "markdown",
   "id": "cdff3c9e",
   "metadata": {},
   "source": [
    "## 2. Sleep Disturbances and Acute Coronary Syndrome\n",
    "\n",
    "Acute Coronary Syndrome (ACS) is an umbrella term describing medical conditions related to a sudden drop in blood flow to the heart, with heart attacks being the most well-known example. A longitudinal study ({cite:t}`kanel2022sleep`) measured the Jenkins Sleep Scale ({cite:t}`jenkins1988scale`\n",
    ") for patients three times after they experienced ACS.\n",
    "\n",
    "The JSS is an abstracted count ranging from 0 to 20 based on how many sleep issues of different types the patient has had over the last month.\n",
    "\n",
    "In [`sleep_data.csv`](https://raw.githubusercontent.com/areding/6420-pymc/main/data/sleep_data.csv), you'll find the following data:\n",
    "\n",
    "$$\n",
    "\\begin{array}{|l|l|}\n",
    "\\hline\n",
    "\\textbf{Column name} & \\textbf{Description} \\\\\n",
    "\\hline\n",
    "\\text{id} & \\text{participant id} \\\\\n",
    "\\text{time} & \\text{time; 1=baseline, 2=3 months, 3=12 months} \\\\\n",
    "\\text{dcv\\_ct} & \\text{number of diseased coronary vessels} \\\\\n",
    "\\text{age} & \\text{years} \\\\\n",
    "\\text{sex} & \\text{0=male, 1=female} \\\\\n",
    "\\text{living\\_status} & \\text{0=with someone, 1=alone} \\\\\n",
    "\\text{mi\\_type} & \\text{index event type; 0=non-STEMI, 1=STEMI} \\\\\n",
    "\\text{fod} & \\text{patient’s self-reported fear of dying, 0–10} \\\\\n",
    "\\text{helplessness} & \\text{patient’s self-reported feelings of helplessness, 0–10} \\\\\n",
    "\\text{depression} & \\text{history of depression; 0=no, 1=yes} \\\\\n",
    "\\text{apnea} & \\text{history of sleep apnea; 0=no, 1=yes} \\\\\n",
    "\\text{education} & \\text{level of education; 1=low, 2=medium, 3=high} \\\\\n",
    "\\text{ccm} & \\text{Charlson comorbidity category; 1=low risk, 2=medium, 3=high} \\\\\n",
    "\\text{JSS} & \\text{JSS-4 total score, 0–20. has missing values!} \\\\\n",
    "\\hline\n",
    "\\end{array}\n",
    "$$\n",
    "\n",
    "\n",
    "1. Create a Poisson regression model of the JSS, using time, age, and sex as predictors. Perform a posterior predictive check and plot the posterior predictive mean against the observed values.\n",
    "\n",
    "    The model can be specified as:\n",
    "    \n",
    "    \\begin{align*}\n",
    "    y_{ij} | e_{ij}, \\beta_1, \\beta_2, \\beta_3 &\\sim \\text{Poisson}(\\lambda) \\\\\n",
    "    \\lambda &= \\exp(e_{ij} + \\beta_1 \\text{time}_{ij} + \\beta_2 \\text{age}_i + \\beta_3 \\text{sex}_i) \\\\\n",
    "    e_{ij} | \\sigma^2_e &\\sim \\mathcal{N}(0, \\sigma^2_e)\n",
    "    \\end{align*}\n",
    "\n",
    "    With prior distributions:\n",
    "\n",
    "    \\begin{align*}\n",
    "    \\beta_k &\\sim \\mathcal{N}(0, \\sigma^2 = 25), \\quad k = 1, 2, 3 \\\\\n",
    "    e &\\sim \\mathcal{N}(0, \\sigma^2_e) \\\\\n",
    "    \\tau_e &\\sim \\text{Gamma}(0.01, 0.01)\n",
    "    \\end{align*}\n",
    "\n",
    "\n",
    "2. Use Poisson regression again, but this time add a per-subject random effect ($u_i$). Does the posterior predictive better fit the observed values? Why or why not?\n",
    "\n",
    "    The model can be specified as:\n",
    "    \n",
    "    \\begin{align*}\n",
    "    y_{ij} | e_{ij}, \\beta_1, \\beta_2, \\beta_3, u_i &\\sim \\text{Poisson}(\\lambda) \\\\\n",
    "    \\lambda &= \\exp(e_{ij} + \\beta_1 \\text{time}_{ij} + \\beta_2 \\text{age}_i + \\beta_3 \\text{sex}_i + u_i) \\\\\n",
    "    e_{ij} | \\sigma^2_e &\\sim \\mathcal{N}(0, \\sigma^2_e) \\\\\n",
    "    u_i | \\sigma^2_u &\\sim \\mathcal{N}(0, \\sigma^2_u)\n",
    "    \\end{align*}\n",
    "\n",
    "    With prior for the additional random effect:\n",
    "\n",
    "    $$\n",
    "    \\tau_u \\sim \\text{Gamma}(0.01, 0.01)\n",
    "    $$\n",
    "\n",
    "3. With the model from part 2, use Stochastic Search Variable Selection (SSVS) to check out the other predictors. Report the predictors for the top 5 models from the SSVS results. Refit the best model and report the posterior parameters of $\\beta$, $\\tau_e$, and $\\tau_u$.\n",
    "\n",
    "\n",
    "\n",
    "```{admonition} Solution\n",
    ":class: tip, dropdown\n",
    "\n",
    "Solution to be added. Feel free to share yours on Ed Discussion!\n",
    "\n",
    "```"
   ]
  },
  {
   "cell_type": "code",
   "execution_count": null,
   "id": "019cb623",
   "metadata": {
    "tags": [
     "hide-cell"
    ]
   },
   "outputs": [],
   "source": []
  }
 ],
 "metadata": {
  "jupytext": {
   "cell_metadata_filter": "-all",
   "formats": "ipynb,py,md"
  },
  "kernelspec": {
   "display_name": "Python 3 (ipykernel)",
   "language": "python",
   "name": "python3"
  },
  "language_info": {
   "codemirror_mode": {
    "name": "ipython",
    "version": 3
   },
   "file_extension": ".py",
   "mimetype": "text/x-python",
   "name": "python",
   "nbconvert_exporter": "python",
   "pygments_lexer": "ipython3",
   "version": "3.1.-1"
  }
 },
 "nbformat": 4,
 "nbformat_minor": 5
}
