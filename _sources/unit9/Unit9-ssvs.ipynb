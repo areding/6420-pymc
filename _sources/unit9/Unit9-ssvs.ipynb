{
 "cells": [
  {
   "cell_type": "markdown",
   "id": "0be75ca1-87f0-478b-a6ce-4cb2519b1d78",
   "metadata": {},
   "source": [
    "# Stochastic Search Variable Selection"
   ]
  },
  {
   "cell_type": "markdown",
   "id": "24a8d47e-25bb-4c6e-ad33-cb4bc34c7e6a",
   "metadata": {},
   "source": [
    "\n",
    "```{note}\n",
    "This page is a stub. It will be updated over summer 2023 with supplementary lecture notes.\n",
    "```"
   ]
  },
  {
   "cell_type": "code",
   "execution_count": null,
   "id": "c416cb3a-5a71-4b7f-ab78-1641af24ff57",
   "metadata": {},
   "outputs": [],
   "source": []
  }
 ],
 "metadata": {
  "kernelspec": {
   "display_name": "Python 3 (ipykernel)",
   "language": "python",
   "name": "python3"
  },
  "language_info": {
   "codemirror_mode": {
    "name": "ipython",
    "version": 3
   },
   "file_extension": ".py",
   "mimetype": "text/x-python",
   "name": "python",
   "nbconvert_exporter": "python",
   "pygments_lexer": "ipython3",
   "version": "3.11.0"
  }
 },
 "nbformat": 4,
 "nbformat_minor": 5
}
