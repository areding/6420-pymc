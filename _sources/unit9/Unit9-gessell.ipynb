{
 "cells": [
  {
   "cell_type": "code",
   "execution_count": 1,
   "id": "6bba4b63",
   "metadata": {},
   "outputs": [],
   "source": [
    "import pymc as pm\n",
    "import numpy as np\n",
    "import arviz as az\n",
    "import pandas as pd\n",
    "\n",
    "%load_ext lab_black\n",
    "%load_ext watermark"
   ]
  },
  {
   "cell_type": "markdown",
   "id": "e89e4167",
   "metadata": {},
   "source": [
    "# Gesell\n",
    "\n",
    "This example demonstrates ...\n",
    "\n",
    "Adapted from [unit 9: Gesell.odc](https://raw.githubusercontent.com/areding/6420-pymc/main/original_examples/Codes4Unit7/Gesell.odc).\n",
    "\n",
    "## Associated lecture video: Unit 9 Lesson 6"
   ]
  },
  {
   "cell_type": "code",
   "execution_count": 2,
   "id": "f61d7bb6",
   "metadata": {},
   "outputs": [
    {
     "data": {
      "text/html": [
       "<iframe width=\"560\" height=\"315\" src=\"https://www.youtube.com/embed?v=xomK4tcePmc&list=PLv0FeK5oXK4l-RdT6DWJj0_upJOG2WKNO&index=93\" frameborder=\"0\" allow=\"autoplay; encrypted-media\" allowfullscreen></iframe>\n"
      ],
      "text/plain": [
       "<IPython.core.display.HTML object>"
      ]
     },
     "metadata": {},
     "output_type": "display_data"
    }
   ],
   "source": [
    "%%html\n",
    "<iframe width=\"560\" height=\"315\" src=\"https://www.youtube.com/embed?v=xomK4tcePmc&list=PLv0FeK5oXK4l-RdT6DWJj0_upJOG2WKNO&index=93\" frameborder=\"0\" allow=\"autoplay; encrypted-media\" allowfullscreen></iframe>"
   ]
  },
  {
   "cell_type": "markdown",
   "id": "8f7e542e",
   "metadata": {},
   "source": [
    "## Problem statement\n",
    "\n",
    "Gesell Developmental Schedules  measure  child development. The scoring is devised by the American child psychologist and pediatrician Arnold Gesell who founded the Clinic of Child Development at Yale in 1911 and directed it for many years.  The Gesell Developmental Schedules are a gauge of the status of a child's motor and language development and personal-social and adaptive behaviors.\n",
    "\n",
    "For 21 children the age in months at which they first spoke and their Gesell Adaptive Score, which is the result of an aptitude test taken much later was recorded.  These data were originally collected by L. M. Linde of UCLA but were first published by M. R. Mickey, O. J. Dunn, and V. Clark, \u001c",
    "†Note on the use of stepwise regression in detecting outliers,\u001d",
    "† Computers and Biomedical Research, 1 (1967), pp. 105\u0013†111. \n",
    "\n",
    "The data have been used by several authors, e.g.,  N. R. Draper and\n",
    "J. A. John, \u001c",
    "†Influential observations and outliers in regression,\u001d",
    "† \n",
    "Technometrics, 23 (1981), pp. 21\u0013†26.\n",
    "\n",
    "Let X be the age in in months a child speaks his/her first word\n",
    "and let Y be the Gesell adaptive score, a measure of a child\u0019†s\n",
    "aptitude (observed later on). \n",
    "\n",
    "Child Age Score        Child Age Score            Child Age Score\n",
    "----------------------------------------------------------------------------------------------------\n",
    "1 15 95                       8 11 100                        15 11 102\n",
    "2 26 71                       9 8 104                          16 10 100\n",
    "3 10 83                      10 20 94                         17 12 105\n",
    "4 9 91                        11 7 113                         18 42 57\n",
    "5 15 102                     12 9 96                          19 17 121\n",
    "6 20 87                      13 10 83                         20 11 86\n",
    "7 18 93                      14 11 84                         21 10 100\n",
    "\n",
    "\n",
    "Correlation of r = \u0012¢0.640 indicates a  moderately strong negative\n",
    "relationship between age at first word spoken and Gesell score.\n",
    " How does the child\u0019†s aptitude change with how long it takes them to speak?\n",
    "\n",
    "Are there any influential observations/potential outliers?\n",
    "\n",
    "The solution follows a two stage modeling. \n",
    "(A) Obtain mean ICPOs. Outside BUGS take reciprocal of mean ICPOs.\n",
    "(these are CPOs) and consder them as an input for model B.\n",
    "(B) Read in and calibrate CPOs with posterior ordinates\n"
   ]
  },
  {
   "cell_type": "code",
   "execution_count": null,
   "id": "d58dfce9",
   "metadata": {},
   "outputs": [],
   "source": [
    "# data"
   ]
  },
  {
   "cell_type": "markdown",
   "id": "39e97410",
   "metadata": {},
   "source": [
    "## Model A"
   ]
  },
  {
   "cell_type": "code",
   "execution_count": null,
   "id": "f771a429",
   "metadata": {},
   "outputs": [],
   "source": []
  },
  {
   "cell_type": "markdown",
   "id": "2d56e108",
   "metadata": {},
   "source": [
    "## Model B\n"
   ]
  },
  {
   "cell_type": "code",
   "execution_count": null,
   "id": "e7d0f6e0",
   "metadata": {},
   "outputs": [],
   "source": []
  }
 ],
 "metadata": {
  "kernelspec": {
   "display_name": "Python 3 (ipykernel)",
   "language": "python",
   "name": "python3"
  },
  "language_info": {
   "codemirror_mode": {
    "name": "ipython",
    "version": 3
   },
   "file_extension": ".py",
   "mimetype": "text/x-python",
   "name": "python",
   "nbconvert_exporter": "python",
   "pygments_lexer": "ipython3",
   "version": "3.10.1"
  }
 },
 "nbformat": 4,
 "nbformat_minor": 5
}
