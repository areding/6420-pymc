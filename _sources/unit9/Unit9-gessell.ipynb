{
 "cells": [
  {
   "cell_type": "code",
   "execution_count": 1,
   "id": "5c7c4bcd",
   "metadata": {},
   "outputs": [],
   "source": [
    "import pymc as pm\n",
    "import numpy as np\n",
    "import arviz as az\n",
    "\n",
    "%load_ext lab_black\n",
    "%load_ext watermark"
   ]
  },
  {
   "cell_type": "markdown",
   "id": "654d673f",
   "metadata": {},
   "source": [
    "# Gesell\n",
    "\n",
    "This example demonstrates ...\n",
    "\n",
    "Adapted from [unit 9: Gesell.odc](https://raw.githubusercontent.com/areding/6420-pymc/main/original_examples/Codes4Unit9/Gesell.odc).\n",
    "\n",
    "\n",
    "\n",
    "Note: not really working right now. Will go over it again later.\n",
    "\n",
    "\n",
    "\n",
    "Associated lecture video: Unit 9 Lesson 6"
   ]
  },
  {
   "cell_type": "markdown",
   "id": "e9545e4e",
   "metadata": {},
   "source": [
    "## Problem statement\n",
    "\n",
    "Gesell Developmental Schedules  measure  child development. The scoring is devised by the American child psychologist and pediatrician Arnold Gesell who founded the Clinic of Child Development at Yale in 1911 and directed it for many years.  The Gesell Developmental Schedules are a gauge of the status of a child's motor and language development and personal-social and adaptive behaviors.\n",
    "\n",
    "For 21 children the age in months at which they first spoke and their Gesell Adaptive Score, which is the result of an aptitude test taken much later was recorded.  These data were originally collected by L. M. Linde of UCLA but were first published by M. R. Mickey, O. J. Dunn, and V. Clark, \u001c",
    "†Note on the use of stepwise regression in detecting outliers,\u001d",
    "† Computers and Biomedical Research, 1 (1967), pp. 105\u0013†111. \n",
    "\n",
    "The data have been used by several authors, e.g.,  N. R. Draper and\n",
    "J. A. John, \u001c",
    "†Influential observations and outliers in regression,\u001d",
    "† \n",
    "Technometrics, 23 (1981), pp. 21\u0013†26.\n",
    "\n",
    "Let X be the age in in months a child speaks his/her first word\n",
    "and let Y be the Gesell adaptive score, a measure of a child\u0019†s\n",
    "aptitude (observed later on). \n",
    "\n",
    "\n",
    "Correlation of r = \u0012¢0.640 indicates a  moderately strong negative\n",
    "relationship between age at first word spoken and Gesell score.\n",
    " How does the child\u0019†s aptitude change with how long it takes them to speak?\n",
    "\n",
    "Are there any influential observations/potential outliers?\n",
    "\n",
    "The solution follows a two stage modeling. \n",
    "\n",
    "(A) Obtain mean ICPOs. Outside BUGS take reciprocal of mean ICPOs.\n",
    "(these are CPOs) and consder them as an input for model B.\n",
    "\n",
    "(B) Read in and calibrate CPOs with posterior ordinates\n"
   ]
  },
  {
   "cell_type": "code",
   "execution_count": 3,
   "id": "d8889f97",
   "metadata": {},
   "outputs": [],
   "source": [
    "# fmt: off\n",
    "x = np.array(\n",
    "    (15, 26, 10, 9, 15, 20, 18, 11, 8, 20, 7, 9, 10, 11, 11, 10, 12, 42, 17, 11, 10)\n",
    ")\n",
    "\n",
    "y = np.array(\n",
    "    (95, 71, 83, 91, 102, 87, 93, 100, 104, 94, 113, 96, 83, 84, 102, 100, 105, 57, 121, 86, 100)\n",
    ")\n",
    "# fmt: on"
   ]
  },
  {
   "cell_type": "markdown",
   "id": "fbd06bd1",
   "metadata": {},
   "source": [
    "## Model A"
   ]
  },
  {
   "cell_type": "code",
   "execution_count": 4,
   "id": "6f48c1b3",
   "metadata": {},
   "outputs": [
    {
     "name": "stderr",
     "output_type": "stream",
     "text": [
      "Auto-assigning NUTS sampler...\n",
      "Initializing NUTS using jitter+adapt_diag...\n",
      "Multiprocess sampling (4 chains in 4 jobs)\n",
      "NUTS: [tau, b]\n"
     ]
    },
    {
     "data": {
      "text/html": [
       "\n",
       "<style>\n",
       "    /* Turns off some styling */\n",
       "    progress {\n",
       "        /* gets rid of default border in Firefox and Opera. */\n",
       "        border: none;\n",
       "        /* Needs to be in here for Safari polyfill so background images work as expected. */\n",
       "        background-size: auto;\n",
       "    }\n",
       "    .progress-bar-interrupted, .progress-bar-interrupted::-webkit-progress-bar {\n",
       "        background: #F44336;\n",
       "    }\n",
       "</style>\n"
      ],
      "text/plain": [
       "<IPython.core.display.HTML object>"
      ]
     },
     "metadata": {},
     "output_type": "display_data"
    },
    {
     "data": {
      "text/html": [
       "\n",
       "    <div>\n",
       "      <progress value='44000' class='' max='44000' style='width:300px; height:20px; vertical-align: middle;'></progress>\n",
       "      100.00% [44000/44000 03:00<00:00 Sampling 4 chains, 0 divergences]\n",
       "    </div>\n",
       "    "
      ],
      "text/plain": [
       "<IPython.core.display.HTML object>"
      ]
     },
     "metadata": {},
     "output_type": "display_data"
    },
    {
     "name": "stderr",
     "output_type": "stream",
     "text": [
      "Sampling 4 chains for 1_000 tune and 10_000 draw iterations (4_000 + 40_000 draws total) took 201 seconds.\n"
     ]
    }
   ],
   "source": [
    "with pm.Model() as model:\n",
    "    # couldn't get .001 working, answers are pretty close with .003\n",
    "    tau = pm.Gamma(\"tau\", 1, 0.003)\n",
    "    s2 = pm.Deterministic(\"s2\", 1 / tau)\n",
    "    b = pm.Normal(\"b\", 0, tau=0.0001, shape=2)\n",
    "\n",
    "    m = b[0] + b[1] * x\n",
    "    r = y - m\n",
    "    f = pm.Deterministic(\n",
    "        \"cpo\", (tau / (2 * np.pi)) ** 0.5 * pm.math.exp(-0.5 * tau * r**2)\n",
    "    )\n",
    "    # what is the point of this when we want cpo anyways?\n",
    "    # icpo = pm.Deterministic(\"icpo\", 1 / f)\n",
    "    pm.Normal(\"likelihood\", mu=m, tau=tau, observed=y)\n",
    "\n",
    "    trace = pm.sample(10000, target_accept=0.99)"
   ]
  },
  {
   "cell_type": "code",
   "execution_count": 5,
   "id": "2235f396",
   "metadata": {},
   "outputs": [],
   "source": [
    "cpo_df = az.summary(trace, var_names=\"cpo\", round_to=5, filter_vars=\"like\")"
   ]
  },
  {
   "cell_type": "code",
   "execution_count": 6,
   "id": "a0b09bf9",
   "metadata": {},
   "outputs": [
    {
     "data": {
      "text/plain": [
       "array([0.03596, 0.02394, 0.01318, 0.02634, 0.02533, 0.03624, 0.03462,\n",
       "       0.03539, 0.03442, 0.02983, 0.02104, 0.03431, 0.01318, 0.01689,\n",
       "       0.03314, 0.03604, 0.02599, 0.02643, 0.00107, 0.02081, 0.03604])"
      ]
     },
     "execution_count": 6,
     "metadata": {},
     "output_type": "execute_result"
    }
   ],
   "source": [
    "cpo_means = cpo_df[\"mean\"].to_numpy()\n",
    "cpo_means"
   ]
  },
  {
   "cell_type": "markdown",
   "id": "ef845d6e",
   "metadata": {},
   "source": [
    "## Model B\n"
   ]
  },
  {
   "cell_type": "code",
   "execution_count": 7,
   "id": "7697574d",
   "metadata": {},
   "outputs": [],
   "source": [
    "mlcpo = -2 * np.log(cpo_means)\n",
    "MPQ = np.sum(mlcpo)"
   ]
  },
  {
   "cell_type": "code",
   "execution_count": 8,
   "id": "514244e8",
   "metadata": {},
   "outputs": [
    {
     "name": "stderr",
     "output_type": "stream",
     "text": [
      "Auto-assigning NUTS sampler...\n",
      "Initializing NUTS using jitter+adapt_diag...\n",
      "Multiprocess sampling (4 chains in 4 jobs)\n",
      "NUTS: [tau, b]\n"
     ]
    },
    {
     "data": {
      "text/html": [
       "\n",
       "<style>\n",
       "    /* Turns off some styling */\n",
       "    progress {\n",
       "        /* gets rid of default border in Firefox and Opera. */\n",
       "        border: none;\n",
       "        /* Needs to be in here for Safari polyfill so background images work as expected. */\n",
       "        background-size: auto;\n",
       "    }\n",
       "    .progress-bar-interrupted, .progress-bar-interrupted::-webkit-progress-bar {\n",
       "        background: #F44336;\n",
       "    }\n",
       "</style>\n"
      ],
      "text/plain": [
       "<IPython.core.display.HTML object>"
      ]
     },
     "metadata": {},
     "output_type": "display_data"
    },
    {
     "data": {
      "text/html": [
       "\n",
       "    <div>\n",
       "      <progress value='12000' class='' max='12000' style='width:300px; height:20px; vertical-align: middle;'></progress>\n",
       "      100.00% [12000/12000 00:11<00:00 Sampling 4 chains, 0 divergences]\n",
       "    </div>\n",
       "    "
      ],
      "text/plain": [
       "<IPython.core.display.HTML object>"
      ]
     },
     "metadata": {},
     "output_type": "display_data"
    },
    {
     "name": "stderr",
     "output_type": "stream",
     "text": [
      "Sampling 4 chains for 1_000 tune and 2_000 draw iterations (4_000 + 8_000 draws total) took 36 seconds.\n"
     ]
    }
   ],
   "source": [
    "with pm.Model() as model:\n",
    "    # couldn't get .001 working, answers are pretty close with .003\n",
    "    tau = pm.Gamma(\"tau\", 1, 0.003)\n",
    "    s2 = pm.Deterministic(\"s2\", 1 / tau)\n",
    "    b = pm.Normal(\"b\", 0, tau=0.0001, shape=2)\n",
    "\n",
    "    m = b[0] + b[1] * x\n",
    "    r = y - m\n",
    "    f = pm.Deterministic(\n",
    "        \"f\", (tau / (2 * np.pi)) ** 0.5 * pm.math.exp(-0.5 * tau * r**2)\n",
    "    )\n",
    "    c = pm.Deterministic(\"c\", cpo_means / f)\n",
    "    # clean this up later\n",
    "    g1 = pm.Deterministic(\"g1\", c * pm.math.log(c))\n",
    "    g2 = -pm.math.log(c)\n",
    "    g3 = 0.5 * pm.math.abs_(c - 1)\n",
    "    g4 = (c - 1) ** 2\n",
    "\n",
    "    pm.Deterministic(\"s_g1\", pm.math.sum(g1))\n",
    "    pm.Deterministic(\"s_g2\", pm.math.sum(g2))\n",
    "    pm.Deterministic(\"s_g3\", pm.math.sum(g3))\n",
    "    pm.Deterministic(\"s_g4\", pm.math.sum(g4))\n",
    "\n",
    "    pm.Normal(\"likelihood\", mu=m, tau=tau, observed=y)\n",
    "\n",
    "    traceb = pm.sample(2000, target_accept=0.95)"
   ]
  },
  {
   "cell_type": "code",
   "execution_count": 9,
   "id": "b8bf8ab3",
   "metadata": {},
   "outputs": [
    {
     "data": {
      "text/html": [
       "<div>\n",
       "<style scoped>\n",
       "    .dataframe tbody tr th:only-of-type {\n",
       "        vertical-align: middle;\n",
       "    }\n",
       "\n",
       "    .dataframe tbody tr th {\n",
       "        vertical-align: top;\n",
       "    }\n",
       "\n",
       "    .dataframe thead th {\n",
       "        text-align: right;\n",
       "    }\n",
       "</style>\n",
       "<table border=\"1\" class=\"dataframe\">\n",
       "  <thead>\n",
       "    <tr style=\"text-align: right;\">\n",
       "      <th></th>\n",
       "      <th>mean</th>\n",
       "      <th>sd</th>\n",
       "      <th>hdi_3%</th>\n",
       "      <th>hdi_97%</th>\n",
       "      <th>mcse_mean</th>\n",
       "      <th>mcse_sd</th>\n",
       "      <th>ess_bulk</th>\n",
       "      <th>ess_tail</th>\n",
       "      <th>r_hat</th>\n",
       "    </tr>\n",
       "  </thead>\n",
       "  <tbody>\n",
       "    <tr>\n",
       "      <th>c[0]</th>\n",
       "      <td>1.026</td>\n",
       "      <td>0.172</td>\n",
       "      <td>0.721</td>\n",
       "      <td>1.336</td>\n",
       "      <td>0.003</td>\n",
       "      <td>0.002</td>\n",
       "      <td>3539.0</td>\n",
       "      <td>4444.0</td>\n",
       "      <td>1.0</td>\n",
       "    </tr>\n",
       "    <tr>\n",
       "      <th>c[1]</th>\n",
       "      <td>1.155</td>\n",
       "      <td>0.599</td>\n",
       "      <td>0.554</td>\n",
       "      <td>2.107</td>\n",
       "      <td>0.009</td>\n",
       "      <td>0.006</td>\n",
       "      <td>4906.0</td>\n",
       "      <td>5768.0</td>\n",
       "      <td>1.0</td>\n",
       "    </tr>\n",
       "    <tr>\n",
       "      <th>c[2]</th>\n",
       "      <td>1.204</td>\n",
       "      <td>0.655</td>\n",
       "      <td>0.478</td>\n",
       "      <td>2.259</td>\n",
       "      <td>0.010</td>\n",
       "      <td>0.007</td>\n",
       "      <td>3932.0</td>\n",
       "      <td>4141.0</td>\n",
       "      <td>1.0</td>\n",
       "    </tr>\n",
       "    <tr>\n",
       "      <th>c[3]</th>\n",
       "      <td>1.059</td>\n",
       "      <td>0.278</td>\n",
       "      <td>0.647</td>\n",
       "      <td>1.555</td>\n",
       "      <td>0.005</td>\n",
       "      <td>0.003</td>\n",
       "      <td>3808.0</td>\n",
       "      <td>5150.0</td>\n",
       "      <td>1.0</td>\n",
       "    </tr>\n",
       "    <tr>\n",
       "      <th>c[4]</th>\n",
       "      <td>1.040</td>\n",
       "      <td>0.223</td>\n",
       "      <td>0.699</td>\n",
       "      <td>1.466</td>\n",
       "      <td>0.003</td>\n",
       "      <td>0.002</td>\n",
       "      <td>6131.0</td>\n",
       "      <td>5699.0</td>\n",
       "      <td>1.0</td>\n",
       "    </tr>\n",
       "    <tr>\n",
       "      <th>c[5]</th>\n",
       "      <td>1.027</td>\n",
       "      <td>0.177</td>\n",
       "      <td>0.731</td>\n",
       "      <td>1.361</td>\n",
       "      <td>0.003</td>\n",
       "      <td>0.002</td>\n",
       "      <td>3245.0</td>\n",
       "      <td>4163.0</td>\n",
       "      <td>1.0</td>\n",
       "    </tr>\n",
       "    <tr>\n",
       "      <th>c[6]</th>\n",
       "      <td>1.027</td>\n",
       "      <td>0.178</td>\n",
       "      <td>0.729</td>\n",
       "      <td>1.364</td>\n",
       "      <td>0.003</td>\n",
       "      <td>0.002</td>\n",
       "      <td>3830.0</td>\n",
       "      <td>4518.0</td>\n",
       "      <td>1.0</td>\n",
       "    </tr>\n",
       "    <tr>\n",
       "      <th>c[7]</th>\n",
       "      <td>1.027</td>\n",
       "      <td>0.177</td>\n",
       "      <td>0.724</td>\n",
       "      <td>1.355</td>\n",
       "      <td>0.003</td>\n",
       "      <td>0.002</td>\n",
       "      <td>3465.0</td>\n",
       "      <td>4405.0</td>\n",
       "      <td>1.0</td>\n",
       "    </tr>\n",
       "    <tr>\n",
       "      <th>c[8]</th>\n",
       "      <td>1.031</td>\n",
       "      <td>0.196</td>\n",
       "      <td>0.698</td>\n",
       "      <td>1.382</td>\n",
       "      <td>0.004</td>\n",
       "      <td>0.003</td>\n",
       "      <td>3265.0</td>\n",
       "      <td>3415.0</td>\n",
       "      <td>1.0</td>\n",
       "    </tr>\n",
       "    <tr>\n",
       "      <th>c[9]</th>\n",
       "      <td>1.042</td>\n",
       "      <td>0.228</td>\n",
       "      <td>0.682</td>\n",
       "      <td>1.454</td>\n",
       "      <td>0.003</td>\n",
       "      <td>0.002</td>\n",
       "      <td>5179.0</td>\n",
       "      <td>5458.0</td>\n",
       "      <td>1.0</td>\n",
       "    </tr>\n",
       "    <tr>\n",
       "      <th>c[10]</th>\n",
       "      <td>1.115</td>\n",
       "      <td>0.463</td>\n",
       "      <td>0.549</td>\n",
       "      <td>1.877</td>\n",
       "      <td>0.008</td>\n",
       "      <td>0.006</td>\n",
       "      <td>3372.0</td>\n",
       "      <td>4006.0</td>\n",
       "      <td>1.0</td>\n",
       "    </tr>\n",
       "    <tr>\n",
       "      <th>c[11]</th>\n",
       "      <td>1.032</td>\n",
       "      <td>0.192</td>\n",
       "      <td>0.718</td>\n",
       "      <td>1.382</td>\n",
       "      <td>0.003</td>\n",
       "      <td>0.002</td>\n",
       "      <td>3422.0</td>\n",
       "      <td>4315.0</td>\n",
       "      <td>1.0</td>\n",
       "    </tr>\n",
       "    <tr>\n",
       "      <th>c[12]</th>\n",
       "      <td>1.204</td>\n",
       "      <td>0.655</td>\n",
       "      <td>0.478</td>\n",
       "      <td>2.259</td>\n",
       "      <td>0.010</td>\n",
       "      <td>0.007</td>\n",
       "      <td>3932.0</td>\n",
       "      <td>4141.0</td>\n",
       "      <td>1.0</td>\n",
       "    </tr>\n",
       "    <tr>\n",
       "      <th>c[13]</th>\n",
       "      <td>1.118</td>\n",
       "      <td>0.439</td>\n",
       "      <td>0.552</td>\n",
       "      <td>1.853</td>\n",
       "      <td>0.006</td>\n",
       "      <td>0.004</td>\n",
       "      <td>4387.0</td>\n",
       "      <td>4487.0</td>\n",
       "      <td>1.0</td>\n",
       "    </tr>\n",
       "    <tr>\n",
       "      <th>c[14]</th>\n",
       "      <td>1.028</td>\n",
       "      <td>0.185</td>\n",
       "      <td>0.711</td>\n",
       "      <td>1.364</td>\n",
       "      <td>0.003</td>\n",
       "      <td>0.002</td>\n",
       "      <td>3706.0</td>\n",
       "      <td>4060.0</td>\n",
       "      <td>1.0</td>\n",
       "    </tr>\n",
       "    <tr>\n",
       "      <th>c[15]</th>\n",
       "      <td>1.027</td>\n",
       "      <td>0.177</td>\n",
       "      <td>0.736</td>\n",
       "      <td>1.371</td>\n",
       "      <td>0.003</td>\n",
       "      <td>0.002</td>\n",
       "      <td>3329.0</td>\n",
       "      <td>4106.0</td>\n",
       "      <td>1.0</td>\n",
       "    </tr>\n",
       "    <tr>\n",
       "      <th>c[16]</th>\n",
       "      <td>1.041</td>\n",
       "      <td>0.228</td>\n",
       "      <td>0.688</td>\n",
       "      <td>1.483</td>\n",
       "      <td>0.003</td>\n",
       "      <td>0.002</td>\n",
       "      <td>4472.0</td>\n",
       "      <td>4345.0</td>\n",
       "      <td>1.0</td>\n",
       "    </tr>\n",
       "    <tr>\n",
       "      <th>c[17]</th>\n",
       "      <td>1.913</td>\n",
       "      <td>11.466</td>\n",
       "      <td>0.497</td>\n",
       "      <td>3.648</td>\n",
       "      <td>0.182</td>\n",
       "      <td>0.129</td>\n",
       "      <td>3650.0</td>\n",
       "      <td>4251.0</td>\n",
       "      <td>1.0</td>\n",
       "    </tr>\n",
       "    <tr>\n",
       "      <th>c[18]</th>\n",
       "      <td>7.210</td>\n",
       "      <td>55.051</td>\n",
       "      <td>0.109</td>\n",
       "      <td>18.490</td>\n",
       "      <td>0.719</td>\n",
       "      <td>0.508</td>\n",
       "      <td>4132.0</td>\n",
       "      <td>4732.0</td>\n",
       "      <td>1.0</td>\n",
       "    </tr>\n",
       "    <tr>\n",
       "      <th>c[19]</th>\n",
       "      <td>1.079</td>\n",
       "      <td>0.332</td>\n",
       "      <td>0.595</td>\n",
       "      <td>1.643</td>\n",
       "      <td>0.005</td>\n",
       "      <td>0.003</td>\n",
       "      <td>4462.0</td>\n",
       "      <td>5053.0</td>\n",
       "      <td>1.0</td>\n",
       "    </tr>\n",
       "    <tr>\n",
       "      <th>c[20]</th>\n",
       "      <td>1.027</td>\n",
       "      <td>0.177</td>\n",
       "      <td>0.736</td>\n",
       "      <td>1.371</td>\n",
       "      <td>0.003</td>\n",
       "      <td>0.002</td>\n",
       "      <td>3329.0</td>\n",
       "      <td>4106.0</td>\n",
       "      <td>1.0</td>\n",
       "    </tr>\n",
       "  </tbody>\n",
       "</table>\n",
       "</div>"
      ],
      "text/plain": [
       "        mean      sd  hdi_3%  hdi_97%  mcse_mean  mcse_sd  ess_bulk  ess_tail  \\\n",
       "c[0]   1.026   0.172   0.721    1.336      0.003    0.002    3539.0    4444.0   \n",
       "c[1]   1.155   0.599   0.554    2.107      0.009    0.006    4906.0    5768.0   \n",
       "c[2]   1.204   0.655   0.478    2.259      0.010    0.007    3932.0    4141.0   \n",
       "c[3]   1.059   0.278   0.647    1.555      0.005    0.003    3808.0    5150.0   \n",
       "c[4]   1.040   0.223   0.699    1.466      0.003    0.002    6131.0    5699.0   \n",
       "c[5]   1.027   0.177   0.731    1.361      0.003    0.002    3245.0    4163.0   \n",
       "c[6]   1.027   0.178   0.729    1.364      0.003    0.002    3830.0    4518.0   \n",
       "c[7]   1.027   0.177   0.724    1.355      0.003    0.002    3465.0    4405.0   \n",
       "c[8]   1.031   0.196   0.698    1.382      0.004    0.003    3265.0    3415.0   \n",
       "c[9]   1.042   0.228   0.682    1.454      0.003    0.002    5179.0    5458.0   \n",
       "c[10]  1.115   0.463   0.549    1.877      0.008    0.006    3372.0    4006.0   \n",
       "c[11]  1.032   0.192   0.718    1.382      0.003    0.002    3422.0    4315.0   \n",
       "c[12]  1.204   0.655   0.478    2.259      0.010    0.007    3932.0    4141.0   \n",
       "c[13]  1.118   0.439   0.552    1.853      0.006    0.004    4387.0    4487.0   \n",
       "c[14]  1.028   0.185   0.711    1.364      0.003    0.002    3706.0    4060.0   \n",
       "c[15]  1.027   0.177   0.736    1.371      0.003    0.002    3329.0    4106.0   \n",
       "c[16]  1.041   0.228   0.688    1.483      0.003    0.002    4472.0    4345.0   \n",
       "c[17]  1.913  11.466   0.497    3.648      0.182    0.129    3650.0    4251.0   \n",
       "c[18]  7.210  55.051   0.109   18.490      0.719    0.508    4132.0    4732.0   \n",
       "c[19]  1.079   0.332   0.595    1.643      0.005    0.003    4462.0    5053.0   \n",
       "c[20]  1.027   0.177   0.736    1.371      0.003    0.002    3329.0    4106.0   \n",
       "\n",
       "       r_hat  \n",
       "c[0]     1.0  \n",
       "c[1]     1.0  \n",
       "c[2]     1.0  \n",
       "c[3]     1.0  \n",
       "c[4]     1.0  \n",
       "c[5]     1.0  \n",
       "c[6]     1.0  \n",
       "c[7]     1.0  \n",
       "c[8]     1.0  \n",
       "c[9]     1.0  \n",
       "c[10]    1.0  \n",
       "c[11]    1.0  \n",
       "c[12]    1.0  \n",
       "c[13]    1.0  \n",
       "c[14]    1.0  \n",
       "c[15]    1.0  \n",
       "c[16]    1.0  \n",
       "c[17]    1.0  \n",
       "c[18]    1.0  \n",
       "c[19]    1.0  \n",
       "c[20]    1.0  "
      ]
     },
     "execution_count": 9,
     "metadata": {},
     "output_type": "execute_result"
    }
   ],
   "source": [
    "az.summary(traceb, var_names=\"c\", filter_vars=\"like\")"
   ]
  },
  {
   "cell_type": "code",
   "execution_count": 10,
   "id": "77227980",
   "metadata": {},
   "outputs": [
    {
     "name": "stderr",
     "output_type": "stream",
     "text": [
      "/Users/aaron/mambaforge/envs/pymc_env/lib/python3.10/site-packages/arviz/stats/stats.py:1661: UserWarning: For one or more samples the posterior variance of the log predictive densities exceeds 0.4. This could be indication of WAIC starting to fail. \n",
      "See http://arxiv.org/abs/1507.04544 for details\n",
      "  warnings.warn(\n"
     ]
    },
    {
     "data": {
      "text/plain": [
       "Computed from 8000 posterior samples and 21 observations log-likelihood matrix.\n",
       "\n",
       "              Estimate       SE\n",
       "deviance_waic   165.39    10.10\n",
       "p_waic            3.41        -\n",
       "\n",
       "There has been a warning during the calculation. Please check the results."
      ]
     },
     "execution_count": 10,
     "metadata": {},
     "output_type": "execute_result"
    }
   ],
   "source": [
    "az.waic(traceb, scale=\"deviance\")"
   ]
  },
  {
   "cell_type": "code",
   "execution_count": 11,
   "id": "a33ae05d",
   "metadata": {},
   "outputs": [
    {
     "name": "stdout",
     "output_type": "stream",
     "text": [
      "Python implementation: CPython\n",
      "Python version       : 3.10.4\n",
      "IPython version      : 8.4.0\n",
      "\n",
      "numpy: 1.22.4\n",
      "pymc : 4.0.0\n",
      "arviz: 0.12.1\n",
      "\n"
     ]
    }
   ],
   "source": [
    "%watermark --iversions -v"
   ]
  },
  {
   "cell_type": "code",
   "execution_count": null,
   "id": "6feae0eb",
   "metadata": {},
   "outputs": [],
   "source": []
  }
 ],
 "metadata": {
  "kernelspec": {
   "display_name": "Python 3 (ipykernel)",
   "language": "python",
   "name": "python3"
  },
  "language_info": {
   "codemirror_mode": {
    "name": "ipython",
    "version": 3
   },
   "file_extension": ".py",
   "mimetype": "text/x-python",
   "name": "python",
   "nbconvert_exporter": "python",
   "pygments_lexer": "ipython3",
   "version": "3.10.4"
  }
 },
 "nbformat": 4,
 "nbformat_minor": 5
}
