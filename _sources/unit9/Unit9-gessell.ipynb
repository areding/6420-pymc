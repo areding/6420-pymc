{
 "cells": [
  {
   "cell_type": "code",
   "execution_count": 13,
   "id": "056664c6",
   "metadata": {},
   "outputs": [
    {
     "name": "stdout",
     "output_type": "stream",
     "text": [
      "The lab_black extension is already loaded. To reload it, use:\n",
      "  %reload_ext lab_black\n",
      "The watermark extension is already loaded. To reload it, use:\n",
      "  %reload_ext watermark\n"
     ]
    }
   ],
   "source": [
    "import pymc as pm\n",
    "import numpy as np\n",
    "import arviz as az\n",
    "\n",
    "%load_ext lab_black\n",
    "%load_ext watermark"
   ]
  },
  {
   "cell_type": "markdown",
   "id": "51fd2695",
   "metadata": {},
   "source": [
    "# Gesell\n",
    "\n",
    "This example demonstrates ...\n",
    "\n",
    "Adapted from [unit 9: Gesell.odc](https://raw.githubusercontent.com/areding/6420-pymc/main/original_examples/Codes4Unit9/Gesell.odc).\n",
    "\n",
    "\n",
    "\n",
    "Note: not really working right now. Will go over it again later.\n",
    "\n",
    "\n",
    "\n",
    "## Associated lecture video: Unit 9 Lesson 6"
   ]
  },
  {
   "cell_type": "code",
   "execution_count": 2,
   "id": "c19ede74",
   "metadata": {},
   "outputs": [
    {
     "data": {
      "text/html": [
       "<iframe width=\"560\" height=\"315\" src=\"https://www.youtube.com/embed?v=xomK4tcePmc&list=PLv0FeK5oXK4l-RdT6DWJj0_upJOG2WKNO&index=93\" frameborder=\"0\" allow=\"autoplay; encrypted-media\" allowfullscreen></iframe>\n"
      ],
      "text/plain": [
       "<IPython.core.display.HTML object>"
      ]
     },
     "metadata": {},
     "output_type": "display_data"
    }
   ],
   "source": [
    "%%html\n",
    "<iframe width=\"560\" height=\"315\" src=\"https://www.youtube.com/embed?v=xomK4tcePmc&list=PLv0FeK5oXK4l-RdT6DWJj0_upJOG2WKNO&index=93\" frameborder=\"0\" allow=\"autoplay; encrypted-media\" allowfullscreen></iframe>"
   ]
  },
  {
   "cell_type": "markdown",
   "id": "0f076967",
   "metadata": {},
   "source": [
    "## Problem statement\n",
    "\n",
    "Gesell Developmental Schedules  measure  child development. The scoring is devised by the American child psychologist and pediatrician Arnold Gesell who founded the Clinic of Child Development at Yale in 1911 and directed it for many years.  The Gesell Developmental Schedules are a gauge of the status of a child's motor and language development and personal-social and adaptive behaviors.\n",
    "\n",
    "For 21 children the age in months at which they first spoke and their Gesell Adaptive Score, which is the result of an aptitude test taken much later was recorded.  These data were originally collected by L. M. Linde of UCLA but were first published by M. R. Mickey, O. J. Dunn, and V. Clark, \u001c",
    "†Note on the use of stepwise regression in detecting outliers,\u001d",
    "† Computers and Biomedical Research, 1 (1967), pp. 105\u0013†111. \n",
    "\n",
    "The data have been used by several authors, e.g.,  N. R. Draper and\n",
    "J. A. John, \u001c",
    "†Influential observations and outliers in regression,\u001d",
    "† \n",
    "Technometrics, 23 (1981), pp. 21\u0013†26.\n",
    "\n",
    "Let X be the age in in months a child speaks his/her first word\n",
    "and let Y be the Gesell adaptive score, a measure of a child\u0019†s\n",
    "aptitude (observed later on). \n",
    "\n",
    "\n",
    "Correlation of r = \u0012¢0.640 indicates a  moderately strong negative\n",
    "relationship between age at first word spoken and Gesell score.\n",
    " How does the child\u0019†s aptitude change with how long it takes them to speak?\n",
    "\n",
    "Are there any influential observations/potential outliers?\n",
    "\n",
    "The solution follows a two stage modeling. \n",
    "\n",
    "(A) Obtain mean ICPOs. Outside BUGS take reciprocal of mean ICPOs.\n",
    "(these are CPOs) and consder them as an input for model B.\n",
    "\n",
    "(B) Read in and calibrate CPOs with posterior ordinates\n"
   ]
  },
  {
   "cell_type": "code",
   "execution_count": 20,
   "id": "0d0e1069",
   "metadata": {},
   "outputs": [],
   "source": [
    "# fmt: off\n",
    "x = np.array(\n",
    "    (15, 26, 10, 9, 15, 20, 18, 11, 8, 20, 7, 9, 10, 11, 11, 10, 12, 42, 17, 11, 10)\n",
    ")\n",
    "\n",
    "y = np.array(\n",
    "    (95, 71, 83, 91, 102, 87, 93, 100, 104, 94, 113, 96, 83, 84, 102, 100, 105, 57, 121, 86, 100)\n",
    ")\n",
    "# fmt: on"
   ]
  },
  {
   "cell_type": "markdown",
   "id": "fa095063",
   "metadata": {},
   "source": [
    "## Model A"
   ]
  },
  {
   "cell_type": "code",
   "execution_count": 82,
   "id": "58d22e95",
   "metadata": {},
   "outputs": [
    {
     "name": "stderr",
     "output_type": "stream",
     "text": [
      "Auto-assigning NUTS sampler...\n",
      "Initializing NUTS using jitter+adapt_diag...\n",
      "Multiprocess sampling (4 chains in 4 jobs)\n",
      "NUTS: [tau, b]\n"
     ]
    },
    {
     "data": {
      "text/html": [
       "\n",
       "<style>\n",
       "    /* Turns off some styling */\n",
       "    progress {\n",
       "        /* gets rid of default border in Firefox and Opera. */\n",
       "        border: none;\n",
       "        /* Needs to be in here for Safari polyfill so background images work as expected. */\n",
       "        background-size: auto;\n",
       "    }\n",
       "    .progress-bar-interrupted, .progress-bar-interrupted::-webkit-progress-bar {\n",
       "        background: #F44336;\n",
       "    }\n",
       "</style>\n"
      ],
      "text/plain": [
       "<IPython.core.display.HTML object>"
      ]
     },
     "metadata": {},
     "output_type": "display_data"
    },
    {
     "data": {
      "text/html": [
       "\n",
       "    <div>\n",
       "      <progress value='44000' class='' max='44000' style='width:300px; height:20px; vertical-align: middle;'></progress>\n",
       "      100.00% [44000/44000 00:56<00:00 Sampling 4 chains, 0 divergences]\n",
       "    </div>\n",
       "    "
      ],
      "text/plain": [
       "<IPython.core.display.HTML object>"
      ]
     },
     "metadata": {},
     "output_type": "display_data"
    },
    {
     "name": "stderr",
     "output_type": "stream",
     "text": [
      "/Users/aaron/mambaforge/envs/pymc_env/lib/python3.10/site-packages/scipy/stats/_continuous_distns.py:624: RuntimeWarning: overflow encountered in _beta_ppf\n",
      "  return _boost._beta_ppf(q, a, b)\n",
      "/Users/aaron/mambaforge/envs/pymc_env/lib/python3.10/site-packages/scipy/stats/_continuous_distns.py:624: RuntimeWarning: overflow encountered in _beta_ppf\n",
      "  return _boost._beta_ppf(q, a, b)\n",
      "/Users/aaron/mambaforge/envs/pymc_env/lib/python3.10/site-packages/scipy/stats/_continuous_distns.py:624: RuntimeWarning: overflow encountered in _beta_ppf\n",
      "  return _boost._beta_ppf(q, a, b)\n",
      "/Users/aaron/mambaforge/envs/pymc_env/lib/python3.10/site-packages/scipy/stats/_continuous_distns.py:624: RuntimeWarning: overflow encountered in _beta_ppf\n",
      "  return _boost._beta_ppf(q, a, b)\n",
      "Sampling 4 chains for 1_000 tune and 10_000 draw iterations (4_000 + 40_000 draws total) took 68 seconds.\n"
     ]
    }
   ],
   "source": [
    "with pm.Model() as model:\n",
    "    # couldn't get .001 working, answers are pretty close with .003\n",
    "    tau = pm.Gamma(\"tau\", 1, 0.003)\n",
    "    s2 = pm.Deterministic(\"s2\", 1 / tau)\n",
    "    b = pm.Normal(\"b\", 0, tau=0.0001, shape=2)\n",
    "\n",
    "    m = b[0] + b[1] * x\n",
    "    r = y - m\n",
    "    f = pm.Deterministic(\n",
    "        \"cpo\", (tau / (2 * np.pi)) ** 0.5 * pm.math.exp(-0.5 * tau * r**2)\n",
    "    )\n",
    "    # what is the point of this when we want cpo anyways?\n",
    "    # icpo = pm.Deterministic(\"icpo\", 1 / f)\n",
    "    pm.Normal(\"likelihood\", mu=m, tau=tau, observed=y)\n",
    "\n",
    "    trace = pm.sample(10000, target_accept=0.99)"
   ]
  },
  {
   "cell_type": "code",
   "execution_count": 83,
   "id": "57e19c45",
   "metadata": {},
   "outputs": [],
   "source": [
    "cpo_df = az.summary(trace, var_names=\"cpo\", round_to=5, filter_vars=\"like\")"
   ]
  },
  {
   "cell_type": "code",
   "execution_count": 84,
   "id": "6739e75d",
   "metadata": {},
   "outputs": [
    {
     "data": {
      "text/plain": [
       "array([0.03605, 0.02393, 0.01305, 0.02625, 0.02541, 0.03632, 0.03472,\n",
       "       0.0355 , 0.03454, 0.0299 , 0.02114, 0.03432, 0.01305, 0.01677,\n",
       "       0.03326, 0.03614, 0.02609, 0.02655, 0.00108, 0.02069, 0.03614])"
      ]
     },
     "execution_count": 84,
     "metadata": {},
     "output_type": "execute_result"
    }
   ],
   "source": [
    "cpo_means = cpo_df[\"mean\"].to_numpy()\n",
    "cpo_means"
   ]
  },
  {
   "cell_type": "markdown",
   "id": "18ee6930",
   "metadata": {},
   "source": [
    "## Model B\n"
   ]
  },
  {
   "cell_type": "code",
   "execution_count": 85,
   "id": "21669359",
   "metadata": {},
   "outputs": [],
   "source": [
    "mlcpo = -2 * np.log(cpo_means)\n",
    "MPQ = np.sum(mlcpo)"
   ]
  },
  {
   "cell_type": "code",
   "execution_count": 86,
   "id": "513b52be",
   "metadata": {},
   "outputs": [
    {
     "name": "stderr",
     "output_type": "stream",
     "text": [
      "Auto-assigning NUTS sampler...\n",
      "Initializing NUTS using jitter+adapt_diag...\n",
      "Multiprocess sampling (4 chains in 4 jobs)\n",
      "NUTS: [tau, b]\n"
     ]
    },
    {
     "data": {
      "text/html": [
       "\n",
       "<style>\n",
       "    /* Turns off some styling */\n",
       "    progress {\n",
       "        /* gets rid of default border in Firefox and Opera. */\n",
       "        border: none;\n",
       "        /* Needs to be in here for Safari polyfill so background images work as expected. */\n",
       "        background-size: auto;\n",
       "    }\n",
       "    .progress-bar-interrupted, .progress-bar-interrupted::-webkit-progress-bar {\n",
       "        background: #F44336;\n",
       "    }\n",
       "</style>\n"
      ],
      "text/plain": [
       "<IPython.core.display.HTML object>"
      ]
     },
     "metadata": {},
     "output_type": "display_data"
    },
    {
     "data": {
      "text/html": [
       "\n",
       "    <div>\n",
       "      <progress value='12000' class='' max='12000' style='width:300px; height:20px; vertical-align: middle;'></progress>\n",
       "      100.00% [12000/12000 00:04<00:00 Sampling 4 chains, 0 divergences]\n",
       "    </div>\n",
       "    "
      ],
      "text/plain": [
       "<IPython.core.display.HTML object>"
      ]
     },
     "metadata": {},
     "output_type": "display_data"
    },
    {
     "name": "stderr",
     "output_type": "stream",
     "text": [
      "/Users/aaron/mambaforge/envs/pymc_env/lib/python3.10/site-packages/scipy/stats/_continuous_distns.py:624: RuntimeWarning: overflow encountered in _beta_ppf\n",
      "  return _boost._beta_ppf(q, a, b)\n",
      "/Users/aaron/mambaforge/envs/pymc_env/lib/python3.10/site-packages/scipy/stats/_continuous_distns.py:624: RuntimeWarning: overflow encountered in _beta_ppf\n",
      "  return _boost._beta_ppf(q, a, b)\n",
      "/Users/aaron/mambaforge/envs/pymc_env/lib/python3.10/site-packages/scipy/stats/_continuous_distns.py:624: RuntimeWarning: overflow encountered in _beta_ppf\n",
      "  return _boost._beta_ppf(q, a, b)\n",
      "/Users/aaron/mambaforge/envs/pymc_env/lib/python3.10/site-packages/scipy/stats/_continuous_distns.py:624: RuntimeWarning: overflow encountered in _beta_ppf\n",
      "  return _boost._beta_ppf(q, a, b)\n",
      "Sampling 4 chains for 1_000 tune and 2_000 draw iterations (4_000 + 8_000 draws total) took 15 seconds.\n"
     ]
    }
   ],
   "source": [
    "with pm.Model() as model:\n",
    "    # couldn't get .001 working, answers are pretty close with .003\n",
    "    tau = pm.Gamma(\"tau\", 1, 0.003)\n",
    "    s2 = pm.Deterministic(\"s2\", 1 / tau)\n",
    "    b = pm.Normal(\"b\", 0, tau=0.0001, shape=2)\n",
    "\n",
    "    m = b[0] + b[1] * x\n",
    "    r = y - m\n",
    "    f = pm.Deterministic(\n",
    "        \"f\", (tau / (2 * np.pi)) ** 0.5 * pm.math.exp(-0.5 * tau * r**2)\n",
    "    )\n",
    "    c = pm.Deterministic(\"c\", cpo_means / f)\n",
    "    # clean this up later\n",
    "    g1 = pm.Deterministic(\"g1\", c * pm.math.log(c))\n",
    "    g2 = -pm.math.log(c)\n",
    "    g3 = 0.5 * pm.math.abs_(c - 1)\n",
    "    g4 = (c - 1) ** 2\n",
    "\n",
    "    pm.Deterministic(\"s_g1\", pm.math.sum(g1))\n",
    "    pm.Deterministic(\"s_g2\", pm.math.sum(g2))\n",
    "    pm.Deterministic(\"s_g3\", pm.math.sum(g3))\n",
    "    pm.Deterministic(\"s_g4\", pm.math.sum(g4))\n",
    "\n",
    "    pm.Normal(\"likelihood\", mu=m, tau=tau, observed=y)\n",
    "\n",
    "    traceb = pm.sample(2000, target_accept=0.95)"
   ]
  },
  {
   "cell_type": "code",
   "execution_count": 88,
   "id": "57909b69",
   "metadata": {},
   "outputs": [
    {
     "data": {
      "text/html": [
       "<div>\n",
       "<style scoped>\n",
       "    .dataframe tbody tr th:only-of-type {\n",
       "        vertical-align: middle;\n",
       "    }\n",
       "\n",
       "    .dataframe tbody tr th {\n",
       "        vertical-align: top;\n",
       "    }\n",
       "\n",
       "    .dataframe thead th {\n",
       "        text-align: right;\n",
       "    }\n",
       "</style>\n",
       "<table border=\"1\" class=\"dataframe\">\n",
       "  <thead>\n",
       "    <tr style=\"text-align: right;\">\n",
       "      <th></th>\n",
       "      <th>mean</th>\n",
       "      <th>sd</th>\n",
       "      <th>hdi_3%</th>\n",
       "      <th>hdi_97%</th>\n",
       "      <th>mcse_mean</th>\n",
       "      <th>mcse_sd</th>\n",
       "      <th>ess_bulk</th>\n",
       "      <th>ess_tail</th>\n",
       "      <th>r_hat</th>\n",
       "    </tr>\n",
       "  </thead>\n",
       "  <tbody>\n",
       "    <tr>\n",
       "      <th>c[0]</th>\n",
       "      <td>1.033</td>\n",
       "      <td>0.180</td>\n",
       "      <td>0.735</td>\n",
       "      <td>1.374</td>\n",
       "      <td>0.003</td>\n",
       "      <td>0.002</td>\n",
       "      <td>3160.0</td>\n",
       "      <td>3569.0</td>\n",
       "      <td>1.0</td>\n",
       "    </tr>\n",
       "    <tr>\n",
       "      <th>c[1]</th>\n",
       "      <td>1.167</td>\n",
       "      <td>0.619</td>\n",
       "      <td>0.556</td>\n",
       "      <td>2.134</td>\n",
       "      <td>0.009</td>\n",
       "      <td>0.006</td>\n",
       "      <td>4763.0</td>\n",
       "      <td>5757.0</td>\n",
       "      <td>1.0</td>\n",
       "    </tr>\n",
       "    <tr>\n",
       "      <th>c[2]</th>\n",
       "      <td>1.188</td>\n",
       "      <td>0.684</td>\n",
       "      <td>0.453</td>\n",
       "      <td>2.246</td>\n",
       "      <td>0.010</td>\n",
       "      <td>0.007</td>\n",
       "      <td>4417.0</td>\n",
       "      <td>5430.0</td>\n",
       "      <td>1.0</td>\n",
       "    </tr>\n",
       "    <tr>\n",
       "      <th>c[3]</th>\n",
       "      <td>1.052</td>\n",
       "      <td>0.272</td>\n",
       "      <td>0.657</td>\n",
       "      <td>1.562</td>\n",
       "      <td>0.004</td>\n",
       "      <td>0.003</td>\n",
       "      <td>4446.0</td>\n",
       "      <td>5257.0</td>\n",
       "      <td>1.0</td>\n",
       "    </tr>\n",
       "    <tr>\n",
       "      <th>c[4]</th>\n",
       "      <td>1.048</td>\n",
       "      <td>0.231</td>\n",
       "      <td>0.698</td>\n",
       "      <td>1.486</td>\n",
       "      <td>0.003</td>\n",
       "      <td>0.002</td>\n",
       "      <td>7314.0</td>\n",
       "      <td>5868.0</td>\n",
       "      <td>1.0</td>\n",
       "    </tr>\n",
       "    <tr>\n",
       "      <th>c[5]</th>\n",
       "      <td>1.034</td>\n",
       "      <td>0.186</td>\n",
       "      <td>0.733</td>\n",
       "      <td>1.390</td>\n",
       "      <td>0.003</td>\n",
       "      <td>0.003</td>\n",
       "      <td>3034.0</td>\n",
       "      <td>3420.0</td>\n",
       "      <td>1.0</td>\n",
       "    </tr>\n",
       "    <tr>\n",
       "      <th>c[6]</th>\n",
       "      <td>1.035</td>\n",
       "      <td>0.189</td>\n",
       "      <td>0.731</td>\n",
       "      <td>1.393</td>\n",
       "      <td>0.003</td>\n",
       "      <td>0.002</td>\n",
       "      <td>3432.0</td>\n",
       "      <td>3875.0</td>\n",
       "      <td>1.0</td>\n",
       "    </tr>\n",
       "    <tr>\n",
       "      <th>c[7]</th>\n",
       "      <td>1.035</td>\n",
       "      <td>0.185</td>\n",
       "      <td>0.706</td>\n",
       "      <td>1.360</td>\n",
       "      <td>0.003</td>\n",
       "      <td>0.002</td>\n",
       "      <td>3209.0</td>\n",
       "      <td>3483.0</td>\n",
       "      <td>1.0</td>\n",
       "    </tr>\n",
       "    <tr>\n",
       "      <th>c[8]</th>\n",
       "      <td>1.041</td>\n",
       "      <td>0.204</td>\n",
       "      <td>0.701</td>\n",
       "      <td>1.399</td>\n",
       "      <td>0.004</td>\n",
       "      <td>0.003</td>\n",
       "      <td>3227.0</td>\n",
       "      <td>3260.0</td>\n",
       "      <td>1.0</td>\n",
       "    </tr>\n",
       "    <tr>\n",
       "      <th>c[9]</th>\n",
       "      <td>1.049</td>\n",
       "      <td>0.243</td>\n",
       "      <td>0.684</td>\n",
       "      <td>1.498</td>\n",
       "      <td>0.004</td>\n",
       "      <td>0.003</td>\n",
       "      <td>4827.0</td>\n",
       "      <td>4504.0</td>\n",
       "      <td>1.0</td>\n",
       "    </tr>\n",
       "    <tr>\n",
       "      <th>c[10]</th>\n",
       "      <td>1.130</td>\n",
       "      <td>0.478</td>\n",
       "      <td>0.564</td>\n",
       "      <td>1.885</td>\n",
       "      <td>0.007</td>\n",
       "      <td>0.005</td>\n",
       "      <td>3927.0</td>\n",
       "      <td>5087.0</td>\n",
       "      <td>1.0</td>\n",
       "    </tr>\n",
       "    <tr>\n",
       "      <th>c[11]</th>\n",
       "      <td>1.033</td>\n",
       "      <td>0.192</td>\n",
       "      <td>0.707</td>\n",
       "      <td>1.376</td>\n",
       "      <td>0.003</td>\n",
       "      <td>0.002</td>\n",
       "      <td>3366.0</td>\n",
       "      <td>3864.0</td>\n",
       "      <td>1.0</td>\n",
       "    </tr>\n",
       "    <tr>\n",
       "      <th>c[12]</th>\n",
       "      <td>1.188</td>\n",
       "      <td>0.684</td>\n",
       "      <td>0.453</td>\n",
       "      <td>2.246</td>\n",
       "      <td>0.010</td>\n",
       "      <td>0.007</td>\n",
       "      <td>4417.0</td>\n",
       "      <td>5430.0</td>\n",
       "      <td>1.0</td>\n",
       "    </tr>\n",
       "    <tr>\n",
       "      <th>c[13]</th>\n",
       "      <td>1.107</td>\n",
       "      <td>0.450</td>\n",
       "      <td>0.541</td>\n",
       "      <td>1.854</td>\n",
       "      <td>0.006</td>\n",
       "      <td>0.004</td>\n",
       "      <td>5253.0</td>\n",
       "      <td>5799.0</td>\n",
       "      <td>1.0</td>\n",
       "    </tr>\n",
       "    <tr>\n",
       "      <th>c[14]</th>\n",
       "      <td>1.038</td>\n",
       "      <td>0.193</td>\n",
       "      <td>0.714</td>\n",
       "      <td>1.387</td>\n",
       "      <td>0.003</td>\n",
       "      <td>0.002</td>\n",
       "      <td>3618.0</td>\n",
       "      <td>3909.0</td>\n",
       "      <td>1.0</td>\n",
       "    </tr>\n",
       "    <tr>\n",
       "      <th>c[15]</th>\n",
       "      <td>1.035</td>\n",
       "      <td>0.185</td>\n",
       "      <td>0.721</td>\n",
       "      <td>1.373</td>\n",
       "      <td>0.003</td>\n",
       "      <td>0.003</td>\n",
       "      <td>3082.0</td>\n",
       "      <td>3427.0</td>\n",
       "      <td>1.0</td>\n",
       "    </tr>\n",
       "    <tr>\n",
       "      <th>c[16]</th>\n",
       "      <td>1.051</td>\n",
       "      <td>0.235</td>\n",
       "      <td>0.685</td>\n",
       "      <td>1.471</td>\n",
       "      <td>0.003</td>\n",
       "      <td>0.002</td>\n",
       "      <td>5591.0</td>\n",
       "      <td>5729.0</td>\n",
       "      <td>1.0</td>\n",
       "    </tr>\n",
       "    <tr>\n",
       "      <th>c[17]</th>\n",
       "      <td>1.832</td>\n",
       "      <td>7.241</td>\n",
       "      <td>0.494</td>\n",
       "      <td>3.970</td>\n",
       "      <td>0.096</td>\n",
       "      <td>0.068</td>\n",
       "      <td>3963.0</td>\n",
       "      <td>4286.0</td>\n",
       "      <td>1.0</td>\n",
       "    </tr>\n",
       "    <tr>\n",
       "      <th>c[18]</th>\n",
       "      <td>7.572</td>\n",
       "      <td>51.427</td>\n",
       "      <td>0.098</td>\n",
       "      <td>18.364</td>\n",
       "      <td>0.728</td>\n",
       "      <td>0.515</td>\n",
       "      <td>3940.0</td>\n",
       "      <td>4772.0</td>\n",
       "      <td>1.0</td>\n",
       "    </tr>\n",
       "    <tr>\n",
       "      <th>c[19]</th>\n",
       "      <td>1.070</td>\n",
       "      <td>0.333</td>\n",
       "      <td>0.608</td>\n",
       "      <td>1.652</td>\n",
       "      <td>0.005</td>\n",
       "      <td>0.003</td>\n",
       "      <td>5592.0</td>\n",
       "      <td>5911.0</td>\n",
       "      <td>1.0</td>\n",
       "    </tr>\n",
       "    <tr>\n",
       "      <th>c[20]</th>\n",
       "      <td>1.035</td>\n",
       "      <td>0.185</td>\n",
       "      <td>0.721</td>\n",
       "      <td>1.373</td>\n",
       "      <td>0.003</td>\n",
       "      <td>0.003</td>\n",
       "      <td>3082.0</td>\n",
       "      <td>3427.0</td>\n",
       "      <td>1.0</td>\n",
       "    </tr>\n",
       "  </tbody>\n",
       "</table>\n",
       "</div>"
      ],
      "text/plain": [
       "        mean      sd  hdi_3%  hdi_97%  mcse_mean  mcse_sd  ess_bulk  ess_tail  \\\n",
       "c[0]   1.033   0.180   0.735    1.374      0.003    0.002    3160.0    3569.0   \n",
       "c[1]   1.167   0.619   0.556    2.134      0.009    0.006    4763.0    5757.0   \n",
       "c[2]   1.188   0.684   0.453    2.246      0.010    0.007    4417.0    5430.0   \n",
       "c[3]   1.052   0.272   0.657    1.562      0.004    0.003    4446.0    5257.0   \n",
       "c[4]   1.048   0.231   0.698    1.486      0.003    0.002    7314.0    5868.0   \n",
       "c[5]   1.034   0.186   0.733    1.390      0.003    0.003    3034.0    3420.0   \n",
       "c[6]   1.035   0.189   0.731    1.393      0.003    0.002    3432.0    3875.0   \n",
       "c[7]   1.035   0.185   0.706    1.360      0.003    0.002    3209.0    3483.0   \n",
       "c[8]   1.041   0.204   0.701    1.399      0.004    0.003    3227.0    3260.0   \n",
       "c[9]   1.049   0.243   0.684    1.498      0.004    0.003    4827.0    4504.0   \n",
       "c[10]  1.130   0.478   0.564    1.885      0.007    0.005    3927.0    5087.0   \n",
       "c[11]  1.033   0.192   0.707    1.376      0.003    0.002    3366.0    3864.0   \n",
       "c[12]  1.188   0.684   0.453    2.246      0.010    0.007    4417.0    5430.0   \n",
       "c[13]  1.107   0.450   0.541    1.854      0.006    0.004    5253.0    5799.0   \n",
       "c[14]  1.038   0.193   0.714    1.387      0.003    0.002    3618.0    3909.0   \n",
       "c[15]  1.035   0.185   0.721    1.373      0.003    0.003    3082.0    3427.0   \n",
       "c[16]  1.051   0.235   0.685    1.471      0.003    0.002    5591.0    5729.0   \n",
       "c[17]  1.832   7.241   0.494    3.970      0.096    0.068    3963.0    4286.0   \n",
       "c[18]  7.572  51.427   0.098   18.364      0.728    0.515    3940.0    4772.0   \n",
       "c[19]  1.070   0.333   0.608    1.652      0.005    0.003    5592.0    5911.0   \n",
       "c[20]  1.035   0.185   0.721    1.373      0.003    0.003    3082.0    3427.0   \n",
       "\n",
       "       r_hat  \n",
       "c[0]     1.0  \n",
       "c[1]     1.0  \n",
       "c[2]     1.0  \n",
       "c[3]     1.0  \n",
       "c[4]     1.0  \n",
       "c[5]     1.0  \n",
       "c[6]     1.0  \n",
       "c[7]     1.0  \n",
       "c[8]     1.0  \n",
       "c[9]     1.0  \n",
       "c[10]    1.0  \n",
       "c[11]    1.0  \n",
       "c[12]    1.0  \n",
       "c[13]    1.0  \n",
       "c[14]    1.0  \n",
       "c[15]    1.0  \n",
       "c[16]    1.0  \n",
       "c[17]    1.0  \n",
       "c[18]    1.0  \n",
       "c[19]    1.0  \n",
       "c[20]    1.0  "
      ]
     },
     "execution_count": 88,
     "metadata": {},
     "output_type": "execute_result"
    }
   ],
   "source": [
    "az.summary(traceb, var_names=\"c\", filter_vars=\"like\")"
   ]
  },
  {
   "cell_type": "code",
   "execution_count": 89,
   "id": "e727b36d",
   "metadata": {},
   "outputs": [
    {
     "name": "stderr",
     "output_type": "stream",
     "text": [
      "/Users/aaron/mambaforge/envs/pymc_env/lib/python3.10/site-packages/arviz/stats/stats.py:1661: UserWarning: For one or more samples the posterior variance of the log predictive densities exceeds 0.4. This could be indication of WAIC starting to fail. \n",
      "See http://arxiv.org/abs/1507.04544 for details\n",
      "  warnings.warn(\n"
     ]
    },
    {
     "data": {
      "text/plain": [
       "Computed from 8000 posterior samples and 21 observations log-likelihood matrix.\n",
       "\n",
       "              Estimate       SE\n",
       "deviance_waic   165.60    10.14\n",
       "p_waic            3.50        -\n",
       "\n",
       "There has been a warning during the calculation. Please check the results."
      ]
     },
     "execution_count": 89,
     "metadata": {},
     "output_type": "execute_result"
    }
   ],
   "source": [
    "az.waic(traceb, scale=\"deviance\")"
   ]
  },
  {
   "cell_type": "code",
   "execution_count": 1,
   "id": "8a70eff6",
   "metadata": {},
   "outputs": [
    {
     "name": "stderr",
     "output_type": "stream",
     "text": [
      "UsageError: Line magic function `%watermark` not found.\n"
     ]
    }
   ],
   "source": [
    "%watermark --iversions -v"
   ]
  },
  {
   "cell_type": "code",
   "execution_count": null,
   "id": "35bb329c",
   "metadata": {},
   "outputs": [],
   "source": []
  }
 ],
 "metadata": {
  "kernelspec": {
   "display_name": "Python 3 (ipykernel)",
   "language": "python",
   "name": "python3"
  },
  "language_info": {
   "codemirror_mode": {
    "name": "ipython",
    "version": 3
   },
   "file_extension": ".py",
   "mimetype": "text/x-python",
   "name": "python",
   "nbconvert_exporter": "python",
   "pygments_lexer": "ipython3",
   "version": "3.10.4"
  }
 },
 "nbformat": 4,
 "nbformat_minor": 5
}
