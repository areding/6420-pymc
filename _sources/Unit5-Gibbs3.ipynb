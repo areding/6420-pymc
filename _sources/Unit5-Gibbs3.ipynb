{
 "cells": [
  {
   "cell_type": "code",
   "execution_count": null,
   "id": "8e0e01cb-a5bc-4094-bbc9-3048951f50fe",
   "metadata": {},
   "outputs": [],
   "source": []
  },
  {
   "cell_type": "markdown",
   "id": "af9d775a-4b5b-4d32-a291-c1981b5dbc23",
   "metadata": {},
   "source": [
    "# Gibbs Sampler Example 3: Disasters\n",
    "\n",
    "Adapted from [Codes for Unit 5: disastersmc.m](https://www2.isye.gatech.edu/isye6420/supporting.html).\n",
    "\n",
    "Associated lecture video: [Unit 5 Lesson 15](https://www.youtube.com/watch?v=yq6ZSzD6U0Y&list=PLv0FeK5oXK4l-RdT6DWJj0_upJOG2WKNO&index=51)."
   ]
  },
  {
   "cell_type": "code",
   "execution_count": null,
   "id": "182da43b-90df-4ce7-ba2a-f34067925852",
   "metadata": {},
   "outputs": [],
   "source": []
  }
 ],
 "metadata": {
  "kernelspec": {
   "display_name": "Python 3 (ipykernel)",
   "language": "python",
   "name": "python3"
  },
  "language_info": {
   "codemirror_mode": {
    "name": "ipython",
    "version": 3
   },
   "file_extension": ".py",
   "mimetype": "text/x-python",
   "name": "python",
   "nbconvert_exporter": "python",
   "pygments_lexer": "ipython3",
   "version": "3.9.9"
  }
 },
 "nbformat": 4,
 "nbformat_minor": 5
}
