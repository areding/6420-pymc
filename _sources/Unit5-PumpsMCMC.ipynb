{
 "cells": [
  {
   "cell_type": "code",
   "execution_count": null,
   "id": "4d855598-e905-414c-a898-2af9e10cecd3",
   "metadata": {},
   "outputs": [],
   "source": []
  },
  {
   "cell_type": "markdown",
   "id": "1984b947-60b5-4d94-9892-73ff52d8599d",
   "metadata": {},
   "source": [
    "# Gibbs Sampler Example 2: Pumps\n",
    "\n",
    "Adapted from [Codes for Unit 5: pumpsmc.m](https://www2.isye.gatech.edu/isye6420/supporting.html).\n",
    "\n",
    "Associated lecture video: [Unit 5 Lesson 13](https://www.youtube.com/watch?v=DKlP93sD0O0&list=PLv0FeK5oXK4l-RdT6DWJj0_upJOG2WKNO&index=49)."
   ]
  },
  {
   "cell_type": "code",
   "execution_count": null,
   "id": "b7158b13-f51e-433d-8275-668ef1dba0ad",
   "metadata": {},
   "outputs": [],
   "source": []
  }
 ],
 "metadata": {
  "kernelspec": {
   "display_name": "Python 3 (ipykernel)",
   "language": "python",
   "name": "python3"
  },
  "language_info": {
   "codemirror_mode": {
    "name": "ipython",
    "version": 3
   },
   "file_extension": ".py",
   "mimetype": "text/x-python",
   "name": "python",
   "nbconvert_exporter": "python",
   "pygments_lexer": "ipython3",
   "version": "3.9.9"
  }
 },
 "nbformat": 4,
 "nbformat_minor": 5
}
