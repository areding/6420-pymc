{
 "cells": [
  {
   "cell_type": "code",
   "execution_count": null,
   "id": "4d855598-e905-414c-a898-2af9e10cecd3",
   "metadata": {},
   "outputs": [],
   "source": []
  },
  {
   "cell_type": "markdown",
   "id": "1984b947-60b5-4d94-9892-73ff52d8599d",
   "metadata": {},
   "source": [
    "# Gibbs Sampler Example 2: Pumps\n",
    "\n",
    "Adapted from [Codes for Unit 5: pumpsmc.m](https://www2.isye.gatech.edu/isye6420/supporting.html).\n",
    "\n",
    "Associated lecture video: [Unit 5 Lesson 13](https://www.youtube.com/watch?v=DKlP93sD0O0&list=PLv0FeK5oXK4l-RdT6DWJj0_upJOG2WKNO&index=49)."
   ]
  },
  {
   "cell_type": "code",
   "execution_count": null,
   "id": "b7158b13-f51e-433d-8275-668ef1dba0ad",
   "metadata": {},
   "outputs": [],
   "source": [
    "rng = np.random.default_rng(1)\n",
    "\n",
    "obs = 100000\n",
    "burn = 1000\n",
    "\n",
    "# data from Gaver and O'Muircheartaigh, 1987\n",
    "X = np.array([5, 1, 5, 14, 3, 19, 1, 1, 4, 22])\n",
    "t = [94.32, 15.52, 62.88, 125.76, 5.24, 31.44, 1.048, 1.048, 2.096, 10.48]\n",
    "n = len(X)\n",
    "\n",
    "# params\n",
    "c = .1\n",
    "d = 1\n",
    "\n",
    "# inits\n",
    "theta = np.ones(n)\n",
    "beta = 1\n",
    "\n",
    "thetas = np.zeros(obs)\n",
    "lambdas = np.zeros(obs)\n",
    "\n",
    "# pre-generate randoms where possible\n",
    "randn = rng.standard_normal(obs)\n",
    "\n",
    "for i in tqdm(range(obs)):\n",
    "    d = tau2 + lam*sigma2\n",
    "    theta = (tau2/d * x + lam*sigma2/d * mu) + np.sqrt(tau2*sigma2/d) * randn[i]\n",
    "    lam = rng.exponential(1/((tau2 + (theta - mu)**2)/(2*tau2)))\n",
    "    \n",
    "    thetas[i] = theta\n",
    "    lambdas[i] = lam\n",
    "\n",
    "thetas = thetas[burn:]\n",
    "lambdas = lambdas[burn:]\n",
    "\n",
    "print(f'{np.mean(thetas)=}')\n",
    "print(f'{np.var(thetas)=}')\n",
    "print(f'{np.mean(lambdas)=}')\n",
    "print(f'{np.var(lambdas)=}')\n",
    "\n",
    "plt.hist(thetas, 40)\n",
    "plt.xlabel('theta')\n",
    "plt.show()\n",
    "\n",
    "plt.hist(lambdas, 40)\n",
    "plt.xlabel('lambda')\n",
    "plt.show()"
   ]
  }
 ],
 "metadata": {
  "kernelspec": {
   "display_name": "Python 3 (ipykernel)",
   "language": "python",
   "name": "python3"
  },
  "language_info": {
   "codemirror_mode": {
    "name": "ipython",
    "version": 3
   },
   "file_extension": ".py",
   "mimetype": "text/x-python",
   "name": "python",
   "nbconvert_exporter": "python",
   "pygments_lexer": "ipython3",
   "version": "3.9.9"
  }
 },
 "nbformat": 4,
 "nbformat_minor": 5
}
