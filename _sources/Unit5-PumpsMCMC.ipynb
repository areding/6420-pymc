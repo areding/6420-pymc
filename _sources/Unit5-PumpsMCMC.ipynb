{
 "cells": [
  {
   "cell_type": "code",
   "execution_count": 1,
   "id": "4d855598-e905-414c-a898-2af9e10cecd3",
   "metadata": {
    "tags": [
     "hide_output"
    ]
   },
   "outputs": [
    {
     "name": "stderr",
     "output_type": "stream",
     "text": [
      "WARNING (theano.link.c.cmodule): install mkl with `conda install mkl-service`: No module named 'mkl'\n"
     ]
    }
   ],
   "source": [
    "import matplotlib.pyplot as plt\n",
    "import numpy as np\n",
    "from tqdm.auto import tqdm"
   ]
  },
  {
   "cell_type": "markdown",
   "id": "1984b947-60b5-4d94-9892-73ff52d8599d",
   "metadata": {},
   "source": [
    "# Gibbs Sampler Example 2: Pumps\n",
    "\n",
    "Adapted from [Codes for Unit 5: pumpsmc.m and pumpsbugs.odc](https://www2.isye.gatech.edu/isye6420/supporting.html).\n",
    "\n",
    "Associated lecture video: [Unit 5 Lesson 13](https://www.youtube.com/watch?v=DKlP93sD0O0&list=PLv0FeK5oXK4l-RdT6DWJj0_upJOG2WKNO&index=49).\n",
    "\n",
    "Based on [Conjugate Likelihood Distributions, George, Makov, and Smith, 1993](https://www.jstor.org/stable/4616270) and [Robust Empirical Bayes Analyses of Event Rates, Gaver and O'Muircheartaigh, 1987](https://www.jstor.org/stable/1269878)."
   ]
  },
  {
   "cell_type": "code",
   "execution_count": 2,
   "id": "b7158b13-f51e-433d-8275-668ef1dba0ad",
   "metadata": {},
   "outputs": [
    {
     "data": {
      "application/vnd.jupyter.widget-view+json": {
       "model_id": "dd85e6629da24e439cc2abef30139d9d",
       "version_major": 2,
       "version_minor": 0
      },
      "text/plain": [
       "  0%|          | 0/100000 [00:00<?, ?it/s]"
      ]
     },
     "metadata": {},
     "output_type": "display_data"
    },
    {
     "name": "stdout",
     "output_type": "stream",
     "text": [
      "np.mean(thetas, axis=0)=array([0.06283613, 0.11838764, 0.0934282 , 0.11795504, 0.61044286,\n",
      "       0.61054294, 0.87096223, 0.87103813, 1.48272156, 1.94964544])\n",
      "np.std(thetas)=0.7294065045864947\n",
      "np.mean(betas)=1.3367177163632642\n",
      "np.std(betas)=0.4843747815427844\n"
     ]
    }
   ],
   "source": [
    "rng = np.random.default_rng(1)\n",
    "\n",
    "obs = 100000\n",
    "burn = 1000\n",
    "\n",
    "# data from Gaver and O'Muircheartaigh, 1987\n",
    "X = np.array([5, 1, 5, 14, 3, 19, 1, 1, 4, 22])\n",
    "t = np.array([94.32, 15.52, 62.88, 125.76, 5.24, 31.44, 1.048, 1.048, 2.096, 10.48])\n",
    "n = len(X)\n",
    "\n",
    "# params\n",
    "c = 0.1\n",
    "d = 1\n",
    "\n",
    "# inits\n",
    "theta = np.ones(n)\n",
    "beta = 1\n",
    "\n",
    "thetas = np.zeros((obs, 10))\n",
    "betas = np.zeros(obs)\n",
    "\n",
    "for i in tqdm(range(obs)):\n",
    "    theta = rng.gamma(shape=X + 1, scale=1 / (beta + t), size=n)\n",
    "    sum_theta = np.sum(theta)\n",
    "\n",
    "    beta = rng.gamma(shape=n + c, scale=1 / (sum_theta + d))\n",
    "\n",
    "    thetas[i] = theta\n",
    "    betas[i] = beta\n",
    "\n",
    "thetas = thetas[burn:]\n",
    "betas = betas[burn:]\n",
    "\n",
    "print(f\"{np.mean(thetas, axis=0)=}\")\n",
    "print(f\"{np.std(thetas)=}\")\n",
    "print(f\"{np.mean(betas)=}\")\n",
    "print(f\"{np.std(betas)=}\")"
   ]
  },
  {
   "cell_type": "code",
   "execution_count": 3,
   "id": "513df1a4-e838-4706-a841-752cf5affc8f",
   "metadata": {},
   "outputs": [
    {
     "data": {
      "text/plain": [
       "array([0.06283613, 0.11838764, 0.0934282 , 0.11795504, 0.61044286,\n",
       "       0.61054294, 0.87096223, 0.87103813, 1.48272156, 1.94964544])"
      ]
     },
     "execution_count": 3,
     "metadata": {},
     "output_type": "execute_result"
    }
   ],
   "source": [
    "np.mean(thetas, axis=0)"
   ]
  },
  {
   "cell_type": "markdown",
   "id": "a1a62279-fc04-4fe8-847a-6a92364e90d2",
   "metadata": {},
   "source": [
    "Now for the PyMC model:"
   ]
  },
  {
   "cell_type": "code",
   "execution_count": 4,
   "id": "e138a6a7-ba6d-44c3-a514-1416402e0246",
   "metadata": {
    "tags": [
     "hide_output"
    ]
   },
   "outputs": [
    {
     "name": "stderr",
     "output_type": "stream",
     "text": [
      "Auto-assigning NUTS sampler...\n",
      "Initializing NUTS using jitter+adapt_diag...\n",
      "Multiprocess sampling (4 chains in 4 jobs)\n",
      "NUTS: [theta, beta]\n",
      "WARNING (theano.link.c.cmodule): install mkl with `conda install mkl-service`: No module named 'mkl'\n",
      "WARNING (theano.link.c.cmodule): install mkl with `conda install mkl-service`: No module named 'mkl'\n",
      "WARNING (theano.link.c.cmodule): install mkl with `conda install mkl-service`: No module named 'mkl'\n",
      "WARNING (theano.link.c.cmodule): install mkl with `conda install mkl-service`: No module named 'mkl'\n"
     ]
    },
    {
     "data": {
      "text/html": [
       "\n",
       "    <div>\n",
       "        <style>\n",
       "            /* Turns off some styling */\n",
       "            progress {\n",
       "                /* gets rid of default border in Firefox and Opera. */\n",
       "                border: none;\n",
       "                /* Needs to be in here for Safari polyfill so background images work as expected. */\n",
       "                background-size: auto;\n",
       "            }\n",
       "            .progress-bar-interrupted, .progress-bar-interrupted::-webkit-progress-bar {\n",
       "                background: #F44336;\n",
       "            }\n",
       "        </style>\n",
       "      <progress value='22000' class='' max='22000' style='width:300px; height:20px; vertical-align: middle;'></progress>\n",
       "      100.00% [22000/22000 00:02<00:00 Sampling 4 chains, 0 divergences]\n",
       "    </div>\n",
       "    "
      ],
      "text/plain": [
       "<IPython.core.display.HTML object>"
      ]
     },
     "metadata": {},
     "output_type": "display_data"
    },
    {
     "name": "stderr",
     "output_type": "stream",
     "text": [
      "/Users/aaron/mambaforge/envs/pymc3_test/lib/python3.9/site-packages/scipy/stats/_continuous_distns.py:624: RuntimeWarning: overflow encountered in _beta_ppf\n",
      "  return _boost._beta_ppf(q, a, b)\n",
      "/Users/aaron/mambaforge/envs/pymc3_test/lib/python3.9/site-packages/scipy/stats/_continuous_distns.py:624: RuntimeWarning: overflow encountered in _beta_ppf\n",
      "  return _boost._beta_ppf(q, a, b)\n",
      "/Users/aaron/mambaforge/envs/pymc3_test/lib/python3.9/site-packages/scipy/stats/_continuous_distns.py:624: RuntimeWarning: overflow encountered in _beta_ppf\n",
      "  return _boost._beta_ppf(q, a, b)\n",
      "/Users/aaron/mambaforge/envs/pymc3_test/lib/python3.9/site-packages/scipy/stats/_continuous_distns.py:624: RuntimeWarning: overflow encountered in _beta_ppf\n",
      "  return _boost._beta_ppf(q, a, b)\n",
      "Sampling 4 chains for 500 tune and 5_000 draw iterations (2_000 + 20_000 draws total) took 11 seconds.\n"
     ]
    }
   ],
   "source": [
    "with pm.Model() as m:\n",
    "    times = pm.Data(\"times\", t)\n",
    "    data = pm.Data(\"data\", X)\n",
    "\n",
    "    beta = pm.Gamma(\"beta\", alpha=c, beta=d)\n",
    "    theta = pm.Gamma(\"theta\", alpha=d, beta=beta, shape=n)\n",
    "    rate = pm.Deterministic(\"rate\", theta * times)\n",
    "\n",
    "    likelihood = pm.Poisson(\"likelihood\", mu=rate, observed=data)\n",
    "\n",
    "    # start sampling\n",
    "    trace = pm.sample(\n",
    "        5000,\n",
    "        chains=4,\n",
    "        tune=500,\n",
    "        init=\"jitter+adapt_diag\",\n",
    "        random_seed=1,\n",
    "        cores=4,\n",
    "        return_inferencedata=True,\n",
    "    )"
   ]
  },
  {
   "cell_type": "code",
   "execution_count": 5,
   "id": "e1492571-207e-4122-ae53-5fa9cfe5a80a",
   "metadata": {},
   "outputs": [
    {
     "data": {
      "text/html": [
       "<div>\n",
       "<style scoped>\n",
       "    .dataframe tbody tr th:only-of-type {\n",
       "        vertical-align: middle;\n",
       "    }\n",
       "\n",
       "    .dataframe tbody tr th {\n",
       "        vertical-align: top;\n",
       "    }\n",
       "\n",
       "    .dataframe thead th {\n",
       "        text-align: right;\n",
       "    }\n",
       "</style>\n",
       "<table border=\"1\" class=\"dataframe\">\n",
       "  <thead>\n",
       "    <tr style=\"text-align: right;\">\n",
       "      <th></th>\n",
       "      <th>mean</th>\n",
       "      <th>sd</th>\n",
       "      <th>hdi_3%</th>\n",
       "      <th>hdi_97%</th>\n",
       "      <th>mcse_mean</th>\n",
       "      <th>mcse_sd</th>\n",
       "      <th>ess_bulk</th>\n",
       "      <th>ess_tail</th>\n",
       "      <th>r_hat</th>\n",
       "    </tr>\n",
       "  </thead>\n",
       "  <tbody>\n",
       "    <tr>\n",
       "      <th>beta</th>\n",
       "      <td>1.334</td>\n",
       "      <td>0.481</td>\n",
       "      <td>0.490</td>\n",
       "      <td>2.208</td>\n",
       "      <td>0.003</td>\n",
       "      <td>0.002</td>\n",
       "      <td>25961.0</td>\n",
       "      <td>16680.0</td>\n",
       "      <td>1.0</td>\n",
       "    </tr>\n",
       "    <tr>\n",
       "      <th>theta[0]</th>\n",
       "      <td>0.063</td>\n",
       "      <td>0.026</td>\n",
       "      <td>0.018</td>\n",
       "      <td>0.109</td>\n",
       "      <td>0.000</td>\n",
       "      <td>0.000</td>\n",
       "      <td>31695.0</td>\n",
       "      <td>14454.0</td>\n",
       "      <td>1.0</td>\n",
       "    </tr>\n",
       "    <tr>\n",
       "      <th>theta[1]</th>\n",
       "      <td>0.119</td>\n",
       "      <td>0.085</td>\n",
       "      <td>0.006</td>\n",
       "      <td>0.276</td>\n",
       "      <td>0.001</td>\n",
       "      <td>0.000</td>\n",
       "      <td>25426.0</td>\n",
       "      <td>12143.0</td>\n",
       "      <td>1.0</td>\n",
       "    </tr>\n",
       "    <tr>\n",
       "      <th>theta[2]</th>\n",
       "      <td>0.094</td>\n",
       "      <td>0.038</td>\n",
       "      <td>0.032</td>\n",
       "      <td>0.167</td>\n",
       "      <td>0.000</td>\n",
       "      <td>0.000</td>\n",
       "      <td>30048.0</td>\n",
       "      <td>13379.0</td>\n",
       "      <td>1.0</td>\n",
       "    </tr>\n",
       "    <tr>\n",
       "      <th>theta[3]</th>\n",
       "      <td>0.118</td>\n",
       "      <td>0.030</td>\n",
       "      <td>0.064</td>\n",
       "      <td>0.176</td>\n",
       "      <td>0.000</td>\n",
       "      <td>0.000</td>\n",
       "      <td>29740.0</td>\n",
       "      <td>14353.0</td>\n",
       "      <td>1.0</td>\n",
       "    </tr>\n",
       "    <tr>\n",
       "      <th>theta[4]</th>\n",
       "      <td>0.611</td>\n",
       "      <td>0.305</td>\n",
       "      <td>0.123</td>\n",
       "      <td>1.173</td>\n",
       "      <td>0.002</td>\n",
       "      <td>0.001</td>\n",
       "      <td>29190.0</td>\n",
       "      <td>13566.0</td>\n",
       "      <td>1.0</td>\n",
       "    </tr>\n",
       "    <tr>\n",
       "      <th>theta[5]</th>\n",
       "      <td>0.610</td>\n",
       "      <td>0.136</td>\n",
       "      <td>0.365</td>\n",
       "      <td>0.867</td>\n",
       "      <td>0.001</td>\n",
       "      <td>0.001</td>\n",
       "      <td>31222.0</td>\n",
       "      <td>14388.0</td>\n",
       "      <td>1.0</td>\n",
       "    </tr>\n",
       "    <tr>\n",
       "      <th>theta[6]</th>\n",
       "      <td>0.866</td>\n",
       "      <td>0.646</td>\n",
       "      <td>0.021</td>\n",
       "      <td>2.023</td>\n",
       "      <td>0.004</td>\n",
       "      <td>0.003</td>\n",
       "      <td>23802.0</td>\n",
       "      <td>12778.0</td>\n",
       "      <td>1.0</td>\n",
       "    </tr>\n",
       "    <tr>\n",
       "      <th>theta[7]</th>\n",
       "      <td>0.868</td>\n",
       "      <td>0.642</td>\n",
       "      <td>0.026</td>\n",
       "      <td>2.022</td>\n",
       "      <td>0.004</td>\n",
       "      <td>0.003</td>\n",
       "      <td>24846.0</td>\n",
       "      <td>12712.0</td>\n",
       "      <td>1.0</td>\n",
       "    </tr>\n",
       "    <tr>\n",
       "      <th>theta[8]</th>\n",
       "      <td>1.483</td>\n",
       "      <td>0.694</td>\n",
       "      <td>0.355</td>\n",
       "      <td>2.759</td>\n",
       "      <td>0.004</td>\n",
       "      <td>0.003</td>\n",
       "      <td>25724.0</td>\n",
       "      <td>13904.0</td>\n",
       "      <td>1.0</td>\n",
       "    </tr>\n",
       "    <tr>\n",
       "      <th>theta[9]</th>\n",
       "      <td>1.950</td>\n",
       "      <td>0.413</td>\n",
       "      <td>1.194</td>\n",
       "      <td>2.718</td>\n",
       "      <td>0.002</td>\n",
       "      <td>0.002</td>\n",
       "      <td>30054.0</td>\n",
       "      <td>13905.0</td>\n",
       "      <td>1.0</td>\n",
       "    </tr>\n",
       "  </tbody>\n",
       "</table>\n",
       "</div>"
      ],
      "text/plain": [
       "           mean     sd  hdi_3%  hdi_97%  mcse_mean  mcse_sd  ess_bulk  \\\n",
       "beta      1.334  0.481   0.490    2.208      0.003    0.002   25961.0   \n",
       "theta[0]  0.063  0.026   0.018    0.109      0.000    0.000   31695.0   \n",
       "theta[1]  0.119  0.085   0.006    0.276      0.001    0.000   25426.0   \n",
       "theta[2]  0.094  0.038   0.032    0.167      0.000    0.000   30048.0   \n",
       "theta[3]  0.118  0.030   0.064    0.176      0.000    0.000   29740.0   \n",
       "theta[4]  0.611  0.305   0.123    1.173      0.002    0.001   29190.0   \n",
       "theta[5]  0.610  0.136   0.365    0.867      0.001    0.001   31222.0   \n",
       "theta[6]  0.866  0.646   0.021    2.023      0.004    0.003   23802.0   \n",
       "theta[7]  0.868  0.642   0.026    2.022      0.004    0.003   24846.0   \n",
       "theta[8]  1.483  0.694   0.355    2.759      0.004    0.003   25724.0   \n",
       "theta[9]  1.950  0.413   1.194    2.718      0.002    0.002   30054.0   \n",
       "\n",
       "          ess_tail  r_hat  \n",
       "beta       16680.0    1.0  \n",
       "theta[0]   14454.0    1.0  \n",
       "theta[1]   12143.0    1.0  \n",
       "theta[2]   13379.0    1.0  \n",
       "theta[3]   14353.0    1.0  \n",
       "theta[4]   13566.0    1.0  \n",
       "theta[5]   14388.0    1.0  \n",
       "theta[6]   12778.0    1.0  \n",
       "theta[7]   12712.0    1.0  \n",
       "theta[8]   13904.0    1.0  \n",
       "theta[9]   13905.0    1.0  "
      ]
     },
     "execution_count": 5,
     "metadata": {},
     "output_type": "execute_result"
    }
   ],
   "source": [
    "az.summary(trace, var_names=[\"~rate\"])"
   ]
  },
  {
   "cell_type": "markdown",
   "id": "1f01848d-56a7-4172-938a-f42de2aadd71",
   "metadata": {},
   "source": [
    "Compare to BUGS results:\n",
    "\n",
    "|           | mean    | sd      | MC_error | val2.5pc | median  | val97.5pc | start | sample |\n",
    "|-----------|---------|---------|----------|----------|---------|-----------|-------|--------|\n",
    "| beta      | 1.34    | 0.486   | 0.002973 | 0.5896   | 1.271   | 2.466     | 1001  | 50000  |\n",
    "| theta[1]  | 0.06261 | 0.02552 | 1.11E-04 | 0.02334  | 0.05914 | 0.1217    | 1001  | 50000  |\n",
    "| theta[2]  | 0.118   | 0.08349 | 3.69E-04 | 0.01431  | 0.09888 | 0.3296    | 1001  | 50000  |\n",
    "| theta[3]  | 0.09366 | 0.03829 | 1.71E-04 | 0.03439  | 0.08842 | 0.1828    | 1001  | 50000  |\n",
    "| theta[4]  | 0.1178  | 0.03048 | 1.47E-04 | 0.06595  | 0.115   | 0.1848    | 1001  | 50000  |\n",
    "| theta[5]  | 0.6116  | 0.3097  | 0.001409 | 0.1632   | 0.5589  | 1.361     | 1001  | 50000  |\n",
    "| theta[6]  | 0.6104  | 0.1366  | 6.45E-04 | 0.3705   | 0.6001  | 0.9058    | 1001  | 50000  |\n",
    "| theta[7]  | 0.8686  | 0.6494  | 0.003059 | 0.101    | 0.7124  | 2.537     | 1001  | 50000  |\n",
    "| theta[8]  | 0.8692  | 0.6481  | 0.003354 | 0.09784  | 0.7117  | 2.513     | 1001  | 50000  |\n",
    "| theta[9]  | 1.478   | 0.6897  | 0.00351  | 0.4705   | 1.367   | 3.128     | 1001  | 50000  |\n",
    "| theta[10] | 1.944   | 0.4133  | 0.002022 | 1.223    | 1.916   | 2.83      | 1001  | 50000  |"
   ]
  }
 ],
 "metadata": {
  "kernelspec": {
   "display_name": "Python 3 (ipykernel)",
   "language": "python",
   "name": "python3"
  },
  "language_info": {
   "codemirror_mode": {
    "name": "ipython",
    "version": 3
   },
   "file_extension": ".py",
   "mimetype": "text/x-python",
   "name": "python",
   "nbconvert_exporter": "python",
   "pygments_lexer": "ipython3",
   "version": "3.9.10"
  }
 },
 "nbformat": 4,
 "nbformat_minor": 5
}
