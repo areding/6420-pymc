{
 "cells": [
  {
   "cell_type": "code",
   "execution_count": 1,
   "id": "ff5a11cf-b2af-4d80-a02e-18cebf8102b9",
   "metadata": {
    "tags": [
     "hide_output"
    ]
   },
   "outputs": [
    {
     "name": "stderr",
     "output_type": "stream",
     "text": [
      "WARNING (theano.link.c.cmodule): install mkl with `conda install mkl-service`: No module named 'mkl'\n"
     ]
    }
   ],
   "source": [
    "import numpy as np\n",
    "import pymc3 as pm\n",
    "import arviz as az\n",
    "import matplotlib.pyplot as plt"
   ]
  },
  {
   "cell_type": "markdown",
   "id": "d81511a6-c2d9-44d5-a03d-9c78589dfbdb",
   "metadata": {},
   "source": [
    "# Bartholomew (1957) for Type I censoring\n",
    "\n",
    "\n",
    "Adapted from [Codes for Unit 6: exponential1.odc](https://www2.isye.gatech.edu/isye6420/supporting.html).\n",
    "\n",
    "Associated lecture videos: [Unit 6 Lesson 9](https://www.youtube.com/watch?v=6gKnM6vL8Po&list=PLv0FeK5oXK4l-RdT6DWJj0_upJOG2WKNO&index=60).\n",
    "\n",
    "\n",
    "These are the notes from the odc file (I'll clean these up another time):\n",
    "\n",
    "```\n",
    "all=[2  72*  51  60*  33  27  14  24  4  21*];\n",
    "sum(all) = 308\n",
    "observed=[2   51   33 27 14 24 4  ];\n",
    "sum(observed) =155\n",
    "n=10, r=7\n",
    "```\n",
    "TAKE CENSORED AS OBSERVED  308/10=30.8\n",
    "\n",
    "IGNORE CENSORED 155/7 = 22.1429\n",
    "\n",
    "MLE UNDER EXPONENTIAL MODEL 308/7 = 44"
   ]
  },
  {
   "cell_type": "code",
   "execution_count": null,
   "id": "c37bfd3a-0e0a-4731-996b-5df8549a2ec7",
   "metadata": {},
   "outputs": [],
   "source": [
    "alpha = .01\n",
    "beta = .1\n",
    "\n",
    "observed= (2, NA, 51, NA, 33, 27, 14, 24, 4, NA)\n",
    "censored = (0, 72, 0, 60, 0, 0, 0, 0, 0, 21)\n"
   ]
  },
  {
   "cell_type": "code",
   "execution_count": null,
   "id": "0ded838e-4de3-4d6f-9e65-d8e38686351f",
   "metadata": {
    "tags": [
     "hide_output"
    ]
   },
   "outputs": [],
   "source": [
    "with pm.Model() as bartholomew:\n",
    "    "
   ]
  },
  {
   "cell_type": "markdown",
   "id": "fb67dfa8-968f-4266-a9aa-e0aaf281328b",
   "metadata": {},
   "source": [
    "BUGS results:\n",
    "\n",
    "|               |            mean | sd     | MC_error | val2.5pc | median  | val97.5pc | start | sample |\n",
    "|---------------|-----------------|--------|----------|----------|---------|-----------|-------|--------|\n",
    "| lambda        | 0.02281         | 0.0086 | 3.66E-05 | 0.009229 | 0.02169 | 0.04248   | 1001  | 100000 |\n",
    "| mu            | 51.07           | 22.61  | 0.1018   | 23.54    | 46.09   | 108.4     | 1001  | 100000 |\n",
    "| observed[2]   | 122.8           | 60.45  | 0.2442   | 73.12    | 103.5   | 284.5     | 1001  | 100000 |\n",
    "| observed[4]   | 110.8           | 59.93  | 0.2145   | 61.09    | 91.81   | 269.8     | 1001  | 100000 |\n",
    "| observed[10]  | 72.01           | 60.28  | 0.2155   | 22.13    | 52.89   | 232.6     | 1001  | 100000 |"
   ]
  },
  {
   "cell_type": "code",
   "execution_count": null,
   "id": "3771598b-f2dd-446b-877d-817c3bef086a",
   "metadata": {},
   "outputs": [],
   "source": []
  }
 ],
 "metadata": {
  "kernelspec": {
   "display_name": "Python 3 (ipykernel)",
   "language": "python",
   "name": "python3"
  },
  "language_info": {
   "codemirror_mode": {
    "name": "ipython",
    "version": 3
   },
   "file_extension": ".py",
   "mimetype": "text/x-python",
   "name": "python",
   "nbconvert_exporter": "python",
   "pygments_lexer": "ipython3",
   "version": "3.9.9"
  }
 },
 "nbformat": 4,
 "nbformat_minor": 5
}
