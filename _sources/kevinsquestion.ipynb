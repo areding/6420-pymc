{
 "cells": [
  {
   "cell_type": "markdown",
   "id": "6a437191-4e9a-4634-8ee3-19223d34e81d",
   "metadata": {},
   "source": [
    "Kevin's question:\n",
    "\n",
    "I was working through some practice applications at work, and I ran into this issue.\n",
    "\n",
    "What if there's no overlap of the prior and likelihood? (I.e. likelihood is zero in the domain of the prior and vice versa)\n",
    "\n",
    "Would you just observe the resulting zero posterior and try again with a wider prior? \n",
    "\n",
    "I came into this class thinking that the likelihood shifted the prior density, which is kinda true, but not if they don't overlap in theta space. Am I missing something?\n",
    "\n"
   ]
  },
  {
   "cell_type": "markdown",
   "id": "7d937d3d-28f2-4a1b-9e1d-c3fd339d7d01",
   "metadata": {},
   "source": [
    "Want to try inventing weird situations where the likelihood, prior, and data don't overlap at all.\n",
    "\n",
    "Todo:\n",
    "- Try sampling from improper posterior. \n",
    "- Try creating a bimodal posterior. \n",
    "- Try creating a flat posterior.\n",
    "- Can you actually create a posterior around zero?"
   ]
  },
  {
   "cell_type": "code",
   "execution_count": 42,
   "id": "82245c8e-9419-430e-9f95-9c83a771d281",
   "metadata": {},
   "outputs": [
    {
     "ename": "ModuleNotFoundError",
     "evalue": "No module named 'pymc3'",
     "output_type": "error",
     "traceback": [
      "\u001b[0;31m---------------------------------------------------------------------------\u001b[0m",
      "\u001b[0;31mModuleNotFoundError\u001b[0m                       Traceback (most recent call last)",
      "Input \u001b[0;32mIn [42]\u001b[0m, in \u001b[0;36m<cell line: 4>\u001b[0;34m()\u001b[0m\n\u001b[1;32m      2\u001b[0m \u001b[38;5;28;01mimport\u001b[39;00m \u001b[38;5;21;01mmatplotlib\u001b[39;00m\u001b[38;5;21;01m.\u001b[39;00m\u001b[38;5;21;01mpyplot\u001b[39;00m \u001b[38;5;28;01mas\u001b[39;00m \u001b[38;5;21;01mplt\u001b[39;00m\n\u001b[1;32m      3\u001b[0m \u001b[38;5;28;01mimport\u001b[39;00m \u001b[38;5;21;01mnumpy\u001b[39;00m \u001b[38;5;28;01mas\u001b[39;00m \u001b[38;5;21;01mnp\u001b[39;00m\n\u001b[0;32m----> 4\u001b[0m \u001b[38;5;28;01mimport\u001b[39;00m \u001b[38;5;21;01mpymc3\u001b[39;00m \u001b[38;5;28;01mas\u001b[39;00m \u001b[38;5;21;01mpm\u001b[39;00m\n",
      "\u001b[0;31mModuleNotFoundError\u001b[0m: No module named 'pymc3'"
     ]
    }
   ],
   "source": [
    "import arviz as az\n",
    "import matplotlib.pyplot as plt\n",
    "import numpy as np\n",
    "import pymc3 as pm"
   ]
  },
  {
   "cell_type": "code",
   "execution_count": null,
   "id": "cb42beb8-6c00-42fe-b57e-52ed4a751e0d",
   "metadata": {},
   "outputs": [],
   "source": [
    "# invent some data\n",
    "\n",
    "with pm.Model() as model:\n",
    "    # priors\n",
    "    alpha = pm.Normal(\"alpha\", sigma=1)\n",
    "    beta = pm.Normal(\"beta\", sigma=1)\n",
    "    # using precision for direct comparison with BUGS output\n",
    "    sigma = pm.Normal(\"sigma\", mu=0, sigma=1)\n",
    "\n",
    "    mu = alpha + beta * X\n",
    "    likelihood = pm.Normal(\"likelihood\", mu=mu, sd=sigma, observed=y)\n",
    "\n",
    "    # start sampling\n",
    "    trace = pm.sample(\n",
    "        3000,  # samples\n",
    "        chains=4,\n",
    "        tune=500,\n",
    "        init=\"jitter+adapt_diag\",\n",
    "        random_seed=1,\n",
    "        cores=4,  # parallel processing of chains\n",
    "        return_inferencedata=True,  # return arviz inferencedata object\n",
    "    )"
   ]
  },
  {
   "cell_type": "code",
   "execution_count": 27,
   "id": "feb48a64-4c17-4935-8d11-5f805878335a",
   "metadata": {},
   "outputs": [
    {
     "data": {
      "text/plain": [
       "0.0022989722138142543"
      ]
     },
     "execution_count": 27,
     "metadata": {},
     "output_type": "execute_result"
    }
   ],
   "source": [
    "alpha = .05\n",
    "\n",
    "1 - (1- alpha/2)**(1/11)"
   ]
  },
  {
   "cell_type": "code",
   "execution_count": 30,
   "id": "8c017625-c661-47d6-9bda-85a60707b5c5",
   "metadata": {},
   "outputs": [
    {
     "data": {
      "text/plain": [
       "(1.9572871259288076+0.2810848615215244j)"
      ]
     },
     "execution_count": 30,
     "metadata": {},
     "output_type": "execute_result"
    }
   ],
   "source": [
    "((alpha/2) - 1)**(1/11) + 1"
   ]
  },
  {
   "cell_type": "code",
   "execution_count": 31,
   "id": "80e9ea2e-7f8c-40a4-a220-f409a6a49b7d",
   "metadata": {},
   "outputs": [
    {
     "data": {
      "text/plain": [
       "(1.6861198458062017+0.20146296405948794j)"
      ]
     },
     "execution_count": 31,
     "metadata": {},
     "output_type": "execute_result"
    }
   ],
   "source": [
    "(-alpha/2)**(1/11) +1"
   ]
  },
  {
   "cell_type": "code",
   "execution_count": 32,
   "id": "86fbca4a-724a-40cc-be84-f364858ff602",
   "metadata": {},
   "outputs": [
    {
     "data": {
      "text/plain": [
       "(1.7307458280638164+0.21456633472372108j)"
      ]
     },
     "execution_count": 32,
     "metadata": {},
     "output_type": "execute_result"
    }
   ],
   "source": [
    "(-alpha)**(1/11) + 1"
   ]
  },
  {
   "cell_type": "code",
   "execution_count": 36,
   "id": "d56a77ef-9173-4858-8a88-68a1d95253f6",
   "metadata": {},
   "outputs": [
    {
     "data": {
      "text/plain": [
       "0.7241379310344828"
      ]
     },
     "execution_count": 36,
     "metadata": {},
     "output_type": "execute_result"
    }
   ],
   "source": [
    ".42/.58"
   ]
  },
  {
   "cell_type": "code",
   "execution_count": 35,
   "id": "93e2a74d-fa66-45d6-9721-8348b096d399",
   "metadata": {},
   "outputs": [
    {
     "data": {
      "text/plain": [
       "99.0"
      ]
     },
     "execution_count": 35,
     "metadata": {},
     "output_type": "execute_result"
    }
   ],
   "source": [
    ".99/.01"
   ]
  },
  {
   "cell_type": "code",
   "execution_count": 37,
   "id": "57e9613b-197b-4cdf-94c5-dd8cf5413244",
   "metadata": {},
   "outputs": [
    {
     "data": {
      "text/plain": [
       "0.05230769230769231"
      ]
     },
     "execution_count": 37,
     "metadata": {},
     "output_type": "execute_result"
    }
   ],
   "source": [
    "1.36/26"
   ]
  },
  {
   "cell_type": "code",
   "execution_count": 38,
   "id": "4dbf6e55-ca42-4434-8f2f-f2cb92c72cf0",
   "metadata": {},
   "outputs": [
    {
     "data": {
      "text/plain": [
       "1.380952380952381"
      ]
     },
     "execution_count": 38,
     "metadata": {},
     "output_type": "execute_result"
    }
   ],
   "source": [
    ".58/.42"
   ]
  },
  {
   "cell_type": "code",
   "execution_count": 39,
   "id": "1c8e50d6-93f7-4cc9-a9bf-b6a1884a9d0f",
   "metadata": {},
   "outputs": [
    {
     "data": {
      "text/plain": [
       "0.7150858470818455"
      ]
     },
     "execution_count": 39,
     "metadata": {},
     "output_type": "execute_result"
    }
   ],
   "source": [
    "(alpha/2)**(1/11)"
   ]
  },
  {
   "cell_type": "code",
   "execution_count": 46,
   "id": "349304b4-ad94-408e-99ea-ebe284176a9d",
   "metadata": {},
   "outputs": [
    {
     "data": {
      "text/plain": [
       "0.2384041903808527"
      ]
     },
     "execution_count": 46,
     "metadata": {},
     "output_type": "execute_result"
    }
   ],
   "source": [
    "1 - np.exp(np.log(alpha)/11)"
   ]
  },
  {
   "cell_type": "code",
   "execution_count": 53,
   "id": "7ec9a893-dba9-49ef-9a8e-296664f28cfc",
   "metadata": {},
   "outputs": [
    {
     "data": {
      "text/plain": [
       "(-0.9977010277861857+3.648479504421123e-16j)"
      ]
     },
     "execution_count": 53,
     "metadata": {},
     "output_type": "execute_result"
    }
   ],
   "source": [
    "((-1)**(10/11)*(alpha-2)**(1/11))/2**(1/11)"
   ]
  },
  {
   "cell_type": "code",
   "execution_count": 58,
   "id": "e1e4b032-32e0-4caa-9149-5c5f5a3bee15",
   "metadata": {},
   "outputs": [
    {
     "data": {
      "text/plain": [
       "(0.6548607339452852+0.7557495743542582j)"
      ]
     },
     "execution_count": 58,
     "metadata": {},
     "output_type": "execute_result"
    }
   ],
   "source": [
    "(-1)**(3/11)"
   ]
  },
  {
   "cell_type": "code",
   "execution_count": 52,
   "id": "675d437a-0460-4277-851f-f2626a812bcb",
   "metadata": {},
   "outputs": [
    {
     "data": {
      "text/plain": [
       "0.2849141529181545"
      ]
     },
     "execution_count": 52,
     "metadata": {},
     "output_type": "execute_result"
    }
   ],
   "source": [
    "1 - alpha**(1/11)/2**(1/11)"
   ]
  },
  {
   "cell_type": "code",
   "execution_count": 59,
   "id": "d63e59c5-4ed5-402a-ab84-f9e3cc048f5a",
   "metadata": {},
   "outputs": [
    {
     "data": {
      "text/plain": [
       "inf"
      ]
     },
     "execution_count": 59,
     "metadata": {},
     "output_type": "execute_result"
    }
   ],
   "source": [
    "float(\"inf\")"
   ]
  },
  {
   "cell_type": "code",
   "execution_count": 61,
   "id": "2af2c3a4-1dd9-45d2-af76-688d8a4d734b",
   "metadata": {},
   "outputs": [
    {
     "data": {
      "text/plain": [
       "6560.679686351707"
      ]
     },
     "execution_count": 61,
     "metadata": {},
     "output_type": "execute_result"
    }
   ],
   "source": [
    "0.9998475842/1.524e-4"
   ]
  },
  {
   "cell_type": "code",
   "execution_count": null,
   "id": "b2563b99-3c7d-4b2b-af27-d503fc627b36",
   "metadata": {},
   "outputs": [],
   "source": []
  }
 ],
 "metadata": {
  "kernelspec": {
   "display_name": "Python 3 (ipykernel)",
   "language": "python",
   "name": "python3"
  },
  "language_info": {
   "codemirror_mode": {
    "name": "ipython",
    "version": 3
   },
   "file_extension": ".py",
   "mimetype": "text/x-python",
   "name": "python",
   "nbconvert_exporter": "python",
   "pygments_lexer": "ipython3",
   "version": "3.9.10"
  }
 },
 "nbformat": 4,
 "nbformat_minor": 5
}
