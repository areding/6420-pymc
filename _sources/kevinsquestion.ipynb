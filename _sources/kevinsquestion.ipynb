{
 "cells": [
  {
   "cell_type": "markdown",
   "id": "6a437191-4e9a-4634-8ee3-19223d34e81d",
   "metadata": {},
   "source": [
    "Kevin's question:\n",
    "\n",
    "I was working through some practice applications at work, and I ran into this issue.\n",
    "\n",
    "What if there's no overlap of the prior and likelihood? (I.e. likelihood is zero in the domain of the prior and vice versa)\n",
    "\n",
    "Would you just observe the resulting zero posterior and try again with a wider prior? \n",
    "\n",
    "I came into this class thinking that the likelihood shifted the prior density, which is kinda true, but not if they don't overlap in theta space. Am I missing something?\n",
    "\n"
   ]
  },
  {
   "cell_type": "markdown",
   "id": "7d937d3d-28f2-4a1b-9e1d-c3fd339d7d01",
   "metadata": {},
   "source": [
    "Want to try inventing weird situations where the likelihood, prior, and data don't overlap at all.\n",
    "\n",
    "Todo:\n",
    "- Try sampling from improper posterior. \n",
    "- Try creating a bimodal posterior. \n",
    "- Try creating a flat posterior.\n",
    "- Can you actually create a posterior around zero?"
   ]
  },
  {
   "cell_type": "code",
   "execution_count": 1,
   "id": "82245c8e-9419-430e-9f95-9c83a771d281",
   "metadata": {},
   "outputs": [
    {
     "name": "stderr",
     "output_type": "stream",
     "text": [
      "WARNING (theano.link.c.cmodule): install mkl with `conda install mkl-service`: No module named 'mkl'\n"
     ]
    }
   ],
   "source": [
    "import arviz as az\n",
    "import matplotlib.pyplot as plt\n",
    "import numpy as np\n",
    "import pymc3 as pm"
   ]
  },
  {
   "cell_type": "code",
   "execution_count": null,
   "id": "cb42beb8-6c00-42fe-b57e-52ed4a751e0d",
   "metadata": {},
   "outputs": [],
   "source": [
    "# invent some data\n",
    "\n",
    "with pm.Model() as model:\n",
    "    # priors\n",
    "    alpha = pm.Normal(\"alpha\", sigma=1)\n",
    "    beta = pm.Normal(\"beta\", sigma=1)\n",
    "    # using precision for direct comparison with BUGS output\n",
    "    sigma = pm.Normal(\"sigma\", mu=0, sigma=1)\n",
    "\n",
    "    mu = alpha + beta * X\n",
    "    likelihood = pm.Normal(\"likelihood\", mu=mu, sd=sigma, observed=y)\n",
    "\n",
    "    # start sampling\n",
    "    trace = pm.sample(\n",
    "        3000,  # samples\n",
    "        chains=4,\n",
    "        tune=500,\n",
    "        init=\"jitter+adapt_diag\",\n",
    "        random_seed=1,\n",
    "        cores=4,  # parallel processing of chains\n",
    "        return_inferencedata=True,  # return arviz inferencedata object\n",
    "    )"
   ]
  }
 ],
 "metadata": {
  "kernelspec": {
   "display_name": "Python 3 (ipykernel)",
   "language": "python",
   "name": "python3"
  },
  "language_info": {
   "codemirror_mode": {
    "name": "ipython",
    "version": 3
   },
   "file_extension": ".py",
   "mimetype": "text/x-python",
   "name": "python",
   "nbconvert_exporter": "python",
   "pygments_lexer": "ipython3",
   "version": "3.9.9"
  }
 },
 "nbformat": 4,
 "nbformat_minor": 5
}
