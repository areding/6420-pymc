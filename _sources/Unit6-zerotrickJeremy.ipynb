{
 "cells": [
  {
   "cell_type": "code",
   "execution_count": null,
   "id": "a5148718-5600-4be8-b241-1f258b7729a2",
   "metadata": {},
   "outputs": [],
   "source": []
  },
  {
   "cell_type": "markdown",
   "id": "b420b139-2294-4b92-92cf-849351dd3b1d",
   "metadata": {},
   "source": [
    "# Zero-trick Jeremy\n",
    "\n",
    "?????"
   ]
  },
  {
   "cell_type": "code",
   "execution_count": null,
   "id": "13a7d733-19f0-4e2f-9aee-1ee5797b9df4",
   "metadata": {},
   "outputs": [],
   "source": [
    "y = 98\n",
    "mu = 110\n",
    "sigma = 8.944272\n",
    "tau = 10.954451"
   ]
  },
  {
   "cell_type": "code",
   "execution_count": null,
   "id": "a04c1f71-ddd8-4dfa-b582-3bdffa5d8b7b",
   "metadata": {},
   "outputs": [],
   "source": [
    "with pm.Model() as zerotrickjeremy:\n",
    "    # priors\n",
    "\n",
    "    tau = pm.Gamma(\"tau\", alpha=0.001, beta=0.001)\n",
    "    sigma = 1 / np.sqrt(tau)\n",
    "\n",
    "    # likelihood\n",
    "    mu = (\n",
    "        beta0\n",
    "        + beta1 * data[\"Acetic\"].values\n",
    "        + beta2 * data[\"H2S\"].values\n",
    "        + beta3 * data[\"Lactic\"].values\n",
    "    )\n",
    "\n",
    "    taste = pm.Normal(\"score\", mu=mu, sd=sigma, observed=data[\"taste\"].values)\n",
    "\n",
    "    # start sampling\n",
    "    trace = pm.sample(\n",
    "        1000,  # samples\n",
    "        chains=2,\n",
    "        tune=500,\n",
    "        init=\"jitter+adapt_diag\",\n",
    "        random_seed=1,\n",
    "        return_inferencedata=True,\n",
    "    )"
   ]
  }
 ],
 "metadata": {
  "kernelspec": {
   "display_name": "Python 3 (ipykernel)",
   "language": "python",
   "name": "python3"
  },
  "language_info": {
   "codemirror_mode": {
    "name": "ipython",
    "version": 3
   },
   "file_extension": ".py",
   "mimetype": "text/x-python",
   "name": "python",
   "nbconvert_exporter": "python",
   "pygments_lexer": "ipython3",
   "version": "3.9.9"
  }
 },
 "nbformat": 4,
 "nbformat_minor": 5
}
