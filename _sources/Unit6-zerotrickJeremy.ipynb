{
 "cells": [
  {
   "cell_type": "code",
   "execution_count": 9,
   "id": "a5148718-5600-4be8-b241-1f258b7729a2",
   "metadata": {
    "tags": [
     "hide_output"
    ]
   },
   "outputs": [],
   "source": [
    "import arviz as az\n",
    "import matplotlib.pyplot as plt\n",
    "import numpy as np\n",
    "import pymc3 as pm\n",
    "from pymc3.math import log, sqr"
   ]
  },
  {
   "cell_type": "markdown",
   "id": "b420b139-2294-4b92-92cf-849351dd3b1d",
   "metadata": {},
   "source": [
    "# Jeremy with Zero Tricks\n",
    "\n",
    "Adapted from [Codes for Unit 6: zerotrickjeremy.odc](https://www2.isye.gatech.edu/isye6420/supporting.html).\n",
    "\n",
    "Associated lecture video: [Unit 6 Lesson 10](https://www.youtube.com/watch?v=wilCD0fSv20&list=PLv0FeK5oXK4l-RdT6DWJj0_upJOG2WKNO&index=61).\n",
    "\n",
    "There's a running example in the lectures about Jeremy testing his IQ. At some point I will track all those down and add links here, but for now I'm just going to port the code.\n",
    "\n",
    "I'm not sure what's going on when the professor sets ```z1``` as both a deterministic and random variable. I'll need to test some things out in BUGS once the Citrix virtual machines are back online. For now, here's a first pass at recreating the model, where I interpret the ```z <- 0``` as feeding an observation of zero to the variable.\n",
    "\n",
    "That said, I don't think we will ever need to use the zeros or ones tricks in the homeworks. If we do I will definitely expand this page.\n",
    "\n",
    "I played around with using Greek letters as variable names for this example. Not sure if I'll continue doing so, but it's really easy in Jupyter Lab. Just type \\theta and hit TAB in a code cell."
   ]
  },
  {
   "cell_type": "code",
   "execution_count": 46,
   "id": "13a7d733-19f0-4e2f-9aee-1ee5797b9df4",
   "metadata": {},
   "outputs": [],
   "source": [
    "y = 98\n",
    "μ = 110\n",
    "σ = 8.944272\n",
    "τ = 10.954451\n",
    "constant = 1000 # can't let lambda be lower than zero\n",
    "\n",
    "inits = {\"θ\": 100}"
   ]
  },
  {
   "cell_type": "code",
   "execution_count": 53,
   "id": "a04c1f71-ddd8-4dfa-b582-3bdffa5d8b7b",
   "metadata": {
    "tags": [
     "hide_output"
    ]
   },
   "outputs": [
    {
     "name": "stderr",
     "output_type": "stream",
     "text": [
      "Auto-assigning NUTS sampler...\n",
      "Initializing NUTS using jitter+adapt_diag...\n",
      "Multiprocess sampling (4 chains in 4 jobs)\n",
      "NUTS: [θ]\n",
      "WARNING (theano.link.c.cmodule): install mkl with `conda install mkl-service`: No module named 'mkl'\n",
      "WARNING (theano.link.c.cmodule): install mkl with `conda install mkl-service`: No module named 'mkl'\n",
      "WARNING (theano.link.c.cmodule): install mkl with `conda install mkl-service`: No module named 'mkl'\n",
      "WARNING (theano.link.c.cmodule): install mkl with `conda install mkl-service`: No module named 'mkl'\n"
     ]
    },
    {
     "data": {
      "text/html": [
       "\n",
       "    <div>\n",
       "        <style>\n",
       "            /* Turns off some styling */\n",
       "            progress {\n",
       "                /* gets rid of default border in Firefox and Opera. */\n",
       "                border: none;\n",
       "                /* Needs to be in here for Safari polyfill so background images work as expected. */\n",
       "                background-size: auto;\n",
       "            }\n",
       "            .progress-bar-interrupted, .progress-bar-interrupted::-webkit-progress-bar {\n",
       "                background: #F44336;\n",
       "            }\n",
       "        </style>\n",
       "      <progress value='44000' class='' max='44000' style='width:300px; height:20px; vertical-align: middle;'></progress>\n",
       "      100.00% [44000/44000 00:02<00:00 Sampling 4 chains, 0 divergences]\n",
       "    </div>\n",
       "    "
      ],
      "text/plain": [
       "<IPython.core.display.HTML object>"
      ]
     },
     "metadata": {},
     "output_type": "display_data"
    },
    {
     "name": "stderr",
     "output_type": "stream",
     "text": [
      "/Users/aaron/mambaforge/envs/pymc3_test/lib/python3.9/site-packages/scipy/stats/_continuous_distns.py:624: RuntimeWarning: overflow encountered in _beta_ppf\n",
      "  return _boost._beta_ppf(q, a, b)\n",
      "/Users/aaron/mambaforge/envs/pymc3_test/lib/python3.9/site-packages/scipy/stats/_continuous_distns.py:624: RuntimeWarning: overflow encountered in _beta_ppf\n",
      "  return _boost._beta_ppf(q, a, b)\n",
      "/Users/aaron/mambaforge/envs/pymc3_test/lib/python3.9/site-packages/scipy/stats/_continuous_distns.py:624: RuntimeWarning: overflow encountered in _beta_ppf\n",
      "  return _boost._beta_ppf(q, a, b)\n",
      "/Users/aaron/mambaforge/envs/pymc3_test/lib/python3.9/site-packages/scipy/stats/_continuous_distns.py:624: RuntimeWarning: overflow encountered in _beta_ppf\n",
      "  return _boost._beta_ppf(q, a, b)\n",
      "Sampling 4 chains for 1_000 tune and 10_000 draw iterations (4_000 + 40_000 draws total) took 10 seconds.\n"
     ]
    }
   ],
   "source": [
    "with pm.Model() as m:\n",
    "    θ = pm.Flat(\"θ\")\n",
    "\n",
    "    λ1 = pm.Deterministic(\"λ1\", log(σ) + 0.5 * sqr(((y - θ) / σ)) + constant)\n",
    "    λ2 = pm.Deterministic(\"λ2\", log(τ) + 0.5 * sqr(((θ - μ) / τ)) + constant)\n",
    "\n",
    "    z1 = pm.Poisson(\"z1\", λ1, observed=0)\n",
    "    z2 = pm.Poisson(\"z2\", λ2, observed=0)\n",
    "\n",
    "    trace = pm.sample(\n",
    "        10000,\n",
    "        chains=4,\n",
    "        cores=4,\n",
    "        tune=1000,\n",
    "        init=\"jitter+adapt_diag\",\n",
    "        random_seed=1,\n",
    "        return_inferencedata=True,\n",
    "        start=inits,\n",
    "    )"
   ]
  },
  {
   "cell_type": "code",
   "execution_count": 54,
   "id": "ba0a33b9-ef2a-4218-a2fd-6ebaf9cbbfdb",
   "metadata": {},
   "outputs": [
    {
     "data": {
      "text/html": [
       "<div>\n",
       "<style scoped>\n",
       "    .dataframe tbody tr th:only-of-type {\n",
       "        vertical-align: middle;\n",
       "    }\n",
       "\n",
       "    .dataframe tbody tr th {\n",
       "        vertical-align: top;\n",
       "    }\n",
       "\n",
       "    .dataframe thead th {\n",
       "        text-align: right;\n",
       "    }\n",
       "</style>\n",
       "<table border=\"1\" class=\"dataframe\">\n",
       "  <thead>\n",
       "    <tr style=\"text-align: right;\">\n",
       "      <th></th>\n",
       "      <th>mean</th>\n",
       "      <th>sd</th>\n",
       "      <th>hdi_2.5%</th>\n",
       "      <th>hdi_97.5%</th>\n",
       "      <th>mcse_mean</th>\n",
       "      <th>mcse_sd</th>\n",
       "      <th>ess_bulk</th>\n",
       "      <th>ess_tail</th>\n",
       "      <th>r_hat</th>\n",
       "    </tr>\n",
       "  </thead>\n",
       "  <tbody>\n",
       "    <tr>\n",
       "      <th>θ</th>\n",
       "      <td>102.802</td>\n",
       "      <td>6.978</td>\n",
       "      <td>89.121</td>\n",
       "      <td>116.371</td>\n",
       "      <td>0.053</td>\n",
       "      <td>0.037</td>\n",
       "      <td>17683.0</td>\n",
       "      <td>26654.0</td>\n",
       "      <td>1.0</td>\n",
       "    </tr>\n",
       "    <tr>\n",
       "      <th>λ1</th>\n",
       "      <td>1002.639</td>\n",
       "      <td>0.598</td>\n",
       "      <td>1002.191</td>\n",
       "      <td>1003.868</td>\n",
       "      <td>0.004</td>\n",
       "      <td>0.003</td>\n",
       "      <td>18213.0</td>\n",
       "      <td>28757.0</td>\n",
       "      <td>1.0</td>\n",
       "    </tr>\n",
       "    <tr>\n",
       "      <th>λ2</th>\n",
       "      <td>1002.812</td>\n",
       "      <td>0.508</td>\n",
       "      <td>1002.394</td>\n",
       "      <td>1003.834</td>\n",
       "      <td>0.004</td>\n",
       "      <td>0.003</td>\n",
       "      <td>17736.0</td>\n",
       "      <td>26460.0</td>\n",
       "      <td>1.0</td>\n",
       "    </tr>\n",
       "  </tbody>\n",
       "</table>\n",
       "</div>"
      ],
      "text/plain": [
       "        mean     sd  hdi_2.5%  hdi_97.5%  mcse_mean  mcse_sd  ess_bulk  \\\n",
       "θ    102.802  6.978    89.121    116.371      0.053    0.037   17683.0   \n",
       "λ1  1002.639  0.598  1002.191   1003.868      0.004    0.003   18213.0   \n",
       "λ2  1002.812  0.508  1002.394   1003.834      0.004    0.003   17736.0   \n",
       "\n",
       "    ess_tail  r_hat  \n",
       "θ    26654.0    1.0  \n",
       "λ1   28757.0    1.0  \n",
       "λ2   26460.0    1.0  "
      ]
     },
     "execution_count": 54,
     "metadata": {},
     "output_type": "execute_result"
    }
   ],
   "source": [
    "az.summary(trace, hdi_prob=0.95)"
   ]
  },
  {
   "cell_type": "markdown",
   "id": "5591648e-4e43-4865-81fb-95f01ae6c526",
   "metadata": {},
   "source": [
    "Again, it's not clear to me what BUGS is doing, but these PyMC results are almost exactly the same as the professor's results so this must be close. I have also tried passing vectors of zeros to each ```z```, putting more weight on the zero \"observations.\" This ended up reducing the credible interval and standard deviation of theta. \n",
    "\n",
    "I found [this page](http://www.medicine.mcgill.ca/epidemiology/Joseph/courses/common/Tricks.html) that briefly mentions the same trick. They note that \"... this method can be very inefficient and give a very high MC error.\"\n",
    "\n"
   ]
  },
  {
   "cell_type": "code",
   "execution_count": null,
   "id": "8f0a2ca0-5344-41fd-972c-0c0c5548bcf1",
   "metadata": {},
   "outputs": [],
   "source": []
  }
 ],
 "metadata": {
  "kernelspec": {
   "display_name": "Python 3 (ipykernel)",
   "language": "python",
   "name": "python3"
  },
  "language_info": {
   "codemirror_mode": {
    "name": "ipython",
    "version": 3
   },
   "file_extension": ".py",
   "mimetype": "text/x-python",
   "name": "python",
   "nbconvert_exporter": "python",
   "pygments_lexer": "ipython3",
   "version": "3.9.9"
  }
 },
 "nbformat": 4,
 "nbformat_minor": 5
}
