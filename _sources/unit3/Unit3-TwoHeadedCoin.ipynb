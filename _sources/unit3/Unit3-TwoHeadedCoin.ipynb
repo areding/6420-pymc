{
 "cells": [
  {
   "cell_type": "code",
   "execution_count": 1,
   "id": "8ae5fae8",
   "metadata": {},
   "outputs": [],
   "source": [
    "import matplotlib.pyplot as plt\n",
    "\n",
    "%load_ext lab_black\n",
    "%load_ext watermark"
   ]
  },
  {
   "cell_type": "markdown",
   "id": "23e31558",
   "metadata": {},
   "source": [
    "# Demo&mdash;Two-headed Coin\n",
    "From [Unit 3 - twoheaded.m](https://raw.githubusercontent.com/areding/6420-pymc/main/original_examples/Codes4Unit3/twoheaded.m).\n",
    "\n",
    "Associated lecture videos: Unit 3 lessons 4 and 6.\n",
    "\n",
    "--------------------------------------------------\n",
    "\n",
    "This is a pretty simple one. I'm sure no one needed help redoing this in Python, I'm just including it for the sake of completeness!\n",
    "\n",
    "Out of N coins only one has two heads. A coin is selected at random from the pile and flipped k times. Heads appears k times in a row. What is the probability that the coin with two heads was selected?"
   ]
  },
  {
   "cell_type": "code",
   "execution_count": 2,
   "id": "97cd047c",
   "metadata": {},
   "outputs": [
    {
     "data": {
      "image/png": "[encoded data removed]",
      "text/plain": [
       "<Figure size 432x288 with 1 Axes>"
      ]
     },
     "metadata": {
      "needs_background": "light"
     },
     "output_type": "display_data"
    }
   ],
   "source": [
    "N = 1000000\n",
    "flips = 40\n",
    "\n",
    "\n",
    "def prob(k, N):\n",
    "    \"\"\"\n",
    "    Calculate probability that we've selected a two-headed coin.\n",
    "\n",
    "    k int: number of flips that come up as heads (consecutively)\n",
    "    N int: number of coins we selected from.\n",
    "\n",
    "    returns: probability at k flips in a row\n",
    "    \"\"\"\n",
    "    return 2**k / (2**k + N - 1)\n",
    "\n",
    "\n",
    "# create a list of probabilities for different values of k\n",
    "probabilities = [prob(k, N) for k in range(flips)]\n",
    "\n",
    "# plot using matplotlib\n",
    "plt.plot(probabilities)\n",
    "plt.xlabel(\"Flips\")\n",
    "plt.ylabel(\"Probability\")\n",
    "plt.suptitle(\"Probability that selected coin is two-headed\")\n",
    "plt.title(\"(given k flips in a row landing on heads)\")\n",
    "plt.show()"
   ]
  },
  {
   "cell_type": "code",
   "execution_count": 3,
   "id": "122c0d79",
   "metadata": {},
   "outputs": [
    {
     "name": "stdout",
     "output_type": "stream",
     "text": [
      "Python implementation: CPython\n",
      "Python version       : 3.10.4\n",
      "IPython version      : 8.4.0\n",
      "\n",
      "matplotlib: 3.5.2\n",
      "\n"
     ]
    }
   ],
   "source": [
    "%watermark -n -u -v -iv"
   ]
  }
 ],
 "metadata": {
  "kernelspec": {
   "display_name": "Python 3 (ipykernel)",
   "language": "python",
   "name": "python3"
  },
  "language_info": {
   "codemirror_mode": {
    "name": "ipython",
    "version": 3
   },
   "file_extension": ".py",
   "mimetype": "text/x-python",
   "name": "python",
   "nbconvert_exporter": "python",
   "pygments_lexer": "ipython3",
   "version": "3.11.0"
  }
 },
 "nbformat": 4,
 "nbformat_minor": 5
}
