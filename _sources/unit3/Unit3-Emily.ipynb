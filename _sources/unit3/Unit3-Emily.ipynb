{
 "cells": [
  {
   "cell_type": "code",
   "execution_count": 1,
   "id": "c93d2573-d3e1-42ee-9b1a-6b1d8764351b",
   "metadata": {},
   "outputs": [],
   "source": [
    "import matplotlib.pyplot as plt\n",
    "import networkx as nx\n",
    "from pgmpy.factors.discrete import TabularCPD\n",
    "from pgmpy.inference import CausalInference\n",
    "from pgmpy.models import BayesianNetwork\n",
    "\n",
    "%load_ext lab_black\n",
    "%load_ext watermark"
   ]
  },
  {
   "cell_type": "markdown",
   "id": "629b2678-c50c-41b1-8376-de33df79708b",
   "metadata": {},
   "source": [
    "# Supplementary Problem&mdash;Emily's Vacation\n",
    "\n",
    "This is the first question on the Fall 2019 [practice midterm](https://www2.isye.gatech.edu/isye6420/exams.html).\n",
    "\n",
    "-----------------------------\n",
    "\n",
    "Emily is taking Bayesian Analysis course. She believes she will get an A with probability 0.6, a B with probability 0.3, and a C or less with probability 0.1. At the end of semester she will get a car as a present form her (very) rich uncle depending on her class performance. For getting an A in the course Emily will get a car with probability 0.8, for B with probability 0.5, and for anything less than B, she will get a car with probability of 0.2. These are the probabilities if the market is bullish. If the market is bearish, the uncle is less likely to make expensive presents, and the above probabilities are 0.5, 0.3, and 0.1, respectively. The probabilities of bullish and bearish market are equal, 0.5 each. If Emily gets a car and doesn't win the lottery[^1], she would travel to Redington Shores with probability 0.7, or stay on campus with probability 0.3. If she does not get a car, these two probabilities are 0.2 and 0.8, respectively. \n",
    "\n",
    "Independently, Emily may be a lucky winner of a sweepstake lottery for a free air ticket and vacation in hotel Sol at Redington Shores. The chance to win the sweepstake is 0.001, but if Emily wins, she will go to vacation with probability of 0.99, irrespective of what happened with the car.\n",
    "\n",
    "After the semester was over you learned that Emily is at Redington Shores.\n",
    "\n",
    "1. What is the probability that she got a car?\n",
    "\n",
    "2. What is the probability that she won the sweepstakes?\n",
    "\n",
    "3. What is the probability that she got a B in the course?\n",
    "\n",
    "4. What is the probability that the market was bearish?\n",
    "\n",
    "Hint: You can solve this problem by any of the 3 ways: (i) use of WinBUGS or OpenBUGS, (ii) direct simulation using Octave/MATLAB, R, or Python, and (iii) exact calculation. Use just one of the three ways to solve it. WinBUGS/OpenBUGS or direct simulation are recommended. The exact solution, although straightforward, may be quite messy.\n",
    "\n",
    "[^1]: I edited this line from the original for clarity based on student feedback.\n",
    "\n",
    "----------------\n",
    "\n",
    "This is a bit more complicated than [](./Unit3-Alarm.ipynb), but still pretty easy with pgmpy. The only tricky part is making sure you've entered everything in the correct order.\n"
   ]
  },
  {
   "cell_type": "markdown",
   "id": "79266748-4b29-4620-9979-77acc9959d29",
   "metadata": {},
   "source": [
    "When defining variables in pgmpy, the columns are evidence, the rows are the states of the variable. The order you enter evidence matters. See the comments above the ```cpd_car``` and ```cpd_vacation``` variables. I'm going to use the ```state_names``` parameter of ```TabularCPD()``` to help keep track of what's going on here. "
   ]
  },
  {
   "cell_type": "code",
   "execution_count": 2,
   "id": "bcc297c6-dab9-418c-9204-e8758cb4ce16",
   "metadata": {},
   "outputs": [
    {
     "name": "stdout",
     "output_type": "stream",
     "text": [
      "Nodes: ['Grade', 'Car', 'Vacation', 'Sweepstakes', 'Market']\n",
      "Edges: [('Grade', 'Car'), ('Car', 'Vacation'), ('Sweepstakes', 'Vacation'), ('Market', 'Car')]\n"
     ]
    }
   ],
   "source": [
    "# Defining network structure\n",
    "emily_model = BayesianNetwork(\n",
    "    [\n",
    "        (\"Grade\", \"Car\"),\n",
    "        (\"Car\", \"Vacation\"),\n",
    "        (\"Sweepstakes\", \"Vacation\"),\n",
    "        (\"Market\", \"Car\"),\n",
    "    ]\n",
    ")\n",
    "\n",
    "# Defining the variables\n",
    "cpd_market = TabularCPD(\n",
    "    variable=\"Market\",\n",
    "    variable_card=2,\n",
    "    values=[[0.5], [0.5]],\n",
    "    state_names={\"Market\": [\"Bull\", \"Bear\"]},\n",
    ")\n",
    "\n",
    "cpd_grade = TabularCPD(\n",
    "    variable=\"Grade\",\n",
    "    variable_card=3,\n",
    "    values=[[0.6], [0.3], [0.1]],\n",
    "    state_names={\"Grade\": [\"A\", \"B\", \"C\"]},\n",
    ")\n",
    "\n",
    "#    Car variable\n",
    "#    +---------+---------+---------+---------+---------+---------+---------+\n",
    "#    | Market  | Bull    | Bull    | Bull    | Bear    | Bear    | Bear    |\n",
    "#    +---------+---------+---------+---------+---------+---------+---------+\n",
    "#    | Grade   | A       | B       | C       | A       | B       | C       |\n",
    "#    +---------+---------+---------+---------+---------+---------+---------+\n",
    "#    | Car     | 0.8     | 0.5     | 0.2     | 0.5     | 0.3     | 0.1     |\n",
    "#    +---------+---------+---------+---------+---------+---------+---------+\n",
    "#    | No car  | 0.2     | 0.5     | 0.8     | 0.5     | 0.7     | 0.9     |\n",
    "#    +---------+---------+---------+---------+---------+---------+---------+\n",
    "\n",
    "cpd_car = TabularCPD(\n",
    "    variable=\"Car\",\n",
    "    variable_card=2,  # there are two possible outcomes, car or no car\n",
    "    values=[\n",
    "        [0.8, 0.5, 0.2, 0.5, 0.3, 0.1],  # car\n",
    "        [0.2, 0.5, 0.8, 0.5, 0.7, 0.9],  # no car\n",
    "    ],\n",
    "    evidence=[\"Market\", \"Grade\"],\n",
    "    evidence_card=[2, 3],  # 2 possible states for the market, 3 for grade\n",
    "    state_names={\n",
    "        \"Market\": [\"Bull\", \"Bear\"],\n",
    "        \"Grade\": [\"A\", \"B\", \"C\"],\n",
    "        \"Car\": [\"Yes\", \"No\"],\n",
    "    },\n",
    ")\n",
    "\n",
    "cpd_sweepstakes = TabularCPD(\n",
    "    variable=\"Sweepstakes\",\n",
    "    variable_card=2,\n",
    "    values=[[0.001], [0.999]],\n",
    "    state_names={\"Sweepstakes\": [\"Win\", \"Lose\"]},\n",
    ")\n",
    "\n",
    "#    +----------------+---------+---------+---------+---------+\n",
    "#    | Sweepstakes    | Win     | Win     | Lose    | Lose    |\n",
    "#    +----------------+---------+---------+---------+---------+\n",
    "#    | Car            | Yes     | No      | Yes     | No      |\n",
    "#    +----------------+---------+---------+---------+---------+\n",
    "#    | Vacation (yes) | 0.99    | 0.99    | 0.7     | 0.2     |\n",
    "#    +----------------+---------+---------+---------+---------+\n",
    "#    | Vacation (no)  | 0.01    | 0.01    | 0.3     | 0.8     |\n",
    "#    +----------------+---------+---------+---------+---------+\n",
    "\n",
    "cpd_vacation = TabularCPD(\n",
    "    variable=\"Vacation\",\n",
    "    variable_card=2,\n",
    "    values=[\n",
    "        [0.99, 0.99, 0.7, 0.2],  # vacation\n",
    "        [0.01, 0.01, 0.3, 0.8],  # no vacation\n",
    "    ],\n",
    "    evidence=[\"Sweepstakes\", \"Car\"],\n",
    "    evidence_card=[2, 2],\n",
    "    state_names={\n",
    "        \"Sweepstakes\": [\"Win\", \"Lose\"],\n",
    "        \"Car\": [\"Yes\", \"No\"],\n",
    "        \"Vacation\": [\"Yes\", \"No\"],\n",
    "    },\n",
    ")\n",
    "\n",
    "# Associating the parameters with the model structure\n",
    "emily_model.add_cpds(cpd_market, cpd_grade, cpd_car, cpd_sweepstakes, cpd_vacation)\n",
    "\n",
    "emily_model.check_model()\n",
    "\n",
    "print(f\"Nodes: {emily_model.nodes()}\")\n",
    "print(f\"Edges: {emily_model.edges()}\")"
   ]
  },
  {
   "cell_type": "code",
   "execution_count": 3,
   "id": "e100591c-4649-4f6e-a382-9ec5638900aa",
   "metadata": {},
   "outputs": [
    {
     "data": {
      "image/png": "[encoded data removed]",
      "text/plain": [
       "<Figure size 640x480 with 1 Axes>"
      ]
     },
     "metadata": {},
     "output_type": "display_data"
    }
   ],
   "source": [
    "# plot the network\n",
    "\n",
    "options = {\n",
    "    \"arrowsize\": 40,\n",
    "    \"font_size\": 8,\n",
    "    \"font_weight\": \"bold\",\n",
    "    \"node_size\": 4000,\n",
    "    \"node_color\": \"white\",\n",
    "    \"edgecolors\": \"black\",\n",
    "    \"linewidths\": 2,\n",
    "    \"width\": 5,\n",
    "    \"alpha\": 0.9,\n",
    "}\n",
    "\n",
    "nx.draw_circular(emily_model, with_labels=True, **options)\n",
    "\n",
    "# Set margins for the axes so that nodes aren't clipped\n",
    "ax = plt.gca()\n",
    "ax.margins(0.20)\n",
    "plt.axis(\"off\")\n",
    "plt.show()"
   ]
  },
  {
   "cell_type": "markdown",
   "id": "2467a195-da28-4467-bc7b-6c637c80273c",
   "metadata": {},
   "source": [
    "If the above network makes sense, we're good to go! Remember, we know Emily did go to Redington Shores for her vacation, so everything is conditional on that."
   ]
  },
  {
   "cell_type": "code",
   "execution_count": 4,
   "id": "88ff9bcf-dbe7-4377-8e5f-a26f85c3cd8a",
   "metadata": {},
   "outputs": [
    {
     "name": "stdout",
     "output_type": "stream",
     "text": [
      "P(C|V):\n",
      "+----------+------------+\n",
      "| Car      |   phi(Car) |\n",
      "+==========+============+\n",
      "| Car(Yes) |     0.7940 |\n",
      "+----------+------------+\n",
      "| Car(No)  |     0.2060 |\n",
      "+----------+------------+\n",
      "P(SS|V):\n",
      "+-------------------+--------------------+\n",
      "| Sweepstakes       |   phi(Sweepstakes) |\n",
      "+===================+====================+\n",
      "| Sweepstakes(Win)  |             0.0021 |\n",
      "+-------------------+--------------------+\n",
      "| Sweepstakes(Lose) |             0.9979 |\n",
      "+-------------------+--------------------+\n",
      "P(G|V):\n",
      "+----------+--------------+\n",
      "| Grade    |   phi(Grade) |\n",
      "+==========+==============+\n",
      "| Grade(A) |       0.6809 |\n",
      "+----------+--------------+\n",
      "| Grade(B) |       0.2595 |\n",
      "+----------+--------------+\n",
      "| Grade(C) |       0.0595 |\n",
      "+----------+--------------+\n",
      "P(SM|V):\n",
      "+--------------+---------------+\n",
      "| Market       |   phi(Market) |\n",
      "+==============+===============+\n",
      "| Market(Bull) |        0.5674 |\n",
      "+--------------+---------------+\n",
      "| Market(Bear) |        0.4326 |\n",
      "+--------------+---------------+\n"
     ]
    }
   ],
   "source": [
    "emily_infer = CausalInference(emily_model)\n",
    "\n",
    "evidence = {\"Vacation\": \"Yes\"}\n",
    "\n",
    "# a: probability Emily got a car.\n",
    "q = emily_infer.query(variables=[\"Car\"], evidence=evidence)\n",
    "print(\"P(C|V):\")\n",
    "print(q)\n",
    "\n",
    "# b: probability she won the sweepstakes.\n",
    "q = emily_infer.query(variables=[\"Sweepstakes\"], evidence=evidence)\n",
    "print(\"P(SS|V):\")\n",
    "print(q)\n",
    "\n",
    "# c: probability she got a B.\n",
    "q = emily_infer.query(variables=[\"Grade\"], evidence=evidence)\n",
    "print(\"P(G|V):\")\n",
    "print(q)\n",
    "\n",
    "# d: probability the stock market was bearish\n",
    "q = emily_infer.query(variables=[\"Market\"], evidence=evidence)\n",
    "print(\"P(SM|V):\")\n",
    "print(q)"
   ]
  },
  {
   "cell_type": "code",
   "execution_count": 5,
   "id": "607ebd97-aa5f-40b4-b3cb-efcf50592920",
   "metadata": {},
   "outputs": [
    {
     "name": "stdout",
     "output_type": "stream",
     "text": [
      "Last updated: Mon Mar 06 2023\n",
      "\n",
      "Python implementation: CPython\n",
      "Python version       : 3.8.16\n",
      "IPython version      : 8.11.0\n",
      "\n",
      "networkx  : 3.0\n",
      "matplotlib: 3.7.0\n",
      "\n"
     ]
    }
   ],
   "source": [
    "%watermark -n -u -v -iv"
   ]
  }
 ],
 "metadata": {
  "kernelspec": {
   "display_name": "Python 3 (ipykernel)",
   "language": "python",
   "name": "python3"
  },
  "language_info": {
   "codemirror_mode": {
    "name": "ipython",
    "version": 3
   },
   "file_extension": ".py",
   "mimetype": "text/x-python",
   "name": "python",
   "nbconvert_exporter": "python",
   "pygments_lexer": "ipython3",
   "version": "3.8.16"
  }
 },
 "nbformat": 4,
 "nbformat_minor": 5
}
