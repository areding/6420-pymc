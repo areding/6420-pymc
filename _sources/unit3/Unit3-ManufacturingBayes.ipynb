{
 "cells": [
  {
   "cell_type": "code",
   "execution_count": 1,
   "id": "4cd3e2aa",
   "metadata": {},
   "outputs": [],
   "source": [
    "import matplotlib.pyplot as plt\n",
    "import networkx as nx\n",
    "from pgmpy.factors.discrete import TabularCPD\n",
    "from pgmpy.inference import CausalInference\n",
    "from pgmpy.models import BayesianNetwork\n",
    "\n",
    "%load_ext lab_black"
   ]
  },
  {
   "cell_type": "markdown",
   "id": "da634c9a",
   "metadata": {},
   "source": [
    "# Manufacturing Bayes*\n",
    "From [Unit 3 - manufacturingbayes.odc](https://raw.githubusercontent.com/areding/6420-pymc/main/original_examples/Codes4Unit3/manufacturingbayes.odc).\n",
    "\n",
    "Associated lecture videos: Unit 3 lessons 3 and 5.\n",
    "\n",
    "---------------------------------------------"
   ]
  },
  {
   "cell_type": "markdown",
   "id": "17547bc5",
   "metadata": {},
   "source": [
    "Three types of machines produce items. The first type makes 30% of the items, the second 50%, and the third 20%.\n",
    "The probability of an item conforming to standards is 0.94 if it comes from a type-1 machine, 0.95 from a type-2 machine, and 0.97 from a type-3 machine.\n",
    "\n",
    "An item from the production is selected at random.\n",
    "\n",
    "1. What is the probability that it was conforming?\n",
    "\n",
    "2. If it was found that the item is conforming, what is the probability that it was produced on a type-1 machine?\n",
    "\n",
    "\n",
    "The code below uses pgmpy. Jacob Harris, a student in the Fall 2021 class, also managed to get this [working in PyMC3](https://github.gatech.edu/jharris373/isye6420_examples/blob/master/lecture/unit_3/manufacturing_bayes/PyMC3/simple%20bayes%20net%20example%20-%20manufacturing%20bayes.ipynb)."
   ]
  },
  {
   "cell_type": "code",
   "execution_count": 2,
   "id": "f7647d22",
   "metadata": {},
   "outputs": [
    {
     "name": "stdout",
     "output_type": "stream",
     "text": [
      "Nodes: ['Machine', 'Conforming']\n",
      "Edges: [('Machine', 'Conforming')]\n"
     ]
    }
   ],
   "source": [
    "# Defining network structure\n",
    "mb_model = BayesianNetwork([(\"Machine\", \"Conforming\")])\n",
    "\n",
    "# Defining the parameters\n",
    "cpd_machine = TabularCPD(\n",
    "    variable=\"Machine\", variable_card=3, values=[[0.3], [0.5], [0.2]]\n",
    ")\n",
    "\n",
    "cpd_conforming = TabularCPD(\n",
    "    variable=\"Conforming\",\n",
    "    variable_card=2,\n",
    "    values=[[0.06, 0.05, 0.03], [0.94, 0.95, 0.97]],\n",
    "    evidence=[\"Machine\"],\n",
    "    evidence_card=[3],\n",
    ")\n",
    "\n",
    "# Associating the parameters with the model structure\n",
    "mb_model.add_cpds(cpd_machine, cpd_conforming)\n",
    "\n",
    "mb_model.check_model()\n",
    "\n",
    "print(f\"Nodes: {mb_model.nodes()}\")\n",
    "print(f\"Edges: {mb_model.edges()}\")"
   ]
  },
  {
   "cell_type": "code",
   "execution_count": 3,
   "id": "3b9850d3",
   "metadata": {},
   "outputs": [
    {
     "data": {
      "image/png": "[encoded data removed]",
      "text/plain": [
       "<Figure size 640x480 with 1 Axes>"
      ]
     },
     "metadata": {},
     "output_type": "display_data"
    }
   ],
   "source": [
    "options = {\n",
    "    \"arrowsize\": 40,\n",
    "    \"font_size\": 8,\n",
    "    \"font_weight\": \"bold\",\n",
    "    \"node_size\": 4000,\n",
    "    \"node_color\": \"white\",\n",
    "    \"edgecolors\": \"black\",\n",
    "    \"linewidths\": 2,\n",
    "    \"width\": 5,\n",
    "    \"alpha\": 0.9,\n",
    "}\n",
    "\n",
    "# plot the network\n",
    "nx.draw_circular(mb_model, with_labels=True, **options)\n",
    "\n",
    "# Set margins for the axes so that nodes aren't clipped\n",
    "ax = plt.gca()\n",
    "ax.margins(0.20)\n",
    "plt.axis(\"off\")\n",
    "plt.show()"
   ]
  },
  {
   "cell_type": "markdown",
   "id": "87077b11",
   "metadata": {},
   "source": [
    "Make sure the above visualization makes sense!\n",
    "\n",
    "See [Networkx docs](https://networkx.org/documentation/latest/auto_examples/basic/plot_simple_graph.html#sphx-glr-auto-examples-basic-plot-simple-graph-py) for more details on plotting."
   ]
  },
  {
   "cell_type": "code",
   "execution_count": 4,
   "id": "42f828d4",
   "metadata": {},
   "outputs": [
    {
     "name": "stdout",
     "output_type": "stream",
     "text": [
      "P(C):\n",
      "+---------------+-------------------+\n",
      "| Conforming    |   phi(Conforming) |\n",
      "+===============+===================+\n",
      "| Conforming(0) |            0.0490 |\n",
      "+---------------+-------------------+\n",
      "| Conforming(1) |            0.9510 |\n",
      "+---------------+-------------------+\n",
      "P(M|C) (0-indexed, so Machine 1 is listed as Machine(0) and so on):\n",
      "+------------+----------------+\n",
      "| Machine    |   phi(Machine) |\n",
      "+============+================+\n",
      "| Machine(0) |         0.2965 |\n",
      "+------------+----------------+\n",
      "| Machine(1) |         0.4995 |\n",
      "+------------+----------------+\n",
      "| Machine(2) |         0.2040 |\n",
      "+------------+----------------+\n"
     ]
    }
   ],
   "source": [
    "mb_infer = CausalInference(mb_model)\n",
    "\n",
    "# probability a random item is conforming\n",
    "q = mb_infer.query(variables=[\"Conforming\"])\n",
    "print(\"P(C):\")\n",
    "print(q)\n",
    "\n",
    "# probability a conforming item came from the different machine types\n",
    "q = mb_infer.query(variables=[\"Machine\"], evidence={\"Conforming\": True})\n",
    "print(\"P(M|C) (0-indexed, so Machine 1 is listed as Machine(0) and so on):\")\n",
    "print(q)"
   ]
  },
  {
   "cell_type": "markdown",
   "id": "f00f33d8",
   "metadata": {},
   "source": [
    "Note that this doesn't exactly match the BUGS results in U3L5, because BUGS is sampling from random variables rather than performing exact calculations."
   ]
  },
  {
   "cell_type": "code",
   "execution_count": 5,
   "id": "69789c3c",
   "metadata": {},
   "outputs": [
    {
     "name": "stdout",
     "output_type": "stream",
     "text": [
      "Last updated: Sat Mar 18 2023\n",
      "\n",
      "Python implementation: CPython\n",
      "Python version       : 3.8.16\n",
      "IPython version      : 8.11.0\n",
      "\n",
      "pgmpy: 0.1.21\n",
      "\n",
      "matplotlib: 3.7.0\n",
      "networkx  : 3.0\n",
      "\n"
     ]
    }
   ],
   "source": [
    "%load_ext watermark\n",
    "%watermark -n -u -v -iv -p pgmpy"
   ]
  },
  {
   "cell_type": "code",
   "execution_count": null,
   "id": "c12d5be1",
   "metadata": {},
   "outputs": [],
   "source": []
  }
 ],
 "metadata": {
  "kernelspec": {
   "display_name": "Python 3 (ipykernel)",
   "language": "python",
   "name": "python3"
  },
  "language_info": {
   "codemirror_mode": {
    "name": "ipython",
    "version": 3
   },
   "file_extension": ".py",
   "mimetype": "text/x-python",
   "name": "python",
   "nbconvert_exporter": "python",
   "pygments_lexer": "ipython3",
   "version": "3.11.0"
  }
 },
 "nbformat": 4,
 "nbformat_minor": 5
}
