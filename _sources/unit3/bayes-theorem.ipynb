{
 "cells": [
  {
   "cell_type": "markdown",
   "id": "156c137b-20ee-410f-bdb6-68b12c54496e",
   "metadata": {},
   "source": [
    "# Bayes' theorem\n",
    "\n",
    "Placeholder\n",
    "\n",
    "Review probability, conditioning, Bayes' theorem, Bayes networks, pgmpy and maybe eventually pymc examples."
   ]
  },
  {
   "cell_type": "code",
   "execution_count": null,
   "id": "bc124446-7503-4a68-ac9f-683d29bce189",
   "metadata": {},
   "outputs": [],
   "source": []
  }
 ],
 "metadata": {
  "kernelspec": {
   "display_name": "Python 3 (ipykernel)",
   "language": "python",
   "name": "python3"
  },
  "language_info": {
   "codemirror_mode": {
    "name": "ipython",
    "version": 3
   },
   "file_extension": ".py",
   "mimetype": "text/x-python",
   "name": "python",
   "nbconvert_exporter": "python",
   "pygments_lexer": "ipython3",
   "version": "3.9.10"
  }
 },
 "nbformat": 4,
 "nbformat_minor": 5
}
