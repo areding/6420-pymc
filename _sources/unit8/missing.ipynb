{
 "cells": [
  {
   "cell_type": "markdown",
   "id": "7be80440",
   "metadata": {},
   "source": [
    "# Missing data\n",
    "\n",
    "placeholder"
   ]
  },
  {
   "cell_type": "markdown",
   "id": "7e1dd3a6-ff74-4b6f-91ea-d66989e6badd",
   "metadata": {},
   "source": [
    "Notes:\n",
    "\n"
   ]
  },
  {
   "cell_type": "code",
   "execution_count": null,
   "id": "dad7f555-04cd-43c3-a3a1-6d245c3b8c00",
   "metadata": {},
   "outputs": [],
   "source": []
  }
 ],
 "metadata": {
  "kernelspec": {
   "display_name": "Python 3 (ipykernel)",
   "language": "python",
   "name": "python3"
  },
  "language_info": {
   "codemirror_mode": {
    "name": "ipython",
    "version": 3
   },
   "file_extension": ".py",
   "mimetype": "text/x-python",
   "name": "python",
   "nbconvert_exporter": "python",
   "pygments_lexer": "ipython3",
   "version": "3.10.5"
  }
 },
 "nbformat": 4,
 "nbformat_minor": 5
}
