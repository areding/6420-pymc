{
 "cells": [
  {
   "cell_type": "code",
   "execution_count": 1,
   "id": "1be1c6ae",
   "metadata": {},
   "outputs": [],
   "source": [
    "import arviz as az\n",
    "import numpy as np\n",
    "import pymc as pm\n",
    "from pymc.math import exp"
   ]
  },
  {
   "cell_type": "markdown",
   "id": "853fe5c9",
   "metadata": {
    "tags": []
   },
   "source": [
    "# 6. Time-to-event Models: Gastric Cancer*\n",
    "\n",
    "Adapted from code for [Unit 8: gastric.odc](https://raw.githubusercontent.com/areding/6420-pymc/main/original_examples/Codes4Unit8/gastric.odc).\n",
    "\n",
    "Data can be found [here](https://raw.githubusercontent.com/areding/6420-pymc/main/data/gastric.txt)."
   ]
  },
  {
   "cell_type": "markdown",
   "id": "a28e3f25",
   "metadata": {},
   "source": [
    "## Problem statement\n",
    "{cite:ts}`STABLEIN1981149` provide data on 90 patients affected by locally advanced, nonresectable gastric carcinoma. The patients are randomized to two treatments: chemotherapy alone (coded as 0) and chemotherapy plus radiation (coded as 1). Survival time is reported in days. Recorded times are censored if the patient stopped participating in the study before it finished.\n",
    "\n",
    "### Data\n",
    "Columns are, from left to right:\n",
    "- type: Treatment type, chemotherapy (0) or chemotherapy + radiation (1)\n",
    "- censored: If censored, meaning the patient survived the observation period, the time in days appears here rather than in the times column. 0 if not censored.\n",
    "- times: Recorded days without cancer recurrence. NaN if censored.\n",
    "\n",
    "### Model changes\n",
    "PyMC really did not like the noninformative exponential prior on v (α in this model). For some reason, the equivalent Gamma distribution is more stable. I also found passing an initial value also helps avoid divergences here."
   ]
  },
  {
   "cell_type": "markdown",
   "id": "bdaf06b6",
   "metadata": {},
   "source": [
    "## Method 1: ```pm.Censored```\n",
    "\n",
    "The way PyMC censoring works is described in some detail in [this notebook](https://www.pymc.io/projects/examples/en/latest/generalized_linear_models/GLM-truncated-censored-regression.html) ({cite:ts}`censoringvincentpymc`). For right-censoring, try this: ```pm.Censored(\"name\", dist, lower=None, upper=censored, observed=y)```. The censored values can be an array of the same shape as the y values. \n",
    "\n",
    "If the y value equals the right-censored value, [```pm.Censored```](https://docs.pymc.io/en/latest/api/distributions/generated/pymc.Censored.html#pymc.Censored) returns the complement to the CDF evaluated at the censored value. If the y value is greater than the censored value, it returns ```-np.inf```. Otherwise, the distribution you passed to the ```dist``` parameter works as normal. What I've been doing is setting the values in the censored array to ```np.inf``` if the corresponding y value is not censored, and equal to the y value if it should be censored.\n",
    "\n",
    "```{note}\n",
    "I've noticed that this method is unstable with some distributions. Try using the imputed censoring model (below) if this one isn't working.\n",
    "```"
   ]
  },
  {
   "cell_type": "code",
   "execution_count": 22,
   "id": "2edcd8b4",
   "metadata": {},
   "outputs": [
    {
     "data": {
      "text/plain": [
       "(90, 3)"
      ]
     },
     "execution_count": 22,
     "metadata": {},
     "output_type": "execute_result"
    }
   ],
   "source": [
    "data = np.loadtxt(\"../data/gastric.txt\")\n",
    "data.shape"
   ]
  },
  {
   "cell_type": "code",
   "execution_count": 23,
   "id": "6f3958f9",
   "metadata": {},
   "outputs": [],
   "source": [
    "x = data[:, 0].copy()\n",
    "censored = data[:, 1].copy()\n",
    "y = data[:, 2].copy()\n",
    "# for pymc, right-censored values must be greater than or equal to than the \"upper\" value\n",
    "y[np.isnan(y)] = censored[np.isnan(y)]\n",
    "censored[censored == 0] = np.inf"
   ]
  },
  {
   "cell_type": "markdown",
   "id": "e17c9b58",
   "metadata": {},
   "source": [
    "```{warning}\n",
    "PyMC and BUGS do not specify the Weibull distribution in the same way!\n",
    "\n",
    "α = v\n",
    "\n",
    "β = λ ** (-1 / α)\n",
    "\n",
    "```"
   ]
  },
  {
   "cell_type": "code",
   "execution_count": 25,
   "id": "08bbe3f2",
   "metadata": {
    "tags": [
     "hide-output"
    ]
   },
   "outputs": [
    {
     "name": "stderr",
     "output_type": "stream",
     "text": [
      "Auto-assigning NUTS sampler...\n",
      "Initializing NUTS using jitter+adapt_diag_grad...\n",
      "Multiprocess sampling (4 chains in 4 jobs)\n",
      "NUTS: [beta0, beta1, α]\n"
     ]
    },
    {
     "data": {
      "application/vnd.jupyter.widget-view+json": {
       "model_id": "d5a680d570cb48cbbd785a1ba47964f6",
       "version_major": 2,
       "version_minor": 0
      },
      "text/plain": [
       "Output()"
      ]
     },
     "metadata": {},
     "output_type": "display_data"
    },
    {
     "data": {
      "text/html": [
       "<pre style=\"white-space:pre;overflow-x:auto;line-height:normal;font-family:Menlo,'DejaVu Sans Mono',consolas,'Courier New',monospace\"></pre>\n"
      ],
      "text/plain": []
     },
     "metadata": {},
     "output_type": "display_data"
    },
    {
     "name": "stderr",
     "output_type": "stream",
     "text": [
      "Sampling 4 chains for 2_000 tune and 10_000 draw iterations (8_000 + 40_000 draws total) took 14 seconds.\n"
     ]
    }
   ],
   "source": [
    "log2 = np.log(2)\n",
    "\n",
    "with pm.Model() as m:\n",
    "    beta0 = pm.Normal(\"beta0\", 0, tau=0.01)\n",
    "    beta1 = pm.Normal(\"beta1\", 0, tau=0.1)\n",
    "    α = pm.Gamma(\"α\", 1, 0.001, initval=0.25)\n",
    "\n",
    "    λ = exp(beta0 + beta1 * x)\n",
    "    β = λ ** (-1 / α)\n",
    "\n",
    "    obs_latent = pm.Weibull.dist(alpha=α, beta=β)\n",
    "    likelihood = pm.Censored(\n",
    "        \"likelihood\",\n",
    "        obs_latent,\n",
    "        lower=None,\n",
    "        upper=censored,\n",
    "        observed=y,\n",
    "    )\n",
    "\n",
    "    median0 = pm.Deterministic(\"median0\", (log2 * exp(-beta0)) ** (1 / α))\n",
    "    median1 = pm.Deterministic(\n",
    "        \"median1\", (log2 * exp(-beta0 - beta1)) ** (1 / α)\n",
    "    )\n",
    "\n",
    "    S = pm.Deterministic(\"S\", exp(-λ * (likelihood**α)))\n",
    "    f = pm.Deterministic(\"f\", λ * α * (likelihood ** (α - 1)) * S)\n",
    "    h = pm.Deterministic(\"h\", f / S)\n",
    "\n",
    "    trace = pm.sample(\n",
    "        10000,\n",
    "        tune=2000,\n",
    "        init=\"jitter+adapt_diag_grad\",\n",
    "        target_accept=0.9,\n",
    "    )"
   ]
  },
  {
   "cell_type": "code",
   "execution_count": 27,
   "id": "9853c270",
   "metadata": {},
   "outputs": [
    {
     "data": {
      "text/html": [
       "<div>\n",
       "<style scoped>\n",
       "    .dataframe tbody tr th:only-of-type {\n",
       "        vertical-align: middle;\n",
       "    }\n",
       "\n",
       "    .dataframe tbody tr th {\n",
       "        vertical-align: top;\n",
       "    }\n",
       "\n",
       "    .dataframe thead th {\n",
       "        text-align: right;\n",
       "    }\n",
       "</style>\n",
       "<table border=\"1\" class=\"dataframe\">\n",
       "  <thead>\n",
       "    <tr style=\"text-align: right;\">\n",
       "      <th></th>\n",
       "      <th>mean</th>\n",
       "      <th>sd</th>\n",
       "      <th>hdi_5%</th>\n",
       "      <th>hdi_95%</th>\n",
       "      <th>mcse_mean</th>\n",
       "      <th>mcse_sd</th>\n",
       "      <th>ess_bulk</th>\n",
       "      <th>ess_tail</th>\n",
       "      <th>r_hat</th>\n",
       "    </tr>\n",
       "  </thead>\n",
       "  <tbody>\n",
       "    <tr>\n",
       "      <th>beta0</th>\n",
       "      <td>-6.794</td>\n",
       "      <td>0.669</td>\n",
       "      <td>-7.918</td>\n",
       "      <td>-5.721</td>\n",
       "      <td>0.008</td>\n",
       "      <td>0.006</td>\n",
       "      <td>7103.0</td>\n",
       "      <td>9414.0</td>\n",
       "      <td>1.0</td>\n",
       "    </tr>\n",
       "    <tr>\n",
       "      <th>beta1</th>\n",
       "      <td>0.262</td>\n",
       "      <td>0.232</td>\n",
       "      <td>-0.114</td>\n",
       "      <td>0.648</td>\n",
       "      <td>0.001</td>\n",
       "      <td>0.001</td>\n",
       "      <td>24321.0</td>\n",
       "      <td>19909.0</td>\n",
       "      <td>1.0</td>\n",
       "    </tr>\n",
       "    <tr>\n",
       "      <th>α</th>\n",
       "      <td>1.028</td>\n",
       "      <td>0.098</td>\n",
       "      <td>0.867</td>\n",
       "      <td>1.188</td>\n",
       "      <td>0.001</td>\n",
       "      <td>0.001</td>\n",
       "      <td>7153.0</td>\n",
       "      <td>9646.0</td>\n",
       "      <td>1.0</td>\n",
       "    </tr>\n",
       "    <tr>\n",
       "      <th>median0</th>\n",
       "      <td>524.207</td>\n",
       "      <td>88.400</td>\n",
       "      <td>383.214</td>\n",
       "      <td>664.780</td>\n",
       "      <td>0.587</td>\n",
       "      <td>0.415</td>\n",
       "      <td>22412.0</td>\n",
       "      <td>25454.0</td>\n",
       "      <td>1.0</td>\n",
       "    </tr>\n",
       "    <tr>\n",
       "      <th>median1</th>\n",
       "      <td>405.738</td>\n",
       "      <td>70.421</td>\n",
       "      <td>295.325</td>\n",
       "      <td>522.211</td>\n",
       "      <td>0.446</td>\n",
       "      <td>0.315</td>\n",
       "      <td>24736.0</td>\n",
       "      <td>26524.0</td>\n",
       "      <td>1.0</td>\n",
       "    </tr>\n",
       "  </tbody>\n",
       "</table>\n",
       "</div>"
      ],
      "text/plain": [
       "            mean      sd   hdi_5%  hdi_95%  mcse_mean  mcse_sd  ess_bulk  \\\n",
       "beta0     -6.794   0.669   -7.918   -5.721      0.008    0.006    7103.0   \n",
       "beta1      0.262   0.232   -0.114    0.648      0.001    0.001   24321.0   \n",
       "α          1.028   0.098    0.867    1.188      0.001    0.001    7153.0   \n",
       "median0  524.207  88.400  383.214  664.780      0.587    0.415   22412.0   \n",
       "median1  405.738  70.421  295.325  522.211      0.446    0.315   24736.0   \n",
       "\n",
       "         ess_tail  r_hat  \n",
       "beta0      9414.0    1.0  \n",
       "beta1     19909.0    1.0  \n",
       "α          9646.0    1.0  \n",
       "median0   25454.0    1.0  \n",
       "median1   26524.0    1.0  "
      ]
     },
     "execution_count": 27,
     "metadata": {},
     "output_type": "execute_result"
    }
   ],
   "source": [
    "az.summary(trace, var_names=[\"~S\", \"~f\", \"~h\"], hdi_prob=0.9)"
   ]
  },
  {
   "cell_type": "code",
   "execution_count": null,
   "id": "58872002",
   "metadata": {},
   "outputs": [],
   "source": []
  },
  {
   "cell_type": "markdown",
   "id": "308831cf",
   "metadata": {},
   "source": [
    "## Method 2: pm.Potential\n",
    "\n",
    "This method uses [pm.Potential](https://www.pymc.io/projects/docs/en/stable/api/model/generated/pymc.model.core.Potential.html#pymc-model-core-potential) to achieve the same thing as above by evaluating the censored datapoints differently. It came from [this notebook](https://www.pymc.io/projects/examples/en/latest/survival_analysis/weibull_aft.html#reparameterizing-the-weibull-accelerated-failure-time-model)({cite:ts}`survivalpymc`)."
   ]
  },
  {
   "cell_type": "code",
   "execution_count": null,
   "id": "bcce2a5c",
   "metadata": {},
   "outputs": [],
   "source": [
    "x = data[:, 0].copy()\n",
    "censored_vals = data[:, 1].copy()\n",
    "y = data[:, 2].copy()\n",
    "\n",
    "# we need to separate the observed values and the censored values\n",
    "observed_mask = censored_vals == 0\n",
    "\n",
    "y_censored = censored_vals[~observed_mask]\n",
    "y_uncensored = y[observed_mask]\n",
    "x_censored = x[~observed_mask]\n",
    "x_uncensored = x[observed_mask]\n",
    "\n",
    "n_right_censored = int(x_censored.shape[0])\n",
    "n_observed = int(x_uncensored.shape[0])"
   ]
  },
  {
   "cell_type": "code",
   "execution_count": null,
   "id": "dca9e85d",
   "metadata": {},
   "outputs": [],
   "source": [
    "# see https://www.pymc.io/projects/examples/en/latest/survival_analysis/weibull_aft.html\n",
    "def weibull_lccdf(x, alpha, beta):\n",
    "    \"\"\"Log complementary cdf of Weibull distribution.\"\"\"\n",
    "    return -((x / beta) ** alpha)"
   ]
  },
  {
   "cell_type": "code",
   "execution_count": 63,
   "id": "3232ab81",
   "metadata": {},
   "outputs": [
    {
     "name": "stderr",
     "output_type": "stream",
     "text": [
      "Auto-assigning NUTS sampler...\n",
      "Initializing NUTS using jitter+adapt_diag...\n",
      "Multiprocess sampling (4 chains in 4 jobs)\n",
      "NUTS: [beta0, beta1, α]\n"
     ]
    },
    {
     "data": {
      "application/vnd.jupyter.widget-view+json": {
       "model_id": "5b3e7e963f1540159a7954b7d97dd6b9",
       "version_major": 2,
       "version_minor": 0
      },
      "text/plain": [
       "Output()"
      ]
     },
     "metadata": {},
     "output_type": "display_data"
    },
    {
     "data": {
      "text/html": [
       "<pre style=\"white-space:pre;overflow-x:auto;line-height:normal;font-family:Menlo,'DejaVu Sans Mono',consolas,'Courier New',monospace\"></pre>\n"
      ],
      "text/plain": []
     },
     "metadata": {},
     "output_type": "display_data"
    },
    {
     "name": "stderr",
     "output_type": "stream",
     "text": [
      "Sampling 4 chains for 2_000 tune and 10_000 draw iterations (8_000 + 40_000 draws total) took 15 seconds.\n"
     ]
    }
   ],
   "source": [
    "log2 = np.log(2)\n",
    "\n",
    "with pm.Model() as m:\n",
    "    beta0 = pm.Normal(\"beta0\", 0, tau=0.01)\n",
    "    beta1 = pm.Normal(\"beta1\", 0, tau=0.1)\n",
    "    α = pm.Gamma(\"α\", 1, 0.001, initval=0.25)\n",
    "\n",
    "    λ_censored = exp(beta0 + beta1 * x_censored)\n",
    "    β_censored = λ_censored ** (-1 / α)\n",
    "\n",
    "    λ_uncensored = exp(beta0 + beta1 * x_uncensored)\n",
    "    β_uncensored = λ_uncensored ** (-1 / α)\n",
    "\n",
    "    pm.Weibull(\n",
    "        \"observed\",\n",
    "        alpha=α,\n",
    "        beta=β_uncensored,\n",
    "        observed=y_uncensored,\n",
    "        shape=n_observed,\n",
    "    )\n",
    "    pm.Potential(\"censored\", weibull_lccdf(y_censored, α, β_censored))\n",
    "\n",
    "    median0 = pm.Deterministic(\"median0\", (log2 * exp(-beta0)) ** (1 / α))\n",
    "    median1 = pm.Deterministic(\n",
    "        \"median1\", (log2 * exp(-beta0 - beta1)) ** (1 / α)\n",
    "    )\n",
    "\n",
    "    trace = pm.sample(10000, tune=2000, target_accept=0.9)"
   ]
  },
  {
   "cell_type": "code",
   "execution_count": 64,
   "id": "8a7a62db",
   "metadata": {},
   "outputs": [
    {
     "data": {
      "text/html": [
       "<div>\n",
       "<style scoped>\n",
       "    .dataframe tbody tr th:only-of-type {\n",
       "        vertical-align: middle;\n",
       "    }\n",
       "\n",
       "    .dataframe tbody tr th {\n",
       "        vertical-align: top;\n",
       "    }\n",
       "\n",
       "    .dataframe thead th {\n",
       "        text-align: right;\n",
       "    }\n",
       "</style>\n",
       "<table border=\"1\" class=\"dataframe\">\n",
       "  <thead>\n",
       "    <tr style=\"text-align: right;\">\n",
       "      <th></th>\n",
       "      <th>mean</th>\n",
       "      <th>sd</th>\n",
       "      <th>hdi_5%</th>\n",
       "      <th>hdi_95%</th>\n",
       "      <th>mcse_mean</th>\n",
       "      <th>mcse_sd</th>\n",
       "      <th>ess_bulk</th>\n",
       "      <th>ess_tail</th>\n",
       "      <th>r_hat</th>\n",
       "    </tr>\n",
       "  </thead>\n",
       "  <tbody>\n",
       "    <tr>\n",
       "      <th>beta0</th>\n",
       "      <td>-6.768</td>\n",
       "      <td>0.666</td>\n",
       "      <td>-7.842</td>\n",
       "      <td>-5.656</td>\n",
       "      <td>0.006</td>\n",
       "      <td>0.004</td>\n",
       "      <td>13330.0</td>\n",
       "      <td>14984.0</td>\n",
       "      <td>1.0</td>\n",
       "    </tr>\n",
       "    <tr>\n",
       "      <th>beta1</th>\n",
       "      <td>0.262</td>\n",
       "      <td>0.232</td>\n",
       "      <td>-0.121</td>\n",
       "      <td>0.641</td>\n",
       "      <td>0.002</td>\n",
       "      <td>0.001</td>\n",
       "      <td>17578.0</td>\n",
       "      <td>16409.0</td>\n",
       "      <td>1.0</td>\n",
       "    </tr>\n",
       "    <tr>\n",
       "      <th>α</th>\n",
       "      <td>1.025</td>\n",
       "      <td>0.097</td>\n",
       "      <td>0.869</td>\n",
       "      <td>1.187</td>\n",
       "      <td>0.001</td>\n",
       "      <td>0.001</td>\n",
       "      <td>13312.0</td>\n",
       "      <td>15338.0</td>\n",
       "      <td>1.0</td>\n",
       "    </tr>\n",
       "    <tr>\n",
       "      <th>median0</th>\n",
       "      <td>522.726</td>\n",
       "      <td>88.403</td>\n",
       "      <td>376.215</td>\n",
       "      <td>658.102</td>\n",
       "      <td>0.582</td>\n",
       "      <td>0.413</td>\n",
       "      <td>23193.0</td>\n",
       "      <td>26359.0</td>\n",
       "      <td>1.0</td>\n",
       "    </tr>\n",
       "    <tr>\n",
       "      <th>median1</th>\n",
       "      <td>404.411</td>\n",
       "      <td>69.819</td>\n",
       "      <td>292.821</td>\n",
       "      <td>517.047</td>\n",
       "      <td>0.460</td>\n",
       "      <td>0.326</td>\n",
       "      <td>22932.0</td>\n",
       "      <td>25841.0</td>\n",
       "      <td>1.0</td>\n",
       "    </tr>\n",
       "  </tbody>\n",
       "</table>\n",
       "</div>"
      ],
      "text/plain": [
       "            mean      sd   hdi_5%  hdi_95%  mcse_mean  mcse_sd  ess_bulk  \\\n",
       "beta0     -6.768   0.666   -7.842   -5.656      0.006    0.004   13330.0   \n",
       "beta1      0.262   0.232   -0.121    0.641      0.002    0.001   17578.0   \n",
       "α          1.025   0.097    0.869    1.187      0.001    0.001   13312.0   \n",
       "median0  522.726  88.403  376.215  658.102      0.582    0.413   23193.0   \n",
       "median1  404.411  69.819  292.821  517.047      0.460    0.326   22932.0   \n",
       "\n",
       "         ess_tail  r_hat  \n",
       "beta0     14984.0    1.0  \n",
       "beta1     16409.0    1.0  \n",
       "α         15338.0    1.0  \n",
       "median0   26359.0    1.0  \n",
       "median1   25841.0    1.0  "
      ]
     },
     "execution_count": 64,
     "metadata": {},
     "output_type": "execute_result"
    }
   ],
   "source": [
    "az.summary(trace, hdi_prob=0.9)"
   ]
  },
  {
   "cell_type": "markdown",
   "id": "98d25dde",
   "metadata": {},
   "source": [
    "## Old imputed censoring method\n",
    "\n",
    "This method is from an older version of [this notebook](https://www.pymc.io/projects/examples/en/latest/survival_analysis/censored_data.html#censored-data-model1) by [Luis Mario Domenzain](https://github.com/domenzain), [George Ho](https://github.com/eigenfoo), and [Dr. Ben Vincent](https://github.com/drbenvincent). The newer version doesn't work for our purposes at this time, so I'll be on the lookout for another way to do imputed censoring with varying censoring cutoff values.\n",
    "\n",
    "I'm just going to preserve it here for posterity.\n",
    "\n",
    "```{warning}\n",
    "pm.Bound is deprecated, so this method has stopped working.\n",
    "```"
   ]
  },
  {
   "cell_type": "code",
   "execution_count": 15,
   "id": "d8eece9a",
   "metadata": {},
   "outputs": [],
   "source": [
    "data = np.loadtxt(\"../data/gastric.txt\")\n",
    "x = data[:, 0].copy()\n",
    "censored_vals = data[:, 1].copy()\n",
    "y = data[:, 2].copy()\n",
    "\n",
    "# we need to separate the observed values and the censored values\n",
    "observed_mask = censored_vals == 0\n",
    "\n",
    "censored = censored_vals[~observed_mask]\n",
    "y_uncensored = y[observed_mask]\n",
    "x_censored = x[~observed_mask]\n",
    "x_uncensored = x[observed_mask]"
   ]
  },
  {
   "cell_type": "code",
   "execution_count": null,
   "id": "f2ad4328",
   "metadata": {
    "tags": [
     "hide-output"
    ]
   },
   "outputs": [
    {
     "ename": "AttributeError",
     "evalue": "module 'pymc' has no attribute 'Bound'",
     "output_type": "error",
     "traceback": [
      "\u001b[0;31m---------------------------------------------------------------------------\u001b[0m",
      "\u001b[0;31mAttributeError\u001b[0m                            Traceback (most recent call last)",
      "Cell \u001b[0;32mIn[13], line 14\u001b[0m\n\u001b[1;32m     11\u001b[0m λ_uncensored \u001b[38;5;241m=\u001b[39m exp(beta0 \u001b[38;5;241m+\u001b[39m beta1 \u001b[38;5;241m*\u001b[39m x_uncensored)\n\u001b[1;32m     12\u001b[0m β_uncensored \u001b[38;5;241m=\u001b[39m λ_uncensored \u001b[38;5;241m*\u001b[39m\u001b[38;5;241m*\u001b[39m (\u001b[38;5;241m-\u001b[39m\u001b[38;5;241m1\u001b[39m \u001b[38;5;241m/\u001b[39m α)\n\u001b[0;32m---> 14\u001b[0m impute_censored \u001b[38;5;241m=\u001b[39m \u001b[43mpm\u001b[49m\u001b[38;5;241;43m.\u001b[39;49m\u001b[43mBound\u001b[49m(\n\u001b[1;32m     15\u001b[0m     \u001b[38;5;124m\"\u001b[39m\u001b[38;5;124mimpute_censored\u001b[39m\u001b[38;5;124m\"\u001b[39m,\n\u001b[1;32m     16\u001b[0m     pm\u001b[38;5;241m.\u001b[39mWeibull\u001b[38;5;241m.\u001b[39mdist(alpha\u001b[38;5;241m=\u001b[39mα, beta\u001b[38;5;241m=\u001b[39mβ_censored),\n\u001b[1;32m     17\u001b[0m     lower\u001b[38;5;241m=\u001b[39mcensored,\n\u001b[1;32m     18\u001b[0m     shape\u001b[38;5;241m=\u001b[39mcensored\u001b[38;5;241m.\u001b[39mshape[\u001b[38;5;241m0\u001b[39m],\n\u001b[1;32m     19\u001b[0m )\n\u001b[1;32m     21\u001b[0m likelihood \u001b[38;5;241m=\u001b[39m pm\u001b[38;5;241m.\u001b[39mWeibull(\n\u001b[1;32m     22\u001b[0m     \u001b[38;5;124m\"\u001b[39m\u001b[38;5;124mlikelihood\u001b[39m\u001b[38;5;124m\"\u001b[39m,\n\u001b[1;32m     23\u001b[0m     alpha\u001b[38;5;241m=\u001b[39mα,\n\u001b[0;32m   (...)\u001b[0m\n\u001b[1;32m     26\u001b[0m     shape\u001b[38;5;241m=\u001b[39my_uncensored\u001b[38;5;241m.\u001b[39mshape[\u001b[38;5;241m0\u001b[39m],\n\u001b[1;32m     27\u001b[0m )\n\u001b[1;32m     29\u001b[0m median0 \u001b[38;5;241m=\u001b[39m pm\u001b[38;5;241m.\u001b[39mDeterministic(\u001b[38;5;124m\"\u001b[39m\u001b[38;5;124mmedian0\u001b[39m\u001b[38;5;124m\"\u001b[39m, (log2 \u001b[38;5;241m*\u001b[39m exp(\u001b[38;5;241m-\u001b[39mbeta0)) \u001b[38;5;241m*\u001b[39m\u001b[38;5;241m*\u001b[39m (\u001b[38;5;241m1\u001b[39m \u001b[38;5;241m/\u001b[39m α))\n",
      "\u001b[0;31mAttributeError\u001b[0m: module 'pymc' has no attribute 'Bound'"
     ]
    }
   ],
   "source": [
    "log2 = np.log(2)\n",
    "\n",
    "with pm.Model() as m:\n",
    "    beta0 = pm.Normal(\"beta0\", 0, tau=0.0001)\n",
    "    beta1 = pm.Normal(\"beta1\", 0, tau=0.0001)\n",
    "    α = pm.Exponential(\"α\", 3)\n",
    "\n",
    "    λ_censored = exp(beta0 + beta1 * x_censored)\n",
    "    β_censored = λ_censored ** (-1 / α)\n",
    "\n",
    "    λ_uncensored = exp(beta0 + beta1 * x_uncensored)\n",
    "    β_uncensored = λ_uncensored ** (-1 / α)\n",
    "\n",
    "    impute_censored = pm.Bound(\n",
    "        \"impute_censored\",\n",
    "        pm.Weibull.dist(alpha=α, beta=β_censored),\n",
    "        lower=censored,\n",
    "        shape=censored.shape[0],\n",
    "    )\n",
    "\n",
    "    likelihood = pm.Weibull(\n",
    "        \"likelihood\",\n",
    "        alpha=α,\n",
    "        beta=β_uncensored,\n",
    "        observed=y_uncensored,\n",
    "        shape=y_uncensored.shape[0],\n",
    "    )\n",
    "\n",
    "    median0 = pm.Deterministic(\"median0\", (log2 * exp(-beta0)) ** (1 / α))\n",
    "    median1 = pm.Deterministic(\n",
    "        \"median1\", (log2 * exp(-beta0 - beta1)) ** (1 / α)\n",
    "    )\n",
    "\n",
    "    trace = pm.sample(10000, tune=2000, target_accept=0.9)"
   ]
  },
  {
   "cell_type": "code",
   "execution_count": 10,
   "id": "74ec317b",
   "metadata": {
    "tags": [
     "full-width"
    ]
   },
   "outputs": [
    {
     "data": {
      "text/html": [
       "<div>\n",
       "<style scoped>\n",
       "    .dataframe tbody tr th:only-of-type {\n",
       "        vertical-align: middle;\n",
       "    }\n",
       "\n",
       "    .dataframe tbody tr th {\n",
       "        vertical-align: top;\n",
       "    }\n",
       "\n",
       "    .dataframe thead th {\n",
       "        text-align: right;\n",
       "    }\n",
       "</style>\n",
       "<table border=\"1\" class=\"dataframe\">\n",
       "  <thead>\n",
       "    <tr style=\"text-align: right;\">\n",
       "      <th></th>\n",
       "      <th>mean</th>\n",
       "      <th>sd</th>\n",
       "      <th>hdi_5%</th>\n",
       "      <th>hdi_95%</th>\n",
       "    </tr>\n",
       "  </thead>\n",
       "  <tbody>\n",
       "    <tr>\n",
       "      <th>beta0</th>\n",
       "      <td>-6.619</td>\n",
       "      <td>0.654</td>\n",
       "      <td>-7.658</td>\n",
       "      <td>-5.505</td>\n",
       "    </tr>\n",
       "    <tr>\n",
       "      <th>beta1</th>\n",
       "      <td>0.261</td>\n",
       "      <td>0.236</td>\n",
       "      <td>-0.135</td>\n",
       "      <td>0.642</td>\n",
       "    </tr>\n",
       "    <tr>\n",
       "      <th>α</th>\n",
       "      <td>1.002</td>\n",
       "      <td>0.096</td>\n",
       "      <td>0.844</td>\n",
       "      <td>1.158</td>\n",
       "    </tr>\n",
       "    <tr>\n",
       "      <th>impute_censored[0]</th>\n",
       "      <td>1470.516</td>\n",
       "      <td>624.422</td>\n",
       "      <td>882.003</td>\n",
       "      <td>2238.512</td>\n",
       "    </tr>\n",
       "    <tr>\n",
       "      <th>impute_censored[1]</th>\n",
       "      <td>1485.333</td>\n",
       "      <td>638.066</td>\n",
       "      <td>892.025</td>\n",
       "      <td>2267.560</td>\n",
       "    </tr>\n",
       "    <tr>\n",
       "      <th>impute_censored[2]</th>\n",
       "      <td>1623.087</td>\n",
       "      <td>636.271</td>\n",
       "      <td>1031.002</td>\n",
       "      <td>2399.749</td>\n",
       "    </tr>\n",
       "    <tr>\n",
       "      <th>impute_censored[3]</th>\n",
       "      <td>1629.358</td>\n",
       "      <td>644.748</td>\n",
       "      <td>1033.058</td>\n",
       "      <td>2417.048</td>\n",
       "    </tr>\n",
       "    <tr>\n",
       "      <th>impute_censored[4]</th>\n",
       "      <td>1896.556</td>\n",
       "      <td>636.864</td>\n",
       "      <td>1306.001</td>\n",
       "      <td>2680.457</td>\n",
       "    </tr>\n",
       "    <tr>\n",
       "      <th>impute_censored[5]</th>\n",
       "      <td>1927.291</td>\n",
       "      <td>645.113</td>\n",
       "      <td>1335.035</td>\n",
       "      <td>2706.771</td>\n",
       "    </tr>\n",
       "    <tr>\n",
       "      <th>impute_censored[6]</th>\n",
       "      <td>2044.492</td>\n",
       "      <td>647.964</td>\n",
       "      <td>1452.027</td>\n",
       "      <td>2827.988</td>\n",
       "    </tr>\n",
       "    <tr>\n",
       "      <th>impute_censored[7]</th>\n",
       "      <td>2064.511</td>\n",
       "      <td>637.872</td>\n",
       "      <td>1472.006</td>\n",
       "      <td>2851.689</td>\n",
       "    </tr>\n",
       "    <tr>\n",
       "      <th>impute_censored[8]</th>\n",
       "      <td>1144.755</td>\n",
       "      <td>823.971</td>\n",
       "      <td>381.008</td>\n",
       "      <td>2153.162</td>\n",
       "    </tr>\n",
       "    <tr>\n",
       "      <th>impute_censored[9]</th>\n",
       "      <td>1295.370</td>\n",
       "      <td>823.647</td>\n",
       "      <td>529.021</td>\n",
       "      <td>2299.400</td>\n",
       "    </tr>\n",
       "    <tr>\n",
       "      <th>impute_censored[10]</th>\n",
       "      <td>1717.105</td>\n",
       "      <td>832.210</td>\n",
       "      <td>945.080</td>\n",
       "      <td>2742.788</td>\n",
       "    </tr>\n",
       "    <tr>\n",
       "      <th>impute_censored[11]</th>\n",
       "      <td>1948.776</td>\n",
       "      <td>828.073</td>\n",
       "      <td>1180.049</td>\n",
       "      <td>2974.388</td>\n",
       "    </tr>\n",
       "    <tr>\n",
       "      <th>impute_censored[12]</th>\n",
       "      <td>2045.309</td>\n",
       "      <td>839.943</td>\n",
       "      <td>1277.020</td>\n",
       "      <td>3052.989</td>\n",
       "    </tr>\n",
       "    <tr>\n",
       "      <th>impute_censored[13]</th>\n",
       "      <td>2169.509</td>\n",
       "      <td>847.547</td>\n",
       "      <td>1397.058</td>\n",
       "      <td>3197.841</td>\n",
       "    </tr>\n",
       "    <tr>\n",
       "      <th>impute_censored[14]</th>\n",
       "      <td>2286.423</td>\n",
       "      <td>854.267</td>\n",
       "      <td>1512.011</td>\n",
       "      <td>3298.995</td>\n",
       "    </tr>\n",
       "    <tr>\n",
       "      <th>impute_censored[15]</th>\n",
       "      <td>2287.177</td>\n",
       "      <td>829.874</td>\n",
       "      <td>1519.089</td>\n",
       "      <td>3316.162</td>\n",
       "    </tr>\n",
       "    <tr>\n",
       "      <th>median0</th>\n",
       "      <td>520.012</td>\n",
       "      <td>90.909</td>\n",
       "      <td>369.907</td>\n",
       "      <td>658.412</td>\n",
       "    </tr>\n",
       "    <tr>\n",
       "      <th>median1</th>\n",
       "      <td>400.322</td>\n",
       "      <td>70.953</td>\n",
       "      <td>290.464</td>\n",
       "      <td>517.338</td>\n",
       "    </tr>\n",
       "  </tbody>\n",
       "</table>\n",
       "</div>"
      ],
      "text/plain": [
       "                         mean       sd    hdi_5%   hdi_95%\n",
       "beta0                  -6.619    0.654    -7.658    -5.505\n",
       "beta1                   0.261    0.236    -0.135     0.642\n",
       "α                       1.002    0.096     0.844     1.158\n",
       "impute_censored[0]   1470.516  624.422   882.003  2238.512\n",
       "impute_censored[1]   1485.333  638.066   892.025  2267.560\n",
       "impute_censored[2]   1623.087  636.271  1031.002  2399.749\n",
       "impute_censored[3]   1629.358  644.748  1033.058  2417.048\n",
       "impute_censored[4]   1896.556  636.864  1306.001  2680.457\n",
       "impute_censored[5]   1927.291  645.113  1335.035  2706.771\n",
       "impute_censored[6]   2044.492  647.964  1452.027  2827.988\n",
       "impute_censored[7]   2064.511  637.872  1472.006  2851.689\n",
       "impute_censored[8]   1144.755  823.971   381.008  2153.162\n",
       "impute_censored[9]   1295.370  823.647   529.021  2299.400\n",
       "impute_censored[10]  1717.105  832.210   945.080  2742.788\n",
       "impute_censored[11]  1948.776  828.073  1180.049  2974.388\n",
       "impute_censored[12]  2045.309  839.943  1277.020  3052.989\n",
       "impute_censored[13]  2169.509  847.547  1397.058  3197.841\n",
       "impute_censored[14]  2286.423  854.267  1512.011  3298.995\n",
       "impute_censored[15]  2287.177  829.874  1519.089  3316.162\n",
       "median0               520.012   90.909   369.907   658.412\n",
       "median1               400.322   70.953   290.464   517.338"
      ]
     },
     "execution_count": 10,
     "metadata": {},
     "output_type": "execute_result"
    }
   ],
   "source": [
    "az.summary(trace, hdi_prob=0.9, kind=\"stats\")"
   ]
  },
  {
   "cell_type": "code",
   "execution_count": 11,
   "id": "cad87b72",
   "metadata": {},
   "outputs": [
    {
     "name": "stdout",
     "output_type": "stream",
     "text": [
      "Last updated: Wed Mar 22 2023\n",
      "\n",
      "Python implementation: CPython\n",
      "Python version       : 3.11.0\n",
      "IPython version      : 8.9.0\n",
      "\n",
      "pytensor: 2.10.1\n",
      "\n",
      "numpy: 1.24.2\n",
      "arviz: 0.14.0\n",
      "pymc : 5.1.2\n",
      "\n"
     ]
    }
   ],
   "source": [
    "%load_ext watermark\n",
    "%watermark -n -u -v -iv -p pytensor"
   ]
  }
 ],
 "metadata": {
  "kernelspec": {
   "display_name": "pymc_macos15",
   "language": "python",
   "name": "python3"
  },
  "language_info": {
   "codemirror_mode": {
    "name": "ipython",
    "version": 3
   },
   "file_extension": ".py",
   "mimetype": "text/x-python",
   "name": "python",
   "nbconvert_exporter": "python",
   "pygments_lexer": "ipython3",
   "version": "3.12.7"
  }
 },
 "nbformat": 4,
 "nbformat_minor": 5
}
