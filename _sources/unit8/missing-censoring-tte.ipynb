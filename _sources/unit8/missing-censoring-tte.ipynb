{
 "cells": [
  {
   "cell_type": "markdown",
   "id": "a6273b8d-a08e-4118-b1ee-2a18202eaa36",
   "metadata": {},
   "source": [
    "# Missing data, censoring, and time-to-event models\n",
    "\n",
    "placeholder"
   ]
  },
  {
   "cell_type": "code",
   "execution_count": null,
   "id": "c8c8bd1c-b020-4503-a869-941753db3d3a",
   "metadata": {},
   "outputs": [],
   "source": []
  }
 ],
 "metadata": {
  "kernelspec": {
   "display_name": "Python 3 (ipykernel)",
   "language": "python",
   "name": "python3"
  },
  "language_info": {
   "codemirror_mode": {
    "name": "ipython",
    "version": 3
   },
   "file_extension": ".py",
   "mimetype": "text/x-python",
   "name": "python",
   "nbconvert_exporter": "python",
   "pygments_lexer": "ipython3",
   "version": "3.9.10"
  }
 },
 "nbformat": 4,
 "nbformat_minor": 5
}
