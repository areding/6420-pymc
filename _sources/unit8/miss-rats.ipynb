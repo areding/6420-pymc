{
 "cells": [
  {
   "cell_type": "code",
   "execution_count": 1,
   "id": "a63309b2",
   "metadata": {},
   "outputs": [],
   "source": [
    "import arviz as az\n",
    "import numpy as np\n",
    "import pymc as pm\n",
    "from pymc.math import dot, stack, concatenate, exp, invlogit, logit\n",
    "\n",
    "%load_ext lab_black\n",
    "%load_ext watermark"
   ]
  },
  {
   "cell_type": "markdown",
   "id": "ccfa33d9",
   "metadata": {},
   "source": [
    "# Rats\n",
    "\n",
    "This example goes further into dealing with missing data in PyMC, including in the predictor variables.\n",
    "\n",
    "Adapted from [Unit 8: ratsignorable1.odc](https://raw.githubusercontent.com/areding/6420-pymc/main/original_examples/Codes4Unit8/ratsignorable1.odc), [ratsignorable2.odc](https://raw.githubusercontent.com/areding/6420-pymc/main/original_examples/Codes4Unit8/ratsignorable2.odc), and [ratsinformative.odc](https://raw.githubusercontent.com/areding/6420-pymc/main/original_examples/Codes4Unit8/ratsinformative.odc).\n",
    "\n",
    "Data can be found [here](https://raw.githubusercontent.com/areding/6420-pymc/main/data/rats.txt).\n",
    "\n",
    "Associated lecture videos: Unit 8 lesson 2"
   ]
  },
  {
   "cell_type": "markdown",
   "id": "99a80d0a",
   "metadata": {},
   "source": [
    "## Problem statement\n",
    "\n",
    "We had a previous example about [Dugongs](https://areding.github.io/6420-pymc/Unit6-dugongs.html) that dealt with missing data in the observed data (y values). This example shows how to deal with missing data in the input data (x). It's still pretty easy. You could look at it like creating another likelihood in the model, a very simple one where the observed data is x, and you use a single distribution to fill in the missing values (see ```x_imputed``` in the model below).\n",
    "\n",
    "Original paper [here.](https://www.jstor.org/stable/pdf/2289594.pdf)\n",
    "\n",
    "Gelfand et al 1990 consider the problem of missing data, and delete the last observation of cases 6-10, the last two from 11-20, the last 3 from 21-25 and the last 4 from 26-30.  The appropriate data file is obtained by simply replacing data values by NA (see below). The model specification is unchanged, since the distinction between observed and unobserved quantities is made in the data file and not the model specification."
   ]
  },
  {
   "cell_type": "code",
   "execution_count": 2,
   "id": "4bff621e",
   "metadata": {},
   "outputs": [],
   "source": [
    "x = np.array([8.0, 15.0, 22.0, 29.0, 36.0])"
   ]
  },
  {
   "cell_type": "code",
   "execution_count": 3,
   "id": "91d405a7",
   "metadata": {},
   "outputs": [],
   "source": [
    "# import y data and create mask (missing data is represented as nan in the file)\n",
    "y = np.loadtxt(\"../data/rats.txt\")\n",
    "y = np.nan_to_num(y, nan=-1)  # nan to -1\n",
    "y = np.ma.masked_values(y, value=-1)  # create mask"
   ]
  },
  {
   "cell_type": "markdown",
   "id": "97cf67ff-c761-4106-ba98-20d755cf5631",
   "metadata": {},
   "source": [
    "## Model 1\n",
    "\n",
    "This first model we only have missing data in our response variable (y). Notice that I made the shapes of alpha and beta (30, 1) instead of just 30. This is so that they broadcast correctly when combined (```mu = alpha + beta * x```). The NumPy docs have a helpful [page about broadcasting](https://numpy.org/doc/stable/user/basics.broadcasting.html).\n"
   ]
  },
  {
   "cell_type": "code",
   "execution_count": 4,
   "id": "ddac632e",
   "metadata": {
    "tags": [
     "hide-output"
    ]
   },
   "outputs": [
    {
     "name": "stderr",
     "output_type": "stream",
     "text": [
      "/Users/aaron/mambaforge/envs/pymc_env2/lib/python3.11/site-packages/pymc/model.py:1400: ImputationWarning: Data in likelihood contains missing values and will be automatically imputed from the sampling distribution.\n",
      "  warnings.warn(impute_message, ImputationWarning)\n",
      "Auto-assigning NUTS sampler...\n",
      "Initializing NUTS using jitter+adapt_diag_grad...\n",
      "/Users/aaron/mambaforge/envs/pymc_env2/lib/python3.11/site-packages/multipledispatch/dispatcher.py:27: AmbiguityWarning: \n",
      "Ambiguities exist in dispatched function _unify\n",
      "\n",
      "The following signatures may result in ambiguous behavior:\n",
      "\t[object, ConstrainedVar, Mapping], [ConstrainedVar, Var, Mapping]\n",
      "\t[object, ConstrainedVar, Mapping], [ConstrainedVar, object, Mapping]\n",
      "\t[object, ConstrainedVar, Mapping], [ConstrainedVar, object, Mapping]\n",
      "\t[object, ConstrainedVar, Mapping], [ConstrainedVar, Var, Mapping]\n",
      "\n",
      "\n",
      "Consider making the following additions:\n",
      "\n",
      "@dispatch(ConstrainedVar, ConstrainedVar, Mapping)\n",
      "def _unify(...)\n",
      "\n",
      "@dispatch(ConstrainedVar, ConstrainedVar, Mapping)\n",
      "def _unify(...)\n",
      "\n",
      "@dispatch(ConstrainedVar, ConstrainedVar, Mapping)\n",
      "def _unify(...)\n",
      "\n",
      "@dispatch(ConstrainedVar, ConstrainedVar, Mapping)\n",
      "def _unify(...)\n",
      "  warn(warning_text(dispatcher.name, ambiguities), AmbiguityWarning)\n",
      "Multiprocess sampling (4 chains in 4 jobs)\n",
      "NUTS: [alpha_c, alpha_tau, beta_c, beta_tau, alpha, beta, lik_tau, likelihood_missing]\n"
     ]
    },
    {
     "data": {
      "text/html": [
       "\n",
       "<style>\n",
       "    /* Turns off some styling */\n",
       "    progress {\n",
       "        /* gets rid of default border in Firefox and Opera. */\n",
       "        border: none;\n",
       "        /* Needs to be in here for Safari polyfill so background images work as expected. */\n",
       "        background-size: auto;\n",
       "    }\n",
       "    progress:not([value]), progress:not([value])::-webkit-progress-bar {\n",
       "        background: repeating-linear-gradient(45deg, #7e7e7e, #7e7e7e 10px, #5c5c5c 10px, #5c5c5c 20px);\n",
       "    }\n",
       "    .progress-bar-interrupted, .progress-bar-interrupted::-webkit-progress-bar {\n",
       "        background: #F44336;\n",
       "    }\n",
       "</style>\n"
      ],
      "text/plain": [
       "<IPython.core.display.HTML object>"
      ]
     },
     "metadata": {},
     "output_type": "display_data"
    },
    {
     "data": {
      "text/html": [
       "\n",
       "    <div>\n",
       "      <progress value='24000' class='' max='24000' style='width:300px; height:20px; vertical-align: middle;'></progress>\n",
       "      100.00% [24000/24000 13:24&lt;00:00 Sampling 4 chains, 9 divergences]\n",
       "    </div>\n",
       "    "
      ],
      "text/plain": [
       "<IPython.core.display.HTML object>"
      ]
     },
     "metadata": {},
     "output_type": "display_data"
    },
    {
     "name": "stderr",
     "output_type": "stream",
     "text": [
      "Sampling 4 chains for 1_000 tune and 5_000 draw iterations (4_000 + 20_000 draws total) took 820 seconds.\n"
     ]
    }
   ],
   "source": [
    "with pm.Model() as m:\n",
    "    alpha_c = pm.Normal(\"alpha_c\", 0, tau=1e-6)\n",
    "    alpha_tau = pm.Gamma(\"alpha_tau\", 0.001, 0.001)\n",
    "    beta_c = pm.Normal(\"beta_c\", 0, tau=1e-6)\n",
    "    beta_tau = pm.Gamma(\"beta_tau\", 0.001, 0.001)\n",
    "\n",
    "    alpha = pm.Normal(\n",
    "        \"alpha\", alpha_c, tau=alpha_tau, shape=(30, 1)\n",
    "    )  # (30, 1) for broadcasting\n",
    "    beta = pm.Normal(\"beta\", beta_c, tau=beta_tau, shape=(30, 1))\n",
    "    lik_tau = pm.Gamma(\"lik_tau\", 0.001, 0.001)\n",
    "    sigma = pm.Deterministic(\"sigma\", 1 / lik_tau**0.5)\n",
    "\n",
    "    mu = alpha + beta * x\n",
    "\n",
    "    pm.Normal(\"likelihood\", mu, tau=lik_tau, observed=y)\n",
    "\n",
    "    trace = pm.sample(\n",
    "        5000, tune=1000, cores=4, init=\"jitter+adapt_diag_grad\", target_accept=0.9\n",
    "    )"
   ]
  },
  {
   "cell_type": "code",
   "execution_count": 5,
   "id": "c215f8bc",
   "metadata": {
    "tags": []
   },
   "outputs": [
    {
     "data": {
      "text/html": [
       "<div>\n",
       "<style scoped>\n",
       "    .dataframe tbody tr th:only-of-type {\n",
       "        vertical-align: middle;\n",
       "    }\n",
       "\n",
       "    .dataframe tbody tr th {\n",
       "        vertical-align: top;\n",
       "    }\n",
       "\n",
       "    .dataframe thead th {\n",
       "        text-align: right;\n",
       "    }\n",
       "</style>\n",
       "<table border=\"1\" class=\"dataframe\">\n",
       "  <thead>\n",
       "    <tr style=\"text-align: right;\">\n",
       "      <th></th>\n",
       "      <th>mean</th>\n",
       "      <th>sd</th>\n",
       "      <th>hdi_2.5%</th>\n",
       "      <th>hdi_97.5%</th>\n",
       "    </tr>\n",
       "  </thead>\n",
       "  <tbody>\n",
       "    <tr>\n",
       "      <th>alpha_c</th>\n",
       "      <td>101.179</td>\n",
       "      <td>2.291</td>\n",
       "      <td>96.793</td>\n",
       "      <td>105.822</td>\n",
       "    </tr>\n",
       "    <tr>\n",
       "      <th>alpha_tau</th>\n",
       "      <td>7.566</td>\n",
       "      <td>77.385</td>\n",
       "      <td>0.003</td>\n",
       "      <td>0.383</td>\n",
       "    </tr>\n",
       "    <tr>\n",
       "      <th>beta_c</th>\n",
       "      <td>6.569</td>\n",
       "      <td>0.166</td>\n",
       "      <td>6.247</td>\n",
       "      <td>6.897</td>\n",
       "    </tr>\n",
       "    <tr>\n",
       "      <th>beta_tau</th>\n",
       "      <td>2.806</td>\n",
       "      <td>1.198</td>\n",
       "      <td>0.967</td>\n",
       "      <td>5.220</td>\n",
       "    </tr>\n",
       "    <tr>\n",
       "      <th>sigma</th>\n",
       "      <td>6.057</td>\n",
       "      <td>0.695</td>\n",
       "      <td>4.752</td>\n",
       "      <td>7.415</td>\n",
       "    </tr>\n",
       "  </tbody>\n",
       "</table>\n",
       "</div>"
      ],
      "text/plain": [
       "              mean      sd  hdi_2.5%  hdi_97.5%\n",
       "alpha_c    101.179   2.291    96.793    105.822\n",
       "alpha_tau    7.566  77.385     0.003      0.383\n",
       "beta_c       6.569   0.166     6.247      6.897\n",
       "beta_tau     2.806   1.198     0.967      5.220\n",
       "sigma        6.057   0.695     4.752      7.415"
      ]
     },
     "execution_count": 5,
     "metadata": {},
     "output_type": "execute_result"
    }
   ],
   "source": [
    "az.summary(\n",
    "    trace,\n",
    "    hdi_prob=0.95,\n",
    "    var_names=[\"alpha_c\", \"alpha_tau\", \"beta_c\", \"beta_tau\", \"sigma\"],\n",
    "    kind=\"stats\",\n",
    ")"
   ]
  },
  {
   "cell_type": "markdown",
   "id": "a5beaab3",
   "metadata": {
    "tags": []
   },
   "source": [
    "## Model 2: Imputing missing predictor variable data\n",
    "\n",
    "This is the same model, except we now have missing x data."
   ]
  },
  {
   "cell_type": "code",
   "execution_count": 6,
   "id": "fc7494b1",
   "metadata": {},
   "outputs": [],
   "source": [
    "x_miss = np.array([8.0, 15.0, 22.0, -1, 36.0])\n",
    "x_miss = np.ma.masked_values(x_miss, value=-1)"
   ]
  },
  {
   "cell_type": "code",
   "execution_count": 7,
   "id": "f00743b4",
   "metadata": {},
   "outputs": [
    {
     "data": {
      "text/plain": [
       "masked_array(data=[8.0, 15.0, 22.0, --, 36.0],\n",
       "             mask=[False, False, False,  True, False],\n",
       "       fill_value=-1.0)"
      ]
     },
     "execution_count": 7,
     "metadata": {},
     "output_type": "execute_result"
    }
   ],
   "source": [
    "x_miss"
   ]
  },
  {
   "cell_type": "code",
   "execution_count": 8,
   "id": "3c4be27a",
   "metadata": {
    "tags": [
     "hide-output"
    ]
   },
   "outputs": [
    {
     "name": "stderr",
     "output_type": "stream",
     "text": [
      "/Users/aaron/mambaforge/envs/pymc_env2/lib/python3.11/site-packages/pymc/model.py:1400: ImputationWarning: Data in x_imputed contains missing values and will be automatically imputed from the sampling distribution.\n",
      "  warnings.warn(impute_message, ImputationWarning)\n",
      "/Users/aaron/mambaforge/envs/pymc_env2/lib/python3.11/site-packages/pymc/model.py:1400: ImputationWarning: Data in likelihood contains missing values and will be automatically imputed from the sampling distribution.\n",
      "  warnings.warn(impute_message, ImputationWarning)\n",
      "Auto-assigning NUTS sampler...\n",
      "Initializing NUTS using jitter+adapt_diag_grad...\n",
      "Multiprocess sampling (4 chains in 4 jobs)\n",
      "NUTS: [alpha_c, alpha_tau, beta_c, beta_tau, alpha, beta, lik_tau, x_imputed_missing, likelihood_missing]\n"
     ]
    },
    {
     "data": {
      "text/html": [
       "\n",
       "<style>\n",
       "    /* Turns off some styling */\n",
       "    progress {\n",
       "        /* gets rid of default border in Firefox and Opera. */\n",
       "        border: none;\n",
       "        /* Needs to be in here for Safari polyfill so background images work as expected. */\n",
       "        background-size: auto;\n",
       "    }\n",
       "    progress:not([value]), progress:not([value])::-webkit-progress-bar {\n",
       "        background: repeating-linear-gradient(45deg, #7e7e7e, #7e7e7e 10px, #5c5c5c 10px, #5c5c5c 20px);\n",
       "    }\n",
       "    .progress-bar-interrupted, .progress-bar-interrupted::-webkit-progress-bar {\n",
       "        background: #F44336;\n",
       "    }\n",
       "</style>\n"
      ],
      "text/plain": [
       "<IPython.core.display.HTML object>"
      ]
     },
     "metadata": {},
     "output_type": "display_data"
    },
    {
     "data": {
      "text/html": [
       "\n",
       "    <div>\n",
       "      <progress value='24000' class='' max='24000' style='width:300px; height:20px; vertical-align: middle;'></progress>\n",
       "      100.00% [24000/24000 02:24&lt;00:00 Sampling 4 chains, 16 divergences]\n",
       "    </div>\n",
       "    "
      ],
      "text/plain": [
       "<IPython.core.display.HTML object>"
      ]
     },
     "metadata": {},
     "output_type": "display_data"
    },
    {
     "name": "stderr",
     "output_type": "stream",
     "text": [
      "Sampling 4 chains for 1_000 tune and 5_000 draw iterations (4_000 + 20_000 draws total) took 145 seconds.\n"
     ]
    }
   ],
   "source": [
    "with pm.Model() as m:\n",
    "    alpha_c = pm.Normal(\"alpha_c\", 0, tau=1e-6)\n",
    "    alpha_tau = pm.Gamma(\"alpha_tau\", 0.001, 0.001)\n",
    "    beta_c = pm.Normal(\"beta_c\", 0, tau=1e-6)\n",
    "    beta_tau = pm.Gamma(\"beta_tau\", 0.001, 0.001)\n",
    "\n",
    "    alpha = pm.Normal(\"alpha\", alpha_c, tau=alpha_tau, shape=(30, 1))\n",
    "    beta = pm.Normal(\"beta\", beta_c, tau=beta_tau, shape=(30, 1))\n",
    "    lik_tau = pm.Gamma(\"lik_tau\", 0.001, 0.001)\n",
    "    sigma = pm.Deterministic(\"sigma\", 1 / lik_tau**0.5)\n",
    "\n",
    "    x_imputed = pm.TruncatedNormal(\n",
    "        \"x_imputed\", mu=20, sigma=10, lower=0, observed=x_miss\n",
    "    )\n",
    "\n",
    "    mu = alpha + beta * x_imputed\n",
    "\n",
    "    pm.Normal(\"likelihood\", mu, tau=lik_tau, observed=y)\n",
    "\n",
    "    trace_2 = pm.sample(\n",
    "        5000, tune=1000, cores=4, init=\"jitter+adapt_diag_grad\", target_accept=0.9\n",
    "    )"
   ]
  },
  {
   "cell_type": "code",
   "execution_count": 9,
   "id": "928b4518",
   "metadata": {
    "tags": []
   },
   "outputs": [
    {
     "data": {
      "text/html": [
       "<div>\n",
       "<style scoped>\n",
       "    .dataframe tbody tr th:only-of-type {\n",
       "        vertical-align: middle;\n",
       "    }\n",
       "\n",
       "    .dataframe tbody tr th {\n",
       "        vertical-align: top;\n",
       "    }\n",
       "\n",
       "    .dataframe thead th {\n",
       "        text-align: right;\n",
       "    }\n",
       "</style>\n",
       "<table border=\"1\" class=\"dataframe\">\n",
       "  <thead>\n",
       "    <tr style=\"text-align: right;\">\n",
       "      <th></th>\n",
       "      <th>mean</th>\n",
       "      <th>sd</th>\n",
       "      <th>hdi_2.5%</th>\n",
       "      <th>hdi_97.5%</th>\n",
       "    </tr>\n",
       "  </thead>\n",
       "  <tbody>\n",
       "    <tr>\n",
       "      <th>alpha_c</th>\n",
       "      <td>101.897</td>\n",
       "      <td>2.350</td>\n",
       "      <td>97.277</td>\n",
       "      <td>106.482</td>\n",
       "    </tr>\n",
       "    <tr>\n",
       "      <th>beta_c</th>\n",
       "      <td>6.507</td>\n",
       "      <td>0.168</td>\n",
       "      <td>6.175</td>\n",
       "      <td>6.834</td>\n",
       "    </tr>\n",
       "    <tr>\n",
       "      <th>alpha_tau</th>\n",
       "      <td>0.030</td>\n",
       "      <td>0.137</td>\n",
       "      <td>0.003</td>\n",
       "      <td>0.045</td>\n",
       "    </tr>\n",
       "    <tr>\n",
       "      <th>beta_tau</th>\n",
       "      <td>3.004</td>\n",
       "      <td>1.308</td>\n",
       "      <td>0.998</td>\n",
       "      <td>5.560</td>\n",
       "    </tr>\n",
       "    <tr>\n",
       "      <th>lik_tau</th>\n",
       "      <td>0.029</td>\n",
       "      <td>0.006</td>\n",
       "      <td>0.017</td>\n",
       "      <td>0.042</td>\n",
       "    </tr>\n",
       "    <tr>\n",
       "      <th>...</th>\n",
       "      <td>...</td>\n",
       "      <td>...</td>\n",
       "      <td>...</td>\n",
       "      <td>...</td>\n",
       "    </tr>\n",
       "    <tr>\n",
       "      <th>likelihood[29, 0]</th>\n",
       "      <td>153.000</td>\n",
       "      <td>0.000</td>\n",
       "      <td>153.000</td>\n",
       "      <td>153.000</td>\n",
       "    </tr>\n",
       "    <tr>\n",
       "      <th>likelihood[29, 1]</th>\n",
       "      <td>198.652</td>\n",
       "      <td>9.472</td>\n",
       "      <td>179.722</td>\n",
       "      <td>216.815</td>\n",
       "    </tr>\n",
       "    <tr>\n",
       "      <th>likelihood[29, 2]</th>\n",
       "      <td>244.035</td>\n",
       "      <td>12.129</td>\n",
       "      <td>221.067</td>\n",
       "      <td>268.865</td>\n",
       "    </tr>\n",
       "    <tr>\n",
       "      <th>likelihood[29, 3]</th>\n",
       "      <td>292.506</td>\n",
       "      <td>15.797</td>\n",
       "      <td>262.473</td>\n",
       "      <td>324.892</td>\n",
       "    </tr>\n",
       "    <tr>\n",
       "      <th>likelihood[29, 4]</th>\n",
       "      <td>334.755</td>\n",
       "      <td>19.055</td>\n",
       "      <td>297.609</td>\n",
       "      <td>372.444</td>\n",
       "    </tr>\n",
       "  </tbody>\n",
       "</table>\n",
       "<p>162 rows × 4 columns</p>\n",
       "</div>"
      ],
      "text/plain": [
       "                      mean      sd  hdi_2.5%  hdi_97.5%\n",
       "alpha_c            101.897   2.350    97.277    106.482\n",
       "beta_c               6.507   0.168     6.175      6.834\n",
       "alpha_tau            0.030   0.137     0.003      0.045\n",
       "beta_tau             3.004   1.308     0.998      5.560\n",
       "lik_tau              0.029   0.006     0.017      0.042\n",
       "...                    ...     ...       ...        ...\n",
       "likelihood[29, 0]  153.000   0.000   153.000    153.000\n",
       "likelihood[29, 1]  198.652   9.472   179.722    216.815\n",
       "likelihood[29, 2]  244.035  12.129   221.067    268.865\n",
       "likelihood[29, 3]  292.506  15.797   262.473    324.892\n",
       "likelihood[29, 4]  334.755  19.055   297.609    372.444\n",
       "\n",
       "[162 rows x 4 columns]"
      ]
     },
     "execution_count": 9,
     "metadata": {},
     "output_type": "execute_result"
    }
   ],
   "source": [
    "az.summary(\n",
    "    trace_2,\n",
    "    hdi_prob=0.95,\n",
    "    var_names=[\"~alpha\", \"~beta\", \"~likelihood_missing\"],\n",
    "    kind=\"stats\",\n",
    ")"
   ]
  },
  {
   "cell_type": "markdown",
   "id": "1b679604",
   "metadata": {},
   "source": [
    "## Model 3: Non-ignorable missingness\n",
    "\n",
    "Probability of missingness increases approx. at a rate of 1% with increasing the weight."
   ]
  },
  {
   "cell_type": "code",
   "execution_count": 10,
   "id": "06e3cc6b",
   "metadata": {},
   "outputs": [],
   "source": [
    "y = np.atleast_2d(np.array([177.0, 236.0, 285.0, 350.0, -1]))  # original value was 320\n",
    "y = np.ma.masked_values(y, value=-1)  # create masked array\n",
    "# y.mask is equivalent to the \"miss\" array from the professor's example\n",
    "miss = y.mask\n",
    "x = np.array([8.0, 15.0, 22.0, 29.0, 36.0])"
   ]
  },
  {
   "cell_type": "code",
   "execution_count": 11,
   "id": "e747223d",
   "metadata": {
    "tags": [
     "hide-output"
    ]
   },
   "outputs": [
    {
     "name": "stderr",
     "output_type": "stream",
     "text": [
      "/Users/aaron/mambaforge/envs/pymc_env2/lib/python3.11/site-packages/pymc/model.py:1400: ImputationWarning: Data in likelihood contains missing values and will be automatically imputed from the sampling distribution.\n",
      "  warnings.warn(impute_message, ImputationWarning)\n",
      "Auto-assigning NUTS sampler...\n",
      "Initializing NUTS using jitter+adapt_diag_grad...\n",
      "Multiprocess sampling (4 chains in 4 jobs)\n",
      "NUTS: [a, alpha, beta, log_sigma, likelihood_missing]\n"
     ]
    },
    {
     "data": {
      "text/html": [
       "\n",
       "<style>\n",
       "    /* Turns off some styling */\n",
       "    progress {\n",
       "        /* gets rid of default border in Firefox and Opera. */\n",
       "        border: none;\n",
       "        /* Needs to be in here for Safari polyfill so background images work as expected. */\n",
       "        background-size: auto;\n",
       "    }\n",
       "    progress:not([value]), progress:not([value])::-webkit-progress-bar {\n",
       "        background: repeating-linear-gradient(45deg, #7e7e7e, #7e7e7e 10px, #5c5c5c 10px, #5c5c5c 20px);\n",
       "    }\n",
       "    .progress-bar-interrupted, .progress-bar-interrupted::-webkit-progress-bar {\n",
       "        background: #F44336;\n",
       "    }\n",
       "</style>\n"
      ],
      "text/plain": [
       "<IPython.core.display.HTML object>"
      ]
     },
     "metadata": {},
     "output_type": "display_data"
    },
    {
     "data": {
      "text/html": [
       "\n",
       "    <div>\n",
       "      <progress value='24000' class='' max='24000' style='width:300px; height:20px; vertical-align: middle;'></progress>\n",
       "      100.00% [24000/24000 00:12&lt;00:00 Sampling 4 chains, 3,423 divergences]\n",
       "    </div>\n",
       "    "
      ],
      "text/plain": [
       "<IPython.core.display.HTML object>"
      ]
     },
     "metadata": {},
     "output_type": "display_data"
    },
    {
     "name": "stderr",
     "output_type": "stream",
     "text": [
      "Sampling 4 chains for 2_000 tune and 4_000 draw iterations (8_000 + 16_000 draws total) took 14 seconds.\n"
     ]
    }
   ],
   "source": [
    "t = 0.1\n",
    "s = 1 / t  # convert BUGS dlogis tau to s for pymc\n",
    "b = np.log(1.01)\n",
    "\n",
    "with pm.Model() as m:\n",
    "    a = pm.Logistic(\"a\", mu=0, s=s)\n",
    "    alpha = pm.Flat(\"alpha\")\n",
    "    beta = pm.Flat(\"beta\")\n",
    "    log_sigma = pm.Flat(\"log_sigma\")\n",
    "    sigma2 = pm.Deterministic(\"sigma2\", exp(2 * log_sigma))\n",
    "    tau = pm.Deterministic(\"tau\", 1 / sigma2)\n",
    "\n",
    "    mu = pm.Deterministic(\"mu\", alpha + beta * x)\n",
    "    y_imputed = pm.Normal(\"likelihood\", mu, tau=tau, observed=y)\n",
    "\n",
    "    p = pm.Deterministic(\"p\", invlogit(a + b * y_imputed))\n",
    "    pm.Bernoulli(\"missing\", p=p, observed=miss)\n",
    "\n",
    "    trace_3 = pm.sample(4000, tune=2000, init=\"jitter+adapt_diag_grad\")"
   ]
  },
  {
   "cell_type": "code",
   "execution_count": 12,
   "id": "c3e39419",
   "metadata": {},
   "outputs": [
    {
     "data": {
      "text/html": [
       "<div>\n",
       "<style scoped>\n",
       "    .dataframe tbody tr th:only-of-type {\n",
       "        vertical-align: middle;\n",
       "    }\n",
       "\n",
       "    .dataframe tbody tr th {\n",
       "        vertical-align: top;\n",
       "    }\n",
       "\n",
       "    .dataframe thead th {\n",
       "        text-align: right;\n",
       "    }\n",
       "</style>\n",
       "<table border=\"1\" class=\"dataframe\">\n",
       "  <thead>\n",
       "    <tr style=\"text-align: right;\">\n",
       "      <th></th>\n",
       "      <th>mean</th>\n",
       "      <th>sd</th>\n",
       "      <th>hdi_2.5%</th>\n",
       "      <th>hdi_97.5%</th>\n",
       "    </tr>\n",
       "  </thead>\n",
       "  <tbody>\n",
       "    <tr>\n",
       "      <th>a</th>\n",
       "      <td>-4.630</td>\n",
       "      <td>1.357</td>\n",
       "      <td>-7.432</td>\n",
       "      <td>-2.461</td>\n",
       "    </tr>\n",
       "    <tr>\n",
       "      <th>alpha</th>\n",
       "      <td>110.460</td>\n",
       "      <td>25.817</td>\n",
       "      <td>81.420</td>\n",
       "      <td>135.832</td>\n",
       "    </tr>\n",
       "    <tr>\n",
       "      <th>beta</th>\n",
       "      <td>8.211</td>\n",
       "      <td>1.326</td>\n",
       "      <td>6.840</td>\n",
       "      <td>9.547</td>\n",
       "    </tr>\n",
       "    <tr>\n",
       "      <th>log_sigma</th>\n",
       "      <td>1.803</td>\n",
       "      <td>0.682</td>\n",
       "      <td>0.834</td>\n",
       "      <td>3.107</td>\n",
       "    </tr>\n",
       "    <tr>\n",
       "      <th>likelihood_missing[0]</th>\n",
       "      <td>406.941</td>\n",
       "      <td>34.115</td>\n",
       "      <td>375.358</td>\n",
       "      <td>440.485</td>\n",
       "    </tr>\n",
       "    <tr>\n",
       "      <th>sigma2</th>\n",
       "      <td>254.218</td>\n",
       "      <td>2921.850</td>\n",
       "      <td>2.254</td>\n",
       "      <td>441.676</td>\n",
       "    </tr>\n",
       "    <tr>\n",
       "      <th>tau</th>\n",
       "      <td>0.050</td>\n",
       "      <td>0.046</td>\n",
       "      <td>0.001</td>\n",
       "      <td>0.136</td>\n",
       "    </tr>\n",
       "    <tr>\n",
       "      <th>mu[0]</th>\n",
       "      <td>176.147</td>\n",
       "      <td>15.842</td>\n",
       "      <td>158.079</td>\n",
       "      <td>193.091</td>\n",
       "    </tr>\n",
       "    <tr>\n",
       "      <th>mu[1]</th>\n",
       "      <td>233.624</td>\n",
       "      <td>8.483</td>\n",
       "      <td>222.348</td>\n",
       "      <td>244.786</td>\n",
       "    </tr>\n",
       "    <tr>\n",
       "      <th>mu[2]</th>\n",
       "      <td>291.101</td>\n",
       "      <td>8.078</td>\n",
       "      <td>279.725</td>\n",
       "      <td>301.914</td>\n",
       "    </tr>\n",
       "    <tr>\n",
       "      <th>mu[3]</th>\n",
       "      <td>348.577</td>\n",
       "      <td>15.194</td>\n",
       "      <td>331.342</td>\n",
       "      <td>365.613</td>\n",
       "    </tr>\n",
       "    <tr>\n",
       "      <th>mu[4]</th>\n",
       "      <td>406.054</td>\n",
       "      <td>23.849</td>\n",
       "      <td>382.924</td>\n",
       "      <td>433.884</td>\n",
       "    </tr>\n",
       "    <tr>\n",
       "      <th>likelihood[0, 0]</th>\n",
       "      <td>177.000</td>\n",
       "      <td>0.000</td>\n",
       "      <td>177.000</td>\n",
       "      <td>177.000</td>\n",
       "    </tr>\n",
       "    <tr>\n",
       "      <th>likelihood[0, 1]</th>\n",
       "      <td>236.000</td>\n",
       "      <td>0.000</td>\n",
       "      <td>236.000</td>\n",
       "      <td>236.000</td>\n",
       "    </tr>\n",
       "    <tr>\n",
       "      <th>likelihood[0, 2]</th>\n",
       "      <td>285.000</td>\n",
       "      <td>0.000</td>\n",
       "      <td>285.000</td>\n",
       "      <td>285.000</td>\n",
       "    </tr>\n",
       "    <tr>\n",
       "      <th>likelihood[0, 3]</th>\n",
       "      <td>350.000</td>\n",
       "      <td>0.000</td>\n",
       "      <td>350.000</td>\n",
       "      <td>350.000</td>\n",
       "    </tr>\n",
       "    <tr>\n",
       "      <th>likelihood[0, 4]</th>\n",
       "      <td>406.941</td>\n",
       "      <td>34.115</td>\n",
       "      <td>375.358</td>\n",
       "      <td>440.485</td>\n",
       "    </tr>\n",
       "    <tr>\n",
       "      <th>p[0, 0]</th>\n",
       "      <td>0.091</td>\n",
       "      <td>0.087</td>\n",
       "      <td>0.000</td>\n",
       "      <td>0.264</td>\n",
       "    </tr>\n",
       "    <tr>\n",
       "      <th>p[0, 1]</th>\n",
       "      <td>0.144</td>\n",
       "      <td>0.124</td>\n",
       "      <td>0.000</td>\n",
       "      <td>0.392</td>\n",
       "    </tr>\n",
       "    <tr>\n",
       "      <th>p[0, 2]</th>\n",
       "      <td>0.203</td>\n",
       "      <td>0.159</td>\n",
       "      <td>0.000</td>\n",
       "      <td>0.512</td>\n",
       "    </tr>\n",
       "    <tr>\n",
       "      <th>p[0, 3]</th>\n",
       "      <td>0.303</td>\n",
       "      <td>0.204</td>\n",
       "      <td>0.009</td>\n",
       "      <td>0.675</td>\n",
       "    </tr>\n",
       "    <tr>\n",
       "      <th>p[0, 4]</th>\n",
       "      <td>0.404</td>\n",
       "      <td>0.233</td>\n",
       "      <td>0.013</td>\n",
       "      <td>0.786</td>\n",
       "    </tr>\n",
       "  </tbody>\n",
       "</table>\n",
       "</div>"
      ],
      "text/plain": [
       "                          mean        sd  hdi_2.5%  hdi_97.5%\n",
       "a                       -4.630     1.357    -7.432     -2.461\n",
       "alpha                  110.460    25.817    81.420    135.832\n",
       "beta                     8.211     1.326     6.840      9.547\n",
       "log_sigma                1.803     0.682     0.834      3.107\n",
       "likelihood_missing[0]  406.941    34.115   375.358    440.485\n",
       "sigma2                 254.218  2921.850     2.254    441.676\n",
       "tau                      0.050     0.046     0.001      0.136\n",
       "mu[0]                  176.147    15.842   158.079    193.091\n",
       "mu[1]                  233.624     8.483   222.348    244.786\n",
       "mu[2]                  291.101     8.078   279.725    301.914\n",
       "mu[3]                  348.577    15.194   331.342    365.613\n",
       "mu[4]                  406.054    23.849   382.924    433.884\n",
       "likelihood[0, 0]       177.000     0.000   177.000    177.000\n",
       "likelihood[0, 1]       236.000     0.000   236.000    236.000\n",
       "likelihood[0, 2]       285.000     0.000   285.000    285.000\n",
       "likelihood[0, 3]       350.000     0.000   350.000    350.000\n",
       "likelihood[0, 4]       406.941    34.115   375.358    440.485\n",
       "p[0, 0]                  0.091     0.087     0.000      0.264\n",
       "p[0, 1]                  0.144     0.124     0.000      0.392\n",
       "p[0, 2]                  0.203     0.159     0.000      0.512\n",
       "p[0, 3]                  0.303     0.204     0.009      0.675\n",
       "p[0, 4]                  0.404     0.233     0.013      0.786"
      ]
     },
     "execution_count": 12,
     "metadata": {},
     "output_type": "execute_result"
    }
   ],
   "source": [
    "az.summary(trace_3, hdi_prob=0.95, kind=\"stats\")"
   ]
  },
  {
   "cell_type": "code",
   "execution_count": 13,
   "id": "ee233ebe",
   "metadata": {},
   "outputs": [
    {
     "name": "stdout",
     "output_type": "stream",
     "text": [
      "Last updated: Fri Feb 03 2023\n",
      "\n",
      "Python implementation: CPython\n",
      "Python version       : 3.11.0\n",
      "IPython version      : 8.9.0\n",
      "\n",
      "aesara: 2.8.10\n",
      "aeppl : 0.1.1\n",
      "\n",
      "numpy: 1.24.1\n",
      "pymc : 5.0.1\n",
      "arviz: 0.14.0\n",
      "\n"
     ]
    }
   ],
   "source": [
    "%watermark -n -u -v -iv -p aesara,aeppl"
   ]
  },
  {
   "cell_type": "code",
   "execution_count": null,
   "id": "66049290",
   "metadata": {},
   "outputs": [],
   "source": []
  }
 ],
 "metadata": {
  "kernelspec": {
   "display_name": "Python 3 (ipykernel)",
   "language": "python",
   "name": "python3"
  },
  "language_info": {
   "codemirror_mode": {
    "name": "ipython",
    "version": 3
   },
   "file_extension": ".py",
   "mimetype": "text/x-python",
   "name": "python",
   "nbconvert_exporter": "python",
   "pygments_lexer": "ipython3",
   "version": "3.11.0"
  }
 },
 "nbformat": 4,
 "nbformat_minor": 5
}
