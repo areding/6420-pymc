{
 "cells": [
  {
   "cell_type": "code",
   "execution_count": 1,
   "id": "a63309b2",
   "metadata": {},
   "outputs": [],
   "source": [
    "import arviz as az\n",
    "import numpy as np\n",
    "import pymc as pm\n",
    "from pymc.math import dot, stack, concatenate, exp, invlogit"
   ]
  },
  {
   "cell_type": "markdown",
   "id": "ccfa33d9",
   "metadata": {},
   "source": [
    "# 2. Rats Example with Missing Data*\n",
    "\n",
    "This example goes further into dealing with missing data in PyMC, including in the predictor variables.\n",
    "\n",
    "Adapted from [Unit 8: ratsignorable1.odc](https://raw.githubusercontent.com/areding/6420-pymc/main/original_examples/Codes4Unit8/ratsignorable1.odc), [ratsignorable2.odc](https://raw.githubusercontent.com/areding/6420-pymc/main/original_examples/Codes4Unit8/ratsignorable2.odc), and [ratsinformative.odc](https://raw.githubusercontent.com/areding/6420-pymc/main/original_examples/Codes4Unit8/ratsinformative.odc).\n",
    "\n",
    "Data can be found [here](https://raw.githubusercontent.com/areding/6420-pymc/main/data/rats.txt)."
   ]
  },
  {
   "cell_type": "markdown",
   "id": "99a80d0a",
   "metadata": {},
   "source": [
    "## Problem statement\n",
    "\n",
    "We had a previous example about [dugongs](https://areding.github.io/6420-pymc/Unit6-dugongs.html) that dealt with missing data in the observed data (y values). This example shows how to deal with missing data in the input data (x). It's still pretty easy. You could look at it like creating another likelihood in the model, a very simple one where the observed data is x, and you use a single distribution to fill in the missing values (see ```x_imputed``` in the model below).\n",
    "\n",
    "Original paper [here.](https://www.jstor.org/stable/pdf/2289594.pdf)\n",
    "\n",
    "Gelfand et al 1990 consider the problem of missing data, and delete the last observation of cases 6-10, the last two from 11-20, the last 3 from 21-25 and the last 4 from 26-30.  The appropriate data file is obtained by simply replacing data values by NA (see below). The model specification is unchanged, since the distinction between observed and unobserved quantities is made in the data file and not the model specification."
   ]
  },
  {
   "cell_type": "code",
   "execution_count": 2,
   "id": "4bff621e",
   "metadata": {},
   "outputs": [],
   "source": [
    "x = np.array([8.0, 15.0, 22.0, 29.0, 36.0])"
   ]
  },
  {
   "cell_type": "code",
   "execution_count": 3,
   "id": "91d405a7",
   "metadata": {},
   "outputs": [
    {
     "data": {
      "text/plain": [
       "array([[151., 199., 246., 283., 320.],\n",
       "       [145., 199., 249., 293., 354.],\n",
       "       [147., 214., 263., 312., 328.],\n",
       "       [155., 200., 237., 272., 297.],\n",
       "       [135., 188., 230., 280., 323.],\n",
       "       [159., 210., 252., 298.,  nan],\n",
       "       [141., 189., 231., 275.,  nan],\n",
       "       [159., 201., 248., 297.,  nan],\n",
       "       [177., 236., 285., 350.,  nan],\n",
       "       [134., 182., 220., 260.,  nan],\n",
       "       [160., 208., 261., 313.,  nan],\n",
       "       [143., 188., 220.,  nan,  nan],\n",
       "       [154., 200., 244.,  nan,  nan],\n",
       "       [171., 221., 270.,  nan,  nan],\n",
       "       [163., 216., 242.,  nan,  nan],\n",
       "       [160., 207., 248.,  nan,  nan],\n",
       "       [142., 187., 234.,  nan,  nan],\n",
       "       [156., 203., 243.,  nan,  nan],\n",
       "       [157., 212., 259.,  nan,  nan],\n",
       "       [152., 203., 246.,  nan,  nan],\n",
       "       [154., 205., 253.,  nan,  nan],\n",
       "       [139., 190.,  nan,  nan,  nan],\n",
       "       [146., 191.,  nan,  nan,  nan],\n",
       "       [157., 211.,  nan,  nan,  nan],\n",
       "       [132., 185.,  nan,  nan,  nan],\n",
       "       [160.,  nan,  nan,  nan,  nan],\n",
       "       [169.,  nan,  nan,  nan,  nan],\n",
       "       [157.,  nan,  nan,  nan,  nan],\n",
       "       [137.,  nan,  nan,  nan,  nan],\n",
       "       [153.,  nan,  nan,  nan,  nan]])"
      ]
     },
     "execution_count": 3,
     "metadata": {},
     "output_type": "execute_result"
    }
   ],
   "source": [
    "# import y data and create mask (missing data is represented as nan in the file)\n",
    "y = np.loadtxt(\"../data/rats.txt\")\n",
    "y"
   ]
  },
  {
   "cell_type": "markdown",
   "id": "97cf67ff-c761-4106-ba98-20d755cf5631",
   "metadata": {},
   "source": [
    "## Model 1\n",
    "\n",
    "This first model we only have missing data in our response variable (y). Notice that I made the shapes of alpha and beta (30, 1) instead of just 30. This is so that they broadcast correctly when combined (```mu = alpha + beta * x```). The NumPy docs have a helpful [page about broadcasting](https://numpy.org/doc/stable/user/basics.broadcasting.html).\n"
   ]
  },
  {
   "cell_type": "code",
   "execution_count": 5,
   "id": "ddac632e",
   "metadata": {
    "tags": [
     "hide-output"
    ]
   },
   "outputs": [
    {
     "name": "stderr",
     "output_type": "stream",
     "text": [
      "/Users/aaron/miniforge3/envs/pymc_macos15/lib/python3.12/site-packages/pymc/model/core.py:1278: ImputationWarning: Data in likelihood contains missing values and will be automatically imputed from the sampling distribution.\n",
      "  warnings.warn(impute_message, ImputationWarning)\n",
      "Auto-assigning NUTS sampler...\n",
      "Initializing NUTS using jitter+adapt_diag_grad...\n",
      "Multiprocess sampling (4 chains in 4 jobs)\n",
      "NUTS: [alpha_c, alpha_tau, beta_c, beta_tau, alpha, beta, lik_tau, likelihood_unobserved]\n"
     ]
    },
    {
     "data": {
      "application/vnd.jupyter.widget-view+json": {
       "model_id": "586bbda4124b4e8c878170c95ae2d657",
       "version_major": 2,
       "version_minor": 0
      },
      "text/plain": [
       "Output()"
      ]
     },
     "metadata": {},
     "output_type": "display_data"
    },
    {
     "data": {
      "text/html": [
       "<pre style=\"white-space:pre;overflow-x:auto;line-height:normal;font-family:Menlo,'DejaVu Sans Mono',consolas,'Courier New',monospace\"></pre>\n"
      ],
      "text/plain": []
     },
     "metadata": {},
     "output_type": "display_data"
    },
    {
     "name": "stderr",
     "output_type": "stream",
     "text": [
      "Sampling 4 chains for 4_000 tune and 5_000 draw iterations (16_000 + 20_000 draws total) took 119 seconds.\n",
      "There were 1 divergences after tuning. Increase `target_accept` or reparameterize.\n"
     ]
    }
   ],
   "source": [
    "prior_tau = 1e-4\n",
    "\n",
    "with pm.Model() as m:\n",
    "    alpha_c = pm.Normal(\"alpha_c\", 0, tau=prior_tau)\n",
    "    alpha_tau = pm.Gamma(\"alpha_tau\", 0.001, 0.001)\n",
    "    beta_c = pm.Normal(\"beta_c\", 0, tau=prior_tau)\n",
    "    beta_tau = pm.Gamma(\"beta_tau\", 0.001, 0.001)\n",
    "\n",
    "    alpha = pm.Normal(\n",
    "        \"alpha\", alpha_c, tau=alpha_tau, shape=(30, 1)\n",
    "    )  # (30, 1) for broadcasting\n",
    "    beta = pm.Normal(\"beta\", beta_c, tau=beta_tau, shape=(30, 1))\n",
    "    lik_tau = pm.Gamma(\"lik_tau\", 0.001, 0.001)\n",
    "    sigma = pm.Deterministic(\"sigma\", 1 / lik_tau**0.5)\n",
    "\n",
    "    mu = alpha + beta * x\n",
    "\n",
    "    pm.Normal(\"likelihood\", mu, tau=lik_tau, observed=y)\n",
    "\n",
    "    trace = pm.sample(\n",
    "        5000,\n",
    "        tune=4000,\n",
    "        init=\"jitter+adapt_diag_grad\",\n",
    "        target_accept=0.95,\n",
    "    )"
   ]
  },
  {
   "cell_type": "code",
   "execution_count": 6,
   "id": "c215f8bc",
   "metadata": {
    "tags": []
   },
   "outputs": [
    {
     "data": {
      "text/html": [
       "<div>\n",
       "<style scoped>\n",
       "    .dataframe tbody tr th:only-of-type {\n",
       "        vertical-align: middle;\n",
       "    }\n",
       "\n",
       "    .dataframe tbody tr th {\n",
       "        vertical-align: top;\n",
       "    }\n",
       "\n",
       "    .dataframe thead th {\n",
       "        text-align: right;\n",
       "    }\n",
       "</style>\n",
       "<table border=\"1\" class=\"dataframe\">\n",
       "  <thead>\n",
       "    <tr style=\"text-align: right;\">\n",
       "      <th></th>\n",
       "      <th>mean</th>\n",
       "      <th>sd</th>\n",
       "      <th>hdi_2.5%</th>\n",
       "      <th>hdi_97.5%</th>\n",
       "    </tr>\n",
       "  </thead>\n",
       "  <tbody>\n",
       "    <tr>\n",
       "      <th>alpha_c</th>\n",
       "      <td>101.166</td>\n",
       "      <td>2.325</td>\n",
       "      <td>96.433</td>\n",
       "      <td>105.610</td>\n",
       "    </tr>\n",
       "    <tr>\n",
       "      <th>alpha_tau</th>\n",
       "      <td>0.023</td>\n",
       "      <td>0.064</td>\n",
       "      <td>0.004</td>\n",
       "      <td>0.046</td>\n",
       "    </tr>\n",
       "    <tr>\n",
       "      <th>beta_c</th>\n",
       "      <td>6.570</td>\n",
       "      <td>0.166</td>\n",
       "      <td>6.234</td>\n",
       "      <td>6.890</td>\n",
       "    </tr>\n",
       "    <tr>\n",
       "      <th>beta_tau</th>\n",
       "      <td>2.885</td>\n",
       "      <td>1.194</td>\n",
       "      <td>0.988</td>\n",
       "      <td>5.262</td>\n",
       "    </tr>\n",
       "    <tr>\n",
       "      <th>sigma</th>\n",
       "      <td>6.011</td>\n",
       "      <td>0.649</td>\n",
       "      <td>4.760</td>\n",
       "      <td>7.263</td>\n",
       "    </tr>\n",
       "  </tbody>\n",
       "</table>\n",
       "</div>"
      ],
      "text/plain": [
       "              mean     sd  hdi_2.5%  hdi_97.5%\n",
       "alpha_c    101.166  2.325    96.433    105.610\n",
       "alpha_tau    0.023  0.064     0.004      0.046\n",
       "beta_c       6.570  0.166     6.234      6.890\n",
       "beta_tau     2.885  1.194     0.988      5.262\n",
       "sigma        6.011  0.649     4.760      7.263"
      ]
     },
     "execution_count": 6,
     "metadata": {},
     "output_type": "execute_result"
    }
   ],
   "source": [
    "az.summary(\n",
    "    trace,\n",
    "    hdi_prob=0.95,\n",
    "    var_names=[\"alpha_c\", \"alpha_tau\", \"beta_c\", \"beta_tau\", \"sigma\"],\n",
    "    kind=\"stats\",\n",
    ")"
   ]
  },
  {
   "cell_type": "markdown",
   "id": "a5beaab3",
   "metadata": {
    "tags": []
   },
   "source": [
    "## Model 2: Imputing missing predictor variable data\n",
    "\n",
    "This is the same model, except we now have missing x data."
   ]
  },
  {
   "cell_type": "code",
   "execution_count": 7,
   "id": "fc7494b1",
   "metadata": {},
   "outputs": [],
   "source": [
    "x_miss = np.array([8.0, 15.0, 22.0, np.nan, 36.0])"
   ]
  },
  {
   "cell_type": "code",
   "execution_count": 8,
   "id": "f00743b4",
   "metadata": {},
   "outputs": [
    {
     "data": {
      "text/plain": [
       "array([ 8., 15., 22., nan, 36.])"
      ]
     },
     "execution_count": 8,
     "metadata": {},
     "output_type": "execute_result"
    }
   ],
   "source": [
    "x_miss"
   ]
  },
  {
   "cell_type": "code",
   "execution_count": 12,
   "id": "3c4be27a",
   "metadata": {
    "tags": [
     "hide-output"
    ]
   },
   "outputs": [
    {
     "name": "stderr",
     "output_type": "stream",
     "text": [
      "/Users/aaron/miniforge3/envs/pymc_macos15/lib/python3.12/site-packages/pymc/model/core.py:1278: ImputationWarning: Data in x_imputed contains missing values and will be automatically imputed from the sampling distribution.\n",
      "  warnings.warn(impute_message, ImputationWarning)\n",
      "/Users/aaron/miniforge3/envs/pymc_macos15/lib/python3.12/site-packages/pymc/model/core.py:1278: ImputationWarning: Data in likelihood contains missing values and will be automatically imputed from the sampling distribution.\n",
      "  warnings.warn(impute_message, ImputationWarning)\n",
      "Auto-assigning NUTS sampler...\n",
      "Initializing NUTS using jitter+adapt_diag_grad...\n",
      "Multiprocess sampling (4 chains in 4 jobs)\n",
      "NUTS: [alpha_c, alpha_tau, beta_c, beta_tau, alpha, beta, lik_tau, x_imputed_unobserved, likelihood_unobserved]\n"
     ]
    },
    {
     "data": {
      "application/vnd.jupyter.widget-view+json": {
       "model_id": "be2bef36a4c04fa7b168b0c32271aa32",
       "version_major": 2,
       "version_minor": 0
      },
      "text/plain": [
       "Output()"
      ]
     },
     "metadata": {},
     "output_type": "display_data"
    },
    {
     "data": {
      "text/html": [
       "<pre style=\"white-space:pre;overflow-x:auto;line-height:normal;font-family:Menlo,'DejaVu Sans Mono',consolas,'Courier New',monospace\"></pre>\n"
      ],
      "text/plain": []
     },
     "metadata": {},
     "output_type": "display_data"
    },
    {
     "name": "stderr",
     "output_type": "stream",
     "text": [
      "Sampling 4 chains for 4_000 tune and 5_000 draw iterations (16_000 + 20_000 draws total) took 90 seconds.\n",
      "There were 69 divergences after tuning. Increase `target_accept` or reparameterize.\n"
     ]
    }
   ],
   "source": [
    "prior_tau = 1e-4\n",
    "\n",
    "with pm.Model() as m:\n",
    "    alpha_c = pm.Normal(\"alpha_c\", 0, tau=prior_tau)\n",
    "    alpha_tau = pm.Gamma(\"alpha_tau\", 0.001, 0.001)\n",
    "    beta_c = pm.Normal(\"beta_c\", 0, tau=prior_tau)\n",
    "    beta_tau = pm.Gamma(\"beta_tau\", 0.001, 0.001)\n",
    "\n",
    "    alpha = pm.Normal(\"alpha\", alpha_c, tau=alpha_tau, shape=(30, 1))\n",
    "    beta = pm.Normal(\"beta\", beta_c, tau=beta_tau, shape=(30, 1))\n",
    "    lik_tau = pm.Gamma(\"lik_tau\", 0.001, 0.001)\n",
    "    sigma = pm.Deterministic(\"sigma\", 1 / lik_tau**0.5)\n",
    "\n",
    "    x_imputed = pm.Normal(\"x_imputed\", mu=20, sigma=5, observed=x_miss)\n",
    "\n",
    "    mu = alpha + beta * x_imputed\n",
    "\n",
    "    pm.Normal(\"likelihood\", mu, tau=lik_tau, observed=y)\n",
    "\n",
    "    trace_2 = pm.sample(\n",
    "        5000, tune=4000, init=\"jitter+adapt_diag_grad\", target_accept=0.87\n",
    "    )"
   ]
  },
  {
   "cell_type": "code",
   "execution_count": 13,
   "id": "928b4518",
   "metadata": {
    "tags": []
   },
   "outputs": [
    {
     "name": "stderr",
     "output_type": "stream",
     "text": [
      "/Users/aaron/miniforge3/envs/pymc_macos15/lib/python3.12/site-packages/arviz/stats/diagnostics.py:596: RuntimeWarning: invalid value encountered in scalar divide\n",
      "  (between_chain_variance / within_chain_variance + num_samples - 1) / (num_samples)\n",
      "/Users/aaron/miniforge3/envs/pymc_macos15/lib/python3.12/site-packages/arviz/stats/diagnostics.py:596: RuntimeWarning: invalid value encountered in scalar divide\n",
      "  (between_chain_variance / within_chain_variance + num_samples - 1) / (num_samples)\n"
     ]
    },
    {
     "data": {
      "text/html": [
       "<div>\n",
       "<style scoped>\n",
       "    .dataframe tbody tr th:only-of-type {\n",
       "        vertical-align: middle;\n",
       "    }\n",
       "\n",
       "    .dataframe tbody tr th {\n",
       "        vertical-align: top;\n",
       "    }\n",
       "\n",
       "    .dataframe thead th {\n",
       "        text-align: right;\n",
       "    }\n",
       "</style>\n",
       "<table border=\"1\" class=\"dataframe\">\n",
       "  <thead>\n",
       "    <tr style=\"text-align: right;\">\n",
       "      <th></th>\n",
       "      <th>mean</th>\n",
       "      <th>sd</th>\n",
       "      <th>hdi_2.5%</th>\n",
       "      <th>hdi_97.5%</th>\n",
       "      <th>mcse_mean</th>\n",
       "      <th>mcse_sd</th>\n",
       "      <th>ess_bulk</th>\n",
       "      <th>ess_tail</th>\n",
       "      <th>r_hat</th>\n",
       "    </tr>\n",
       "  </thead>\n",
       "  <tbody>\n",
       "    <tr>\n",
       "      <th>x_imputed[0]</th>\n",
       "      <td>8.000</td>\n",
       "      <td>0.000</td>\n",
       "      <td>8.0</td>\n",
       "      <td>8.00</td>\n",
       "      <td>0.000</td>\n",
       "      <td>0.000</td>\n",
       "      <td>20000.0</td>\n",
       "      <td>20000.0</td>\n",
       "      <td>NaN</td>\n",
       "    </tr>\n",
       "    <tr>\n",
       "      <th>x_imputed[1]</th>\n",
       "      <td>15.000</td>\n",
       "      <td>0.000</td>\n",
       "      <td>15.0</td>\n",
       "      <td>15.00</td>\n",
       "      <td>0.000</td>\n",
       "      <td>0.000</td>\n",
       "      <td>20000.0</td>\n",
       "      <td>20000.0</td>\n",
       "      <td>NaN</td>\n",
       "    </tr>\n",
       "    <tr>\n",
       "      <th>x_imputed[2]</th>\n",
       "      <td>22.000</td>\n",
       "      <td>0.000</td>\n",
       "      <td>22.0</td>\n",
       "      <td>22.00</td>\n",
       "      <td>0.000</td>\n",
       "      <td>0.000</td>\n",
       "      <td>20000.0</td>\n",
       "      <td>20000.0</td>\n",
       "      <td>NaN</td>\n",
       "    </tr>\n",
       "    <tr>\n",
       "      <th>x_imputed[3]</th>\n",
       "      <td>29.455</td>\n",
       "      <td>0.382</td>\n",
       "      <td>28.7</td>\n",
       "      <td>30.19</td>\n",
       "      <td>0.002</td>\n",
       "      <td>0.002</td>\n",
       "      <td>24069.0</td>\n",
       "      <td>9300.0</td>\n",
       "      <td>1.0</td>\n",
       "    </tr>\n",
       "    <tr>\n",
       "      <th>x_imputed[4]</th>\n",
       "      <td>36.000</td>\n",
       "      <td>0.000</td>\n",
       "      <td>36.0</td>\n",
       "      <td>36.00</td>\n",
       "      <td>0.000</td>\n",
       "      <td>0.000</td>\n",
       "      <td>20000.0</td>\n",
       "      <td>20000.0</td>\n",
       "      <td>NaN</td>\n",
       "    </tr>\n",
       "  </tbody>\n",
       "</table>\n",
       "</div>"
      ],
      "text/plain": [
       "                mean     sd  hdi_2.5%  hdi_97.5%  mcse_mean  mcse_sd  \\\n",
       "x_imputed[0]   8.000  0.000       8.0       8.00      0.000    0.000   \n",
       "x_imputed[1]  15.000  0.000      15.0      15.00      0.000    0.000   \n",
       "x_imputed[2]  22.000  0.000      22.0      22.00      0.000    0.000   \n",
       "x_imputed[3]  29.455  0.382      28.7      30.19      0.002    0.002   \n",
       "x_imputed[4]  36.000  0.000      36.0      36.00      0.000    0.000   \n",
       "\n",
       "              ess_bulk  ess_tail  r_hat  \n",
       "x_imputed[0]   20000.0   20000.0    NaN  \n",
       "x_imputed[1]   20000.0   20000.0    NaN  \n",
       "x_imputed[2]   20000.0   20000.0    NaN  \n",
       "x_imputed[3]   24069.0    9300.0    1.0  \n",
       "x_imputed[4]   20000.0   20000.0    NaN  "
      ]
     },
     "execution_count": 13,
     "metadata": {},
     "output_type": "execute_result"
    }
   ],
   "source": [
    "az.summary(trace_2, hdi_prob=0.95, var_names=[\"x_imputed\"])"
   ]
  },
  {
   "cell_type": "code",
   "execution_count": 15,
   "id": "09bed4ce",
   "metadata": {},
   "outputs": [
    {
     "data": {
      "text/html": [
       "<div>\n",
       "<style scoped>\n",
       "    .dataframe tbody tr th:only-of-type {\n",
       "        vertical-align: middle;\n",
       "    }\n",
       "\n",
       "    .dataframe tbody tr th {\n",
       "        vertical-align: top;\n",
       "    }\n",
       "\n",
       "    .dataframe thead th {\n",
       "        text-align: right;\n",
       "    }\n",
       "</style>\n",
       "<table border=\"1\" class=\"dataframe\">\n",
       "  <thead>\n",
       "    <tr style=\"text-align: right;\">\n",
       "      <th></th>\n",
       "      <th>mean</th>\n",
       "      <th>sd</th>\n",
       "      <th>hdi_2.5%</th>\n",
       "      <th>hdi_97.5%</th>\n",
       "    </tr>\n",
       "  </thead>\n",
       "  <tbody>\n",
       "    <tr>\n",
       "      <th>alpha_c</th>\n",
       "      <td>101.737</td>\n",
       "      <td>2.364</td>\n",
       "      <td>96.940</td>\n",
       "      <td>106.293</td>\n",
       "    </tr>\n",
       "    <tr>\n",
       "      <th>beta_c</th>\n",
       "      <td>6.517</td>\n",
       "      <td>0.169</td>\n",
       "      <td>6.185</td>\n",
       "      <td>6.843</td>\n",
       "    </tr>\n",
       "    <tr>\n",
       "      <th>alpha_tau</th>\n",
       "      <td>0.027</td>\n",
       "      <td>0.098</td>\n",
       "      <td>0.004</td>\n",
       "      <td>0.044</td>\n",
       "    </tr>\n",
       "    <tr>\n",
       "      <th>beta_tau</th>\n",
       "      <td>2.985</td>\n",
       "      <td>1.276</td>\n",
       "      <td>1.039</td>\n",
       "      <td>5.554</td>\n",
       "    </tr>\n",
       "    <tr>\n",
       "      <th>lik_tau</th>\n",
       "      <td>0.029</td>\n",
       "      <td>0.006</td>\n",
       "      <td>0.017</td>\n",
       "      <td>0.041</td>\n",
       "    </tr>\n",
       "  </tbody>\n",
       "</table>\n",
       "</div>"
      ],
      "text/plain": [
       "              mean     sd  hdi_2.5%  hdi_97.5%\n",
       "alpha_c    101.737  2.364    96.940    106.293\n",
       "beta_c       6.517  0.169     6.185      6.843\n",
       "alpha_tau    0.027  0.098     0.004      0.044\n",
       "beta_tau     2.985  1.276     1.039      5.554\n",
       "lik_tau      0.029  0.006     0.017      0.041"
      ]
     },
     "execution_count": 15,
     "metadata": {},
     "output_type": "execute_result"
    }
   ],
   "source": [
    "az.summary(\n",
    "    trace_2,\n",
    "    hdi_prob=0.95,\n",
    "    var_names=[\"alpha_c\", \"beta_c\", \"alpha_tau\", \"beta_tau\", \"lik_tau\"],\n",
    "    kind=\"stats\",\n",
    ")"
   ]
  },
  {
   "cell_type": "markdown",
   "id": "1b679604",
   "metadata": {},
   "source": [
    "## Model 3: Non-ignorable missingness\n",
    "\n",
    "Probability of missingness increases approx. at a rate of 1% with increasing the weight."
   ]
  },
  {
   "cell_type": "code",
   "execution_count": 21,
   "id": "06e3cc6b",
   "metadata": {},
   "outputs": [],
   "source": [
    "y = np.atleast_2d(\n",
    "    np.array([177.0, 236.0, 285.0, 350.0, -1])\n",
    ")  # original value was 320\n",
    "y = np.ma.masked_values(y, value=-1)  # create masked array\n",
    "# y.mask is equivalent to the \"miss\" array from the professor's example\n",
    "miss = y.mask\n",
    "x = np.array([8.0, 15.0, 22.0, 29.0, 36.0])"
   ]
  },
  {
   "cell_type": "code",
   "execution_count": 23,
   "id": "e747223d",
   "metadata": {
    "tags": [
     "hide-output"
    ]
   },
   "outputs": [
    {
     "name": "stderr",
     "output_type": "stream",
     "text": [
      "/Users/aaron/miniforge3/envs/pymc_macos15/lib/python3.12/site-packages/pymc/model/core.py:1278: ImputationWarning: Data in likelihood contains missing values and will be automatically imputed from the sampling distribution.\n",
      "  warnings.warn(impute_message, ImputationWarning)\n",
      "Auto-assigning NUTS sampler...\n",
      "Initializing NUTS using jitter+adapt_diag_grad...\n",
      "Multiprocess sampling (4 chains in 4 jobs)\n",
      "NUTS: [a, alpha, beta, log_sigma, likelihood_unobserved]\n"
     ]
    },
    {
     "data": {
      "application/vnd.jupyter.widget-view+json": {
       "model_id": "38dd1ce5bd7946adbd2a169ffd096e79",
       "version_major": 2,
       "version_minor": 0
      },
      "text/plain": [
       "Output()"
      ]
     },
     "metadata": {},
     "output_type": "display_data"
    },
    {
     "data": {
      "text/html": [
       "<pre style=\"white-space:pre;overflow-x:auto;line-height:normal;font-family:Menlo,'DejaVu Sans Mono',consolas,'Courier New',monospace\"></pre>\n"
      ],
      "text/plain": []
     },
     "metadata": {},
     "output_type": "display_data"
    },
    {
     "name": "stderr",
     "output_type": "stream",
     "text": [
      "Sampling 4 chains for 4_000 tune and 5_000 draw iterations (16_000 + 20_000 draws total) took 28 seconds.\n",
      "There were 14 divergences after tuning. Increase `target_accept` or reparameterize.\n"
     ]
    }
   ],
   "source": [
    "t = 0.1\n",
    "s = 1 / t  # convert BUGS dlogis tau to s for pymc\n",
    "b = np.log(1.01)\n",
    "\n",
    "with pm.Model() as m:\n",
    "    a = pm.Logistic(\"a\", mu=0, s=s)\n",
    "    alpha = pm.Flat(\"alpha\")\n",
    "    beta = pm.Flat(\"beta\")\n",
    "    log_sigma = pm.Flat(\"log_sigma\")\n",
    "    sigma2 = pm.Deterministic(\"sigma2\", exp(2 * log_sigma))\n",
    "    tau = pm.Deterministic(\"tau\", 1 / sigma2)\n",
    "\n",
    "    mu = pm.Deterministic(\"mu\", alpha + beta * x)\n",
    "    y_imputed = pm.Normal(\"likelihood\", mu, tau=tau, observed=y)\n",
    "\n",
    "    p = pm.Deterministic(\"p\", invlogit(a + b * y_imputed))\n",
    "    pm.Bernoulli(\"missing\", p=p, observed=miss)\n",
    "\n",
    "    trace_3 = pm.sample(\n",
    "        5000,\n",
    "        tune=4000,\n",
    "        init=\"jitter+adapt_diag_grad\",\n",
    "        target_accept=0.95,\n",
    "    )"
   ]
  },
  {
   "cell_type": "code",
   "execution_count": 25,
   "id": "d4dd4ec5",
   "metadata": {},
   "outputs": [
    {
     "data": {
      "image/svg+xml": [
       "<?xml version=\"1.0\" encoding=\"UTF-8\" standalone=\"no\"?>\n",
       "<!DOCTYPE svg PUBLIC \"-//W3C//DTD SVG 1.1//EN\"\n",
       " \"http://www.w3.org/Graphics/SVG/1.1/DTD/svg11.dtd\">\n",
       "<!-- Generated by graphviz version 12.0.0 (0)\n",
       " -->\n",
       "<!-- Pages: 1 -->\n",
       "<svg width=\"440pt\" height=\"803pt\"\n",
       " viewBox=\"0.00 0.00 440.00 803.09\" xmlns=\"http://www.w3.org/2000/svg\" xmlns:xlink=\"http://www.w3.org/1999/xlink\">\n",
       "<g id=\"graph0\" class=\"graph\" transform=\"scale(1 1) rotate(0) translate(4 799.09)\">\n",
       "<polygon fill=\"white\" stroke=\"none\" points=\"-4,4 -4,-799.09 436,-799.09 436,4 -4,4\"/>\n",
       "<g id=\"clust1\" class=\"cluster\">\n",
       "<title>cluster5</title>\n",
       "<path fill=\"none\" stroke=\"black\" d=\"M240,-470.45C240,-470.45 322,-470.45 322,-470.45 328,-470.45 334,-476.45 334,-482.45 334,-482.45 334,-556.45 334,-556.45 334,-562.45 328,-568.45 322,-568.45 322,-568.45 240,-568.45 240,-568.45 234,-568.45 228,-562.45 228,-556.45 228,-556.45 228,-482.45 228,-482.45 228,-476.45 234,-470.45 240,-470.45\"/>\n",
       "<text text-anchor=\"middle\" x=\"322.62\" y=\"-477.65\" font-family=\"Times,serif\" font-size=\"14.00\">5</text>\n",
       "</g>\n",
       "<g id=\"clust2\" class=\"cluster\">\n",
       "<title>cluster4</title>\n",
       "<path fill=\"none\" stroke=\"black\" d=\"M20,-340.63C20,-340.63 190,-340.63 190,-340.63 196,-340.63 202,-346.63 202,-352.63 202,-352.63 202,-450.45 202,-450.45 202,-456.45 196,-462.45 190,-462.45 190,-462.45 20,-462.45 20,-462.45 14,-462.45 8,-456.45 8,-450.45 8,-450.45 8,-352.63 8,-352.63 8,-346.63 14,-340.63 20,-340.63\"/>\n",
       "<text text-anchor=\"middle\" x=\"190.62\" y=\"-347.83\" font-family=\"Times,serif\" font-size=\"14.00\">4</text>\n",
       "</g>\n",
       "<g id=\"clust3\" class=\"cluster\">\n",
       "<title>cluster1</title>\n",
       "<path fill=\"none\" stroke=\"black\" d=\"M222,-340.63C222,-340.63 412,-340.63 412,-340.63 418,-340.63 424,-346.63 424,-352.63 424,-352.63 424,-450.45 424,-450.45 424,-456.45 418,-462.45 412,-462.45 412,-462.45 222,-462.45 222,-462.45 216,-462.45 210,-456.45 210,-450.45 210,-450.45 210,-352.63 210,-352.63 210,-346.63 216,-340.63 222,-340.63\"/>\n",
       "<text text-anchor=\"middle\" x=\"412.62\" y=\"-347.83\" font-family=\"Times,serif\" font-size=\"14.00\">1</text>\n",
       "</g>\n",
       "<g id=\"clust4\" class=\"cluster\">\n",
       "<title>cluster1 x 5</title>\n",
       "<path fill=\"none\" stroke=\"black\" d=\"M168,-8C168,-8 254,-8 254,-8 260,-8 266,-14 266,-20 266,-20 266,-316.73 266,-316.73 266,-322.73 260,-328.73 254,-328.73 254,-328.73 168,-328.73 168,-328.73 162,-328.73 156,-322.73 156,-316.73 156,-316.73 156,-20 156,-20 156,-14 162,-8 168,-8\"/>\n",
       "<text text-anchor=\"middle\" x=\"244.12\" y=\"-15.2\" font-family=\"Times,serif\" font-size=\"14.00\">1 x 5</text>\n",
       "</g>\n",
       "<!-- beta -->\n",
       "<g id=\"node1\" class=\"node\">\n",
       "<title>beta</title>\n",
       "<ellipse fill=\"none\" stroke=\"black\" cx=\"335\" cy=\"-637.11\" rx=\"27.22\" ry=\"40.66\"/>\n",
       "<text text-anchor=\"middle\" x=\"335\" y=\"-648.56\" font-family=\"Times,serif\" font-size=\"14.00\">beta</text>\n",
       "<text text-anchor=\"middle\" x=\"335\" y=\"-632.06\" font-family=\"Times,serif\" font-size=\"14.00\">~</text>\n",
       "<text text-anchor=\"middle\" x=\"335\" y=\"-615.56\" font-family=\"Times,serif\" font-size=\"14.00\">Flat</text>\n",
       "</g>\n",
       "<!-- mu -->\n",
       "<g id=\"node7\" class=\"node\">\n",
       "<title>mu</title>\n",
       "<polygon fill=\"none\" stroke=\"black\" points=\"326.12,-560.45 235.88,-560.45 235.88,-502.95 326.12,-502.95 326.12,-560.45\"/>\n",
       "<text text-anchor=\"middle\" x=\"281\" y=\"-543.15\" font-family=\"Times,serif\" font-size=\"14.00\">mu</text>\n",
       "<text text-anchor=\"middle\" x=\"281\" y=\"-526.65\" font-family=\"Times,serif\" font-size=\"14.00\">~</text>\n",
       "<text text-anchor=\"middle\" x=\"281\" y=\"-510.15\" font-family=\"Times,serif\" font-size=\"14.00\">Deterministic</text>\n",
       "</g>\n",
       "<!-- beta&#45;&gt;mu -->\n",
       "<g id=\"edge3\" class=\"edge\">\n",
       "<title>beta&#45;&gt;mu</title>\n",
       "<path fill=\"none\" stroke=\"black\" d=\"M318.36,-604.24C312.86,-593.72 306.69,-581.9 300.97,-570.95\"/>\n",
       "<polygon fill=\"black\" stroke=\"black\" points=\"304.1,-569.37 296.37,-562.13 297.89,-572.61 304.1,-569.37\"/>\n",
       "</g>\n",
       "<!-- a -->\n",
       "<g id=\"node2\" class=\"node\">\n",
       "<title>a</title>\n",
       "<ellipse fill=\"none\" stroke=\"black\" cx=\"317\" cy=\"-291.98\" rx=\"42.6\" ry=\"40.66\"/>\n",
       "<text text-anchor=\"middle\" x=\"317\" y=\"-303.43\" font-family=\"Times,serif\" font-size=\"14.00\">a</text>\n",
       "<text text-anchor=\"middle\" x=\"317\" y=\"-286.93\" font-family=\"Times,serif\" font-size=\"14.00\">~</text>\n",
       "<text text-anchor=\"middle\" x=\"317\" y=\"-270.43\" font-family=\"Times,serif\" font-size=\"14.00\">Logistic</text>\n",
       "</g>\n",
       "<!-- p -->\n",
       "<g id=\"node12\" class=\"node\">\n",
       "<title>p</title>\n",
       "<polygon fill=\"none\" stroke=\"black\" points=\"256.12,-215.32 165.88,-215.32 165.88,-157.82 256.12,-157.82 256.12,-215.32\"/>\n",
       "<text text-anchor=\"middle\" x=\"211\" y=\"-198.02\" font-family=\"Times,serif\" font-size=\"14.00\">p</text>\n",
       "<text text-anchor=\"middle\" x=\"211\" y=\"-181.52\" font-family=\"Times,serif\" font-size=\"14.00\">~</text>\n",
       "<text text-anchor=\"middle\" x=\"211\" y=\"-165.02\" font-family=\"Times,serif\" font-size=\"14.00\">Deterministic</text>\n",
       "</g>\n",
       "<!-- a&#45;&gt;p -->\n",
       "<g id=\"edge11\" class=\"edge\">\n",
       "<title>a&#45;&gt;p</title>\n",
       "<path fill=\"none\" stroke=\"black\" d=\"M287.47,-262.17C275.09,-250.1 260.58,-235.93 247.53,-223.21\"/>\n",
       "<polygon fill=\"black\" stroke=\"black\" points=\"250.32,-221.04 240.72,-216.56 245.43,-226.05 250.32,-221.04\"/>\n",
       "</g>\n",
       "<!-- sigma2 -->\n",
       "<g id=\"node3\" class=\"node\">\n",
       "<title>sigma2</title>\n",
       "<polygon fill=\"none\" stroke=\"black\" points=\"186.12,-665.86 95.88,-665.86 95.88,-608.36 186.12,-608.36 186.12,-665.86\"/>\n",
       "<text text-anchor=\"middle\" x=\"141\" y=\"-648.56\" font-family=\"Times,serif\" font-size=\"14.00\">sigma2</text>\n",
       "<text text-anchor=\"middle\" x=\"141\" y=\"-632.06\" font-family=\"Times,serif\" font-size=\"14.00\">~</text>\n",
       "<text text-anchor=\"middle\" x=\"141\" y=\"-615.56\" font-family=\"Times,serif\" font-size=\"14.00\">Deterministic</text>\n",
       "</g>\n",
       "<!-- tau -->\n",
       "<g id=\"node6\" class=\"node\">\n",
       "<title>tau</title>\n",
       "<polygon fill=\"none\" stroke=\"black\" points=\"186.12,-560.45 95.88,-560.45 95.88,-502.95 186.12,-502.95 186.12,-560.45\"/>\n",
       "<text text-anchor=\"middle\" x=\"141\" y=\"-543.15\" font-family=\"Times,serif\" font-size=\"14.00\">tau</text>\n",
       "<text text-anchor=\"middle\" x=\"141\" y=\"-526.65\" font-family=\"Times,serif\" font-size=\"14.00\">~</text>\n",
       "<text text-anchor=\"middle\" x=\"141\" y=\"-510.15\" font-family=\"Times,serif\" font-size=\"14.00\">Deterministic</text>\n",
       "</g>\n",
       "<!-- sigma2&#45;&gt;tau -->\n",
       "<g id=\"edge2\" class=\"edge\">\n",
       "<title>sigma2&#45;&gt;tau</title>\n",
       "<path fill=\"none\" stroke=\"black\" d=\"M141,-608.13C141,-596.98 141,-583.95 141,-571.88\"/>\n",
       "<polygon fill=\"black\" stroke=\"black\" points=\"144.5,-572.22 141,-562.22 137.5,-572.22 144.5,-572.22\"/>\n",
       "</g>\n",
       "<!-- alpha -->\n",
       "<g id=\"node4\" class=\"node\">\n",
       "<title>alpha</title>\n",
       "<ellipse fill=\"none\" stroke=\"black\" cx=\"258\" cy=\"-637.11\" rx=\"32\" ry=\"40.66\"/>\n",
       "<text text-anchor=\"middle\" x=\"258\" y=\"-648.56\" font-family=\"Times,serif\" font-size=\"14.00\">alpha</text>\n",
       "<text text-anchor=\"middle\" x=\"258\" y=\"-632.06\" font-family=\"Times,serif\" font-size=\"14.00\">~</text>\n",
       "<text text-anchor=\"middle\" x=\"258\" y=\"-615.56\" font-family=\"Times,serif\" font-size=\"14.00\">Flat</text>\n",
       "</g>\n",
       "<!-- alpha&#45;&gt;mu -->\n",
       "<g id=\"edge4\" class=\"edge\">\n",
       "<title>alpha&#45;&gt;mu</title>\n",
       "<path fill=\"none\" stroke=\"black\" d=\"M266.56,-597.6C268.43,-589.24 270.4,-580.37 272.27,-571.97\"/>\n",
       "<polygon fill=\"black\" stroke=\"black\" points=\"275.65,-572.9 274.4,-562.38 268.81,-571.38 275.65,-572.9\"/>\n",
       "</g>\n",
       "<!-- log_sigma -->\n",
       "<g id=\"node5\" class=\"node\">\n",
       "<title>log_sigma</title>\n",
       "<ellipse fill=\"none\" stroke=\"black\" cx=\"141\" cy=\"-754.43\" rx=\"51.62\" ry=\"40.66\"/>\n",
       "<text text-anchor=\"middle\" x=\"141\" y=\"-765.88\" font-family=\"Times,serif\" font-size=\"14.00\">log_sigma</text>\n",
       "<text text-anchor=\"middle\" x=\"141\" y=\"-749.38\" font-family=\"Times,serif\" font-size=\"14.00\">~</text>\n",
       "<text text-anchor=\"middle\" x=\"141\" y=\"-732.88\" font-family=\"Times,serif\" font-size=\"14.00\">Flat</text>\n",
       "</g>\n",
       "<!-- log_sigma&#45;&gt;sigma2 -->\n",
       "<g id=\"edge1\" class=\"edge\">\n",
       "<title>log_sigma&#45;&gt;sigma2</title>\n",
       "<path fill=\"none\" stroke=\"black\" d=\"M141,-713.42C141,-701.71 141,-688.93 141,-677.27\"/>\n",
       "<polygon fill=\"black\" stroke=\"black\" points=\"144.5,-677.59 141,-667.59 137.5,-677.59 144.5,-677.59\"/>\n",
       "</g>\n",
       "<!-- likelihood_observed -->\n",
       "<g id=\"node8\" class=\"node\">\n",
       "<title>likelihood_observed</title>\n",
       "<ellipse fill=\"lightgrey\" stroke=\"black\" cx=\"105\" cy=\"-413.79\" rx=\"89.27\" ry=\"40.66\"/>\n",
       "<text text-anchor=\"middle\" x=\"105\" y=\"-425.24\" font-family=\"Times,serif\" font-size=\"14.00\">likelihood_observed</text>\n",
       "<text text-anchor=\"middle\" x=\"105\" y=\"-408.74\" font-family=\"Times,serif\" font-size=\"14.00\">~</text>\n",
       "<text text-anchor=\"middle\" x=\"105\" y=\"-392.24\" font-family=\"Times,serif\" font-size=\"14.00\">Normal</text>\n",
       "</g>\n",
       "<!-- tau&#45;&gt;likelihood_observed -->\n",
       "<g id=\"edge6\" class=\"edge\">\n",
       "<title>tau&#45;&gt;likelihood_observed</title>\n",
       "<path fill=\"none\" stroke=\"black\" d=\"M132.29,-502.64C128.77,-491.34 124.61,-477.94 120.61,-465.06\"/>\n",
       "<polygon fill=\"black\" stroke=\"black\" points=\"124.06,-464.38 117.76,-455.86 117.38,-466.45 124.06,-464.38\"/>\n",
       "</g>\n",
       "<!-- likelihood_unobserved -->\n",
       "<g id=\"node9\" class=\"node\">\n",
       "<title>likelihood_unobserved</title>\n",
       "<ellipse fill=\"none\" stroke=\"black\" cx=\"317\" cy=\"-413.79\" rx=\"98.82\" ry=\"40.66\"/>\n",
       "<text text-anchor=\"middle\" x=\"317\" y=\"-425.24\" font-family=\"Times,serif\" font-size=\"14.00\">likelihood_unobserved</text>\n",
       "<text text-anchor=\"middle\" x=\"317\" y=\"-408.74\" font-family=\"Times,serif\" font-size=\"14.00\">~</text>\n",
       "<text text-anchor=\"middle\" x=\"317\" y=\"-392.24\" font-family=\"Times,serif\" font-size=\"14.00\">Normal</text>\n",
       "</g>\n",
       "<!-- tau&#45;&gt;likelihood_unobserved -->\n",
       "<g id=\"edge8\" class=\"edge\">\n",
       "<title>tau&#45;&gt;likelihood_unobserved</title>\n",
       "<path fill=\"none\" stroke=\"black\" d=\"M178.1,-502.69C192.27,-492.28 208.7,-480.56 224,-470.45 232.53,-464.82 241.63,-459.07 250.68,-453.5\"/>\n",
       "<polygon fill=\"black\" stroke=\"black\" points=\"252.43,-456.54 259.15,-448.34 248.79,-450.56 252.43,-456.54\"/>\n",
       "</g>\n",
       "<!-- mu&#45;&gt;likelihood_observed -->\n",
       "<g id=\"edge5\" class=\"edge\">\n",
       "<title>mu&#45;&gt;likelihood_observed</title>\n",
       "<path fill=\"none\" stroke=\"black\" d=\"M241.94,-502.63C227.34,-492.32 210.53,-480.68 195,-470.45 186.23,-464.68 176.89,-458.71 167.68,-452.91\"/>\n",
       "<polygon fill=\"black\" stroke=\"black\" points=\"169.76,-450.09 159.43,-447.76 166.06,-456.03 169.76,-450.09\"/>\n",
       "</g>\n",
       "<!-- mu&#45;&gt;likelihood_unobserved -->\n",
       "<g id=\"edge7\" class=\"edge\">\n",
       "<title>mu&#45;&gt;likelihood_unobserved</title>\n",
       "<path fill=\"none\" stroke=\"black\" d=\"M289.71,-502.64C293.23,-491.34 297.39,-477.94 301.39,-465.06\"/>\n",
       "<polygon fill=\"black\" stroke=\"black\" points=\"304.62,-466.45 304.24,-455.86 297.94,-464.38 304.62,-466.45\"/>\n",
       "</g>\n",
       "<!-- likelihood -->\n",
       "<g id=\"node11\" class=\"node\">\n",
       "<title>likelihood</title>\n",
       "<polygon fill=\"none\" stroke=\"black\" points=\"256.12,-320.73 165.88,-320.73 165.88,-263.23 256.12,-263.23 256.12,-320.73\"/>\n",
       "<text text-anchor=\"middle\" x=\"211\" y=\"-303.43\" font-family=\"Times,serif\" font-size=\"14.00\">likelihood</text>\n",
       "<text text-anchor=\"middle\" x=\"211\" y=\"-286.93\" font-family=\"Times,serif\" font-size=\"14.00\">~</text>\n",
       "<text text-anchor=\"middle\" x=\"211\" y=\"-270.43\" font-family=\"Times,serif\" font-size=\"14.00\">Deterministic</text>\n",
       "</g>\n",
       "<!-- likelihood_observed&#45;&gt;likelihood -->\n",
       "<g id=\"edge10\" class=\"edge\">\n",
       "<title>likelihood_observed&#45;&gt;likelihood</title>\n",
       "<path fill=\"none\" stroke=\"black\" d=\"M137.96,-375.54C150.96,-360.84 165.86,-344 178.79,-329.39\"/>\n",
       "<polygon fill=\"black\" stroke=\"black\" points=\"181.14,-332.01 185.14,-322.2 175.9,-327.37 181.14,-332.01\"/>\n",
       "</g>\n",
       "<!-- likelihood_unobserved&#45;&gt;likelihood -->\n",
       "<g id=\"edge9\" class=\"edge\">\n",
       "<title>likelihood_unobserved&#45;&gt;likelihood</title>\n",
       "<path fill=\"none\" stroke=\"black\" d=\"M283.75,-375.21C270.76,-360.52 255.92,-343.75 243.04,-329.2\"/>\n",
       "<polygon fill=\"black\" stroke=\"black\" points=\"245.97,-327.22 236.72,-322.05 240.73,-331.86 245.97,-327.22\"/>\n",
       "</g>\n",
       "<!-- missing -->\n",
       "<g id=\"node10\" class=\"node\">\n",
       "<title>missing</title>\n",
       "<ellipse fill=\"lightgrey\" stroke=\"black\" cx=\"211\" cy=\"-81.16\" rx=\"47.38\" ry=\"40.66\"/>\n",
       "<text text-anchor=\"middle\" x=\"211\" y=\"-92.61\" font-family=\"Times,serif\" font-size=\"14.00\">missing</text>\n",
       "<text text-anchor=\"middle\" x=\"211\" y=\"-76.11\" font-family=\"Times,serif\" font-size=\"14.00\">~</text>\n",
       "<text text-anchor=\"middle\" x=\"211\" y=\"-59.61\" font-family=\"Times,serif\" font-size=\"14.00\">Bernoulli</text>\n",
       "</g>\n",
       "<!-- likelihood&#45;&gt;p -->\n",
       "<g id=\"edge12\" class=\"edge\">\n",
       "<title>likelihood&#45;&gt;p</title>\n",
       "<path fill=\"none\" stroke=\"black\" d=\"M211,-262.99C211,-251.84 211,-238.81 211,-226.75\"/>\n",
       "<polygon fill=\"black\" stroke=\"black\" points=\"214.5,-227.09 211,-217.09 207.5,-227.09 214.5,-227.09\"/>\n",
       "</g>\n",
       "<!-- p&#45;&gt;missing -->\n",
       "<g id=\"edge13\" class=\"edge\">\n",
       "<title>p&#45;&gt;missing</title>\n",
       "<path fill=\"none\" stroke=\"black\" d=\"M211,-157.58C211,-150.1 211,-141.77 211,-133.45\"/>\n",
       "<polygon fill=\"black\" stroke=\"black\" points=\"214.5,-133.71 211,-123.71 207.5,-133.71 214.5,-133.71\"/>\n",
       "</g>\n",
       "</g>\n",
       "</svg>\n"
      ],
      "text/plain": [
       "<graphviz.graphs.Digraph at 0x1727c2cc0>"
      ]
     },
     "execution_count": 25,
     "metadata": {},
     "output_type": "execute_result"
    }
   ],
   "source": [
    "pm.model_to_graphviz(m)"
   ]
  },
  {
   "cell_type": "code",
   "execution_count": 26,
   "id": "c3e39419",
   "metadata": {},
   "outputs": [
    {
     "data": {
      "text/html": [
       "<div>\n",
       "<style scoped>\n",
       "    .dataframe tbody tr th:only-of-type {\n",
       "        vertical-align: middle;\n",
       "    }\n",
       "\n",
       "    .dataframe tbody tr th {\n",
       "        vertical-align: top;\n",
       "    }\n",
       "\n",
       "    .dataframe thead th {\n",
       "        text-align: right;\n",
       "    }\n",
       "</style>\n",
       "<table border=\"1\" class=\"dataframe\">\n",
       "  <thead>\n",
       "    <tr style=\"text-align: right;\">\n",
       "      <th></th>\n",
       "      <th>mean</th>\n",
       "      <th>sd</th>\n",
       "      <th>hdi_2.5%</th>\n",
       "      <th>hdi_97.5%</th>\n",
       "    </tr>\n",
       "  </thead>\n",
       "  <tbody>\n",
       "    <tr>\n",
       "      <th>a</th>\n",
       "      <td>-4.846</td>\n",
       "      <td>1.404</td>\n",
       "      <td>-7.644</td>\n",
       "      <td>-2.242</td>\n",
       "    </tr>\n",
       "    <tr>\n",
       "      <th>alpha</th>\n",
       "      <td>110.843</td>\n",
       "      <td>26.691</td>\n",
       "      <td>83.215</td>\n",
       "      <td>139.322</td>\n",
       "    </tr>\n",
       "    <tr>\n",
       "      <th>beta</th>\n",
       "      <td>8.203</td>\n",
       "      <td>1.378</td>\n",
       "      <td>6.786</td>\n",
       "      <td>9.599</td>\n",
       "    </tr>\n",
       "    <tr>\n",
       "      <th>log_sigma</th>\n",
       "      <td>1.859</td>\n",
       "      <td>0.701</td>\n",
       "      <td>0.752</td>\n",
       "      <td>3.240</td>\n",
       "    </tr>\n",
       "    <tr>\n",
       "      <th>likelihood_unobserved[0]</th>\n",
       "      <td>408.122</td>\n",
       "      <td>47.895</td>\n",
       "      <td>372.253</td>\n",
       "      <td>440.117</td>\n",
       "    </tr>\n",
       "    <tr>\n",
       "      <th>sigma2</th>\n",
       "      <td>729.004</td>\n",
       "      <td>12595.822</td>\n",
       "      <td>2.133</td>\n",
       "      <td>543.137</td>\n",
       "    </tr>\n",
       "    <tr>\n",
       "      <th>tau</th>\n",
       "      <td>0.045</td>\n",
       "      <td>0.046</td>\n",
       "      <td>0.000</td>\n",
       "      <td>0.137</td>\n",
       "    </tr>\n",
       "    <tr>\n",
       "      <th>mu[0]</th>\n",
       "      <td>176.464</td>\n",
       "      <td>18.438</td>\n",
       "      <td>158.065</td>\n",
       "      <td>195.403</td>\n",
       "    </tr>\n",
       "    <tr>\n",
       "      <th>mu[1]</th>\n",
       "      <td>233.883</td>\n",
       "      <td>14.605</td>\n",
       "      <td>222.164</td>\n",
       "      <td>246.472</td>\n",
       "    </tr>\n",
       "    <tr>\n",
       "      <th>mu[2]</th>\n",
       "      <td>291.302</td>\n",
       "      <td>16.511</td>\n",
       "      <td>279.056</td>\n",
       "      <td>303.103</td>\n",
       "    </tr>\n",
       "    <tr>\n",
       "      <th>mu[3]</th>\n",
       "      <td>348.721</td>\n",
       "      <td>22.758</td>\n",
       "      <td>330.340</td>\n",
       "      <td>366.996</td>\n",
       "    </tr>\n",
       "    <tr>\n",
       "      <th>mu[4]</th>\n",
       "      <td>406.140</td>\n",
       "      <td>30.809</td>\n",
       "      <td>379.154</td>\n",
       "      <td>432.768</td>\n",
       "    </tr>\n",
       "    <tr>\n",
       "      <th>likelihood[0, 0]</th>\n",
       "      <td>177.000</td>\n",
       "      <td>0.000</td>\n",
       "      <td>177.000</td>\n",
       "      <td>177.000</td>\n",
       "    </tr>\n",
       "    <tr>\n",
       "      <th>likelihood[0, 1]</th>\n",
       "      <td>236.000</td>\n",
       "      <td>0.000</td>\n",
       "      <td>236.000</td>\n",
       "      <td>236.000</td>\n",
       "    </tr>\n",
       "    <tr>\n",
       "      <th>likelihood[0, 2]</th>\n",
       "      <td>285.000</td>\n",
       "      <td>0.000</td>\n",
       "      <td>285.000</td>\n",
       "      <td>285.000</td>\n",
       "    </tr>\n",
       "    <tr>\n",
       "      <th>likelihood[0, 3]</th>\n",
       "      <td>350.000</td>\n",
       "      <td>0.000</td>\n",
       "      <td>350.000</td>\n",
       "      <td>350.000</td>\n",
       "    </tr>\n",
       "    <tr>\n",
       "      <th>likelihood[0, 4]</th>\n",
       "      <td>408.122</td>\n",
       "      <td>47.895</td>\n",
       "      <td>372.253</td>\n",
       "      <td>440.117</td>\n",
       "    </tr>\n",
       "    <tr>\n",
       "      <th>p[0, 0]</th>\n",
       "      <td>0.079</td>\n",
       "      <td>0.086</td>\n",
       "      <td>0.000</td>\n",
       "      <td>0.254</td>\n",
       "    </tr>\n",
       "    <tr>\n",
       "      <th>p[0, 1]</th>\n",
       "      <td>0.126</td>\n",
       "      <td>0.123</td>\n",
       "      <td>0.000</td>\n",
       "      <td>0.380</td>\n",
       "    </tr>\n",
       "    <tr>\n",
       "      <th>p[0, 2]</th>\n",
       "      <td>0.179</td>\n",
       "      <td>0.157</td>\n",
       "      <td>0.000</td>\n",
       "      <td>0.500</td>\n",
       "    </tr>\n",
       "    <tr>\n",
       "      <th>p[0, 3]</th>\n",
       "      <td>0.270</td>\n",
       "      <td>0.201</td>\n",
       "      <td>0.000</td>\n",
       "      <td>0.656</td>\n",
       "    </tr>\n",
       "    <tr>\n",
       "      <th>p[0, 4]</th>\n",
       "      <td>0.366</td>\n",
       "      <td>0.234</td>\n",
       "      <td>0.000</td>\n",
       "      <td>0.776</td>\n",
       "    </tr>\n",
       "  </tbody>\n",
       "</table>\n",
       "</div>"
      ],
      "text/plain": [
       "                             mean         sd  hdi_2.5%  hdi_97.5%\n",
       "a                          -4.846      1.404    -7.644     -2.242\n",
       "alpha                     110.843     26.691    83.215    139.322\n",
       "beta                        8.203      1.378     6.786      9.599\n",
       "log_sigma                   1.859      0.701     0.752      3.240\n",
       "likelihood_unobserved[0]  408.122     47.895   372.253    440.117\n",
       "sigma2                    729.004  12595.822     2.133    543.137\n",
       "tau                         0.045      0.046     0.000      0.137\n",
       "mu[0]                     176.464     18.438   158.065    195.403\n",
       "mu[1]                     233.883     14.605   222.164    246.472\n",
       "mu[2]                     291.302     16.511   279.056    303.103\n",
       "mu[3]                     348.721     22.758   330.340    366.996\n",
       "mu[4]                     406.140     30.809   379.154    432.768\n",
       "likelihood[0, 0]          177.000      0.000   177.000    177.000\n",
       "likelihood[0, 1]          236.000      0.000   236.000    236.000\n",
       "likelihood[0, 2]          285.000      0.000   285.000    285.000\n",
       "likelihood[0, 3]          350.000      0.000   350.000    350.000\n",
       "likelihood[0, 4]          408.122     47.895   372.253    440.117\n",
       "p[0, 0]                     0.079      0.086     0.000      0.254\n",
       "p[0, 1]                     0.126      0.123     0.000      0.380\n",
       "p[0, 2]                     0.179      0.157     0.000      0.500\n",
       "p[0, 3]                     0.270      0.201     0.000      0.656\n",
       "p[0, 4]                     0.366      0.234     0.000      0.776"
      ]
     },
     "execution_count": 26,
     "metadata": {},
     "output_type": "execute_result"
    }
   ],
   "source": [
    "az.summary(trace_3, hdi_prob=0.95, kind=\"stats\")"
   ]
  },
  {
   "cell_type": "code",
   "execution_count": null,
   "id": "ee233ebe",
   "metadata": {},
   "outputs": [
    {
     "name": "stdout",
     "output_type": "stream",
     "text": [
      "Last updated: Sun Nov 10 2024\n",
      "\n",
      "Python implementation: CPython\n",
      "Python version       : 3.12.7\n",
      "IPython version      : 8.29.0\n",
      "\n",
      "pytensor: 2.26.0\n",
      "\n",
      "arviz   : 0.20.0\n",
      "pytensor: 2.26.0\n",
      "numpy   : 1.26.4\n",
      "pymc    : 5.18.0\n",
      "\n"
     ]
    }
   ],
   "source": [
    "%load_ext watermark\n",
    "%watermark -n -u -v -iv -p pytensor"
   ]
  },
  {
   "cell_type": "code",
   "execution_count": null,
   "id": "66049290",
   "metadata": {},
   "outputs": [],
   "source": []
  }
 ],
 "metadata": {
  "kernelspec": {
   "display_name": "pymc_macos15",
   "language": "python",
   "name": "python3"
  },
  "language_info": {
   "codemirror_mode": {
    "name": "ipython",
    "version": 3
   },
   "file_extension": ".py",
   "mimetype": "text/x-python",
   "name": "python",
   "nbconvert_exporter": "python",
   "pygments_lexer": "ipython3",
   "version": "3.12.7"
  }
 },
 "nbformat": 4,
 "nbformat_minor": 5
}
