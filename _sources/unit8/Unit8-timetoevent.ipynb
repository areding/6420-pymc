{
 "cells": [
  {
   "cell_type": "markdown",
   "id": "8c7d834e",
   "metadata": {
    "editable": true,
    "slideshow": {
     "slide_type": ""
    },
    "tags": []
   },
   "source": [
    "# Time-to-event Models\n",
    "\n",
    "\n",
    "```{note}\n",
    "This page is a stub. I will try to update it over the semester with supplementary lecture notes—if you would like to request a certain page be finished first, please make an Ed Discussion post with your questions about the lecture.\n",
    "```"
   ]
  },
  {
   "cell_type": "markdown",
   "id": "d119132d-7ee3-4c0f-b290-2d22a2439459",
   "metadata": {
    "editable": true,
    "slideshow": {
     "slide_type": ""
    },
    "tags": []
   },
   "source": [
    "## Lecture errata:\n",
    "There are a couple errors in the lecture slides, please see the PDF on Ed Discussion for now.\n",
    "\n",
    "\n",
    "interesting links:\n",
    "\n",
    "https://eng.uber.com/modeling-censored-time-to-event-data-using-pyro/\n",
    "\n",
    "https://www.publichealth.columbia.edu/research/population-health-methods/time-event-data-analysis\n",
    "\n",
    "https://www.ncbi.nlm.nih.gov/pmc/articles/PMC3297827/\n"
   ]
  },
  {
   "cell_type": "code",
   "execution_count": null,
   "id": "aee09ff5-657a-4690-a825-bc9914772910",
   "metadata": {},
   "outputs": [],
   "source": []
  }
 ],
 "metadata": {
  "kernelspec": {
   "display_name": "Python 3 (ipykernel)",
   "language": "python",
   "name": "python3"
  },
  "language_info": {
   "codemirror_mode": {
    "name": "ipython",
    "version": 3
   },
   "file_extension": ".py",
   "mimetype": "text/x-python",
   "name": "python",
   "nbconvert_exporter": "python",
   "pygments_lexer": "ipython3",
   "version": "3.11.4"
  }
 },
 "nbformat": 4,
 "nbformat_minor": 5
}
