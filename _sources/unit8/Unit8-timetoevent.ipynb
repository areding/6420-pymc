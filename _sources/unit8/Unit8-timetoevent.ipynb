{
 "cells": [
  {
   "cell_type": "markdown",
   "id": "8c7d834e",
   "metadata": {},
   "source": [
    "# Time-to-event Models"
   ]
  },
  {
   "cell_type": "markdown",
   "id": "d119132d-7ee3-4c0f-b290-2d22a2439459",
   "metadata": {},
   "source": [
    "interesting links:\n",
    "\n",
    "https://eng.uber.com/modeling-censored-time-to-event-data-using-pyro/\n",
    "\n",
    "https://www.publichealth.columbia.edu/research/population-health-methods/time-event-data-analysis\n",
    "\n",
    "https://www.ncbi.nlm.nih.gov/pmc/articles/PMC3297827/"
   ]
  },
  {
   "cell_type": "code",
   "execution_count": null,
   "id": "aee09ff5-657a-4690-a825-bc9914772910",
   "metadata": {},
   "outputs": [],
   "source": []
  }
 ],
 "metadata": {
  "kernelspec": {
   "display_name": "Python 3 (ipykernel)",
   "language": "python",
   "name": "python3"
  },
  "language_info": {
   "codemirror_mode": {
    "name": "ipython",
    "version": 3
   },
   "file_extension": ".py",
   "mimetype": "text/x-python",
   "name": "python",
   "nbconvert_exporter": "python",
   "pygments_lexer": "ipython3",
   "version": "3.11.0"
  }
 },
 "nbformat": 4,
 "nbformat_minor": 5
}
