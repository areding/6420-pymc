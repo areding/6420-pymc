{
 "cells": [
  {
   "cell_type": "markdown",
   "id": "f9d542ef-75ee-47d6-9d61-b3624c4643f4",
   "metadata": {},
   "source": [
    "# Time-to-event Models: Example 1"
   ]
  },
  {
   "cell_type": "code",
   "execution_count": null,
   "id": "2a64b47e-1d95-409d-aa74-eae37e2ca162",
   "metadata": {},
   "outputs": [],
   "source": []
  }
 ],
 "metadata": {
  "kernelspec": {
   "display_name": "Python 3 (ipykernel)",
   "language": "python",
   "name": "python3"
  },
  "language_info": {
   "codemirror_mode": {
    "name": "ipython",
    "version": 3
   },
   "file_extension": ".py",
   "mimetype": "text/x-python",
   "name": "python",
   "nbconvert_exporter": "python",
   "pygments_lexer": "ipython3",
   "version": "3.11.0"
  }
 },
 "nbformat": 4,
 "nbformat_minor": 5
}
