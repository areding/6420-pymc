{
 "cells": [
  {
   "cell_type": "code",
   "execution_count": 1,
   "id": "ace65677",
   "metadata": {},
   "outputs": [],
   "source": [
    "import arviz as az\n",
    "import numpy as np\n",
    "import pymc as pm\n",
    "from pymc.math import exp\n",
    "\n",
    "np.set_printoptions(suppress=True)\n",
    "\n",
    "%load_ext lab_black\n",
    "%load_ext watermark"
   ]
  },
  {
   "cell_type": "markdown",
   "id": "8691af38",
   "metadata": {
    "tags": []
   },
   "source": [
    "# Gastric cancer example\n",
    "\n",
    "Adapted from code for [unit 8: gastric.odc](https://raw.githubusercontent.com/areding/6420-pymc/main/original_examples/Codes4Unit8/gastric.odc).\n",
    "\n",
    "Data can be found [here](https://raw.githubusercontent.com/areding/6420-pymc/main/data/gastric.txt).\n",
    "\n",
    "## Associated lecture video: Unit 8, Lesson 6"
   ]
  },
  {
   "cell_type": "code",
   "execution_count": 2,
   "id": "a1941885",
   "metadata": {
    "tags": [
     "hide-input"
    ]
   },
   "outputs": [
    {
     "data": {
      "text/html": [
       "<iframe width=\"560\" height=\"315\" src=\"https://www.youtube.com/embed?v=t4pHpZxtC0U&list=PLv0FeK5oXK4l-RdT6DWJj0_upJOG2WKNO&index=87\" frameborder=\"0\" allow=\"autoplay; encrypted-media\" allowfullscreen></iframe>\n"
      ],
      "text/plain": [
       "<IPython.core.display.HTML object>"
      ]
     },
     "metadata": {},
     "output_type": "display_data"
    }
   ],
   "source": [
    "%%html\n",
    "<iframe width=\"560\" height=\"315\" src=\"https://www.youtube.com/embed?v=t4pHpZxtC0U&list=PLv0FeK5oXK4l-RdT6DWJj0_upJOG2WKNO&index=87\" frameborder=\"0\" allow=\"autoplay; encrypted-media\" allowfullscreen></iframe>"
   ]
  },
  {
   "cell_type": "markdown",
   "id": "b0f29094",
   "metadata": {},
   "source": [
    "## Problem statement\n",
    "Stablein et al. (1981) provide data on 90 patients affected by locally advanced, nonresectable gastric carcinoma. The patients are randomized to two treatments: chemotherapy alone (coded as 0) and chemotherapy plus radiation (coded as 1). Survival time is reported in days. Recorded times are censored if the patient stopped participating in the study before it finished.\n",
    "\n",
    "Stablein, D. M., Carter, W. H., Novak, J. W. (1981). Analysis of survival data with nonproportional hazard functions. Control. Clin. Trials,  2 , 2, 149--159.\n",
    "\n",
    "### Data\n",
    "Columns are, from left to right:\n",
    "- type: Treatment type, chemotherapy (0) or chemotherapy + radiation (1)\n",
    "- censored: If censored, meaning the patient survived the observation period, the time in days appears here rather than in the times column. 0 if not censored.\n",
    "- times: Recorded days without cancer recurrence. NaN if censored.\n",
    "\n",
    "### Model changes\n",
    "I didn't implement S, f, or h from the original model. They should be simple enough, but I really just wanted to get another example of censoring up before HW6. I will add those later.\n",
    "\n",
    "PyMC really did not like the noninformative exponential prior on v (α in this model). To avoid the divide by zero errors, I just kept increasing lambda until the model ran all the way through. This is not ideal, but I haven't had time to look into it further. The results actually came out fairly close to the BUGS results.\n"
   ]
  },
  {
   "cell_type": "markdown",
   "id": "826b61d8",
   "metadata": {},
   "source": [
    "## Method 1: ```pm.Censored```\n",
    "\n",
    "The way PyMC censoring works is described in some detail in [this notebook](https://docs.pymc.io/projects/examples/en/latest/generalized_linear_models/GLM-truncated-censored-regression.html#censored-regression-model) by [Dr. Benjamin T. Vincent](https://github.com/drbenvincent). This is accomplished in the source code [here](https://github.com/aesara-devs/aeppl/blob/751979802f1aef5478fdbf7cc1839df07df60825/aeppl/truncation.py#L79) if you want to take a look. For right-censoring, try this: ```pm.Censored(\"name\", dist, lower=None, upper=censored, observed=y)```. The censored values can be an array of the same shape as the y values. \n",
    "\n",
    "If the y value equals the right-censored value, [```pm.Censored```](https://docs.pymc.io/en/latest/api/distributions/generated/pymc.Censored.html#pymc.Censored) returns the complement to the CDF evaluated at the censored value. If the y value is greater than the censored value, it returns ```-np.inf```. Otherwise, the distribution you passed to the ```dist``` parameter works as normal. What I've been doing is setting the values in the censored array to ```np.inf``` if the corresponding y value is not censored, and equal to the y value if it should be censored.\n",
    "\n",
    "```{note}\n",
    "I've noticed that this method is unstable with some distributions. Try using the imputed censoring model (below) if this one isn't working.\n",
    "```"
   ]
  },
  {
   "cell_type": "code",
   "execution_count": 14,
   "id": "d1400350",
   "metadata": {},
   "outputs": [
    {
     "data": {
      "text/plain": [
       "(90, 3)"
      ]
     },
     "execution_count": 14,
     "metadata": {},
     "output_type": "execute_result"
    }
   ],
   "source": [
    "data = np.loadtxt(\"../data/gastric.txt\")\n",
    "data.shape"
   ]
  },
  {
   "cell_type": "code",
   "execution_count": 15,
   "id": "d4486cce",
   "metadata": {},
   "outputs": [],
   "source": [
    "x = data[:, 0].copy()\n",
    "censored = data[:, 1].copy()\n",
    "y = data[:, 2].copy()\n",
    "# for pymc, right-censored values must be greater than or equal to than the \"upper\" value\n",
    "y[np.isnan(y)] = censored[np.isnan(y)]\n",
    "censored[censored == 0] = np.inf"
   ]
  },
  {
   "cell_type": "code",
   "execution_count": 16,
   "id": "0b70e5f8",
   "metadata": {},
   "outputs": [
    {
     "data": {
      "text/plain": [
       "array([  17.,   42.,   44.,   48.,   60.,   72.,   74.,   95.,  103.,\n",
       "        108.,  122.,  144.,  167.,  170.,  183.,  185.,  193.,  195.,\n",
       "        197.,  208.,  234.,  235.,  254.,  307.,  315.,  401.,  445.,\n",
       "        464.,  484.,  528.,  542.,  567.,  577.,  580.,  795.,  855.,\n",
       "        882.,  892., 1031., 1033., 1306., 1335., 1366., 1452., 1472.,\n",
       "          1.,   63.,  105.,  129.,  182.,  216.,  250.,  262.,  301.,\n",
       "        301.,  342.,  354.,  356.,  358.,  380.,  381.,  383.,  383.,\n",
       "        388.,  394.,  408.,  460.,  489.,  499.,  524.,  529.,  535.,\n",
       "        562.,  675.,  676.,  748.,  748.,  778.,  786.,  797.,  945.,\n",
       "        955.,  968., 1180., 1245., 1271., 1277., 1397., 1512., 1519.])"
      ]
     },
     "execution_count": 16,
     "metadata": {},
     "output_type": "execute_result"
    }
   ],
   "source": [
    "y"
   ]
  },
  {
   "cell_type": "code",
   "execution_count": 17,
   "id": "361522ac",
   "metadata": {},
   "outputs": [
    {
     "data": {
      "text/plain": [
       "array([  inf,   inf,   inf,   inf,   inf,   inf,   inf,   inf,   inf,\n",
       "         inf,   inf,   inf,   inf,   inf,   inf,   inf,   inf,   inf,\n",
       "         inf,   inf,   inf,   inf,   inf,   inf,   inf,   inf,   inf,\n",
       "         inf,   inf,   inf,   inf,   inf,   inf,   inf,   inf,   inf,\n",
       "        882.,  892., 1031., 1033., 1306., 1335.,   inf, 1452., 1472.,\n",
       "         inf,   inf,   inf,   inf,   inf,   inf,   inf,   inf,   inf,\n",
       "         inf,   inf,   inf,   inf,   inf,   inf,  381.,   inf,   inf,\n",
       "         inf,   inf,   inf,   inf,   inf,   inf,   inf,  529.,   inf,\n",
       "         inf,   inf,   inf,   inf,   inf,   inf,   inf,   inf,  945.,\n",
       "         inf,   inf, 1180.,   inf,   inf, 1277., 1397., 1512., 1519.])"
      ]
     },
     "execution_count": 17,
     "metadata": {},
     "output_type": "execute_result"
    }
   ],
   "source": [
    "censored"
   ]
  },
  {
   "cell_type": "markdown",
   "id": "d4545672",
   "metadata": {},
   "source": [
    "```{warning}\n",
    "PyMC and BUGS do not specify the Weibull distribution in the same way!\n",
    "\n",
    "α = v\n",
    "\n",
    "β = λ ** (-1 / α)\n",
    "\n",
    "```"
   ]
  },
  {
   "cell_type": "code",
   "execution_count": 19,
   "id": "5d6df198",
   "metadata": {
    "tags": [
     "hide-output"
    ]
   },
   "outputs": [
    {
     "name": "stderr",
     "output_type": "stream",
     "text": [
      "Auto-assigning NUTS sampler...\n",
      "Initializing NUTS using jitter+adapt_diag_grad...\n",
      "Multiprocess sampling (4 chains in 4 jobs)\n",
      "NUTS: [beta0, beta1, α]\n"
     ]
    },
    {
     "data": {
      "text/html": [
       "\n",
       "<style>\n",
       "    /* Turns off some styling */\n",
       "    progress {\n",
       "        /* gets rid of default border in Firefox and Opera. */\n",
       "        border: none;\n",
       "        /* Needs to be in here for Safari polyfill so background images work as expected. */\n",
       "        background-size: auto;\n",
       "    }\n",
       "    .progress-bar-interrupted, .progress-bar-interrupted::-webkit-progress-bar {\n",
       "        background: #F44336;\n",
       "    }\n",
       "</style>\n"
      ],
      "text/plain": [
       "<IPython.core.display.HTML object>"
      ]
     },
     "metadata": {},
     "output_type": "display_data"
    },
    {
     "data": {
      "text/html": [
       "\n",
       "    <div>\n",
       "      <progress value='48000' class='' max='48000' style='width:300px; height:20px; vertical-align: middle;'></progress>\n",
       "      100.00% [48000/48000 00:46<00:00 Sampling 4 chains, 13 divergences]\n",
       "    </div>\n",
       "    "
      ],
      "text/plain": [
       "<IPython.core.display.HTML object>"
      ]
     },
     "metadata": {},
     "output_type": "display_data"
    },
    {
     "name": "stderr",
     "output_type": "stream",
     "text": [
      "Sampling 4 chains for 2_000 tune and 10_000 draw iterations (8_000 + 40_000 draws total) took 64 seconds.\n",
      "There was 1 divergence after tuning. Increase `target_accept` or reparameterize.\n",
      "There were 11 divergences after tuning. Increase `target_accept` or reparameterize.\n",
      "There was 1 divergence after tuning. Increase `target_accept` or reparameterize.\n"
     ]
    }
   ],
   "source": [
    "log2 = np.log(2)\n",
    "\n",
    "with pm.Model() as m:\n",
    "    beta0 = pm.Normal(\"beta0\", 0, tau=0.01)\n",
    "    beta1 = pm.Normal(\"beta1\", 0, tau=0.01)\n",
    "    α = pm.Exponential(\"α\", 3)\n",
    "\n",
    "    λ = exp(beta0 + beta1 * x)\n",
    "    β = λ ** (-1 / α)\n",
    "\n",
    "    obs_latent = pm.Weibull.dist(alpha=α, beta=β)\n",
    "    likelihood = pm.Censored(\n",
    "        \"likelihood\",\n",
    "        obs_latent,\n",
    "        lower=None,\n",
    "        upper=censored,\n",
    "        observed=y,\n",
    "    )\n",
    "\n",
    "    median0 = pm.Deterministic(\"median0\", (log2 * exp(-beta0)) ** (1 / α))\n",
    "    median1 = pm.Deterministic(\"median1\", (log2 * exp(-beta0 - beta1)) ** (1 / α))\n",
    "\n",
    "    trace = pm.sample(\n",
    "        10000,\n",
    "        tune=2000,\n",
    "        cores=4,\n",
    "        init=\"jitter+adapt_diag_grad\",\n",
    "        step=[pm.NUTS(target_accept=0.9)],\n",
    "    )"
   ]
  },
  {
   "cell_type": "code",
   "execution_count": 20,
   "id": "67ba50a2",
   "metadata": {
    "tags": [
     "full-width"
    ]
   },
   "outputs": [
    {
     "data": {
      "text/html": [
       "<div>\n",
       "<style scoped>\n",
       "    .dataframe tbody tr th:only-of-type {\n",
       "        vertical-align: middle;\n",
       "    }\n",
       "\n",
       "    .dataframe tbody tr th {\n",
       "        vertical-align: top;\n",
       "    }\n",
       "\n",
       "    .dataframe thead th {\n",
       "        text-align: right;\n",
       "    }\n",
       "</style>\n",
       "<table border=\"1\" class=\"dataframe\">\n",
       "  <thead>\n",
       "    <tr style=\"text-align: right;\">\n",
       "      <th></th>\n",
       "      <th>mean</th>\n",
       "      <th>sd</th>\n",
       "      <th>hdi_5%</th>\n",
       "      <th>hdi_95%</th>\n",
       "      <th>mcse_mean</th>\n",
       "      <th>mcse_sd</th>\n",
       "      <th>ess_bulk</th>\n",
       "      <th>ess_tail</th>\n",
       "      <th>r_hat</th>\n",
       "    </tr>\n",
       "  </thead>\n",
       "  <tbody>\n",
       "    <tr>\n",
       "      <th>beta0</th>\n",
       "      <td>-6.599</td>\n",
       "      <td>0.657</td>\n",
       "      <td>-7.632</td>\n",
       "      <td>-5.488</td>\n",
       "      <td>0.008</td>\n",
       "      <td>0.005</td>\n",
       "      <td>7694.0</td>\n",
       "      <td>8409.0</td>\n",
       "      <td>1.0</td>\n",
       "    </tr>\n",
       "    <tr>\n",
       "      <th>beta1</th>\n",
       "      <td>0.260</td>\n",
       "      <td>0.237</td>\n",
       "      <td>-0.130</td>\n",
       "      <td>0.651</td>\n",
       "      <td>0.002</td>\n",
       "      <td>0.001</td>\n",
       "      <td>20398.0</td>\n",
       "      <td>16749.0</td>\n",
       "      <td>1.0</td>\n",
       "    </tr>\n",
       "    <tr>\n",
       "      <th>α</th>\n",
       "      <td>0.999</td>\n",
       "      <td>0.096</td>\n",
       "      <td>0.843</td>\n",
       "      <td>1.159</td>\n",
       "      <td>0.001</td>\n",
       "      <td>0.001</td>\n",
       "      <td>7864.0</td>\n",
       "      <td>9257.0</td>\n",
       "      <td>1.0</td>\n",
       "    </tr>\n",
       "    <tr>\n",
       "      <th>median0</th>\n",
       "      <td>519.012</td>\n",
       "      <td>90.800</td>\n",
       "      <td>369.481</td>\n",
       "      <td>661.673</td>\n",
       "      <td>0.625</td>\n",
       "      <td>0.443</td>\n",
       "      <td>21251.0</td>\n",
       "      <td>24643.0</td>\n",
       "      <td>1.0</td>\n",
       "    </tr>\n",
       "    <tr>\n",
       "      <th>median1</th>\n",
       "      <td>399.620</td>\n",
       "      <td>71.604</td>\n",
       "      <td>284.827</td>\n",
       "      <td>513.780</td>\n",
       "      <td>0.483</td>\n",
       "      <td>0.341</td>\n",
       "      <td>21455.0</td>\n",
       "      <td>22387.0</td>\n",
       "      <td>1.0</td>\n",
       "    </tr>\n",
       "  </tbody>\n",
       "</table>\n",
       "</div>"
      ],
      "text/plain": [
       "            mean      sd   hdi_5%  hdi_95%  mcse_mean  mcse_sd  ess_bulk  \\\n",
       "beta0     -6.599   0.657   -7.632   -5.488      0.008    0.005    7694.0   \n",
       "beta1      0.260   0.237   -0.130    0.651      0.002    0.001   20398.0   \n",
       "α          0.999   0.096    0.843    1.159      0.001    0.001    7864.0   \n",
       "median0  519.012  90.800  369.481  661.673      0.625    0.443   21251.0   \n",
       "median1  399.620  71.604  284.827  513.780      0.483    0.341   21455.0   \n",
       "\n",
       "         ess_tail  r_hat  \n",
       "beta0      8409.0    1.0  \n",
       "beta1     16749.0    1.0  \n",
       "α          9257.0    1.0  \n",
       "median0   24643.0    1.0  \n",
       "median1   22387.0    1.0  "
      ]
     },
     "execution_count": 20,
     "metadata": {},
     "output_type": "execute_result"
    }
   ],
   "source": [
    "az.summary(trace, hdi_prob=0.9)"
   ]
  },
  {
   "cell_type": "markdown",
   "id": "a4a255d0",
   "metadata": {},
   "source": [
    "## Method 2: Imputed Censoring\n",
    "\n",
    "This method is from [this notebook](https://docs.pymc.io/projects/examples/en/latest/survival_analysis/censored_data.html#censored-data-model1) by [Luis Mario Domenzain](https://github.com/domenzain), [George Ho](https://github.com/eigenfoo), and [Dr. Ben Vincent](https://github.com/drbenvincent). This method imputes the values using what is almost another likelihood (not sure if it actually meets the definition of one, so I'm calling the variable ```impute_censored```) in the model, with the right-censored values as lower bounds. Since the two likelihoods share the same priors, this ends up working nearly as well as the previous method."
   ]
  },
  {
   "cell_type": "code",
   "execution_count": 9,
   "id": "7106ce25",
   "metadata": {},
   "outputs": [],
   "source": [
    "data = np.loadtxt(\"../data/gastric.txt\")\n",
    "x = data[:, 0].copy()\n",
    "censored_vals = data[:, 1].copy()\n",
    "y = data[:, 2].copy()\n",
    "\n",
    "# we need to separate the observed values and the censored values\n",
    "observed_mask = censored_vals == 0\n",
    "\n",
    "censored = censored_vals[~observed_mask]\n",
    "y_uncensored = y[observed_mask]\n",
    "x_censored = x[~observed_mask]\n",
    "x_uncensored = x[observed_mask]"
   ]
  },
  {
   "cell_type": "code",
   "execution_count": 10,
   "id": "f3d977ec",
   "metadata": {
    "tags": [
     "hide-output"
    ]
   },
   "outputs": [
    {
     "name": "stderr",
     "output_type": "stream",
     "text": [
      "Auto-assigning NUTS sampler...\n",
      "Initializing NUTS using jitter+adapt_diag...\n",
      "Multiprocess sampling (4 chains in 4 jobs)\n",
      "NUTS: [beta0, beta1, α, impute_censored]\n"
     ]
    },
    {
     "data": {
      "text/html": [
       "\n",
       "<style>\n",
       "    /* Turns off some styling */\n",
       "    progress {\n",
       "        /* gets rid of default border in Firefox and Opera. */\n",
       "        border: none;\n",
       "        /* Needs to be in here for Safari polyfill so background images work as expected. */\n",
       "        background-size: auto;\n",
       "    }\n",
       "    .progress-bar-interrupted, .progress-bar-interrupted::-webkit-progress-bar {\n",
       "        background: #F44336;\n",
       "    }\n",
       "</style>\n"
      ],
      "text/plain": [
       "<IPython.core.display.HTML object>"
      ]
     },
     "metadata": {},
     "output_type": "display_data"
    },
    {
     "data": {
      "text/html": [
       "\n",
       "    <div>\n",
       "      <progress value='48000' class='' max='48000' style='width:300px; height:20px; vertical-align: middle;'></progress>\n",
       "      100.00% [48000/48000 01:15<00:00 Sampling 4 chains, 2,167 divergences]\n",
       "    </div>\n",
       "    "
      ],
      "text/plain": [
       "<IPython.core.display.HTML object>"
      ]
     },
     "metadata": {},
     "output_type": "display_data"
    },
    {
     "name": "stderr",
     "output_type": "stream",
     "text": [
      "Sampling 4 chains for 2_000 tune and 10_000 draw iterations (8_000 + 40_000 draws total) took 95 seconds.\n",
      "There were 5 divergences after tuning. Increase `target_accept` or reparameterize.\n",
      "There were 699 divergences after tuning. Increase `target_accept` or reparameterize.\n",
      "There were 407 divergences after tuning. Increase `target_accept` or reparameterize.\n",
      "There were 1056 divergences after tuning. Increase `target_accept` or reparameterize.\n"
     ]
    }
   ],
   "source": [
    "log2 = np.log(2)\n",
    "\n",
    "with pm.Model() as m:\n",
    "    beta0 = pm.Normal(\"beta0\", 0, tau=0.0001)\n",
    "    beta1 = pm.Normal(\"beta1\", 0, tau=0.0001)\n",
    "    α = pm.Exponential(\"α\", 3)\n",
    "\n",
    "    λ_censored = exp(beta0 + beta1 * x_censored)\n",
    "    β_censored = λ_censored ** (-1 / α)\n",
    "\n",
    "    λ_uncensored = exp(beta0 + beta1 * x_uncensored)\n",
    "    β_uncensored = λ_uncensored ** (-1 / α)\n",
    "\n",
    "    impute_censored = pm.Bound(\n",
    "        \"impute_censored\",\n",
    "        pm.Weibull.dist(alpha=α, beta=β_censored),\n",
    "        lower=censored,\n",
    "        shape=censored.shape[0],\n",
    "    )\n",
    "\n",
    "    likelihood = pm.Weibull(\n",
    "        \"likelihood\",\n",
    "        alpha=α,\n",
    "        beta=β_uncensored,\n",
    "        observed=y_uncensored,\n",
    "        shape=y_uncensored.shape[0],\n",
    "    )\n",
    "\n",
    "    median0 = pm.Deterministic(\"median0\", (log2 * exp(-beta0)) ** (1 / α))\n",
    "    median1 = pm.Deterministic(\"median1\", (log2 * exp(-beta0 - beta1)) ** (1 / α))\n",
    "\n",
    "    trace = pm.sample(\n",
    "        10000, tune=2000, cores=4, init=\"auto\", step=[pm.NUTS(target_accept=0.95)]\n",
    "    )"
   ]
  },
  {
   "cell_type": "code",
   "execution_count": 11,
   "id": "ffca4170",
   "metadata": {
    "tags": [
     "full-width"
    ]
   },
   "outputs": [
    {
     "data": {
      "text/html": [
       "<div>\n",
       "<style scoped>\n",
       "    .dataframe tbody tr th:only-of-type {\n",
       "        vertical-align: middle;\n",
       "    }\n",
       "\n",
       "    .dataframe tbody tr th {\n",
       "        vertical-align: top;\n",
       "    }\n",
       "\n",
       "    .dataframe thead th {\n",
       "        text-align: right;\n",
       "    }\n",
       "</style>\n",
       "<table border=\"1\" class=\"dataframe\">\n",
       "  <thead>\n",
       "    <tr style=\"text-align: right;\">\n",
       "      <th></th>\n",
       "      <th>mean</th>\n",
       "      <th>sd</th>\n",
       "      <th>hdi_5%</th>\n",
       "      <th>hdi_95%</th>\n",
       "      <th>mcse_mean</th>\n",
       "      <th>mcse_sd</th>\n",
       "      <th>ess_bulk</th>\n",
       "      <th>ess_tail</th>\n",
       "      <th>r_hat</th>\n",
       "    </tr>\n",
       "  </thead>\n",
       "  <tbody>\n",
       "    <tr>\n",
       "      <th>beta0</th>\n",
       "      <td>-6.623</td>\n",
       "      <td>0.654</td>\n",
       "      <td>-7.669</td>\n",
       "      <td>-5.522</td>\n",
       "      <td>0.007</td>\n",
       "      <td>0.005</td>\n",
       "      <td>10152.0</td>\n",
       "      <td>14532.0</td>\n",
       "      <td>1.0</td>\n",
       "    </tr>\n",
       "    <tr>\n",
       "      <th>beta1</th>\n",
       "      <td>0.262</td>\n",
       "      <td>0.235</td>\n",
       "      <td>-0.119</td>\n",
       "      <td>0.655</td>\n",
       "      <td>0.002</td>\n",
       "      <td>0.001</td>\n",
       "      <td>19268.0</td>\n",
       "      <td>19355.0</td>\n",
       "      <td>1.0</td>\n",
       "    </tr>\n",
       "    <tr>\n",
       "      <th>α</th>\n",
       "      <td>1.002</td>\n",
       "      <td>0.096</td>\n",
       "      <td>0.847</td>\n",
       "      <td>1.160</td>\n",
       "      <td>0.001</td>\n",
       "      <td>0.001</td>\n",
       "      <td>10093.0</td>\n",
       "      <td>14778.0</td>\n",
       "      <td>1.0</td>\n",
       "    </tr>\n",
       "    <tr>\n",
       "      <th>impute_censored[0]</th>\n",
       "      <td>1472.780</td>\n",
       "      <td>636.127</td>\n",
       "      <td>882.070</td>\n",
       "      <td>2255.653</td>\n",
       "      <td>4.054</td>\n",
       "      <td>2.867</td>\n",
       "      <td>14953.0</td>\n",
       "      <td>12009.0</td>\n",
       "      <td>1.0</td>\n",
       "    </tr>\n",
       "    <tr>\n",
       "      <th>impute_censored[1]</th>\n",
       "      <td>1487.949</td>\n",
       "      <td>641.204</td>\n",
       "      <td>892.057</td>\n",
       "      <td>2255.269</td>\n",
       "      <td>3.751</td>\n",
       "      <td>2.652</td>\n",
       "      <td>18049.0</td>\n",
       "      <td>13539.0</td>\n",
       "      <td>1.0</td>\n",
       "    </tr>\n",
       "    <tr>\n",
       "      <th>impute_censored[2]</th>\n",
       "      <td>1622.217</td>\n",
       "      <td>635.952</td>\n",
       "      <td>1031.003</td>\n",
       "      <td>2382.012</td>\n",
       "      <td>3.792</td>\n",
       "      <td>2.681</td>\n",
       "      <td>17036.0</td>\n",
       "      <td>12023.0</td>\n",
       "      <td>1.0</td>\n",
       "    </tr>\n",
       "    <tr>\n",
       "      <th>impute_censored[3]</th>\n",
       "      <td>1627.546</td>\n",
       "      <td>633.158</td>\n",
       "      <td>1033.007</td>\n",
       "      <td>2415.428</td>\n",
       "      <td>4.164</td>\n",
       "      <td>2.944</td>\n",
       "      <td>14628.0</td>\n",
       "      <td>10610.0</td>\n",
       "      <td>1.0</td>\n",
       "    </tr>\n",
       "    <tr>\n",
       "      <th>impute_censored[4]</th>\n",
       "      <td>1898.058</td>\n",
       "      <td>647.580</td>\n",
       "      <td>1306.017</td>\n",
       "      <td>2686.712</td>\n",
       "      <td>4.502</td>\n",
       "      <td>3.183</td>\n",
       "      <td>12044.0</td>\n",
       "      <td>8742.0</td>\n",
       "      <td>1.0</td>\n",
       "    </tr>\n",
       "    <tr>\n",
       "      <th>impute_censored[5]</th>\n",
       "      <td>1930.314</td>\n",
       "      <td>642.605</td>\n",
       "      <td>1335.015</td>\n",
       "      <td>2715.673</td>\n",
       "      <td>3.719</td>\n",
       "      <td>2.630</td>\n",
       "      <td>18234.0</td>\n",
       "      <td>11669.0</td>\n",
       "      <td>1.0</td>\n",
       "    </tr>\n",
       "    <tr>\n",
       "      <th>impute_censored[6]</th>\n",
       "      <td>2038.692</td>\n",
       "      <td>638.144</td>\n",
       "      <td>1452.022</td>\n",
       "      <td>2813.702</td>\n",
       "      <td>3.710</td>\n",
       "      <td>2.623</td>\n",
       "      <td>17958.0</td>\n",
       "      <td>12279.0</td>\n",
       "      <td>1.0</td>\n",
       "    </tr>\n",
       "    <tr>\n",
       "      <th>impute_censored[7]</th>\n",
       "      <td>2070.568</td>\n",
       "      <td>651.225</td>\n",
       "      <td>1472.011</td>\n",
       "      <td>2861.291</td>\n",
       "      <td>3.726</td>\n",
       "      <td>2.635</td>\n",
       "      <td>19575.0</td>\n",
       "      <td>12098.0</td>\n",
       "      <td>1.0</td>\n",
       "    </tr>\n",
       "    <tr>\n",
       "      <th>impute_censored[8]</th>\n",
       "      <td>1143.888</td>\n",
       "      <td>803.643</td>\n",
       "      <td>381.109</td>\n",
       "      <td>2140.509</td>\n",
       "      <td>5.140</td>\n",
       "      <td>3.634</td>\n",
       "      <td>14465.0</td>\n",
       "      <td>8784.0</td>\n",
       "      <td>1.0</td>\n",
       "    </tr>\n",
       "    <tr>\n",
       "      <th>impute_censored[9]</th>\n",
       "      <td>1298.954</td>\n",
       "      <td>823.147</td>\n",
       "      <td>529.101</td>\n",
       "      <td>2299.573</td>\n",
       "      <td>5.246</td>\n",
       "      <td>3.710</td>\n",
       "      <td>14839.0</td>\n",
       "      <td>11565.0</td>\n",
       "      <td>1.0</td>\n",
       "    </tr>\n",
       "    <tr>\n",
       "      <th>impute_censored[10]</th>\n",
       "      <td>1711.650</td>\n",
       "      <td>822.144</td>\n",
       "      <td>945.036</td>\n",
       "      <td>2711.072</td>\n",
       "      <td>4.912</td>\n",
       "      <td>3.473</td>\n",
       "      <td>17619.0</td>\n",
       "      <td>13073.0</td>\n",
       "      <td>1.0</td>\n",
       "    </tr>\n",
       "    <tr>\n",
       "      <th>impute_censored[11]</th>\n",
       "      <td>1951.726</td>\n",
       "      <td>831.316</td>\n",
       "      <td>1180.005</td>\n",
       "      <td>2952.833</td>\n",
       "      <td>5.488</td>\n",
       "      <td>3.881</td>\n",
       "      <td>14700.0</td>\n",
       "      <td>10809.0</td>\n",
       "      <td>1.0</td>\n",
       "    </tr>\n",
       "    <tr>\n",
       "      <th>impute_censored[12]</th>\n",
       "      <td>2053.300</td>\n",
       "      <td>843.293</td>\n",
       "      <td>1277.005</td>\n",
       "      <td>3093.165</td>\n",
       "      <td>5.328</td>\n",
       "      <td>3.768</td>\n",
       "      <td>14883.0</td>\n",
       "      <td>10475.0</td>\n",
       "      <td>1.0</td>\n",
       "    </tr>\n",
       "    <tr>\n",
       "      <th>impute_censored[13]</th>\n",
       "      <td>2168.936</td>\n",
       "      <td>823.605</td>\n",
       "      <td>1397.004</td>\n",
       "      <td>3180.106</td>\n",
       "      <td>4.916</td>\n",
       "      <td>3.476</td>\n",
       "      <td>17566.0</td>\n",
       "      <td>11331.0</td>\n",
       "      <td>1.0</td>\n",
       "    </tr>\n",
       "    <tr>\n",
       "      <th>impute_censored[14]</th>\n",
       "      <td>2282.727</td>\n",
       "      <td>842.432</td>\n",
       "      <td>1512.048</td>\n",
       "      <td>3299.401</td>\n",
       "      <td>5.555</td>\n",
       "      <td>3.928</td>\n",
       "      <td>13882.0</td>\n",
       "      <td>10177.0</td>\n",
       "      <td>1.0</td>\n",
       "    </tr>\n",
       "    <tr>\n",
       "      <th>impute_censored[15]</th>\n",
       "      <td>2288.719</td>\n",
       "      <td>831.159</td>\n",
       "      <td>1519.005</td>\n",
       "      <td>3299.188</td>\n",
       "      <td>5.100</td>\n",
       "      <td>3.606</td>\n",
       "      <td>16989.0</td>\n",
       "      <td>12549.0</td>\n",
       "      <td>1.0</td>\n",
       "    </tr>\n",
       "    <tr>\n",
       "      <th>median0</th>\n",
       "      <td>520.482</td>\n",
       "      <td>91.206</td>\n",
       "      <td>369.296</td>\n",
       "      <td>659.093</td>\n",
       "      <td>0.639</td>\n",
       "      <td>0.454</td>\n",
       "      <td>20640.0</td>\n",
       "      <td>24459.0</td>\n",
       "      <td>1.0</td>\n",
       "    </tr>\n",
       "    <tr>\n",
       "      <th>median1</th>\n",
       "      <td>400.303</td>\n",
       "      <td>70.549</td>\n",
       "      <td>284.551</td>\n",
       "      <td>509.553</td>\n",
       "      <td>0.458</td>\n",
       "      <td>0.327</td>\n",
       "      <td>24132.0</td>\n",
       "      <td>26606.0</td>\n",
       "      <td>1.0</td>\n",
       "    </tr>\n",
       "  </tbody>\n",
       "</table>\n",
       "</div>"
      ],
      "text/plain": [
       "                         mean       sd    hdi_5%   hdi_95%  mcse_mean  \\\n",
       "beta0                  -6.623    0.654    -7.669    -5.522      0.007   \n",
       "beta1                   0.262    0.235    -0.119     0.655      0.002   \n",
       "α                       1.002    0.096     0.847     1.160      0.001   \n",
       "impute_censored[0]   1472.780  636.127   882.070  2255.653      4.054   \n",
       "impute_censored[1]   1487.949  641.204   892.057  2255.269      3.751   \n",
       "impute_censored[2]   1622.217  635.952  1031.003  2382.012      3.792   \n",
       "impute_censored[3]   1627.546  633.158  1033.007  2415.428      4.164   \n",
       "impute_censored[4]   1898.058  647.580  1306.017  2686.712      4.502   \n",
       "impute_censored[5]   1930.314  642.605  1335.015  2715.673      3.719   \n",
       "impute_censored[6]   2038.692  638.144  1452.022  2813.702      3.710   \n",
       "impute_censored[7]   2070.568  651.225  1472.011  2861.291      3.726   \n",
       "impute_censored[8]   1143.888  803.643   381.109  2140.509      5.140   \n",
       "impute_censored[9]   1298.954  823.147   529.101  2299.573      5.246   \n",
       "impute_censored[10]  1711.650  822.144   945.036  2711.072      4.912   \n",
       "impute_censored[11]  1951.726  831.316  1180.005  2952.833      5.488   \n",
       "impute_censored[12]  2053.300  843.293  1277.005  3093.165      5.328   \n",
       "impute_censored[13]  2168.936  823.605  1397.004  3180.106      4.916   \n",
       "impute_censored[14]  2282.727  842.432  1512.048  3299.401      5.555   \n",
       "impute_censored[15]  2288.719  831.159  1519.005  3299.188      5.100   \n",
       "median0               520.482   91.206   369.296   659.093      0.639   \n",
       "median1               400.303   70.549   284.551   509.553      0.458   \n",
       "\n",
       "                     mcse_sd  ess_bulk  ess_tail  r_hat  \n",
       "beta0                  0.005   10152.0   14532.0    1.0  \n",
       "beta1                  0.001   19268.0   19355.0    1.0  \n",
       "α                      0.001   10093.0   14778.0    1.0  \n",
       "impute_censored[0]     2.867   14953.0   12009.0    1.0  \n",
       "impute_censored[1]     2.652   18049.0   13539.0    1.0  \n",
       "impute_censored[2]     2.681   17036.0   12023.0    1.0  \n",
       "impute_censored[3]     2.944   14628.0   10610.0    1.0  \n",
       "impute_censored[4]     3.183   12044.0    8742.0    1.0  \n",
       "impute_censored[5]     2.630   18234.0   11669.0    1.0  \n",
       "impute_censored[6]     2.623   17958.0   12279.0    1.0  \n",
       "impute_censored[7]     2.635   19575.0   12098.0    1.0  \n",
       "impute_censored[8]     3.634   14465.0    8784.0    1.0  \n",
       "impute_censored[9]     3.710   14839.0   11565.0    1.0  \n",
       "impute_censored[10]    3.473   17619.0   13073.0    1.0  \n",
       "impute_censored[11]    3.881   14700.0   10809.0    1.0  \n",
       "impute_censored[12]    3.768   14883.0   10475.0    1.0  \n",
       "impute_censored[13]    3.476   17566.0   11331.0    1.0  \n",
       "impute_censored[14]    3.928   13882.0   10177.0    1.0  \n",
       "impute_censored[15]    3.606   16989.0   12549.0    1.0  \n",
       "median0                0.454   20640.0   24459.0    1.0  \n",
       "median1                0.327   24132.0   26606.0    1.0  "
      ]
     },
     "execution_count": 11,
     "metadata": {},
     "output_type": "execute_result"
    }
   ],
   "source": [
    "az.summary(trace, hdi_prob=0.9)"
   ]
  },
  {
   "cell_type": "code",
   "execution_count": 12,
   "id": "dd25cc24",
   "metadata": {},
   "outputs": [
    {
     "name": "stdout",
     "output_type": "stream",
     "text": [
      "Python implementation: CPython\n",
      "Python version       : 3.10.4\n",
      "IPython version      : 8.4.0\n",
      "\n",
      "pymc : 4.0.0\n",
      "numpy: 1.22.4\n",
      "arviz: 0.12.1\n",
      "\n"
     ]
    }
   ],
   "source": [
    "%watermark --iversions -v"
   ]
  },
  {
   "cell_type": "code",
   "execution_count": null,
   "id": "2af71326",
   "metadata": {},
   "outputs": [],
   "source": []
  }
 ],
 "metadata": {
  "kernelspec": {
   "display_name": "Python 3 (ipykernel)",
   "language": "python",
   "name": "python3"
  },
  "language_info": {
   "codemirror_mode": {
    "name": "ipython",
    "version": 3
   },
   "file_extension": ".py",
   "mimetype": "text/x-python",
   "name": "python",
   "nbconvert_exporter": "python",
   "pygments_lexer": "ipython3",
   "version": "3.10.4"
  }
 },
 "nbformat": 4,
 "nbformat_minor": 5
}
