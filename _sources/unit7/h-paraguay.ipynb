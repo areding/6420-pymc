{
 "cells": [
  {
   "cell_type": "code",
   "execution_count": 1,
   "id": "b23f054d",
   "metadata": {},
   "outputs": [],
   "source": [
    "import pymc as pm\n",
    "import pandas as pd\n",
    "import numpy as np\n",
    "import arviz as az\n",
    "\n",
    "%load_ext lab_black\n",
    "%load_ext watermark"
   ]
  },
  {
   "cell_type": "markdown",
   "id": "05043afc",
   "metadata": {},
   "source": [
    "# Paraguay vaccination status\n",
    "\n",
    "This example goes over a multilevel, or hierarchical, logistic regression model. It also shows how to use the PyMC coordinate system.\n",
    "\n",
    "Adapted from [unit 7: paraguay.odc](https://raw.githubusercontent.com/areding/6420-pymc/main/original_examples/Codes4Unit7/paraguay.odc)\n",
    "\n",
    "Data can be found [here](https://raw.githubusercontent.com/areding/6420-pymc/main/data/paraguay.csv).\n",
    "\n",
    "Associated lecture video: Unit 7 Lesson 19"
   ]
  },
  {
   "cell_type": "markdown",
   "id": "85da87e2",
   "metadata": {},
   "source": [
    "NOTE: add paraguaynocluster.odc as well."
   ]
  },
  {
   "cell_type": "markdown",
   "id": "4dbfedb6",
   "metadata": {},
   "source": [
    "## Problem statement\n",
    "\n",
    "This example considers factors influencing the vaccination status among 3424 children of 2552 mothers among 264 clusters in Paraguay. In this analysis, we're specifically interested in mother-level factors related to child immunization. However, there is randomness associated with different clusters.\n",
    "\n",
    "- ID3:\t\t   Cluster number\n",
    "- VACCODE:  =1 if fully immunized, =0 otherwise\n",
    "- LB.TOT:\t  No. of live births\n",
    "- MAGE2:\t  mother age  <20 =1, otherwise = 0\t\n",
    "- UN2:\t\t    consensual union = 1, otherwise = 0 \n",
    "- TOILET2:\t  unsafe toilet in hh = 1, otherwise = 0\t\n",
    "- PR.SPOC1:  spouse unskilled laborer = 1, otherwise = 0\n",
    "- SPANISH2:  Spanish not hh language = 1, otherwise = 0\n",
    "\n",
    "-----\n",
    "\n",
    "We need to add a random effect by cluster. This is a good use case for the PyMC coordinates system."
   ]
  },
  {
   "cell_type": "code",
   "execution_count": 3,
   "id": "396d9420",
   "metadata": {},
   "outputs": [
    {
     "name": "stdout",
     "output_type": "stream",
     "text": [
      "<class 'pandas.core.frame.DataFrame'>\n",
      "RangeIndex: 3424 entries, 0 to 3423\n",
      "Data columns (total 8 columns):\n",
      " #   Column    Non-Null Count  Dtype\n",
      "---  ------    --------------  -----\n",
      " 0   ID3       3424 non-null   int64\n",
      " 1   VACCODE   3424 non-null   int64\n",
      " 2   LB.TOT    3424 non-null   int64\n",
      " 3   MAGE2     3424 non-null   int64\n",
      " 4   UN2       3424 non-null   int64\n",
      " 5   TOILET2   3424 non-null   int64\n",
      " 6   PR.SPOC1  3424 non-null   int64\n",
      " 7   SPANISH2  3424 non-null   int64\n",
      "dtypes: int64(8)\n",
      "memory usage: 214.1 KB\n"
     ]
    }
   ],
   "source": [
    "data = pd.read_csv(\"../data/paraguay.csv\")\n",
    "data.info()"
   ]
  },
  {
   "cell_type": "code",
   "execution_count": 4,
   "id": "ef249ccc",
   "metadata": {},
   "outputs": [
    {
     "data": {
      "text/plain": [
       "((3424,), (3424,), (3424, 7))"
      ]
     },
     "execution_count": 4,
     "metadata": {},
     "output_type": "execute_result"
    }
   ],
   "source": [
    "y = data[\"VACCODE\"].to_numpy()\n",
    "# separate array for clusters\n",
    "clusters = data[\"ID3\"].to_numpy()\n",
    "X = data.drop([\"VACCODE\", \"ID3\"], axis=1).to_numpy()\n",
    "X_aug = np.concatenate((np.ones((X.shape[0], 1)), X), axis=1)\n",
    "y.shape, clusters.shape, X_aug.shape"
   ]
  },
  {
   "cell_type": "code",
   "execution_count": 5,
   "id": "9a124058",
   "metadata": {},
   "outputs": [],
   "source": [
    "cols = X_aug.shape[1]"
   ]
  },
  {
   "cell_type": "code",
   "execution_count": 6,
   "id": "12d18c59",
   "metadata": {},
   "outputs": [],
   "source": [
    "# set up alternate coordinates, the ID3 or clusters column\n",
    "cluster_idx, clusters = pd.factorize(data.ID3)\n",
    "coords = {\"cluster\": clusters, \"id\": data.index.to_numpy()}"
   ]
  },
  {
   "cell_type": "code",
   "execution_count": 7,
   "id": "581456ec",
   "metadata": {
    "tags": [
     "hide_output"
    ]
   },
   "outputs": [
    {
     "name": "stderr",
     "output_type": "stream",
     "text": [
      "Auto-assigning NUTS sampler...\n",
      "Initializing NUTS using jitter+adapt_diag...\n",
      "Multiprocess sampling (4 chains in 4 jobs)\n",
      "NUTS: [cluster_tau, beta, cluster_effect]\n"
     ]
    },
    {
     "data": {
      "text/html": [
       "\n",
       "<style>\n",
       "    /* Turns off some styling */\n",
       "    progress {\n",
       "        /* gets rid of default border in Firefox and Opera. */\n",
       "        border: none;\n",
       "        /* Needs to be in here for Safari polyfill so background images work as expected. */\n",
       "        background-size: auto;\n",
       "    }\n",
       "    .progress-bar-interrupted, .progress-bar-interrupted::-webkit-progress-bar {\n",
       "        background: #F44336;\n",
       "    }\n",
       "</style>\n"
      ],
      "text/plain": [
       "<IPython.core.display.HTML object>"
      ]
     },
     "metadata": {},
     "output_type": "display_data"
    },
    {
     "data": {
      "text/html": [
       "\n",
       "    <div>\n",
       "      <progress value='16000' class='' max='16000' style='width:300px; height:20px; vertical-align: middle;'></progress>\n",
       "      100.00% [16000/16000 03:47<00:00 Sampling 4 chains, 0 divergences]\n",
       "    </div>\n",
       "    "
      ],
      "text/plain": [
       "<IPython.core.display.HTML object>"
      ]
     },
     "metadata": {},
     "output_type": "display_data"
    },
    {
     "name": "stderr",
     "output_type": "stream",
     "text": [
      "Sampling 4 chains for 1_000 tune and 3_000 draw iterations (4_000 + 12_000 draws total) took 243 seconds.\n"
     ]
    }
   ],
   "source": [
    "# note that the coords dict is passed to pm.Model call\n",
    "with pm.Model(coords=coords) as m:\n",
    "    X_data = pm.Data(\"X_data\", X_aug, mutable=True)\n",
    "    y_data = pm.Data(\"y_data\", y, mutable=True)\n",
    "    clust_idx = pm.Data(\"cluster_idx\", cluster_idx, dims=\"id\", mutable=True)\n",
    "\n",
    "    cluster_tau = pm.Gamma(\"cluster_tau\", 0.01, 0.01)\n",
    "    cluster_variance = pm.Deterministic(\"cluster_variance\", 1 / cluster_tau)\n",
    "    beta = pm.Normal(\"beta\", 0, tau=1e-3, shape=cols)\n",
    "\n",
    "    cluster_effect = pm.Normal(\"cluster_effect\", 0, tau=cluster_tau, dims=\"cluster\")\n",
    "    p = pm.math.dot(X_data, beta) + cluster_effect[clust_idx]\n",
    "\n",
    "    pm.Bernoulli(\"likelihood\", logit_p=p, observed=y_data)\n",
    "\n",
    "    trace = pm.sample(3000)"
   ]
  },
  {
   "cell_type": "code",
   "execution_count": 8,
   "id": "2d24b144",
   "metadata": {},
   "outputs": [
    {
     "data": {
      "text/html": [
       "<div>\n",
       "<style scoped>\n",
       "    .dataframe tbody tr th:only-of-type {\n",
       "        vertical-align: middle;\n",
       "    }\n",
       "\n",
       "    .dataframe tbody tr th {\n",
       "        vertical-align: top;\n",
       "    }\n",
       "\n",
       "    .dataframe thead th {\n",
       "        text-align: right;\n",
       "    }\n",
       "</style>\n",
       "<table border=\"1\" class=\"dataframe\">\n",
       "  <thead>\n",
       "    <tr style=\"text-align: right;\">\n",
       "      <th></th>\n",
       "      <th>mean</th>\n",
       "      <th>sd</th>\n",
       "      <th>hdi_3%</th>\n",
       "      <th>hdi_97%</th>\n",
       "    </tr>\n",
       "  </thead>\n",
       "  <tbody>\n",
       "    <tr>\n",
       "      <th>beta[0]</th>\n",
       "      <td>1.445</td>\n",
       "      <td>0.133</td>\n",
       "      <td>1.198</td>\n",
       "      <td>1.695</td>\n",
       "    </tr>\n",
       "    <tr>\n",
       "      <th>beta[1]</th>\n",
       "      <td>-0.070</td>\n",
       "      <td>0.015</td>\n",
       "      <td>-0.098</td>\n",
       "      <td>-0.042</td>\n",
       "    </tr>\n",
       "    <tr>\n",
       "      <th>beta[2]</th>\n",
       "      <td>-0.563</td>\n",
       "      <td>0.206</td>\n",
       "      <td>-0.954</td>\n",
       "      <td>-0.180</td>\n",
       "    </tr>\n",
       "    <tr>\n",
       "      <th>beta[3]</th>\n",
       "      <td>-0.196</td>\n",
       "      <td>0.097</td>\n",
       "      <td>-0.384</td>\n",
       "      <td>-0.019</td>\n",
       "    </tr>\n",
       "    <tr>\n",
       "      <th>beta[4]</th>\n",
       "      <td>-0.692</td>\n",
       "      <td>0.136</td>\n",
       "      <td>-0.943</td>\n",
       "      <td>-0.432</td>\n",
       "    </tr>\n",
       "    <tr>\n",
       "      <th>beta[5]</th>\n",
       "      <td>-0.284</td>\n",
       "      <td>0.110</td>\n",
       "      <td>-0.485</td>\n",
       "      <td>-0.075</td>\n",
       "    </tr>\n",
       "    <tr>\n",
       "      <th>beta[6]</th>\n",
       "      <td>-0.620</td>\n",
       "      <td>0.100</td>\n",
       "      <td>-0.810</td>\n",
       "      <td>-0.440</td>\n",
       "    </tr>\n",
       "    <tr>\n",
       "      <th>cluster_variance</th>\n",
       "      <td>0.530</td>\n",
       "      <td>0.095</td>\n",
       "      <td>0.362</td>\n",
       "      <td>0.712</td>\n",
       "    </tr>\n",
       "  </tbody>\n",
       "</table>\n",
       "</div>"
      ],
      "text/plain": [
       "                   mean     sd  hdi_3%  hdi_97%\n",
       "beta[0]           1.445  0.133   1.198    1.695\n",
       "beta[1]          -0.070  0.015  -0.098   -0.042\n",
       "beta[2]          -0.563  0.206  -0.954   -0.180\n",
       "beta[3]          -0.196  0.097  -0.384   -0.019\n",
       "beta[4]          -0.692  0.136  -0.943   -0.432\n",
       "beta[5]          -0.284  0.110  -0.485   -0.075\n",
       "beta[6]          -0.620  0.100  -0.810   -0.440\n",
       "cluster_variance  0.530  0.095   0.362    0.712"
      ]
     },
     "execution_count": 8,
     "metadata": {},
     "output_type": "execute_result"
    }
   ],
   "source": [
    "az.summary(\n",
    "    trace, var_names=[\"beta\", \"cluster_variance\"], filter_vars=\"like\", kind=\"stats\"\n",
    ")"
   ]
  },
  {
   "cell_type": "markdown",
   "id": "53d2f4de",
   "metadata": {},
   "source": [
    "Links on coordinates:\n",
    "- https://oriolabrilpla.cat/python/arviz/pymc3/xarray/2020/09/22/pymc3-arviz.html\n",
    "- "
   ]
  },
  {
   "cell_type": "code",
   "execution_count": 9,
   "id": "2a06fca6",
   "metadata": {},
   "outputs": [
    {
     "name": "stdout",
     "output_type": "stream",
     "text": [
      "Python implementation: CPython\n",
      "Python version       : 3.10.4\n",
      "IPython version      : 8.4.0\n",
      "\n",
      "pandas: 1.4.2\n",
      "numpy : 1.22.4\n",
      "pymc  : 4.0.0\n",
      "arviz : 0.12.1\n",
      "\n"
     ]
    }
   ],
   "source": [
    "%watermark -n -u -v -iv -p aesara,aeppl"
   ]
  },
  {
   "cell_type": "code",
   "execution_count": null,
   "id": "1806a854",
   "metadata": {},
   "outputs": [],
   "source": []
  }
 ],
 "metadata": {
  "kernelspec": {
   "display_name": "Python 3 (ipykernel)",
   "language": "python",
   "name": "python3"
  },
  "language_info": {
   "codemirror_mode": {
    "name": "ipython",
    "version": 3
   },
   "file_extension": ".py",
   "mimetype": "text/x-python",
   "name": "python",
   "nbconvert_exporter": "python",
   "pygments_lexer": "ipython3",
   "version": "3.10.4"
  }
 },
 "nbformat": 4,
 "nbformat_minor": 5
}
