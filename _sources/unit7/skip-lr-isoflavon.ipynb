{
 "cells": [
  {
   "cell_type": "code",
   "execution_count": 2,
   "id": "fb0ad8d6",
   "metadata": {},
   "outputs": [],
   "source": [
    "import pymc as pm\n",
    "import numpy as np\n",
    "import arviz as az\n",
    "import pandas as pd\n",
    "\n",
    "%load_ext lab_black\n",
    "%load_ext watermark"
   ]
  },
  {
   "cell_type": "markdown",
   "id": "91ff55a6",
   "metadata": {},
   "source": [
    "# Isoflavon\n",
    "\n",
    "Adapted from [unit 7: isoflavon.odc](https://raw.githubusercontent.com/areding/6420-pymc/main/original_examples/Codes4Unit7/isoflavon.odc) and [isoflavonopen.odc](https://raw.githubusercontent.com/areding/6420-pymc/main/original_examples/Codes4Unit7/isoflavonopen.odc)\n",
    "\n",
    "No associated lecture, but almost identical to the Simvastatin example.\n",
    "\n",
    "In fact, skipping this one because I don't see any difference."
   ]
  },
  {
   "cell_type": "markdown",
   "id": "5ac1a91e",
   "metadata": {},
   "source": [
    "## Problem statement\n",
    "\n",
    "### Isoflavones and ALP Activity  \n",
    "\n",
    "A team of students in Quantitative Engineering Physiology  Lab (BMED 3610) at GaTech wants to see the effect of Daidzein and Genistein, two isoflavones from soybeans, and time period cultured has on the Alkaline Phosphatase Activity (ALP) of osteoblastic cells. An increase in ALP activity would indicate these immature bone cells are differentiating and moving towards matrix maturation. The team cultures 3 identical well plates with wells of control, cells with Daidzein treatment, and cells with Genistein treatment in each. The ALP was measured on day 2 for well plate 1, day 6 for well plate 2, and day 10 for well plate 3. Drug was coded as 1 for Control, 2 for Daidzein, and 3 for Genistein. Days 2,6, and 10 are coded by 1,2, and 3 respectively. ALP Activity was multiplied by a factor of  10^6. \n",
    "\n",
    "(a) Did the drug treatment or the time have an effect on the ALP activity? If so, which drug treatment group or time period had an inhibitory or stimulatory effect?\n",
    "\n",
    "(b) Was there a significant interaction between drug treatment and the time?\n",
    "\n",
    "\n",
    "## Model 1"
   ]
  },
  {
   "cell_type": "code",
   "execution_count": 3,
   "id": "5489cb85",
   "metadata": {},
   "outputs": [],
   "source": [
    "data = pd.read_csv(\"../data/isoflavon_data.csv\")"
   ]
  },
  {
   "cell_type": "code",
   "execution_count": null,
   "id": "3f51a2ec",
   "metadata": {},
   "outputs": [],
   "source": []
  },
  {
   "cell_type": "code",
   "execution_count": null,
   "id": "0ca3617b",
   "metadata": {},
   "outputs": [],
   "source": []
  },
  {
   "cell_type": "markdown",
   "id": "2c15e132",
   "metadata": {},
   "source": [
    "## Model 2"
   ]
  },
  {
   "cell_type": "code",
   "execution_count": null,
   "id": "7ace5c30",
   "metadata": {},
   "outputs": [],
   "source": [
    "\n"
   ]
  },
  {
   "cell_type": "code",
   "execution_count": 18,
   "id": "de15e7b9",
   "metadata": {},
   "outputs": [
    {
     "name": "stdout",
     "output_type": "stream",
     "text": [
      "Python implementation: CPython\n",
      "Python version       : 3.10.1\n",
      "IPython version      : 7.31.0\n",
      "\n",
      "numpy : 1.22.0\n",
      "arviz : 0.11.4\n",
      "pymc  : 4.0.0b1\n",
      "pandas: 1.3.5\n",
      "\n"
     ]
    }
   ],
   "source": [
    "%watermark -n -u -v -iv -p aesara,aeppl"
   ]
  },
  {
   "cell_type": "code",
   "execution_count": null,
   "id": "07786128",
   "metadata": {},
   "outputs": [],
   "source": []
  }
 ],
 "metadata": {
  "kernelspec": {
   "display_name": "Python 3 (ipykernel)",
   "language": "python",
   "name": "python3"
  },
  "language_info": {
   "codemirror_mode": {
    "name": "ipython",
    "version": 3
   },
   "file_extension": ".py",
   "mimetype": "text/x-python",
   "name": "python",
   "nbconvert_exporter": "python",
   "pygments_lexer": "ipython3",
   "version": "3.11.0"
  }
 },
 "nbformat": 4,
 "nbformat_minor": 5
}
