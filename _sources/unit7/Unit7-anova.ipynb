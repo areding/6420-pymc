{
 "cells": [
  {
   "cell_type": "markdown",
   "id": "695ab09f-d9c2-4226-bda8-b888855af2f2",
   "metadata": {
    "editable": true,
    "slideshow": {
     "slide_type": ""
    },
    "tags": []
   },
   "source": [
    "# 6. Analysis of Variance\n",
    "\n",
    "## One-Way ANOVA\n",
    "\n",
    "In an ANOVA model, we are trying to discern whether the means of multiple treatment groups are equivalent or different. The null hypothesis is that the mean of all treatment groups are equal:\n",
    "\n",
    "$$\\begin{align*}\n",
    "H_0 & : \\mu_1 = \\mu_2 = ... = \\mu_a \\\\\n",
    "H_1 & : \\text{one or more groups have a different } \\mu\n",
    "\\end{align*}$$\n",
    "\n",
    "The ANOVA model is defined as\n",
    "\n",
    "$$\\begin{align*}\n",
    "y_{ij} & \\sim N(\\mu_i, \\sigma^2) \\\\\n",
    "\\mu_i & = \\mu + a_i, \\space i = 1,...,a \\space ; j = 1,...,n_i\n",
    "\\end{align*}$$\n",
    "\n",
    "where $i$ represents the treatment group and $j$ is the sample number. Variance $\\sigma^2$ is assumed to be common among all groups. $\\mu$ is the grand mean of all the data, and $a_i$ is the treatment effect of the $i$th group. Now we can re-define the null hypothesis as:\n",
    "\n",
    "$$\\begin{align*}\n",
    "H_0 & : a_1 = a_2 = ... = a_a \\\\\n",
    "\\end{align*}$$\n",
    "\n",
    "which basically is interpreted as the difference in treatment groups is equal to zero. In the model, we will need to use one of 2 constraints to have an acceptable degrees of freedom. In the sum-to-zero (STZ) constraint, the sum of $a$'s are equal to zero. Or, we can set one of the $a$'s, say $a_1$, to zero.\n",
    "\n",
    "In classical statistics, an ANOVA table is built and an F-test is used to determine if $H_0$ is rejected. In the case where $H_0$ is rejected, we then would need to make additional models for each comparison of treatment groups to further analyze treatment effects.\n",
    "\n",
    "The Bayesian approach to ANOVA is to set priors on $\\mu$, $a_1,a_2,...,a_a$, and $\\sigma^2$. The Bayesian model is constructed as:\n",
    "\n",
    "$$ \n",
    "\\begin{align*}\n",
    "y_i & \\sim N(\\mu_i,\\sigma^2) && \\text{likelihood}\\\\ \\\\\n",
    "\\mu & \\sim  N(0,\\sigma_0^2) && \\text{prior: grand mean}\\\\\n",
    "\\mu_i & = \\mu + a_i && \\text{deterministic relationship}\\\\\n",
    "a_i & \\sim  N(0,\\sigma_i^2) && \\text{prior: } a_i\\\\\n",
    "\\tau &\\sim Ga(0.001,0.001) && \\text{prior: } \\tau\\\\\n",
    "\\sigma^2 & =  1/\\tau && \\text{deterministic relationship}\\\\ \\\\\n",
    "\\text{Subject to: } & \\sum a_i = 0 && \\text{STZ constraint}\\\\\n",
    "\\end{align*}\n",
    "$$\n",
    "\n",
    "Here $\\sigma_0^2$ and $\\sigma_i^2$ are representing prior variances of the grand mean and treatment groups, respectively. Non-informative variances might be something like $\\sigma_0^2 = 1000$. To assess $H_0$, we will look at the posterior distributions of the $a_i$'s to see if they are significantly different than zero. If we want to compare treatment groups, we can calculate their difference in the Bayesian model, and then look at the posterior distribution of the difference to see if it's significantly different than zero."
   ]
  },
  {
   "cell_type": "markdown",
   "id": "b4c3f553",
   "metadata": {},
   "source": [
    "## Authors\n",
    "\n",
    "Jason Naramore, August 2024."
   ]
  }
 ],
 "metadata": {
  "kernelspec": {
   "display_name": "Python 3 (ipykernel)",
   "language": "python",
   "name": "python3"
  },
  "language_info": {
   "codemirror_mode": {
    "name": "ipython",
    "version": 3
   },
   "file_extension": ".py",
   "mimetype": "text/x-python",
   "name": "python",
   "nbconvert_exporter": "python",
   "pygments_lexer": "ipython3",
   "version": "3.11.4"
  }
 },
 "nbformat": 4,
 "nbformat_minor": 5
}
