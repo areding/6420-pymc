{
 "cells": [
  {
   "cell_type": "markdown",
   "id": "a63c1772",
   "metadata": {},
   "source": [
    "# Supplementary Exercises\n",
    "\n",
    "```{warning}\n",
    "This page contains solutions! We recommend attempting each problem before peeking.\n",
    "```"
   ]
  },
  {
   "cell_type": "markdown",
   "id": "7a299dde",
   "metadata": {},
   "source": [
    "## 1. Beetles (Bliss Data)\n",
    "In his 1935 paper, Bliss provides a table showing a number of flour beetles killed after 5 hours of exposure to gaseous carbon disulfide at various concentrations. This data set has since been used extensively by statisticians to illustrate and compare models for binary and binomial data.\n",
    "\n",
    "Use logistic regression on the following data:\n",
    "\n",
    "``` python\n",
    "x = np.array([1.6907, 1.7242, 1.7552, 1.7842, 1.8113, 1.8369, 1.8610, 1.8839])\n",
    "n = np.array([59, 60, 62, 56, 63, 59, 62, 60])\n",
    "y = np.array([6, 13, 18, 28, 52, 53, 61, 60])\n",
    "```\n",
    "\n",
    "Use one of the logit, probit, cloglog, loglog, or cauchyit link functions.\n",
    "\n",
    "```{admonition} Solution\n",
    ":class: tip, dropdown\n",
    "\n",
    "The logistic regression model will look like this:\n",
    "\n",
    "\\begin{align*}\n",
    "y_i | \\boldsymbol{\\beta}, \\mathbf{x}_i &\\sim \\text{Binomial}(n_i, p_i) \\\\\n",
    "g(p_i) &= \\beta_0 + \\sum_{j=1}^p \\beta_j x_{ij} \\\\\n",
    "\\beta_0 &\\sim \\mathcal{N}(0, \\sigma_0^2) \\\\\n",
    "\\beta_j &\\sim \\mathcal{N}(0, \\sigma^2), \\quad j = 0, 1, \\ldots, p\n",
    "\\end{align*}\n",
    "\n",
    "where $g(\\cdot)$ is the link function.\n",
    "\n",
    "**For logit:**\n",
    "\n",
    "$$\n",
    "\\text{logit}(p) = \\ln\\left(\\frac{p}{1-p}\\right)\n",
    "$$\n",
    "\n",
    "and its inverse $g^{-1}(\\cdot)$ is the logistic function:\n",
    "\n",
    "$$\n",
    "\\text{logistic}(x) = \\frac{1}{1 + e^{-x}}\n",
    "$$\n",
    "\n",
    "**For probit:**\n",
    "\n",
    "$$\n",
    "\\text{probit}(p) = \\Phi^{-1}(p)\n",
    "$$\n",
    "\n",
    "where $\\Phi$ is the cumulative distribution function of the standard normal distribution:\n",
    "\n",
    "$$\n",
    "\\Phi(x) = \\frac{1}{2}\\left[1 + \\text{erf}\\left(\\frac{x}{\\sqrt{2}}\\right)\\right]\n",
    "$$\n",
    "\n",
    "$\\text{erf}$ is the error function:\n",
    "\n",
    "$$\n",
    "\\text{erf}(x) = \\frac{2}{\\sqrt{\\pi}} \\int_0^x e^{-t^2} \\, dt\n",
    "$$\n",
    "\n",
    "**For cloglog (complementary log-log):**\n",
    "\n",
    "$$\n",
    "\\text{cloglog}(p) = \\log(-\\log(1 - p))\n",
    "$$\n",
    "\n",
    "and its inverse $g^{-1}(\\cdot)$ is:\n",
    "\n",
    "$$\n",
    "g^{-1}(x) = 1 - e^{-e^x}\n",
    "$$\n",
    "\n",
    "**For loglog:**\n",
    "\n",
    "$$\n",
    "\\text{loglog}(p) = -\\log(-\\log(p))\n",
    "$$\n",
    "\n",
    "and its inverse $g^{-1}(\\cdot)$ is:\n",
    "\n",
    "$$\n",
    "g^{-1}(x) = e^{-e^{-x}}\n",
    "$$\n",
    "\n",
    "**For cauchyit:**\n",
    "\n",
    "$$\n",
    "\\text{cauchyit}(p) = \\tan\\left(\\pi \\left(p - \\frac{1}{2}\\right)\\right)\n",
    "$$\n",
    "\n",
    "and its inverse $g^{-1}(\\cdot)$ is:\n",
    "\n",
    "$$\n",
    "g^{-1}(x) = \\frac{1}{2} + \\frac{1}{\\pi} \\arctan(x)\n",
    "$$\n",
    "\n",
    "```"
   ]
  },
  {
   "cell_type": "code",
   "execution_count": 16,
   "id": "a6d402b7",
   "metadata": {
    "tags": [
     "hide-cell"
    ]
   },
   "outputs": [
    {
     "name": "stderr",
     "output_type": "stream",
     "text": [
      "Auto-assigning NUTS sampler...\n",
      "Initializing NUTS using jitter+adapt_diag...\n",
      "Multiprocess sampling (4 chains in 4 jobs)\n",
      "NUTS: [beta0, beta1]\n"
     ]
    },
    {
     "data": {
      "text/html": [
       "\n",
       "<style>\n",
       "    /* Turns off some styling */\n",
       "    progress {\n",
       "        /* gets rid of default border in Firefox and Opera. */\n",
       "        border: none;\n",
       "        /* Needs to be in here for Safari polyfill so background images work as expected. */\n",
       "        background-size: auto;\n",
       "    }\n",
       "    progress:not([value]), progress:not([value])::-webkit-progress-bar {\n",
       "        background: repeating-linear-gradient(45deg, #7e7e7e, #7e7e7e 10px, #5c5c5c 10px, #5c5c5c 20px);\n",
       "    }\n",
       "    .progress-bar-interrupted, .progress-bar-interrupted::-webkit-progress-bar {\n",
       "        background: #F44336;\n",
       "    }\n",
       "</style>\n"
      ],
      "text/plain": [
       "<IPython.core.display.HTML object>"
      ]
     },
     "metadata": {},
     "output_type": "display_data"
    },
    {
     "data": {
      "text/html": [
       "\n",
       "    <div>\n",
       "      <progress value='24000' class='' max='24000' style='width:300px; height:20px; vertical-align: middle;'></progress>\n",
       "      100.00% [24000/24000 00:10&lt;00:00 Sampling 4 chains, 0 divergences]\n",
       "    </div>\n",
       "    "
      ],
      "text/plain": [
       "<IPython.core.display.HTML object>"
      ]
     },
     "metadata": {},
     "output_type": "display_data"
    },
    {
     "name": "stderr",
     "output_type": "stream",
     "text": [
      "Sampling 4 chains for 1_000 tune and 5_000 draw iterations (4_000 + 20_000 draws total) took 11 seconds.\n"
     ]
    },
    {
     "data": {
      "text/html": [
       "<div>\n",
       "<style scoped>\n",
       "    .dataframe tbody tr th:only-of-type {\n",
       "        vertical-align: middle;\n",
       "    }\n",
       "\n",
       "    .dataframe tbody tr th {\n",
       "        vertical-align: top;\n",
       "    }\n",
       "\n",
       "    .dataframe thead th {\n",
       "        text-align: right;\n",
       "    }\n",
       "</style>\n",
       "<table border=\"1\" class=\"dataframe\">\n",
       "  <thead>\n",
       "    <tr style=\"text-align: right;\">\n",
       "      <th></th>\n",
       "      <th>mean</th>\n",
       "      <th>sd</th>\n",
       "      <th>hdi_3%</th>\n",
       "      <th>hdi_97%</th>\n",
       "    </tr>\n",
       "  </thead>\n",
       "  <tbody>\n",
       "    <tr>\n",
       "      <th>beta0</th>\n",
       "      <td>-60.962</td>\n",
       "      <td>5.224</td>\n",
       "      <td>-70.699</td>\n",
       "      <td>-51.333</td>\n",
       "    </tr>\n",
       "    <tr>\n",
       "      <th>beta1</th>\n",
       "      <td>34.408</td>\n",
       "      <td>2.937</td>\n",
       "      <td>29.094</td>\n",
       "      <td>39.977</td>\n",
       "    </tr>\n",
       "  </tbody>\n",
       "</table>\n",
       "</div>"
      ],
      "text/plain": [
       "         mean     sd  hdi_3%  hdi_97%\n",
       "beta0 -60.962  5.224 -70.699  -51.333\n",
       "beta1  34.408  2.937  29.094   39.977"
      ]
     },
     "execution_count": 16,
     "metadata": {},
     "output_type": "execute_result"
    }
   ],
   "source": [
    "import pymc as pm\n",
    "import arviz as az\n",
    "import pandas as pd\n",
    "import numpy as np\n",
    "from pymc.math import exp, invlogit, invprobit, arctan\n",
    "\n",
    "\n",
    "# Complementary log-log transformation\n",
    "def invcloglog(x):\n",
    "    return 1 - exp(-exp(x))\n",
    "\n",
    "\n",
    "# Log-log transformation\n",
    "def invloglog(x):\n",
    "    return exp(-exp(-x))\n",
    "\n",
    "\n",
    "# Cauchit transformation\n",
    "def invcauchit(x):\n",
    "    return 0.5 + (1 / np.pi) * arctan(x)\n",
    "\n",
    "\n",
    "x = np.array([1.6907, 1.7242, 1.7552, 1.7842, 1.8113, 1.8369, 1.8610, 1.8839])\n",
    "n = np.array([59, 60, 62, 56, 63, 59, 62, 60])\n",
    "y = np.array([6, 13, 18, 28, 52, 53, 61, 60])\n",
    "\n",
    "with pm.Model() as m:\n",
    "    x_data = pm.MutableData(\"concentration\", x)\n",
    "\n",
    "    beta0 = pm.Normal(\"beta0\", 0, 100)\n",
    "    beta1 = pm.Normal(\"beta1\", 0, 100)\n",
    "\n",
    "    # Uncomment desired link function\n",
    "    p = invlogit(beta0 + beta1 * x_data)  # logit\n",
    "    # p = invprobit(beta0 + beta1 * x_data)  # probit\n",
    "    # p = invcloglog(beta0 + beta1 * x_data)  # cloglog\n",
    "    # p = invloglog(beta0 + beta1 * x_data)  # loglog\n",
    "    # p = invcauchit(beta0 + beta1 * x_data)  # cauchyit\n",
    "\n",
    "    pm.Binomial(\"likelihood\", n=n, p=p, observed=y)\n",
    "\n",
    "    trace = pm.sample(5000)\n",
    "\n",
    "az.summary(trace, kind=\"stats\")"
   ]
  },
  {
   "cell_type": "markdown",
   "id": "cdff3c9e",
   "metadata": {},
   "source": [
    "\n",
    "## 2. Vasoconstriction\n",
    "The data give the presence or absence ($y_i = 1$ or $0$) of vasoconstriction in the skin of the fingers following inhalation of a certain volume of air ($v_i$) at a certain average rate ($r_i$). Total number of records is 39. The candidate models for analyzing the relationship are the usual logit, probit, cloglog, loglog, and cauchyit models.\n",
    "\n",
    "Data is available for download in csv format [here](https://raw.githubusercontent.com/areding/6420-pymc/main/data/vasoconstriction.csv).\n",
    "\n",
    "1. Transform covariates $v$ and $r$ as:\n",
    "\n",
    "$$\n",
    "x_1 = \\log(10 \\times v), \\quad x_2 = \\log(10 \\times r)\n",
    "$$\n",
    "\n",
    "2. Using a PPL, estimate posterior means for coefficients in the logit model. Use noninformative priors on all coefficients.\n",
    "\n",
    "3. For a subject with $v = r = 1.5$, find the probability of vasoconstriction.\n",
    "\n",
    "4. Which of the five links: logit, probit, cloglog, loglog, and cauchyit, has the smallest deviance? An example for use of the five links is provided: `beetles1.odc`. Uncomment and run one link at a time.\n",
    "\n",
    "```{admonition} Solution\n",
    ":class: tip, dropdown\n",
    "\n",
    "Solution to be added. Feel free to share yours on Ed Discussion!\n",
    "\n",
    "```\n",
    "\n",
    "\n",
    "\n"
   ]
  },
  {
   "cell_type": "code",
   "execution_count": null,
   "id": "019cb623",
   "metadata": {
    "tags": [
     "hide-cell"
    ]
   },
   "outputs": [],
   "source": []
  },
  {
   "cell_type": "code",
   "execution_count": null,
   "id": "ca217fdc",
   "metadata": {
    "tags": [
     "hide-cell"
    ]
   },
   "outputs": [],
   "source": []
  },
  {
   "cell_type": "markdown",
   "id": "57368b09",
   "metadata": {},
   "source": [
    "## 3. Caesarean Delivery: Categorical Response\n",
    "Table 1 contains grouped data on infection of mothers after a C-section, collected at the Clinical Center of the University of Munich. The response variable has three categories: Infection of type I, Infection of type II, and No infection. For each mother three covariates are collected:\n",
    "\n",
    "\\begin{align*}\n",
    "\\text{NOPLAN} &= \n",
    "\\begin{cases} \n",
    "1 & \\text{C-section was not planned} \\\\\n",
    "0 & \\text{Planned} \n",
    "\\end{cases} \\\\\n",
    "\\text{RISK} &= \n",
    "\\begin{cases} \n",
    "1 & \\text{Risk factors present} \\\\\n",
    "0 & \\text{No risk factors} \n",
    "\\end{cases} \\\\\n",
    "\\text{ANTIB} &= \n",
    "\\begin{cases} \n",
    "1 & \\text{Antibiotics given as prophylaxis} \\\\\n",
    "0 & \\text{No antibiotics given} \n",
    "\\end{cases}\n",
    "\\end{align*}\n",
    "\n",
    "(a) Given the covariates, establish a multinomial model, where the outcome \"No infection\" serves as a baseline.\n",
    "\n",
    "Table 1: Data on infections for 251 C-sections.\n",
    "\n",
    "| C-section | Infection | Planned | Unplanned |\n",
    "|-----------|-----------|---------|-----------|\n",
    "| Antibiotics | Risk factor | 0 | 1 | 17 | 4 | 7 | 87 |\n",
    "| No risk factor | 0 | 0 | 2 | 0 | 0 | 0 |\n",
    "| No Antibiotics | Risk factor | 11 | 17 | 30 | 10 | 13 | 3 |\n",
    "| No risk factor | 4 | 4 | 32 | 0 | 0 | 9 |\n",
    "\n",
    "(b) A new C-section delivery for a mother with covariates $(\\text{NOPLAN}, \\text{RISK}, \\text{ANTIBIO}) = (1, 0, 0)$ is to be evaluated for risks of infection. What are the estimated probabilities of no infection, and type I and II infections?\n",
    "\n",
    "Hint: Consult `NHANESmulti.odc` discussed in UNIT7.\n",
    "\n",
    "\n",
    "```{admonition} Solution\n",
    ":class: tip, dropdown\n",
    "\n",
    "Solution to be added. Feel free to share yours on Ed Discussion!\n",
    "\n",
    "```"
   ]
  },
  {
   "cell_type": "code",
   "execution_count": null,
   "id": "95c9385d",
   "metadata": {
    "tags": [
     "hide-cell"
    ]
   },
   "outputs": [],
   "source": []
  },
  {
   "cell_type": "code",
   "execution_count": null,
   "id": "bde0d62d",
   "metadata": {
    "tags": [
     "hide-cell"
    ]
   },
   "outputs": [],
   "source": []
  },
  {
   "cell_type": "code",
   "execution_count": null,
   "id": "484d5b2f",
   "metadata": {
    "tags": [
     "hide-cell"
    ]
   },
   "outputs": [],
   "source": []
  },
  {
   "cell_type": "markdown",
   "id": "00f95af2",
   "metadata": {},
   "source": [
    "## 4. Magnesium Ammonium Phosphate and Chrysanthemums\n",
    "Walpole et al. (2007) provide data from a study on the effect of magnesium ammonium phosphate on the height of chrysanthemums, which was conducted at George Mason University in order to determine a possible optimum level of fertilization, based on the enhanced vertical growth response of the chrysanthemums. Forty chrysanthemum seedlings were assigned to 4 groups, each containing 10 plants. Each was planted in a similar pot containing a uniform growth medium. An increasing concentration of $\\text{MgNH}_4\\text{PO}_4$, measured in grams per bushel, was added to each plant. The 4 groups of plants were grown under uniform conditions in a greenhouse for a period of 4 weeks. The treatments and the respective changes in heights, measured in centimeters, are given in the following table:\n",
    "\n",
    "| Treatment | 50 g/bu | 100 g/bu | 200 g/bu | 400 g/bu |\n",
    "|-----------|---------|----------|----------|----------|\n",
    "| Heights   | 13.2, 16.0, 7.8, 21.0, 12.4, 12.6, 14.4, 14.8, 12.8, 14.8, 20.0, 19.1, 17.2, 13.0, 15.8, 15.8, 13.0, 14.0, 17.0, 18.0, 14.0, 23.6, 27.0, 26.0, 14.2, 14.0, 19.6, 21.1, 21.6, 17.0, 18.0, 22.0, 15.0, 22.2, 20.2, 25.0, 20.0, 24.4, 23.2, 18.2 |\n",
    "\n",
    "Solve the problem as a Bayesian one-way ANOVA. Use STZ constraints on treatment effects.\n",
    "\n",
    "1. Do different concentrations of $\\text{MgNH}_4\\text{PO}_4$ affect the average attained height of chrysanthemums? Look at the 95% credible sets for the differences between treatment effects.\n",
    "\n",
    "2. Find the 95% credible set for the contrast $\\mu_1 - \\mu_2 - \\mu_3 + \\mu_4$.\n",
    "\n",
    "\n",
    "```{admonition} Solution\n",
    ":class: tip, dropdown\n",
    "\n",
    "Solution to be added. Feel free to share yours on Ed Discussion!\n",
    "\n",
    "\n",
    "```"
   ]
  },
  {
   "cell_type": "markdown",
   "id": "22f0874e",
   "metadata": {},
   "source": [
    "\n",
    "## 5. Third-degree Burns\n",
    "The data for this exercise, discussed in Fan et al. (1995), refer to $n = 435$ adults who were treated for third-degree burns by the University of Southern California General Hospital Burn Center. The patients were grouped according to the area of third-degree burns on the body. For each midpoint of the groupings \"log(area +1),\" the number of patients in the corresponding group who survived and the number who died from the burns was recorded:\n",
    "\n",
    "| Log(area+1) | Survived | Died |\n",
    "|-------------|----------|------|\n",
    "| 1.35        | 13       | 0    |\n",
    "| 1.60        | 19       | 0    |\n",
    "| 1.75        | 67       | 2    |\n",
    "| 1.85        | 45       | 5    |\n",
    "| 1.95        | 71       | 8    |\n",
    "| 2.05        | 50       | 20   |\n",
    "| 2.15        | 35       | 31   |\n",
    "| 2.25        | 7        | 49   |\n",
    "| 2.35        | 1        | 12   |\n",
    "\n",
    "(a) Fit the logistic regression on the probability of death due to third-degree burns with the covariate $x = \\log(\\text{area} + 1)$. What is the deviance?\n",
    "\n",
    "(b) Using your model, estimate the posterior probability of survival for a person for whom $\\log(\\text{area} + 1)$ equals 2.\n",
    "\n",
    "(c) Repeat (a) with probit and complementary log-log links. In terms of deviance, which model provides the best fit?\n",
    "\n",
    "\n",
    "```{admonition} Solution\n",
    ":class: tip, dropdown\n",
    "\n",
    "Solution to be added. Feel free to share yours on Ed Discussion!\n",
    "\n",
    "```"
   ]
  },
  {
   "cell_type": "markdown",
   "id": "0ada9785",
   "metadata": {},
   "source": [
    "## 6. Shocks!\n",
    "An experiment was conducted to assess the effect of small electrical currents on farm animals, with the eventual goal of understanding the effects of high-voltage powerlines on livestock. The experiment was carried out with seven cows, and six shock intensities, 0, 1, 2, 3, 4, and 5 milliamps (shocks on the order of 15 milliamps are painful for many humans). Each cow was given 30 shocks, five at each intensity, in random order. The entire experiment was then repeated, so each cow received a total of 60 shocks. For each shock the response, mouth movement, was either present or absent. The data as quoted give the total number of responses, out of 70 trials, at each shock level. We ignore cow differences and differences between blocks (experiments).\n",
    "\n",
    "| Current (milliamps) | Number of Responses $y$ | Number of Trials $n$ | Proportion of Responses $p$ |\n",
    "|---------------------|-------------------------|----------------------|-----------------------------|\n",
    "| 0                   | 0                       | 70                   | 0.000                       |\n",
    "| 1                   | 9                       | 70                   | 0.129                       |\n",
    "| 2                   | 21                      | 70                   | 0.300                       |\n",
    "| 3                   | 47                      | 70                   | 0.671                       |\n",
    "| 4                   | 60                      | 70                   | 0.857                       |\n",
    "| 5                   | 63                      | 70                   | 0.900                       |\n",
    "\n",
    "As in Exercise Beetles (Bliss Data), model $y$ as a function of $x$ via binary regression with 5 different links and propose the link that minimizes the deviance.\n",
    "\n",
    "\n",
    "```{admonition} Solution\n",
    ":class: tip, dropdown\n",
    "\n",
    "Solution to be added. Feel free to share yours on Ed Discussion!\n",
    "\n",
    "```"
   ]
  },
  {
   "cell_type": "markdown",
   "id": "6fbcbdbf",
   "metadata": {},
   "source": [
    "## 7. Three WinBUGS Programs and GLM Practice\n",
    "Three WinBUGS programs are supplied: `iop2.odc`, `NBreg.odc`, and `terrapins.odc`.\n",
    "\n",
    "Read the intro to the programs (preambles in ODC files) and run them on your computer. Understand the output.\n",
    "\n",
    "```{admonition} Solution\n",
    ":class: tip, dropdown\n",
    "\n",
    "Solution to be added. Feel free to share yours on Ed Discussion!\n",
    "\n",
    "```\n"
   ]
  }
 ],
 "metadata": {
  "jupytext": {
   "cell_metadata_filter": "-all",
   "formats": "ipynb,py,md"
  },
  "kernelspec": {
   "display_name": "Python 3 (ipykernel)",
   "language": "python",
   "name": "python3"
  },
  "language_info": {
   "codemirror_mode": {
    "name": "ipython",
    "version": 3
   },
   "file_extension": ".py",
   "mimetype": "text/x-python",
   "name": "python",
   "nbconvert_exporter": "python",
   "pygments_lexer": "ipython3",
   "version": "3.11.8"
  }
 },
 "nbformat": 4,
 "nbformat_minor": 5
}
