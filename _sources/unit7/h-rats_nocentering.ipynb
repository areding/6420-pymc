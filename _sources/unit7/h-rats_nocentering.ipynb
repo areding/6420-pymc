{
 "cells": [
  {
   "cell_type": "code",
   "execution_count": 1,
   "id": "804d34d5",
   "metadata": {},
   "outputs": [],
   "source": [
    "import pymc as pm\n",
    "import numpy as np\n",
    "import arviz as az\n",
    "\n",
    "%load_ext lab_black"
   ]
  },
  {
   "cell_type": "markdown",
   "id": "dbc99b02",
   "metadata": {},
   "source": [
    "# Meta-analysis via hierarchical models\n",
    "\n",
    "Adapted from [Unit 7: rats_nocentering.odc](https://raw.githubusercontent.com/areding/6420-pymc/main/original_examples/Codes4Unit7/rats_nocentering.odc).\n",
    "\n",
    "Data for x can be found [here](https://raw.githubusercontent.com/areding/6420-pymc/main/data/rats_nocenteringx.txt), and Y [here](https://raw.githubusercontent.com/areding/6420-pymc/main/data/rats_nocenteringY.txt).\n",
    "\n",
    "Associated lecture video: Unit 7 lesson 5"
   ]
  },
  {
   "cell_type": "code",
   "execution_count": 2,
   "id": "fbbd66a9",
   "metadata": {},
   "outputs": [
    {
     "data": {
      "text/plain": [
       "((5,), (30, 5))"
      ]
     },
     "execution_count": 2,
     "metadata": {},
     "output_type": "execute_result"
    }
   ],
   "source": [
    "y = np.loadtxt(\"../data/rats_nocenteringy.txt\")\n",
    "x = np.loadtxt(\"../data/rats_nocenteringx.txt\")\n",
    "x.shape, y.shape"
   ]
  },
  {
   "cell_type": "markdown",
   "id": "f3e60f01",
   "metadata": {},
   "source": [
    "## Problem statement\n",
    "\n",
    "This example is taken from Gelfand et al (1990), and concerns 30 young rats whose weights were measured weekly for five weeks."
   ]
  },
  {
   "cell_type": "code",
   "execution_count": 3,
   "id": "1b3bda44",
   "metadata": {
    "tags": [
     "hide-output"
    ]
   },
   "outputs": [
    {
     "name": "stderr",
     "output_type": "stream",
     "text": [
      "Auto-assigning NUTS sampler...\n",
      "Initializing NUTS using jitter+adapt_diag...\n",
      "Multiprocess sampling (4 chains in 4 jobs)\n",
      "NUTS: [mu_alpha, tau_alpha, mu_beta, tau_beta, tau, alpha, beta]\n"
     ]
    },
    {
     "data": {
      "text/html": [
       "\n",
       "<style>\n",
       "    /* Turns off some styling */\n",
       "    progress {\n",
       "        /* gets rid of default border in Firefox and Opera. */\n",
       "        border: none;\n",
       "        /* Needs to be in here for Safari polyfill so background images work as expected. */\n",
       "        background-size: auto;\n",
       "    }\n",
       "    progress:not([value]), progress:not([value])::-webkit-progress-bar {\n",
       "        background: repeating-linear-gradient(45deg, #7e7e7e, #7e7e7e 10px, #5c5c5c 10px, #5c5c5c 20px);\n",
       "    }\n",
       "    .progress-bar-interrupted, .progress-bar-interrupted::-webkit-progress-bar {\n",
       "        background: #F44336;\n",
       "    }\n",
       "</style>\n"
      ],
      "text/plain": [
       "<IPython.core.display.HTML object>"
      ]
     },
     "metadata": {},
     "output_type": "display_data"
    },
    {
     "data": {
      "text/html": [
       "\n",
       "    <div>\n",
       "      <progress value='16000' class='' max='16000' style='width:300px; height:20px; vertical-align: middle;'></progress>\n",
       "      100.00% [16000/16000 00:13&lt;00:00 Sampling 4 chains, 0 divergences]\n",
       "    </div>\n",
       "    "
      ],
      "text/plain": [
       "<IPython.core.display.HTML object>"
      ]
     },
     "metadata": {},
     "output_type": "display_data"
    },
    {
     "name": "stderr",
     "output_type": "stream",
     "text": [
      "Sampling 4 chains for 1_000 tune and 3_000 draw iterations (4_000 + 12_000 draws total) took 14 seconds.\n",
      "Chain <xarray.DataArray 'chain' ()>\n",
      "array(0)\n",
      "Coordinates:\n",
      "    chain    int64 0 reached the maximum tree depth. Increase `max_treedepth`, increase `target_accept` or reparameterize.\n",
      "Chain <xarray.DataArray 'chain' ()>\n",
      "array(1)\n",
      "Coordinates:\n",
      "    chain    int64 1 reached the maximum tree depth. Increase `max_treedepth`, increase `target_accept` or reparameterize.\n",
      "Chain <xarray.DataArray 'chain' ()>\n",
      "array(2)\n",
      "Coordinates:\n",
      "    chain    int64 2 reached the maximum tree depth. Increase `max_treedepth`, increase `target_accept` or reparameterize.\n",
      "Chain <xarray.DataArray 'chain' ()>\n",
      "array(3)\n",
      "Coordinates:\n",
      "    chain    int64 3 reached the maximum tree depth. Increase `max_treedepth`, increase `target_accept` or reparameterize.\n"
     ]
    }
   ],
   "source": [
    "with pm.Model() as m:\n",
    "    mu_alpha = pm.Normal(\"mu_alpha\", 0, tau=1e-6)\n",
    "    tau_alpha = pm.Gamma(\"tau_alpha\", 0.001, 0.001)\n",
    "    mu_beta = pm.Normal(\"mu_beta\", 0, tau=1e-6)\n",
    "    tau_beta = pm.Gamma(\"tau_beta\", 0.001, 0.001)\n",
    "\n",
    "    tau = pm.Gamma(\"tau\", 0.001, 0.001)\n",
    "    sigma = pm.Deterministic(\"sigma\", 1 / tau**0.5)\n",
    "\n",
    "    alpha = pm.Normal(\"alpha\", mu_alpha, tau=tau_alpha, shape=(30, 1))\n",
    "    beta = pm.Normal(\"beta\", mu_beta, tau=tau_beta, shape=(30, 1))\n",
    "\n",
    "    mu = alpha + beta * x\n",
    "    pm.Normal(\"y\", mu, tau=tau, observed=y)\n",
    "\n",
    "    trace = pm.sample(3000)"
   ]
  },
  {
   "cell_type": "code",
   "execution_count": 4,
   "id": "bbc327b1",
   "metadata": {},
   "outputs": [
    {
     "data": {
      "text/html": [
       "<div>\n",
       "<style scoped>\n",
       "    .dataframe tbody tr th:only-of-type {\n",
       "        vertical-align: middle;\n",
       "    }\n",
       "\n",
       "    .dataframe tbody tr th {\n",
       "        vertical-align: top;\n",
       "    }\n",
       "\n",
       "    .dataframe thead th {\n",
       "        text-align: right;\n",
       "    }\n",
       "</style>\n",
       "<table border=\"1\" class=\"dataframe\">\n",
       "  <thead>\n",
       "    <tr style=\"text-align: right;\">\n",
       "      <th></th>\n",
       "      <th>mean</th>\n",
       "      <th>sd</th>\n",
       "      <th>hdi_3%</th>\n",
       "      <th>hdi_97%</th>\n",
       "      <th>mcse_mean</th>\n",
       "      <th>mcse_sd</th>\n",
       "      <th>ess_bulk</th>\n",
       "      <th>ess_tail</th>\n",
       "      <th>r_hat</th>\n",
       "    </tr>\n",
       "  </thead>\n",
       "  <tbody>\n",
       "    <tr>\n",
       "      <th>mu_alpha</th>\n",
       "      <td>106.533</td>\n",
       "      <td>2.314</td>\n",
       "      <td>102.180</td>\n",
       "      <td>110.935</td>\n",
       "      <td>0.020</td>\n",
       "      <td>0.014</td>\n",
       "      <td>13299.0</td>\n",
       "      <td>9802.0</td>\n",
       "      <td>1.0</td>\n",
       "    </tr>\n",
       "    <tr>\n",
       "      <th>mu_beta</th>\n",
       "      <td>6.186</td>\n",
       "      <td>0.107</td>\n",
       "      <td>5.993</td>\n",
       "      <td>6.395</td>\n",
       "      <td>0.001</td>\n",
       "      <td>0.001</td>\n",
       "      <td>12994.0</td>\n",
       "      <td>9134.0</td>\n",
       "      <td>1.0</td>\n",
       "    </tr>\n",
       "    <tr>\n",
       "      <th>tau_alpha</th>\n",
       "      <td>0.010</td>\n",
       "      <td>0.004</td>\n",
       "      <td>0.004</td>\n",
       "      <td>0.017</td>\n",
       "      <td>0.000</td>\n",
       "      <td>0.000</td>\n",
       "      <td>9229.0</td>\n",
       "      <td>8554.0</td>\n",
       "      <td>1.0</td>\n",
       "    </tr>\n",
       "    <tr>\n",
       "      <th>tau_beta</th>\n",
       "      <td>4.318</td>\n",
       "      <td>1.510</td>\n",
       "      <td>1.825</td>\n",
       "      <td>7.126</td>\n",
       "      <td>0.015</td>\n",
       "      <td>0.013</td>\n",
       "      <td>11431.0</td>\n",
       "      <td>9759.0</td>\n",
       "      <td>1.0</td>\n",
       "    </tr>\n",
       "    <tr>\n",
       "      <th>tau</th>\n",
       "      <td>0.027</td>\n",
       "      <td>0.004</td>\n",
       "      <td>0.019</td>\n",
       "      <td>0.034</td>\n",
       "      <td>0.000</td>\n",
       "      <td>0.000</td>\n",
       "      <td>8089.0</td>\n",
       "      <td>7801.0</td>\n",
       "      <td>1.0</td>\n",
       "    </tr>\n",
       "    <tr>\n",
       "      <th>sigma</th>\n",
       "      <td>6.161</td>\n",
       "      <td>0.465</td>\n",
       "      <td>5.288</td>\n",
       "      <td>7.025</td>\n",
       "      <td>0.005</td>\n",
       "      <td>0.004</td>\n",
       "      <td>8089.0</td>\n",
       "      <td>7801.0</td>\n",
       "      <td>1.0</td>\n",
       "    </tr>\n",
       "  </tbody>\n",
       "</table>\n",
       "</div>"
      ],
      "text/plain": [
       "              mean     sd   hdi_3%  hdi_97%  mcse_mean  mcse_sd  ess_bulk  \\\n",
       "mu_alpha   106.533  2.314  102.180  110.935      0.020    0.014   13299.0   \n",
       "mu_beta      6.186  0.107    5.993    6.395      0.001    0.001   12994.0   \n",
       "tau_alpha    0.010  0.004    0.004    0.017      0.000    0.000    9229.0   \n",
       "tau_beta     4.318  1.510    1.825    7.126      0.015    0.013   11431.0   \n",
       "tau          0.027  0.004    0.019    0.034      0.000    0.000    8089.0   \n",
       "sigma        6.161  0.465    5.288    7.025      0.005    0.004    8089.0   \n",
       "\n",
       "           ess_tail  r_hat  \n",
       "mu_alpha     9802.0    1.0  \n",
       "mu_beta      9134.0    1.0  \n",
       "tau_alpha    8554.0    1.0  \n",
       "tau_beta     9759.0    1.0  \n",
       "tau          7801.0    1.0  \n",
       "sigma        7801.0    1.0  "
      ]
     },
     "execution_count": 4,
     "metadata": {},
     "output_type": "execute_result"
    }
   ],
   "source": [
    "az.summary(trace, var_names=[\"~alpha\", \"~beta\"])"
   ]
  },
  {
   "cell_type": "code",
   "execution_count": 5,
   "id": "624293df-4608-4810-a1b6-a1972d9162f3",
   "metadata": {},
   "outputs": [
    {
     "data": {
      "image/svg+xml": [
       "<?xml version=\"1.0\" encoding=\"UTF-8\" standalone=\"no\"?>\n",
       "<!DOCTYPE svg PUBLIC \"-//W3C//DTD SVG 1.1//EN\"\n",
       " \"http://www.w3.org/Graphics/SVG/1.1/DTD/svg11.dtd\">\n",
       "<!-- Generated by graphviz version 7.1.0 (0)\n",
       " -->\n",
       "<!-- Pages: 1 -->\n",
       "<svg width=\"438pt\" height=\"355pt\"\n",
       " viewBox=\"0.00 0.00 438.05 354.86\" xmlns=\"http://www.w3.org/2000/svg\" xmlns:xlink=\"http://www.w3.org/1999/xlink\">\n",
       "<g id=\"graph0\" class=\"graph\" transform=\"scale(1 1) rotate(0) translate(4 350.86)\">\n",
       "<polygon fill=\"white\" stroke=\"none\" points=\"-4,4 -4,-350.86 434.05,-350.86 434.05,4 -4,4\"/>\n",
       "<g id=\"clust1\" class=\"cluster\">\n",
       "<title>cluster30 x 1</title>\n",
       "<path fill=\"none\" stroke=\"black\" d=\"M117.84,-129.95C117.84,-129.95 294.84,-129.95 294.84,-129.95 300.84,-129.95 306.84,-135.95 306.84,-141.95 306.84,-141.95 306.84,-231.91 306.84,-231.91 306.84,-237.91 300.84,-243.91 294.84,-243.91 294.84,-243.91 117.84,-243.91 117.84,-243.91 111.84,-243.91 105.84,-237.91 105.84,-231.91 105.84,-231.91 105.84,-141.95 105.84,-141.95 105.84,-135.95 111.84,-129.95 117.84,-129.95\"/>\n",
       "<text text-anchor=\"middle\" x=\"281.34\" y=\"-137.75\" font-family=\"Times,serif\" font-size=\"14.00\">30 x 1</text>\n",
       "</g>\n",
       "<g id=\"clust2\" class=\"cluster\">\n",
       "<title>cluster30 x 5</title>\n",
       "<path fill=\"none\" stroke=\"black\" d=\"M217.84,-8C217.84,-8 293.84,-8 293.84,-8 299.84,-8 305.84,-14 305.84,-20 305.84,-20 305.84,-109.95 305.84,-109.95 305.84,-115.95 299.84,-121.95 293.84,-121.95 293.84,-121.95 217.84,-121.95 217.84,-121.95 211.84,-121.95 205.84,-115.95 205.84,-109.95 205.84,-109.95 205.84,-20 205.84,-20 205.84,-14 211.84,-8 217.84,-8\"/>\n",
       "<text text-anchor=\"middle\" x=\"280.34\" y=\"-15.8\" font-family=\"Times,serif\" font-size=\"14.00\">30 x 5</text>\n",
       "</g>\n",
       "<!-- tau_beta -->\n",
       "<g id=\"node1\" class=\"node\">\n",
       "<title>tau_beta</title>\n",
       "<ellipse fill=\"none\" stroke=\"black\" cx=\"43.84\" cy=\"-309.38\" rx=\"43.68\" ry=\"37.45\"/>\n",
       "<text text-anchor=\"middle\" x=\"43.84\" y=\"-320.68\" font-family=\"Times,serif\" font-size=\"14.00\">tau_beta</text>\n",
       "<text text-anchor=\"middle\" x=\"43.84\" y=\"-305.68\" font-family=\"Times,serif\" font-size=\"14.00\">~</text>\n",
       "<text text-anchor=\"middle\" x=\"43.84\" y=\"-290.68\" font-family=\"Times,serif\" font-size=\"14.00\">Gamma</text>\n",
       "</g>\n",
       "<!-- beta -->\n",
       "<g id=\"node8\" class=\"node\">\n",
       "<title>beta</title>\n",
       "<ellipse fill=\"none\" stroke=\"black\" cx=\"155.84\" cy=\"-198.43\" rx=\"41.94\" ry=\"37.45\"/>\n",
       "<text text-anchor=\"middle\" x=\"155.84\" y=\"-209.73\" font-family=\"Times,serif\" font-size=\"14.00\">beta</text>\n",
       "<text text-anchor=\"middle\" x=\"155.84\" y=\"-194.73\" font-family=\"Times,serif\" font-size=\"14.00\">~</text>\n",
       "<text text-anchor=\"middle\" x=\"155.84\" y=\"-179.73\" font-family=\"Times,serif\" font-size=\"14.00\">Normal</text>\n",
       "</g>\n",
       "<!-- tau_beta&#45;&gt;beta -->\n",
       "<g id=\"edge4\" class=\"edge\">\n",
       "<title>tau_beta&#45;&gt;beta</title>\n",
       "<path fill=\"none\" stroke=\"black\" d=\"M72.39,-280.61C86.72,-266.67 104.23,-249.64 119.51,-234.78\"/>\n",
       "<polygon fill=\"black\" stroke=\"black\" points=\"121.92,-237.31 126.64,-227.83 117.04,-232.3 121.92,-237.31\"/>\n",
       "</g>\n",
       "<!-- sigma -->\n",
       "<g id=\"node2\" class=\"node\">\n",
       "<title>sigma</title>\n",
       "<polygon fill=\"none\" stroke=\"black\" points=\"406.34,-102.98 315.34,-102.98 315.34,-49.98 406.34,-49.98 406.34,-102.98\"/>\n",
       "<text text-anchor=\"middle\" x=\"360.84\" y=\"-87.78\" font-family=\"Times,serif\" font-size=\"14.00\">sigma</text>\n",
       "<text text-anchor=\"middle\" x=\"360.84\" y=\"-72.78\" font-family=\"Times,serif\" font-size=\"14.00\">~</text>\n",
       "<text text-anchor=\"middle\" x=\"360.84\" y=\"-57.78\" font-family=\"Times,serif\" font-size=\"14.00\">Deterministic</text>\n",
       "</g>\n",
       "<!-- tau_alpha -->\n",
       "<g id=\"node3\" class=\"node\">\n",
       "<title>tau_alpha</title>\n",
       "<ellipse fill=\"none\" stroke=\"black\" cx=\"262.84\" cy=\"-309.38\" rx=\"48.58\" ry=\"37.45\"/>\n",
       "<text text-anchor=\"middle\" x=\"262.84\" y=\"-320.68\" font-family=\"Times,serif\" font-size=\"14.00\">tau_alpha</text>\n",
       "<text text-anchor=\"middle\" x=\"262.84\" y=\"-305.68\" font-family=\"Times,serif\" font-size=\"14.00\">~</text>\n",
       "<text text-anchor=\"middle\" x=\"262.84\" y=\"-290.68\" font-family=\"Times,serif\" font-size=\"14.00\">Gamma</text>\n",
       "</g>\n",
       "<!-- alpha -->\n",
       "<g id=\"node7\" class=\"node\">\n",
       "<title>alpha</title>\n",
       "<ellipse fill=\"none\" stroke=\"black\" cx=\"256.84\" cy=\"-198.43\" rx=\"41.94\" ry=\"37.45\"/>\n",
       "<text text-anchor=\"middle\" x=\"256.84\" y=\"-209.73\" font-family=\"Times,serif\" font-size=\"14.00\">alpha</text>\n",
       "<text text-anchor=\"middle\" x=\"256.84\" y=\"-194.73\" font-family=\"Times,serif\" font-size=\"14.00\">~</text>\n",
       "<text text-anchor=\"middle\" x=\"256.84\" y=\"-179.73\" font-family=\"Times,serif\" font-size=\"14.00\">Normal</text>\n",
       "</g>\n",
       "<!-- tau_alpha&#45;&gt;alpha -->\n",
       "<g id=\"edge3\" class=\"edge\">\n",
       "<title>tau_alpha&#45;&gt;alpha</title>\n",
       "<path fill=\"none\" stroke=\"black\" d=\"M260.81,-271.5C260.39,-263.86 259.94,-255.72 259.5,-247.75\"/>\n",
       "<polygon fill=\"black\" stroke=\"black\" points=\"263,-247.58 258.95,-237.79 256.01,-247.97 263,-247.58\"/>\n",
       "</g>\n",
       "<!-- tau -->\n",
       "<g id=\"node4\" class=\"node\">\n",
       "<title>tau</title>\n",
       "<ellipse fill=\"none\" stroke=\"black\" cx=\"360.84\" cy=\"-198.43\" rx=\"43.27\" ry=\"37.45\"/>\n",
       "<text text-anchor=\"middle\" x=\"360.84\" y=\"-209.73\" font-family=\"Times,serif\" font-size=\"14.00\">tau</text>\n",
       "<text text-anchor=\"middle\" x=\"360.84\" y=\"-194.73\" font-family=\"Times,serif\" font-size=\"14.00\">~</text>\n",
       "<text text-anchor=\"middle\" x=\"360.84\" y=\"-179.73\" font-family=\"Times,serif\" font-size=\"14.00\">Gamma</text>\n",
       "</g>\n",
       "<!-- tau&#45;&gt;sigma -->\n",
       "<g id=\"edge1\" class=\"edge\">\n",
       "<title>tau&#45;&gt;sigma</title>\n",
       "<path fill=\"none\" stroke=\"black\" d=\"M360.84,-160.79C360.84,-146.11 360.84,-129.22 360.84,-114.5\"/>\n",
       "<polygon fill=\"black\" stroke=\"black\" points=\"364.34,-114.76 360.84,-104.76 357.34,-114.76 364.34,-114.76\"/>\n",
       "</g>\n",
       "<!-- y -->\n",
       "<g id=\"node9\" class=\"node\">\n",
       "<title>y</title>\n",
       "<ellipse fill=\"lightgrey\" stroke=\"black\" cx=\"255.84\" cy=\"-76.48\" rx=\"41.94\" ry=\"37.45\"/>\n",
       "<text text-anchor=\"middle\" x=\"255.84\" y=\"-87.78\" font-family=\"Times,serif\" font-size=\"14.00\">y</text>\n",
       "<text text-anchor=\"middle\" x=\"255.84\" y=\"-72.78\" font-family=\"Times,serif\" font-size=\"14.00\">~</text>\n",
       "<text text-anchor=\"middle\" x=\"255.84\" y=\"-57.78\" font-family=\"Times,serif\" font-size=\"14.00\">Normal</text>\n",
       "</g>\n",
       "<!-- tau&#45;&gt;y -->\n",
       "<g id=\"edge6\" class=\"edge\">\n",
       "<title>tau&#45;&gt;y</title>\n",
       "<path fill=\"none\" stroke=\"black\" d=\"M339.01,-165.66C330.62,-154.08 320.68,-141.1 310.84,-129.95 305.38,-123.76 299.3,-117.47 293.23,-111.48\"/>\n",
       "<polygon fill=\"black\" stroke=\"black\" points=\"295.74,-109.04 286.11,-104.61 290.88,-114.07 295.74,-109.04\"/>\n",
       "</g>\n",
       "<!-- mu_beta -->\n",
       "<g id=\"node5\" class=\"node\">\n",
       "<title>mu_beta</title>\n",
       "<ellipse fill=\"none\" stroke=\"black\" cx=\"150.84\" cy=\"-309.38\" rx=\"45.01\" ry=\"37.45\"/>\n",
       "<text text-anchor=\"middle\" x=\"150.84\" y=\"-320.68\" font-family=\"Times,serif\" font-size=\"14.00\">mu_beta</text>\n",
       "<text text-anchor=\"middle\" x=\"150.84\" y=\"-305.68\" font-family=\"Times,serif\" font-size=\"14.00\">~</text>\n",
       "<text text-anchor=\"middle\" x=\"150.84\" y=\"-290.68\" font-family=\"Times,serif\" font-size=\"14.00\">Normal</text>\n",
       "</g>\n",
       "<!-- mu_beta&#45;&gt;beta -->\n",
       "<g id=\"edge5\" class=\"edge\">\n",
       "<title>mu_beta&#45;&gt;beta</title>\n",
       "<path fill=\"none\" stroke=\"black\" d=\"M152.53,-271.5C152.88,-263.86 153.26,-255.72 153.62,-247.75\"/>\n",
       "<polygon fill=\"black\" stroke=\"black\" points=\"157.12,-247.94 154.08,-237.79 150.13,-247.62 157.12,-247.94\"/>\n",
       "</g>\n",
       "<!-- mu_alpha -->\n",
       "<g id=\"node6\" class=\"node\">\n",
       "<title>mu_alpha</title>\n",
       "<ellipse fill=\"none\" stroke=\"black\" cx=\"379.84\" cy=\"-309.38\" rx=\"50.41\" ry=\"37.45\"/>\n",
       "<text text-anchor=\"middle\" x=\"379.84\" y=\"-320.68\" font-family=\"Times,serif\" font-size=\"14.00\">mu_alpha</text>\n",
       "<text text-anchor=\"middle\" x=\"379.84\" y=\"-305.68\" font-family=\"Times,serif\" font-size=\"14.00\">~</text>\n",
       "<text text-anchor=\"middle\" x=\"379.84\" y=\"-290.68\" font-family=\"Times,serif\" font-size=\"14.00\">Normal</text>\n",
       "</g>\n",
       "<!-- mu_alpha&#45;&gt;alpha -->\n",
       "<g id=\"edge2\" class=\"edge\">\n",
       "<title>mu_alpha&#45;&gt;alpha</title>\n",
       "<path fill=\"none\" stroke=\"black\" d=\"M347.84,-280.04C331.6,-265.65 311.76,-248.07 294.75,-233.01\"/>\n",
       "<polygon fill=\"black\" stroke=\"black\" points=\"297.09,-230.41 287.28,-226.39 292.45,-235.65 297.09,-230.41\"/>\n",
       "</g>\n",
       "<!-- alpha&#45;&gt;y -->\n",
       "<g id=\"edge7\" class=\"edge\">\n",
       "<title>alpha&#45;&gt;y</title>\n",
       "<path fill=\"none\" stroke=\"black\" d=\"M256.54,-160.79C256.44,-149.73 256.34,-137.42 256.24,-125.72\"/>\n",
       "<polygon fill=\"black\" stroke=\"black\" points=\"259.74,-125.79 256.16,-115.82 252.74,-125.85 259.74,-125.79\"/>\n",
       "</g>\n",
       "<!-- beta&#45;&gt;y -->\n",
       "<g id=\"edge8\" class=\"edge\">\n",
       "<title>beta&#45;&gt;y</title>\n",
       "<path fill=\"none\" stroke=\"black\" d=\"M177.71,-166.25C186.19,-154.61 196.17,-141.44 205.84,-129.95 210.41,-124.52 215.4,-118.93 220.4,-113.52\"/>\n",
       "<polygon fill=\"black\" stroke=\"black\" points=\"222.87,-116 227.16,-106.31 217.76,-111.21 222.87,-116\"/>\n",
       "</g>\n",
       "</g>\n",
       "</svg>\n"
      ],
      "text/plain": [
       "<graphviz.graphs.Digraph at 0x178aa5050>"
      ]
     },
     "execution_count": 5,
     "metadata": {},
     "output_type": "execute_result"
    }
   ],
   "source": [
    "pm.model_to_graphviz(model=m)"
   ]
  },
  {
   "cell_type": "code",
   "execution_count": 6,
   "id": "5b188e25",
   "metadata": {},
   "outputs": [
    {
     "name": "stdout",
     "output_type": "stream",
     "text": [
      "Last updated: Sat Mar 18 2023\n",
      "\n",
      "Python implementation: CPython\n",
      "Python version       : 3.11.0\n",
      "IPython version      : 8.9.0\n",
      "\n",
      "pytensor: 2.10.1\n",
      "\n",
      "arviz: 0.14.0\n",
      "pymc : 5.1.1\n",
      "numpy: 1.24.2\n",
      "\n"
     ]
    }
   ],
   "source": [
    "%load_ext watermark\n",
    "%watermark -n -u -v -iv -p pytensor"
   ]
  },
  {
   "cell_type": "code",
   "execution_count": null,
   "id": "513fe821",
   "metadata": {},
   "outputs": [],
   "source": []
  }
 ],
 "metadata": {
  "kernelspec": {
   "display_name": "Python 3 (ipykernel)",
   "language": "python",
   "name": "python3"
  },
  "language_info": {
   "codemirror_mode": {
    "name": "ipython",
    "version": 3
   },
   "file_extension": ".py",
   "mimetype": "text/x-python",
   "name": "python",
   "nbconvert_exporter": "python",
   "pygments_lexer": "ipython3",
   "version": "3.11.0"
  }
 },
 "nbformat": 4,
 "nbformat_minor": 5
}
