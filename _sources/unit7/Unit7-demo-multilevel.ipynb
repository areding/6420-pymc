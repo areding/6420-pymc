{
 "cells": [
  {
   "cell_type": "code",
   "execution_count": 1,
   "id": "a2ce91cb-de46-4bc4-bc41-7c4404d53f30",
   "metadata": {},
   "outputs": [],
   "source": [
    "import pymc as pm\n",
    "import pandas as pd\n",
    "import numpy as np\n",
    "import arviz as az"
   ]
  },
  {
   "cell_type": "markdown",
   "id": "86553463-cd66-4600-afd4-106778f4bced",
   "metadata": {},
   "source": [
    "# 19. Paraguay Vaccination Status*\n",
    "\n",
    "This example goes over a multilevel, or hierarchical, logistic regression model. It also shows how to use the PyMC coordinate system.\n",
    "\n",
    "Adapted from [Unit 7: paraguay.odc](https://raw.githubusercontent.com/areding/6420-pymc/main/original_examples/Codes4Unit7/paraguay.odc) and [paraguaynocluster.odc](https://raw.githubusercontent.com/areding/6420-pymc/main/original_examples/Codes4Unit7/paraguaynocluster.odc)\n",
    "\n",
    "Data can be found [here](https://raw.githubusercontent.com/areding/6420-pymc/main/data/paraguay.csv)."
   ]
  },
  {
   "cell_type": "markdown",
   "id": "3788bbfe-d7f7-4540-bbe5-5893441c1f40",
   "metadata": {},
   "source": [
    "This study considers factors influencing the vaccination status among 3424 children of 2552 mothers among 264 clusters in Paraguay. In this analysis, we're specifically interested in mother-level factors related to child immunization. However, there is randomness associated with different clusters.\n",
    "\n",
    "- ID3:\t\t   Cluster number\n",
    "- VACCODE:  =1 if fully immunized, =0 otherwise\n",
    "- LB.TOT:\t  No. of live births\n",
    "- MAGE2:\t  mother age  <20 =1, otherwise = 0\t\n",
    "- UN2:\t\t    consensual union = 1, otherwise = 0 \n",
    "- TOILET2:\t  unsafe toilet in hh = 1, otherwise = 0\t\n",
    "- PR.SPOC1:  spouse unskilled laborer = 1, otherwise = 0\n",
    "- SPANISH2:  Spanish not hh language = 1, otherwise = 0\n",
    "\n",
    "We need to add a random effect by cluster. This is a good use case for the PyMC coordinates system."
   ]
  },
  {
   "cell_type": "code",
   "execution_count": 2,
   "id": "198125f9-1980-4615-8408-4fc61a681ace",
   "metadata": {},
   "outputs": [
    {
     "name": "stdout",
     "output_type": "stream",
     "text": [
      "<class 'pandas.core.frame.DataFrame'>\n",
      "RangeIndex: 3424 entries, 0 to 3423\n",
      "Data columns (total 8 columns):\n",
      " #   Column    Non-Null Count  Dtype\n",
      "---  ------    --------------  -----\n",
      " 0   ID3       3424 non-null   int64\n",
      " 1   VACCODE   3424 non-null   int64\n",
      " 2   LB.TOT    3424 non-null   int64\n",
      " 3   MAGE2     3424 non-null   int64\n",
      " 4   UN2       3424 non-null   int64\n",
      " 5   TOILET2   3424 non-null   int64\n",
      " 6   PR.SPOC1  3424 non-null   int64\n",
      " 7   SPANISH2  3424 non-null   int64\n",
      "dtypes: int64(8)\n",
      "memory usage: 214.1 KB\n"
     ]
    }
   ],
   "source": [
    "data = pd.read_csv(\"../data/paraguay.csv\")\n",
    "data.info()"
   ]
  },
  {
   "cell_type": "code",
   "execution_count": 3,
   "id": "fef51e22-5133-4892-8ae5-5b654aaa3fda",
   "metadata": {},
   "outputs": [
    {
     "data": {
      "text/plain": [
       "((3424,), (3424,), (3424, 7))"
      ]
     },
     "execution_count": 3,
     "metadata": {},
     "output_type": "execute_result"
    }
   ],
   "source": [
    "y = data[\"VACCODE\"].to_numpy()\n",
    "# separate array for clusters\n",
    "clusters = data[\"ID3\"].to_numpy()\n",
    "X = data.drop([\"VACCODE\", \"ID3\"], axis=1).to_numpy()\n",
    "X_aug = np.concatenate((np.ones((X.shape[0], 1)), X), axis=1)\n",
    "cols = X_aug.shape[1]\n",
    "y.shape, clusters.shape, X_aug.shape"
   ]
  },
  {
   "cell_type": "code",
   "execution_count": 4,
   "id": "e8fb1a64-bd51-4a68-bb47-75eea8c0a0fa",
   "metadata": {},
   "outputs": [],
   "source": [
    "# set up alternate coordinates, the ID3 or clusters column\n",
    "cluster_idx, clusters = pd.factorize(data.ID3)\n",
    "coords = {\"cluster\": clusters, \"id\": data.index.to_numpy()}"
   ]
  },
  {
   "cell_type": "code",
   "execution_count": 5,
   "id": "f045128e-ab75-41bb-b993-96d729561d49",
   "metadata": {
    "tags": [
     "hide-output"
    ]
   },
   "outputs": [
    {
     "name": "stderr",
     "output_type": "stream",
     "text": [
      "Auto-assigning NUTS sampler...\n",
      "Initializing NUTS using jitter+adapt_diag...\n",
      "Multiprocess sampling (4 chains in 4 jobs)\n",
      "NUTS: [cluster_tau, beta, cluster_effect]\n"
     ]
    },
    {
     "data": {
      "application/vnd.jupyter.widget-view+json": {
       "model_id": "54e17c2ccdad4b5f9f1453036afd0dcf",
       "version_major": 2,
       "version_minor": 0
      },
      "text/plain": [
       "Output()"
      ]
     },
     "metadata": {},
     "output_type": "display_data"
    },
    {
     "data": {
      "text/html": [
       "<pre style=\"white-space:pre;overflow-x:auto;line-height:normal;font-family:Menlo,'DejaVu Sans Mono',consolas,'Courier New',monospace\"></pre>\n"
      ],
      "text/plain": []
     },
     "metadata": {},
     "output_type": "display_data"
    },
    {
     "name": "stderr",
     "output_type": "stream",
     "text": [
      "Sampling 4 chains for 1_000 tune and 3_000 draw iterations (4_000 + 12_000 draws total) took 21 seconds.\n"
     ]
    }
   ],
   "source": [
    "# note that the coords dict is passed to pm.Model call\n",
    "with pm.Model(coords=coords) as m:\n",
    "    X_data = pm.Data(\"X_data\", X_aug)\n",
    "    y_data = pm.Data(\"y_data\", y)\n",
    "    clust_idx = pm.Data(\"cluster_idx\", cluster_idx, dims=\"id\")\n",
    "\n",
    "    cluster_tau = pm.Gamma(\"cluster_tau\", 0.01, 0.01)\n",
    "    cluster_variance = pm.Deterministic(\"cluster_variance\", 1 / cluster_tau)\n",
    "    beta = pm.Normal(\"beta\", 0, tau=1e-3, shape=cols)\n",
    "\n",
    "    cluster_effect = pm.Normal(\n",
    "        \"cluster_effect\", 0, tau=cluster_tau, dims=\"cluster\"\n",
    "    )\n",
    "    p = pm.math.dot(X_data, beta) + cluster_effect[clust_idx]\n",
    "\n",
    "    pm.Bernoulli(\"likelihood\", logit_p=p, observed=y_data)\n",
    "\n",
    "    trace = pm.sample(3000)"
   ]
  },
  {
   "cell_type": "code",
   "execution_count": 6,
   "id": "30332e7f-4b9b-4c3d-a994-e07db6e5a5e3",
   "metadata": {},
   "outputs": [
    {
     "data": {
      "text/html": [
       "<div>\n",
       "<style scoped>\n",
       "    .dataframe tbody tr th:only-of-type {\n",
       "        vertical-align: middle;\n",
       "    }\n",
       "\n",
       "    .dataframe tbody tr th {\n",
       "        vertical-align: top;\n",
       "    }\n",
       "\n",
       "    .dataframe thead th {\n",
       "        text-align: right;\n",
       "    }\n",
       "</style>\n",
       "<table border=\"1\" class=\"dataframe\">\n",
       "  <thead>\n",
       "    <tr style=\"text-align: right;\">\n",
       "      <th></th>\n",
       "      <th>mean</th>\n",
       "      <th>sd</th>\n",
       "      <th>hdi_3%</th>\n",
       "      <th>hdi_97%</th>\n",
       "    </tr>\n",
       "  </thead>\n",
       "  <tbody>\n",
       "    <tr>\n",
       "      <th>beta[0]</th>\n",
       "      <td>1.445</td>\n",
       "      <td>0.130</td>\n",
       "      <td>1.206</td>\n",
       "      <td>1.694</td>\n",
       "    </tr>\n",
       "    <tr>\n",
       "      <th>beta[1]</th>\n",
       "      <td>-0.071</td>\n",
       "      <td>0.015</td>\n",
       "      <td>-0.099</td>\n",
       "      <td>-0.043</td>\n",
       "    </tr>\n",
       "    <tr>\n",
       "      <th>beta[2]</th>\n",
       "      <td>-0.566</td>\n",
       "      <td>0.204</td>\n",
       "      <td>-0.939</td>\n",
       "      <td>-0.175</td>\n",
       "    </tr>\n",
       "    <tr>\n",
       "      <th>beta[3]</th>\n",
       "      <td>-0.196</td>\n",
       "      <td>0.095</td>\n",
       "      <td>-0.370</td>\n",
       "      <td>-0.017</td>\n",
       "    </tr>\n",
       "    <tr>\n",
       "      <th>beta[4]</th>\n",
       "      <td>-0.693</td>\n",
       "      <td>0.133</td>\n",
       "      <td>-0.943</td>\n",
       "      <td>-0.444</td>\n",
       "    </tr>\n",
       "    <tr>\n",
       "      <th>beta[5]</th>\n",
       "      <td>-0.285</td>\n",
       "      <td>0.110</td>\n",
       "      <td>-0.483</td>\n",
       "      <td>-0.069</td>\n",
       "    </tr>\n",
       "    <tr>\n",
       "      <th>beta[6]</th>\n",
       "      <td>-0.621</td>\n",
       "      <td>0.098</td>\n",
       "      <td>-0.802</td>\n",
       "      <td>-0.428</td>\n",
       "    </tr>\n",
       "    <tr>\n",
       "      <th>cluster_variance</th>\n",
       "      <td>0.529</td>\n",
       "      <td>0.094</td>\n",
       "      <td>0.364</td>\n",
       "      <td>0.711</td>\n",
       "    </tr>\n",
       "  </tbody>\n",
       "</table>\n",
       "</div>"
      ],
      "text/plain": [
       "                   mean     sd  hdi_3%  hdi_97%\n",
       "beta[0]           1.445  0.130   1.206    1.694\n",
       "beta[1]          -0.071  0.015  -0.099   -0.043\n",
       "beta[2]          -0.566  0.204  -0.939   -0.175\n",
       "beta[3]          -0.196  0.095  -0.370   -0.017\n",
       "beta[4]          -0.693  0.133  -0.943   -0.444\n",
       "beta[5]          -0.285  0.110  -0.483   -0.069\n",
       "beta[6]          -0.621  0.098  -0.802   -0.428\n",
       "cluster_variance  0.529  0.094   0.364    0.711"
      ]
     },
     "execution_count": 6,
     "metadata": {},
     "output_type": "execute_result"
    }
   ],
   "source": [
    "az.summary(\n",
    "    trace,\n",
    "    var_names=[\"beta\", \"cluster_variance\"],\n",
    "    filter_vars=\"like\",\n",
    "    kind=\"stats\",\n",
    ")"
   ]
  },
  {
   "cell_type": "markdown",
   "id": "f4fea256-4939-486b-8758-d18a888e1580",
   "metadata": {},
   "source": [
    "This was originally based on this [old coordinates example](https://oriolabrilpla.cat/python/arviz/pymc3/xarray/2020/09/22/pymc3-arviz.html)."
   ]
  },
  {
   "cell_type": "markdown",
   "id": "c73d3bf7-5751-4b33-918d-7c30836c6595",
   "metadata": {
    "tags": []
   },
   "source": [
    "## No clusters"
   ]
  },
  {
   "cell_type": "code",
   "execution_count": 8,
   "id": "9ec95b8b-ec8f-4a2e-ac93-a1618772c50d",
   "metadata": {
    "tags": [
     "hide-output"
    ]
   },
   "outputs": [
    {
     "name": "stderr",
     "output_type": "stream",
     "text": [
      "/Users/aaron/miniforge3/envs/pymc_macos15/lib/python3.12/site-packages/pymc/data.py:440: FutureWarning: Data is now always mutable. Specifying the `mutable` kwarg will raise an error in a future release\n",
      "  warnings.warn(\n",
      "Auto-assigning NUTS sampler...\n",
      "Initializing NUTS using jitter+adapt_diag...\n",
      "Multiprocess sampling (4 chains in 4 jobs)\n",
      "NUTS: [beta]\n"
     ]
    },
    {
     "data": {
      "application/vnd.jupyter.widget-view+json": {
       "model_id": "ac20bc92922b43ee816894937779fb1c",
       "version_major": 2,
       "version_minor": 0
      },
      "text/plain": [
       "Output()"
      ]
     },
     "metadata": {},
     "output_type": "display_data"
    },
    {
     "data": {
      "text/html": [
       "<pre style=\"white-space:pre;overflow-x:auto;line-height:normal;font-family:Menlo,'DejaVu Sans Mono',consolas,'Courier New',monospace\"></pre>\n"
      ],
      "text/plain": []
     },
     "metadata": {},
     "output_type": "display_data"
    },
    {
     "name": "stderr",
     "output_type": "stream",
     "text": [
      "Sampling 4 chains for 1_000 tune and 3_000 draw iterations (4_000 + 12_000 draws total) took 13 seconds.\n"
     ]
    }
   ],
   "source": [
    "with pm.Model() as m_nc:\n",
    "    X_data = pm.Data(\"X_data\", X_aug, mutable=True)\n",
    "    y_data = pm.Data(\"y_data\", y, mutable=True)\n",
    "\n",
    "    beta = pm.Normal(\"beta\", 0, tau=1e-3, shape=cols)\n",
    "\n",
    "    p = pm.math.dot(X_data, beta)\n",
    "\n",
    "    pm.Bernoulli(\"likelihood\", logit_p=p, observed=y_data)\n",
    "\n",
    "    trace_nc = pm.sample(3000)"
   ]
  },
  {
   "cell_type": "code",
   "execution_count": 9,
   "id": "be523916-3d4f-439a-aec7-4fd1f49ff73c",
   "metadata": {},
   "outputs": [
    {
     "data": {
      "text/html": [
       "<div>\n",
       "<style scoped>\n",
       "    .dataframe tbody tr th:only-of-type {\n",
       "        vertical-align: middle;\n",
       "    }\n",
       "\n",
       "    .dataframe tbody tr th {\n",
       "        vertical-align: top;\n",
       "    }\n",
       "\n",
       "    .dataframe thead th {\n",
       "        text-align: right;\n",
       "    }\n",
       "</style>\n",
       "<table border=\"1\" class=\"dataframe\">\n",
       "  <thead>\n",
       "    <tr style=\"text-align: right;\">\n",
       "      <th></th>\n",
       "      <th>mean</th>\n",
       "      <th>sd</th>\n",
       "      <th>hdi_3%</th>\n",
       "      <th>hdi_97%</th>\n",
       "    </tr>\n",
       "  </thead>\n",
       "  <tbody>\n",
       "    <tr>\n",
       "      <th>beta[0]</th>\n",
       "      <td>1.429</td>\n",
       "      <td>0.107</td>\n",
       "      <td>1.227</td>\n",
       "      <td>1.631</td>\n",
       "    </tr>\n",
       "    <tr>\n",
       "      <th>beta[1]</th>\n",
       "      <td>-0.064</td>\n",
       "      <td>0.014</td>\n",
       "      <td>-0.089</td>\n",
       "      <td>-0.038</td>\n",
       "    </tr>\n",
       "    <tr>\n",
       "      <th>beta[2]</th>\n",
       "      <td>-0.565</td>\n",
       "      <td>0.193</td>\n",
       "      <td>-0.931</td>\n",
       "      <td>-0.202</td>\n",
       "    </tr>\n",
       "    <tr>\n",
       "      <th>beta[3]</th>\n",
       "      <td>-0.189</td>\n",
       "      <td>0.085</td>\n",
       "      <td>-0.344</td>\n",
       "      <td>-0.024</td>\n",
       "    </tr>\n",
       "    <tr>\n",
       "      <th>beta[4]</th>\n",
       "      <td>-0.716</td>\n",
       "      <td>0.116</td>\n",
       "      <td>-0.934</td>\n",
       "      <td>-0.499</td>\n",
       "    </tr>\n",
       "    <tr>\n",
       "      <th>beta[5]</th>\n",
       "      <td>-0.451</td>\n",
       "      <td>0.089</td>\n",
       "      <td>-0.622</td>\n",
       "      <td>-0.290</td>\n",
       "    </tr>\n",
       "    <tr>\n",
       "      <th>beta[6]</th>\n",
       "      <td>-0.607</td>\n",
       "      <td>0.084</td>\n",
       "      <td>-0.764</td>\n",
       "      <td>-0.446</td>\n",
       "    </tr>\n",
       "  </tbody>\n",
       "</table>\n",
       "</div>"
      ],
      "text/plain": [
       "          mean     sd  hdi_3%  hdi_97%\n",
       "beta[0]  1.429  0.107   1.227    1.631\n",
       "beta[1] -0.064  0.014  -0.089   -0.038\n",
       "beta[2] -0.565  0.193  -0.931   -0.202\n",
       "beta[3] -0.189  0.085  -0.344   -0.024\n",
       "beta[4] -0.716  0.116  -0.934   -0.499\n",
       "beta[5] -0.451  0.089  -0.622   -0.290\n",
       "beta[6] -0.607  0.084  -0.764   -0.446"
      ]
     },
     "execution_count": 9,
     "metadata": {},
     "output_type": "execute_result"
    }
   ],
   "source": [
    "az.summary(\n",
    "    trace_nc,\n",
    "    var_names=[\"beta\", \"cluster_variance\"],\n",
    "    filter_vars=\"like\",\n",
    "    kind=\"stats\",\n",
    ")"
   ]
  },
  {
   "cell_type": "code",
   "execution_count": 10,
   "id": "6aee825b-a990-4c43-b081-572d108bc7a3",
   "metadata": {},
   "outputs": [
    {
     "name": "stdout",
     "output_type": "stream",
     "text": [
      "Last updated: Sat Nov 09 2024\n",
      "\n",
      "Python implementation: CPython\n",
      "Python version       : 3.12.7\n",
      "IPython version      : 8.29.0\n",
      "\n",
      "pytensor: 2.26.0\n",
      "\n",
      "arviz : 0.20.0\n",
      "pymc  : 5.18.0\n",
      "pandas: 2.2.3\n",
      "numpy : 1.26.4\n",
      "\n"
     ]
    }
   ],
   "source": [
    "%load_ext watermark\n",
    "%watermark -n -u -v -iv -p pytensor"
   ]
  },
  {
   "cell_type": "code",
   "execution_count": null,
   "id": "e3c115aa",
   "metadata": {},
   "outputs": [],
   "source": []
  }
 ],
 "metadata": {
  "kernelspec": {
   "display_name": "pymc_macos15",
   "language": "python",
   "name": "python3"
  },
  "language_info": {
   "codemirror_mode": {
    "name": "ipython",
    "version": 3
   },
   "file_extension": ".py",
   "mimetype": "text/x-python",
   "name": "python",
   "nbconvert_exporter": "python",
   "pygments_lexer": "ipython3",
   "version": "3.12.7"
  }
 },
 "nbformat": 4,
 "nbformat_minor": 5
}
