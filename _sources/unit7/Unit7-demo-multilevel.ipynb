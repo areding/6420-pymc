{
 "cells": [
  {
   "cell_type": "code",
   "execution_count": 1,
   "id": "a2ce91cb-de46-4bc4-bc41-7c4404d53f30",
   "metadata": {},
   "outputs": [],
   "source": [
    "import pymc as pm\n",
    "import pandas as pd\n",
    "import numpy as np\n",
    "import arviz as az\n",
    "\n",
    "%load_ext lab_black"
   ]
  },
  {
   "cell_type": "markdown",
   "id": "86553463-cd66-4600-afd4-106778f4bced",
   "metadata": {},
   "source": [
    "# 19. Paraguay Vaccination Status*\n",
    "\n",
    "This example goes over a multilevel, or hierarchical, logistic regression model. It also shows how to use the PyMC coordinate system.\n",
    "\n",
    "Adapted from [Unit 7: paraguay.odc](https://raw.githubusercontent.com/areding/6420-pymc/main/original_examples/Codes4Unit7/paraguay.odc) and [paraguaynocluster.odc](https://raw.githubusercontent.com/areding/6420-pymc/main/original_examples/Codes4Unit7/paraguaynocluster.odc)\n",
    "\n",
    "Data can be found [here](https://raw.githubusercontent.com/areding/6420-pymc/main/data/paraguay.csv)."
   ]
  },
  {
   "cell_type": "markdown",
   "id": "3788bbfe-d7f7-4540-bbe5-5893441c1f40",
   "metadata": {},
   "source": [
    "This study considers factors influencing the vaccination status among 3424 children of 2552 mothers among 264 clusters in Paraguay. In this analysis, we're specifically interested in mother-level factors related to child immunization. However, there is randomness associated with different clusters.\n",
    "\n",
    "- ID3:\t\t   Cluster number\n",
    "- VACCODE:  =1 if fully immunized, =0 otherwise\n",
    "- LB.TOT:\t  No. of live births\n",
    "- MAGE2:\t  mother age  <20 =1, otherwise = 0\t\n",
    "- UN2:\t\t    consensual union = 1, otherwise = 0 \n",
    "- TOILET2:\t  unsafe toilet in hh = 1, otherwise = 0\t\n",
    "- PR.SPOC1:  spouse unskilled laborer = 1, otherwise = 0\n",
    "- SPANISH2:  Spanish not hh language = 1, otherwise = 0\n",
    "\n",
    "We need to add a random effect by cluster. This is a good use case for the PyMC coordinates system."
   ]
  },
  {
   "cell_type": "code",
   "execution_count": 2,
   "id": "198125f9-1980-4615-8408-4fc61a681ace",
   "metadata": {},
   "outputs": [
    {
     "name": "stdout",
     "output_type": "stream",
     "text": [
      "<class 'pandas.core.frame.DataFrame'>\n",
      "RangeIndex: 3424 entries, 0 to 3423\n",
      "Data columns (total 8 columns):\n",
      " #   Column    Non-Null Count  Dtype\n",
      "---  ------    --------------  -----\n",
      " 0   ID3       3424 non-null   int64\n",
      " 1   VACCODE   3424 non-null   int64\n",
      " 2   LB.TOT    3424 non-null   int64\n",
      " 3   MAGE2     3424 non-null   int64\n",
      " 4   UN2       3424 non-null   int64\n",
      " 5   TOILET2   3424 non-null   int64\n",
      " 6   PR.SPOC1  3424 non-null   int64\n",
      " 7   SPANISH2  3424 non-null   int64\n",
      "dtypes: int64(8)\n",
      "memory usage: 214.1 KB\n"
     ]
    }
   ],
   "source": [
    "data = pd.read_csv(\"../data/paraguay.csv\")\n",
    "data.info()"
   ]
  },
  {
   "cell_type": "code",
   "execution_count": 3,
   "id": "fef51e22-5133-4892-8ae5-5b654aaa3fda",
   "metadata": {},
   "outputs": [
    {
     "data": {
      "text/plain": [
       "((3424,), (3424,), (3424, 7))"
      ]
     },
     "execution_count": 3,
     "metadata": {},
     "output_type": "execute_result"
    }
   ],
   "source": [
    "y = data[\"VACCODE\"].to_numpy()\n",
    "# separate array for clusters\n",
    "clusters = data[\"ID3\"].to_numpy()\n",
    "X = data.drop([\"VACCODE\", \"ID3\"], axis=1).to_numpy()\n",
    "X_aug = np.concatenate((np.ones((X.shape[0], 1)), X), axis=1)\n",
    "y.shape, clusters.shape, X_aug.shape"
   ]
  },
  {
   "cell_type": "code",
   "execution_count": 4,
   "id": "329abcf7-86d9-43fb-a175-e95f7d58ed7b",
   "metadata": {},
   "outputs": [],
   "source": [
    "cols = X_aug.shape[1]"
   ]
  },
  {
   "cell_type": "code",
   "execution_count": 5,
   "id": "e8fb1a64-bd51-4a68-bb47-75eea8c0a0fa",
   "metadata": {},
   "outputs": [],
   "source": [
    "# set up alternate coordinates, the ID3 or clusters column\n",
    "cluster_idx, clusters = pd.factorize(data.ID3)\n",
    "coords = {\"cluster\": clusters, \"id\": data.index.to_numpy()}"
   ]
  },
  {
   "cell_type": "code",
   "execution_count": 6,
   "id": "f045128e-ab75-41bb-b993-96d729561d49",
   "metadata": {
    "tags": [
     "hide-output"
    ]
   },
   "outputs": [
    {
     "name": "stderr",
     "output_type": "stream",
     "text": [
      "Auto-assigning NUTS sampler...\n",
      "Initializing NUTS using jitter+adapt_diag...\n",
      "Multiprocess sampling (4 chains in 4 jobs)\n",
      "NUTS: [cluster_tau, beta, cluster_effect]\n"
     ]
    },
    {
     "data": {
      "text/html": [
       "\n",
       "<style>\n",
       "    /* Turns off some styling */\n",
       "    progress {\n",
       "        /* gets rid of default border in Firefox and Opera. */\n",
       "        border: none;\n",
       "        /* Needs to be in here for Safari polyfill so background images work as expected. */\n",
       "        background-size: auto;\n",
       "    }\n",
       "    progress:not([value]), progress:not([value])::-webkit-progress-bar {\n",
       "        background: repeating-linear-gradient(45deg, #7e7e7e, #7e7e7e 10px, #5c5c5c 10px, #5c5c5c 20px);\n",
       "    }\n",
       "    .progress-bar-interrupted, .progress-bar-interrupted::-webkit-progress-bar {\n",
       "        background: #F44336;\n",
       "    }\n",
       "</style>\n"
      ],
      "text/plain": [
       "<IPython.core.display.HTML object>"
      ]
     },
     "metadata": {},
     "output_type": "display_data"
    },
    {
     "data": {
      "text/html": [
       "\n",
       "    <div>\n",
       "      <progress value='16000' class='' max='16000' style='width:300px; height:20px; vertical-align: middle;'></progress>\n",
       "      100.00% [16000/16000 00:29&lt;00:00 Sampling 4 chains, 0 divergences]\n",
       "    </div>\n",
       "    "
      ],
      "text/plain": [
       "<IPython.core.display.HTML object>"
      ]
     },
     "metadata": {},
     "output_type": "display_data"
    },
    {
     "name": "stderr",
     "output_type": "stream",
     "text": [
      "Sampling 4 chains for 1_000 tune and 3_000 draw iterations (4_000 + 12_000 draws total) took 30 seconds.\n"
     ]
    }
   ],
   "source": [
    "# note that the coords dict is passed to pm.Model call\n",
    "with pm.Model(coords=coords) as m:\n",
    "    X_data = pm.Data(\"X_data\", X_aug, mutable=True)\n",
    "    y_data = pm.Data(\"y_data\", y, mutable=False)\n",
    "    clust_idx = pm.Data(\"cluster_idx\", cluster_idx, dims=\"id\", mutable=True)\n",
    "\n",
    "    cluster_tau = pm.Gamma(\"cluster_tau\", 0.01, 0.01)\n",
    "    cluster_variance = pm.Deterministic(\"cluster_variance\", 1 / cluster_tau)\n",
    "    beta = pm.Normal(\"beta\", 0, tau=1e-3, shape=cols)\n",
    "\n",
    "    cluster_effect = pm.Normal(\"cluster_effect\", 0, tau=cluster_tau, dims=\"cluster\")\n",
    "    p = pm.math.dot(X_data, beta) + cluster_effect[clust_idx]\n",
    "\n",
    "    pm.Bernoulli(\"likelihood\", logit_p=p, observed=y_data)\n",
    "\n",
    "    trace = pm.sample(3000)"
   ]
  },
  {
   "cell_type": "code",
   "execution_count": 7,
   "id": "30332e7f-4b9b-4c3d-a994-e07db6e5a5e3",
   "metadata": {},
   "outputs": [
    {
     "data": {
      "text/html": [
       "<div>\n",
       "<style scoped>\n",
       "    .dataframe tbody tr th:only-of-type {\n",
       "        vertical-align: middle;\n",
       "    }\n",
       "\n",
       "    .dataframe tbody tr th {\n",
       "        vertical-align: top;\n",
       "    }\n",
       "\n",
       "    .dataframe thead th {\n",
       "        text-align: right;\n",
       "    }\n",
       "</style>\n",
       "<table border=\"1\" class=\"dataframe\">\n",
       "  <thead>\n",
       "    <tr style=\"text-align: right;\">\n",
       "      <th></th>\n",
       "      <th>mean</th>\n",
       "      <th>sd</th>\n",
       "      <th>hdi_3%</th>\n",
       "      <th>hdi_97%</th>\n",
       "    </tr>\n",
       "  </thead>\n",
       "  <tbody>\n",
       "    <tr>\n",
       "      <th>beta[0]</th>\n",
       "      <td>1.444</td>\n",
       "      <td>0.131</td>\n",
       "      <td>1.205</td>\n",
       "      <td>1.694</td>\n",
       "    </tr>\n",
       "    <tr>\n",
       "      <th>beta[1]</th>\n",
       "      <td>-0.070</td>\n",
       "      <td>0.015</td>\n",
       "      <td>-0.100</td>\n",
       "      <td>-0.043</td>\n",
       "    </tr>\n",
       "    <tr>\n",
       "      <th>beta[2]</th>\n",
       "      <td>-0.565</td>\n",
       "      <td>0.205</td>\n",
       "      <td>-0.959</td>\n",
       "      <td>-0.191</td>\n",
       "    </tr>\n",
       "    <tr>\n",
       "      <th>beta[3]</th>\n",
       "      <td>-0.196</td>\n",
       "      <td>0.096</td>\n",
       "      <td>-0.378</td>\n",
       "      <td>-0.015</td>\n",
       "    </tr>\n",
       "    <tr>\n",
       "      <th>beta[4]</th>\n",
       "      <td>-0.692</td>\n",
       "      <td>0.133</td>\n",
       "      <td>-0.935</td>\n",
       "      <td>-0.435</td>\n",
       "    </tr>\n",
       "    <tr>\n",
       "      <th>beta[5]</th>\n",
       "      <td>-0.283</td>\n",
       "      <td>0.110</td>\n",
       "      <td>-0.488</td>\n",
       "      <td>-0.075</td>\n",
       "    </tr>\n",
       "    <tr>\n",
       "      <th>beta[6]</th>\n",
       "      <td>-0.621</td>\n",
       "      <td>0.099</td>\n",
       "      <td>-0.804</td>\n",
       "      <td>-0.435</td>\n",
       "    </tr>\n",
       "    <tr>\n",
       "      <th>cluster_variance</th>\n",
       "      <td>0.530</td>\n",
       "      <td>0.094</td>\n",
       "      <td>0.351</td>\n",
       "      <td>0.701</td>\n",
       "    </tr>\n",
       "  </tbody>\n",
       "</table>\n",
       "</div>"
      ],
      "text/plain": [
       "                   mean     sd  hdi_3%  hdi_97%\n",
       "beta[0]           1.444  0.131   1.205    1.694\n",
       "beta[1]          -0.070  0.015  -0.100   -0.043\n",
       "beta[2]          -0.565  0.205  -0.959   -0.191\n",
       "beta[3]          -0.196  0.096  -0.378   -0.015\n",
       "beta[4]          -0.692  0.133  -0.935   -0.435\n",
       "beta[5]          -0.283  0.110  -0.488   -0.075\n",
       "beta[6]          -0.621  0.099  -0.804   -0.435\n",
       "cluster_variance  0.530  0.094   0.351    0.701"
      ]
     },
     "execution_count": 7,
     "metadata": {},
     "output_type": "execute_result"
    }
   ],
   "source": [
    "az.summary(\n",
    "    trace, var_names=[\"beta\", \"cluster_variance\"], filter_vars=\"like\", kind=\"stats\"\n",
    ")"
   ]
  },
  {
   "cell_type": "code",
   "execution_count": 8,
   "id": "eb55a175-ae0a-4669-a7ea-8edcfa392212",
   "metadata": {},
   "outputs": [
    {
     "data": {
      "text/html": [
       "<div>\n",
       "<style scoped>\n",
       "    .dataframe tbody tr th:only-of-type {\n",
       "        vertical-align: middle;\n",
       "    }\n",
       "\n",
       "    .dataframe tbody tr th {\n",
       "        vertical-align: top;\n",
       "    }\n",
       "\n",
       "    .dataframe thead th {\n",
       "        text-align: right;\n",
       "    }\n",
       "</style>\n",
       "<table border=\"1\" class=\"dataframe\">\n",
       "  <thead>\n",
       "    <tr style=\"text-align: right;\">\n",
       "      <th></th>\n",
       "      <th>mean</th>\n",
       "      <th>sd</th>\n",
       "      <th>hdi_3%</th>\n",
       "      <th>hdi_97%</th>\n",
       "      <th>mcse_mean</th>\n",
       "      <th>mcse_sd</th>\n",
       "      <th>ess_bulk</th>\n",
       "      <th>ess_tail</th>\n",
       "      <th>r_hat</th>\n",
       "    </tr>\n",
       "  </thead>\n",
       "  <tbody>\n",
       "    <tr>\n",
       "      <th>cluster_effect[1]</th>\n",
       "      <td>-0.215</td>\n",
       "      <td>0.666</td>\n",
       "      <td>-1.502</td>\n",
       "      <td>1.029</td>\n",
       "      <td>0.005</td>\n",
       "      <td>0.007</td>\n",
       "      <td>20599.0</td>\n",
       "      <td>8145.0</td>\n",
       "      <td>1.0</td>\n",
       "    </tr>\n",
       "    <tr>\n",
       "      <th>cluster_effect[2]</th>\n",
       "      <td>-0.032</td>\n",
       "      <td>0.630</td>\n",
       "      <td>-1.188</td>\n",
       "      <td>1.193</td>\n",
       "      <td>0.005</td>\n",
       "      <td>0.006</td>\n",
       "      <td>18577.0</td>\n",
       "      <td>8663.0</td>\n",
       "      <td>1.0</td>\n",
       "    </tr>\n",
       "    <tr>\n",
       "      <th>cluster_effect[3]</th>\n",
       "      <td>0.205</td>\n",
       "      <td>0.666</td>\n",
       "      <td>-1.065</td>\n",
       "      <td>1.457</td>\n",
       "      <td>0.005</td>\n",
       "      <td>0.007</td>\n",
       "      <td>18365.0</td>\n",
       "      <td>8420.0</td>\n",
       "      <td>1.0</td>\n",
       "    </tr>\n",
       "    <tr>\n",
       "      <th>cluster_effect[4]</th>\n",
       "      <td>-0.319</td>\n",
       "      <td>0.609</td>\n",
       "      <td>-1.510</td>\n",
       "      <td>0.787</td>\n",
       "      <td>0.004</td>\n",
       "      <td>0.005</td>\n",
       "      <td>20585.0</td>\n",
       "      <td>8696.0</td>\n",
       "      <td>1.0</td>\n",
       "    </tr>\n",
       "    <tr>\n",
       "      <th>cluster_effect[5]</th>\n",
       "      <td>0.307</td>\n",
       "      <td>0.656</td>\n",
       "      <td>-0.898</td>\n",
       "      <td>1.551</td>\n",
       "      <td>0.004</td>\n",
       "      <td>0.006</td>\n",
       "      <td>21794.0</td>\n",
       "      <td>8582.0</td>\n",
       "      <td>1.0</td>\n",
       "    </tr>\n",
       "    <tr>\n",
       "      <th>...</th>\n",
       "      <td>...</td>\n",
       "      <td>...</td>\n",
       "      <td>...</td>\n",
       "      <td>...</td>\n",
       "      <td>...</td>\n",
       "      <td>...</td>\n",
       "      <td>...</td>\n",
       "      <td>...</td>\n",
       "      <td>...</td>\n",
       "    </tr>\n",
       "    <tr>\n",
       "      <th>cluster_effect[260]</th>\n",
       "      <td>0.417</td>\n",
       "      <td>0.581</td>\n",
       "      <td>-0.662</td>\n",
       "      <td>1.527</td>\n",
       "      <td>0.004</td>\n",
       "      <td>0.004</td>\n",
       "      <td>19641.0</td>\n",
       "      <td>9036.0</td>\n",
       "      <td>1.0</td>\n",
       "    </tr>\n",
       "    <tr>\n",
       "      <th>cluster_effect[261]</th>\n",
       "      <td>-0.258</td>\n",
       "      <td>0.539</td>\n",
       "      <td>-1.300</td>\n",
       "      <td>0.715</td>\n",
       "      <td>0.004</td>\n",
       "      <td>0.005</td>\n",
       "      <td>17799.0</td>\n",
       "      <td>8935.0</td>\n",
       "      <td>1.0</td>\n",
       "    </tr>\n",
       "    <tr>\n",
       "      <th>cluster_effect[262]</th>\n",
       "      <td>-0.239</td>\n",
       "      <td>0.687</td>\n",
       "      <td>-1.539</td>\n",
       "      <td>1.026</td>\n",
       "      <td>0.005</td>\n",
       "      <td>0.007</td>\n",
       "      <td>17423.0</td>\n",
       "      <td>8331.0</td>\n",
       "      <td>1.0</td>\n",
       "    </tr>\n",
       "    <tr>\n",
       "      <th>cluster_effect[263]</th>\n",
       "      <td>-0.084</td>\n",
       "      <td>0.522</td>\n",
       "      <td>-1.054</td>\n",
       "      <td>0.912</td>\n",
       "      <td>0.004</td>\n",
       "      <td>0.005</td>\n",
       "      <td>19809.0</td>\n",
       "      <td>8587.0</td>\n",
       "      <td>1.0</td>\n",
       "    </tr>\n",
       "    <tr>\n",
       "      <th>cluster_effect[264]</th>\n",
       "      <td>0.581</td>\n",
       "      <td>0.428</td>\n",
       "      <td>-0.242</td>\n",
       "      <td>1.363</td>\n",
       "      <td>0.003</td>\n",
       "      <td>0.003</td>\n",
       "      <td>18284.0</td>\n",
       "      <td>9180.0</td>\n",
       "      <td>1.0</td>\n",
       "    </tr>\n",
       "  </tbody>\n",
       "</table>\n",
       "<p>264 rows × 9 columns</p>\n",
       "</div>"
      ],
      "text/plain": [
       "                      mean     sd  hdi_3%  hdi_97%  mcse_mean  mcse_sd  \\\n",
       "cluster_effect[1]   -0.215  0.666  -1.502    1.029      0.005    0.007   \n",
       "cluster_effect[2]   -0.032  0.630  -1.188    1.193      0.005    0.006   \n",
       "cluster_effect[3]    0.205  0.666  -1.065    1.457      0.005    0.007   \n",
       "cluster_effect[4]   -0.319  0.609  -1.510    0.787      0.004    0.005   \n",
       "cluster_effect[5]    0.307  0.656  -0.898    1.551      0.004    0.006   \n",
       "...                    ...    ...     ...      ...        ...      ...   \n",
       "cluster_effect[260]  0.417  0.581  -0.662    1.527      0.004    0.004   \n",
       "cluster_effect[261] -0.258  0.539  -1.300    0.715      0.004    0.005   \n",
       "cluster_effect[262] -0.239  0.687  -1.539    1.026      0.005    0.007   \n",
       "cluster_effect[263] -0.084  0.522  -1.054    0.912      0.004    0.005   \n",
       "cluster_effect[264]  0.581  0.428  -0.242    1.363      0.003    0.003   \n",
       "\n",
       "                     ess_bulk  ess_tail  r_hat  \n",
       "cluster_effect[1]     20599.0    8145.0    1.0  \n",
       "cluster_effect[2]     18577.0    8663.0    1.0  \n",
       "cluster_effect[3]     18365.0    8420.0    1.0  \n",
       "cluster_effect[4]     20585.0    8696.0    1.0  \n",
       "cluster_effect[5]     21794.0    8582.0    1.0  \n",
       "...                       ...       ...    ...  \n",
       "cluster_effect[260]   19641.0    9036.0    1.0  \n",
       "cluster_effect[261]   17799.0    8935.0    1.0  \n",
       "cluster_effect[262]   17423.0    8331.0    1.0  \n",
       "cluster_effect[263]   19809.0    8587.0    1.0  \n",
       "cluster_effect[264]   18284.0    9180.0    1.0  \n",
       "\n",
       "[264 rows x 9 columns]"
      ]
     },
     "execution_count": 8,
     "metadata": {},
     "output_type": "execute_result"
    }
   ],
   "source": [
    "az.summary(trace, var_names=[\"cluster_effect\"])"
   ]
  },
  {
   "cell_type": "markdown",
   "id": "f4fea256-4939-486b-8758-d18a888e1580",
   "metadata": {},
   "source": [
    "Based on this coordinates example:\n",
    "\n",
    "https://oriolabrilpla.cat/python/arviz/pymc3/xarray/2020/09/22/pymc3-arviz.html"
   ]
  },
  {
   "cell_type": "markdown",
   "id": "c73d3bf7-5751-4b33-918d-7c30836c6595",
   "metadata": {
    "tags": []
   },
   "source": [
    "## No clusters"
   ]
  },
  {
   "cell_type": "code",
   "execution_count": 9,
   "id": "9ec95b8b-ec8f-4a2e-ac93-a1618772c50d",
   "metadata": {
    "tags": [
     "hide-output"
    ]
   },
   "outputs": [
    {
     "name": "stderr",
     "output_type": "stream",
     "text": [
      "Auto-assigning NUTS sampler...\n",
      "Initializing NUTS using jitter+adapt_diag...\n",
      "Multiprocess sampling (4 chains in 4 jobs)\n",
      "NUTS: [beta]\n"
     ]
    },
    {
     "data": {
      "text/html": [
       "\n",
       "<style>\n",
       "    /* Turns off some styling */\n",
       "    progress {\n",
       "        /* gets rid of default border in Firefox and Opera. */\n",
       "        border: none;\n",
       "        /* Needs to be in here for Safari polyfill so background images work as expected. */\n",
       "        background-size: auto;\n",
       "    }\n",
       "    progress:not([value]), progress:not([value])::-webkit-progress-bar {\n",
       "        background: repeating-linear-gradient(45deg, #7e7e7e, #7e7e7e 10px, #5c5c5c 10px, #5c5c5c 20px);\n",
       "    }\n",
       "    .progress-bar-interrupted, .progress-bar-interrupted::-webkit-progress-bar {\n",
       "        background: #F44336;\n",
       "    }\n",
       "</style>\n"
      ],
      "text/plain": [
       "<IPython.core.display.HTML object>"
      ]
     },
     "metadata": {},
     "output_type": "display_data"
    },
    {
     "data": {
      "text/html": [
       "\n",
       "    <div>\n",
       "      <progress value='16000' class='' max='16000' style='width:300px; height:20px; vertical-align: middle;'></progress>\n",
       "      100.00% [16000/16000 00:20&lt;00:00 Sampling 4 chains, 0 divergences]\n",
       "    </div>\n",
       "    "
      ],
      "text/plain": [
       "<IPython.core.display.HTML object>"
      ]
     },
     "metadata": {},
     "output_type": "display_data"
    },
    {
     "name": "stderr",
     "output_type": "stream",
     "text": [
      "Sampling 4 chains for 1_000 tune and 3_000 draw iterations (4_000 + 12_000 draws total) took 21 seconds.\n"
     ]
    }
   ],
   "source": [
    "with pm.Model() as m_nc:\n",
    "    X_data = pm.Data(\"X_data\", X_aug, mutable=True)\n",
    "    y_data = pm.Data(\"y_data\", y, mutable=True)\n",
    "\n",
    "    beta = pm.Normal(\"beta\", 0, tau=1e-3, shape=cols)\n",
    "\n",
    "    p = pm.math.dot(X_data, beta)\n",
    "\n",
    "    pm.Bernoulli(\"likelihood\", logit_p=p, observed=y_data)\n",
    "\n",
    "    trace_nc = pm.sample(3000)"
   ]
  },
  {
   "cell_type": "code",
   "execution_count": 10,
   "id": "be523916-3d4f-439a-aec7-4fd1f49ff73c",
   "metadata": {},
   "outputs": [
    {
     "data": {
      "text/html": [
       "<div>\n",
       "<style scoped>\n",
       "    .dataframe tbody tr th:only-of-type {\n",
       "        vertical-align: middle;\n",
       "    }\n",
       "\n",
       "    .dataframe tbody tr th {\n",
       "        vertical-align: top;\n",
       "    }\n",
       "\n",
       "    .dataframe thead th {\n",
       "        text-align: right;\n",
       "    }\n",
       "</style>\n",
       "<table border=\"1\" class=\"dataframe\">\n",
       "  <thead>\n",
       "    <tr style=\"text-align: right;\">\n",
       "      <th></th>\n",
       "      <th>mean</th>\n",
       "      <th>sd</th>\n",
       "      <th>hdi_3%</th>\n",
       "      <th>hdi_97%</th>\n",
       "    </tr>\n",
       "  </thead>\n",
       "  <tbody>\n",
       "    <tr>\n",
       "      <th>beta[0]</th>\n",
       "      <td>1.429</td>\n",
       "      <td>0.107</td>\n",
       "      <td>1.225</td>\n",
       "      <td>1.626</td>\n",
       "    </tr>\n",
       "    <tr>\n",
       "      <th>beta[1]</th>\n",
       "      <td>-0.064</td>\n",
       "      <td>0.013</td>\n",
       "      <td>-0.090</td>\n",
       "      <td>-0.040</td>\n",
       "    </tr>\n",
       "    <tr>\n",
       "      <th>beta[2]</th>\n",
       "      <td>-0.566</td>\n",
       "      <td>0.190</td>\n",
       "      <td>-0.927</td>\n",
       "      <td>-0.213</td>\n",
       "    </tr>\n",
       "    <tr>\n",
       "      <th>beta[3]</th>\n",
       "      <td>-0.188</td>\n",
       "      <td>0.086</td>\n",
       "      <td>-0.347</td>\n",
       "      <td>-0.025</td>\n",
       "    </tr>\n",
       "    <tr>\n",
       "      <th>beta[4]</th>\n",
       "      <td>-0.716</td>\n",
       "      <td>0.116</td>\n",
       "      <td>-0.943</td>\n",
       "      <td>-0.508</td>\n",
       "    </tr>\n",
       "    <tr>\n",
       "      <th>beta[5]</th>\n",
       "      <td>-0.452</td>\n",
       "      <td>0.089</td>\n",
       "      <td>-0.618</td>\n",
       "      <td>-0.281</td>\n",
       "    </tr>\n",
       "    <tr>\n",
       "      <th>beta[6]</th>\n",
       "      <td>-0.606</td>\n",
       "      <td>0.084</td>\n",
       "      <td>-0.769</td>\n",
       "      <td>-0.459</td>\n",
       "    </tr>\n",
       "  </tbody>\n",
       "</table>\n",
       "</div>"
      ],
      "text/plain": [
       "          mean     sd  hdi_3%  hdi_97%\n",
       "beta[0]  1.429  0.107   1.225    1.626\n",
       "beta[1] -0.064  0.013  -0.090   -0.040\n",
       "beta[2] -0.566  0.190  -0.927   -0.213\n",
       "beta[3] -0.188  0.086  -0.347   -0.025\n",
       "beta[4] -0.716  0.116  -0.943   -0.508\n",
       "beta[5] -0.452  0.089  -0.618   -0.281\n",
       "beta[6] -0.606  0.084  -0.769   -0.459"
      ]
     },
     "execution_count": 10,
     "metadata": {},
     "output_type": "execute_result"
    }
   ],
   "source": [
    "az.summary(\n",
    "    trace_nc, var_names=[\"beta\", \"cluster_variance\"], filter_vars=\"like\", kind=\"stats\"\n",
    ")"
   ]
  },
  {
   "cell_type": "code",
   "execution_count": 11,
   "id": "6aee825b-a990-4c43-b081-572d108bc7a3",
   "metadata": {},
   "outputs": [
    {
     "name": "stdout",
     "output_type": "stream",
     "text": [
      "Last updated: Wed Mar 22 2023\n",
      "\n",
      "Python implementation: CPython\n",
      "Python version       : 3.11.0\n",
      "IPython version      : 8.9.0\n",
      "\n",
      "pytensor: 2.10.1\n",
      "\n",
      "numpy : 1.24.2\n",
      "pandas: 1.5.3\n",
      "arviz : 0.14.0\n",
      "pymc  : 5.1.2\n",
      "\n"
     ]
    }
   ],
   "source": [
    "%load_ext watermark\n",
    "%watermark -n -u -v -iv -p pytensor"
   ]
  }
 ],
 "metadata": {
  "kernelspec": {
   "display_name": "Python 3 (ipykernel)",
   "language": "python",
   "name": "python3"
  },
  "language_info": {
   "codemirror_mode": {
    "name": "ipython",
    "version": 3
   },
   "file_extension": ".py",
   "mimetype": "text/x-python",
   "name": "python",
   "nbconvert_exporter": "python",
   "pygments_lexer": "ipython3",
   "version": "3.11.0"
  }
 },
 "nbformat": 4,
 "nbformat_minor": 5
}
