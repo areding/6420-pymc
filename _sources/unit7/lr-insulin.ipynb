{
 "cells": [
  {
   "cell_type": "code",
   "execution_count": 1,
   "id": "c12fcd5c",
   "metadata": {},
   "outputs": [],
   "source": [
    "import pymc as pm\n",
    "import numpy as np\n",
    "import arviz as az\n",
    "import pandas as pd\n",
    "\n",
    "%load_ext lab_black\n",
    "%load_ext watermark"
   ]
  },
  {
   "cell_type": "markdown",
   "id": "534f5bb7",
   "metadata": {},
   "source": [
    "# Insulin\n",
    "\n",
    "This example demonstrates ...\n",
    "\n",
    "Adapted from [unit 7: insulin.odc](https://raw.githubusercontent.com/areding/6420-pymc/main/original_examples/Codes4Unit7/insulin.odc).\n",
    "\n",
    "No associated lecture?"
   ]
  },
  {
   "cell_type": "markdown",
   "id": "53b2624b",
   "metadata": {},
   "source": [
    "## Problem statement\n",
    "\n",
    "Insulin has anti-inflammatory effects, as evaluated by its ability to reduce  plasma concentrations of cytokines.The cytokine content in several organs after endotoxin (lipopolysaccharide, LPS) exposure and the effect of hyperinsulinaemia was examined in a porcine model (Brix-Christensen et al., 2005).All animals (35 to 40 kg) were subject to general anaesthesia and ventilated for 570 minutes.There were two possible interventions:\n",
    "\n",
    "LPS: Lipopolysaccharide infusion for 180 minutes; and \n",
    "\n",
    "HEC: Hyperinsulinemic euglycemic clamp in 570 minutes (from start).\n",
    "\n",
    "Insulin was infusedat a constant rate and plasma glucose was clamped at a certain level by infusion of glucose. LPS  induces a systemic inflammation (makes the animals sick) and HEC  acts asa treatment. There were four experimental cells: (1) only anaesthesia (no HEC, no LPS),(2) HEC, (3) LPS, and (4) HEC and LPS.The responses are levels of interleukin-10 (IL-10) in the kidney after 330 minutes have elapsed.\n"
   ]
  },
  {
   "cell_type": "code",
   "execution_count": 4,
   "id": "8a3ae3ff",
   "metadata": {},
   "outputs": [],
   "source": [
    "# fmt: off\n",
    "IL = (7.0607, 2.6168, 4.3489, 3.6356, 4.7510, 2.9530, 3.6137, 5.6969,\n",
    "      3.0693, 1.6489, 2.9160, 2.9149, 2.1102, 3.1004, 4.1170, 3.0229, \n",
    "      3.6911, 4.3933, 6.0513, 4.2559, 4.5554, 3.8447, 1.3590, 2.1449, \n",
    "      2.4159, 3.1493, 4.4462, 2.8545, 1.8944, 3.5133, 4.6254, 3.8967)\n",
    "\n",
    "hec = (1, 1, 1, 1, 1, 1, 1, 1, 2, 2, 2, 2, 2, 2, 2, 2, 1, 1, 1, 1, 1, 1, 1, 1, 2, 2, 2, 2, 2, 2, 2, 2)\n",
    "\n",
    "lps  = (1, 1, 1, 1, 1, 1, 1, 1, 1, 1, 1, 1, 1, 1, 1, 1, 2, 2, 2, 2, 2, 2, 2, 2, 2, 2, 2, 2, 2, 2, 2, 2)\n",
    "# fmt: on"
   ]
  },
  {
   "cell_type": "code",
   "execution_count": null,
   "id": "d15ec119",
   "metadata": {},
   "outputs": [],
   "source": []
  }
 ],
 "metadata": {
  "kernelspec": {
   "display_name": "Python 3 (ipykernel)",
   "language": "python",
   "name": "python3"
  },
  "language_info": {
   "codemirror_mode": {
    "name": "ipython",
    "version": 3
   },
   "file_extension": ".py",
   "mimetype": "text/x-python",
   "name": "python",
   "nbconvert_exporter": "python",
   "pygments_lexer": "ipython3",
   "version": "3.10.1"
  }
 },
 "nbformat": 4,
 "nbformat_minor": 5
}
