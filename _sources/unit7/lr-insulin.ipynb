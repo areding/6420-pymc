{
 "cells": [
  {
   "cell_type": "code",
   "execution_count": 1,
   "id": "fcad19cf",
   "metadata": {},
   "outputs": [],
   "source": [
    "import pymc as pm\n",
    "import numpy as np\n",
    "import arviz as az\n",
    "import pytensor.tensor.subtensor as st\n",
    "\n",
    "%load_ext lab_black\n",
    "%load_ext watermark"
   ]
  },
  {
   "cell_type": "markdown",
   "id": "9a6d7d52",
   "metadata": {},
   "source": [
    "# Insulin\n",
    "\n",
    "Similar to the Simvstatin example, but with corner constraints.\n",
    "\n",
    "Adapted from [unit 7: insulin.odc](https://raw.githubusercontent.com/areding/6420-pymc/main/original_examples/Codes4Unit7/insulin.odc).\n",
    "\n",
    "No associated lecture."
   ]
  },
  {
   "cell_type": "markdown",
   "id": "3c1026bb",
   "metadata": {},
   "source": [
    "## Problem statement\n",
    "\n",
    "Insulin has anti-inflammatory effects, as evaluated by its ability to reduce  plasma concentrations of cytokines. The cytokine content in several organs after endotoxin (lipopolysaccharide, LPS) exposure and the effect of hyperinsulinaemia was examined in a porcine model (Brix-Christensen et al., 2005). All animals (35 to 40 kg) were subject to general anaesthesia and ventilated for 570 minutes.There were two possible interventions:\n",
    "\n",
    "LPS: Lipopolysaccharide infusion for 180 minutes; and \n",
    "\n",
    "HEC: Hyperinsulinemic euglycemic clamp in 570 minutes (from start).\n",
    "\n",
    "Insulin was infused at a constant rate and plasma glucose was clamped at a certain level by infusion of glucose. LPS induces a systemic inflammation (makes the animals sick) and HEC  acts asa treatment. There were four experimental cells: (1) only anaesthesia (no HEC, no LPS),(2) HEC, (3) LPS, and (4) HEC and LPS.The responses are levels of interleukin-10 (IL-10) in the kidney after 330 minutes have elapsed.\n"
   ]
  },
  {
   "cell_type": "code",
   "execution_count": 2,
   "id": "b83a5e5a",
   "metadata": {},
   "outputs": [],
   "source": [
    "# fmt: off\n",
    "IL = np.array(\n",
    "              (7.0607, 2.6168, 4.3489, 3.6356, 4.7510, 2.9530, 3.6137, 5.6969,\n",
    "               3.0693, 1.6489, 2.9160, 2.9149, 2.1102, 3.1004, 4.1170, 3.0229, \n",
    "               3.6911, 4.3933, 6.0513, 4.2559, 4.5554, 3.8447, 1.3590, 2.1449, \n",
    "               2.4159, 3.1493, 4.4462, 2.8545, 1.8944, 3.5133, 4.6254, 3.8967)\n",
    "             )\n",
    "\n",
    "hec = np.array(\n",
    "                (1, 1, 1, 1, 1, 1, 1, 1, 2, 2, 2, 2, 2, 2, 2, 2, \n",
    "                 1, 1, 1, 1, 1, 1, 1, 1, 2, 2, 2, 2, 2, 2, 2, 2)\n",
    "              )\n",
    "lps  = np.array(\n",
    "                (1, 1, 1, 1, 1, 1, 1, 1, 1, 1, 1, 1, 1, 1, 1, 1,\n",
    "                 2, 2, 2, 2, 2, 2, 2, 2, 2, 2, 2, 2, 2, 2, 2, 2)\n",
    "               )\n",
    "# fmt: on"
   ]
  },
  {
   "cell_type": "code",
   "execution_count": 3,
   "id": "f3e9dc87",
   "metadata": {},
   "outputs": [],
   "source": [
    "coords = {\"hec\": np.unique(hec), \"id\": np.array(range(len(lps))), \"lps\": np.unique(lps)}"
   ]
  },
  {
   "cell_type": "code",
   "execution_count": 4,
   "id": "dc8c31e3",
   "metadata": {},
   "outputs": [
    {
     "data": {
      "text/plain": [
       "{'hec': array([1, 2]),\n",
       " 'id': array([ 0,  1,  2,  3,  4,  5,  6,  7,  8,  9, 10, 11, 12, 13, 14, 15, 16,\n",
       "        17, 18, 19, 20, 21, 22, 23, 24, 25, 26, 27, 28, 29, 30, 31]),\n",
       " 'lps': array([1, 2])}"
      ]
     },
     "execution_count": 4,
     "metadata": {},
     "output_type": "execute_result"
    }
   ],
   "source": [
    "coords"
   ]
  },
  {
   "cell_type": "code",
   "execution_count": 5,
   "id": "95c42936",
   "metadata": {},
   "outputs": [],
   "source": [
    "hec_idx = hec - 1\n",
    "lps_idx = lps - 1"
   ]
  },
  {
   "cell_type": "code",
   "execution_count": 6,
   "id": "b35976a9",
   "metadata": {},
   "outputs": [
    {
     "name": "stderr",
     "output_type": "stream",
     "text": [
      "/Users/aaron/mambaforge/envs/pymc_env2/lib/python3.11/site-packages/multipledispatch/dispatcher.py:27: AmbiguityWarning: \n",
      "Ambiguities exist in dispatched function _unify\n",
      "\n",
      "The following signatures may result in ambiguous behavior:\n",
      "\t[object, ConstrainedVar, Mapping], [ConstrainedVar, Var, Mapping]\n",
      "\t[object, ConstrainedVar, Mapping], [ConstrainedVar, object, Mapping]\n",
      "\t[ConstrainedVar, object, Mapping], [object, ConstrainedVar, Mapping]\n",
      "\t[ConstrainedVar, Var, Mapping], [object, ConstrainedVar, Mapping]\n",
      "\n",
      "\n",
      "Consider making the following additions:\n",
      "\n",
      "@dispatch(ConstrainedVar, ConstrainedVar, Mapping)\n",
      "def _unify(...)\n",
      "\n",
      "@dispatch(ConstrainedVar, ConstrainedVar, Mapping)\n",
      "def _unify(...)\n",
      "\n",
      "@dispatch(ConstrainedVar, ConstrainedVar, Mapping)\n",
      "def _unify(...)\n",
      "\n",
      "@dispatch(ConstrainedVar, ConstrainedVar, Mapping)\n",
      "def _unify(...)\n",
      "  warn(warning_text(dispatcher.name, ambiguities), AmbiguityWarning)\n",
      "Auto-assigning NUTS sampler...\n",
      "Initializing NUTS using jitter+adapt_diag...\n",
      "Multiprocess sampling (4 chains in 4 jobs)\n",
      "NUTS: [mu0, _alpha, _beta, _alphabeta, tau]\n"
     ]
    },
    {
     "data": {
      "text/html": [
       "\n",
       "<style>\n",
       "    /* Turns off some styling */\n",
       "    progress {\n",
       "        /* gets rid of default border in Firefox and Opera. */\n",
       "        border: none;\n",
       "        /* Needs to be in here for Safari polyfill so background images work as expected. */\n",
       "        background-size: auto;\n",
       "    }\n",
       "    progress:not([value]), progress:not([value])::-webkit-progress-bar {\n",
       "        background: repeating-linear-gradient(45deg, #7e7e7e, #7e7e7e 10px, #5c5c5c 10px, #5c5c5c 20px);\n",
       "    }\n",
       "    .progress-bar-interrupted, .progress-bar-interrupted::-webkit-progress-bar {\n",
       "        background: #F44336;\n",
       "    }\n",
       "</style>\n"
      ],
      "text/plain": [
       "<IPython.core.display.HTML object>"
      ]
     },
     "metadata": {},
     "output_type": "display_data"
    },
    {
     "data": {
      "text/html": [
       "\n",
       "    <div>\n",
       "      <progress value='12000' class='' max='12000' style='width:300px; height:20px; vertical-align: middle;'></progress>\n",
       "      100.00% [12000/12000 00:20&lt;00:00 Sampling 4 chains, 0 divergences]\n",
       "    </div>\n",
       "    "
      ],
      "text/plain": [
       "<IPython.core.display.HTML object>"
      ]
     },
     "metadata": {},
     "output_type": "display_data"
    },
    {
     "name": "stderr",
     "output_type": "stream",
     "text": [
      "Sampling 4 chains for 1_000 tune and 2_000 draw iterations (4_000 + 8_000 draws total) took 22 seconds.\n"
     ]
    }
   ],
   "source": [
    "with pm.Model(coords=coords) as m:\n",
    "    IL_data = pm.Data(\"apa_data\", IL, mutable=False)\n",
    "    hec_data = pm.Data(\"hec_data\", hec_idx, dims=\"id\", mutable=False)\n",
    "    lps_data = pm.Data(\"lps_data\", lps_idx, dims=\"id\", mutable=False)\n",
    "\n",
    "    mu0 = pm.Normal(\"mu0\", 0, tau=0.0001)\n",
    "    _alpha = pm.Normal(\"_alpha\", 0, tau=0.0001, dims=\"hec\")\n",
    "    _beta = pm.Normal(\"_beta\", 0, tau=0.0001, dims=\"lps\")\n",
    "    _alphabeta = pm.Normal(\"_alphabeta\", 0, tau=0.0001, dims=(\"hec\", \"lps\"))\n",
    "    tau = pm.Gamma(\"tau\", 0.001, 0.001)\n",
    "    sigma = pm.Deterministic(\"sigma\", 1 / tau**0.5)\n",
    "\n",
    "    # sum-to-zero constraints\n",
    "    alpha = pm.Deterministic(\"alpha\", st.set_subtensor(_alpha[0], 0))\n",
    "    beta = pm.Deterministic(\"beta\", st.set_subtensor(_beta[0], 0))\n",
    "    _alphabeta = st.set_subtensor(_alphabeta[:, 0], 0)\n",
    "    alphabeta = pm.Deterministic(\"alphabeta\", st.set_subtensor(_alphabeta[0, :], 0))\n",
    "\n",
    "    mu = mu0 + alpha[hec_data] + beta[lps_data] + alphabeta[hec_data, lps_data]\n",
    "    pm.Normal(\"IL\", mu, tau=tau, observed=IL_data)\n",
    "\n",
    "    trace = pm.sample(2000)"
   ]
  },
  {
   "cell_type": "code",
   "execution_count": 7,
   "id": "431214a4",
   "metadata": {},
   "outputs": [
    {
     "data": {
      "text/html": [
       "<div>\n",
       "<style scoped>\n",
       "    .dataframe tbody tr th:only-of-type {\n",
       "        vertical-align: middle;\n",
       "    }\n",
       "\n",
       "    .dataframe tbody tr th {\n",
       "        vertical-align: top;\n",
       "    }\n",
       "\n",
       "    .dataframe thead th {\n",
       "        text-align: right;\n",
       "    }\n",
       "</style>\n",
       "<table border=\"1\" class=\"dataframe\">\n",
       "  <thead>\n",
       "    <tr style=\"text-align: right;\">\n",
       "      <th></th>\n",
       "      <th>mean</th>\n",
       "      <th>sd</th>\n",
       "      <th>hdi_3%</th>\n",
       "      <th>hdi_97%</th>\n",
       "    </tr>\n",
       "  </thead>\n",
       "  <tbody>\n",
       "    <tr>\n",
       "      <th>alpha[1]</th>\n",
       "      <td>-1.482</td>\n",
       "      <td>0.610</td>\n",
       "      <td>-2.689</td>\n",
       "      <td>-0.384</td>\n",
       "    </tr>\n",
       "    <tr>\n",
       "      <th>mu0</th>\n",
       "      <td>4.339</td>\n",
       "      <td>0.432</td>\n",
       "      <td>3.551</td>\n",
       "      <td>5.165</td>\n",
       "    </tr>\n",
       "    <tr>\n",
       "      <th>sigma</th>\n",
       "      <td>1.236</td>\n",
       "      <td>0.173</td>\n",
       "      <td>0.947</td>\n",
       "      <td>1.572</td>\n",
       "    </tr>\n",
       "    <tr>\n",
       "      <th>beta[1]</th>\n",
       "      <td>-0.550</td>\n",
       "      <td>0.621</td>\n",
       "      <td>-1.722</td>\n",
       "      <td>0.615</td>\n",
       "    </tr>\n",
       "    <tr>\n",
       "      <th>alphabeta[1, 1]</th>\n",
       "      <td>1.033</td>\n",
       "      <td>0.876</td>\n",
       "      <td>-0.599</td>\n",
       "      <td>2.681</td>\n",
       "    </tr>\n",
       "  </tbody>\n",
       "</table>\n",
       "</div>"
      ],
      "text/plain": [
       "                  mean     sd  hdi_3%  hdi_97%\n",
       "alpha[1]        -1.482  0.610  -2.689   -0.384\n",
       "mu0              4.339  0.432   3.551    5.165\n",
       "sigma            1.236  0.173   0.947    1.572\n",
       "beta[1]         -0.550  0.621  -1.722    0.615\n",
       "alphabeta[1, 1]  1.033  0.876  -0.599    2.681"
      ]
     },
     "execution_count": 7,
     "metadata": {},
     "output_type": "execute_result"
    }
   ],
   "source": [
    "az.summary(\n",
    "    trace,\n",
    "    var_names=[\"~_\"],\n",
    "    filter_vars=\"like\",\n",
    "    kind=\"stats\",\n",
    ").loc[[\"alpha[1]\", \"mu0\", \"sigma\", \"beta[1]\", \"alphabeta[1, 1]\"], :]"
   ]
  },
  {
   "cell_type": "code",
   "execution_count": 8,
   "id": "2f96b5ab",
   "metadata": {},
   "outputs": [
    {
     "name": "stdout",
     "output_type": "stream",
     "text": [
      "Last updated: Fri Feb 03 2023\n",
      "\n",
      "Python implementation: CPython\n",
      "Python version       : 3.11.0\n",
      "IPython version      : 8.9.0\n",
      "\n",
      "aesara: 2.8.10\n",
      "aeppl : 0.1.1\n",
      "\n",
      "numpy   : 1.24.1\n",
      "arviz   : 0.14.0\n",
      "pymc    : 5.0.1\n",
      "pytensor: 2.8.11\n",
      "\n"
     ]
    }
   ],
   "source": [
    "%watermark -n -u -v -iv -p aesara,aeppl"
   ]
  }
 ],
 "metadata": {
  "kernelspec": {
   "display_name": "Python 3 (ipykernel)",
   "language": "python",
   "name": "python3"
  },
  "language_info": {
   "codemirror_mode": {
    "name": "ipython",
    "version": 3
   },
   "file_extension": ".py",
   "mimetype": "text/x-python",
   "name": "python",
   "nbconvert_exporter": "python",
   "pygments_lexer": "ipython3",
   "version": "3.11.0"
  }
 },
 "nbformat": 4,
 "nbformat_minor": 5
}
