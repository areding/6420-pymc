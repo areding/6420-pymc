{
 "cells": [
  {
   "cell_type": "markdown",
   "id": "94223c83-bbf8-4261-8f86-4cefa0f0abfd",
   "metadata": {},
   "source": [
    "# 14. Generalized Linear Models"
   ]
  },
  {
   "cell_type": "code",
   "execution_count": null,
   "id": "11f4d4d5-ddbd-462e-996d-41486baa3eea",
   "metadata": {},
   "outputs": [],
   "source": []
  }
 ],
 "metadata": {
  "kernelspec": {
   "display_name": "Python 3 (ipykernel)",
   "language": "python",
   "name": "python3"
  },
  "language_info": {
   "codemirror_mode": {
    "name": "ipython",
    "version": 3
   },
   "file_extension": ".py",
   "mimetype": "text/x-python",
   "name": "python",
   "nbconvert_exporter": "python",
   "pygments_lexer": "ipython3",
   "version": "3.11.0"
  }
 },
 "nbformat": 4,
 "nbformat_minor": 5
}
