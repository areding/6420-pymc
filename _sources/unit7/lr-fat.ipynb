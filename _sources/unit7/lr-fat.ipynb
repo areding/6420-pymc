{
 "cells": [
  {
   "cell_type": "code",
   "execution_count": 2,
   "id": "078bfdf6",
   "metadata": {},
   "outputs": [],
   "source": [
    "import pymc as pm\n",
    "import pandas as pd\n",
    "import numpy as np\n",
    "import arviz as az\n",
    "import aesara.tensor as at\n",
    "\n",
    "%load_ext lab_black\n",
    "%load_ext watermark"
   ]
  },
  {
   "cell_type": "markdown",
   "id": "6f6e3ad4",
   "metadata": {},
   "source": [
    "# Brozek index prediction\n",
    "\n",
    "This example goes over linear regression and Bayesian $R^2$.\n",
    "\n",
    "Adapted from [unit 7: fat1.odc](https://raw.githubusercontent.com/areding/6420-pymc/main/original_examples/Codes4Unit7/fat2d.odc), [unit 7: fat2d.odc](https://raw.githubusercontent.com/areding/6420-pymc/main/original_examples/Codes4Unit7/fat1.odc) and [fatmulti.odc](https://raw.githubusercontent.com/areding/6420-pymc/main/original_examples/Codes4Unit7/fatmulti.odc).\n",
    "\n",
    "Data can be found [here](https://raw.githubusercontent.com/areding/6420-pymc/main/data/fat.tsv).\n",
    "\n",
    "## Associated lecture videos:\n",
    "### Unit 7 Lesson 11"
   ]
  },
  {
   "cell_type": "code",
   "execution_count": 3,
   "id": "81007ccb",
   "metadata": {
    "tags": [
     "hide_input"
    ]
   },
   "outputs": [
    {
     "data": {
      "text/html": [
       "<iframe width=\"560\" height=\"315\" src=\"https://www.youtube.com/embed?v=xomK4tcePmc&list=PLv0FeK5oXK4l-RdT6DWJj0_upJOG2WKNO&index=73\" frameborder=\"0\" allow=\"autoplay; encrypted-media\" allowfullscreen></iframe>\n"
      ],
      "text/plain": [
       "<IPython.core.display.HTML object>"
      ]
     },
     "metadata": {},
     "output_type": "display_data"
    }
   ],
   "source": [
    "%%html\n",
    "<iframe width=\"560\" height=\"315\" src=\"https://www.youtube.com/embed?v=xomK4tcePmc&list=PLv0FeK5oXK4l-RdT6DWJj0_upJOG2WKNO&index=73\" frameborder=\"0\" allow=\"autoplay; encrypted-media\" allowfullscreen></iframe>"
   ]
  },
  {
   "cell_type": "markdown",
   "id": "18f7e1f0",
   "metadata": {},
   "source": [
    "### Unit 7 Lesson 13"
   ]
  },
  {
   "cell_type": "code",
   "execution_count": 4,
   "id": "53fc8f74",
   "metadata": {
    "tags": [
     "hide_input"
    ]
   },
   "outputs": [
    {
     "data": {
      "text/html": [
       "<iframe width=\"560\" height=\"315\" src=\"https://www.youtube.com/embed?v=xomK4tcePmc&list=PLv0FeK5oXK4l-RdT6DWJj0_upJOG2WKNO&index=75\" frameborder=\"0\" allow=\"autoplay; encrypted-media\" allowfullscreen></iframe>\n"
      ],
      "text/plain": [
       "<IPython.core.display.HTML object>"
      ]
     },
     "metadata": {},
     "output_type": "display_data"
    }
   ],
   "source": [
    "%%html\n",
    "<iframe width=\"560\" height=\"315\" src=\"https://www.youtube.com/embed?v=xomK4tcePmc&list=PLv0FeK5oXK4l-RdT6DWJj0_upJOG2WKNO&index=75\" frameborder=\"0\" allow=\"autoplay; encrypted-media\" allowfullscreen></iframe>"
   ]
  },
  {
   "cell_type": "markdown",
   "id": "ac3be076",
   "metadata": {
    "tags": []
   },
   "source": [
    "## Problem statement\n",
    "\n",
    "Percentage of body fat, age, weight, height, and ten body circumference measurements (e.g., abdomen) were recorded for 252 men. Percentage of body fat is estimated through an underwater weighing technique.\n",
    "\n",
    "The data set has 252 observations and 15 variables. Brozek index (Brozek et al., 1963) is obtained by the underwater weighing while other 14 anthropometric variables are obtained using scales and a measuring tape.\n",
    "\n",
    "- y = Brozek index\n",
    "- X1 = 1 (intercept)\n",
    "- X2 = age\n",
    "- X3 = weight\n",
    "- X4 = height\n",
    "- X5 = adipose\n",
    "- X6 = neck  \n",
    "- X7 = chest\n",
    "- X8 = abdomen\n",
    "- X9 = hip\n",
    "- X10 = thigh\n",
    "- X11 = knee   \n",
    "- X12 = ankle\n",
    "- X13 = bicep\n",
    "- X14 = forearm\n",
    "- X15 = wrist\n",
    "\n",
    "These anthropometric variables are less intrusive but also less reliable in assessing the body fat index.\n",
    "\n",
    "Set a linear regression to predict the Brozek index from these body measurements."
   ]
  },
  {
   "cell_type": "markdown",
   "id": "2611706a",
   "metadata": {},
   "source": [
    "## Single predictor (X8)\n",
    "\n",
    "This is a recreation of fat1.odc."
   ]
  },
  {
   "cell_type": "code",
   "execution_count": 5,
   "id": "659a984f",
   "metadata": {},
   "outputs": [],
   "source": [
    "data = pd.read_csv(\"../data/fat.tsv\", sep=\"\\t\")\n",
    "\n",
    "y = data[\"y\"].to_numpy(copy=True)\n",
    "X = data[\"X8\"].to_numpy(copy=True)\n",
    "\n",
    "# p will be the number of predictors + intercept (1 + 1 in this case)\n",
    "n, p = X.shape[0], 2"
   ]
  },
  {
   "cell_type": "code",
   "execution_count": 6,
   "id": "d6bb048b",
   "metadata": {
    "tags": [
     "hide_output"
    ]
   },
   "outputs": [
    {
     "name": "stderr",
     "output_type": "stream",
     "text": [
      "Auto-assigning NUTS sampler...\n",
      "Initializing NUTS using jitter+adapt_diag...\n",
      "/Users/aaron/mambaforge/envs/pymc_env/lib/python3.10/site-packages/pymc/aesaraf.py:996: UserWarning: The parameter 'updates' of aesara.function() expects an OrderedDict, got <class 'dict'>. Using a standard dictionary here results in non-deterministic behavior. You should use an OrderedDict if you are using Python 2.7 (collections.OrderedDict for older python), or use a list of (shared, update) pairs. Do not just convert your dictionary to this type before the call as the conversion will still be non-deterministic.\n",
      "  aesara_function = aesara.function(\n",
      "Multiprocess sampling (4 chains in 4 jobs)\n",
      "NUTS: [tau, beta0_intercept, beta1_abdomen]\n"
     ]
    },
    {
     "data": {
      "text/html": [
       "\n",
       "<style>\n",
       "    /* Turns off some styling */\n",
       "    progress {\n",
       "        /* gets rid of default border in Firefox and Opera. */\n",
       "        border: none;\n",
       "        /* Needs to be in here for Safari polyfill so background images work as expected. */\n",
       "        background-size: auto;\n",
       "    }\n",
       "    .progress-bar-interrupted, .progress-bar-interrupted::-webkit-progress-bar {\n",
       "        background: #F44336;\n",
       "    }\n",
       "</style>\n"
      ],
      "text/plain": [
       "<IPython.core.display.HTML object>"
      ]
     },
     "metadata": {},
     "output_type": "display_data"
    },
    {
     "data": {
      "text/html": [
       "\n",
       "    <div>\n",
       "      <progress value='12000' class='' max='12000' style='width:300px; height:20px; vertical-align: middle;'></progress>\n",
       "      100.00% [12000/12000 00:04<00:00 Sampling 4 chains, 0 divergences]\n",
       "    </div>\n",
       "    "
      ],
      "text/plain": [
       "<IPython.core.display.HTML object>"
      ]
     },
     "metadata": {},
     "output_type": "display_data"
    },
    {
     "name": "stderr",
     "output_type": "stream",
     "text": [
      "/Users/aaron/mambaforge/envs/pymc_env/lib/python3.10/site-packages/scipy/stats/_continuous_distns.py:624: RuntimeWarning: overflow encountered in _beta_ppf\n",
      "  return _boost._beta_ppf(q, a, b)\n",
      "/Users/aaron/mambaforge/envs/pymc_env/lib/python3.10/site-packages/scipy/stats/_continuous_distns.py:624: RuntimeWarning: overflow encountered in _beta_ppf\n",
      "  return _boost._beta_ppf(q, a, b)\n",
      "/Users/aaron/mambaforge/envs/pymc_env/lib/python3.10/site-packages/scipy/stats/_continuous_distns.py:624: RuntimeWarning: overflow encountered in _beta_ppf\n",
      "  return _boost._beta_ppf(q, a, b)\n",
      "/Users/aaron/mambaforge/envs/pymc_env/lib/python3.10/site-packages/scipy/stats/_continuous_distns.py:624: RuntimeWarning: overflow encountered in _beta_ppf\n",
      "  return _boost._beta_ppf(q, a, b)\n",
      "Sampling 4 chains for 1_000 tune and 2_000 draw iterations (4_000 + 8_000 draws total) took 12 seconds.\n",
      "The acceptance probability does not match the target. It is 0.8854, but should be close to 0.8. Try to increase the number of tuning steps.\n"
     ]
    },
    {
     "data": {
      "text/html": [
       "\n",
       "<style>\n",
       "    /* Turns off some styling */\n",
       "    progress {\n",
       "        /* gets rid of default border in Firefox and Opera. */\n",
       "        border: none;\n",
       "        /* Needs to be in here for Safari polyfill so background images work as expected. */\n",
       "        background-size: auto;\n",
       "    }\n",
       "    .progress-bar-interrupted, .progress-bar-interrupted::-webkit-progress-bar {\n",
       "        background: #F44336;\n",
       "    }\n",
       "</style>\n"
      ],
      "text/plain": [
       "<IPython.core.display.HTML object>"
      ]
     },
     "metadata": {},
     "output_type": "display_data"
    },
    {
     "data": {
      "text/html": [
       "\n",
       "    <div>\n",
       "      <progress value='8000' class='' max='8000' style='width:300px; height:20px; vertical-align: middle;'></progress>\n",
       "      100.00% [8000/8000 00:00<00:00]\n",
       "    </div>\n",
       "    "
      ],
      "text/plain": [
       "<IPython.core.display.HTML object>"
      ]
     },
     "metadata": {},
     "output_type": "display_data"
    }
   ],
   "source": [
    "with pm.Model() as m:\n",
    "    tau = pm.Gamma(\"tau\", 0.001, 0.001)\n",
    "    beta0 = pm.Normal(\"beta0_intercept\", 0, tau=0.001)\n",
    "    beta1 = pm.Normal(\"beta1_abdomen\", 0, tau=0.001)\n",
    "    variance = pm.Deterministic(\"variance\", 1 / tau)\n",
    "\n",
    "    mu = beta0 + beta1 * X\n",
    "    likelihood = pm.Normal(\"likelihood\", mu=mu, tau=tau, observed=y)\n",
    "\n",
    "    # Bayesian R2 from fat1.odc\n",
    "    sse = (n - p) * variance\n",
    "    cy = y - y.mean()\n",
    "    sst = dot(cy, cy)\n",
    "    br2 = pm.Deterministic(\"br2\", 1 - sse / sst)\n",
    "\n",
    "    trace = pm.sample(2000)\n",
    "    ppc = pm.sample_posterior_predictive(trace)"
   ]
  },
  {
   "cell_type": "code",
   "execution_count": 7,
   "id": "dc05348c",
   "metadata": {},
   "outputs": [
    {
     "data": {
      "text/html": [
       "<div>\n",
       "<style scoped>\n",
       "    .dataframe tbody tr th:only-of-type {\n",
       "        vertical-align: middle;\n",
       "    }\n",
       "\n",
       "    .dataframe tbody tr th {\n",
       "        vertical-align: top;\n",
       "    }\n",
       "\n",
       "    .dataframe thead th {\n",
       "        text-align: right;\n",
       "    }\n",
       "</style>\n",
       "<table border=\"1\" class=\"dataframe\">\n",
       "  <thead>\n",
       "    <tr style=\"text-align: right;\">\n",
       "      <th></th>\n",
       "      <th>mean</th>\n",
       "      <th>sd</th>\n",
       "      <th>hdi_2.5%</th>\n",
       "      <th>hdi_97.5%</th>\n",
       "      <th>mcse_mean</th>\n",
       "      <th>mcse_sd</th>\n",
       "      <th>ess_bulk</th>\n",
       "      <th>ess_tail</th>\n",
       "      <th>r_hat</th>\n",
       "    </tr>\n",
       "  </thead>\n",
       "  <tbody>\n",
       "    <tr>\n",
       "      <th>beta0_intercept</th>\n",
       "      <td>-34.999</td>\n",
       "      <td>2.559</td>\n",
       "      <td>-39.751</td>\n",
       "      <td>-29.760</td>\n",
       "      <td>0.049</td>\n",
       "      <td>0.034</td>\n",
       "      <td>2772.0</td>\n",
       "      <td>2685.0</td>\n",
       "      <td>1.0</td>\n",
       "    </tr>\n",
       "    <tr>\n",
       "      <th>beta1_abdomen</th>\n",
       "      <td>0.583</td>\n",
       "      <td>0.027</td>\n",
       "      <td>0.528</td>\n",
       "      <td>0.635</td>\n",
       "      <td>0.001</td>\n",
       "      <td>0.000</td>\n",
       "      <td>2752.0</td>\n",
       "      <td>2680.0</td>\n",
       "      <td>1.0</td>\n",
       "    </tr>\n",
       "    <tr>\n",
       "      <th>tau</th>\n",
       "      <td>0.049</td>\n",
       "      <td>0.004</td>\n",
       "      <td>0.041</td>\n",
       "      <td>0.058</td>\n",
       "      <td>0.000</td>\n",
       "      <td>0.000</td>\n",
       "      <td>3730.0</td>\n",
       "      <td>3367.0</td>\n",
       "      <td>1.0</td>\n",
       "    </tr>\n",
       "    <tr>\n",
       "      <th>variance</th>\n",
       "      <td>20.527</td>\n",
       "      <td>1.829</td>\n",
       "      <td>17.313</td>\n",
       "      <td>24.401</td>\n",
       "      <td>0.030</td>\n",
       "      <td>0.022</td>\n",
       "      <td>3730.0</td>\n",
       "      <td>3367.0</td>\n",
       "      <td>1.0</td>\n",
       "    </tr>\n",
       "    <tr>\n",
       "      <th>br2</th>\n",
       "      <td>0.660</td>\n",
       "      <td>0.030</td>\n",
       "      <td>0.595</td>\n",
       "      <td>0.713</td>\n",
       "      <td>0.001</td>\n",
       "      <td>0.000</td>\n",
       "      <td>3730.0</td>\n",
       "      <td>3367.0</td>\n",
       "      <td>1.0</td>\n",
       "    </tr>\n",
       "  </tbody>\n",
       "</table>\n",
       "</div>"
      ],
      "text/plain": [
       "                   mean     sd  hdi_2.5%  hdi_97.5%  mcse_mean  mcse_sd  \\\n",
       "beta0_intercept -34.999  2.559   -39.751    -29.760      0.049    0.034   \n",
       "beta1_abdomen     0.583  0.027     0.528      0.635      0.001    0.000   \n",
       "tau               0.049  0.004     0.041      0.058      0.000    0.000   \n",
       "variance         20.527  1.829    17.313     24.401      0.030    0.022   \n",
       "br2               0.660  0.030     0.595      0.713      0.001    0.000   \n",
       "\n",
       "                 ess_bulk  ess_tail  r_hat  \n",
       "beta0_intercept    2772.0    2685.0    1.0  \n",
       "beta1_abdomen      2752.0    2680.0    1.0  \n",
       "tau                3730.0    3367.0    1.0  \n",
       "variance           3730.0    3367.0    1.0  \n",
       "br2                3730.0    3367.0    1.0  "
      ]
     },
     "execution_count": 7,
     "metadata": {},
     "output_type": "execute_result"
    }
   ],
   "source": [
    "az.summary(trace, hdi_prob=0.95)"
   ]
  },
  {
   "cell_type": "markdown",
   "id": "3f3fb2d0",
   "metadata": {},
   "source": [
    "This matches the results from the U7 L11 video.\n",
    "\n",
    "Another way to calculate the $R^2$ using a posterior predictive check (keeping in mind that there is no standard \"Bayesian $R^2$\") and the results will be slightly different:"
   ]
  },
  {
   "cell_type": "code",
   "execution_count": 8,
   "id": "31867b9d",
   "metadata": {},
   "outputs": [
    {
     "data": {
      "text/plain": [
       "r2        0.660744\n",
       "r2_std    0.000000\n",
       "dtype: float64"
      ]
     },
     "execution_count": 8,
     "metadata": {},
     "output_type": "execute_result"
    }
   ],
   "source": [
    "# get the mean y_pred across all chains\n",
    "y_pred = np.array(ppc.posterior_predictive.likelihood.mean(axis=(0, 1)))\n",
    "\n",
    "az.r2_score(y, y_pred)"
   ]
  },
  {
   "cell_type": "markdown",
   "id": "1479ea36",
   "metadata": {},
   "source": [
    "In this case they agree, but that won't always be true."
   ]
  },
  {
   "cell_type": "markdown",
   "id": "60b23503",
   "metadata": {
    "tags": []
   },
   "source": [
    "## Multinomial regression with all predictors\n",
    "\n",
    "Based on fat2d.odc or fatmulti.odc (they appear to be identical)."
   ]
  },
  {
   "cell_type": "code",
   "execution_count": 6,
   "id": "7b2dd052",
   "metadata": {},
   "outputs": [
    {
     "data": {
      "text/plain": [
       "(252, 15, 225)"
      ]
     },
     "execution_count": 6,
     "metadata": {},
     "output_type": "execute_result"
    }
   ],
   "source": [
    "data = pd.read_csv(\"../data/fat.tsv\", sep=\"\\t\")\n",
    "\n",
    "y = data[\"y\"].to_numpy(copy=True)\n",
    "X = data.iloc[:, 1:].to_numpy(copy=True)\n",
    "\n",
    "# add intercept\n",
    "X_aug = np.concatenate((np.ones((X.shape[0], 1)), X), axis=1)\n",
    "n, p = X_aug.shape\n",
    "\n",
    "# Zellner's g\n",
    "g = p**2\n",
    "\n",
    "n, p, g"
   ]
  },
  {
   "cell_type": "code",
   "execution_count": 10,
   "id": "bf704620",
   "metadata": {},
   "outputs": [
    {
     "data": {
      "text/plain": [
       "(252, 15)"
      ]
     },
     "execution_count": 10,
     "metadata": {},
     "output_type": "execute_result"
    }
   ],
   "source": [
    "X_aug.shape"
   ]
  },
  {
   "cell_type": "code",
   "execution_count": 24,
   "id": "40777ac7",
   "metadata": {},
   "outputs": [
    {
     "data": {
      "text/plain": [
       "(15, 15)"
      ]
     },
     "execution_count": 24,
     "metadata": {},
     "output_type": "execute_result"
    }
   ],
   "source": [
    "new_matrix = np.zeros((15, 15))\n",
    "for i in range(15):\n",
    "    for j in range(15):\n",
    "        new_matrix[i, j] = np.inner(X_aug[:, i], X_aug[:, j])\n",
    "new_matrix.shape"
   ]
  },
  {
   "cell_type": "code",
   "execution_count": 27,
   "id": "57e98123",
   "metadata": {},
   "outputs": [
    {
     "data": {
      "text/plain": [
       "array([[ True,  True,  True,  True, False, False, False, False,  True,\n",
       "         True, False, False, False, False, False],\n",
       "       [ True,  True, False,  True, False, False, False,  True, False,\n",
       "        False, False, False,  True, False, False],\n",
       "       [ True, False,  True,  True, False, False,  True,  True, False,\n",
       "        False, False, False,  True, False, False],\n",
       "       [ True,  True,  True,  True, False, False, False,  True, False,\n",
       "        False, False, False, False, False, False],\n",
       "       [False, False, False, False, False, False,  True, False, False,\n",
       "        False, False, False, False, False,  True],\n",
       "       [False, False, False, False, False, False, False, False, False,\n",
       "        False, False, False, False, False,  True],\n",
       "       [False, False,  True, False,  True, False, False, False, False,\n",
       "        False, False, False, False, False, False],\n",
       "       [False,  True,  True,  True, False, False, False, False,  True,\n",
       "         True, False, False, False, False,  True],\n",
       "       [ True, False, False, False, False, False, False,  True,  True,\n",
       "        False, False,  True, False, False, False],\n",
       "       [ True, False, False, False, False, False, False,  True, False,\n",
       "        False,  True, False, False, False, False],\n",
       "       [False, False, False, False, False, False, False, False, False,\n",
       "         True, False, False, False, False, False],\n",
       "       [False, False, False, False, False, False, False, False,  True,\n",
       "        False, False, False, False, False, False],\n",
       "       [False,  True,  True, False, False, False, False, False, False,\n",
       "        False, False, False, False, False, False],\n",
       "       [False, False, False, False, False, False, False, False, False,\n",
       "        False, False, False, False,  True,  True],\n",
       "       [False, False, False, False,  True,  True, False,  True, False,\n",
       "        False, False, False, False,  True, False]])"
      ]
     },
     "execution_count": 27,
     "metadata": {},
     "output_type": "execute_result"
    }
   ],
   "source": [
    "np.equal(np.dot(X_aug.T, X_aug), new_matrix)"
   ]
  },
  {
   "cell_type": "code",
   "execution_count": 29,
   "id": "571e339e",
   "metadata": {},
   "outputs": [
    {
     "data": {
      "text/plain": [
       "True"
      ]
     },
     "execution_count": 29,
     "metadata": {},
     "output_type": "execute_result"
    }
   ],
   "source": [
    "np.allclose(np.dot(X_aug.T, X_aug), new_matrix)"
   ]
  },
  {
   "cell_type": "code",
   "execution_count": 30,
   "id": "b6228363",
   "metadata": {},
   "outputs": [
    {
     "data": {
      "text/plain": [
       "(15, 15)"
      ]
     },
     "execution_count": 30,
     "metadata": {},
     "output_type": "execute_result"
    }
   ],
   "source": [
    "np.dot(X_aug.T, X_aug).shape"
   ]
  },
  {
   "cell_type": "code",
   "execution_count": 14,
   "id": "f42cf03f",
   "metadata": {},
   "outputs": [],
   "source": [
    "mu_beta = np.zeros(p)"
   ]
  },
  {
   "cell_type": "code",
   "execution_count": 38,
   "id": "9a0d6236",
   "metadata": {},
   "outputs": [
    {
     "name": "stderr",
     "output_type": "stream",
     "text": [
      "Auto-assigning NUTS sampler...\n",
      "Initializing NUTS using jitter+adapt_diag...\n",
      "Multiprocess sampling (4 chains in 4 jobs)\n",
      "NUTS: [tau, beta]\n"
     ]
    },
    {
     "data": {
      "text/html": [
       "\n",
       "<style>\n",
       "    /* Turns off some styling */\n",
       "    progress {\n",
       "        /* gets rid of default border in Firefox and Opera. */\n",
       "        border: none;\n",
       "        /* Needs to be in here for Safari polyfill so background images work as expected. */\n",
       "        background-size: auto;\n",
       "    }\n",
       "    .progress-bar-interrupted, .progress-bar-interrupted::-webkit-progress-bar {\n",
       "        background: #F44336;\n",
       "    }\n",
       "</style>\n"
      ],
      "text/plain": [
       "<IPython.core.display.HTML object>"
      ]
     },
     "metadata": {},
     "output_type": "display_data"
    },
    {
     "data": {
      "text/html": [
       "\n",
       "    <div>\n",
       "      <progress value='8000' class='' max='8000' style='width:300px; height:20px; vertical-align: middle;'></progress>\n",
       "      100.00% [8000/8000 08:51<00:00 Sampling 4 chains, 46 divergences]\n",
       "    </div>\n",
       "    "
      ],
      "text/plain": [
       "<IPython.core.display.HTML object>"
      ]
     },
     "metadata": {},
     "output_type": "display_data"
    },
    {
     "name": "stderr",
     "output_type": "stream",
     "text": [
      "/Users/aaron/mambaforge/envs/pymc_env/lib/python3.10/site-packages/scipy/stats/_continuous_distns.py:624: RuntimeWarning: overflow encountered in _beta_ppf\n",
      "  return _boost._beta_ppf(q, a, b)\n",
      "/Users/aaron/mambaforge/envs/pymc_env/lib/python3.10/site-packages/scipy/stats/_continuous_distns.py:624: RuntimeWarning: overflow encountered in _beta_ppf\n",
      "  return _boost._beta_ppf(q, a, b)\n",
      "/Users/aaron/mambaforge/envs/pymc_env/lib/python3.10/site-packages/scipy/stats/_continuous_distns.py:624: RuntimeWarning: overflow encountered in _beta_ppf\n",
      "  return _boost._beta_ppf(q, a, b)\n",
      "/Users/aaron/mambaforge/envs/pymc_env/lib/python3.10/site-packages/scipy/stats/_continuous_distns.py:624: RuntimeWarning: overflow encountered in _beta_ppf\n",
      "  return _boost._beta_ppf(q, a, b)\n",
      "Sampling 4 chains for 1_000 tune and 1_000 draw iterations (4_000 + 4_000 draws total) took 546 seconds.\n",
      "There was 1 divergence after tuning. Increase `target_accept` or reparameterize.\n",
      "There were 36 divergences after tuning. Increase `target_accept` or reparameterize.\n",
      "There were 9 divergences after tuning. Increase `target_accept` or reparameterize.\n"
     ]
    },
    {
     "data": {
      "text/html": [
       "\n",
       "<style>\n",
       "    /* Turns off some styling */\n",
       "    progress {\n",
       "        /* gets rid of default border in Firefox and Opera. */\n",
       "        border: none;\n",
       "        /* Needs to be in here for Safari polyfill so background images work as expected. */\n",
       "        background-size: auto;\n",
       "    }\n",
       "    .progress-bar-interrupted, .progress-bar-interrupted::-webkit-progress-bar {\n",
       "        background: #F44336;\n",
       "    }\n",
       "</style>\n"
      ],
      "text/plain": [
       "<IPython.core.display.HTML object>"
      ]
     },
     "metadata": {},
     "output_type": "display_data"
    },
    {
     "data": {
      "text/html": [
       "\n",
       "    <div>\n",
       "      <progress value='4000' class='' max='4000' style='width:300px; height:20px; vertical-align: middle;'></progress>\n",
       "      100.00% [4000/4000 00:00<00:00]\n",
       "    </div>\n",
       "    "
      ],
      "text/plain": [
       "<IPython.core.display.HTML object>"
      ]
     },
     "metadata": {},
     "output_type": "display_data"
    }
   ],
   "source": [
    "with pm.Model() as m2d:\n",
    "    tau = pm.Gamma(\"tau\", 0.01, 0.01)\n",
    "    variance = pm.Deterministic(\"variance\", 1 / tau)\n",
    "\n",
    "    tau_matrix = at.fill(at.zeros((15, 15)), tau)\n",
    "    tau_beta = tau_matrix / g * dot(X_aug.T, X_aug)\n",
    "    beta = pm.MvNormal(\"beta\", mu_beta, tau=tau_beta)\n",
    "\n",
    "    mu = dot(X_aug, beta)\n",
    "    pm.Normal(\"likelihood\", mu=mu, tau=tau, observed=y)\n",
    "\n",
    "    # Bayesian R2 from fat2d.odc\n",
    "    sse = (n - p) * variance\n",
    "    cy = y - y.mean()\n",
    "    sst = dot(cy, cy)\n",
    "    br2 = pm.Deterministic(\"br2\", 1 - sse / sst)\n",
    "    br2_adj = pm.Deterministic(\"br2_adj\", 1 - (n - 1) * variance / sst)\n",
    "\n",
    "    trace = pm.sample(1000)\n",
    "    ppc = pm.sample_posterior_predictive(trace)"
   ]
  },
  {
   "cell_type": "code",
   "execution_count": null,
   "id": "4a7e1eef",
   "metadata": {},
   "outputs": [],
   "source": []
  },
  {
   "cell_type": "code",
   "execution_count": 39,
   "id": "46fd1851",
   "metadata": {},
   "outputs": [
    {
     "data": {
      "text/html": [
       "<div>\n",
       "<style scoped>\n",
       "    .dataframe tbody tr th:only-of-type {\n",
       "        vertical-align: middle;\n",
       "    }\n",
       "\n",
       "    .dataframe tbody tr th {\n",
       "        vertical-align: top;\n",
       "    }\n",
       "\n",
       "    .dataframe thead th {\n",
       "        text-align: right;\n",
       "    }\n",
       "</style>\n",
       "<table border=\"1\" class=\"dataframe\">\n",
       "  <thead>\n",
       "    <tr style=\"text-align: right;\">\n",
       "      <th></th>\n",
       "      <th>mean</th>\n",
       "      <th>sd</th>\n",
       "      <th>hdi_2.5%</th>\n",
       "      <th>hdi_97.5%</th>\n",
       "      <th>mcse_mean</th>\n",
       "      <th>mcse_sd</th>\n",
       "      <th>ess_bulk</th>\n",
       "      <th>ess_tail</th>\n",
       "      <th>r_hat</th>\n",
       "    </tr>\n",
       "  </thead>\n",
       "  <tbody>\n",
       "    <tr>\n",
       "      <th>beta[0]</th>\n",
       "      <td>-15.242</td>\n",
       "      <td>16.608</td>\n",
       "      <td>-47.655</td>\n",
       "      <td>16.373</td>\n",
       "      <td>0.439</td>\n",
       "      <td>0.318</td>\n",
       "      <td>1438.0</td>\n",
       "      <td>2268.0</td>\n",
       "      <td>1.0</td>\n",
       "    </tr>\n",
       "    <tr>\n",
       "      <th>beta[1]</th>\n",
       "      <td>0.057</td>\n",
       "      <td>0.031</td>\n",
       "      <td>-0.005</td>\n",
       "      <td>0.118</td>\n",
       "      <td>0.001</td>\n",
       "      <td>0.000</td>\n",
       "      <td>2260.0</td>\n",
       "      <td>2449.0</td>\n",
       "      <td>1.0</td>\n",
       "    </tr>\n",
       "    <tr>\n",
       "      <th>beta[2]</th>\n",
       "      <td>-0.081</td>\n",
       "      <td>0.051</td>\n",
       "      <td>-0.186</td>\n",
       "      <td>0.012</td>\n",
       "      <td>0.001</td>\n",
       "      <td>0.001</td>\n",
       "      <td>1527.0</td>\n",
       "      <td>2464.0</td>\n",
       "      <td>1.0</td>\n",
       "    </tr>\n",
       "    <tr>\n",
       "      <th>beta[3]</th>\n",
       "      <td>-0.051</td>\n",
       "      <td>0.105</td>\n",
       "      <td>-0.264</td>\n",
       "      <td>0.157</td>\n",
       "      <td>0.002</td>\n",
       "      <td>0.002</td>\n",
       "      <td>2434.0</td>\n",
       "      <td>2632.0</td>\n",
       "      <td>1.0</td>\n",
       "    </tr>\n",
       "    <tr>\n",
       "      <th>beta[4]</th>\n",
       "      <td>0.066</td>\n",
       "      <td>0.288</td>\n",
       "      <td>-0.507</td>\n",
       "      <td>0.605</td>\n",
       "      <td>0.006</td>\n",
       "      <td>0.005</td>\n",
       "      <td>2446.0</td>\n",
       "      <td>2441.0</td>\n",
       "      <td>1.0</td>\n",
       "    </tr>\n",
       "    <tr>\n",
       "      <th>beta[5]</th>\n",
       "      <td>-0.440</td>\n",
       "      <td>0.224</td>\n",
       "      <td>-0.877</td>\n",
       "      <td>-0.008</td>\n",
       "      <td>0.004</td>\n",
       "      <td>0.003</td>\n",
       "      <td>3017.0</td>\n",
       "      <td>3011.0</td>\n",
       "      <td>1.0</td>\n",
       "    </tr>\n",
       "    <tr>\n",
       "      <th>beta[6]</th>\n",
       "      <td>-0.031</td>\n",
       "      <td>0.100</td>\n",
       "      <td>-0.224</td>\n",
       "      <td>0.168</td>\n",
       "      <td>0.002</td>\n",
       "      <td>0.001</td>\n",
       "      <td>2531.0</td>\n",
       "      <td>2725.0</td>\n",
       "      <td>1.0</td>\n",
       "    </tr>\n",
       "    <tr>\n",
       "      <th>beta[7]</th>\n",
       "      <td>0.875</td>\n",
       "      <td>0.086</td>\n",
       "      <td>0.714</td>\n",
       "      <td>1.044</td>\n",
       "      <td>0.002</td>\n",
       "      <td>0.001</td>\n",
       "      <td>2436.0</td>\n",
       "      <td>2804.0</td>\n",
       "      <td>1.0</td>\n",
       "    </tr>\n",
       "    <tr>\n",
       "      <th>beta[8]</th>\n",
       "      <td>-0.203</td>\n",
       "      <td>0.139</td>\n",
       "      <td>-0.465</td>\n",
       "      <td>0.076</td>\n",
       "      <td>0.003</td>\n",
       "      <td>0.002</td>\n",
       "      <td>1854.0</td>\n",
       "      <td>2860.0</td>\n",
       "      <td>1.0</td>\n",
       "    </tr>\n",
       "    <tr>\n",
       "      <th>beta[9]</th>\n",
       "      <td>0.230</td>\n",
       "      <td>0.143</td>\n",
       "      <td>-0.035</td>\n",
       "      <td>0.522</td>\n",
       "      <td>0.003</td>\n",
       "      <td>0.003</td>\n",
       "      <td>1803.0</td>\n",
       "      <td>650.0</td>\n",
       "      <td>1.0</td>\n",
       "    </tr>\n",
       "    <tr>\n",
       "      <th>beta[10]</th>\n",
       "      <td>-0.006</td>\n",
       "      <td>0.241</td>\n",
       "      <td>-0.467</td>\n",
       "      <td>0.463</td>\n",
       "      <td>0.005</td>\n",
       "      <td>0.004</td>\n",
       "      <td>2491.0</td>\n",
       "      <td>2910.0</td>\n",
       "      <td>1.0</td>\n",
       "    </tr>\n",
       "    <tr>\n",
       "      <th>beta[11]</th>\n",
       "      <td>0.154</td>\n",
       "      <td>0.208</td>\n",
       "      <td>-0.271</td>\n",
       "      <td>0.541</td>\n",
       "      <td>0.003</td>\n",
       "      <td>0.003</td>\n",
       "      <td>3713.0</td>\n",
       "      <td>2754.0</td>\n",
       "      <td>1.0</td>\n",
       "    </tr>\n",
       "    <tr>\n",
       "      <th>beta[12]</th>\n",
       "      <td>0.146</td>\n",
       "      <td>0.166</td>\n",
       "      <td>-0.176</td>\n",
       "      <td>0.478</td>\n",
       "      <td>0.003</td>\n",
       "      <td>0.002</td>\n",
       "      <td>3059.0</td>\n",
       "      <td>2783.0</td>\n",
       "      <td>1.0</td>\n",
       "    </tr>\n",
       "    <tr>\n",
       "      <th>beta[13]</th>\n",
       "      <td>0.428</td>\n",
       "      <td>0.190</td>\n",
       "      <td>0.044</td>\n",
       "      <td>0.797</td>\n",
       "      <td>0.003</td>\n",
       "      <td>0.002</td>\n",
       "      <td>3389.0</td>\n",
       "      <td>2889.0</td>\n",
       "      <td>1.0</td>\n",
       "    </tr>\n",
       "    <tr>\n",
       "      <th>beta[14]</th>\n",
       "      <td>-1.474</td>\n",
       "      <td>0.517</td>\n",
       "      <td>-2.421</td>\n",
       "      <td>-0.395</td>\n",
       "      <td>0.011</td>\n",
       "      <td>0.008</td>\n",
       "      <td>2385.0</td>\n",
       "      <td>2538.0</td>\n",
       "      <td>1.0</td>\n",
       "    </tr>\n",
       "    <tr>\n",
       "      <th>tau</th>\n",
       "      <td>0.060</td>\n",
       "      <td>0.006</td>\n",
       "      <td>0.048</td>\n",
       "      <td>0.070</td>\n",
       "      <td>0.000</td>\n",
       "      <td>0.000</td>\n",
       "      <td>1945.0</td>\n",
       "      <td>608.0</td>\n",
       "      <td>1.0</td>\n",
       "    </tr>\n",
       "    <tr>\n",
       "      <th>variance</th>\n",
       "      <td>16.891</td>\n",
       "      <td>1.584</td>\n",
       "      <td>13.710</td>\n",
       "      <td>19.969</td>\n",
       "      <td>0.031</td>\n",
       "      <td>0.022</td>\n",
       "      <td>1945.0</td>\n",
       "      <td>608.0</td>\n",
       "      <td>1.0</td>\n",
       "    </tr>\n",
       "    <tr>\n",
       "      <th>br2</th>\n",
       "      <td>0.735</td>\n",
       "      <td>0.025</td>\n",
       "      <td>0.686</td>\n",
       "      <td>0.785</td>\n",
       "      <td>0.000</td>\n",
       "      <td>0.000</td>\n",
       "      <td>1945.0</td>\n",
       "      <td>608.0</td>\n",
       "      <td>1.0</td>\n",
       "    </tr>\n",
       "    <tr>\n",
       "      <th>br2_adj</th>\n",
       "      <td>0.719</td>\n",
       "      <td>0.026</td>\n",
       "      <td>0.668</td>\n",
       "      <td>0.772</td>\n",
       "      <td>0.001</td>\n",
       "      <td>0.000</td>\n",
       "      <td>1945.0</td>\n",
       "      <td>608.0</td>\n",
       "      <td>1.0</td>\n",
       "    </tr>\n",
       "  </tbody>\n",
       "</table>\n",
       "</div>"
      ],
      "text/plain": [
       "            mean      sd  hdi_2.5%  hdi_97.5%  mcse_mean  mcse_sd  ess_bulk  \\\n",
       "beta[0]  -15.242  16.608   -47.655     16.373      0.439    0.318    1438.0   \n",
       "beta[1]    0.057   0.031    -0.005      0.118      0.001    0.000    2260.0   \n",
       "beta[2]   -0.081   0.051    -0.186      0.012      0.001    0.001    1527.0   \n",
       "beta[3]   -0.051   0.105    -0.264      0.157      0.002    0.002    2434.0   \n",
       "beta[4]    0.066   0.288    -0.507      0.605      0.006    0.005    2446.0   \n",
       "beta[5]   -0.440   0.224    -0.877     -0.008      0.004    0.003    3017.0   \n",
       "beta[6]   -0.031   0.100    -0.224      0.168      0.002    0.001    2531.0   \n",
       "beta[7]    0.875   0.086     0.714      1.044      0.002    0.001    2436.0   \n",
       "beta[8]   -0.203   0.139    -0.465      0.076      0.003    0.002    1854.0   \n",
       "beta[9]    0.230   0.143    -0.035      0.522      0.003    0.003    1803.0   \n",
       "beta[10]  -0.006   0.241    -0.467      0.463      0.005    0.004    2491.0   \n",
       "beta[11]   0.154   0.208    -0.271      0.541      0.003    0.003    3713.0   \n",
       "beta[12]   0.146   0.166    -0.176      0.478      0.003    0.002    3059.0   \n",
       "beta[13]   0.428   0.190     0.044      0.797      0.003    0.002    3389.0   \n",
       "beta[14]  -1.474   0.517    -2.421     -0.395      0.011    0.008    2385.0   \n",
       "tau        0.060   0.006     0.048      0.070      0.000    0.000    1945.0   \n",
       "variance  16.891   1.584    13.710     19.969      0.031    0.022    1945.0   \n",
       "br2        0.735   0.025     0.686      0.785      0.000    0.000    1945.0   \n",
       "br2_adj    0.719   0.026     0.668      0.772      0.001    0.000    1945.0   \n",
       "\n",
       "          ess_tail  r_hat  \n",
       "beta[0]     2268.0    1.0  \n",
       "beta[1]     2449.0    1.0  \n",
       "beta[2]     2464.0    1.0  \n",
       "beta[3]     2632.0    1.0  \n",
       "beta[4]     2441.0    1.0  \n",
       "beta[5]     3011.0    1.0  \n",
       "beta[6]     2725.0    1.0  \n",
       "beta[7]     2804.0    1.0  \n",
       "beta[8]     2860.0    1.0  \n",
       "beta[9]      650.0    1.0  \n",
       "beta[10]    2910.0    1.0  \n",
       "beta[11]    2754.0    1.0  \n",
       "beta[12]    2783.0    1.0  \n",
       "beta[13]    2889.0    1.0  \n",
       "beta[14]    2538.0    1.0  \n",
       "tau          608.0    1.0  \n",
       "variance     608.0    1.0  \n",
       "br2          608.0    1.0  \n",
       "br2_adj      608.0    1.0  "
      ]
     },
     "execution_count": 39,
     "metadata": {},
     "output_type": "execute_result"
    }
   ],
   "source": [
    "az.summary(trace, hdi_prob=0.95)"
   ]
  },
  {
   "cell_type": "code",
   "execution_count": 40,
   "id": "9f1dda4f",
   "metadata": {},
   "outputs": [
    {
     "data": {
      "text/plain": [
       "r2        0.748129\n",
       "r2_std    0.000000\n",
       "dtype: float64"
      ]
     },
     "execution_count": 40,
     "metadata": {},
     "output_type": "execute_result"
    }
   ],
   "source": [
    "y_pred = np.array(ppc.posterior_predictive.likelihood.mean(axis=(0, 1)))\n",
    "\n",
    "az.r2_score(y, y_pred)"
   ]
  },
  {
   "cell_type": "markdown",
   "id": "68714a57",
   "metadata": {},
   "source": [
    "Reading on g-priors\n",
    "\n",
    "https://arxiv.org/abs/1702.01201\n",
    "https://towardsdatascience.com/linear-regression-model-selection-through-zellners-g-prior-da5f74635a03\n",
    "https://en.wikipedia.org/wiki/G-prior\\\n",
    "\n",
    "original paper:\n",
    "\n",
    "Zellner, A. (1986). \"On Assessing Prior Distributions and Bayesian Regression Analysis with g Prior Distributions\". In Goel, P.; Zellner, A. (eds.). Bayesian Inference and Decision Techniques: Essays in Honor of Bruno de Finetti. Studies in Bayesian Econometrics and Statistics. Vol. 6. New York: Elsevier. pp. 233–243. ISBN 978-0-444-87712-3."
   ]
  },
  {
   "cell_type": "code",
   "execution_count": 19,
   "id": "cb515113",
   "metadata": {},
   "outputs": [
    {
     "name": "stdout",
     "output_type": "stream",
     "text": [
      "Python implementation: CPython\n",
      "Python version       : 3.10.4\n",
      "IPython version      : 8.3.0\n",
      "\n",
      "pymc  : 4.0.0b5\n",
      "numpy : 1.22.3\n",
      "pandas: 1.4.2\n",
      "arviz : 0.12.1\n",
      "\n"
     ]
    }
   ],
   "source": [
    "%watermark --iversions -v"
   ]
  }
 ],
 "metadata": {
  "kernelspec": {
   "display_name": "Python 3 (ipykernel)",
   "language": "python",
   "name": "python3"
  },
  "language_info": {
   "codemirror_mode": {
    "name": "ipython",
    "version": 3
   },
   "file_extension": ".py",
   "mimetype": "text/x-python",
   "name": "python",
   "nbconvert_exporter": "python",
   "pygments_lexer": "ipython3",
   "version": "3.10.4"
  }
 },
 "nbformat": 4,
 "nbformat_minor": 5
}
