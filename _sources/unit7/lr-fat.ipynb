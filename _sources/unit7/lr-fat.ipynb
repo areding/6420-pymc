{
 "cells": [
  {
   "cell_type": "code",
   "execution_count": 10,
   "id": "d4a9676d",
   "metadata": {},
   "outputs": [
    {
     "name": "stdout",
     "output_type": "stream",
     "text": [
      "The lab_black extension is already loaded. To reload it, use:\n",
      "  %reload_ext lab_black\n",
      "The watermark extension is already loaded. To reload it, use:\n",
      "  %reload_ext watermark\n"
     ]
    }
   ],
   "source": [
    "import pymc as pm\n",
    "import pandas as pd\n",
    "import numpy as np\n",
    "import arviz as az\n",
    "from pymc.math import dot\n",
    "import aesara.tensor as at\n",
    "\n",
    "%load_ext lab_black\n",
    "%load_ext watermark"
   ]
  },
  {
   "cell_type": "markdown",
   "id": "6ff75727",
   "metadata": {},
   "source": [
    "# Brozek index prediction\n",
    "\n",
    "This example goes over linear regression and Bayesian $R^2$.\n",
    "\n",
    "Adapted from [Unit 7: fat1.odc](https://raw.githubusercontent.com/areding/6420-pymc/main/original_examples/Codes4Unit7/fat2d.odc), [fat2d.odc](https://raw.githubusercontent.com/areding/6420-pymc/main/original_examples/Codes4Unit7/fat1.odc), and [fatmulti.odc](https://raw.githubusercontent.com/areding/6420-pymc/main/original_examples/Codes4Unit7/fatmulti.odc).\n",
    "\n",
    "Data can be found [here](https://raw.githubusercontent.com/areding/6420-pymc/main/data/fat.tsv).\n",
    "\n",
    "Associated lecture videos:\n",
    "Unit 7 lessons 11 and 13"
   ]
  },
  {
   "cell_type": "markdown",
   "id": "00a6981f",
   "metadata": {
    "tags": []
   },
   "source": [
    "## Problem statement\n",
    "\n",
    "Percentage of body fat, age, weight, height, and ten body circumference measurements (e.g., abdomen) were recorded for 252 men. Percentage of body fat is estimated through an underwater weighing technique.\n",
    "\n",
    "The data set has 252 observations and 15 variables. Brozek index (Brozek et al., 1963) is obtained by the underwater weighing while other 14 anthropometric variables are obtained using scales and a measuring tape.\n",
    "\n",
    "- y = Brozek index\n",
    "- X1 = 1 (intercept)\n",
    "- X2 = age\n",
    "- X3 = weight\n",
    "- X4 = height\n",
    "- X5 = adipose\n",
    "- X6 = neck  \n",
    "- X7 = chest\n",
    "- X8 = abdomen\n",
    "- X9 = hip\n",
    "- X10 = thigh\n",
    "- X11 = knee   \n",
    "- X12 = ankle\n",
    "- X13 = bicep\n",
    "- X14 = forearm\n",
    "- X15 = wrist\n",
    "\n",
    "These anthropometric variables are less intrusive but also less reliable in assessing the body fat index.\n",
    "\n",
    "Set a linear regression to predict the Brozek index from these body measurements."
   ]
  },
  {
   "cell_type": "markdown",
   "id": "5aaf06a1",
   "metadata": {},
   "source": [
    "## Single predictor (X8)\n",
    "\n",
    "This is a recreation of fat1.odc."
   ]
  },
  {
   "cell_type": "code",
   "execution_count": 11,
   "id": "8b5c60c6",
   "metadata": {},
   "outputs": [],
   "source": [
    "data = pd.read_csv(\"../data/fat.tsv\", sep=\"\\t\")\n",
    "\n",
    "y = data[\"y\"].to_numpy(copy=True)\n",
    "X = data[\"X8\"].to_numpy(copy=True)\n",
    "\n",
    "# p will be the number of predictors + intercept (1 + 1 in this case)\n",
    "n, p = X.shape[0], 2"
   ]
  },
  {
   "cell_type": "code",
   "execution_count": 12,
   "id": "bb75dd7c",
   "metadata": {
    "tags": [
     "hide_output"
    ]
   },
   "outputs": [
    {
     "name": "stderr",
     "output_type": "stream",
     "text": [
      "Auto-assigning NUTS sampler...\n",
      "Initializing NUTS using jitter+adapt_diag...\n",
      "Multiprocess sampling (4 chains in 4 jobs)\n",
      "NUTS: [tau, beta0_intercept, beta1_abdomen]\n"
     ]
    },
    {
     "data": {
      "text/html": [
       "\n",
       "<style>\n",
       "    /* Turns off some styling */\n",
       "    progress {\n",
       "        /* gets rid of default border in Firefox and Opera. */\n",
       "        border: none;\n",
       "        /* Needs to be in here for Safari polyfill so background images work as expected. */\n",
       "        background-size: auto;\n",
       "    }\n",
       "    progress:not([value]), progress:not([value])::-webkit-progress-bar {\n",
       "        background: repeating-linear-gradient(45deg, #7e7e7e, #7e7e7e 10px, #5c5c5c 10px, #5c5c5c 20px);\n",
       "    }\n",
       "    .progress-bar-interrupted, .progress-bar-interrupted::-webkit-progress-bar {\n",
       "        background: #F44336;\n",
       "    }\n",
       "</style>\n"
      ],
      "text/plain": [
       "<IPython.core.display.HTML object>"
      ]
     },
     "metadata": {},
     "output_type": "display_data"
    },
    {
     "data": {
      "text/html": [
       "\n",
       "    <div>\n",
       "      <progress value='12000' class='' max='12000' style='width:300px; height:20px; vertical-align: middle;'></progress>\n",
       "      100.00% [12000/12000 00:04&lt;00:00 Sampling 4 chains, 0 divergences]\n",
       "    </div>\n",
       "    "
      ],
      "text/plain": [
       "<IPython.core.display.HTML object>"
      ]
     },
     "metadata": {},
     "output_type": "display_data"
    },
    {
     "name": "stderr",
     "output_type": "stream",
     "text": [
      "Sampling 4 chains for 1_000 tune and 2_000 draw iterations (4_000 + 8_000 draws total) took 16 seconds.\n",
      "The acceptance probability does not match the target. It is 0.8851, but should be close to 0.8. Try to increase the number of tuning steps.\n"
     ]
    },
    {
     "data": {
      "text/html": [
       "\n",
       "<style>\n",
       "    /* Turns off some styling */\n",
       "    progress {\n",
       "        /* gets rid of default border in Firefox and Opera. */\n",
       "        border: none;\n",
       "        /* Needs to be in here for Safari polyfill so background images work as expected. */\n",
       "        background-size: auto;\n",
       "    }\n",
       "    progress:not([value]), progress:not([value])::-webkit-progress-bar {\n",
       "        background: repeating-linear-gradient(45deg, #7e7e7e, #7e7e7e 10px, #5c5c5c 10px, #5c5c5c 20px);\n",
       "    }\n",
       "    .progress-bar-interrupted, .progress-bar-interrupted::-webkit-progress-bar {\n",
       "        background: #F44336;\n",
       "    }\n",
       "</style>\n"
      ],
      "text/plain": [
       "<IPython.core.display.HTML object>"
      ]
     },
     "metadata": {},
     "output_type": "display_data"
    },
    {
     "data": {
      "text/html": [
       "\n",
       "    <div>\n",
       "      <progress value='8000' class='' max='8000' style='width:300px; height:20px; vertical-align: middle;'></progress>\n",
       "      100.00% [8000/8000 00:00&lt;00:00]\n",
       "    </div>\n",
       "    "
      ],
      "text/plain": [
       "<IPython.core.display.HTML object>"
      ]
     },
     "metadata": {},
     "output_type": "display_data"
    }
   ],
   "source": [
    "with pm.Model() as m:\n",
    "    tau = pm.Gamma(\"tau\", 0.001, 0.001)\n",
    "    beta0 = pm.Normal(\"beta0_intercept\", 0, tau=0.001)\n",
    "    beta1 = pm.Normal(\"beta1_abdomen\", 0, tau=0.001)\n",
    "    variance = pm.Deterministic(\"variance\", 1 / tau)\n",
    "\n",
    "    mu = beta0 + beta1 * X\n",
    "    likelihood = pm.Normal(\"likelihood\", mu=mu, tau=tau, observed=y)\n",
    "\n",
    "    # Bayesian R2 from fat1.odc\n",
    "    sse = (n - p) * variance\n",
    "    cy = y - y.mean()\n",
    "    sst = dot(cy, cy)\n",
    "    br2 = pm.Deterministic(\"br2\", 1 - sse / sst)\n",
    "\n",
    "    trace = pm.sample(2000)\n",
    "    ppc = pm.sample_posterior_predictive(trace)"
   ]
  },
  {
   "cell_type": "code",
   "execution_count": 13,
   "id": "ece3c1fa",
   "metadata": {},
   "outputs": [
    {
     "data": {
      "text/html": [
       "<div>\n",
       "<style scoped>\n",
       "    .dataframe tbody tr th:only-of-type {\n",
       "        vertical-align: middle;\n",
       "    }\n",
       "\n",
       "    .dataframe tbody tr th {\n",
       "        vertical-align: top;\n",
       "    }\n",
       "\n",
       "    .dataframe thead th {\n",
       "        text-align: right;\n",
       "    }\n",
       "</style>\n",
       "<table border=\"1\" class=\"dataframe\">\n",
       "  <thead>\n",
       "    <tr style=\"text-align: right;\">\n",
       "      <th></th>\n",
       "      <th>mean</th>\n",
       "      <th>sd</th>\n",
       "      <th>hdi_2.5%</th>\n",
       "      <th>hdi_97.5%</th>\n",
       "      <th>mcse_mean</th>\n",
       "      <th>mcse_sd</th>\n",
       "      <th>ess_bulk</th>\n",
       "      <th>ess_tail</th>\n",
       "      <th>r_hat</th>\n",
       "    </tr>\n",
       "  </thead>\n",
       "  <tbody>\n",
       "    <tr>\n",
       "      <th>beta0_intercept</th>\n",
       "      <td>-34.943</td>\n",
       "      <td>2.428</td>\n",
       "      <td>-39.645</td>\n",
       "      <td>-30.152</td>\n",
       "      <td>0.048</td>\n",
       "      <td>0.034</td>\n",
       "      <td>2538.0</td>\n",
       "      <td>2942.0</td>\n",
       "      <td>1.0</td>\n",
       "    </tr>\n",
       "    <tr>\n",
       "      <th>beta1_abdomen</th>\n",
       "      <td>0.582</td>\n",
       "      <td>0.026</td>\n",
       "      <td>0.530</td>\n",
       "      <td>0.631</td>\n",
       "      <td>0.001</td>\n",
       "      <td>0.000</td>\n",
       "      <td>2543.0</td>\n",
       "      <td>2805.0</td>\n",
       "      <td>1.0</td>\n",
       "    </tr>\n",
       "    <tr>\n",
       "      <th>tau</th>\n",
       "      <td>0.049</td>\n",
       "      <td>0.004</td>\n",
       "      <td>0.040</td>\n",
       "      <td>0.058</td>\n",
       "      <td>0.000</td>\n",
       "      <td>0.000</td>\n",
       "      <td>3538.0</td>\n",
       "      <td>3308.0</td>\n",
       "      <td>1.0</td>\n",
       "    </tr>\n",
       "    <tr>\n",
       "      <th>variance</th>\n",
       "      <td>20.561</td>\n",
       "      <td>1.899</td>\n",
       "      <td>17.021</td>\n",
       "      <td>24.314</td>\n",
       "      <td>0.032</td>\n",
       "      <td>0.023</td>\n",
       "      <td>3538.0</td>\n",
       "      <td>3308.0</td>\n",
       "      <td>1.0</td>\n",
       "    </tr>\n",
       "    <tr>\n",
       "      <th>br2</th>\n",
       "      <td>0.659</td>\n",
       "      <td>0.031</td>\n",
       "      <td>0.597</td>\n",
       "      <td>0.718</td>\n",
       "      <td>0.001</td>\n",
       "      <td>0.000</td>\n",
       "      <td>3538.0</td>\n",
       "      <td>3308.0</td>\n",
       "      <td>1.0</td>\n",
       "    </tr>\n",
       "  </tbody>\n",
       "</table>\n",
       "</div>"
      ],
      "text/plain": [
       "                   mean     sd  hdi_2.5%  hdi_97.5%  mcse_mean  mcse_sd  \\\n",
       "beta0_intercept -34.943  2.428   -39.645    -30.152      0.048    0.034   \n",
       "beta1_abdomen     0.582  0.026     0.530      0.631      0.001    0.000   \n",
       "tau               0.049  0.004     0.040      0.058      0.000    0.000   \n",
       "variance         20.561  1.899    17.021     24.314      0.032    0.023   \n",
       "br2               0.659  0.031     0.597      0.718      0.001    0.000   \n",
       "\n",
       "                 ess_bulk  ess_tail  r_hat  \n",
       "beta0_intercept    2538.0    2942.0    1.0  \n",
       "beta1_abdomen      2543.0    2805.0    1.0  \n",
       "tau                3538.0    3308.0    1.0  \n",
       "variance           3538.0    3308.0    1.0  \n",
       "br2                3538.0    3308.0    1.0  "
      ]
     },
     "execution_count": 13,
     "metadata": {},
     "output_type": "execute_result"
    }
   ],
   "source": [
    "az.summary(trace, hdi_prob=0.95)"
   ]
  },
  {
   "cell_type": "markdown",
   "id": "36f067d6",
   "metadata": {},
   "source": [
    "This matches the results from the U7 L11 video.\n",
    "\n",
    "Another way to calculate the $R^2$ using a posterior predictive check (keeping in mind that there is no standard \"Bayesian $R^2$\"). The results will be slightly different:"
   ]
  },
  {
   "cell_type": "code",
   "execution_count": 24,
   "id": "ac708c65",
   "metadata": {},
   "outputs": [
    {
     "data": {
      "text/plain": [
       "r2        0.594607\n",
       "r2_std    0.026141\n",
       "dtype: float64"
      ]
     },
     "execution_count": 24,
     "metadata": {},
     "output_type": "execute_result"
    }
   ],
   "source": [
    "# updated based on the arviz docs\n",
    "y_pred = ppc.posterior_predictive.stack(sample=(\"chain\", \"draw\"))[\"likelihood\"].values.T\n",
    "az.r2_score(y, y_pred)"
   ]
  },
  {
   "cell_type": "markdown",
   "id": "291a7c14",
   "metadata": {
    "tags": []
   },
   "source": [
    "## Multinomial regression with all predictors\n",
    "\n",
    "Based on fat2d.odc or fatmulti.odc (they appear to be identical)."
   ]
  },
  {
   "cell_type": "code",
   "execution_count": 27,
   "id": "3cd34ffd",
   "metadata": {},
   "outputs": [
    {
     "data": {
      "text/plain": [
       "(252, 15, 225)"
      ]
     },
     "execution_count": 27,
     "metadata": {},
     "output_type": "execute_result"
    }
   ],
   "source": [
    "data = pd.read_csv(\"../data/fat.tsv\", sep=\"\\t\")\n",
    "\n",
    "y = data[\"y\"].to_numpy(copy=True)\n",
    "X = data.iloc[:, 1:].to_numpy(copy=True)\n",
    "\n",
    "# add intercept\n",
    "X_aug = np.concatenate((np.ones((X.shape[0], 1)), X), axis=1)\n",
    "n, p = X_aug.shape\n",
    "\n",
    "# Zellner's g\n",
    "g = p**2\n",
    "\n",
    "n, p, g"
   ]
  },
  {
   "cell_type": "code",
   "execution_count": 28,
   "id": "91cf6e7e",
   "metadata": {},
   "outputs": [
    {
     "data": {
      "text/plain": [
       "(252, 15)"
      ]
     },
     "execution_count": 28,
     "metadata": {},
     "output_type": "execute_result"
    }
   ],
   "source": [
    "X_aug.shape"
   ]
  },
  {
   "cell_type": "code",
   "execution_count": 29,
   "id": "d15825f3",
   "metadata": {},
   "outputs": [],
   "source": [
    "mu_beta = np.zeros(p)"
   ]
  },
  {
   "cell_type": "code",
   "execution_count": 30,
   "id": "71a06315",
   "metadata": {
    "tags": [
     "hide_output"
    ]
   },
   "outputs": [
    {
     "name": "stderr",
     "output_type": "stream",
     "text": [
      "Auto-assigning NUTS sampler...\n",
      "INFO:pymc:Auto-assigning NUTS sampler...\n",
      "Initializing NUTS using jitter+adapt_diag...\n",
      "INFO:pymc:Initializing NUTS using jitter+adapt_diag...\n",
      "Multiprocess sampling (4 chains in 4 jobs)\n",
      "INFO:pymc:Multiprocess sampling (4 chains in 4 jobs)\n",
      "NUTS: [tau, beta]\n",
      "INFO:pymc:NUTS: [tau, beta]\n"
     ]
    },
    {
     "data": {
      "text/html": [
       "\n",
       "<style>\n",
       "    /* Turns off some styling */\n",
       "    progress {\n",
       "        /* gets rid of default border in Firefox and Opera. */\n",
       "        border: none;\n",
       "        /* Needs to be in here for Safari polyfill so background images work as expected. */\n",
       "        background-size: auto;\n",
       "    }\n",
       "    progress:not([value]), progress:not([value])::-webkit-progress-bar {\n",
       "        background: repeating-linear-gradient(45deg, #7e7e7e, #7e7e7e 10px, #5c5c5c 10px, #5c5c5c 20px);\n",
       "    }\n",
       "    .progress-bar-interrupted, .progress-bar-interrupted::-webkit-progress-bar {\n",
       "        background: #F44336;\n",
       "    }\n",
       "</style>\n"
      ],
      "text/plain": [
       "<IPython.core.display.HTML object>"
      ]
     },
     "metadata": {},
     "output_type": "display_data"
    },
    {
     "data": {
      "text/html": [
       "\n",
       "    <div>\n",
       "      <progress value='8000' class='' max='8000' style='width:300px; height:20px; vertical-align: middle;'></progress>\n",
       "      100.00% [8000/8000 15:17&lt;00:00 Sampling 4 chains, 0 divergences]\n",
       "    </div>\n",
       "    "
      ],
      "text/plain": [
       "<IPython.core.display.HTML object>"
      ]
     },
     "metadata": {},
     "output_type": "display_data"
    },
    {
     "name": "stderr",
     "output_type": "stream",
     "text": [
      "Sampling 4 chains for 1_000 tune and 1_000 draw iterations (4_000 + 4_000 draws total) took 928 seconds.\n",
      "INFO:pymc:Sampling 4 chains for 1_000 tune and 1_000 draw iterations (4_000 + 4_000 draws total) took 928 seconds.\n"
     ]
    },
    {
     "data": {
      "text/html": [
       "\n",
       "<style>\n",
       "    /* Turns off some styling */\n",
       "    progress {\n",
       "        /* gets rid of default border in Firefox and Opera. */\n",
       "        border: none;\n",
       "        /* Needs to be in here for Safari polyfill so background images work as expected. */\n",
       "        background-size: auto;\n",
       "    }\n",
       "    progress:not([value]), progress:not([value])::-webkit-progress-bar {\n",
       "        background: repeating-linear-gradient(45deg, #7e7e7e, #7e7e7e 10px, #5c5c5c 10px, #5c5c5c 20px);\n",
       "    }\n",
       "    .progress-bar-interrupted, .progress-bar-interrupted::-webkit-progress-bar {\n",
       "        background: #F44336;\n",
       "    }\n",
       "</style>\n"
      ],
      "text/plain": [
       "<IPython.core.display.HTML object>"
      ]
     },
     "metadata": {},
     "output_type": "display_data"
    },
    {
     "data": {
      "text/html": [
       "\n",
       "    <div>\n",
       "      <progress value='4000' class='' max='4000' style='width:300px; height:20px; vertical-align: middle;'></progress>\n",
       "      100.00% [4000/4000 00:00&lt;00:00]\n",
       "    </div>\n",
       "    "
      ],
      "text/plain": [
       "<IPython.core.display.HTML object>"
      ]
     },
     "metadata": {},
     "output_type": "display_data"
    }
   ],
   "source": [
    "with pm.Model() as m2d:\n",
    "    tau = pm.Gamma(\"tau\", 0.01, 0.01)\n",
    "    variance = pm.Deterministic(\"variance\", 1 / tau)\n",
    "\n",
    "    tau_matrix = at.fill(at.zeros((15, 15)), tau)\n",
    "    tau_beta = tau_matrix / g * dot(X_aug.T, X_aug)\n",
    "    beta = pm.MvNormal(\"beta\", mu_beta, tau=tau_beta)\n",
    "\n",
    "    mu = dot(X_aug, beta)\n",
    "    pm.Normal(\"likelihood\", mu=mu, tau=tau, observed=y)\n",
    "\n",
    "    # Bayesian R2 from fat2d.odc\n",
    "    sse = (n - p) * variance\n",
    "    cy = y - y.mean()\n",
    "    sst = dot(cy, cy)\n",
    "    br2 = pm.Deterministic(\"br2\", 1 - sse / sst)\n",
    "    br2_adj = pm.Deterministic(\"br2_adj\", 1 - (n - 1) * variance / sst)\n",
    "\n",
    "    trace = pm.sample(1000)\n",
    "    ppc = pm.sample_posterior_predictive(trace)"
   ]
  },
  {
   "cell_type": "code",
   "execution_count": 31,
   "id": "2e7374f0",
   "metadata": {},
   "outputs": [
    {
     "data": {
      "text/html": [
       "<div>\n",
       "<style scoped>\n",
       "    .dataframe tbody tr th:only-of-type {\n",
       "        vertical-align: middle;\n",
       "    }\n",
       "\n",
       "    .dataframe tbody tr th {\n",
       "        vertical-align: top;\n",
       "    }\n",
       "\n",
       "    .dataframe thead th {\n",
       "        text-align: right;\n",
       "    }\n",
       "</style>\n",
       "<table border=\"1\" class=\"dataframe\">\n",
       "  <thead>\n",
       "    <tr style=\"text-align: right;\">\n",
       "      <th></th>\n",
       "      <th>mean</th>\n",
       "      <th>sd</th>\n",
       "      <th>hdi_2.5%</th>\n",
       "      <th>hdi_97.5%</th>\n",
       "      <th>mcse_mean</th>\n",
       "      <th>mcse_sd</th>\n",
       "      <th>ess_bulk</th>\n",
       "      <th>ess_tail</th>\n",
       "      <th>r_hat</th>\n",
       "    </tr>\n",
       "  </thead>\n",
       "  <tbody>\n",
       "    <tr>\n",
       "      <th>beta[0]</th>\n",
       "      <td>-14.949</td>\n",
       "      <td>17.101</td>\n",
       "      <td>-48.607</td>\n",
       "      <td>18.114</td>\n",
       "      <td>0.422</td>\n",
       "      <td>0.299</td>\n",
       "      <td>1646.0</td>\n",
       "      <td>2196.0</td>\n",
       "      <td>1.0</td>\n",
       "    </tr>\n",
       "    <tr>\n",
       "      <th>beta[1]</th>\n",
       "      <td>0.056</td>\n",
       "      <td>0.031</td>\n",
       "      <td>-0.001</td>\n",
       "      <td>0.117</td>\n",
       "      <td>0.001</td>\n",
       "      <td>0.000</td>\n",
       "      <td>2651.0</td>\n",
       "      <td>2655.0</td>\n",
       "      <td>1.0</td>\n",
       "    </tr>\n",
       "    <tr>\n",
       "      <th>beta[2]</th>\n",
       "      <td>-0.081</td>\n",
       "      <td>0.053</td>\n",
       "      <td>-0.190</td>\n",
       "      <td>0.019</td>\n",
       "      <td>0.001</td>\n",
       "      <td>0.001</td>\n",
       "      <td>1598.0</td>\n",
       "      <td>2156.0</td>\n",
       "      <td>1.0</td>\n",
       "    </tr>\n",
       "    <tr>\n",
       "      <th>beta[3]</th>\n",
       "      <td>-0.055</td>\n",
       "      <td>0.108</td>\n",
       "      <td>-0.268</td>\n",
       "      <td>0.157</td>\n",
       "      <td>0.002</td>\n",
       "      <td>0.002</td>\n",
       "      <td>2587.0</td>\n",
       "      <td>2526.0</td>\n",
       "      <td>1.0</td>\n",
       "    </tr>\n",
       "    <tr>\n",
       "      <th>beta[4]</th>\n",
       "      <td>0.056</td>\n",
       "      <td>0.283</td>\n",
       "      <td>-0.541</td>\n",
       "      <td>0.571</td>\n",
       "      <td>0.005</td>\n",
       "      <td>0.004</td>\n",
       "      <td>2770.0</td>\n",
       "      <td>2555.0</td>\n",
       "      <td>1.0</td>\n",
       "    </tr>\n",
       "    <tr>\n",
       "      <th>beta[5]</th>\n",
       "      <td>-0.444</td>\n",
       "      <td>0.222</td>\n",
       "      <td>-0.862</td>\n",
       "      <td>0.005</td>\n",
       "      <td>0.004</td>\n",
       "      <td>0.003</td>\n",
       "      <td>3208.0</td>\n",
       "      <td>2962.0</td>\n",
       "      <td>1.0</td>\n",
       "    </tr>\n",
       "    <tr>\n",
       "      <th>beta[6]</th>\n",
       "      <td>-0.031</td>\n",
       "      <td>0.102</td>\n",
       "      <td>-0.224</td>\n",
       "      <td>0.179</td>\n",
       "      <td>0.002</td>\n",
       "      <td>0.002</td>\n",
       "      <td>2482.0</td>\n",
       "      <td>2583.0</td>\n",
       "      <td>1.0</td>\n",
       "    </tr>\n",
       "    <tr>\n",
       "      <th>beta[7]</th>\n",
       "      <td>0.875</td>\n",
       "      <td>0.088</td>\n",
       "      <td>0.699</td>\n",
       "      <td>1.045</td>\n",
       "      <td>0.002</td>\n",
       "      <td>0.001</td>\n",
       "      <td>3100.0</td>\n",
       "      <td>2957.0</td>\n",
       "      <td>1.0</td>\n",
       "    </tr>\n",
       "    <tr>\n",
       "      <th>beta[8]</th>\n",
       "      <td>-0.200</td>\n",
       "      <td>0.137</td>\n",
       "      <td>-0.465</td>\n",
       "      <td>0.077</td>\n",
       "      <td>0.003</td>\n",
       "      <td>0.002</td>\n",
       "      <td>2431.0</td>\n",
       "      <td>2020.0</td>\n",
       "      <td>1.0</td>\n",
       "    </tr>\n",
       "    <tr>\n",
       "      <th>beta[9]</th>\n",
       "      <td>0.221</td>\n",
       "      <td>0.138</td>\n",
       "      <td>-0.051</td>\n",
       "      <td>0.482</td>\n",
       "      <td>0.003</td>\n",
       "      <td>0.002</td>\n",
       "      <td>2625.0</td>\n",
       "      <td>2841.0</td>\n",
       "      <td>1.0</td>\n",
       "    </tr>\n",
       "    <tr>\n",
       "      <th>beta[10]</th>\n",
       "      <td>0.002</td>\n",
       "      <td>0.242</td>\n",
       "      <td>-0.435</td>\n",
       "      <td>0.501</td>\n",
       "      <td>0.004</td>\n",
       "      <td>0.004</td>\n",
       "      <td>3024.0</td>\n",
       "      <td>2751.0</td>\n",
       "      <td>1.0</td>\n",
       "    </tr>\n",
       "    <tr>\n",
       "      <th>beta[11]</th>\n",
       "      <td>0.155</td>\n",
       "      <td>0.215</td>\n",
       "      <td>-0.279</td>\n",
       "      <td>0.559</td>\n",
       "      <td>0.004</td>\n",
       "      <td>0.003</td>\n",
       "      <td>3733.0</td>\n",
       "      <td>2642.0</td>\n",
       "      <td>1.0</td>\n",
       "    </tr>\n",
       "    <tr>\n",
       "      <th>beta[12]</th>\n",
       "      <td>0.152</td>\n",
       "      <td>0.164</td>\n",
       "      <td>-0.149</td>\n",
       "      <td>0.488</td>\n",
       "      <td>0.003</td>\n",
       "      <td>0.002</td>\n",
       "      <td>3888.0</td>\n",
       "      <td>2930.0</td>\n",
       "      <td>1.0</td>\n",
       "    </tr>\n",
       "    <tr>\n",
       "      <th>beta[13]</th>\n",
       "      <td>0.427</td>\n",
       "      <td>0.192</td>\n",
       "      <td>0.042</td>\n",
       "      <td>0.788</td>\n",
       "      <td>0.003</td>\n",
       "      <td>0.003</td>\n",
       "      <td>3457.0</td>\n",
       "      <td>2276.0</td>\n",
       "      <td>1.0</td>\n",
       "    </tr>\n",
       "    <tr>\n",
       "      <th>beta[14]</th>\n",
       "      <td>-1.475</td>\n",
       "      <td>0.515</td>\n",
       "      <td>-2.513</td>\n",
       "      <td>-0.530</td>\n",
       "      <td>0.009</td>\n",
       "      <td>0.007</td>\n",
       "      <td>3047.0</td>\n",
       "      <td>2923.0</td>\n",
       "      <td>1.0</td>\n",
       "    </tr>\n",
       "    <tr>\n",
       "      <th>tau</th>\n",
       "      <td>0.059</td>\n",
       "      <td>0.005</td>\n",
       "      <td>0.049</td>\n",
       "      <td>0.070</td>\n",
       "      <td>0.000</td>\n",
       "      <td>0.000</td>\n",
       "      <td>4457.0</td>\n",
       "      <td>2989.0</td>\n",
       "      <td>1.0</td>\n",
       "    </tr>\n",
       "    <tr>\n",
       "      <th>variance</th>\n",
       "      <td>16.948</td>\n",
       "      <td>1.546</td>\n",
       "      <td>13.973</td>\n",
       "      <td>20.016</td>\n",
       "      <td>0.023</td>\n",
       "      <td>0.017</td>\n",
       "      <td>4457.0</td>\n",
       "      <td>2989.0</td>\n",
       "      <td>1.0</td>\n",
       "    </tr>\n",
       "    <tr>\n",
       "      <th>br2</th>\n",
       "      <td>0.734</td>\n",
       "      <td>0.024</td>\n",
       "      <td>0.685</td>\n",
       "      <td>0.780</td>\n",
       "      <td>0.000</td>\n",
       "      <td>0.000</td>\n",
       "      <td>4457.0</td>\n",
       "      <td>2989.0</td>\n",
       "      <td>1.0</td>\n",
       "    </tr>\n",
       "    <tr>\n",
       "      <th>br2_adj</th>\n",
       "      <td>0.718</td>\n",
       "      <td>0.026</td>\n",
       "      <td>0.667</td>\n",
       "      <td>0.767</td>\n",
       "      <td>0.000</td>\n",
       "      <td>0.000</td>\n",
       "      <td>4457.0</td>\n",
       "      <td>2989.0</td>\n",
       "      <td>1.0</td>\n",
       "    </tr>\n",
       "  </tbody>\n",
       "</table>\n",
       "</div>"
      ],
      "text/plain": [
       "            mean      sd  hdi_2.5%  hdi_97.5%  mcse_mean  mcse_sd  ess_bulk  \\\n",
       "beta[0]  -14.949  17.101   -48.607     18.114      0.422    0.299    1646.0   \n",
       "beta[1]    0.056   0.031    -0.001      0.117      0.001    0.000    2651.0   \n",
       "beta[2]   -0.081   0.053    -0.190      0.019      0.001    0.001    1598.0   \n",
       "beta[3]   -0.055   0.108    -0.268      0.157      0.002    0.002    2587.0   \n",
       "beta[4]    0.056   0.283    -0.541      0.571      0.005    0.004    2770.0   \n",
       "beta[5]   -0.444   0.222    -0.862      0.005      0.004    0.003    3208.0   \n",
       "beta[6]   -0.031   0.102    -0.224      0.179      0.002    0.002    2482.0   \n",
       "beta[7]    0.875   0.088     0.699      1.045      0.002    0.001    3100.0   \n",
       "beta[8]   -0.200   0.137    -0.465      0.077      0.003    0.002    2431.0   \n",
       "beta[9]    0.221   0.138    -0.051      0.482      0.003    0.002    2625.0   \n",
       "beta[10]   0.002   0.242    -0.435      0.501      0.004    0.004    3024.0   \n",
       "beta[11]   0.155   0.215    -0.279      0.559      0.004    0.003    3733.0   \n",
       "beta[12]   0.152   0.164    -0.149      0.488      0.003    0.002    3888.0   \n",
       "beta[13]   0.427   0.192     0.042      0.788      0.003    0.003    3457.0   \n",
       "beta[14]  -1.475   0.515    -2.513     -0.530      0.009    0.007    3047.0   \n",
       "tau        0.059   0.005     0.049      0.070      0.000    0.000    4457.0   \n",
       "variance  16.948   1.546    13.973     20.016      0.023    0.017    4457.0   \n",
       "br2        0.734   0.024     0.685      0.780      0.000    0.000    4457.0   \n",
       "br2_adj    0.718   0.026     0.667      0.767      0.000    0.000    4457.0   \n",
       "\n",
       "          ess_tail  r_hat  \n",
       "beta[0]     2196.0    1.0  \n",
       "beta[1]     2655.0    1.0  \n",
       "beta[2]     2156.0    1.0  \n",
       "beta[3]     2526.0    1.0  \n",
       "beta[4]     2555.0    1.0  \n",
       "beta[5]     2962.0    1.0  \n",
       "beta[6]     2583.0    1.0  \n",
       "beta[7]     2957.0    1.0  \n",
       "beta[8]     2020.0    1.0  \n",
       "beta[9]     2841.0    1.0  \n",
       "beta[10]    2751.0    1.0  \n",
       "beta[11]    2642.0    1.0  \n",
       "beta[12]    2930.0    1.0  \n",
       "beta[13]    2276.0    1.0  \n",
       "beta[14]    2923.0    1.0  \n",
       "tau         2989.0    1.0  \n",
       "variance    2989.0    1.0  \n",
       "br2         2989.0    1.0  \n",
       "br2_adj     2989.0    1.0  "
      ]
     },
     "execution_count": 31,
     "metadata": {},
     "output_type": "execute_result"
    }
   ],
   "source": [
    "az.summary(trace, hdi_prob=0.95)"
   ]
  },
  {
   "cell_type": "code",
   "execution_count": 32,
   "id": "238ed8cc",
   "metadata": {},
   "outputs": [
    {
     "data": {
      "text/plain": [
       "r2        0.653794\n",
       "r2_std    0.024371\n",
       "dtype: float64"
      ]
     },
     "execution_count": 32,
     "metadata": {},
     "output_type": "execute_result"
    }
   ],
   "source": [
    "y_pred = ppc.posterior_predictive.stack(sample=(\"chain\", \"draw\"))[\"likelihood\"].values.T\n",
    "az.r2_score(y, y_pred)"
   ]
  },
  {
   "cell_type": "markdown",
   "id": "3374518d",
   "metadata": {},
   "source": [
    "Need to do some more reading on g-priors:\n",
    "\n",
    "- https://arxiv.org/abs/1702.01201\n",
    "\n",
    "- https://towardsdatascience.com/linear-regression-model-selection-through-zellners-g--prior-da5f74635a03\n",
    "\n",
    "- https://en.wikipedia.org/wiki/G-prior\\\n",
    "\n",
    "Original paper:\n",
    "\n",
    "Zellner, A. (1986). \"On Assessing Prior Distributions and Bayesian Regression Analysis with g Prior Distributions\". In Goel, P.; Zellner, A. (eds.). Bayesian Inference and Decision Techniques: Essays in Honor of Bruno de Finetti. Studies in Bayesian Econometrics and Statistics. Vol. 6. New York: Elsevier. pp. 233–243. ISBN 978-0-444-87712-3."
   ]
  },
  {
   "cell_type": "code",
   "execution_count": 33,
   "id": "42c6522c",
   "metadata": {},
   "outputs": [
    {
     "name": "stdout",
     "output_type": "stream",
     "text": [
      "Last updated: Wed Oct 26 2022\n",
      "\n",
      "Python implementation: CPython\n",
      "Python version       : 3.10.6\n",
      "IPython version      : 8.5.0\n",
      "\n",
      "aesara: 2.7.7\n",
      "aeppl : 0.0.32\n",
      "\n",
      "numpy : 1.23.4\n",
      "arviz : 0.12.1\n",
      "aesara: 2.7.7\n",
      "pymc  : 4.1.3\n",
      "pandas: 1.5.1\n",
      "\n"
     ]
    }
   ],
   "source": [
    "%watermark -n -u -v -iv -p aesara,aeppl"
   ]
  },
  {
   "cell_type": "code",
   "execution_count": null,
   "id": "860d0d41-4812-4181-854c-89267276ae0c",
   "metadata": {},
   "outputs": [],
   "source": []
  }
 ],
 "metadata": {
  "kernelspec": {
   "display_name": "Python 3 (ipykernel)",
   "language": "python",
   "name": "python3"
  },
  "language_info": {
   "codemirror_mode": {
    "name": "ipython",
    "version": 3
   },
   "file_extension": ".py",
   "mimetype": "text/x-python",
   "name": "python",
   "nbconvert_exporter": "python",
   "pygments_lexer": "ipython3",
   "version": "3.10.6"
  }
 },
 "nbformat": 4,
 "nbformat_minor": 5
}
