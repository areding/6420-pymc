{
 "cells": [
  {
   "cell_type": "markdown",
   "id": "4f728f29-6c71-421d-a9fe-9e6a981f6c30",
   "metadata": {},
   "source": [
    "# 10. Linear Regression"
   ]
  },
  {
   "cell_type": "markdown",
   "id": "64e628d0-ef21-4183-84d4-39e37ced4891",
   "metadata": {},
   "source": [
    "\n",
    "```{note}\n",
    "This page is a stub. It will be updated over summer 2023 with supplementary lecture notes.\n",
    "```"
   ]
  }
 ],
 "metadata": {
  "kernelspec": {
   "display_name": "Python 3 (ipykernel)",
   "language": "python",
   "name": "python3"
  },
  "language_info": {
   "codemirror_mode": {
    "name": "ipython",
    "version": 3
   },
   "file_extension": ".py",
   "mimetype": "text/x-python",
   "name": "python",
   "nbconvert_exporter": "python",
   "pygments_lexer": "ipython3",
   "version": "3.11.0"
  }
 },
 "nbformat": 4,
 "nbformat_minor": 5
}
