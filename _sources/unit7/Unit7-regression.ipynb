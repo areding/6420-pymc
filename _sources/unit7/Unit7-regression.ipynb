{
 "cells": [
  {
   "cell_type": "markdown",
   "id": "3ea0d6ad-a4b7-4002-9395-4c3c0b4046da",
   "metadata": {},
   "source": [
    "## Simple Linear Regression\n",
    "\n",
    "Contributed by Jason Naramore.\n",
    "\n",
    "The simple linear regression model is:\n",
    "\n",
    "$$\\begin{align*}\n",
    "y_i & = \\beta_0 + \\beta_1 x_{i1} + \\epsilon_i, i = 1 , ... , n \\\\\n",
    "\\epsilon_i & \\overset{iid}{\\sim} N (0,\\sigma^2) \\end{align*} $$\n",
    "\n",
    "where data is in the form of paired $x_{i1}$ and $y_i$ values from $i = 1,2,...,n$. $\\beta_1$ and $\\beta_0$ are the slope and intercept, respectively. The goal is to find the best fit line for predicting $y$ based on $x$. The best fit line is almost never perfect, so one of the typical assumptions is that the error $\\epsilon$ about the $\\hat{y}$ fit is normally distributed.\n",
    "\n",
    "Classical statistics has an elegant approach to solving this problem. We can find the estimate of $\\hat{\\beta}_1 = \\frac{SXY}{SXX}$, where\n",
    "\n",
    "$$SXY = \\sum_{i=1}^n (x_i - \\bar{x}) (y_i - \\bar{y}) $$\n",
    "$$SXX = \\sum_{i=1}^n (x_i - \\bar{x})^2 $$\n",
    "\n",
    "and then find $\\hat{\\beta}_0 = \\bar{y} - \\hat{\\beta_1} \\bar{x} $. Furthermore, we can assess the model fit using $R^2$, which is found using SSE, SSR, and SST. $R^2$ is the variance in $y$ explained by the model.\n",
    "\n",
    "$$\\begin{align*}\n",
    "SSE & = \\sum_{i=1}^n (y_i - \\hat{y}_i)^2 \\\\\n",
    "SSR & = \\sum_{i=1}^n (\\hat{y}_i - \\bar{y})^2 \\\\\n",
    "SST & = \\sum_{i=1}^n (y_i - \\bar{y})^2 \\\\\n",
    "R^2 & = \\frac{SSR}{SST} = 1 - \\frac{SSE}{SST} \\\\\n",
    "\\end{align*}$$\n",
    "\n",
    "In the Bayesian model for simple linear regression, we set priors for $\\beta_0$, $\\beta_1$, and $\\sigma^2$:\n",
    "\n",
    "$$ \\begin{align*}\n",
    "y_{ij} & \\sim N(\\mu,\\sigma^2) && \\text{likelihood}\\\\ \\\\\n",
    "\\mu & = \\beta_0 + \\beta_1 x && \\text{deterministic relationship}\\\\\n",
    "\\beta_0 & \\sim  N(0,\\sigma_0^2) && \\text{prior: } \\beta_0\\\\\n",
    "\\beta_1 & \\sim  N(0,\\sigma_1^2) && \\text{prior: } \\beta_1\\\\\n",
    "\\tau & \\sim  Ga(a,b) && \\text{prior: } \\tau\\\\\n",
    "\\sigma^2 & =  1/\\tau && \\text{deterministic relationship}\\\\\n",
    "\\end{align*}$$\n",
    "\n",
    "Typical non-informative priors for $\\beta_0$ and $\\beta_1$ are centered at zero, with a wide standard deviation. A non-informative prior for $\\tau$ could be $Ga(a = 0.001, b = 0.001)$. In `PyMC` we can define a Normal distribution with either the $\\tau$ or $\\sigma$ parameter, so we could define the $\\sigma^2$ distribution directly instead of using a deterministic relationship to $\\tau$. Other possible non-negative priors for $\\sigma^2$ might be Inverse-Gamma, Half-Normal, or Half-flat."
   ]
  }
 ],
 "metadata": {
  "kernelspec": {
   "display_name": "Python 3 (ipykernel)",
   "language": "python",
   "name": "python3"
  },
  "language_info": {
   "codemirror_mode": {
    "name": "ipython",
    "version": 3
   },
   "file_extension": ".py",
   "mimetype": "text/x-python",
   "name": "python",
   "nbconvert_exporter": "python",
   "pygments_lexer": "ipython3",
   "version": "3.11.8"
  }
 },
 "nbformat": 4,
 "nbformat_minor": 5
}
