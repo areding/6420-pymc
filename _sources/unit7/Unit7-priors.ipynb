{
 "cells": [
  {
   "cell_type": "markdown",
   "id": "5d966810-105f-461f-a09e-fad02d26cca1",
   "metadata": {},
   "source": [
    "# 3. Priors with Structural Information"
   ]
  },
  {
   "cell_type": "markdown",
   "id": "1c2a9de8-ba80-40f7-b120-cc74391fd423",
   "metadata": {},
   "source": [
    "\n",
    "```{note}\n",
    "This page is a stub. It will be updated over summer 2023 with supplementary lecture notes.\n",
    "```"
   ]
  }
 ],
 "metadata": {
  "kernelspec": {
   "display_name": "Python 3 (ipykernel)",
   "language": "python",
   "name": "python3"
  },
  "language_info": {
   "codemirror_mode": {
    "name": "ipython",
    "version": 3
   },
   "file_extension": ".py",
   "mimetype": "text/x-python",
   "name": "python",
   "nbconvert_exporter": "python",
   "pygments_lexer": "ipython3",
   "version": "3.11.0"
  }
 },
 "nbformat": 4,
 "nbformat_minor": 5
}
