{
 "cells": [
  {
   "cell_type": "markdown",
   "id": "5d966810-105f-461f-a09e-fad02d26cca1",
   "metadata": {},
   "source": [
    "# 3. Priors with Structural Information"
   ]
  },
  {
   "cell_type": "code",
   "execution_count": null,
   "id": "4a3ffc2e-5e09-4a7b-88c3-793c3f33d6f3",
   "metadata": {},
   "outputs": [],
   "source": []
  }
 ],
 "metadata": {
  "kernelspec": {
   "display_name": "Python 3 (ipykernel)",
   "language": "python",
   "name": "python3"
  },
  "language_info": {
   "codemirror_mode": {
    "name": "ipython",
    "version": 3
   },
   "file_extension": ".py",
   "mimetype": "text/x-python",
   "name": "python",
   "nbconvert_exporter": "python",
   "pygments_lexer": "ipython3",
   "version": "3.11.0"
  }
 },
 "nbformat": 4,
 "nbformat_minor": 5
}
