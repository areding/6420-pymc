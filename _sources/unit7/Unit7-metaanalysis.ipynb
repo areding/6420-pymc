{
 "cells": [
  {
   "cell_type": "code",
   "execution_count": 1,
   "id": "a6613312-ce57-4bd1-b080-03036ee0ca62",
   "metadata": {},
   "outputs": [],
   "source": [
    "import pymc as pm\n",
    "import numpy as np\n",
    "import arviz as az\n",
    "\n",
    "%load_ext lab_black"
   ]
  },
  {
   "cell_type": "markdown",
   "id": "44a739d2-4f9f-4554-a2aa-06d9ac902cd4",
   "metadata": {},
   "source": [
    "# 5. Meta-analysis via Hierarchical Models*\n",
    "\n",
    "Adapted from [Unit 7: rats_nocentering.odc](https://raw.githubusercontent.com/areding/6420-pymc/main/original_examples/Codes4Unit7/rats_nocentering.odc).\n",
    "\n",
    "Data for x can be found [here](https://raw.githubusercontent.com/areding/6420-pymc/main/data/rats_nocenteringx.txt), and Y [here](https://raw.githubusercontent.com/areding/6420-pymc/main/data/rats_nocenteringY.txt)."
   ]
  },
  {
   "cell_type": "code",
   "execution_count": 2,
   "id": "a25c7103-cf18-4532-bc1d-5070ce2489f8",
   "metadata": {},
   "outputs": [
    {
     "data": {
      "text/plain": [
       "((5,), (30, 5))"
      ]
     },
     "execution_count": 2,
     "metadata": {},
     "output_type": "execute_result"
    }
   ],
   "source": [
    "y = np.loadtxt(\"../data/rats_nocenteringy.txt\")\n",
    "x = np.loadtxt(\"../data/rats_nocenteringx.txt\")\n",
    "x.shape, y.shape"
   ]
  },
  {
   "cell_type": "markdown",
   "id": "cf2b3eab-42bb-4873-a01c-b9323a6372aa",
   "metadata": {},
   "source": [
    "This example is taken from Gelfand et al (1990), and concerns 30 young rats whose weights were measured weekly for five weeks."
   ]
  },
  {
   "cell_type": "code",
   "execution_count": 3,
   "id": "ff75becd-7aa5-41b8-84e4-55e5d050b9b6",
   "metadata": {
    "tags": [
     "hide-output"
    ]
   },
   "outputs": [
    {
     "name": "stderr",
     "output_type": "stream",
     "text": [
      "Auto-assigning NUTS sampler...\n",
      "Initializing NUTS using jitter+adapt_diag...\n",
      "Multiprocess sampling (4 chains in 4 jobs)\n",
      "NUTS: [mu_alpha, tau_alpha, mu_beta, tau_beta, tau, alpha, beta]\n"
     ]
    },
    {
     "data": {
      "text/html": [
       "\n",
       "<style>\n",
       "    /* Turns off some styling */\n",
       "    progress {\n",
       "        /* gets rid of default border in Firefox and Opera. */\n",
       "        border: none;\n",
       "        /* Needs to be in here for Safari polyfill so background images work as expected. */\n",
       "        background-size: auto;\n",
       "    }\n",
       "    progress:not([value]), progress:not([value])::-webkit-progress-bar {\n",
       "        background: repeating-linear-gradient(45deg, #7e7e7e, #7e7e7e 10px, #5c5c5c 10px, #5c5c5c 20px);\n",
       "    }\n",
       "    .progress-bar-interrupted, .progress-bar-interrupted::-webkit-progress-bar {\n",
       "        background: #F44336;\n",
       "    }\n",
       "</style>\n"
      ],
      "text/plain": [
       "<IPython.core.display.HTML object>"
      ]
     },
     "metadata": {},
     "output_type": "display_data"
    },
    {
     "data": {
      "text/html": [
       "\n",
       "    <div>\n",
       "      <progress value='16000' class='' max='16000' style='width:300px; height:20px; vertical-align: middle;'></progress>\n",
       "      100.00% [16000/16000 00:27&lt;00:00 Sampling 4 chains, 0 divergences]\n",
       "    </div>\n",
       "    "
      ],
      "text/plain": [
       "<IPython.core.display.HTML object>"
      ]
     },
     "metadata": {},
     "output_type": "display_data"
    },
    {
     "name": "stderr",
     "output_type": "stream",
     "text": [
      "Sampling 4 chains for 1_000 tune and 3_000 draw iterations (4_000 + 12_000 draws total) took 27 seconds.\n"
     ]
    }
   ],
   "source": [
    "with pm.Model() as m:\n",
    "    mu_alpha = pm.Normal(\"mu_alpha\", 0, tau=1e-6)\n",
    "    tau_alpha = pm.Gamma(\"tau_alpha\", 0.001, 0.001)\n",
    "    mu_beta = pm.Normal(\"mu_beta\", 0, tau=1e-6)\n",
    "    tau_beta = pm.Gamma(\"tau_beta\", 0.001, 0.001)\n",
    "\n",
    "    tau = pm.Gamma(\"tau\", 0.001, 0.001)\n",
    "    sigma = pm.Deterministic(\"sigma\", 1 / tau**0.5)\n",
    "\n",
    "    alpha = pm.Normal(\"alpha\", mu_alpha, tau=tau_alpha, shape=(30, 1))\n",
    "    beta = pm.Normal(\"beta\", mu_beta, tau=tau_beta, shape=(30, 1))\n",
    "\n",
    "    mu = alpha + beta * x\n",
    "    pm.Normal(\"y\", mu, tau=tau, observed=y)\n",
    "\n",
    "    trace = pm.sample(3000)"
   ]
  },
  {
   "cell_type": "code",
   "execution_count": 4,
   "id": "4994c305-2970-4e5d-be8b-5fd39597bb74",
   "metadata": {},
   "outputs": [
    {
     "data": {
      "text/html": [
       "<div>\n",
       "<style scoped>\n",
       "    .dataframe tbody tr th:only-of-type {\n",
       "        vertical-align: middle;\n",
       "    }\n",
       "\n",
       "    .dataframe tbody tr th {\n",
       "        vertical-align: top;\n",
       "    }\n",
       "\n",
       "    .dataframe thead th {\n",
       "        text-align: right;\n",
       "    }\n",
       "</style>\n",
       "<table border=\"1\" class=\"dataframe\">\n",
       "  <thead>\n",
       "    <tr style=\"text-align: right;\">\n",
       "      <th></th>\n",
       "      <th>mean</th>\n",
       "      <th>sd</th>\n",
       "      <th>hdi_3%</th>\n",
       "      <th>hdi_97%</th>\n",
       "      <th>mcse_mean</th>\n",
       "      <th>mcse_sd</th>\n",
       "      <th>ess_bulk</th>\n",
       "      <th>ess_tail</th>\n",
       "      <th>r_hat</th>\n",
       "    </tr>\n",
       "  </thead>\n",
       "  <tbody>\n",
       "    <tr>\n",
       "      <th>mu_alpha</th>\n",
       "      <td>106.562</td>\n",
       "      <td>2.294</td>\n",
       "      <td>102.169</td>\n",
       "      <td>110.887</td>\n",
       "      <td>0.020</td>\n",
       "      <td>0.014</td>\n",
       "      <td>13847.0</td>\n",
       "      <td>9366.0</td>\n",
       "      <td>1.0</td>\n",
       "    </tr>\n",
       "    <tr>\n",
       "      <th>mu_beta</th>\n",
       "      <td>6.186</td>\n",
       "      <td>0.106</td>\n",
       "      <td>5.982</td>\n",
       "      <td>6.382</td>\n",
       "      <td>0.001</td>\n",
       "      <td>0.001</td>\n",
       "      <td>13038.0</td>\n",
       "      <td>9634.0</td>\n",
       "      <td>1.0</td>\n",
       "    </tr>\n",
       "    <tr>\n",
       "      <th>tau_alpha</th>\n",
       "      <td>0.010</td>\n",
       "      <td>0.004</td>\n",
       "      <td>0.004</td>\n",
       "      <td>0.017</td>\n",
       "      <td>0.000</td>\n",
       "      <td>0.000</td>\n",
       "      <td>9855.0</td>\n",
       "      <td>8919.0</td>\n",
       "      <td>1.0</td>\n",
       "    </tr>\n",
       "    <tr>\n",
       "      <th>tau_beta</th>\n",
       "      <td>4.313</td>\n",
       "      <td>1.476</td>\n",
       "      <td>1.755</td>\n",
       "      <td>6.912</td>\n",
       "      <td>0.014</td>\n",
       "      <td>0.010</td>\n",
       "      <td>12379.0</td>\n",
       "      <td>9436.0</td>\n",
       "      <td>1.0</td>\n",
       "    </tr>\n",
       "    <tr>\n",
       "      <th>tau</th>\n",
       "      <td>0.027</td>\n",
       "      <td>0.004</td>\n",
       "      <td>0.020</td>\n",
       "      <td>0.035</td>\n",
       "      <td>0.000</td>\n",
       "      <td>0.000</td>\n",
       "      <td>7883.0</td>\n",
       "      <td>9493.0</td>\n",
       "      <td>1.0</td>\n",
       "    </tr>\n",
       "    <tr>\n",
       "      <th>sigma</th>\n",
       "      <td>6.142</td>\n",
       "      <td>0.467</td>\n",
       "      <td>5.281</td>\n",
       "      <td>7.029</td>\n",
       "      <td>0.005</td>\n",
       "      <td>0.004</td>\n",
       "      <td>7883.0</td>\n",
       "      <td>9493.0</td>\n",
       "      <td>1.0</td>\n",
       "    </tr>\n",
       "  </tbody>\n",
       "</table>\n",
       "</div>"
      ],
      "text/plain": [
       "              mean     sd   hdi_3%  hdi_97%  mcse_mean  mcse_sd  ess_bulk  \\\n",
       "mu_alpha   106.562  2.294  102.169  110.887      0.020    0.014   13847.0   \n",
       "mu_beta      6.186  0.106    5.982    6.382      0.001    0.001   13038.0   \n",
       "tau_alpha    0.010  0.004    0.004    0.017      0.000    0.000    9855.0   \n",
       "tau_beta     4.313  1.476    1.755    6.912      0.014    0.010   12379.0   \n",
       "tau          0.027  0.004    0.020    0.035      0.000    0.000    7883.0   \n",
       "sigma        6.142  0.467    5.281    7.029      0.005    0.004    7883.0   \n",
       "\n",
       "           ess_tail  r_hat  \n",
       "mu_alpha     9366.0    1.0  \n",
       "mu_beta      9634.0    1.0  \n",
       "tau_alpha    8919.0    1.0  \n",
       "tau_beta     9436.0    1.0  \n",
       "tau          9493.0    1.0  \n",
       "sigma        9493.0    1.0  "
      ]
     },
     "execution_count": 4,
     "metadata": {},
     "output_type": "execute_result"
    }
   ],
   "source": [
    "az.summary(trace, var_names=[\"~alpha\", \"~beta\"])"
   ]
  },
  {
   "cell_type": "code",
   "execution_count": 5,
   "id": "d66f026f-6824-413d-b7ab-74eee42e2af3",
   "metadata": {},
   "outputs": [
    {
     "data": {
      "image/svg+xml": [
       "<?xml version=\"1.0\" encoding=\"UTF-8\" standalone=\"no\"?>\n",
       "<!DOCTYPE svg PUBLIC \"-//W3C//DTD SVG 1.1//EN\"\n",
       " \"http://www.w3.org/Graphics/SVG/1.1/DTD/svg11.dtd\">\n",
       "<!-- Generated by graphviz version 7.1.0 (0)\n",
       " -->\n",
       "<!-- Pages: 1 -->\n",
       "<svg width=\"438pt\" height=\"355pt\"\n",
       " viewBox=\"0.00 0.00 438.05 354.86\" xmlns=\"http://www.w3.org/2000/svg\" xmlns:xlink=\"http://www.w3.org/1999/xlink\">\n",
       "<g id=\"graph0\" class=\"graph\" transform=\"scale(1 1) rotate(0) translate(4 350.86)\">\n",
       "<polygon fill=\"white\" stroke=\"none\" points=\"-4,4 -4,-350.86 434.05,-350.86 434.05,4 -4,4\"/>\n",
       "<g id=\"clust1\" class=\"cluster\">\n",
       "<title>cluster30 x 1</title>\n",
       "<path fill=\"none\" stroke=\"black\" d=\"M134.2,-129.95C134.2,-129.95 311.2,-129.95 311.2,-129.95 317.2,-129.95 323.2,-135.95 323.2,-141.95 323.2,-141.95 323.2,-231.91 323.2,-231.91 323.2,-237.91 317.2,-243.91 311.2,-243.91 311.2,-243.91 134.2,-243.91 134.2,-243.91 128.2,-243.91 122.2,-237.91 122.2,-231.91 122.2,-231.91 122.2,-141.95 122.2,-141.95 122.2,-135.95 128.2,-129.95 134.2,-129.95\"/>\n",
       "<text text-anchor=\"middle\" x=\"297.7\" y=\"-137.75\" font-family=\"Times,serif\" font-size=\"14.00\">30 x 1</text>\n",
       "</g>\n",
       "<g id=\"clust2\" class=\"cluster\">\n",
       "<title>cluster30 x 5</title>\n",
       "<path fill=\"none\" stroke=\"black\" d=\"M135.2,-8C135.2,-8 211.2,-8 211.2,-8 217.2,-8 223.2,-14 223.2,-20 223.2,-20 223.2,-109.95 223.2,-109.95 223.2,-115.95 217.2,-121.95 211.2,-121.95 211.2,-121.95 135.2,-121.95 135.2,-121.95 129.2,-121.95 123.2,-115.95 123.2,-109.95 123.2,-109.95 123.2,-20 123.2,-20 123.2,-14 129.2,-8 135.2,-8\"/>\n",
       "<text text-anchor=\"middle\" x=\"197.7\" y=\"-15.8\" font-family=\"Times,serif\" font-size=\"14.00\">30 x 5</text>\n",
       "</g>\n",
       "<!-- sigma -->\n",
       "<g id=\"node1\" class=\"node\">\n",
       "<title>sigma</title>\n",
       "<polygon fill=\"none\" stroke=\"black\" points=\"113.7,-102.98 22.7,-102.98 22.7,-49.98 113.7,-49.98 113.7,-102.98\"/>\n",
       "<text text-anchor=\"middle\" x=\"68.2\" y=\"-87.78\" font-family=\"Times,serif\" font-size=\"14.00\">sigma</text>\n",
       "<text text-anchor=\"middle\" x=\"68.2\" y=\"-72.78\" font-family=\"Times,serif\" font-size=\"14.00\">~</text>\n",
       "<text text-anchor=\"middle\" x=\"68.2\" y=\"-57.78\" font-family=\"Times,serif\" font-size=\"14.00\">Deterministic</text>\n",
       "</g>\n",
       "<!-- mu_alpha -->\n",
       "<g id=\"node2\" class=\"node\">\n",
       "<title>mu_alpha</title>\n",
       "<ellipse fill=\"none\" stroke=\"black\" cx=\"50.2\" cy=\"-309.38\" rx=\"50.41\" ry=\"37.45\"/>\n",
       "<text text-anchor=\"middle\" x=\"50.2\" y=\"-320.68\" font-family=\"Times,serif\" font-size=\"14.00\">mu_alpha</text>\n",
       "<text text-anchor=\"middle\" x=\"50.2\" y=\"-305.68\" font-family=\"Times,serif\" font-size=\"14.00\">~</text>\n",
       "<text text-anchor=\"middle\" x=\"50.2\" y=\"-290.68\" font-family=\"Times,serif\" font-size=\"14.00\">Normal</text>\n",
       "</g>\n",
       "<!-- alpha -->\n",
       "<g id=\"node7\" class=\"node\">\n",
       "<title>alpha</title>\n",
       "<ellipse fill=\"none\" stroke=\"black\" cx=\"172.2\" cy=\"-198.43\" rx=\"41.94\" ry=\"37.45\"/>\n",
       "<text text-anchor=\"middle\" x=\"172.2\" y=\"-209.73\" font-family=\"Times,serif\" font-size=\"14.00\">alpha</text>\n",
       "<text text-anchor=\"middle\" x=\"172.2\" y=\"-194.73\" font-family=\"Times,serif\" font-size=\"14.00\">~</text>\n",
       "<text text-anchor=\"middle\" x=\"172.2\" y=\"-179.73\" font-family=\"Times,serif\" font-size=\"14.00\">Normal</text>\n",
       "</g>\n",
       "<!-- mu_alpha&#45;&gt;alpha -->\n",
       "<g id=\"edge2\" class=\"edge\">\n",
       "<title>mu_alpha&#45;&gt;alpha</title>\n",
       "<path fill=\"none\" stroke=\"black\" d=\"M81.94,-280.04C98.05,-265.65 117.74,-248.07 134.6,-233.01\"/>\n",
       "<polygon fill=\"black\" stroke=\"black\" points=\"136.88,-235.67 142.01,-226.4 132.22,-230.45 136.88,-235.67\"/>\n",
       "</g>\n",
       "<!-- tau_alpha -->\n",
       "<g id=\"node3\" class=\"node\">\n",
       "<title>tau_alpha</title>\n",
       "<ellipse fill=\"none\" stroke=\"black\" cx=\"167.2\" cy=\"-309.38\" rx=\"48.58\" ry=\"37.45\"/>\n",
       "<text text-anchor=\"middle\" x=\"167.2\" y=\"-320.68\" font-family=\"Times,serif\" font-size=\"14.00\">tau_alpha</text>\n",
       "<text text-anchor=\"middle\" x=\"167.2\" y=\"-305.68\" font-family=\"Times,serif\" font-size=\"14.00\">~</text>\n",
       "<text text-anchor=\"middle\" x=\"167.2\" y=\"-290.68\" font-family=\"Times,serif\" font-size=\"14.00\">Gamma</text>\n",
       "</g>\n",
       "<!-- tau_alpha&#45;&gt;alpha -->\n",
       "<g id=\"edge3\" class=\"edge\">\n",
       "<title>tau_alpha&#45;&gt;alpha</title>\n",
       "<path fill=\"none\" stroke=\"black\" d=\"M168.9,-271.5C169.25,-263.86 169.62,-255.72 169.99,-247.75\"/>\n",
       "<polygon fill=\"black\" stroke=\"black\" points=\"173.48,-247.94 170.44,-237.79 166.49,-247.62 173.48,-247.94\"/>\n",
       "</g>\n",
       "<!-- mu_beta -->\n",
       "<g id=\"node4\" class=\"node\">\n",
       "<title>mu_beta</title>\n",
       "<ellipse fill=\"none\" stroke=\"black\" cx=\"279.2\" cy=\"-309.38\" rx=\"45.01\" ry=\"37.45\"/>\n",
       "<text text-anchor=\"middle\" x=\"279.2\" y=\"-320.68\" font-family=\"Times,serif\" font-size=\"14.00\">mu_beta</text>\n",
       "<text text-anchor=\"middle\" x=\"279.2\" y=\"-305.68\" font-family=\"Times,serif\" font-size=\"14.00\">~</text>\n",
       "<text text-anchor=\"middle\" x=\"279.2\" y=\"-290.68\" font-family=\"Times,serif\" font-size=\"14.00\">Normal</text>\n",
       "</g>\n",
       "<!-- beta -->\n",
       "<g id=\"node8\" class=\"node\">\n",
       "<title>beta</title>\n",
       "<ellipse fill=\"none\" stroke=\"black\" cx=\"273.2\" cy=\"-198.43\" rx=\"41.94\" ry=\"37.45\"/>\n",
       "<text text-anchor=\"middle\" x=\"273.2\" y=\"-209.73\" font-family=\"Times,serif\" font-size=\"14.00\">beta</text>\n",
       "<text text-anchor=\"middle\" x=\"273.2\" y=\"-194.73\" font-family=\"Times,serif\" font-size=\"14.00\">~</text>\n",
       "<text text-anchor=\"middle\" x=\"273.2\" y=\"-179.73\" font-family=\"Times,serif\" font-size=\"14.00\">Normal</text>\n",
       "</g>\n",
       "<!-- mu_beta&#45;&gt;beta -->\n",
       "<g id=\"edge5\" class=\"edge\">\n",
       "<title>mu_beta&#45;&gt;beta</title>\n",
       "<path fill=\"none\" stroke=\"black\" d=\"M277.17,-271.5C276.75,-263.86 276.3,-255.72 275.87,-247.75\"/>\n",
       "<polygon fill=\"black\" stroke=\"black\" points=\"279.36,-247.58 275.32,-237.79 272.37,-247.97 279.36,-247.58\"/>\n",
       "</g>\n",
       "<!-- tau_beta -->\n",
       "<g id=\"node5\" class=\"node\">\n",
       "<title>tau_beta</title>\n",
       "<ellipse fill=\"none\" stroke=\"black\" cx=\"386.2\" cy=\"-309.38\" rx=\"43.68\" ry=\"37.45\"/>\n",
       "<text text-anchor=\"middle\" x=\"386.2\" y=\"-320.68\" font-family=\"Times,serif\" font-size=\"14.00\">tau_beta</text>\n",
       "<text text-anchor=\"middle\" x=\"386.2\" y=\"-305.68\" font-family=\"Times,serif\" font-size=\"14.00\">~</text>\n",
       "<text text-anchor=\"middle\" x=\"386.2\" y=\"-290.68\" font-family=\"Times,serif\" font-size=\"14.00\">Gamma</text>\n",
       "</g>\n",
       "<!-- tau_beta&#45;&gt;beta -->\n",
       "<g id=\"edge4\" class=\"edge\">\n",
       "<title>tau_beta&#45;&gt;beta</title>\n",
       "<path fill=\"none\" stroke=\"black\" d=\"M357.4,-280.61C342.7,-266.43 324.67,-249.06 309.08,-234.02\"/>\n",
       "<polygon fill=\"black\" stroke=\"black\" points=\"311.9,-231.87 302.27,-227.45 307.04,-236.91 311.9,-231.87\"/>\n",
       "</g>\n",
       "<!-- tau -->\n",
       "<g id=\"node6\" class=\"node\">\n",
       "<title>tau</title>\n",
       "<ellipse fill=\"none\" stroke=\"black\" cx=\"68.2\" cy=\"-198.43\" rx=\"43.27\" ry=\"37.45\"/>\n",
       "<text text-anchor=\"middle\" x=\"68.2\" y=\"-209.73\" font-family=\"Times,serif\" font-size=\"14.00\">tau</text>\n",
       "<text text-anchor=\"middle\" x=\"68.2\" y=\"-194.73\" font-family=\"Times,serif\" font-size=\"14.00\">~</text>\n",
       "<text text-anchor=\"middle\" x=\"68.2\" y=\"-179.73\" font-family=\"Times,serif\" font-size=\"14.00\">Gamma</text>\n",
       "</g>\n",
       "<!-- tau&#45;&gt;sigma -->\n",
       "<g id=\"edge1\" class=\"edge\">\n",
       "<title>tau&#45;&gt;sigma</title>\n",
       "<path fill=\"none\" stroke=\"black\" d=\"M68.2,-160.79C68.2,-146.11 68.2,-129.22 68.2,-114.5\"/>\n",
       "<polygon fill=\"black\" stroke=\"black\" points=\"71.7,-114.76 68.2,-104.76 64.7,-114.76 71.7,-114.76\"/>\n",
       "</g>\n",
       "<!-- y -->\n",
       "<g id=\"node9\" class=\"node\">\n",
       "<title>y</title>\n",
       "<ellipse fill=\"lightgrey\" stroke=\"black\" cx=\"173.2\" cy=\"-76.48\" rx=\"41.94\" ry=\"37.45\"/>\n",
       "<text text-anchor=\"middle\" x=\"173.2\" y=\"-87.78\" font-family=\"Times,serif\" font-size=\"14.00\">y</text>\n",
       "<text text-anchor=\"middle\" x=\"173.2\" y=\"-72.78\" font-family=\"Times,serif\" font-size=\"14.00\">~</text>\n",
       "<text text-anchor=\"middle\" x=\"173.2\" y=\"-57.78\" font-family=\"Times,serif\" font-size=\"14.00\">Normal</text>\n",
       "</g>\n",
       "<!-- tau&#45;&gt;y -->\n",
       "<g id=\"edge6\" class=\"edge\">\n",
       "<title>tau&#45;&gt;y</title>\n",
       "<path fill=\"none\" stroke=\"black\" d=\"M90.03,-165.66C98.42,-154.08 108.36,-141.1 118.2,-129.95 123.67,-123.76 129.75,-117.47 135.81,-111.48\"/>\n",
       "<polygon fill=\"black\" stroke=\"black\" points=\"138.17,-114.07 142.93,-104.61 133.31,-109.04 138.17,-114.07\"/>\n",
       "</g>\n",
       "<!-- alpha&#45;&gt;y -->\n",
       "<g id=\"edge7\" class=\"edge\">\n",
       "<title>alpha&#45;&gt;y</title>\n",
       "<path fill=\"none\" stroke=\"black\" d=\"M172.51,-160.79C172.6,-149.73 172.7,-137.42 172.8,-125.72\"/>\n",
       "<polygon fill=\"black\" stroke=\"black\" points=\"176.3,-125.85 172.88,-115.82 169.3,-125.79 176.3,-125.85\"/>\n",
       "</g>\n",
       "<!-- beta&#45;&gt;y -->\n",
       "<g id=\"edge8\" class=\"edge\">\n",
       "<title>beta&#45;&gt;y</title>\n",
       "<path fill=\"none\" stroke=\"black\" d=\"M251.33,-166.25C242.86,-154.61 232.87,-141.44 223.2,-129.95 218.63,-124.52 213.65,-118.93 208.65,-113.52\"/>\n",
       "<polygon fill=\"black\" stroke=\"black\" points=\"211.28,-111.21 201.89,-106.31 206.18,-116 211.28,-111.21\"/>\n",
       "</g>\n",
       "</g>\n",
       "</svg>\n"
      ],
      "text/plain": [
       "<graphviz.graphs.Digraph at 0x179180890>"
      ]
     },
     "execution_count": 5,
     "metadata": {},
     "output_type": "execute_result"
    }
   ],
   "source": [
    "pm.model_to_graphviz(model=m)"
   ]
  },
  {
   "cell_type": "code",
   "execution_count": 6,
   "id": "e36efc90-d365-41cd-b7f9-f9a36c179132",
   "metadata": {},
   "outputs": [
    {
     "name": "stdout",
     "output_type": "stream",
     "text": [
      "Last updated: Wed Mar 22 2023\n",
      "\n",
      "Python implementation: CPython\n",
      "Python version       : 3.11.0\n",
      "IPython version      : 8.9.0\n",
      "\n",
      "pytensor: 2.10.1\n",
      "\n",
      "arviz: 0.14.0\n",
      "numpy: 1.24.2\n",
      "pymc : 5.1.2\n",
      "\n"
     ]
    }
   ],
   "source": [
    "%load_ext watermark\n",
    "%watermark -n -u -v -iv -p pytensor"
   ]
  },
  {
   "cell_type": "code",
   "execution_count": null,
   "id": "0ad643e0-2e96-4894-93c5-6d8a16b75989",
   "metadata": {},
   "outputs": [],
   "source": []
  }
 ],
 "metadata": {
  "kernelspec": {
   "display_name": "Python 3 (ipykernel)",
   "language": "python",
   "name": "python3"
  },
  "language_info": {
   "codemirror_mode": {
    "name": "ipython",
    "version": 3
   },
   "file_extension": ".py",
   "mimetype": "text/x-python",
   "name": "python",
   "nbconvert_exporter": "python",
   "pygments_lexer": "ipython3",
   "version": "3.11.0"
  }
 },
 "nbformat": 4,
 "nbformat_minor": 5
}
