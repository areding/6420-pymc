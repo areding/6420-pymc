{
 "cells": [
  {
   "cell_type": "code",
   "execution_count": 2,
   "id": "c4c5a114",
   "metadata": {},
   "outputs": [
    {
     "name": "stdout",
     "output_type": "stream",
     "text": [
      "The lab_black extension is already loaded. To reload it, use:\n",
      "  %reload_ext lab_black\n",
      "The watermark extension is already loaded. To reload it, use:\n",
      "  %reload_ext watermark\n"
     ]
    }
   ],
   "source": [
    "import pymc as pm\n",
    "import numpy as np\n",
    "import arviz as az\n",
    "import pandas as pd\n",
    "\n",
    "%load_ext lab_black\n",
    "%load_ext watermark"
   ]
  },
  {
   "cell_type": "markdown",
   "id": "3427b4f4",
   "metadata": {},
   "source": [
    "# Isoflavon\n",
    "\n",
    "This example demonstrates ...\n",
    "\n",
    "Adapted from [unit 7: isoflavon.odc](https://raw.githubusercontent.com/areding/6420-pymc/main/original_examples/Codes4Unit7/isoflavon.odc) and [unit 7: isoflavonopen.odc](https://raw.githubusercontent.com/areding/6420-pymc/main/original_examples/Codes4Unit7/isoflavonopen.odc)\n",
    "\n",
    "No associated lecture?"
   ]
  },
  {
   "cell_type": "markdown",
   "id": "21422f01",
   "metadata": {},
   "source": [
    "## Problem statement\n",
    "\n",
    "### Isoflavones and ALP Activity  \n",
    "\n",
    "A team of students in Quantitative Engineering Physiology  Lab (BMED 3610) at GaTech wants to see the effect of Daidzein and Genistein, two isoflavones from soybeans, and time period cultured has on the Alkaline Phosphatase Activity (ALP) of osteoblastic cells. An increase in ALP activity would indicate these immature bone cells are differentiating and moving towards matrix maturation. The team cultures 3 identical well plates with wells of control, cells with Daidzein treatment, and cells with Genistein treatment in each. The ALP was measured on day 2 for well plate 1, day 6 for well plate 2, and day 10 for well plate 3. Drug was coded as 1 for Control, 2 for Daidzein, and 3 for Genistein. Days 2,6, and 10 are coded by 1,2, and 3 respectively. ALP Activity was multiplied by a factor of  10^6. \n",
    "\n",
    "(a) Did the drug treatment or the time have an effect on the ALP activity? If so, which drug treatment group or time period had an inhibitory or stimulatory effect?\n",
    "\n",
    "(b) Was there a significant interaction between drug treatment and the time?\n",
    "\n",
    "\n",
    "## Model 1"
   ]
  },
  {
   "cell_type": "code",
   "execution_count": 17,
   "id": "a061bf7f",
   "metadata": {},
   "outputs": [],
   "source": [
    "data = pd.read_csv(\"../data/isoflavon_data.csv\")"
   ]
  },
  {
   "cell_type": "code",
   "execution_count": null,
   "id": "40ca4bec",
   "metadata": {},
   "outputs": [],
   "source": []
  },
  {
   "cell_type": "code",
   "execution_count": null,
   "id": "e19431d2",
   "metadata": {},
   "outputs": [],
   "source": []
  },
  {
   "cell_type": "markdown",
   "id": "3b12b12b",
   "metadata": {},
   "source": [
    "## Model 2"
   ]
  },
  {
   "cell_type": "code",
   "execution_count": null,
   "id": "e97f733b",
   "metadata": {},
   "outputs": [],
   "source": [
    "\n"
   ]
  },
  {
   "cell_type": "code",
   "execution_count": 18,
   "id": "8c903695",
   "metadata": {},
   "outputs": [
    {
     "name": "stdout",
     "output_type": "stream",
     "text": [
      "Python implementation: CPython\n",
      "Python version       : 3.10.1\n",
      "IPython version      : 7.31.0\n",
      "\n",
      "numpy : 1.22.0\n",
      "arviz : 0.11.4\n",
      "pymc  : 4.0.0b1\n",
      "pandas: 1.3.5\n",
      "\n"
     ]
    }
   ],
   "source": [
    "%watermark --iversions -v"
   ]
  },
  {
   "cell_type": "code",
   "execution_count": null,
   "id": "c51979f7",
   "metadata": {},
   "outputs": [],
   "source": []
  }
 ],
 "metadata": {
  "kernelspec": {
   "display_name": "Python 3 (ipykernel)",
   "language": "python",
   "name": "python3"
  },
  "language_info": {
   "codemirror_mode": {
    "name": "ipython",
    "version": 3
   },
   "file_extension": ".py",
   "mimetype": "text/x-python",
   "name": "python",
   "nbconvert_exporter": "python",
   "pygments_lexer": "ipython3",
   "version": "3.10.1"
  }
 },
 "nbformat": 4,
 "nbformat_minor": 5
}
