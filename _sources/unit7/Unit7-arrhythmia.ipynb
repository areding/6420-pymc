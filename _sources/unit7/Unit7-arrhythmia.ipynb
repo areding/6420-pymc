{
 "cells": [
  {
   "cell_type": "code",
   "execution_count": 85,
   "id": "494ee65e-af59-43a3-b236-900b82b6c029",
   "metadata": {
    "tags": [
     "hide_output"
    ]
   },
   "outputs": [
    {
     "name": "stdout",
     "output_type": "stream",
     "text": [
      "The watermark extension is already loaded. To reload it, use:\n",
      "  %reload_ext watermark\n"
     ]
    }
   ],
   "source": [
    "import arviz as az\n",
    "import numpy as np\n",
    "import pymc as pm\n",
    "from pymc.math import log, dot\n",
    "import pandas as pd\n",
    "%load_ext watermark"
   ]
  },
  {
   "cell_type": "markdown",
   "id": "673ad121-8b4b-4c62-8ea7-76edf0610836",
   "metadata": {},
   "source": [
    "# Arrhythmia\n",
    "\n",
    "Adapted from [Codes for Unit 7: arrhythmia.odc](https://www2.isye.gatech.edu/isye6420/supporting.html).\n",
    "\n",
    "Associated lecture video: [Unit 7 Lesson 15](https://www.youtube.com/watch?v=999v5stS8jw&list=PLv0FeK5oXK4l-RdT6DWJj0_upJOG2WKNO&index=77).\n",
    "\n",
    "Data can be found [here](https://raw.githubusercontent.com/areding/6420-pymc/main/data/arrhythmia.csv).\n",
    "\n",
    "Patients who undergo Coronary Artery Bypass Graft Surgery (CABG) have an approximate 19-40% chance of developing atrial fibrillation (AF). AF can lead to blood clots forming causing greater in-hospital mortality, strokes, and longer hospital stays. While this can be prevented with drugs, it is very expensive and sometimes dangerous if not warranted. Ideally, several risk factors which would indicate an increased risk of developing AF in this population could save lives and money by indicating which patients need pharmacological intervention. Researchers began collecting data from CABG patients during their hospital stay such as demographics like age and sex, as well as heart rate, cholesterol, operation time, etc.. Then, the researchers recorded which patients developed AF during their hospital stay. Researchers now want to find those pieces of data which indicate high risk of AF. In the past, indicators like age, hypertension, and body surface area (BSA) have been good indicators, though these alone have not produced a satisfactory solution.\n",
    "\n",
    "Fibrillation occurs when the heart muscle begins a quivering motion instead of a normal, healthy pumping rhythm. Fibrillation can affect the atrium (atrial fibrillation) or the ventricle (ventricular  fibrillation); ventricular fibrillation is imminently life threatening.\n",
    "\n",
    "Atrial fibrillation is the quivering, chaotic motion in the upper chambers of the heart, known as the atria. Atrial fibrillation is often due to serious underlying medical conditions, and should be evaluated by a physician. It is not typically a medical emergency.\n",
    "\n",
    "Ventricular fibrillation occurs in the ventricles (lower chambers) of the heart; it is always a medical emergency. If left untreated, ventricular fibrillation (VF, or V-fib) can lead to death within minutes. When a heart goes into V-fib, effective pumping of the blood stops. V-fib is considered a form of cardiac arrest, and an individual suffering from it will not survive unless cardiopulmonary resuscitation (CPR) and defibrillation are provided immediately.\n",
    "\n",
    "DATA Arrhythmia\n",
    "- Y = Fibrillation\n",
    "- X1 = Age\n",
    "- X2 = Aortic Cross Clamp Time\n",
    "- X3 = Cardiopulmonary Bypass Time:\n",
    "    - Bypass of the heart and lungs as, for example, in open heart surgery. Blood returning to the heart is diverted through a heart-lung machine (a pump-oxygenator) before returning it to the arterial circulation. The machine does the work both of the heart (pump blood) and the lungs (supply oxygen to red blood cells).\n",
    "- X4 = ICU Time\t(Intensive Care Unit)\n",
    "- X5 = Avg Heart Rate\t\n",
    "- X6 = Left Ventricle Ejection Fraction\n",
    "- X7 = Hypertension\n",
    "- X8 = Gender [1 -Female; 0-Male]\n",
    "- X9 = Diabetis\n",
    "- X10 = Previous MI\n",
    "\n",
    "\n",
    "----------------------------\n",
    "\n",
    "Just throwing this up real quick because it might be useful for homework 5. Note this is using PyMC 4.0 beta 3. I didn't add the residual calculation yet because I don't think it's required for this homework."
   ]
  },
  {
   "cell_type": "code",
   "execution_count": 24,
   "id": "027177e8-53da-4d0b-9d8e-3b3b3a67555e",
   "metadata": {},
   "outputs": [
    {
     "name": "stdout",
     "output_type": "stream",
     "text": [
      "numpy : 1.22.3\n",
      "pymc  : 4.0.0b3\n",
      "pandas: 1.4.1\n",
      "arviz : 0.11.4\n",
      "\n"
     ]
    }
   ],
   "source": [
    "%watermark --iversions"
   ]
  },
  {
   "cell_type": "code",
   "execution_count": 79,
   "id": "c60ed7f1-be2a-42f7-994f-ba5cb535fb45",
   "metadata": {},
   "outputs": [
    {
     "name": "stdout",
     "output_type": "stream",
     "text": [
      "<class 'pandas.core.frame.DataFrame'>\n",
      "RangeIndex: 81 entries, 0 to 80\n",
      "Data columns (total 11 columns):\n",
      " #   Column                         Non-Null Count  Dtype  \n",
      "---  ------                         --------------  -----  \n",
      " 0   Fibrillation                   81 non-null     float64\n",
      " 1   Age                            81 non-null     float64\n",
      " 2   AorticCrossClampTime           81 non-null     float64\n",
      " 3   CardiopulmonaryBypassTime      81 non-null     float64\n",
      " 4   ICUTime                        81 non-null     float64\n",
      " 5   AvgHeartRate                   81 non-null     float64\n",
      " 6   LeftVentricleEjectionFraction  81 non-null     float64\n",
      " 7   Hypertension                   81 non-null     float64\n",
      " 8   Gender                         81 non-null     float64\n",
      " 9   Diabetes                       81 non-null     float64\n",
      " 10  PreviousMI                     81 non-null     float64\n",
      "dtypes: float64(11)\n",
      "memory usage: 7.1 KB\n"
     ]
    }
   ],
   "source": [
    "data_df = pd.read_csv(\"./data/arrhythmia.csv\")\n",
    "data_df.info()\n",
    "X = data_df.iloc[:, 1:].values\n",
    "# add intercept column to X\n",
    "X_aug = np.concatenate((np.ones((X.shape[0], 1)), X), axis=1)\n",
    "y = data_df[\"Fibrillation\"].values"
   ]
  },
  {
   "cell_type": "code",
   "execution_count": 88,
   "id": "3cad48cf-3c93-400b-aaea-8fa999ca75bb",
   "metadata": {
    "tags": [
     "hide_output"
    ]
   },
   "outputs": [
    {
     "name": "stderr",
     "output_type": "stream",
     "text": [
      "/Users/aaron/mambaforge/envs/pymc-dev-py39/lib/python3.9/site-packages/pymc/data.py:647: FutureWarning: The `mutable` kwarg was not specified. Currently it defaults to `pm.Data(mutable=True)`, which is equivalent to using `pm.MutableData()`. In v4.1.0 the default will change to `pm.Data(mutable=False)`, equivalent to `pm.ConstantData`. Set `pm.Data(..., mutable=False/True)`, or use `pm.ConstantData`/`pm.MutableData`.\n",
      "  warnings.warn(\n",
      "Multiprocess sampling (4 chains in 4 jobs)\n",
      "NUTS: [beta]\n"
     ]
    },
    {
     "data": {
      "text/html": [
       "\n",
       "<style>\n",
       "    /* Turns off some styling */\n",
       "    progress {\n",
       "        /* gets rid of default border in Firefox and Opera. */\n",
       "        border: none;\n",
       "        /* Needs to be in here for Safari polyfill so background images work as expected. */\n",
       "        background-size: auto;\n",
       "    }\n",
       "    .progress-bar-interrupted, .progress-bar-interrupted::-webkit-progress-bar {\n",
       "        background: #F44336;\n",
       "    }\n",
       "</style>\n"
      ],
      "text/plain": [
       "<IPython.core.display.HTML object>"
      ]
     },
     "metadata": {},
     "output_type": "display_data"
    },
    {
     "data": {
      "text/html": [
       "\n",
       "    <div>\n",
       "      <progress value='42000' class='' max='42000' style='width:300px; height:20px; vertical-align: middle;'></progress>\n",
       "      100.00% [42000/42000 00:30<00:00 Sampling 4 chains, 0 divergences]\n",
       "    </div>\n",
       "    "
      ],
      "text/plain": [
       "<IPython.core.display.HTML object>"
      ]
     },
     "metadata": {},
     "output_type": "display_data"
    },
    {
     "name": "stderr",
     "output_type": "stream",
     "text": [
      "/Users/aaron/mambaforge/envs/pymc-dev-py39/lib/python3.9/site-packages/scipy/stats/_continuous_distns.py:624: RuntimeWarning: overflow encountered in _beta_ppf\n",
      "  return _boost._beta_ppf(q, a, b)\n",
      "/Users/aaron/mambaforge/envs/pymc-dev-py39/lib/python3.9/site-packages/scipy/stats/_continuous_distns.py:624: RuntimeWarning: overflow encountered in _beta_ppf\n",
      "  return _boost._beta_ppf(q, a, b)\n",
      "/Users/aaron/mambaforge/envs/pymc-dev-py39/lib/python3.9/site-packages/scipy/stats/_continuous_distns.py:624: RuntimeWarning: overflow encountered in _beta_ppf\n",
      "  return _boost._beta_ppf(q, a, b)\n",
      "/Users/aaron/mambaforge/envs/pymc-dev-py39/lib/python3.9/site-packages/scipy/stats/_continuous_distns.py:624: RuntimeWarning: overflow encountered in _beta_ppf\n",
      "  return _boost._beta_ppf(q, a, b)\n",
      "Sampling 4 chains for 500 tune and 10_000 draw iterations (2_000 + 40_000 draws total) took 37 seconds.\n",
      "/Users/aaron/mambaforge/envs/pymc-dev-py39/lib/python3.9/site-packages/pymc/backends/arviz.py:57: UserWarning: Could not extract data from symbolic observation y\n",
      "  warnings.warn(f\"Could not extract data from symbolic observation {obs}\")\n"
     ]
    }
   ],
   "source": [
    "with pm.Model() as m:\n",
    "    X_data = pm.Data(\"X_data\", X_aug)\n",
    "    y_data = pm.Data(\"y_data\", y)\n",
    "\n",
    "    betas = pm.Normal(\"beta\", mu=0, tau=0.001, shape=X.shape[1] + 1)\n",
    "\n",
    "    p = dot(X_data, betas)\n",
    "\n",
    "    lik = pm.Bernoulli(\"y\", logit_p=p, observed=y_data)\n",
    "\n",
    "    trace = pm.sample(\n",
    "        10000,\n",
    "        chains=4,\n",
    "        tune=500,\n",
    "        cores=4,\n",
    "        random_seed=1,\n",
    "    )"
   ]
  },
  {
   "cell_type": "code",
   "execution_count": 90,
   "id": "77a938f8-4263-4fc5-9a94-12ba495030a9",
   "metadata": {},
   "outputs": [
    {
     "data": {
      "text/html": [
       "<div>\n",
       "<style scoped>\n",
       "    .dataframe tbody tr th:only-of-type {\n",
       "        vertical-align: middle;\n",
       "    }\n",
       "\n",
       "    .dataframe tbody tr th {\n",
       "        vertical-align: top;\n",
       "    }\n",
       "\n",
       "    .dataframe thead th {\n",
       "        text-align: right;\n",
       "    }\n",
       "</style>\n",
       "<table border=\"1\" class=\"dataframe\">\n",
       "  <thead>\n",
       "    <tr style=\"text-align: right;\">\n",
       "      <th></th>\n",
       "      <th>mean</th>\n",
       "      <th>sd</th>\n",
       "      <th>hdi_2.5%</th>\n",
       "      <th>hdi_97.5%</th>\n",
       "      <th>mcse_mean</th>\n",
       "      <th>mcse_sd</th>\n",
       "      <th>ess_bulk</th>\n",
       "      <th>ess_tail</th>\n",
       "      <th>r_hat</th>\n",
       "    </tr>\n",
       "  </thead>\n",
       "  <tbody>\n",
       "    <tr>\n",
       "      <th>beta[0]</th>\n",
       "      <td>-13.114</td>\n",
       "      <td>4.920</td>\n",
       "      <td>-22.873</td>\n",
       "      <td>-3.672</td>\n",
       "      <td>0.039</td>\n",
       "      <td>0.027</td>\n",
       "      <td>16349.0</td>\n",
       "      <td>22260.0</td>\n",
       "      <td>1.0</td>\n",
       "    </tr>\n",
       "    <tr>\n",
       "      <th>beta[1]</th>\n",
       "      <td>0.189</td>\n",
       "      <td>0.050</td>\n",
       "      <td>0.098</td>\n",
       "      <td>0.292</td>\n",
       "      <td>0.000</td>\n",
       "      <td>0.000</td>\n",
       "      <td>21662.0</td>\n",
       "      <td>22611.0</td>\n",
       "      <td>1.0</td>\n",
       "    </tr>\n",
       "    <tr>\n",
       "      <th>beta[2]</th>\n",
       "      <td>0.033</td>\n",
       "      <td>0.026</td>\n",
       "      <td>-0.019</td>\n",
       "      <td>0.083</td>\n",
       "      <td>0.000</td>\n",
       "      <td>0.000</td>\n",
       "      <td>18511.0</td>\n",
       "      <td>23081.0</td>\n",
       "      <td>1.0</td>\n",
       "    </tr>\n",
       "    <tr>\n",
       "      <th>beta[3]</th>\n",
       "      <td>-0.024</td>\n",
       "      <td>0.016</td>\n",
       "      <td>-0.056</td>\n",
       "      <td>0.007</td>\n",
       "      <td>0.000</td>\n",
       "      <td>0.000</td>\n",
       "      <td>19296.0</td>\n",
       "      <td>23479.0</td>\n",
       "      <td>1.0</td>\n",
       "    </tr>\n",
       "    <tr>\n",
       "      <th>beta[4]</th>\n",
       "      <td>-0.154</td>\n",
       "      <td>0.096</td>\n",
       "      <td>-0.335</td>\n",
       "      <td>0.044</td>\n",
       "      <td>0.001</td>\n",
       "      <td>0.000</td>\n",
       "      <td>36226.0</td>\n",
       "      <td>25276.0</td>\n",
       "      <td>1.0</td>\n",
       "    </tr>\n",
       "    <tr>\n",
       "      <th>beta[5]</th>\n",
       "      <td>0.006</td>\n",
       "      <td>0.032</td>\n",
       "      <td>-0.057</td>\n",
       "      <td>0.068</td>\n",
       "      <td>0.000</td>\n",
       "      <td>0.000</td>\n",
       "      <td>25412.0</td>\n",
       "      <td>27080.0</td>\n",
       "      <td>1.0</td>\n",
       "    </tr>\n",
       "    <tr>\n",
       "      <th>beta[6]</th>\n",
       "      <td>0.025</td>\n",
       "      <td>0.028</td>\n",
       "      <td>-0.030</td>\n",
       "      <td>0.081</td>\n",
       "      <td>0.000</td>\n",
       "      <td>0.000</td>\n",
       "      <td>25144.0</td>\n",
       "      <td>27201.0</td>\n",
       "      <td>1.0</td>\n",
       "    </tr>\n",
       "    <tr>\n",
       "      <th>beta[7]</th>\n",
       "      <td>-0.662</td>\n",
       "      <td>0.674</td>\n",
       "      <td>-2.017</td>\n",
       "      <td>0.627</td>\n",
       "      <td>0.004</td>\n",
       "      <td>0.003</td>\n",
       "      <td>36451.0</td>\n",
       "      <td>27743.0</td>\n",
       "      <td>1.0</td>\n",
       "    </tr>\n",
       "    <tr>\n",
       "      <th>beta[8]</th>\n",
       "      <td>-0.328</td>\n",
       "      <td>0.693</td>\n",
       "      <td>-1.681</td>\n",
       "      <td>1.041</td>\n",
       "      <td>0.003</td>\n",
       "      <td>0.003</td>\n",
       "      <td>40394.0</td>\n",
       "      <td>27906.0</td>\n",
       "      <td>1.0</td>\n",
       "    </tr>\n",
       "    <tr>\n",
       "      <th>beta[9]</th>\n",
       "      <td>1.323</td>\n",
       "      <td>0.695</td>\n",
       "      <td>-0.006</td>\n",
       "      <td>2.720</td>\n",
       "      <td>0.004</td>\n",
       "      <td>0.003</td>\n",
       "      <td>27349.0</td>\n",
       "      <td>26665.0</td>\n",
       "      <td>1.0</td>\n",
       "    </tr>\n",
       "    <tr>\n",
       "      <th>beta[10]</th>\n",
       "      <td>0.400</td>\n",
       "      <td>0.701</td>\n",
       "      <td>-1.017</td>\n",
       "      <td>1.743</td>\n",
       "      <td>0.004</td>\n",
       "      <td>0.003</td>\n",
       "      <td>29531.0</td>\n",
       "      <td>26321.0</td>\n",
       "      <td>1.0</td>\n",
       "    </tr>\n",
       "  </tbody>\n",
       "</table>\n",
       "</div>"
      ],
      "text/plain": [
       "            mean     sd  hdi_2.5%  hdi_97.5%  mcse_mean  mcse_sd  ess_bulk  \\\n",
       "beta[0]  -13.114  4.920   -22.873     -3.672      0.039    0.027   16349.0   \n",
       "beta[1]    0.189  0.050     0.098      0.292      0.000    0.000   21662.0   \n",
       "beta[2]    0.033  0.026    -0.019      0.083      0.000    0.000   18511.0   \n",
       "beta[3]   -0.024  0.016    -0.056      0.007      0.000    0.000   19296.0   \n",
       "beta[4]   -0.154  0.096    -0.335      0.044      0.001    0.000   36226.0   \n",
       "beta[5]    0.006  0.032    -0.057      0.068      0.000    0.000   25412.0   \n",
       "beta[6]    0.025  0.028    -0.030      0.081      0.000    0.000   25144.0   \n",
       "beta[7]   -0.662  0.674    -2.017      0.627      0.004    0.003   36451.0   \n",
       "beta[8]   -0.328  0.693    -1.681      1.041      0.003    0.003   40394.0   \n",
       "beta[9]    1.323  0.695    -0.006      2.720      0.004    0.003   27349.0   \n",
       "beta[10]   0.400  0.701    -1.017      1.743      0.004    0.003   29531.0   \n",
       "\n",
       "          ess_tail  r_hat  \n",
       "beta[0]    22260.0    1.0  \n",
       "beta[1]    22611.0    1.0  \n",
       "beta[2]    23081.0    1.0  \n",
       "beta[3]    23479.0    1.0  \n",
       "beta[4]    25276.0    1.0  \n",
       "beta[5]    27080.0    1.0  \n",
       "beta[6]    27201.0    1.0  \n",
       "beta[7]    27743.0    1.0  \n",
       "beta[8]    27906.0    1.0  \n",
       "beta[9]    26665.0    1.0  \n",
       "beta[10]   26321.0    1.0  "
      ]
     },
     "execution_count": 90,
     "metadata": {},
     "output_type": "execute_result"
    }
   ],
   "source": [
    "az.summary(trace, hdi_prob=.95)"
   ]
  }
 ],
 "metadata": {
  "kernelspec": {
   "display_name": "Python 3 (ipykernel)",
   "language": "python",
   "name": "python3"
  },
  "language_info": {
   "codemirror_mode": {
    "name": "ipython",
    "version": 3
   },
   "file_extension": ".py",
   "mimetype": "text/x-python",
   "name": "python",
   "nbconvert_exporter": "python",
   "pygments_lexer": "ipython3",
   "version": "3.9.10"
  }
 },
 "nbformat": 4,
 "nbformat_minor": 5
}
