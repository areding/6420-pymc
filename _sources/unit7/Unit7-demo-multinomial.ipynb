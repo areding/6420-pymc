{
 "cells": [
  {
   "cell_type": "code",
   "execution_count": 1,
   "id": "c3c0f95b",
   "metadata": {},
   "outputs": [],
   "source": [
    "import pymc as pm\n",
    "import numpy as np\n",
    "import arviz as az\n",
    "import pytensor.tensor as pt"
   ]
  },
  {
   "cell_type": "markdown",
   "id": "32dff082",
   "metadata": {
    "tags": []
   },
   "source": [
    "# 17. Multinomial regression*\n",
    "\n",
    "Adapted from [Unit 7: NHANESmulti.odc](https://raw.githubusercontent.com/areding/6420-pymc/main/original_examples/Codes4Unit7/NHANESmulti.odc)"
   ]
  },
  {
   "cell_type": "markdown",
   "id": "aa7a52bc",
   "metadata": {},
   "source": [
    "## Problem statement\n",
    "\n",
    "The National Health and Nutrition Examination Survey (NHANES) is a program of studies designed to assess the health and nutritional status of adults and children in the United States. The survey is unique in that it combines interviews and physical examinations. \n",
    "\n",
    "Assume that $N$ subjects select a choice fromm $K$ categories. The $i\\text{-th}$ subject is characterized by 3 covariates ```x[i, 1]```, ```x[i, 2]```, and ```x[i, 3]```. Given the covariates, model the probability of a subject selecting the category $k$, where $k \\in \\{1,...,K\\}$.\n"
   ]
  },
  {
   "cell_type": "code",
   "execution_count": 2,
   "id": "075b1cc0",
   "metadata": {},
   "outputs": [],
   "source": [
    "# data\n",
    "# fmt: off\n",
    "y = np.array([[1, 0, 0, 0, 0],\n",
    "              [0, 1, 0, 0, 0],\n",
    "              [1, 0, 0, 0, 0],\n",
    "              [0, 0, 1, 0, 0],\n",
    "              [0, 1, 0, 0, 0],\n",
    "              [0, 0, 1, 0, 0],\n",
    "              [0, 0, 0, 1, 0],\n",
    "              [0, 0, 0, 0, 1],\n",
    "              [0, 0, 0, 0, 1],\n",
    "              [0, 0, 0, 1, 0]])\n",
    "\n",
    "X = np.array([[2, 4, 9],\n",
    "              [1, 5, 10],\n",
    "              [1, 6, 14],\n",
    "              [2, 4, 21],\n",
    "              [2, 4, 22],\n",
    "              [2, 6, 30],\n",
    "              [3, 3, 33],\n",
    "              [3, 2, 36],\n",
    "              [3, 1, 40],\n",
    "              [4, 1, 44]])\n",
    "# fmt: on"
   ]
  },
  {
   "cell_type": "code",
   "execution_count": 3,
   "id": "77c203a7",
   "metadata": {},
   "outputs": [],
   "source": [
    "# N = 10, P = 4  (intercept + 3 predictors)\n",
    "X_aug = np.concatenate((np.ones((X.shape[0], 1)), X), axis=1)\n",
    "N, P = X_aug.shape\n",
    "K = y.shape[1]"
   ]
  },
  {
   "cell_type": "markdown",
   "id": "b2da74fb",
   "metadata": {},
   "source": [
    "The Multinomial distribution has two parameters, $n$ and $p$. See the PyMC Documentation for the [Multinomial distribution class](https://www.pymc.io/projects/docs/en/stable/api/distributions/generated/pymc.Multinomial.html)\n",
    "\n",
    "| Argument | What it means | In this model |\n",
    "|-----------|---------------|---------------|\n",
    "| `n` | Total number of independent trials per replicate.  A Multinomial with $n = 1$ is a one‑hot vector. Must equal the sum (per-row) of the corresponding observed values.| Each survey respondent makes exactly one choice, so `n = 1`.|\n",
    "| `p` | Vector (or matrix) of category probabilities.  Must sum to 1 along the last axis. | We generate `p` with a softmax of the linear predictor $\\eta = X\\beta$.  Its shape is $(N, K)$, one probability vector per observation. |\n",
    "| **`observed`** | Either a one‑hot matrix ($n = 1$) or a count matrix (if $n > 1$).  Shape must match `p`. | For this example every row of `y` is one‑hot encoded. |"
   ]
  },
  {
   "cell_type": "code",
   "execution_count": 4,
   "id": "149a49a8",
   "metadata": {},
   "outputs": [
    {
     "name": "stderr",
     "output_type": "stream",
     "text": [
      "Initializing NUTS using jitter+adapt_diag...\n",
      "Multiprocess sampling (4 chains in 4 jobs)\n",
      "NUTS: [_beta]\n"
     ]
    },
    {
     "data": {
      "application/vnd.jupyter.widget-view+json": {
       "model_id": "b78aa2ebb8b049efbd4d7d43753b063f",
       "version_major": 2,
       "version_minor": 0
      },
      "text/plain": [
       "Output()"
      ]
     },
     "metadata": {},
     "output_type": "display_data"
    },
    {
     "data": {
      "text/html": [
       "<pre style=\"white-space:pre;overflow-x:auto;line-height:normal;font-family:Menlo,'DejaVu Sans Mono',consolas,'Courier New',monospace\"></pre>\n"
      ],
      "text/plain": []
     },
     "metadata": {},
     "output_type": "display_data"
    },
    {
     "name": "stderr",
     "output_type": "stream",
     "text": [
      "Sampling 4 chains for 1_000 tune and 10_000 draw iterations (4_000 + 40_000 draws total) took 23 seconds.\n"
     ]
    }
   ],
   "source": [
    "with pm.Model() as m:\n",
    "    y_data = pm.Data(\"y\", y)\n",
    "    X_data = pm.Data(\"X\", X_aug)\n",
    "\n",
    "    _beta = pm.Normal(\"_beta\", mu=0, tau=0.1, shape=(P, K - 1))\n",
    "    beta = pt.concatenate([pt.zeros((P, 1)), _beta], axis=1)\n",
    "\n",
    "    eta = pm.math.dot(X_data, beta)\n",
    "    p = pm.math.softmax(eta, axis=1)\n",
    "\n",
    "    pm.Multinomial(\"likelihood\", n=1, p=p, observed=y_data, shape=X_data.shape)\n",
    "\n",
    "    trace = pm.sample(10000)"
   ]
  },
  {
   "cell_type": "code",
   "execution_count": 5,
   "id": "3182cd04",
   "metadata": {},
   "outputs": [
    {
     "name": "stderr",
     "output_type": "stream",
     "text": [
      "Sampling: [likelihood]\n"
     ]
    },
    {
     "data": {
      "application/vnd.jupyter.widget-view+json": {
       "model_id": "b6e5459236f64dcca64ec7dcab38f832",
       "version_major": 2,
       "version_minor": 0
      },
      "text/plain": [
       "Output()"
      ]
     },
     "metadata": {},
     "output_type": "display_data"
    },
    {
     "data": {
      "text/html": [
       "<pre style=\"white-space:pre;overflow-x:auto;line-height:normal;font-family:Menlo,'DejaVu Sans Mono',consolas,'Courier New',monospace\"></pre>\n"
      ],
      "text/plain": []
     },
     "metadata": {},
     "output_type": "display_data"
    }
   ],
   "source": [
    "X_new = np.array([1, 3, 3, 30]).reshape((1, 4))\n",
    "\n",
    "with m:\n",
    "    pm.set_data({\"X\": X_new})\n",
    "    ppc = pm.sample_posterior_predictive(trace, predictions=True)"
   ]
  },
  {
   "cell_type": "code",
   "execution_count": 6,
   "id": "505d674c-2e40-406e-84a4-997cd0de4839",
   "metadata": {},
   "outputs": [
    {
     "data": {
      "text/html": [
       "<div>\n",
       "<style scoped>\n",
       "    .dataframe tbody tr th:only-of-type {\n",
       "        vertical-align: middle;\n",
       "    }\n",
       "\n",
       "    .dataframe tbody tr th {\n",
       "        vertical-align: top;\n",
       "    }\n",
       "\n",
       "    .dataframe thead th {\n",
       "        text-align: right;\n",
       "    }\n",
       "</style>\n",
       "<table border=\"1\" class=\"dataframe\">\n",
       "  <thead>\n",
       "    <tr style=\"text-align: right;\">\n",
       "      <th></th>\n",
       "      <th>mean</th>\n",
       "      <th>sd</th>\n",
       "      <th>hdi_3%</th>\n",
       "      <th>hdi_97%</th>\n",
       "      <th>mcse_mean</th>\n",
       "      <th>mcse_sd</th>\n",
       "      <th>ess_bulk</th>\n",
       "      <th>ess_tail</th>\n",
       "      <th>r_hat</th>\n",
       "    </tr>\n",
       "  </thead>\n",
       "  <tbody>\n",
       "    <tr>\n",
       "      <th>likelihood[0, 0]</th>\n",
       "      <td>0.007</td>\n",
       "      <td>0.086</td>\n",
       "      <td>0.0</td>\n",
       "      <td>0.0</td>\n",
       "      <td>0.000</td>\n",
       "      <td>0.002</td>\n",
       "      <td>39808.0</td>\n",
       "      <td>39808.0</td>\n",
       "      <td>1.0</td>\n",
       "    </tr>\n",
       "    <tr>\n",
       "      <th>likelihood[0, 1]</th>\n",
       "      <td>0.038</td>\n",
       "      <td>0.191</td>\n",
       "      <td>0.0</td>\n",
       "      <td>0.0</td>\n",
       "      <td>0.001</td>\n",
       "      <td>0.002</td>\n",
       "      <td>39180.0</td>\n",
       "      <td>39180.0</td>\n",
       "      <td>1.0</td>\n",
       "    </tr>\n",
       "    <tr>\n",
       "      <th>likelihood[0, 2]</th>\n",
       "      <td>0.116</td>\n",
       "      <td>0.320</td>\n",
       "      <td>0.0</td>\n",
       "      <td>1.0</td>\n",
       "      <td>0.002</td>\n",
       "      <td>0.002</td>\n",
       "      <td>40635.0</td>\n",
       "      <td>40000.0</td>\n",
       "      <td>1.0</td>\n",
       "    </tr>\n",
       "    <tr>\n",
       "      <th>likelihood[0, 3]</th>\n",
       "      <td>0.686</td>\n",
       "      <td>0.464</td>\n",
       "      <td>0.0</td>\n",
       "      <td>1.0</td>\n",
       "      <td>0.002</td>\n",
       "      <td>0.001</td>\n",
       "      <td>40664.0</td>\n",
       "      <td>40000.0</td>\n",
       "      <td>1.0</td>\n",
       "    </tr>\n",
       "    <tr>\n",
       "      <th>likelihood[0, 4]</th>\n",
       "      <td>0.153</td>\n",
       "      <td>0.360</td>\n",
       "      <td>0.0</td>\n",
       "      <td>1.0</td>\n",
       "      <td>0.002</td>\n",
       "      <td>0.002</td>\n",
       "      <td>40308.0</td>\n",
       "      <td>40000.0</td>\n",
       "      <td>1.0</td>\n",
       "    </tr>\n",
       "  </tbody>\n",
       "</table>\n",
       "</div>"
      ],
      "text/plain": [
       "                   mean     sd  hdi_3%  hdi_97%  mcse_mean  mcse_sd  ess_bulk  \\\n",
       "likelihood[0, 0]  0.007  0.086     0.0      0.0      0.000    0.002   39808.0   \n",
       "likelihood[0, 1]  0.038  0.191     0.0      0.0      0.001    0.002   39180.0   \n",
       "likelihood[0, 2]  0.116  0.320     0.0      1.0      0.002    0.002   40635.0   \n",
       "likelihood[0, 3]  0.686  0.464     0.0      1.0      0.002    0.001   40664.0   \n",
       "likelihood[0, 4]  0.153  0.360     0.0      1.0      0.002    0.002   40308.0   \n",
       "\n",
       "                  ess_tail  r_hat  \n",
       "likelihood[0, 0]   39808.0    1.0  \n",
       "likelihood[0, 1]   39180.0    1.0  \n",
       "likelihood[0, 2]   40000.0    1.0  \n",
       "likelihood[0, 3]   40000.0    1.0  \n",
       "likelihood[0, 4]   40000.0    1.0  "
      ]
     },
     "execution_count": 6,
     "metadata": {},
     "output_type": "execute_result"
    }
   ],
   "source": [
    "az.summary(ppc.predictions)"
   ]
  },
  {
   "cell_type": "markdown",
   "id": "b888ffd4",
   "metadata": {},
   "source": [
    "## Author\n",
    "\n",
    "Aaron Reding, May 2022 (updated April 2025)"
   ]
  },
  {
   "cell_type": "code",
   "execution_count": 7,
   "id": "718834d9",
   "metadata": {},
   "outputs": [
    {
     "name": "stdout",
     "output_type": "stream",
     "text": [
      "Last updated: Sun Apr 20 2025\n",
      "\n",
      "Python implementation: CPython\n",
      "Python version       : 3.12.7\n",
      "IPython version      : 8.29.0\n",
      "\n",
      "numpy   : 1.26.4\n",
      "pytensor: 2.30.2\n",
      "arviz   : 0.21.0\n",
      "pymc    : 5.22.0\n",
      "\n"
     ]
    }
   ],
   "source": [
    "%load_ext watermark\n",
    "%watermark -n -u -v -iv"
   ]
  },
  {
   "cell_type": "code",
   "execution_count": null,
   "id": "a62bdaea",
   "metadata": {},
   "outputs": [],
   "source": []
  }
 ],
 "metadata": {
  "kernelspec": {
   "display_name": "pymc_macos15",
   "language": "python",
   "name": "python3"
  },
  "language_info": {
   "codemirror_mode": {
    "name": "ipython",
    "version": 3
   },
   "file_extension": ".py",
   "mimetype": "text/x-python",
   "name": "python",
   "nbconvert_exporter": "python",
   "pygments_lexer": "ipython3",
   "version": "3.12.7"
  }
 },
 "nbformat": 4,
 "nbformat_minor": 5
}
