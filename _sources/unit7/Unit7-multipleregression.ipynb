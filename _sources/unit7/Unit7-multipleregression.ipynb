{
 "cells": [
  {
   "cell_type": "markdown",
   "id": "b7769635-6b4c-4bf4-a379-cd73e839d3c4",
   "metadata": {
    "editable": true,
    "slideshow": {
     "slide_type": ""
    },
    "tags": []
   },
   "source": [
    "# 12. Multiple Regression"
   ]
  },
  {
   "cell_type": "markdown",
   "id": "75331153-e7ba-44fc-8b82-ce96ddb6e51b",
   "metadata": {},
   "source": [
    "\n",
    "```{note}\n",
    "This page is a stub. I will try to update it over the semester with supplementary lecture notes—if you would like to request a certain page be finished first, please make an Ed Discussion post with your questions about the lecture.\n",
    "```"
   ]
  }
 ],
 "metadata": {
  "kernelspec": {
   "display_name": "Python 3 (ipykernel)",
   "language": "python",
   "name": "python3"
  },
  "language_info": {
   "codemirror_mode": {
    "name": "ipython",
    "version": 3
   },
   "file_extension": ".py",
   "mimetype": "text/x-python",
   "name": "python",
   "nbconvert_exporter": "python",
   "pygments_lexer": "ipython3",
   "version": "3.11.4"
  }
 },
 "nbformat": 4,
 "nbformat_minor": 5
}
