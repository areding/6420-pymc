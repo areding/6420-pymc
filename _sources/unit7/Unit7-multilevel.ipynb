{
 "cells": [
  {
   "cell_type": "markdown",
   "id": "2cd15c65-812c-44e3-ae5b-8bc070a6118c",
   "metadata": {},
   "source": [
    "# 18. Multilevel Models"
   ]
  },
  {
   "cell_type": "markdown",
   "id": "85badcda-e50e-47ad-a36d-51c1c7903452",
   "metadata": {},
   "source": [
    "\n",
    "```{note}\n",
    "This page is a stub. It will be updated over summer 2023 with supplementary lecture notes.\n",
    "```"
   ]
  }
 ],
 "metadata": {
  "kernelspec": {
   "display_name": "Python 3 (ipykernel)",
   "language": "python",
   "name": "python3"
  },
  "language_info": {
   "codemirror_mode": {
    "name": "ipython",
    "version": 3
   },
   "file_extension": ".py",
   "mimetype": "text/x-python",
   "name": "python",
   "nbconvert_exporter": "python",
   "pygments_lexer": "ipython3",
   "version": "3.11.0"
  }
 },
 "nbformat": 4,
 "nbformat_minor": 5
}
