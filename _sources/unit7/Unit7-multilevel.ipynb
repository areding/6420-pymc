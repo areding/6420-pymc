{
 "cells": [
  {
   "cell_type": "markdown",
   "id": "2cd15c65-812c-44e3-ae5b-8bc070a6118c",
   "metadata": {},
   "source": [
    "# 18. Multilevel Models"
   ]
  },
  {
   "cell_type": "code",
   "execution_count": null,
   "id": "403ee3c3-c75b-4cb9-9724-cfb5dd10f28a",
   "metadata": {},
   "outputs": [],
   "source": []
  }
 ],
 "metadata": {
  "kernelspec": {
   "display_name": "Python 3 (ipykernel)",
   "language": "python",
   "name": "python3"
  },
  "language_info": {
   "codemirror_mode": {
    "name": "ipython",
    "version": 3
   },
   "file_extension": ".py",
   "mimetype": "text/x-python",
   "name": "python",
   "nbconvert_exporter": "python",
   "pygments_lexer": "ipython3",
   "version": "3.11.0"
  }
 },
 "nbformat": 4,
 "nbformat_minor": 5
}
