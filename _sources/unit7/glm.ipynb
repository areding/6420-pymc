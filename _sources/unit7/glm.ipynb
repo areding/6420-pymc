{
 "cells": [
  {
   "cell_type": "markdown",
   "id": "109a7715",
   "metadata": {},
   "source": [
    "# Generalized linear models\n",
    "\n",
    "placeholder"
   ]
  },
  {
   "cell_type": "code",
   "execution_count": null,
   "id": "4d7e1559",
   "metadata": {},
   "outputs": [],
   "source": []
  }
 ],
 "metadata": {
  "kernelspec": {
   "display_name": "Python 3 (ipykernel)",
   "language": "python",
   "name": "python3"
  },
  "language_info": {
   "codemirror_mode": {
    "name": "ipython",
    "version": 3
   },
   "file_extension": ".py",
   "mimetype": "text/x-python",
   "name": "python",
   "nbconvert_exporter": "python",
   "pygments_lexer": "ipython3",
   "version": "3.10.4"
  }
 },
 "nbformat": 4,
 "nbformat_minor": 5
}
