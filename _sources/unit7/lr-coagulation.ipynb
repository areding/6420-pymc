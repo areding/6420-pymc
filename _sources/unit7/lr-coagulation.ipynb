{
 "cells": [
  {
   "cell_type": "code",
   "execution_count": 1,
   "id": "5074e9a3",
   "metadata": {
    "tags": [
     "hide-output"
    ]
   },
   "outputs": [],
   "source": [
    "import pymc as pm\n",
    "import numpy as np\n",
    "import arviz as az\n",
    "from itertools import combinations\n",
    "\n",
    "%load_ext lab_black\n",
    "%load_ext watermark"
   ]
  },
  {
   "cell_type": "markdown",
   "id": "d0d4ac84",
   "metadata": {},
   "source": [
    "# Coagulation\n",
    "\n",
    "An example of Bayesian ANOVA.\n",
    "\n",
    "Adapted from [Unit 7: anovacoagulation.odc](https://raw.githubusercontent.com/areding/6420-pymc/main/original_examples/Codes4Unit7/anovacoagulation.odc).\n",
    "\n",
    "Associated lecture video: Unit 7 lecture 7"
   ]
  },
  {
   "cell_type": "markdown",
   "id": "195a19bd",
   "metadata": {},
   "source": [
    "## Problem statement\n",
    "\n",
    "Here 24 animals are randomly allocated to 4 different diets,  but the numbers allocated to different diets are not the same. The coagulation time for blood is measured for each animal. Are the diet-based differences significant?\n",
    "\n",
    "\n",
    "\n",
    "[Box, Hunter, Hunter; Statistics for Experimenters, p. 166](https://pages.stat.wisc.edu/~yxu/Teaching/16%20spring%20Stat602/%5bGeorge_E._P._Box,_J._Stuart_Hunter,_William_G._Hu(BookZZ.org).pdf)"
   ]
  },
  {
   "cell_type": "code",
   "execution_count": 2,
   "id": "3ace28c7",
   "metadata": {},
   "outputs": [
    {
     "data": {
      "text/plain": [
       "{1: [62, 60, 63, 59],\n",
       " 2: [63, 67, 71, 64, 65, 66],\n",
       " 3: [68, 66, 71, 67, 68, 68],\n",
       " 4: [56, 62, 60, 61, 63, 64, 63, 59]}"
      ]
     },
     "execution_count": 2,
     "metadata": {},
     "output_type": "execute_result"
    }
   ],
   "source": [
    "# cut and pasted data from .odc file\n",
    "# fmt: off\n",
    "times = (62, 60, 63, 59, 63, 67, 71, 64, 65, 66, 68, 66, 71, 67, 68, 68, 56, 62,\n",
    "         60, 61, 63, 64, 63, 59)\n",
    "diets = (1, 1, 1, 1, 2, 2, 2, 2, 2, 2, 3, 3, 3, 3, 3, 3, 4, 4, 4, 4, 4, 4, 4, 4)\n",
    "# fmt: on\n",
    "\n",
    "# create dictionary where each key is a diet and values are lists of times\n",
    "data = {}\n",
    "for key, val in zip(diets, times):\n",
    "    data.setdefault(key, []).append(val)\n",
    "data"
   ]
  },
  {
   "cell_type": "markdown",
   "id": "fbfa5f14",
   "metadata": {},
   "source": [
    "## Simple method\n",
    "\n",
    "No loops! If you're using this style, 4 treatments is probably the max before it starts to get too annoying to type out."
   ]
  },
  {
   "cell_type": "code",
   "execution_count": 3,
   "id": "47256140",
   "metadata": {
    "tags": [
     "hide-output"
    ]
   },
   "outputs": [
    {
     "name": "stderr",
     "output_type": "stream",
     "text": [
      "Auto-assigning NUTS sampler...\n",
      "Initializing NUTS using jitter+adapt_diag...\n",
      "Multiprocess sampling (4 chains in 4 jobs)\n",
      "NUTS: [μ0, τ, α4, α3, α2]\n",
      "/Users/aaron/mambaforge/envs/pymc_env2/lib/python3.11/site-packages/multipledispatch/dispatcher.py:27: AmbiguityWarning: \n",
      "Ambiguities exist in dispatched function _unify\n",
      "\n",
      "The following signatures may result in ambiguous behavior:\n",
      "\t[ConstrainedVar, object, Mapping], [object, ConstrainedVar, Mapping]\n",
      "\t[object, ConstrainedVar, Mapping], [ConstrainedVar, object, Mapping]\n",
      "\t[ConstrainedVar, Var, Mapping], [object, ConstrainedVar, Mapping]\n",
      "\t[object, ConstrainedVar, Mapping], [ConstrainedVar, Var, Mapping]\n",
      "\n",
      "\n",
      "Consider making the following additions:\n",
      "\n",
      "@dispatch(ConstrainedVar, ConstrainedVar, Mapping)\n",
      "def _unify(...)\n",
      "\n",
      "@dispatch(ConstrainedVar, ConstrainedVar, Mapping)\n",
      "def _unify(...)\n",
      "\n",
      "@dispatch(ConstrainedVar, ConstrainedVar, Mapping)\n",
      "def _unify(...)\n",
      "\n",
      "@dispatch(ConstrainedVar, ConstrainedVar, Mapping)\n",
      "def _unify(...)\n",
      "  warn(warning_text(dispatcher.name, ambiguities), AmbiguityWarning)\n"
     ]
    },
    {
     "data": {
      "text/html": [
       "\n",
       "<style>\n",
       "    /* Turns off some styling */\n",
       "    progress {\n",
       "        /* gets rid of default border in Firefox and Opera. */\n",
       "        border: none;\n",
       "        /* Needs to be in here for Safari polyfill so background images work as expected. */\n",
       "        background-size: auto;\n",
       "    }\n",
       "    progress:not([value]), progress:not([value])::-webkit-progress-bar {\n",
       "        background: repeating-linear-gradient(45deg, #7e7e7e, #7e7e7e 10px, #5c5c5c 10px, #5c5c5c 20px);\n",
       "    }\n",
       "    .progress-bar-interrupted, .progress-bar-interrupted::-webkit-progress-bar {\n",
       "        background: #F44336;\n",
       "    }\n",
       "</style>\n"
      ],
      "text/plain": [
       "<IPython.core.display.HTML object>"
      ]
     },
     "metadata": {},
     "output_type": "display_data"
    },
    {
     "data": {
      "text/html": [
       "\n",
       "    <div>\n",
       "      <progress value='24000' class='' max='24000' style='width:300px; height:20px; vertical-align: middle;'></progress>\n",
       "      100.00% [24000/24000 00:16&lt;00:00 Sampling 4 chains, 0 divergences]\n",
       "    </div>\n",
       "    "
      ],
      "text/plain": [
       "<IPython.core.display.HTML object>"
      ]
     },
     "metadata": {},
     "output_type": "display_data"
    },
    {
     "name": "stderr",
     "output_type": "stream",
     "text": [
      "Sampling 4 chains for 1_000 tune and 5_000 draw iterations (4_000 + 20_000 draws total) took 21 seconds.\n"
     ]
    }
   ],
   "source": [
    "with pm.Model() as m:\n",
    "    mu0 = pm.Normal(\"μ0\", mu=0, tau=0.0001)\n",
    "    tau = pm.Gamma(\"τ\", 0.001, 0.001)\n",
    "\n",
    "    alpha4 = pm.Normal(\"α4\", mu=0, tau=0.0001)\n",
    "    alpha3 = pm.Normal(\"α3\", mu=0, tau=0.0001)\n",
    "    alpha2 = pm.Normal(\"α2\", mu=0, tau=0.0001)\n",
    "    # sum-to-zero constraint\n",
    "    alpha1 = pm.Deterministic(\"α1\", -(alpha2 + alpha3 + alpha4))\n",
    "\n",
    "    mu_1 = mu0 + alpha1\n",
    "    mu_2 = mu0 + alpha2\n",
    "    mu_3 = mu0 + alpha3\n",
    "    mu_4 = mu0 + alpha4\n",
    "\n",
    "    pm.Normal(\"lik1\", mu=mu_1, tau=tau, observed=data[1])\n",
    "    pm.Normal(\"lik2\", mu=mu_2, tau=tau, observed=data[2])\n",
    "    pm.Normal(\"lik3\", mu=mu_3, tau=tau, observed=data[3])\n",
    "    pm.Normal(\"lik4\", mu=mu_4, tau=tau, observed=data[4])\n",
    "\n",
    "    onetwo = pm.Deterministic(\"α1-α2\", alpha1 - alpha2)\n",
    "    onethree = pm.Deterministic(\"α1-α3\", alpha1 - alpha3)\n",
    "    onefour = pm.Deterministic(\"α1-α4\", alpha1 - alpha4)\n",
    "    twothree = pm.Deterministic(\"α2-α3\", alpha2 - alpha3)\n",
    "    twofour = pm.Deterministic(\"α2-α4\", alpha2 - alpha4)\n",
    "    threefour = pm.Deterministic(\"α3-α4\", alpha3 - alpha4)\n",
    "\n",
    "    trace = pm.sample(5000)"
   ]
  },
  {
   "cell_type": "code",
   "execution_count": 4,
   "id": "a1f8ef11",
   "metadata": {},
   "outputs": [
    {
     "data": {
      "text/html": [
       "<div>\n",
       "<style scoped>\n",
       "    .dataframe tbody tr th:only-of-type {\n",
       "        vertical-align: middle;\n",
       "    }\n",
       "\n",
       "    .dataframe tbody tr th {\n",
       "        vertical-align: top;\n",
       "    }\n",
       "\n",
       "    .dataframe thead th {\n",
       "        text-align: right;\n",
       "    }\n",
       "</style>\n",
       "<table border=\"1\" class=\"dataframe\">\n",
       "  <thead>\n",
       "    <tr style=\"text-align: right;\">\n",
       "      <th></th>\n",
       "      <th>mean</th>\n",
       "      <th>sd</th>\n",
       "      <th>hdi_3%</th>\n",
       "      <th>hdi_97%</th>\n",
       "    </tr>\n",
       "  </thead>\n",
       "  <tbody>\n",
       "    <tr>\n",
       "      <th>α4</th>\n",
       "      <td>-2.995</td>\n",
       "      <td>0.812</td>\n",
       "      <td>-4.545</td>\n",
       "      <td>-1.451</td>\n",
       "    </tr>\n",
       "    <tr>\n",
       "      <th>α3</th>\n",
       "      <td>4.001</td>\n",
       "      <td>0.898</td>\n",
       "      <td>2.313</td>\n",
       "      <td>5.725</td>\n",
       "    </tr>\n",
       "    <tr>\n",
       "      <th>α2</th>\n",
       "      <td>1.995</td>\n",
       "      <td>0.892</td>\n",
       "      <td>0.281</td>\n",
       "      <td>3.648</td>\n",
       "    </tr>\n",
       "    <tr>\n",
       "      <th>α1</th>\n",
       "      <td>-3.002</td>\n",
       "      <td>1.028</td>\n",
       "      <td>-4.900</td>\n",
       "      <td>-1.009</td>\n",
       "    </tr>\n",
       "    <tr>\n",
       "      <th>α1-α2</th>\n",
       "      <td>-4.998</td>\n",
       "      <td>1.616</td>\n",
       "      <td>-8.063</td>\n",
       "      <td>-1.993</td>\n",
       "    </tr>\n",
       "    <tr>\n",
       "      <th>α1-α3</th>\n",
       "      <td>-7.004</td>\n",
       "      <td>1.619</td>\n",
       "      <td>-9.995</td>\n",
       "      <td>-3.856</td>\n",
       "    </tr>\n",
       "    <tr>\n",
       "      <th>α1-α4</th>\n",
       "      <td>-0.008</td>\n",
       "      <td>1.522</td>\n",
       "      <td>-2.940</td>\n",
       "      <td>2.815</td>\n",
       "    </tr>\n",
       "    <tr>\n",
       "      <th>α2-α3</th>\n",
       "      <td>-2.006</td>\n",
       "      <td>1.445</td>\n",
       "      <td>-4.692</td>\n",
       "      <td>0.802</td>\n",
       "    </tr>\n",
       "    <tr>\n",
       "      <th>α2-α4</th>\n",
       "      <td>4.990</td>\n",
       "      <td>1.344</td>\n",
       "      <td>2.494</td>\n",
       "      <td>7.572</td>\n",
       "    </tr>\n",
       "    <tr>\n",
       "      <th>α3-α4</th>\n",
       "      <td>6.996</td>\n",
       "      <td>1.354</td>\n",
       "      <td>4.448</td>\n",
       "      <td>9.569</td>\n",
       "    </tr>\n",
       "  </tbody>\n",
       "</table>\n",
       "</div>"
      ],
      "text/plain": [
       "        mean     sd  hdi_3%  hdi_97%\n",
       "α4    -2.995  0.812  -4.545   -1.451\n",
       "α3     4.001  0.898   2.313    5.725\n",
       "α2     1.995  0.892   0.281    3.648\n",
       "α1    -3.002  1.028  -4.900   -1.009\n",
       "α1-α2 -4.998  1.616  -8.063   -1.993\n",
       "α1-α3 -7.004  1.619  -9.995   -3.856\n",
       "α1-α4 -0.008  1.522  -2.940    2.815\n",
       "α2-α3 -2.006  1.445  -4.692    0.802\n",
       "α2-α4  4.990  1.344   2.494    7.572\n",
       "α3-α4  6.996  1.354   4.448    9.569"
      ]
     },
     "execution_count": 4,
     "metadata": {},
     "output_type": "execute_result"
    }
   ],
   "source": [
    "az.summary(trace, var_names=[\"α\"], filter_vars=\"like\", kind=\"stats\")"
   ]
  },
  {
   "cell_type": "code",
   "execution_count": 5,
   "id": "a8f1e0d4",
   "metadata": {},
   "outputs": [
    {
     "data": {
      "text/plain": [
       "array([<AxesSubplot: title={'center': '94.0% HDI'}>], dtype=object)"
      ]
     },
     "execution_count": 5,
     "metadata": {},
     "output_type": "execute_result"
    },
    {
     "data": {
      "image/png": "[encoded data removed]",
      "text/plain": [
       "<Figure size 600x860 with 1 Axes>"
      ]
     },
     "metadata": {},
     "output_type": "display_data"
    }
   ],
   "source": [
    "az.plot_forest(trace, var_names=[\"α1\", \"α2\", \"α3\", \"α4\"])"
   ]
  },
  {
   "cell_type": "code",
   "execution_count": 6,
   "id": "675ce0bb",
   "metadata": {},
   "outputs": [
    {
     "data": {
      "text/plain": [
       "array([<AxesSubplot: title={'center': '94.0% HDI'}>], dtype=object)"
      ]
     },
     "execution_count": 6,
     "metadata": {},
     "output_type": "execute_result"
    },
    {
     "data": {
      "image/png": "[encoded data removed]",
      "text/plain": [
       "<Figure size 600x1140 with 1 Axes>"
      ]
     },
     "metadata": {},
     "output_type": "display_data"
    }
   ],
   "source": [
    "az.plot_forest(trace, var_names=[\"~τ\", \"~μ0\", \"~α1\", \"~α2\", \"~α3\", \"~α4\"])"
   ]
  },
  {
   "cell_type": "markdown",
   "id": "ec7443cc",
   "metadata": {},
   "source": [
    "## A more concise method\n",
    "Not necessarily pretty, but easier to extend to more treatments. I'm interested in seeing other peoples' methods here; I feel like this could still be a lot cleaner."
   ]
  },
  {
   "cell_type": "code",
   "execution_count": 7,
   "id": "3b43b405",
   "metadata": {},
   "outputs": [
    {
     "data": {
      "text/plain": [
       "[(0, 1), (0, 2), (0, 3), (1, 2), (1, 3), (2, 3)]"
      ]
     },
     "execution_count": 7,
     "metadata": {},
     "output_type": "execute_result"
    }
   ],
   "source": [
    "# get possible combinations\n",
    "combos = list(combinations(range(4), 2))\n",
    "combos"
   ]
  },
  {
   "cell_type": "code",
   "execution_count": 8,
   "id": "9801d470",
   "metadata": {
    "tags": [
     "hide-output"
    ]
   },
   "outputs": [
    {
     "name": "stderr",
     "output_type": "stream",
     "text": [
      "Auto-assigning NUTS sampler...\n",
      "Initializing NUTS using jitter+adapt_diag...\n",
      "Multiprocess sampling (4 chains in 4 jobs)\n",
      "NUTS: [μ0, τ, α2, α3, α4]\n"
     ]
    },
    {
     "data": {
      "text/html": [
       "\n",
       "<style>\n",
       "    /* Turns off some styling */\n",
       "    progress {\n",
       "        /* gets rid of default border in Firefox and Opera. */\n",
       "        border: none;\n",
       "        /* Needs to be in here for Safari polyfill so background images work as expected. */\n",
       "        background-size: auto;\n",
       "    }\n",
       "    progress:not([value]), progress:not([value])::-webkit-progress-bar {\n",
       "        background: repeating-linear-gradient(45deg, #7e7e7e, #7e7e7e 10px, #5c5c5c 10px, #5c5c5c 20px);\n",
       "    }\n",
       "    .progress-bar-interrupted, .progress-bar-interrupted::-webkit-progress-bar {\n",
       "        background: #F44336;\n",
       "    }\n",
       "</style>\n"
      ],
      "text/plain": [
       "<IPython.core.display.HTML object>"
      ]
     },
     "metadata": {},
     "output_type": "display_data"
    },
    {
     "data": {
      "text/html": [
       "\n",
       "    <div>\n",
       "      <progress value='24000' class='' max='24000' style='width:300px; height:20px; vertical-align: middle;'></progress>\n",
       "      100.00% [24000/24000 00:10&lt;00:00 Sampling 4 chains, 0 divergences]\n",
       "    </div>\n",
       "    "
      ],
      "text/plain": [
       "<IPython.core.display.HTML object>"
      ]
     },
     "metadata": {},
     "output_type": "display_data"
    },
    {
     "name": "stderr",
     "output_type": "stream",
     "text": [
      "Sampling 4 chains for 1_000 tune and 5_000 draw iterations (4_000 + 20_000 draws total) took 27 seconds.\n"
     ]
    }
   ],
   "source": [
    "with pm.Model() as m:\n",
    "    mu0 = pm.Normal(\"μ0\", mu=0, tau=0.0001)\n",
    "    tau = pm.Gamma(\"τ\", 0.001, 0.001)\n",
    "\n",
    "    alphas = [pm.Normal(f\"α{i}\", mu=0, tau=0.0001) for i in range(2, 5)]\n",
    "\n",
    "    # sum-to-zero constraint\n",
    "    alphas.insert(0, pm.Deterministic(\"α1\", -(alphas[0] + alphas[1] + alphas[2])))\n",
    "\n",
    "    mus = [\n",
    "        pm.Deterministic(f\"mu{i + 1}\", mu0 + alpha) for i, alpha in enumerate(alphas)\n",
    "    ]\n",
    "\n",
    "    likelihoods = [\n",
    "        pm.Normal(f\"lik{i + 1}\", mu=mus[i], tau=tau, observed=data[i + 1])\n",
    "        for i, mu in enumerate(mus)\n",
    "    ]\n",
    "\n",
    "    [pm.Deterministic(f\"α{i + 1} - α{j + 1}\", alphas[i] - alphas[j]) for i, j in combos]\n",
    "\n",
    "    trace = pm.sample(5000)"
   ]
  },
  {
   "cell_type": "code",
   "execution_count": 9,
   "id": "f8e34c05",
   "metadata": {},
   "outputs": [
    {
     "data": {
      "text/html": [
       "<div>\n",
       "<style scoped>\n",
       "    .dataframe tbody tr th:only-of-type {\n",
       "        vertical-align: middle;\n",
       "    }\n",
       "\n",
       "    .dataframe tbody tr th {\n",
       "        vertical-align: top;\n",
       "    }\n",
       "\n",
       "    .dataframe thead th {\n",
       "        text-align: right;\n",
       "    }\n",
       "</style>\n",
       "<table border=\"1\" class=\"dataframe\">\n",
       "  <thead>\n",
       "    <tr style=\"text-align: right;\">\n",
       "      <th></th>\n",
       "      <th>mean</th>\n",
       "      <th>sd</th>\n",
       "      <th>hdi_3%</th>\n",
       "      <th>hdi_97%</th>\n",
       "    </tr>\n",
       "  </thead>\n",
       "  <tbody>\n",
       "    <tr>\n",
       "      <th>α2</th>\n",
       "      <td>1.993</td>\n",
       "      <td>0.893</td>\n",
       "      <td>0.262</td>\n",
       "      <td>3.612</td>\n",
       "    </tr>\n",
       "    <tr>\n",
       "      <th>α3</th>\n",
       "      <td>4.002</td>\n",
       "      <td>0.887</td>\n",
       "      <td>2.364</td>\n",
       "      <td>5.706</td>\n",
       "    </tr>\n",
       "    <tr>\n",
       "      <th>α4</th>\n",
       "      <td>-3.000</td>\n",
       "      <td>0.822</td>\n",
       "      <td>-4.540</td>\n",
       "      <td>-1.431</td>\n",
       "    </tr>\n",
       "    <tr>\n",
       "      <th>α1</th>\n",
       "      <td>-2.995</td>\n",
       "      <td>1.040</td>\n",
       "      <td>-4.914</td>\n",
       "      <td>-0.979</td>\n",
       "    </tr>\n",
       "    <tr>\n",
       "      <th>α1 - α2</th>\n",
       "      <td>-4.988</td>\n",
       "      <td>1.627</td>\n",
       "      <td>-8.166</td>\n",
       "      <td>-2.008</td>\n",
       "    </tr>\n",
       "    <tr>\n",
       "      <th>α1 - α3</th>\n",
       "      <td>-6.997</td>\n",
       "      <td>1.627</td>\n",
       "      <td>-9.994</td>\n",
       "      <td>-3.866</td>\n",
       "    </tr>\n",
       "    <tr>\n",
       "      <th>α1 - α4</th>\n",
       "      <td>0.005</td>\n",
       "      <td>1.541</td>\n",
       "      <td>-2.954</td>\n",
       "      <td>2.839</td>\n",
       "    </tr>\n",
       "    <tr>\n",
       "      <th>α2 - α3</th>\n",
       "      <td>-2.009</td>\n",
       "      <td>1.424</td>\n",
       "      <td>-4.701</td>\n",
       "      <td>0.701</td>\n",
       "    </tr>\n",
       "    <tr>\n",
       "      <th>α2 - α4</th>\n",
       "      <td>4.993</td>\n",
       "      <td>1.363</td>\n",
       "      <td>2.390</td>\n",
       "      <td>7.527</td>\n",
       "    </tr>\n",
       "    <tr>\n",
       "      <th>α3 - α4</th>\n",
       "      <td>7.002</td>\n",
       "      <td>1.348</td>\n",
       "      <td>4.442</td>\n",
       "      <td>9.526</td>\n",
       "    </tr>\n",
       "  </tbody>\n",
       "</table>\n",
       "</div>"
      ],
      "text/plain": [
       "          mean     sd  hdi_3%  hdi_97%\n",
       "α2       1.993  0.893   0.262    3.612\n",
       "α3       4.002  0.887   2.364    5.706\n",
       "α4      -3.000  0.822  -4.540   -1.431\n",
       "α1      -2.995  1.040  -4.914   -0.979\n",
       "α1 - α2 -4.988  1.627  -8.166   -2.008\n",
       "α1 - α3 -6.997  1.627  -9.994   -3.866\n",
       "α1 - α4  0.005  1.541  -2.954    2.839\n",
       "α2 - α3 -2.009  1.424  -4.701    0.701\n",
       "α2 - α4  4.993  1.363   2.390    7.527\n",
       "α3 - α4  7.002  1.348   4.442    9.526"
      ]
     },
     "execution_count": 9,
     "metadata": {},
     "output_type": "execute_result"
    }
   ],
   "source": [
    "az.summary(trace, var_names=[\"α\"], filter_vars=\"like\", kind=\"stats\")"
   ]
  },
  {
   "cell_type": "code",
   "execution_count": 10,
   "id": "74133f95",
   "metadata": {},
   "outputs": [
    {
     "name": "stdout",
     "output_type": "stream",
     "text": [
      "Last updated: Fri Feb 03 2023\n",
      "\n",
      "Python implementation: CPython\n",
      "Python version       : 3.11.0\n",
      "IPython version      : 8.9.0\n",
      "\n",
      "aesara: 2.8.10\n",
      "aeppl : 0.1.1\n",
      "\n",
      "numpy: 1.24.1\n",
      "pymc : 5.0.1\n",
      "arviz: 0.14.0\n",
      "\n"
     ]
    }
   ],
   "source": [
    "%watermark -n -u -v -iv -p aesara,aeppl"
   ]
  },
  {
   "cell_type": "code",
   "execution_count": null,
   "id": "054298a2",
   "metadata": {},
   "outputs": [],
   "source": []
  }
 ],
 "metadata": {
  "kernelspec": {
   "display_name": "Python 3 (ipykernel)",
   "language": "python",
   "name": "python3"
  },
  "language_info": {
   "codemirror_mode": {
    "name": "ipython",
    "version": 3
   },
   "file_extension": ".py",
   "mimetype": "text/x-python",
   "name": "python",
   "nbconvert_exporter": "python",
   "pygments_lexer": "ipython3",
   "version": "3.11.0"
  }
 },
 "nbformat": 4,
 "nbformat_minor": 5
}
