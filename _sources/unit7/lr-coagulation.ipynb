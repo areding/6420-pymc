{
 "cells": [
  {
   "cell_type": "code",
   "execution_count": 1,
   "id": "0a40fc8e",
   "metadata": {
    "tags": [
     "hide_output"
    ]
   },
   "outputs": [],
   "source": [
    "import pymc as pm\n",
    "import numpy as np\n",
    "import arviz as az\n",
    "from itertools import combinations\n",
    "\n",
    "%load_ext lab_black\n",
    "%load_ext watermark"
   ]
  },
  {
   "cell_type": "markdown",
   "id": "9e2014eb",
   "metadata": {},
   "source": [
    "# Coagulation\n",
    "\n",
    "An example of Bayesian ANOVA.\n",
    "\n",
    "Adapted from [unit 7: anovacoagulation.odc](https://raw.githubusercontent.com/areding/6420-pymc/main/original_examples/Codes4Unit7/anovacoagulation.odc).\n",
    "\n",
    "The first lecture uses fat1.odc, but that file wasn't provided. You can see the code in the Lesson 11 video, though. It just uses the X8 predictor.\n",
    "\n",
    "Data can be found [here](https://raw.githubusercontent.com/areding/6420-pymc/main/data/fat.tsv).\n",
    "\n",
    "## Associated lecture video: Unit 7 Lecture 7"
   ]
  },
  {
   "cell_type": "code",
   "execution_count": 2,
   "id": "86f90eb9",
   "metadata": {
    "tags": [
     "hide_input"
    ]
   },
   "outputs": [
    {
     "data": {
      "text/html": [
       "<iframe width=\"560\" height=\"315\" src=\"https://www.youtube.com/embed?v=xomK4tcePmc&list=PLv0FeK5oXK4l-RdT6DWJj0_upJOG2WKNO&index=69\" frameborder=\"0\" allow=\"autoplay; encrypted-media\" allowfullscreen></iframe>\n"
      ],
      "text/plain": [
       "<IPython.core.display.HTML object>"
      ]
     },
     "metadata": {},
     "output_type": "display_data"
    }
   ],
   "source": [
    "%%html\n",
    "<iframe width=\"560\" height=\"315\" src=\"https://www.youtube.com/embed?v=xomK4tcePmc&list=PLv0FeK5oXK4l-RdT6DWJj0_upJOG2WKNO&index=69\" frameborder=\"0\" allow=\"autoplay; encrypted-media\" allowfullscreen></iframe>"
   ]
  },
  {
   "cell_type": "markdown",
   "id": "3d689e95",
   "metadata": {},
   "source": [
    "## Problem statement\n",
    "\n",
    "Here 24 animals are randomly allocated to 4 different diets,  but the numbers allocated to different diets are not the same. The coagulation time for blood is measured for each animal. Are the diet-based differences significant?\n",
    "\n",
    "\n",
    "\n",
    "[Box, Hunter, Hunter; Statistics for Experimenters, p. 166](https://pages.stat.wisc.edu/~yxu/Teaching/16%20spring%20Stat602/%5bGeorge_E._P._Box,_J._Stuart_Hunter,_William_G._Hu(BookZZ.org).pdf)"
   ]
  },
  {
   "cell_type": "code",
   "execution_count": 3,
   "id": "30c5514c",
   "metadata": {},
   "outputs": [
    {
     "data": {
      "text/plain": [
       "{1: [62, 60, 63, 59],\n",
       " 2: [63, 67, 71, 64, 65, 66],\n",
       " 3: [68, 66, 71, 67, 68, 68],\n",
       " 4: [56, 62, 60, 61, 63, 64, 63, 59]}"
      ]
     },
     "execution_count": 3,
     "metadata": {},
     "output_type": "execute_result"
    }
   ],
   "source": [
    "# cut and pasted data from .odc file\n",
    "# fmt: off\n",
    "times = (62, 60, 63, 59, 63, 67, 71, 64, 65, 66, 68, 66, 71, 67, 68, 68, 56, 62,\n",
    "         60, 61, 63, 64, 63, 59)\n",
    "diets = (1, 1, 1, 1, 2, 2, 2, 2, 2, 2, 3, 3, 3, 3, 3, 3, 4, 4, 4, 4, 4, 4, 4, 4)\n",
    "# fmt: on\n",
    "\n",
    "# create dictionary where each key is a diet and values are lists of times\n",
    "data = {}\n",
    "for key, val in zip(diets, times):\n",
    "    data.setdefault(key, []).append(val)\n",
    "data"
   ]
  },
  {
   "cell_type": "markdown",
   "id": "f9d51799",
   "metadata": {},
   "source": [
    "## Simple method\n",
    "\n",
    "No loops! If you're using this style, 4 treatments is probably the max before it starts to get too annoying to type out."
   ]
  },
  {
   "cell_type": "code",
   "execution_count": 4,
   "id": "686e9ea0",
   "metadata": {
    "tags": [
     "hide_output"
    ]
   },
   "outputs": [
    {
     "name": "stderr",
     "output_type": "stream",
     "text": [
      "Auto-assigning NUTS sampler...\n",
      "Initializing NUTS using jitter+adapt_diag...\n",
      "Multiprocess sampling (4 chains in 4 jobs)\n",
      "NUTS: [μ0, τ, α4, α3, α2]\n"
     ]
    },
    {
     "data": {
      "text/html": [
       "\n",
       "<style>\n",
       "    /* Turns off some styling */\n",
       "    progress {\n",
       "        /* gets rid of default border in Firefox and Opera. */\n",
       "        border: none;\n",
       "        /* Needs to be in here for Safari polyfill so background images work as expected. */\n",
       "        background-size: auto;\n",
       "    }\n",
       "    .progress-bar-interrupted, .progress-bar-interrupted::-webkit-progress-bar {\n",
       "        background: #F44336;\n",
       "    }\n",
       "</style>\n"
      ],
      "text/plain": [
       "<IPython.core.display.HTML object>"
      ]
     },
     "metadata": {},
     "output_type": "display_data"
    },
    {
     "data": {
      "text/html": [
       "\n",
       "    <div>\n",
       "      <progress value='24000' class='' max='24000' style='width:300px; height:20px; vertical-align: middle;'></progress>\n",
       "      100.00% [24000/24000 00:20<00:00 Sampling 4 chains, 0 divergences]\n",
       "    </div>\n",
       "    "
      ],
      "text/plain": [
       "<IPython.core.display.HTML object>"
      ]
     },
     "metadata": {},
     "output_type": "display_data"
    },
    {
     "name": "stderr",
     "output_type": "stream",
     "text": [
      "Sampling 4 chains for 1_000 tune and 5_000 draw iterations (4_000 + 20_000 draws total) took 40 seconds.\n"
     ]
    }
   ],
   "source": [
    "with pm.Model() as m:\n",
    "    mu0 = pm.Normal(\"μ0\", mu=0, tau=0.0001)\n",
    "    tau = pm.Gamma(\"τ\", 0.001, 0.001)\n",
    "\n",
    "    alpha4 = pm.Normal(\"α4\", mu=0, tau=0.0001)\n",
    "    alpha3 = pm.Normal(\"α3\", mu=0, tau=0.0001)\n",
    "    alpha2 = pm.Normal(\"α2\", mu=0, tau=0.0001)\n",
    "    # sum-to-zero constraint\n",
    "    alpha1 = pm.Deterministic(\"α1\", -(alpha2 + alpha3 + alpha4))\n",
    "\n",
    "    mu_1 = mu0 + alpha1\n",
    "    mu_2 = mu0 + alpha2\n",
    "    mu_3 = mu0 + alpha3\n",
    "    mu_4 = mu0 + alpha4\n",
    "\n",
    "    pm.Normal(\"lik1\", mu=mu_1, tau=tau, observed=data[1])\n",
    "    pm.Normal(\"lik2\", mu=mu_2, tau=tau, observed=data[2])\n",
    "    pm.Normal(\"lik3\", mu=mu_3, tau=tau, observed=data[3])\n",
    "    pm.Normal(\"lik4\", mu=mu_4, tau=tau, observed=data[4])\n",
    "\n",
    "    onetwo = pm.Deterministic(\"α1-α2\", alpha1 - alpha2)\n",
    "    onethree = pm.Deterministic(\"α1-α3\", alpha1 - alpha3)\n",
    "    onefour = pm.Deterministic(\"α1-α4\", alpha1 - alpha4)\n",
    "    twothree = pm.Deterministic(\"α2-α3\", alpha2 - alpha3)\n",
    "    twofour = pm.Deterministic(\"α2-α4\", alpha2 - alpha4)\n",
    "    threefour = pm.Deterministic(\"α3-α4\", alpha3 - alpha4)\n",
    "\n",
    "    trace = pm.sample(5000)"
   ]
  },
  {
   "cell_type": "code",
   "execution_count": 5,
   "id": "777d7e60",
   "metadata": {},
   "outputs": [
    {
     "data": {
      "text/html": [
       "<div>\n",
       "<style scoped>\n",
       "    .dataframe tbody tr th:only-of-type {\n",
       "        vertical-align: middle;\n",
       "    }\n",
       "\n",
       "    .dataframe tbody tr th {\n",
       "        vertical-align: top;\n",
       "    }\n",
       "\n",
       "    .dataframe thead th {\n",
       "        text-align: right;\n",
       "    }\n",
       "</style>\n",
       "<table border=\"1\" class=\"dataframe\">\n",
       "  <thead>\n",
       "    <tr style=\"text-align: right;\">\n",
       "      <th></th>\n",
       "      <th>mean</th>\n",
       "      <th>sd</th>\n",
       "      <th>hdi_3%</th>\n",
       "      <th>hdi_97%</th>\n",
       "    </tr>\n",
       "  </thead>\n",
       "  <tbody>\n",
       "    <tr>\n",
       "      <th>α4</th>\n",
       "      <td>-2.995</td>\n",
       "      <td>0.810</td>\n",
       "      <td>-4.598</td>\n",
       "      <td>-1.532</td>\n",
       "    </tr>\n",
       "    <tr>\n",
       "      <th>α3</th>\n",
       "      <td>4.008</td>\n",
       "      <td>0.901</td>\n",
       "      <td>2.308</td>\n",
       "      <td>5.696</td>\n",
       "    </tr>\n",
       "    <tr>\n",
       "      <th>α2</th>\n",
       "      <td>1.995</td>\n",
       "      <td>0.888</td>\n",
       "      <td>0.314</td>\n",
       "      <td>3.644</td>\n",
       "    </tr>\n",
       "    <tr>\n",
       "      <th>α1</th>\n",
       "      <td>-3.008</td>\n",
       "      <td>1.035</td>\n",
       "      <td>-4.989</td>\n",
       "      <td>-1.071</td>\n",
       "    </tr>\n",
       "    <tr>\n",
       "      <th>α1-α2</th>\n",
       "      <td>-5.003</td>\n",
       "      <td>1.620</td>\n",
       "      <td>-8.073</td>\n",
       "      <td>-2.002</td>\n",
       "    </tr>\n",
       "    <tr>\n",
       "      <th>α1-α3</th>\n",
       "      <td>-7.017</td>\n",
       "      <td>1.636</td>\n",
       "      <td>-10.009</td>\n",
       "      <td>-3.845</td>\n",
       "    </tr>\n",
       "    <tr>\n",
       "      <th>α1-α4</th>\n",
       "      <td>-0.013</td>\n",
       "      <td>1.521</td>\n",
       "      <td>-2.871</td>\n",
       "      <td>2.847</td>\n",
       "    </tr>\n",
       "    <tr>\n",
       "      <th>α2-α3</th>\n",
       "      <td>-2.013</td>\n",
       "      <td>1.435</td>\n",
       "      <td>-4.776</td>\n",
       "      <td>0.617</td>\n",
       "    </tr>\n",
       "    <tr>\n",
       "      <th>α2-α4</th>\n",
       "      <td>4.990</td>\n",
       "      <td>1.342</td>\n",
       "      <td>2.493</td>\n",
       "      <td>7.568</td>\n",
       "    </tr>\n",
       "    <tr>\n",
       "      <th>α3-α4</th>\n",
       "      <td>7.003</td>\n",
       "      <td>1.357</td>\n",
       "      <td>4.499</td>\n",
       "      <td>9.567</td>\n",
       "    </tr>\n",
       "  </tbody>\n",
       "</table>\n",
       "</div>"
      ],
      "text/plain": [
       "        mean     sd  hdi_3%  hdi_97%\n",
       "α4    -2.995  0.810  -4.598   -1.532\n",
       "α3     4.008  0.901   2.308    5.696\n",
       "α2     1.995  0.888   0.314    3.644\n",
       "α1    -3.008  1.035  -4.989   -1.071\n",
       "α1-α2 -5.003  1.620  -8.073   -2.002\n",
       "α1-α3 -7.017  1.636 -10.009   -3.845\n",
       "α1-α4 -0.013  1.521  -2.871    2.847\n",
       "α2-α3 -2.013  1.435  -4.776    0.617\n",
       "α2-α4  4.990  1.342   2.493    7.568\n",
       "α3-α4  7.003  1.357   4.499    9.567"
      ]
     },
     "execution_count": 5,
     "metadata": {},
     "output_type": "execute_result"
    }
   ],
   "source": [
    "az.summary(trace, var_names=[\"α\"], filter_vars=\"like\", kind=\"stats\")"
   ]
  },
  {
   "cell_type": "code",
   "execution_count": 6,
   "id": "96a44e6d",
   "metadata": {},
   "outputs": [
    {
     "data": {
      "text/plain": [
       "array([<AxesSubplot:title={'center':'94.0% HDI'}>], dtype=object)"
      ]
     },
     "execution_count": 6,
     "metadata": {},
     "output_type": "execute_result"
    },
    {
     "data": {
      "image/png": "[encoded data removed]",
      "text/plain": [
       "<Figure size 432x619.2 with 1 Axes>"
      ]
     },
     "metadata": {
      "needs_background": "light"
     },
     "output_type": "display_data"
    }
   ],
   "source": [
    "az.plot_forest(trace, var_names=[\"α1\", \"α2\", \"α3\", \"α4\"])"
   ]
  },
  {
   "cell_type": "code",
   "execution_count": 7,
   "id": "d999fea2",
   "metadata": {},
   "outputs": [
    {
     "data": {
      "text/plain": [
       "array([<AxesSubplot:title={'center':'94.0% HDI'}>], dtype=object)"
      ]
     },
     "execution_count": 7,
     "metadata": {},
     "output_type": "execute_result"
    },
    {
     "data": {
      "image/png": "[encoded data removed]",
      "text/plain": [
       "<Figure size 432x820.8 with 1 Axes>"
      ]
     },
     "metadata": {
      "needs_background": "light"
     },
     "output_type": "display_data"
    }
   ],
   "source": [
    "az.plot_forest(trace, var_names=[\"~τ\", \"~μ0\", \"~α1\", \"~α2\", \"~α3\", \"~α4\"])"
   ]
  },
  {
   "cell_type": "markdown",
   "id": "cd7340dd",
   "metadata": {},
   "source": [
    "## A more concise method\n",
    "Not necessarily pretty, but easier to extend to more treatments. I'm interested in seeing other peoples' methods here; I feel like this could still be a lot cleaner."
   ]
  },
  {
   "cell_type": "code",
   "execution_count": 8,
   "id": "3a567a46",
   "metadata": {},
   "outputs": [
    {
     "data": {
      "text/plain": [
       "[(0, 1), (0, 2), (0, 3), (1, 2), (1, 3), (2, 3)]"
      ]
     },
     "execution_count": 8,
     "metadata": {},
     "output_type": "execute_result"
    }
   ],
   "source": [
    "# get possible combinations\n",
    "combos = list(combinations(range(4), 2))\n",
    "combos"
   ]
  },
  {
   "cell_type": "code",
   "execution_count": 9,
   "id": "b2ac7851",
   "metadata": {
    "tags": [
     "hide_output"
    ]
   },
   "outputs": [
    {
     "name": "stderr",
     "output_type": "stream",
     "text": [
      "Auto-assigning NUTS sampler...\n",
      "Initializing NUTS using jitter+adapt_diag...\n",
      "Multiprocess sampling (4 chains in 4 jobs)\n",
      "NUTS: [μ0, τ, α2, α3, α4]\n"
     ]
    },
    {
     "data": {
      "text/html": [
       "\n",
       "<style>\n",
       "    /* Turns off some styling */\n",
       "    progress {\n",
       "        /* gets rid of default border in Firefox and Opera. */\n",
       "        border: none;\n",
       "        /* Needs to be in here for Safari polyfill so background images work as expected. */\n",
       "        background-size: auto;\n",
       "    }\n",
       "    .progress-bar-interrupted, .progress-bar-interrupted::-webkit-progress-bar {\n",
       "        background: #F44336;\n",
       "    }\n",
       "</style>\n"
      ],
      "text/plain": [
       "<IPython.core.display.HTML object>"
      ]
     },
     "metadata": {},
     "output_type": "display_data"
    },
    {
     "data": {
      "text/html": [
       "\n",
       "    <div>\n",
       "      <progress value='24000' class='' max='24000' style='width:300px; height:20px; vertical-align: middle;'></progress>\n",
       "      100.00% [24000/24000 00:16<00:00 Sampling 4 chains, 0 divergences]\n",
       "    </div>\n",
       "    "
      ],
      "text/plain": [
       "<IPython.core.display.HTML object>"
      ]
     },
     "metadata": {},
     "output_type": "display_data"
    },
    {
     "name": "stderr",
     "output_type": "stream",
     "text": [
      "Sampling 4 chains for 1_000 tune and 5_000 draw iterations (4_000 + 20_000 draws total) took 35 seconds.\n"
     ]
    }
   ],
   "source": [
    "with pm.Model() as m:\n",
    "    mu0 = pm.Normal(\"μ0\", mu=0, tau=0.0001)\n",
    "    tau = pm.Gamma(\"τ\", 0.001, 0.001)\n",
    "\n",
    "    alphas = [pm.Normal(f\"α{i}\", mu=0, tau=0.0001) for i in range(2, 5)]\n",
    "\n",
    "    # sum-to-zero constraint\n",
    "    alphas.insert(0, pm.Deterministic(\"α1\", -(alphas[0] + alphas[1] + alphas[2])))\n",
    "\n",
    "    mus = [\n",
    "        pm.Deterministic(f\"mu{i + 1}\", mu0 + alpha) for i, alpha in enumerate(alphas)\n",
    "    ]\n",
    "\n",
    "    likelihoods = [\n",
    "        pm.Normal(f\"lik{i + 1}\", mu=mus[i], tau=tau, observed=data[i + 1])\n",
    "        for i, mu in enumerate(mus)\n",
    "    ]\n",
    "\n",
    "    [pm.Deterministic(f\"α{i + 1} - α{j + 1}\", alphas[i] - alphas[j]) for i, j in combos]\n",
    "\n",
    "    trace = pm.sample(5000)"
   ]
  },
  {
   "cell_type": "code",
   "execution_count": 10,
   "id": "d4556081",
   "metadata": {},
   "outputs": [
    {
     "data": {
      "text/html": [
       "<div>\n",
       "<style scoped>\n",
       "    .dataframe tbody tr th:only-of-type {\n",
       "        vertical-align: middle;\n",
       "    }\n",
       "\n",
       "    .dataframe tbody tr th {\n",
       "        vertical-align: top;\n",
       "    }\n",
       "\n",
       "    .dataframe thead th {\n",
       "        text-align: right;\n",
       "    }\n",
       "</style>\n",
       "<table border=\"1\" class=\"dataframe\">\n",
       "  <thead>\n",
       "    <tr style=\"text-align: right;\">\n",
       "      <th></th>\n",
       "      <th>mean</th>\n",
       "      <th>sd</th>\n",
       "      <th>hdi_3%</th>\n",
       "      <th>hdi_97%</th>\n",
       "    </tr>\n",
       "  </thead>\n",
       "  <tbody>\n",
       "    <tr>\n",
       "      <th>α2</th>\n",
       "      <td>1.990</td>\n",
       "      <td>0.892</td>\n",
       "      <td>0.268</td>\n",
       "      <td>3.614</td>\n",
       "    </tr>\n",
       "    <tr>\n",
       "      <th>α3</th>\n",
       "      <td>4.004</td>\n",
       "      <td>0.901</td>\n",
       "      <td>2.315</td>\n",
       "      <td>5.714</td>\n",
       "    </tr>\n",
       "    <tr>\n",
       "      <th>α4</th>\n",
       "      <td>-2.991</td>\n",
       "      <td>0.807</td>\n",
       "      <td>-4.464</td>\n",
       "      <td>-1.400</td>\n",
       "    </tr>\n",
       "    <tr>\n",
       "      <th>α1</th>\n",
       "      <td>-3.003</td>\n",
       "      <td>1.024</td>\n",
       "      <td>-4.859</td>\n",
       "      <td>-0.998</td>\n",
       "    </tr>\n",
       "    <tr>\n",
       "      <th>α1 - α2</th>\n",
       "      <td>-4.993</td>\n",
       "      <td>1.612</td>\n",
       "      <td>-8.111</td>\n",
       "      <td>-2.011</td>\n",
       "    </tr>\n",
       "    <tr>\n",
       "      <th>α1 - α3</th>\n",
       "      <td>-7.007</td>\n",
       "      <td>1.612</td>\n",
       "      <td>-10.085</td>\n",
       "      <td>-3.980</td>\n",
       "    </tr>\n",
       "    <tr>\n",
       "      <th>α1 - α4</th>\n",
       "      <td>-0.012</td>\n",
       "      <td>1.518</td>\n",
       "      <td>-2.903</td>\n",
       "      <td>2.842</td>\n",
       "    </tr>\n",
       "    <tr>\n",
       "      <th>α2 - α3</th>\n",
       "      <td>-2.014</td>\n",
       "      <td>1.455</td>\n",
       "      <td>-4.695</td>\n",
       "      <td>0.771</td>\n",
       "    </tr>\n",
       "    <tr>\n",
       "      <th>α2 - α4</th>\n",
       "      <td>4.981</td>\n",
       "      <td>1.331</td>\n",
       "      <td>2.440</td>\n",
       "      <td>7.457</td>\n",
       "    </tr>\n",
       "    <tr>\n",
       "      <th>α3 - α4</th>\n",
       "      <td>6.995</td>\n",
       "      <td>1.355</td>\n",
       "      <td>4.527</td>\n",
       "      <td>9.661</td>\n",
       "    </tr>\n",
       "  </tbody>\n",
       "</table>\n",
       "</div>"
      ],
      "text/plain": [
       "          mean     sd  hdi_3%  hdi_97%\n",
       "α2       1.990  0.892   0.268    3.614\n",
       "α3       4.004  0.901   2.315    5.714\n",
       "α4      -2.991  0.807  -4.464   -1.400\n",
       "α1      -3.003  1.024  -4.859   -0.998\n",
       "α1 - α2 -4.993  1.612  -8.111   -2.011\n",
       "α1 - α3 -7.007  1.612 -10.085   -3.980\n",
       "α1 - α4 -0.012  1.518  -2.903    2.842\n",
       "α2 - α3 -2.014  1.455  -4.695    0.771\n",
       "α2 - α4  4.981  1.331   2.440    7.457\n",
       "α3 - α4  6.995  1.355   4.527    9.661"
      ]
     },
     "execution_count": 10,
     "metadata": {},
     "output_type": "execute_result"
    }
   ],
   "source": [
    "az.summary(trace, var_names=[\"α\"], filter_vars=\"like\", kind=\"stats\")"
   ]
  },
  {
   "cell_type": "code",
   "execution_count": 11,
   "id": "4c93120d",
   "metadata": {},
   "outputs": [
    {
     "name": "stdout",
     "output_type": "stream",
     "text": [
      "Python implementation: CPython\n",
      "Python version       : 3.10.4\n",
      "IPython version      : 8.4.0\n",
      "\n",
      "arviz: 0.12.1\n",
      "numpy: 1.22.4\n",
      "pymc : 4.0.0\n",
      "\n"
     ]
    }
   ],
   "source": [
    "%watermark --iversions -v"
   ]
  },
  {
   "cell_type": "code",
   "execution_count": null,
   "id": "1bc8d347",
   "metadata": {},
   "outputs": [],
   "source": []
  }
 ],
 "metadata": {
  "kernelspec": {
   "display_name": "Python 3 (ipykernel)",
   "language": "python",
   "name": "python3"
  },
  "language_info": {
   "codemirror_mode": {
    "name": "ipython",
    "version": 3
   },
   "file_extension": ".py",
   "mimetype": "text/x-python",
   "name": "python",
   "nbconvert_exporter": "python",
   "pygments_lexer": "ipython3",
   "version": "3.10.4"
  }
 },
 "nbformat": 4,
 "nbformat_minor": 5
}
