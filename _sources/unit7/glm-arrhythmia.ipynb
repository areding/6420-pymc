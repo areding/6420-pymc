{
 "cells": [
  {
   "cell_type": "code",
   "execution_count": 3,
   "id": "17935cd4",
   "metadata": {
    "tags": [
     "hide_output"
    ]
   },
   "outputs": [],
   "source": [
    "import arviz as az\n",
    "import numpy as np\n",
    "import pymc as pm\n",
    "from pymc.math import log, dot\n",
    "import pandas as pd\n",
    "\n",
    "%load_ext lab_black\n",
    "%load_ext watermark"
   ]
  },
  {
   "cell_type": "markdown",
   "id": "627e7bb5",
   "metadata": {},
   "source": [
    "# Arrhythmia\n",
    "\n",
    "A logistic regression example.\n",
    "\n",
    "Adapted from [unit 7: arrhythmia.odc](https://raw.githubusercontent.com/areding/6420-pymc/main/original_examples/Codes4Unit7/arrhythmia.odc).\n",
    "\n",
    "Data can be found [here](https://raw.githubusercontent.com/areding/6420-pymc/main/data/arrhythmia.csv).\n",
    "\n",
    "## Associated lecture video: Unit 7 Lesson 15"
   ]
  },
  {
   "cell_type": "code",
   "execution_count": 4,
   "id": "a955346f",
   "metadata": {
    "tags": [
     "hide_input"
    ]
   },
   "outputs": [
    {
     "data": {
      "text/html": [
       "<iframe width=\"560\" height=\"315\" src=\"https://www.youtube.com/embed?v=xomK4tcePmc&list=PLv0FeK5oXK4l-RdT6DWJj0_upJOG2WKNO&index=77\" frameborder=\"0\" allow=\"autoplay; encrypted-media\" allowfullscreen></iframe>\n"
      ],
      "text/plain": [
       "<IPython.core.display.HTML object>"
      ]
     },
     "metadata": {},
     "output_type": "display_data"
    }
   ],
   "source": [
    "%%html\n",
    "<iframe width=\"560\" height=\"315\" src=\"https://www.youtube.com/embed?v=xomK4tcePmc&list=PLv0FeK5oXK4l-RdT6DWJj0_upJOG2WKNO&index=77\" frameborder=\"0\" allow=\"autoplay; encrypted-media\" allowfullscreen></iframe>"
   ]
  },
  {
   "cell_type": "markdown",
   "id": "628efdb1",
   "metadata": {},
   "source": [
    "## Problem statement\n",
    "\n",
    "Patients who undergo Coronary Artery Bypass Graft Surgery (CABG) have an approximate 19-40% chance of developing atrial fibrillation (AF). AF can lead to blood clots forming causing greater in-hospital mortality, strokes, and longer hospital stays. While this can be prevented with drugs, it is very expensive and sometimes dangerous if not warranted. Ideally, several risk factors which would indicate an increased risk of developing AF in this population could save lives and money by indicating which patients need pharmacological intervention. Researchers began collecting data from CABG patients during their hospital stay such as demographics like age and sex, as well as heart rate, cholesterol, operation time, etc.. Then, the researchers recorded which patients developed AF during their hospital stay. Researchers now want to find those pieces of data which indicate high risk of AF. In the past, indicators like age, hypertension, and body surface area (BSA) have been good indicators, though these alone have not produced a satisfactory solution.\n",
    "\n",
    "Fibrillation occurs when the heart muscle begins a quivering motion instead of a normal, healthy pumping rhythm. Fibrillation can affect the atrium (atrial fibrillation) or the ventricle (ventricular  fibrillation); ventricular fibrillation is imminently life threatening.\n",
    "\n",
    "Atrial fibrillation is the quivering, chaotic motion in the upper chambers of the heart, known as the atria. Atrial fibrillation is often due to serious underlying medical conditions, and should be evaluated by a physician. It is not typically a medical emergency.\n",
    "\n",
    "Ventricular fibrillation occurs in the ventricles (lower chambers) of the heart; it is always a medical emergency. If left untreated, ventricular fibrillation (VF, or V-fib) can lead to death within minutes. When a heart goes into V-fib, effective pumping of the blood stops. V-fib is considered a form of cardiac arrest, and an individual suffering from it will not survive unless cardiopulmonary resuscitation (CPR) and defibrillation are provided immediately.\n",
    "\n",
    "DATA Arrhythmia\n",
    "- Y = Fibrillation\n",
    "- X1 = Age\n",
    "- X2 = Aortic Cross Clamp Time\n",
    "- X3 = Cardiopulmonary Bypass Time:\n",
    "    - Bypass of the heart and lungs as, for example, in open heart surgery. Blood returning to the heart is diverted through a heart-lung machine (a pump-oxygenator) before returning it to the arterial circulation. The machine does the work both of the heart (pump blood) and the lungs (supply oxygen to red blood cells).\n",
    "- X4 = ICU Time\t(Intensive Care Unit)\n",
    "- X5 = Avg Heart Rate\t\n",
    "- X6 = Left Ventricle Ejection Fraction\n",
    "- X7 = Hypertension\n",
    "- X8 = Gender [1 -Female; 0-Male]\n",
    "- X9 = Diabetis\n",
    "- X10 = Previous MI"
   ]
  },
  {
   "cell_type": "code",
   "execution_count": 6,
   "id": "8beb722c",
   "metadata": {},
   "outputs": [
    {
     "name": "stdout",
     "output_type": "stream",
     "text": [
      "<class 'pandas.core.frame.DataFrame'>\n",
      "RangeIndex: 81 entries, 0 to 80\n",
      "Data columns (total 11 columns):\n",
      " #   Column                         Non-Null Count  Dtype  \n",
      "---  ------                         --------------  -----  \n",
      " 0   Fibrillation                   81 non-null     float64\n",
      " 1   Age                            81 non-null     float64\n",
      " 2   AorticCrossClampTime           81 non-null     float64\n",
      " 3   CardiopulmonaryBypassTime      81 non-null     float64\n",
      " 4   ICUTime                        81 non-null     float64\n",
      " 5   AvgHeartRate                   81 non-null     float64\n",
      " 6   LeftVentricleEjectionFraction  81 non-null     float64\n",
      " 7   Hypertension                   81 non-null     float64\n",
      " 8   Gender                         81 non-null     float64\n",
      " 9   Diabetes                       81 non-null     float64\n",
      " 10  PreviousMI                     81 non-null     float64\n",
      "dtypes: float64(11)\n",
      "memory usage: 7.1 KB\n"
     ]
    }
   ],
   "source": [
    "data_df = pd.read_csv(\"../data/arrhythmia.csv\")\n",
    "data_df.info()\n",
    "X = data_df.iloc[:, 1:].to_numpy()\n",
    "# add intercept column to X\n",
    "X_aug = np.concatenate((np.ones((X.shape[0], 1)), X), axis=1)\n",
    "y = data_df[\"Fibrillation\"].to_numpy()"
   ]
  },
  {
   "cell_type": "code",
   "execution_count": 7,
   "id": "47387102",
   "metadata": {
    "tags": [
     "hide_output"
    ]
   },
   "outputs": [
    {
     "name": "stderr",
     "output_type": "stream",
     "text": [
      "/Users/aaron/mambaforge/envs/pymc_env/lib/python3.10/site-packages/pymc/data.py:647: FutureWarning: The `mutable` kwarg was not specified. Currently it defaults to `pm.Data(mutable=True)`, which is equivalent to using `pm.MutableData()`. In v4.1.0 the default will change to `pm.Data(mutable=False)`, equivalent to `pm.ConstantData`. Set `pm.Data(..., mutable=False/True)`, or use `pm.ConstantData`/`pm.MutableData`.\n",
      "  warnings.warn(\n",
      "Auto-assigning NUTS sampler...\n",
      "Initializing NUTS using jitter+adapt_diag...\n",
      "Multiprocess sampling (4 chains in 4 jobs)\n",
      "NUTS: [beta]\n"
     ]
    },
    {
     "data": {
      "text/html": [
       "\n",
       "<style>\n",
       "    /* Turns off some styling */\n",
       "    progress {\n",
       "        /* gets rid of default border in Firefox and Opera. */\n",
       "        border: none;\n",
       "        /* Needs to be in here for Safari polyfill so background images work as expected. */\n",
       "        background-size: auto;\n",
       "    }\n",
       "    .progress-bar-interrupted, .progress-bar-interrupted::-webkit-progress-bar {\n",
       "        background: #F44336;\n",
       "    }\n",
       "</style>\n"
      ],
      "text/plain": [
       "<IPython.core.display.HTML object>"
      ]
     },
     "metadata": {},
     "output_type": "display_data"
    },
    {
     "data": {
      "text/html": [
       "\n",
       "    <div>\n",
       "      <progress value='42000' class='' max='42000' style='width:300px; height:20px; vertical-align: middle;'></progress>\n",
       "      100.00% [42000/42000 00:28<00:00 Sampling 4 chains, 0 divergences]\n",
       "    </div>\n",
       "    "
      ],
      "text/plain": [
       "<IPython.core.display.HTML object>"
      ]
     },
     "metadata": {},
     "output_type": "display_data"
    },
    {
     "name": "stderr",
     "output_type": "stream",
     "text": [
      "/Users/aaron/mambaforge/envs/pymc_env/lib/python3.10/site-packages/scipy/stats/_continuous_distns.py:624: RuntimeWarning: overflow encountered in _beta_ppf\n",
      "  return _boost._beta_ppf(q, a, b)\n",
      "/Users/aaron/mambaforge/envs/pymc_env/lib/python3.10/site-packages/scipy/stats/_continuous_distns.py:624: RuntimeWarning: overflow encountered in _beta_ppf\n",
      "  return _boost._beta_ppf(q, a, b)\n",
      "/Users/aaron/mambaforge/envs/pymc_env/lib/python3.10/site-packages/scipy/stats/_continuous_distns.py:624: RuntimeWarning: overflow encountered in _beta_ppf\n",
      "  return _boost._beta_ppf(q, a, b)\n",
      "/Users/aaron/mambaforge/envs/pymc_env/lib/python3.10/site-packages/scipy/stats/_continuous_distns.py:624: RuntimeWarning: overflow encountered in _beta_ppf\n",
      "  return _boost._beta_ppf(q, a, b)\n",
      "Sampling 4 chains for 500 tune and 10_000 draw iterations (2_000 + 40_000 draws total) took 39 seconds.\n",
      "/Users/aaron/mambaforge/envs/pymc_env/lib/python3.10/site-packages/pymc/backends/arviz.py:58: UserWarning: Could not extract data from symbolic observation y\n",
      "  warnings.warn(f\"Could not extract data from symbolic observation {obs}\")\n"
     ]
    }
   ],
   "source": [
    "with pm.Model() as m:\n",
    "    X_data = pm.Data(\"X_data\", X_aug)\n",
    "    y_data = pm.Data(\"y_data\", y)\n",
    "\n",
    "    betas = pm.Normal(\"beta\", mu=0, tau=0.001, shape=X.shape[1] + 1)\n",
    "\n",
    "    p = dot(X_data, betas)\n",
    "\n",
    "    lik = pm.Bernoulli(\"y\", logit_p=p, observed=y_data)\n",
    "\n",
    "    trace = pm.sample(\n",
    "        10000,\n",
    "        chains=4,\n",
    "        tune=500,\n",
    "        cores=4,\n",
    "        random_seed=1,\n",
    "    )"
   ]
  },
  {
   "cell_type": "code",
   "execution_count": 8,
   "id": "90f154bb",
   "metadata": {},
   "outputs": [
    {
     "data": {
      "text/html": [
       "<div>\n",
       "<style scoped>\n",
       "    .dataframe tbody tr th:only-of-type {\n",
       "        vertical-align: middle;\n",
       "    }\n",
       "\n",
       "    .dataframe tbody tr th {\n",
       "        vertical-align: top;\n",
       "    }\n",
       "\n",
       "    .dataframe thead th {\n",
       "        text-align: right;\n",
       "    }\n",
       "</style>\n",
       "<table border=\"1\" class=\"dataframe\">\n",
       "  <thead>\n",
       "    <tr style=\"text-align: right;\">\n",
       "      <th></th>\n",
       "      <th>mean</th>\n",
       "      <th>sd</th>\n",
       "      <th>hdi_2.5%</th>\n",
       "      <th>hdi_97.5%</th>\n",
       "      <th>mcse_mean</th>\n",
       "      <th>mcse_sd</th>\n",
       "      <th>ess_bulk</th>\n",
       "      <th>ess_tail</th>\n",
       "      <th>r_hat</th>\n",
       "    </tr>\n",
       "  </thead>\n",
       "  <tbody>\n",
       "    <tr>\n",
       "      <th>beta[0]</th>\n",
       "      <td>-13.067</td>\n",
       "      <td>4.934</td>\n",
       "      <td>-22.689</td>\n",
       "      <td>-3.345</td>\n",
       "      <td>0.039</td>\n",
       "      <td>0.028</td>\n",
       "      <td>15806.0</td>\n",
       "      <td>21174.0</td>\n",
       "      <td>1.0</td>\n",
       "    </tr>\n",
       "    <tr>\n",
       "      <th>beta[1]</th>\n",
       "      <td>0.188</td>\n",
       "      <td>0.049</td>\n",
       "      <td>0.097</td>\n",
       "      <td>0.289</td>\n",
       "      <td>0.000</td>\n",
       "      <td>0.000</td>\n",
       "      <td>19858.0</td>\n",
       "      <td>22282.0</td>\n",
       "      <td>1.0</td>\n",
       "    </tr>\n",
       "    <tr>\n",
       "      <th>beta[2]</th>\n",
       "      <td>0.033</td>\n",
       "      <td>0.026</td>\n",
       "      <td>-0.017</td>\n",
       "      <td>0.084</td>\n",
       "      <td>0.000</td>\n",
       "      <td>0.000</td>\n",
       "      <td>14546.0</td>\n",
       "      <td>19261.0</td>\n",
       "      <td>1.0</td>\n",
       "    </tr>\n",
       "    <tr>\n",
       "      <th>beta[3]</th>\n",
       "      <td>-0.023</td>\n",
       "      <td>0.016</td>\n",
       "      <td>-0.056</td>\n",
       "      <td>0.007</td>\n",
       "      <td>0.000</td>\n",
       "      <td>0.000</td>\n",
       "      <td>14811.0</td>\n",
       "      <td>19381.0</td>\n",
       "      <td>1.0</td>\n",
       "    </tr>\n",
       "    <tr>\n",
       "      <th>beta[4]</th>\n",
       "      <td>-0.155</td>\n",
       "      <td>0.096</td>\n",
       "      <td>-0.344</td>\n",
       "      <td>0.035</td>\n",
       "      <td>0.001</td>\n",
       "      <td>0.000</td>\n",
       "      <td>34820.0</td>\n",
       "      <td>23875.0</td>\n",
       "      <td>1.0</td>\n",
       "    </tr>\n",
       "    <tr>\n",
       "      <th>beta[5]</th>\n",
       "      <td>0.006</td>\n",
       "      <td>0.032</td>\n",
       "      <td>-0.055</td>\n",
       "      <td>0.070</td>\n",
       "      <td>0.000</td>\n",
       "      <td>0.000</td>\n",
       "      <td>22649.0</td>\n",
       "      <td>24365.0</td>\n",
       "      <td>1.0</td>\n",
       "    </tr>\n",
       "    <tr>\n",
       "      <th>beta[6]</th>\n",
       "      <td>0.025</td>\n",
       "      <td>0.028</td>\n",
       "      <td>-0.030</td>\n",
       "      <td>0.080</td>\n",
       "      <td>0.000</td>\n",
       "      <td>0.000</td>\n",
       "      <td>24866.0</td>\n",
       "      <td>26418.0</td>\n",
       "      <td>1.0</td>\n",
       "    </tr>\n",
       "    <tr>\n",
       "      <th>beta[7]</th>\n",
       "      <td>-0.650</td>\n",
       "      <td>0.672</td>\n",
       "      <td>-1.974</td>\n",
       "      <td>0.652</td>\n",
       "      <td>0.004</td>\n",
       "      <td>0.003</td>\n",
       "      <td>33866.0</td>\n",
       "      <td>26537.0</td>\n",
       "      <td>1.0</td>\n",
       "    </tr>\n",
       "    <tr>\n",
       "      <th>beta[8]</th>\n",
       "      <td>-0.327</td>\n",
       "      <td>0.684</td>\n",
       "      <td>-1.700</td>\n",
       "      <td>0.998</td>\n",
       "      <td>0.004</td>\n",
       "      <td>0.003</td>\n",
       "      <td>33485.0</td>\n",
       "      <td>26523.0</td>\n",
       "      <td>1.0</td>\n",
       "    </tr>\n",
       "    <tr>\n",
       "      <th>beta[9]</th>\n",
       "      <td>1.321</td>\n",
       "      <td>0.692</td>\n",
       "      <td>-0.014</td>\n",
       "      <td>2.714</td>\n",
       "      <td>0.004</td>\n",
       "      <td>0.003</td>\n",
       "      <td>27431.0</td>\n",
       "      <td>25463.0</td>\n",
       "      <td>1.0</td>\n",
       "    </tr>\n",
       "    <tr>\n",
       "      <th>beta[10]</th>\n",
       "      <td>0.404</td>\n",
       "      <td>0.699</td>\n",
       "      <td>-0.950</td>\n",
       "      <td>1.792</td>\n",
       "      <td>0.004</td>\n",
       "      <td>0.003</td>\n",
       "      <td>30908.0</td>\n",
       "      <td>27335.0</td>\n",
       "      <td>1.0</td>\n",
       "    </tr>\n",
       "  </tbody>\n",
       "</table>\n",
       "</div>"
      ],
      "text/plain": [
       "            mean     sd  hdi_2.5%  hdi_97.5%  mcse_mean  mcse_sd  ess_bulk  \\\n",
       "beta[0]  -13.067  4.934   -22.689     -3.345      0.039    0.028   15806.0   \n",
       "beta[1]    0.188  0.049     0.097      0.289      0.000    0.000   19858.0   \n",
       "beta[2]    0.033  0.026    -0.017      0.084      0.000    0.000   14546.0   \n",
       "beta[3]   -0.023  0.016    -0.056      0.007      0.000    0.000   14811.0   \n",
       "beta[4]   -0.155  0.096    -0.344      0.035      0.001    0.000   34820.0   \n",
       "beta[5]    0.006  0.032    -0.055      0.070      0.000    0.000   22649.0   \n",
       "beta[6]    0.025  0.028    -0.030      0.080      0.000    0.000   24866.0   \n",
       "beta[7]   -0.650  0.672    -1.974      0.652      0.004    0.003   33866.0   \n",
       "beta[8]   -0.327  0.684    -1.700      0.998      0.004    0.003   33485.0   \n",
       "beta[9]    1.321  0.692    -0.014      2.714      0.004    0.003   27431.0   \n",
       "beta[10]   0.404  0.699    -0.950      1.792      0.004    0.003   30908.0   \n",
       "\n",
       "          ess_tail  r_hat  \n",
       "beta[0]    21174.0    1.0  \n",
       "beta[1]    22282.0    1.0  \n",
       "beta[2]    19261.0    1.0  \n",
       "beta[3]    19381.0    1.0  \n",
       "beta[4]    23875.0    1.0  \n",
       "beta[5]    24365.0    1.0  \n",
       "beta[6]    26418.0    1.0  \n",
       "beta[7]    26537.0    1.0  \n",
       "beta[8]    26523.0    1.0  \n",
       "beta[9]    25463.0    1.0  \n",
       "beta[10]   27335.0    1.0  "
      ]
     },
     "execution_count": 8,
     "metadata": {},
     "output_type": "execute_result"
    }
   ],
   "source": [
    "az.summary(trace, hdi_prob=0.95)"
   ]
  },
  {
   "cell_type": "code",
   "execution_count": 9,
   "id": "665a121e",
   "metadata": {},
   "outputs": [
    {
     "name": "stdout",
     "output_type": "stream",
     "text": [
      "Python implementation: CPython\n",
      "Python version       : 3.10.4\n",
      "IPython version      : 8.3.0\n",
      "\n",
      "arviz : 0.12.1\n",
      "pymc  : 4.0.0b5\n",
      "pandas: 1.4.2\n",
      "numpy : 1.22.3\n",
      "\n"
     ]
    }
   ],
   "source": [
    "%watermark --iversions -v"
   ]
  },
  {
   "cell_type": "code",
   "execution_count": null,
   "id": "a976fc75",
   "metadata": {},
   "outputs": [],
   "source": []
  }
 ],
 "metadata": {
  "kernelspec": {
   "display_name": "Python 3 (ipykernel)",
   "language": "python",
   "name": "python3"
  },
  "language_info": {
   "codemirror_mode": {
    "name": "ipython",
    "version": 3
   },
   "file_extension": ".py",
   "mimetype": "text/x-python",
   "name": "python",
   "nbconvert_exporter": "python",
   "pygments_lexer": "ipython3",
   "version": "3.10.4"
  }
 },
 "nbformat": 4,
 "nbformat_minor": 5
}
