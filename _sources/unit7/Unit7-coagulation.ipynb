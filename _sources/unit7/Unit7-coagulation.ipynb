{
 "cells": [
  {
   "cell_type": "code",
   "execution_count": 1,
   "id": "5074e9a3",
   "metadata": {
    "tags": [
     "hide-output"
    ]
   },
   "outputs": [],
   "source": [
    "import pymc as pm\n",
    "import numpy as np\n",
    "import arviz as az\n",
    "from itertools import combinations\n",
    "\n",
    "%load_ext lab_black"
   ]
  },
  {
   "cell_type": "markdown",
   "id": "d0d4ac84",
   "metadata": {},
   "source": [
    "# 7. Coagulation*\n",
    "\n",
    "An example of Bayesian ANOVA.\n",
    "\n",
    "Adapted from [Unit 7: anovacoagulation.odc](https://raw.githubusercontent.com/areding/6420-pymc/main/original_examples/Codes4Unit7/anovacoagulation.odc)."
   ]
  },
  {
   "cell_type": "markdown",
   "id": "195a19bd",
   "metadata": {},
   "source": [
    "Here 24 animals are randomly allocated to 4 different diets,  but the numbers allocated to different diets are not the same. The coagulation time for blood is measured for each animal. Are the diet-based differences significant?\n",
    "\n",
    "\n",
    "\n",
    "[Box, Hunter, Hunter; Statistics for Experimenters, p. 166](https://pages.stat.wisc.edu/~yxu/Teaching/16%20spring%20Stat602/%5bGeorge_E._P._Box,_J._Stuart_Hunter,_William_G._Hu(BookZZ.org).pdf)"
   ]
  },
  {
   "cell_type": "code",
   "execution_count": 2,
   "id": "3ace28c7",
   "metadata": {},
   "outputs": [
    {
     "data": {
      "text/plain": [
       "{1: [62, 60, 63, 59],\n",
       " 2: [63, 67, 71, 64, 65, 66],\n",
       " 3: [68, 66, 71, 67, 68, 68],\n",
       " 4: [56, 62, 60, 61, 63, 64, 63, 59]}"
      ]
     },
     "execution_count": 2,
     "metadata": {},
     "output_type": "execute_result"
    }
   ],
   "source": [
    "# cut and pasted data from .odc file\n",
    "# fmt: off\n",
    "times = (62, 60, 63, 59, 63, 67, 71, 64, 65, 66, 68, 66, 71, 67, 68, 68, 56, 62,\n",
    "         60, 61, 63, 64, 63, 59)\n",
    "diets = (1, 1, 1, 1, 2, 2, 2, 2, 2, 2, 3, 3, 3, 3, 3, 3, 4, 4, 4, 4, 4, 4, 4, 4)\n",
    "# fmt: on\n",
    "\n",
    "# create dictionary where each key is a diet and values are lists of times\n",
    "data = {}\n",
    "for key, val in zip(diets, times):\n",
    "    data.setdefault(key, []).append(val)\n",
    "data"
   ]
  },
  {
   "cell_type": "markdown",
   "id": "fbfa5f14",
   "metadata": {},
   "source": [
    "## Simple method\n",
    "\n",
    "No loops! If you're using this style, 4 treatments is probably the max before it starts to get too annoying to type out."
   ]
  },
  {
   "cell_type": "code",
   "execution_count": 3,
   "id": "47256140",
   "metadata": {
    "tags": [
     "hide-output"
    ]
   },
   "outputs": [
    {
     "name": "stderr",
     "output_type": "stream",
     "text": [
      "Auto-assigning NUTS sampler...\n",
      "Initializing NUTS using jitter+adapt_diag...\n",
      "Multiprocess sampling (4 chains in 4 jobs)\n",
      "NUTS: [μ0, τ, α4, α3, α2]\n"
     ]
    },
    {
     "data": {
      "text/html": [
       "\n",
       "<style>\n",
       "    /* Turns off some styling */\n",
       "    progress {\n",
       "        /* gets rid of default border in Firefox and Opera. */\n",
       "        border: none;\n",
       "        /* Needs to be in here for Safari polyfill so background images work as expected. */\n",
       "        background-size: auto;\n",
       "    }\n",
       "    progress:not([value]), progress:not([value])::-webkit-progress-bar {\n",
       "        background: repeating-linear-gradient(45deg, #7e7e7e, #7e7e7e 10px, #5c5c5c 10px, #5c5c5c 20px);\n",
       "    }\n",
       "    .progress-bar-interrupted, .progress-bar-interrupted::-webkit-progress-bar {\n",
       "        background: #F44336;\n",
       "    }\n",
       "</style>\n"
      ],
      "text/plain": [
       "<IPython.core.display.HTML object>"
      ]
     },
     "metadata": {},
     "output_type": "display_data"
    },
    {
     "data": {
      "text/html": [
       "\n",
       "    <div>\n",
       "      <progress value='24000' class='' max='24000' style='width:300px; height:20px; vertical-align: middle;'></progress>\n",
       "      100.00% [24000/24000 00:03&lt;00:00 Sampling 4 chains, 0 divergences]\n",
       "    </div>\n",
       "    "
      ],
      "text/plain": [
       "<IPython.core.display.HTML object>"
      ]
     },
     "metadata": {},
     "output_type": "display_data"
    },
    {
     "name": "stderr",
     "output_type": "stream",
     "text": [
      "Sampling 4 chains for 1_000 tune and 5_000 draw iterations (4_000 + 20_000 draws total) took 4 seconds.\n"
     ]
    }
   ],
   "source": [
    "with pm.Model() as m:\n",
    "    mu0 = pm.Normal(\"μ0\", mu=0, tau=0.0001)\n",
    "    tau = pm.Gamma(\"τ\", 0.001, 0.001)\n",
    "\n",
    "    alpha4 = pm.Normal(\"α4\", mu=0, tau=0.0001)\n",
    "    alpha3 = pm.Normal(\"α3\", mu=0, tau=0.0001)\n",
    "    alpha2 = pm.Normal(\"α2\", mu=0, tau=0.0001)\n",
    "    # sum-to-zero constraint\n",
    "    alpha1 = pm.Deterministic(\"α1\", -(alpha2 + alpha3 + alpha4))\n",
    "\n",
    "    mu_1 = mu0 + alpha1\n",
    "    mu_2 = mu0 + alpha2\n",
    "    mu_3 = mu0 + alpha3\n",
    "    mu_4 = mu0 + alpha4\n",
    "\n",
    "    pm.Normal(\"lik1\", mu=mu_1, tau=tau, observed=data[1])\n",
    "    pm.Normal(\"lik2\", mu=mu_2, tau=tau, observed=data[2])\n",
    "    pm.Normal(\"lik3\", mu=mu_3, tau=tau, observed=data[3])\n",
    "    pm.Normal(\"lik4\", mu=mu_4, tau=tau, observed=data[4])\n",
    "\n",
    "    onetwo = pm.Deterministic(\"α1-α2\", alpha1 - alpha2)\n",
    "    onethree = pm.Deterministic(\"α1-α3\", alpha1 - alpha3)\n",
    "    onefour = pm.Deterministic(\"α1-α4\", alpha1 - alpha4)\n",
    "    twothree = pm.Deterministic(\"α2-α3\", alpha2 - alpha3)\n",
    "    twofour = pm.Deterministic(\"α2-α4\", alpha2 - alpha4)\n",
    "    threefour = pm.Deterministic(\"α3-α4\", alpha3 - alpha4)\n",
    "\n",
    "    trace = pm.sample(5000)"
   ]
  },
  {
   "cell_type": "code",
   "execution_count": 4,
   "id": "a1f8ef11",
   "metadata": {},
   "outputs": [
    {
     "data": {
      "text/html": [
       "<div>\n",
       "<style scoped>\n",
       "    .dataframe tbody tr th:only-of-type {\n",
       "        vertical-align: middle;\n",
       "    }\n",
       "\n",
       "    .dataframe tbody tr th {\n",
       "        vertical-align: top;\n",
       "    }\n",
       "\n",
       "    .dataframe thead th {\n",
       "        text-align: right;\n",
       "    }\n",
       "</style>\n",
       "<table border=\"1\" class=\"dataframe\">\n",
       "  <thead>\n",
       "    <tr style=\"text-align: right;\">\n",
       "      <th></th>\n",
       "      <th>mean</th>\n",
       "      <th>sd</th>\n",
       "      <th>hdi_3%</th>\n",
       "      <th>hdi_97%</th>\n",
       "    </tr>\n",
       "  </thead>\n",
       "  <tbody>\n",
       "    <tr>\n",
       "      <th>α4</th>\n",
       "      <td>-2.995</td>\n",
       "      <td>0.817</td>\n",
       "      <td>-4.569</td>\n",
       "      <td>-1.499</td>\n",
       "    </tr>\n",
       "    <tr>\n",
       "      <th>α3</th>\n",
       "      <td>3.994</td>\n",
       "      <td>0.877</td>\n",
       "      <td>2.378</td>\n",
       "      <td>5.707</td>\n",
       "    </tr>\n",
       "    <tr>\n",
       "      <th>α2</th>\n",
       "      <td>2.003</td>\n",
       "      <td>0.885</td>\n",
       "      <td>0.328</td>\n",
       "      <td>3.661</td>\n",
       "    </tr>\n",
       "    <tr>\n",
       "      <th>α1</th>\n",
       "      <td>-3.002</td>\n",
       "      <td>1.008</td>\n",
       "      <td>-4.943</td>\n",
       "      <td>-1.137</td>\n",
       "    </tr>\n",
       "    <tr>\n",
       "      <th>α1-α2</th>\n",
       "      <td>-5.005</td>\n",
       "      <td>1.589</td>\n",
       "      <td>-8.087</td>\n",
       "      <td>-2.071</td>\n",
       "    </tr>\n",
       "    <tr>\n",
       "      <th>α1-α3</th>\n",
       "      <td>-6.997</td>\n",
       "      <td>1.582</td>\n",
       "      <td>-9.985</td>\n",
       "      <td>-4.006</td>\n",
       "    </tr>\n",
       "    <tr>\n",
       "      <th>α1-α4</th>\n",
       "      <td>-0.007</td>\n",
       "      <td>1.507</td>\n",
       "      <td>-2.815</td>\n",
       "      <td>2.912</td>\n",
       "    </tr>\n",
       "    <tr>\n",
       "      <th>α2-α3</th>\n",
       "      <td>-1.991</td>\n",
       "      <td>1.419</td>\n",
       "      <td>-4.665</td>\n",
       "      <td>0.697</td>\n",
       "    </tr>\n",
       "    <tr>\n",
       "      <th>α2-α4</th>\n",
       "      <td>4.998</td>\n",
       "      <td>1.355</td>\n",
       "      <td>2.432</td>\n",
       "      <td>7.570</td>\n",
       "    </tr>\n",
       "    <tr>\n",
       "      <th>α3-α4</th>\n",
       "      <td>6.989</td>\n",
       "      <td>1.342</td>\n",
       "      <td>4.488</td>\n",
       "      <td>9.550</td>\n",
       "    </tr>\n",
       "  </tbody>\n",
       "</table>\n",
       "</div>"
      ],
      "text/plain": [
       "        mean     sd  hdi_3%  hdi_97%\n",
       "α4    -2.995  0.817  -4.569   -1.499\n",
       "α3     3.994  0.877   2.378    5.707\n",
       "α2     2.003  0.885   0.328    3.661\n",
       "α1    -3.002  1.008  -4.943   -1.137\n",
       "α1-α2 -5.005  1.589  -8.087   -2.071\n",
       "α1-α3 -6.997  1.582  -9.985   -4.006\n",
       "α1-α4 -0.007  1.507  -2.815    2.912\n",
       "α2-α3 -1.991  1.419  -4.665    0.697\n",
       "α2-α4  4.998  1.355   2.432    7.570\n",
       "α3-α4  6.989  1.342   4.488    9.550"
      ]
     },
     "execution_count": 4,
     "metadata": {},
     "output_type": "execute_result"
    }
   ],
   "source": [
    "az.summary(trace, var_names=[\"α\"], filter_vars=\"like\", kind=\"stats\")"
   ]
  },
  {
   "cell_type": "code",
   "execution_count": 5,
   "id": "a8f1e0d4",
   "metadata": {},
   "outputs": [
    {
     "data": {
      "text/plain": [
       "array([<AxesSubplot: title={'center': '94.0% HDI'}>], dtype=object)"
      ]
     },
     "execution_count": 5,
     "metadata": {},
     "output_type": "execute_result"
    },
    {
     "data": {
      "image/png": "[encoded data removed]",
      "text/plain": [
       "<Figure size 600x740 with 1 Axes>"
      ]
     },
     "metadata": {},
     "output_type": "display_data"
    }
   ],
   "source": [
    "az.plot_forest(trace, var_names=[\"α1\", \"α2\", \"α3\", \"α4\"], combined=True)"
   ]
  },
  {
   "cell_type": "code",
   "execution_count": 11,
   "id": "675ce0bb",
   "metadata": {},
   "outputs": [
    {
     "data": {
      "text/plain": [
       "array([<AxesSubplot: title={'center': '94.0% HDI'}>], dtype=object)"
      ]
     },
     "execution_count": 11,
     "metadata": {},
     "output_type": "execute_result"
    },
    {
     "data": {
      "image/png": "[encoded data removed]",
      "text/plain": [
       "<Figure size 600x1400 with 1 Axes>"
      ]
     },
     "metadata": {},
     "output_type": "display_data"
    }
   ],
   "source": [
    "az.plot_forest(\n",
    "    trace, var_names=[\"~τ\", \"~μ0\", \"~α1\", \"~α2\", \"~α3\", \"~α4\"], combined=True\n",
    ")"
   ]
  },
  {
   "cell_type": "markdown",
   "id": "ec7443cc",
   "metadata": {},
   "source": [
    "## A more concise method\n",
    "Not necessarily pretty, but easier to extend to more treatments. I'm interested in seeing other peoples' methods here; I feel like this could still be a lot cleaner."
   ]
  },
  {
   "cell_type": "code",
   "execution_count": 7,
   "id": "3b43b405",
   "metadata": {},
   "outputs": [
    {
     "data": {
      "text/plain": [
       "[(0, 1), (0, 2), (0, 3), (1, 2), (1, 3), (2, 3)]"
      ]
     },
     "execution_count": 7,
     "metadata": {},
     "output_type": "execute_result"
    }
   ],
   "source": [
    "# get possible combinations\n",
    "combos = list(combinations(range(4), 2))\n",
    "combos"
   ]
  },
  {
   "cell_type": "code",
   "execution_count": 8,
   "id": "9801d470",
   "metadata": {
    "tags": [
     "hide-output"
    ]
   },
   "outputs": [
    {
     "name": "stderr",
     "output_type": "stream",
     "text": [
      "Auto-assigning NUTS sampler...\n",
      "Initializing NUTS using jitter+adapt_diag...\n",
      "Multiprocess sampling (4 chains in 4 jobs)\n",
      "NUTS: [μ0, τ, α2, α3, α4]\n"
     ]
    },
    {
     "data": {
      "text/html": [
       "\n",
       "<style>\n",
       "    /* Turns off some styling */\n",
       "    progress {\n",
       "        /* gets rid of default border in Firefox and Opera. */\n",
       "        border: none;\n",
       "        /* Needs to be in here for Safari polyfill so background images work as expected. */\n",
       "        background-size: auto;\n",
       "    }\n",
       "    progress:not([value]), progress:not([value])::-webkit-progress-bar {\n",
       "        background: repeating-linear-gradient(45deg, #7e7e7e, #7e7e7e 10px, #5c5c5c 10px, #5c5c5c 20px);\n",
       "    }\n",
       "    .progress-bar-interrupted, .progress-bar-interrupted::-webkit-progress-bar {\n",
       "        background: #F44336;\n",
       "    }\n",
       "</style>\n"
      ],
      "text/plain": [
       "<IPython.core.display.HTML object>"
      ]
     },
     "metadata": {},
     "output_type": "display_data"
    },
    {
     "data": {
      "text/html": [
       "\n",
       "    <div>\n",
       "      <progress value='24000' class='' max='24000' style='width:300px; height:20px; vertical-align: middle;'></progress>\n",
       "      100.00% [24000/24000 00:03&lt;00:00 Sampling 4 chains, 0 divergences]\n",
       "    </div>\n",
       "    "
      ],
      "text/plain": [
       "<IPython.core.display.HTML object>"
      ]
     },
     "metadata": {},
     "output_type": "display_data"
    },
    {
     "name": "stderr",
     "output_type": "stream",
     "text": [
      "Sampling 4 chains for 1_000 tune and 5_000 draw iterations (4_000 + 20_000 draws total) took 4 seconds.\n"
     ]
    }
   ],
   "source": [
    "with pm.Model() as m:\n",
    "    mu0 = pm.Normal(\"μ0\", mu=0, tau=0.0001)\n",
    "    tau = pm.Gamma(\"τ\", 0.001, 0.001)\n",
    "\n",
    "    alphas = [pm.Normal(f\"α{i}\", mu=0, tau=0.0001) for i in range(2, 5)]\n",
    "\n",
    "    # sum-to-zero constraint\n",
    "    alphas.insert(0, pm.Deterministic(\"α1\", -(alphas[0] + alphas[1] + alphas[2])))\n",
    "\n",
    "    mus = [\n",
    "        pm.Deterministic(f\"mu{i + 1}\", mu0 + alpha) for i, alpha in enumerate(alphas)\n",
    "    ]\n",
    "\n",
    "    likelihoods = [\n",
    "        pm.Normal(f\"lik{i + 1}\", mu=mus[i], tau=tau, observed=data[i + 1])\n",
    "        for i, mu in enumerate(mus)\n",
    "    ]\n",
    "\n",
    "    [pm.Deterministic(f\"α{i + 1} - α{j + 1}\", alphas[i] - alphas[j]) for i, j in combos]\n",
    "\n",
    "    trace = pm.sample(5000)"
   ]
  },
  {
   "cell_type": "code",
   "execution_count": 9,
   "id": "f8e34c05",
   "metadata": {},
   "outputs": [
    {
     "data": {
      "text/html": [
       "<div>\n",
       "<style scoped>\n",
       "    .dataframe tbody tr th:only-of-type {\n",
       "        vertical-align: middle;\n",
       "    }\n",
       "\n",
       "    .dataframe tbody tr th {\n",
       "        vertical-align: top;\n",
       "    }\n",
       "\n",
       "    .dataframe thead th {\n",
       "        text-align: right;\n",
       "    }\n",
       "</style>\n",
       "<table border=\"1\" class=\"dataframe\">\n",
       "  <thead>\n",
       "    <tr style=\"text-align: right;\">\n",
       "      <th></th>\n",
       "      <th>mean</th>\n",
       "      <th>sd</th>\n",
       "      <th>hdi_3%</th>\n",
       "      <th>hdi_97%</th>\n",
       "    </tr>\n",
       "  </thead>\n",
       "  <tbody>\n",
       "    <tr>\n",
       "      <th>α2</th>\n",
       "      <td>2.004</td>\n",
       "      <td>0.891</td>\n",
       "      <td>0.320</td>\n",
       "      <td>3.656</td>\n",
       "    </tr>\n",
       "    <tr>\n",
       "      <th>α3</th>\n",
       "      <td>4.009</td>\n",
       "      <td>0.888</td>\n",
       "      <td>2.302</td>\n",
       "      <td>5.631</td>\n",
       "    </tr>\n",
       "    <tr>\n",
       "      <th>α4</th>\n",
       "      <td>-3.003</td>\n",
       "      <td>0.805</td>\n",
       "      <td>-4.530</td>\n",
       "      <td>-1.489</td>\n",
       "    </tr>\n",
       "    <tr>\n",
       "      <th>α1</th>\n",
       "      <td>-3.010</td>\n",
       "      <td>1.035</td>\n",
       "      <td>-4.925</td>\n",
       "      <td>-0.993</td>\n",
       "    </tr>\n",
       "    <tr>\n",
       "      <th>α1 - α2</th>\n",
       "      <td>-5.014</td>\n",
       "      <td>1.621</td>\n",
       "      <td>-8.095</td>\n",
       "      <td>-2.047</td>\n",
       "    </tr>\n",
       "    <tr>\n",
       "      <th>α1 - α3</th>\n",
       "      <td>-7.019</td>\n",
       "      <td>1.617</td>\n",
       "      <td>-9.971</td>\n",
       "      <td>-3.907</td>\n",
       "    </tr>\n",
       "    <tr>\n",
       "      <th>α1 - α4</th>\n",
       "      <td>-0.007</td>\n",
       "      <td>1.532</td>\n",
       "      <td>-2.914</td>\n",
       "      <td>2.883</td>\n",
       "    </tr>\n",
       "    <tr>\n",
       "      <th>α2 - α3</th>\n",
       "      <td>-2.005</td>\n",
       "      <td>1.438</td>\n",
       "      <td>-4.775</td>\n",
       "      <td>0.659</td>\n",
       "    </tr>\n",
       "    <tr>\n",
       "      <th>α2 - α4</th>\n",
       "      <td>5.007</td>\n",
       "      <td>1.334</td>\n",
       "      <td>2.431</td>\n",
       "      <td>7.451</td>\n",
       "    </tr>\n",
       "    <tr>\n",
       "      <th>α3 - α4</th>\n",
       "      <td>7.011</td>\n",
       "      <td>1.331</td>\n",
       "      <td>4.489</td>\n",
       "      <td>9.524</td>\n",
       "    </tr>\n",
       "  </tbody>\n",
       "</table>\n",
       "</div>"
      ],
      "text/plain": [
       "          mean     sd  hdi_3%  hdi_97%\n",
       "α2       2.004  0.891   0.320    3.656\n",
       "α3       4.009  0.888   2.302    5.631\n",
       "α4      -3.003  0.805  -4.530   -1.489\n",
       "α1      -3.010  1.035  -4.925   -0.993\n",
       "α1 - α2 -5.014  1.621  -8.095   -2.047\n",
       "α1 - α3 -7.019  1.617  -9.971   -3.907\n",
       "α1 - α4 -0.007  1.532  -2.914    2.883\n",
       "α2 - α3 -2.005  1.438  -4.775    0.659\n",
       "α2 - α4  5.007  1.334   2.431    7.451\n",
       "α3 - α4  7.011  1.331   4.489    9.524"
      ]
     },
     "execution_count": 9,
     "metadata": {},
     "output_type": "execute_result"
    }
   ],
   "source": [
    "az.summary(trace, var_names=[\"α\"], filter_vars=\"like\", kind=\"stats\")"
   ]
  },
  {
   "cell_type": "code",
   "execution_count": 10,
   "id": "74133f95",
   "metadata": {},
   "outputs": [
    {
     "name": "stdout",
     "output_type": "stream",
     "text": [
      "Last updated: Wed Mar 22 2023\n",
      "\n",
      "Python implementation: CPython\n",
      "Python version       : 3.11.0\n",
      "IPython version      : 8.9.0\n",
      "\n",
      "pytensor: 2.10.1\n",
      "\n",
      "arviz: 0.14.0\n",
      "pymc : 5.1.2\n",
      "numpy: 1.24.2\n",
      "\n"
     ]
    }
   ],
   "source": [
    "%load_ext watermark\n",
    "%watermark -n -u -v -iv -p pytensor"
   ]
  },
  {
   "cell_type": "code",
   "execution_count": null,
   "id": "054298a2",
   "metadata": {},
   "outputs": [],
   "source": []
  }
 ],
 "metadata": {
  "kernelspec": {
   "display_name": "Python 3 (ipykernel)",
   "language": "python",
   "name": "python3"
  },
  "language_info": {
   "codemirror_mode": {
    "name": "ipython",
    "version": 3
   },
   "file_extension": ".py",
   "mimetype": "text/x-python",
   "name": "python",
   "nbconvert_exporter": "python",
   "pygments_lexer": "ipython3",
   "version": "3.11.0"
  }
 },
 "nbformat": 4,
 "nbformat_minor": 5
}
