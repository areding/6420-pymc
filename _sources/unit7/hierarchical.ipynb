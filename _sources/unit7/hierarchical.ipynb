{
 "cells": [
  {
   "cell_type": "markdown",
   "id": "19866fcf-d14d-4300-96ee-5561976d74b8",
   "metadata": {},
   "source": [
    "# Hierarchical models\n",
    "\n",
    "placeholder"
   ]
  },
  {
   "cell_type": "code",
   "execution_count": null,
   "id": "d585775c-9379-4df6-bfcd-58251bb4969d",
   "metadata": {},
   "outputs": [],
   "source": []
  }
 ],
 "metadata": {
  "kernelspec": {
   "display_name": "Python 3 (ipykernel)",
   "language": "python",
   "name": "python3"
  },
  "language_info": {
   "codemirror_mode": {
    "name": "ipython",
    "version": 3
   },
   "file_extension": ".py",
   "mimetype": "text/x-python",
   "name": "python",
   "nbconvert_exporter": "python",
   "pygments_lexer": "ipython3",
   "version": "3.9.10"
  }
 },
 "nbformat": 4,
 "nbformat_minor": 5
}
