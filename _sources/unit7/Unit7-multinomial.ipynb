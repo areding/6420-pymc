{
 "cells": [
  {
   "cell_type": "markdown",
   "id": "6a002c3e-763d-408b-986d-7ed2854da8eb",
   "metadata": {},
   "source": [
    "# 16. Multinomial Logit"
   ]
  },
  {
   "cell_type": "code",
   "execution_count": null,
   "id": "6b797257-d725-4a58-ba52-6a6b95bb5735",
   "metadata": {},
   "outputs": [],
   "source": []
  }
 ],
 "metadata": {
  "kernelspec": {
   "display_name": "Python 3 (ipykernel)",
   "language": "python",
   "name": "python3"
  },
  "language_info": {
   "codemirror_mode": {
    "name": "ipython",
    "version": 3
   },
   "file_extension": ".py",
   "mimetype": "text/x-python",
   "name": "python",
   "nbconvert_exporter": "python",
   "pygments_lexer": "ipython3",
   "version": "3.11.0"
  }
 },
 "nbformat": 4,
 "nbformat_minor": 5
}
