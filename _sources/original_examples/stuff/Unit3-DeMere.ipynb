{
 "cells": [
  {
   "cell_type": "code",
   "execution_count": 1,
   "id": "17f9f64d",
   "metadata": {},
   "outputs": [],
   "source": [
    "import numpy as np\n",
    "\n",
    "%load_ext lab_black\n",
    "%load_ext watermark"
   ]
  },
  {
   "cell_type": "markdown",
   "id": "ffac0713",
   "metadata": {},
   "source": [
    "# deMere's problem\n",
    "\n",
    "See [Wikipedia on the Problem of Points](https://en.wikipedia.org/wiki/Problem_of_points#Pascal_and_Fermat).\n",
    "\n",
    "Adapted from [Unit 6: DeMere.odc](https://raw.githubusercontent.com/areding/6420-pymc/main/original_examples/Codes4Unit6/DeMere.odc).\n",
    "\n",
    "Not sure where in the course this is from! The professor doesn't mention it in lectures that I've seen. It was in the Codes4Unit6 archive, but I think it fits better here.\n",
    "\n",
    "- What is more likely when rolling 3 fair dice: sum 11 or sum 12?\n",
    "- What is more likely when rolling 300 fair dice: sum 1111 or sum 1112?"
   ]
  },
  {
   "cell_type": "code",
   "execution_count": 4,
   "id": "a9059d1e",
   "metadata": {},
   "outputs": [
    {
     "name": "stdout",
     "output_type": "stream",
     "text": [
      "Results with 3 dice\n",
      "Simulated probability of rolling 11: 0.124593\n",
      "Simulated probability of rolling 12: 0.115399\n",
      "\n",
      "Results with 300 dice\n",
      "Simulated probability of rolls summing to 1111: 0.001628\n",
      "Simulated probability of rolls summing to 1112: 0.001478\n"
     ]
    }
   ],
   "source": [
    "rng = np.random.default_rng(1)\n",
    "sims = 1000000\n",
    "\n",
    "\n",
    "def prob_sum(arr, s):\n",
    "    \"\"\"\n",
    "    return probability of sum s in (sims, dice)-shaped np array\n",
    "    \"\"\"\n",
    "    sims = arr.shape[0]\n",
    "    return (arr.sum(axis=1) == s).sum() / sims\n",
    "\n",
    "\n",
    "# simulate 3 dice rolls\n",
    "rolls_3 = rng.integers(1, 6, (sims, 3), endpoint=True)\n",
    "print(\"Results with 3 dice\")\n",
    "print(\"Simulated probability of rolling 11:\", prob_sum(rolls_3, 11))\n",
    "print(\"Simulated probability of rolling 12:\", prob_sum(rolls_3, 12))\n",
    "\n",
    "# simulate 300 dice rolls\n",
    "rolls_300 = rng.integers(1, 6, (sims, 300), endpoint=True)\n",
    "print(\"\\nResults with 300 dice\")\n",
    "print(\"Simulated probability of rolls summing to 1111:\", prob_sum(rolls_300, 1111))\n",
    "print(\"Simulated probability of rolls summing to 1112:\", prob_sum(rolls_300, 1112))"
   ]
  },
  {
   "cell_type": "code",
   "execution_count": 5,
   "id": "ae40f91a",
   "metadata": {},
   "outputs": [
    {
     "name": "stdout",
     "output_type": "stream",
     "text": [
      "Python implementation: CPython\n",
      "Python version       : 3.10.4\n",
      "IPython version      : 8.4.0\n",
      "\n",
      "numpy: 1.22.4\n",
      "\n"
     ]
    }
   ],
   "source": [
    "%watermark -n -u -v -iv"
   ]
  },
  {
   "cell_type": "code",
   "execution_count": null,
   "id": "9c9c1d9f",
   "metadata": {},
   "outputs": [],
   "source": []
  }
 ],
 "metadata": {
  "kernelspec": {
   "display_name": "Python 3 (ipykernel)",
   "language": "python",
   "name": "python3"
  },
  "language_info": {
   "codemirror_mode": {
    "name": "ipython",
    "version": 3
   },
   "file_extension": ".py",
   "mimetype": "text/x-python",
   "name": "python",
   "nbconvert_exporter": "python",
   "pygments_lexer": "ipython3",
   "version": "3.11.0"
  }
 },
 "nbformat": 4,
 "nbformat_minor": 5
}
