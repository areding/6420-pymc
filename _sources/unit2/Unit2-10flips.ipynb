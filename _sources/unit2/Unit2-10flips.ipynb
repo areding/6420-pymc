{
 "cells": [
  {
   "cell_type": "markdown",
   "id": "1c20bf11-6d18-46dd-b001-fab1135b6b34",
   "metadata": {
    "tags": []
   },
   "source": [
    "# Software Demo&mdash;10 Coin Flips\n",
    "\n",
    "## Motivating Example\n",
    "Professor Vidakovic gives a simple motivating example: say you flip a coin ten times and it comes up tails each time.\n",
    "\n",
    "A frequentist statistician might estimate the probability of heads as:\n",
    "\n",
    "$$\\hat{p} = \\frac{x}{n} = \\frac{0}{10} = 0$$\n",
    "\n",
    "where $x$ is the number of successes. Or they might try to maximize the binomial likelihood:\n",
    "\n",
    "$$\\hat{p} = arg \\max_p \\left[ {n \\choose{k}} p^{k}(1 - p)^{n - k} \\right] = arg \\max_p \\left[(1 - p)^{10}\\right] = 0$$\n",
    "\n",
    "With a Bayesian approach, we can incorporate a prior probability. Say we have no reason to believe that this is a trick coin. We might say we think $p$ has an equal probability of being anything from 0 to 1: a continuous uniform prior. \n",
    "\n",
    "$$\\pi(x|p) = \\frac{L_x(p) \\pi(x)}{\\int_p L_x(p) \\pi(x) dp} = \\frac{(1 - p)^{10} \\cdot \\mathbf{1}(0 \\le p \\le 1)}{\\int_0^1 (1 - p)^{10} dp} = 11(1-p)^{10} \\mathbf{1}(0 \\le p \\le 1)$$\n",
    "\n",
    "$\\mathbf{1}(0 \\le p \\le 1)$ is an indicator function, meaning it is equal to 1 if the given condition is true and 0 otherwise.\n",
    "\n",
    "The mean of a univariate continuous random variable is\n",
    "\n",
    "$$E[X] =  \\int_{p} xf(x)dx$$\n",
    "\n",
    "In this case we're looking at:\n",
    "\n",
    "$$ \\int_{0}^{1} p\\cdot 11(1-p)^{10} dp = \\frac{1}{12}$$\n",
    "\n",
    "Don't worry too much about the details here for now. We'll discuss Bayes' theorem more in Units 3 and 4. The professor is just trying to say that by adding this prior to our model, we get a much more reasonable probability: a $1/12$ chance of heads on the next flip."
   ]
  },
  {
   "cell_type": "markdown",
   "id": "8594b8e7-db1e-46c4-9137-3d4bfd50d614",
   "metadata": {
    "tags": []
   },
   "source": [
    "## Demo\n",
    "\n",
    "The professor provides some Python code related to the above calculations, along with some simple plots. I'm going to clean up some of this code and use this as an excuse to introduce some SciPy features and other stuff.\n",
    "\n",
    "I like to use [Black](https://black.readthedocs.io/en/stable/) to automatically format my Python code for readability. In Jupyter Lab, you can use the extension [nb_black](https://github.com/dnanhkhoa/nb_black) to handle it."
   ]
  },
  {
   "cell_type": "code",
   "execution_count": 6,
   "id": "c20f327f-251f-4900-9444-da537fa23ce4",
   "metadata": {},
   "outputs": [],
   "source": [
    "%load_ext lab_black"
   ]
  },
  {
   "cell_type": "markdown",
   "id": "ff4516a9-1f34-4b69-9b29-2273a82a19f7",
   "metadata": {},
   "source": [
    "First, he plots our posterior. Generally to plot a probability density function (PDF), you create a range of values as input, then plot that versus the output of your PDF."
   ]
  },
  {
   "cell_type": "code",
   "execution_count": 122,
   "id": "5b13325b-d4cd-4aef-ba02-1b1fdd2b7131",
   "metadata": {},
   "outputs": [
    {
     "data": {
      "image/png": "[encoded data removed]",
      "text/plain": [
       "<Figure size 640x480 with 1 Axes>"
      ]
     },
     "metadata": {},
     "output_type": "display_data"
    }
   ],
   "source": [
    "import numpy as np\n",
    "import matplotlib.pyplot as plt\n",
    "\n",
    "\n",
    "def posterior(p):\n",
    "    return 11 * (1 - p) ** 10\n",
    "\n",
    "\n",
    "p = np.arange(0, 1, 0.001)\n",
    "\n",
    "plt.plot(p, posterior(p), color=\"grey\", label=\"$11(1-p)^{10}$\")\n",
    "plt.legend()\n",
    "plt.xlabel(\"p\")\n",
    "plt.ylabel(\"density\")\n",
    "plt.show()"
   ]
  },
  {
   "cell_type": "markdown",
   "id": "f5df7f9e-1741-4b20-9ee6-f2dcc1a76dc3",
   "metadata": {},
   "source": [
    "Next, he checks that this density integrates to 1 using numerical integration:"
   ]
  },
  {
   "cell_type": "code",
   "execution_count": 13,
   "id": "f4ec113b-789f-4a48-ab4a-ee0734483392",
   "metadata": {},
   "outputs": [
    {
     "data": {
      "text/plain": [
       "(1.0000000000000002, 1.1102230246251569e-14)"
      ]
     },
     "execution_count": 13,
     "metadata": {},
     "output_type": "execute_result"
    }
   ],
   "source": [
    "from scipy.integrate import quad\n",
    "\n",
    "quad(posterior, 0, 1)"
   ]
  },
  {
   "cell_type": "markdown",
   "id": "0770ade5-880a-4158-a00a-94702b5bc88a",
   "metadata": {},
   "source": [
    "The [```scipy.integrate.quad```](https://docs.scipy.org/doc/scipy/reference/generated/scipy.integrate.quad.html) function returns the value of the definite integral along with the absolute error.\n",
    "\n",
    "Find the mean:"
   ]
  },
  {
   "cell_type": "code",
   "execution_count": 22,
   "id": "ff558f47-6ae7-40cc-9c1c-3314d0f491be",
   "metadata": {},
   "outputs": [
    {
     "name": "stdout",
     "output_type": "stream",
     "text": [
      "0.08333333333333336\n"
     ]
    }
   ],
   "source": [
    "mean = quad(lambda p: p * posterior(p), 0, 1)[0]\n",
    "print(mean)"
   ]
  },
  {
   "cell_type": "markdown",
   "id": "1cbfc4ee-c1eb-4bd9-aada-ce7bdfa342ee",
   "metadata": {},
   "source": [
    "Find the median, which will be:\n",
    "\n",
    "$$\\int_0^m 11(1-p)^{10} dp = .5$$\n",
    "\n",
    "We can use [```scipy.optimization.fsolve```](https://docs.scipy.org/doc/scipy/reference/generated/scipy.optimize.fsolve.html) to solve for the median $m$."
   ]
  },
  {
   "cell_type": "code",
   "execution_count": 27,
   "id": "8ccf2c72-487d-490e-a4dc-a92b54b838a3",
   "metadata": {},
   "outputs": [
    {
     "name": "stdout",
     "output_type": "stream",
     "text": [
      "0.06106908933829364\n"
     ]
    }
   ],
   "source": [
    "from scipy.optimize import fsolve\n",
    "\n",
    "\n",
    "def median_func(m):\n",
    "    return scipy.integrate.quad(posterior, 0, m)[0] - 0.5\n",
    "\n",
    "\n",
    "median = fsolve(median_func, 0.1)[0]\n",
    "print(median)"
   ]
  },
  {
   "cell_type": "markdown",
   "id": "eec34b6a-bdfd-424e-a12c-312c0823567b",
   "metadata": {},
   "source": [
    "The mode or maximum a posteriori probability (MAP) is equal to:\n",
    "\n",
    "$$arg \\max_p \\left[ 11(1-p)^{10} \\mathbf{1}(0 \\le p \\le 1) \\right]$$\n",
    "\n",
    "which we already know is 0. But if we wanted to calculate it we could use [```scipy.optimize.minimize```](https://docs.scipy.org/doc/scipy/reference/generated/scipy.optimize.minimize.html#scipy.optimize.minimize). "
   ]
  },
  {
   "cell_type": "code",
   "execution_count": 87,
   "id": "b4675b6f-a364-45f4-994b-c8b0075ab296",
   "metadata": {},
   "outputs": [
    {
     "name": "stdout",
     "output_type": "stream",
     "text": [
      "  message: CONVERGENCE: NORM_OF_PROJECTED_GRADIENT_<=_PGTOL\n",
      "  success: True\n",
      "   status: 0\n",
      "      fun: -11.0\n",
      "        x: [ 0.000e+00]\n",
      "      nit: 0\n",
      "      jac: [ 1.100e+02]\n",
      "     nfev: 2\n",
      "     njev: 1\n",
      " hess_inv: <1x1 LbfgsInvHessProduct with dtype=float64>\n"
     ]
    }
   ],
   "source": [
    "from scipy.optimize import minimize\n",
    "\n",
    "bounds = [(0, 1)]\n",
    "\n",
    "minimize_dict = minimize(\n",
    "    lambda p: -posterior(p), x0=0, method=\"L-BFGS-B\", bounds=bounds\n",
    ")\n",
    "\n",
    "print(minimize_dict)\n",
    "\n",
    "mode = minimize_dict[\"x\"][0]"
   ]
  },
  {
   "cell_type": "markdown",
   "id": "f2c56160-214f-4a50-ba2e-a4ac723a220f",
   "metadata": {},
   "source": [
    "The mode is x in the above output.\n",
    "\n",
    "Finally, we can plot our PDF with the mean, median, and mode."
   ]
  },
  {
   "cell_type": "code",
   "execution_count": 121,
   "id": "88477b94-f8b4-4ebe-8b00-c897a66765b9",
   "metadata": {},
   "outputs": [],
   "source": [
    "def add_dots(x, y, label):\n",
    "    annotation = f\"{x:.3f}\"\n",
    "\n",
    "    plt.scatter(x, y, label=label, linewidth=1, alpha=1.0, zorder=2)\n",
    "    plt.annotate(\n",
    "        annotation,\n",
    "        xy=(x, y),\n",
    "        xytext=(x + 0.05, y + 0.05),\n",
    "        fontsize=10,\n",
    "    )"
   ]
  },
  {
   "cell_type": "code",
   "execution_count": 123,
   "id": "74b176f9-a621-4375-ac6c-895372173a37",
   "metadata": {},
   "outputs": [
    {
     "data": {
      "image/png": "[encoded data removed]",
      "text/plain": [
       "<Figure size 640x480 with 1 Axes>"
      ]
     },
     "metadata": {},
     "output_type": "display_data"
    }
   ],
   "source": [
    "plt.plot(p, posterior(p), color=\"grey\", label=\"$11(1-p)^{10}$\")\n",
    "\n",
    "add_dots(mean, posterior(mean), \"mean\")\n",
    "add_dots(median, posterior(median), \"median\")\n",
    "add_dots(mode, posterior(mode), \"mode\")\n",
    "\n",
    "plt.legend()\n",
    "\n",
    "plt.xlabel(\"p\")\n",
    "plt.ylabel(\"density\")\n",
    "plt.show()"
   ]
  }
 ],
 "metadata": {
  "kernelspec": {
   "display_name": "Python 3 (ipykernel)",
   "language": "python",
   "name": "python3"
  },
  "language_info": {
   "codemirror_mode": {
    "name": "ipython",
    "version": 3
   },
   "file_extension": ".py",
   "mimetype": "text/x-python",
   "name": "python",
   "nbconvert_exporter": "python",
   "pygments_lexer": "ipython3",
   "version": "3.11.0"
  }
 },
 "nbformat": 4,
 "nbformat_minor": 5
}
