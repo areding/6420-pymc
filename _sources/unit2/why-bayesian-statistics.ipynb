{
 "cells": [
  {
   "cell_type": "markdown",
   "id": "9d2b3009-af15-4803-b343-e88d072238cc",
   "metadata": {},
   "source": [
    "# Why learn Bayesian statistics?\n",
    "\n",
    "Placeholder\n",
    "\n",
    "Frequentist vs Bayes, advantages, disadvantages, philosophy."
   ]
  },
  {
   "cell_type": "code",
   "execution_count": null,
   "id": "047c9a75-360b-4e87-9ee5-b1be7ab763d2",
   "metadata": {},
   "outputs": [],
   "source": []
  }
 ],
 "metadata": {
  "kernelspec": {
   "display_name": "Python 3 (ipykernel)",
   "language": "python",
   "name": "python3"
  },
  "language_info": {
   "codemirror_mode": {
    "name": "ipython",
    "version": 3
   },
   "file_extension": ".py",
   "mimetype": "text/x-python",
   "name": "python",
   "nbconvert_exporter": "python",
   "pygments_lexer": "ipython3",
   "version": "3.9.10"
  }
 },
 "nbformat": 4,
 "nbformat_minor": 5
}
