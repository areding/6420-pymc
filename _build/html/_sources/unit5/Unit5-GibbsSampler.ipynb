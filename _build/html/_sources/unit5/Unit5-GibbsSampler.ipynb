{
 "cells": [
  {
   "cell_type": "code",
   "execution_count": 2,
   "id": "fc5b18ed",
   "metadata": {},
   "outputs": [],
   "source": [
    "import matplotlib.pyplot as plt\n",
    "import numpy as np\n",
    "from tqdm.auto import tqdm"
   ]
  },
  {
   "cell_type": "markdown",
   "id": "2531f15a",
   "metadata": {
    "editable": true,
    "slideshow": {
     "slide_type": ""
    },
    "tags": []
   },
   "source": [
    "# 11. Normal-Cauchy Gibbs Sampler*\n",
    "\n",
    "Adapted from [Unit 5: norcaugibbs.m](https://raw.githubusercontent.com/areding/6420-pymc/main/original_examples/Codes4Unit5/norcaugibbs.m)."
   ]
  },
  {
   "cell_type": "markdown",
   "id": "c5b7bd63-629d-4028-80b6-0b4e47bc7291",
   "metadata": {
    "editable": true,
    "slideshow": {
     "slide_type": ""
    },
    "tags": []
   },
   "source": [
    "## Normal-Cauchy model\n",
    "\n",
    "Our model is:\n",
    "\n",
    "$$\n",
    "\\begin{align*}\n",
    "X|\\theta &\\sim \\mathcal{N}(\\theta, 1)\\\\\n",
    "\\theta &\\sim \\mathcal{Ca}(0,1) \\\\\n",
    "\\end{align*}\n",
    "$$\n",
    "\n",
    "The problem is there's only one parameter, $\\theta$, to simulate. The professor extends the model with the following property of the Cauchy distribution:\n",
    "\n",
    "$$\n",
    "   \\begin{align*}\n",
    "   \\theta \\,|\\, \\lambda &\\sim \\mathcal{N}\\left(\\mu, \\frac{\\tau^2}{\\lambda}\\right) \\\\\n",
    "   \\lambda &\\sim \\text{Ga}\\left(\\frac{1}{2}, \\frac{1}{2}\\right) \\\\\n",
    "   \\end{align*}\n",
    "$$\n",
    "\n",
    "which makes our full model:\n",
    "\n",
    "$$\n",
    "\\begin{align*}\n",
    "X|\\theta &\\sim \\mathcal{N}\\left(\\theta, 1\\right)\\\\\n",
    "   \\theta \\,|\\, \\lambda &\\sim \\mathcal{N}\\left(\\mu, \\frac{\\tau^2}{\\lambda}\\right) \\\\\n",
    "   \\lambda &\\sim \\text{Ga}\\left(\\frac{1}{2}, \\frac{1}{2}\\right) \\\\\n",
    "   \\end{align*}\n",
    "$$\n",
    "\n",
    "You can read more about this parameter expansion approach [here](https://betanalpha.github.io/assets/case_studies/fitting_the_cauchy.html#3_first_alternative_implementation).\n",
    "\n",
    "The lecture slide says we're looking for $\\delta(2)$. The lecture doesn't really clarify that notation, but in the code $x=2$ as our sole datapoint, so that must be what the professor meant.\n",
    "\n",
    "The full conditionals are:\n",
    "\n",
    "\\begin{align*}\n",
    "\\theta | \\lambda, X &\\sim \\mathcal{N}\\left(\\frac{\\tau^2 x + \\lambda \\sigma^2 \\mu}{\\tau^2 + \\lambda \\sigma^2}, \\frac{\\tau^2 \\sigma^2}{\\tau^2 + \\lambda \\sigma^2}\\right)\n",
    "\\end{align*}\n",
    "\n",
    "\n",
    "\\begin{align*}\n",
    "\\lambda | \\theta, X &\\sim \\text{Exp}\\left(\\frac{\\tau^2 + (\\theta - \\mu)^2}{2\\tau^2}\\right)\n",
    "\\end{align*}\n"
   ]
  },
  {
   "cell_type": "code",
   "execution_count": 5,
   "id": "0a9f7e0f",
   "metadata": {
    "editable": true,
    "slideshow": {
     "slide_type": ""
    },
    "tags": [
     "hide-output"
    ]
   },
   "outputs": [
    {
     "data": {
      "application/vnd.jupyter.widget-view+json": {
       "model_id": "b1a0a139b83642788c2b5a106d8b76ba",
       "version_major": 2,
       "version_minor": 0
      },
      "text/plain": [
       "  0%|          | 0/100000 [00:00<?, ?it/s]"
      ]
     },
     "metadata": {},
     "output_type": "display_data"
    }
   ],
   "source": [
    "rng = np.random.default_rng(1)\n",
    "\n",
    "obs = 100000\n",
    "burn = 1000\n",
    "\n",
    "# params\n",
    "x = 2\n",
    "sigma2 = 1\n",
    "tau2 = 1\n",
    "mu = 0\n",
    "\n",
    "# inits\n",
    "theta = 0\n",
    "lam = 1\n",
    "\n",
    "thetas = np.zeros(obs)\n",
    "lambdas = np.zeros(obs)\n",
    "\n",
    "randn = rng.standard_normal(obs)\n",
    "\n",
    "for i in tqdm(range(obs)):\n",
    "    d = tau2 + lam * sigma2\n",
    "    theta = (tau2 / d * x + lam * sigma2 / d * mu) + np.sqrt(tau2 * sigma2 / d) * randn[\n",
    "        i\n",
    "    ]\n",
    "    lam = rng.exponential(1 / ((tau2 + (theta - mu) ** 2) / (2 * tau2)))\n",
    "\n",
    "    thetas[i] = theta\n",
    "    lambdas[i] = lam\n",
    "\n",
    "thetas = thetas[burn:]\n",
    "lambdas = lambdas[burn:]"
   ]
  },
  {
   "cell_type": "code",
   "execution_count": 8,
   "id": "32f3ca7d-437f-4402-a459-f116dc5ab5e2",
   "metadata": {
    "editable": true,
    "slideshow": {
     "slide_type": ""
    },
    "tags": []
   },
   "outputs": [
    {
     "name": "stdout",
     "output_type": "stream",
     "text": [
      "np.mean(thetas)=1.2810728558916804\n",
      "np.var(thetas)=0.860464992070327\n",
      "np.mean(lambdas)=0.9408560283549908\n",
      "np.var(lambdas)=1.5703387617734375\n"
     ]
    },
    {
     "data": {
      "image/png": "[encoded data removed]",
      "text/plain": [
       "<Figure size 700x700 with 2 Axes>"
      ]
     },
     "metadata": {},
     "output_type": "display_data"
    }
   ],
   "source": [
    "print(f\"{np.mean(thetas)=}\")\n",
    "print(f\"{np.var(thetas)=}\")\n",
    "print(f\"{np.mean(lambdas)=}\")\n",
    "print(f\"{np.var(lambdas)=}\")\n",
    "\n",
    "# posterior densities\n",
    "fig, (ax1, ax2) = plt.subplots(2, 1, figsize=(7, 7))\n",
    "\n",
    "ax1.grid(True)\n",
    "ax1.hist(thetas, color=\"lightgreen\", density=True, bins=50)\n",
    "ax1.set_xlabel(\"θ\")\n",
    "\n",
    "ax2.grid(True)\n",
    "ax2.hist(lambdas, color=\"lightblue\", density=True, bins=50)\n",
    "ax2.set_xlabel(\"λ\")\n",
    "ax2.set_xlim(0, 8)\n",
    "\n",
    "plt.show()"
   ]
  },
  {
   "cell_type": "code",
   "execution_count": 9,
   "id": "8f54d555",
   "metadata": {
    "editable": true,
    "slideshow": {
     "slide_type": ""
    },
    "tags": []
   },
   "outputs": [
    {
     "name": "stdout",
     "output_type": "stream",
     "text": [
      "Last updated: Tue Aug 22 2023\n",
      "\n",
      "Python implementation: CPython\n",
      "Python version       : 3.11.4\n",
      "IPython version      : 8.14.0\n",
      "\n",
      "numpy     : 1.24.4\n",
      "matplotlib: 3.7.2\n",
      "\n"
     ]
    }
   ],
   "source": [
    "%load_ext watermark\n",
    "%watermark -n -u -v -iv"
   ]
  }
 ],
 "metadata": {
  "kernelspec": {
   "display_name": "Python 3 (ipykernel)",
   "language": "python",
   "name": "python3"
  },
  "language_info": {
   "codemirror_mode": {
    "name": "ipython",
    "version": 3
   },
   "file_extension": ".py",
   "mimetype": "text/x-python",
   "name": "python",
   "nbconvert_exporter": "python",
   "pygments_lexer": "ipython3",
   "version": "3.11.4"
  }
 },
 "nbformat": 4,
 "nbformat_minor": 5
}
