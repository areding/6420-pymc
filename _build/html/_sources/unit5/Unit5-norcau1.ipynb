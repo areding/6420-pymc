{
 "cells": [
  {
   "cell_type": "markdown",
   "id": "53773b60-365c-49a9-a1db-1fd03800dc83",
   "metadata": {
    "editable": true,
    "slideshow": {
     "slide_type": ""
    },
    "tags": []
   },
   "source": [
    "# 2. Normal–Cauchy Example"
   ]
  },
  {
   "cell_type": "markdown",
   "id": "6c7b865b-75be-43f3-b60c-a10f704ca29e",
   "metadata": {},
   "source": [
    "Professor Vidakovic already has a Python implementation of this available: [norcau.py](https://raw.githubusercontent.com/areding/6420-pymc/main/original_examples/Codes4Unit5/norcau.py). I've cleaned it up a bit below to remove some deprecation warnings and unnecessary repetition of some calculations."
   ]
  },
  {
   "cell_type": "code",
   "execution_count": 5,
   "id": "26f2ada3-5666-4490-bf2b-b0caf71abe63",
   "metadata": {},
   "outputs": [
    {
     "name": "stdout",
     "output_type": "stream",
     "text": [
      "δ(2) = 1.2821951026935339\n",
      "Relative error: 2.3036713373086032e-08\n"
     ]
    }
   ],
   "source": [
    "from scipy.integrate import quad\n",
    "from numpy import exp, inf\n",
    "\n",
    "x = 2\n",
    "\n",
    "num = lambda th: th * exp(-0.5 * (x - th) ** 2) / (1 + th**2)\n",
    "denom = lambda th: exp(-0.5 * (x - th) ** 2) / (1 + th**2)\n",
    "\n",
    "# quadrature function returns integral and absolute error\n",
    "numerator, num_err = quad(num, -inf, inf)\n",
    "denominator, denom_err = quad(denom, -inf, inf)\n",
    "\n",
    "delta2 = numerator / denominator\n",
    "print(f\"δ(2) = {delta2}\")\n",
    "\n",
    "# computation of relative error: ratio of the absolute error to the value of the integral itself.\n",
    "relative_error = delta2 * ((num_err / numerator) + (denom_err / denominator))\n",
    "\n",
    "print(f\"Relative error: {relative_error}\")"
   ]
  },
  {
   "cell_type": "markdown",
   "id": "450811ee-52a7-4f23-a81d-38fa51dbb2ec",
   "metadata": {},
   "source": [
    "Assuming the errors for each individual integral calculation are uncorrelated, the [error](https://en.wikipedia.org/wiki/Propagation_of_uncertainty) for $f$ should be given by:\n",
    "\n",
    "$$\\frac{\\Delta f}{f} = \\sqrt{\\left(\\frac{\\Delta a}{a}\\right)^2 + \\left(\\frac{\\Delta b}{b}\\right)^2}$$\n",
    "\n",
    "In the code above, $f$ is ```delta2```, $a$ is ```numerator```, and $b$ is ```denominator```. $\\Delta_a$ and $\\Delta_b$ are ```num_err``` and ```denom_err```, respectively.\n",
    "\n",
    "However, students have pointed out that instead of using the square root of the sum of squares, the professor used the simpler form:\n",
    "\n",
    "$$\n",
    "\\frac{\\Delta f}{f} = \\frac{\\Delta a}{a} + \\frac{\\Delta b}{b}\n",
    "$$\n",
    "\n",
    "It was probably just a simplification under the assumption that the errors in the numerator and the denominator are small and the terms $(\\Delta_a / a)^2$ and $(\\Delta_b / b)^2$ are negligible.\n"
   ]
  }
 ],
 "metadata": {
  "kernelspec": {
   "display_name": "Python 3 (ipykernel)",
   "language": "python",
   "name": "python3"
  },
  "language_info": {
   "codemirror_mode": {
    "name": "ipython",
    "version": 3
   },
   "file_extension": ".py",
   "mimetype": "text/x-python",
   "name": "python",
   "nbconvert_exporter": "python",
   "pygments_lexer": "ipython3",
   "version": "3.11.4"
  }
 },
 "nbformat": 4,
 "nbformat_minor": 5
}
