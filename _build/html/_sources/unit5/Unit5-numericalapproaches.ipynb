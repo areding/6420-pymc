{
 "cells": [
  {
   "cell_type": "markdown",
   "id": "56165b62-3cb4-4954-b5f5-bae2085aacd4",
   "metadata": {},
   "source": [
    "# 1. Numerical Approaches\n",
    "\n",
    "\n",
    "## Lecture errata\n",
    "\n",
    "There is an error in the exponential terms when sampling from the Cauchy distribution at slide 7, which appears at 4:46. The exponents in the numerator and denominator were accidentally dropped from the last version of the expression. This is how it should be:\n",
    "\n",
    "$$\\delta_B(x) \\approx \\frac{\\sum_{i=1}^{N} \\theta_i e^{-\\frac{1}{2}(\\theta_i - x)^2}}{\\sum_{i=1}^{N} e^{-\\frac{1}{2}(\\theta_i - x)^2}}$$\n",
    "\n",
    "\n",
    "## Moving beyond conjugate cases\n",
    "\n",
    "When we move beyond conjugate cases, we might possess the posterior in an analytical form due to Bayes' theorem. However, this will not represent any recognizable distribution, irrespective of how we manipulate it. Many normalizing constants lack a closed-form solution. As illustrated in lessons 2 and 4 of this unit, we can attempt to numerically approximate these constants, but this method can be imprecise or computationally intractable. The time complexity increases exponentially with the number of parameters, as shown in section 2.1 of {cite}`Blei_2017`, linked [here](https://arxiv.org/pdf/1601.00670.pdf).\n",
    "\n",
    "\n",
    "```{seealso}\n",
    "[This article by Michael Betancourt](https://betanalpha.github.io/assets/case_studies/probabilistic_computation.html) for an overview of probabilistic computation.\n",
    "```\n",
    "\n",
    "The second half of this course concentrates more on modeling rather than the specific method used to get the posterior, but in order to do that, we need to choose a method for sampling from or approximating the posterior.  There are [many methods](https://areding.github.io/6420-pymc/unit5/Unit5-other-methods.html) out there, but we're going to focus on Markov Chain Monte Carlo (MCMC). These algorithms have a lot of advantages, including a relatively easy algorithm to implement and understand.\n",
    "\n",
    "Specifically, we will learn the basics of the Metropolis-Hastings and Gibbs sampling algorithms.\n"
   ]
  },
  {
   "cell_type": "code",
   "execution_count": null,
   "id": "6c01ec8b-c71a-4391-8ef3-d7ac31d9981a",
   "metadata": {},
   "outputs": [],
   "source": []
  }
 ],
 "metadata": {
  "kernelspec": {
   "display_name": "Python 3 (ipykernel)",
   "language": "python",
   "name": "python3"
  },
  "language_info": {
   "codemirror_mode": {
    "name": "ipython",
    "version": 3
   },
   "file_extension": ".py",
   "mimetype": "text/x-python",
   "name": "python",
   "nbconvert_exporter": "python",
   "pygments_lexer": "ipython3",
   "version": "3.11.4"
  }
 },
 "nbformat": 4,
 "nbformat_minor": 5
}
