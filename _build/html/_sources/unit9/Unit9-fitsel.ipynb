{
 "cells": [
  {
   "cell_type": "markdown",
   "id": "5fa02b4b-1b2c-4609-a35e-79b56decb368",
   "metadata": {
    "editable": true,
    "slideshow": {
     "slide_type": ""
    },
    "tags": []
   },
   "source": [
    "# 3. Model Fit and Selection\n",
    "\n",
    "\n",
    "## Laud-Ibrahim Criteria\n",
    "\n",
    "[Laud-Ibrahim Criteria](https://rss.onlinelibrary.wiley.com/doi/abs/10.1111/j.2517-6161.1995.tb02028.x) is another model comparison tool. \n",
    "\n",
    "Consider $M$ family of models, and $\\theta^{(m)}$ are the $m$ model's parameters. By Bayes theorem, the posterior of $\\theta^{(m)}$ is\n",
    "\n",
    "$$\\pi(\\theta^{(m)} | m, y) = \\frac{f(y | \\theta^{(m)},m) \\pi(\\theta^{(m)})}{\\int f(y | \\theta^{(m)},m) \\pi(\\theta^{(m)}) d \\theta^{(m)}} $$\n",
    "\n",
    "The posterior predictive distribution $z|y,m$ is\n",
    "\n",
    "$$ f(z|y,m) \\sim \\int f(z|\\theta^{(m)},m) \\pi(\\theta^{(m)}|y,m)d\\theta^{(m)}$$\n",
    "\n",
    "So for a fixed $m$, Laud-Ibrahim Criteria is\n",
    "\n",
    "$$L_m^2 = \\text{E}(Z - y)'(Z-y) = \\sum_{i=1}^n (\\text{E} Z_i - y_i)^2 + \\text{Var}(Z_i) $$\n",
    "\n",
    "where $Z \\sim f(z|y,m)$. \n",
    "\n",
    "$\\text{L}_m = \\sqrt{\\text{L}_m^2} $ is essentially a discrepancy measure, and is in the same units as the response $y$. The model that minimizes $\\text{L}_m$ is prefered. On the next page, we can see an example of comparing models with Laud-Ibrahim Criteria in `PyMC`."
   ]
  }
 ],
 "metadata": {
  "kernelspec": {
   "display_name": "Python 3 (ipykernel)",
   "language": "python",
   "name": "python3"
  },
  "language_info": {
   "codemirror_mode": {
    "name": "ipython",
    "version": 3
   },
   "file_extension": ".py",
   "mimetype": "text/x-python",
   "name": "python",
   "nbconvert_exporter": "python",
   "pygments_lexer": "ipython3",
   "version": "3.11.4"
  }
 },
 "nbformat": 4,
 "nbformat_minor": 5
}
