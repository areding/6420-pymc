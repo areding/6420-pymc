{
 "cells": [
  {
   "cell_type": "markdown",
   "id": "169c5ccf-7be0-4f4d-b3d3-dec6878fa17b",
   "metadata": {},
   "source": [
    "# 15. Non-informative Priors"
   ]
  },
  {
   "cell_type": "markdown",
   "id": "9547e735-1c34-46a9-909b-d46c46983a32",
   "metadata": {
    "tags": []
   },
   "source": [
    "What if we don't have any prior information at all?\n",
    "\n",
    "## Objectivism and the search for truly non-informative priors\n",
    "\n",
    "Priors ideally would be based on prior beliefs or knowledge about the parameter in question. But in reality, we don't always have a strong belief about something, so we might use non-informative priors. That, and criticism from frequentist statisticians, led to people looking for the \"objective\" best non-informative priors, for some definition of objective. These are also sometimes called reference priors.\n",
    "\n",
    "{cite}`kass1996selection` has an [excellent overview](https://www.stat.cmu.edu/~kass/papers/rules.pdf) of the different methods for selecting reference priors through 1996, including Jeffrey's priors, Zellner's method, Jaynes' principle of maximum entropy, Kullback-Leibler divergence, and more.\n",
    "\n",
    "```{epigraph}\n",
    "At the risk of oversimplification, it seems useful to identify two interpretations of reference priors. The first interpretation asserts that reference priors are formal representations of ignorance. The second asserts that there is no objective, unique prior that represents ignorance. Instead, reference priors are chosen by public agreement, much like units of length and weight. In this interpretation, reference priors are akin to a default option in a computer package. We fall back to the default when there is insufficient information to otherwise define the prior....\n",
    "\n",
    "The first interpretation was at one time the dominant interpretation and much effort was spent trying to justify one prior or another as being noninformative... For the most part, the mood has shifted towards the second interpretation. In the recent literature, it is rare for anyone to make any claim that a particular prior can logically be defended as being truly noninformative. Instead, the focus is on investigating various priors and comparing them to see if they have any advantages in some practical sense.\n",
    "\n",
    "-- {cite:t}`kass1996selection`"
   ]
  },
  {
   "cell_type": "markdown",
   "id": "3e89745f-2a62-4758-ad33-f0087761606f",
   "metadata": {},
   "source": [
    "I don't want to put words in anyone's mouth, but based on this class, I would say Professor Vidakovic leans towards the objectivist side of Bayesian analysis. We'll almost always use non-informative priors in this class. While this isn't a bad choice for an overview course, I want to make people aware that many influential people in the field today don't recommend using noninformative priors in practice (see also [the prior elicitation section](prior-elicitation) of the previous page. \n",
    "\n",
    "{cite}`berger2006case` is a good paper on the debate between objective versus subjective Bayesian analysis (link [here](https://www2.stat.duke.edu/~berger/papers/obayes-debate.pdf)). If you only read one paper on this debate, though, I would go with *Beyond subjective and objective in statistics.* {cite}`gelman2017beyond`, available [here](http://www.stat.columbia.edu/~gelman/research/published/gelman_hennig_full_discussion.pdf)."
   ]
  },
  {
   "cell_type": "markdown",
   "id": "85ebc23d-a83a-45ee-8934-4d881d3e6460",
   "metadata": {},
   "source": [
    "## Improper priors\n",
    "\n",
    "We will occasionally encounter improper priors (especially Jeffrey's priors). An improper prior is a prior distribution whose integral does not integrate to a finite number.\n",
    "\n",
    "Despite their mathematical irregularity, improper priors can often be used in Bayesian analysis without issue. This is because we seldom integrate priors by themselves; instead, our requirement is that the product of the prior and likelihood function result in a proper posterior distribution.\n"
   ]
  }
 ],
 "metadata": {
  "kernelspec": {
   "display_name": "Python 3 (ipykernel)",
   "language": "python",
   "name": "python3"
  },
  "language_info": {
   "codemirror_mode": {
    "name": "ipython",
    "version": 3
   },
   "file_extension": ".py",
   "mimetype": "text/x-python",
   "name": "python",
   "nbconvert_exporter": "python",
   "pygments_lexer": "ipython3",
   "version": "3.11.4"
  }
 },
 "nbformat": 4,
 "nbformat_minor": 5
}
