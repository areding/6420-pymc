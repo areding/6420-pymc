{
 "cells": [
  {
   "cell_type": "markdown",
   "id": "28b584ae-4792-4da3-ad65-b563aed0e826",
   "metadata": {},
   "source": [
    "# 8. Poisson–Gamma Model\n",
    "\n",
    "\n",
    "## Lecture errata\n",
    "\n",
    "At 1:39 in the video, the likelihood should be proportional to $\\lambda^{16} e^{-6\\lambda}$. The lecture version is missing the 6.\n",
    "\n",
    "## Model\n",
    "\n",
    "Here we have another [conjugate](content:conjugate_table) model. The Poisson likelihood describes the number of marked cells on some plates.\n",
    "\n",
    "$$\n",
    "\\begin{align*}\n",
    "X_i | \\lambda &\\sim Poi(\\lambda) \\\\\n",
    "\\lambda &\\sim Ga(\\alpha, \\beta)\n",
    "\\end{align*}\n",
    "$$\n",
    "\n",
    "This time there are two new wrinkles. One, we're not given the gamma prior parameters directly. Instead we want a mean of 4 and a variance of $1/4$.\n",
    "\n",
    "[We know](content:gamma_dist) that the gamma distribution's mean is $\\alpha/\\beta$ and the variance is $\\alpha/\\beta^2$, so we use that knowledge to solve for the parameters $\\alpha=64, \\beta=16$.\n",
    "\n",
    "$\\sum_{i=1}^n X_i = 2 + 0 + 1 + 5 + 7 + 1 = 16, n=6$\n",
    "\n",
    "So, \n",
    "\n",
    "$$\n",
    "\\begin{align*}\n",
    "\\lambda \\mid X_i &\\sim Ga(\\alpha + \\sum_{i=1}^n X_i, \\beta + n) \\\\\n",
    "&\\sim Ga(64 + 16, 16 + 6) \\\\ \n",
    "&\\sim Ga(80, 22)\n",
    "\\end{align*}\n",
    "$$\n",
    "\n",
    "Our posterior mean is $\\alpha/\\beta = 3.64$."
   ]
  },
  {
   "cell_type": "code",
   "execution_count": null,
   "id": "882490cc-088e-4291-911e-cb94455b317f",
   "metadata": {},
   "outputs": [],
   "source": []
  }
 ],
 "metadata": {
  "kernelspec": {
   "display_name": "Python 3 (ipykernel)",
   "language": "python",
   "name": "python3"
  },
  "language_info": {
   "codemirror_mode": {
    "name": "ipython",
    "version": 3
   },
   "file_extension": ".py",
   "mimetype": "text/x-python",
   "name": "python",
   "nbconvert_exporter": "python",
   "pygments_lexer": "ipython3",
   "version": "3.11.0"
  }
 },
 "nbformat": 4,
 "nbformat_minor": 5
}
