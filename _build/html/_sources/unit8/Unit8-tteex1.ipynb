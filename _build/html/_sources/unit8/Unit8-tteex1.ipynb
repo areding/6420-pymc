{
 "cells": [
  {
   "cell_type": "markdown",
   "id": "f9d542ef-75ee-47d6-9d61-b3624c4643f4",
   "metadata": {
    "editable": true,
    "slideshow": {
     "slide_type": ""
    },
    "tags": []
   },
   "source": [
    "# 4. Time-to-event Models: Example 1\n",
    "\n",
    "Consider an exponential survival model:\n",
    "\n",
    "$$Y_1, Y_2, ... Y_n \\sim Exp (\\lambda) $$\n",
    "\n",
    "Let $\\delta_i$ be an indicator to represent censored points. There are $k$ uncensored points, and $n-k$ censored points\n",
    "\n",
    "$$ \\begin{align*} \\delta_i & = 0, \\space \\space i = 1, ... , k \\\\\n",
    "\\delta_i & = 1, \\space \\space i = k + 1, ... , n \\\\\n",
    "\\end{align*} $$\n",
    "\n",
    "What is the (frequentist) estimator of $\\lambda$? If all data points were observed, the MLE of $\\lambda$ would be\n",
    "\n",
    "$$\\frac{n}{\\sum_{i=1}^n Y_i} = \\frac{1}{\\bar{Y}} $$\n",
    "\n",
    "Should we ignore censored points? The estimator would be\n",
    "\n",
    "$$\\hat{\\lambda} = \\frac{k}{\\sum_{i=1}^k Y_i}$$\n",
    "\n",
    "which is wrong because it is biased to the non-censored data. So, should we consider censored points as observed?\n",
    "\n",
    "$$\\hat{\\lambda} = \\frac{n}{\\sum_{i=1}^n Y_i} = \\frac{1}{\\bar{Y}}$$\n",
    "\n",
    "This is also incorrect, because the censored values are likely larger than what was observed.\n",
    "\n",
    "Now let's consider the likelihood as\n",
    "\n",
    "$$ L (y_1,...,y_n | \\lambda) = \\lambda^k e^{-(\\lambda \\sum_{i=1}^{n} Y_i)}$$\n",
    "\n",
    "We arrive at this likelihood by taking into account both censored and uncensored points. The non-censored points follow an exponential PDF, while the censored points have probability of the exponential's complementary CDF.\n",
    "\n",
    "$$ \\begin{align*}\n",
    "L (y_1,...,y_n | \\lambda) & = \\prod_{i=1}^k\\lambda e^{-\\lambda y_{i}}\\times \\prod_{i=k+1}^n e^{-\\lambda y_i}\n",
    "\\end{align*}\n",
    "$$\n",
    "\n",
    "The MLE of $\\lambda$ is\n",
    "\n",
    "$$\\hat{\\lambda} = \\frac{k}{\\sum_{i=1}^n Y_i} = \\frac{k}{n \\bar{Y}}$$\n",
    "\n",
    "which is correct!\n",
    "\n",
    "\n"
   ]
  },
  {
   "cell_type": "markdown",
   "id": "710bc8fa",
   "metadata": {},
   "source": []
  }
 ],
 "metadata": {
  "kernelspec": {
   "display_name": "Python 3 (ipykernel)",
   "language": "python",
   "name": "python3"
  },
  "language_info": {
   "codemirror_mode": {
    "name": "ipython",
    "version": 3
   },
   "file_extension": ".py",
   "mimetype": "text/x-python",
   "name": "python",
   "nbconvert_exporter": "python",
   "pygments_lexer": "ipython3",
   "version": "3.11.4"
  }
 },
 "nbformat": 4,
 "nbformat_minor": 5
}
