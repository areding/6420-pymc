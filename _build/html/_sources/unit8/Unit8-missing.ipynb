{
 "cells": [
  {
   "cell_type": "markdown",
   "id": "7be80440",
   "metadata": {
    "editable": true,
    "slideshow": {
     "slide_type": ""
    },
    "tags": []
   },
   "source": [
    "# 1. Missing Data\n",
    "\n",
    "## Taxonomy of Missing Data\n",
    "\n",
    "1. Missing comlpetely at random (MCAR)\n",
    "\n",
    "        Missingness does not depend on observed or unobserved data.\n",
    "\n",
    "2. Missing at random (MAR)\n",
    "\n",
    "        Missingness depends only on observed data\n",
    "\n",
    "3. Missing not at random (MNAR)\n",
    "\n",
    "        Neither MCAR nor MAR hold, missingness may depend on the data that is missing, say the magnitute\n",
    "\n",
    "MCAR and MAR are considered *ignorable* missingness, while MNAR is considered *non-ignorable*.\n",
    "\n",
    "## Multiple imputations\n",
    "\n",
    "Single imputations of missing values are not preferred because they do not estimate the error correctly or account for the uncertainty in imputed data. Multiple imputations is a method developed by [Rubin](https://pubmed.ncbi.nlm.nih.gov/2057657/). \n",
    "\n",
    "The actual posterior distribution of $\\theta$ is:\n",
    "\n",
    "$$\\text{P}(\\theta | Y_{obs}) = \\int \\text{P}(\\theta | Y_{obs},Y_{mis})\\text{P}(Y_{mis},Y_{obs})d Y_{mis}$$\n",
    "\n",
    "i.e. (actual posterior distribution of $\\theta$) = AVE(complete posterior distribution of $\\theta$)\n",
    "\n",
    "Posterior mean of $\\theta$:\n",
    "\n",
    "$$\\text{E}(\\theta | Y_{obs}) = \\text{E}(\\text{E}(\\theta | Y_{obs}, Y_{mis})|Y_{obs})$$\n",
    "\n",
    "i.e. (posterior mean of $\\theta$) = AVE(repeated complete data posterior means of $\\theta$)\n",
    "\n",
    "Posterior variance is:\n",
    "\n",
    "$$\\text{Var}(\\theta | Y_{obs}) = \\text{E}(\\text{Var}(\\theta | Y_{obs}, Y_{mis})|Y_{obs}) + \\text{Var}(\\text{E}(\\theta | Y_{obs}, Y_{mis})|Y_{obs})$$\n",
    "\n",
    "i.e. (posterior variance of $\\theta$) = AVE(repeated complete data variances of $\\theta$) + Var(repeated complete data posterior eans of $\\theta$)\n",
    "\n",
    "## PyMC Implementation\n",
    "\n",
    "Luckily, `PyMC` automatically takes care of imputations for missing observed (or 'y') values, when they are encoded is NaN. PyMC provides samples for each missing value, from which we can calculate stats like mean, variance, and HDI.\n",
    "\n",
    "The next page has examples of ignorable missingness (Models 1 and 2), followed by Model 3 with non-ignoarable missingness. \n",
    "\n",
    "* Model 1: Imputing observed (or y/response) values\n",
    "* Model 2: Imputing predictors (or x) values\n",
    "* Model 3: y is missing depending on size\n",
    "\n",
    "To lay the groundwork, this is a linear regression model with slope and intercept ($\\alpha$ and $\\beta$) coefficients for each subject in the experiment.\n",
    "\n",
    "$$\\begin{align*}\n",
    "y_{i,j} & = \\alpha_j + \\beta_j x_{i} + \\epsilon_i, \\space \\space i = 1 , ... , n, \\space \\space j = 1 , ... , m \\\\\n",
    "\\epsilon_i & \\overset{iid}{\\sim} N (0,\\sigma^2) \\\\\n",
    "\\alpha_j & \\sim N (\\alpha_c,1/\\alpha_\\tau) \\\\\n",
    "\\alpha_c & \\sim N (0,1/1e^{-4}) \\\\\n",
    "\\alpha_\\tau & \\sim Gamma (0.001,.001) \\\\\n",
    "\\beta_j & \\sim N (\\beta_c,1/\\beta_\\tau) \\\\\n",
    "\\beta_c & \\sim N (0,1/1e^{-4}) \\\\\n",
    "\\beta_\\tau & \\sim Gamma (0.001,.001) \\\\\n",
    "\\end{align*} $$\n",
    "\n",
    "In Model 2, we need to provide a a prior distribution for the missing x's, which is $N (20,5^2)$. In Model 3, the probability of missingness depends on size, specified by:\n",
    "\n",
    "$$\\begin{align*}\n",
    "\\text{miss}[i] & \\sim Bern(p[i])  \\\\\n",
    "p[i] & = invlogit \\left ( a + b \\times y[i] \\right ) \\\\\n",
    "a & \\sim Logistic(0,s=10) \\\\\n",
    "b & = \\log(1.01) \\\\\n",
    "\\end{align*} $$"
   ]
  }
 ],
 "metadata": {
  "kernelspec": {
   "display_name": "Python 3 (ipykernel)",
   "language": "python",
   "name": "python3"
  },
  "language_info": {
   "codemirror_mode": {
    "name": "ipython",
    "version": 3
   },
   "file_extension": ".py",
   "mimetype": "text/x-python",
   "name": "python",
   "nbconvert_exporter": "python",
   "pygments_lexer": "ipython3",
   "version": "3.11.4"
  }
 },
 "nbformat": 4,
 "nbformat_minor": 5
}
