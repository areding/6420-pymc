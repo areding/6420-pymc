{
 "cells": [
  {
   "cell_type": "code",
   "execution_count": 1,
   "id": "a6613312-ce57-4bd1-b080-03036ee0ca62",
   "metadata": {},
   "outputs": [],
   "source": [
    "import pymc as pm\n",
    "import numpy as np\n",
    "import arviz as az"
   ]
  },
  {
   "cell_type": "markdown",
   "id": "44a739d2-4f9f-4554-a2aa-06d9ac902cd4",
   "metadata": {},
   "source": [
    "# 5. Meta-analysis via Hierarchical Models*\n",
    "\n",
    "Adapted from [Unit 7: rats_nocentering.odc](https://raw.githubusercontent.com/areding/6420-pymc/main/original_examples/Codes4Unit7/rats_nocentering.odc).\n",
    "\n",
    "\n",
    "This example is taken from Gelfand et al. (1990) and concerns 30 young rats whose weights were measured weekly for five weeks.  Measurements were taken at 8, 15, 22, 29, and 36 days.\n",
    "\n",
    "The observed weights (in grams) for each rat are arranged in the matrix $\\mathbf{Y}$, where $y_{i,j}$ is the weight of the $i$-th rat at age $x_j$. The first two and last rows of $\\mathbf{Y}$ are shown below:\n",
    "\n",
    "<div align = 'center'>\n",
    "\n",
    "| Rat | $y_{i,8} $ | $ y_{i,15} $ | $ y_{i,22} $ | $ y_{i,29} $ | $ y_{i,36} $ |\n",
    "|-----|:-------------:|:--------------:|:--------------:|:--------------:|:--------------:|\n",
    "|  1  |     151       |     199        |     246        |     283        |     320        |\n",
    "|  2  |     145       |     199        |     249        |     293        |     354        |\n",
    "| ... |     ...       |     ...        |     ...        |     ...        |     ...        |\n",
    "| 30  |     153       |     200        |     244        |     286        |     324        |\n",
    "\n",
    "</div>\n",
    "\n",
    "Each row corresponds to a different rat ($ i = 1, \\ldots, 30 $), and each column corresponds to one of the five measurement times.\n",
    "\n",
    "\n",
    "\n",
    "Data for $x$ can be found [here](https://raw.githubusercontent.com/areding/6420-pymc/main/data/rats_nocenteringx.txt), and $\\mathbf{Y}$ [here](https://raw.githubusercontent.com/areding/6420-pymc/main/data/rats_nocenteringY.txt)."
   ]
  },
  {
   "cell_type": "markdown",
   "id": "81ce4ef0",
   "metadata": {},
   "source": [
    "A hierarchical model lets us model each rat's growth curve as a linear function of age, while also allowing the intercept (baseline weight) and slope (growth rate) to vary across rats. This structure essentially \"borrowing strength\" across units in a meta-analysis.  It allows us to estimate both group-level (population) and individual-level effects.\n",
    "\n",
    "The model is defined as:\n",
    "\n",
    "$$\n",
    "\\begin{align}\n",
    "y_{ij} &\\sim \\mathcal{N}(\\mu_{ij}, \\sigma^2)\\\\\n",
    "\\mu_{ij} &= \\alpha_i + \\beta_i x_j\\\\\n",
    "\\alpha_i \\sim &\\mathcal{N}(\\mu_{\\alpha}, \\tau_{\\alpha}^{-1}) \\\\\n",
    "\\beta_i \\sim &\\mathcal{N}(\\mu_{\\beta}, \\tau_{\\beta}^{-1})\\\\\n",
    "\\alpha_i &\\sim \\mathcal{N}(\\mu_{\\alpha}, \\tau_{\\alpha}^{-1}) \\\\\n",
    "\\beta_i &\\sim \\mathcal{N}(\\mu_{\\beta}, \\tau_{\\beta}^{-1})\\\\\n",
    "\\mu_{\\alpha} &\\sim \\mathcal{N}(0, 10^6) \\\\\n",
    "\\tau_{\\alpha} &\\sim \\text{Gamma}(0.001, 0.001) \\\\\n",
    "\\mu_{\\beta} &\\sim \\mathcal{N}(0, 10^6) \\\\\n",
    "\\tau_{\\beta} &\\sim \\text{Gamma}(0.001, 0.001) \\\\\n",
    "\\tau &\\sim \\text{Gamma}(0.001, 0.001) \\\\\n",
    "\\sigma &= \\tau^{-1/2}\n",
    "\\end{align}\n",
    "$$\n",
    "\n",
    " - Line 1-2 are the likelihood\n",
    " - Lines 3 and 4 are the Random Effects\n",
    " - Lines 7-12 are Hyperpriors\n",
    "\n",
    "We will use a `graphviz` below to verify that we've specifed out model correctly.  This is particularly useful in models with complex hierarchical structures."
   ]
  },
  {
   "cell_type": "code",
   "execution_count": 2,
   "id": "a25c7103-cf18-4532-bc1d-5070ce2489f8",
   "metadata": {},
   "outputs": [
    {
     "data": {
      "text/plain": [
       "((5,), (30, 5))"
      ]
     },
     "execution_count": 2,
     "metadata": {},
     "output_type": "execute_result"
    }
   ],
   "source": [
    "y = np.loadtxt(\"../data/rats_nocenteringy.txt\")\n",
    "x = np.loadtxt(\"../data/rats_nocenteringx.txt\")\n",
    "x.shape, y.shape"
   ]
  },
  {
   "cell_type": "code",
   "execution_count": 3,
   "id": "ff75becd-7aa5-41b8-84e4-55e5d050b9b6",
   "metadata": {
    "tags": [
     "hide-output"
    ]
   },
   "outputs": [
    {
     "name": "stderr",
     "output_type": "stream",
     "text": [
      "Initializing NUTS using jitter+adapt_diag...\n",
      "Multiprocess sampling (4 chains in 4 jobs)\n",
      "NUTS: [mu_alpha, tau_alpha, mu_beta, tau_beta, tau, alpha, beta]\n"
     ]
    },
    {
     "data": {
      "application/vnd.jupyter.widget-view+json": {
       "model_id": "f89302f9f58b4307a07b68583c2a4c58",
       "version_major": 2,
       "version_minor": 0
      },
      "text/plain": [
       "Output()"
      ]
     },
     "metadata": {},
     "output_type": "display_data"
    },
    {
     "data": {
      "text/html": [
       "<pre style=\"white-space:pre;overflow-x:auto;line-height:normal;font-family:Menlo,'DejaVu Sans Mono',consolas,'Courier New',monospace\"></pre>\n"
      ],
      "text/plain": []
     },
     "metadata": {},
     "output_type": "display_data"
    },
    {
     "name": "stderr",
     "output_type": "stream",
     "text": [
      "Sampling 4 chains for 1_000 tune and 3_000 draw iterations (4_000 + 12_000 draws total) took 7 seconds.\n"
     ]
    }
   ],
   "source": [
    "with pm.Model() as m:\n",
    "    mu_alpha = pm.Normal(\"mu_alpha\", 0, tau=1e-6)\n",
    "    tau_alpha = pm.Gamma(\"tau_alpha\", 0.001, 0.001)\n",
    "    mu_beta = pm.Normal(\"mu_beta\", 0, tau=1e-6)\n",
    "    tau_beta = pm.Gamma(\"tau_beta\", 0.001, 0.001)\n",
    "\n",
    "    tau = pm.Gamma(\"tau\", 0.001, 0.001)\n",
    "    sigma = pm.Deterministic(\"sigma\", 1 / tau**0.5)\n",
    "\n",
    "    alpha = pm.Normal(\"alpha\", mu_alpha, tau=tau_alpha, shape=(30, 1))\n",
    "    beta = pm.Normal(\"beta\", mu_beta, tau=tau_beta, shape=(30, 1))\n",
    "\n",
    "    mu = alpha + beta * x\n",
    "    pm.Normal(\"y\", mu, tau=tau, observed=y)\n",
    "\n",
    "    trace = pm.sample(3000)"
   ]
  },
  {
   "cell_type": "code",
   "execution_count": 4,
   "id": "4994c305-2970-4e5d-be8b-5fd39597bb74",
   "metadata": {},
   "outputs": [
    {
     "data": {
      "text/html": [
       "<div>\n",
       "<style scoped>\n",
       "    .dataframe tbody tr th:only-of-type {\n",
       "        vertical-align: middle;\n",
       "    }\n",
       "\n",
       "    .dataframe tbody tr th {\n",
       "        vertical-align: top;\n",
       "    }\n",
       "\n",
       "    .dataframe thead th {\n",
       "        text-align: right;\n",
       "    }\n",
       "</style>\n",
       "<table border=\"1\" class=\"dataframe\">\n",
       "  <thead>\n",
       "    <tr style=\"text-align: right;\">\n",
       "      <th></th>\n",
       "      <th>mean</th>\n",
       "      <th>sd</th>\n",
       "      <th>hdi_3%</th>\n",
       "      <th>hdi_97%</th>\n",
       "      <th>mcse_mean</th>\n",
       "      <th>mcse_sd</th>\n",
       "      <th>ess_bulk</th>\n",
       "      <th>ess_tail</th>\n",
       "      <th>r_hat</th>\n",
       "    </tr>\n",
       "  </thead>\n",
       "  <tbody>\n",
       "    <tr>\n",
       "      <th>mu_alpha</th>\n",
       "      <td>106.580</td>\n",
       "      <td>2.301</td>\n",
       "      <td>102.281</td>\n",
       "      <td>110.993</td>\n",
       "      <td>0.020</td>\n",
       "      <td>0.020</td>\n",
       "      <td>12945.0</td>\n",
       "      <td>8892.0</td>\n",
       "      <td>1.0</td>\n",
       "    </tr>\n",
       "    <tr>\n",
       "      <th>mu_beta</th>\n",
       "      <td>6.186</td>\n",
       "      <td>0.106</td>\n",
       "      <td>5.984</td>\n",
       "      <td>6.384</td>\n",
       "      <td>0.001</td>\n",
       "      <td>0.001</td>\n",
       "      <td>13349.0</td>\n",
       "      <td>9764.0</td>\n",
       "      <td>1.0</td>\n",
       "    </tr>\n",
       "    <tr>\n",
       "      <th>tau_alpha</th>\n",
       "      <td>0.010</td>\n",
       "      <td>0.004</td>\n",
       "      <td>0.004</td>\n",
       "      <td>0.017</td>\n",
       "      <td>0.000</td>\n",
       "      <td>0.000</td>\n",
       "      <td>9928.0</td>\n",
       "      <td>8287.0</td>\n",
       "      <td>1.0</td>\n",
       "    </tr>\n",
       "    <tr>\n",
       "      <th>tau_beta</th>\n",
       "      <td>4.308</td>\n",
       "      <td>1.477</td>\n",
       "      <td>1.889</td>\n",
       "      <td>7.028</td>\n",
       "      <td>0.014</td>\n",
       "      <td>0.019</td>\n",
       "      <td>11501.0</td>\n",
       "      <td>9832.0</td>\n",
       "      <td>1.0</td>\n",
       "    </tr>\n",
       "    <tr>\n",
       "      <th>tau</th>\n",
       "      <td>0.027</td>\n",
       "      <td>0.004</td>\n",
       "      <td>0.020</td>\n",
       "      <td>0.035</td>\n",
       "      <td>0.000</td>\n",
       "      <td>0.000</td>\n",
       "      <td>8516.0</td>\n",
       "      <td>9008.0</td>\n",
       "      <td>1.0</td>\n",
       "    </tr>\n",
       "    <tr>\n",
       "      <th>sigma</th>\n",
       "      <td>6.156</td>\n",
       "      <td>0.468</td>\n",
       "      <td>5.343</td>\n",
       "      <td>7.083</td>\n",
       "      <td>0.005</td>\n",
       "      <td>0.004</td>\n",
       "      <td>8516.0</td>\n",
       "      <td>9008.0</td>\n",
       "      <td>1.0</td>\n",
       "    </tr>\n",
       "  </tbody>\n",
       "</table>\n",
       "</div>"
      ],
      "text/plain": [
       "              mean     sd   hdi_3%  hdi_97%  mcse_mean  mcse_sd  ess_bulk  \\\n",
       "mu_alpha   106.580  2.301  102.281  110.993      0.020    0.020   12945.0   \n",
       "mu_beta      6.186  0.106    5.984    6.384      0.001    0.001   13349.0   \n",
       "tau_alpha    0.010  0.004    0.004    0.017      0.000    0.000    9928.0   \n",
       "tau_beta     4.308  1.477    1.889    7.028      0.014    0.019   11501.0   \n",
       "tau          0.027  0.004    0.020    0.035      0.000    0.000    8516.0   \n",
       "sigma        6.156  0.468    5.343    7.083      0.005    0.004    8516.0   \n",
       "\n",
       "           ess_tail  r_hat  \n",
       "mu_alpha     8892.0    1.0  \n",
       "mu_beta      9764.0    1.0  \n",
       "tau_alpha    8287.0    1.0  \n",
       "tau_beta     9832.0    1.0  \n",
       "tau          9008.0    1.0  \n",
       "sigma        9008.0    1.0  "
      ]
     },
     "execution_count": 4,
     "metadata": {},
     "output_type": "execute_result"
    }
   ],
   "source": [
    "az.summary(trace, var_names=[\"~alpha\", \"~beta\"])"
   ]
  },
  {
   "cell_type": "markdown",
   "id": "316689a2",
   "metadata": {},
   "source": [
    "If you have not had any courses in Regression or Design and Analysis of Experiments, take a moment and research how to *interpret* these coefficients: especially `mu`'s  and `tau`'s."
   ]
  },
  {
   "cell_type": "code",
   "execution_count": 5,
   "id": "d66f026f-6824-413d-b7ab-74eee42e2af3",
   "metadata": {},
   "outputs": [
    {
     "data": {
      "image/svg+xml": [
       "<?xml version=\"1.0\" encoding=\"UTF-8\" standalone=\"no\"?>\n",
       "<!DOCTYPE svg PUBLIC \"-//W3C//DTD SVG 1.1//EN\"\n",
       " \"http://www.w3.org/Graphics/SVG/1.1/DTD/svg11.dtd\">\n",
       "<!-- Generated by graphviz version 9.0.0 (0)\n",
       " -->\n",
       "<!-- Pages: 1 -->\n",
       "<svg width=\"434pt\" height=\"377pt\"\n",
       " viewBox=\"0.00 0.00 434.16 376.95\" xmlns=\"http://www.w3.org/2000/svg\" xmlns:xlink=\"http://www.w3.org/1999/xlink\">\n",
       "<g id=\"graph0\" class=\"graph\" transform=\"scale(1 1) rotate(0) translate(4 372.95)\">\n",
       "<polygon fill=\"white\" stroke=\"none\" points=\"-4,4 -4,-372.95 430.16,-372.95 430.16,4 -4,4\"/>\n",
       "<g id=\"clust1\" class=\"cluster\">\n",
       "<title>cluster30 x 1</title>\n",
       "<path fill=\"none\" stroke=\"black\" d=\"M133.5,-137.82C133.5,-137.82 307.5,-137.82 307.5,-137.82 313.5,-137.82 319.5,-143.82 319.5,-149.82 319.5,-149.82 319.5,-247.63 319.5,-247.63 319.5,-253.63 313.5,-259.63 307.5,-259.63 307.5,-259.63 133.5,-259.63 133.5,-259.63 127.5,-259.63 121.5,-253.63 121.5,-247.63 121.5,-247.63 121.5,-149.82 121.5,-149.82 121.5,-143.82 127.5,-137.82 133.5,-137.82\"/>\n",
       "<text text-anchor=\"middle\" x=\"294.25\" y=\"-145.02\" font-family=\"Times,serif\" font-size=\"14.00\">30 x 1</text>\n",
       "</g>\n",
       "<g id=\"clust2\" class=\"cluster\">\n",
       "<title>cluster30 x 5</title>\n",
       "<path fill=\"none\" stroke=\"black\" d=\"M232.5,-8C232.5,-8 306.5,-8 306.5,-8 312.5,-8 318.5,-14 318.5,-20 318.5,-20 318.5,-117.82 318.5,-117.82 318.5,-123.82 312.5,-129.82 306.5,-129.82 306.5,-129.82 232.5,-129.82 232.5,-129.82 226.5,-129.82 220.5,-123.82 220.5,-117.82 220.5,-117.82 220.5,-20 220.5,-20 220.5,-14 226.5,-8 232.5,-8\"/>\n",
       "<text text-anchor=\"middle\" x=\"293.25\" y=\"-15.2\" font-family=\"Times,serif\" font-size=\"14.00\">30 x 5</text>\n",
       "</g>\n",
       "<!-- mu_alpha -->\n",
       "<g id=\"node1\" class=\"node\">\n",
       "<title>mu_alpha</title>\n",
       "<ellipse fill=\"none\" stroke=\"black\" cx=\"49.5\" cy=\"-328.29\" rx=\"49.5\" ry=\"40.66\"/>\n",
       "<text text-anchor=\"middle\" x=\"49.5\" y=\"-339.74\" font-family=\"Times,serif\" font-size=\"14.00\">mu_alpha</text>\n",
       "<text text-anchor=\"middle\" x=\"49.5\" y=\"-323.24\" font-family=\"Times,serif\" font-size=\"14.00\">~</text>\n",
       "<text text-anchor=\"middle\" x=\"49.5\" y=\"-306.74\" font-family=\"Times,serif\" font-size=\"14.00\">Normal</text>\n",
       "</g>\n",
       "<!-- alpha -->\n",
       "<g id=\"node7\" class=\"node\">\n",
       "<title>alpha</title>\n",
       "<ellipse fill=\"none\" stroke=\"black\" cx=\"170.5\" cy=\"-210.98\" rx=\"41.01\" ry=\"40.66\"/>\n",
       "<text text-anchor=\"middle\" x=\"170.5\" y=\"-222.43\" font-family=\"Times,serif\" font-size=\"14.00\">alpha</text>\n",
       "<text text-anchor=\"middle\" x=\"170.5\" y=\"-205.93\" font-family=\"Times,serif\" font-size=\"14.00\">~</text>\n",
       "<text text-anchor=\"middle\" x=\"170.5\" y=\"-189.43\" font-family=\"Times,serif\" font-size=\"14.00\">Normal</text>\n",
       "</g>\n",
       "<!-- mu_alpha&#45;&gt;alpha -->\n",
       "<g id=\"edge2\" class=\"edge\">\n",
       "<title>mu_alpha&#45;&gt;alpha</title>\n",
       "<path fill=\"none\" stroke=\"black\" d=\"M81.29,-296.99C97.29,-281.74 116.79,-263.16 133.47,-247.26\"/>\n",
       "<polygon fill=\"black\" stroke=\"black\" points=\"135.48,-250.18 140.31,-240.75 130.65,-245.11 135.48,-250.18\"/>\n",
       "</g>\n",
       "<!-- sigma -->\n",
       "<g id=\"node2\" class=\"node\">\n",
       "<title>sigma</title>\n",
       "<polygon fill=\"none\" stroke=\"black\" points=\"418.62,-109.91 328.37,-109.91 328.37,-52.41 418.62,-52.41 418.62,-109.91\"/>\n",
       "<text text-anchor=\"middle\" x=\"373.5\" y=\"-92.61\" font-family=\"Times,serif\" font-size=\"14.00\">sigma</text>\n",
       "<text text-anchor=\"middle\" x=\"373.5\" y=\"-76.11\" font-family=\"Times,serif\" font-size=\"14.00\">~</text>\n",
       "<text text-anchor=\"middle\" x=\"373.5\" y=\"-59.61\" font-family=\"Times,serif\" font-size=\"14.00\">Deterministic</text>\n",
       "</g>\n",
       "<!-- tau_alpha -->\n",
       "<g id=\"node3\" class=\"node\">\n",
       "<title>tau_alpha</title>\n",
       "<ellipse fill=\"none\" stroke=\"black\" cx=\"165.5\" cy=\"-328.29\" rx=\"48.44\" ry=\"40.66\"/>\n",
       "<text text-anchor=\"middle\" x=\"165.5\" y=\"-339.74\" font-family=\"Times,serif\" font-size=\"14.00\">tau_alpha</text>\n",
       "<text text-anchor=\"middle\" x=\"165.5\" y=\"-323.24\" font-family=\"Times,serif\" font-size=\"14.00\">~</text>\n",
       "<text text-anchor=\"middle\" x=\"165.5\" y=\"-306.74\" font-family=\"Times,serif\" font-size=\"14.00\">Gamma</text>\n",
       "</g>\n",
       "<!-- tau_alpha&#45;&gt;alpha -->\n",
       "<g id=\"edge3\" class=\"edge\">\n",
       "<title>tau_alpha&#45;&gt;alpha</title>\n",
       "<path fill=\"none\" stroke=\"black\" d=\"M167.23,-287.28C167.57,-279.5 167.93,-271.25 168.28,-263.16\"/>\n",
       "<polygon fill=\"black\" stroke=\"black\" points=\"171.76,-263.57 168.7,-253.43 164.77,-263.27 171.76,-263.57\"/>\n",
       "</g>\n",
       "<!-- mu_beta -->\n",
       "<g id=\"node4\" class=\"node\">\n",
       "<title>mu_beta</title>\n",
       "<ellipse fill=\"none\" stroke=\"black\" cx=\"276.5\" cy=\"-328.29\" rx=\"44.72\" ry=\"40.66\"/>\n",
       "<text text-anchor=\"middle\" x=\"276.5\" y=\"-339.74\" font-family=\"Times,serif\" font-size=\"14.00\">mu_beta</text>\n",
       "<text text-anchor=\"middle\" x=\"276.5\" y=\"-323.24\" font-family=\"Times,serif\" font-size=\"14.00\">~</text>\n",
       "<text text-anchor=\"middle\" x=\"276.5\" y=\"-306.74\" font-family=\"Times,serif\" font-size=\"14.00\">Normal</text>\n",
       "</g>\n",
       "<!-- beta -->\n",
       "<g id=\"node8\" class=\"node\">\n",
       "<title>beta</title>\n",
       "<ellipse fill=\"none\" stroke=\"black\" cx=\"270.5\" cy=\"-210.98\" rx=\"41.01\" ry=\"40.66\"/>\n",
       "<text text-anchor=\"middle\" x=\"270.5\" y=\"-222.43\" font-family=\"Times,serif\" font-size=\"14.00\">beta</text>\n",
       "<text text-anchor=\"middle\" x=\"270.5\" y=\"-205.93\" font-family=\"Times,serif\" font-size=\"14.00\">~</text>\n",
       "<text text-anchor=\"middle\" x=\"270.5\" y=\"-189.43\" font-family=\"Times,serif\" font-size=\"14.00\">Normal</text>\n",
       "</g>\n",
       "<!-- mu_beta&#45;&gt;beta -->\n",
       "<g id=\"edge4\" class=\"edge\">\n",
       "<title>mu_beta&#45;&gt;beta</title>\n",
       "<path fill=\"none\" stroke=\"black\" d=\"M274.42,-287.28C274.01,-279.5 273.58,-271.25 273.16,-263.16\"/>\n",
       "<polygon fill=\"black\" stroke=\"black\" points=\"276.67,-263.23 272.65,-253.43 269.68,-263.59 276.67,-263.23\"/>\n",
       "</g>\n",
       "<!-- tau_beta -->\n",
       "<g id=\"node5\" class=\"node\">\n",
       "<title>tau_beta</title>\n",
       "<ellipse fill=\"none\" stroke=\"black\" cx=\"382.5\" cy=\"-328.29\" rx=\"43.66\" ry=\"40.66\"/>\n",
       "<text text-anchor=\"middle\" x=\"382.5\" y=\"-339.74\" font-family=\"Times,serif\" font-size=\"14.00\">tau_beta</text>\n",
       "<text text-anchor=\"middle\" x=\"382.5\" y=\"-323.24\" font-family=\"Times,serif\" font-size=\"14.00\">~</text>\n",
       "<text text-anchor=\"middle\" x=\"382.5\" y=\"-306.74\" font-family=\"Times,serif\" font-size=\"14.00\">Gamma</text>\n",
       "</g>\n",
       "<!-- tau_beta&#45;&gt;beta -->\n",
       "<g id=\"edge5\" class=\"edge\">\n",
       "<title>tau_beta&#45;&gt;beta</title>\n",
       "<path fill=\"none\" stroke=\"black\" d=\"M353.65,-297.6C339.19,-282.71 321.55,-264.54 306.23,-248.77\"/>\n",
       "<polygon fill=\"black\" stroke=\"black\" points=\"309,-246.6 299.52,-241.86 303.98,-251.47 309,-246.6\"/>\n",
       "</g>\n",
       "<!-- tau -->\n",
       "<g id=\"node6\" class=\"node\">\n",
       "<title>tau</title>\n",
       "<ellipse fill=\"none\" stroke=\"black\" cx=\"373.5\" cy=\"-210.98\" rx=\"42.6\" ry=\"40.66\"/>\n",
       "<text text-anchor=\"middle\" x=\"373.5\" y=\"-222.43\" font-family=\"Times,serif\" font-size=\"14.00\">tau</text>\n",
       "<text text-anchor=\"middle\" x=\"373.5\" y=\"-205.93\" font-family=\"Times,serif\" font-size=\"14.00\">~</text>\n",
       "<text text-anchor=\"middle\" x=\"373.5\" y=\"-189.43\" font-family=\"Times,serif\" font-size=\"14.00\">Gamma</text>\n",
       "</g>\n",
       "<!-- tau&#45;&gt;sigma -->\n",
       "<g id=\"edge1\" class=\"edge\">\n",
       "<title>tau&#45;&gt;sigma</title>\n",
       "<path fill=\"none\" stroke=\"black\" d=\"M373.5,-169.88C373.5,-154.48 373.5,-136.93 373.5,-121.59\"/>\n",
       "<polygon fill=\"black\" stroke=\"black\" points=\"377,-121.88 373.5,-111.88 370,-121.88 377,-121.88\"/>\n",
       "</g>\n",
       "<!-- y -->\n",
       "<g id=\"node9\" class=\"node\">\n",
       "<title>y</title>\n",
       "<ellipse fill=\"lightgrey\" stroke=\"black\" cx=\"269.5\" cy=\"-81.16\" rx=\"41.01\" ry=\"40.66\"/>\n",
       "<text text-anchor=\"middle\" x=\"269.5\" y=\"-92.61\" font-family=\"Times,serif\" font-size=\"14.00\">y</text>\n",
       "<text text-anchor=\"middle\" x=\"269.5\" y=\"-76.11\" font-family=\"Times,serif\" font-size=\"14.00\">~</text>\n",
       "<text text-anchor=\"middle\" x=\"269.5\" y=\"-59.61\" font-family=\"Times,serif\" font-size=\"14.00\">Normal</text>\n",
       "</g>\n",
       "<!-- tau&#45;&gt;y -->\n",
       "<g id=\"edge7\" class=\"edge\">\n",
       "<title>tau&#45;&gt;y</title>\n",
       "<path fill=\"none\" stroke=\"black\" d=\"M351.46,-175.73C343.12,-163.45 333.27,-149.71 323.5,-137.82 318.09,-131.24 312.05,-124.51 306.03,-118.11\"/>\n",
       "<polygon fill=\"black\" stroke=\"black\" points=\"308.95,-116.1 299.51,-111.3 303.9,-120.94 308.95,-116.1\"/>\n",
       "</g>\n",
       "<!-- alpha&#45;&gt;y -->\n",
       "<g id=\"edge6\" class=\"edge\">\n",
       "<title>alpha&#45;&gt;y</title>\n",
       "<path fill=\"none\" stroke=\"black\" d=\"M192.61,-176.35C201.03,-164 210.92,-150.06 220.5,-137.82 225.03,-132.03 229.98,-126.05 234.93,-120.26\"/>\n",
       "<polygon fill=\"black\" stroke=\"black\" points=\"237.24,-122.94 241.15,-113.09 231.95,-118.35 237.24,-122.94\"/>\n",
       "</g>\n",
       "<!-- beta&#45;&gt;y -->\n",
       "<g id=\"edge8\" class=\"edge\">\n",
       "<title>beta&#45;&gt;y</title>\n",
       "<path fill=\"none\" stroke=\"black\" d=\"M270.18,-169.88C270.09,-158.34 269.99,-145.6 269.9,-133.48\"/>\n",
       "<polygon fill=\"black\" stroke=\"black\" points=\"273.4,-133.59 269.82,-123.62 266.4,-133.65 273.4,-133.59\"/>\n",
       "</g>\n",
       "</g>\n",
       "</svg>\n"
      ],
      "text/plain": [
       "<graphviz.graphs.Digraph at 0x15f968ed0>"
      ]
     },
     "execution_count": 5,
     "metadata": {},
     "output_type": "execute_result"
    }
   ],
   "source": [
    "pm.model_to_graphviz(model=m)"
   ]
  },
  {
   "cell_type": "code",
   "execution_count": 6,
   "id": "e36efc90-d365-41cd-b7f9-f9a36c179132",
   "metadata": {},
   "outputs": [
    {
     "name": "stdout",
     "output_type": "stream",
     "text": [
      "Last updated: Thu Jun 12 2025\n",
      "\n",
      "Python implementation: CPython\n",
      "Python version       : 3.11.6\n",
      "IPython version      : 8.17.2\n",
      "\n",
      "pytensor: 2.30.3\n",
      "\n",
      "arviz: 0.21.0\n",
      "numpy: 1.25.2\n",
      "pymc : 5.22.0\n",
      "\n"
     ]
    }
   ],
   "source": [
    "%load_ext watermark\n",
    "%watermark -n -u -v -iv -p pytensor"
   ]
  }
 ],
 "metadata": {
  "kernelspec": {
   "display_name": "Python 3 (ipykernel)",
   "language": "python",
   "name": "python3"
  },
  "language_info": {
   "codemirror_mode": {
    "name": "ipython",
    "version": 3
   },
   "file_extension": ".py",
   "mimetype": "text/x-python",
   "name": "python",
   "nbconvert_exporter": "python",
   "pygments_lexer": "ipython3",
   "version": "3.11.6"
  }
 },
 "nbformat": 4,
 "nbformat_minor": 5
}
