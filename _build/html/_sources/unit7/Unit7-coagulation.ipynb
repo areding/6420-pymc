{
 "cells": [
  {
   "cell_type": "code",
   "execution_count": 3,
   "id": "5074e9a3",
   "metadata": {
    "tags": [
     "hide-output"
    ]
   },
   "outputs": [],
   "source": [
    "import pymc as pm\n",
    "import numpy as np\n",
    "import arviz as az\n",
    "from itertools import combinations"
   ]
  },
  {
   "cell_type": "markdown",
   "id": "d0d4ac84",
   "metadata": {},
   "source": [
    "# 7. Coagulation*\n",
    "\n",
    "An example of Bayesian ANOVA.\n",
    "\n",
    "Adapted from [Unit 7: anovacoagulation.odc](https://raw.githubusercontent.com/areding/6420-pymc/main/original_examples/Codes4Unit7/anovacoagulation.odc)."
   ]
  },
  {
   "cell_type": "markdown",
   "id": "195a19bd",
   "metadata": {},
   "source": [
    "Here 24 animals are randomly allocated to 4 different diets,  but the numbers allocated to different diets are not the same. The coagulation time for blood is measured for each animal. Are the diet-based differences significant? Example from page 166 of [Statistics for Experimenters](https://pages.stat.wisc.edu/~yxu/Teaching/16%20spring%20Stat602/%5bGeorge_E._P._Box,_J._Stuart_Hunter,_William_G._Hu(BookZZ.org).pdf) {cite:t}`box2005statistics`."
   ]
  },
  {
   "cell_type": "code",
   "execution_count": 4,
   "id": "3ace28c7",
   "metadata": {},
   "outputs": [
    {
     "data": {
      "text/plain": [
       "{1: [62, 60, 63, 59],\n",
       " 2: [63, 67, 71, 64, 65, 66],\n",
       " 3: [68, 66, 71, 67, 68, 68],\n",
       " 4: [56, 62, 60, 61, 63, 64, 63, 59]}"
      ]
     },
     "execution_count": 4,
     "metadata": {},
     "output_type": "execute_result"
    }
   ],
   "source": [
    "# cut and pasted data from .odc file\n",
    "# fmt: off\n",
    "times = (62, 60, 63, 59, 63, 67, 71, 64, 65, 66, 68, 66, 71, 67, 68, 68, 56, 62,\n",
    "         60, 61, 63, 64, 63, 59)\n",
    "diets = (1, 1, 1, 1, 2, 2, 2, 2, 2, 2, 3, 3, 3, 3, 3, 3, 4, 4, 4, 4, 4, 4, 4, 4)\n",
    "# fmt: on\n",
    "\n",
    "# create dictionary where each key is a diet and values are lists of times\n",
    "data = {}\n",
    "for key, val in zip(diets, times):\n",
    "    data.setdefault(key, []).append(val)\n",
    "data"
   ]
  },
  {
   "cell_type": "markdown",
   "id": "fbfa5f14",
   "metadata": {},
   "source": [
    "## Simple method\n",
    "\n",
    "No loops! If you're using this style, 4 treatments is probably the max before it starts to get too annoying to type out."
   ]
  },
  {
   "cell_type": "code",
   "execution_count": 5,
   "id": "47256140",
   "metadata": {
    "tags": [
     "hide-output"
    ]
   },
   "outputs": [
    {
     "name": "stderr",
     "output_type": "stream",
     "text": [
      "Initializing NUTS using jitter+adapt_diag...\n",
      "Multiprocess sampling (4 chains in 4 jobs)\n",
      "NUTS: [mu_0, tau, alpha]\n"
     ]
    },
    {
     "data": {
      "application/vnd.jupyter.widget-view+json": {
       "model_id": "cae2be733a1d41a2ae4515c79ff14043",
       "version_major": 2,
       "version_minor": 0
      },
      "text/plain": [
       "Output()"
      ]
     },
     "metadata": {},
     "output_type": "display_data"
    },
    {
     "data": {
      "text/html": [
       "<pre style=\"white-space:pre;overflow-x:auto;line-height:normal;font-family:Menlo,'DejaVu Sans Mono',consolas,'Courier New',monospace\"></pre>\n"
      ],
      "text/plain": []
     },
     "metadata": {},
     "output_type": "display_data"
    },
    {
     "name": "stderr",
     "output_type": "stream",
     "text": [
      "Sampling 4 chains for 1_000 tune and 5_000 draw iterations (4_000 + 20_000 draws total) took 2 seconds.\n"
     ]
    }
   ],
   "source": [
    "with pm.Model() as m:\n",
    "    mu0 = pm.Normal(\"mu_0\", mu=0, tau=0.0001)\n",
    "    tau = pm.Gamma(\"tau\", 0.001, 0.001)\n",
    "\n",
    "    alpha = pm.ZeroSumNormal(\"alpha\", sigma=10, shape=4)\n",
    "\n",
    "    mu_1 = mu0 + alpha[0]\n",
    "    mu_2 = mu0 + alpha[1]\n",
    "    mu_3 = mu0 + alpha[2]\n",
    "    mu_4 = mu0 + alpha[3]\n",
    "\n",
    "    pm.Normal(\"lik1\", mu=mu_1, tau=tau, observed=data[1])\n",
    "    pm.Normal(\"lik2\", mu=mu_2, tau=tau, observed=data[2])\n",
    "    pm.Normal(\"lik3\", mu=mu_3, tau=tau, observed=data[3])\n",
    "    pm.Normal(\"lik4\", mu=mu_4, tau=tau, observed=data[4])\n",
    "\n",
    "    onetwo = pm.Deterministic(\"α1-α2\", alpha[0] - alpha[1])\n",
    "    onethree = pm.Deterministic(\"α1-α3\", alpha[0] - alpha[2])\n",
    "    onefour = pm.Deterministic(\"α1-α4\", alpha[0] - alpha[3])\n",
    "    twothree = pm.Deterministic(\"α2-α3\", alpha[1] - alpha[2])\n",
    "    twofour = pm.Deterministic(\"α2-α4\", alpha[1] - alpha[3])\n",
    "    threefour = pm.Deterministic(\"α3-α4\", alpha[2] - alpha[3])\n",
    "\n",
    "    trace = pm.sample(5000)"
   ]
  },
  {
   "cell_type": "code",
   "execution_count": 6,
   "id": "a1f8ef11",
   "metadata": {},
   "outputs": [
    {
     "data": {
      "text/html": [
       "<div>\n",
       "<style scoped>\n",
       "    .dataframe tbody tr th:only-of-type {\n",
       "        vertical-align: middle;\n",
       "    }\n",
       "\n",
       "    .dataframe tbody tr th {\n",
       "        vertical-align: top;\n",
       "    }\n",
       "\n",
       "    .dataframe thead th {\n",
       "        text-align: right;\n",
       "    }\n",
       "</style>\n",
       "<table border=\"1\" class=\"dataframe\">\n",
       "  <thead>\n",
       "    <tr style=\"text-align: right;\">\n",
       "      <th></th>\n",
       "      <th>mean</th>\n",
       "      <th>sd</th>\n",
       "      <th>hdi_3%</th>\n",
       "      <th>hdi_97%</th>\n",
       "      <th>mcse_mean</th>\n",
       "      <th>mcse_sd</th>\n",
       "      <th>ess_bulk</th>\n",
       "      <th>ess_tail</th>\n",
       "      <th>r_hat</th>\n",
       "    </tr>\n",
       "  </thead>\n",
       "  <tbody>\n",
       "    <tr>\n",
       "      <th>mu_0</th>\n",
       "      <td>64.002</td>\n",
       "      <td>0.527</td>\n",
       "      <td>63.001</td>\n",
       "      <td>64.989</td>\n",
       "      <td>0.004</td>\n",
       "      <td>0.003</td>\n",
       "      <td>16804.0</td>\n",
       "      <td>14148.0</td>\n",
       "      <td>1.0</td>\n",
       "    </tr>\n",
       "    <tr>\n",
       "      <th>tau</th>\n",
       "      <td>0.178</td>\n",
       "      <td>0.057</td>\n",
       "      <td>0.079</td>\n",
       "      <td>0.284</td>\n",
       "      <td>0.000</td>\n",
       "      <td>0.000</td>\n",
       "      <td>16225.0</td>\n",
       "      <td>13057.0</td>\n",
       "      <td>1.0</td>\n",
       "    </tr>\n",
       "    <tr>\n",
       "      <th>alpha[0]</th>\n",
       "      <td>-2.956</td>\n",
       "      <td>1.023</td>\n",
       "      <td>-4.909</td>\n",
       "      <td>-1.033</td>\n",
       "      <td>0.007</td>\n",
       "      <td>0.005</td>\n",
       "      <td>18953.0</td>\n",
       "      <td>14236.0</td>\n",
       "      <td>1.0</td>\n",
       "    </tr>\n",
       "    <tr>\n",
       "      <th>alpha[1]</th>\n",
       "      <td>1.975</td>\n",
       "      <td>0.885</td>\n",
       "      <td>0.327</td>\n",
       "      <td>3.700</td>\n",
       "      <td>0.006</td>\n",
       "      <td>0.005</td>\n",
       "      <td>20308.0</td>\n",
       "      <td>15274.0</td>\n",
       "      <td>1.0</td>\n",
       "    </tr>\n",
       "    <tr>\n",
       "      <th>alpha[2]</th>\n",
       "      <td>3.960</td>\n",
       "      <td>0.891</td>\n",
       "      <td>2.326</td>\n",
       "      <td>5.695</td>\n",
       "      <td>0.006</td>\n",
       "      <td>0.004</td>\n",
       "      <td>22633.0</td>\n",
       "      <td>14953.0</td>\n",
       "      <td>1.0</td>\n",
       "    </tr>\n",
       "    <tr>\n",
       "      <th>alpha[3]</th>\n",
       "      <td>-2.979</td>\n",
       "      <td>0.808</td>\n",
       "      <td>-4.491</td>\n",
       "      <td>-1.433</td>\n",
       "      <td>0.005</td>\n",
       "      <td>0.004</td>\n",
       "      <td>24695.0</td>\n",
       "      <td>16552.0</td>\n",
       "      <td>1.0</td>\n",
       "    </tr>\n",
       "    <tr>\n",
       "      <th>α1-α2</th>\n",
       "      <td>-4.931</td>\n",
       "      <td>1.606</td>\n",
       "      <td>-7.999</td>\n",
       "      <td>-1.931</td>\n",
       "      <td>0.012</td>\n",
       "      <td>0.008</td>\n",
       "      <td>18919.0</td>\n",
       "      <td>13622.0</td>\n",
       "      <td>1.0</td>\n",
       "    </tr>\n",
       "    <tr>\n",
       "      <th>α1-α3</th>\n",
       "      <td>-6.915</td>\n",
       "      <td>1.608</td>\n",
       "      <td>-9.936</td>\n",
       "      <td>-3.912</td>\n",
       "      <td>0.012</td>\n",
       "      <td>0.008</td>\n",
       "      <td>19548.0</td>\n",
       "      <td>13791.0</td>\n",
       "      <td>1.0</td>\n",
       "    </tr>\n",
       "    <tr>\n",
       "      <th>α1-α4</th>\n",
       "      <td>0.023</td>\n",
       "      <td>1.515</td>\n",
       "      <td>-2.889</td>\n",
       "      <td>2.791</td>\n",
       "      <td>0.011</td>\n",
       "      <td>0.010</td>\n",
       "      <td>20838.0</td>\n",
       "      <td>15546.0</td>\n",
       "      <td>1.0</td>\n",
       "    </tr>\n",
       "    <tr>\n",
       "      <th>α2-α3</th>\n",
       "      <td>-1.984</td>\n",
       "      <td>1.433</td>\n",
       "      <td>-4.657</td>\n",
       "      <td>0.784</td>\n",
       "      <td>0.010</td>\n",
       "      <td>0.008</td>\n",
       "      <td>22336.0</td>\n",
       "      <td>15018.0</td>\n",
       "      <td>1.0</td>\n",
       "    </tr>\n",
       "    <tr>\n",
       "      <th>α2-α4</th>\n",
       "      <td>4.955</td>\n",
       "      <td>1.333</td>\n",
       "      <td>2.497</td>\n",
       "      <td>7.563</td>\n",
       "      <td>0.009</td>\n",
       "      <td>0.006</td>\n",
       "      <td>22343.0</td>\n",
       "      <td>15142.0</td>\n",
       "      <td>1.0</td>\n",
       "    </tr>\n",
       "    <tr>\n",
       "      <th>α3-α4</th>\n",
       "      <td>6.939</td>\n",
       "      <td>1.347</td>\n",
       "      <td>4.396</td>\n",
       "      <td>9.458</td>\n",
       "      <td>0.009</td>\n",
       "      <td>0.006</td>\n",
       "      <td>25176.0</td>\n",
       "      <td>15523.0</td>\n",
       "      <td>1.0</td>\n",
       "    </tr>\n",
       "  </tbody>\n",
       "</table>\n",
       "</div>"
      ],
      "text/plain": [
       "            mean     sd  hdi_3%  hdi_97%  mcse_mean  mcse_sd  ess_bulk  \\\n",
       "mu_0      64.002  0.527  63.001   64.989      0.004    0.003   16804.0   \n",
       "tau        0.178  0.057   0.079    0.284      0.000    0.000   16225.0   \n",
       "alpha[0]  -2.956  1.023  -4.909   -1.033      0.007    0.005   18953.0   \n",
       "alpha[1]   1.975  0.885   0.327    3.700      0.006    0.005   20308.0   \n",
       "alpha[2]   3.960  0.891   2.326    5.695      0.006    0.004   22633.0   \n",
       "alpha[3]  -2.979  0.808  -4.491   -1.433      0.005    0.004   24695.0   \n",
       "α1-α2     -4.931  1.606  -7.999   -1.931      0.012    0.008   18919.0   \n",
       "α1-α3     -6.915  1.608  -9.936   -3.912      0.012    0.008   19548.0   \n",
       "α1-α4      0.023  1.515  -2.889    2.791      0.011    0.010   20838.0   \n",
       "α2-α3     -1.984  1.433  -4.657    0.784      0.010    0.008   22336.0   \n",
       "α2-α4      4.955  1.333   2.497    7.563      0.009    0.006   22343.0   \n",
       "α3-α4      6.939  1.347   4.396    9.458      0.009    0.006   25176.0   \n",
       "\n",
       "          ess_tail  r_hat  \n",
       "mu_0       14148.0    1.0  \n",
       "tau        13057.0    1.0  \n",
       "alpha[0]   14236.0    1.0  \n",
       "alpha[1]   15274.0    1.0  \n",
       "alpha[2]   14953.0    1.0  \n",
       "alpha[3]   16552.0    1.0  \n",
       "α1-α2      13622.0    1.0  \n",
       "α1-α3      13791.0    1.0  \n",
       "α1-α4      15546.0    1.0  \n",
       "α2-α3      15018.0    1.0  \n",
       "α2-α4      15142.0    1.0  \n",
       "α3-α4      15523.0    1.0  "
      ]
     },
     "execution_count": 6,
     "metadata": {},
     "output_type": "execute_result"
    }
   ],
   "source": [
    "az.summary(trace)"
   ]
  },
  {
   "cell_type": "code",
   "execution_count": 7,
   "id": "a8f1e0d4",
   "metadata": {},
   "outputs": [
    {
     "data": {
      "text/plain": [
       "Text(0.5, 1.0, 'Ridgeplot of $\\\\alpha$ and contrasts')"
      ]
     },
     "execution_count": 7,
     "metadata": {},
     "output_type": "execute_result"
    },
    {
     "data": {
      "image/png": "[encoded data removed]",
      "text/plain": [
       "<Figure size 1200x1320 with 1 Axes>"
      ]
     },
     "metadata": {},
     "output_type": "display_data"
    }
   ],
   "source": [
    "axes = az.plot_forest(\n",
    "    trace,\n",
    "    var_names=[\"~mu_0\", \"~tau\"],\n",
    "    kind=\"ridgeplot\",\n",
    "    combined=True,\n",
    "    ridgeplot_truncate=False,\n",
    "    ridgeplot_overlap=2,\n",
    "    ridgeplot_alpha=0.8,\n",
    "    colors=\"white\",\n",
    ")\n",
    "\n",
    "axes[0].set_title(\"Ridgeplot of $\\\\alpha$ and contrasts\")"
   ]
  },
  {
   "cell_type": "markdown",
   "id": "ec7443cc",
   "metadata": {},
   "source": [
    "## A more concise method\n",
    "Not necessarily pretty, but easier to extend to more treatments. I'm interested in seeing other peoples' methods here; I feel like this could still be a lot cleaner."
   ]
  },
  {
   "cell_type": "code",
   "execution_count": 8,
   "id": "3b43b405",
   "metadata": {},
   "outputs": [],
   "source": [
    "from itertools import combinations\n",
    "\n",
    "\n",
    "def contrasts(var):\n",
    "    \"\"\"Calculate differences between all pairs of levels with names like \"alpha[i] - alpha[j]\".\n",
    "\n",
    "    var: pytensor.tensor.var.TensorVariable\n",
    "    \"\"\"\n",
    "    name = var.name\n",
    "    n = var.shape.eval()[0]  # use eval method to get shape within model context\n",
    "    for i, j in combinations(range(n), 2):\n",
    "        pm.Deterministic(f\"{name}[{i}] - {name}[{j}]\", var[i] - var[j])"
   ]
  },
  {
   "cell_type": "code",
   "execution_count": 9,
   "id": "9801d470",
   "metadata": {
    "tags": [
     "hide-output"
    ]
   },
   "outputs": [
    {
     "name": "stderr",
     "output_type": "stream",
     "text": [
      "Initializing NUTS using jitter+adapt_diag...\n",
      "Multiprocess sampling (4 chains in 4 jobs)\n",
      "NUTS: [mu0, tau, αlpha]\n"
     ]
    },
    {
     "data": {
      "application/vnd.jupyter.widget-view+json": {
       "model_id": "2c609efefafc4d559ec11d5d1667bf67",
       "version_major": 2,
       "version_minor": 0
      },
      "text/plain": [
       "Output()"
      ]
     },
     "metadata": {},
     "output_type": "display_data"
    },
    {
     "data": {
      "text/html": [
       "<pre style=\"white-space:pre;overflow-x:auto;line-height:normal;font-family:Menlo,'DejaVu Sans Mono',consolas,'Courier New',monospace\"></pre>\n"
      ],
      "text/plain": []
     },
     "metadata": {},
     "output_type": "display_data"
    },
    {
     "name": "stderr",
     "output_type": "stream",
     "text": [
      "Sampling 4 chains for 1_000 tune and 5_000 draw iterations (4_000 + 20_000 draws total) took 2 seconds.\n"
     ]
    }
   ],
   "source": [
    "with pm.Model() as m:\n",
    "    mu0 = pm.Normal(\"mu0\", mu=0, tau=0.0001)\n",
    "    tau = pm.Gamma(\"tau\", 0.001, 0.001)\n",
    "\n",
    "    alphas = pm.ZeroSumNormal(f\"αlpha\", sigma=10, shape=4)\n",
    "    mus = [\n",
    "        pm.Deterministic(f\"mu{i + 1}\", mu0 + alpha) for i, alpha in enumerate(alphas)\n",
    "    ]\n",
    "\n",
    "    [\n",
    "        pm.Normal(f\"lik{i + 1}\", mu=mus[i], tau=tau, observed=data[i + 1])\n",
    "        for i, mu in enumerate(mus)\n",
    "    ]\n",
    "\n",
    "    contrasts(alphas)\n",
    "    trace = pm.sample(5000)"
   ]
  },
  {
   "cell_type": "code",
   "execution_count": 13,
   "id": "f8e34c05",
   "metadata": {},
   "outputs": [
    {
     "data": {
      "text/html": [
       "<div>\n",
       "<style scoped>\n",
       "    .dataframe tbody tr th:only-of-type {\n",
       "        vertical-align: middle;\n",
       "    }\n",
       "\n",
       "    .dataframe tbody tr th {\n",
       "        vertical-align: top;\n",
       "    }\n",
       "\n",
       "    .dataframe thead th {\n",
       "        text-align: right;\n",
       "    }\n",
       "</style>\n",
       "<table border=\"1\" class=\"dataframe\">\n",
       "  <thead>\n",
       "    <tr style=\"text-align: right;\">\n",
       "      <th></th>\n",
       "      <th>mean</th>\n",
       "      <th>sd</th>\n",
       "      <th>hdi_3%</th>\n",
       "      <th>hdi_97%</th>\n",
       "    </tr>\n",
       "  </thead>\n",
       "  <tbody>\n",
       "    <tr>\n",
       "      <th>mu0</th>\n",
       "      <td>64.010</td>\n",
       "      <td>0.527</td>\n",
       "      <td>63.023</td>\n",
       "      <td>65.006</td>\n",
       "    </tr>\n",
       "    <tr>\n",
       "      <th>tau</th>\n",
       "      <td>0.179</td>\n",
       "      <td>0.056</td>\n",
       "      <td>0.082</td>\n",
       "      <td>0.286</td>\n",
       "    </tr>\n",
       "    <tr>\n",
       "      <th>αlpha[0]</th>\n",
       "      <td>-2.945</td>\n",
       "      <td>1.007</td>\n",
       "      <td>-4.846</td>\n",
       "      <td>-1.032</td>\n",
       "    </tr>\n",
       "    <tr>\n",
       "      <th>αlpha[1]</th>\n",
       "      <td>1.981</td>\n",
       "      <td>0.880</td>\n",
       "      <td>0.367</td>\n",
       "      <td>3.686</td>\n",
       "    </tr>\n",
       "    <tr>\n",
       "      <th>αlpha[2]</th>\n",
       "      <td>3.953</td>\n",
       "      <td>0.887</td>\n",
       "      <td>2.315</td>\n",
       "      <td>5.682</td>\n",
       "    </tr>\n",
       "    <tr>\n",
       "      <th>αlpha[3]</th>\n",
       "      <td>-2.989</td>\n",
       "      <td>0.813</td>\n",
       "      <td>-4.515</td>\n",
       "      <td>-1.469</td>\n",
       "    </tr>\n",
       "    <tr>\n",
       "      <th>mu1</th>\n",
       "      <td>61.065</td>\n",
       "      <td>1.230</td>\n",
       "      <td>58.777</td>\n",
       "      <td>63.405</td>\n",
       "    </tr>\n",
       "    <tr>\n",
       "      <th>mu2</th>\n",
       "      <td>65.991</td>\n",
       "      <td>1.002</td>\n",
       "      <td>64.097</td>\n",
       "      <td>67.857</td>\n",
       "    </tr>\n",
       "    <tr>\n",
       "      <th>mu3</th>\n",
       "      <td>67.963</td>\n",
       "      <td>1.022</td>\n",
       "      <td>65.994</td>\n",
       "      <td>69.865</td>\n",
       "    </tr>\n",
       "    <tr>\n",
       "      <th>mu4</th>\n",
       "      <td>61.021</td>\n",
       "      <td>0.883</td>\n",
       "      <td>59.363</td>\n",
       "      <td>62.679</td>\n",
       "    </tr>\n",
       "    <tr>\n",
       "      <th>αlpha[0] - αlpha[1]</th>\n",
       "      <td>-4.926</td>\n",
       "      <td>1.591</td>\n",
       "      <td>-7.867</td>\n",
       "      <td>-1.863</td>\n",
       "    </tr>\n",
       "    <tr>\n",
       "      <th>αlpha[0] - αlpha[2]</th>\n",
       "      <td>-6.898</td>\n",
       "      <td>1.581</td>\n",
       "      <td>-9.846</td>\n",
       "      <td>-3.855</td>\n",
       "    </tr>\n",
       "    <tr>\n",
       "      <th>αlpha[0] - αlpha[3]</th>\n",
       "      <td>0.044</td>\n",
       "      <td>1.502</td>\n",
       "      <td>-2.762</td>\n",
       "      <td>2.933</td>\n",
       "    </tr>\n",
       "    <tr>\n",
       "      <th>αlpha[1] - αlpha[2]</th>\n",
       "      <td>-1.973</td>\n",
       "      <td>1.425</td>\n",
       "      <td>-4.727</td>\n",
       "      <td>0.631</td>\n",
       "    </tr>\n",
       "    <tr>\n",
       "      <th>αlpha[1] - αlpha[3]</th>\n",
       "      <td>4.970</td>\n",
       "      <td>1.331</td>\n",
       "      <td>2.447</td>\n",
       "      <td>7.495</td>\n",
       "    </tr>\n",
       "    <tr>\n",
       "      <th>αlpha[2] - αlpha[3]</th>\n",
       "      <td>6.942</td>\n",
       "      <td>1.360</td>\n",
       "      <td>4.361</td>\n",
       "      <td>9.515</td>\n",
       "    </tr>\n",
       "  </tbody>\n",
       "</table>\n",
       "</div>"
      ],
      "text/plain": [
       "                       mean     sd  hdi_3%  hdi_97%\n",
       "mu0                  64.010  0.527  63.023   65.006\n",
       "tau                   0.179  0.056   0.082    0.286\n",
       "αlpha[0]             -2.945  1.007  -4.846   -1.032\n",
       "αlpha[1]              1.981  0.880   0.367    3.686\n",
       "αlpha[2]              3.953  0.887   2.315    5.682\n",
       "αlpha[3]             -2.989  0.813  -4.515   -1.469\n",
       "mu1                  61.065  1.230  58.777   63.405\n",
       "mu2                  65.991  1.002  64.097   67.857\n",
       "mu3                  67.963  1.022  65.994   69.865\n",
       "mu4                  61.021  0.883  59.363   62.679\n",
       "αlpha[0] - αlpha[1]  -4.926  1.591  -7.867   -1.863\n",
       "αlpha[0] - αlpha[2]  -6.898  1.581  -9.846   -3.855\n",
       "αlpha[0] - αlpha[3]   0.044  1.502  -2.762    2.933\n",
       "αlpha[1] - αlpha[2]  -1.973  1.425  -4.727    0.631\n",
       "αlpha[1] - αlpha[3]   4.970  1.331   2.447    7.495\n",
       "αlpha[2] - αlpha[3]   6.942  1.360   4.361    9.515"
      ]
     },
     "execution_count": 13,
     "metadata": {},
     "output_type": "execute_result"
    }
   ],
   "source": [
    "az.summary(trace, kind=\"stats\")"
   ]
  },
  {
   "cell_type": "code",
   "execution_count": 11,
   "id": "74133f95",
   "metadata": {},
   "outputs": [
    {
     "name": "stdout",
     "output_type": "stream",
     "text": [
      "Last updated: Sun Mar 09 2025\n",
      "\n",
      "Python implementation: CPython\n",
      "Python version       : 3.12.7\n",
      "IPython version      : 8.29.0\n",
      "\n",
      "pytensor: 2.26.4\n",
      "\n",
      "arviz: 0.20.0\n",
      "pymc : 5.19.1\n",
      "numpy: 1.26.4\n",
      "\n"
     ]
    }
   ],
   "source": [
    "%load_ext watermark\n",
    "%watermark -n -u -v -iv -p pytensor"
   ]
  },
  {
   "cell_type": "code",
   "execution_count": null,
   "id": "054298a2",
   "metadata": {},
   "outputs": [],
   "source": []
  }
 ],
 "metadata": {
  "kernelspec": {
   "display_name": "pymc_macos15",
   "language": "python",
   "name": "python3"
  },
  "language_info": {
   "codemirror_mode": {
    "name": "ipython",
    "version": 3
   },
   "file_extension": ".py",
   "mimetype": "text/x-python",
   "name": "python",
   "nbconvert_exporter": "python",
   "pygments_lexer": "ipython3",
   "version": "3.12.7"
  }
 },
 "nbformat": 4,
 "nbformat_minor": 5
}
