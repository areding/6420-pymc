{
 "cells": [
  {
   "cell_type": "code",
   "execution_count": 1,
   "id": "81c27040",
   "metadata": {},
   "outputs": [],
   "source": [
    "import pymc as pm\n",
    "import numpy as np\n",
    "import arviz as az\n",
    "from pymc.math import switch, ge, exp"
   ]
  },
  {
   "cell_type": "markdown",
   "id": "37138bca",
   "metadata": {},
   "source": [
    "# Revisiting UK Coal Mining Disasters*\n",
    "\n",
    "Adapted from [Unit 10: disasters.odc](https://raw.githubusercontent.com/areding/6420-pymc/main/original_examples/Codes4Unit10/disasters.odc).\n",
    "\n",
    "Data can be found [here](https://raw.githubusercontent.com/areding/6420-pymc/main/data/r.txt)."
   ]
  },
  {
   "cell_type": "markdown",
   "id": "e79c8243",
   "metadata": {},
   "source": [
    "Change Point Analysis, discussed previously in [this Unit 5](../unit5/Unit5-Gibbs3.ipynb) example about Gibbs sampling.\n",
    "\n",
    "The 112 data points represent the numbers of coal-mining disasters involving 10 or more men killed per year between  1851 and 1962. \n",
    " \n",
    "Based on the observation that the there was a significant decrease around 1900, it is suitable to apply a change-point model to divide the whole dataset into two periods; each period with its own distribution of number of disasters.\n",
    " \n",
    "The data set was compiled by Maguire, Pearson and Wynn in 1952 and \n",
    "updated by Jarrett (1978). This data have been used by a number of authors to illustrate various techniques that can be applied to point processes\n",
    "\n",
    "\n",
    " Maguire, B. A., Pearson, E. S. and Wynn, A. H. A. (1952). The time intervals between industrial accidents.   Biometrika, 39, 168\u0013†180.\n",
    "\n",
    " Jarrett, R.G. (1979). A note on the intervals between coal-mining disasters. Biometrika, 66, 191-193. \n",
    "\n",
    " Carlin, Gelfand, and Smith (1992) Heirarchical Bayesian Analysis of Changepoint Problems. Applied Statistics, 41, 389-405.\n"
   ]
  },
  {
   "cell_type": "code",
   "execution_count": 2,
   "id": "45e6f391",
   "metadata": {},
   "outputs": [],
   "source": [
    "# X is the number of coal mine disasters per year\n",
    "# fmt: off\n",
    "X = np.array([4, 5, 4, 1, 0, 4, 3, 4, 0, 6, 3, 3, 4, 0, 2, 6, 3, 3, 5, 4, 5, 3, 1,\n",
    "     4, 4, 1, 5, 5, 3, 4, 2, 5, 2, 2, 3, 4, 2, 1, 3, 2, 2, 1, 1, 1, 1, 3,\n",
    "     0, 0, 1, 0, 1, 1, 0, 0, 3, 1, 0, 3, 2, 2, 0, 1, 1, 1, 0, 1, 0, 1, 0,\n",
    "     0, 0, 2, 1, 0, 0, 0, 1, 1, 0, 2, 3, 3, 1, 1, 2, 1, 1, 1, 1, 2, 4, 2,\n",
    "     0, 0, 0, 1, 4, 0, 0, 0, 1, 0, 0, 0, 0, 0, 1, 0, 0, 1, 0, 1])\n",
    "# fmt: on\n",
    "\n",
    "y = np.array([y for y in range(1851, 1963)])"
   ]
  },
  {
   "cell_type": "markdown",
   "id": "527ddd88",
   "metadata": {},
   "source": [
    "## Model 1"
   ]
  },
  {
   "cell_type": "code",
   "execution_count": 3,
   "id": "482d95b6",
   "metadata": {
    "tags": [
     "hide-output"
    ]
   },
   "outputs": [
    {
     "name": "stderr",
     "output_type": "stream",
     "text": [
      "Multiprocess sampling (4 chains in 4 jobs)\n",
      "CompoundStep\n",
      ">Metropolis: [year]\n",
      ">NUTS: [λ, μ]\n"
     ]
    },
    {
     "data": {
      "application/vnd.jupyter.widget-view+json": {
       "model_id": "1962494e444f47178a852ed5aca562ce",
       "version_major": 2,
       "version_minor": 0
      },
      "text/plain": [
       "Output()"
      ]
     },
     "metadata": {},
     "output_type": "display_data"
    },
    {
     "data": {
      "text/html": [
       "<pre style=\"white-space:pre;overflow-x:auto;line-height:normal;font-family:Menlo,'DejaVu Sans Mono',consolas,'Courier New',monospace\"></pre>\n"
      ],
      "text/plain": []
     },
     "metadata": {},
     "output_type": "display_data"
    },
    {
     "name": "stderr",
     "output_type": "stream",
     "text": [
      "Sampling 4 chains for 1_000 tune and 2_000 draw iterations (4_000 + 8_000 draws total) took 1 seconds.\n"
     ]
    }
   ],
   "source": [
    "α = 4\n",
    "β = 1\n",
    "γ = 0.5\n",
    "δ = 1\n",
    "\n",
    "with pm.Model() as m:\n",
    "    year = pm.DiscreteUniform(\"year\", 1851, 1963)\n",
    "    λ = pm.Gamma(\"λ\", α, β, initval=1)\n",
    "    μ = pm.Gamma(\"μ\", γ, δ, initval=1)\n",
    "\n",
    "    diff = pm.Deterministic(\"diff\", μ - λ)\n",
    "\n",
    "    rate = λ + switch(ge(y - year, 0), 1, 0) * diff\n",
    "    pm.Poisson(\"lik\", mu=rate, observed=X)\n",
    "\n",
    "    trace = pm.sample(2000)"
   ]
  },
  {
   "cell_type": "code",
   "execution_count": 4,
   "id": "9bd529a2",
   "metadata": {},
   "outputs": [
    {
     "data": {
      "text/html": [
       "<div>\n",
       "<style scoped>\n",
       "    .dataframe tbody tr th:only-of-type {\n",
       "        vertical-align: middle;\n",
       "    }\n",
       "\n",
       "    .dataframe tbody tr th {\n",
       "        vertical-align: top;\n",
       "    }\n",
       "\n",
       "    .dataframe thead th {\n",
       "        text-align: right;\n",
       "    }\n",
       "</style>\n",
       "<table border=\"1\" class=\"dataframe\">\n",
       "  <thead>\n",
       "    <tr style=\"text-align: right;\">\n",
       "      <th></th>\n",
       "      <th>mean</th>\n",
       "      <th>sd</th>\n",
       "      <th>hdi_3%</th>\n",
       "      <th>hdi_97%</th>\n",
       "      <th>mcse_mean</th>\n",
       "      <th>mcse_sd</th>\n",
       "      <th>ess_bulk</th>\n",
       "      <th>ess_tail</th>\n",
       "      <th>r_hat</th>\n",
       "    </tr>\n",
       "  </thead>\n",
       "  <tbody>\n",
       "    <tr>\n",
       "      <th>year</th>\n",
       "      <td>1890.894</td>\n",
       "      <td>2.450</td>\n",
       "      <td>1887.000</td>\n",
       "      <td>1895.000</td>\n",
       "      <td>0.081</td>\n",
       "      <td>0.057</td>\n",
       "      <td>974.0</td>\n",
       "      <td>724.0</td>\n",
       "      <td>1.01</td>\n",
       "    </tr>\n",
       "    <tr>\n",
       "      <th>λ</th>\n",
       "      <td>3.142</td>\n",
       "      <td>0.291</td>\n",
       "      <td>2.585</td>\n",
       "      <td>3.680</td>\n",
       "      <td>0.004</td>\n",
       "      <td>0.003</td>\n",
       "      <td>4878.0</td>\n",
       "      <td>4824.0</td>\n",
       "      <td>1.00</td>\n",
       "    </tr>\n",
       "    <tr>\n",
       "      <th>μ</th>\n",
       "      <td>0.917</td>\n",
       "      <td>0.116</td>\n",
       "      <td>0.704</td>\n",
       "      <td>1.137</td>\n",
       "      <td>0.002</td>\n",
       "      <td>0.001</td>\n",
       "      <td>4930.0</td>\n",
       "      <td>4794.0</td>\n",
       "      <td>1.00</td>\n",
       "    </tr>\n",
       "    <tr>\n",
       "      <th>diff</th>\n",
       "      <td>-2.226</td>\n",
       "      <td>0.304</td>\n",
       "      <td>-2.790</td>\n",
       "      <td>-1.641</td>\n",
       "      <td>0.004</td>\n",
       "      <td>0.003</td>\n",
       "      <td>6293.0</td>\n",
       "      <td>5268.0</td>\n",
       "      <td>1.00</td>\n",
       "    </tr>\n",
       "  </tbody>\n",
       "</table>\n",
       "</div>"
      ],
      "text/plain": [
       "          mean     sd    hdi_3%   hdi_97%  mcse_mean  mcse_sd  ess_bulk  \\\n",
       "year  1890.894  2.450  1887.000  1895.000      0.081    0.057     974.0   \n",
       "λ        3.142  0.291     2.585     3.680      0.004    0.003    4878.0   \n",
       "μ        0.917  0.116     0.704     1.137      0.002    0.001    4930.0   \n",
       "diff    -2.226  0.304    -2.790    -1.641      0.004    0.003    6293.0   \n",
       "\n",
       "      ess_tail  r_hat  \n",
       "year     724.0   1.01  \n",
       "λ       4824.0   1.00  \n",
       "μ       4794.0   1.00  \n",
       "diff    5268.0   1.00  "
      ]
     },
     "execution_count": 4,
     "metadata": {},
     "output_type": "execute_result"
    }
   ],
   "source": [
    "az.summary(trace)"
   ]
  },
  {
   "cell_type": "markdown",
   "id": "168fe0b2",
   "metadata": {},
   "source": [
    "## Model 2"
   ]
  },
  {
   "cell_type": "code",
   "execution_count": 5,
   "id": "00853354",
   "metadata": {
    "tags": [
     "hide-output"
    ]
   },
   "outputs": [
    {
     "name": "stderr",
     "output_type": "stream",
     "text": [
      "Multiprocess sampling (4 chains in 4 jobs)\n",
      "CompoundStep\n",
      ">Metropolis: [year]\n",
      ">NUTS: [z0, z1]\n"
     ]
    },
    {
     "data": {
      "application/vnd.jupyter.widget-view+json": {
       "model_id": "93c73cb789234b7798d61532d25bfb2a",
       "version_major": 2,
       "version_minor": 0
      },
      "text/plain": [
       "Output()"
      ]
     },
     "metadata": {},
     "output_type": "display_data"
    },
    {
     "data": {
      "text/html": [
       "<pre style=\"white-space:pre;overflow-x:auto;line-height:normal;font-family:Menlo,'DejaVu Sans Mono',consolas,'Courier New',monospace\"></pre>\n"
      ],
      "text/plain": []
     },
     "metadata": {},
     "output_type": "display_data"
    },
    {
     "name": "stderr",
     "output_type": "stream",
     "text": [
      "Sampling 4 chains for 1_000 tune and 2_000 draw iterations (4_000 + 8_000 draws total) took 1 seconds.\n"
     ]
    }
   ],
   "source": [
    "with pm.Model() as m:\n",
    "    year = pm.DiscreteUniform(\"year\", 1851, 1963)\n",
    "    z0 = pm.Normal(\"z0\", 0, sigma=10, initval=1)\n",
    "    z1 = pm.Normal(\"z1\", 0, sigma=10, initval=-1)\n",
    "\n",
    "    λ = pm.Deterministic(\"λ\", exp(z0))\n",
    "    μ = pm.Deterministic(\"μ\", exp(z0 + z1))\n",
    "\n",
    "    diff = pm.Deterministic(\"diff\", μ - λ)\n",
    "\n",
    "    rate = pm.math.exp(z0 + switch(ge(y - year, 0), 1, 0) * z1)\n",
    "    pm.Poisson(\"lik\", mu=rate, observed=X)\n",
    "\n",
    "    trace = pm.sample(2000)"
   ]
  },
  {
   "cell_type": "code",
   "execution_count": 6,
   "id": "c81e6b10",
   "metadata": {},
   "outputs": [
    {
     "data": {
      "text/html": [
       "<div>\n",
       "<style scoped>\n",
       "    .dataframe tbody tr th:only-of-type {\n",
       "        vertical-align: middle;\n",
       "    }\n",
       "\n",
       "    .dataframe tbody tr th {\n",
       "        vertical-align: top;\n",
       "    }\n",
       "\n",
       "    .dataframe thead th {\n",
       "        text-align: right;\n",
       "    }\n",
       "</style>\n",
       "<table border=\"1\" class=\"dataframe\">\n",
       "  <thead>\n",
       "    <tr style=\"text-align: right;\">\n",
       "      <th></th>\n",
       "      <th>mean</th>\n",
       "      <th>sd</th>\n",
       "      <th>hdi_3%</th>\n",
       "      <th>hdi_97%</th>\n",
       "      <th>mcse_mean</th>\n",
       "      <th>mcse_sd</th>\n",
       "      <th>ess_bulk</th>\n",
       "      <th>ess_tail</th>\n",
       "      <th>r_hat</th>\n",
       "    </tr>\n",
       "  </thead>\n",
       "  <tbody>\n",
       "    <tr>\n",
       "      <th>year</th>\n",
       "      <td>1890.960</td>\n",
       "      <td>2.497</td>\n",
       "      <td>1886.000</td>\n",
       "      <td>1895.000</td>\n",
       "      <td>0.081</td>\n",
       "      <td>0.057</td>\n",
       "      <td>963.0</td>\n",
       "      <td>1148.0</td>\n",
       "      <td>1.0</td>\n",
       "    </tr>\n",
       "    <tr>\n",
       "      <th>z0</th>\n",
       "      <td>1.132</td>\n",
       "      <td>0.094</td>\n",
       "      <td>0.956</td>\n",
       "      <td>1.310</td>\n",
       "      <td>0.002</td>\n",
       "      <td>0.001</td>\n",
       "      <td>2595.0</td>\n",
       "      <td>3854.0</td>\n",
       "      <td>1.0</td>\n",
       "    </tr>\n",
       "    <tr>\n",
       "      <th>z1</th>\n",
       "      <td>-1.220</td>\n",
       "      <td>0.152</td>\n",
       "      <td>-1.494</td>\n",
       "      <td>-0.924</td>\n",
       "      <td>0.002</td>\n",
       "      <td>0.002</td>\n",
       "      <td>4050.0</td>\n",
       "      <td>4486.0</td>\n",
       "      <td>1.0</td>\n",
       "    </tr>\n",
       "    <tr>\n",
       "      <th>λ</th>\n",
       "      <td>3.117</td>\n",
       "      <td>0.293</td>\n",
       "      <td>2.579</td>\n",
       "      <td>3.679</td>\n",
       "      <td>0.006</td>\n",
       "      <td>0.004</td>\n",
       "      <td>2595.0</td>\n",
       "      <td>3854.0</td>\n",
       "      <td>1.0</td>\n",
       "    </tr>\n",
       "    <tr>\n",
       "      <th>μ</th>\n",
       "      <td>0.924</td>\n",
       "      <td>0.116</td>\n",
       "      <td>0.703</td>\n",
       "      <td>1.139</td>\n",
       "      <td>0.002</td>\n",
       "      <td>0.001</td>\n",
       "      <td>4328.0</td>\n",
       "      <td>5480.0</td>\n",
       "      <td>1.0</td>\n",
       "    </tr>\n",
       "    <tr>\n",
       "      <th>diff</th>\n",
       "      <td>-2.193</td>\n",
       "      <td>0.308</td>\n",
       "      <td>-2.736</td>\n",
       "      <td>-1.587</td>\n",
       "      <td>0.006</td>\n",
       "      <td>0.004</td>\n",
       "      <td>2910.0</td>\n",
       "      <td>3148.0</td>\n",
       "      <td>1.0</td>\n",
       "    </tr>\n",
       "  </tbody>\n",
       "</table>\n",
       "</div>"
      ],
      "text/plain": [
       "          mean     sd    hdi_3%   hdi_97%  mcse_mean  mcse_sd  ess_bulk  \\\n",
       "year  1890.960  2.497  1886.000  1895.000      0.081    0.057     963.0   \n",
       "z0       1.132  0.094     0.956     1.310      0.002    0.001    2595.0   \n",
       "z1      -1.220  0.152    -1.494    -0.924      0.002    0.002    4050.0   \n",
       "λ        3.117  0.293     2.579     3.679      0.006    0.004    2595.0   \n",
       "μ        0.924  0.116     0.703     1.139      0.002    0.001    4328.0   \n",
       "diff    -2.193  0.308    -2.736    -1.587      0.006    0.004    2910.0   \n",
       "\n",
       "      ess_tail  r_hat  \n",
       "year    1148.0    1.0  \n",
       "z0      3854.0    1.0  \n",
       "z1      4486.0    1.0  \n",
       "λ       3854.0    1.0  \n",
       "μ       5480.0    1.0  \n",
       "diff    3148.0    1.0  "
      ]
     },
     "execution_count": 6,
     "metadata": {},
     "output_type": "execute_result"
    }
   ],
   "source": [
    "az.summary(trace)"
   ]
  },
  {
   "cell_type": "code",
   "execution_count": 7,
   "id": "7d36b9b1",
   "metadata": {},
   "outputs": [
    {
     "name": "stdout",
     "output_type": "stream",
     "text": [
      "Last updated: Tue Nov 19 2024\n",
      "\n",
      "Python implementation: CPython\n",
      "Python version       : 3.12.7\n",
      "IPython version      : 8.29.0\n",
      "\n",
      "pytensor: 2.26.0\n",
      "\n",
      "arviz: 0.20.0\n",
      "pymc : 5.18.0\n",
      "numpy: 1.26.4\n",
      "\n"
     ]
    }
   ],
   "source": [
    "%load_ext watermark\n",
    "%watermark -n -u -v -iv -p pytensor"
   ]
  },
  {
   "cell_type": "code",
   "execution_count": null,
   "id": "bb38c890",
   "metadata": {},
   "outputs": [],
   "source": []
  }
 ],
 "metadata": {
  "kernelspec": {
   "display_name": "pymc_macos15",
   "language": "python",
   "name": "python3"
  },
  "language_info": {
   "codemirror_mode": {
    "name": "ipython",
    "version": 3
   },
   "file_extension": ".py",
   "mimetype": "text/x-python",
   "name": "python",
   "nbconvert_exporter": "python",
   "pygments_lexer": "ipython3",
   "version": "3.12.7"
  }
 },
 "nbformat": 4,
 "nbformat_minor": 5
}