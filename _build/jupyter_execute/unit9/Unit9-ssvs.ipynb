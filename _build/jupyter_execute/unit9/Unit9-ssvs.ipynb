{
 "cells": [
  {
   "cell_type": "markdown",
   "id": "0be75ca1-87f0-478b-a6ce-4cb2519b1d78",
   "metadata": {},
   "source": [
    "# 9. Stochastic Search Variable Selection"
   ]
  },
  {
   "cell_type": "markdown",
   "id": "24a8d47e-25bb-4c6e-ad33-cb4bc34c7e6a",
   "metadata": {},
   "source": [
    "\n",
    "SSVS is a variable selection technique for linear models and GLMs. Consider the linear equation for $\\mu$\n",
    "\n",
    "$$ \\begin{align*} \\mu & = \\beta_0 + \\beta_1 x_1 + ... + \\beta_k x_k \\\\\n",
    "\\beta_i & = \\delta_i \\alpha_i \\\\\n",
    "\\alpha_i & \\sim N(0,\\tau) \\\\\n",
    "\\delta_i & \\sim Bern(p_i)\n",
    "\\end{align*} $$\n",
    "\n",
    "where each $\\beta_i$ coefficient consists of a Normally-distributed $\\alpha_i$ multiplied by a $\\delta_i$ indicatator that is Bernoulli-distributed. If the indicator equals 1, then its $\\beta_i$ equals $\\alpha_i$, otherwise the coefficient is zero and the variable is not selected. \n",
    "\n",
    "A posteriori, we can analyze the number of times each variable is selected in the MCMC samples, and then choose the model (combination of $\\delta$'s) visited most."
   ]
  }
 ],
 "metadata": {
  "kernelspec": {
   "display_name": "Python 3 (ipykernel)",
   "language": "python",
   "name": "python3"
  },
  "language_info": {
   "codemirror_mode": {
    "name": "ipython",
    "version": 3
   },
   "file_extension": ".py",
   "mimetype": "text/x-python",
   "name": "python",
   "nbconvert_exporter": "python",
   "pygments_lexer": "ipython3",
   "version": "3.11.4"
  }
 },
 "nbformat": 4,
 "nbformat_minor": 5
}