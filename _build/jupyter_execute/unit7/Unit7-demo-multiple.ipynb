{
 "cells": [
  {
   "cell_type": "code",
   "execution_count": 2,
   "id": "8781b1e5-e41b-4219-8229-88a1a7c71dc2",
   "metadata": {},
   "outputs": [],
   "source": [
    "import pymc as pm\n",
    "import pandas as pd\n",
    "import numpy as np\n",
    "import arviz as az\n",
    "from pymc.math import dot\n",
    "import pytensor.tensor as pt"
   ]
  },
  {
   "cell_type": "markdown",
   "id": "bc073c69-254b-46e2-ba24-9782ac2e96aa",
   "metadata": {
    "tags": []
   },
   "source": [
    "# 13. Multiple Regression: Brozek Index Prediction*"
   ]
  },
  {
   "cell_type": "markdown",
   "id": "740924ab-f64c-468c-8225-cbdd2c1c9598",
   "metadata": {},
   "source": [
    "Adapted from [fat2d.odc](https://raw.githubusercontent.com/areding/6420-pymc/main/original_examples/Codes4Unit7/fat1.odc) and [fatmulti.odc](https://raw.githubusercontent.com/areding/6420-pymc/main/original_examples/Codes4Unit7/fatmulti.odc) (they appear to be identical). This is the same dataset as [the first regression example](./Unit7-demo-regression.ipynb), available for download [here](https://raw.githubusercontent.com/areding/6420-pymc/main/data/fat.tsv).\n",
    "\n",
    "\n",
    "This is not necessarily the best model for multiple regression; rather, it is just an attempt at implementing the lecture code, which is using Zellner's G-prior {cite:t}```zellner1986assessing```. For multivariate regression in PyMC, we recommend pm.LKJCholeskyCov or pm.LKJCorr as your covariance matrix prior."
   ]
  },
  {
   "cell_type": "code",
   "execution_count": 3,
   "id": "de022d74-1d1e-4670-8a3e-70bd45ff404b",
   "metadata": {},
   "outputs": [
    {
     "data": {
      "text/plain": [
       "(252, 15, 225)"
      ]
     },
     "execution_count": 3,
     "metadata": {},
     "output_type": "execute_result"
    }
   ],
   "source": [
    "data = pd.read_csv(\"../data/fat.tsv\", sep=\"\\t\")\n",
    "\n",
    "y = data[\"y\"].to_numpy(copy=True)\n",
    "X = data.iloc[:, 1:].to_numpy(copy=True)\n",
    "\n",
    "# add intercept\n",
    "X_aug = np.concatenate((np.ones((X.shape[0], 1)), X), axis=1)\n",
    "n, p = X_aug.shape\n",
    "\n",
    "# Zellner's g\n",
    "g = p**2\n",
    "\n",
    "n, p, g"
   ]
  },
  {
   "cell_type": "code",
   "execution_count": 4,
   "id": "4f08b917-8797-4f60-9e06-b614e8e4c27a",
   "metadata": {},
   "outputs": [],
   "source": [
    "mu_beta = np.zeros(p)"
   ]
  },
  {
   "cell_type": "code",
   "execution_count": 5,
   "id": "321af628-9851-4986-b2df-7b31d99fb6b8",
   "metadata": {
    "tags": [
     "hide-output"
    ]
   },
   "outputs": [
    {
     "name": "stderr",
     "output_type": "stream",
     "text": [
      "Initializing NUTS using jitter+adapt_diag...\n",
      "Multiprocess sampling (4 chains in 4 jobs)\n",
      "NUTS: [tau, beta]\n"
     ]
    },
    {
     "data": {
      "application/vnd.jupyter.widget-view+json": {
       "model_id": "e38dd829e5c548959c4915aef80e5c7c",
       "version_major": 2,
       "version_minor": 0
      },
      "text/plain": [
       "Output()"
      ]
     },
     "metadata": {},
     "output_type": "display_data"
    },
    {
     "data": {
      "text/html": [
       "<pre style=\"white-space:pre;overflow-x:auto;line-height:normal;font-family:Menlo,'DejaVu Sans Mono',consolas,'Courier New',monospace\"></pre>\n"
      ],
      "text/plain": []
     },
     "metadata": {},
     "output_type": "display_data"
    },
    {
     "name": "stderr",
     "output_type": "stream",
     "text": [
      "Sampling 4 chains for 1_000 tune and 1_000 draw iterations (4_000 + 4_000 draws total) took 88 seconds.\n",
      "Sampling: [likelihood]\n"
     ]
    },
    {
     "data": {
      "application/vnd.jupyter.widget-view+json": {
       "model_id": "1de58cf66df946fb876eb22b349d351c",
       "version_major": 2,
       "version_minor": 0
      },
      "text/plain": [
       "Output()"
      ]
     },
     "metadata": {},
     "output_type": "display_data"
    },
    {
     "data": {
      "text/html": [
       "<pre style=\"white-space:pre;overflow-x:auto;line-height:normal;font-family:Menlo,'DejaVu Sans Mono',consolas,'Courier New',monospace\"></pre>\n"
      ],
      "text/plain": []
     },
     "metadata": {},
     "output_type": "display_data"
    }
   ],
   "source": [
    "with pm.Model() as m2d:\n",
    "    tau = pm.Gamma(\"tau\", 0.01, 0.01)\n",
    "    variance = pm.Deterministic(\"variance\", 1 / tau)\n",
    "\n",
    "    tau_matrix = pt.fill(pt.zeros((15, 15)), tau)\n",
    "    tau_beta = tau_matrix / g * dot(X_aug.T, X_aug)\n",
    "    beta = pm.MvNormal(\"beta\", mu_beta, tau=tau_beta)\n",
    "\n",
    "    mu = dot(X_aug, beta)\n",
    "    pm.Normal(\"likelihood\", mu=mu, tau=tau, observed=y)\n",
    "\n",
    "    # Bayesian R2 from fat2d.odc\n",
    "    sse = (n - p) * variance\n",
    "    cy = y - y.mean()\n",
    "    sst = dot(cy, cy)\n",
    "    br2 = pm.Deterministic(\"br2\", 1 - sse / sst)\n",
    "    br2_adj = pm.Deterministic(\"br2_adj\", 1 - (n - 1) * variance / sst)\n",
    "\n",
    "    trace = pm.sample(1000)\n",
    "    ppc = pm.sample_posterior_predictive(trace)"
   ]
  },
  {
   "cell_type": "code",
   "execution_count": 6,
   "id": "e60158dc-1962-42b8-9b7c-dc3d0060cd0e",
   "metadata": {},
   "outputs": [
    {
     "data": {
      "text/html": [
       "<div>\n",
       "<style scoped>\n",
       "    .dataframe tbody tr th:only-of-type {\n",
       "        vertical-align: middle;\n",
       "    }\n",
       "\n",
       "    .dataframe tbody tr th {\n",
       "        vertical-align: top;\n",
       "    }\n",
       "\n",
       "    .dataframe thead th {\n",
       "        text-align: right;\n",
       "    }\n",
       "</style>\n",
       "<table border=\"1\" class=\"dataframe\">\n",
       "  <thead>\n",
       "    <tr style=\"text-align: right;\">\n",
       "      <th></th>\n",
       "      <th>mean</th>\n",
       "      <th>sd</th>\n",
       "      <th>hdi_2.5%</th>\n",
       "      <th>hdi_97.5%</th>\n",
       "      <th>mcse_mean</th>\n",
       "      <th>mcse_sd</th>\n",
       "      <th>ess_bulk</th>\n",
       "      <th>ess_tail</th>\n",
       "      <th>r_hat</th>\n",
       "    </tr>\n",
       "  </thead>\n",
       "  <tbody>\n",
       "    <tr>\n",
       "      <th>beta[0]</th>\n",
       "      <td>-15.031</td>\n",
       "      <td>16.576</td>\n",
       "      <td>-45.559</td>\n",
       "      <td>16.813</td>\n",
       "      <td>0.353</td>\n",
       "      <td>0.272</td>\n",
       "      <td>2219.0</td>\n",
       "      <td>2267.0</td>\n",
       "      <td>1.0</td>\n",
       "    </tr>\n",
       "    <tr>\n",
       "      <th>beta[1]</th>\n",
       "      <td>0.056</td>\n",
       "      <td>0.031</td>\n",
       "      <td>-0.001</td>\n",
       "      <td>0.118</td>\n",
       "      <td>0.001</td>\n",
       "      <td>0.000</td>\n",
       "      <td>3536.0</td>\n",
       "      <td>3260.0</td>\n",
       "      <td>1.0</td>\n",
       "    </tr>\n",
       "    <tr>\n",
       "      <th>beta[2]</th>\n",
       "      <td>-0.081</td>\n",
       "      <td>0.052</td>\n",
       "      <td>-0.183</td>\n",
       "      <td>0.018</td>\n",
       "      <td>0.001</td>\n",
       "      <td>0.001</td>\n",
       "      <td>2301.0</td>\n",
       "      <td>2362.0</td>\n",
       "      <td>1.0</td>\n",
       "    </tr>\n",
       "    <tr>\n",
       "      <th>beta[3]</th>\n",
       "      <td>-0.056</td>\n",
       "      <td>0.105</td>\n",
       "      <td>-0.262</td>\n",
       "      <td>0.146</td>\n",
       "      <td>0.002</td>\n",
       "      <td>0.001</td>\n",
       "      <td>3175.0</td>\n",
       "      <td>3214.0</td>\n",
       "      <td>1.0</td>\n",
       "    </tr>\n",
       "    <tr>\n",
       "      <th>beta[4]</th>\n",
       "      <td>0.053</td>\n",
       "      <td>0.285</td>\n",
       "      <td>-0.480</td>\n",
       "      <td>0.613</td>\n",
       "      <td>0.005</td>\n",
       "      <td>0.004</td>\n",
       "      <td>3119.0</td>\n",
       "      <td>2857.0</td>\n",
       "      <td>1.0</td>\n",
       "    </tr>\n",
       "    <tr>\n",
       "      <th>beta[5]</th>\n",
       "      <td>-0.441</td>\n",
       "      <td>0.225</td>\n",
       "      <td>-0.889</td>\n",
       "      <td>-0.024</td>\n",
       "      <td>0.004</td>\n",
       "      <td>0.003</td>\n",
       "      <td>3456.0</td>\n",
       "      <td>2912.0</td>\n",
       "      <td>1.0</td>\n",
       "    </tr>\n",
       "    <tr>\n",
       "      <th>beta[6]</th>\n",
       "      <td>-0.028</td>\n",
       "      <td>0.101</td>\n",
       "      <td>-0.231</td>\n",
       "      <td>0.165</td>\n",
       "      <td>0.002</td>\n",
       "      <td>0.001</td>\n",
       "      <td>3516.0</td>\n",
       "      <td>2901.0</td>\n",
       "      <td>1.0</td>\n",
       "    </tr>\n",
       "    <tr>\n",
       "      <th>beta[7]</th>\n",
       "      <td>0.874</td>\n",
       "      <td>0.088</td>\n",
       "      <td>0.695</td>\n",
       "      <td>1.040</td>\n",
       "      <td>0.001</td>\n",
       "      <td>0.001</td>\n",
       "      <td>3545.0</td>\n",
       "      <td>2925.0</td>\n",
       "      <td>1.0</td>\n",
       "    </tr>\n",
       "    <tr>\n",
       "      <th>beta[8]</th>\n",
       "      <td>-0.200</td>\n",
       "      <td>0.141</td>\n",
       "      <td>-0.490</td>\n",
       "      <td>0.056</td>\n",
       "      <td>0.003</td>\n",
       "      <td>0.002</td>\n",
       "      <td>2682.0</td>\n",
       "      <td>2755.0</td>\n",
       "      <td>1.0</td>\n",
       "    </tr>\n",
       "    <tr>\n",
       "      <th>beta[9]</th>\n",
       "      <td>0.225</td>\n",
       "      <td>0.139</td>\n",
       "      <td>-0.048</td>\n",
       "      <td>0.498</td>\n",
       "      <td>0.002</td>\n",
       "      <td>0.002</td>\n",
       "      <td>3178.0</td>\n",
       "      <td>2759.0</td>\n",
       "      <td>1.0</td>\n",
       "    </tr>\n",
       "    <tr>\n",
       "      <th>beta[10]</th>\n",
       "      <td>0.003</td>\n",
       "      <td>0.235</td>\n",
       "      <td>-0.438</td>\n",
       "      <td>0.476</td>\n",
       "      <td>0.004</td>\n",
       "      <td>0.004</td>\n",
       "      <td>3414.0</td>\n",
       "      <td>2592.0</td>\n",
       "      <td>1.0</td>\n",
       "    </tr>\n",
       "    <tr>\n",
       "      <th>beta[11]</th>\n",
       "      <td>0.153</td>\n",
       "      <td>0.208</td>\n",
       "      <td>-0.241</td>\n",
       "      <td>0.577</td>\n",
       "      <td>0.003</td>\n",
       "      <td>0.003</td>\n",
       "      <td>4039.0</td>\n",
       "      <td>2692.0</td>\n",
       "      <td>1.0</td>\n",
       "    </tr>\n",
       "    <tr>\n",
       "      <th>beta[12]</th>\n",
       "      <td>0.148</td>\n",
       "      <td>0.165</td>\n",
       "      <td>-0.178</td>\n",
       "      <td>0.455</td>\n",
       "      <td>0.003</td>\n",
       "      <td>0.002</td>\n",
       "      <td>3584.0</td>\n",
       "      <td>2960.0</td>\n",
       "      <td>1.0</td>\n",
       "    </tr>\n",
       "    <tr>\n",
       "      <th>beta[13]</th>\n",
       "      <td>0.419</td>\n",
       "      <td>0.196</td>\n",
       "      <td>0.048</td>\n",
       "      <td>0.799</td>\n",
       "      <td>0.003</td>\n",
       "      <td>0.002</td>\n",
       "      <td>3888.0</td>\n",
       "      <td>2837.0</td>\n",
       "      <td>1.0</td>\n",
       "    </tr>\n",
       "    <tr>\n",
       "      <th>beta[14]</th>\n",
       "      <td>-1.470</td>\n",
       "      <td>0.499</td>\n",
       "      <td>-2.501</td>\n",
       "      <td>-0.559</td>\n",
       "      <td>0.008</td>\n",
       "      <td>0.006</td>\n",
       "      <td>3686.0</td>\n",
       "      <td>3192.0</td>\n",
       "      <td>1.0</td>\n",
       "    </tr>\n",
       "    <tr>\n",
       "      <th>tau</th>\n",
       "      <td>0.060</td>\n",
       "      <td>0.005</td>\n",
       "      <td>0.050</td>\n",
       "      <td>0.070</td>\n",
       "      <td>0.000</td>\n",
       "      <td>0.000</td>\n",
       "      <td>3663.0</td>\n",
       "      <td>2827.0</td>\n",
       "      <td>1.0</td>\n",
       "    </tr>\n",
       "    <tr>\n",
       "      <th>variance</th>\n",
       "      <td>16.920</td>\n",
       "      <td>1.548</td>\n",
       "      <td>14.172</td>\n",
       "      <td>20.159</td>\n",
       "      <td>0.026</td>\n",
       "      <td>0.018</td>\n",
       "      <td>3663.0</td>\n",
       "      <td>2827.0</td>\n",
       "      <td>1.0</td>\n",
       "    </tr>\n",
       "    <tr>\n",
       "      <th>br2</th>\n",
       "      <td>0.734</td>\n",
       "      <td>0.024</td>\n",
       "      <td>0.683</td>\n",
       "      <td>0.777</td>\n",
       "      <td>0.000</td>\n",
       "      <td>0.000</td>\n",
       "      <td>3663.0</td>\n",
       "      <td>2827.0</td>\n",
       "      <td>1.0</td>\n",
       "    </tr>\n",
       "    <tr>\n",
       "      <th>br2_adj</th>\n",
       "      <td>0.718</td>\n",
       "      <td>0.026</td>\n",
       "      <td>0.664</td>\n",
       "      <td>0.764</td>\n",
       "      <td>0.000</td>\n",
       "      <td>0.000</td>\n",
       "      <td>3663.0</td>\n",
       "      <td>2827.0</td>\n",
       "      <td>1.0</td>\n",
       "    </tr>\n",
       "  </tbody>\n",
       "</table>\n",
       "</div>"
      ],
      "text/plain": [
       "            mean      sd  hdi_2.5%  hdi_97.5%  mcse_mean  mcse_sd  ess_bulk  \\\n",
       "beta[0]  -15.031  16.576   -45.559     16.813      0.353    0.272    2219.0   \n",
       "beta[1]    0.056   0.031    -0.001      0.118      0.001    0.000    3536.0   \n",
       "beta[2]   -0.081   0.052    -0.183      0.018      0.001    0.001    2301.0   \n",
       "beta[3]   -0.056   0.105    -0.262      0.146      0.002    0.001    3175.0   \n",
       "beta[4]    0.053   0.285    -0.480      0.613      0.005    0.004    3119.0   \n",
       "beta[5]   -0.441   0.225    -0.889     -0.024      0.004    0.003    3456.0   \n",
       "beta[6]   -0.028   0.101    -0.231      0.165      0.002    0.001    3516.0   \n",
       "beta[7]    0.874   0.088     0.695      1.040      0.001    0.001    3545.0   \n",
       "beta[8]   -0.200   0.141    -0.490      0.056      0.003    0.002    2682.0   \n",
       "beta[9]    0.225   0.139    -0.048      0.498      0.002    0.002    3178.0   \n",
       "beta[10]   0.003   0.235    -0.438      0.476      0.004    0.004    3414.0   \n",
       "beta[11]   0.153   0.208    -0.241      0.577      0.003    0.003    4039.0   \n",
       "beta[12]   0.148   0.165    -0.178      0.455      0.003    0.002    3584.0   \n",
       "beta[13]   0.419   0.196     0.048      0.799      0.003    0.002    3888.0   \n",
       "beta[14]  -1.470   0.499    -2.501     -0.559      0.008    0.006    3686.0   \n",
       "tau        0.060   0.005     0.050      0.070      0.000    0.000    3663.0   \n",
       "variance  16.920   1.548    14.172     20.159      0.026    0.018    3663.0   \n",
       "br2        0.734   0.024     0.683      0.777      0.000    0.000    3663.0   \n",
       "br2_adj    0.718   0.026     0.664      0.764      0.000    0.000    3663.0   \n",
       "\n",
       "          ess_tail  r_hat  \n",
       "beta[0]     2267.0    1.0  \n",
       "beta[1]     3260.0    1.0  \n",
       "beta[2]     2362.0    1.0  \n",
       "beta[3]     3214.0    1.0  \n",
       "beta[4]     2857.0    1.0  \n",
       "beta[5]     2912.0    1.0  \n",
       "beta[6]     2901.0    1.0  \n",
       "beta[7]     2925.0    1.0  \n",
       "beta[8]     2755.0    1.0  \n",
       "beta[9]     2759.0    1.0  \n",
       "beta[10]    2592.0    1.0  \n",
       "beta[11]    2692.0    1.0  \n",
       "beta[12]    2960.0    1.0  \n",
       "beta[13]    2837.0    1.0  \n",
       "beta[14]    3192.0    1.0  \n",
       "tau         2827.0    1.0  \n",
       "variance    2827.0    1.0  \n",
       "br2         2827.0    1.0  \n",
       "br2_adj     2827.0    1.0  "
      ]
     },
     "execution_count": 6,
     "metadata": {},
     "output_type": "execute_result"
    }
   ],
   "source": [
    "az.summary(trace, hdi_prob=0.95)"
   ]
  },
  {
   "cell_type": "code",
   "execution_count": 7,
   "id": "4a6e7cfe-08b8-40c2-ba19-ae4e353ddf2d",
   "metadata": {},
   "outputs": [
    {
     "data": {
      "text/plain": [
       "r2        0.654267\n",
       "r2_std    0.023808\n",
       "dtype: float64"
      ]
     },
     "execution_count": 7,
     "metadata": {},
     "output_type": "execute_result"
    }
   ],
   "source": [
    "y_pred = ppc.posterior_predictive.stack(sample=(\"chain\", \"draw\"))[\"likelihood\"].values.T\n",
    "az.r2_score(y, y_pred)"
   ]
  },
  {
   "cell_type": "code",
   "execution_count": 8,
   "id": "f298b004-1364-475c-99f1-452c423978a9",
   "metadata": {},
   "outputs": [
    {
     "name": "stdout",
     "output_type": "stream",
     "text": [
      "Last updated: Sun Mar 09 2025\n",
      "\n",
      "Python implementation: CPython\n",
      "Python version       : 3.12.7\n",
      "IPython version      : 8.29.0\n",
      "\n",
      "pytensor: 2.26.4\n",
      "\n",
      "arviz   : 0.20.0\n",
      "pandas  : 2.2.3\n",
      "pytensor: 2.26.4\n",
      "pymc    : 5.19.1\n",
      "numpy   : 1.26.4\n",
      "\n"
     ]
    }
   ],
   "source": [
    "%load_ext watermark\n",
    "%watermark -n -u -v -iv -p pytensor"
   ]
  }
 ],
 "metadata": {
  "kernelspec": {
   "display_name": "pymc_macos15",
   "language": "python",
   "name": "python3"
  },
  "language_info": {
   "codemirror_mode": {
    "name": "ipython",
    "version": 3
   },
   "file_extension": ".py",
   "mimetype": "text/x-python",
   "name": "python",
   "nbconvert_exporter": "python",
   "pygments_lexer": "ipython3",
   "version": "3.12.7"
  }
 },
 "nbformat": 4,
 "nbformat_minor": 5
}