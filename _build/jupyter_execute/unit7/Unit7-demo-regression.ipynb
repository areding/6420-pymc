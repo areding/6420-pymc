{
 "cells": [
  {
   "cell_type": "code",
   "execution_count": 1,
   "id": "d4a9676d",
   "metadata": {},
   "outputs": [],
   "source": [
    "import pymc as pm\n",
    "import pandas as pd\n",
    "import numpy as np\n",
    "import arviz as az\n",
    "from pymc.math import dot\n",
    "import pytensor.tensor as pt"
   ]
  },
  {
   "cell_type": "markdown",
   "id": "6ff75727",
   "metadata": {},
   "source": [
    "# 11. Brozek index prediction*\n",
    "\n",
    "This example goes over linear regression and Bayesian $R^2$.\n",
    "\n",
    "Adapted from [Unit 7: fat1.odc](https://raw.githubusercontent.com/areding/6420-pymc/main/original_examples/Codes4Unit7/fat2d.odc), [fat2d.odc](https://raw.githubusercontent.com/areding/6420-pymc/main/original_examples/Codes4Unit7/fat1.odc), and [fatmulti.odc](https://raw.githubusercontent.com/areding/6420-pymc/main/original_examples/Codes4Unit7/fatmulti.odc).\n",
    "\n",
    "Data can be found [here](https://raw.githubusercontent.com/areding/6420-pymc/main/data/fat.tsv)."
   ]
  },
  {
   "cell_type": "markdown",
   "id": "00a6981f",
   "metadata": {
    "tags": []
   },
   "source": [
    "Percentage of body fat, age, weight, height, and ten body circumference measurements (e.g., abdomen) were recorded for 252 men. Percentage of body fat is estimated through an underwater weighing technique.\n",
    "\n",
    "The data set has 252 observations and 15 variables. Brozek index (Brozek et al., 1963) is obtained by the underwater weighing while other 14 anthropometric variables are obtained using scales and a measuring tape.\n",
    "\n",
    "- y = Brozek index\n",
    "- X1 = 1 (intercept)\n",
    "- X2 = age\n",
    "- X3 = weight\n",
    "- X4 = height\n",
    "- X5 = adipose\n",
    "- X6 = neck  \n",
    "- X7 = chest\n",
    "- X8 = abdomen\n",
    "- X9 = hip\n",
    "- X10 = thigh\n",
    "- X11 = knee   \n",
    "- X12 = ankle\n",
    "- X13 = bicep\n",
    "- X14 = forearm\n",
    "- X15 = wrist\n",
    "\n",
    "These anthropometric variables are less intrusive but also less reliable in assessing the body fat index.\n",
    "\n",
    "Set a linear regression to predict the Brozek index from these body measurements."
   ]
  },
  {
   "cell_type": "markdown",
   "id": "5aaf06a1",
   "metadata": {},
   "source": [
    "## Single predictor (X8)\n",
    "\n",
    "This is a recreation of fat1.odc."
   ]
  },
  {
   "cell_type": "code",
   "execution_count": 2,
   "id": "8b5c60c6",
   "metadata": {},
   "outputs": [],
   "source": [
    "data = pd.read_csv(\"../data/fat.tsv\", sep=\"\\t\")\n",
    "\n",
    "y = data[\"y\"].to_numpy(copy=True)\n",
    "X = data[\"X8\"].to_numpy(copy=True)\n",
    "\n",
    "# p will be the number of predictors + intercept (1 + 1 in this case)\n",
    "n, p = X.shape[0], 2"
   ]
  },
  {
   "cell_type": "code",
   "execution_count": 3,
   "id": "bb75dd7c",
   "metadata": {
    "tags": [
     "hide-output"
    ]
   },
   "outputs": [
    {
     "name": "stderr",
     "output_type": "stream",
     "text": [
      "Initializing NUTS using jitter+adapt_diag...\n",
      "Multiprocess sampling (4 chains in 4 jobs)\n",
      "NUTS: [tau, beta0_intercept, beta1_abdomen]\n"
     ]
    },
    {
     "data": {
      "application/vnd.jupyter.widget-view+json": {
       "model_id": "6b7ffb7a0ad44471bafac462bb730614",
       "version_major": 2,
       "version_minor": 0
      },
      "text/plain": [
       "Output()"
      ]
     },
     "metadata": {},
     "output_type": "display_data"
    },
    {
     "data": {
      "text/html": [
       "<pre style=\"white-space:pre;overflow-x:auto;line-height:normal;font-family:Menlo,'DejaVu Sans Mono',consolas,'Courier New',monospace\"></pre>\n"
      ],
      "text/plain": []
     },
     "metadata": {},
     "output_type": "display_data"
    },
    {
     "name": "stderr",
     "output_type": "stream",
     "text": [
      "Sampling 4 chains for 1_000 tune and 2_000 draw iterations (4_000 + 8_000 draws total) took 3 seconds.\n",
      "Sampling: [likelihood]\n"
     ]
    },
    {
     "data": {
      "application/vnd.jupyter.widget-view+json": {
       "model_id": "d50fbcaf1c2d40279be1886721a5059a",
       "version_major": 2,
       "version_minor": 0
      },
      "text/plain": [
       "Output()"
      ]
     },
     "metadata": {},
     "output_type": "display_data"
    },
    {
     "data": {
      "text/html": [
       "<pre style=\"white-space:pre;overflow-x:auto;line-height:normal;font-family:Menlo,'DejaVu Sans Mono',consolas,'Courier New',monospace\"></pre>\n"
      ],
      "text/plain": []
     },
     "metadata": {},
     "output_type": "display_data"
    }
   ],
   "source": [
    "with pm.Model() as m:\n",
    "    tau = pm.Gamma(\"tau\", 0.001, 0.001)\n",
    "    beta0 = pm.Normal(\"beta0_intercept\", 0, tau=0.001)\n",
    "    beta1 = pm.Normal(\"beta1_abdomen\", 0, tau=0.001)\n",
    "    variance = pm.Deterministic(\"variance\", 1 / tau)\n",
    "\n",
    "    mu = beta0 + beta1 * X\n",
    "    likelihood = pm.Normal(\"likelihood\", mu=mu, tau=tau, observed=y)\n",
    "\n",
    "    # Bayesian R2 from fat1.odc\n",
    "    sse = (n - p) * variance\n",
    "    cy = y - y.mean()\n",
    "    sst = dot(cy, cy)\n",
    "    br2 = pm.Deterministic(\"br2\", 1 - sse / sst)\n",
    "\n",
    "    trace = pm.sample(2000)\n",
    "    ppc = pm.sample_posterior_predictive(trace)"
   ]
  },
  {
   "cell_type": "code",
   "execution_count": 4,
   "id": "ece3c1fa",
   "metadata": {},
   "outputs": [
    {
     "data": {
      "text/html": [
       "<div>\n",
       "<style scoped>\n",
       "    .dataframe tbody tr th:only-of-type {\n",
       "        vertical-align: middle;\n",
       "    }\n",
       "\n",
       "    .dataframe tbody tr th {\n",
       "        vertical-align: top;\n",
       "    }\n",
       "\n",
       "    .dataframe thead th {\n",
       "        text-align: right;\n",
       "    }\n",
       "</style>\n",
       "<table border=\"1\" class=\"dataframe\">\n",
       "  <thead>\n",
       "    <tr style=\"text-align: right;\">\n",
       "      <th></th>\n",
       "      <th>mean</th>\n",
       "      <th>sd</th>\n",
       "      <th>hdi_2.5%</th>\n",
       "      <th>hdi_97.5%</th>\n",
       "      <th>mcse_mean</th>\n",
       "      <th>mcse_sd</th>\n",
       "      <th>ess_bulk</th>\n",
       "      <th>ess_tail</th>\n",
       "      <th>r_hat</th>\n",
       "    </tr>\n",
       "  </thead>\n",
       "  <tbody>\n",
       "    <tr>\n",
       "      <th>beta0_intercept</th>\n",
       "      <td>-35.043</td>\n",
       "      <td>2.436</td>\n",
       "      <td>-39.797</td>\n",
       "      <td>-30.335</td>\n",
       "      <td>0.046</td>\n",
       "      <td>0.032</td>\n",
       "      <td>2856.0</td>\n",
       "      <td>3356.0</td>\n",
       "      <td>1.0</td>\n",
       "    </tr>\n",
       "    <tr>\n",
       "      <th>beta1_abdomen</th>\n",
       "      <td>0.583</td>\n",
       "      <td>0.026</td>\n",
       "      <td>0.533</td>\n",
       "      <td>0.635</td>\n",
       "      <td>0.000</td>\n",
       "      <td>0.000</td>\n",
       "      <td>2829.0</td>\n",
       "      <td>3291.0</td>\n",
       "      <td>1.0</td>\n",
       "    </tr>\n",
       "    <tr>\n",
       "      <th>tau</th>\n",
       "      <td>0.049</td>\n",
       "      <td>0.004</td>\n",
       "      <td>0.042</td>\n",
       "      <td>0.058</td>\n",
       "      <td>0.000</td>\n",
       "      <td>0.000</td>\n",
       "      <td>3708.0</td>\n",
       "      <td>3918.0</td>\n",
       "      <td>1.0</td>\n",
       "    </tr>\n",
       "    <tr>\n",
       "      <th>variance</th>\n",
       "      <td>20.519</td>\n",
       "      <td>1.814</td>\n",
       "      <td>17.128</td>\n",
       "      <td>24.075</td>\n",
       "      <td>0.030</td>\n",
       "      <td>0.021</td>\n",
       "      <td>3708.0</td>\n",
       "      <td>3918.0</td>\n",
       "      <td>1.0</td>\n",
       "    </tr>\n",
       "    <tr>\n",
       "      <th>br2</th>\n",
       "      <td>0.660</td>\n",
       "      <td>0.030</td>\n",
       "      <td>0.601</td>\n",
       "      <td>0.716</td>\n",
       "      <td>0.000</td>\n",
       "      <td>0.000</td>\n",
       "      <td>3708.0</td>\n",
       "      <td>3918.0</td>\n",
       "      <td>1.0</td>\n",
       "    </tr>\n",
       "  </tbody>\n",
       "</table>\n",
       "</div>"
      ],
      "text/plain": [
       "                   mean     sd  hdi_2.5%  hdi_97.5%  mcse_mean  mcse_sd  \\\n",
       "beta0_intercept -35.043  2.436   -39.797    -30.335      0.046    0.032   \n",
       "beta1_abdomen     0.583  0.026     0.533      0.635      0.000    0.000   \n",
       "tau               0.049  0.004     0.042      0.058      0.000    0.000   \n",
       "variance         20.519  1.814    17.128     24.075      0.030    0.021   \n",
       "br2               0.660  0.030     0.601      0.716      0.000    0.000   \n",
       "\n",
       "                 ess_bulk  ess_tail  r_hat  \n",
       "beta0_intercept    2856.0    3356.0    1.0  \n",
       "beta1_abdomen      2829.0    3291.0    1.0  \n",
       "tau                3708.0    3918.0    1.0  \n",
       "variance           3708.0    3918.0    1.0  \n",
       "br2                3708.0    3918.0    1.0  "
      ]
     },
     "execution_count": 4,
     "metadata": {},
     "output_type": "execute_result"
    }
   ],
   "source": [
    "az.summary(trace, hdi_prob=0.95)"
   ]
  },
  {
   "cell_type": "markdown",
   "id": "36f067d6",
   "metadata": {},
   "source": [
    "This matches the results from the U7 L11 video.\n",
    "\n",
    "Another way to calculate the $R^2$ using a posterior predictive check (keeping in mind that there is no standard \"Bayesian $R^2$\"). The results will be slightly different:"
   ]
  },
  {
   "cell_type": "code",
   "execution_count": 5,
   "id": "ac708c65",
   "metadata": {},
   "outputs": [
    {
     "data": {
      "text/plain": [
       "r2        0.594825\n",
       "r2_std    0.026037\n",
       "dtype: float64"
      ]
     },
     "execution_count": 5,
     "metadata": {},
     "output_type": "execute_result"
    }
   ],
   "source": [
    "# updated based on the arviz docs\n",
    "y_pred = ppc.posterior_predictive.stack(sample=(\"chain\", \"draw\"))[\"likelihood\"].values.T\n",
    "az.r2_score(y, y_pred)"
   ]
  },
  {
   "cell_type": "markdown",
   "id": "291a7c14",
   "metadata": {
    "tags": []
   },
   "source": [
    "## Multivariate regression with all predictors\n",
    "\n",
    "Based on fat2d.odc or fatmulti.odc (they appear to be identical). This is using Zellner's G-prior {cite:t}```zellner1986assessing```. The PyMC devs now recommend using [LKJ Cholesky Covariance priors](https://www.pymc.io/projects/examples/en/latest/howto/LKJ.html#lkj-cholesky-covariance-priors-for-multivariate-normal-models) for models like this. The [Stan User Guide](https://mc-stan.org/docs/stan-users-guide/regression.html#multivariate-regression-example) also recommends them. I haven't been able to get one running smoothly for this particular model yet, but will update when I can."
   ]
  },
  {
   "cell_type": "code",
   "execution_count": 6,
   "id": "3cd34ffd",
   "metadata": {},
   "outputs": [
    {
     "data": {
      "text/plain": [
       "(252, 15, 225)"
      ]
     },
     "execution_count": 6,
     "metadata": {},
     "output_type": "execute_result"
    }
   ],
   "source": [
    "data = pd.read_csv(\"../data/fat.tsv\", sep=\"\\t\")\n",
    "\n",
    "y = data[\"y\"].to_numpy(copy=True)\n",
    "X = data.iloc[:, 1:].to_numpy(copy=True)\n",
    "\n",
    "# add intercept\n",
    "X_aug = np.concatenate((np.ones((X.shape[0], 1)), X), axis=1)\n",
    "n, p = X_aug.shape\n",
    "\n",
    "# Zellner's g\n",
    "g = p**2\n",
    "\n",
    "n, p, g"
   ]
  },
  {
   "cell_type": "code",
   "execution_count": 7,
   "id": "91cf6e7e",
   "metadata": {},
   "outputs": [
    {
     "data": {
      "text/plain": [
       "(252, 15)"
      ]
     },
     "execution_count": 7,
     "metadata": {},
     "output_type": "execute_result"
    }
   ],
   "source": [
    "X_aug.shape"
   ]
  },
  {
   "cell_type": "code",
   "execution_count": 8,
   "id": "d15825f3",
   "metadata": {},
   "outputs": [],
   "source": [
    "mu_beta = np.zeros(p)"
   ]
  },
  {
   "cell_type": "code",
   "execution_count": 9,
   "id": "71a06315",
   "metadata": {
    "tags": [
     "hide-output"
    ]
   },
   "outputs": [
    {
     "name": "stderr",
     "output_type": "stream",
     "text": [
      "Initializing NUTS using jitter+adapt_diag...\n",
      "Multiprocess sampling (4 chains in 4 jobs)\n",
      "NUTS: [tau, beta]\n"
     ]
    },
    {
     "data": {
      "application/vnd.jupyter.widget-view+json": {
       "model_id": "1c8f9c5ee4364c2dbb149e6a5d183b94",
       "version_major": 2,
       "version_minor": 0
      },
      "text/plain": [
       "Output()"
      ]
     },
     "metadata": {},
     "output_type": "display_data"
    },
    {
     "data": {
      "text/html": [
       "<pre style=\"white-space:pre;overflow-x:auto;line-height:normal;font-family:Menlo,'DejaVu Sans Mono',consolas,'Courier New',monospace\"></pre>\n"
      ],
      "text/plain": []
     },
     "metadata": {},
     "output_type": "display_data"
    },
    {
     "name": "stderr",
     "output_type": "stream",
     "text": [
      "Sampling 4 chains for 1_000 tune and 1_000 draw iterations (4_000 + 4_000 draws total) took 95 seconds.\n",
      "Sampling: [likelihood]\n"
     ]
    },
    {
     "data": {
      "application/vnd.jupyter.widget-view+json": {
       "model_id": "78ba89b80dc8427a870e6ec2f84c8717",
       "version_major": 2,
       "version_minor": 0
      },
      "text/plain": [
       "Output()"
      ]
     },
     "metadata": {},
     "output_type": "display_data"
    },
    {
     "data": {
      "text/html": [
       "<pre style=\"white-space:pre;overflow-x:auto;line-height:normal;font-family:Menlo,'DejaVu Sans Mono',consolas,'Courier New',monospace\"></pre>\n"
      ],
      "text/plain": []
     },
     "metadata": {},
     "output_type": "display_data"
    }
   ],
   "source": [
    "with pm.Model() as m2d:\n",
    "    tau = pm.Gamma(\"tau\", 0.01, 0.01)\n",
    "    variance = pm.Deterministic(\"variance\", 1 / tau)\n",
    "\n",
    "    tau_matrix = pt.fill(pt.zeros((15, 15)), tau)\n",
    "    tau_beta = tau_matrix / g * dot(X_aug.T, X_aug)\n",
    "    beta = pm.MvNormal(\"beta\", mu_beta, tau=tau_beta)\n",
    "\n",
    "    mu = dot(X_aug, beta)\n",
    "    pm.Normal(\"likelihood\", mu=mu, tau=tau, observed=y)\n",
    "\n",
    "    # Bayesian R2 from fat2d.odc\n",
    "    sse = (n - p) * variance\n",
    "    cy = y - y.mean()\n",
    "    sst = dot(cy, cy)\n",
    "    br2 = pm.Deterministic(\"br2\", 1 - sse / sst)\n",
    "    br2_adj = pm.Deterministic(\"br2_adj\", 1 - (n - 1) * variance / sst)\n",
    "\n",
    "    trace = pm.sample(1000)\n",
    "    ppc = pm.sample_posterior_predictive(trace)"
   ]
  },
  {
   "cell_type": "code",
   "execution_count": 10,
   "id": "2e7374f0",
   "metadata": {},
   "outputs": [
    {
     "data": {
      "text/html": [
       "<div>\n",
       "<style scoped>\n",
       "    .dataframe tbody tr th:only-of-type {\n",
       "        vertical-align: middle;\n",
       "    }\n",
       "\n",
       "    .dataframe tbody tr th {\n",
       "        vertical-align: top;\n",
       "    }\n",
       "\n",
       "    .dataframe thead th {\n",
       "        text-align: right;\n",
       "    }\n",
       "</style>\n",
       "<table border=\"1\" class=\"dataframe\">\n",
       "  <thead>\n",
       "    <tr style=\"text-align: right;\">\n",
       "      <th></th>\n",
       "      <th>mean</th>\n",
       "      <th>sd</th>\n",
       "      <th>hdi_2.5%</th>\n",
       "      <th>hdi_97.5%</th>\n",
       "      <th>mcse_mean</th>\n",
       "      <th>mcse_sd</th>\n",
       "      <th>ess_bulk</th>\n",
       "      <th>ess_tail</th>\n",
       "      <th>r_hat</th>\n",
       "    </tr>\n",
       "  </thead>\n",
       "  <tbody>\n",
       "    <tr>\n",
       "      <th>beta[0]</th>\n",
       "      <td>-14.601</td>\n",
       "      <td>16.995</td>\n",
       "      <td>-46.502</td>\n",
       "      <td>20.296</td>\n",
       "      <td>0.369</td>\n",
       "      <td>0.266</td>\n",
       "      <td>2125.0</td>\n",
       "      <td>2260.0</td>\n",
       "      <td>1.0</td>\n",
       "    </tr>\n",
       "    <tr>\n",
       "      <th>beta[1]</th>\n",
       "      <td>0.057</td>\n",
       "      <td>0.031</td>\n",
       "      <td>-0.004</td>\n",
       "      <td>0.118</td>\n",
       "      <td>0.001</td>\n",
       "      <td>0.000</td>\n",
       "      <td>3102.0</td>\n",
       "      <td>2900.0</td>\n",
       "      <td>1.0</td>\n",
       "    </tr>\n",
       "    <tr>\n",
       "      <th>beta[2]</th>\n",
       "      <td>-0.080</td>\n",
       "      <td>0.052</td>\n",
       "      <td>-0.185</td>\n",
       "      <td>0.018</td>\n",
       "      <td>0.001</td>\n",
       "      <td>0.001</td>\n",
       "      <td>2135.0</td>\n",
       "      <td>2461.0</td>\n",
       "      <td>1.0</td>\n",
       "    </tr>\n",
       "    <tr>\n",
       "      <th>beta[3]</th>\n",
       "      <td>-0.053</td>\n",
       "      <td>0.107</td>\n",
       "      <td>-0.260</td>\n",
       "      <td>0.157</td>\n",
       "      <td>0.002</td>\n",
       "      <td>0.002</td>\n",
       "      <td>2917.0</td>\n",
       "      <td>2530.0</td>\n",
       "      <td>1.0</td>\n",
       "    </tr>\n",
       "    <tr>\n",
       "      <th>beta[4]</th>\n",
       "      <td>0.070</td>\n",
       "      <td>0.295</td>\n",
       "      <td>-0.521</td>\n",
       "      <td>0.652</td>\n",
       "      <td>0.006</td>\n",
       "      <td>0.005</td>\n",
       "      <td>2411.0</td>\n",
       "      <td>2431.0</td>\n",
       "      <td>1.0</td>\n",
       "    </tr>\n",
       "    <tr>\n",
       "      <th>beta[5]</th>\n",
       "      <td>-0.441</td>\n",
       "      <td>0.226</td>\n",
       "      <td>-0.870</td>\n",
       "      <td>0.003</td>\n",
       "      <td>0.004</td>\n",
       "      <td>0.003</td>\n",
       "      <td>3272.0</td>\n",
       "      <td>2802.0</td>\n",
       "      <td>1.0</td>\n",
       "    </tr>\n",
       "    <tr>\n",
       "      <th>beta[6]</th>\n",
       "      <td>-0.035</td>\n",
       "      <td>0.104</td>\n",
       "      <td>-0.233</td>\n",
       "      <td>0.173</td>\n",
       "      <td>0.002</td>\n",
       "      <td>0.002</td>\n",
       "      <td>3209.0</td>\n",
       "      <td>2649.0</td>\n",
       "      <td>1.0</td>\n",
       "    </tr>\n",
       "    <tr>\n",
       "      <th>beta[7]</th>\n",
       "      <td>0.874</td>\n",
       "      <td>0.090</td>\n",
       "      <td>0.699</td>\n",
       "      <td>1.052</td>\n",
       "      <td>0.002</td>\n",
       "      <td>0.001</td>\n",
       "      <td>3220.0</td>\n",
       "      <td>2694.0</td>\n",
       "      <td>1.0</td>\n",
       "    </tr>\n",
       "    <tr>\n",
       "      <th>beta[8]</th>\n",
       "      <td>-0.202</td>\n",
       "      <td>0.147</td>\n",
       "      <td>-0.493</td>\n",
       "      <td>0.080</td>\n",
       "      <td>0.003</td>\n",
       "      <td>0.002</td>\n",
       "      <td>2688.0</td>\n",
       "      <td>2513.0</td>\n",
       "      <td>1.0</td>\n",
       "    </tr>\n",
       "    <tr>\n",
       "      <th>beta[9]</th>\n",
       "      <td>0.225</td>\n",
       "      <td>0.140</td>\n",
       "      <td>-0.044</td>\n",
       "      <td>0.502</td>\n",
       "      <td>0.002</td>\n",
       "      <td>0.002</td>\n",
       "      <td>3408.0</td>\n",
       "      <td>3037.0</td>\n",
       "      <td>1.0</td>\n",
       "    </tr>\n",
       "    <tr>\n",
       "      <th>beta[10]</th>\n",
       "      <td>-0.007</td>\n",
       "      <td>0.235</td>\n",
       "      <td>-0.454</td>\n",
       "      <td>0.444</td>\n",
       "      <td>0.004</td>\n",
       "      <td>0.003</td>\n",
       "      <td>3451.0</td>\n",
       "      <td>3186.0</td>\n",
       "      <td>1.0</td>\n",
       "    </tr>\n",
       "    <tr>\n",
       "      <th>beta[11]</th>\n",
       "      <td>0.158</td>\n",
       "      <td>0.214</td>\n",
       "      <td>-0.241</td>\n",
       "      <td>0.568</td>\n",
       "      <td>0.003</td>\n",
       "      <td>0.003</td>\n",
       "      <td>4151.0</td>\n",
       "      <td>2967.0</td>\n",
       "      <td>1.0</td>\n",
       "    </tr>\n",
       "    <tr>\n",
       "      <th>beta[12]</th>\n",
       "      <td>0.146</td>\n",
       "      <td>0.165</td>\n",
       "      <td>-0.168</td>\n",
       "      <td>0.469</td>\n",
       "      <td>0.003</td>\n",
       "      <td>0.002</td>\n",
       "      <td>3832.0</td>\n",
       "      <td>2879.0</td>\n",
       "      <td>1.0</td>\n",
       "    </tr>\n",
       "    <tr>\n",
       "      <th>beta[13]</th>\n",
       "      <td>0.430</td>\n",
       "      <td>0.193</td>\n",
       "      <td>0.063</td>\n",
       "      <td>0.811</td>\n",
       "      <td>0.003</td>\n",
       "      <td>0.002</td>\n",
       "      <td>3781.0</td>\n",
       "      <td>3060.0</td>\n",
       "      <td>1.0</td>\n",
       "    </tr>\n",
       "    <tr>\n",
       "      <th>beta[14]</th>\n",
       "      <td>-1.486</td>\n",
       "      <td>0.509</td>\n",
       "      <td>-2.500</td>\n",
       "      <td>-0.526</td>\n",
       "      <td>0.008</td>\n",
       "      <td>0.006</td>\n",
       "      <td>3603.0</td>\n",
       "      <td>3169.0</td>\n",
       "      <td>1.0</td>\n",
       "    </tr>\n",
       "    <tr>\n",
       "      <th>tau</th>\n",
       "      <td>0.059</td>\n",
       "      <td>0.005</td>\n",
       "      <td>0.049</td>\n",
       "      <td>0.070</td>\n",
       "      <td>0.000</td>\n",
       "      <td>0.000</td>\n",
       "      <td>3677.0</td>\n",
       "      <td>2993.0</td>\n",
       "      <td>1.0</td>\n",
       "    </tr>\n",
       "    <tr>\n",
       "      <th>variance</th>\n",
       "      <td>16.947</td>\n",
       "      <td>1.531</td>\n",
       "      <td>13.942</td>\n",
       "      <td>19.802</td>\n",
       "      <td>0.025</td>\n",
       "      <td>0.018</td>\n",
       "      <td>3677.0</td>\n",
       "      <td>2993.0</td>\n",
       "      <td>1.0</td>\n",
       "    </tr>\n",
       "    <tr>\n",
       "      <th>br2</th>\n",
       "      <td>0.734</td>\n",
       "      <td>0.024</td>\n",
       "      <td>0.689</td>\n",
       "      <td>0.781</td>\n",
       "      <td>0.000</td>\n",
       "      <td>0.000</td>\n",
       "      <td>3677.0</td>\n",
       "      <td>2993.0</td>\n",
       "      <td>1.0</td>\n",
       "    </tr>\n",
       "    <tr>\n",
       "      <th>br2_adj</th>\n",
       "      <td>0.718</td>\n",
       "      <td>0.025</td>\n",
       "      <td>0.670</td>\n",
       "      <td>0.768</td>\n",
       "      <td>0.000</td>\n",
       "      <td>0.000</td>\n",
       "      <td>3677.0</td>\n",
       "      <td>2993.0</td>\n",
       "      <td>1.0</td>\n",
       "    </tr>\n",
       "  </tbody>\n",
       "</table>\n",
       "</div>"
      ],
      "text/plain": [
       "            mean      sd  hdi_2.5%  hdi_97.5%  mcse_mean  mcse_sd  ess_bulk  \\\n",
       "beta[0]  -14.601  16.995   -46.502     20.296      0.369    0.266    2125.0   \n",
       "beta[1]    0.057   0.031    -0.004      0.118      0.001    0.000    3102.0   \n",
       "beta[2]   -0.080   0.052    -0.185      0.018      0.001    0.001    2135.0   \n",
       "beta[3]   -0.053   0.107    -0.260      0.157      0.002    0.002    2917.0   \n",
       "beta[4]    0.070   0.295    -0.521      0.652      0.006    0.005    2411.0   \n",
       "beta[5]   -0.441   0.226    -0.870      0.003      0.004    0.003    3272.0   \n",
       "beta[6]   -0.035   0.104    -0.233      0.173      0.002    0.002    3209.0   \n",
       "beta[7]    0.874   0.090     0.699      1.052      0.002    0.001    3220.0   \n",
       "beta[8]   -0.202   0.147    -0.493      0.080      0.003    0.002    2688.0   \n",
       "beta[9]    0.225   0.140    -0.044      0.502      0.002    0.002    3408.0   \n",
       "beta[10]  -0.007   0.235    -0.454      0.444      0.004    0.003    3451.0   \n",
       "beta[11]   0.158   0.214    -0.241      0.568      0.003    0.003    4151.0   \n",
       "beta[12]   0.146   0.165    -0.168      0.469      0.003    0.002    3832.0   \n",
       "beta[13]   0.430   0.193     0.063      0.811      0.003    0.002    3781.0   \n",
       "beta[14]  -1.486   0.509    -2.500     -0.526      0.008    0.006    3603.0   \n",
       "tau        0.059   0.005     0.049      0.070      0.000    0.000    3677.0   \n",
       "variance  16.947   1.531    13.942     19.802      0.025    0.018    3677.0   \n",
       "br2        0.734   0.024     0.689      0.781      0.000    0.000    3677.0   \n",
       "br2_adj    0.718   0.025     0.670      0.768      0.000    0.000    3677.0   \n",
       "\n",
       "          ess_tail  r_hat  \n",
       "beta[0]     2260.0    1.0  \n",
       "beta[1]     2900.0    1.0  \n",
       "beta[2]     2461.0    1.0  \n",
       "beta[3]     2530.0    1.0  \n",
       "beta[4]     2431.0    1.0  \n",
       "beta[5]     2802.0    1.0  \n",
       "beta[6]     2649.0    1.0  \n",
       "beta[7]     2694.0    1.0  \n",
       "beta[8]     2513.0    1.0  \n",
       "beta[9]     3037.0    1.0  \n",
       "beta[10]    3186.0    1.0  \n",
       "beta[11]    2967.0    1.0  \n",
       "beta[12]    2879.0    1.0  \n",
       "beta[13]    3060.0    1.0  \n",
       "beta[14]    3169.0    1.0  \n",
       "tau         2993.0    1.0  \n",
       "variance    2993.0    1.0  \n",
       "br2         2993.0    1.0  \n",
       "br2_adj     2993.0    1.0  "
      ]
     },
     "execution_count": 10,
     "metadata": {},
     "output_type": "execute_result"
    }
   ],
   "source": [
    "az.summary(trace, hdi_prob=0.95)"
   ]
  },
  {
   "cell_type": "code",
   "execution_count": 11,
   "id": "238ed8cc",
   "metadata": {},
   "outputs": [
    {
     "data": {
      "text/plain": [
       "r2        0.654702\n",
       "r2_std    0.024177\n",
       "dtype: float64"
      ]
     },
     "execution_count": 11,
     "metadata": {},
     "output_type": "execute_result"
    }
   ],
   "source": [
    "y_pred = ppc.posterior_predictive.stack(sample=(\"chain\", \"draw\"))[\"likelihood\"].values.T\n",
    "az.r2_score(y, y_pred)"
   ]
  },
  {
   "cell_type": "code",
   "execution_count": 12,
   "id": "42c6522c",
   "metadata": {},
   "outputs": [
    {
     "name": "stdout",
     "output_type": "stream",
     "text": [
      "Last updated: Sun Mar 09 2025\n",
      "\n",
      "Python implementation: CPython\n",
      "Python version       : 3.12.7\n",
      "IPython version      : 8.29.0\n",
      "\n",
      "arviz   : 0.20.0\n",
      "pandas  : 2.2.3\n",
      "pymc    : 5.19.1\n",
      "numpy   : 1.26.4\n",
      "pytensor: 2.26.4\n",
      "\n"
     ]
    }
   ],
   "source": [
    "%load_ext watermark\n",
    "%watermark -n -u -v -iv"
   ]
  },
  {
   "cell_type": "code",
   "execution_count": null,
   "id": "860d0d41-4812-4181-854c-89267276ae0c",
   "metadata": {},
   "outputs": [],
   "source": []
  }
 ],
 "metadata": {
  "kernelspec": {
   "display_name": "Python 3 (ipykernel)",
   "language": "python",
   "name": "python3"
  },
  "language_info": {
   "codemirror_mode": {
    "name": "ipython",
    "version": 3
   },
   "file_extension": ".py",
   "mimetype": "text/x-python",
   "name": "python",
   "nbconvert_exporter": "python",
   "pygments_lexer": "ipython3",
   "version": "3.11.0"
  }
 },
 "nbformat": 4,
 "nbformat_minor": 5
}