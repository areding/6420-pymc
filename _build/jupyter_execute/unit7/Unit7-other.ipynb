{
 "cells": [
  {
   "cell_type": "markdown",
   "id": "49ae4686-8e0c-4796-b68e-a3fb293633c6",
   "metadata": {},
   "source": [
    "# 14. Generalized Linear Models\n",
    "\n",
    "In Generalized Linear Models, we are modeling $y$ as a linear combination of $x$ predictors, like linear regression. But, rather than assuming $y$ is normally distributed, we can define $y$ to be of other distributions within the exponential family. In this case, we need to use a *link* function.\n",
    "\n",
    "## Logistic Regression\n",
    "\n",
    "In logistic regression, the response is binary (or binomial). The typical link function is called *logit* and is defined as $\\log(\\frac{p}{1-p})$. A binary response (0 or 1) is used to fit the model, and then predictions are interpreted as a probability $p$ between 0 and 1. The equation is:\n",
    "\n",
    "$$ \\log(\\frac{p}{1-p}) = \\beta_0 + \\beta_1 x_1 + ... + \\beta_k x_k $$\n",
    "\n",
    "In the format above, the response is in the form of log-odds (logit). Equivalently, we can take the inverse logit on both sides of the equation to have the response in terms of $p$:\n",
    "\n",
    "$$ p = \\text{invlogit}(\\beta_0 + \\beta_1 x_1 + ... + \\beta_k x_k )$$\n",
    "\n",
    "where the inverse logit is $\\frac{e^p}{1+e^p}$. The Bayesian model is constructed as:\n",
    "\n",
    "$$ \\begin{align*}\n",
    "y_{ij} & \\sim Bern(p) && \\text{likelihood}\\\\ \\\\\n",
    "p & = \\text{invlogit}(\\beta_0 + \\beta_1 x_1 + ... + \\beta_k x_k) && \\text{deterministic relationship}\\\\\n",
    "\\beta_j & \\sim  N(0,\\sigma_j^2) && \\text{prior: } \\beta_j, \\space j = 0 \\text{ to } k \\\\\n",
    "\\end{align*}$$\n",
    "\n",
    "Other common link functions for logistic regression are probit and complementary log-log, which may be used to test different fits due to their shapes.\n",
    "\n",
    "## Possion Regression\n",
    "\n",
    "Poisson regression is used when the response is in the form of counts, we use a log-link function. The model is:\n",
    "\n",
    "$$ \\log(\\lambda) = \\beta_0 + \\beta_1 x_1 + ... + \\beta_k x_k $$\n",
    "\n",
    "or equivalently:\n",
    "\n",
    "$$ \\lambda = e^{\\beta_0 + \\beta_1 x_1 + ... + \\beta_k x_k} $$\n",
    "\n",
    "where $\\lambda$ is the rate parameter of the Poisson distribution. The Bayesian model is:\n",
    "\n",
    "$$ \\begin{align*}\n",
    "y_{ij} & \\sim Poisson(\\lambda) && \\text{likelihood}\\\\ \\\\\n",
    "\\lambda & = \\text{exp}(\\beta_0 + \\beta_1 x_1 + ... + \\beta_k x_k) && \\text{deterministic relationship}\\\\\n",
    "\\beta_j & \\sim  N(0,\\sigma_j^2) && \\text{prior: } \\beta_j, \\space j = 0 \\text{ to } k \\\\\n",
    "\\end{align*}$$\n"
   ]
  }
 ],
 "metadata": {
  "kernelspec": {
   "display_name": "Python 3 (ipykernel)",
   "language": "python",
   "name": "python3"
  },
  "language_info": {
   "codemirror_mode": {
    "name": "ipython",
    "version": 3
   },
   "file_extension": ".py",
   "mimetype": "text/x-python",
   "name": "python",
   "nbconvert_exporter": "python",
   "pygments_lexer": "ipython3",
   "version": "3.11.8"
  }
 },
 "nbformat": 4,
 "nbformat_minor": 5
}