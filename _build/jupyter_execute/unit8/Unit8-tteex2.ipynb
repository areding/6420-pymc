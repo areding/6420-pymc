{
 "cells": [
  {
   "cell_type": "code",
   "execution_count": 1,
   "id": "57f388c3",
   "metadata": {},
   "outputs": [],
   "source": [
    "import arviz as az\n",
    "import matplotlib.pyplot as plt\n",
    "import numpy as np\n",
    "import pandas as pd\n",
    "import pymc as pm\n",
    "from pymc.math import exp"
   ]
  },
  {
   "cell_type": "markdown",
   "id": "40b5d7c1-6eb1-4d98-bd3d-b156081e2e08",
   "metadata": {},
   "source": [
    "# 5. Time-to-event Models: Example 2*"
   ]
  },
  {
   "cell_type": "markdown",
   "id": "81826223",
   "metadata": {},
   "source": [
    "Consider the model\n",
    "\n",
    "$$ \\begin{align*} \n",
    "Y_i & \\sim Wei(\\nu,\\lambda) \\\\\n",
    "\\nu & = \\frac{3}{2} \\\\\n",
    "\\lambda & \\sim Ga(2,3) \\\\\n",
    "\\end{align*}$$\n",
    "\n",
    "with data\n",
    "\n",
    "$$ Y_1 = 2, Y_2 = 3, Y_3 = 1^*, Y_4 = \\frac{5}{2}, Y_5 = 3^*$$\n",
    "\n",
    "where *'s represent censored points. The goal is to estimate the parameter $\\lambda$ in Bayesian fashion. The likelihood is the Weibull PDF and Survival function for non-censored and censored points, respectively\n",
    "\n",
    "$$ \\begin{align*}\n",
    "L(\\lambda | \\nu, y_1, ...,y_n) & = \\prod_{i=1}^k \\nu \\lambda y_i ^ {\\nu-1} e^{-\\lambda y_{i} ^\\nu}\\times \\prod_{i=k+1}^n e^{-\\lambda y_i ^nu} \\\\\n",
    "& = \\nu^k \\lambda^k \\left ( \\prod_{i=1}^k y_i\\right )^{\\nu-1} e^{-\\lambda \\sum_{i=1}^n y_i^\\nu}\n",
    "\\end{align*}\n",
    "$$\n",
    "\n",
    "We can elimate constants, and see that the likelihood is proportional to\n",
    "\n",
    "$$ L(\\lambda | \\nu, y_1, ...,y_n) \\propto \\lambda^k e^{-\\lambda \\sum_{i=1}^n y_i^\\nu} $$\n",
    "\n",
    "Prior of $\\lambda$ is specified as $Ga(\\alpha,\\beta)$, which is also simplified\n",
    "\n",
    "$$ \\pi(\\lambda | \\alpha, \\beta) \\propto \\lambda^{\\alpha-1} e^{-\\beta \\lambda}$$\n",
    "\n",
    "With the joint likelihood and prior, we can find the posterior distribution\n",
    "\n",
    "$$\\pi(\\lambda | \\nu, y_1,...,y_n,\\alpha,\\beta) \\propto \\lambda^{k+\\alpha-1} e^{-\\lambda (\\beta + \\sum_{i=1}^n y_i^\\nu)}$$\n",
    "\n",
    "And by substituting in the known values, we arrive at \n",
    "\n",
    "$$\\pi(\\lambda | \\nu, y_1,...,y_n,\\alpha,\\beta) \\propto Ga(3 + 2, 18.1736 +3)$$\n",
    "\n",
    "The estimator $\\hat{\\lambda}_{bayes}$ is the mean of this Gamma distribution\n",
    "\n",
    "$$ \\hat{\\lambda}_{bayes} = \\frac{5}{21.1736} = 0.2361$$\n",
    "\n",
    "## `PyMC` implementation\n",
    "\n",
    "Now, let's use PyMC to find the $ \\hat{\\lambda}_{bayes} $. Note, we are converting between Weibull parameterizations to be compatible with the courses historical solution in WINBUGS. \n"
   ]
  },
  {
   "cell_type": "code",
   "execution_count": 2,
   "id": "d0f85863",
   "metadata": {},
   "outputs": [],
   "source": [
    "censored = np.array([np.inf, np.inf, 1, np.inf, 3])\n",
    "y = np.array([2, 3, 1, 2.5, 3])"
   ]
  },
  {
   "cell_type": "code",
   "execution_count": 3,
   "id": "7074770c",
   "metadata": {},
   "outputs": [
    {
     "name": "stderr",
     "output_type": "stream",
     "text": [
      "Auto-assigning NUTS sampler...\n",
      "Initializing NUTS using jitter+adapt_diag...\n",
      "Multiprocess sampling (4 chains in 4 jobs)\n",
      "NUTS: [λ]\n"
     ]
    },
    {
     "data": {
      "text/html": [
       "\n",
       "<style>\n",
       "    /* Turns off some styling */\n",
       "    progress {\n",
       "        /* gets rid of default border in Firefox and Opera. */\n",
       "        border: none;\n",
       "        /* Needs to be in here for Safari polyfill so background images work as expected. */\n",
       "        background-size: auto;\n",
       "    }\n",
       "    progress:not([value]), progress:not([value])::-webkit-progress-bar {\n",
       "        background: repeating-linear-gradient(45deg, #7e7e7e, #7e7e7e 10px, #5c5c5c 10px, #5c5c5c 20px);\n",
       "    }\n",
       "    .progress-bar-interrupted, .progress-bar-interrupted::-webkit-progress-bar {\n",
       "        background: #F44336;\n",
       "    }\n",
       "</style>\n"
      ],
      "text/plain": [
       "<IPython.core.display.HTML object>"
      ]
     },
     "metadata": {},
     "output_type": "display_data"
    },
    {
     "data": {
      "text/html": [
       "\n",
       "    <div>\n",
       "      <progress value='8000' class='' max='8000' style='width:300px; height:20px; vertical-align: middle;'></progress>\n",
       "      100.00% [8000/8000 00:00&lt;00:00 Sampling 4 chains, 0 divergences]\n",
       "    </div>\n",
       "    "
      ],
      "text/plain": [
       "<IPython.core.display.HTML object>"
      ]
     },
     "metadata": {},
     "output_type": "display_data"
    },
    {
     "name": "stderr",
     "output_type": "stream",
     "text": [
      "Sampling 4 chains for 1_000 tune and 1_000 draw iterations (4_000 + 4_000 draws total) took 1 seconds.\n"
     ]
    },
    {
     "data": {
      "text/html": [
       "<div>\n",
       "<style scoped>\n",
       "    .dataframe tbody tr th:only-of-type {\n",
       "        vertical-align: middle;\n",
       "    }\n",
       "\n",
       "    .dataframe tbody tr th {\n",
       "        vertical-align: top;\n",
       "    }\n",
       "\n",
       "    .dataframe thead th {\n",
       "        text-align: right;\n",
       "    }\n",
       "</style>\n",
       "<table border=\"1\" class=\"dataframe\">\n",
       "  <thead>\n",
       "    <tr style=\"text-align: right;\">\n",
       "      <th></th>\n",
       "      <th>mean</th>\n",
       "      <th>sd</th>\n",
       "      <th>hdi_3%</th>\n",
       "      <th>hdi_97%</th>\n",
       "      <th>mcse_mean</th>\n",
       "      <th>mcse_sd</th>\n",
       "      <th>ess_bulk</th>\n",
       "      <th>ess_tail</th>\n",
       "      <th>r_hat</th>\n",
       "    </tr>\n",
       "  </thead>\n",
       "  <tbody>\n",
       "    <tr>\n",
       "      <th>λ</th>\n",
       "      <td>0.234</td>\n",
       "      <td>0.104</td>\n",
       "      <td>0.064</td>\n",
       "      <td>0.423</td>\n",
       "      <td>0.002</td>\n",
       "      <td>0.002</td>\n",
       "      <td>1624.0</td>\n",
       "      <td>1838.0</td>\n",
       "      <td>1.0</td>\n",
       "    </tr>\n",
       "  </tbody>\n",
       "</table>\n",
       "</div>"
      ],
      "text/plain": [
       "    mean     sd  hdi_3%  hdi_97%  mcse_mean  mcse_sd  ess_bulk  ess_tail  \\\n",
       "λ  0.234  0.104   0.064    0.423      0.002    0.002    1624.0    1838.0   \n",
       "\n",
       "   r_hat  \n",
       "λ    1.0  "
      ]
     },
     "execution_count": 3,
     "metadata": {},
     "output_type": "execute_result"
    }
   ],
   "source": [
    "with pm.Model() as m:\n",
    "    λ = pm.Gamma(\"λ\", 2, 3)\n",
    "    α = 1.5\n",
    "    β = λ ** (-1 / α)\n",
    "    obs_latent = pm.Weibull.dist(α, β)\n",
    "    likelihood = pm.Censored(\n",
    "        \"likelihood\", obs_latent, lower=None, upper=censored, observed=y\n",
    "    )\n",
    "\n",
    "    trace = pm.sample(1000)\n",
    "\n",
    "az.summary(trace)"
   ]
  },
  {
   "cell_type": "code",
   "execution_count": 4,
   "id": "86a6421d",
   "metadata": {},
   "outputs": [
    {
     "name": "stdout",
     "output_type": "stream",
     "text": [
      "Last updated: Wed Mar 22 2023\n",
      "\n",
      "Python implementation: CPython\n",
      "Python version       : 3.11.0\n",
      "IPython version      : 8.9.0\n",
      "\n",
      "pytensor: 2.10.1\n",
      "\n",
      "pandas    : 1.5.3\n",
      "matplotlib: 3.6.3\n",
      "pymc      : 5.1.2\n",
      "numpy     : 1.24.2\n",
      "arviz     : 0.14.0\n",
      "\n"
     ]
    }
   ],
   "source": [
    "%load_ext watermark\n",
    "%watermark -n -u -v -iv -p pytensor"
   ]
  },
  {
   "cell_type": "code",
   "execution_count": null,
   "id": "21c83dac-bb3a-46ed-ab79-acd8a00af1ba",
   "metadata": {},
   "outputs": [],
   "source": []
  }
 ],
 "metadata": {
  "kernelspec": {
   "display_name": "Python 3 (ipykernel)",
   "language": "python",
   "name": "python3"
  },
  "language_info": {
   "codemirror_mode": {
    "name": "ipython",
    "version": 3
   },
   "file_extension": ".py",
   "mimetype": "text/x-python",
   "name": "python",
   "nbconvert_exporter": "python",
   "pygments_lexer": "ipython3",
   "version": "3.11.0"
  }
 },
 "nbformat": 4,
 "nbformat_minor": 5
}