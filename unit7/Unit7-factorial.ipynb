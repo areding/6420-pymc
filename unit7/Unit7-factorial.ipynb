{
 "cells": [
  {
   "cell_type": "markdown",
   "id": "8ae70a69-9320-4d65-9458-d5af15ce46fe",
   "metadata": {
    "editable": true,
    "slideshow": {
     "slide_type": ""
    },
    "tags": []
   },
   "source": [
    "# 8. Factorial Designs\n",
    "\n",
    "This page contributed by Jason Naramore!\n",
    "\n",
    "## Factorial Designs (Two-way ANOVA)\n",
    "\n",
    "In two-way ANOVA we are looking at the treament effects based on 2 factors. The model is defined as:\n",
    "\n",
    "$$\\begin{align*}\n",
    "y_{ijk} & = \\mu + \\alpha_i + \\beta_j + (\\alpha \\beta )_{ij} + \\epsilon_{ijk} \\\\\n",
    "\\mu_i & = \\mu + \\alpha_i + \\beta_j + (\\alpha \\beta )_{ij} \\\\\n",
    "\\epsilon_{ijk} & \\sim N(0,\\sigma^2)\n",
    "\\end{align*}$$\n",
    "\n",
    "where $\\alpha_i$ represents the treatment effects of Factor 1 with levels $i=1,2,...,a$ and $\\beta_j$ represents the treatment effect of Factor 2 with levels $j=1,2,...,b$. Notice there is also an interaction term $(\\alpha \\beta )_{ij}$. Like one-way  ANOVA, $\\mu$ is the grand mean of $y$ for all data. $\\epsilon$ is the error, and assumed to be normally distributed with a common variance $\\sigma^2$.\n",
    "\n",
    "Again, like one-way ANOVA, we need to use either sum-to-zero (STZ) or corner constraints to have an acceptable degrees of freedom. STZ constraints involve setting $\\sum\\alpha_i = 0$, $\\sum\\beta_i = 0$, and $\\sum(\\alpha \\beta)_{ij} = 0$. Corner constraints involve setting $\\alpha_1 = 0$, $\\beta_1 = 0$, $(\\alpha \\beta)_{1j} = (\\alpha \\beta)_{i1} = 0$.\n",
    "\n",
    "The first null hypothesis to test is the interaction terms $H_{01}: (\\alpha \\beta)_{ij} = 0$. If $H_{01}$ is not rejected, then we can proceed to test the null hypotheses of the main effects $H_{02}: \\alpha_i = 0$ and $H_{03}: \\beta_i = 0$.\n",
    "\n",
    "The Bayesian model can be constructed as :\n",
    "\n",
    "$$ \\begin{align*}\n",
    "y_{ij} & \\sim N(\\mu_{ij},\\sigma^2) && \\text{likelihood}\\\\ \\\\\n",
    "\\mu & \\sim  N(0,\\sigma_0^2) && \\text{prior: grand mean}\\\\\n",
    "\\mu_{ij} & = \\mu + \\alpha_i + \\beta_j + (\\alpha \\beta )_{ij} && \\text{deterministic relationship}\\\\\n",
    "\\alpha_i & \\sim  N(0,\\sigma_i^2) && \\text{prior: } \\alpha_i\\\\\n",
    "\\beta_j & \\sim  N(0,\\sigma_j^2) && \\text{prior: } \\beta_j\\\\\n",
    "\\tau &\\sim Ga(0.001,0.001) && \\text{prior: } \\tau\\\\\n",
    "\\sigma^2 & =  1/\\tau && \\text{deterministic relationship}\\\\ \\\\\n",
    "\\text{Subject to: } & \\sum \\alpha_i = 0 && \\text{STZ constraint for } \\alpha\\\\\n",
    " & \\sum \\beta_i = 0 && \\text{STZ constraint for } \\beta\\\\\n",
    " & \\sum (\\alpha \\beta)_{ij} = 0 && \\text{STZ constraint for } \\alpha \\beta \\text{ interaction}\\\\\n",
    "\\end{align*}$$\n",
    "\n",
    "$\\sigma_0^2$, $\\sigma_i^2$, anf $\\sigma_j^2$ are representing prior variances of the grand mean and treatment groups for each factor. Non-informative variances might be something like $\\sigma_0^2 = \\sigma_i^2 = \\sigma_j^2 = 1000$."
   ]
  },
  {
   "cell_type": "code",
   "execution_count": null,
   "id": "f8e8f5c8-2eed-4992-ba9d-c33dddc24717",
   "metadata": {},
   "outputs": [],
   "source": []
  }
 ],
 "metadata": {
  "kernelspec": {
   "display_name": "Python 3 (ipykernel)",
   "language": "python",
   "name": "python3"
  },
  "language_info": {
   "codemirror_mode": {
    "name": "ipython",
    "version": 3
   },
   "file_extension": ".py",
   "mimetype": "text/x-python",
   "name": "python",
   "nbconvert_exporter": "python",
   "pygments_lexer": "ipython3",
   "version": "3.11.4"
  }
 },
 "nbformat": 4,
 "nbformat_minor": 5
}
