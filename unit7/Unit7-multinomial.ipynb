{
 "cells": [
  {
   "cell_type": "markdown",
   "id": "42f3ae63-43a8-4a3e-a5f5-37ed838f0ac8",
   "metadata": {},
   "source": [
    "# 16. Multinomial Logit\n",
    "\n",
    "Contributed by Jason Naramore.\n",
    "\n",
    "Multinomial logit models are a generalization of logistic regression when there are more than 2 categories in the response. If there are $n$ categories, the multinomial logit model is:\n",
    "\n",
    "$$ \\begin{align*}\n",
    "y_1, y_2, ... , y_n & \\sim Mn(\\textbf{p} , 1) \\\\\n",
    "\\textbf{p} & = (p_1, p_2, ... , p_K) \\\\\n",
    "y_i & = (y_{i1}, y_{i2}, ... , y_{iK}), y_{ij} = 1, y_{i, \\neq j} = 0, \\space j \\in \\{1,...,K\\} \\\\\n",
    "\\end{align*} $$\n",
    "\n",
    "The second parameter in the Multinomial distribution is the number of trials, which is $n = 1$ in the case of Multinomial logit. \n",
    "\n",
    "For example, the $i$th response could be $y_i = (0,0,0,1,0)$, meaning the 4th category is true, and categories 1, 2, 3, and 5 are false. The notation would be:\n",
    "\n",
    "$$ \\begin{align*}\n",
    "y_i & = (0,0,0,1,0) \\\\\n",
    "K & = 5 \\\\\n",
    "y_{i4} & = 1 \\\\\n",
    "y_{i, \\neq 4} & = 0 \\\\\n",
    "\\end{align*} $$\n",
    "\n",
    "similar to the probability $p$ in a logistic regression for predicting category 1 over category 0, a vector of probabilities $p = (p_1, p_2, ... , p_K)$ is produced in the Multinomial logit model. In order to do this, the liniear combination of $\\beta$ coefficients and $x$ predictors are calculated for each category into $\\eta$, and the $\\eta$'s are normalized so that the sum of $p's$ equals 1:\n",
    "\n",
    "$$ \\begin{align*}\n",
    "\\eta_{ij} & = \\beta_{0j} + \\beta_{1j} x_{i1} + ... + \\beta_{p-1,j} x_{i,p-1}\\\\\n",
    "p_{ij} & = \\frac{e^{\\eta_{ij}}}{\\sum_{k=1}^K e^{\\eta_{ik}}} \\\\\n",
    "\\end{align*} $$\n",
    "\n",
    "so there is a $\\beta$ coefficient for each category $k$ and each $x$ predictor $i$. To put it all together, the Bayesian model is:\n",
    "\n",
    "$$ \\begin{align*}\n",
    "y_1, y_2, ... , y_n & \\sim Mn(\\textbf{p} , 1) && \\text{likelihood}\\\\ \\\\\n",
    "\\eta_{ij} & = \\beta_{0j} + \\beta_{1j} x_{i1} + ... + \\beta_{p-1,j} x_{i,p-1} && \\text{deterministic relationship} \\\\\n",
    "p_{ij} & = \\frac{e^{\\eta_{ij}}}{\\sum_{k=1}^K e^{\\eta_{ik}}} && \\text{deterministic relationship} \\\\\n",
    "\\beta_{ij} & \\sim  N(0,\\sigma_j^2) && \\text{prior: } \\beta_{ij} \\\\\n",
    "\\end{align*}$$"
   ]
  }
 ],
 "metadata": {
  "kernelspec": {
   "display_name": "Python 3 (ipykernel)",
   "language": "python",
   "name": "python3"
  },
  "language_info": {
   "codemirror_mode": {
    "name": "ipython",
    "version": 3
   },
   "file_extension": ".py",
   "mimetype": "text/x-python",
   "name": "python",
   "nbconvert_exporter": "python",
   "pygments_lexer": "ipython3",
   "version": "3.11.8"
  }
 },
 "nbformat": 4,
 "nbformat_minor": 5
}
