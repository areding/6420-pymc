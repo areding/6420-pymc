{
 "cells": [
  {
   "cell_type": "code",
   "execution_count": 1,
   "id": "5074e9a3",
   "metadata": {
    "tags": [
     "hide-output"
    ]
   },
   "outputs": [],
   "source": [
    "import pymc as pm\n",
    "import numpy as np\n",
    "import arviz as az\n",
    "from itertools import combinations"
   ]
  },
  {
   "cell_type": "markdown",
   "id": "d0d4ac84",
   "metadata": {},
   "source": [
    "# 7. Coagulation*\n",
    "\n",
    "An example of Bayesian ANOVA.\n",
    "\n",
    "Adapted from [Unit 7: anovacoagulation.odc](https://raw.githubusercontent.com/areding/6420-pymc/main/original_examples/Codes4Unit7/anovacoagulation.odc)."
   ]
  },
  {
   "cell_type": "markdown",
   "id": "195a19bd",
   "metadata": {},
   "source": [
    "Here 24 animals are randomly allocated to 4 different diets,  but the numbers allocated to different diets are not the same. The coagulation time for blood is measured for each animal. Are the diet-based differences significant? Example from page 166 of [Statistics for Experimenters](https://pages.stat.wisc.edu/~yxu/Teaching/16%20spring%20Stat602/%5bGeorge_E._P._Box,_J._Stuart_Hunter,_William_G._Hu(BookZZ.org).pdf) {cite:t}`box2005statistics`."
   ]
  },
  {
   "cell_type": "code",
   "execution_count": 2,
   "id": "3ace28c7",
   "metadata": {},
   "outputs": [
    {
     "data": {
      "text/plain": [
       "{1: [62, 60, 63, 59],\n",
       " 2: [63, 67, 71, 64, 65, 66],\n",
       " 3: [68, 66, 71, 67, 68, 68],\n",
       " 4: [56, 62, 60, 61, 63, 64, 63, 59]}"
      ]
     },
     "execution_count": 2,
     "metadata": {},
     "output_type": "execute_result"
    }
   ],
   "source": [
    "# cut and pasted data from .odc file\n",
    "# fmt: off\n",
    "times = (62, 60, 63, 59, 63, 67, 71, 64, 65, 66, 68, 66, 71, 67, 68, 68, 56, 62,\n",
    "         60, 61, 63, 64, 63, 59)\n",
    "diets = (1, 1, 1, 1, 2, 2, 2, 2, 2, 2, 3, 3, 3, 3, 3, 3, 4, 4, 4, 4, 4, 4, 4, 4)\n",
    "# fmt: on\n",
    "\n",
    "# create dictionary where each key is a diet and values are lists of times\n",
    "data = {}\n",
    "for key, val in zip(diets, times):\n",
    "    data.setdefault(key, []).append(val)\n",
    "data"
   ]
  },
  {
   "cell_type": "markdown",
   "id": "fbfa5f14",
   "metadata": {},
   "source": [
    "## Simple method\n",
    "\n",
    "No loops! If you're using this style, 4 treatments is probably the max before it starts to get too annoying to type out."
   ]
  },
  {
   "cell_type": "code",
   "execution_count": 3,
   "id": "47256140",
   "metadata": {
    "tags": [
     "hide-output"
    ]
   },
   "outputs": [
    {
     "name": "stderr",
     "output_type": "stream",
     "text": [
      "Initializing NUTS using jitter+adapt_diag...\n",
      "Multiprocess sampling (4 chains in 4 jobs)\n",
      "NUTS: [mu_0, tau, alpha]\n"
     ]
    },
    {
     "data": {
      "application/vnd.jupyter.widget-view+json": {
       "model_id": "93441a9f6cd6459d808cf1d083278b4c",
       "version_major": 2,
       "version_minor": 0
      },
      "text/plain": [
       "Output()"
      ]
     },
     "metadata": {},
     "output_type": "display_data"
    },
    {
     "data": {
      "text/html": [
       "<pre style=\"white-space:pre;overflow-x:auto;line-height:normal;font-family:Menlo,'DejaVu Sans Mono',consolas,'Courier New',monospace\"></pre>\n"
      ],
      "text/plain": []
     },
     "metadata": {},
     "output_type": "display_data"
    },
    {
     "name": "stderr",
     "output_type": "stream",
     "text": [
      "Sampling 4 chains for 1_000 tune and 5_000 draw iterations (4_000 + 20_000 draws total) took 2 seconds.\n"
     ]
    }
   ],
   "source": [
    "with pm.Model() as m:\n",
    "    mu0 = pm.Normal(\"mu_0\", mu=0, tau=0.0001)\n",
    "    tau = pm.Gamma(\"tau\", 0.001, 0.001)\n",
    "\n",
    "    alpha = pm.ZeroSumNormal(\"alpha\", sigma=10, shape=4)\n",
    "\n",
    "    mu_1 = mu0 + alpha[0]\n",
    "    mu_2 = mu0 + alpha[1]\n",
    "    mu_3 = mu0 + alpha[2]\n",
    "    mu_4 = mu0 + alpha[3]\n",
    "\n",
    "    pm.Normal(\"lik1\", mu=mu_1, tau=tau, observed=data[1])\n",
    "    pm.Normal(\"lik2\", mu=mu_2, tau=tau, observed=data[2])\n",
    "    pm.Normal(\"lik3\", mu=mu_3, tau=tau, observed=data[3])\n",
    "    pm.Normal(\"lik4\", mu=mu_4, tau=tau, observed=data[4])\n",
    "\n",
    "    onetwo = pm.Deterministic(\"α1-α2\", alpha[0] - alpha[1])\n",
    "    onethree = pm.Deterministic(\"α1-α3\", alpha[0] - alpha[2])\n",
    "    onefour = pm.Deterministic(\"α1-α4\", alpha[0] - alpha[3])\n",
    "    twothree = pm.Deterministic(\"α2-α3\", alpha[1] - alpha[2])\n",
    "    twofour = pm.Deterministic(\"α2-α4\", alpha[1] - alpha[3])\n",
    "    threefour = pm.Deterministic(\"α3-α4\", alpha[2] - alpha[3])\n",
    "\n",
    "    trace = pm.sample(5000)"
   ]
  },
  {
   "cell_type": "code",
   "execution_count": 8,
   "id": "a1f8ef11",
   "metadata": {},
   "outputs": [
    {
     "data": {
      "text/html": [
       "<div>\n",
       "<style scoped>\n",
       "    .dataframe tbody tr th:only-of-type {\n",
       "        vertical-align: middle;\n",
       "    }\n",
       "\n",
       "    .dataframe tbody tr th {\n",
       "        vertical-align: top;\n",
       "    }\n",
       "\n",
       "    .dataframe thead th {\n",
       "        text-align: right;\n",
       "    }\n",
       "</style>\n",
       "<table border=\"1\" class=\"dataframe\">\n",
       "  <thead>\n",
       "    <tr style=\"text-align: right;\">\n",
       "      <th></th>\n",
       "      <th>mean</th>\n",
       "      <th>sd</th>\n",
       "      <th>hdi_3%</th>\n",
       "      <th>hdi_97%</th>\n",
       "      <th>mcse_mean</th>\n",
       "      <th>mcse_sd</th>\n",
       "      <th>ess_bulk</th>\n",
       "      <th>ess_tail</th>\n",
       "      <th>r_hat</th>\n",
       "    </tr>\n",
       "  </thead>\n",
       "  <tbody>\n",
       "    <tr>\n",
       "      <th>mu_0</th>\n",
       "      <td>63.995</td>\n",
       "      <td>0.527</td>\n",
       "      <td>63.016</td>\n",
       "      <td>65.002</td>\n",
       "      <td>0.004</td>\n",
       "      <td>0.003</td>\n",
       "      <td>22143.0</td>\n",
       "      <td>14304.0</td>\n",
       "      <td>1.0</td>\n",
       "    </tr>\n",
       "    <tr>\n",
       "      <th>tau</th>\n",
       "      <td>0.179</td>\n",
       "      <td>0.056</td>\n",
       "      <td>0.079</td>\n",
       "      <td>0.282</td>\n",
       "      <td>0.000</td>\n",
       "      <td>0.000</td>\n",
       "      <td>14655.0</td>\n",
       "      <td>13754.0</td>\n",
       "      <td>1.0</td>\n",
       "    </tr>\n",
       "    <tr>\n",
       "      <th>alpha[0]</th>\n",
       "      <td>-2.969</td>\n",
       "      <td>1.028</td>\n",
       "      <td>-4.888</td>\n",
       "      <td>-1.002</td>\n",
       "      <td>0.008</td>\n",
       "      <td>0.006</td>\n",
       "      <td>18356.0</td>\n",
       "      <td>14838.0</td>\n",
       "      <td>1.0</td>\n",
       "    </tr>\n",
       "    <tr>\n",
       "      <th>alpha[1]</th>\n",
       "      <td>1.987</td>\n",
       "      <td>0.881</td>\n",
       "      <td>0.339</td>\n",
       "      <td>3.677</td>\n",
       "      <td>0.006</td>\n",
       "      <td>0.004</td>\n",
       "      <td>21811.0</td>\n",
       "      <td>14707.0</td>\n",
       "      <td>1.0</td>\n",
       "    </tr>\n",
       "    <tr>\n",
       "      <th>alpha[2]</th>\n",
       "      <td>3.964</td>\n",
       "      <td>0.889</td>\n",
       "      <td>2.228</td>\n",
       "      <td>5.595</td>\n",
       "      <td>0.007</td>\n",
       "      <td>0.005</td>\n",
       "      <td>17327.0</td>\n",
       "      <td>13918.0</td>\n",
       "      <td>1.0</td>\n",
       "    </tr>\n",
       "    <tr>\n",
       "      <th>alpha[3]</th>\n",
       "      <td>-2.981</td>\n",
       "      <td>0.816</td>\n",
       "      <td>-4.542</td>\n",
       "      <td>-1.460</td>\n",
       "      <td>0.005</td>\n",
       "      <td>0.004</td>\n",
       "      <td>23383.0</td>\n",
       "      <td>16548.0</td>\n",
       "      <td>1.0</td>\n",
       "    </tr>\n",
       "    <tr>\n",
       "      <th>α1-α2</th>\n",
       "      <td>-4.956</td>\n",
       "      <td>1.605</td>\n",
       "      <td>-8.018</td>\n",
       "      <td>-1.969</td>\n",
       "      <td>0.012</td>\n",
       "      <td>0.008</td>\n",
       "      <td>19430.0</td>\n",
       "      <td>14471.0</td>\n",
       "      <td>1.0</td>\n",
       "    </tr>\n",
       "    <tr>\n",
       "      <th>α1-α3</th>\n",
       "      <td>-6.933</td>\n",
       "      <td>1.608</td>\n",
       "      <td>-9.829</td>\n",
       "      <td>-3.745</td>\n",
       "      <td>0.012</td>\n",
       "      <td>0.009</td>\n",
       "      <td>17433.0</td>\n",
       "      <td>14669.0</td>\n",
       "      <td>1.0</td>\n",
       "    </tr>\n",
       "    <tr>\n",
       "      <th>α1-α4</th>\n",
       "      <td>0.012</td>\n",
       "      <td>1.534</td>\n",
       "      <td>-2.908</td>\n",
       "      <td>2.880</td>\n",
       "      <td>0.011</td>\n",
       "      <td>0.010</td>\n",
       "      <td>20750.0</td>\n",
       "      <td>15189.0</td>\n",
       "      <td>1.0</td>\n",
       "    </tr>\n",
       "    <tr>\n",
       "      <th>α2-α3</th>\n",
       "      <td>-1.977</td>\n",
       "      <td>1.430</td>\n",
       "      <td>-4.704</td>\n",
       "      <td>0.699</td>\n",
       "      <td>0.010</td>\n",
       "      <td>0.008</td>\n",
       "      <td>19332.0</td>\n",
       "      <td>14482.0</td>\n",
       "      <td>1.0</td>\n",
       "    </tr>\n",
       "    <tr>\n",
       "      <th>α2-α4</th>\n",
       "      <td>4.968</td>\n",
       "      <td>1.333</td>\n",
       "      <td>2.398</td>\n",
       "      <td>7.416</td>\n",
       "      <td>0.009</td>\n",
       "      <td>0.006</td>\n",
       "      <td>23561.0</td>\n",
       "      <td>15620.0</td>\n",
       "      <td>1.0</td>\n",
       "    </tr>\n",
       "    <tr>\n",
       "      <th>α3-α4</th>\n",
       "      <td>6.945</td>\n",
       "      <td>1.350</td>\n",
       "      <td>4.399</td>\n",
       "      <td>9.547</td>\n",
       "      <td>0.010</td>\n",
       "      <td>0.007</td>\n",
       "      <td>19356.0</td>\n",
       "      <td>13909.0</td>\n",
       "      <td>1.0</td>\n",
       "    </tr>\n",
       "  </tbody>\n",
       "</table>\n",
       "</div>"
      ],
      "text/plain": [
       "            mean     sd  hdi_3%  hdi_97%  mcse_mean  mcse_sd  ess_bulk  \\\n",
       "mu_0      63.995  0.527  63.016   65.002      0.004    0.003   22143.0   \n",
       "tau        0.179  0.056   0.079    0.282      0.000    0.000   14655.0   \n",
       "alpha[0]  -2.969  1.028  -4.888   -1.002      0.008    0.006   18356.0   \n",
       "alpha[1]   1.987  0.881   0.339    3.677      0.006    0.004   21811.0   \n",
       "alpha[2]   3.964  0.889   2.228    5.595      0.007    0.005   17327.0   \n",
       "alpha[3]  -2.981  0.816  -4.542   -1.460      0.005    0.004   23383.0   \n",
       "α1-α2     -4.956  1.605  -8.018   -1.969      0.012    0.008   19430.0   \n",
       "α1-α3     -6.933  1.608  -9.829   -3.745      0.012    0.009   17433.0   \n",
       "α1-α4      0.012  1.534  -2.908    2.880      0.011    0.010   20750.0   \n",
       "α2-α3     -1.977  1.430  -4.704    0.699      0.010    0.008   19332.0   \n",
       "α2-α4      4.968  1.333   2.398    7.416      0.009    0.006   23561.0   \n",
       "α3-α4      6.945  1.350   4.399    9.547      0.010    0.007   19356.0   \n",
       "\n",
       "          ess_tail  r_hat  \n",
       "mu_0       14304.0    1.0  \n",
       "tau        13754.0    1.0  \n",
       "alpha[0]   14838.0    1.0  \n",
       "alpha[1]   14707.0    1.0  \n",
       "alpha[2]   13918.0    1.0  \n",
       "alpha[3]   16548.0    1.0  \n",
       "α1-α2      14471.0    1.0  \n",
       "α1-α3      14669.0    1.0  \n",
       "α1-α4      15189.0    1.0  \n",
       "α2-α3      14482.0    1.0  \n",
       "α2-α4      15620.0    1.0  \n",
       "α3-α4      13909.0    1.0  "
      ]
     },
     "execution_count": 8,
     "metadata": {},
     "output_type": "execute_result"
    }
   ],
   "source": [
    "az.summary(trace)"
   ]
  },
  {
   "cell_type": "code",
   "execution_count": 31,
   "id": "a8f1e0d4",
   "metadata": {},
   "outputs": [
    {
     "data": {
      "text/plain": [
       "Text(0.5, 1.0, 'Ridgeplot of $\\\\alpha$ and contrasts')"
      ]
     },
     "execution_count": 31,
     "metadata": {},
     "output_type": "execute_result"
    },
    {
     "data": {
      "image/png": "[encoded data removed]",
      "text/plain": [
       "<Figure size 1200x1320 with 1 Axes>"
      ]
     },
     "metadata": {},
     "output_type": "display_data"
    }
   ],
   "source": [
    "axes = az.plot_forest(\n",
    "    trace,\n",
    "    var_names=[\"~mu_0\", \"~tau\"],\n",
    "    kind=\"ridgeplot\",\n",
    "    combined=True,\n",
    "    ridgeplot_truncate=False,\n",
    "    ridgeplot_overlap=2,\n",
    "    ridgeplot_alpha=0.8,\n",
    "    colors=\"white\",\n",
    ")\n",
    "\n",
    "axes[0].set_title(\"Ridgeplot of $\\\\alpha$ and contrasts\")"
   ]
  },
  {
   "cell_type": "markdown",
   "id": "ec7443cc",
   "metadata": {},
   "source": [
    "## A more concise method\n",
    "Not necessarily pretty, but easier to extend to more treatments. I'm interested in seeing other peoples' methods here; I feel like this could still be a lot cleaner."
   ]
  },
  {
   "cell_type": "code",
   "execution_count": 32,
   "id": "3b43b405",
   "metadata": {},
   "outputs": [
    {
     "data": {
      "text/plain": [
       "[(0, 1), (0, 2), (0, 3), (1, 2), (1, 3), (2, 3)]"
      ]
     },
     "execution_count": 32,
     "metadata": {},
     "output_type": "execute_result"
    }
   ],
   "source": [
    "# get possible combinations\n",
    "combos = list(combinations(range(4), 2))\n",
    "combos"
   ]
  },
  {
   "cell_type": "code",
   "execution_count": 35,
   "id": "9801d470",
   "metadata": {
    "tags": [
     "hide-output"
    ]
   },
   "outputs": [
    {
     "name": "stderr",
     "output_type": "stream",
     "text": [
      "Initializing NUTS using jitter+adapt_diag...\n",
      "Multiprocess sampling (4 chains in 4 jobs)\n",
      "NUTS: [mu0, tau, αlpha]\n"
     ]
    },
    {
     "data": {
      "application/vnd.jupyter.widget-view+json": {
       "model_id": "532a62e22a144f3a90ecb46063fe3a42",
       "version_major": 2,
       "version_minor": 0
      },
      "text/plain": [
       "Output()"
      ]
     },
     "metadata": {},
     "output_type": "display_data"
    },
    {
     "data": {
      "text/html": [
       "<pre style=\"white-space:pre;overflow-x:auto;line-height:normal;font-family:Menlo,'DejaVu Sans Mono',consolas,'Courier New',monospace\"></pre>\n"
      ],
      "text/plain": []
     },
     "metadata": {},
     "output_type": "display_data"
    },
    {
     "name": "stderr",
     "output_type": "stream",
     "text": [
      "Sampling 4 chains for 1_000 tune and 5_000 draw iterations (4_000 + 20_000 draws total) took 2 seconds.\n"
     ]
    }
   ],
   "source": [
    "with pm.Model() as m:\n",
    "    mu0 = pm.Normal(\"mu0\", mu=0, tau=0.0001)\n",
    "    tau = pm.Gamma(\"tau\", 0.001, 0.001)\n",
    "\n",
    "    alphas = pm.ZeroSumNormal(f\"αlpha\", sigma=10, shape=4)\n",
    "    mus = [\n",
    "        pm.Deterministic(f\"mu{i + 1}\", mu0 + alpha) for i, alpha in enumerate(alphas)\n",
    "    ]\n",
    "\n",
    "    [\n",
    "        pm.Normal(f\"lik{i + 1}\", mu=mus[i], tau=tau, observed=data[i + 1])\n",
    "        for i, mu in enumerate(mus)\n",
    "    ]\n",
    "\n",
    "    [pm.Deterministic(f\"α{i + 1} - α{j + 1}\", alphas[i] - alphas[j]) for i, j in combos]\n",
    "\n",
    "    trace = pm.sample(5000)"
   ]
  },
  {
   "cell_type": "code",
   "execution_count": 36,
   "id": "f8e34c05",
   "metadata": {},
   "outputs": [
    {
     "data": {
      "text/html": [
       "<div>\n",
       "<style scoped>\n",
       "    .dataframe tbody tr th:only-of-type {\n",
       "        vertical-align: middle;\n",
       "    }\n",
       "\n",
       "    .dataframe tbody tr th {\n",
       "        vertical-align: top;\n",
       "    }\n",
       "\n",
       "    .dataframe thead th {\n",
       "        text-align: right;\n",
       "    }\n",
       "</style>\n",
       "<table border=\"1\" class=\"dataframe\">\n",
       "  <thead>\n",
       "    <tr style=\"text-align: right;\">\n",
       "      <th></th>\n",
       "      <th>mean</th>\n",
       "      <th>sd</th>\n",
       "      <th>hdi_3%</th>\n",
       "      <th>hdi_97%</th>\n",
       "    </tr>\n",
       "  </thead>\n",
       "  <tbody>\n",
       "    <tr>\n",
       "      <th>αlpha[0]</th>\n",
       "      <td>-2.939</td>\n",
       "      <td>1.011</td>\n",
       "      <td>-4.829</td>\n",
       "      <td>-0.999</td>\n",
       "    </tr>\n",
       "    <tr>\n",
       "      <th>αlpha[1]</th>\n",
       "      <td>1.967</td>\n",
       "      <td>0.876</td>\n",
       "      <td>0.364</td>\n",
       "      <td>3.655</td>\n",
       "    </tr>\n",
       "    <tr>\n",
       "      <th>αlpha[2]</th>\n",
       "      <td>3.951</td>\n",
       "      <td>0.883</td>\n",
       "      <td>2.338</td>\n",
       "      <td>5.703</td>\n",
       "    </tr>\n",
       "    <tr>\n",
       "      <th>αlpha[3]</th>\n",
       "      <td>-2.979</td>\n",
       "      <td>0.806</td>\n",
       "      <td>-4.480</td>\n",
       "      <td>-1.425</td>\n",
       "    </tr>\n",
       "    <tr>\n",
       "      <th>α1 - α2</th>\n",
       "      <td>-4.906</td>\n",
       "      <td>1.583</td>\n",
       "      <td>-8.008</td>\n",
       "      <td>-1.957</td>\n",
       "    </tr>\n",
       "    <tr>\n",
       "      <th>α1 - α3</th>\n",
       "      <td>-6.890</td>\n",
       "      <td>1.590</td>\n",
       "      <td>-9.849</td>\n",
       "      <td>-3.831</td>\n",
       "    </tr>\n",
       "    <tr>\n",
       "      <th>α1 - α4</th>\n",
       "      <td>0.040</td>\n",
       "      <td>1.509</td>\n",
       "      <td>-2.810</td>\n",
       "      <td>2.910</td>\n",
       "    </tr>\n",
       "    <tr>\n",
       "      <th>α2 - α3</th>\n",
       "      <td>-1.985</td>\n",
       "      <td>1.423</td>\n",
       "      <td>-4.684</td>\n",
       "      <td>0.646</td>\n",
       "    </tr>\n",
       "    <tr>\n",
       "      <th>α2 - α4</th>\n",
       "      <td>4.946</td>\n",
       "      <td>1.327</td>\n",
       "      <td>2.491</td>\n",
       "      <td>7.478</td>\n",
       "    </tr>\n",
       "    <tr>\n",
       "      <th>α3 - α4</th>\n",
       "      <td>6.931</td>\n",
       "      <td>1.335</td>\n",
       "      <td>4.515</td>\n",
       "      <td>9.526</td>\n",
       "    </tr>\n",
       "  </tbody>\n",
       "</table>\n",
       "</div>"
      ],
      "text/plain": [
       "           mean     sd  hdi_3%  hdi_97%\n",
       "αlpha[0] -2.939  1.011  -4.829   -0.999\n",
       "αlpha[1]  1.967  0.876   0.364    3.655\n",
       "αlpha[2]  3.951  0.883   2.338    5.703\n",
       "αlpha[3] -2.979  0.806  -4.480   -1.425\n",
       "α1 - α2  -4.906  1.583  -8.008   -1.957\n",
       "α1 - α3  -6.890  1.590  -9.849   -3.831\n",
       "α1 - α4   0.040  1.509  -2.810    2.910\n",
       "α2 - α3  -1.985  1.423  -4.684    0.646\n",
       "α2 - α4   4.946  1.327   2.491    7.478\n",
       "α3 - α4   6.931  1.335   4.515    9.526"
      ]
     },
     "execution_count": 36,
     "metadata": {},
     "output_type": "execute_result"
    }
   ],
   "source": [
    "az.summary(trace, var_names=[\"α\"], filter_vars=\"like\", kind=\"stats\")"
   ]
  },
  {
   "cell_type": "code",
   "execution_count": 37,
   "id": "74133f95",
   "metadata": {},
   "outputs": [
    {
     "name": "stdout",
     "output_type": "stream",
     "text": [
      "Last updated: Sat Mar 08 2025\n",
      "\n",
      "Python implementation: CPython\n",
      "Python version       : 3.12.7\n",
      "IPython version      : 8.29.0\n",
      "\n",
      "pytensor: 2.26.4\n",
      "\n",
      "numpy: 1.26.4\n",
      "arviz: 0.20.0\n",
      "pymc : 5.19.1\n",
      "\n"
     ]
    }
   ],
   "source": [
    "%load_ext watermark\n",
    "%watermark -n -u -v -iv -p pytensor"
   ]
  },
  {
   "cell_type": "code",
   "execution_count": null,
   "id": "054298a2",
   "metadata": {},
   "outputs": [],
   "source": []
  }
 ],
 "metadata": {
  "kernelspec": {
   "display_name": "pymc_macos15",
   "language": "python",
   "name": "python3"
  },
  "language_info": {
   "codemirror_mode": {
    "name": "ipython",
    "version": 3
   },
   "file_extension": ".py",
   "mimetype": "text/x-python",
   "name": "python",
   "nbconvert_exporter": "python",
   "pygments_lexer": "ipython3",
   "version": "3.12.7"
  }
 },
 "nbformat": 4,
 "nbformat_minor": 5
}
