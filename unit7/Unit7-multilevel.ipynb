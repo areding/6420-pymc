{
 "cells": [
  {
   "cell_type": "markdown",
   "id": "c7864e32-6d61-4533-8aa7-ab28f3ebdd05",
   "metadata": {},
   "source": [
    "# 18. Multilevel Models\n",
    "\n",
    "Contributed by Jason Naramore.\n",
    "\n",
    "In multilevel models, we can model the parameters to be associated by group. Random effects models and mixed effects models are both examples of multilevel models.\n",
    "\n",
    "For example, we could have $J$ intecepts in the following linear model that are associated with the students at school $j$:\n",
    "\n",
    "$$\\begin{align*}\n",
    "y_i & = \\alpha_{j(i)} + \\beta x_i + \\epsilon_i, \\text{ for students } i = 1, .. , n\\\\\n",
    "\\alpha_j & = a + b \\mu_j + \\eta_j \\text{ for schools } j = 1, ..., J \\\\\n",
    "\\end{align*}$$\n",
    "\n",
    "Advantages of multilevel models can be to learn about treatment effects that vary by group. This type of model allows us to \"borrow strength\" from all of the data to make inferences about smaller sample-size groups.\n",
    "\n",
    "We also may be able to achieve better fitting models, by accounting for the uncertainty at different levels. Another example is with $Poission(\\lambda)$ regression:\n",
    "\n",
    "$$ \\begin{align*}\n",
    "y_{i} & \\sim Poisson(\\lambda_i)\\\\\n",
    "\\lambda_i & = \\text{exp}(\\beta_{0} + \\beta_{1} x_{i1} + ... + \\beta_k x_{ik})\n",
    "\\end{align*}$$\n",
    "\n",
    "One of the model assumptions is that the expection and variance of $y_i$ are equal. However, many times in real-life data the variance is larger. In order to account for the higher than expected variance, we can add the random effect term $\\xi_{j(i)}$ to the linear equation of covariates. This new term can act as a \"sponge\" to collect the excess variance, possibly for a better fitting model."
   ]
  },
  {
   "cell_type": "code",
   "execution_count": null,
   "id": "1c7f9988-e713-48e9-bd6f-fb1a869a270f",
   "metadata": {},
   "outputs": [],
   "source": []
  }
 ],
 "metadata": {
  "kernelspec": {
   "display_name": "Python 3 (ipykernel)",
   "language": "python",
   "name": "python3"
  },
  "language_info": {
   "codemirror_mode": {
    "name": "ipython",
    "version": 3
   },
   "file_extension": ".py",
   "mimetype": "text/x-python",
   "name": "python",
   "nbconvert_exporter": "python",
   "pygments_lexer": "ipython3",
   "version": "3.11.8"
  }
 },
 "nbformat": 4,
 "nbformat_minor": 5
}
