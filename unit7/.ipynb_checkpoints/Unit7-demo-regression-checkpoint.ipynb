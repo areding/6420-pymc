{
 "cells": [
  {
   "cell_type": "code",
   "execution_count": 1,
   "id": "d4a9676d",
   "metadata": {},
   "outputs": [],
   "source": [
    "import pymc as pm\n",
    "import pandas as pd\n",
    "import numpy as np\n",
    "import arviz as az\n",
    "from pymc.math import dot\n",
    "import pytensor.tensor as pt\n",
    "\n",
    "%load_ext lab_black\n",
    "%load_ext watermark"
   ]
  },
  {
   "cell_type": "markdown",
   "id": "6ff75727",
   "metadata": {},
   "source": [
    "# 11. Brozek index prediction*\n",
    "\n",
    "This example goes over linear regression and Bayesian $R^2$.\n",
    "\n",
    "Adapted from [Unit 7: fat1.odc](https://raw.githubusercontent.com/areding/6420-pymc/main/original_examples/Codes4Unit7/fat2d.odc), [fat2d.odc](https://raw.githubusercontent.com/areding/6420-pymc/main/original_examples/Codes4Unit7/fat1.odc), and [fatmulti.odc](https://raw.githubusercontent.com/areding/6420-pymc/main/original_examples/Codes4Unit7/fatmulti.odc).\n",
    "\n",
    "Data can be found [here](https://raw.githubusercontent.com/areding/6420-pymc/main/data/fat.tsv)."
   ]
  },
  {
   "cell_type": "markdown",
   "id": "00a6981f",
   "metadata": {
    "tags": []
   },
   "source": [
    "Percentage of body fat, age, weight, height, and ten body circumference measurements (e.g., abdomen) were recorded for 252 men. Percentage of body fat is estimated through an underwater weighing technique.\n",
    "\n",
    "The data set has 252 observations and 15 variables. Brozek index (Brozek et al., 1963) is obtained by the underwater weighing while other 14 anthropometric variables are obtained using scales and a measuring tape.\n",
    "\n",
    "- y = Brozek index\n",
    "- X1 = 1 (intercept)\n",
    "- X2 = age\n",
    "- X3 = weight\n",
    "- X4 = height\n",
    "- X5 = adipose\n",
    "- X6 = neck  \n",
    "- X7 = chest\n",
    "- X8 = abdomen\n",
    "- X9 = hip\n",
    "- X10 = thigh\n",
    "- X11 = knee   \n",
    "- X12 = ankle\n",
    "- X13 = bicep\n",
    "- X14 = forearm\n",
    "- X15 = wrist\n",
    "\n",
    "These anthropometric variables are less intrusive but also less reliable in assessing the body fat index.\n",
    "\n",
    "Set a linear regression to predict the Brozek index from these body measurements."
   ]
  },
  {
   "cell_type": "markdown",
   "id": "5aaf06a1",
   "metadata": {},
   "source": [
    "## Single predictor (X8)\n",
    "\n",
    "This is a recreation of fat1.odc."
   ]
  },
  {
   "cell_type": "code",
   "execution_count": 2,
   "id": "8b5c60c6",
   "metadata": {},
   "outputs": [],
   "source": [
    "data = pd.read_csv(\"../data/fat.tsv\", sep=\"\\t\")\n",
    "\n",
    "y = data[\"y\"].to_numpy(copy=True)\n",
    "X = data[\"X8\"].to_numpy(copy=True)\n",
    "\n",
    "# p will be the number of predictors + intercept (1 + 1 in this case)\n",
    "n, p = X.shape[0], 2"
   ]
  },
  {
   "cell_type": "code",
   "execution_count": 3,
   "id": "bb75dd7c",
   "metadata": {
    "tags": [
     "hide-output"
    ]
   },
   "outputs": [
    {
     "name": "stderr",
     "output_type": "stream",
     "text": [
      "Auto-assigning NUTS sampler...\n",
      "Initializing NUTS using jitter+adapt_diag...\n",
      "/Users/aaron/mambaforge/envs/pymc_env2/lib/python3.11/site-packages/multipledispatch/dispatcher.py:27: AmbiguityWarning: \n",
      "Ambiguities exist in dispatched function _unify\n",
      "\n",
      "The following signatures may result in ambiguous behavior:\n",
      "\t[object, ConstrainedVar, Mapping], [ConstrainedVar, object, Mapping]\n",
      "\t[object, ConstrainedVar, Mapping], [ConstrainedVar, Var, Mapping]\n",
      "\t[object, ConstrainedVar, Mapping], [ConstrainedVar, Var, Mapping]\n",
      "\t[object, ConstrainedVar, Mapping], [ConstrainedVar, object, Mapping]\n",
      "\n",
      "\n",
      "Consider making the following additions:\n",
      "\n",
      "@dispatch(ConstrainedVar, ConstrainedVar, Mapping)\n",
      "def _unify(...)\n",
      "\n",
      "@dispatch(ConstrainedVar, ConstrainedVar, Mapping)\n",
      "def _unify(...)\n",
      "\n",
      "@dispatch(ConstrainedVar, ConstrainedVar, Mapping)\n",
      "def _unify(...)\n",
      "\n",
      "@dispatch(ConstrainedVar, ConstrainedVar, Mapping)\n",
      "def _unify(...)\n",
      "  warn(warning_text(dispatcher.name, ambiguities), AmbiguityWarning)\n",
      "Multiprocess sampling (4 chains in 4 jobs)\n",
      "NUTS: [tau, beta0_intercept, beta1_abdomen]\n"
     ]
    },
    {
     "data": {
      "text/html": [
       "\n",
       "<style>\n",
       "    /* Turns off some styling */\n",
       "    progress {\n",
       "        /* gets rid of default border in Firefox and Opera. */\n",
       "        border: none;\n",
       "        /* Needs to be in here for Safari polyfill so background images work as expected. */\n",
       "        background-size: auto;\n",
       "    }\n",
       "    progress:not([value]), progress:not([value])::-webkit-progress-bar {\n",
       "        background: repeating-linear-gradient(45deg, #7e7e7e, #7e7e7e 10px, #5c5c5c 10px, #5c5c5c 20px);\n",
       "    }\n",
       "    .progress-bar-interrupted, .progress-bar-interrupted::-webkit-progress-bar {\n",
       "        background: #F44336;\n",
       "    }\n",
       "</style>\n"
      ],
      "text/plain": [
       "<IPython.core.display.HTML object>"
      ]
     },
     "metadata": {},
     "output_type": "display_data"
    },
    {
     "data": {
      "text/html": [
       "\n",
       "    <div>\n",
       "      <progress value='12000' class='' max='12000' style='width:300px; height:20px; vertical-align: middle;'></progress>\n",
       "      100.00% [12000/12000 00:16&lt;00:00 Sampling 4 chains, 0 divergences]\n",
       "    </div>\n",
       "    "
      ],
      "text/plain": [
       "<IPython.core.display.HTML object>"
      ]
     },
     "metadata": {},
     "output_type": "display_data"
    },
    {
     "name": "stderr",
     "output_type": "stream",
     "text": [
      "Sampling 4 chains for 1_000 tune and 2_000 draw iterations (4_000 + 8_000 draws total) took 44 seconds.\n",
      "Sampling: [likelihood]\n"
     ]
    },
    {
     "data": {
      "text/html": [
       "\n",
       "<style>\n",
       "    /* Turns off some styling */\n",
       "    progress {\n",
       "        /* gets rid of default border in Firefox and Opera. */\n",
       "        border: none;\n",
       "        /* Needs to be in here for Safari polyfill so background images work as expected. */\n",
       "        background-size: auto;\n",
       "    }\n",
       "    progress:not([value]), progress:not([value])::-webkit-progress-bar {\n",
       "        background: repeating-linear-gradient(45deg, #7e7e7e, #7e7e7e 10px, #5c5c5c 10px, #5c5c5c 20px);\n",
       "    }\n",
       "    .progress-bar-interrupted, .progress-bar-interrupted::-webkit-progress-bar {\n",
       "        background: #F44336;\n",
       "    }\n",
       "</style>\n"
      ],
      "text/plain": [
       "<IPython.core.display.HTML object>"
      ]
     },
     "metadata": {},
     "output_type": "display_data"
    },
    {
     "data": {
      "text/html": [
       "\n",
       "    <div>\n",
       "      <progress value='8000' class='' max='8000' style='width:300px; height:20px; vertical-align: middle;'></progress>\n",
       "      100.00% [8000/8000 00:00&lt;00:00]\n",
       "    </div>\n",
       "    "
      ],
      "text/plain": [
       "<IPython.core.display.HTML object>"
      ]
     },
     "metadata": {},
     "output_type": "display_data"
    }
   ],
   "source": [
    "with pm.Model() as m:\n",
    "    tau = pm.Gamma(\"tau\", 0.001, 0.001)\n",
    "    beta0 = pm.Normal(\"beta0_intercept\", 0, tau=0.001)\n",
    "    beta1 = pm.Normal(\"beta1_abdomen\", 0, tau=0.001)\n",
    "    variance = pm.Deterministic(\"variance\", 1 / tau)\n",
    "\n",
    "    mu = beta0 + beta1 * X\n",
    "    likelihood = pm.Normal(\"likelihood\", mu=mu, tau=tau, observed=y)\n",
    "\n",
    "    # Bayesian R2 from fat1.odc\n",
    "    sse = (n - p) * variance\n",
    "    cy = y - y.mean()\n",
    "    sst = dot(cy, cy)\n",
    "    br2 = pm.Deterministic(\"br2\", 1 - sse / sst)\n",
    "\n",
    "    trace = pm.sample(2000)\n",
    "    ppc = pm.sample_posterior_predictive(trace)"
   ]
  },
  {
   "cell_type": "code",
   "execution_count": 4,
   "id": "ece3c1fa",
   "metadata": {},
   "outputs": [
    {
     "data": {
      "text/html": [
       "<div>\n",
       "<style scoped>\n",
       "    .dataframe tbody tr th:only-of-type {\n",
       "        vertical-align: middle;\n",
       "    }\n",
       "\n",
       "    .dataframe tbody tr th {\n",
       "        vertical-align: top;\n",
       "    }\n",
       "\n",
       "    .dataframe thead th {\n",
       "        text-align: right;\n",
       "    }\n",
       "</style>\n",
       "<table border=\"1\" class=\"dataframe\">\n",
       "  <thead>\n",
       "    <tr style=\"text-align: right;\">\n",
       "      <th></th>\n",
       "      <th>mean</th>\n",
       "      <th>sd</th>\n",
       "      <th>hdi_2.5%</th>\n",
       "      <th>hdi_97.5%</th>\n",
       "      <th>mcse_mean</th>\n",
       "      <th>mcse_sd</th>\n",
       "      <th>ess_bulk</th>\n",
       "      <th>ess_tail</th>\n",
       "      <th>r_hat</th>\n",
       "    </tr>\n",
       "  </thead>\n",
       "  <tbody>\n",
       "    <tr>\n",
       "      <th>beta0_intercept</th>\n",
       "      <td>-35.053</td>\n",
       "      <td>2.457</td>\n",
       "      <td>-39.958</td>\n",
       "      <td>-30.496</td>\n",
       "      <td>0.050</td>\n",
       "      <td>0.036</td>\n",
       "      <td>2382.0</td>\n",
       "      <td>2676.0</td>\n",
       "      <td>1.0</td>\n",
       "    </tr>\n",
       "    <tr>\n",
       "      <th>beta1_abdomen</th>\n",
       "      <td>0.583</td>\n",
       "      <td>0.026</td>\n",
       "      <td>0.534</td>\n",
       "      <td>0.636</td>\n",
       "      <td>0.001</td>\n",
       "      <td>0.000</td>\n",
       "      <td>2388.0</td>\n",
       "      <td>2770.0</td>\n",
       "      <td>1.0</td>\n",
       "    </tr>\n",
       "    <tr>\n",
       "      <th>tau</th>\n",
       "      <td>0.049</td>\n",
       "      <td>0.004</td>\n",
       "      <td>0.041</td>\n",
       "      <td>0.057</td>\n",
       "      <td>0.000</td>\n",
       "      <td>0.000</td>\n",
       "      <td>4226.0</td>\n",
       "      <td>4057.0</td>\n",
       "      <td>1.0</td>\n",
       "    </tr>\n",
       "    <tr>\n",
       "      <th>variance</th>\n",
       "      <td>20.516</td>\n",
       "      <td>1.808</td>\n",
       "      <td>17.086</td>\n",
       "      <td>24.142</td>\n",
       "      <td>0.028</td>\n",
       "      <td>0.020</td>\n",
       "      <td>4226.0</td>\n",
       "      <td>4057.0</td>\n",
       "      <td>1.0</td>\n",
       "    </tr>\n",
       "    <tr>\n",
       "      <th>br2</th>\n",
       "      <td>0.660</td>\n",
       "      <td>0.030</td>\n",
       "      <td>0.600</td>\n",
       "      <td>0.717</td>\n",
       "      <td>0.000</td>\n",
       "      <td>0.000</td>\n",
       "      <td>4226.0</td>\n",
       "      <td>4057.0</td>\n",
       "      <td>1.0</td>\n",
       "    </tr>\n",
       "  </tbody>\n",
       "</table>\n",
       "</div>"
      ],
      "text/plain": [
       "                   mean     sd  hdi_2.5%  hdi_97.5%  mcse_mean  mcse_sd  \\\n",
       "beta0_intercept -35.053  2.457   -39.958    -30.496      0.050    0.036   \n",
       "beta1_abdomen     0.583  0.026     0.534      0.636      0.001    0.000   \n",
       "tau               0.049  0.004     0.041      0.057      0.000    0.000   \n",
       "variance         20.516  1.808    17.086     24.142      0.028    0.020   \n",
       "br2               0.660  0.030     0.600      0.717      0.000    0.000   \n",
       "\n",
       "                 ess_bulk  ess_tail  r_hat  \n",
       "beta0_intercept    2382.0    2676.0    1.0  \n",
       "beta1_abdomen      2388.0    2770.0    1.0  \n",
       "tau                4226.0    4057.0    1.0  \n",
       "variance           4226.0    4057.0    1.0  \n",
       "br2                4226.0    4057.0    1.0  "
      ]
     },
     "execution_count": 4,
     "metadata": {},
     "output_type": "execute_result"
    }
   ],
   "source": [
    "az.summary(trace, hdi_prob=0.95)"
   ]
  },
  {
   "cell_type": "markdown",
   "id": "36f067d6",
   "metadata": {},
   "source": [
    "This matches the results from the U7 L11 video.\n",
    "\n",
    "Another way to calculate the $R^2$ using a posterior predictive check (keeping in mind that there is no standard \"Bayesian $R^2$\"). The results will be slightly different:"
   ]
  },
  {
   "cell_type": "code",
   "execution_count": 5,
   "id": "ac708c65",
   "metadata": {},
   "outputs": [
    {
     "data": {
      "text/plain": [
       "r2        0.595109\n",
       "r2_std    0.026074\n",
       "dtype: float64"
      ]
     },
     "execution_count": 5,
     "metadata": {},
     "output_type": "execute_result"
    }
   ],
   "source": [
    "# updated based on the arviz docs\n",
    "y_pred = ppc.posterior_predictive.stack(sample=(\"chain\", \"draw\"))[\"likelihood\"].values.T\n",
    "az.r2_score(y, y_pred)"
   ]
  },
  {
   "cell_type": "markdown",
   "id": "291a7c14",
   "metadata": {
    "tags": []
   },
   "source": [
    "## Multinomial regression with all predictors\n",
    "\n",
    "Based on fat2d.odc or fatmulti.odc (they appear to be identical)."
   ]
  },
  {
   "cell_type": "code",
   "execution_count": 6,
   "id": "3cd34ffd",
   "metadata": {},
   "outputs": [
    {
     "data": {
      "text/plain": [
       "(252, 15, 225)"
      ]
     },
     "execution_count": 6,
     "metadata": {},
     "output_type": "execute_result"
    }
   ],
   "source": [
    "data = pd.read_csv(\"../data/fat.tsv\", sep=\"\\t\")\n",
    "\n",
    "y = data[\"y\"].to_numpy(copy=True)\n",
    "X = data.iloc[:, 1:].to_numpy(copy=True)\n",
    "\n",
    "# add intercept\n",
    "X_aug = np.concatenate((np.ones((X.shape[0], 1)), X), axis=1)\n",
    "n, p = X_aug.shape\n",
    "\n",
    "# Zellner's g\n",
    "g = p**2\n",
    "\n",
    "n, p, g"
   ]
  },
  {
   "cell_type": "code",
   "execution_count": 7,
   "id": "91cf6e7e",
   "metadata": {},
   "outputs": [
    {
     "data": {
      "text/plain": [
       "(252, 15)"
      ]
     },
     "execution_count": 7,
     "metadata": {},
     "output_type": "execute_result"
    }
   ],
   "source": [
    "X_aug.shape"
   ]
  },
  {
   "cell_type": "code",
   "execution_count": 8,
   "id": "d15825f3",
   "metadata": {},
   "outputs": [],
   "source": [
    "mu_beta = np.zeros(p)"
   ]
  },
  {
   "cell_type": "code",
   "execution_count": 9,
   "id": "71a06315",
   "metadata": {
    "tags": [
     "hide-output"
    ]
   },
   "outputs": [
    {
     "name": "stderr",
     "output_type": "stream",
     "text": [
      "Auto-assigning NUTS sampler...\n",
      "Initializing NUTS using jitter+adapt_diag...\n",
      "Multiprocess sampling (4 chains in 4 jobs)\n",
      "NUTS: [tau, beta]\n"
     ]
    },
    {
     "data": {
      "text/html": [
       "\n",
       "<style>\n",
       "    /* Turns off some styling */\n",
       "    progress {\n",
       "        /* gets rid of default border in Firefox and Opera. */\n",
       "        border: none;\n",
       "        /* Needs to be in here for Safari polyfill so background images work as expected. */\n",
       "        background-size: auto;\n",
       "    }\n",
       "    progress:not([value]), progress:not([value])::-webkit-progress-bar {\n",
       "        background: repeating-linear-gradient(45deg, #7e7e7e, #7e7e7e 10px, #5c5c5c 10px, #5c5c5c 20px);\n",
       "    }\n",
       "    .progress-bar-interrupted, .progress-bar-interrupted::-webkit-progress-bar {\n",
       "        background: #F44336;\n",
       "    }\n",
       "</style>\n"
      ],
      "text/plain": [
       "<IPython.core.display.HTML object>"
      ]
     },
     "metadata": {},
     "output_type": "display_data"
    },
    {
     "data": {
      "text/html": [
       "\n",
       "    <div>\n",
       "      <progress value='8000' class='' max='8000' style='width:300px; height:20px; vertical-align: middle;'></progress>\n",
       "      100.00% [8000/8000 06:57&lt;00:00 Sampling 4 chains, 0 divergences]\n",
       "    </div>\n",
       "    "
      ],
      "text/plain": [
       "<IPython.core.display.HTML object>"
      ]
     },
     "metadata": {},
     "output_type": "display_data"
    },
    {
     "name": "stderr",
     "output_type": "stream",
     "text": [
      "Sampling 4 chains for 1_000 tune and 1_000 draw iterations (4_000 + 4_000 draws total) took 418 seconds.\n",
      "Sampling: [likelihood]\n"
     ]
    },
    {
     "data": {
      "text/html": [
       "\n",
       "<style>\n",
       "    /* Turns off some styling */\n",
       "    progress {\n",
       "        /* gets rid of default border in Firefox and Opera. */\n",
       "        border: none;\n",
       "        /* Needs to be in here for Safari polyfill so background images work as expected. */\n",
       "        background-size: auto;\n",
       "    }\n",
       "    progress:not([value]), progress:not([value])::-webkit-progress-bar {\n",
       "        background: repeating-linear-gradient(45deg, #7e7e7e, #7e7e7e 10px, #5c5c5c 10px, #5c5c5c 20px);\n",
       "    }\n",
       "    .progress-bar-interrupted, .progress-bar-interrupted::-webkit-progress-bar {\n",
       "        background: #F44336;\n",
       "    }\n",
       "</style>\n"
      ],
      "text/plain": [
       "<IPython.core.display.HTML object>"
      ]
     },
     "metadata": {},
     "output_type": "display_data"
    },
    {
     "data": {
      "text/html": [
       "\n",
       "    <div>\n",
       "      <progress value='4000' class='' max='4000' style='width:300px; height:20px; vertical-align: middle;'></progress>\n",
       "      100.00% [4000/4000 00:00&lt;00:00]\n",
       "    </div>\n",
       "    "
      ],
      "text/plain": [
       "<IPython.core.display.HTML object>"
      ]
     },
     "metadata": {},
     "output_type": "display_data"
    }
   ],
   "source": [
    "with pm.Model() as m2d:\n",
    "    tau = pm.Gamma(\"tau\", 0.01, 0.01)\n",
    "    variance = pm.Deterministic(\"variance\", 1 / tau)\n",
    "\n",
    "    tau_matrix = pt.fill(pt.zeros((15, 15)), tau)\n",
    "    tau_beta = tau_matrix / g * dot(X_aug.T, X_aug)\n",
    "    beta = pm.MvNormal(\"beta\", mu_beta, tau=tau_beta)\n",
    "\n",
    "    mu = dot(X_aug, beta)\n",
    "    pm.Normal(\"likelihood\", mu=mu, tau=tau, observed=y)\n",
    "\n",
    "    # Bayesian R2 from fat2d.odc\n",
    "    sse = (n - p) * variance\n",
    "    cy = y - y.mean()\n",
    "    sst = dot(cy, cy)\n",
    "    br2 = pm.Deterministic(\"br2\", 1 - sse / sst)\n",
    "    br2_adj = pm.Deterministic(\"br2_adj\", 1 - (n - 1) * variance / sst)\n",
    "\n",
    "    trace = pm.sample(1000)\n",
    "    ppc = pm.sample_posterior_predictive(trace)"
   ]
  },
  {
   "cell_type": "code",
   "execution_count": 10,
   "id": "2e7374f0",
   "metadata": {},
   "outputs": [
    {
     "data": {
      "text/html": [
       "<div>\n",
       "<style scoped>\n",
       "    .dataframe tbody tr th:only-of-type {\n",
       "        vertical-align: middle;\n",
       "    }\n",
       "\n",
       "    .dataframe tbody tr th {\n",
       "        vertical-align: top;\n",
       "    }\n",
       "\n",
       "    .dataframe thead th {\n",
       "        text-align: right;\n",
       "    }\n",
       "</style>\n",
       "<table border=\"1\" class=\"dataframe\">\n",
       "  <thead>\n",
       "    <tr style=\"text-align: right;\">\n",
       "      <th></th>\n",
       "      <th>mean</th>\n",
       "      <th>sd</th>\n",
       "      <th>hdi_2.5%</th>\n",
       "      <th>hdi_97.5%</th>\n",
       "      <th>mcse_mean</th>\n",
       "      <th>mcse_sd</th>\n",
       "      <th>ess_bulk</th>\n",
       "      <th>ess_tail</th>\n",
       "      <th>r_hat</th>\n",
       "    </tr>\n",
       "  </thead>\n",
       "  <tbody>\n",
       "    <tr>\n",
       "      <th>beta[0]</th>\n",
       "      <td>-14.964</td>\n",
       "      <td>16.823</td>\n",
       "      <td>-47.976</td>\n",
       "      <td>17.982</td>\n",
       "      <td>0.379</td>\n",
       "      <td>0.283</td>\n",
       "      <td>1972.0</td>\n",
       "      <td>2123.0</td>\n",
       "      <td>1.0</td>\n",
       "    </tr>\n",
       "    <tr>\n",
       "      <th>beta[1]</th>\n",
       "      <td>0.057</td>\n",
       "      <td>0.032</td>\n",
       "      <td>-0.004</td>\n",
       "      <td>0.119</td>\n",
       "      <td>0.001</td>\n",
       "      <td>0.000</td>\n",
       "      <td>3449.0</td>\n",
       "      <td>3278.0</td>\n",
       "      <td>1.0</td>\n",
       "    </tr>\n",
       "    <tr>\n",
       "      <th>beta[2]</th>\n",
       "      <td>-0.080</td>\n",
       "      <td>0.052</td>\n",
       "      <td>-0.184</td>\n",
       "      <td>0.021</td>\n",
       "      <td>0.001</td>\n",
       "      <td>0.001</td>\n",
       "      <td>2094.0</td>\n",
       "      <td>2456.0</td>\n",
       "      <td>1.0</td>\n",
       "    </tr>\n",
       "    <tr>\n",
       "      <th>beta[3]</th>\n",
       "      <td>-0.054</td>\n",
       "      <td>0.107</td>\n",
       "      <td>-0.268</td>\n",
       "      <td>0.148</td>\n",
       "      <td>0.002</td>\n",
       "      <td>0.001</td>\n",
       "      <td>2998.0</td>\n",
       "      <td>2898.0</td>\n",
       "      <td>1.0</td>\n",
       "    </tr>\n",
       "    <tr>\n",
       "      <th>beta[4]</th>\n",
       "      <td>0.061</td>\n",
       "      <td>0.280</td>\n",
       "      <td>-0.438</td>\n",
       "      <td>0.653</td>\n",
       "      <td>0.005</td>\n",
       "      <td>0.004</td>\n",
       "      <td>3071.0</td>\n",
       "      <td>3086.0</td>\n",
       "      <td>1.0</td>\n",
       "    </tr>\n",
       "    <tr>\n",
       "      <th>beta[5]</th>\n",
       "      <td>-0.442</td>\n",
       "      <td>0.223</td>\n",
       "      <td>-0.871</td>\n",
       "      <td>-0.007</td>\n",
       "      <td>0.004</td>\n",
       "      <td>0.003</td>\n",
       "      <td>3554.0</td>\n",
       "      <td>2945.0</td>\n",
       "      <td>1.0</td>\n",
       "    </tr>\n",
       "    <tr>\n",
       "      <th>beta[6]</th>\n",
       "      <td>-0.030</td>\n",
       "      <td>0.098</td>\n",
       "      <td>-0.217</td>\n",
       "      <td>0.171</td>\n",
       "      <td>0.002</td>\n",
       "      <td>0.001</td>\n",
       "      <td>2988.0</td>\n",
       "      <td>3078.0</td>\n",
       "      <td>1.0</td>\n",
       "    </tr>\n",
       "    <tr>\n",
       "      <th>beta[7]</th>\n",
       "      <td>0.873</td>\n",
       "      <td>0.085</td>\n",
       "      <td>0.713</td>\n",
       "      <td>1.047</td>\n",
       "      <td>0.002</td>\n",
       "      <td>0.001</td>\n",
       "      <td>3131.0</td>\n",
       "      <td>3032.0</td>\n",
       "      <td>1.0</td>\n",
       "    </tr>\n",
       "    <tr>\n",
       "      <th>beta[8]</th>\n",
       "      <td>-0.200</td>\n",
       "      <td>0.144</td>\n",
       "      <td>-0.465</td>\n",
       "      <td>0.101</td>\n",
       "      <td>0.003</td>\n",
       "      <td>0.002</td>\n",
       "      <td>2579.0</td>\n",
       "      <td>2522.0</td>\n",
       "      <td>1.0</td>\n",
       "    </tr>\n",
       "    <tr>\n",
       "      <th>beta[9]</th>\n",
       "      <td>0.226</td>\n",
       "      <td>0.134</td>\n",
       "      <td>-0.027</td>\n",
       "      <td>0.490</td>\n",
       "      <td>0.002</td>\n",
       "      <td>0.002</td>\n",
       "      <td>3452.0</td>\n",
       "      <td>3120.0</td>\n",
       "      <td>1.0</td>\n",
       "    </tr>\n",
       "    <tr>\n",
       "      <th>beta[10]</th>\n",
       "      <td>-0.003</td>\n",
       "      <td>0.232</td>\n",
       "      <td>-0.462</td>\n",
       "      <td>0.433</td>\n",
       "      <td>0.004</td>\n",
       "      <td>0.004</td>\n",
       "      <td>3359.0</td>\n",
       "      <td>2859.0</td>\n",
       "      <td>1.0</td>\n",
       "    </tr>\n",
       "    <tr>\n",
       "      <th>beta[11]</th>\n",
       "      <td>0.156</td>\n",
       "      <td>0.219</td>\n",
       "      <td>-0.276</td>\n",
       "      <td>0.589</td>\n",
       "      <td>0.004</td>\n",
       "      <td>0.003</td>\n",
       "      <td>3686.0</td>\n",
       "      <td>2974.0</td>\n",
       "      <td>1.0</td>\n",
       "    </tr>\n",
       "    <tr>\n",
       "      <th>beta[12]</th>\n",
       "      <td>0.143</td>\n",
       "      <td>0.164</td>\n",
       "      <td>-0.176</td>\n",
       "      <td>0.472</td>\n",
       "      <td>0.003</td>\n",
       "      <td>0.002</td>\n",
       "      <td>3841.0</td>\n",
       "      <td>2981.0</td>\n",
       "      <td>1.0</td>\n",
       "    </tr>\n",
       "    <tr>\n",
       "      <th>beta[13]</th>\n",
       "      <td>0.433</td>\n",
       "      <td>0.197</td>\n",
       "      <td>0.030</td>\n",
       "      <td>0.793</td>\n",
       "      <td>0.003</td>\n",
       "      <td>0.002</td>\n",
       "      <td>3297.0</td>\n",
       "      <td>2921.0</td>\n",
       "      <td>1.0</td>\n",
       "    </tr>\n",
       "    <tr>\n",
       "      <th>beta[14]</th>\n",
       "      <td>-1.492</td>\n",
       "      <td>0.502</td>\n",
       "      <td>-2.468</td>\n",
       "      <td>-0.502</td>\n",
       "      <td>0.008</td>\n",
       "      <td>0.006</td>\n",
       "      <td>3654.0</td>\n",
       "      <td>2731.0</td>\n",
       "      <td>1.0</td>\n",
       "    </tr>\n",
       "    <tr>\n",
       "      <th>tau</th>\n",
       "      <td>0.060</td>\n",
       "      <td>0.005</td>\n",
       "      <td>0.049</td>\n",
       "      <td>0.069</td>\n",
       "      <td>0.000</td>\n",
       "      <td>0.000</td>\n",
       "      <td>3291.0</td>\n",
       "      <td>2967.0</td>\n",
       "      <td>1.0</td>\n",
       "    </tr>\n",
       "    <tr>\n",
       "      <th>variance</th>\n",
       "      <td>16.931</td>\n",
       "      <td>1.481</td>\n",
       "      <td>14.208</td>\n",
       "      <td>19.997</td>\n",
       "      <td>0.026</td>\n",
       "      <td>0.019</td>\n",
       "      <td>3291.0</td>\n",
       "      <td>2967.0</td>\n",
       "      <td>1.0</td>\n",
       "    </tr>\n",
       "    <tr>\n",
       "      <th>br2</th>\n",
       "      <td>0.734</td>\n",
       "      <td>0.023</td>\n",
       "      <td>0.686</td>\n",
       "      <td>0.777</td>\n",
       "      <td>0.000</td>\n",
       "      <td>0.000</td>\n",
       "      <td>3291.0</td>\n",
       "      <td>2967.0</td>\n",
       "      <td>1.0</td>\n",
       "    </tr>\n",
       "    <tr>\n",
       "      <th>br2_adj</th>\n",
       "      <td>0.718</td>\n",
       "      <td>0.025</td>\n",
       "      <td>0.667</td>\n",
       "      <td>0.764</td>\n",
       "      <td>0.000</td>\n",
       "      <td>0.000</td>\n",
       "      <td>3291.0</td>\n",
       "      <td>2967.0</td>\n",
       "      <td>1.0</td>\n",
       "    </tr>\n",
       "  </tbody>\n",
       "</table>\n",
       "</div>"
      ],
      "text/plain": [
       "            mean      sd  hdi_2.5%  hdi_97.5%  mcse_mean  mcse_sd  ess_bulk  \\\n",
       "beta[0]  -14.964  16.823   -47.976     17.982      0.379    0.283    1972.0   \n",
       "beta[1]    0.057   0.032    -0.004      0.119      0.001    0.000    3449.0   \n",
       "beta[2]   -0.080   0.052    -0.184      0.021      0.001    0.001    2094.0   \n",
       "beta[3]   -0.054   0.107    -0.268      0.148      0.002    0.001    2998.0   \n",
       "beta[4]    0.061   0.280    -0.438      0.653      0.005    0.004    3071.0   \n",
       "beta[5]   -0.442   0.223    -0.871     -0.007      0.004    0.003    3554.0   \n",
       "beta[6]   -0.030   0.098    -0.217      0.171      0.002    0.001    2988.0   \n",
       "beta[7]    0.873   0.085     0.713      1.047      0.002    0.001    3131.0   \n",
       "beta[8]   -0.200   0.144    -0.465      0.101      0.003    0.002    2579.0   \n",
       "beta[9]    0.226   0.134    -0.027      0.490      0.002    0.002    3452.0   \n",
       "beta[10]  -0.003   0.232    -0.462      0.433      0.004    0.004    3359.0   \n",
       "beta[11]   0.156   0.219    -0.276      0.589      0.004    0.003    3686.0   \n",
       "beta[12]   0.143   0.164    -0.176      0.472      0.003    0.002    3841.0   \n",
       "beta[13]   0.433   0.197     0.030      0.793      0.003    0.002    3297.0   \n",
       "beta[14]  -1.492   0.502    -2.468     -0.502      0.008    0.006    3654.0   \n",
       "tau        0.060   0.005     0.049      0.069      0.000    0.000    3291.0   \n",
       "variance  16.931   1.481    14.208     19.997      0.026    0.019    3291.0   \n",
       "br2        0.734   0.023     0.686      0.777      0.000    0.000    3291.0   \n",
       "br2_adj    0.718   0.025     0.667      0.764      0.000    0.000    3291.0   \n",
       "\n",
       "          ess_tail  r_hat  \n",
       "beta[0]     2123.0    1.0  \n",
       "beta[1]     3278.0    1.0  \n",
       "beta[2]     2456.0    1.0  \n",
       "beta[3]     2898.0    1.0  \n",
       "beta[4]     3086.0    1.0  \n",
       "beta[5]     2945.0    1.0  \n",
       "beta[6]     3078.0    1.0  \n",
       "beta[7]     3032.0    1.0  \n",
       "beta[8]     2522.0    1.0  \n",
       "beta[9]     3120.0    1.0  \n",
       "beta[10]    2859.0    1.0  \n",
       "beta[11]    2974.0    1.0  \n",
       "beta[12]    2981.0    1.0  \n",
       "beta[13]    2921.0    1.0  \n",
       "beta[14]    2731.0    1.0  \n",
       "tau         2967.0    1.0  \n",
       "variance    2967.0    1.0  \n",
       "br2         2967.0    1.0  \n",
       "br2_adj     2967.0    1.0  "
      ]
     },
     "execution_count": 10,
     "metadata": {},
     "output_type": "execute_result"
    }
   ],
   "source": [
    "az.summary(trace, hdi_prob=0.95)"
   ]
  },
  {
   "cell_type": "code",
   "execution_count": 11,
   "id": "238ed8cc",
   "metadata": {},
   "outputs": [
    {
     "data": {
      "text/plain": [
       "r2        0.654687\n",
       "r2_std    0.023479\n",
       "dtype: float64"
      ]
     },
     "execution_count": 11,
     "metadata": {},
     "output_type": "execute_result"
    }
   ],
   "source": [
    "y_pred = ppc.posterior_predictive.stack(sample=(\"chain\", \"draw\"))[\"likelihood\"].values.T\n",
    "az.r2_score(y, y_pred)"
   ]
  },
  {
   "cell_type": "markdown",
   "id": "3374518d",
   "metadata": {},
   "source": [
    "Need to do some more reading on g-priors:\n",
    "\n",
    "- https://arxiv.org/abs/1702.01201\n",
    "\n",
    "- https://towardsdatascience.com/linear-regression-model-selection-through-zellners-g--prior-da5f74635a03\n",
    "\n",
    "- https://en.wikipedia.org/wiki/G-prior\\\n",
    "\n",
    "Original paper:\n",
    "\n",
    "Zellner, A. (1986). \"On Assessing Prior Distributions and Bayesian Regression Analysis with g Prior Distributions\". In Goel, P.; Zellner, A. (eds.). Bayesian Inference and Decision Techniques: Essays in Honor of Bruno de Finetti. Studies in Bayesian Econometrics and Statistics. Vol. 6. New York: Elsevier. pp. 233–243. ISBN 978-0-444-87712-3."
   ]
  },
  {
   "cell_type": "code",
   "execution_count": 12,
   "id": "42c6522c",
   "metadata": {},
   "outputs": [
    {
     "name": "stdout",
     "output_type": "stream",
     "text": [
      "Last updated: Fri Feb 03 2023\n",
      "\n",
      "Python implementation: CPython\n",
      "Python version       : 3.11.0\n",
      "IPython version      : 8.9.0\n",
      "\n",
      "aesara: 2.8.10\n",
      "aeppl : 0.1.1\n",
      "\n",
      "pandas  : 1.5.3\n",
      "pytensor: 2.8.11\n",
      "arviz   : 0.14.0\n",
      "numpy   : 1.24.1\n",
      "pymc    : 5.0.1\n",
      "\n"
     ]
    }
   ],
   "source": [
    "%watermark -n -u -v -iv -p aesara,aeppl"
   ]
  },
  {
   "cell_type": "code",
   "execution_count": null,
   "id": "860d0d41-4812-4181-854c-89267276ae0c",
   "metadata": {},
   "outputs": [],
   "source": []
  }
 ],
 "metadata": {
  "kernelspec": {
   "display_name": "Python 3 (ipykernel)",
   "language": "python",
   "name": "python3"
  },
  "language_info": {
   "codemirror_mode": {
    "name": "ipython",
    "version": 3
   },
   "file_extension": ".py",
   "mimetype": "text/x-python",
   "name": "python",
   "nbconvert_exporter": "python",
   "pygments_lexer": "ipython3",
   "version": "3.11.0"
  }
 },
 "nbformat": 4,
 "nbformat_minor": 5
}
