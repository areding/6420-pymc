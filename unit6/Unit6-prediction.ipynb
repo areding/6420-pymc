{
 "cells": [
  {
   "cell_type": "code",
   "execution_count": 1,
   "id": "5554edbc",
   "metadata": {
    "tags": [
     "hide-output"
    ]
   },
   "outputs": [],
   "source": [
    "import arviz as az\n",
    "import numpy as np\n",
    "import pandas as pd\n",
    "import pymc as pm\n",
    "import matplotlib.pyplot as plt"
   ]
  },
  {
   "cell_type": "markdown",
   "id": "4253075e",
   "metadata": {},
   "source": [
    "# Prediction*\n",
    "\n",
    "## Taste of Cheese*\n",
    "\n",
    "Adapted from [Unit 6: cheese.odc](https://raw.githubusercontent.com/areding/6420-pymc/main/original_examples/Codes4Unit6/cheese.odc).\n",
    "\n",
    "The link in the original .odc file is dead. I downloaded the data from [here](https://www3.nd.edu/~busiforc/handouts/Data%20and%20Stories/multicollinearity/Cheese%20Taste/Cheddar%20Cheese%20Data.html) and have a copy [here](https://raw.githubusercontent.com/areding/6420-pymc/main/data/cheese.csv)."
   ]
  },
  {
   "cell_type": "markdown",
   "id": "6984bec3",
   "metadata": {},
   "source": [
    "## Problem statement\n",
    "\n",
    "As cheddar cheese matures, a variety of chemical processes take place. The taste of matured cheese is related to the concentration of several chemicals in the final product. In a study of cheddar cheese from the LaTrobe Valley of Victoria, Australia, samples of cheese were analyzed for their chemical composition and were subjected to taste tests. Overall taste scores were obtained by combining the scores from several tasters.\n",
    "\n",
    "Can the score be predicted well by the predictors: Acetic, H2S, and Lactic?"
   ]
  },
  {
   "cell_type": "code",
   "execution_count": 2,
   "id": "7dd94c95",
   "metadata": {},
   "outputs": [],
   "source": [
    "data = pd.read_csv(\"../data/cheese.csv\", index_col=0)\n",
    "X = data[[\"Acetic\", \"H2S\", \"Lactic\"]].to_numpy()\n",
    "# add intercept column to X\n",
    "X_aug = np.concatenate((np.ones((X.shape[0], 1)), X), axis=1)\n",
    "y = data[\"taste\"].to_numpy()"
   ]
  },
  {
   "cell_type": "code",
   "execution_count": 3,
   "id": "a72873fa-fea5-4bbe-b488-4f0c1ffd77be",
   "metadata": {},
   "outputs": [
    {
     "data": {
      "text/html": [
       "<div>\n",
       "<style scoped>\n",
       "    .dataframe tbody tr th:only-of-type {\n",
       "        vertical-align: middle;\n",
       "    }\n",
       "\n",
       "    .dataframe tbody tr th {\n",
       "        vertical-align: top;\n",
       "    }\n",
       "\n",
       "    .dataframe thead th {\n",
       "        text-align: right;\n",
       "    }\n",
       "</style>\n",
       "<table border=\"1\" class=\"dataframe\">\n",
       "  <thead>\n",
       "    <tr style=\"text-align: right;\">\n",
       "      <th></th>\n",
       "      <th>taste</th>\n",
       "      <th>Acetic</th>\n",
       "      <th>H2S</th>\n",
       "      <th>Lactic</th>\n",
       "    </tr>\n",
       "  </thead>\n",
       "  <tbody>\n",
       "    <tr>\n",
       "      <th>1</th>\n",
       "      <td>12.3</td>\n",
       "      <td>4.543</td>\n",
       "      <td>3.135</td>\n",
       "      <td>0.86</td>\n",
       "    </tr>\n",
       "    <tr>\n",
       "      <th>2</th>\n",
       "      <td>20.9</td>\n",
       "      <td>5.159</td>\n",
       "      <td>5.043</td>\n",
       "      <td>1.53</td>\n",
       "    </tr>\n",
       "    <tr>\n",
       "      <th>3</th>\n",
       "      <td>39.0</td>\n",
       "      <td>5.366</td>\n",
       "      <td>5.438</td>\n",
       "      <td>1.57</td>\n",
       "    </tr>\n",
       "    <tr>\n",
       "      <th>4</th>\n",
       "      <td>47.9</td>\n",
       "      <td>5.759</td>\n",
       "      <td>7.496</td>\n",
       "      <td>1.81</td>\n",
       "    </tr>\n",
       "    <tr>\n",
       "      <th>5</th>\n",
       "      <td>5.6</td>\n",
       "      <td>4.663</td>\n",
       "      <td>3.807</td>\n",
       "      <td>0.99</td>\n",
       "    </tr>\n",
       "  </tbody>\n",
       "</table>\n",
       "</div>"
      ],
      "text/plain": [
       "   taste  Acetic    H2S  Lactic\n",
       "1   12.3   4.543  3.135    0.86\n",
       "2   20.9   5.159  5.043    1.53\n",
       "3   39.0   5.366  5.438    1.57\n",
       "4   47.9   5.759  7.496    1.81\n",
       "5    5.6   4.663  3.807    0.99"
      ]
     },
     "execution_count": 3,
     "metadata": {},
     "output_type": "execute_result"
    }
   ],
   "source": [
    "data.head(5)"
   ]
  },
  {
   "cell_type": "code",
   "execution_count": 4,
   "id": "c3467bf7",
   "metadata": {
    "tags": [
     "hide-output"
    ]
   },
   "outputs": [
    {
     "name": "stderr",
     "output_type": "stream",
     "text": [
      "Initializing NUTS using jitter+adapt_diag...\n",
      "Multiprocess sampling (4 chains in 4 jobs)\n",
      "NUTS: [beta, tau]\n"
     ]
    },
    {
     "data": {
      "application/vnd.jupyter.widget-view+json": {
       "model_id": "402aae3866454fb58f2627b680fbe415",
       "version_major": 2,
       "version_minor": 0
      },
      "text/plain": [
       "Output()"
      ]
     },
     "metadata": {},
     "output_type": "display_data"
    },
    {
     "data": {
      "text/html": [
       "<pre style=\"white-space:pre;overflow-x:auto;line-height:normal;font-family:Menlo,'DejaVu Sans Mono',consolas,'Courier New',monospace\"></pre>\n"
      ],
      "text/plain": []
     },
     "metadata": {},
     "output_type": "display_data"
    },
    {
     "name": "stderr",
     "output_type": "stream",
     "text": [
      "Sampling 4 chains for 1_000 tune and 5_000 draw iterations (4_000 + 20_000 draws total) took 12 seconds.\n",
      "Sampling: [taste_score]\n"
     ]
    },
    {
     "data": {
      "application/vnd.jupyter.widget-view+json": {
       "model_id": "39bb9d321de545259b4f3a6a16d65f04",
       "version_major": 2,
       "version_minor": 0
      },
      "text/plain": [
       "Output()"
      ]
     },
     "metadata": {},
     "output_type": "display_data"
    },
    {
     "data": {
      "text/html": [
       "<pre style=\"white-space:pre;overflow-x:auto;line-height:normal;font-family:Menlo,'DejaVu Sans Mono',consolas,'Courier New',monospace\"></pre>\n"
      ],
      "text/plain": []
     },
     "metadata": {},
     "output_type": "display_data"
    }
   ],
   "source": [
    "with pm.Model() as m:\n",
    "    # associate data with model (this makes prediction easier)\n",
    "    X_data = pm.Data(\"X\", X_aug)\n",
    "    y_data = pm.Data(\"y\", y)\n",
    "\n",
    "    # priors\n",
    "    beta = pm.Normal(\"beta\", mu=0, sigma=1000, shape=X.shape[1] + 1)\n",
    "    tau = pm.Gamma(\"tau\", alpha=0.001, beta=0.001)\n",
    "    sigma = pm.Deterministic(\"sigma\", 1 / pm.math.sqrt(tau))\n",
    "\n",
    "    mu = pm.math.dot(X_data, beta)\n",
    "\n",
    "    # likelihood\n",
    "    pm.Normal(\"taste_score\", mu=mu, sigma=sigma, observed=y_data, shape=X_data.shape[0])\n",
    "\n",
    "    # start sampling\n",
    "    trace = pm.sample(5000, target_accept=0.95)\n",
    "    pm.sample_posterior_predictive(trace, extend_inferencedata=True)"
   ]
  },
  {
   "cell_type": "code",
   "execution_count": 5,
   "id": "81f1b9dc",
   "metadata": {},
   "outputs": [
    {
     "data": {
      "text/html": [
       "<div>\n",
       "<style scoped>\n",
       "    .dataframe tbody tr th:only-of-type {\n",
       "        vertical-align: middle;\n",
       "    }\n",
       "\n",
       "    .dataframe tbody tr th {\n",
       "        vertical-align: top;\n",
       "    }\n",
       "\n",
       "    .dataframe thead th {\n",
       "        text-align: right;\n",
       "    }\n",
       "</style>\n",
       "<table border=\"1\" class=\"dataframe\">\n",
       "  <thead>\n",
       "    <tr style=\"text-align: right;\">\n",
       "      <th></th>\n",
       "      <th>mean</th>\n",
       "      <th>sd</th>\n",
       "      <th>hdi_2.5%</th>\n",
       "      <th>hdi_97.5%</th>\n",
       "      <th>mcse_mean</th>\n",
       "      <th>mcse_sd</th>\n",
       "      <th>ess_bulk</th>\n",
       "      <th>ess_tail</th>\n",
       "      <th>r_hat</th>\n",
       "    </tr>\n",
       "  </thead>\n",
       "  <tbody>\n",
       "    <tr>\n",
       "      <th>beta[0]</th>\n",
       "      <td>-28.978</td>\n",
       "      <td>21.005</td>\n",
       "      <td>-68.730</td>\n",
       "      <td>14.372</td>\n",
       "      <td>0.234</td>\n",
       "      <td>0.166</td>\n",
       "      <td>8043.0</td>\n",
       "      <td>9468.0</td>\n",
       "      <td>1.0</td>\n",
       "    </tr>\n",
       "    <tr>\n",
       "      <th>beta[1]</th>\n",
       "      <td>0.347</td>\n",
       "      <td>4.758</td>\n",
       "      <td>-9.408</td>\n",
       "      <td>9.370</td>\n",
       "      <td>0.055</td>\n",
       "      <td>0.040</td>\n",
       "      <td>7613.0</td>\n",
       "      <td>9108.0</td>\n",
       "      <td>1.0</td>\n",
       "    </tr>\n",
       "    <tr>\n",
       "      <th>beta[2]</th>\n",
       "      <td>3.915</td>\n",
       "      <td>1.321</td>\n",
       "      <td>1.359</td>\n",
       "      <td>6.570</td>\n",
       "      <td>0.014</td>\n",
       "      <td>0.010</td>\n",
       "      <td>9099.0</td>\n",
       "      <td>10491.0</td>\n",
       "      <td>1.0</td>\n",
       "    </tr>\n",
       "    <tr>\n",
       "      <th>beta[3]</th>\n",
       "      <td>19.644</td>\n",
       "      <td>9.006</td>\n",
       "      <td>1.539</td>\n",
       "      <td>37.053</td>\n",
       "      <td>0.089</td>\n",
       "      <td>0.065</td>\n",
       "      <td>10208.0</td>\n",
       "      <td>10434.0</td>\n",
       "      <td>1.0</td>\n",
       "    </tr>\n",
       "    <tr>\n",
       "      <th>tau</th>\n",
       "      <td>0.010</td>\n",
       "      <td>0.003</td>\n",
       "      <td>0.005</td>\n",
       "      <td>0.015</td>\n",
       "      <td>0.000</td>\n",
       "      <td>0.000</td>\n",
       "      <td>10815.0</td>\n",
       "      <td>10486.0</td>\n",
       "      <td>1.0</td>\n",
       "    </tr>\n",
       "    <tr>\n",
       "      <th>sigma</th>\n",
       "      <td>10.484</td>\n",
       "      <td>1.540</td>\n",
       "      <td>7.704</td>\n",
       "      <td>13.522</td>\n",
       "      <td>0.015</td>\n",
       "      <td>0.011</td>\n",
       "      <td>10815.0</td>\n",
       "      <td>10486.0</td>\n",
       "      <td>1.0</td>\n",
       "    </tr>\n",
       "  </tbody>\n",
       "</table>\n",
       "</div>"
      ],
      "text/plain": [
       "           mean      sd  hdi_2.5%  hdi_97.5%  mcse_mean  mcse_sd  ess_bulk  \\\n",
       "beta[0] -28.978  21.005   -68.730     14.372      0.234    0.166    8043.0   \n",
       "beta[1]   0.347   4.758    -9.408      9.370      0.055    0.040    7613.0   \n",
       "beta[2]   3.915   1.321     1.359      6.570      0.014    0.010    9099.0   \n",
       "beta[3]  19.644   9.006     1.539     37.053      0.089    0.065   10208.0   \n",
       "tau       0.010   0.003     0.005      0.015      0.000    0.000   10815.0   \n",
       "sigma    10.484   1.540     7.704     13.522      0.015    0.011   10815.0   \n",
       "\n",
       "         ess_tail  r_hat  \n",
       "beta[0]    9468.0    1.0  \n",
       "beta[1]    9108.0    1.0  \n",
       "beta[2]   10491.0    1.0  \n",
       "beta[3]   10434.0    1.0  \n",
       "tau       10486.0    1.0  \n",
       "sigma     10486.0    1.0  "
      ]
     },
     "execution_count": 5,
     "metadata": {},
     "output_type": "execute_result"
    }
   ],
   "source": [
    "az.summary(trace, hdi_prob=0.95)"
   ]
  },
  {
   "cell_type": "code",
   "execution_count": 6,
   "id": "a3e84c05-bb37-429f-8be5-90b811205304",
   "metadata": {},
   "outputs": [
    {
     "data": {
      "text/plain": [
       "r2        0.576145\n",
       "r2_std    0.076283\n",
       "dtype: float64"
      ]
     },
     "execution_count": 6,
     "metadata": {},
     "output_type": "execute_result"
    }
   ],
   "source": [
    "y_pred = trace.posterior_predictive.stack(sample=(\"chain\", \"draw\"))[\n",
    "    \"taste_score\"\n",
    "].values.T\n",
    "az.r2_score(y, y_pred)"
   ]
  },
  {
   "cell_type": "markdown",
   "id": "d6a5744e",
   "metadata": {},
   "source": [
    "Results are pretty close to OpenBUGS:\n",
    "\n",
    "|         mean |     sd   |        MC_error |   val2.5pc | median  |   val97.5pc | start   | sample |        |\n",
    "|--------------|----------|-----------------|------------|---------|-------------|---------|--------|--------|\n",
    "| beta0        | -29.75   | 20.24           | 0.7889     | -70.06  | -29.75      | 11.11   | 1000   | 100001 |\n",
    "| beta1        | 0.4576   | 4.6             | 0.189      | -8.716  | 0.4388      | 9.786   | 1000   | 100001 |\n",
    "| beta2        | 3.906    | 1.291           | 0.02725    | 1.345   | 3.912       | 6.47    | 1000   | 100001 |\n",
    "| beta3        | 19.79    | 8.893           | 0.2379     | 2.053   | 19.88       | 37.2    | 1000   | 100001 |\n",
    "| tau          | 0.009777 | 0.002706        | 2.29E-05   | 0.00522 | 0.009528    | 0.01575 | 1000   | 100001 |"
   ]
  },
  {
   "cell_type": "markdown",
   "id": "c5ffb987",
   "metadata": {},
   "source": [
    "PyMC gives some warnings about the model unless we increase the ```target_accept``` parameter of ```pm.sample```, while BUGS doesn't. This is because PyMC uses more diagnostics to check if there are any problems with its exploration of the parameter space. Divergences indicate bias in the results. BUGS will happily run this model without reporting any problems, but it doesn't mean that there aren't any.\n",
    "\n",
    "For further reading, check out [Diagnosing Biased Inference with Divergences](https://docs.pymc.io/en/v3/pymc-examples/examples/diagnostics_and_criticism/Diagnosing_biased_Inference_with_Divergences.html)."
   ]
  },
  {
   "cell_type": "markdown",
   "id": "5db0941c",
   "metadata": {},
   "source": [
    "It looks like there are multiple ways to get predictions on out-of-sample data in PyMC. The easiest way is to set up a shared variable using pm.Data in the original model, then using pm.set_data to change to the new observations before calling pm.sample_posterior_predictive."
   ]
  },
  {
   "cell_type": "code",
   "execution_count": 7,
   "id": "57e01d45",
   "metadata": {
    "tags": [
     "hide-output"
    ]
   },
   "outputs": [
    {
     "name": "stderr",
     "output_type": "stream",
     "text": [
      "Sampling: [taste_score]\n"
     ]
    },
    {
     "data": {
      "application/vnd.jupyter.widget-view+json": {
       "model_id": "1936eb637577456dbb5e92cab2ec8def",
       "version_major": 2,
       "version_minor": 0
      },
      "text/plain": [
       "Output()"
      ]
     },
     "metadata": {},
     "output_type": "display_data"
    },
    {
     "data": {
      "text/html": [
       "<pre style=\"white-space:pre;overflow-x:auto;line-height:normal;font-family:Menlo,'DejaVu Sans Mono',consolas,'Courier New',monospace\"></pre>\n"
      ],
      "text/plain": []
     },
     "metadata": {},
     "output_type": "display_data"
    }
   ],
   "source": [
    "# single prediction on out-of-sample data\n",
    "new_obs = np.array([[1.0, 5.0, 7.1, 1.5]])\n",
    "pm.set_data({\"X\": new_obs}, model=m)\n",
    "ppc = pm.sample_posterior_predictive(trace, model=m, predictions=True)"
   ]
  },
  {
   "cell_type": "markdown",
   "id": "305f88ce-fdad-4e97-9aa3-4387b4e3b389",
   "metadata": {},
   "source": [
    "The default behavior now is to give one prediction per y-value. The professor often asks for a single prediction based on the new data; the equivalent here would be to take the mean of the predicted values."
   ]
  },
  {
   "cell_type": "code",
   "execution_count": 8,
   "id": "bf0b18eb-c91f-492b-b726-b293834fc9d7",
   "metadata": {},
   "outputs": [
    {
     "data": {
      "text/html": [
       "<div>\n",
       "<style scoped>\n",
       "    .dataframe tbody tr th:only-of-type {\n",
       "        vertical-align: middle;\n",
       "    }\n",
       "\n",
       "    .dataframe tbody tr th {\n",
       "        vertical-align: top;\n",
       "    }\n",
       "\n",
       "    .dataframe thead th {\n",
       "        text-align: right;\n",
       "    }\n",
       "</style>\n",
       "<table border=\"1\" class=\"dataframe\">\n",
       "  <thead>\n",
       "    <tr style=\"text-align: right;\">\n",
       "      <th></th>\n",
       "      <th>mean</th>\n",
       "      <th>sd</th>\n",
       "      <th>hdi_2.5%</th>\n",
       "      <th>hdi_97.5%</th>\n",
       "      <th>mcse_mean</th>\n",
       "      <th>mcse_sd</th>\n",
       "      <th>ess_bulk</th>\n",
       "      <th>ess_tail</th>\n",
       "      <th>r_hat</th>\n",
       "    </tr>\n",
       "  </thead>\n",
       "  <tbody>\n",
       "    <tr>\n",
       "      <th>taste_score[0]</th>\n",
       "      <td>29.961</td>\n",
       "      <td>11.334</td>\n",
       "      <td>7.922</td>\n",
       "      <td>52.989</td>\n",
       "      <td>0.084</td>\n",
       "      <td>0.059</td>\n",
       "      <td>18324.0</td>\n",
       "      <td>19608.0</td>\n",
       "      <td>1.0</td>\n",
       "    </tr>\n",
       "  </tbody>\n",
       "</table>\n",
       "</div>"
      ],
      "text/plain": [
       "                  mean      sd  hdi_2.5%  hdi_97.5%  mcse_mean  mcse_sd  \\\n",
       "taste_score[0]  29.961  11.334     7.922     52.989      0.084    0.059   \n",
       "\n",
       "                ess_bulk  ess_tail  r_hat  \n",
       "taste_score[0]   18324.0   19608.0    1.0  "
      ]
     },
     "execution_count": 8,
     "metadata": {},
     "output_type": "execute_result"
    }
   ],
   "source": [
    "az.summary(ppc.predictions, hdi_prob=0.95)"
   ]
  },
  {
   "cell_type": "code",
   "execution_count": 9,
   "id": "42361a9d",
   "metadata": {},
   "outputs": [
    {
     "name": "stdout",
     "output_type": "stream",
     "text": [
      "Last updated: Sun Mar 09 2025\n",
      "\n",
      "Python implementation: CPython\n",
      "Python version       : 3.12.7\n",
      "IPython version      : 8.29.0\n",
      "\n",
      "pytensor: 2.26.4\n",
      "\n",
      "pymc      : 5.19.1\n",
      "numpy     : 1.26.4\n",
      "arviz     : 0.20.0\n",
      "matplotlib: 3.9.2\n",
      "pandas    : 2.2.3\n",
      "\n"
     ]
    }
   ],
   "source": [
    "%load_ext watermark\n",
    "%watermark -n -u -v -iv -p pytensor"
   ]
  },
  {
   "cell_type": "code",
   "execution_count": null,
   "id": "fbef9fb5",
   "metadata": {},
   "outputs": [],
   "source": []
  }
 ],
 "metadata": {
  "jupytext": {
   "formats": "ipynb,py,md,Rmd"
  },
  "kernelspec": {
   "display_name": "pymc_macos15",
   "language": "python",
   "name": "python3"
  },
  "language_info": {
   "codemirror_mode": {
    "name": "ipython",
    "version": 3
   },
   "file_extension": ".py",
   "mimetype": "text/x-python",
   "name": "python",
   "nbconvert_exporter": "python",
   "pygments_lexer": "ipython3",
   "version": "3.12.7"
  }
 },
 "nbformat": 4,
 "nbformat_minor": 5
}
