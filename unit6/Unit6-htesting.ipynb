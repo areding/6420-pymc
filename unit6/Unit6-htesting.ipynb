{
 "cells": [
  {
   "cell_type": "code",
   "execution_count": 1,
   "id": "89d60ca3",
   "metadata": {
    "editable": true,
    "slideshow": {
     "slide_type": ""
    },
    "tags": []
   },
   "outputs": [],
   "source": [
    "import arviz as az\n",
    "import numpy as np\n",
    "import pymc as pm\n",
    "from pymc.math import switch, ge\n",
    "from scipy import stats"
   ]
  },
  {
   "cell_type": "markdown",
   "id": "1bb211f0",
   "metadata": {
    "tags": []
   },
   "source": [
    "# Hypothesis Testing*\n",
    "\n",
    "## Psoriasis: Two-sample problem with paired data\n",
    "\n",
    "This is our first example of hypothesis testing.\n",
    "\n",
    "Adapted from [Unit 6: psoriasis.odc](https://raw.githubusercontent.com/areding/6420-pymc/main/original_examples/Codes4Unit6/psoriasis.odc)."
   ]
  },
  {
   "cell_type": "markdown",
   "id": "423b0d14",
   "metadata": {},
   "source": [
    "Woo and McKenna (2003) investigated the effect of broadband ultraviolet B (UVB) therapy and topical calcipotriol cream used together on areas of psoriasis. One of the outcome variables is the Psoriasis Area and Severity Index (PASI), where a lower score is better.\n",
    "\n",
    "The PASI scores for 20 subjects are measured at baseline and after 8 treatments.  Do these data provide sufficient evidence to indicate that the combination therapy reduces PASI scores?"
   ]
  },
  {
   "cell_type": "code",
   "execution_count": 2,
   "id": "d25b6da3",
   "metadata": {},
   "outputs": [],
   "source": [
    "# fmt: off\n",
    "baseline = np.array((5.9, 7.6, 12.8, 16.5, 6.1, 14.4, 6.6, 5.4, 9.6, 11.6, \n",
    "                     11.1, 15.6, 9.6, 15.2, 21.0, 5.9, 10.0, 12.2, 20.2, \n",
    "                     6.2))\n",
    "\n",
    "after = np.array((5.2, 12.2, 4.6, 4.0, 0.4, 3.8, 1.2, 3.1, 3.5, 4.9, 11.1,\n",
    "                  8.4, 5.8, 5, 6.4, 0.0, 2.7, 5.1, 4.8, 4.2))\n",
    "# fmt: on"
   ]
  },
  {
   "cell_type": "markdown",
   "id": "6c0ba5b2",
   "metadata": {},
   "source": [
    "I tried to recreate the classical analysis from the original example, but got slightly different values."
   ]
  },
  {
   "cell_type": "code",
   "execution_count": 3,
   "id": "4e8283f6",
   "metadata": {},
   "outputs": [
    {
     "name": "stdout",
     "output_type": "stream",
     "text": [
      "dbar  = 6.3550\n",
      "stdev = 4.8061\n",
      "tstat = 5.9134\n",
      "pval  = 0.00001080\n",
      "95% CI = [4.1057, 8.6043]\n"
     ]
    }
   ],
   "source": [
    "# Classical Analysis\n",
    "\n",
    "d = baseline - after\n",
    "n = len(d)\n",
    "dbar = np.mean(d)\n",
    "stdev = np.std(d)\n",
    "tstat = dbar / (stdev / np.sqrt(n))\n",
    "\n",
    "pval = 2 * (1 - stats.t.cdf(abs(tstat), df=n - 1))\n",
    "\n",
    "print(f\"dbar  = {dbar:.4f}\")\n",
    "print(f\"stdev = {stdev:.4f}\")\n",
    "print(f\"tstat = {tstat:.4f}\")\n",
    "print(f\"pval  = {pval:.8f}\")\n",
    "\n",
    "alpha = 0.05\n",
    "df = n - 1\n",
    "tcrit = stats.t.ppf(1 - alpha / 2, df=df)\n",
    "ci_lower = dbar - tcrit * stdev / np.sqrt(n)\n",
    "ci_upper = dbar + tcrit * stdev / np.sqrt(n)\n",
    "\n",
    "print(f\"95% CI = [{ci_lower:.4f}, {ci_upper:.4f}]\")"
   ]
  },
  {
   "cell_type": "code",
   "execution_count": null,
   "id": "d9255f51",
   "metadata": {
    "tags": [
     "hide-output"
    ]
   },
   "outputs": [
    {
     "name": "stderr",
     "output_type": "stream",
     "text": [
      "Initializing NUTS using jitter+adapt_diag...\n",
      "Multiprocess sampling (4 chains in 4 jobs)\n",
      "NUTS: [mu, sigma]\n"
     ]
    },
    {
     "data": {
      "application/vnd.jupyter.widget-view+json": {
       "model_id": "93674a47bb95426aad4b306c7c173b52",
       "version_major": 2,
       "version_minor": 0
      },
      "text/plain": [
       "Output()"
      ]
     },
     "metadata": {},
     "output_type": "display_data"
    },
    {
     "data": {
      "text/html": [
       "<pre style=\"white-space:pre;overflow-x:auto;line-height:normal;font-family:Menlo,'DejaVu Sans Mono',consolas,'Courier New',monospace\"></pre>\n"
      ],
      "text/plain": []
     },
     "metadata": {},
     "output_type": "display_data"
    },
    {
     "name": "stderr",
     "output_type": "stream",
     "text": [
      "Sampling 4 chains for 1_000 tune and 5_000 draw iterations (4_000 + 20_000 draws total) took 1 seconds.\n"
     ]
    }
   ],
   "source": [
    "with pm.Model() as m:\n",
    "    # priors\n",
    "    mu = pm.Normal(\"mu\", mu=0, sigma=316)\n",
    "    # prec = pm.Gamma(\"prec\", alpha=0.001, beta=0.001) # From the lecture version\n",
    "    # sigma = pm.Deterministic(\"sigma\", 1 / pm.math.sqrt(prec))\n",
    "\n",
    "    sigma = pm.Exponential(\"sigma\", 0.05)\n",
    "\n",
    "    ph1 = pm.Deterministic(\"ph1\", switch(mu >= 0, 1, 0))\n",
    "\n",
    "    pm.Normal(\"diff\", mu=mu, sigma=sigma, observed=baseline - after)\n",
    "\n",
    "    trace = pm.sample(5000)"
   ]
  },
  {
   "cell_type": "code",
   "execution_count": 5,
   "id": "4b5e328a",
   "metadata": {},
   "outputs": [
    {
     "data": {
      "image/svg+xml": [
       "<?xml version=\"1.0\" encoding=\"UTF-8\" standalone=\"no\"?>\n",
       "<!DOCTYPE svg PUBLIC \"-//W3C//DTD SVG 1.1//EN\"\n",
       " \"http://www.w3.org/Graphics/SVG/1.1/DTD/svg11.dtd\">\n",
       "<!-- Generated by graphviz version 12.0.0 (0)\n",
       " -->\n",
       "<!-- Pages: 1 -->\n",
       "<svg width=\"227pt\" height=\"247pt\"\n",
       " viewBox=\"0.00 0.00 226.58 247.13\" xmlns=\"http://www.w3.org/2000/svg\" xmlns:xlink=\"http://www.w3.org/1999/xlink\">\n",
       "<g id=\"graph0\" class=\"graph\" transform=\"scale(1 1) rotate(0) translate(4 243.13)\">\n",
       "<polygon fill=\"white\" stroke=\"none\" points=\"-4,4 -4,-243.13 222.58,-243.13 222.58,4 -4,4\"/>\n",
       "<g id=\"clust1\" class=\"cluster\">\n",
       "<title>cluster20</title>\n",
       "<path fill=\"none\" stroke=\"black\" d=\"M26.45,-8C26.45,-8 100.45,-8 100.45,-8 106.45,-8 112.45,-14 112.45,-20 112.45,-20 112.45,-117.82 112.45,-117.82 112.45,-123.82 106.45,-129.82 100.45,-129.82 100.45,-129.82 26.45,-129.82 26.45,-129.82 20.45,-129.82 14.45,-123.82 14.45,-117.82 14.45,-117.82 14.45,-20 14.45,-20 14.45,-14 20.45,-8 26.45,-8\"/>\n",
       "<text text-anchor=\"middle\" x=\"97.7\" y=\"-15.2\" font-family=\"Times,serif\" font-size=\"14.00\">20</text>\n",
       "</g>\n",
       "<!-- sigma -->\n",
       "<g id=\"node1\" class=\"node\">\n",
       "<title>sigma</title>\n",
       "<ellipse fill=\"none\" stroke=\"black\" cx=\"57.45\" cy=\"-198.48\" rx=\"57.45\" ry=\"40.66\"/>\n",
       "<text text-anchor=\"middle\" x=\"57.45\" y=\"-209.93\" font-family=\"Times,serif\" font-size=\"14.00\">sigma</text>\n",
       "<text text-anchor=\"middle\" x=\"57.45\" y=\"-193.43\" font-family=\"Times,serif\" font-size=\"14.00\">~</text>\n",
       "<text text-anchor=\"middle\" x=\"57.45\" y=\"-176.93\" font-family=\"Times,serif\" font-size=\"14.00\">Exponential</text>\n",
       "</g>\n",
       "<!-- diff -->\n",
       "<g id=\"node4\" class=\"node\">\n",
       "<title>diff</title>\n",
       "<ellipse fill=\"lightgrey\" stroke=\"black\" cx=\"63.45\" cy=\"-81.16\" rx=\"41.01\" ry=\"40.66\"/>\n",
       "<text text-anchor=\"middle\" x=\"63.45\" y=\"-92.61\" font-family=\"Times,serif\" font-size=\"14.00\">diff</text>\n",
       "<text text-anchor=\"middle\" x=\"63.45\" y=\"-76.11\" font-family=\"Times,serif\" font-size=\"14.00\">~</text>\n",
       "<text text-anchor=\"middle\" x=\"63.45\" y=\"-59.61\" font-family=\"Times,serif\" font-size=\"14.00\">Normal</text>\n",
       "</g>\n",
       "<!-- sigma&#45;&gt;diff -->\n",
       "<g id=\"edge2\" class=\"edge\">\n",
       "<title>sigma&#45;&gt;diff</title>\n",
       "<path fill=\"none\" stroke=\"black\" d=\"M59.53,-157.47C59.94,-149.69 60.37,-141.43 60.79,-133.34\"/>\n",
       "<polygon fill=\"black\" stroke=\"black\" points=\"64.27,-133.78 61.3,-123.61 57.28,-133.41 64.27,-133.78\"/>\n",
       "</g>\n",
       "<!-- mu -->\n",
       "<g id=\"node2\" class=\"node\">\n",
       "<title>mu</title>\n",
       "<ellipse fill=\"none\" stroke=\"black\" cx=\"173.45\" cy=\"-198.48\" rx=\"41.01\" ry=\"40.66\"/>\n",
       "<text text-anchor=\"middle\" x=\"173.45\" y=\"-209.93\" font-family=\"Times,serif\" font-size=\"14.00\">mu</text>\n",
       "<text text-anchor=\"middle\" x=\"173.45\" y=\"-193.43\" font-family=\"Times,serif\" font-size=\"14.00\">~</text>\n",
       "<text text-anchor=\"middle\" x=\"173.45\" y=\"-176.93\" font-family=\"Times,serif\" font-size=\"14.00\">Normal</text>\n",
       "</g>\n",
       "<!-- ph1 -->\n",
       "<g id=\"node3\" class=\"node\">\n",
       "<title>ph1</title>\n",
       "<polygon fill=\"none\" stroke=\"black\" points=\"218.58,-109.91 128.33,-109.91 128.33,-52.41 218.58,-52.41 218.58,-109.91\"/>\n",
       "<text text-anchor=\"middle\" x=\"173.45\" y=\"-92.61\" font-family=\"Times,serif\" font-size=\"14.00\">ph1</text>\n",
       "<text text-anchor=\"middle\" x=\"173.45\" y=\"-76.11\" font-family=\"Times,serif\" font-size=\"14.00\">~</text>\n",
       "<text text-anchor=\"middle\" x=\"173.45\" y=\"-59.61\" font-family=\"Times,serif\" font-size=\"14.00\">Deterministic</text>\n",
       "</g>\n",
       "<!-- mu&#45;&gt;ph1 -->\n",
       "<g id=\"edge1\" class=\"edge\">\n",
       "<title>mu&#45;&gt;ph1</title>\n",
       "<path fill=\"none\" stroke=\"black\" d=\"M173.45,-157.47C173.45,-145.76 173.45,-132.97 173.45,-121.32\"/>\n",
       "<polygon fill=\"black\" stroke=\"black\" points=\"176.95,-121.63 173.45,-111.63 169.95,-121.63 176.95,-121.63\"/>\n",
       "</g>\n",
       "<!-- mu&#45;&gt;diff -->\n",
       "<g id=\"edge3\" class=\"edge\">\n",
       "<title>mu&#45;&gt;diff</title>\n",
       "<path fill=\"none\" stroke=\"black\" d=\"M145.69,-168.38C131.49,-153.49 114.05,-135.21 98.89,-119.31\"/>\n",
       "<polygon fill=\"black\" stroke=\"black\" points=\"101.68,-117.16 92.25,-112.34 96.62,-122 101.68,-117.16\"/>\n",
       "</g>\n",
       "</g>\n",
       "</svg>\n"
      ],
      "text/plain": [
       "<graphviz.graphs.Digraph at 0x305141d60>"
      ]
     },
     "execution_count": 5,
     "metadata": {},
     "output_type": "execute_result"
    }
   ],
   "source": [
    "pm.model_to_graphviz(m)"
   ]
  },
  {
   "cell_type": "code",
   "execution_count": 6,
   "id": "f2fc5b7b",
   "metadata": {
    "tags": []
   },
   "outputs": [
    {
     "name": "stderr",
     "output_type": "stream",
     "text": [
      "/Users/aaron/miniforge3/envs/pymc_macos15/lib/python3.12/site-packages/arviz/stats/diagnostics.py:596: RuntimeWarning: invalid value encountered in scalar divide\n",
      "  (between_chain_variance / within_chain_variance + num_samples - 1) / (num_samples)\n"
     ]
    },
    {
     "data": {
      "text/html": [
       "<div>\n",
       "<style scoped>\n",
       "    .dataframe tbody tr th:only-of-type {\n",
       "        vertical-align: middle;\n",
       "    }\n",
       "\n",
       "    .dataframe tbody tr th {\n",
       "        vertical-align: top;\n",
       "    }\n",
       "\n",
       "    .dataframe thead th {\n",
       "        text-align: right;\n",
       "    }\n",
       "</style>\n",
       "<table border=\"1\" class=\"dataframe\">\n",
       "  <thead>\n",
       "    <tr style=\"text-align: right;\">\n",
       "      <th></th>\n",
       "      <th>mean</th>\n",
       "      <th>sd</th>\n",
       "      <th>hdi_2.5%</th>\n",
       "      <th>hdi_97.5%</th>\n",
       "      <th>mcse_mean</th>\n",
       "      <th>mcse_sd</th>\n",
       "      <th>ess_bulk</th>\n",
       "      <th>ess_tail</th>\n",
       "      <th>r_hat</th>\n",
       "    </tr>\n",
       "  </thead>\n",
       "  <tbody>\n",
       "    <tr>\n",
       "      <th>mu</th>\n",
       "      <td>6.359</td>\n",
       "      <td>1.193</td>\n",
       "      <td>4.004</td>\n",
       "      <td>8.704</td>\n",
       "      <td>0.009</td>\n",
       "      <td>0.007</td>\n",
       "      <td>16048.0</td>\n",
       "      <td>12442.0</td>\n",
       "      <td>1.0</td>\n",
       "    </tr>\n",
       "    <tr>\n",
       "      <th>sigma</th>\n",
       "      <td>5.244</td>\n",
       "      <td>0.916</td>\n",
       "      <td>3.686</td>\n",
       "      <td>7.137</td>\n",
       "      <td>0.008</td>\n",
       "      <td>0.006</td>\n",
       "      <td>14145.0</td>\n",
       "      <td>12706.0</td>\n",
       "      <td>1.0</td>\n",
       "    </tr>\n",
       "    <tr>\n",
       "      <th>ph1</th>\n",
       "      <td>1.000</td>\n",
       "      <td>0.000</td>\n",
       "      <td>1.000</td>\n",
       "      <td>1.000</td>\n",
       "      <td>0.000</td>\n",
       "      <td>0.000</td>\n",
       "      <td>20000.0</td>\n",
       "      <td>20000.0</td>\n",
       "      <td>NaN</td>\n",
       "    </tr>\n",
       "  </tbody>\n",
       "</table>\n",
       "</div>"
      ],
      "text/plain": [
       "        mean     sd  hdi_2.5%  hdi_97.5%  mcse_mean  mcse_sd  ess_bulk  \\\n",
       "mu     6.359  1.193     4.004      8.704      0.009    0.007   16048.0   \n",
       "sigma  5.244  0.916     3.686      7.137      0.008    0.006   14145.0   \n",
       "ph1    1.000  0.000     1.000      1.000      0.000    0.000   20000.0   \n",
       "\n",
       "       ess_tail  r_hat  \n",
       "mu      12442.0    1.0  \n",
       "sigma   12706.0    1.0  \n",
       "ph1     20000.0    NaN  "
      ]
     },
     "execution_count": 6,
     "metadata": {},
     "output_type": "execute_result"
    }
   ],
   "source": [
    "az.summary(trace, hdi_prob=0.95)"
   ]
  },
  {
   "cell_type": "markdown",
   "id": "492a8e1d",
   "metadata": {},
   "source": [
    "Our model agrees with the BUGS results:\n",
    "\n",
    "|          | mean     | sd      | MC_error | val2.5pc | median | val97.5pc | start | sample |\n",
    "|----------|----------|---------|----------|----------|--------|-----------|-------|--------|\n",
    "| pH1      | 1        | 0       | 3.16E-13 | 1        | 1      | 1         | 1001  | 100000 |\n",
    "| mu       | 6.352    | 1.169   | 0.003657 | 4.043    | 6.351  | 8.666     | 1001  | 100000 |\n",
    "| sigma    | 5.142    | 0.8912  | 0.003126 | 3.74     | 5.026  | 7.203     | 1001  | 100000 |\n",
    "| pval     | 4.20E-04 | 0.02049 | 6.04E-05 | 0        | 0      | 0         | 1001  | 100000 |"
   ]
  },
  {
   "cell_type": "markdown",
   "id": "24d78eb5-222e-4f97-b329-c01dc77d2e11",
   "metadata": {},
   "source": [
    "## Equivalence of generic and brand-name drugs\n",
    "\n",
    "Adapted from [Unit 6: equivalence.odc](https://raw.githubusercontent.com/areding/6420-pymc/main/original_examples/Codes4Unit6/equivalence.odc)."
   ]
  },
  {
   "cell_type": "markdown",
   "id": "54b32700-ca79-47f7-b7b7-afe6544a95df",
   "metadata": {},
   "source": [
    "The manufacturer wishes to demonstrate that their generic drug for a particular metabolic disorder is equivalent to a brand name drug. One of indication of the disorder is an abnormally low concentration of levocarnitine, an amino acid derivative, in the plasma. The treatment with the brand name drug substantially increases this concentration.\n",
    "\n",
    "A small clinical trial is conducted with 43 patients, 18 in the Brand Name Drug arm and 25 in the Generic Drug arm. The increases in the log-concentration of levocarnitine are in the data below.\n",
    "\n",
    "The FDA declares that bioequivalence among the two drugs can be established if the difference in response to the two drugs is within 2 units of log-concentration. Assuming that the log-concentration measurements follow normal distributions with equal population variance, can these two drugs be declared bioequivalent within a tolerance +/-2  units?"
   ]
  },
  {
   "cell_type": "markdown",
   "id": "163792d5-2ff5-48da-bf3e-2606f3f61f06",
   "metadata": {},
   "source": [
    "---\n",
    "The way the data is set up in the .odc file is strange. It seems simpler to just have a separate list for each increase type."
   ]
  },
  {
   "cell_type": "code",
   "execution_count": 7,
   "id": "6e464e00-182a-4dc4-b831-8e6d257e2668",
   "metadata": {},
   "outputs": [],
   "source": [
    "# fmt: off\n",
    "increase_type1 = [7, 8, 4, 6, 10, 10, 5, 7, 9, 8, 6, 7, 8, 4, 6, 10, 8, 9]\n",
    "increase_type2 = [6, 7, 5, 9, 5, 5, 3, 7, 5, 10, 8, 5, 8, 4, 4, 8, 6, 11, \n",
    "                  7, 5, 5, 5, 7, 4, 6]\n",
    "# fmt: on"
   ]
  },
  {
   "cell_type": "markdown",
   "id": "366d59bd-1b5d-45e3-93a0-39c47f02e2cd",
   "metadata": {},
   "source": [
    "We're using ```pm.math.switch``` and ```pm.math.eq``` to recreate the BUGS ```step()``` function for the ```probint``` variable."
   ]
  },
  {
   "cell_type": "code",
   "execution_count": 8,
   "id": "bf6e2deb-9710-494f-bd4d-83e3f45c369d",
   "metadata": {
    "tags": [
     "hide-output"
    ]
   },
   "outputs": [
    {
     "name": "stderr",
     "output_type": "stream",
     "text": [
      "Initializing NUTS using jitter+adapt_diag...\n",
      "Multiprocess sampling (4 chains in 4 jobs)\n",
      "NUTS: [mu1, mu2, prec]\n"
     ]
    },
    {
     "data": {
      "application/vnd.jupyter.widget-view+json": {
       "model_id": "ad5411b571eb4ea5ad5ed119d7773345",
       "version_major": 2,
       "version_minor": 0
      },
      "text/plain": [
       "Output()"
      ]
     },
     "metadata": {},
     "output_type": "display_data"
    },
    {
     "data": {
      "text/html": [
       "<pre style=\"white-space:pre;overflow-x:auto;line-height:normal;font-family:Menlo,'DejaVu Sans Mono',consolas,'Courier New',monospace\"></pre>\n"
      ],
      "text/plain": []
     },
     "metadata": {},
     "output_type": "display_data"
    },
    {
     "name": "stderr",
     "output_type": "stream",
     "text": [
      "Sampling 4 chains for 1_000 tune and 5_000 draw iterations (4_000 + 20_000 draws total) took 1 seconds.\n"
     ]
    }
   ],
   "source": [
    "with pm.Model() as m:\n",
    "    # priors\n",
    "    mu1 = pm.Normal(\"mu1\", mu=10, sigma=316)\n",
    "    mu2 = pm.Normal(\"mu2\", mu=10, sigma=316)\n",
    "    mudiff = pm.Deterministic(\"mudiff\", mu1 - mu2)\n",
    "    prec = pm.Gamma(\"prec\", alpha=0.001, beta=0.001)\n",
    "    sigma = 1 / pm.math.sqrt(\n",
    "        prec\n",
    "    )  # lecture example. could also put prior on sigma directly\n",
    "\n",
    "    probint = pm.Deterministic(\n",
    "        \"probint\",\n",
    "        switch(ge(mudiff + 2, 0), 1, 0) * switch(ge(2 - mudiff, 0), 1, 0),\n",
    "    )\n",
    "\n",
    "    pm.Normal(\"y_type1\", mu=mu1, sigma=sigma, observed=increase_type1)\n",
    "    pm.Normal(\"y_type2\", mu=mu2, sigma=sigma, observed=increase_type2)\n",
    "\n",
    "    trace = pm.sample(5000)"
   ]
  },
  {
   "cell_type": "code",
   "execution_count": 9,
   "id": "7977090b-a37f-4b59-9ca0-5b2651028850",
   "metadata": {},
   "outputs": [
    {
     "data": {
      "text/html": [
       "<div>\n",
       "<style scoped>\n",
       "    .dataframe tbody tr th:only-of-type {\n",
       "        vertical-align: middle;\n",
       "    }\n",
       "\n",
       "    .dataframe tbody tr th {\n",
       "        vertical-align: top;\n",
       "    }\n",
       "\n",
       "    .dataframe thead th {\n",
       "        text-align: right;\n",
       "    }\n",
       "</style>\n",
       "<table border=\"1\" class=\"dataframe\">\n",
       "  <thead>\n",
       "    <tr style=\"text-align: right;\">\n",
       "      <th></th>\n",
       "      <th>mean</th>\n",
       "      <th>sd</th>\n",
       "      <th>hdi_2.5%</th>\n",
       "      <th>hdi_97.5%</th>\n",
       "      <th>mcse_mean</th>\n",
       "      <th>mcse_sd</th>\n",
       "      <th>ess_bulk</th>\n",
       "      <th>ess_tail</th>\n",
       "      <th>r_hat</th>\n",
       "    </tr>\n",
       "  </thead>\n",
       "  <tbody>\n",
       "    <tr>\n",
       "      <th>mu1</th>\n",
       "      <td>7.329</td>\n",
       "      <td>0.475</td>\n",
       "      <td>6.417</td>\n",
       "      <td>8.275</td>\n",
       "      <td>0.003</td>\n",
       "      <td>0.002</td>\n",
       "      <td>28401.0</td>\n",
       "      <td>15725.0</td>\n",
       "      <td>1.0</td>\n",
       "    </tr>\n",
       "    <tr>\n",
       "      <th>mu2</th>\n",
       "      <td>6.200</td>\n",
       "      <td>0.395</td>\n",
       "      <td>5.424</td>\n",
       "      <td>6.979</td>\n",
       "      <td>0.002</td>\n",
       "      <td>0.002</td>\n",
       "      <td>25971.0</td>\n",
       "      <td>16229.0</td>\n",
       "      <td>1.0</td>\n",
       "    </tr>\n",
       "    <tr>\n",
       "      <th>prec</th>\n",
       "      <td>0.263</td>\n",
       "      <td>0.058</td>\n",
       "      <td>0.157</td>\n",
       "      <td>0.380</td>\n",
       "      <td>0.000</td>\n",
       "      <td>0.000</td>\n",
       "      <td>23926.0</td>\n",
       "      <td>14853.0</td>\n",
       "      <td>1.0</td>\n",
       "    </tr>\n",
       "    <tr>\n",
       "      <th>mudiff</th>\n",
       "      <td>1.129</td>\n",
       "      <td>0.610</td>\n",
       "      <td>-0.042</td>\n",
       "      <td>2.345</td>\n",
       "      <td>0.004</td>\n",
       "      <td>0.003</td>\n",
       "      <td>27559.0</td>\n",
       "      <td>15641.0</td>\n",
       "      <td>1.0</td>\n",
       "    </tr>\n",
       "    <tr>\n",
       "      <th>probint</th>\n",
       "      <td>0.927</td>\n",
       "      <td>0.260</td>\n",
       "      <td>0.000</td>\n",
       "      <td>1.000</td>\n",
       "      <td>0.002</td>\n",
       "      <td>0.001</td>\n",
       "      <td>16634.0</td>\n",
       "      <td>16634.0</td>\n",
       "      <td>1.0</td>\n",
       "    </tr>\n",
       "  </tbody>\n",
       "</table>\n",
       "</div>"
      ],
      "text/plain": [
       "          mean     sd  hdi_2.5%  hdi_97.5%  mcse_mean  mcse_sd  ess_bulk  \\\n",
       "mu1      7.329  0.475     6.417      8.275      0.003    0.002   28401.0   \n",
       "mu2      6.200  0.395     5.424      6.979      0.002    0.002   25971.0   \n",
       "prec     0.263  0.058     0.157      0.380      0.000    0.000   23926.0   \n",
       "mudiff   1.129  0.610    -0.042      2.345      0.004    0.003   27559.0   \n",
       "probint  0.927  0.260     0.000      1.000      0.002    0.001   16634.0   \n",
       "\n",
       "         ess_tail  r_hat  \n",
       "mu1       15725.0    1.0  \n",
       "mu2       16229.0    1.0  \n",
       "prec      14853.0    1.0  \n",
       "mudiff    15641.0    1.0  \n",
       "probint   16634.0    1.0  "
      ]
     },
     "execution_count": 9,
     "metadata": {},
     "output_type": "execute_result"
    }
   ],
   "source": [
    "az.summary(trace, hdi_prob=0.95)"
   ]
  },
  {
   "cell_type": "markdown",
   "id": "8b42da1d-cb93-416c-9bb1-1adad6cd1a06",
   "metadata": {},
   "source": [
    "BUGS results:\n",
    "\n",
    "|          | mean   | sd      | MC_error | val2.5pc | median | val97.5pc | start | sample |\n",
    "|----------|--------|---------|----------|----------|--------|-----------|-------|--------|\n",
    "| mu[1]    | 7.332  | 0.473   | 0.001469 | 6.399    | 7.332  | 8.264     | 1001  | 100000 |\n",
    "| mu[2]    | 6.198  | 0.4006  | 0.001213 | 5.406    | 6.199  | 6.985     | 1001  | 100000 |\n",
    "| mudiff   | 1.133  | 0.618   | 0.00196  | -0.07884 | 1.134  | 2.354     | 1001  | 100000 |\n",
    "| prec     | 0.2626 | 0.05792 | 1.90E-04 | 0.1617   | 0.2584 | 0.3877    | 1001  | 100000 |\n",
    "| probint  | 0.9209 | 0.2699  | 9.07E-04 | 0        | 1      | 1         | 1001  | 100000 |"
   ]
  },
  {
   "cell_type": "code",
   "execution_count": 10,
   "id": "8aa3cde4",
   "metadata": {},
   "outputs": [
    {
     "name": "stdout",
     "output_type": "stream",
     "text": [
      "Last updated: Sat Mar 08 2025\n",
      "\n",
      "Python implementation: CPython\n",
      "Python version       : 3.12.7\n",
      "IPython version      : 8.29.0\n",
      "\n",
      "pytensor: 2.26.4\n",
      "\n",
      "pymc : 5.19.1\n",
      "scipy: 1.14.1\n",
      "arviz: 0.20.0\n",
      "numpy: 1.26.4\n",
      "\n"
     ]
    }
   ],
   "source": [
    "%load_ext watermark\n",
    "%watermark -n -u -v -iv -p pytensor"
   ]
  },
  {
   "cell_type": "code",
   "execution_count": null,
   "id": "1ef6ea1f",
   "metadata": {},
   "outputs": [],
   "source": []
  }
 ],
 "metadata": {
  "kernelspec": {
   "display_name": "pymc_macos15",
   "language": "python",
   "name": "python3"
  },
  "language_info": {
   "codemirror_mode": {
    "name": "ipython",
    "version": 3
   },
   "file_extension": ".py",
   "mimetype": "text/x-python",
   "name": "python",
   "nbconvert_exporter": "python",
   "pygments_lexer": "ipython3",
   "version": "3.12.7"
  }
 },
 "nbformat": 4,
 "nbformat_minor": 5
}
