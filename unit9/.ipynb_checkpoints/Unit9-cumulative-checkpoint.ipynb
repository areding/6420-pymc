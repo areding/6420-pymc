{
 "cells": [
  {
   "cell_type": "markdown",
   "id": "cc5d3ed0-8ab5-46b5-82f5-7b3768ee0ef9",
   "metadata": {
    "editable": true,
    "slideshow": {
     "slide_type": ""
    },
    "tags": []
   },
   "source": [
    "# Using the Empirical CDF and the Probability Integral Transform\n",
    "\n",
    "This lecture is about a goodness-of-fit test based on the [Probability Integral Transform](https://en.wikipedia.org/wiki/Probability_integral_transform). If you have a random variable $X$ and you apply its own cumulative distribution function (CDF) to it: \n",
    "\n",
    "$$Y = F_X(X)$$\n",
    "\n",
    "the resulting random variable $Y$ will be $U(0, 1)$-distributed. We can use this idea to check our model's fit by taking our sample's response variable values and running them through the posterior CDF.\n",
    "\n",
    "We only have samples from our posterior rather than an actual CDF function, so we'll need to use the Empirical CDF (ECDF).\n",
    "\n",
    "## The Empirical CDF\n",
    "\n",
    "Remember the CDF is the function that maps a maps a number $x$ to the probability that the random variable $X$ takes on a value less than or equal to $x$:\n",
    "\n",
    "$$F_X(x) = p(X \\le x)$$\n",
    "\n",
    "So the ECDF is just the probability that some number $x$ is less than \n",
    "\n",
    "$$F_X(X=x) = \\frac{1}{n}\\sum\\limits_{i=1}^{n}\\mathbf{1}(X_i \\le x)$$\n",
    "\n",
    "where $\\mathbf{1}(X_i \\le x)$ is an indicator function that evaluates to 1 if $(X_i \\le x)$ is true, otherwise 0 ({cite:t}`vidakovic2017engineering`). In other words, we count the number of samples less than $x$ and divide by $n$ to get the probability.\n",
    "\n",
    "## The test(s)\n",
    "\n",
    "Once we've evaluated the ECDF at each original $y$ value from our sample's response variable, we need some way to compare the output of $F_X(x)$ to a standard uniform distribution. Professor Vidakovic notes that values extremely close to 0 or 1 will indicate outliers. In the next lecture, he also applies a transformation to the values to make the outliers stand out more:\n",
    "\n",
    "$$ \\log\\left(\\frac{p}{1-p}\\right)^2$$\n",
    "\n",
    "This is the square of the logit function. The purpose of the logit function is to map probabilities to real values. He then squares that to make extreme values stand out more.\n",
    "\n",
    "The Arviz library ({cite:t}`arviz_2019`) has a function called [```plot_ecdf```](https://python.arviz.org/en/stable/_modules/arviz/plots/ecdfplot.html#plot_ecdf) based on {cite:t}`PITecdf_fittest`. This paper explains the above process really well and outlines a graphical check based on these ideas.\n",
    "\n",
    "On the next page, we'll check out how to put these ideas into practice with PyMC.\n"
   ]
  },
  {
   "cell_type": "code",
   "execution_count": null,
   "id": "882ff3ed-18c0-4635-a158-d386420c23e3",
   "metadata": {},
   "outputs": [],
   "source": []
  }
 ],
 "metadata": {
  "kernelspec": {
   "display_name": "Python 3 (ipykernel)",
   "language": "python",
   "name": "python3"
  },
  "language_info": {
   "codemirror_mode": {
    "name": "ipython",
    "version": 3
   },
   "file_extension": ".py",
   "mimetype": "text/x-python",
   "name": "python",
   "nbconvert_exporter": "python",
   "pygments_lexer": "ipython3",
   "version": "3.11.5"
  }
 },
 "nbformat": 4,
 "nbformat_minor": 5
}
